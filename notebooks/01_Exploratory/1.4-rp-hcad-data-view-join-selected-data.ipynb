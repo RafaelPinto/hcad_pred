{
 "cells": [
  {
   "cell_type": "markdown",
   "metadata": {},
   "source": [
    "# Load previously exported files\n",
    "\n",
    "The file `extra_features.txt` contains important property information like number and quality of pools, detached garages, outbuildings, canopies, and more. Let's load this file and grab a subset with the important columns to continue our study."
   ]
  },
  {
   "cell_type": "code",
   "execution_count": 1,
   "metadata": {
    "ExecuteTime": {
     "end_time": "2020-07-18T13:04:27.221308Z",
     "start_time": "2020-07-18T13:04:27.193194Z"
    }
   },
   "outputs": [],
   "source": [
    "%load_ext autoreload\n",
    "%autoreload 2"
   ]
  },
  {
   "cell_type": "code",
   "execution_count": 2,
   "metadata": {
    "ExecuteTime": {
     "end_time": "2020-07-18T13:04:28.015136Z",
     "start_time": "2020-07-18T13:04:27.635090Z"
    }
   },
   "outputs": [],
   "source": [
    "from pathlib import Path\n",
    "import pickle\n",
    "\n",
    "import pandas as pd\n",
    "\n",
    "from src.definitions import ROOT_DIR\n",
    "from src.data.utils import Table, save_pickle"
   ]
  },
  {
   "cell_type": "code",
   "execution_count": 3,
   "metadata": {
    "ExecuteTime": {
     "end_time": "2020-07-18T13:04:29.299079Z",
     "start_time": "2020-07-18T13:04:28.157513Z"
    }
   },
   "outputs": [],
   "source": [
    "building_res_comps_fn = ROOT_DIR / 'data/raw/2016/building_res_comps.pickle'\n",
    "assert building_res_comps_fn.exists()\n",
    "\n",
    "with open(building_res_comps_fn, 'rb') as f:\n",
    "    building_res_comps = pickle.load(f)"
   ]
  },
  {
   "cell_type": "code",
   "execution_count": 12,
   "metadata": {
    "ExecuteTime": {
     "end_time": "2020-07-18T13:17:16.249261Z",
     "start_time": "2020-07-18T13:17:16.046485Z"
    }
   },
   "outputs": [],
   "source": [
    "fixtures_comps_fn = ROOT_DIR / 'data/raw/2016/fixtures_comps.pickle'\n",
    "assert fixtures_comps_fn.exists()\n",
    "\n",
    "with open(fixtures_comps_fn, 'rb') as f:\n",
    "    fixtures_comps = pickle.load(f)"
   ]
  },
  {
   "cell_type": "code",
   "execution_count": 5,
   "metadata": {
    "ExecuteTime": {
     "end_time": "2020-07-18T13:04:31.537434Z",
     "start_time": "2020-07-18T13:04:30.248130Z"
    }
   },
   "outputs": [],
   "source": [
    "real_acct_comps_fn = ROOT_DIR / 'data/raw/2016/real_acct_comps.pickle'\n",
    "assert real_acct_comps_fn.exists()\n",
    "\n",
    "with open(real_acct_comps_fn, 'rb') as f:\n",
    "    real_acct_comps = pickle.load(f)"
   ]
  },
  {
   "cell_type": "code",
   "execution_count": 13,
   "metadata": {
    "ExecuteTime": {
     "end_time": "2020-07-18T13:17:18.262903Z",
     "start_time": "2020-07-18T13:17:18.186700Z"
    }
   },
   "outputs": [],
   "source": [
    "extra_features_count_grade_fn = ROOT_DIR / 'data/raw/2016/extra_features_count_grade.pickle'\n",
    "assert extra_features_count_grade_fn.exists()\n",
    "\n",
    "with open(extra_features_count_grade_fn, 'rb') as f:\n",
    "    extra_features_count_grade = pickle.load(f)"
   ]
  },
  {
   "cell_type": "markdown",
   "metadata": {},
   "source": [
    "# Merge tables"
   ]
  },
  {
   "cell_type": "code",
   "execution_count": 14,
   "metadata": {
    "ExecuteTime": {
     "end_time": "2020-07-18T13:17:21.053473Z",
     "start_time": "2020-07-18T13:17:21.004150Z"
    }
   },
   "outputs": [
    {
     "data": {
      "text/html": [
       "<div>\n",
       "<style scoped>\n",
       "    .dataframe tbody tr th:only-of-type {\n",
       "        vertical-align: middle;\n",
       "    }\n",
       "\n",
       "    .dataframe tbody tr th {\n",
       "        vertical-align: top;\n",
       "    }\n",
       "\n",
       "    .dataframe thead th {\n",
       "        text-align: right;\n",
       "    }\n",
       "</style>\n",
       "<table border=\"1\" class=\"dataframe\">\n",
       "  <thead>\n",
       "    <tr style=\"text-align: right;\">\n",
       "      <th>dscr</th>\n",
       "      <th>acct</th>\n",
       "      <th>Canopy_count</th>\n",
       "      <th>Carport_count</th>\n",
       "      <th>Foundation Defect_count</th>\n",
       "      <th>Garage_count</th>\n",
       "      <th>Outbuildings_count</th>\n",
       "      <th>Pools_count</th>\n",
       "      <th>Canopy_grade</th>\n",
       "      <th>Carport_grade</th>\n",
       "      <th>Foundation Defect_grade</th>\n",
       "      <th>Garage_grade</th>\n",
       "      <th>Outbuildings_grade</th>\n",
       "      <th>Pools_grade</th>\n",
       "    </tr>\n",
       "  </thead>\n",
       "  <tbody>\n",
       "    <tr>\n",
       "      <th>0</th>\n",
       "      <td>21440000001</td>\n",
       "      <td>NaN</td>\n",
       "      <td>NaN</td>\n",
       "      <td>NaN</td>\n",
       "      <td>NaN</td>\n",
       "      <td>2.0</td>\n",
       "      <td>NaN</td>\n",
       "      <td>NaN</td>\n",
       "      <td>NaN</td>\n",
       "      <td>NaN</td>\n",
       "      <td>NaN</td>\n",
       "      <td>4.0</td>\n",
       "      <td>NaN</td>\n",
       "    </tr>\n",
       "    <tr>\n",
       "      <th>1</th>\n",
       "      <td>21650000007</td>\n",
       "      <td>NaN</td>\n",
       "      <td>NaN</td>\n",
       "      <td>NaN</td>\n",
       "      <td>NaN</td>\n",
       "      <td>NaN</td>\n",
       "      <td>1.0</td>\n",
       "      <td>NaN</td>\n",
       "      <td>NaN</td>\n",
       "      <td>NaN</td>\n",
       "      <td>NaN</td>\n",
       "      <td>NaN</td>\n",
       "      <td>4.0</td>\n",
       "    </tr>\n",
       "    <tr>\n",
       "      <th>2</th>\n",
       "      <td>21700000013</td>\n",
       "      <td>NaN</td>\n",
       "      <td>NaN</td>\n",
       "      <td>NaN</td>\n",
       "      <td>1.0</td>\n",
       "      <td>NaN</td>\n",
       "      <td>NaN</td>\n",
       "      <td>NaN</td>\n",
       "      <td>NaN</td>\n",
       "      <td>NaN</td>\n",
       "      <td>5.0</td>\n",
       "      <td>NaN</td>\n",
       "      <td>NaN</td>\n",
       "    </tr>\n",
       "    <tr>\n",
       "      <th>3</th>\n",
       "      <td>21750000013</td>\n",
       "      <td>NaN</td>\n",
       "      <td>NaN</td>\n",
       "      <td>NaN</td>\n",
       "      <td>2.0</td>\n",
       "      <td>NaN</td>\n",
       "      <td>NaN</td>\n",
       "      <td>NaN</td>\n",
       "      <td>NaN</td>\n",
       "      <td>NaN</td>\n",
       "      <td>4.0</td>\n",
       "      <td>NaN</td>\n",
       "      <td>NaN</td>\n",
       "    </tr>\n",
       "    <tr>\n",
       "      <th>4</th>\n",
       "      <td>22070000007</td>\n",
       "      <td>NaN</td>\n",
       "      <td>NaN</td>\n",
       "      <td>NaN</td>\n",
       "      <td>1.0</td>\n",
       "      <td>NaN</td>\n",
       "      <td>NaN</td>\n",
       "      <td>NaN</td>\n",
       "      <td>NaN</td>\n",
       "      <td>NaN</td>\n",
       "      <td>5.0</td>\n",
       "      <td>NaN</td>\n",
       "      <td>NaN</td>\n",
       "    </tr>\n",
       "  </tbody>\n",
       "</table>\n",
       "</div>"
      ],
      "text/plain": [
       "dscr         acct  Canopy_count  Carport_count  Foundation Defect_count  \\\n",
       "0     21440000001           NaN            NaN                      NaN   \n",
       "1     21650000007           NaN            NaN                      NaN   \n",
       "2     21700000013           NaN            NaN                      NaN   \n",
       "3     21750000013           NaN            NaN                      NaN   \n",
       "4     22070000007           NaN            NaN                      NaN   \n",
       "\n",
       "dscr  Garage_count  Outbuildings_count  Pools_count  Canopy_grade  \\\n",
       "0              NaN                 2.0          NaN           NaN   \n",
       "1              NaN                 NaN          1.0           NaN   \n",
       "2              1.0                 NaN          NaN           NaN   \n",
       "3              2.0                 NaN          NaN           NaN   \n",
       "4              1.0                 NaN          NaN           NaN   \n",
       "\n",
       "dscr  Carport_grade  Foundation Defect_grade  Garage_grade  \\\n",
       "0               NaN                      NaN           NaN   \n",
       "1               NaN                      NaN           NaN   \n",
       "2               NaN                      NaN           5.0   \n",
       "3               NaN                      NaN           4.0   \n",
       "4               NaN                      NaN           5.0   \n",
       "\n",
       "dscr  Outbuildings_grade  Pools_grade  \n",
       "0                    4.0          NaN  \n",
       "1                    NaN          4.0  \n",
       "2                    NaN          NaN  \n",
       "3                    NaN          NaN  \n",
       "4                    NaN          NaN  "
      ]
     },
     "execution_count": 14,
     "metadata": {},
     "output_type": "execute_result"
    }
   ],
   "source": [
    "extra_features_count_grade.head()"
   ]
  },
  {
   "cell_type": "code",
   "execution_count": 15,
   "metadata": {
    "ExecuteTime": {
     "end_time": "2020-07-18T13:18:24.024448Z",
     "start_time": "2020-07-18T13:18:21.421316Z"
    },
    "scrolled": true
   },
   "outputs": [],
   "source": [
    "comps = building_res_comps.merge(fixtures_comps,\n",
    "                                 how='inner',\n",
    "                                 on='acct',\n",
    "                                 validate='one_to_one')"
   ]
  },
  {
   "cell_type": "code",
   "execution_count": 17,
   "metadata": {
    "ExecuteTime": {
     "end_time": "2020-07-18T13:20:31.077253Z",
     "start_time": "2020-07-18T13:20:28.565011Z"
    }
   },
   "outputs": [],
   "source": [
    "comps = comps.merge(real_acct_comps,\n",
    "                    how='inner',\n",
    "                    on='acct',\n",
    "                    validate='one_to_one')"
   ]
  },
  {
   "cell_type": "code",
   "execution_count": 19,
   "metadata": {
    "ExecuteTime": {
     "end_time": "2020-07-18T13:21:02.681380Z",
     "start_time": "2020-07-18T13:21:01.453644Z"
    }
   },
   "outputs": [],
   "source": [
    "comps = comps.merge(extra_features_count_grade,\n",
    "                    how='inner',\n",
    "                    on='acct',\n",
    "                    validate='one_to_one')"
   ]
  },
  {
   "cell_type": "code",
   "execution_count": 20,
   "metadata": {
    "ExecuteTime": {
     "end_time": "2020-07-18T13:21:03.189212Z",
     "start_time": "2020-07-18T13:21:03.149691Z"
    }
   },
   "outputs": [
    {
     "data": {
      "text/html": [
       "<div>\n",
       "<style scoped>\n",
       "    .dataframe tbody tr th:only-of-type {\n",
       "        vertical-align: middle;\n",
       "    }\n",
       "\n",
       "    .dataframe tbody tr th {\n",
       "        vertical-align: top;\n",
       "    }\n",
       "\n",
       "    .dataframe thead th {\n",
       "        text-align: right;\n",
       "    }\n",
       "</style>\n",
       "<table border=\"1\" class=\"dataframe\">\n",
       "  <thead>\n",
       "    <tr style=\"text-align: right;\">\n",
       "      <th></th>\n",
       "      <th>acct</th>\n",
       "      <th>dscr</th>\n",
       "      <th>date_erected</th>\n",
       "      <th>yr_remodel</th>\n",
       "      <th>im_sq_ft</th>\n",
       "      <th>act_ar</th>\n",
       "      <th>heat_ar</th>\n",
       "      <th>gross_ar</th>\n",
       "      <th>eff_ar</th>\n",
       "      <th>base_ar</th>\n",
       "      <th>...</th>\n",
       "      <th>Foundation Defect_count</th>\n",
       "      <th>Garage_count</th>\n",
       "      <th>Outbuildings_count</th>\n",
       "      <th>Pools_count</th>\n",
       "      <th>Canopy_grade</th>\n",
       "      <th>Carport_grade</th>\n",
       "      <th>Foundation Defect_grade</th>\n",
       "      <th>Garage_grade</th>\n",
       "      <th>Outbuildings_grade</th>\n",
       "      <th>Pools_grade</th>\n",
       "    </tr>\n",
       "  </thead>\n",
       "  <tbody>\n",
       "    <tr>\n",
       "      <th>0</th>\n",
       "      <td>21700000013</td>\n",
       "      <td>Low</td>\n",
       "      <td>1920</td>\n",
       "      <td>2004</td>\n",
       "      <td>1434</td>\n",
       "      <td>1622</td>\n",
       "      <td>1434</td>\n",
       "      <td>1622</td>\n",
       "      <td>1453</td>\n",
       "      <td>1434</td>\n",
       "      <td>...</td>\n",
       "      <td>NaN</td>\n",
       "      <td>1.0</td>\n",
       "      <td>NaN</td>\n",
       "      <td>NaN</td>\n",
       "      <td>NaN</td>\n",
       "      <td>NaN</td>\n",
       "      <td>NaN</td>\n",
       "      <td>5.0</td>\n",
       "      <td>NaN</td>\n",
       "      <td>NaN</td>\n",
       "    </tr>\n",
       "    <tr>\n",
       "      <th>1</th>\n",
       "      <td>22080000008</td>\n",
       "      <td>Low</td>\n",
       "      <td>1940</td>\n",
       "      <td>0</td>\n",
       "      <td>2240</td>\n",
       "      <td>2732</td>\n",
       "      <td>2240</td>\n",
       "      <td>2732</td>\n",
       "      <td>2270</td>\n",
       "      <td>2240</td>\n",
       "      <td>...</td>\n",
       "      <td>NaN</td>\n",
       "      <td>2.0</td>\n",
       "      <td>2.0</td>\n",
       "      <td>NaN</td>\n",
       "      <td>NaN</td>\n",
       "      <td>NaN</td>\n",
       "      <td>NaN</td>\n",
       "      <td>5.0</td>\n",
       "      <td>4.0</td>\n",
       "      <td>NaN</td>\n",
       "    </tr>\n",
       "    <tr>\n",
       "      <th>2</th>\n",
       "      <td>22650000005</td>\n",
       "      <td>Average</td>\n",
       "      <td>1936</td>\n",
       "      <td>0</td>\n",
       "      <td>2232</td>\n",
       "      <td>2638</td>\n",
       "      <td>2232</td>\n",
       "      <td>2638</td>\n",
       "      <td>2231</td>\n",
       "      <td>2232</td>\n",
       "      <td>...</td>\n",
       "      <td>NaN</td>\n",
       "      <td>NaN</td>\n",
       "      <td>NaN</td>\n",
       "      <td>NaN</td>\n",
       "      <td>NaN</td>\n",
       "      <td>5.0</td>\n",
       "      <td>NaN</td>\n",
       "      <td>NaN</td>\n",
       "      <td>NaN</td>\n",
       "      <td>NaN</td>\n",
       "    </tr>\n",
       "    <tr>\n",
       "      <th>3</th>\n",
       "      <td>22660000014</td>\n",
       "      <td>Average</td>\n",
       "      <td>1895</td>\n",
       "      <td>0</td>\n",
       "      <td>1277</td>\n",
       "      <td>1277</td>\n",
       "      <td>1277</td>\n",
       "      <td>1277</td>\n",
       "      <td>1277</td>\n",
       "      <td>1277</td>\n",
       "      <td>...</td>\n",
       "      <td>NaN</td>\n",
       "      <td>NaN</td>\n",
       "      <td>NaN</td>\n",
       "      <td>NaN</td>\n",
       "      <td>NaN</td>\n",
       "      <td>4.5</td>\n",
       "      <td>NaN</td>\n",
       "      <td>NaN</td>\n",
       "      <td>NaN</td>\n",
       "      <td>NaN</td>\n",
       "    </tr>\n",
       "    <tr>\n",
       "      <th>4</th>\n",
       "      <td>30390000013</td>\n",
       "      <td>Low</td>\n",
       "      <td>1939</td>\n",
       "      <td>0</td>\n",
       "      <td>1348</td>\n",
       "      <td>1612</td>\n",
       "      <td>1348</td>\n",
       "      <td>1612</td>\n",
       "      <td>1419</td>\n",
       "      <td>1348</td>\n",
       "      <td>...</td>\n",
       "      <td>NaN</td>\n",
       "      <td>NaN</td>\n",
       "      <td>1.0</td>\n",
       "      <td>NaN</td>\n",
       "      <td>NaN</td>\n",
       "      <td>NaN</td>\n",
       "      <td>NaN</td>\n",
       "      <td>NaN</td>\n",
       "      <td>5.0</td>\n",
       "      <td>NaN</td>\n",
       "    </tr>\n",
       "  </tbody>\n",
       "</table>\n",
       "<p>5 rows × 48 columns</p>\n",
       "</div>"
      ],
      "text/plain": [
       "          acct     dscr  date_erected  yr_remodel  im_sq_ft  act_ar  heat_ar  \\\n",
       "0  21700000013      Low          1920        2004      1434    1622     1434   \n",
       "1  22080000008      Low          1940           0      2240    2732     2240   \n",
       "2  22650000005  Average          1936           0      2232    2638     2232   \n",
       "3  22660000014  Average          1895           0      1277    1277     1277   \n",
       "4  30390000013      Low          1939           0      1348    1612     1348   \n",
       "\n",
       "   gross_ar  eff_ar  base_ar  ...  Foundation Defect_count  Garage_count  \\\n",
       "0      1622    1453     1434  ...                      NaN           1.0   \n",
       "1      2732    2270     2240  ...                      NaN           2.0   \n",
       "2      2638    2231     2232  ...                      NaN           NaN   \n",
       "3      1277    1277     1277  ...                      NaN           NaN   \n",
       "4      1612    1419     1348  ...                      NaN           NaN   \n",
       "\n",
       "   Outbuildings_count  Pools_count  Canopy_grade  Carport_grade  \\\n",
       "0                 NaN          NaN           NaN            NaN   \n",
       "1                 2.0          NaN           NaN            NaN   \n",
       "2                 NaN          NaN           NaN            5.0   \n",
       "3                 NaN          NaN           NaN            4.5   \n",
       "4                 1.0          NaN           NaN            NaN   \n",
       "\n",
       "   Foundation Defect_grade  Garage_grade  Outbuildings_grade  Pools_grade  \n",
       "0                      NaN           5.0                 NaN          NaN  \n",
       "1                      NaN           5.0                 4.0          NaN  \n",
       "2                      NaN           NaN                 NaN          NaN  \n",
       "3                      NaN           NaN                 NaN          NaN  \n",
       "4                      NaN           NaN                 5.0          NaN  \n",
       "\n",
       "[5 rows x 48 columns]"
      ]
     },
     "execution_count": 20,
     "metadata": {},
     "output_type": "execute_result"
    }
   ],
   "source": [
    "comps.head()"
   ]
  },
  {
   "cell_type": "markdown",
   "metadata": {},
   "source": [
    "# Export comps"
   ]
  },
  {
   "cell_type": "code",
   "execution_count": 21,
   "metadata": {
    "ExecuteTime": {
     "end_time": "2020-07-18T13:22:56.551618Z",
     "start_time": "2020-07-18T13:22:56.097608Z"
    }
   },
   "outputs": [],
   "source": [
    "save_fn = ROOT_DIR / 'data/interim/2016/comps.pickle'\n",
    "save_pickle(comps, save_fn)"
   ]
  }
 ],
 "metadata": {
  "kernelspec": {
   "display_name": "hcad_pred",
   "language": "python",
   "name": "hcad_pred"
  },
  "language_info": {
   "codemirror_mode": {
    "name": "ipython",
    "version": 3
   },
   "file_extension": ".py",
   "mimetype": "text/x-python",
   "name": "python",
   "nbconvert_exporter": "python",
   "pygments_lexer": "ipython3",
   "version": "3.7.6"
  },
  "toc": {
   "base_numbering": 1,
   "nav_menu": {},
   "number_sections": true,
   "sideBar": true,
   "skip_h1_title": false,
   "title_cell": "Table of Contents",
   "title_sidebar": "Contents",
   "toc_cell": false,
   "toc_position": {},
   "toc_section_display": true,
   "toc_window_display": false
  }
 },
 "nbformat": 4,
 "nbformat_minor": 4
}
