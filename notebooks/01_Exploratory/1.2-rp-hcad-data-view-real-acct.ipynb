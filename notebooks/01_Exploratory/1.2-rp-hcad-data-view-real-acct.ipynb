{
 "cells": [
  {
   "cell_type": "markdown",
   "metadata": {},
   "source": [
    "# Find the comparables: real_acc.txt\n",
    "\n",
    "The file `real_acc.txt` contains important property information like number total appraised value (the target on this exercise), neighborhood, school district, economic group, land value, and more. Let's load this file and grab a subset with the important columns to continue our study."
   ]
  },
  {
   "cell_type": "code",
   "execution_count": 1,
   "metadata": {
    "ExecuteTime": {
     "end_time": "2020-07-18T10:42:24.463975Z",
     "start_time": "2020-07-18T10:42:24.444056Z"
    }
   },
   "outputs": [],
   "source": [
    "%load_ext autoreload\n",
    "%autoreload 2"
   ]
  },
  {
   "cell_type": "code",
   "execution_count": 2,
   "metadata": {
    "ExecuteTime": {
     "end_time": "2020-07-18T10:42:25.538758Z",
     "start_time": "2020-07-18T10:42:24.816510Z"
    }
   },
   "outputs": [],
   "source": [
    "from pathlib import Path\n",
    "import pickle\n",
    "\n",
    "import pandas as pd\n",
    "\n",
    "from src.definitions import ROOT_DIR\n",
    "from src.data.utils import Table, save_pickle"
   ]
  },
  {
   "cell_type": "code",
   "execution_count": 3,
   "metadata": {
    "ExecuteTime": {
     "end_time": "2020-07-18T10:42:25.553587Z",
     "start_time": "2020-07-18T10:42:25.540542Z"
    }
   },
   "outputs": [],
   "source": [
    "real_acct_fn = ROOT_DIR / 'data/external/2016/Real_acct_owner/real_acct.txt'\n",
    "assert real_acct_fn.exists()"
   ]
  },
  {
   "cell_type": "code",
   "execution_count": 4,
   "metadata": {
    "ExecuteTime": {
     "end_time": "2020-07-18T10:42:25.578902Z",
     "start_time": "2020-07-18T10:42:25.555674Z"
    }
   },
   "outputs": [],
   "source": [
    "real_acct = Table(real_acct_fn, '2016')"
   ]
  },
  {
   "cell_type": "code",
   "execution_count": 5,
   "metadata": {
    "ExecuteTime": {
     "end_time": "2020-07-18T10:42:55.228000Z",
     "start_time": "2020-07-18T10:42:25.716145Z"
    }
   },
   "outputs": [],
   "source": [
    "real_acct_df = real_acct.get_df()"
   ]
  },
  {
   "cell_type": "markdown",
   "metadata": {},
   "source": [
    "# Load accounts of interest\n",
    "Let's remove the account numbers that don't meet free-standing single-family home criteria that we found while processing the `building_res.txt` file."
   ]
  },
  {
   "cell_type": "code",
   "execution_count": 6,
   "metadata": {
    "ExecuteTime": {
     "end_time": "2020-07-18T10:42:55.248944Z",
     "start_time": "2020-07-18T10:42:55.234120Z"
    }
   },
   "outputs": [],
   "source": [
    "one_bld_in_acct_fn = ROOT_DIR / 'data/raw/2016/one_bld_in_acct.pickle'"
   ]
  },
  {
   "cell_type": "code",
   "execution_count": 7,
   "metadata": {
    "ExecuteTime": {
     "end_time": "2020-07-18T10:42:55.427260Z",
     "start_time": "2020-07-18T10:42:55.251259Z"
    }
   },
   "outputs": [],
   "source": [
    "with open(one_bld_in_acct_fn, 'rb') as f:\n",
    "    one_bld_in_acct = pickle.load(f)"
   ]
  },
  {
   "cell_type": "code",
   "execution_count": 8,
   "metadata": {
    "ExecuteTime": {
     "end_time": "2020-07-18T10:42:56.226355Z",
     "start_time": "2020-07-18T10:42:55.432567Z"
    }
   },
   "outputs": [],
   "source": [
    "cond0 = real_acct_df['acct'].isin(one_bld_in_acct)\n",
    "real_acct_df = real_acct_df.loc[cond0, :]"
   ]
  },
  {
   "cell_type": "code",
   "execution_count": 9,
   "metadata": {
    "ExecuteTime": {
     "end_time": "2020-07-18T10:42:56.279774Z",
     "start_time": "2020-07-18T10:42:56.228222Z"
    }
   },
   "outputs": [
    {
     "data": {
      "text/html": [
       "<div>\n",
       "<style scoped>\n",
       "    .dataframe tbody tr th:only-of-type {\n",
       "        vertical-align: middle;\n",
       "    }\n",
       "\n",
       "    .dataframe tbody tr th {\n",
       "        vertical-align: top;\n",
       "    }\n",
       "\n",
       "    .dataframe thead th {\n",
       "        text-align: right;\n",
       "    }\n",
       "</style>\n",
       "<table border=\"1\" class=\"dataframe\">\n",
       "  <thead>\n",
       "    <tr style=\"text-align: right;\">\n",
       "      <th></th>\n",
       "      <th>acct</th>\n",
       "      <th>yr</th>\n",
       "      <th>mailto</th>\n",
       "      <th>mail_addr_1</th>\n",
       "      <th>mail_addr_2</th>\n",
       "      <th>mail_city</th>\n",
       "      <th>mail_state</th>\n",
       "      <th>mail_zip</th>\n",
       "      <th>mail_country</th>\n",
       "      <th>undeliverable</th>\n",
       "      <th>...</th>\n",
       "      <th>protested</th>\n",
       "      <th>certified_date</th>\n",
       "      <th>rev_dt</th>\n",
       "      <th>rev_by</th>\n",
       "      <th>new_own_dt</th>\n",
       "      <th>lgl_1</th>\n",
       "      <th>lgl_2</th>\n",
       "      <th>lgl_3</th>\n",
       "      <th>lgl_4</th>\n",
       "      <th>jurs</th>\n",
       "    </tr>\n",
       "  </thead>\n",
       "  <tbody>\n",
       "    <tr>\n",
       "      <th>1147</th>\n",
       "      <td>21440000001</td>\n",
       "      <td>2016</td>\n",
       "      <td>TREWICK MICHAEL &amp; MEGONE</td>\n",
       "      <td>2120 LIVE OAK ST</td>\n",
       "      <td></td>\n",
       "      <td>HOUSTON</td>\n",
       "      <td>TX</td>\n",
       "      <td>77003-6026</td>\n",
       "      <td></td>\n",
       "      <td>N</td>\n",
       "      <td>...</td>\n",
       "      <td>N</td>\n",
       "      <td>2016-08-12 00:00:00.000</td>\n",
       "      <td>2016-05-11 11:46:44.107</td>\n",
       "      <td>01548</td>\n",
       "      <td>2012-09-11 00:00:00.000</td>\n",
       "      <td>LT 1 BLK 426</td>\n",
       "      <td>SSBB</td>\n",
       "      <td>NaN</td>\n",
       "      <td>NaN</td>\n",
       "      <td>001 040 041 042 043 044 048 061 944</td>\n",
       "    </tr>\n",
       "    <tr>\n",
       "      <th>1181</th>\n",
       "      <td>21470000008</td>\n",
       "      <td>2016</td>\n",
       "      <td>COHEN JAY H % TOWMEY MAY PLLC</td>\n",
       "      <td>2 RIVERWAY FL 15</td>\n",
       "      <td></td>\n",
       "      <td>HOUSTON</td>\n",
       "      <td>TX</td>\n",
       "      <td>77056-1939</td>\n",
       "      <td></td>\n",
       "      <td>N</td>\n",
       "      <td>...</td>\n",
       "      <td>Y</td>\n",
       "      <td>2016-08-12 00:00:00.000</td>\n",
       "      <td>2013-12-16 12:22:41.343</td>\n",
       "      <td>01327</td>\n",
       "      <td>1988-01-02 00:00:00.000</td>\n",
       "      <td>LT 8 BLK 429</td>\n",
       "      <td>SSBB</td>\n",
       "      <td>NaN</td>\n",
       "      <td>NaN</td>\n",
       "      <td>001 040 041 042 043 044 048 061 888 944</td>\n",
       "    </tr>\n",
       "    <tr>\n",
       "      <th>1188</th>\n",
       "      <td>21480000002</td>\n",
       "      <td>2016</td>\n",
       "      <td>DOUGLAS DELOIS L DOUGLAS FENWICK ESTATE OF</td>\n",
       "      <td>2116 HUTCHINS ST</td>\n",
       "      <td></td>\n",
       "      <td>HOUSTON</td>\n",
       "      <td>TX</td>\n",
       "      <td>77003-5934</td>\n",
       "      <td></td>\n",
       "      <td>N</td>\n",
       "      <td>...</td>\n",
       "      <td>N</td>\n",
       "      <td>2016-08-12 00:00:00.000</td>\n",
       "      <td>2013-12-16 12:13:21.600</td>\n",
       "      <td>01327</td>\n",
       "      <td>2004-07-28 00:00:00.000</td>\n",
       "      <td>LT 2 BLK 430</td>\n",
       "      <td>SSBB</td>\n",
       "      <td>NaN</td>\n",
       "      <td>NaN</td>\n",
       "      <td>001 040 041 042 043 044 048 061 888 944</td>\n",
       "    </tr>\n",
       "    <tr>\n",
       "      <th>1235</th>\n",
       "      <td>21650000007</td>\n",
       "      <td>2016</td>\n",
       "      <td>SUAREZ JORGE A</td>\n",
       "      <td>2217 HUTCHINS ST</td>\n",
       "      <td></td>\n",
       "      <td>HOUSTON</td>\n",
       "      <td>TX</td>\n",
       "      <td>77003-5935</td>\n",
       "      <td></td>\n",
       "      <td>N</td>\n",
       "      <td>...</td>\n",
       "      <td>Y</td>\n",
       "      <td>2016-05-17 00:00:00.000</td>\n",
       "      <td>2015-12-02 14:38:09.433</td>\n",
       "      <td>01217</td>\n",
       "      <td>2013-10-14 00:00:00.000</td>\n",
       "      <td>LT 7 BLK 447</td>\n",
       "      <td>SSBB</td>\n",
       "      <td>NaN</td>\n",
       "      <td>NaN</td>\n",
       "      <td>001 040 041 042 043 044 048 061 944</td>\n",
       "    </tr>\n",
       "    <tr>\n",
       "      <th>1236</th>\n",
       "      <td>21650000011</td>\n",
       "      <td>2016</td>\n",
       "      <td>BROOKS LONNIE &amp; LISA</td>\n",
       "      <td>2212 WEBSTER ST</td>\n",
       "      <td></td>\n",
       "      <td>HOUSTON</td>\n",
       "      <td>TX</td>\n",
       "      <td>77003-5946</td>\n",
       "      <td></td>\n",
       "      <td>N</td>\n",
       "      <td>...</td>\n",
       "      <td>N</td>\n",
       "      <td>2016-08-12 00:00:00.000</td>\n",
       "      <td>2013-12-13 11:00:19.397</td>\n",
       "      <td>01327</td>\n",
       "      <td>2001-05-05 00:00:00.000</td>\n",
       "      <td>LT 11 BLK 447</td>\n",
       "      <td>SSBB</td>\n",
       "      <td>NaN</td>\n",
       "      <td>NaN</td>\n",
       "      <td>001 040 041 042 043 044 048 061 944</td>\n",
       "    </tr>\n",
       "  </tbody>\n",
       "</table>\n",
       "<p>5 rows × 71 columns</p>\n",
       "</div>"
      ],
      "text/plain": [
       "             acct    yr                                      mailto  \\\n",
       "1147  21440000001  2016                    TREWICK MICHAEL & MEGONE   \n",
       "1181  21470000008  2016               COHEN JAY H % TOWMEY MAY PLLC   \n",
       "1188  21480000002  2016  DOUGLAS DELOIS L DOUGLAS FENWICK ESTATE OF   \n",
       "1235  21650000007  2016                              SUAREZ JORGE A   \n",
       "1236  21650000011  2016                        BROOKS LONNIE & LISA   \n",
       "\n",
       "           mail_addr_1 mail_addr_2 mail_city mail_state    mail_zip  \\\n",
       "1147  2120 LIVE OAK ST               HOUSTON         TX  77003-6026   \n",
       "1181  2 RIVERWAY FL 15               HOUSTON         TX  77056-1939   \n",
       "1188  2116 HUTCHINS ST               HOUSTON         TX  77003-5934   \n",
       "1235  2217 HUTCHINS ST               HOUSTON         TX  77003-5935   \n",
       "1236   2212 WEBSTER ST               HOUSTON         TX  77003-5946   \n",
       "\n",
       "     mail_country undeliverable  ... protested           certified_date  \\\n",
       "1147                          N  ...         N  2016-08-12 00:00:00.000   \n",
       "1181                          N  ...         Y  2016-08-12 00:00:00.000   \n",
       "1188                          N  ...         N  2016-08-12 00:00:00.000   \n",
       "1235                          N  ...         Y  2016-05-17 00:00:00.000   \n",
       "1236                          N  ...         N  2016-08-12 00:00:00.000   \n",
       "\n",
       "                       rev_dt rev_by               new_own_dt          lgl_1  \\\n",
       "1147  2016-05-11 11:46:44.107  01548  2012-09-11 00:00:00.000   LT 1 BLK 426   \n",
       "1181  2013-12-16 12:22:41.343  01327  1988-01-02 00:00:00.000   LT 8 BLK 429   \n",
       "1188  2013-12-16 12:13:21.600  01327  2004-07-28 00:00:00.000   LT 2 BLK 430   \n",
       "1235  2015-12-02 14:38:09.433  01217  2013-10-14 00:00:00.000   LT 7 BLK 447   \n",
       "1236  2013-12-13 11:00:19.397  01327  2001-05-05 00:00:00.000  LT 11 BLK 447   \n",
       "\n",
       "     lgl_2 lgl_3 lgl_4                                     jurs  \n",
       "1147  SSBB   NaN   NaN      001 040 041 042 043 044 048 061 944  \n",
       "1181  SSBB   NaN   NaN  001 040 041 042 043 044 048 061 888 944  \n",
       "1188  SSBB   NaN   NaN  001 040 041 042 043 044 048 061 888 944  \n",
       "1235  SSBB   NaN   NaN      001 040 041 042 043 044 048 061 944  \n",
       "1236  SSBB   NaN   NaN      001 040 041 042 043 044 048 061 944  \n",
       "\n",
       "[5 rows x 71 columns]"
      ]
     },
     "execution_count": 9,
     "metadata": {},
     "output_type": "execute_result"
    }
   ],
   "source": [
    "real_acct_df.head()"
   ]
  },
  {
   "cell_type": "code",
   "execution_count": 10,
   "metadata": {
    "ExecuteTime": {
     "end_time": "2020-07-18T10:42:56.303638Z",
     "start_time": "2020-07-18T10:42:56.282122Z"
    }
   },
   "outputs": [
    {
     "data": {
      "text/plain": [
       "Index(['acct', 'yr', 'mailto', 'mail_addr_1', 'mail_addr_2', 'mail_city',\n",
       "       'mail_state', 'mail_zip', 'mail_country', 'undeliverable', 'str_pfx',\n",
       "       'str_num', 'str_num_sfx', 'str', 'str_sfx', 'str_sfx_dir', 'str_unit',\n",
       "       'site_addr_1', 'site_addr_2', 'site_addr_3', 'state_class',\n",
       "       'school_dist', 'map_facet', 'key_map', 'Neighborhood_Code',\n",
       "       'Neighborhood_Grp', 'Market_Area_1', 'Market_Area_1_Dscr',\n",
       "       'Market_Area_2', 'Market_Area_2_Dscr', 'econ_area', 'econ_bld_class',\n",
       "       'center_code', 'yr_impr', 'yr_annexed', 'splt_dt', 'dsc_cd', 'nxt_bld',\n",
       "       'bld_ar', 'land_ar', 'acreage', 'Cap_acct', 'shared_cad', 'land_val',\n",
       "       'bld_val', 'x_features_val', 'ag_val', 'assessed_val', 'tot_appr_val',\n",
       "       'tot_mkt_val', 'prior_land_val', 'prior_bld_val',\n",
       "       'prior_x_features_val', 'prior_ag_val', 'prior_tot_appr_val',\n",
       "       'prior_tot_mkt_val', 'new_construction_val', 'tot_rcn_val',\n",
       "       'value_status', 'noticed', 'notice_dt', 'protested', 'certified_date',\n",
       "       'rev_dt', 'rev_by', 'new_own_dt', 'lgl_1', 'lgl_2', 'lgl_3', 'lgl_4',\n",
       "       'jurs'],\n",
       "      dtype='object')"
      ]
     },
     "execution_count": 10,
     "metadata": {},
     "output_type": "execute_result"
    }
   ],
   "source": [
    "real_acct_df.columns"
   ]
  },
  {
   "cell_type": "markdown",
   "metadata": {},
   "source": [
    "# Select columns and build pivot table\n",
    "The columns above show a lot of value information along property groups that might come in handy when predicting the appraised value. Now let's get a slice of some of the important columns."
   ]
  },
  {
   "cell_type": "code",
   "execution_count": 11,
   "metadata": {
    "ExecuteTime": {
     "end_time": "2020-07-18T10:42:56.321428Z",
     "start_time": "2020-07-18T10:42:56.305294Z"
    }
   },
   "outputs": [],
   "source": [
    "cols = [\n",
    "    'acct',\n",
    "    'site_addr_3', # Zip\n",
    "    'school_dist',\n",
    "    'Neighborhood_Code',\n",
    "    'Market_Area_1_Dscr',\n",
    "    'Market_Area_2_Dscr',\n",
    "    'center_code',\n",
    "    'bld_ar',\n",
    "    'land_ar',\n",
    "    'acreage',\n",
    "    'land_val',\n",
    "    'tot_appr_val', # Target\n",
    "    'prior_land_val',\n",
    "    'prior_tot_appr_val',\n",
    "    'new_own_dt',  # New owner date\n",
    "]"
   ]
  },
  {
   "cell_type": "code",
   "execution_count": 12,
   "metadata": {
    "ExecuteTime": {
     "end_time": "2020-07-18T10:42:56.419810Z",
     "start_time": "2020-07-18T10:42:56.324870Z"
    }
   },
   "outputs": [],
   "source": [
    "real_acct_df = real_acct_df.loc[:, cols]"
   ]
  },
  {
   "cell_type": "code",
   "execution_count": 13,
   "metadata": {
    "ExecuteTime": {
     "end_time": "2020-07-18T10:42:56.454965Z",
     "start_time": "2020-07-18T10:42:56.422819Z"
    }
   },
   "outputs": [
    {
     "data": {
      "text/html": [
       "<div>\n",
       "<style scoped>\n",
       "    .dataframe tbody tr th:only-of-type {\n",
       "        vertical-align: middle;\n",
       "    }\n",
       "\n",
       "    .dataframe tbody tr th {\n",
       "        vertical-align: top;\n",
       "    }\n",
       "\n",
       "    .dataframe thead th {\n",
       "        text-align: right;\n",
       "    }\n",
       "</style>\n",
       "<table border=\"1\" class=\"dataframe\">\n",
       "  <thead>\n",
       "    <tr style=\"text-align: right;\">\n",
       "      <th></th>\n",
       "      <th>acct</th>\n",
       "      <th>site_addr_3</th>\n",
       "      <th>school_dist</th>\n",
       "      <th>Neighborhood_Code</th>\n",
       "      <th>Market_Area_1_Dscr</th>\n",
       "      <th>Market_Area_2_Dscr</th>\n",
       "      <th>center_code</th>\n",
       "      <th>bld_ar</th>\n",
       "      <th>land_ar</th>\n",
       "      <th>acreage</th>\n",
       "      <th>land_val</th>\n",
       "      <th>tot_appr_val</th>\n",
       "      <th>prior_land_val</th>\n",
       "      <th>prior_tot_appr_val</th>\n",
       "      <th>new_own_dt</th>\n",
       "    </tr>\n",
       "  </thead>\n",
       "  <tbody>\n",
       "    <tr>\n",
       "      <th>1147</th>\n",
       "      <td>21440000001</td>\n",
       "      <td>77003</td>\n",
       "      <td>01</td>\n",
       "      <td>8400.12</td>\n",
       "      <td>1C Midtown, Riverside Terrace, University Areas</td>\n",
       "      <td>1C Midtown, Riverside Terrace, University Areas</td>\n",
       "      <td>61</td>\n",
       "      <td>2537</td>\n",
       "      <td>5000</td>\n",
       "      <td>0.1148</td>\n",
       "      <td>125000.0</td>\n",
       "      <td>145200.0</td>\n",
       "      <td>75000.0</td>\n",
       "      <td>132000.0</td>\n",
       "      <td>2012-09-11 00:00:00.000</td>\n",
       "    </tr>\n",
       "    <tr>\n",
       "      <th>1181</th>\n",
       "      <td>21470000008</td>\n",
       "      <td>77003</td>\n",
       "      <td>01</td>\n",
       "      <td>8400.12</td>\n",
       "      <td>1C Midtown, Riverside Terrace, University Areas</td>\n",
       "      <td>1C Midtown, Riverside Terrace, University Areas</td>\n",
       "      <td>61</td>\n",
       "      <td>1000</td>\n",
       "      <td>5000</td>\n",
       "      <td>0.1148</td>\n",
       "      <td>74900.0</td>\n",
       "      <td>75000.0</td>\n",
       "      <td>64000.0</td>\n",
       "      <td>65000.0</td>\n",
       "      <td>1988-01-02 00:00:00.000</td>\n",
       "    </tr>\n",
       "    <tr>\n",
       "      <th>1188</th>\n",
       "      <td>21480000002</td>\n",
       "      <td>77003</td>\n",
       "      <td>01</td>\n",
       "      <td>8400.12</td>\n",
       "      <td>1C Midtown, Riverside Terrace, University Areas</td>\n",
       "      <td>1C Midtown, Riverside Terrace, University Areas</td>\n",
       "      <td>61</td>\n",
       "      <td>1496</td>\n",
       "      <td>5000</td>\n",
       "      <td>0.1148</td>\n",
       "      <td>125000.0</td>\n",
       "      <td>85929.0</td>\n",
       "      <td>75000.0</td>\n",
       "      <td>78118.0</td>\n",
       "      <td>2004-07-28 00:00:00.000</td>\n",
       "    </tr>\n",
       "    <tr>\n",
       "      <th>1235</th>\n",
       "      <td>21650000007</td>\n",
       "      <td>77003</td>\n",
       "      <td>01</td>\n",
       "      <td>8400.12</td>\n",
       "      <td>1C Midtown, Riverside Terrace, University Areas</td>\n",
       "      <td>1C Midtown, Riverside Terrace, University Areas</td>\n",
       "      <td>61</td>\n",
       "      <td>3387</td>\n",
       "      <td>5000</td>\n",
       "      <td>0.1148</td>\n",
       "      <td>125000.0</td>\n",
       "      <td>549004.0</td>\n",
       "      <td>75000.0</td>\n",
       "      <td>75000.0</td>\n",
       "      <td>2013-10-14 00:00:00.000</td>\n",
       "    </tr>\n",
       "    <tr>\n",
       "      <th>1236</th>\n",
       "      <td>21650000011</td>\n",
       "      <td>77003</td>\n",
       "      <td>01</td>\n",
       "      <td>8400.12</td>\n",
       "      <td>1C Midtown, Riverside Terrace, University Areas</td>\n",
       "      <td>1C Midtown, Riverside Terrace, University Areas</td>\n",
       "      <td>61</td>\n",
       "      <td>1508</td>\n",
       "      <td>6250</td>\n",
       "      <td>0.1435</td>\n",
       "      <td>140625.0</td>\n",
       "      <td>181370.0</td>\n",
       "      <td>84375.0</td>\n",
       "      <td>164882.0</td>\n",
       "      <td>2001-05-05 00:00:00.000</td>\n",
       "    </tr>\n",
       "  </tbody>\n",
       "</table>\n",
       "</div>"
      ],
      "text/plain": [
       "             acct site_addr_3 school_dist  Neighborhood_Code  \\\n",
       "1147  21440000001       77003       01               8400.12   \n",
       "1181  21470000008       77003       01               8400.12   \n",
       "1188  21480000002       77003       01               8400.12   \n",
       "1235  21650000007       77003       01               8400.12   \n",
       "1236  21650000011       77003       01               8400.12   \n",
       "\n",
       "                                   Market_Area_1_Dscr  \\\n",
       "1147  1C Midtown, Riverside Terrace, University Areas   \n",
       "1181  1C Midtown, Riverside Terrace, University Areas   \n",
       "1188  1C Midtown, Riverside Terrace, University Areas   \n",
       "1235  1C Midtown, Riverside Terrace, University Areas   \n",
       "1236  1C Midtown, Riverside Terrace, University Areas   \n",
       "\n",
       "                                   Market_Area_2_Dscr center_code  bld_ar  \\\n",
       "1147  1C Midtown, Riverside Terrace, University Areas       61       2537   \n",
       "1181  1C Midtown, Riverside Terrace, University Areas       61       1000   \n",
       "1188  1C Midtown, Riverside Terrace, University Areas       61       1496   \n",
       "1235  1C Midtown, Riverside Terrace, University Areas       61       3387   \n",
       "1236  1C Midtown, Riverside Terrace, University Areas       61       1508   \n",
       "\n",
       "      land_ar  acreage  land_val  tot_appr_val  prior_land_val  \\\n",
       "1147     5000   0.1148  125000.0      145200.0         75000.0   \n",
       "1181     5000   0.1148   74900.0       75000.0         64000.0   \n",
       "1188     5000   0.1148  125000.0       85929.0         75000.0   \n",
       "1235     5000   0.1148  125000.0      549004.0         75000.0   \n",
       "1236     6250   0.1435  140625.0      181370.0         84375.0   \n",
       "\n",
       "      prior_tot_appr_val               new_own_dt  \n",
       "1147            132000.0  2012-09-11 00:00:00.000  \n",
       "1181             65000.0  1988-01-02 00:00:00.000  \n",
       "1188             78118.0  2004-07-28 00:00:00.000  \n",
       "1235             75000.0  2013-10-14 00:00:00.000  \n",
       "1236            164882.0  2001-05-05 00:00:00.000  "
      ]
     },
     "execution_count": 13,
     "metadata": {},
     "output_type": "execute_result"
    }
   ],
   "source": [
    "real_acct_df.head()"
   ]
  },
  {
   "cell_type": "markdown",
   "metadata": {},
   "source": [
    "Double check if the there is only one account number per row"
   ]
  },
  {
   "cell_type": "code",
   "execution_count": 14,
   "metadata": {
    "ExecuteTime": {
     "end_time": "2020-07-18T10:42:56.578603Z",
     "start_time": "2020-07-18T10:42:56.456940Z"
    }
   },
   "outputs": [],
   "source": [
    "assert real_acct_df['acct'].is_unique"
   ]
  },
  {
   "cell_type": "markdown",
   "metadata": {},
   "source": [
    "# Export real_acct"
   ]
  },
  {
   "cell_type": "code",
   "execution_count": 15,
   "metadata": {
    "ExecuteTime": {
     "end_time": "2020-07-18T10:42:57.124569Z",
     "start_time": "2020-07-18T10:42:56.580216Z"
    }
   },
   "outputs": [],
   "source": [
    "save_fn = ROOT_DIR / 'data/raw/2016/real_acct_comps.pickle'\n",
    "save_pickle(real_acct_df, save_fn)"
   ]
  }
 ],
 "metadata": {
  "kernelspec": {
   "display_name": "hcad_pred",
   "language": "python",
   "name": "hcad_pred"
  },
  "language_info": {
   "codemirror_mode": {
    "name": "ipython",
    "version": 3
   },
   "file_extension": ".py",
   "mimetype": "text/x-python",
   "name": "python",
   "nbconvert_exporter": "python",
   "pygments_lexer": "ipython3",
   "version": "3.7.6"
  },
  "toc": {
   "base_numbering": 1,
   "nav_menu": {},
   "number_sections": true,
   "sideBar": true,
   "skip_h1_title": false,
   "title_cell": "Table of Contents",
   "title_sidebar": "Contents",
   "toc_cell": false,
   "toc_position": {},
   "toc_section_display": true,
   "toc_window_display": false
  }
 },
 "nbformat": 4,
 "nbformat_minor": 4
}
