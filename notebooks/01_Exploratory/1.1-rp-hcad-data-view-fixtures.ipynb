{
 "cells": [
  {
   "cell_type": "markdown",
   "metadata": {},
   "source": [
    "# Find the comparables: fixtures.txt\n",
    "\n",
    "The file `fixtures.txt` contains important property features like number of bedrooms, full baths, half baths, and more. It comes as a melted table, so we need to use the pivot_table method on the dataframe instance to shape it to a table with one observation per row (account number)."
   ]
  },
  {
   "cell_type": "code",
   "execution_count": null,
   "metadata": {
    "ExecuteTime": {
     "end_time": "2020-07-18T10:57:54.413710Z",
     "start_time": "2020-07-18T10:57:54.384560Z"
    }
   },
   "outputs": [],
   "source": [
    "%load_ext autoreload\n",
    "%autoreload 2"
   ]
  },
  {
   "cell_type": "code",
   "execution_count": null,
   "metadata": {
    "ExecuteTime": {
     "end_time": "2020-07-18T10:57:55.069078Z",
     "start_time": "2020-07-18T10:57:54.688068Z"
    }
   },
   "outputs": [],
   "source": [
    "from pathlib import Path\n",
    "import pickle\n",
    "\n",
    "import pandas as pd\n",
    "\n",
    "from src.definitions import ROOT_DIR\n",
    "from src.data.utils import Table, save_pickle"
   ]
  },
  {
   "cell_type": "code",
   "execution_count": null,
   "metadata": {
    "ExecuteTime": {
     "end_time": "2020-07-18T10:57:55.085079Z",
     "start_time": "2020-07-18T10:57:55.070899Z"
    }
   },
   "outputs": [],
   "source": [
    "fixtures_fn = ROOT_DIR / 'data/external/2016/Real_building_land/fixtures.txt'\n",
    "assert fixtures_fn.exists()"
   ]
  },
  {
   "cell_type": "code",
   "execution_count": null,
   "metadata": {
    "ExecuteTime": {
     "end_time": "2020-07-18T10:57:55.311224Z",
     "start_time": "2020-07-18T10:57:55.295689Z"
    }
   },
   "outputs": [],
   "source": [
    "fixtures = Table(fixtures_fn, '2016')"
   ]
  },
  {
   "cell_type": "code",
   "execution_count": null,
   "metadata": {
    "ExecuteTime": {
     "end_time": "2020-07-18T10:58:01.632657Z",
     "start_time": "2020-07-18T10:57:55.592617Z"
    }
   },
   "outputs": [],
   "source": [
    "fixtures_df = fixtures.get_df()"
   ]
  },
  {
   "cell_type": "code",
   "execution_count": null,
   "metadata": {
    "ExecuteTime": {
     "end_time": "2020-07-18T10:58:01.670984Z",
     "start_time": "2020-07-18T10:58:01.634524Z"
    }
   },
   "outputs": [],
   "source": [
    "fixtures_df.head()"
   ]
  },
  {
   "cell_type": "markdown",
   "metadata": {},
   "source": [
    "# Load accounts of interest\n",
    "Let's remove the account numbers that don't meet free-standing single-family home criteria that we found while processing the `building_res.txt` file."
   ]
  },
  {
   "cell_type": "code",
   "execution_count": null,
   "metadata": {
    "ExecuteTime": {
     "end_time": "2020-07-18T10:58:01.684208Z",
     "start_time": "2020-07-18T10:58:01.672964Z"
    }
   },
   "outputs": [],
   "source": [
    "one_bld_in_acct_fn = ROOT_DIR / 'data/raw/2016/one_bld_in_acct.pickle'"
   ]
  },
  {
   "cell_type": "code",
   "execution_count": null,
   "metadata": {
    "ExecuteTime": {
     "end_time": "2020-07-18T10:58:01.717028Z",
     "start_time": "2020-07-18T10:58:01.686769Z"
    }
   },
   "outputs": [],
   "source": [
    "with open(one_bld_in_acct_fn, 'rb') as f:\n",
    "    one_bld_in_acct = pickle.load(f)"
   ]
  },
  {
   "cell_type": "code",
   "execution_count": null,
   "metadata": {
    "ExecuteTime": {
     "end_time": "2020-07-18T10:58:03.147606Z",
     "start_time": "2020-07-18T10:58:01.718913Z"
    }
   },
   "outputs": [],
   "source": [
    "cond0 = fixtures_df['acct'].isin(one_bld_in_acct)\n",
    "fixtures_df = fixtures_df.loc[cond0, :]"
   ]
  },
  {
   "cell_type": "code",
   "execution_count": null,
   "metadata": {
    "ExecuteTime": {
     "end_time": "2020-07-18T10:58:03.165780Z",
     "start_time": "2020-07-18T10:58:03.149314Z"
    }
   },
   "outputs": [],
   "source": [
    "fixtures_df.head()"
   ]
  },
  {
   "cell_type": "code",
   "execution_count": null,
   "metadata": {
    "ExecuteTime": {
     "end_time": "2020-07-18T10:58:03.703180Z",
     "start_time": "2020-07-18T10:58:03.167256Z"
    }
   },
   "outputs": [],
   "source": [
    "fixtures_df['type_dscr'].value_counts()"
   ]
  },
  {
   "cell_type": "markdown",
   "metadata": {},
   "source": [
    "# Select columns and build pivot table\n",
    "From the value count on the fixtures type description above we can tell that the first 10 types are prevalent in the data. Let's focus on these 10 in our evaluation."
   ]
  },
  {
   "cell_type": "code",
   "execution_count": null,
   "metadata": {
    "ExecuteTime": {
     "end_time": "2020-07-18T10:58:04.212566Z",
     "start_time": "2020-07-18T10:58:03.706721Z"
    }
   },
   "outputs": [],
   "source": [
    "cols = fixtures_df['type_dscr'].value_counts().head(10).index"
   ]
  },
  {
   "cell_type": "code",
   "execution_count": null,
   "metadata": {
    "ExecuteTime": {
     "end_time": "2020-07-18T10:58:04.623628Z",
     "start_time": "2020-07-18T10:58:04.214179Z"
    }
   },
   "outputs": [],
   "source": [
    "cond0 = fixtures_df['type_dscr'].isin(cols)\n",
    "fixtures_df = fixtures_df.loc[cond0, :]"
   ]
  },
  {
   "cell_type": "code",
   "execution_count": null,
   "metadata": {
    "ExecuteTime": {
     "end_time": "2020-07-18T10:58:14.220297Z",
     "start_time": "2020-07-18T10:58:04.625029Z"
    }
   },
   "outputs": [],
   "source": [
    "fixtures_pivot = fixtures_df.pivot_table(index='acct', columns='type_dscr', values='units', fill_value=0)"
   ]
  },
  {
   "cell_type": "code",
   "execution_count": null,
   "metadata": {
    "ExecuteTime": {
     "end_time": "2020-07-18T10:58:14.283851Z",
     "start_time": "2020-07-18T10:58:14.228685Z"
    }
   },
   "outputs": [],
   "source": [
    "fixtures_pivot.head()"
   ]
  },
  {
   "cell_type": "markdown",
   "metadata": {},
   "source": [
    "add `acct` column to make easier the merging process ahead"
   ]
  },
  {
   "cell_type": "code",
   "execution_count": null,
   "metadata": {
    "ExecuteTime": {
     "end_time": "2020-07-18T13:15:41.489529Z",
     "start_time": "2020-07-18T13:15:41.467393Z"
    }
   },
   "outputs": [],
   "source": [
    "fixtures_pivot.reset_index(inplace=True)"
   ]
  },
  {
   "cell_type": "markdown",
   "metadata": {},
   "source": [
    "# Export fixtures_pivot"
   ]
  },
  {
   "cell_type": "code",
   "execution_count": null,
   "metadata": {
    "ExecuteTime": {
     "end_time": "2020-07-18T13:15:44.220318Z",
     "start_time": "2020-07-18T13:15:43.979350Z"
    }
   },
   "outputs": [],
   "source": [
    "save_fn = ROOT_DIR / 'data/raw/2016/fixtures_comps.pickle'\n",
    "save_pickle(fixtures_pivot, save_fn)"
   ]
  }
 ],
 "metadata": {
  "kernelspec": {
   "display_name": "hcad_pred",
   "language": "python",
   "name": "hcad_pred"
  },
  "language_info": {
   "codemirror_mode": {
    "name": "ipython",
    "version": 3
   },
   "file_extension": ".py",
   "mimetype": "text/x-python",
   "name": "python",
   "nbconvert_exporter": "python",
   "pygments_lexer": "ipython3",
   "version": "3.7.6"
  },
  "toc": {
   "base_numbering": 1,
   "nav_menu": {},
   "number_sections": true,
   "sideBar": true,
   "skip_h1_title": false,
   "title_cell": "Table of Contents",
   "title_sidebar": "Contents",
   "toc_cell": false,
   "toc_position": {},
   "toc_section_display": true,
   "toc_window_display": false
  }
 },
 "nbformat": 4,
 "nbformat_minor": 4
}
