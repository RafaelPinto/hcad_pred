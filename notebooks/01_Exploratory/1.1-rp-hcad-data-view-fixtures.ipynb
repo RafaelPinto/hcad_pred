{
 "cells": [
  {
   "cell_type": "markdown",
   "metadata": {},
   "source": [
    "# Find the comparables: fixtures.txt\n",
    "\n",
    "The file `fixtures.txt` contains important property features like number of bedrooms, full baths, half baths, and more. It comes as a melted table, so we need to use the pivot_table method on the dataframe instance to shape it to a table with one observation per row (account number)."
   ]
  },
  {
   "cell_type": "code",
   "execution_count": 1,
   "metadata": {
    "ExecuteTime": {
     "end_time": "2020-07-17T22:19:15.601639Z",
     "start_time": "2020-07-17T22:19:15.581292Z"
    }
   },
   "outputs": [],
   "source": [
    "%load_ext autoreload\n",
    "%autoreload 2"
   ]
  },
  {
   "cell_type": "code",
   "execution_count": 2,
   "metadata": {
    "ExecuteTime": {
     "end_time": "2020-07-17T22:19:16.595386Z",
     "start_time": "2020-07-17T22:19:16.216760Z"
    }
   },
   "outputs": [],
   "source": [
    "from pathlib import Path\n",
    "import pickle\n",
    "\n",
    "import pandas as pd\n",
    "\n",
    "from src.definitions import ROOT_DIR\n",
    "from src.data.utils import Table, save_pickle"
   ]
  },
  {
   "cell_type": "code",
   "execution_count": 3,
   "metadata": {
    "ExecuteTime": {
     "end_time": "2020-07-17T22:19:22.619785Z",
     "start_time": "2020-07-17T22:19:22.599529Z"
    }
   },
   "outputs": [],
   "source": [
    "fixtures_fn = ROOT_DIR / 'data/external/2016/Real_building_land/fixtures.txt'\n",
    "assert fixtures_fn.exists()"
   ]
  },
  {
   "cell_type": "code",
   "execution_count": 4,
   "metadata": {
    "ExecuteTime": {
     "end_time": "2020-07-17T22:19:28.038990Z",
     "start_time": "2020-07-17T22:19:28.007387Z"
    }
   },
   "outputs": [],
   "source": [
    "fixtures = Table(fixtures_fn, '2016')"
   ]
  },
  {
   "cell_type": "code",
   "execution_count": 5,
   "metadata": {
    "ExecuteTime": {
     "end_time": "2020-07-17T22:19:36.419092Z",
     "start_time": "2020-07-17T22:19:30.424950Z"
    }
   },
   "outputs": [],
   "source": [
    "fixtures_df = fixtures.get_df()"
   ]
  },
  {
   "cell_type": "code",
   "execution_count": 6,
   "metadata": {
    "ExecuteTime": {
     "end_time": "2020-07-17T22:19:59.161310Z",
     "start_time": "2020-07-17T22:19:59.122348Z"
    }
   },
   "outputs": [
    {
     "data": {
      "text/html": [
       "<div>\n",
       "<style scoped>\n",
       "    .dataframe tbody tr th:only-of-type {\n",
       "        vertical-align: middle;\n",
       "    }\n",
       "\n",
       "    .dataframe tbody tr th {\n",
       "        vertical-align: top;\n",
       "    }\n",
       "\n",
       "    .dataframe thead th {\n",
       "        text-align: right;\n",
       "    }\n",
       "</style>\n",
       "<table border=\"1\" class=\"dataframe\">\n",
       "  <thead>\n",
       "    <tr style=\"text-align: right;\">\n",
       "      <th></th>\n",
       "      <th>acct</th>\n",
       "      <th>bld_num</th>\n",
       "      <th>type</th>\n",
       "      <th>type_dscr</th>\n",
       "      <th>units</th>\n",
       "    </tr>\n",
       "  </thead>\n",
       "  <tbody>\n",
       "    <tr>\n",
       "      <th>0</th>\n",
       "      <td>1116690000018</td>\n",
       "      <td>1</td>\n",
       "      <td>RMT</td>\n",
       "      <td>Room:  Total</td>\n",
       "      <td>5.0</td>\n",
       "    </tr>\n",
       "    <tr>\n",
       "      <th>1</th>\n",
       "      <td>1116690000018</td>\n",
       "      <td>1</td>\n",
       "      <td>STY</td>\n",
       "      <td>Story Height Index</td>\n",
       "      <td>1.0</td>\n",
       "    </tr>\n",
       "    <tr>\n",
       "      <th>2</th>\n",
       "      <td>1116690000019</td>\n",
       "      <td>1</td>\n",
       "      <td>RMT</td>\n",
       "      <td>Room:  Total</td>\n",
       "      <td>5.0</td>\n",
       "    </tr>\n",
       "    <tr>\n",
       "      <th>3</th>\n",
       "      <td>1116690000019</td>\n",
       "      <td>1</td>\n",
       "      <td>STY</td>\n",
       "      <td>Story Height Index</td>\n",
       "      <td>2.0</td>\n",
       "    </tr>\n",
       "    <tr>\n",
       "      <th>4</th>\n",
       "      <td>1116690000020</td>\n",
       "      <td>1</td>\n",
       "      <td>RMT</td>\n",
       "      <td>Room:  Total</td>\n",
       "      <td>5.0</td>\n",
       "    </tr>\n",
       "  </tbody>\n",
       "</table>\n",
       "</div>"
      ],
      "text/plain": [
       "            acct  bld_num  type           type_dscr  units\n",
       "0  1116690000018        1  RMT         Room:  Total    5.0\n",
       "1  1116690000018        1  STY   Story Height Index    1.0\n",
       "2  1116690000019        1  RMT         Room:  Total    5.0\n",
       "3  1116690000019        1  STY   Story Height Index    2.0\n",
       "4  1116690000020        1  RMT         Room:  Total    5.0"
      ]
     },
     "execution_count": 6,
     "metadata": {},
     "output_type": "execute_result"
    }
   ],
   "source": [
    "fixtures_df.head()"
   ]
  },
  {
   "cell_type": "markdown",
   "metadata": {},
   "source": [
    "# Load accounts of interest\n",
    "Let's remove the account numbers that don't meet free-standing single-family home criteria that we found while processing the `building_res.txt` file."
   ]
  },
  {
   "cell_type": "code",
   "execution_count": 7,
   "metadata": {
    "ExecuteTime": {
     "end_time": "2020-07-17T22:21:07.650896Z",
     "start_time": "2020-07-17T22:21:07.624243Z"
    }
   },
   "outputs": [],
   "source": [
    "one_bld_in_acct_fn = ROOT_DIR / 'data/raw/2016/one_bld_in_acct.pickle'"
   ]
  },
  {
   "cell_type": "code",
   "execution_count": 9,
   "metadata": {
    "ExecuteTime": {
     "end_time": "2020-07-17T22:21:55.493692Z",
     "start_time": "2020-07-17T22:21:55.464526Z"
    }
   },
   "outputs": [],
   "source": [
    "with open(one_bld_in_acct_fn, 'rb') as f:\n",
    "    one_bld_in_acct = pickle.load(f)"
   ]
  },
  {
   "cell_type": "code",
   "execution_count": 10,
   "metadata": {
    "ExecuteTime": {
     "end_time": "2020-07-17T22:22:55.171715Z",
     "start_time": "2020-07-17T22:22:53.903956Z"
    }
   },
   "outputs": [],
   "source": [
    "cond0 = fixtures_df['acct'].isin(one_bld_in_acct)\n",
    "fixtures_df = fixtures_df.loc[cond0, :]"
   ]
  },
  {
   "cell_type": "code",
   "execution_count": 11,
   "metadata": {
    "ExecuteTime": {
     "end_time": "2020-07-17T22:22:57.925617Z",
     "start_time": "2020-07-17T22:22:57.870725Z"
    }
   },
   "outputs": [
    {
     "data": {
      "text/html": [
       "<div>\n",
       "<style scoped>\n",
       "    .dataframe tbody tr th:only-of-type {\n",
       "        vertical-align: middle;\n",
       "    }\n",
       "\n",
       "    .dataframe tbody tr th {\n",
       "        vertical-align: top;\n",
       "    }\n",
       "\n",
       "    .dataframe thead th {\n",
       "        text-align: right;\n",
       "    }\n",
       "</style>\n",
       "<table border=\"1\" class=\"dataframe\">\n",
       "  <thead>\n",
       "    <tr style=\"text-align: right;\">\n",
       "      <th></th>\n",
       "      <th>acct</th>\n",
       "      <th>bld_num</th>\n",
       "      <th>type</th>\n",
       "      <th>type_dscr</th>\n",
       "      <th>units</th>\n",
       "    </tr>\n",
       "  </thead>\n",
       "  <tbody>\n",
       "    <tr>\n",
       "      <th>0</th>\n",
       "      <td>1116690000018</td>\n",
       "      <td>1</td>\n",
       "      <td>RMT</td>\n",
       "      <td>Room:  Total</td>\n",
       "      <td>5.0</td>\n",
       "    </tr>\n",
       "    <tr>\n",
       "      <th>1</th>\n",
       "      <td>1116690000018</td>\n",
       "      <td>1</td>\n",
       "      <td>STY</td>\n",
       "      <td>Story Height Index</td>\n",
       "      <td>1.0</td>\n",
       "    </tr>\n",
       "    <tr>\n",
       "      <th>2</th>\n",
       "      <td>1116690000019</td>\n",
       "      <td>1</td>\n",
       "      <td>RMT</td>\n",
       "      <td>Room:  Total</td>\n",
       "      <td>5.0</td>\n",
       "    </tr>\n",
       "    <tr>\n",
       "      <th>3</th>\n",
       "      <td>1116690000019</td>\n",
       "      <td>1</td>\n",
       "      <td>STY</td>\n",
       "      <td>Story Height Index</td>\n",
       "      <td>2.0</td>\n",
       "    </tr>\n",
       "    <tr>\n",
       "      <th>4</th>\n",
       "      <td>1116690000020</td>\n",
       "      <td>1</td>\n",
       "      <td>RMT</td>\n",
       "      <td>Room:  Total</td>\n",
       "      <td>5.0</td>\n",
       "    </tr>\n",
       "  </tbody>\n",
       "</table>\n",
       "</div>"
      ],
      "text/plain": [
       "            acct  bld_num  type           type_dscr  units\n",
       "0  1116690000018        1  RMT         Room:  Total    5.0\n",
       "1  1116690000018        1  STY   Story Height Index    1.0\n",
       "2  1116690000019        1  RMT         Room:  Total    5.0\n",
       "3  1116690000019        1  STY   Story Height Index    2.0\n",
       "4  1116690000020        1  RMT         Room:  Total    5.0"
      ]
     },
     "execution_count": 11,
     "metadata": {},
     "output_type": "execute_result"
    }
   ],
   "source": [
    "fixtures_df.head()"
   ]
  },
  {
   "cell_type": "code",
   "execution_count": 12,
   "metadata": {
    "ExecuteTime": {
     "end_time": "2020-07-17T22:23:14.842228Z",
     "start_time": "2020-07-17T22:23:14.340254Z"
    }
   },
   "outputs": [
    {
     "data": {
      "text/plain": [
       "Room:  Bedroom                  960725\n",
       "Story Height Index              960644\n",
       "Room:  Full Bath                960563\n",
       "Room:  Total                    960473\n",
       "Fixtures:  Total                960339\n",
       "Fixtures:  Addl                 463957\n",
       "Room:  Half Bath                393908\n",
       "Room:  Rec                      372823\n",
       "Fireplace: Metal Prefab         335608\n",
       "Fireplace: Masonry Firebrick    203721\n",
       "Masonry Trim                     40565\n",
       "Fireplace: Direct Vent           27568\n",
       "Fireplace:  Adl Open              3536\n",
       "Elevator Stops                    2471\n",
       "Atrium                            1238\n",
       "Lower Level Rec                    188\n",
       "Fireplace:  Open (1)                68\n",
       "                                    20\n",
       "Wall Height                          6\n",
       "Bank:  Drive-Thru                    5\n",
       "Interior Finish Percent              5\n",
       "Pool:  Indoor Value                  4\n",
       "Elev:  Elect / Pass                  4\n",
       "A/C:  Central                        3\n",
       "Elev:  Elect / Frght                 2\n",
       "Fireplace:  Open (3)                 2\n",
       "OH Door:  Motor RS                   2\n",
       "Fireplace:  Open (2)                 1\n",
       "Unfinished Area                      1\n",
       "Miscellaneous                        1\n",
       "Name: type_dscr, dtype: int64"
      ]
     },
     "execution_count": 12,
     "metadata": {},
     "output_type": "execute_result"
    }
   ],
   "source": [
    "fixtures_df['type_dscr'].value_counts()"
   ]
  },
  {
   "cell_type": "markdown",
   "metadata": {},
   "source": [
    "# Select columns and build pivot table\n",
    "From the value count on the fixtures type description above we can tell that the first 10 types are prevalent in the data. Let's focus on these 10 in our evaluation."
   ]
  },
  {
   "cell_type": "code",
   "execution_count": 13,
   "metadata": {
    "ExecuteTime": {
     "end_time": "2020-07-17T22:23:30.879883Z",
     "start_time": "2020-07-17T22:23:30.401713Z"
    }
   },
   "outputs": [],
   "source": [
    "cols = fixtures_df['type_dscr'].value_counts().head(10).index"
   ]
  },
  {
   "cell_type": "code",
   "execution_count": 14,
   "metadata": {
    "ExecuteTime": {
     "end_time": "2020-07-17T22:23:35.063593Z",
     "start_time": "2020-07-17T22:23:34.663553Z"
    }
   },
   "outputs": [],
   "source": [
    "cond0 = fixtures_df['type_dscr'].isin(cols)\n",
    "fixtures_df = fixtures_df.loc[cond0, :]"
   ]
  },
  {
   "cell_type": "code",
   "execution_count": 15,
   "metadata": {
    "ExecuteTime": {
     "end_time": "2020-07-17T22:23:43.459283Z",
     "start_time": "2020-07-17T22:23:36.979334Z"
    }
   },
   "outputs": [],
   "source": [
    "fixtures_pivot = fixtures_df.pivot_table(index='acct', columns='type_dscr', values='units', fill_value=0)"
   ]
  },
  {
   "cell_type": "code",
   "execution_count": 16,
   "metadata": {
    "ExecuteTime": {
     "end_time": "2020-07-17T22:23:44.111840Z",
     "start_time": "2020-07-17T22:23:44.072127Z"
    }
   },
   "outputs": [
    {
     "data": {
      "text/html": [
       "<div>\n",
       "<style scoped>\n",
       "    .dataframe tbody tr th:only-of-type {\n",
       "        vertical-align: middle;\n",
       "    }\n",
       "\n",
       "    .dataframe tbody tr th {\n",
       "        vertical-align: top;\n",
       "    }\n",
       "\n",
       "    .dataframe thead th {\n",
       "        text-align: right;\n",
       "    }\n",
       "</style>\n",
       "<table border=\"1\" class=\"dataframe\">\n",
       "  <thead>\n",
       "    <tr style=\"text-align: right;\">\n",
       "      <th>type_dscr</th>\n",
       "      <th>Fireplace: Masonry Firebrick</th>\n",
       "      <th>Fireplace: Metal Prefab</th>\n",
       "      <th>Fixtures:  Addl</th>\n",
       "      <th>Fixtures:  Total</th>\n",
       "      <th>Room:  Bedroom</th>\n",
       "      <th>Room:  Full Bath</th>\n",
       "      <th>Room:  Half Bath</th>\n",
       "      <th>Room:  Rec</th>\n",
       "      <th>Room:  Total</th>\n",
       "      <th>Story Height Index</th>\n",
       "    </tr>\n",
       "    <tr>\n",
       "      <th>acct</th>\n",
       "      <th></th>\n",
       "      <th></th>\n",
       "      <th></th>\n",
       "      <th></th>\n",
       "      <th></th>\n",
       "      <th></th>\n",
       "      <th></th>\n",
       "      <th></th>\n",
       "      <th></th>\n",
       "      <th></th>\n",
       "    </tr>\n",
       "  </thead>\n",
       "  <tbody>\n",
       "    <tr>\n",
       "      <th>21440000001</th>\n",
       "      <td>0.0</td>\n",
       "      <td>0.0</td>\n",
       "      <td>2.0</td>\n",
       "      <td>12.0</td>\n",
       "      <td>3.0</td>\n",
       "      <td>2.0</td>\n",
       "      <td>1.0</td>\n",
       "      <td>1.0</td>\n",
       "      <td>8.0</td>\n",
       "      <td>2.0</td>\n",
       "    </tr>\n",
       "    <tr>\n",
       "      <th>21470000008</th>\n",
       "      <td>0.0</td>\n",
       "      <td>0.0</td>\n",
       "      <td>0.0</td>\n",
       "      <td>5.0</td>\n",
       "      <td>2.0</td>\n",
       "      <td>1.0</td>\n",
       "      <td>0.0</td>\n",
       "      <td>0.0</td>\n",
       "      <td>4.0</td>\n",
       "      <td>1.0</td>\n",
       "    </tr>\n",
       "    <tr>\n",
       "      <th>21480000002</th>\n",
       "      <td>0.0</td>\n",
       "      <td>0.0</td>\n",
       "      <td>0.0</td>\n",
       "      <td>5.0</td>\n",
       "      <td>3.0</td>\n",
       "      <td>1.0</td>\n",
       "      <td>0.0</td>\n",
       "      <td>0.0</td>\n",
       "      <td>6.0</td>\n",
       "      <td>1.0</td>\n",
       "    </tr>\n",
       "    <tr>\n",
       "      <th>21650000007</th>\n",
       "      <td>0.0</td>\n",
       "      <td>0.0</td>\n",
       "      <td>3.0</td>\n",
       "      <td>16.0</td>\n",
       "      <td>3.0</td>\n",
       "      <td>3.0</td>\n",
       "      <td>1.0</td>\n",
       "      <td>0.0</td>\n",
       "      <td>6.0</td>\n",
       "      <td>2.0</td>\n",
       "    </tr>\n",
       "    <tr>\n",
       "      <th>21650000011</th>\n",
       "      <td>0.0</td>\n",
       "      <td>1.0</td>\n",
       "      <td>0.0</td>\n",
       "      <td>8.0</td>\n",
       "      <td>3.0</td>\n",
       "      <td>2.0</td>\n",
       "      <td>0.0</td>\n",
       "      <td>0.0</td>\n",
       "      <td>5.0</td>\n",
       "      <td>1.0</td>\n",
       "    </tr>\n",
       "  </tbody>\n",
       "</table>\n",
       "</div>"
      ],
      "text/plain": [
       "type_dscr    Fireplace: Masonry Firebrick  Fireplace: Metal Prefab  \\\n",
       "acct                                                                 \n",
       "21440000001                           0.0                      0.0   \n",
       "21470000008                           0.0                      0.0   \n",
       "21480000002                           0.0                      0.0   \n",
       "21650000007                           0.0                      0.0   \n",
       "21650000011                           0.0                      1.0   \n",
       "\n",
       "type_dscr    Fixtures:  Addl  Fixtures:  Total  Room:  Bedroom  \\\n",
       "acct                                                             \n",
       "21440000001              2.0              12.0             3.0   \n",
       "21470000008              0.0               5.0             2.0   \n",
       "21480000002              0.0               5.0             3.0   \n",
       "21650000007              3.0              16.0             3.0   \n",
       "21650000011              0.0               8.0             3.0   \n",
       "\n",
       "type_dscr    Room:  Full Bath  Room:  Half Bath  Room:  Rec  Room:  Total  \\\n",
       "acct                                                                        \n",
       "21440000001               2.0               1.0         1.0           8.0   \n",
       "21470000008               1.0               0.0         0.0           4.0   \n",
       "21480000002               1.0               0.0         0.0           6.0   \n",
       "21650000007               3.0               1.0         0.0           6.0   \n",
       "21650000011               2.0               0.0         0.0           5.0   \n",
       "\n",
       "type_dscr    Story Height Index  \n",
       "acct                             \n",
       "21440000001                 2.0  \n",
       "21470000008                 1.0  \n",
       "21480000002                 1.0  \n",
       "21650000007                 2.0  \n",
       "21650000011                 1.0  "
      ]
     },
     "execution_count": 16,
     "metadata": {},
     "output_type": "execute_result"
    }
   ],
   "source": [
    "fixtures_pivot.head()"
   ]
  },
  {
   "cell_type": "markdown",
   "metadata": {},
   "source": [
    "# Export fixtures_pivot"
   ]
  },
  {
   "cell_type": "code",
   "execution_count": 17,
   "metadata": {
    "ExecuteTime": {
     "end_time": "2020-07-17T22:27:08.858788Z",
     "start_time": "2020-07-17T22:27:08.762596Z"
    }
   },
   "outputs": [],
   "source": [
    "save_fn = ROOT_DIR / 'data/raw/2016/fixtures_comps.pickle'\n",
    "save_pickle(fixtures_pivot, save_fn)"
   ]
  }
 ],
 "metadata": {
  "kernelspec": {
   "display_name": "hcad_pred",
   "language": "python",
   "name": "hcad_pred"
  },
  "language_info": {
   "codemirror_mode": {
    "name": "ipython",
    "version": 3
   },
   "file_extension": ".py",
   "mimetype": "text/x-python",
   "name": "python",
   "nbconvert_exporter": "python",
   "pygments_lexer": "ipython3",
   "version": "3.7.6"
  },
  "toc": {
   "base_numbering": 1,
   "nav_menu": {},
   "number_sections": true,
   "sideBar": true,
   "skip_h1_title": false,
   "title_cell": "Table of Contents",
   "title_sidebar": "Contents",
   "toc_cell": false,
   "toc_position": {},
   "toc_section_display": true,
   "toc_window_display": false
  }
 },
 "nbformat": 4,
 "nbformat_minor": 4
}
