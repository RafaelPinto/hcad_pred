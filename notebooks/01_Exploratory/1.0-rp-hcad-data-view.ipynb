{
 "cells": [
  {
   "cell_type": "markdown",
   "metadata": {},
   "source": [
    "# Harris County Appraisal District (HCAD) real and personal property data\n",
    "The Harris County is the [thrid most populous](https://en.wikipedia.org/wiki/List_of_the_most_populous_counties_in_the_United_States) county in the USA. Its appraisal district (HCAD) provides a fantastic dataset with each appraised property characteristics (appraised value, fixtures, features...) on a yearly basis. In this notebook we explore these data for the year 2016, to understand what is available, and to select variables that can help us answer if a given property was appraised fairly.\n",
    "\n",
    "[HCAD data](https://pdata.hcad.org/download/2016.html) consists of several text files, grouped in zipped files as follows:\n",
    "\n",
    "1. Real_acct_owner.zip\n",
    "    * **Real_acct.txt**: account including owner name, owner mailing address, $\\color{red}{values}$, $\\color{red}{site~address}$, and legal descriptions.\n",
    "    * **Real_neighborhood_code.txt**:  $\\color{red}{neighborhood~code}$, group code and description\n",
    "    * **Parcel_tiebacks.txt**\n",
    "    * **Permits.txt**: an account including permit type, permit description, and status.\n",
    "    * **Owners.txt**: multiple owners.\n",
    "    * **Deeds.txt**: deed information.\n",
    "\n",
    "2. Real_building_land.zip\n",
    "    * **Building_res.txt**: $\\color{red}{all~residential~information}$\n",
    "    * **Building_other.txt**: all other real properties, such as commercial and information for income producing properties including occupancy rates and operating income.\n",
    "    * **Exterior.txt**: $\\color{red}{general~data~about~buildings~and~sub~areas,~(style~or~use,~size,~year~built).}$\n",
    "    * **Fixture.txt**: $\\color{red}{characteristics~of~the~building}$. This includes bedrooms, fireplace, bathrooms, stories for residential. Also contains wall height, elevators, and other descriptions for commercial property.\n",
    "    * **Extra_features.txt**: extra features for an account. This includes wood deck, $\\color{red}{pool}$, storage shed, detached garage, etc. This also contains information on cracked slabs and pools.\n",
    "    * **Structural_elem1.txt**: $\\color{red}{Single~Family}$, Multi Family, Condos, Town homes. $\\color{red}{Home~Information}$ (CDU, Grade Adjustment, Physical Condition).\n",
    "    * **Structural_elem2.txt**: Commercial and exempt Properties. These files contain structural elements of a property. This includes information like $\\color{red}{physical~condition,~grade,~exterior~wall,~and~foundation~type}$.\n",
    "    * **Land.txt**: land use, acreage, and land units.\n",
    "    * **Land_ag.txt**: agricultural and timber land information including land use, acreage, and land units.\n",
    "\n",
    "3. Real_jur_exempt.zip\n",
    "    * **Jur_exempt.txt**: Lists the jurisdictions and exemptions associated with an account and the tax rates.\n",
    "    * **Jur_exemption_cd**: Lists the exemption code associated with an account.\n",
    "    * **Jur_exemption_dscr**: Lists the jurisdictions and their exemption description.\n",
    "    * **Jur_tax_district_exempt_value.txt**: Lists the jurisdictions and their exemption values.\n",
    "    * **Jur_tax_district_percent_rate**: Lists the Taxing district percent rates.\n",
    "    * **Jur_value.txt**: Lists the jurisdictions and values associated with an account.\n",
    "\n",
    "4. PP_files.zip\n",
    "    * **T_business_acct.txt**:  account, including owner name, owner mailing address, values, site address, and legal descriptions, all values and etc.\n",
    "    * **T_business_detail.txt**: account, items, description and item values.\n",
    "    * **T_jur_exempt.txt**: Lists the jurisdictions and exemptions associated with an account and the tax rates.\n",
    "    * **T_jur_value.txt**: Lists the jurisdictions and values associated with an account.\n",
    "    * **T_jur_tax_district_exempt_value.txt**: Lists the jurisdictions and their exemption values.\n",
    "    * **T_jur_tax_district_percent_rate**: Lists the Taxing district percent rates.\n",
    "    * **T_pp_c.txt**: c Pipelines data.\n",
    "    * **T_pp_e.txt**: e Minerals data.\n",
    "    * **T_pp_l.txt**: l Electrical Transmission / Distribution Lines data.\n",
    "\n",
    "5. Hearing_files.zip\n",
    "    * **ARB_hearings_pp.txt**: account, state code, owner, date of hearing, release date, conclusion code, initial and final values and etc.\n",
    "    * **ARB_hearings_real.txt**: account, state code, owner, date of hearing, release date, conclusion code, initial and final values and etc.\n",
    "    * **ARB_protest_pp.txt**: account, protest by, date of protest.\n",
    "    * **ARB_protest_real.txt**: account, protest by, date of protest.\n",
    "\n",
    "In addition, the following files are also available for deciphering codes in some of the variables:\n",
    "\n",
    "1. code_desc_real.txt\n",
    "2. code_nh_numbers.txt\n",
    "3. code_nh_numbers_adj.txt\n",
    "4. code_desc_personal.txt\n",
    "5. code_jur_list.txt\n",
    "\n",
    "The first step is then to identify the variables that will influence the appraised value (highlighted in red above). Next, we would like to filter the data to only contain comparables, in this case free standing (a house) single-family properties."
   ]
  },
  {
   "cell_type": "markdown",
   "metadata": {},
   "source": [
    "# Find the comparables\n",
    "\n",
    "The file `building_res.txt` contains the some of the properties description, including the HCAD account number (column acct) they are associated to. Let's find the account numbers for the free standing single family properties."
   ]
  },
  {
   "cell_type": "code",
   "execution_count": 1,
   "metadata": {
    "ExecuteTime": {
     "end_time": "2020-07-17T15:42:22.468734Z",
     "start_time": "2020-07-17T15:42:22.448409Z"
    }
   },
   "outputs": [],
   "source": [
    "%load_ext autoreload\n",
    "%autoreload 2"
   ]
  },
  {
   "cell_type": "code",
   "execution_count": 2,
   "metadata": {
    "ExecuteTime": {
     "end_time": "2020-07-17T15:42:22.944671Z",
     "start_time": "2020-07-17T15:42:22.471238Z"
    }
   },
   "outputs": [],
   "source": [
    "from pathlib import Path\n",
    "\n",
    "import pandas as pd\n",
    "\n",
    "from src.definitions import ROOT_DIR\n",
    "from src.data.utils import Table"
   ]
  },
  {
   "cell_type": "code",
   "execution_count": 3,
   "metadata": {
    "ExecuteTime": {
     "end_time": "2020-07-17T15:42:22.963651Z",
     "start_time": "2020-07-17T15:42:22.947464Z"
    }
   },
   "outputs": [],
   "source": [
    "building_res_fn = ROOT_DIR / 'data/external/2016/Real_building_land/building_res.txt'\n",
    "assert building_res_fn.exists()"
   ]
  },
  {
   "cell_type": "markdown",
   "metadata": {},
   "source": [
    "The column names of the HCAD files are stored in the file `Layout_and_Length.txt`. The `src.data.utils.Table` class has methods to read the file column names, and read the data file as a pandas DataFrame."
   ]
  },
  {
   "cell_type": "code",
   "execution_count": 4,
   "metadata": {
    "ExecuteTime": {
     "end_time": "2020-07-17T15:42:22.980722Z",
     "start_time": "2020-07-17T15:42:22.967958Z"
    }
   },
   "outputs": [],
   "source": [
    "building_res = Table(building_res_fn, '2016')"
   ]
  },
  {
   "cell_type": "code",
   "execution_count": 5,
   "metadata": {
    "ExecuteTime": {
     "end_time": "2020-07-17T15:42:23.012675Z",
     "start_time": "2020-07-17T15:42:22.982247Z"
    }
   },
   "outputs": [
    {
     "data": {
      "text/plain": [
       "['acct',\n",
       " 'property_use_cd',\n",
       " 'bld_num',\n",
       " 'impr_tp',\n",
       " 'impr_mdl_cd',\n",
       " 'structure',\n",
       " 'structure_dscr',\n",
       " 'dpr_val',\n",
       " 'cama_replacement_cost',\n",
       " 'accrued_depr_pct',\n",
       " 'qa_cd',\n",
       " 'dscr',\n",
       " 'date_erected',\n",
       " 'eff',\n",
       " 'yr_remodel',\n",
       " 'yr_roll',\n",
       " 'appr_by',\n",
       " 'appr_dt',\n",
       " 'notes',\n",
       " 'im_sq_ft',\n",
       " 'act_ar',\n",
       " 'heat_ar',\n",
       " 'gross_ar',\n",
       " 'eff_ar',\n",
       " 'base_ar',\n",
       " 'perimeter',\n",
       " 'pct',\n",
       " 'bld_adj',\n",
       " 'rcnld',\n",
       " 'size_index',\n",
       " 'lump_sum_adj']"
      ]
     },
     "execution_count": 5,
     "metadata": {},
     "output_type": "execute_result"
    }
   ],
   "source": [
    "building_res.get_header()"
   ]
  },
  {
   "cell_type": "code",
   "execution_count": 6,
   "metadata": {
    "ExecuteTime": {
     "end_time": "2020-07-17T15:42:28.541716Z",
     "start_time": "2020-07-17T15:42:23.014532Z"
    }
   },
   "outputs": [],
   "source": [
    "building_res_df = building_res.get_df()"
   ]
  },
  {
   "cell_type": "code",
   "execution_count": 7,
   "metadata": {
    "ExecuteTime": {
     "end_time": "2020-07-17T15:42:28.603478Z",
     "start_time": "2020-07-17T15:42:28.543689Z"
    }
   },
   "outputs": [
    {
     "data": {
      "text/html": [
       "<div>\n",
       "<style scoped>\n",
       "    .dataframe tbody tr th:only-of-type {\n",
       "        vertical-align: middle;\n",
       "    }\n",
       "\n",
       "    .dataframe tbody tr th {\n",
       "        vertical-align: top;\n",
       "    }\n",
       "\n",
       "    .dataframe thead th {\n",
       "        text-align: right;\n",
       "    }\n",
       "</style>\n",
       "<table border=\"1\" class=\"dataframe\">\n",
       "  <thead>\n",
       "    <tr style=\"text-align: right;\">\n",
       "      <th></th>\n",
       "      <th>acct</th>\n",
       "      <th>property_use_cd</th>\n",
       "      <th>bld_num</th>\n",
       "      <th>impr_tp</th>\n",
       "      <th>impr_mdl_cd</th>\n",
       "      <th>structure</th>\n",
       "      <th>structure_dscr</th>\n",
       "      <th>dpr_val</th>\n",
       "      <th>cama_replacement_cost</th>\n",
       "      <th>accrued_depr_pct</th>\n",
       "      <th>...</th>\n",
       "      <th>heat_ar</th>\n",
       "      <th>gross_ar</th>\n",
       "      <th>eff_ar</th>\n",
       "      <th>base_ar</th>\n",
       "      <th>perimeter</th>\n",
       "      <th>pct</th>\n",
       "      <th>bld_adj</th>\n",
       "      <th>rcnld</th>\n",
       "      <th>size_index</th>\n",
       "      <th>lump_sum_adj</th>\n",
       "    </tr>\n",
       "  </thead>\n",
       "  <tbody>\n",
       "    <tr>\n",
       "      <th>0</th>\n",
       "      <td>21660000012</td>\n",
       "      <td>A1</td>\n",
       "      <td>1</td>\n",
       "      <td>1001</td>\n",
       "      <td>101</td>\n",
       "      <td>R</td>\n",
       "      <td>Residential</td>\n",
       "      <td>256712</td>\n",
       "      <td>259305</td>\n",
       "      <td>0.99</td>\n",
       "      <td>...</td>\n",
       "      <td>2328</td>\n",
       "      <td>2328</td>\n",
       "      <td>2212</td>\n",
       "      <td>2328</td>\n",
       "      <td>300</td>\n",
       "      <td>1.0</td>\n",
       "      <td>1.50</td>\n",
       "      <td>171141.33</td>\n",
       "      <td>0.83</td>\n",
       "      <td>22599</td>\n",
       "    </tr>\n",
       "    <tr>\n",
       "      <th>1</th>\n",
       "      <td>21700000013</td>\n",
       "      <td>A1</td>\n",
       "      <td>1</td>\n",
       "      <td>1001</td>\n",
       "      <td>101</td>\n",
       "      <td>R</td>\n",
       "      <td>Residential</td>\n",
       "      <td>55492</td>\n",
       "      <td>135347</td>\n",
       "      <td>0.41</td>\n",
       "      <td>...</td>\n",
       "      <td>1434</td>\n",
       "      <td>1622</td>\n",
       "      <td>1453</td>\n",
       "      <td>1434</td>\n",
       "      <td>170</td>\n",
       "      <td>1.0</td>\n",
       "      <td>1.50</td>\n",
       "      <td>36994.67</td>\n",
       "      <td>0.92</td>\n",
       "      <td>6669</td>\n",
       "    </tr>\n",
       "    <tr>\n",
       "      <th>2</th>\n",
       "      <td>21870000006</td>\n",
       "      <td>A1</td>\n",
       "      <td>1</td>\n",
       "      <td>1001</td>\n",
       "      <td>101</td>\n",
       "      <td>R</td>\n",
       "      <td>Residential</td>\n",
       "      <td>10461</td>\n",
       "      <td>47552</td>\n",
       "      <td>0.22</td>\n",
       "      <td>...</td>\n",
       "      <td>572</td>\n",
       "      <td>652</td>\n",
       "      <td>598</td>\n",
       "      <td>572</td>\n",
       "      <td>96</td>\n",
       "      <td>1.0</td>\n",
       "      <td>1.84</td>\n",
       "      <td>5685.33</td>\n",
       "      <td>1.11</td>\n",
       "      <td>2887</td>\n",
       "    </tr>\n",
       "    <tr>\n",
       "      <th>3</th>\n",
       "      <td>21960000001</td>\n",
       "      <td>A1</td>\n",
       "      <td>2</td>\n",
       "      <td>1001</td>\n",
       "      <td>101</td>\n",
       "      <td>R</td>\n",
       "      <td>Residential</td>\n",
       "      <td>136211</td>\n",
       "      <td>272422</td>\n",
       "      <td>0.50</td>\n",
       "      <td>...</td>\n",
       "      <td>4304</td>\n",
       "      <td>4984</td>\n",
       "      <td>4253</td>\n",
       "      <td>4304</td>\n",
       "      <td>444</td>\n",
       "      <td>1.0</td>\n",
       "      <td>1.84</td>\n",
       "      <td>74027.72</td>\n",
       "      <td>0.73</td>\n",
       "      <td>7715</td>\n",
       "    </tr>\n",
       "    <tr>\n",
       "      <th>4</th>\n",
       "      <td>22080000004</td>\n",
       "      <td>A1</td>\n",
       "      <td>2</td>\n",
       "      <td>1001</td>\n",
       "      <td>101</td>\n",
       "      <td>R</td>\n",
       "      <td>Residential</td>\n",
       "      <td>15308</td>\n",
       "      <td>56696</td>\n",
       "      <td>0.27</td>\n",
       "      <td>...</td>\n",
       "      <td>528</td>\n",
       "      <td>576</td>\n",
       "      <td>544</td>\n",
       "      <td>528</td>\n",
       "      <td>96</td>\n",
       "      <td>1.0</td>\n",
       "      <td>1.84</td>\n",
       "      <td>8319.57</td>\n",
       "      <td>1.11</td>\n",
       "      <td>3754</td>\n",
       "    </tr>\n",
       "  </tbody>\n",
       "</table>\n",
       "<p>5 rows × 31 columns</p>\n",
       "</div>"
      ],
      "text/plain": [
       "          acct property_use_cd  bld_num  impr_tp  impr_mdl_cd structure  \\\n",
       "0  21660000012              A1        1     1001          101       R     \n",
       "1  21700000013              A1        1     1001          101       R     \n",
       "2  21870000006              A1        1     1001          101       R     \n",
       "3  21960000001              A1        2     1001          101       R     \n",
       "4  22080000004              A1        2     1001          101       R     \n",
       "\n",
       "  structure_dscr dpr_val cama_replacement_cost  accrued_depr_pct  ... heat_ar  \\\n",
       "0    Residential  256712                259305              0.99  ...    2328   \n",
       "1    Residential   55492                135347              0.41  ...    1434   \n",
       "2    Residential   10461                 47552              0.22  ...     572   \n",
       "3    Residential  136211                272422              0.50  ...    4304   \n",
       "4    Residential   15308                 56696              0.27  ...     528   \n",
       "\n",
       "  gross_ar  eff_ar  base_ar  perimeter  pct bld_adj      rcnld size_index  \\\n",
       "0     2328    2212     2328        300  1.0    1.50  171141.33       0.83   \n",
       "1     1622    1453     1434        170  1.0    1.50   36994.67       0.92   \n",
       "2      652     598      572         96  1.0    1.84    5685.33       1.11   \n",
       "3     4984    4253     4304        444  1.0    1.84   74027.72       0.73   \n",
       "4      576     544      528         96  1.0    1.84    8319.57       1.11   \n",
       "\n",
       "   lump_sum_adj  \n",
       "0         22599  \n",
       "1          6669  \n",
       "2          2887  \n",
       "3          7715  \n",
       "4          3754  \n",
       "\n",
       "[5 rows x 31 columns]"
      ]
     },
     "execution_count": 7,
     "metadata": {},
     "output_type": "execute_result"
    }
   ],
   "source": [
    "building_res_df.head()"
   ]
  },
  {
   "cell_type": "markdown",
   "metadata": {},
   "source": [
    "We would like to decode the values in columns: property_use_cd, bld_num, and impr_tp. For this we need the tables stored in the file `code_desc_ral`, so we can use the `get_codes` method and pass it return to the `map_codes_to_column` method of the Table object."
   ]
  },
  {
   "cell_type": "code",
   "execution_count": 8,
   "metadata": {
    "ExecuteTime": {
     "end_time": "2020-07-17T15:42:28.628067Z",
     "start_time": "2020-07-17T15:42:28.607198Z"
    }
   },
   "outputs": [],
   "source": [
    "codes_fn = ROOT_DIR / 'data/external/2016/code_desc_real'\n",
    "assert codes_fn.exists()"
   ]
  },
  {
   "cell_type": "markdown",
   "metadata": {},
   "source": [
    "Most column codes are reported in pairs (value, description), but the `property_use_cd` codes are reported as triplet (code, 2nd Cd, description). For this reason we must pass the `split_part=2` argument to the get_code method."
   ]
  },
  {
   "cell_type": "code",
   "execution_count": 9,
   "metadata": {
    "ExecuteTime": {
     "end_time": "2020-07-17T15:42:28.659096Z",
     "start_time": "2020-07-17T15:42:28.630548Z"
    }
   },
   "outputs": [],
   "source": [
    "building_state_class_code = building_res.get_code(codes_fn, 'State Class', split_parts=2)"
   ]
  },
  {
   "cell_type": "code",
   "execution_count": 10,
   "metadata": {
    "ExecuteTime": {
     "end_time": "2020-07-17T15:42:28.675653Z",
     "start_time": "2020-07-17T15:42:28.660610Z"
    }
   },
   "outputs": [],
   "source": [
    "building_type_code = building_res.get_code(codes_fn, 'Building Type Code')"
   ]
  },
  {
   "cell_type": "code",
   "execution_count": 11,
   "metadata": {
    "ExecuteTime": {
     "end_time": "2020-07-17T15:42:28.700197Z",
     "start_time": "2020-07-17T15:42:28.677223Z"
    }
   },
   "outputs": [],
   "source": [
    "building_style_code = building_res.get_code(codes_fn, 'Building Style')"
   ]
  },
  {
   "cell_type": "code",
   "execution_count": 12,
   "metadata": {
    "ExecuteTime": {
     "end_time": "2020-07-17T15:42:30.950424Z",
     "start_time": "2020-07-17T15:42:28.702892Z"
    }
   },
   "outputs": [],
   "source": [
    "building_res_df = building_res.map_codes_to_column('property_use_cd', building_state_class_code)\n",
    "building_res_df = building_res.map_codes_to_column('impr_tp', building_type_code)\n",
    "building_res_df = building_res.map_codes_to_column('impr_mdl_cd', building_style_code)"
   ]
  },
  {
   "cell_type": "code",
   "execution_count": 13,
   "metadata": {
    "ExecuteTime": {
     "end_time": "2020-07-17T15:42:30.986605Z",
     "start_time": "2020-07-17T15:42:30.952272Z"
    }
   },
   "outputs": [
    {
     "data": {
      "text/html": [
       "<div>\n",
       "<style scoped>\n",
       "    .dataframe tbody tr th:only-of-type {\n",
       "        vertical-align: middle;\n",
       "    }\n",
       "\n",
       "    .dataframe tbody tr th {\n",
       "        vertical-align: top;\n",
       "    }\n",
       "\n",
       "    .dataframe thead th {\n",
       "        text-align: right;\n",
       "    }\n",
       "</style>\n",
       "<table border=\"1\" class=\"dataframe\">\n",
       "  <thead>\n",
       "    <tr style=\"text-align: right;\">\n",
       "      <th></th>\n",
       "      <th>acct</th>\n",
       "      <th>property_use_cd</th>\n",
       "      <th>bld_num</th>\n",
       "      <th>impr_tp</th>\n",
       "      <th>impr_mdl_cd</th>\n",
       "      <th>structure</th>\n",
       "      <th>structure_dscr</th>\n",
       "      <th>dpr_val</th>\n",
       "      <th>cama_replacement_cost</th>\n",
       "      <th>accrued_depr_pct</th>\n",
       "      <th>...</th>\n",
       "      <th>heat_ar</th>\n",
       "      <th>gross_ar</th>\n",
       "      <th>eff_ar</th>\n",
       "      <th>base_ar</th>\n",
       "      <th>perimeter</th>\n",
       "      <th>pct</th>\n",
       "      <th>bld_adj</th>\n",
       "      <th>rcnld</th>\n",
       "      <th>size_index</th>\n",
       "      <th>lump_sum_adj</th>\n",
       "    </tr>\n",
       "  </thead>\n",
       "  <tbody>\n",
       "    <tr>\n",
       "      <th>0</th>\n",
       "      <td>21660000012</td>\n",
       "      <td>Real, Residential, Single-Family</td>\n",
       "      <td>1</td>\n",
       "      <td>Residential Single Family</td>\n",
       "      <td>Residential 1 Family</td>\n",
       "      <td>R</td>\n",
       "      <td>Residential</td>\n",
       "      <td>256712</td>\n",
       "      <td>259305</td>\n",
       "      <td>0.99</td>\n",
       "      <td>...</td>\n",
       "      <td>2328</td>\n",
       "      <td>2328</td>\n",
       "      <td>2212</td>\n",
       "      <td>2328</td>\n",
       "      <td>300</td>\n",
       "      <td>1.0</td>\n",
       "      <td>1.50</td>\n",
       "      <td>171141.33</td>\n",
       "      <td>0.83</td>\n",
       "      <td>22599</td>\n",
       "    </tr>\n",
       "    <tr>\n",
       "      <th>1</th>\n",
       "      <td>21700000013</td>\n",
       "      <td>Real, Residential, Single-Family</td>\n",
       "      <td>1</td>\n",
       "      <td>Residential Single Family</td>\n",
       "      <td>Residential 1 Family</td>\n",
       "      <td>R</td>\n",
       "      <td>Residential</td>\n",
       "      <td>55492</td>\n",
       "      <td>135347</td>\n",
       "      <td>0.41</td>\n",
       "      <td>...</td>\n",
       "      <td>1434</td>\n",
       "      <td>1622</td>\n",
       "      <td>1453</td>\n",
       "      <td>1434</td>\n",
       "      <td>170</td>\n",
       "      <td>1.0</td>\n",
       "      <td>1.50</td>\n",
       "      <td>36994.67</td>\n",
       "      <td>0.92</td>\n",
       "      <td>6669</td>\n",
       "    </tr>\n",
       "    <tr>\n",
       "      <th>2</th>\n",
       "      <td>21870000006</td>\n",
       "      <td>Real, Residential, Single-Family</td>\n",
       "      <td>1</td>\n",
       "      <td>Residential Single Family</td>\n",
       "      <td>Residential 1 Family</td>\n",
       "      <td>R</td>\n",
       "      <td>Residential</td>\n",
       "      <td>10461</td>\n",
       "      <td>47552</td>\n",
       "      <td>0.22</td>\n",
       "      <td>...</td>\n",
       "      <td>572</td>\n",
       "      <td>652</td>\n",
       "      <td>598</td>\n",
       "      <td>572</td>\n",
       "      <td>96</td>\n",
       "      <td>1.0</td>\n",
       "      <td>1.84</td>\n",
       "      <td>5685.33</td>\n",
       "      <td>1.11</td>\n",
       "      <td>2887</td>\n",
       "    </tr>\n",
       "    <tr>\n",
       "      <th>3</th>\n",
       "      <td>21960000001</td>\n",
       "      <td>Real, Residential, Single-Family</td>\n",
       "      <td>2</td>\n",
       "      <td>Residential Single Family</td>\n",
       "      <td>Residential 1 Family</td>\n",
       "      <td>R</td>\n",
       "      <td>Residential</td>\n",
       "      <td>136211</td>\n",
       "      <td>272422</td>\n",
       "      <td>0.50</td>\n",
       "      <td>...</td>\n",
       "      <td>4304</td>\n",
       "      <td>4984</td>\n",
       "      <td>4253</td>\n",
       "      <td>4304</td>\n",
       "      <td>444</td>\n",
       "      <td>1.0</td>\n",
       "      <td>1.84</td>\n",
       "      <td>74027.72</td>\n",
       "      <td>0.73</td>\n",
       "      <td>7715</td>\n",
       "    </tr>\n",
       "    <tr>\n",
       "      <th>4</th>\n",
       "      <td>22080000004</td>\n",
       "      <td>Real, Residential, Single-Family</td>\n",
       "      <td>2</td>\n",
       "      <td>Residential Single Family</td>\n",
       "      <td>Residential 1 Family</td>\n",
       "      <td>R</td>\n",
       "      <td>Residential</td>\n",
       "      <td>15308</td>\n",
       "      <td>56696</td>\n",
       "      <td>0.27</td>\n",
       "      <td>...</td>\n",
       "      <td>528</td>\n",
       "      <td>576</td>\n",
       "      <td>544</td>\n",
       "      <td>528</td>\n",
       "      <td>96</td>\n",
       "      <td>1.0</td>\n",
       "      <td>1.84</td>\n",
       "      <td>8319.57</td>\n",
       "      <td>1.11</td>\n",
       "      <td>3754</td>\n",
       "    </tr>\n",
       "  </tbody>\n",
       "</table>\n",
       "<p>5 rows × 31 columns</p>\n",
       "</div>"
      ],
      "text/plain": [
       "          acct                   property_use_cd  bld_num  \\\n",
       "0  21660000012  Real, Residential, Single-Family        1   \n",
       "1  21700000013  Real, Residential, Single-Family        1   \n",
       "2  21870000006  Real, Residential, Single-Family        1   \n",
       "3  21960000001  Real, Residential, Single-Family        2   \n",
       "4  22080000004  Real, Residential, Single-Family        2   \n",
       "\n",
       "                     impr_tp           impr_mdl_cd structure structure_dscr  \\\n",
       "0  Residential Single Family  Residential 1 Family       R      Residential   \n",
       "1  Residential Single Family  Residential 1 Family       R      Residential   \n",
       "2  Residential Single Family  Residential 1 Family       R      Residential   \n",
       "3  Residential Single Family  Residential 1 Family       R      Residential   \n",
       "4  Residential Single Family  Residential 1 Family       R      Residential   \n",
       "\n",
       "  dpr_val cama_replacement_cost  accrued_depr_pct  ... heat_ar gross_ar  \\\n",
       "0  256712                259305              0.99  ...    2328     2328   \n",
       "1   55492                135347              0.41  ...    1434     1622   \n",
       "2   10461                 47552              0.22  ...     572      652   \n",
       "3  136211                272422              0.50  ...    4304     4984   \n",
       "4   15308                 56696              0.27  ...     528      576   \n",
       "\n",
       "   eff_ar  base_ar  perimeter  pct bld_adj      rcnld size_index  lump_sum_adj  \n",
       "0    2212     2328        300  1.0    1.50  171141.33       0.83         22599  \n",
       "1    1453     1434        170  1.0    1.50   36994.67       0.92          6669  \n",
       "2     598      572         96  1.0    1.84    5685.33       1.11          2887  \n",
       "3    4253     4304        444  1.0    1.84   74027.72       0.73          7715  \n",
       "4     544      528         96  1.0    1.84    8319.57       1.11          3754  \n",
       "\n",
       "[5 rows x 31 columns]"
      ]
     },
     "execution_count": 13,
     "metadata": {},
     "output_type": "execute_result"
    }
   ],
   "source": [
    "building_res_df.head()"
   ]
  },
  {
   "cell_type": "markdown",
   "metadata": {},
   "source": [
    "Let's look at the value distribution for the property type columns."
   ]
  },
  {
   "cell_type": "code",
   "execution_count": 14,
   "metadata": {
    "ExecuteTime": {
     "end_time": "2020-07-17T15:42:31.100945Z",
     "start_time": "2020-07-17T15:42:30.988287Z"
    }
   },
   "outputs": [
    {
     "data": {
      "text/plain": [
       "Real, Residential, Single-Family    1028348\n",
       "Personal Prop. Mobile Home            26938\n",
       "Condo - Apartment Style               26927\n",
       "Condo - Townhouse (2+ stories)        14454\n",
       "Real, Residential, Mobile Homes       12130\n",
       "Condo - Apartment Conversion          11967\n",
       "Condo - High Rise                      9881\n",
       "Real, Residential, Two-Family          9062\n",
       "Inventory Improved                     4140\n",
       "Real, Residential, 1/2 Duplex          2632\n",
       "Name: property_use_cd, dtype: int64"
      ]
     },
     "execution_count": 14,
     "metadata": {},
     "output_type": "execute_result"
    }
   ],
   "source": [
    "building_res_df['property_use_cd'].value_counts().head(10)"
   ]
  },
  {
   "cell_type": "code",
   "execution_count": 15,
   "metadata": {
    "ExecuteTime": {
     "end_time": "2020-07-17T15:42:31.275666Z",
     "start_time": "2020-07-17T15:42:31.103372Z"
    }
   },
   "outputs": [
    {
     "data": {
      "text/plain": [
       "Residential Single Family         1011477\n",
       "Residential Condo                   63592\n",
       "Residential Mobile Homes            41266\n",
       "Residential Townhome                22083\n",
       "Residential Duplex                   9809\n",
       "Mixed Residential / Commercial       1812\n",
       "Residential Triplex                   641\n",
       "Farm Single Family Dwelling           488\n",
       "Residential Fourplex                  138\n",
       "Recreational/Health                    10\n",
       "Name: impr_tp, dtype: int64"
      ]
     },
     "execution_count": 15,
     "metadata": {},
     "output_type": "execute_result"
    }
   ],
   "source": [
    "building_res_df['impr_tp'].value_counts().head(10)"
   ]
  },
  {
   "cell_type": "code",
   "execution_count": 16,
   "metadata": {
    "ExecuteTime": {
     "end_time": "2020-07-17T15:42:31.401775Z",
     "start_time": "2020-07-17T15:42:31.279091Z"
    }
   },
   "outputs": [
    {
     "data": {
      "text/plain": [
       "Residential 1 Family                   1011641\n",
       "Condominium (Common Element)             63592\n",
       "Single Wide Residential Mobile Home      33280\n",
       "Townhome (with Common Element)           21958\n",
       "Residential 2 Family                      9806\n",
       "Double Wide Residential Mobile Home       7987\n",
       "Mixed Res/Com, Res Structure              1808\n",
       "Residential 3 Family                       620\n",
       "Farm with Dwelling                         484\n",
       "Residential 4 Family or More               129\n",
       "Name: impr_mdl_cd, dtype: int64"
      ]
     },
     "execution_count": 16,
     "metadata": {},
     "output_type": "execute_result"
    }
   ],
   "source": [
    "building_res_df['impr_mdl_cd'].value_counts().head(10)"
   ]
  },
  {
   "cell_type": "code",
   "execution_count": 17,
   "metadata": {
    "ExecuteTime": {
     "end_time": "2020-07-17T15:42:38.768379Z",
     "start_time": "2020-07-17T15:42:38.629016Z"
    }
   },
   "outputs": [
    {
     "data": {
      "text/plain": [
       "Residential            1109970\n",
       "Mobile Home              41267\n",
       "Reinforced Concrete         36\n",
       "Masonry Bearing             33\n",
       "Wood or Light Steel         25\n",
       "Open Steel Skeleton         13\n",
       "Fireproofed Steel            2\n",
       "Undefined                    1\n",
       "Name: structure_dscr, dtype: int64"
      ]
     },
     "execution_count": 17,
     "metadata": {},
     "output_type": "execute_result"
    }
   ],
   "source": [
    "building_res_df['structure_dscr'].value_counts().head(10)"
   ]
  },
  {
   "cell_type": "markdown",
   "metadata": {},
   "source": [
    "Since we are interested in the free-standing single-family home, let's filter `building_res_df` to account only for these properties."
   ]
  },
  {
   "cell_type": "code",
   "execution_count": 21,
   "metadata": {
    "ExecuteTime": {
     "end_time": "2020-07-17T15:43:15.937935Z",
     "start_time": "2020-07-17T15:43:15.660172Z"
    }
   },
   "outputs": [],
   "source": [
    "cond0 = building_res_df['property_use_cd'] == 'Real, Residential, Single-Family'\n",
    "cond1 = building_res_df['impr_mdl_cd'] == 'Residential 1 Family'\n",
    "cond2 = building_res_df['impr_tp'] == 'Residential Single Family'\n",
    "cond3 = building_res_df['structure_dscr'] == 'Residential'"
   ]
  },
  {
   "cell_type": "code",
   "execution_count": 22,
   "metadata": {
    "ExecuteTime": {
     "end_time": "2020-07-17T15:43:16.607485Z",
     "start_time": "2020-07-17T15:43:16.381123Z"
    }
   },
   "outputs": [],
   "source": [
    "building_res_comps = building_res_df.loc[cond0 & cond1 & cond2 & cond3, :]"
   ]
  },
  {
   "cell_type": "markdown",
   "metadata": {},
   "source": [
    "The property values are reported in the `real_acct.txt` file. There is only one set of appraised values for each account number. Let's make sure our filtered `building_res_df` only contains accounts that have just one building."
   ]
  },
  {
   "cell_type": "code",
   "execution_count": 23,
   "metadata": {
    "ExecuteTime": {
     "end_time": "2020-07-17T15:43:18.178732Z",
     "start_time": "2020-07-17T15:43:17.907209Z"
    }
   },
   "outputs": [],
   "source": [
    "total_bld_per_acct = building_res_comps.groupby('acct')['bld_num'].count()\n",
    "one_bld_in_acct = total_bld_per_acct[total_bld_per_acct == 1].index"
   ]
  },
  {
   "cell_type": "code",
   "execution_count": 24,
   "metadata": {
    "ExecuteTime": {
     "end_time": "2020-07-17T15:43:22.365335Z",
     "start_time": "2020-07-17T15:43:22.271263Z"
    }
   },
   "outputs": [],
   "source": [
    "assert one_bld_in_acct.is_unique"
   ]
  },
  {
   "cell_type": "code",
   "execution_count": 25,
   "metadata": {
    "ExecuteTime": {
     "end_time": "2020-07-17T15:43:28.104495Z",
     "start_time": "2020-07-17T15:43:27.561174Z"
    }
   },
   "outputs": [],
   "source": [
    "cond0 = building_res_comps['acct'].isin(one_bld_in_acct)\n",
    "building_res_comps = building_res_comps.loc[cond0, :]"
   ]
  },
  {
   "cell_type": "code",
   "execution_count": 30,
   "metadata": {
    "ExecuteTime": {
     "end_time": "2020-07-17T15:45:45.729477Z",
     "start_time": "2020-07-17T15:45:45.705629Z"
    }
   },
   "outputs": [
    {
     "data": {
      "text/plain": [
       "1      961725\n",
       "2        1696\n",
       "3         166\n",
       "4          33\n",
       "5          11\n",
       "6           8\n",
       "10          5\n",
       "8           4\n",
       "7           3\n",
       "101         2\n",
       "9           2\n",
       "224         1\n",
       "120         1\n",
       "100         1\n",
       "12          1\n",
       "Name: bld_num, dtype: int64"
      ]
     },
     "execution_count": 30,
     "metadata": {},
     "output_type": "execute_result"
    }
   ],
   "source": [
    "building_res_comps['bld_num'].value_counts()"
   ]
  },
  {
   "cell_type": "markdown",
   "metadata": {},
   "source": [
    "**Note**: I don't know why the building numbers above are different than one, given we already filter out accounts with more than one building. Nonetheless, we have one account mapped to one building which is what we need to unequivocally join the `building_res.txt` file with the `real_acct.txt` file."
   ]
  },
  {
   "cell_type": "markdown",
   "metadata": {},
   "source": [
    "## Select columns in comparables\n",
    "Not all columns in `building_res.txt` are clearly related to the appraised value. Let's get the columns that appear to be relevant."
   ]
  },
  {
   "cell_type": "code",
   "execution_count": 41,
   "metadata": {
    "ExecuteTime": {
     "end_time": "2020-07-17T16:07:17.435219Z",
     "start_time": "2020-07-17T16:07:17.421623Z"
    }
   },
   "outputs": [
    {
     "data": {
      "text/plain": [
       "Index(['acct', 'property_use_cd', 'bld_num', 'impr_tp', 'impr_mdl_cd',\n",
       "       'structure', 'structure_dscr', 'dpr_val', 'cama_replacement_cost',\n",
       "       'accrued_depr_pct', 'qa_cd', 'dscr', 'date_erected', 'eff',\n",
       "       'yr_remodel', 'yr_roll', 'appr_by', 'appr_dt', 'notes', 'im_sq_ft',\n",
       "       'act_ar', 'heat_ar', 'gross_ar', 'eff_ar', 'base_ar', 'perimeter',\n",
       "       'pct', 'bld_adj', 'rcnld', 'size_index', 'lump_sum_adj'],\n",
       "      dtype='object')"
      ]
     },
     "execution_count": 41,
     "metadata": {},
     "output_type": "execute_result"
    }
   ],
   "source": [
    "building_res_comps.columns"
   ]
  },
  {
   "cell_type": "code",
   "execution_count": 49,
   "metadata": {
    "ExecuteTime": {
     "end_time": "2020-07-17T16:26:26.904777Z",
     "start_time": "2020-07-17T16:26:26.890229Z"
    }
   },
   "outputs": [],
   "source": [
    "cols = [\n",
    "    'acct',\n",
    "    'dscr',     # Quality description\n",
    "    'date_erected',\n",
    "    'yr_remodel',\n",
    "    'im_sq_ft', # Improvement square feet\n",
    "    'act_ar',   # Actual area\n",
    "    'heat_ar',  # Heat area\n",
    "    'gross_ar', # Gross area\n",
    "    'eff_ar',   # Affective area\n",
    "    'base_ar',  # Base area\n",
    "    'perimeter',\n",
    "    'pct',      # Percent completed\n",
    "]"
   ]
  },
  {
   "cell_type": "code",
   "execution_count": 50,
   "metadata": {
    "ExecuteTime": {
     "end_time": "2020-07-17T16:26:28.308997Z",
     "start_time": "2020-07-17T16:26:28.275635Z"
    }
   },
   "outputs": [],
   "source": [
    "building_res_comps = building_res_comps.loc[:, cols]"
   ]
  },
  {
   "cell_type": "code",
   "execution_count": 51,
   "metadata": {
    "ExecuteTime": {
     "end_time": "2020-07-17T16:26:38.373439Z",
     "start_time": "2020-07-17T16:26:38.328577Z"
    }
   },
   "outputs": [
    {
     "data": {
      "text/html": [
       "<div>\n",
       "<style scoped>\n",
       "    .dataframe tbody tr th:only-of-type {\n",
       "        vertical-align: middle;\n",
       "    }\n",
       "\n",
       "    .dataframe tbody tr th {\n",
       "        vertical-align: top;\n",
       "    }\n",
       "\n",
       "    .dataframe thead th {\n",
       "        text-align: right;\n",
       "    }\n",
       "</style>\n",
       "<table border=\"1\" class=\"dataframe\">\n",
       "  <thead>\n",
       "    <tr style=\"text-align: right;\">\n",
       "      <th></th>\n",
       "      <th>acct</th>\n",
       "      <th>dscr</th>\n",
       "      <th>date_erected</th>\n",
       "      <th>yr_remodel</th>\n",
       "      <th>im_sq_ft</th>\n",
       "      <th>act_ar</th>\n",
       "      <th>heat_ar</th>\n",
       "      <th>gross_ar</th>\n",
       "      <th>eff_ar</th>\n",
       "      <th>base_ar</th>\n",
       "      <th>perimeter</th>\n",
       "      <th>pct</th>\n",
       "    </tr>\n",
       "  </thead>\n",
       "  <tbody>\n",
       "    <tr>\n",
       "      <th>0</th>\n",
       "      <td>21660000012</td>\n",
       "      <td>Good</td>\n",
       "      <td>2014</td>\n",
       "      <td>0</td>\n",
       "      <td>2328</td>\n",
       "      <td>2328</td>\n",
       "      <td>2328</td>\n",
       "      <td>2328</td>\n",
       "      <td>2212</td>\n",
       "      <td>2328</td>\n",
       "      <td>300</td>\n",
       "      <td>1.00</td>\n",
       "    </tr>\n",
       "    <tr>\n",
       "      <th>1</th>\n",
       "      <td>21700000013</td>\n",
       "      <td>Low</td>\n",
       "      <td>1920</td>\n",
       "      <td>2004</td>\n",
       "      <td>1434</td>\n",
       "      <td>1622</td>\n",
       "      <td>1434</td>\n",
       "      <td>1622</td>\n",
       "      <td>1453</td>\n",
       "      <td>1434</td>\n",
       "      <td>170</td>\n",
       "      <td>1.00</td>\n",
       "    </tr>\n",
       "    <tr>\n",
       "      <th>3</th>\n",
       "      <td>21960000001</td>\n",
       "      <td>Low</td>\n",
       "      <td>1940</td>\n",
       "      <td>1999</td>\n",
       "      <td>4304</td>\n",
       "      <td>4984</td>\n",
       "      <td>4304</td>\n",
       "      <td>4984</td>\n",
       "      <td>4253</td>\n",
       "      <td>4304</td>\n",
       "      <td>444</td>\n",
       "      <td>1.00</td>\n",
       "    </tr>\n",
       "    <tr>\n",
       "      <th>6</th>\n",
       "      <td>22080000008</td>\n",
       "      <td>Low</td>\n",
       "      <td>1940</td>\n",
       "      <td>0</td>\n",
       "      <td>2240</td>\n",
       "      <td>2732</td>\n",
       "      <td>2240</td>\n",
       "      <td>2732</td>\n",
       "      <td>2270</td>\n",
       "      <td>2240</td>\n",
       "      <td>272</td>\n",
       "      <td>1.00</td>\n",
       "    </tr>\n",
       "    <tr>\n",
       "      <th>8</th>\n",
       "      <td>22620000008</td>\n",
       "      <td>Good</td>\n",
       "      <td>2013</td>\n",
       "      <td>0</td>\n",
       "      <td>1778</td>\n",
       "      <td>1808</td>\n",
       "      <td>1778</td>\n",
       "      <td>1808</td>\n",
       "      <td>1699</td>\n",
       "      <td>1778</td>\n",
       "      <td>256</td>\n",
       "      <td>1.00</td>\n",
       "    </tr>\n",
       "    <tr>\n",
       "      <th>...</th>\n",
       "      <td>...</td>\n",
       "      <td>...</td>\n",
       "      <td>...</td>\n",
       "      <td>...</td>\n",
       "      <td>...</td>\n",
       "      <td>...</td>\n",
       "      <td>...</td>\n",
       "      <td>...</td>\n",
       "      <td>...</td>\n",
       "      <td>...</td>\n",
       "      <td>...</td>\n",
       "      <td>...</td>\n",
       "    </tr>\n",
       "    <tr>\n",
       "      <th>1124519</th>\n",
       "      <td>1371570020005</td>\n",
       "      <td>Good</td>\n",
       "      <td>2015</td>\n",
       "      <td>0</td>\n",
       "      <td>3682</td>\n",
       "      <td>4512</td>\n",
       "      <td>3682</td>\n",
       "      <td>4512</td>\n",
       "      <td>3854</td>\n",
       "      <td>3682</td>\n",
       "      <td>472</td>\n",
       "      <td>0.51</td>\n",
       "    </tr>\n",
       "    <tr>\n",
       "      <th>1124520</th>\n",
       "      <td>1372310010003</td>\n",
       "      <td>Low</td>\n",
       "      <td>1910</td>\n",
       "      <td>0</td>\n",
       "      <td>692</td>\n",
       "      <td>746</td>\n",
       "      <td>692</td>\n",
       "      <td>746</td>\n",
       "      <td>710</td>\n",
       "      <td>692</td>\n",
       "      <td>114</td>\n",
       "      <td>1.00</td>\n",
       "    </tr>\n",
       "    <tr>\n",
       "      <th>1124522</th>\n",
       "      <td>1373350010027</td>\n",
       "      <td>Average</td>\n",
       "      <td>2015</td>\n",
       "      <td>0</td>\n",
       "      <td>3181</td>\n",
       "      <td>3823</td>\n",
       "      <td>3181</td>\n",
       "      <td>3823</td>\n",
       "      <td>3237</td>\n",
       "      <td>3181</td>\n",
       "      <td>376</td>\n",
       "      <td>0.66</td>\n",
       "    </tr>\n",
       "    <tr>\n",
       "      <th>1124523</th>\n",
       "      <td>1953080320060</td>\n",
       "      <td>Average</td>\n",
       "      <td>1983</td>\n",
       "      <td>0</td>\n",
       "      <td>1723</td>\n",
       "      <td>2259</td>\n",
       "      <td>1723</td>\n",
       "      <td>2259</td>\n",
       "      <td>1923</td>\n",
       "      <td>1723</td>\n",
       "      <td>216</td>\n",
       "      <td>1.00</td>\n",
       "    </tr>\n",
       "    <tr>\n",
       "      <th>1124556</th>\n",
       "      <td>1936507000016</td>\n",
       "      <td>Average</td>\n",
       "      <td>1974</td>\n",
       "      <td>0</td>\n",
       "      <td>1655</td>\n",
       "      <td>2345</td>\n",
       "      <td>1655</td>\n",
       "      <td>2345</td>\n",
       "      <td>1868</td>\n",
       "      <td>1655</td>\n",
       "      <td>192</td>\n",
       "      <td>1.00</td>\n",
       "    </tr>\n",
       "  </tbody>\n",
       "</table>\n",
       "<p>963659 rows × 12 columns</p>\n",
       "</div>"
      ],
      "text/plain": [
       "                  acct     dscr  date_erected  yr_remodel  im_sq_ft  act_ar  \\\n",
       "0          21660000012     Good          2014           0      2328    2328   \n",
       "1          21700000013      Low          1920        2004      1434    1622   \n",
       "3          21960000001      Low          1940        1999      4304    4984   \n",
       "6          22080000008      Low          1940           0      2240    2732   \n",
       "8          22620000008     Good          2013           0      1778    1808   \n",
       "...                ...      ...           ...         ...       ...     ...   \n",
       "1124519  1371570020005     Good          2015           0      3682    4512   \n",
       "1124520  1372310010003      Low          1910           0       692     746   \n",
       "1124522  1373350010027  Average          2015           0      3181    3823   \n",
       "1124523  1953080320060  Average          1983           0      1723    2259   \n",
       "1124556  1936507000016  Average          1974           0      1655    2345   \n",
       "\n",
       "         heat_ar  gross_ar  eff_ar  base_ar  perimeter   pct  \n",
       "0           2328      2328    2212     2328        300  1.00  \n",
       "1           1434      1622    1453     1434        170  1.00  \n",
       "3           4304      4984    4253     4304        444  1.00  \n",
       "6           2240      2732    2270     2240        272  1.00  \n",
       "8           1778      1808    1699     1778        256  1.00  \n",
       "...          ...       ...     ...      ...        ...   ...  \n",
       "1124519     3682      4512    3854     3682        472  0.51  \n",
       "1124520      692       746     710      692        114  1.00  \n",
       "1124522     3181      3823    3237     3181        376  0.66  \n",
       "1124523     1723      2259    1923     1723        216  1.00  \n",
       "1124556     1655      2345    1868     1655        192  1.00  \n",
       "\n",
       "[963659 rows x 12 columns]"
      ]
     },
     "execution_count": 51,
     "metadata": {},
     "output_type": "execute_result"
    }
   ],
   "source": [
    "building_res_comps"
   ]
  },
  {
   "cell_type": "code",
   "execution_count": 47,
   "metadata": {
    "ExecuteTime": {
     "end_time": "2020-07-17T16:21:57.124659Z",
     "start_time": "2020-07-17T16:21:57.097277Z"
    }
   },
   "outputs": [
    {
     "data": {
      "text/plain": [
       "1.00    957493\n",
       "0.66      1105\n",
       "0.51      1046\n",
       "0.80       965\n",
       "0.41       365\n",
       "         ...  \n",
       "0.12         1\n",
       "0.11         1\n",
       "0.18         1\n",
       "0.37         1\n",
       "0.14         1\n",
       "Name: pct, Length: 97, dtype: int64"
      ]
     },
     "execution_count": 47,
     "metadata": {},
     "output_type": "execute_result"
    }
   ],
   "source": [
    "building_res_comps['pct'].value_counts()"
   ]
  },
  {
   "cell_type": "markdown",
   "metadata": {},
   "source": [
    "# Join comparables with fixtures"
   ]
  },
  {
   "cell_type": "code",
   "execution_count": null,
   "metadata": {},
   "outputs": [],
   "source": []
  },
  {
   "cell_type": "code",
   "execution_count": null,
   "metadata": {},
   "outputs": [],
   "source": []
  },
  {
   "cell_type": "code",
   "execution_count": null,
   "metadata": {},
   "outputs": [],
   "source": []
  },
  {
   "cell_type": "code",
   "execution_count": null,
   "metadata": {},
   "outputs": [],
   "source": []
  },
  {
   "cell_type": "code",
   "execution_count": null,
   "metadata": {
    "ExecuteTime": {
     "end_time": "2020-07-17T12:31:08.440211Z",
     "start_time": "2020-07-17T12:31:08.421582Z"
    }
   },
   "outputs": [],
   "source": [
    "fixtures_fn = ROOT_DIR / 'data/external/2016/Real_building_land/fixtures.txt'\n",
    "assert fixtures_fn.exists()\n",
    "\n",
    "fixtures = Table(fixtures_fn, '2016')"
   ]
  },
  {
   "cell_type": "code",
   "execution_count": null,
   "metadata": {
    "ExecuteTime": {
     "end_time": "2020-07-17T12:44:44.226516Z",
     "start_time": "2020-07-17T12:44:44.183659Z"
    }
   },
   "outputs": [],
   "source": [
    "real_acct_fn = ROOT_DIR / 'data/external/2016/Real_acct_owner/real_acct.txt'\n",
    "assert real_acct_fn.exists()\n",
    "\n",
    "real_acct = Table(real_acct_fn, '2016')"
   ]
  },
  {
   "cell_type": "code",
   "execution_count": null,
   "metadata": {
    "ExecuteTime": {
     "end_time": "2020-07-17T13:01:40.014814Z",
     "start_time": "2020-07-17T13:01:39.995862Z"
    }
   },
   "outputs": [],
   "source": [
    "cols = [\n",
    "    'site_addr_1',\n",
    "    'site_addr_2',\n",
    "    'site_addr_3',\n",
    "    'land_val',\n",
    "    'bld_val',\n",
    "    'prior_bld_val',\n",
    "    'x_features_val',\n",
    "    'ag_val',\n",
    "    'assessed_val',\n",
    "    'tot_appr_val',\n",
    "    'tot_mkt_val',\n",
    "    'econ_bld_class',\n",
    "    'nxt_bld',\n",
    "    'lgl_1',\n",
    "    'new_construction_val',\n",
    "    'value_status',\n",
    "]"
   ]
  },
  {
   "cell_type": "code",
   "execution_count": null,
   "metadata": {},
   "outputs": [],
   "source": [
    "building_other_fn = data_fn / 'Real_building_land/building_other.txt'"
   ]
  },
  {
   "cell_type": "code",
   "execution_count": null,
   "metadata": {},
   "outputs": [],
   "source": [
    "fixtures_fn = data_fn / 'Real_building_land/fixtures.txt'"
   ]
  },
  {
   "cell_type": "code",
   "execution_count": null,
   "metadata": {},
   "outputs": [],
   "source": [
    "extra_features_fn = data_fn / 'Real_building_land/extra_features.txt'"
   ]
  }
 ],
 "metadata": {
  "kernelspec": {
   "display_name": "hcad_pred",
   "language": "python",
   "name": "hcad_pred"
  },
  "language_info": {
   "codemirror_mode": {
    "name": "ipython",
    "version": 3
   },
   "file_extension": ".py",
   "mimetype": "text/x-python",
   "name": "python",
   "nbconvert_exporter": "python",
   "pygments_lexer": "ipython3",
   "version": "3.7.6"
  },
  "toc": {
   "base_numbering": 1,
   "nav_menu": {},
   "number_sections": true,
   "sideBar": true,
   "skip_h1_title": false,
   "title_cell": "Table of Contents",
   "title_sidebar": "Contents",
   "toc_cell": false,
   "toc_position": {},
   "toc_section_display": true,
   "toc_window_display": false
  }
 },
 "nbformat": 4,
 "nbformat_minor": 4
}
