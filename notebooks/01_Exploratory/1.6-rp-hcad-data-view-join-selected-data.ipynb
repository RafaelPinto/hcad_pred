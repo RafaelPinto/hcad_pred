{
 "cells": [
  {
   "cell_type": "markdown",
   "metadata": {},
   "source": [
    "# Load previously exported files\n",
    "\n",
    "The files being imported below were constructed in the last six exploratory notebooks (1.0 to 1.5). Here, we join them all using the `acct` column as key."
   ]
  },
  {
   "cell_type": "code",
   "execution_count": 1,
   "metadata": {
    "ExecuteTime": {
     "end_time": "2020-10-27T10:11:30.962077Z",
     "start_time": "2020-10-27T10:11:30.782560Z"
    }
   },
   "outputs": [],
   "source": [
    "%load_ext autoreload\n",
    "%autoreload 2"
   ]
  },
  {
   "cell_type": "code",
   "execution_count": 2,
   "metadata": {
    "ExecuteTime": {
     "end_time": "2020-10-27T10:11:32.750386Z",
     "start_time": "2020-10-27T10:11:30.964072Z"
    }
   },
   "outputs": [],
   "source": [
    "from pathlib import Path\n",
    "import pickle\n",
    "\n",
    "import pandas as pd\n",
    "\n",
    "from src.definitions import ROOT_DIR\n",
    "from src.data.utils import Table, save_pickle"
   ]
  },
  {
   "cell_type": "code",
   "execution_count": 3,
   "metadata": {
    "ExecuteTime": {
     "end_time": "2020-10-27T10:11:33.070468Z",
     "start_time": "2020-10-27T10:11:32.753074Z"
    }
   },
   "outputs": [],
   "source": [
    "building_res_comps_fn = ROOT_DIR / 'data/raw/2016/building_res_comps.pickle'\n",
    "assert building_res_comps_fn.exists()\n",
    "\n",
    "with open(building_res_comps_fn, 'rb') as f:\n",
    "    building_res_comps = pickle.load(f)"
   ]
  },
  {
   "cell_type": "code",
   "execution_count": 4,
   "metadata": {
    "ExecuteTime": {
     "end_time": "2020-10-27T10:11:33.347609Z",
     "start_time": "2020-10-27T10:11:33.073241Z"
    }
   },
   "outputs": [],
   "source": [
    "fixtures_comps_fn = ROOT_DIR / 'data/raw/2016/fixtures_comps.pickle'\n",
    "assert fixtures_comps_fn.exists()\n",
    "\n",
    "with open(fixtures_comps_fn, 'rb') as f:\n",
    "    fixtures_comps = pickle.load(f)"
   ]
  },
  {
   "cell_type": "code",
   "execution_count": 5,
   "metadata": {
    "ExecuteTime": {
     "end_time": "2020-10-27T10:11:34.091652Z",
     "start_time": "2020-10-27T10:11:33.350600Z"
    }
   },
   "outputs": [],
   "source": [
    "real_acct_comps_fn = ROOT_DIR / 'data/raw/2016/real_acct_comps.pickle'\n",
    "assert real_acct_comps_fn.exists()\n",
    "\n",
    "with open(real_acct_comps_fn, 'rb') as f:\n",
    "    real_acct_comps = pickle.load(f)"
   ]
  },
  {
   "cell_type": "code",
   "execution_count": 6,
   "metadata": {
    "ExecuteTime": {
     "end_time": "2020-10-27T10:11:34.567409Z",
     "start_time": "2020-10-27T10:11:34.093613Z"
    }
   },
   "outputs": [],
   "source": [
    "extra_features_uts_grade_comps_fn = ROOT_DIR / 'data/raw/2016/extra_features_uts_grade_comps.pickle'\n",
    "assert extra_features_uts_grade_comps_fn.exists()\n",
    "\n",
    "with open(extra_features_uts_grade_comps_fn, 'rb') as f:\n",
    "    extra_features_uts_grade_comps = pickle.load(f)"
   ]
  },
  {
   "cell_type": "code",
   "execution_count": 7,
   "metadata": {
    "ExecuteTime": {
     "end_time": "2020-10-27T10:11:35.022545Z",
     "start_time": "2020-10-27T10:11:34.569404Z"
    }
   },
   "outputs": [],
   "source": [
    "exterior_comps_fn = ROOT_DIR / 'data/raw/2016/exterior_comps.pickle'\n",
    "assert exterior_comps_fn.exists()\n",
    "\n",
    "with open(exterior_comps_fn, 'rb') as f:\n",
    "    exterior_comps = pickle.load(f)"
   ]
  },
  {
   "cell_type": "code",
   "execution_count": 8,
   "metadata": {
    "ExecuteTime": {
     "end_time": "2020-10-27T10:11:35.221390Z",
     "start_time": "2020-10-27T10:11:35.027498Z"
    }
   },
   "outputs": [],
   "source": [
    "structural_elem1_comps_fn = ROOT_DIR / 'data/raw/2016/structural_elem1_comps.pickle'\n",
    "assert structural_elem1_comps_fn.exists()\n",
    "\n",
    "with open(structural_elem1_comps_fn, 'rb') as f:\n",
    "    structural_elem1_comps = pickle.load(f)"
   ]
  },
  {
   "cell_type": "markdown",
   "metadata": {},
   "source": [
    "# Merge tables"
   ]
  },
  {
   "cell_type": "code",
   "execution_count": 9,
   "metadata": {
    "ExecuteTime": {
     "end_time": "2020-10-27T10:11:36.972454Z",
     "start_time": "2020-10-27T10:11:35.224133Z"
    },
    "scrolled": true
   },
   "outputs": [],
   "source": [
    "comps = building_res_comps.merge(fixtures_comps,\n",
    "                                 how='left',\n",
    "                                 on='acct',\n",
    "                                 validate='one_to_one')"
   ]
  },
  {
   "cell_type": "code",
   "execution_count": 10,
   "metadata": {
    "ExecuteTime": {
     "end_time": "2020-10-27T10:11:39.333275Z",
     "start_time": "2020-10-27T10:11:36.974449Z"
    }
   },
   "outputs": [],
   "source": [
    "comps = comps.merge(real_acct_comps,\n",
    "                    how='left',\n",
    "                    on='acct',\n",
    "                    validate='one_to_one')"
   ]
  },
  {
   "cell_type": "code",
   "execution_count": 11,
   "metadata": {
    "ExecuteTime": {
     "end_time": "2020-10-27T10:11:42.377607Z",
     "start_time": "2020-10-27T10:11:39.335268Z"
    }
   },
   "outputs": [],
   "source": [
    "comps = comps.merge(extra_features_uts_grade_comps,\n",
    "                    how='left',\n",
    "                    on='acct',\n",
    "                    validate='one_to_one')"
   ]
  },
  {
   "cell_type": "code",
   "execution_count": 12,
   "metadata": {
    "ExecuteTime": {
     "end_time": "2020-10-27T10:11:44.429076Z",
     "start_time": "2020-10-27T10:11:42.379601Z"
    }
   },
   "outputs": [],
   "source": [
    "comps = comps.merge(exterior_comps,\n",
    "                    how='left',\n",
    "                    on='acct',\n",
    "                    validate='one_to_one')"
   ]
  },
  {
   "cell_type": "code",
   "execution_count": 13,
   "metadata": {
    "ExecuteTime": {
     "end_time": "2020-10-27T10:11:46.422810Z",
     "start_time": "2020-10-27T10:11:44.431070Z"
    }
   },
   "outputs": [],
   "source": [
    "comps = comps.merge(structural_elem1_comps,\n",
    "                    how='left',\n",
    "                    on='acct',\n",
    "                    validate='one_to_one')"
   ]
  },
  {
   "cell_type": "code",
   "execution_count": 14,
   "metadata": {
    "ExecuteTime": {
     "end_time": "2020-10-27T10:11:46.645719Z",
     "start_time": "2020-10-27T10:11:46.424805Z"
    }
   },
   "outputs": [
    {
     "data": {
      "text/html": [
       "<div>\n",
       "<style scoped>\n",
       "    .dataframe tbody tr th:only-of-type {\n",
       "        vertical-align: middle;\n",
       "    }\n",
       "\n",
       "    .dataframe tbody tr th {\n",
       "        vertical-align: top;\n",
       "    }\n",
       "\n",
       "    .dataframe thead th {\n",
       "        text-align: right;\n",
       "    }\n",
       "</style>\n",
       "<table border=\"1\" class=\"dataframe\">\n",
       "  <thead>\n",
       "    <tr style=\"text-align: right;\">\n",
       "      <th></th>\n",
       "      <th>acct</th>\n",
       "      <th>dscr</th>\n",
       "      <th>date_erected</th>\n",
       "      <th>yr_remodel</th>\n",
       "      <th>im_sq_ft</th>\n",
       "      <th>act_ar</th>\n",
       "      <th>heat_ar</th>\n",
       "      <th>gross_ar</th>\n",
       "      <th>eff_ar</th>\n",
       "      <th>perimeter</th>\n",
       "      <th>...</th>\n",
       "      <th>one_story_mas_pri</th>\n",
       "      <th>open_frame_porch_pri</th>\n",
       "      <th>open_mas_porch_pri</th>\n",
       "      <th>cond_desir_util</th>\n",
       "      <th>cost_and_design</th>\n",
       "      <th>exterior_wall</th>\n",
       "      <th>foundation_type</th>\n",
       "      <th>grade_adjustment</th>\n",
       "      <th>heating_ac</th>\n",
       "      <th>physical_condition</th>\n",
       "    </tr>\n",
       "  </thead>\n",
       "  <tbody>\n",
       "    <tr>\n",
       "      <th>0</th>\n",
       "      <td>1246170020007</td>\n",
       "      <td>Average</td>\n",
       "      <td>2004</td>\n",
       "      <td>NaN</td>\n",
       "      <td>1701.0</td>\n",
       "      <td>1701</td>\n",
       "      <td>1701.0</td>\n",
       "      <td>1701</td>\n",
       "      <td>1629.0</td>\n",
       "      <td>238.0</td>\n",
       "      <td>...</td>\n",
       "      <td>0.0</td>\n",
       "      <td>0.0</td>\n",
       "      <td>0.0</td>\n",
       "      <td>Average</td>\n",
       "      <td>NaN</td>\n",
       "      <td>Frame / Concrete Blk</td>\n",
       "      <td>Slab</td>\n",
       "      <td>C</td>\n",
       "      <td>Central Heat/AC</td>\n",
       "      <td>Average</td>\n",
       "    </tr>\n",
       "    <tr>\n",
       "      <th>1</th>\n",
       "      <td>1246170020018</td>\n",
       "      <td>Average</td>\n",
       "      <td>2004</td>\n",
       "      <td>NaN</td>\n",
       "      <td>1201.0</td>\n",
       "      <td>1601</td>\n",
       "      <td>1201.0</td>\n",
       "      <td>1601</td>\n",
       "      <td>1353.0</td>\n",
       "      <td>184.0</td>\n",
       "      <td>...</td>\n",
       "      <td>0.0</td>\n",
       "      <td>0.0</td>\n",
       "      <td>0.0</td>\n",
       "      <td>Average</td>\n",
       "      <td>NaN</td>\n",
       "      <td>Frame / Concrete Blk</td>\n",
       "      <td>Slab</td>\n",
       "      <td>C</td>\n",
       "      <td>Central Heat/AC</td>\n",
       "      <td>Average</td>\n",
       "    </tr>\n",
       "    <tr>\n",
       "      <th>2</th>\n",
       "      <td>1246170020021</td>\n",
       "      <td>Average</td>\n",
       "      <td>2004</td>\n",
       "      <td>NaN</td>\n",
       "      <td>1201.0</td>\n",
       "      <td>1601</td>\n",
       "      <td>1201.0</td>\n",
       "      <td>1601</td>\n",
       "      <td>1353.0</td>\n",
       "      <td>184.0</td>\n",
       "      <td>...</td>\n",
       "      <td>0.0</td>\n",
       "      <td>0.0</td>\n",
       "      <td>0.0</td>\n",
       "      <td>Average</td>\n",
       "      <td>NaN</td>\n",
       "      <td>Frame / Concrete Blk</td>\n",
       "      <td>Slab</td>\n",
       "      <td>C</td>\n",
       "      <td>Central Heat/AC</td>\n",
       "      <td>Average</td>\n",
       "    </tr>\n",
       "    <tr>\n",
       "      <th>3</th>\n",
       "      <td>1246170020028</td>\n",
       "      <td>Average</td>\n",
       "      <td>2004</td>\n",
       "      <td>NaN</td>\n",
       "      <td>1570.0</td>\n",
       "      <td>1596</td>\n",
       "      <td>1570.0</td>\n",
       "      <td>1596</td>\n",
       "      <td>1512.0</td>\n",
       "      <td>226.0</td>\n",
       "      <td>...</td>\n",
       "      <td>0.0</td>\n",
       "      <td>26.0</td>\n",
       "      <td>0.0</td>\n",
       "      <td>Average</td>\n",
       "      <td>NaN</td>\n",
       "      <td>Frame / Concrete Blk</td>\n",
       "      <td>Slab</td>\n",
       "      <td>C</td>\n",
       "      <td>Central Heat/AC</td>\n",
       "      <td>Average</td>\n",
       "    </tr>\n",
       "    <tr>\n",
       "      <th>4</th>\n",
       "      <td>1246170030008</td>\n",
       "      <td>Average</td>\n",
       "      <td>2004</td>\n",
       "      <td>NaN</td>\n",
       "      <td>2070.0</td>\n",
       "      <td>2226</td>\n",
       "      <td>2070.0</td>\n",
       "      <td>2226</td>\n",
       "      <td>2012.0</td>\n",
       "      <td>304.0</td>\n",
       "      <td>...</td>\n",
       "      <td>0.0</td>\n",
       "      <td>78.0</td>\n",
       "      <td>0.0</td>\n",
       "      <td>Average</td>\n",
       "      <td>NaN</td>\n",
       "      <td>Frame / Concrete Blk</td>\n",
       "      <td>Slab</td>\n",
       "      <td>C</td>\n",
       "      <td>Central Heat/AC</td>\n",
       "      <td>Average</td>\n",
       "    </tr>\n",
       "  </tbody>\n",
       "</table>\n",
       "<p>5 rows × 83 columns</p>\n",
       "</div>"
      ],
      "text/plain": [
       "            acct     dscr  date_erected  yr_remodel  im_sq_ft  act_ar  \\\n",
       "0  1246170020007  Average          2004         NaN    1701.0    1701   \n",
       "1  1246170020018  Average          2004         NaN    1201.0    1601   \n",
       "2  1246170020021  Average          2004         NaN    1201.0    1601   \n",
       "3  1246170020028  Average          2004         NaN    1570.0    1596   \n",
       "4  1246170030008  Average          2004         NaN    2070.0    2226   \n",
       "\n",
       "   heat_ar  gross_ar  eff_ar  perimeter  ...  one_story_mas_pri  \\\n",
       "0   1701.0      1701  1629.0      238.0  ...                0.0   \n",
       "1   1201.0      1601  1353.0      184.0  ...                0.0   \n",
       "2   1201.0      1601  1353.0      184.0  ...                0.0   \n",
       "3   1570.0      1596  1512.0      226.0  ...                0.0   \n",
       "4   2070.0      2226  2012.0      304.0  ...                0.0   \n",
       "\n",
       "   open_frame_porch_pri  open_mas_porch_pri  cond_desir_util  cost_and_design  \\\n",
       "0                   0.0                 0.0          Average              NaN   \n",
       "1                   0.0                 0.0          Average              NaN   \n",
       "2                   0.0                 0.0          Average              NaN   \n",
       "3                  26.0                 0.0          Average              NaN   \n",
       "4                  78.0                 0.0          Average              NaN   \n",
       "\n",
       "          exterior_wall  foundation_type  grade_adjustment       heating_ac  \\\n",
       "0  Frame / Concrete Blk             Slab                 C  Central Heat/AC   \n",
       "1  Frame / Concrete Blk             Slab                 C  Central Heat/AC   \n",
       "2  Frame / Concrete Blk             Slab                 C  Central Heat/AC   \n",
       "3  Frame / Concrete Blk             Slab                 C  Central Heat/AC   \n",
       "4  Frame / Concrete Blk             Slab                 C  Central Heat/AC   \n",
       "\n",
       "   physical_condition  \n",
       "0             Average  \n",
       "1             Average  \n",
       "2             Average  \n",
       "3             Average  \n",
       "4             Average  \n",
       "\n",
       "[5 rows x 83 columns]"
      ]
     },
     "execution_count": 14,
     "metadata": {},
     "output_type": "execute_result"
    }
   ],
   "source": [
    "comps.head()"
   ]
  },
  {
   "cell_type": "code",
   "execution_count": 15,
   "metadata": {
    "ExecuteTime": {
     "end_time": "2020-10-27T10:11:46.820483Z",
     "start_time": "2020-10-27T10:11:46.649712Z"
    }
   },
   "outputs": [
    {
     "data": {
      "text/plain": [
       "Index(['acct', 'dscr', 'date_erected', 'yr_remodel', 'im_sq_ft', 'act_ar',\n",
       "       'heat_ar', 'gross_ar', 'eff_ar', 'perimeter',\n",
       "       'fireplace_masonry_firebrick', 'fireplace_metal_prefab',\n",
       "       'fixtures_addl', 'fixtures_total', 'room_bedroom', 'room_full_bath',\n",
       "       'room_half_bath', 'room_rec', 'room_total', 'story_height_index',\n",
       "       'zip_code', 'school_dist', 'neighborhood_code', 'market_area_1_dscr',\n",
       "       'market_area_2_dscr', 'center_code', 'bld_ar', 'land_ar', 'acreage',\n",
       "       'land_val', 'tot_appr_val', 'prior_land_val', 'prior_tot_appr_val',\n",
       "       'new_own_dt', 'lgl_1', 'lgl_2', 'basic_outdoor_kitchen_uts',\n",
       "       'brick_or_stone_detached_garage_uts', 'canopy_residential_uts',\n",
       "       'carport_residential_uts', 'cracked_slab_uts',\n",
       "       'custom_outdoor_kitchen_uts', 'foundation_repaired_uts',\n",
       "       'frame_detached_garage_uts',\n",
       "       'frame_detached_garage_w_living_area_abov_uts',\n",
       "       'frame_utility_shed_uts', 'gunite_pool_uts', 'metal_utility_shed_uts',\n",
       "       'pool_spa_with_heater_uts', 'reinforced_concrete_pool_uts',\n",
       "       'residential_other_gross_value_uts', 'basic_outdoor_kitchen_grade',\n",
       "       'brick_or_stone_detached_garage_grade', 'canopy_residential_grade',\n",
       "       'carport_residential_grade', 'cracked_slab_grade',\n",
       "       'custom_outdoor_kitchen_grade', 'foundation_repaired_grade',\n",
       "       'frame_detached_garage_grade',\n",
       "       'frame_detached_garage_w_living_area_abov_grade',\n",
       "       'frame_utility_shed_grade', 'gunite_pool_grade',\n",
       "       'metal_utility_shed_grade', 'pool_spa_with_heater_grade',\n",
       "       'reinforced_concrete_pool_grade', 'residential_other_gross_value_grade',\n",
       "       'base_area_pri', 'base_area_upr', 'frame_garage_pri',\n",
       "       'mas_brk_garage_pri', 'mas_conc_patio_pri', 'one_story_frame_pri',\n",
       "       'one_story_frame_upr', 'one_story_mas_pri', 'open_frame_porch_pri',\n",
       "       'open_mas_porch_pri', 'cond_desir_util', 'cost_and_design',\n",
       "       'exterior_wall', 'foundation_type', 'grade_adjustment', 'heating_ac',\n",
       "       'physical_condition'],\n",
       "      dtype='object')"
      ]
     },
     "execution_count": 15,
     "metadata": {},
     "output_type": "execute_result"
    }
   ],
   "source": [
    "comps.columns"
   ]
  },
  {
   "cell_type": "code",
   "execution_count": 16,
   "metadata": {
    "ExecuteTime": {
     "end_time": "2020-10-27T10:11:46.996551Z",
     "start_time": "2020-10-27T10:11:46.824473Z"
    }
   },
   "outputs": [
    {
     "data": {
      "text/plain": [
       "(957687, 83)"
      ]
     },
     "execution_count": 16,
     "metadata": {},
     "output_type": "execute_result"
    }
   ],
   "source": [
    "comps.shape"
   ]
  },
  {
   "cell_type": "markdown",
   "metadata": {},
   "source": [
    "# Export comps"
   ]
  },
  {
   "cell_type": "code",
   "execution_count": 17,
   "metadata": {
    "ExecuteTime": {
     "end_time": "2020-10-27T10:11:48.900426Z",
     "start_time": "2020-10-27T10:11:47.000537Z"
    }
   },
   "outputs": [],
   "source": [
    "save_fn = ROOT_DIR / 'data/interim/2016/comps.pickle'\n",
    "save_pickle(comps, save_fn)"
   ]
  }
 ],
 "metadata": {
  "kernelspec": {
   "display_name": "hcad_pred",
   "language": "python",
   "name": "hcad_pred"
  },
  "language_info": {
   "codemirror_mode": {
    "name": "ipython",
    "version": 3
   },
   "file_extension": ".py",
   "mimetype": "text/x-python",
   "name": "python",
   "nbconvert_exporter": "python",
   "pygments_lexer": "ipython3",
   "version": "3.7.8"
  },
  "toc": {
   "base_numbering": 1,
   "nav_menu": {},
   "number_sections": true,
   "sideBar": true,
   "skip_h1_title": false,
   "title_cell": "Table of Contents",
   "title_sidebar": "Contents",
   "toc_cell": false,
   "toc_position": {},
   "toc_section_display": true,
   "toc_window_display": false
  }
 },
 "nbformat": 4,
 "nbformat_minor": 4
}
