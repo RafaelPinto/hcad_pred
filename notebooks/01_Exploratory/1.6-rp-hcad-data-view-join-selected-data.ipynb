{
 "cells": [
  {
   "cell_type": "markdown",
   "metadata": {},
   "source": [
    "# Load previously exported files\n",
    "\n",
    "The files being imported below were constructed in the last six exploratory notebooks (1.0 to 1.5). Here, we join them all using the `acct` column as key."
   ]
  },
  {
   "cell_type": "code",
   "execution_count": 1,
   "metadata": {
    "ExecuteTime": {
     "end_time": "2020-07-22T03:17:49.925709Z",
     "start_time": "2020-07-22T03:17:49.903846Z"
    }
   },
   "outputs": [],
   "source": [
    "%load_ext autoreload\n",
    "%autoreload 2"
   ]
  },
  {
   "cell_type": "code",
   "execution_count": 2,
   "metadata": {
    "ExecuteTime": {
     "end_time": "2020-07-22T03:17:51.670880Z",
     "start_time": "2020-07-22T03:17:51.056049Z"
    }
   },
   "outputs": [],
   "source": [
    "from pathlib import Path\n",
    "import pickle\n",
    "\n",
    "import pandas as pd\n",
    "\n",
    "from src.definitions import ROOT_DIR\n",
    "from src.data.utils import Table, save_pickle"
   ]
  },
  {
   "cell_type": "code",
   "execution_count": 3,
   "metadata": {
    "ExecuteTime": {
     "end_time": "2020-07-22T03:17:57.127832Z",
     "start_time": "2020-07-22T03:17:56.667768Z"
    }
   },
   "outputs": [],
   "source": [
    "building_res_comps_fn = ROOT_DIR / 'data/raw/2016/building_res_comps.pickle'\n",
    "assert building_res_comps_fn.exists()\n",
    "\n",
    "with open(building_res_comps_fn, 'rb') as f:\n",
    "    building_res_comps = pickle.load(f)"
   ]
  },
  {
   "cell_type": "code",
   "execution_count": 4,
   "metadata": {
    "ExecuteTime": {
     "end_time": "2020-07-22T03:17:58.594199Z",
     "start_time": "2020-07-22T03:17:57.709583Z"
    }
   },
   "outputs": [],
   "source": [
    "fixtures_comps_fn = ROOT_DIR / 'data/raw/2016/fixtures_comps.pickle'\n",
    "assert fixtures_comps_fn.exists()\n",
    "\n",
    "with open(fixtures_comps_fn, 'rb') as f:\n",
    "    fixtures_comps = pickle.load(f)"
   ]
  },
  {
   "cell_type": "code",
   "execution_count": 5,
   "metadata": {
    "ExecuteTime": {
     "end_time": "2020-07-22T03:18:00.163519Z",
     "start_time": "2020-07-22T03:17:59.105433Z"
    }
   },
   "outputs": [],
   "source": [
    "real_acct_comps_fn = ROOT_DIR / 'data/raw/2016/real_acct_comps.pickle'\n",
    "assert real_acct_comps_fn.exists()\n",
    "\n",
    "with open(real_acct_comps_fn, 'rb') as f:\n",
    "    real_acct_comps = pickle.load(f)"
   ]
  },
  {
   "cell_type": "code",
   "execution_count": 6,
   "metadata": {
    "ExecuteTime": {
     "end_time": "2020-07-22T03:18:00.877963Z",
     "start_time": "2020-07-22T03:18:00.440799Z"
    }
   },
   "outputs": [],
   "source": [
    "extra_features_count_grade_comps_fn = ROOT_DIR / 'data/raw/2016/extra_features_count_grade_comps.pickle'\n",
    "assert extra_features_count_grade_comps_fn.exists()\n",
    "\n",
    "with open(extra_features_count_grade_comps_fn, 'rb') as f:\n",
    "    extra_features_count_grade_comps = pickle.load(f)"
   ]
  },
  {
   "cell_type": "code",
   "execution_count": 7,
   "metadata": {
    "ExecuteTime": {
     "end_time": "2020-07-22T03:18:01.925304Z",
     "start_time": "2020-07-22T03:18:01.710008Z"
    }
   },
   "outputs": [],
   "source": [
    "structural_elem1_comps_fn = ROOT_DIR / 'data/raw/2016/structural_elem1_comps.pickle'\n",
    "assert structural_elem1_comps_fn.exists()\n",
    "\n",
    "with open(structural_elem1_comps_fn, 'rb') as f:\n",
    "    structural_elem1_comps = pickle.load(f)"
   ]
  },
  {
   "cell_type": "markdown",
   "metadata": {},
   "source": [
    "# Merge tables"
   ]
  },
  {
   "cell_type": "code",
   "execution_count": 8,
   "metadata": {
    "ExecuteTime": {
     "end_time": "2020-07-22T03:18:05.217973Z",
     "start_time": "2020-07-22T03:18:04.052069Z"
    },
    "scrolled": true
   },
   "outputs": [],
   "source": [
    "comps = building_res_comps.merge(fixtures_comps,\n",
    "                                 how='left',\n",
    "                                 on='acct',\n",
    "                                 validate='one_to_one')"
   ]
  },
  {
   "cell_type": "code",
   "execution_count": 9,
   "metadata": {
    "ExecuteTime": {
     "end_time": "2020-07-22T03:18:07.239537Z",
     "start_time": "2020-07-22T03:18:05.718251Z"
    }
   },
   "outputs": [],
   "source": [
    "comps = comps.merge(real_acct_comps,\n",
    "                    how='left',\n",
    "                    on='acct',\n",
    "                    validate='one_to_one')"
   ]
  },
  {
   "cell_type": "code",
   "execution_count": 10,
   "metadata": {
    "ExecuteTime": {
     "end_time": "2020-07-22T03:18:08.574681Z",
     "start_time": "2020-07-22T03:18:07.655229Z"
    }
   },
   "outputs": [],
   "source": [
    "comps = comps.merge(extra_features_count_grade_comps,\n",
    "                    how='left',\n",
    "                    on='acct',\n",
    "                    validate='one_to_one')"
   ]
  },
  {
   "cell_type": "code",
   "execution_count": 11,
   "metadata": {
    "ExecuteTime": {
     "end_time": "2020-07-22T03:18:10.119765Z",
     "start_time": "2020-07-22T03:18:08.953064Z"
    }
   },
   "outputs": [],
   "source": [
    "comps = comps.merge(structural_elem1_comps,\n",
    "                    how='left',\n",
    "                    on='acct',\n",
    "                    validate='one_to_one')"
   ]
  },
  {
   "cell_type": "code",
   "execution_count": 12,
   "metadata": {
    "ExecuteTime": {
     "end_time": "2020-07-22T03:18:10.591001Z",
     "start_time": "2020-07-22T03:18:10.544544Z"
    }
   },
   "outputs": [
    {
     "data": {
      "text/html": [
       "<div>\n",
       "<style scoped>\n",
       "    .dataframe tbody tr th:only-of-type {\n",
       "        vertical-align: middle;\n",
       "    }\n",
       "\n",
       "    .dataframe tbody tr th {\n",
       "        vertical-align: top;\n",
       "    }\n",
       "\n",
       "    .dataframe thead th {\n",
       "        text-align: right;\n",
       "    }\n",
       "</style>\n",
       "<table border=\"1\" class=\"dataframe\">\n",
       "  <thead>\n",
       "    <tr style=\"text-align: right;\">\n",
       "      <th></th>\n",
       "      <th>acct</th>\n",
       "      <th>dscr</th>\n",
       "      <th>date_erected</th>\n",
       "      <th>yr_remodel</th>\n",
       "      <th>im_sq_ft</th>\n",
       "      <th>act_ar</th>\n",
       "      <th>heat_ar</th>\n",
       "      <th>gross_ar</th>\n",
       "      <th>eff_ar</th>\n",
       "      <th>base_ar</th>\n",
       "      <th>...</th>\n",
       "      <th>Foundation Defect_grade</th>\n",
       "      <th>Garage_grade</th>\n",
       "      <th>Outbuildings_grade</th>\n",
       "      <th>Pools_grade</th>\n",
       "      <th>Cond / Desir / Util</th>\n",
       "      <th>Exterior Wall</th>\n",
       "      <th>Foundation Type</th>\n",
       "      <th>Grade Adjustment</th>\n",
       "      <th>Heating / AC</th>\n",
       "      <th>Physical Condition</th>\n",
       "    </tr>\n",
       "  </thead>\n",
       "  <tbody>\n",
       "    <tr>\n",
       "      <th>0</th>\n",
       "      <td>21660000012</td>\n",
       "      <td>Good</td>\n",
       "      <td>2014</td>\n",
       "      <td>0</td>\n",
       "      <td>2328</td>\n",
       "      <td>2328</td>\n",
       "      <td>2328</td>\n",
       "      <td>2328</td>\n",
       "      <td>2212</td>\n",
       "      <td>2328</td>\n",
       "      <td>...</td>\n",
       "      <td>NaN</td>\n",
       "      <td>NaN</td>\n",
       "      <td>NaN</td>\n",
       "      <td>NaN</td>\n",
       "      <td>Average</td>\n",
       "      <td>Frame / Concrete Blk</td>\n",
       "      <td>Slab</td>\n",
       "      <td>B</td>\n",
       "      <td>Central Heat/AC</td>\n",
       "      <td>Average</td>\n",
       "    </tr>\n",
       "    <tr>\n",
       "      <th>1</th>\n",
       "      <td>21700000013</td>\n",
       "      <td>Low</td>\n",
       "      <td>1920</td>\n",
       "      <td>2004</td>\n",
       "      <td>1434</td>\n",
       "      <td>1622</td>\n",
       "      <td>1434</td>\n",
       "      <td>1622</td>\n",
       "      <td>1453</td>\n",
       "      <td>1434</td>\n",
       "      <td>...</td>\n",
       "      <td>NaN</td>\n",
       "      <td>5.0</td>\n",
       "      <td>NaN</td>\n",
       "      <td>NaN</td>\n",
       "      <td>Average</td>\n",
       "      <td>Stucco</td>\n",
       "      <td>Crawl Space</td>\n",
       "      <td>D+</td>\n",
       "      <td>None</td>\n",
       "      <td>Average</td>\n",
       "    </tr>\n",
       "    <tr>\n",
       "      <th>2</th>\n",
       "      <td>21960000001</td>\n",
       "      <td>Low</td>\n",
       "      <td>1940</td>\n",
       "      <td>1999</td>\n",
       "      <td>4304</td>\n",
       "      <td>4984</td>\n",
       "      <td>4304</td>\n",
       "      <td>4984</td>\n",
       "      <td>4253</td>\n",
       "      <td>4304</td>\n",
       "      <td>...</td>\n",
       "      <td>NaN</td>\n",
       "      <td>NaN</td>\n",
       "      <td>NaN</td>\n",
       "      <td>NaN</td>\n",
       "      <td>Good</td>\n",
       "      <td>Aluminum / Vinyl</td>\n",
       "      <td>Slab</td>\n",
       "      <td>D-</td>\n",
       "      <td>Central Heat/AC</td>\n",
       "      <td>Excellent</td>\n",
       "    </tr>\n",
       "    <tr>\n",
       "      <th>3</th>\n",
       "      <td>22080000008</td>\n",
       "      <td>Low</td>\n",
       "      <td>1940</td>\n",
       "      <td>0</td>\n",
       "      <td>2240</td>\n",
       "      <td>2732</td>\n",
       "      <td>2240</td>\n",
       "      <td>2732</td>\n",
       "      <td>2270</td>\n",
       "      <td>2240</td>\n",
       "      <td>...</td>\n",
       "      <td>NaN</td>\n",
       "      <td>5.0</td>\n",
       "      <td>4.0</td>\n",
       "      <td>NaN</td>\n",
       "      <td>Average</td>\n",
       "      <td>Aluminum / Vinyl</td>\n",
       "      <td>Crawl Space</td>\n",
       "      <td>D</td>\n",
       "      <td>None</td>\n",
       "      <td>Average</td>\n",
       "    </tr>\n",
       "    <tr>\n",
       "      <th>4</th>\n",
       "      <td>22620000008</td>\n",
       "      <td>Good</td>\n",
       "      <td>2013</td>\n",
       "      <td>0</td>\n",
       "      <td>1778</td>\n",
       "      <td>1808</td>\n",
       "      <td>1778</td>\n",
       "      <td>1808</td>\n",
       "      <td>1699</td>\n",
       "      <td>1778</td>\n",
       "      <td>...</td>\n",
       "      <td>NaN</td>\n",
       "      <td>NaN</td>\n",
       "      <td>NaN</td>\n",
       "      <td>NaN</td>\n",
       "      <td>Average</td>\n",
       "      <td>Aluminum / Vinyl</td>\n",
       "      <td>Slab</td>\n",
       "      <td>B+</td>\n",
       "      <td>Central Heat/AC</td>\n",
       "      <td>Average</td>\n",
       "    </tr>\n",
       "  </tbody>\n",
       "</table>\n",
       "<p>5 rows × 53 columns</p>\n",
       "</div>"
      ],
      "text/plain": [
       "          acct  dscr  date_erected  yr_remodel  im_sq_ft  act_ar  heat_ar  \\\n",
       "0  21660000012  Good          2014           0      2328    2328     2328   \n",
       "1  21700000013   Low          1920        2004      1434    1622     1434   \n",
       "2  21960000001   Low          1940        1999      4304    4984     4304   \n",
       "3  22080000008   Low          1940           0      2240    2732     2240   \n",
       "4  22620000008  Good          2013           0      1778    1808     1778   \n",
       "\n",
       "   gross_ar  eff_ar  base_ar  ...  Foundation Defect_grade  Garage_grade  \\\n",
       "0      2328    2212     2328  ...                      NaN           NaN   \n",
       "1      1622    1453     1434  ...                      NaN           5.0   \n",
       "2      4984    4253     4304  ...                      NaN           NaN   \n",
       "3      2732    2270     2240  ...                      NaN           5.0   \n",
       "4      1808    1699     1778  ...                      NaN           NaN   \n",
       "\n",
       "   Outbuildings_grade  Pools_grade  Cond / Desir / Util         Exterior Wall  \\\n",
       "0                 NaN          NaN              Average  Frame / Concrete Blk   \n",
       "1                 NaN          NaN              Average                Stucco   \n",
       "2                 NaN          NaN                 Good      Aluminum / Vinyl   \n",
       "3                 4.0          NaN              Average      Aluminum / Vinyl   \n",
       "4                 NaN          NaN              Average      Aluminum / Vinyl   \n",
       "\n",
       "   Foundation Type  Grade Adjustment     Heating / AC  Physical Condition  \n",
       "0             Slab                 B  Central Heat/AC             Average  \n",
       "1      Crawl Space                D+             None             Average  \n",
       "2             Slab                D-  Central Heat/AC           Excellent  \n",
       "3      Crawl Space                 D             None             Average  \n",
       "4             Slab                B+  Central Heat/AC             Average  \n",
       "\n",
       "[5 rows x 53 columns]"
      ]
     },
     "execution_count": 12,
     "metadata": {},
     "output_type": "execute_result"
    }
   ],
   "source": [
    "comps.head()"
   ]
  },
  {
   "cell_type": "code",
   "execution_count": 13,
   "metadata": {
    "ExecuteTime": {
     "end_time": "2020-07-22T03:18:28.333007Z",
     "start_time": "2020-07-22T03:18:28.295887Z"
    }
   },
   "outputs": [
    {
     "data": {
      "text/plain": [
       "Index(['acct', 'dscr', 'date_erected', 'yr_remodel', 'im_sq_ft', 'act_ar',\n",
       "       'heat_ar', 'gross_ar', 'eff_ar', 'base_ar', 'perimeter',\n",
       "       'Fireplace: Masonry Firebrick', 'Fireplace: Metal Prefab',\n",
       "       'Fixtures:  Addl', 'Fixtures:  Total', 'Room:  Bedroom',\n",
       "       'Room:  Full Bath', 'Room:  Half Bath', 'Room:  Rec', 'Room:  Total',\n",
       "       'Story Height Index', 'site_addr_3', 'school_dist', 'Neighborhood_Code',\n",
       "       'Market_Area_1_Dscr', 'Market_Area_2_Dscr', 'center_code', 'bld_ar',\n",
       "       'land_ar', 'acreage', 'land_val', 'tot_appr_val', 'prior_land_val',\n",
       "       'prior_tot_appr_val', 'new_own_dt', 'Canopy_count', 'Carport_count',\n",
       "       'Foundation Defect_count', 'Garage_count', 'Outbuildings_count',\n",
       "       'Pools_count', 'Canopy_grade', 'Carport_grade',\n",
       "       'Foundation Defect_grade', 'Garage_grade', 'Outbuildings_grade',\n",
       "       'Pools_grade', 'Cond / Desir / Util', 'Exterior Wall',\n",
       "       'Foundation Type', 'Grade Adjustment', 'Heating / AC',\n",
       "       'Physical Condition'],\n",
       "      dtype='object')"
      ]
     },
     "execution_count": 13,
     "metadata": {},
     "output_type": "execute_result"
    }
   ],
   "source": [
    "comps.columns"
   ]
  },
  {
   "cell_type": "code",
   "execution_count": 14,
   "metadata": {
    "ExecuteTime": {
     "end_time": "2020-07-22T03:18:51.422159Z",
     "start_time": "2020-07-22T03:18:51.393280Z"
    }
   },
   "outputs": [
    {
     "data": {
      "text/plain": [
       "(957687, 53)"
      ]
     },
     "execution_count": 14,
     "metadata": {},
     "output_type": "execute_result"
    }
   ],
   "source": [
    "comps.shape"
   ]
  },
  {
   "cell_type": "markdown",
   "metadata": {},
   "source": [
    "# Export comps"
   ]
  },
  {
   "cell_type": "code",
   "execution_count": 15,
   "metadata": {
    "ExecuteTime": {
     "end_time": "2020-07-22T03:19:16.043855Z",
     "start_time": "2020-07-22T03:19:15.122874Z"
    }
   },
   "outputs": [],
   "source": [
    "save_fn = ROOT_DIR / 'data/interim/2016/comps.pickle'\n",
    "save_pickle(comps, save_fn)"
   ]
  }
 ],
 "metadata": {
  "kernelspec": {
   "display_name": "hcad_pred",
   "language": "python",
   "name": "hcad_pred"
  },
  "language_info": {
   "codemirror_mode": {
    "name": "ipython",
    "version": 3
   },
   "file_extension": ".py",
   "mimetype": "text/x-python",
   "name": "python",
   "nbconvert_exporter": "python",
   "pygments_lexer": "ipython3",
   "version": "3.7.6"
  },
  "toc": {
   "base_numbering": 1,
   "nav_menu": {},
   "number_sections": true,
   "sideBar": true,
   "skip_h1_title": false,
   "title_cell": "Table of Contents",
   "title_sidebar": "Contents",
   "toc_cell": false,
   "toc_position": {},
   "toc_section_display": true,
   "toc_window_display": false
  }
 },
 "nbformat": 4,
 "nbformat_minor": 4
}
