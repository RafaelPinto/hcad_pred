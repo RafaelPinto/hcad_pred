{
 "cells": [
  {
   "cell_type": "markdown",
   "metadata": {},
   "source": [
    "# Harris County Appraisal District (HCAD) real and personal property data\n",
    "The Harris County is the [third most populous](https://en.wikipedia.org/wiki/List_of_the_most_populous_counties_in_the_United_States) county in the USA. Its appraisal district (HCAD) provides a fantastic dataset with each appraised property characteristics (appraised value, fixtures, features...) on a yearly basis. In this notebook we explore these data for the year 2016, to understand what is available, and to select variables that can help us answer if a given property was appraised fairly.\n",
    "\n",
    "[HCAD data](https://pdata.hcad.org/download/2016.html) consists of several text files, grouped in zipped files as follows:\n",
    "\n",
    "1. Real_acct_owner.zip\n",
    "    * **Real_acct.txt**: account including owner name, owner mailing address, $\\color{red}{values}$, $\\color{red}{site~address}$, and legal descriptions.\n",
    "    * **Real_neighborhood_code.txt**:  $\\color{red}{neighborhood~code}$, group code and description\n",
    "    * **Parcel_tiebacks.txt**\n",
    "    * **Permits.txt**: an account including permit type, permit description, and status.\n",
    "    * **Owners.txt**: multiple owners.\n",
    "    * **Deeds.txt**: deed information.\n",
    "\n",
    "\n",
    "2. Real_building_land.zip\n",
    "    * **Building_res.txt**: $\\color{red}{all~residential~information}$\n",
    "    * **Building_other.txt**: all other real properties, such as commercial and information for income producing properties including occupancy rates and operating income.\n",
    "    * **Exterior.txt**: $\\color{red}{general~data~about~buildings~and~sub~areas,~(style~or~use,~size,~year~built).}$\n",
    "    * **Fixture.txt**: $\\color{red}{characteristics~of~the~building}$. This includes bedrooms, fireplace, bathrooms, stories for residential. Also contains wall height, elevators, and other descriptions for commercial property.\n",
    "    * **Extra_features.txt**: extra features for an account. This includes wood deck, $\\color{red}{pool}$, storage shed, detached garage, etc. This also contains information on cracked slabs and pools.\n",
    "    * **Structural_elem1.txt**: $\\color{red}{Single~Family}$, Multi Family, Condos, Town homes. $\\color{red}{Home~Information}$ (CDU, Grade Adjustment, Physical Condition).\n",
    "    * **Structural_elem2.txt**: Commercial and exempt Properties. These files contain structural elements of a property. This includes information like $\\color{red}{physical~condition,~grade,~exterior~wall,~and~foundation~type}$.\n",
    "    * **Land.txt**: land use, acreage, and land units.\n",
    "    * **Land_ag.txt**: agricultural and timber land information including land use, acreage, and land units.\n",
    "\n",
    "\n",
    "3. Real_jur_exempt.zip\n",
    "    * **Jur_exempt.txt**: Lists the jurisdictions and exemptions associated with an account and the tax rates.\n",
    "    * **Jur_exemption_cd**: Lists the exemption code associated with an account.\n",
    "    * **Jur_exemption_dscr**: Lists the jurisdictions and their exemption description.\n",
    "    * **Jur_tax_district_exempt_value.txt**: Lists the jurisdictions and their exemption values.\n",
    "    * **Jur_tax_district_percent_rate**: Lists the Taxing district percent rates.\n",
    "    * **Jur_value.txt**: Lists the jurisdictions and values associated with an account.\n",
    "\n",
    "\n",
    "4. PP_files.zip\n",
    "    * **T_business_acct.txt**:  account, including owner name, owner mailing address, values, site address, and legal descriptions, all values and etc.\n",
    "    * **T_business_detail.txt**: account, items, description and item values.\n",
    "    * **T_jur_exempt.txt**: Lists the jurisdictions and exemptions associated with an account and the tax rates.\n",
    "    * **T_jur_value.txt**: Lists the jurisdictions and values associated with an account.\n",
    "    * **T_jur_tax_district_exempt_value.txt**: Lists the jurisdictions and their exemption values.\n",
    "    * **T_jur_tax_district_percent_rate**: Lists the Taxing district percent rates.\n",
    "    * **T_pp_c.txt**: c Pipelines data.\n",
    "    * **T_pp_e.txt**: e Minerals data.\n",
    "    * **T_pp_l.txt**: l Electrical Transmission / Distribution Lines data.\n",
    "\n",
    "\n",
    "5. Hearing_files.zip\n",
    "    * **ARB_hearings_pp.txt**: account, state code, owner, date of hearing, release date, conclusion code, initial and final values and etc.\n",
    "    * **ARB_hearings_real.txt**: account, state code, owner, date of hearing, release date, conclusion code, initial and final values and etc.\n",
    "    * **ARB_protest_pp.txt**: account, protest by, date of protest.\n",
    "    * **ARB_protest_real.txt**: account, protest by, date of protest.\n",
    "\n",
    "In addition, the following files are also available for deciphering codes in some of the variables:\n",
    "\n",
    "1. code_desc_real.txt\n",
    "2. code_nh_numbers.txt\n",
    "3. code_nh_numbers_adj.txt\n",
    "4. code_desc_personal.txt\n",
    "5. code_jur_list.txt\n",
    "\n",
    "The first step is then to identify the variables that will influence the appraised value (highlighted in red above). Next, we would like to filter the data to only contain comparables, in this case free standing (a house) single-family properties."
   ]
  },
  {
   "cell_type": "markdown",
   "metadata": {},
   "source": [
    "# Find the comparables: building_res.txt\n",
    "\n",
    "The file `building_res.txt` contains the some of the properties description, including the HCAD account number (column acct) they are associated to. Let's find the account numbers for the free standing single family properties."
   ]
  },
  {
   "cell_type": "code",
   "execution_count": 1,
   "metadata": {
    "ExecuteTime": {
     "end_time": "2020-07-25T10:10:06.763530Z",
     "start_time": "2020-07-25T10:10:06.750044Z"
    }
   },
   "outputs": [],
   "source": [
    "%load_ext autoreload\n",
    "%autoreload 2"
   ]
  },
  {
   "cell_type": "code",
   "execution_count": 2,
   "metadata": {
    "ExecuteTime": {
     "end_time": "2020-07-25T10:10:07.232666Z",
     "start_time": "2020-07-25T10:10:06.766371Z"
    }
   },
   "outputs": [],
   "source": [
    "from pathlib import Path\n",
    "\n",
    "import numpy as np\n",
    "import pandas as pd\n",
    "\n",
    "from src.definitions import ROOT_DIR\n",
    "from src.data.utils import Table"
   ]
  },
  {
   "cell_type": "code",
   "execution_count": 3,
   "metadata": {
    "ExecuteTime": {
     "end_time": "2020-07-25T10:10:07.254280Z",
     "start_time": "2020-07-25T10:10:07.235213Z"
    }
   },
   "outputs": [],
   "source": [
    "building_res_fn = ROOT_DIR / 'data/external/2016/Real_building_land/building_res.txt'\n",
    "assert building_res_fn.exists()"
   ]
  },
  {
   "cell_type": "markdown",
   "metadata": {},
   "source": [
    "The column names of the HCAD files are stored in the file `Layout_and_Length.txt`. The `src.data.utils.Table` class has methods to read the file column names, and read the data file as a pandas DataFrame."
   ]
  },
  {
   "cell_type": "code",
   "execution_count": 4,
   "metadata": {
    "ExecuteTime": {
     "end_time": "2020-07-25T10:10:07.270870Z",
     "start_time": "2020-07-25T10:10:07.257853Z"
    }
   },
   "outputs": [],
   "source": [
    "building_res = Table(building_res_fn, '2016')"
   ]
  },
  {
   "cell_type": "code",
   "execution_count": 5,
   "metadata": {
    "ExecuteTime": {
     "end_time": "2020-07-25T10:10:07.301560Z",
     "start_time": "2020-07-25T10:10:07.272715Z"
    }
   },
   "outputs": [
    {
     "data": {
      "text/plain": [
       "['acct',\n",
       " 'property_use_cd',\n",
       " 'bld_num',\n",
       " 'impr_tp',\n",
       " 'impr_mdl_cd',\n",
       " 'structure',\n",
       " 'structure_dscr',\n",
       " 'dpr_val',\n",
       " 'cama_replacement_cost',\n",
       " 'accrued_depr_pct',\n",
       " 'qa_cd',\n",
       " 'dscr',\n",
       " 'date_erected',\n",
       " 'eff',\n",
       " 'yr_remodel',\n",
       " 'yr_roll',\n",
       " 'appr_by',\n",
       " 'appr_dt',\n",
       " 'notes',\n",
       " 'im_sq_ft',\n",
       " 'act_ar',\n",
       " 'heat_ar',\n",
       " 'gross_ar',\n",
       " 'eff_ar',\n",
       " 'base_ar',\n",
       " 'perimeter',\n",
       " 'pct',\n",
       " 'bld_adj',\n",
       " 'rcnld',\n",
       " 'size_index',\n",
       " 'lump_sum_adj']"
      ]
     },
     "execution_count": 5,
     "metadata": {},
     "output_type": "execute_result"
    }
   ],
   "source": [
    "building_res.get_header()"
   ]
  },
  {
   "cell_type": "markdown",
   "metadata": {},
   "source": [
    "Since the file may not fit into memory, let's load only the columns of interest."
   ]
  },
  {
   "cell_type": "code",
   "execution_count": 6,
   "metadata": {
    "ExecuteTime": {
     "end_time": "2020-07-25T10:10:07.318881Z",
     "start_time": "2020-07-25T10:10:07.303871Z"
    }
   },
   "outputs": [],
   "source": [
    "cols = [\n",
    "    'acct',      # Property unique account number\n",
    "    'property_use_cd',\n",
    "    'bld_num',\n",
    "    'impr_mdl_cd',\n",
    "    'impr_tp',\n",
    "    'structure_dscr',\n",
    "    'pct',\n",
    "    'dscr',      # Quality description\n",
    "    'date_erected',\n",
    "    'yr_remodel',\n",
    "    'im_sq_ft',  # Improvement square feet\n",
    "    'act_ar',    # Actual area\n",
    "    'heat_ar',   # Heat area\n",
    "    'gross_ar',  # Gross area\n",
    "    'eff_ar',    # Affective area\n",
    "    'base_ar',   # Base area\n",
    "    'perimeter',\n",
    "]"
   ]
  },
  {
   "cell_type": "code",
   "execution_count": 7,
   "metadata": {
    "ExecuteTime": {
     "end_time": "2020-07-25T10:10:10.311360Z",
     "start_time": "2020-07-25T10:10:07.321800Z"
    }
   },
   "outputs": [],
   "source": [
    "building_res_df = building_res.get_df(usecols=cols)"
   ]
  },
  {
   "cell_type": "code",
   "execution_count": 8,
   "metadata": {
    "ExecuteTime": {
     "end_time": "2020-07-25T10:10:10.342080Z",
     "start_time": "2020-07-25T10:10:10.314107Z"
    }
   },
   "outputs": [
    {
     "data": {
      "text/html": [
       "<div>\n",
       "<style scoped>\n",
       "    .dataframe tbody tr th:only-of-type {\n",
       "        vertical-align: middle;\n",
       "    }\n",
       "\n",
       "    .dataframe tbody tr th {\n",
       "        vertical-align: top;\n",
       "    }\n",
       "\n",
       "    .dataframe thead th {\n",
       "        text-align: right;\n",
       "    }\n",
       "</style>\n",
       "<table border=\"1\" class=\"dataframe\">\n",
       "  <thead>\n",
       "    <tr style=\"text-align: right;\">\n",
       "      <th></th>\n",
       "      <th>acct</th>\n",
       "      <th>property_use_cd</th>\n",
       "      <th>bld_num</th>\n",
       "      <th>impr_tp</th>\n",
       "      <th>impr_mdl_cd</th>\n",
       "      <th>structure_dscr</th>\n",
       "      <th>dscr</th>\n",
       "      <th>date_erected</th>\n",
       "      <th>yr_remodel</th>\n",
       "      <th>im_sq_ft</th>\n",
       "      <th>act_ar</th>\n",
       "      <th>heat_ar</th>\n",
       "      <th>gross_ar</th>\n",
       "      <th>eff_ar</th>\n",
       "      <th>base_ar</th>\n",
       "      <th>perimeter</th>\n",
       "      <th>pct</th>\n",
       "    </tr>\n",
       "  </thead>\n",
       "  <tbody>\n",
       "    <tr>\n",
       "      <th>0</th>\n",
       "      <td>21660000012</td>\n",
       "      <td>A1</td>\n",
       "      <td>1</td>\n",
       "      <td>1001</td>\n",
       "      <td>101</td>\n",
       "      <td>Residential</td>\n",
       "      <td>Good</td>\n",
       "      <td>2014</td>\n",
       "      <td>0</td>\n",
       "      <td>2328</td>\n",
       "      <td>2328</td>\n",
       "      <td>2328</td>\n",
       "      <td>2328</td>\n",
       "      <td>2212</td>\n",
       "      <td>2328</td>\n",
       "      <td>300</td>\n",
       "      <td>1.0</td>\n",
       "    </tr>\n",
       "    <tr>\n",
       "      <th>1</th>\n",
       "      <td>21700000013</td>\n",
       "      <td>A1</td>\n",
       "      <td>1</td>\n",
       "      <td>1001</td>\n",
       "      <td>101</td>\n",
       "      <td>Residential</td>\n",
       "      <td>Low</td>\n",
       "      <td>1920</td>\n",
       "      <td>2004</td>\n",
       "      <td>1434</td>\n",
       "      <td>1622</td>\n",
       "      <td>1434</td>\n",
       "      <td>1622</td>\n",
       "      <td>1453</td>\n",
       "      <td>1434</td>\n",
       "      <td>170</td>\n",
       "      <td>1.0</td>\n",
       "    </tr>\n",
       "    <tr>\n",
       "      <th>2</th>\n",
       "      <td>21870000006</td>\n",
       "      <td>A1</td>\n",
       "      <td>1</td>\n",
       "      <td>1001</td>\n",
       "      <td>101</td>\n",
       "      <td>Residential</td>\n",
       "      <td>Very Low</td>\n",
       "      <td>1940</td>\n",
       "      <td>0</td>\n",
       "      <td>572</td>\n",
       "      <td>652</td>\n",
       "      <td>572</td>\n",
       "      <td>652</td>\n",
       "      <td>598</td>\n",
       "      <td>572</td>\n",
       "      <td>96</td>\n",
       "      <td>1.0</td>\n",
       "    </tr>\n",
       "    <tr>\n",
       "      <th>3</th>\n",
       "      <td>21960000001</td>\n",
       "      <td>A1</td>\n",
       "      <td>2</td>\n",
       "      <td>1001</td>\n",
       "      <td>101</td>\n",
       "      <td>Residential</td>\n",
       "      <td>Low</td>\n",
       "      <td>1940</td>\n",
       "      <td>1999</td>\n",
       "      <td>4304</td>\n",
       "      <td>4984</td>\n",
       "      <td>4304</td>\n",
       "      <td>4984</td>\n",
       "      <td>4253</td>\n",
       "      <td>4304</td>\n",
       "      <td>444</td>\n",
       "      <td>1.0</td>\n",
       "    </tr>\n",
       "    <tr>\n",
       "      <th>4</th>\n",
       "      <td>22080000004</td>\n",
       "      <td>A1</td>\n",
       "      <td>2</td>\n",
       "      <td>1001</td>\n",
       "      <td>101</td>\n",
       "      <td>Residential</td>\n",
       "      <td>Low</td>\n",
       "      <td>1920</td>\n",
       "      <td>0</td>\n",
       "      <td>528</td>\n",
       "      <td>576</td>\n",
       "      <td>528</td>\n",
       "      <td>576</td>\n",
       "      <td>544</td>\n",
       "      <td>528</td>\n",
       "      <td>96</td>\n",
       "      <td>1.0</td>\n",
       "    </tr>\n",
       "  </tbody>\n",
       "</table>\n",
       "</div>"
      ],
      "text/plain": [
       "          acct property_use_cd  bld_num  impr_tp  impr_mdl_cd structure_dscr  \\\n",
       "0  21660000012              A1        1     1001          101    Residential   \n",
       "1  21700000013              A1        1     1001          101    Residential   \n",
       "2  21870000006              A1        1     1001          101    Residential   \n",
       "3  21960000001              A1        2     1001          101    Residential   \n",
       "4  22080000004              A1        2     1001          101    Residential   \n",
       "\n",
       "       dscr  date_erected  yr_remodel  im_sq_ft  act_ar  heat_ar  gross_ar  \\\n",
       "0      Good          2014           0      2328    2328     2328      2328   \n",
       "1       Low          1920        2004      1434    1622     1434      1622   \n",
       "2  Very Low          1940           0       572     652      572       652   \n",
       "3       Low          1940        1999      4304    4984     4304      4984   \n",
       "4       Low          1920           0       528     576      528       576   \n",
       "\n",
       "   eff_ar  base_ar  perimeter  pct  \n",
       "0    2212     2328        300  1.0  \n",
       "1    1453     1434        170  1.0  \n",
       "2     598      572         96  1.0  \n",
       "3    4253     4304        444  1.0  \n",
       "4     544      528         96  1.0  "
      ]
     },
     "execution_count": 8,
     "metadata": {},
     "output_type": "execute_result"
    }
   ],
   "source": [
    "building_res_df.head()"
   ]
  },
  {
   "cell_type": "code",
   "execution_count": 9,
   "metadata": {
    "ExecuteTime": {
     "end_time": "2020-07-25T10:10:10.361304Z",
     "start_time": "2020-07-25T10:10:10.345493Z"
    }
   },
   "outputs": [
    {
     "data": {
      "text/plain": [
       "acct                 int64\n",
       "property_use_cd     object\n",
       "bld_num              int64\n",
       "impr_tp              int64\n",
       "impr_mdl_cd          int64\n",
       "structure_dscr      object\n",
       "dscr                object\n",
       "date_erected         int64\n",
       "yr_remodel           int64\n",
       "im_sq_ft             int64\n",
       "act_ar               int64\n",
       "heat_ar              int64\n",
       "gross_ar             int64\n",
       "eff_ar               int64\n",
       "base_ar              int64\n",
       "perimeter            int64\n",
       "pct                float64\n",
       "dtype: object"
      ]
     },
     "execution_count": 9,
     "metadata": {},
     "output_type": "execute_result"
    }
   ],
   "source": [
    "building_res_df.dtypes"
   ]
  },
  {
   "cell_type": "code",
   "execution_count": 10,
   "metadata": {
    "ExecuteTime": {
     "end_time": "2020-07-25T10:10:10.715029Z",
     "start_time": "2020-07-25T10:10:10.363285Z"
    }
   },
   "outputs": [
    {
     "data": {
      "text/plain": [
       "Index                   128\n",
       "acct                9210776\n",
       "property_use_cd    67929473\n",
       "bld_num             9210776\n",
       "impr_tp             9210776\n",
       "impr_mdl_cd         9210776\n",
       "structure_dscr     78292330\n",
       "dscr               72476161\n",
       "date_erected        9210776\n",
       "yr_remodel          9210776\n",
       "im_sq_ft            9210776\n",
       "act_ar              9210776\n",
       "heat_ar             9210776\n",
       "gross_ar            9210776\n",
       "eff_ar              9210776\n",
       "base_ar             9210776\n",
       "perimeter           9210776\n",
       "pct                 9210776\n",
       "dtype: int64"
      ]
     },
     "execution_count": 10,
     "metadata": {},
     "output_type": "execute_result"
    }
   ],
   "source": [
    "building_res_df.memory_usage(deep=True)"
   ]
  },
  {
   "cell_type": "markdown",
   "metadata": {},
   "source": [
    "Let's reduce the in-memory file size by changing the types of the categorical columns, and downcasting the numerical column types where possible."
   ]
  },
  {
   "cell_type": "code",
   "execution_count": 11,
   "metadata": {
    "ExecuteTime": {
     "end_time": "2020-07-25T10:10:11.016813Z",
     "start_time": "2020-07-25T10:10:10.717541Z"
    }
   },
   "outputs": [],
   "source": [
    "building_res_df['property_use_cd'] = building_res_df['property_use_cd'].astype('category')\n",
    "building_res_df['bld_num'] = building_res_df['bld_num'].astype('category')\n",
    "building_res_df['impr_mdl_cd'] = building_res_df['impr_mdl_cd'].astype('category')\n",
    "building_res_df['impr_tp'] = building_res_df['impr_tp'].astype('category')\n",
    "building_res_df['structure_dscr'] = building_res_df['structure_dscr'].astype('category')\n",
    "building_res_df['dscr'] = building_res_df['dscr'].astype('category')"
   ]
  },
  {
   "cell_type": "code",
   "execution_count": 12,
   "metadata": {
    "ExecuteTime": {
     "end_time": "2020-07-25T10:10:11.101466Z",
     "start_time": "2020-07-25T10:10:11.018646Z"
    }
   },
   "outputs": [],
   "source": [
    "building_res_df['acct'] = pd.to_numeric(building_res_df['acct'], downcast='unsigned')"
   ]
  },
  {
   "cell_type": "code",
   "execution_count": 13,
   "metadata": {
    "ExecuteTime": {
     "end_time": "2020-07-25T10:10:11.426638Z",
     "start_time": "2020-07-25T10:10:11.103085Z"
    }
   },
   "outputs": [],
   "source": [
    "building_res_df.loc[:, 'date_erected':'base_ar'] = building_res_df.loc[:, 'date_erected':'base_ar'].apply(pd.to_numeric, downcast='unsigned')\n",
    "building_res_df['perimeter'] = pd.to_numeric(building_res_df['perimeter'], downcast='integer')\n",
    "building_res_df['pct'] = pd.to_numeric(building_res_df['pct'], downcast='float')"
   ]
  },
  {
   "cell_type": "code",
   "execution_count": 14,
   "metadata": {
    "ExecuteTime": {
     "end_time": "2020-07-25T10:10:11.442591Z",
     "start_time": "2020-07-25T10:10:11.428566Z"
    }
   },
   "outputs": [
    {
     "data": {
      "text/plain": [
       "acct                 uint64\n",
       "property_use_cd    category\n",
       "bld_num            category\n",
       "impr_tp            category\n",
       "impr_mdl_cd        category\n",
       "structure_dscr     category\n",
       "dscr               category\n",
       "date_erected         uint16\n",
       "yr_remodel            int64\n",
       "im_sq_ft             uint16\n",
       "act_ar               uint16\n",
       "heat_ar              uint16\n",
       "gross_ar             uint16\n",
       "eff_ar               uint16\n",
       "base_ar              uint16\n",
       "perimeter             int16\n",
       "pct                 float32\n",
       "dtype: object"
      ]
     },
     "execution_count": 14,
     "metadata": {},
     "output_type": "execute_result"
    }
   ],
   "source": [
    "building_res_df.dtypes"
   ]
  },
  {
   "cell_type": "code",
   "execution_count": 15,
   "metadata": {
    "ExecuteTime": {
     "end_time": "2020-07-25T10:10:11.463089Z",
     "start_time": "2020-07-25T10:10:11.444569Z"
    }
   },
   "outputs": [
    {
     "data": {
      "text/plain": [
       "Index                  128\n",
       "acct               9210776\n",
       "property_use_cd    1154220\n",
       "bld_num            1154355\n",
       "impr_tp            1152139\n",
       "impr_mdl_cd        1152179\n",
       "structure_dscr     1152243\n",
       "dscr               1152109\n",
       "date_erected       2302694\n",
       "yr_remodel         9210776\n",
       "im_sq_ft           2302694\n",
       "act_ar             2302694\n",
       "heat_ar            2302694\n",
       "gross_ar           2302694\n",
       "eff_ar             2302694\n",
       "base_ar            2302694\n",
       "perimeter          2302694\n",
       "pct                4605388\n",
       "dtype: int64"
      ]
     },
     "execution_count": 15,
     "metadata": {},
     "output_type": "execute_result"
    }
   ],
   "source": [
    "building_res_df.memory_usage(deep=True)"
   ]
  },
  {
   "cell_type": "code",
   "execution_count": 16,
   "metadata": {
    "ExecuteTime": {
     "end_time": "2020-07-25T10:10:11.506035Z",
     "start_time": "2020-07-25T10:10:11.464847Z"
    }
   },
   "outputs": [
    {
     "data": {
      "text/html": [
       "<div>\n",
       "<style scoped>\n",
       "    .dataframe tbody tr th:only-of-type {\n",
       "        vertical-align: middle;\n",
       "    }\n",
       "\n",
       "    .dataframe tbody tr th {\n",
       "        vertical-align: top;\n",
       "    }\n",
       "\n",
       "    .dataframe thead th {\n",
       "        text-align: right;\n",
       "    }\n",
       "</style>\n",
       "<table border=\"1\" class=\"dataframe\">\n",
       "  <thead>\n",
       "    <tr style=\"text-align: right;\">\n",
       "      <th></th>\n",
       "      <th>acct</th>\n",
       "      <th>property_use_cd</th>\n",
       "      <th>bld_num</th>\n",
       "      <th>impr_tp</th>\n",
       "      <th>impr_mdl_cd</th>\n",
       "      <th>structure_dscr</th>\n",
       "      <th>dscr</th>\n",
       "      <th>date_erected</th>\n",
       "      <th>yr_remodel</th>\n",
       "      <th>im_sq_ft</th>\n",
       "      <th>act_ar</th>\n",
       "      <th>heat_ar</th>\n",
       "      <th>gross_ar</th>\n",
       "      <th>eff_ar</th>\n",
       "      <th>base_ar</th>\n",
       "      <th>perimeter</th>\n",
       "      <th>pct</th>\n",
       "    </tr>\n",
       "  </thead>\n",
       "  <tbody>\n",
       "    <tr>\n",
       "      <th>0</th>\n",
       "      <td>21660000012</td>\n",
       "      <td>A1</td>\n",
       "      <td>1</td>\n",
       "      <td>1001</td>\n",
       "      <td>101</td>\n",
       "      <td>Residential</td>\n",
       "      <td>Good</td>\n",
       "      <td>2014</td>\n",
       "      <td>0</td>\n",
       "      <td>2328</td>\n",
       "      <td>2328</td>\n",
       "      <td>2328</td>\n",
       "      <td>2328</td>\n",
       "      <td>2212</td>\n",
       "      <td>2328</td>\n",
       "      <td>300</td>\n",
       "      <td>1.0</td>\n",
       "    </tr>\n",
       "    <tr>\n",
       "      <th>1</th>\n",
       "      <td>21700000013</td>\n",
       "      <td>A1</td>\n",
       "      <td>1</td>\n",
       "      <td>1001</td>\n",
       "      <td>101</td>\n",
       "      <td>Residential</td>\n",
       "      <td>Low</td>\n",
       "      <td>1920</td>\n",
       "      <td>2004</td>\n",
       "      <td>1434</td>\n",
       "      <td>1622</td>\n",
       "      <td>1434</td>\n",
       "      <td>1622</td>\n",
       "      <td>1453</td>\n",
       "      <td>1434</td>\n",
       "      <td>170</td>\n",
       "      <td>1.0</td>\n",
       "    </tr>\n",
       "    <tr>\n",
       "      <th>2</th>\n",
       "      <td>21870000006</td>\n",
       "      <td>A1</td>\n",
       "      <td>1</td>\n",
       "      <td>1001</td>\n",
       "      <td>101</td>\n",
       "      <td>Residential</td>\n",
       "      <td>Very Low</td>\n",
       "      <td>1940</td>\n",
       "      <td>0</td>\n",
       "      <td>572</td>\n",
       "      <td>652</td>\n",
       "      <td>572</td>\n",
       "      <td>652</td>\n",
       "      <td>598</td>\n",
       "      <td>572</td>\n",
       "      <td>96</td>\n",
       "      <td>1.0</td>\n",
       "    </tr>\n",
       "    <tr>\n",
       "      <th>3</th>\n",
       "      <td>21960000001</td>\n",
       "      <td>A1</td>\n",
       "      <td>2</td>\n",
       "      <td>1001</td>\n",
       "      <td>101</td>\n",
       "      <td>Residential</td>\n",
       "      <td>Low</td>\n",
       "      <td>1940</td>\n",
       "      <td>1999</td>\n",
       "      <td>4304</td>\n",
       "      <td>4984</td>\n",
       "      <td>4304</td>\n",
       "      <td>4984</td>\n",
       "      <td>4253</td>\n",
       "      <td>4304</td>\n",
       "      <td>444</td>\n",
       "      <td>1.0</td>\n",
       "    </tr>\n",
       "    <tr>\n",
       "      <th>4</th>\n",
       "      <td>22080000004</td>\n",
       "      <td>A1</td>\n",
       "      <td>2</td>\n",
       "      <td>1001</td>\n",
       "      <td>101</td>\n",
       "      <td>Residential</td>\n",
       "      <td>Low</td>\n",
       "      <td>1920</td>\n",
       "      <td>0</td>\n",
       "      <td>528</td>\n",
       "      <td>576</td>\n",
       "      <td>528</td>\n",
       "      <td>576</td>\n",
       "      <td>544</td>\n",
       "      <td>528</td>\n",
       "      <td>96</td>\n",
       "      <td>1.0</td>\n",
       "    </tr>\n",
       "  </tbody>\n",
       "</table>\n",
       "</div>"
      ],
      "text/plain": [
       "          acct property_use_cd bld_num impr_tp impr_mdl_cd structure_dscr  \\\n",
       "0  21660000012              A1       1    1001         101    Residential   \n",
       "1  21700000013              A1       1    1001         101    Residential   \n",
       "2  21870000006              A1       1    1001         101    Residential   \n",
       "3  21960000001              A1       2    1001         101    Residential   \n",
       "4  22080000004              A1       2    1001         101    Residential   \n",
       "\n",
       "       dscr  date_erected  yr_remodel  im_sq_ft  act_ar  heat_ar  gross_ar  \\\n",
       "0      Good          2014           0      2328    2328     2328      2328   \n",
       "1       Low          1920        2004      1434    1622     1434      1622   \n",
       "2  Very Low          1940           0       572     652      572       652   \n",
       "3       Low          1940        1999      4304    4984     4304      4984   \n",
       "4       Low          1920           0       528     576      528       576   \n",
       "\n",
       "   eff_ar  base_ar  perimeter  pct  \n",
       "0    2212     2328        300  1.0  \n",
       "1    1453     1434        170  1.0  \n",
       "2     598      572         96  1.0  \n",
       "3    4253     4304        444  1.0  \n",
       "4     544      528         96  1.0  "
      ]
     },
     "execution_count": 16,
     "metadata": {},
     "output_type": "execute_result"
    }
   ],
   "source": [
    "building_res_df.head()"
   ]
  },
  {
   "cell_type": "markdown",
   "metadata": {},
   "source": [
    "# Select comparables\n",
    "\n",
    "From file `data/external/2016/code_desc_real` we find that the following columns define the free-standing single-family homes:\n",
    "\n",
    "1. property_use_cd: **A1** = Real, Residential, Single-Family\n",
    "2. impr_mdl_cd: **101** = Residential 1 Family\n",
    "3. impr_tp: **1001** = Residential Single Family\n",
    "4. structure_dscr: **Residential**\n",
    "5. pct: **1** = 100% built\n",
    "\n",
    "Let's filter the rows based on these criteria."
   ]
  },
  {
   "cell_type": "code",
   "execution_count": 17,
   "metadata": {
    "ExecuteTime": {
     "end_time": "2020-07-25T10:10:11.538589Z",
     "start_time": "2020-07-25T10:10:11.513602Z"
    }
   },
   "outputs": [],
   "source": [
    "cond0 = building_res_df['property_use_cd'] == 'A1'\n",
    "cond1 = building_res_df['impr_mdl_cd'] == 101\n",
    "cond2 = building_res_df['impr_tp'] == 1001\n",
    "cond3 = building_res_df['structure_dscr'] == 'Residential'\n",
    "cond4 = building_res_df['pct'] == 1  # 100% built home"
   ]
  },
  {
   "cell_type": "code",
   "execution_count": 18,
   "metadata": {
    "ExecuteTime": {
     "end_time": "2020-07-25T10:10:11.650027Z",
     "start_time": "2020-07-25T10:10:11.540619Z"
    }
   },
   "outputs": [],
   "source": [
    "building_res_comps = building_res_df.loc[cond0 & cond1 & cond2 & cond3 & cond4, :]"
   ]
  },
  {
   "cell_type": "code",
   "execution_count": 19,
   "metadata": {
    "ExecuteTime": {
     "end_time": "2020-07-25T10:10:11.667440Z",
     "start_time": "2020-07-25T10:10:11.651953Z"
    }
   },
   "outputs": [
    {
     "data": {
      "text/plain": [
       "(993906, 17)"
      ]
     },
     "execution_count": 19,
     "metadata": {},
     "output_type": "execute_result"
    }
   ],
   "source": [
    "building_res_comps.shape"
   ]
  },
  {
   "cell_type": "markdown",
   "metadata": {},
   "source": [
    "The property values are reported in the `real_acct.txt` file. There is only one set of appraised values for each account number. Let's make sure our filtered `building_res_comps` only contains accounts that have just one building."
   ]
  },
  {
   "cell_type": "code",
   "execution_count": 20,
   "metadata": {
    "ExecuteTime": {
     "end_time": "2020-07-25T10:10:11.992605Z",
     "start_time": "2020-07-25T10:10:11.669630Z"
    }
   },
   "outputs": [],
   "source": [
    "total_bld_per_acct = building_res_comps.groupby('acct')['bld_num'].count()\n",
    "one_bld_in_acct = total_bld_per_acct[total_bld_per_acct == 1].index"
   ]
  },
  {
   "cell_type": "code",
   "execution_count": 21,
   "metadata": {
    "ExecuteTime": {
     "end_time": "2020-07-25T10:10:12.087248Z",
     "start_time": "2020-07-25T10:10:11.994182Z"
    }
   },
   "outputs": [],
   "source": [
    "assert one_bld_in_acct.is_unique, f\"Non-unique accounts: {one_bld_in_acct}\""
   ]
  },
  {
   "cell_type": "code",
   "execution_count": 22,
   "metadata": {
    "ExecuteTime": {
     "end_time": "2020-07-25T10:10:12.503159Z",
     "start_time": "2020-07-25T10:10:12.088656Z"
    }
   },
   "outputs": [],
   "source": [
    "cond0 = building_res_comps['acct'].isin(one_bld_in_acct)\n",
    "building_res_comps = building_res_comps.loc[cond0, :]"
   ]
  },
  {
   "cell_type": "code",
   "execution_count": 23,
   "metadata": {
    "ExecuteTime": {
     "end_time": "2020-07-25T10:10:12.523869Z",
     "start_time": "2020-07-25T10:10:12.507075Z"
    }
   },
   "outputs": [
    {
     "data": {
      "text/plain": [
       "(957687, 17)"
      ]
     },
     "execution_count": 23,
     "metadata": {},
     "output_type": "execute_result"
    }
   ],
   "source": [
    "building_res_comps.shape"
   ]
  },
  {
   "cell_type": "markdown",
   "metadata": {},
   "source": [
    "# Select columns in comparables\n",
    "Since the accounts remaining all have the same free-standing single-family defining columns values, we would like to export only the columns that change for this subset of the data."
   ]
  },
  {
   "cell_type": "code",
   "execution_count": 24,
   "metadata": {
    "ExecuteTime": {
     "end_time": "2020-07-25T10:10:12.542227Z",
     "start_time": "2020-07-25T10:10:12.526805Z"
    }
   },
   "outputs": [
    {
     "data": {
      "text/plain": [
       "Index(['acct', 'property_use_cd', 'bld_num', 'impr_tp', 'impr_mdl_cd',\n",
       "       'structure_dscr', 'dscr', 'date_erected', 'yr_remodel', 'im_sq_ft',\n",
       "       'act_ar', 'heat_ar', 'gross_ar', 'eff_ar', 'base_ar', 'perimeter',\n",
       "       'pct'],\n",
       "      dtype='object')"
      ]
     },
     "execution_count": 24,
     "metadata": {},
     "output_type": "execute_result"
    }
   ],
   "source": [
    "building_res_comps.columns"
   ]
  },
  {
   "cell_type": "code",
   "execution_count": 25,
   "metadata": {
    "ExecuteTime": {
     "end_time": "2020-07-25T10:10:12.556543Z",
     "start_time": "2020-07-25T10:10:12.544457Z"
    }
   },
   "outputs": [],
   "source": [
    "cols = [\n",
    "    'acct',     # Property unique account number\n",
    "    'dscr',     # Quality description\n",
    "    'date_erected',\n",
    "    'yr_remodel',\n",
    "    'im_sq_ft', # Improvement square feet\n",
    "    'act_ar',   # Actual area\n",
    "    'heat_ar',  # Heat area\n",
    "    'gross_ar', # Gross area\n",
    "    'eff_ar',   # Affective area\n",
    "    'base_ar',  # Base area\n",
    "    'perimeter',\n",
    "]"
   ]
  },
  {
   "cell_type": "code",
   "execution_count": 26,
   "metadata": {
    "ExecuteTime": {
     "end_time": "2020-07-25T10:10:12.603218Z",
     "start_time": "2020-07-25T10:10:12.558552Z"
    }
   },
   "outputs": [],
   "source": [
    "building_res_comps = building_res_comps.loc[:, cols]"
   ]
  },
  {
   "cell_type": "code",
   "execution_count": 27,
   "metadata": {
    "ExecuteTime": {
     "end_time": "2020-07-25T10:10:12.642475Z",
     "start_time": "2020-07-25T10:10:12.605542Z"
    }
   },
   "outputs": [
    {
     "data": {
      "text/html": [
       "<div>\n",
       "<style scoped>\n",
       "    .dataframe tbody tr th:only-of-type {\n",
       "        vertical-align: middle;\n",
       "    }\n",
       "\n",
       "    .dataframe tbody tr th {\n",
       "        vertical-align: top;\n",
       "    }\n",
       "\n",
       "    .dataframe thead th {\n",
       "        text-align: right;\n",
       "    }\n",
       "</style>\n",
       "<table border=\"1\" class=\"dataframe\">\n",
       "  <thead>\n",
       "    <tr style=\"text-align: right;\">\n",
       "      <th></th>\n",
       "      <th>acct</th>\n",
       "      <th>dscr</th>\n",
       "      <th>date_erected</th>\n",
       "      <th>yr_remodel</th>\n",
       "      <th>im_sq_ft</th>\n",
       "      <th>act_ar</th>\n",
       "      <th>heat_ar</th>\n",
       "      <th>gross_ar</th>\n",
       "      <th>eff_ar</th>\n",
       "      <th>base_ar</th>\n",
       "      <th>perimeter</th>\n",
       "    </tr>\n",
       "  </thead>\n",
       "  <tbody>\n",
       "    <tr>\n",
       "      <th>0</th>\n",
       "      <td>21660000012</td>\n",
       "      <td>Good</td>\n",
       "      <td>2014</td>\n",
       "      <td>0</td>\n",
       "      <td>2328</td>\n",
       "      <td>2328</td>\n",
       "      <td>2328</td>\n",
       "      <td>2328</td>\n",
       "      <td>2212</td>\n",
       "      <td>2328</td>\n",
       "      <td>300</td>\n",
       "    </tr>\n",
       "    <tr>\n",
       "      <th>1</th>\n",
       "      <td>21700000013</td>\n",
       "      <td>Low</td>\n",
       "      <td>1920</td>\n",
       "      <td>2004</td>\n",
       "      <td>1434</td>\n",
       "      <td>1622</td>\n",
       "      <td>1434</td>\n",
       "      <td>1622</td>\n",
       "      <td>1453</td>\n",
       "      <td>1434</td>\n",
       "      <td>170</td>\n",
       "    </tr>\n",
       "    <tr>\n",
       "      <th>3</th>\n",
       "      <td>21960000001</td>\n",
       "      <td>Low</td>\n",
       "      <td>1940</td>\n",
       "      <td>1999</td>\n",
       "      <td>4304</td>\n",
       "      <td>4984</td>\n",
       "      <td>4304</td>\n",
       "      <td>4984</td>\n",
       "      <td>4253</td>\n",
       "      <td>4304</td>\n",
       "      <td>444</td>\n",
       "    </tr>\n",
       "    <tr>\n",
       "      <th>6</th>\n",
       "      <td>22080000008</td>\n",
       "      <td>Low</td>\n",
       "      <td>1940</td>\n",
       "      <td>0</td>\n",
       "      <td>2240</td>\n",
       "      <td>2732</td>\n",
       "      <td>2240</td>\n",
       "      <td>2732</td>\n",
       "      <td>2270</td>\n",
       "      <td>2240</td>\n",
       "      <td>272</td>\n",
       "    </tr>\n",
       "    <tr>\n",
       "      <th>8</th>\n",
       "      <td>22620000008</td>\n",
       "      <td>Good</td>\n",
       "      <td>2013</td>\n",
       "      <td>0</td>\n",
       "      <td>1778</td>\n",
       "      <td>1808</td>\n",
       "      <td>1778</td>\n",
       "      <td>1808</td>\n",
       "      <td>1699</td>\n",
       "      <td>1778</td>\n",
       "      <td>256</td>\n",
       "    </tr>\n",
       "  </tbody>\n",
       "</table>\n",
       "</div>"
      ],
      "text/plain": [
       "          acct  dscr  date_erected  yr_remodel  im_sq_ft  act_ar  heat_ar  \\\n",
       "0  21660000012  Good          2014           0      2328    2328     2328   \n",
       "1  21700000013   Low          1920        2004      1434    1622     1434   \n",
       "3  21960000001   Low          1940        1999      4304    4984     4304   \n",
       "6  22080000008   Low          1940           0      2240    2732     2240   \n",
       "8  22620000008  Good          2013           0      1778    1808     1778   \n",
       "\n",
       "   gross_ar  eff_ar  base_ar  perimeter  \n",
       "0      2328    2212     2328        300  \n",
       "1      1622    1453     1434        170  \n",
       "3      4984    4253     4304        444  \n",
       "6      2732    2270     2240        272  \n",
       "8      1808    1699     1778        256  "
      ]
     },
     "execution_count": 27,
     "metadata": {},
     "output_type": "execute_result"
    }
   ],
   "source": [
    "building_res_comps.head()"
   ]
  },
  {
   "cell_type": "code",
   "execution_count": 28,
   "metadata": {
    "ExecuteTime": {
     "end_time": "2020-07-25T10:10:12.671626Z",
     "start_time": "2020-07-25T10:10:12.645571Z"
    }
   },
   "outputs": [
    {
     "data": {
      "text/plain": [
       "(957687, 11)"
      ]
     },
     "execution_count": 28,
     "metadata": {},
     "output_type": "execute_result"
    }
   ],
   "source": [
    "building_res_comps.shape"
   ]
  },
  {
   "cell_type": "markdown",
   "metadata": {},
   "source": [
    "# Describe and clean the columns\n",
    "\n",
    "Now we must describe each column by answering:\n",
    "\n",
    "* Meaning\n",
    "* Descriptive statistics or value counts\n",
    "* Data type\n",
    "\n",
    "There is no explicit document provided by HCAD explaining all the variables, but most are easy to guess for using their name."
   ]
  },
  {
   "cell_type": "markdown",
   "metadata": {},
   "source": [
    "## Find duplicated rows"
   ]
  },
  {
   "cell_type": "code",
   "execution_count": 29,
   "metadata": {
    "ExecuteTime": {
     "end_time": "2020-07-25T10:10:13.327648Z",
     "start_time": "2020-07-25T10:10:12.673772Z"
    }
   },
   "outputs": [
    {
     "data": {
      "text/html": [
       "<div>\n",
       "<style scoped>\n",
       "    .dataframe tbody tr th:only-of-type {\n",
       "        vertical-align: middle;\n",
       "    }\n",
       "\n",
       "    .dataframe tbody tr th {\n",
       "        vertical-align: top;\n",
       "    }\n",
       "\n",
       "    .dataframe thead th {\n",
       "        text-align: right;\n",
       "    }\n",
       "</style>\n",
       "<table border=\"1\" class=\"dataframe\">\n",
       "  <thead>\n",
       "    <tr style=\"text-align: right;\">\n",
       "      <th></th>\n",
       "      <th>acct</th>\n",
       "      <th>dscr</th>\n",
       "      <th>date_erected</th>\n",
       "      <th>yr_remodel</th>\n",
       "      <th>im_sq_ft</th>\n",
       "      <th>act_ar</th>\n",
       "      <th>heat_ar</th>\n",
       "      <th>gross_ar</th>\n",
       "      <th>eff_ar</th>\n",
       "      <th>base_ar</th>\n",
       "      <th>perimeter</th>\n",
       "    </tr>\n",
       "  </thead>\n",
       "  <tbody>\n",
       "  </tbody>\n",
       "</table>\n",
       "</div>"
      ],
      "text/plain": [
       "Empty DataFrame\n",
       "Columns: [acct, dscr, date_erected, yr_remodel, im_sq_ft, act_ar, heat_ar, gross_ar, eff_ar, base_ar, perimeter]\n",
       "Index: []"
      ]
     },
     "execution_count": 29,
     "metadata": {},
     "output_type": "execute_result"
    }
   ],
   "source": [
    "cond0 = building_res_comps.duplicated()\n",
    "building_res_comps.loc[cond0, :]"
   ]
  },
  {
   "cell_type": "markdown",
   "metadata": {},
   "source": [
    "## Account numbers: acct\n",
    "These are the account numbers or id that the property has in HCAD system. In previous steps we selected accounts for free-standing single-family homes, with a single building per property, thus the account values in the comps DataFrame should be unique."
   ]
  },
  {
   "cell_type": "code",
   "execution_count": 30,
   "metadata": {
    "ExecuteTime": {
     "end_time": "2020-07-25T10:10:13.459314Z",
     "start_time": "2020-07-25T10:10:13.329316Z"
    }
   },
   "outputs": [],
   "source": [
    "assert building_res_comps['acct'].is_unique"
   ]
  },
  {
   "cell_type": "code",
   "execution_count": 31,
   "metadata": {
    "ExecuteTime": {
     "end_time": "2020-07-25T10:10:13.474912Z",
     "start_time": "2020-07-25T10:10:13.460870Z"
    }
   },
   "outputs": [
    {
     "data": {
      "text/plain": [
       "dtype('uint64')"
      ]
     },
     "execution_count": 31,
     "metadata": {},
     "output_type": "execute_result"
    }
   ],
   "source": [
    "building_res_comps['acct'].dtype"
   ]
  },
  {
   "cell_type": "code",
   "execution_count": 32,
   "metadata": {
    "ExecuteTime": {
     "end_time": "2020-07-25T10:10:13.493801Z",
     "start_time": "2020-07-25T10:10:13.476406Z"
    }
   },
   "outputs": [
    {
     "name": "stdout",
     "output_type": "stream",
     "text": [
      "Minimum value: 21440000001\n",
      "Maximum value: 1955020050280\n"
     ]
    }
   ],
   "source": [
    "acct_min = building_res_comps['acct'].min()\n",
    "acct_max = building_res_comps['acct'].max()\n",
    "print(f'Minimum value: {acct_min}')\n",
    "print(f'Maximum value: {acct_max}')"
   ]
  },
  {
   "cell_type": "code",
   "execution_count": 33,
   "metadata": {
    "ExecuteTime": {
     "end_time": "2020-07-25T10:10:13.594309Z",
     "start_time": "2020-07-25T10:10:13.495905Z"
    }
   },
   "outputs": [
    {
     "name": "stdout",
     "output_type": "stream",
     "text": [
      "The number of missing values is: 0\n"
     ]
    }
   ],
   "source": [
    "print(f\"The number of missing values is: {sum(building_res_comps['acct'].isnull())}\")"
   ]
  },
  {
   "cell_type": "markdown",
   "metadata": {},
   "source": [
    "## Property quality description: dscr\n",
    "This is the current property quality description. It is an ordered categorical variable that can take values: 'Excellent', 'Superior', 'Good', 'Average', 'Low', 'Very Low', and 'Poor'."
   ]
  },
  {
   "cell_type": "code",
   "execution_count": 34,
   "metadata": {
    "ExecuteTime": {
     "end_time": "2020-07-25T10:10:13.621598Z",
     "start_time": "2020-07-25T10:10:13.596644Z"
    }
   },
   "outputs": [
    {
     "data": {
      "text/plain": [
       "0    Good\n",
       "1     Low\n",
       "3     Low\n",
       "6     Low\n",
       "8    Good\n",
       "Name: dscr, dtype: category\n",
       "Categories (7, object): [Average, Excellent, Good, Low, Poor, Superior, Very Low]"
      ]
     },
     "execution_count": 34,
     "metadata": {},
     "output_type": "execute_result"
    }
   ],
   "source": [
    "building_res_comps['dscr'].head()"
   ]
  },
  {
   "cell_type": "code",
   "execution_count": 35,
   "metadata": {
    "ExecuteTime": {
     "end_time": "2020-07-25T10:10:13.647975Z",
     "start_time": "2020-07-25T10:10:13.623110Z"
    }
   },
   "outputs": [],
   "source": [
    "order = ['Superior', 'Excellent', 'Good', 'Average', 'Low', 'Very Low', 'Poor']\n",
    "building_res_comps['dscr'] = building_res_comps['dscr'].cat.reorder_categories(order, ordered=True)"
   ]
  },
  {
   "cell_type": "code",
   "execution_count": 36,
   "metadata": {
    "ExecuteTime": {
     "end_time": "2020-07-25T10:10:13.678754Z",
     "start_time": "2020-07-25T10:10:13.652921Z"
    }
   },
   "outputs": [
    {
     "data": {
      "text/plain": [
       "0    Good\n",
       "1     Low\n",
       "3     Low\n",
       "6     Low\n",
       "8    Good\n",
       "Name: dscr, dtype: category\n",
       "Categories (7, object): [Excellent < Superior < Good < Average < Low < Very Low < Poor]"
      ]
     },
     "execution_count": 36,
     "metadata": {},
     "output_type": "execute_result"
    }
   ],
   "source": [
    "building_res_comps['dscr'].head()"
   ]
  },
  {
   "cell_type": "code",
   "execution_count": 37,
   "metadata": {
    "ExecuteTime": {
     "end_time": "2020-07-25T10:10:13.716310Z",
     "start_time": "2020-07-25T10:10:13.680957Z"
    }
   },
   "outputs": [
    {
     "data": {
      "text/plain": [
       "Average      0.629491\n",
       "Good         0.226793\n",
       "Low          0.077516\n",
       "Excellent    0.054442\n",
       "Superior     0.008366\n",
       "Very Low     0.003379\n",
       "Poor         0.000014\n",
       "Name: dscr, dtype: float64"
      ]
     },
     "execution_count": 37,
     "metadata": {},
     "output_type": "execute_result"
    }
   ],
   "source": [
    "building_res_comps['dscr'].value_counts(normalize=True)"
   ]
  },
  {
   "cell_type": "code",
   "execution_count": 38,
   "metadata": {
    "ExecuteTime": {
     "end_time": "2020-07-25T10:10:13.815057Z",
     "start_time": "2020-07-25T10:10:13.718088Z"
    }
   },
   "outputs": [
    {
     "name": "stdout",
     "output_type": "stream",
     "text": [
      "The number of missing values is: 0\n"
     ]
    }
   ],
   "source": [
    "print(f\"The number of missing values is: {sum(building_res_comps['dscr'].isnull())}\")"
   ]
  },
  {
   "cell_type": "markdown",
   "metadata": {
    "ExecuteTime": {
     "end_time": "2020-07-25T09:37:07.842635Z",
     "start_time": "2020-07-25T09:37:07.818868Z"
    }
   },
   "source": [
    "## Date erected: date_erected\n",
    "Refers to the year the property was built. Data should be positive integers up to 2015 (year before these data were issued)."
   ]
  },
  {
   "cell_type": "code",
   "execution_count": 39,
   "metadata": {
    "ExecuteTime": {
     "end_time": "2020-07-25T10:10:13.837676Z",
     "start_time": "2020-07-25T10:10:13.817419Z"
    }
   },
   "outputs": [
    {
     "data": {
      "text/plain": [
       "0    2014\n",
       "1    1920\n",
       "3    1940\n",
       "6    1940\n",
       "8    2013\n",
       "Name: date_erected, dtype: uint16"
      ]
     },
     "execution_count": 39,
     "metadata": {},
     "output_type": "execute_result"
    }
   ],
   "source": [
    "building_res_comps['date_erected'].head()"
   ]
  },
  {
   "cell_type": "code",
   "execution_count": 40,
   "metadata": {
    "ExecuteTime": {
     "end_time": "2020-07-25T10:10:13.899372Z",
     "start_time": "2020-07-25T10:10:13.840830Z"
    }
   },
   "outputs": [
    {
     "data": {
      "text/plain": [
       "(1998.182, 2015.0]      0.318817\n",
       "(1964.545, 1981.364]    0.246322\n",
       "(1981.364, 1998.182]    0.193594\n",
       "(1947.727, 1964.545]    0.175080\n",
       "(1930.909, 1947.727]    0.049634\n",
       "(1914.091, 1930.909]    0.015189\n",
       "(1897.273, 1914.091]    0.001199\n",
       "(1880.455, 1897.273]    0.000137\n",
       "(1863.636, 1880.455]    0.000022\n",
       "(1846.818, 1863.636]    0.000004\n",
       "(1829.814, 1846.818]    0.000003\n",
       "Name: date_erected, dtype: float64"
      ]
     },
     "execution_count": 40,
     "metadata": {},
     "output_type": "execute_result"
    }
   ],
   "source": [
    "building_res_comps['date_erected'].value_counts(bins=11, normalize=True)"
   ]
  },
  {
   "cell_type": "code",
   "execution_count": 41,
   "metadata": {
    "ExecuteTime": {
     "end_time": "2020-07-25T10:10:13.938923Z",
     "start_time": "2020-07-25T10:10:13.901556Z"
    }
   },
   "outputs": [
    {
     "data": {
      "text/plain": [
       "count    957687.000000\n",
       "mean       1981.594143\n",
       "std          22.229629\n",
       "min        1830.000000\n",
       "25%        1965.000000\n",
       "50%        1982.000000\n",
       "75%        2002.000000\n",
       "max        2015.000000\n",
       "Name: date_erected, dtype: float64"
      ]
     },
     "execution_count": 41,
     "metadata": {},
     "output_type": "execute_result"
    }
   ],
   "source": [
    "building_res_comps['date_erected'].describe()"
   ]
  },
  {
   "cell_type": "code",
   "execution_count": 42,
   "metadata": {
    "ExecuteTime": {
     "end_time": "2020-07-25T10:10:14.142460Z",
     "start_time": "2020-07-25T10:10:13.940803Z"
    }
   },
   "outputs": [
    {
     "name": "stdout",
     "output_type": "stream",
     "text": [
      "The number of missing values is: 0\n"
     ]
    }
   ],
   "source": [
    "print(f\"The number of missing values is: {sum(building_res_comps['date_erected'].isnull())}\")"
   ]
  },
  {
   "cell_type": "markdown",
   "metadata": {},
   "source": [
    "## Year remodeled: yr_remodel\n",
    "When was the last year the property was remodeled? In principle there shouldn't be properties remodeled before they were erected. Let's check that assumption."
   ]
  },
  {
   "cell_type": "code",
   "execution_count": 43,
   "metadata": {
    "ExecuteTime": {
     "end_time": "2020-07-25T10:10:14.194879Z",
     "start_time": "2020-07-25T10:10:14.144693Z"
    }
   },
   "outputs": [
    {
     "data": {
      "text/plain": [
       " 0       862600\n",
       " 1            3\n",
       "-1            1\n",
       " 2009         1\n",
       " 2005         1\n",
       "Name: yr_remodel, dtype: int64"
      ]
     },
     "execution_count": 43,
     "metadata": {},
     "output_type": "execute_result"
    }
   ],
   "source": [
    "cond0 = building_res_comps['yr_remodel'] < building_res_comps['date_erected']\n",
    "\n",
    "remo_before_build = building_res_comps['yr_remodel'].loc[cond0]\n",
    "remo_before_build_vc = remo_before_build.value_counts()\n",
    "remo_before_build_vc"
   ]
  },
  {
   "cell_type": "markdown",
   "metadata": {},
   "source": [
    "Let's assign NaNs to these values."
   ]
  },
  {
   "cell_type": "code",
   "execution_count": 44,
   "metadata": {
    "ExecuteTime": {
     "end_time": "2020-07-25T10:10:14.220746Z",
     "start_time": "2020-07-25T10:10:14.197448Z"
    }
   },
   "outputs": [],
   "source": [
    "replace = {num: np.nan for num in remo_before_build_vc.index}"
   ]
  },
  {
   "cell_type": "code",
   "execution_count": 45,
   "metadata": {
    "ExecuteTime": {
     "end_time": "2020-07-25T10:10:14.261642Z",
     "start_time": "2020-07-25T10:10:14.223642Z"
    }
   },
   "outputs": [],
   "source": [
    "building_res_comps['yr_remodel'].replace(replace, inplace=True)"
   ]
  },
  {
   "cell_type": "code",
   "execution_count": 46,
   "metadata": {
    "ExecuteTime": {
     "end_time": "2020-07-25T10:10:14.351349Z",
     "start_time": "2020-07-25T10:10:14.263940Z"
    }
   },
   "outputs": [
    {
     "data": {
      "text/plain": [
       "(1932.913, 1940.818]    0.000007\n",
       "(1940.818, 1948.636]    0.000017\n",
       "(1948.636, 1956.455]    0.000090\n",
       "(1956.455, 1964.273]    0.000515\n",
       "(1964.273, 1972.091]    0.002607\n",
       "(1972.091, 1979.909]    0.006923\n",
       "(1979.909, 1987.727]    0.007561\n",
       "(1987.727, 1995.545]    0.012738\n",
       "(1995.545, 2003.364]    0.019329\n",
       "(2003.364, 2011.182]    0.024668\n",
       "(2011.182, 2019.0]      0.015770\n",
       "Name: yr_remodel, dtype: float64"
      ]
     },
     "execution_count": 46,
     "metadata": {},
     "output_type": "execute_result"
    }
   ],
   "source": [
    "building_res_comps['yr_remodel'].value_counts(bins=11, normalize=True, sort=False)"
   ]
  },
  {
   "cell_type": "code",
   "execution_count": 47,
   "metadata": {
    "ExecuteTime": {
     "end_time": "2020-07-25T10:10:14.409174Z",
     "start_time": "2020-07-25T10:10:14.353016Z"
    }
   },
   "outputs": [
    {
     "data": {
      "text/plain": [
       "count    86407.000000\n",
       "mean      1999.077471\n",
       "std         12.912784\n",
       "min       1933.000000\n",
       "25%       1991.000000\n",
       "50%       2002.000000\n",
       "75%       2010.000000\n",
       "max       2019.000000\n",
       "Name: yr_remodel, dtype: float64"
      ]
     },
     "execution_count": 47,
     "metadata": {},
     "output_type": "execute_result"
    }
   ],
   "source": [
    "building_res_comps['yr_remodel'].describe()"
   ]
  },
  {
   "cell_type": "code",
   "execution_count": 48,
   "metadata": {
    "ExecuteTime": {
     "end_time": "2020-07-25T10:10:14.549634Z",
     "start_time": "2020-07-25T10:10:14.410782Z"
    }
   },
   "outputs": [
    {
     "name": "stdout",
     "output_type": "stream",
     "text": [
      "The number of missing values is: 871280\n"
     ]
    }
   ],
   "source": [
    "print(f\"The number of missing values is: {sum(building_res_comps['yr_remodel'].isnull())}\")"
   ]
  },
  {
   "cell_type": "markdown",
   "metadata": {},
   "source": [
    "## Areas\n",
    "There are a few columns in the comps DataFrame that account for different property areas. Some of their descriptions can be found on [HCAD definitions file](https://pdata.hcad.org/Desc/Definition_help.pdf):\n",
    "\n",
    "1. im_sq_ft: Improvement area.\n",
    "2. base_ar: Base area. Building Area for commercial properties; Sum of the areas of all the base areas of a commercial property. Residential properties do not use base area.\n",
    "3. act_ar: Actual area. For residential properties this is the base area of the house.\n",
    "4. heat_ar: Living Area or Building sqft of a residential building. \n",
    "5. gross_ar: Usually equal to Actual area, except in 1+1/2 story houses. Commercial properties do not use Gross Area.\n",
    "6. eff_ar: Effective area. This is used in determining the market value of the improvements, but there is no clear definition in the HCAD website.\n",
    "\n",
    "From this list we gather that we can safely drop the `base_ar` as we are focused on residential properties. Also the `heat_ar` should be no larger than the `act_ar`, e.g. the house porch in not included in the `heat_ar` but it is included in the `act_ar`."
   ]
  },
  {
   "cell_type": "code",
   "execution_count": 49,
   "metadata": {
    "ExecuteTime": {
     "end_time": "2020-07-25T10:10:14.583698Z",
     "start_time": "2020-07-25T10:10:14.551926Z"
    }
   },
   "outputs": [],
   "source": [
    "cols = list(building_res_comps.columns)\n",
    "cols.remove('base_ar')\n",
    "building_res_comps = building_res_comps.loc[:, cols]"
   ]
  },
  {
   "cell_type": "code",
   "execution_count": 50,
   "metadata": {
    "ExecuteTime": {
     "end_time": "2020-07-25T10:10:14.599950Z",
     "start_time": "2020-07-25T10:10:14.585657Z"
    }
   },
   "outputs": [
    {
     "data": {
      "text/plain": [
       "False"
      ]
     },
     "execution_count": 50,
     "metadata": {},
     "output_type": "execute_result"
    }
   ],
   "source": [
    "all(building_res_comps['heat_ar'] > building_res_comps['act_ar'])"
   ]
  },
  {
   "cell_type": "markdown",
   "metadata": {},
   "source": [
    "We should also consider dropping all the properties that have zero in all of these area columns"
   ]
  },
  {
   "cell_type": "code",
   "execution_count": 51,
   "metadata": {
    "ExecuteTime": {
     "end_time": "2020-07-25T10:10:14.622686Z",
     "start_time": "2020-07-25T10:10:14.601896Z"
    }
   },
   "outputs": [],
   "source": [
    "cond0 = building_res_comps['im_sq_ft'] == 0\n",
    "cond1 = building_res_comps['im_sq_ft'] == building_res_comps['act_ar']\n",
    "cond2 = building_res_comps['im_sq_ft'] == building_res_comps['heat_ar'] \n",
    "cond3 = building_res_comps['im_sq_ft'] == building_res_comps['gross_ar'] \n",
    "cond4 = building_res_comps['im_sq_ft'] == building_res_comps['eff_ar']"
   ]
  },
  {
   "cell_type": "code",
   "execution_count": 52,
   "metadata": {
    "ExecuteTime": {
     "end_time": "2020-07-25T10:10:14.700569Z",
     "start_time": "2020-07-25T10:10:14.625141Z"
    }
   },
   "outputs": [],
   "source": [
    "building_res_comps = building_res_comps.loc[~(cond0 & cond1 & cond2 & cond3 & cond4), :]"
   ]
  },
  {
   "cell_type": "code",
   "execution_count": 53,
   "metadata": {
    "ExecuteTime": {
     "end_time": "2020-07-25T10:10:14.722534Z",
     "start_time": "2020-07-25T10:10:14.705225Z"
    }
   },
   "outputs": [
    {
     "data": {
      "text/plain": [
       "(957682, 10)"
      ]
     },
     "execution_count": 53,
     "metadata": {},
     "output_type": "execute_result"
    }
   ],
   "source": [
    "building_res_comps.shape"
   ]
  },
  {
   "cell_type": "markdown",
   "metadata": {},
   "source": [
    "### im_sq_ft: Improvement area"
   ]
  },
  {
   "cell_type": "code",
   "execution_count": 54,
   "metadata": {
    "ExecuteTime": {
     "end_time": "2020-07-25T10:10:14.749537Z",
     "start_time": "2020-07-25T10:10:14.725600Z"
    }
   },
   "outputs": [],
   "source": [
    "from src.data.utils import fix_area_column"
   ]
  },
  {
   "cell_type": "code",
   "execution_count": 55,
   "metadata": {
    "ExecuteTime": {
     "end_time": "2020-07-25T10:10:14.933909Z",
     "start_time": "2020-07-25T10:10:14.751685Z"
    }
   },
   "outputs": [
    {
     "name": "stdout",
     "output_type": "stream",
     "text": [
      "Values less than 100 sqft: 3\n",
      "59164     0\n",
      "181397    0\n",
      "199344    0\n",
      "Name: im_sq_ft, dtype: uint16\n",
      "\n",
      "\n",
      "The new data type is: float64\n",
      "\n",
      "\n",
      "The number of null values is: 3\n",
      "\n",
      "\n",
      "im_sq_ft description:\n",
      "count    957679.000000\n",
      "mean       2111.179442\n",
      "std         956.416701\n",
      "min         120.000000\n",
      "25%        1462.000000\n",
      "50%        1904.000000\n",
      "75%        2539.000000\n",
      "max       26401.000000\n",
      "Name: im_sq_ft, dtype: float64\n"
     ]
    }
   ],
   "source": [
    "building_res_comps = fix_area_column(building_res_comps, 'im_sq_ft')"
   ]
  },
  {
   "cell_type": "markdown",
   "metadata": {},
   "source": [
    "### Actual area: act_ar"
   ]
  },
  {
   "cell_type": "code",
   "execution_count": 56,
   "metadata": {
    "ExecuteTime": {
     "end_time": "2020-07-25T10:10:15.089556Z",
     "start_time": "2020-07-25T10:10:14.935582Z"
    }
   },
   "outputs": [
    {
     "name": "stdout",
     "output_type": "stream",
     "text": [
      "Values less than 100 sqft: 0\n",
      "\n",
      "\n",
      "The new data type is: uint16\n",
      "\n",
      "\n",
      "The number of null values is: 0\n",
      "\n",
      "\n",
      "act_ar description:\n",
      "count    957682.000000\n",
      "mean       2619.444627\n",
      "std        1183.968453\n",
      "min         144.000000\n",
      "25%        1894.000000\n",
      "50%        2415.000000\n",
      "75%        3082.000000\n",
      "max       37123.000000\n",
      "Name: act_ar, dtype: float64\n"
     ]
    }
   ],
   "source": [
    "building_res_comps = fix_area_column(building_res_comps, 'act_ar')"
   ]
  },
  {
   "cell_type": "markdown",
   "metadata": {},
   "source": [
    "### Living area: heat_ar"
   ]
  },
  {
   "cell_type": "code",
   "execution_count": 57,
   "metadata": {
    "ExecuteTime": {
     "end_time": "2020-07-25T10:10:15.260390Z",
     "start_time": "2020-07-25T10:10:15.092307Z"
    }
   },
   "outputs": [
    {
     "name": "stdout",
     "output_type": "stream",
     "text": [
      "Values less than 100 sqft: 4\n",
      "59164     0\n",
      "84729     0\n",
      "181397    0\n",
      "199344    0\n",
      "Name: heat_ar, dtype: uint16\n",
      "\n",
      "\n",
      "The new data type is: float64\n",
      "\n",
      "\n",
      "The number of null values is: 4\n",
      "\n",
      "\n",
      "heat_ar description:\n",
      "count    957678.000000\n",
      "mean       2108.506543\n",
      "std         953.562437\n",
      "min         120.000000\n",
      "25%        1462.000000\n",
      "50%        1903.000000\n",
      "75%        2534.000000\n",
      "max       26401.000000\n",
      "Name: heat_ar, dtype: float64\n"
     ]
    }
   ],
   "source": [
    "building_res_comps = fix_area_column(building_res_comps, 'heat_ar')"
   ]
  },
  {
   "cell_type": "markdown",
   "metadata": {},
   "source": [
    "### Gross area: gross_ar"
   ]
  },
  {
   "cell_type": "code",
   "execution_count": 58,
   "metadata": {
    "ExecuteTime": {
     "end_time": "2020-07-25T10:10:15.408599Z",
     "start_time": "2020-07-25T10:10:15.262007Z"
    }
   },
   "outputs": [
    {
     "name": "stdout",
     "output_type": "stream",
     "text": [
      "Values less than 100 sqft: 0\n",
      "\n",
      "\n",
      "The new data type is: uint16\n",
      "\n",
      "\n",
      "The number of null values is: 0\n",
      "\n",
      "\n",
      "gross_ar description:\n",
      "count    957682.000000\n",
      "mean       2616.858851\n",
      "std        1181.431082\n",
      "min         120.000000\n",
      "25%        1894.000000\n",
      "50%        2413.000000\n",
      "75%        3077.000000\n",
      "max       37123.000000\n",
      "Name: gross_ar, dtype: float64\n"
     ]
    }
   ],
   "source": [
    "building_res_comps = fix_area_column(building_res_comps, 'gross_ar')"
   ]
  },
  {
   "cell_type": "markdown",
   "metadata": {},
   "source": [
    "### Effective area: eff_ar"
   ]
  },
  {
   "cell_type": "code",
   "execution_count": 59,
   "metadata": {
    "ExecuteTime": {
     "end_time": "2020-07-25T10:10:15.587487Z",
     "start_time": "2020-07-25T10:10:15.410270Z"
    }
   },
   "outputs": [
    {
     "name": "stdout",
     "output_type": "stream",
     "text": [
      "Values less than 100 sqft: 1\n",
      "84729    37\n",
      "Name: eff_ar, dtype: uint16\n",
      "\n",
      "\n",
      "The new data type is: float64\n",
      "\n",
      "\n",
      "The number of null values is: 1\n",
      "\n",
      "\n",
      "eff_ar description:\n",
      "count    957681.000000\n",
      "mean       2227.733345\n",
      "std         961.237634\n",
      "min         144.000000\n",
      "25%        1607.000000\n",
      "50%        2049.000000\n",
      "75%        2623.000000\n",
      "max       27753.000000\n",
      "Name: eff_ar, dtype: float64\n"
     ]
    }
   ],
   "source": [
    "building_res_comps = fix_area_column(building_res_comps, 'eff_ar')"
   ]
  },
  {
   "cell_type": "markdown",
   "metadata": {},
   "source": [
    "## Perimeter\n",
    "Let's say that all perimeter values less than 50 ft are bad, and replace them with NaNs."
   ]
  },
  {
   "cell_type": "code",
   "execution_count": 60,
   "metadata": {
    "ExecuteTime": {
     "end_time": "2020-07-25T10:10:15.600709Z",
     "start_time": "2020-07-25T10:10:15.589063Z"
    }
   },
   "outputs": [],
   "source": [
    "cond0 = building_res_comps['perimeter'] < 50"
   ]
  },
  {
   "cell_type": "code",
   "execution_count": 61,
   "metadata": {
    "ExecuteTime": {
     "end_time": "2020-07-25T10:10:15.744577Z",
     "start_time": "2020-07-25T10:10:15.602809Z"
    }
   },
   "outputs": [
    {
     "name": "stdout",
     "output_type": "stream",
     "text": [
      "Number of bad perimeter values: 1169\n"
     ]
    }
   ],
   "source": [
    "print(f\"Number of bad perimeter values: {sum(cond0)}\")"
   ]
  },
  {
   "cell_type": "code",
   "execution_count": 62,
   "metadata": {
    "ExecuteTime": {
     "end_time": "2020-07-25T10:10:15.765080Z",
     "start_time": "2020-07-25T10:10:15.747015Z"
    }
   },
   "outputs": [
    {
     "data": {
      "text/plain": [
       " 0      1163\n",
       "-580       1\n",
       "-220       1\n",
       "-56        1\n",
       "-54        1\n",
       "-20        1\n",
       " 2         1\n",
       "Name: perimeter, dtype: int64"
      ]
     },
     "execution_count": 62,
     "metadata": {},
     "output_type": "execute_result"
    }
   ],
   "source": [
    "bad_perimeter_vc = building_res_comps.loc[cond0, :]['perimeter'].value_counts()\n",
    "bad_perimeter_vc"
   ]
  },
  {
   "cell_type": "code",
   "execution_count": 63,
   "metadata": {
    "ExecuteTime": {
     "end_time": "2020-07-25T10:10:15.787286Z",
     "start_time": "2020-07-25T10:10:15.767365Z"
    }
   },
   "outputs": [],
   "source": [
    "replace = {num: np.nan for num in bad_perimeter_vc.index}"
   ]
  },
  {
   "cell_type": "code",
   "execution_count": 64,
   "metadata": {
    "ExecuteTime": {
     "end_time": "2020-07-25T10:10:15.823826Z",
     "start_time": "2020-07-25T10:10:15.789535Z"
    }
   },
   "outputs": [],
   "source": [
    "building_res_comps['perimeter'].replace(replace, inplace=True)"
   ]
  },
  {
   "cell_type": "code",
   "execution_count": 65,
   "metadata": {
    "ExecuteTime": {
     "end_time": "2020-07-25T10:10:15.913015Z",
     "start_time": "2020-07-25T10:10:15.826015Z"
    }
   },
   "outputs": [
    {
     "data": {
      "text/plain": [
       "count    956513.000000\n",
       "mean        269.796247\n",
       "std         110.961063\n",
       "min          52.000000\n",
       "25%         192.000000\n",
       "50%         234.000000\n",
       "75%         330.000000\n",
       "max        1937.000000\n",
       "Name: perimeter, dtype: float64"
      ]
     },
     "execution_count": 65,
     "metadata": {},
     "output_type": "execute_result"
    }
   ],
   "source": [
    "building_res_comps['perimeter'].describe()"
   ]
  },
  {
   "cell_type": "code",
   "execution_count": 66,
   "metadata": {
    "ExecuteTime": {
     "end_time": "2020-07-25T10:10:16.042323Z",
     "start_time": "2020-07-25T10:10:15.915052Z"
    }
   },
   "outputs": [
    {
     "name": "stdout",
     "output_type": "stream",
     "text": [
      "The number of missing perimeter values is: 1169\n"
     ]
    }
   ],
   "source": [
    "print(f\"The number of missing perimeter values is: {sum(building_res_comps['perimeter'].isnull())}\")"
   ]
  },
  {
   "cell_type": "markdown",
   "metadata": {},
   "source": [
    "# Export building_res_comps\n",
    "That was a lot of work! Let's save it as a pickle file and continue the data conditioning in the next notebook."
   ]
  },
  {
   "cell_type": "code",
   "execution_count": 67,
   "metadata": {
    "ExecuteTime": {
     "end_time": "2020-07-25T10:10:16.060271Z",
     "start_time": "2020-07-25T10:10:16.044736Z"
    }
   },
   "outputs": [],
   "source": [
    "from src.data.utils import save_pickle"
   ]
  },
  {
   "cell_type": "code",
   "execution_count": 68,
   "metadata": {
    "ExecuteTime": {
     "end_time": "2020-07-25T10:10:16.077843Z",
     "start_time": "2020-07-25T10:10:16.065063Z"
    }
   },
   "outputs": [],
   "source": [
    "save_fn = ROOT_DIR / 'data/raw/2016/building_res_comps.pickle'"
   ]
  },
  {
   "cell_type": "code",
   "execution_count": 69,
   "metadata": {
    "ExecuteTime": {
     "end_time": "2020-07-25T10:10:17.223721Z",
     "start_time": "2020-07-25T10:10:16.080141Z"
    }
   },
   "outputs": [],
   "source": [
    "save_pickle(building_res_comps, save_fn)"
   ]
  },
  {
   "cell_type": "markdown",
   "metadata": {},
   "source": [
    "# Export unique account numbers of interest: one_bld_in_acct"
   ]
  },
  {
   "cell_type": "code",
   "execution_count": 70,
   "metadata": {
    "ExecuteTime": {
     "end_time": "2020-07-25T10:10:17.280671Z",
     "start_time": "2020-07-25T10:10:17.228423Z"
    }
   },
   "outputs": [],
   "source": [
    "save_fn = ROOT_DIR / 'data/raw/2016/one_bld_in_acct.pickle'"
   ]
  },
  {
   "cell_type": "code",
   "execution_count": 71,
   "metadata": {
    "ExecuteTime": {
     "end_time": "2020-07-25T10:10:17.356119Z",
     "start_time": "2020-07-25T10:10:17.284967Z"
    }
   },
   "outputs": [],
   "source": [
    "save_pickle(one_bld_in_acct, save_fn)"
   ]
  }
 ],
 "metadata": {
  "kernelspec": {
   "display_name": "hcad_pred",
   "language": "python",
   "name": "hcad_pred"
  },
  "language_info": {
   "codemirror_mode": {
    "name": "ipython",
    "version": 3
   },
   "file_extension": ".py",
   "mimetype": "text/x-python",
   "name": "python",
   "nbconvert_exporter": "python",
   "pygments_lexer": "ipython3",
   "version": "3.7.8"
  },
  "toc": {
   "base_numbering": 1,
   "nav_menu": {},
   "number_sections": true,
   "sideBar": true,
   "skip_h1_title": false,
   "title_cell": "Table of Contents",
   "title_sidebar": "Contents",
   "toc_cell": false,
   "toc_position": {},
   "toc_section_display": true,
   "toc_window_display": false
  }
 },
 "nbformat": 4,
 "nbformat_minor": 4
}
