{
 "cells": [
  {
   "cell_type": "markdown",
   "metadata": {},
   "source": [
    "# Harris County Appraisal District (HCAD) real and personal property data\n",
    "The Harris County is the [third most populous](https://en.wikipedia.org/wiki/List_of_the_most_populous_counties_in_the_United_States) county in the USA. Its appraisal district (HCAD) provides a fantastic dataset with each appraised property characteristics (appraised value, fixtures, features...) on a yearly basis. In this notebook we explore these data for the year 2016, to understand what is available, and to select variables that can help us answer if a given property was appraised fairly.\n",
    "\n",
    "[HCAD data](https://pdata.hcad.org/download/2016.html) consists of several text files, grouped in zipped files as follows:\n",
    "\n",
    "1. Real_acct_owner.zip\n",
    "    * **Real_acct.txt**: account including owner name, owner mailing address, $\\color{red}{values}$, $\\color{red}{site~address}$, and legal descriptions.\n",
    "    * **Real_neighborhood_code.txt**:  $\\color{red}{neighborhood~code}$, group code and description\n",
    "    * **Parcel_tiebacks.txt**\n",
    "    * **Permits.txt**: an account including permit type, permit description, and status.\n",
    "    * **Owners.txt**: multiple owners.\n",
    "    * **Deeds.txt**: deed information.\n",
    "\n",
    "\n",
    "2. Real_building_land.zip\n",
    "    * **Building_res.txt**: $\\color{red}{all~residential~information}$\n",
    "    * **Building_other.txt**: all other real properties, such as commercial and information for income producing properties including occupancy rates and operating income.\n",
    "    * **Exterior.txt**: $\\color{red}{general~data~about~buildings~and~sub~areas,~(style~or~use,~size,~year~built).}$\n",
    "    * **Fixture.txt**: $\\color{red}{characteristics~of~the~building}$. This includes bedrooms, fireplace, bathrooms, stories for residential. Also contains wall height, elevators, and other descriptions for commercial property.\n",
    "    * **Extra_features.txt**: extra features for an account. This includes wood deck, $\\color{red}{pool}$, storage shed, detached garage, etc. This also contains information on cracked slabs and pools.\n",
    "    * **Structural_elem1.txt**: $\\color{red}{Single~Family}$, Multi Family, Condos, Town homes. $\\color{red}{Home~Information}$ (CDU, Grade Adjustment, Physical Condition).\n",
    "    * **Structural_elem2.txt**: Commercial and exempt Properties. These files contain structural elements of a property. This includes information like $\\color{red}{physical~condition,~grade,~exterior~wall,~and~foundation~type}$.\n",
    "    * **Land.txt**: land use, acreage, and land units.\n",
    "    * **Land_ag.txt**: agricultural and timber land information including land use, acreage, and land units.\n",
    "\n",
    "\n",
    "3. Real_jur_exempt.zip\n",
    "    * **Jur_exempt.txt**: Lists the jurisdictions and exemptions associated with an account and the tax rates.\n",
    "    * **Jur_exemption_cd**: Lists the exemption code associated with an account.\n",
    "    * **Jur_exemption_dscr**: Lists the jurisdictions and their exemption description.\n",
    "    * **Jur_tax_district_exempt_value.txt**: Lists the jurisdictions and their exemption values.\n",
    "    * **Jur_tax_district_percent_rate**: Lists the Taxing district percent rates.\n",
    "    * **Jur_value.txt**: Lists the jurisdictions and values associated with an account.\n",
    "\n",
    "\n",
    "4. PP_files.zip\n",
    "    * **T_business_acct.txt**:  account, including owner name, owner mailing address, values, site address, and legal descriptions, all values and etc.\n",
    "    * **T_business_detail.txt**: account, items, description and item values.\n",
    "    * **T_jur_exempt.txt**: Lists the jurisdictions and exemptions associated with an account and the tax rates.\n",
    "    * **T_jur_value.txt**: Lists the jurisdictions and values associated with an account.\n",
    "    * **T_jur_tax_district_exempt_value.txt**: Lists the jurisdictions and their exemption values.\n",
    "    * **T_jur_tax_district_percent_rate**: Lists the Taxing district percent rates.\n",
    "    * **T_pp_c.txt**: c Pipelines data.\n",
    "    * **T_pp_e.txt**: e Minerals data.\n",
    "    * **T_pp_l.txt**: l Electrical Transmission / Distribution Lines data.\n",
    "\n",
    "\n",
    "5. Hearing_files.zip\n",
    "    * **ARB_hearings_pp.txt**: account, state code, owner, date of hearing, release date, conclusion code, initial and final values and etc.\n",
    "    * **ARB_hearings_real.txt**: account, state code, owner, date of hearing, release date, conclusion code, initial and final values and etc.\n",
    "    * **ARB_protest_pp.txt**: account, protest by, date of protest.\n",
    "    * **ARB_protest_real.txt**: account, protest by, date of protest.\n",
    "\n",
    "In addition, the following files are also available for deciphering codes in some of the variables:\n",
    "\n",
    "1. code_desc_real.txt\n",
    "2. code_nh_numbers.txt\n",
    "3. code_nh_numbers_adj.txt\n",
    "4. code_desc_personal.txt\n",
    "5. code_jur_list.txt\n",
    "\n",
    "The first step is then to identify the variables that will influence the appraised value (highlighted in red above). Next, we would like to filter the data to only contain comparables, in this case free standing (a house) single-family properties."
   ]
  },
  {
   "cell_type": "markdown",
   "metadata": {},
   "source": [
    "# Find the comparables: building_res.txt\n",
    "\n",
    "The file `building_res.txt` contains the some of the properties description, including the HCAD account number (column acct) they are associated to. Let's find the account numbers for the free standing single family properties."
   ]
  },
  {
   "cell_type": "code",
   "execution_count": null,
   "metadata": {
    "ExecuteTime": {
     "end_time": "2020-07-18T10:57:07.821122Z",
     "start_time": "2020-07-18T10:57:07.800110Z"
    }
   },
   "outputs": [],
   "source": [
    "%load_ext autoreload\n",
    "%autoreload 2"
   ]
  },
  {
   "cell_type": "code",
   "execution_count": null,
   "metadata": {
    "ExecuteTime": {
     "end_time": "2020-07-18T10:57:08.577755Z",
     "start_time": "2020-07-18T10:57:08.178101Z"
    }
   },
   "outputs": [],
   "source": [
    "from pathlib import Path\n",
    "\n",
    "import pandas as pd\n",
    "\n",
    "from src.definitions import ROOT_DIR\n",
    "from src.data.utils import Table"
   ]
  },
  {
   "cell_type": "code",
   "execution_count": null,
   "metadata": {
    "ExecuteTime": {
     "end_time": "2020-07-18T10:57:08.600266Z",
     "start_time": "2020-07-18T10:57:08.579798Z"
    }
   },
   "outputs": [],
   "source": [
    "building_res_fn = ROOT_DIR / 'data/external/2016/Real_building_land/building_res.txt'\n",
    "assert building_res_fn.exists()"
   ]
  },
  {
   "cell_type": "markdown",
   "metadata": {},
   "source": [
    "The column names of the HCAD files are stored in the file `Layout_and_Length.txt`. The `src.data.utils.Table` class has methods to read the file column names, and read the data file as a pandas DataFrame."
   ]
  },
  {
   "cell_type": "code",
   "execution_count": null,
   "metadata": {
    "ExecuteTime": {
     "end_time": "2020-07-18T10:57:09.445003Z",
     "start_time": "2020-07-18T10:57:09.416778Z"
    }
   },
   "outputs": [],
   "source": [
    "building_res = Table(building_res_fn, '2016')"
   ]
  },
  {
   "cell_type": "code",
   "execution_count": null,
   "metadata": {
    "ExecuteTime": {
     "end_time": "2020-07-18T10:57:10.327158Z",
     "start_time": "2020-07-18T10:57:10.305925Z"
    }
   },
   "outputs": [],
   "source": [
    "building_res.get_header()"
   ]
  },
  {
   "cell_type": "code",
   "execution_count": null,
   "metadata": {
    "ExecuteTime": {
     "end_time": "2020-07-18T10:57:17.719570Z",
     "start_time": "2020-07-18T10:57:11.140580Z"
    }
   },
   "outputs": [],
   "source": [
    "building_res_df = building_res.get_df()"
   ]
  },
  {
   "cell_type": "code",
   "execution_count": null,
   "metadata": {
    "ExecuteTime": {
     "end_time": "2020-07-18T10:57:17.761075Z",
     "start_time": "2020-07-18T10:57:17.721455Z"
    }
   },
   "outputs": [],
   "source": [
    "building_res_df.head()"
   ]
  },
  {
   "cell_type": "markdown",
   "metadata": {},
   "source": [
    "We would like to decode the values in columns: `property_use_cd`, `bld_num`, and `impr_tp`. For this we need the tables stored in the file `code_desc_ral`, so we can use the `get_codes` method and pass its return to the `map_codes_to_column` method of the Table object."
   ]
  },
  {
   "cell_type": "code",
   "execution_count": null,
   "metadata": {
    "ExecuteTime": {
     "end_time": "2020-07-18T10:57:19.969281Z",
     "start_time": "2020-07-18T10:57:19.945098Z"
    }
   },
   "outputs": [],
   "source": [
    "codes_fn = ROOT_DIR / 'data/external/2016/code_desc_real'\n",
    "assert codes_fn.exists()"
   ]
  },
  {
   "cell_type": "markdown",
   "metadata": {},
   "source": [
    "Most column codes are reported in pairs (value, description), but the `property_use_cd` codes are reported as triplet (code, 2nd Cd, description). For this reason we must pass the `split_part=2` argument to the get_code method."
   ]
  },
  {
   "cell_type": "code",
   "execution_count": null,
   "metadata": {
    "ExecuteTime": {
     "end_time": "2020-07-18T10:57:20.537380Z",
     "start_time": "2020-07-18T10:57:20.492285Z"
    }
   },
   "outputs": [],
   "source": [
    "building_state_class_code = building_res.get_code(codes_fn, 'State Class', split_parts=2)"
   ]
  },
  {
   "cell_type": "code",
   "execution_count": null,
   "metadata": {
    "ExecuteTime": {
     "end_time": "2020-07-18T10:57:20.718636Z",
     "start_time": "2020-07-18T10:57:20.702895Z"
    }
   },
   "outputs": [],
   "source": [
    "building_type_code = building_res.get_code(codes_fn, 'Building Type Code')"
   ]
  },
  {
   "cell_type": "code",
   "execution_count": null,
   "metadata": {
    "ExecuteTime": {
     "end_time": "2020-07-18T10:57:21.002611Z",
     "start_time": "2020-07-18T10:57:20.977435Z"
    }
   },
   "outputs": [],
   "source": [
    "building_style_code = building_res.get_code(codes_fn, 'Building Style')"
   ]
  },
  {
   "cell_type": "code",
   "execution_count": null,
   "metadata": {
    "ExecuteTime": {
     "end_time": "2020-07-18T10:57:23.524656Z",
     "start_time": "2020-07-18T10:57:21.223848Z"
    }
   },
   "outputs": [],
   "source": [
    "building_res_df = building_res.map_codes_to_column('property_use_cd', building_state_class_code)\n",
    "building_res_df = building_res.map_codes_to_column('impr_tp', building_type_code)\n",
    "building_res_df = building_res.map_codes_to_column('impr_mdl_cd', building_style_code)"
   ]
  },
  {
   "cell_type": "code",
   "execution_count": null,
   "metadata": {
    "ExecuteTime": {
     "end_time": "2020-07-18T10:57:23.564268Z",
     "start_time": "2020-07-18T10:57:23.526208Z"
    }
   },
   "outputs": [],
   "source": [
    "building_res_df.head()"
   ]
  },
  {
   "cell_type": "markdown",
   "metadata": {},
   "source": [
    "Let's look at the value distribution for the property type columns."
   ]
  },
  {
   "cell_type": "code",
   "execution_count": null,
   "metadata": {
    "ExecuteTime": {
     "end_time": "2020-07-18T10:57:23.698952Z",
     "start_time": "2020-07-18T10:57:23.567248Z"
    }
   },
   "outputs": [],
   "source": [
    "building_res_df['property_use_cd'].value_counts().head(10)"
   ]
  },
  {
   "cell_type": "code",
   "execution_count": null,
   "metadata": {
    "ExecuteTime": {
     "end_time": "2020-07-18T10:57:23.807081Z",
     "start_time": "2020-07-18T10:57:23.701694Z"
    }
   },
   "outputs": [],
   "source": [
    "building_res_df['impr_tp'].value_counts().head(10)"
   ]
  },
  {
   "cell_type": "code",
   "execution_count": null,
   "metadata": {
    "ExecuteTime": {
     "end_time": "2020-07-18T10:57:23.910429Z",
     "start_time": "2020-07-18T10:57:23.810781Z"
    }
   },
   "outputs": [],
   "source": [
    "building_res_df['impr_mdl_cd'].value_counts().head(10)"
   ]
  },
  {
   "cell_type": "code",
   "execution_count": null,
   "metadata": {
    "ExecuteTime": {
     "end_time": "2020-07-18T10:57:24.013113Z",
     "start_time": "2020-07-18T10:57:23.912607Z"
    }
   },
   "outputs": [],
   "source": [
    "building_res_df['structure_dscr'].value_counts().head(10)"
   ]
  },
  {
   "cell_type": "markdown",
   "metadata": {},
   "source": [
    "Since we are interested in the free-standing single-family home, let's filter `building_res_df` to account only for these properties."
   ]
  },
  {
   "cell_type": "code",
   "execution_count": null,
   "metadata": {
    "ExecuteTime": {
     "end_time": "2020-07-18T10:57:24.336611Z",
     "start_time": "2020-07-18T10:57:24.015660Z"
    }
   },
   "outputs": [],
   "source": [
    "cond0 = building_res_df['property_use_cd'] == 'Real, Residential, Single-Family'\n",
    "cond1 = building_res_df['impr_mdl_cd'] == 'Residential 1 Family'\n",
    "cond2 = building_res_df['impr_tp'] == 'Residential Single Family'\n",
    "cond3 = building_res_df['structure_dscr'] == 'Residential'\n",
    "cond4 = building_res_df['pct'] == 1 # 100% built home"
   ]
  },
  {
   "cell_type": "code",
   "execution_count": null,
   "metadata": {
    "ExecuteTime": {
     "end_time": "2020-07-18T10:57:24.769868Z",
     "start_time": "2020-07-18T10:57:24.339148Z"
    }
   },
   "outputs": [],
   "source": [
    "building_res_comps = building_res_df.loc[cond0 & cond1 & cond2 & cond3 & cond4, :]"
   ]
  },
  {
   "cell_type": "markdown",
   "metadata": {},
   "source": [
    "The property values are reported in the `real_acct.txt` file. There is only one set of appraised values for each account number. Let's make sure our filtered `building_res_comps` only contains accounts that have just one building."
   ]
  },
  {
   "cell_type": "code",
   "execution_count": null,
   "metadata": {
    "ExecuteTime": {
     "end_time": "2020-07-18T10:57:25.049335Z",
     "start_time": "2020-07-18T10:57:24.771968Z"
    }
   },
   "outputs": [],
   "source": [
    "total_bld_per_acct = building_res_comps.groupby('acct')['bld_num'].count()\n",
    "one_bld_in_acct = total_bld_per_acct[total_bld_per_acct == 1].index"
   ]
  },
  {
   "cell_type": "code",
   "execution_count": null,
   "metadata": {
    "ExecuteTime": {
     "end_time": "2020-07-18T10:57:25.148662Z",
     "start_time": "2020-07-18T10:57:25.051033Z"
    }
   },
   "outputs": [],
   "source": [
    "assert one_bld_in_acct.is_unique"
   ]
  },
  {
   "cell_type": "code",
   "execution_count": null,
   "metadata": {
    "ExecuteTime": {
     "end_time": "2020-07-18T10:57:25.711570Z",
     "start_time": "2020-07-18T10:57:25.150554Z"
    }
   },
   "outputs": [],
   "source": [
    "cond0 = building_res_comps['acct'].isin(one_bld_in_acct)\n",
    "building_res_comps = building_res_comps.loc[cond0, :]"
   ]
  },
  {
   "cell_type": "code",
   "execution_count": null,
   "metadata": {
    "ExecuteTime": {
     "end_time": "2020-07-18T10:57:25.739072Z",
     "start_time": "2020-07-18T10:57:25.713320Z"
    }
   },
   "outputs": [],
   "source": [
    "building_res_comps['bld_num'].value_counts()"
   ]
  },
  {
   "cell_type": "markdown",
   "metadata": {},
   "source": [
    "**Note**: I don't know why the building numbers above are different than one, given we already filter out accounts with more than one building. Nonetheless, we have one account mapped to one building which is what we need to unequivocally join the `building_res.txt` file with the `real_acct.txt` file."
   ]
  },
  {
   "cell_type": "markdown",
   "metadata": {},
   "source": [
    "# Select columns in comparables\n",
    "Not all columns in `building_res.txt` are clearly related to the appraised value. Let's get the columns that appear to be relevant."
   ]
  },
  {
   "cell_type": "code",
   "execution_count": null,
   "metadata": {
    "ExecuteTime": {
     "end_time": "2020-07-18T10:57:26.171800Z",
     "start_time": "2020-07-18T10:57:26.147008Z"
    }
   },
   "outputs": [],
   "source": [
    "building_res_comps.columns"
   ]
  },
  {
   "cell_type": "code",
   "execution_count": null,
   "metadata": {
    "ExecuteTime": {
     "end_time": "2020-07-18T10:57:26.509541Z",
     "start_time": "2020-07-18T10:57:26.493029Z"
    }
   },
   "outputs": [],
   "source": [
    "cols = [\n",
    "    'acct',     # Property unique account number\n",
    "    'dscr',     # Quality description\n",
    "    'date_erected',\n",
    "    'yr_remodel',\n",
    "    'im_sq_ft', # Improvement square feet\n",
    "    'act_ar',   # Actual area\n",
    "    'heat_ar',  # Heat area\n",
    "    'gross_ar', # Gross area\n",
    "    'eff_ar',   # Affective area\n",
    "    'base_ar',  # Base area\n",
    "    'perimeter',\n",
    "    'pct',      # Percent completed\n",
    "]"
   ]
  },
  {
   "cell_type": "code",
   "execution_count": null,
   "metadata": {
    "ExecuteTime": {
     "end_time": "2020-07-18T10:57:26.940514Z",
     "start_time": "2020-07-18T10:57:26.845035Z"
    }
   },
   "outputs": [],
   "source": [
    "building_res_comps = building_res_comps.loc[:, cols]"
   ]
  },
  {
   "cell_type": "code",
   "execution_count": null,
   "metadata": {
    "ExecuteTime": {
     "end_time": "2020-07-18T10:57:27.207874Z",
     "start_time": "2020-07-18T10:57:27.171337Z"
    }
   },
   "outputs": [],
   "source": [
    "building_res_comps.head()"
   ]
  },
  {
   "cell_type": "markdown",
   "metadata": {},
   "source": [
    "# Export building_res_comps\n",
    "That was a lot of work! Let's save it as a pickle file and continue the data conditioning in the next notebook."
   ]
  },
  {
   "cell_type": "code",
   "execution_count": null,
   "metadata": {
    "ExecuteTime": {
     "end_time": "2020-07-18T10:57:27.773032Z",
     "start_time": "2020-07-18T10:57:27.751044Z"
    }
   },
   "outputs": [],
   "source": [
    "from src.data.utils import save_pickle"
   ]
  },
  {
   "cell_type": "code",
   "execution_count": null,
   "metadata": {
    "ExecuteTime": {
     "end_time": "2020-07-18T10:57:28.054102Z",
     "start_time": "2020-07-18T10:57:28.039752Z"
    }
   },
   "outputs": [],
   "source": [
    "save_fn = ROOT_DIR / 'data/raw/2016/building_res_comps.pickle'"
   ]
  },
  {
   "cell_type": "code",
   "execution_count": null,
   "metadata": {
    "ExecuteTime": {
     "end_time": "2020-07-18T10:57:28.894725Z",
     "start_time": "2020-07-18T10:57:28.645053Z"
    }
   },
   "outputs": [],
   "source": [
    "save_pickle(building_res_comps, save_fn)"
   ]
  },
  {
   "cell_type": "markdown",
   "metadata": {},
   "source": [
    "# Export unique account numbers of interest: one_bld_in_acct"
   ]
  },
  {
   "cell_type": "code",
   "execution_count": null,
   "metadata": {
    "ExecuteTime": {
     "end_time": "2020-07-18T10:57:29.571413Z",
     "start_time": "2020-07-18T10:57:29.553849Z"
    }
   },
   "outputs": [],
   "source": [
    "save_fn = ROOT_DIR / 'data/raw/2016/one_bld_in_acct.pickle'"
   ]
  },
  {
   "cell_type": "code",
   "execution_count": null,
   "metadata": {
    "ExecuteTime": {
     "end_time": "2020-07-18T10:57:30.074748Z",
     "start_time": "2020-07-18T10:57:30.022808Z"
    }
   },
   "outputs": [],
   "source": [
    "save_pickle(one_bld_in_acct, save_fn)"
   ]
  }
 ],
 "metadata": {
  "kernelspec": {
   "display_name": "hcad_pred",
   "language": "python",
   "name": "hcad_pred"
  },
  "language_info": {
   "codemirror_mode": {
    "name": "ipython",
    "version": 3
   },
   "file_extension": ".py",
   "mimetype": "text/x-python",
   "name": "python",
   "nbconvert_exporter": "python",
   "pygments_lexer": "ipython3",
   "version": "3.7.6"
  },
  "toc": {
   "base_numbering": 1,
   "nav_menu": {},
   "number_sections": true,
   "sideBar": true,
   "skip_h1_title": false,
   "title_cell": "Table of Contents",
   "title_sidebar": "Contents",
   "toc_cell": false,
   "toc_position": {},
   "toc_section_display": true,
   "toc_window_display": false
  }
 },
 "nbformat": 4,
 "nbformat_minor": 4
}
