{
 "cells": [
  {
   "cell_type": "markdown",
   "metadata": {},
   "source": [
    "# Load previously selected subdivision samples and feature\n",
    "\n",
    "The file being imported below was constructed in the last exploratory notebooks (2.2-rp-hcad-eda-appraised-value-perc-diff-subdiv-comps-hypothesis-test). These data have been cleaned, merged, and selected so we can start preparing it for modeling."
   ]
  },
  {
   "cell_type": "code",
   "execution_count": 1,
   "metadata": {
    "ExecuteTime": {
     "end_time": "2020-11-27T04:56:36.946340Z",
     "start_time": "2020-11-27T04:56:36.924298Z"
    }
   },
   "outputs": [],
   "source": [
    "%load_ext autoreload\n",
    "%autoreload 2"
   ]
  },
  {
   "cell_type": "code",
   "execution_count": 2,
   "metadata": {
    "ExecuteTime": {
     "end_time": "2020-11-27T04:56:37.907426Z",
     "start_time": "2020-11-27T04:56:36.948930Z"
    }
   },
   "outputs": [],
   "source": [
    "from pathlib import Path\n",
    "import pickle\n",
    "\n",
    "import numpy as np\n",
    "import pandas as pd\n",
    "\n",
    "import matplotlib.pyplot as plt\n",
    "import seaborn as sns\n",
    "\n",
    "from src.definitions import ROOT_DIR\n",
    "from src.data.utils import save_pickle"
   ]
  },
  {
   "cell_type": "code",
   "execution_count": 3,
   "metadata": {
    "ExecuteTime": {
     "end_time": "2020-11-27T04:56:37.926843Z",
     "start_time": "2020-11-27T04:56:37.910123Z"
    }
   },
   "outputs": [],
   "source": [
    "plt.style.use('seaborn-poster')"
   ]
  },
  {
   "cell_type": "code",
   "execution_count": 4,
   "metadata": {
    "ExecuteTime": {
     "end_time": "2020-11-27T04:56:37.946843Z",
     "start_time": "2020-11-27T04:56:37.929731Z"
    }
   },
   "outputs": [],
   "source": [
    "subdiv_fn = ROOT_DIR / 'data/interim/2016/subdiv.pickle'\n",
    "assert subdiv_fn.exists()"
   ]
  },
  {
   "cell_type": "code",
   "execution_count": 5,
   "metadata": {
    "ExecuteTime": {
     "end_time": "2020-11-27T04:56:37.972768Z",
     "start_time": "2020-11-27T04:56:37.949649Z"
    }
   },
   "outputs": [],
   "source": [
    "subdiv = pd.read_pickle(subdiv_fn)"
   ]
  },
  {
   "cell_type": "code",
   "execution_count": 6,
   "metadata": {
    "ExecuteTime": {
     "end_time": "2020-11-27T04:56:38.040157Z",
     "start_time": "2020-11-27T04:56:37.974735Z"
    }
   },
   "outputs": [
    {
     "data": {
      "text/html": [
       "<div>\n",
       "<style scoped>\n",
       "    .dataframe tbody tr th:only-of-type {\n",
       "        vertical-align: middle;\n",
       "    }\n",
       "\n",
       "    .dataframe tbody tr th {\n",
       "        vertical-align: top;\n",
       "    }\n",
       "\n",
       "    .dataframe thead th {\n",
       "        text-align: right;\n",
       "    }\n",
       "</style>\n",
       "<table border=\"1\" class=\"dataframe\">\n",
       "  <thead>\n",
       "    <tr style=\"text-align: right;\">\n",
       "      <th></th>\n",
       "      <th>date_erected</th>\n",
       "      <th>im_sq_ft</th>\n",
       "      <th>act_ar</th>\n",
       "      <th>heat_ar</th>\n",
       "      <th>gross_ar</th>\n",
       "      <th>eff_ar</th>\n",
       "      <th>perimeter</th>\n",
       "      <th>fireplace_metal_prefab</th>\n",
       "      <th>fixtures_addl</th>\n",
       "      <th>fixtures_total</th>\n",
       "      <th>...</th>\n",
       "      <th>new_own_dt</th>\n",
       "      <th>lgl_1</th>\n",
       "      <th>base_area_pri</th>\n",
       "      <th>base_area_upr</th>\n",
       "      <th>mas_brk_garage_pri</th>\n",
       "      <th>open_frame_porch_pri</th>\n",
       "      <th>open_mas_porch_pri</th>\n",
       "      <th>exterior_wall</th>\n",
       "      <th>yy_pct_change</th>\n",
       "      <th>kmeans_label</th>\n",
       "    </tr>\n",
       "    <tr>\n",
       "      <th>acct</th>\n",
       "      <th></th>\n",
       "      <th></th>\n",
       "      <th></th>\n",
       "      <th></th>\n",
       "      <th></th>\n",
       "      <th></th>\n",
       "      <th></th>\n",
       "      <th></th>\n",
       "      <th></th>\n",
       "      <th></th>\n",
       "      <th></th>\n",
       "      <th></th>\n",
       "      <th></th>\n",
       "      <th></th>\n",
       "      <th></th>\n",
       "      <th></th>\n",
       "      <th></th>\n",
       "      <th></th>\n",
       "      <th></th>\n",
       "      <th></th>\n",
       "      <th></th>\n",
       "    </tr>\n",
       "  </thead>\n",
       "  <tbody>\n",
       "    <tr>\n",
       "      <th>1347180030033</th>\n",
       "      <td>2014</td>\n",
       "      <td>1924.0</td>\n",
       "      <td>2518</td>\n",
       "      <td>1924.0</td>\n",
       "      <td>2518</td>\n",
       "      <td>2140.0</td>\n",
       "      <td>222.0</td>\n",
       "      <td>0.0</td>\n",
       "      <td>2.0</td>\n",
       "      <td>10.0</td>\n",
       "      <td>...</td>\n",
       "      <td>2015-03-06</td>\n",
       "      <td>LT 33 BLK 3</td>\n",
       "      <td>1924.0</td>\n",
       "      <td>0.0</td>\n",
       "      <td>399.0</td>\n",
       "      <td>171.0</td>\n",
       "      <td>24.0</td>\n",
       "      <td>Stone</td>\n",
       "      <td>0.299534</td>\n",
       "      <td>0</td>\n",
       "    </tr>\n",
       "    <tr>\n",
       "      <th>1347180010033</th>\n",
       "      <td>2014</td>\n",
       "      <td>2244.0</td>\n",
       "      <td>2868</td>\n",
       "      <td>2244.0</td>\n",
       "      <td>2868</td>\n",
       "      <td>2469.0</td>\n",
       "      <td>230.0</td>\n",
       "      <td>1.0</td>\n",
       "      <td>3.0</td>\n",
       "      <td>11.0</td>\n",
       "      <td>...</td>\n",
       "      <td>2015-01-29</td>\n",
       "      <td>LT 33 BLK 1</td>\n",
       "      <td>2244.0</td>\n",
       "      <td>0.0</td>\n",
       "      <td>380.0</td>\n",
       "      <td>196.0</td>\n",
       "      <td>48.0</td>\n",
       "      <td>Brick / Veneer</td>\n",
       "      <td>-0.028585</td>\n",
       "      <td>0</td>\n",
       "    </tr>\n",
       "    <tr>\n",
       "      <th>1347180020029</th>\n",
       "      <td>2014</td>\n",
       "      <td>1844.0</td>\n",
       "      <td>2418</td>\n",
       "      <td>1844.0</td>\n",
       "      <td>2418</td>\n",
       "      <td>2055.0</td>\n",
       "      <td>218.0</td>\n",
       "      <td>0.0</td>\n",
       "      <td>2.0</td>\n",
       "      <td>10.0</td>\n",
       "      <td>...</td>\n",
       "      <td>2015-06-25</td>\n",
       "      <td>LT 29 BLK 2</td>\n",
       "      <td>1844.0</td>\n",
       "      <td>0.0</td>\n",
       "      <td>420.0</td>\n",
       "      <td>112.0</td>\n",
       "      <td>42.0</td>\n",
       "      <td>Stone</td>\n",
       "      <td>1.322580</td>\n",
       "      <td>0</td>\n",
       "    </tr>\n",
       "    <tr>\n",
       "      <th>1347180010031</th>\n",
       "      <td>2014</td>\n",
       "      <td>1986.0</td>\n",
       "      <td>2572</td>\n",
       "      <td>1986.0</td>\n",
       "      <td>2572</td>\n",
       "      <td>2198.0</td>\n",
       "      <td>222.0</td>\n",
       "      <td>1.0</td>\n",
       "      <td>2.0</td>\n",
       "      <td>10.0</td>\n",
       "      <td>...</td>\n",
       "      <td>2014-12-18</td>\n",
       "      <td>LT 31 BLK 1</td>\n",
       "      <td>1986.0</td>\n",
       "      <td>0.0</td>\n",
       "      <td>380.0</td>\n",
       "      <td>171.0</td>\n",
       "      <td>35.0</td>\n",
       "      <td>Frame / Concrete Blk</td>\n",
       "      <td>0.068341</td>\n",
       "      <td>0</td>\n",
       "    </tr>\n",
       "    <tr>\n",
       "      <th>1347180010019</th>\n",
       "      <td>2014</td>\n",
       "      <td>1844.0</td>\n",
       "      <td>2406</td>\n",
       "      <td>1844.0</td>\n",
       "      <td>2406</td>\n",
       "      <td>2051.0</td>\n",
       "      <td>218.0</td>\n",
       "      <td>0.0</td>\n",
       "      <td>2.0</td>\n",
       "      <td>10.0</td>\n",
       "      <td>...</td>\n",
       "      <td>2015-03-06</td>\n",
       "      <td>LT 19 BLK 1</td>\n",
       "      <td>1844.0</td>\n",
       "      <td>0.0</td>\n",
       "      <td>420.0</td>\n",
       "      <td>112.0</td>\n",
       "      <td>30.0</td>\n",
       "      <td>Frame / Concrete Blk</td>\n",
       "      <td>0.299849</td>\n",
       "      <td>0</td>\n",
       "    </tr>\n",
       "    <tr>\n",
       "      <th>1347180010020</th>\n",
       "      <td>2014</td>\n",
       "      <td>2942.0</td>\n",
       "      <td>3672</td>\n",
       "      <td>2942.0</td>\n",
       "      <td>3672</td>\n",
       "      <td>3077.0</td>\n",
       "      <td>376.0</td>\n",
       "      <td>1.0</td>\n",
       "      <td>2.0</td>\n",
       "      <td>15.0</td>\n",
       "      <td>...</td>\n",
       "      <td>2015-05-27</td>\n",
       "      <td>LT 20 BLK 1</td>\n",
       "      <td>1776.0</td>\n",
       "      <td>1166.0</td>\n",
       "      <td>399.0</td>\n",
       "      <td>220.0</td>\n",
       "      <td>57.0</td>\n",
       "      <td>Stone</td>\n",
       "      <td>1.033745</td>\n",
       "      <td>2</td>\n",
       "    </tr>\n",
       "    <tr>\n",
       "      <th>1347180030001</th>\n",
       "      <td>2014</td>\n",
       "      <td>2346.0</td>\n",
       "      <td>2992</td>\n",
       "      <td>2346.0</td>\n",
       "      <td>2992</td>\n",
       "      <td>2484.0</td>\n",
       "      <td>376.0</td>\n",
       "      <td>1.0</td>\n",
       "      <td>2.0</td>\n",
       "      <td>12.0</td>\n",
       "      <td>...</td>\n",
       "      <td>2015-06-23</td>\n",
       "      <td>LT 1 BLK 3</td>\n",
       "      <td>1356.0</td>\n",
       "      <td>990.0</td>\n",
       "      <td>474.0</td>\n",
       "      <td>88.0</td>\n",
       "      <td>84.0</td>\n",
       "      <td>Frame / Concrete Blk</td>\n",
       "      <td>1.206337</td>\n",
       "      <td>2</td>\n",
       "    </tr>\n",
       "    <tr>\n",
       "      <th>1347180030028</th>\n",
       "      <td>2014</td>\n",
       "      <td>1876.0</td>\n",
       "      <td>2542</td>\n",
       "      <td>1876.0</td>\n",
       "      <td>2542</td>\n",
       "      <td>2116.0</td>\n",
       "      <td>222.0</td>\n",
       "      <td>1.0</td>\n",
       "      <td>2.0</td>\n",
       "      <td>10.0</td>\n",
       "      <td>...</td>\n",
       "      <td>2014-08-29</td>\n",
       "      <td>LT 28 BLK 3</td>\n",
       "      <td>1876.0</td>\n",
       "      <td>0.0</td>\n",
       "      <td>400.0</td>\n",
       "      <td>120.0</td>\n",
       "      <td>146.0</td>\n",
       "      <td>Frame / Concrete Blk</td>\n",
       "      <td>0.020907</td>\n",
       "      <td>1</td>\n",
       "    </tr>\n",
       "    <tr>\n",
       "      <th>1347180010026</th>\n",
       "      <td>2014</td>\n",
       "      <td>1840.0</td>\n",
       "      <td>2424</td>\n",
       "      <td>1840.0</td>\n",
       "      <td>2424</td>\n",
       "      <td>2054.0</td>\n",
       "      <td>218.0</td>\n",
       "      <td>0.0</td>\n",
       "      <td>2.0</td>\n",
       "      <td>10.0</td>\n",
       "      <td>...</td>\n",
       "      <td>2016-05-24</td>\n",
       "      <td>LT 26 BLK 1</td>\n",
       "      <td>1840.0</td>\n",
       "      <td>0.0</td>\n",
       "      <td>420.0</td>\n",
       "      <td>122.0</td>\n",
       "      <td>42.0</td>\n",
       "      <td>Frame / Concrete Blk</td>\n",
       "      <td>1.082838</td>\n",
       "      <td>0</td>\n",
       "    </tr>\n",
       "    <tr>\n",
       "      <th>1347180030029</th>\n",
       "      <td>2014</td>\n",
       "      <td>2362.0</td>\n",
       "      <td>2917</td>\n",
       "      <td>2362.0</td>\n",
       "      <td>2917</td>\n",
       "      <td>2395.0</td>\n",
       "      <td>208.0</td>\n",
       "      <td>0.0</td>\n",
       "      <td>2.0</td>\n",
       "      <td>13.0</td>\n",
       "      <td>...</td>\n",
       "      <td>2015-03-31</td>\n",
       "      <td>LT 29 BLK 3</td>\n",
       "      <td>1753.0</td>\n",
       "      <td>0.0</td>\n",
       "      <td>399.0</td>\n",
       "      <td>120.0</td>\n",
       "      <td>0.0</td>\n",
       "      <td>Frame / Concrete Blk</td>\n",
       "      <td>1.415466</td>\n",
       "      <td>0</td>\n",
       "    </tr>\n",
       "  </tbody>\n",
       "</table>\n",
       "<p>10 rows × 33 columns</p>\n",
       "</div>"
      ],
      "text/plain": [
       "               date_erected  im_sq_ft  act_ar  heat_ar  gross_ar  eff_ar  \\\n",
       "acct                                                                       \n",
       "1347180030033          2014    1924.0    2518   1924.0      2518  2140.0   \n",
       "1347180010033          2014    2244.0    2868   2244.0      2868  2469.0   \n",
       "1347180020029          2014    1844.0    2418   1844.0      2418  2055.0   \n",
       "1347180010031          2014    1986.0    2572   1986.0      2572  2198.0   \n",
       "1347180010019          2014    1844.0    2406   1844.0      2406  2051.0   \n",
       "1347180010020          2014    2942.0    3672   2942.0      3672  3077.0   \n",
       "1347180030001          2014    2346.0    2992   2346.0      2992  2484.0   \n",
       "1347180030028          2014    1876.0    2542   1876.0      2542  2116.0   \n",
       "1347180010026          2014    1840.0    2424   1840.0      2424  2054.0   \n",
       "1347180030029          2014    2362.0    2917   2362.0      2917  2395.0   \n",
       "\n",
       "               perimeter  fireplace_metal_prefab  fixtures_addl  \\\n",
       "acct                                                              \n",
       "1347180030033      222.0                     0.0            2.0   \n",
       "1347180010033      230.0                     1.0            3.0   \n",
       "1347180020029      218.0                     0.0            2.0   \n",
       "1347180010031      222.0                     1.0            2.0   \n",
       "1347180010019      218.0                     0.0            2.0   \n",
       "1347180010020      376.0                     1.0            2.0   \n",
       "1347180030001      376.0                     1.0            2.0   \n",
       "1347180030028      222.0                     1.0            2.0   \n",
       "1347180010026      218.0                     0.0            2.0   \n",
       "1347180030029      208.0                     0.0            2.0   \n",
       "\n",
       "               fixtures_total  ...  new_own_dt        lgl_1  base_area_pri  \\\n",
       "acct                           ...                                           \n",
       "1347180030033            10.0  ...  2015-03-06  LT 33 BLK 3         1924.0   \n",
       "1347180010033            11.0  ...  2015-01-29  LT 33 BLK 1         2244.0   \n",
       "1347180020029            10.0  ...  2015-06-25  LT 29 BLK 2         1844.0   \n",
       "1347180010031            10.0  ...  2014-12-18  LT 31 BLK 1         1986.0   \n",
       "1347180010019            10.0  ...  2015-03-06  LT 19 BLK 1         1844.0   \n",
       "1347180010020            15.0  ...  2015-05-27  LT 20 BLK 1         1776.0   \n",
       "1347180030001            12.0  ...  2015-06-23   LT 1 BLK 3         1356.0   \n",
       "1347180030028            10.0  ...  2014-08-29  LT 28 BLK 3         1876.0   \n",
       "1347180010026            10.0  ...  2016-05-24  LT 26 BLK 1         1840.0   \n",
       "1347180030029            13.0  ...  2015-03-31  LT 29 BLK 3         1753.0   \n",
       "\n",
       "               base_area_upr  mas_brk_garage_pri  open_frame_porch_pri  \\\n",
       "acct                                                                     \n",
       "1347180030033            0.0               399.0                 171.0   \n",
       "1347180010033            0.0               380.0                 196.0   \n",
       "1347180020029            0.0               420.0                 112.0   \n",
       "1347180010031            0.0               380.0                 171.0   \n",
       "1347180010019            0.0               420.0                 112.0   \n",
       "1347180010020         1166.0               399.0                 220.0   \n",
       "1347180030001          990.0               474.0                  88.0   \n",
       "1347180030028            0.0               400.0                 120.0   \n",
       "1347180010026            0.0               420.0                 122.0   \n",
       "1347180030029            0.0               399.0                 120.0   \n",
       "\n",
       "               open_mas_porch_pri         exterior_wall  yy_pct_change  \\\n",
       "acct                                                                     \n",
       "1347180030033                24.0                 Stone       0.299534   \n",
       "1347180010033                48.0        Brick / Veneer      -0.028585   \n",
       "1347180020029                42.0                 Stone       1.322580   \n",
       "1347180010031                35.0  Frame / Concrete Blk       0.068341   \n",
       "1347180010019                30.0  Frame / Concrete Blk       0.299849   \n",
       "1347180010020                57.0                 Stone       1.033745   \n",
       "1347180030001                84.0  Frame / Concrete Blk       1.206337   \n",
       "1347180030028               146.0  Frame / Concrete Blk       0.020907   \n",
       "1347180010026                42.0  Frame / Concrete Blk       1.082838   \n",
       "1347180030029                 0.0  Frame / Concrete Blk       1.415466   \n",
       "\n",
       "               kmeans_label  \n",
       "acct                         \n",
       "1347180030033             0  \n",
       "1347180010033             0  \n",
       "1347180020029             0  \n",
       "1347180010031             0  \n",
       "1347180010019             0  \n",
       "1347180010020             2  \n",
       "1347180030001             2  \n",
       "1347180030028             1  \n",
       "1347180010026             0  \n",
       "1347180030029             0  \n",
       "\n",
       "[10 rows x 33 columns]"
      ]
     },
     "execution_count": 6,
     "metadata": {},
     "output_type": "execute_result"
    }
   ],
   "source": [
    "subdiv.sample(10)"
   ]
  },
  {
   "cell_type": "markdown",
   "metadata": {},
   "source": [
    "# Drop previous year related features\n",
    "Since some of the houses weren't finished by January of the prior year (2015), features that use the prior year value will be bias towards lower values. Let's drop these features."
   ]
  },
  {
   "cell_type": "code",
   "execution_count": 7,
   "metadata": {
    "ExecuteTime": {
     "end_time": "2020-11-27T04:56:38.066103Z",
     "start_time": "2020-11-27T04:56:38.042536Z"
    }
   },
   "outputs": [
    {
     "data": {
      "text/plain": [
       "(110, 33)"
      ]
     },
     "execution_count": 7,
     "metadata": {},
     "output_type": "execute_result"
    }
   ],
   "source": [
    "subdiv.shape"
   ]
  },
  {
   "cell_type": "code",
   "execution_count": 8,
   "metadata": {
    "ExecuteTime": {
     "end_time": "2020-11-27T04:56:38.093287Z",
     "start_time": "2020-11-27T04:56:38.068656Z"
    }
   },
   "outputs": [
    {
     "name": "stdout",
     "output_type": "stream",
     "text": [
      "<class 'pandas.core.frame.DataFrame'>\n",
      "UInt64Index: 110 entries, 1347180010011 to 1347180030030\n",
      "Data columns (total 33 columns):\n",
      " #   Column                  Non-Null Count  Dtype         \n",
      "---  ------                  --------------  -----         \n",
      " 0   date_erected            110 non-null    uint16        \n",
      " 1   im_sq_ft                110 non-null    float64       \n",
      " 2   act_ar                  110 non-null    uint16        \n",
      " 3   heat_ar                 110 non-null    float64       \n",
      " 4   gross_ar                110 non-null    uint16        \n",
      " 5   eff_ar                  110 non-null    float64       \n",
      " 6   perimeter               110 non-null    float64       \n",
      " 7   fireplace_metal_prefab  110 non-null    float32       \n",
      " 8   fixtures_addl           110 non-null    float32       \n",
      " 9   fixtures_total          110 non-null    float32       \n",
      " 10  room_bedroom            110 non-null    float32       \n",
      " 11  room_full_bath          110 non-null    float32       \n",
      " 12  room_half_bath          110 non-null    float32       \n",
      " 13  room_rec                110 non-null    float32       \n",
      " 14  room_total              110 non-null    float32       \n",
      " 15  story_height_index      110 non-null    float32       \n",
      " 16  bld_ar                  110 non-null    float64       \n",
      " 17  land_ar                 110 non-null    float64       \n",
      " 18  acreage                 110 non-null    float64       \n",
      " 19  land_val                110 non-null    float64       \n",
      " 20  tot_appr_val            110 non-null    float64       \n",
      " 21  prior_land_val          110 non-null    float64       \n",
      " 22  prior_tot_appr_val      110 non-null    float64       \n",
      " 23  new_own_dt              110 non-null    datetime64[ns]\n",
      " 24  lgl_1                   110 non-null    object        \n",
      " 25  base_area_pri           110 non-null    float64       \n",
      " 26  base_area_upr           110 non-null    float64       \n",
      " 27  mas_brk_garage_pri      110 non-null    float64       \n",
      " 28  open_frame_porch_pri    110 non-null    float64       \n",
      " 29  open_mas_porch_pri      110 non-null    float64       \n",
      " 30  exterior_wall           110 non-null    category      \n",
      " 31  yy_pct_change           110 non-null    float64       \n",
      " 32  kmeans_label            110 non-null    int32         \n",
      "dtypes: category(1), datetime64[ns](1), float32(9), float64(17), int32(1), object(1), uint16(3)\n",
      "memory usage: 22.6+ KB\n"
     ]
    }
   ],
   "source": [
    "subdiv.info()"
   ]
  },
  {
   "cell_type": "code",
   "execution_count": 9,
   "metadata": {
    "ExecuteTime": {
     "end_time": "2020-11-27T04:56:38.111081Z",
     "start_time": "2020-11-27T04:56:38.096786Z"
    }
   },
   "outputs": [],
   "source": [
    "drop = [\n",
    "    'yy_pct_change', # Some of the houses weren't finished in 2015\n",
    "    'prior_land_val', # Some of the houses weren't finished in 2015\n",
    "    'prior_tot_appr_val', # Some of the houses weren't finished in 2015\n",
    "    'new_own_dt', # Latest purchase date\n",
    "    'lgl_1', # House lot\n",
    "]"
   ]
  },
  {
   "cell_type": "code",
   "execution_count": 10,
   "metadata": {
    "ExecuteTime": {
     "end_time": "2020-11-27T04:56:38.141400Z",
     "start_time": "2020-11-27T04:56:38.112741Z"
    }
   },
   "outputs": [],
   "source": [
    "subdiv.drop(drop, axis=1, inplace=True)"
   ]
  },
  {
   "cell_type": "code",
   "execution_count": 11,
   "metadata": {
    "ExecuteTime": {
     "end_time": "2020-11-27T04:56:38.181739Z",
     "start_time": "2020-11-27T04:56:38.143847Z"
    }
   },
   "outputs": [
    {
     "name": "stdout",
     "output_type": "stream",
     "text": [
      "<class 'pandas.core.frame.DataFrame'>\n",
      "UInt64Index: 110 entries, 1347180010011 to 1347180030030\n",
      "Data columns (total 28 columns):\n",
      " #   Column                  Non-Null Count  Dtype   \n",
      "---  ------                  --------------  -----   \n",
      " 0   date_erected            110 non-null    uint16  \n",
      " 1   im_sq_ft                110 non-null    float64 \n",
      " 2   act_ar                  110 non-null    uint16  \n",
      " 3   heat_ar                 110 non-null    float64 \n",
      " 4   gross_ar                110 non-null    uint16  \n",
      " 5   eff_ar                  110 non-null    float64 \n",
      " 6   perimeter               110 non-null    float64 \n",
      " 7   fireplace_metal_prefab  110 non-null    float32 \n",
      " 8   fixtures_addl           110 non-null    float32 \n",
      " 9   fixtures_total          110 non-null    float32 \n",
      " 10  room_bedroom            110 non-null    float32 \n",
      " 11  room_full_bath          110 non-null    float32 \n",
      " 12  room_half_bath          110 non-null    float32 \n",
      " 13  room_rec                110 non-null    float32 \n",
      " 14  room_total              110 non-null    float32 \n",
      " 15  story_height_index      110 non-null    float32 \n",
      " 16  bld_ar                  110 non-null    float64 \n",
      " 17  land_ar                 110 non-null    float64 \n",
      " 18  acreage                 110 non-null    float64 \n",
      " 19  land_val                110 non-null    float64 \n",
      " 20  tot_appr_val            110 non-null    float64 \n",
      " 21  base_area_pri           110 non-null    float64 \n",
      " 22  base_area_upr           110 non-null    float64 \n",
      " 23  mas_brk_garage_pri      110 non-null    float64 \n",
      " 24  open_frame_porch_pri    110 non-null    float64 \n",
      " 25  open_mas_porch_pri      110 non-null    float64 \n",
      " 26  exterior_wall           110 non-null    category\n",
      " 27  kmeans_label            110 non-null    int32   \n",
      "dtypes: category(1), float32(9), float64(14), int32(1), uint16(3)\n",
      "memory usage: 18.3 KB\n"
     ]
    }
   ],
   "source": [
    "subdiv.info()"
   ]
  },
  {
   "cell_type": "markdown",
   "metadata": {},
   "source": [
    "# Create dummy features for categorical variables\n",
    "Since the `exterior_wall` category was created using all the houses in HCAD, there are seven categories that are not present in this subdivision. Let's remove them from the possible categories list so the `pd.get_dummy` method doesn't get confused."
   ]
  },
  {
   "cell_type": "code",
   "execution_count": 12,
   "metadata": {
    "ExecuteTime": {
     "end_time": "2020-11-27T04:56:38.210849Z",
     "start_time": "2020-11-27T04:56:38.184883Z"
    }
   },
   "outputs": [
    {
     "data": {
      "text/plain": [
       "Brick / Veneer          43\n",
       "Frame / Concrete Blk    36\n",
       "Stone                   31\n",
       "Stucco                   0\n",
       "Shake Shingle            0\n",
       "Metal, Light             0\n",
       "Frame / Res Stucco       0\n",
       "Brick / Masonry          0\n",
       "Asbestos                 0\n",
       "Aluminum / Vinyl         0\n",
       "Name: exterior_wall, dtype: int64"
      ]
     },
     "execution_count": 12,
     "metadata": {},
     "output_type": "execute_result"
    }
   ],
   "source": [
    "subdiv['exterior_wall'].value_counts()"
   ]
  },
  {
   "cell_type": "code",
   "execution_count": 13,
   "metadata": {
    "ExecuteTime": {
     "end_time": "2020-11-27T04:56:38.233066Z",
     "start_time": "2020-11-27T04:56:38.213479Z"
    }
   },
   "outputs": [],
   "source": [
    "subdiv['exterior_wall'] = subdiv['exterior_wall'].cat.remove_unused_categories()"
   ]
  },
  {
   "cell_type": "code",
   "execution_count": 14,
   "metadata": {
    "ExecuteTime": {
     "end_time": "2020-11-27T04:56:38.257064Z",
     "start_time": "2020-11-27T04:56:38.235265Z"
    }
   },
   "outputs": [
    {
     "data": {
      "text/plain": [
       "Brick / Veneer          43\n",
       "Frame / Concrete Blk    36\n",
       "Stone                   31\n",
       "Name: exterior_wall, dtype: int64"
      ]
     },
     "execution_count": 14,
     "metadata": {},
     "output_type": "execute_result"
    }
   ],
   "source": [
    "subdiv['exterior_wall'].value_counts()"
   ]
  },
  {
   "cell_type": "code",
   "execution_count": 15,
   "metadata": {
    "ExecuteTime": {
     "end_time": "2020-11-27T04:56:38.412234Z",
     "start_time": "2020-11-27T04:56:38.259100Z"
    }
   },
   "outputs": [],
   "source": [
    "from sklearn.preprocessing import OneHotEncoder"
   ]
  },
  {
   "cell_type": "code",
   "execution_count": 16,
   "metadata": {
    "ExecuteTime": {
     "end_time": "2020-11-27T04:56:38.432257Z",
     "start_time": "2020-11-27T04:56:38.414535Z"
    }
   },
   "outputs": [],
   "source": [
    "cat_cols = ['exterior_wall', 'kmeans_label']"
   ]
  },
  {
   "cell_type": "code",
   "execution_count": 17,
   "metadata": {
    "ExecuteTime": {
     "end_time": "2020-11-27T04:56:38.451981Z",
     "start_time": "2020-11-27T04:56:38.434379Z"
    }
   },
   "outputs": [],
   "source": [
    "subdiv_cat_cols = subdiv.loc[:, cat_cols]"
   ]
  },
  {
   "cell_type": "code",
   "execution_count": 18,
   "metadata": {
    "ExecuteTime": {
     "end_time": "2020-11-27T04:56:38.488147Z",
     "start_time": "2020-11-27T04:56:38.453846Z"
    }
   },
   "outputs": [
    {
     "data": {
      "text/html": [
       "<div>\n",
       "<style scoped>\n",
       "    .dataframe tbody tr th:only-of-type {\n",
       "        vertical-align: middle;\n",
       "    }\n",
       "\n",
       "    .dataframe tbody tr th {\n",
       "        vertical-align: top;\n",
       "    }\n",
       "\n",
       "    .dataframe thead th {\n",
       "        text-align: right;\n",
       "    }\n",
       "</style>\n",
       "<table border=\"1\" class=\"dataframe\">\n",
       "  <thead>\n",
       "    <tr style=\"text-align: right;\">\n",
       "      <th></th>\n",
       "      <th>exterior_wall</th>\n",
       "      <th>kmeans_label</th>\n",
       "    </tr>\n",
       "    <tr>\n",
       "      <th>acct</th>\n",
       "      <th></th>\n",
       "      <th></th>\n",
       "    </tr>\n",
       "  </thead>\n",
       "  <tbody>\n",
       "    <tr>\n",
       "      <th>1347180010011</th>\n",
       "      <td>Frame / Concrete Blk</td>\n",
       "      <td>2</td>\n",
       "    </tr>\n",
       "    <tr>\n",
       "      <th>1347180010013</th>\n",
       "      <td>Stone</td>\n",
       "      <td>0</td>\n",
       "    </tr>\n",
       "    <tr>\n",
       "      <th>1347180010021</th>\n",
       "      <td>Brick / Veneer</td>\n",
       "      <td>2</td>\n",
       "    </tr>\n",
       "    <tr>\n",
       "      <th>1347180010023</th>\n",
       "      <td>Frame / Concrete Blk</td>\n",
       "      <td>0</td>\n",
       "    </tr>\n",
       "    <tr>\n",
       "      <th>1347180010035</th>\n",
       "      <td>Stone</td>\n",
       "      <td>0</td>\n",
       "    </tr>\n",
       "    <tr>\n",
       "      <th>...</th>\n",
       "      <td>...</td>\n",
       "      <td>...</td>\n",
       "    </tr>\n",
       "    <tr>\n",
       "      <th>1347180030016</th>\n",
       "      <td>Frame / Concrete Blk</td>\n",
       "      <td>2</td>\n",
       "    </tr>\n",
       "    <tr>\n",
       "      <th>1347180030018</th>\n",
       "      <td>Brick / Veneer</td>\n",
       "      <td>0</td>\n",
       "    </tr>\n",
       "    <tr>\n",
       "      <th>1347180030022</th>\n",
       "      <td>Brick / Veneer</td>\n",
       "      <td>2</td>\n",
       "    </tr>\n",
       "    <tr>\n",
       "      <th>1347180030029</th>\n",
       "      <td>Frame / Concrete Blk</td>\n",
       "      <td>0</td>\n",
       "    </tr>\n",
       "    <tr>\n",
       "      <th>1347180030030</th>\n",
       "      <td>Brick / Veneer</td>\n",
       "      <td>0</td>\n",
       "    </tr>\n",
       "  </tbody>\n",
       "</table>\n",
       "<p>110 rows × 2 columns</p>\n",
       "</div>"
      ],
      "text/plain": [
       "                      exterior_wall  kmeans_label\n",
       "acct                                             \n",
       "1347180010011  Frame / Concrete Blk             2\n",
       "1347180010013                 Stone             0\n",
       "1347180010021        Brick / Veneer             2\n",
       "1347180010023  Frame / Concrete Blk             0\n",
       "1347180010035                 Stone             0\n",
       "...                             ...           ...\n",
       "1347180030016  Frame / Concrete Blk             2\n",
       "1347180030018        Brick / Veneer             0\n",
       "1347180030022        Brick / Veneer             2\n",
       "1347180030029  Frame / Concrete Blk             0\n",
       "1347180030030        Brick / Veneer             0\n",
       "\n",
       "[110 rows x 2 columns]"
      ]
     },
     "execution_count": 18,
     "metadata": {},
     "output_type": "execute_result"
    }
   ],
   "source": [
    "subdiv_cat_cols"
   ]
  },
  {
   "cell_type": "code",
   "execution_count": 19,
   "metadata": {
    "ExecuteTime": {
     "end_time": "2020-11-27T04:56:38.517931Z",
     "start_time": "2020-11-27T04:56:38.493030Z"
    }
   },
   "outputs": [
    {
     "data": {
      "text/plain": [
       "OneHotEncoder()"
      ]
     },
     "execution_count": 19,
     "metadata": {},
     "output_type": "execute_result"
    }
   ],
   "source": [
    "enc = OneHotEncoder()\n",
    "enc.fit(subdiv_cat_cols)"
   ]
  },
  {
   "cell_type": "code",
   "execution_count": 20,
   "metadata": {
    "ExecuteTime": {
     "end_time": "2020-11-27T04:56:38.542547Z",
     "start_time": "2020-11-27T04:56:38.520317Z"
    }
   },
   "outputs": [],
   "source": [
    "encoded = enc.transform(subdiv_cat_cols).toarray()"
   ]
  },
  {
   "cell_type": "code",
   "execution_count": 21,
   "metadata": {
    "ExecuteTime": {
     "end_time": "2020-11-27T04:56:38.566914Z",
     "start_time": "2020-11-27T04:56:38.545881Z"
    }
   },
   "outputs": [],
   "source": [
    "encoded_col_names = enc.get_feature_names(cat_cols)"
   ]
  },
  {
   "cell_type": "code",
   "execution_count": 22,
   "metadata": {
    "ExecuteTime": {
     "end_time": "2020-11-27T04:56:38.586464Z",
     "start_time": "2020-11-27T04:56:38.569134Z"
    }
   },
   "outputs": [],
   "source": [
    "df_encoded = pd.DataFrame(encoded, columns=encoded_col_names, index=subdiv_cat_cols.index)"
   ]
  },
  {
   "cell_type": "code",
   "execution_count": 23,
   "metadata": {
    "ExecuteTime": {
     "end_time": "2020-11-27T04:56:38.614322Z",
     "start_time": "2020-11-27T04:56:38.590134Z"
    }
   },
   "outputs": [],
   "source": [
    "subdiv_dummy = pd.concat([subdiv.drop(labels=cat_cols, axis=1), df_encoded], axis=1)"
   ]
  },
  {
   "cell_type": "code",
   "execution_count": 24,
   "metadata": {
    "ExecuteTime": {
     "end_time": "2020-11-27T04:56:38.662425Z",
     "start_time": "2020-11-27T04:56:38.616652Z"
    }
   },
   "outputs": [
    {
     "data": {
      "text/html": [
       "<div>\n",
       "<style scoped>\n",
       "    .dataframe tbody tr th:only-of-type {\n",
       "        vertical-align: middle;\n",
       "    }\n",
       "\n",
       "    .dataframe tbody tr th {\n",
       "        vertical-align: top;\n",
       "    }\n",
       "\n",
       "    .dataframe thead th {\n",
       "        text-align: right;\n",
       "    }\n",
       "</style>\n",
       "<table border=\"1\" class=\"dataframe\">\n",
       "  <thead>\n",
       "    <tr style=\"text-align: right;\">\n",
       "      <th></th>\n",
       "      <th>date_erected</th>\n",
       "      <th>im_sq_ft</th>\n",
       "      <th>act_ar</th>\n",
       "      <th>heat_ar</th>\n",
       "      <th>gross_ar</th>\n",
       "      <th>eff_ar</th>\n",
       "      <th>perimeter</th>\n",
       "      <th>fireplace_metal_prefab</th>\n",
       "      <th>fixtures_addl</th>\n",
       "      <th>fixtures_total</th>\n",
       "      <th>...</th>\n",
       "      <th>base_area_upr</th>\n",
       "      <th>mas_brk_garage_pri</th>\n",
       "      <th>open_frame_porch_pri</th>\n",
       "      <th>open_mas_porch_pri</th>\n",
       "      <th>exterior_wall_Brick / Veneer</th>\n",
       "      <th>exterior_wall_Frame / Concrete Blk</th>\n",
       "      <th>exterior_wall_Stone</th>\n",
       "      <th>kmeans_label_0</th>\n",
       "      <th>kmeans_label_1</th>\n",
       "      <th>kmeans_label_2</th>\n",
       "    </tr>\n",
       "    <tr>\n",
       "      <th>acct</th>\n",
       "      <th></th>\n",
       "      <th></th>\n",
       "      <th></th>\n",
       "      <th></th>\n",
       "      <th></th>\n",
       "      <th></th>\n",
       "      <th></th>\n",
       "      <th></th>\n",
       "      <th></th>\n",
       "      <th></th>\n",
       "      <th></th>\n",
       "      <th></th>\n",
       "      <th></th>\n",
       "      <th></th>\n",
       "      <th></th>\n",
       "      <th></th>\n",
       "      <th></th>\n",
       "      <th></th>\n",
       "      <th></th>\n",
       "      <th></th>\n",
       "      <th></th>\n",
       "    </tr>\n",
       "  </thead>\n",
       "  <tbody>\n",
       "    <tr>\n",
       "      <th>1347180010011</th>\n",
       "      <td>2014</td>\n",
       "      <td>2869.0</td>\n",
       "      <td>3545</td>\n",
       "      <td>2869.0</td>\n",
       "      <td>3545</td>\n",
       "      <td>3003.0</td>\n",
       "      <td>374.0</td>\n",
       "      <td>1.0</td>\n",
       "      <td>2.0</td>\n",
       "      <td>15.0</td>\n",
       "      <td>...</td>\n",
       "      <td>1105.0</td>\n",
       "      <td>399.0</td>\n",
       "      <td>220.0</td>\n",
       "      <td>57.0</td>\n",
       "      <td>0.0</td>\n",
       "      <td>1.0</td>\n",
       "      <td>0.0</td>\n",
       "      <td>0.0</td>\n",
       "      <td>0.0</td>\n",
       "      <td>1.0</td>\n",
       "    </tr>\n",
       "    <tr>\n",
       "      <th>1347180010013</th>\n",
       "      <td>2014</td>\n",
       "      <td>1858.0</td>\n",
       "      <td>2524</td>\n",
       "      <td>1858.0</td>\n",
       "      <td>2524</td>\n",
       "      <td>2098.0</td>\n",
       "      <td>218.0</td>\n",
       "      <td>0.0</td>\n",
       "      <td>2.0</td>\n",
       "      <td>10.0</td>\n",
       "      <td>...</td>\n",
       "      <td>0.0</td>\n",
       "      <td>399.0</td>\n",
       "      <td>112.0</td>\n",
       "      <td>155.0</td>\n",
       "      <td>0.0</td>\n",
       "      <td>0.0</td>\n",
       "      <td>1.0</td>\n",
       "      <td>1.0</td>\n",
       "      <td>0.0</td>\n",
       "      <td>0.0</td>\n",
       "    </tr>\n",
       "    <tr>\n",
       "      <th>1347180010021</th>\n",
       "      <td>2014</td>\n",
       "      <td>2579.0</td>\n",
       "      <td>3214</td>\n",
       "      <td>2579.0</td>\n",
       "      <td>3214</td>\n",
       "      <td>2683.0</td>\n",
       "      <td>230.0</td>\n",
       "      <td>1.0</td>\n",
       "      <td>2.0</td>\n",
       "      <td>15.0</td>\n",
       "      <td>...</td>\n",
       "      <td>0.0</td>\n",
       "      <td>399.0</td>\n",
       "      <td>136.0</td>\n",
       "      <td>100.0</td>\n",
       "      <td>1.0</td>\n",
       "      <td>0.0</td>\n",
       "      <td>0.0</td>\n",
       "      <td>0.0</td>\n",
       "      <td>0.0</td>\n",
       "      <td>1.0</td>\n",
       "    </tr>\n",
       "    <tr>\n",
       "      <th>1347180010023</th>\n",
       "      <td>2014</td>\n",
       "      <td>2031.0</td>\n",
       "      <td>2626</td>\n",
       "      <td>2031.0</td>\n",
       "      <td>2626</td>\n",
       "      <td>2246.0</td>\n",
       "      <td>234.0</td>\n",
       "      <td>1.0</td>\n",
       "      <td>2.0</td>\n",
       "      <td>10.0</td>\n",
       "      <td>...</td>\n",
       "      <td>0.0</td>\n",
       "      <td>396.0</td>\n",
       "      <td>119.0</td>\n",
       "      <td>80.0</td>\n",
       "      <td>0.0</td>\n",
       "      <td>1.0</td>\n",
       "      <td>0.0</td>\n",
       "      <td>1.0</td>\n",
       "      <td>0.0</td>\n",
       "      <td>0.0</td>\n",
       "    </tr>\n",
       "    <tr>\n",
       "      <th>1347180010035</th>\n",
       "      <td>2014</td>\n",
       "      <td>2371.0</td>\n",
       "      <td>3133</td>\n",
       "      <td>2371.0</td>\n",
       "      <td>3133</td>\n",
       "      <td>2458.0</td>\n",
       "      <td>216.0</td>\n",
       "      <td>0.0</td>\n",
       "      <td>2.0</td>\n",
       "      <td>12.0</td>\n",
       "      <td>...</td>\n",
       "      <td>0.0</td>\n",
       "      <td>566.0</td>\n",
       "      <td>100.0</td>\n",
       "      <td>96.0</td>\n",
       "      <td>0.0</td>\n",
       "      <td>0.0</td>\n",
       "      <td>1.0</td>\n",
       "      <td>1.0</td>\n",
       "      <td>0.0</td>\n",
       "      <td>0.0</td>\n",
       "    </tr>\n",
       "  </tbody>\n",
       "</table>\n",
       "<p>5 rows × 32 columns</p>\n",
       "</div>"
      ],
      "text/plain": [
       "               date_erected  im_sq_ft  act_ar  heat_ar  gross_ar  eff_ar  \\\n",
       "acct                                                                       \n",
       "1347180010011          2014    2869.0    3545   2869.0      3545  3003.0   \n",
       "1347180010013          2014    1858.0    2524   1858.0      2524  2098.0   \n",
       "1347180010021          2014    2579.0    3214   2579.0      3214  2683.0   \n",
       "1347180010023          2014    2031.0    2626   2031.0      2626  2246.0   \n",
       "1347180010035          2014    2371.0    3133   2371.0      3133  2458.0   \n",
       "\n",
       "               perimeter  fireplace_metal_prefab  fixtures_addl  \\\n",
       "acct                                                              \n",
       "1347180010011      374.0                     1.0            2.0   \n",
       "1347180010013      218.0                     0.0            2.0   \n",
       "1347180010021      230.0                     1.0            2.0   \n",
       "1347180010023      234.0                     1.0            2.0   \n",
       "1347180010035      216.0                     0.0            2.0   \n",
       "\n",
       "               fixtures_total  ...  base_area_upr  mas_brk_garage_pri  \\\n",
       "acct                           ...                                      \n",
       "1347180010011            15.0  ...         1105.0               399.0   \n",
       "1347180010013            10.0  ...            0.0               399.0   \n",
       "1347180010021            15.0  ...            0.0               399.0   \n",
       "1347180010023            10.0  ...            0.0               396.0   \n",
       "1347180010035            12.0  ...            0.0               566.0   \n",
       "\n",
       "               open_frame_porch_pri  open_mas_porch_pri  \\\n",
       "acct                                                      \n",
       "1347180010011                 220.0                57.0   \n",
       "1347180010013                 112.0               155.0   \n",
       "1347180010021                 136.0               100.0   \n",
       "1347180010023                 119.0                80.0   \n",
       "1347180010035                 100.0                96.0   \n",
       "\n",
       "               exterior_wall_Brick / Veneer  \\\n",
       "acct                                          \n",
       "1347180010011                           0.0   \n",
       "1347180010013                           0.0   \n",
       "1347180010021                           1.0   \n",
       "1347180010023                           0.0   \n",
       "1347180010035                           0.0   \n",
       "\n",
       "               exterior_wall_Frame / Concrete Blk  exterior_wall_Stone  \\\n",
       "acct                                                                     \n",
       "1347180010011                                 1.0                  0.0   \n",
       "1347180010013                                 0.0                  1.0   \n",
       "1347180010021                                 0.0                  0.0   \n",
       "1347180010023                                 1.0                  0.0   \n",
       "1347180010035                                 0.0                  1.0   \n",
       "\n",
       "               kmeans_label_0  kmeans_label_1  kmeans_label_2  \n",
       "acct                                                           \n",
       "1347180010011             0.0             0.0             1.0  \n",
       "1347180010013             1.0             0.0             0.0  \n",
       "1347180010021             0.0             0.0             1.0  \n",
       "1347180010023             1.0             0.0             0.0  \n",
       "1347180010035             1.0             0.0             0.0  \n",
       "\n",
       "[5 rows x 32 columns]"
      ]
     },
     "execution_count": 24,
     "metadata": {},
     "output_type": "execute_result"
    }
   ],
   "source": [
    "subdiv_dummy.head()"
   ]
  },
  {
   "cell_type": "markdown",
   "metadata": {},
   "source": [
    "## Save modeling data"
   ]
  },
  {
   "cell_type": "code",
   "execution_count": 25,
   "metadata": {
    "ExecuteTime": {
     "end_time": "2020-11-27T04:56:38.687334Z",
     "start_time": "2020-11-27T04:56:38.668409Z"
    }
   },
   "outputs": [],
   "source": [
    "save_fn = ROOT_DIR / 'data/processed/subdiv_dummy.pickle'\n",
    "save_pickle(subdiv_dummy, save_fn)\n",
    "\n",
    "save_fn = ROOT_DIR / 'models/enc.pickle'\n",
    "save_pickle(enc, save_fn)"
   ]
  },
  {
   "cell_type": "markdown",
   "metadata": {},
   "source": [
    "# Split data"
   ]
  },
  {
   "cell_type": "code",
   "execution_count": 26,
   "metadata": {
    "ExecuteTime": {
     "end_time": "2020-11-27T04:56:38.719690Z",
     "start_time": "2020-11-27T04:56:38.689700Z"
    }
   },
   "outputs": [],
   "source": [
    "from sklearn.model_selection import train_test_split"
   ]
  },
  {
   "cell_type": "code",
   "execution_count": 27,
   "metadata": {
    "ExecuteTime": {
     "end_time": "2020-11-27T04:56:38.738270Z",
     "start_time": "2020-11-27T04:56:38.721195Z"
    }
   },
   "outputs": [],
   "source": [
    "X = subdiv_dummy.drop(['tot_appr_val'], axis=1)\n",
    "y = subdiv_dummy['tot_appr_val']"
   ]
  },
  {
   "cell_type": "code",
   "execution_count": 28,
   "metadata": {
    "ExecuteTime": {
     "end_time": "2020-11-27T04:56:38.772760Z",
     "start_time": "2020-11-27T04:56:38.740851Z"
    }
   },
   "outputs": [],
   "source": [
    "X_train, X_test, y_train, y_test = train_test_split(X, y, test_size=0.3, random_state=42)"
   ]
  },
  {
   "cell_type": "markdown",
   "metadata": {},
   "source": [
    "# 5-fold cross-validation, feature selection and modeling\n",
    "\n",
    "I'll follow a variant of the steps on page [245 of Hastie, Tibshirani, and Friedman (2009)](https://web.stanford.edu/~hastie/ElemStatLearn/). The idea is to perform all data processing steps that depend on all the samples within each fold in the cross-validation. This way, we minimize the possibility of information leaking into the training set, which could cause artificially low test errors. A great explanation of the step-by-step procedure is presented in [Raschka 2016 blog post](https://sebastianraschka.com/blog/2016/model-evaluation-selection-part3.html).\n",
    "\n",
    "In this case, I first split the data (previous step) and use the training data in cross-validation to:\n",
    "1. Fit a random forest estimator\n",
    "2. Standardize the variables\n",
    "3. Fit an ElasticNet estimator\n",
    "4. Fit a ridge regression estimator\n",
    "5. Fit a LASSO estimator for feature elimination\n",
    "6. Fit a ridge regression estimator with features passed by LASSO\n",
    "\n",
    "By summarizing the model scores across fold (cross-validation error) we can form an idea of the prediction error on unseen data, and the stability of the hyperparameters"
   ]
  },
  {
   "cell_type": "code",
   "execution_count": 29,
   "metadata": {
    "ExecuteTime": {
     "end_time": "2020-11-27T04:56:38.805045Z",
     "start_time": "2020-11-27T04:56:38.775751Z"
    }
   },
   "outputs": [],
   "source": [
    "from collections import defaultdict"
   ]
  },
  {
   "cell_type": "code",
   "execution_count": 30,
   "metadata": {
    "ExecuteTime": {
     "end_time": "2020-11-27T04:56:38.913252Z",
     "start_time": "2020-11-27T04:56:38.811346Z"
    }
   },
   "outputs": [],
   "source": [
    "from sklearn.preprocessing import StandardScaler\n",
    "from sklearn.model_selection import KFold, GridSearchCV\n",
    "from sklearn.ensemble import RandomForestRegressor\n",
    "from sklearn.linear_model import ElasticNetCV, RidgeCV, LassoCV\n",
    "from sklearn.metrics import mean_absolute_error, mean_squared_error, median_absolute_error"
   ]
  },
  {
   "cell_type": "code",
   "execution_count": 31,
   "metadata": {
    "ExecuteTime": {
     "end_time": "2020-11-27T04:56:38.948669Z",
     "start_time": "2020-11-27T04:56:38.915495Z"
    }
   },
   "outputs": [],
   "source": [
    "def model_scores(model, X_train, y_train, X_test, y_test, sc_y=None):\n",
    "    '''Evaluate model using test data'''\n",
    "    \n",
    "    data_split = {'train': (X_train, y_train),\n",
    "                  'test': (X_test, y_test)}\n",
    "\n",
    "    results = {}\n",
    "    for split_type, data in data_split.items():\n",
    "        X, y_true = data\n",
    "        \n",
    "        y_pred = model.predict(X)\n",
    "         \n",
    "        if sc_y:\n",
    "            y_pred = sc_y.inverse_transform(y_pred)\n",
    "            y_true = sc_y.inverse_transform(y_true)\n",
    "        \n",
    "        mae = mean_absolute_error(y_true, y_pred)\n",
    "        mse = mean_squared_error(y_true, y_pred)\n",
    "        medae = median_absolute_error(y_true, y_pred)\n",
    "        \n",
    "        results[split_type+'_scores'] = {'mae': mae,\n",
    "                                         'mse': mse,\n",
    "                                         'medae': medae}\n",
    "    \n",
    "    return results"
   ]
  },
  {
   "cell_type": "code",
   "execution_count": 32,
   "metadata": {
    "ExecuteTime": {
     "end_time": "2020-11-27T04:56:38.978443Z",
     "start_time": "2020-11-27T04:56:38.950723Z"
    }
   },
   "outputs": [],
   "source": [
    "kf = KFold(n_splits=5)"
   ]
  },
  {
   "cell_type": "code",
   "execution_count": 33,
   "metadata": {
    "ExecuteTime": {
     "end_time": "2020-11-27T04:56:39.009634Z",
     "start_time": "2020-11-27T04:56:38.980493Z"
    }
   },
   "outputs": [],
   "source": [
    "cv_results_fn = ROOT_DIR / 'models/cv_results.pickle'"
   ]
  },
  {
   "cell_type": "code",
   "execution_count": 34,
   "metadata": {
    "ExecuteTime": {
     "end_time": "2020-11-27T04:56:39.219949Z",
     "start_time": "2020-11-27T04:56:39.012543Z"
    },
    "scrolled": false
   },
   "outputs": [],
   "source": [
    "if cv_results_fn.is_file():\n",
    "    with open(cv_results_fn, 'rb') as f:\n",
    "        cv_results = pickle.load(f)\n",
    "else:\n",
    "    cv_results = defaultdict(dict)\n",
    "    for fold, indexes in enumerate(kf.split(X_train)):\n",
    "\n",
    "        train_index, test_index = indexes\n",
    "\n",
    "        X_fold_train, X_fold_test = X_train.iloc[train_index, :], X_train.iloc[test_index, :]\n",
    "        y_fold_train, y_fold_test = y_train.iloc[train_index], y_train.iloc[test_index]\n",
    "\n",
    "        # CV random forest\n",
    "        print(f'Start RF, fold {fold}')\n",
    "        rf = RandomForestRegressor()\n",
    "        rf_params = {'n_estimators': np.arange(100, 1500, 100)}\n",
    "        rf_cv = GridSearchCV(rf, rf_params, cv=5)\n",
    "        rf_cv.fit(X_fold_train, y_fold_train)\n",
    "\n",
    "        scores = model_scores(rf_cv, X_fold_train, y_fold_train, X_fold_test, y_fold_test)\n",
    "\n",
    "        rf_feature_importances = rf_cv.best_estimator_.feature_importances_\n",
    "\n",
    "        scores.update({'features': rf_feature_importances,\n",
    "                       'model': rf_cv,\n",
    "                       'n_estimators': rf_cv.best_params_['n_estimators']})\n",
    "\n",
    "        cv_results[fold].update({'rf': scores})\n",
    "\n",
    "        # Standardize variables\n",
    "        print(f'Start Standarize variables, fold {fold}')\n",
    "        sc_x = StandardScaler()\n",
    "        sc_y = StandardScaler()\n",
    "        sc_x.fit(X_fold_train)\n",
    "        sc_y.fit(y_fold_train.to_numpy().reshape(-1, 1))\n",
    "\n",
    "        X_fold_train_std = sc_x.transform(X_fold_train)\n",
    "        X_fold_test_std = sc_x.transform(X_fold_test)\n",
    "\n",
    "        y_fold_train_std = sc_y.transform(y_fold_train.to_numpy().reshape(-1, 1)).ravel()\n",
    "        y_fold_test_std = sc_y.transform(y_fold_test.to_numpy().reshape(-1, 1)).ravel()\n",
    "\n",
    "        # ElasticNet\n",
    "        print(f'Start ElasticNet, fold {fold}')\n",
    "        l1_ratios = [.1, .5, .7, .9, .95, .99, 1]\n",
    "        en_cv = ElasticNetCV(l1_ratio=l1_ratios, cv=5, n_jobs=-1, max_iter=15000)\n",
    "        en_cv.fit(X_fold_train_std, y_fold_train_std)\n",
    "\n",
    "        scores = model_scores(en_cv,\n",
    "                              X_fold_train_std,\n",
    "                              y_fold_train_std,\n",
    "                              X_fold_test_std,\n",
    "                              y_fold_test_std,\n",
    "                              sc_y)\n",
    "        scores.update({'model': en_cv,\n",
    "                       'alpha': en_cv.alpha_,\n",
    "                       'l1_ratio': en_cv.l1_ratio_,\n",
    "                       'coeff': en_cv.coef_})\n",
    "\n",
    "        cv_results[fold].update({'en': scores})\n",
    "\n",
    "        # Ridge regression\n",
    "        print(f'Start Ridge regression, fold {fold}')\n",
    "        alphas=np.logspace(-10, 10, 21)\n",
    "        rr_cv = RidgeCV(alphas=alphas, cv=5)\n",
    "        rr_cv.fit(X_fold_train_std, y_fold_train_std)\n",
    "\n",
    "        scores = model_scores(rr_cv,\n",
    "                              X_fold_train_std,\n",
    "                              y_fold_train_std,\n",
    "                              X_fold_test_std,\n",
    "                              y_fold_test_std,\n",
    "                              sc_y)\n",
    "\n",
    "        scores.update({'model': rr_cv,\n",
    "                       'alpha': rr_cv.alpha_,\n",
    "                       'coeff': rr_cv.coef_})\n",
    "\n",
    "        cv_results[fold].update({'rr': scores})\n",
    "\n",
    "        # LASSO for feature selection\n",
    "        print(f'Start LASSO, fold {fold}')\n",
    "        lasso_cv = LassoCV(cv=5, max_iter=10000, n_jobs=-1)\n",
    "        lasso_cv.fit(X_fold_train_std, y_fold_train_std)\n",
    "\n",
    "        scores = model_scores(lasso_cv,\n",
    "                              X_fold_train_std,\n",
    "                              y_fold_train_std,\n",
    "                              X_fold_test_std,\n",
    "                              y_fold_test_std,\n",
    "                              sc_y)\n",
    "\n",
    "        selected_features_idx = [col_indx\n",
    "                                 for col_indx, coef in enumerate(lasso_cv.coef_)\n",
    "                                 if not np.isclose(coef, 0)]\n",
    "\n",
    "        X_fold_train_std_fe = X_fold_train_std[:, selected_features_idx]\n",
    "        X_fold_test_std_fe = X_fold_test_std[:, selected_features_idx]\n",
    "\n",
    "        scores.update({'model': lasso_cv,\n",
    "                       'alpha': lasso_cv.alpha_,\n",
    "                       'coeff': lasso_cv.coef_,\n",
    "                       'features': X_fold_train.columns[(selected_features_idx)]})\n",
    "\n",
    "        cv_results[fold].update({'lasso': scores})\n",
    "\n",
    "        # Ridge regression with selected features\n",
    "        print(f'Start Ridge regression with fe, fold {fold}')\n",
    "\n",
    "        # Must rebuild X standard scaler to account for dropped features\n",
    "        X_fold_train_fe = X_fold_train.iloc[:, selected_features_idx]\n",
    "        X_fold_test_fe = X_fold_test.iloc[:, selected_features_idx]\n",
    "\n",
    "        sc_x_fe = StandardScaler()\n",
    "        sc_x_fe.fit(X_fold_train_fe)\n",
    "\n",
    "        X_fold_train_fe_std = sc_x_fe.transform(X_fold_train_fe)\n",
    "        X_fold_test_fe_std = sc_x_fe.transform(X_fold_test_fe)\n",
    "\n",
    "\n",
    "        rr_fe_cv = RidgeCV(alphas=alphas, cv=5)\n",
    "        rr_fe_cv.fit(X_fold_train_fe_std, y_fold_train_std)\n",
    "\n",
    "        scores = model_scores(rr_fe_cv,\n",
    "                              X_fold_train_fe_std,\n",
    "                              y_fold_train_std,\n",
    "                              X_fold_test_fe_std,\n",
    "                              y_fold_test_std,\n",
    "                              sc_y)\n",
    "        scores.update({'model': rr_fe_cv,\n",
    "                       'alpha': rr_fe_cv.alpha_,\n",
    "                       'coeff': rr_fe_cv.coef_})\n",
    "\n",
    "        cv_results[fold].update({'rr_fe': scores})\n",
    "        \n",
    "    # Save results\n",
    "    save_pickle(cv_results, cv_results_fn)"
   ]
  },
  {
   "cell_type": "code",
   "execution_count": 35,
   "metadata": {
    "ExecuteTime": {
     "end_time": "2020-11-27T04:56:39.312121Z",
     "start_time": "2020-11-27T04:56:39.221659Z"
    },
    "scrolled": true
   },
   "outputs": [
    {
     "data": {
      "text/plain": [
       "defaultdict(dict,\n",
       "            {0: {'rf': {'train_scores': {'mae': 3780.9918032786886,\n",
       "                'mse': 51902047.255977035,\n",
       "                'medae': 2306.890000000014},\n",
       "               'test_scores': {'mae': 10558.680000000002,\n",
       "                'mse': 211331473.8140875,\n",
       "                'medae': 7090.9800000000105},\n",
       "               'features': array([3.11388474e-04, 4.50829962e-02, 7.23372657e-02, 4.39200642e-02,\n",
       "                      5.42263693e-02, 5.32367765e-01, 4.77259895e-02, 3.87786497e-03,\n",
       "                      3.98224735e-04, 8.98633137e-04, 7.03793217e-04, 3.87600289e-04,\n",
       "                      3.03604420e-04, 8.69948258e-04, 2.84634918e-03, 4.26467238e-03,\n",
       "                      4.91505797e-02, 5.53610456e-03, 3.87475361e-03, 3.09066312e-03,\n",
       "                      3.35216065e-02, 1.01946217e-02, 8.98648147e-03, 3.48535144e-03,\n",
       "                      4.57530421e-02, 1.57944418e-03, 2.19636193e-03, 2.27287336e-03,\n",
       "                      1.91553168e-03, 1.87344932e-03, 1.60466063e-02]),\n",
       "               'model': GridSearchCV(cv=5, estimator=RandomForestRegressor(),\n",
       "                            param_grid={'n_estimators': array([ 100,  200,  300,  400,  500,  600,  700,  800,  900, 1000, 1100,\n",
       "                      1200, 1300, 1400])}),\n",
       "               'n_estimators': 100},\n",
       "              'en': {'train_scores': {'mae': 8554.55795685528,\n",
       "                'mse': 255957545.41074964,\n",
       "                'medae': 5513.31232008955},\n",
       "               'test_scores': {'mae': 3005.7820973381713,\n",
       "                'mse': 15635499.555345193,\n",
       "                'medae': 2533.39516418759},\n",
       "               'model': ElasticNetCV(cv=5, l1_ratio=[0.1, 0.5, 0.7, 0.9, 0.95, 0.99, 1], max_iter=15000,\n",
       "                            n_jobs=-1),\n",
       "               'alpha': 0.1398627393659395,\n",
       "               'l1_ratio': 1.0,\n",
       "               'coeff': array([ 0.        ,  0.        ,  0.        ,  0.        ,  0.        ,\n",
       "                       0.62224892,  0.        ,  0.        ,  0.        ,  0.        ,\n",
       "                       0.        ,  0.        ,  0.        ,  0.        ,  0.        ,\n",
       "                       0.        ,  0.        ,  0.        ,  0.        ,  0.        ,\n",
       "                      -0.        ,  0.01523362,  0.        ,  0.        , -0.        ,\n",
       "                      -0.        , -0.        ,  0.        , -0.        , -0.        ,\n",
       "                       0.04249672])},\n",
       "              'rr': {'train_scores': {'mae': 8455.959218960097,\n",
       "                'mse': 233801575.17497987,\n",
       "                'medae': 4634.509784764319},\n",
       "               'test_scores': {'mae': 5309.706533583629,\n",
       "                'mse': 47744979.657952674,\n",
       "                'medae': 5621.743675047925},\n",
       "               'model': RidgeCV(alphas=array([1.e-10, 1.e-09, 1.e-08, 1.e-07, 1.e-06, 1.e-05, 1.e-04, 1.e-03,\n",
       "                      1.e-02, 1.e-01, 1.e+00, 1.e+01, 1.e+02, 1.e+03, 1.e+04, 1.e+05,\n",
       "                      1.e+06, 1.e+07, 1.e+08, 1.e+09, 1.e+10]),\n",
       "                       cv=5),\n",
       "               'alpha': 100.0,\n",
       "               'coeff': array([ 0.02996287,  0.06429954,  0.06820773,  0.06429954,  0.06820773,\n",
       "                       0.07354272,  0.03954625,  0.03536882,  0.02319697,  0.04561009,\n",
       "                      -0.00743015,  0.02489542,  0.05433831,  0.012886  , -0.00133442,\n",
       "                       0.04211039,  0.06429954,  0.00657037,  0.0065952 ,  0.00634891,\n",
       "                       0.01737887,  0.04725102,  0.02954223,  0.0609425 , -0.03349404,\n",
       "                      -0.0192438 , -0.01642737,  0.03986294, -0.03559049, -0.01558421,\n",
       "                       0.04619216])},\n",
       "              'lasso': {'train_scores': {'mae': 8554.55795685528,\n",
       "                'mse': 255957545.41074964,\n",
       "                'medae': 5513.31232008955},\n",
       "               'test_scores': {'mae': 3005.7820973381713,\n",
       "                'mse': 15635499.555345193,\n",
       "                'medae': 2533.39516418759},\n",
       "               'model': LassoCV(cv=5, max_iter=10000, n_jobs=-1),\n",
       "               'alpha': 0.1398627393659395,\n",
       "               'coeff': array([ 0.        ,  0.        ,  0.        ,  0.        ,  0.        ,\n",
       "                       0.62224892,  0.        ,  0.        ,  0.        ,  0.        ,\n",
       "                       0.        ,  0.        ,  0.        ,  0.        ,  0.        ,\n",
       "                       0.        ,  0.        ,  0.        ,  0.        ,  0.        ,\n",
       "                      -0.        ,  0.01523362,  0.        ,  0.        , -0.        ,\n",
       "                      -0.        , -0.        ,  0.        , -0.        , -0.        ,\n",
       "                       0.04249672]),\n",
       "               'features': Index(['eff_ar', 'base_area_upr', 'kmeans_label_2'], dtype='object')},\n",
       "              'rr_fe': {'train_scores': {'mae': 8437.952263668183,\n",
       "                'mse': 238915020.30553624,\n",
       "                'medae': 5296.52502142411},\n",
       "               'test_scores': {'mae': 5666.503282992404,\n",
       "                'mse': 40021806.93963997,\n",
       "                'medae': 5698.1302937851},\n",
       "               'model': RidgeCV(alphas=array([1.e-10, 1.e-09, 1.e-08, 1.e-07, 1.e-06, 1.e-05, 1.e-04, 1.e-03,\n",
       "                      1.e-02, 1.e-01, 1.e+00, 1.e+01, 1.e+02, 1.e+03, 1.e+04, 1.e+05,\n",
       "                      1.e+06, 1.e+07, 1.e+08, 1.e+09, 1.e+10]),\n",
       "                       cv=5),\n",
       "               'alpha': 1e-10,\n",
       "               'coeff': array([0.68475019, 0.06483101, 0.10753395])}},\n",
       "             1: {'rf': {'train_scores': {'mae': 3047.7347950819662,\n",
       "                'mse': 32074261.94621873,\n",
       "                'medae': 1691.3450000000012},\n",
       "               'test_scores': {'mae': 9044.16671875,\n",
       "                'mse': 284190365.3021113,\n",
       "                'medae': 5191.091249999998},\n",
       "               'features': array([3.67146712e-04, 7.01014794e-02, 5.94859659e-02, 7.54736530e-02,\n",
       "                      4.88918018e-02, 5.15169225e-01, 3.40432272e-02, 4.18765912e-03,\n",
       "                      8.55542551e-06, 9.77949334e-03, 5.49113084e-04, 1.24390882e-03,\n",
       "                      4.20831188e-03, 1.69350384e-03, 1.83508366e-03, 5.26788690e-04,\n",
       "                      7.85252580e-02, 2.81308280e-03, 1.72340478e-03, 3.26943074e-03,\n",
       "                      7.88588222e-03, 6.88080321e-03, 1.59309259e-03, 5.59445613e-03,\n",
       "                      4.13236018e-02, 4.43799084e-04, 5.57070361e-04, 1.21164723e-03,\n",
       "                      4.16368752e-04, 1.66550862e-03, 1.85316774e-02]),\n",
       "               'model': GridSearchCV(cv=5, estimator=RandomForestRegressor(),\n",
       "                            param_grid={'n_estimators': array([ 100,  200,  300,  400,  500,  600,  700,  800,  900, 1000, 1100,\n",
       "                      1200, 1300, 1400])}),\n",
       "               'n_estimators': 400},\n",
       "              'en': {'train_scores': {'mae': 7094.430081648947,\n",
       "                'mse': 191927315.1290052,\n",
       "                'medae': 4510.268720097054},\n",
       "               'test_scores': {'mae': 10011.801192981426,\n",
       "                'mse': 328139025.8144796,\n",
       "                'medae': 5964.556212859548},\n",
       "               'model': ElasticNetCV(cv=5, l1_ratio=[0.1, 0.5, 0.7, 0.9, 0.95, 0.99, 1], max_iter=15000,\n",
       "                            n_jobs=-1),\n",
       "               'alpha': 0.16684395699995028,\n",
       "               'l1_ratio': 1.0,\n",
       "               'coeff': array([ 0.        ,  0.        ,  0.        ,  0.        ,  0.        ,\n",
       "                       0.64809651,  0.        ,  0.0514335 ,  0.        ,  0.        ,\n",
       "                       0.        ,  0.        ,  0.        ,  0.        ,  0.        ,\n",
       "                       0.        ,  0.        , -0.        , -0.        , -0.        ,\n",
       "                      -0.        ,  0.        ,  0.        ,  0.        , -0.        ,\n",
       "                      -0.        , -0.        ,  0.        , -0.        , -0.        ,\n",
       "                       0.        ])},\n",
       "              'rr': {'train_scores': {'mae': 7208.055888074,\n",
       "                'mse': 172492854.35060376,\n",
       "                'medae': 4203.469389928243},\n",
       "               'test_scores': {'mae': 9852.496465546683,\n",
       "                'mse': 308135316.91836643,\n",
       "                'medae': 4135.652148969908},\n",
       "               'model': RidgeCV(alphas=array([1.e-10, 1.e-09, 1.e-08, 1.e-07, 1.e-06, 1.e-05, 1.e-04, 1.e-03,\n",
       "                      1.e-02, 1.e-01, 1.e+00, 1.e+01, 1.e+02, 1.e+03, 1.e+04, 1.e+05,\n",
       "                      1.e+06, 1.e+07, 1.e+08, 1.e+09, 1.e+10]),\n",
       "                       cv=5),\n",
       "               'alpha': 100.0,\n",
       "               'coeff': array([ 0.0264714 ,  0.07385091,  0.07168837,  0.07385091,  0.07168837,\n",
       "                       0.08348862,  0.03688887,  0.07830603,  0.03159367,  0.03344301,\n",
       "                      -0.0163544 ,  0.01592944,  0.04098946,  0.01216356, -0.0079395 ,\n",
       "                       0.04436866,  0.07385091, -0.00020376, -0.00015393, -0.00018066,\n",
       "                       0.04266349,  0.04703302,  0.00565806,  0.07082105, -0.04316271,\n",
       "                      -0.02189325,  0.00032768,  0.02367039, -0.02177606, -0.02314216,\n",
       "                       0.03898088])},\n",
       "              'lasso': {'train_scores': {'mae': 7094.430081648947,\n",
       "                'mse': 191927315.1290052,\n",
       "                'medae': 4510.268720097054},\n",
       "               'test_scores': {'mae': 10011.801192981426,\n",
       "                'mse': 328139025.8144796,\n",
       "                'medae': 5964.556212859548},\n",
       "               'model': LassoCV(cv=5, max_iter=10000, n_jobs=-1),\n",
       "               'alpha': 0.16684395699995028,\n",
       "               'coeff': array([ 0.        ,  0.        ,  0.        ,  0.        ,  0.        ,\n",
       "                       0.64809651,  0.        ,  0.0514335 ,  0.        ,  0.        ,\n",
       "                       0.        ,  0.        ,  0.        ,  0.        ,  0.        ,\n",
       "                       0.        ,  0.        , -0.        , -0.        , -0.        ,\n",
       "                      -0.        ,  0.        ,  0.        ,  0.        , -0.        ,\n",
       "                      -0.        , -0.        ,  0.        , -0.        , -0.        ,\n",
       "                       0.        ]),\n",
       "               'features': Index(['eff_ar', 'fireplace_metal_prefab'], dtype='object')},\n",
       "              'rr_fe': {'train_scores': {'mae': 6301.87302406906,\n",
       "                'mse': 166648486.27463472,\n",
       "                'medae': 4037.8308871925983},\n",
       "               'test_scores': {'mae': 11705.61149176242,\n",
       "                'mse': 350781634.712883,\n",
       "                'medae': 7847.662412089587},\n",
       "               'model': RidgeCV(alphas=array([1.e-10, 1.e-09, 1.e-08, 1.e-07, 1.e-06, 1.e-05, 1.e-04, 1.e-03,\n",
       "                      1.e-02, 1.e-01, 1.e+00, 1.e+01, 1.e+02, 1.e+03, 1.e+04, 1.e+05,\n",
       "                      1.e+06, 1.e+07, 1.e+08, 1.e+09, 1.e+10]),\n",
       "                       cv=5),\n",
       "               'alpha': 1.0,\n",
       "               'coeff': array([0.76362536, 0.18062204])}},\n",
       "             2: {'rf': {'train_scores': {'mae': 3969.4777016129033,\n",
       "                'mse': 46649404.905671455,\n",
       "                'medae': 2391.0462499999994},\n",
       "               'test_scores': {'mae': 8295.066916666661,\n",
       "                'mse': 116057307.33751525,\n",
       "                'medae': 8410.809999999998},\n",
       "               'features': array([1.20835149e-04, 9.54920449e-02, 5.41799193e-02, 9.47799238e-02,\n",
       "                      7.91679256e-02, 3.60111697e-01, 7.89912430e-02, 1.16118192e-03,\n",
       "                      5.87587829e-04, 3.53155912e-03, 8.73996290e-04, 8.39941595e-04,\n",
       "                      2.94105139e-03, 2.01301046e-03, 2.09526122e-03, 4.30057038e-04,\n",
       "                      9.17635567e-02, 5.58180733e-03, 4.71609194e-03, 5.06586469e-03,\n",
       "                      1.39379698e-02, 2.43062921e-02, 2.12241367e-02, 1.01171636e-02,\n",
       "                      1.87194224e-02, 1.10009095e-03, 3.40333149e-03, 5.74385594e-04,\n",
       "                      4.00477293e-04, 6.42697915e-04, 2.11294763e-02]),\n",
       "               'model': GridSearchCV(cv=5, estimator=RandomForestRegressor(),\n",
       "                            param_grid={'n_estimators': array([ 100,  200,  300,  400,  500,  600,  700,  800,  900, 1000, 1100,\n",
       "                      1200, 1300, 1400])}),\n",
       "               'n_estimators': 800},\n",
       "              'en': {'train_scores': {'mae': 8179.107312882263,\n",
       "                'mse': 250613569.0335621,\n",
       "                'medae': 4147.207553335305},\n",
       "               'test_scores': {'mae': 5779.284406671008,\n",
       "                'mse': 59716980.10617964,\n",
       "                'medae': 3824.4477204240975},\n",
       "               'model': ElasticNetCV(cv=5, l1_ratio=[0.1, 0.5, 0.7, 0.9, 0.95, 0.99, 1], max_iter=15000,\n",
       "                            n_jobs=-1),\n",
       "               'alpha': 0.14980493241562384,\n",
       "               'l1_ratio': 1.0,\n",
       "               'coeff': array([ 0.        ,  0.        ,  0.        ,  0.        ,  0.        ,\n",
       "                       0.59405552,  0.        ,  0.        ,  0.        ,  0.        ,\n",
       "                       0.        ,  0.        ,  0.        ,  0.        ,  0.        ,\n",
       "                       0.        ,  0.        ,  0.        ,  0.        ,  0.        ,\n",
       "                      -0.        ,  0.06171387,  0.        ,  0.        , -0.        ,\n",
       "                      -0.        , -0.        ,  0.        , -0.        , -0.        ,\n",
       "                       0.01285963])},\n",
       "              'rr': {'train_scores': {'mae': 8522.325384386308,\n",
       "                'mse': 229648334.09871167,\n",
       "                'medae': 4764.472185406092},\n",
       "               'test_scores': {'mae': 5533.237186439592,\n",
       "                'mse': 71647465.54348618,\n",
       "                'medae': 1760.724248916522},\n",
       "               'model': RidgeCV(alphas=array([1.e-10, 1.e-09, 1.e-08, 1.e-07, 1.e-06, 1.e-05, 1.e-04, 1.e-03,\n",
       "                      1.e-02, 1.e-01, 1.e+00, 1.e+01, 1.e+02, 1.e+03, 1.e+04, 1.e+05,\n",
       "                      1.e+06, 1.e+07, 1.e+08, 1.e+09, 1.e+10]),\n",
       "                       cv=5),\n",
       "               'alpha': 100.0,\n",
       "               'coeff': array([ 0.03000029,  0.06431813,  0.0669019 ,  0.06431813,  0.0669019 ,\n",
       "                       0.07425576,  0.04452722,  0.04898741,  0.02431799,  0.03750998,\n",
       "                      -0.0017628 ,  0.02631551,  0.03740207,  0.0203146 ,  0.00052237,\n",
       "                       0.03743174,  0.06431813,  0.00670324,  0.00674345,  0.00635847,\n",
       "                       0.01486047,  0.05697428,  0.02243205,  0.06041767, -0.03736294,\n",
       "                      -0.0047885 , -0.02783395,  0.03271316, -0.03187119, -0.01376593,\n",
       "                       0.04213171])},\n",
       "              'lasso': {'train_scores': {'mae': 8179.107312882263,\n",
       "                'mse': 250613569.0335621,\n",
       "                'medae': 4147.207553335305},\n",
       "               'test_scores': {'mae': 5779.284406671008,\n",
       "                'mse': 59716980.10617964,\n",
       "                'medae': 3824.4477204240975},\n",
       "               'model': LassoCV(cv=5, max_iter=10000, n_jobs=-1),\n",
       "               'alpha': 0.14980493241562384,\n",
       "               'coeff': array([ 0.        ,  0.        ,  0.        ,  0.        ,  0.        ,\n",
       "                       0.59405552,  0.        ,  0.        ,  0.        ,  0.        ,\n",
       "                       0.        ,  0.        ,  0.        ,  0.        ,  0.        ,\n",
       "                       0.        ,  0.        ,  0.        ,  0.        ,  0.        ,\n",
       "                      -0.        ,  0.06171387,  0.        ,  0.        , -0.        ,\n",
       "                      -0.        , -0.        ,  0.        , -0.        , -0.        ,\n",
       "                       0.01285963]),\n",
       "               'features': Index(['eff_ar', 'base_area_upr', 'kmeans_label_2'], dtype='object')},\n",
       "              'rr_fe': {'train_scores': {'mae': 8056.478659480685,\n",
       "                'mse': 232075432.63865846,\n",
       "                'medae': 5102.492511890159},\n",
       "               'test_scores': {'mae': 5789.766905659656,\n",
       "                'mse': 51000998.20703979,\n",
       "                'medae': 4936.880746363109},\n",
       "               'model': RidgeCV(alphas=array([1.e-10, 1.e-09, 1.e-08, 1.e-07, 1.e-06, 1.e-05, 1.e-04, 1.e-03,\n",
       "                      1.e-02, 1.e-01, 1.e+00, 1.e+01, 1.e+02, 1.e+03, 1.e+04, 1.e+05,\n",
       "                      1.e+06, 1.e+07, 1.e+08, 1.e+09, 1.e+10]),\n",
       "                       cv=5),\n",
       "               'alpha': 0.1,\n",
       "               'coeff': array([0.66000168, 0.10737934, 0.08612448])}},\n",
       "             3: {'rf': {'train_scores': {'mae': 3791.3151881720432,\n",
       "                'mse': 47801924.908850595,\n",
       "                'medae': 2050.865833333344},\n",
       "               'test_scores': {'mae': 7768.143222222221,\n",
       "                'mse': 129385373.01903906,\n",
       "                'medae': 4733.959999999992},\n",
       "               'features': array([3.33541224e-04, 5.43794110e-02, 1.06175362e-01, 5.68197820e-02,\n",
       "                      1.22071782e-01, 3.62838748e-01, 7.51797942e-02, 6.53108354e-04,\n",
       "                      9.14887326e-04, 3.57810434e-03, 4.67896756e-04, 2.15491616e-04,\n",
       "                      1.16350102e-02, 8.89653985e-04, 1.30247784e-03, 1.34955471e-03,\n",
       "                      6.42332265e-02, 2.24261728e-03, 1.99962925e-03, 2.60794303e-03,\n",
       "                      1.14632954e-02, 8.58656827e-03, 9.14710505e-03, 5.05209221e-03,\n",
       "                      1.98756405e-02, 5.45442983e-04, 1.48236681e-03, 8.61446304e-04,\n",
       "                      3.84817688e-04, 5.49780002e-04, 7.21634226e-02]),\n",
       "               'model': GridSearchCV(cv=5, estimator=RandomForestRegressor(),\n",
       "                            param_grid={'n_estimators': array([ 100,  200,  300,  400,  500,  600,  700,  800,  900, 1000, 1100,\n",
       "                      1200, 1300, 1400])}),\n",
       "               'n_estimators': 600},\n",
       "              'en': {'train_scores': {'mae': 8599.511291447334,\n",
       "                'mse': 242854703.30084223,\n",
       "                'medae': 4767.755506532718},\n",
       "               'test_scores': {'mae': 7955.651225062898,\n",
       "                'mse': 108614837.9712664,\n",
       "                'medae': 5384.590421021538},\n",
       "               'model': ElasticNetCV(cv=5, l1_ratio=[0.1, 0.5, 0.7, 0.9, 0.95, 0.99, 1], max_iter=15000,\n",
       "                            n_jobs=-1),\n",
       "               'alpha': 0.9309679552157191,\n",
       "               'l1_ratio': 0.1,\n",
       "               'coeff': array([ 0.        ,  0.06772341,  0.07083673,  0.06771153,  0.07082159,\n",
       "                       0.08101798,  0.02880677,  0.00519232,  0.        ,  0.01773043,\n",
       "                       0.        ,  0.        ,  0.03404296,  0.        ,  0.        ,\n",
       "                       0.04336593,  0.06770486, -0.        , -0.        , -0.        ,\n",
       "                      -0.        ,  0.05321039,  0.        ,  0.05738286, -0.        ,\n",
       "                      -0.        , -0.        ,  0.        , -0.00928128, -0.        ,\n",
       "                       0.06324074])},\n",
       "              'rr': {'train_scores': {'mae': 8348.602933613189,\n",
       "                'mse': 222732634.06305087,\n",
       "                'medae': 5390.27813467021},\n",
       "               'test_scores': {'mae': 7327.119614317775,\n",
       "                'mse': 107616227.92358176,\n",
       "                'medae': 4598.59463720987},\n",
       "               'model': RidgeCV(alphas=array([1.e-10, 1.e-09, 1.e-08, 1.e-07, 1.e-06, 1.e-05, 1.e-04, 1.e-03,\n",
       "                      1.e-02, 1.e-01, 1.e+00, 1.e+01, 1.e+02, 1.e+03, 1.e+04, 1.e+05,\n",
       "                      1.e+06, 1.e+07, 1.e+08, 1.e+09, 1.e+10]),\n",
       "                       cv=5),\n",
       "               'alpha': 100.0,\n",
       "               'coeff': array([ 0.0126706 ,  0.06299965,  0.0643834 ,  0.06299965,  0.0643834 ,\n",
       "                       0.07035468,  0.04207793,  0.03707472,  0.01726565,  0.03561574,\n",
       "                      -0.00251942,  0.017497  ,  0.04705185,  0.01203186, -0.00017218,\n",
       "                       0.04908557,  0.06299965,  0.00376674,  0.00381346,  0.00362145,\n",
       "                       0.00811414,  0.05360484,  0.0270345 ,  0.06930171, -0.0358491 ,\n",
       "                      -0.01336946, -0.00465675,  0.02103502, -0.0374131 , -0.02781582,\n",
       "                       0.05744952])},\n",
       "              'lasso': {'train_scores': {'mae': 8143.550307144054,\n",
       "                'mse': 239276462.06988913,\n",
       "                'medae': 3565.115352784662},\n",
       "               'test_scores': {'mae': 6797.357942729577,\n",
       "                'mse': 82202013.90529178,\n",
       "                'medae': 3974.2243509624095},\n",
       "               'model': LassoCV(cv=5, max_iter=10000, n_jobs=-1),\n",
       "               'alpha': 0.14149885130064027,\n",
       "               'coeff': array([ 0.        ,  0.        ,  0.        ,  0.        ,  0.        ,\n",
       "                       0.55490388,  0.        ,  0.        ,  0.        ,  0.        ,\n",
       "                       0.        ,  0.        ,  0.        ,  0.        ,  0.        ,\n",
       "                       0.0071362 ,  0.        , -0.        , -0.        , -0.        ,\n",
       "                      -0.        ,  0.04961156,  0.        ,  0.        , -0.        ,\n",
       "                      -0.        , -0.        ,  0.        , -0.        , -0.        ,\n",
       "                       0.09273273]),\n",
       "               'features': Index(['eff_ar', 'story_height_index', 'base_area_upr', 'kmeans_label_2'], dtype='object')},\n",
       "              'rr_fe': {'train_scores': {'mae': 8425.687240885642,\n",
       "                'mse': 222828378.6611995,\n",
       "                'medae': 6212.423642332607},\n",
       "               'test_scores': {'mae': 8333.104979822603,\n",
       "                'mse': 113813340.93033285,\n",
       "                'medae': 7574.913060773513},\n",
       "               'model': RidgeCV(alphas=array([1.e-10, 1.e-09, 1.e-08, 1.e-07, 1.e-06, 1.e-05, 1.e-04, 1.e-03,\n",
       "                      1.e-02, 1.e-01, 1.e+00, 1.e+01, 1.e+02, 1.e+03, 1.e+04, 1.e+05,\n",
       "                      1.e+06, 1.e+07, 1.e+08, 1.e+09, 1.e+10]),\n",
       "                       cv=5),\n",
       "               'alpha': 1.0,\n",
       "               'coeff': array([0.59081383, 0.0590825 , 0.07159725, 0.14759357])}},\n",
       "             4: {'rf': {'train_scores': {'mae': 2300.6600000000008,\n",
       "                'mse': 18384457.441414524,\n",
       "                'medae': 1091.645000000004},\n",
       "               'test_scores': {'mae': 12535.262666666664,\n",
       "                'mse': 704927394.4235666,\n",
       "                'medae': 5433.289999999979},\n",
       "               'features': array([4.94364919e-05, 3.89353398e-02, 6.32446049e-02, 4.83353088e-02,\n",
       "                      8.83676019e-02, 6.24536066e-01, 1.42043335e-02, 6.34588368e-04,\n",
       "                      8.85079380e-04, 2.22969858e-03, 1.44907234e-04, 1.66524558e-03,\n",
       "                      1.85075113e-02, 1.57372215e-03, 1.51424968e-03, 2.18391545e-04,\n",
       "                      3.52002097e-02, 1.68601714e-03, 2.55274145e-03, 1.53428163e-03,\n",
       "                      1.37919492e-02, 2.62023255e-03, 1.48322174e-02, 6.23114136e-03,\n",
       "                      9.92735728e-03, 4.33338225e-04, 4.40315093e-03, 1.85403714e-04,\n",
       "                      3.07390688e-04, 5.37716702e-04, 7.10766919e-04]),\n",
       "               'model': GridSearchCV(cv=5, estimator=RandomForestRegressor(),\n",
       "                            param_grid={'n_estimators': array([ 100,  200,  300,  400,  500,  600,  700,  800,  900, 1000, 1100,\n",
       "                      1200, 1300, 1400])}),\n",
       "               'n_estimators': 200},\n",
       "              'en': {'train_scores': {'mae': 4524.297202760658,\n",
       "                'mse': 67210888.57136235,\n",
       "                'medae': 2966.6162122422684},\n",
       "               'test_scores': {'mae': 12335.64330164614,\n",
       "                'mse': 799214701.3407999,\n",
       "                'medae': 4440.020854519738},\n",
       "               'model': ElasticNetCV(cv=5, l1_ratio=[0.1, 0.5, 0.7, 0.9, 0.95, 0.99, 1], max_iter=15000,\n",
       "                            n_jobs=-1),\n",
       "               'alpha': 0.1813086430550353,\n",
       "               'l1_ratio': 0.1,\n",
       "               'coeff': array([ 0.03441876,  0.10465071,  0.10998839,  0.10478325,  0.1101128 ,\n",
       "                       0.13077991,  0.        , -0.03663998, -0.0194741 ,  0.0826582 ,\n",
       "                      -0.        ,  0.00947752,  0.13870634, -0.        , -0.        ,\n",
       "                       0.        ,  0.1047045 ,  0.        ,  0.        ,  0.        ,\n",
       "                       0.08179268,  0.        ,  0.03864171,  0.03383531, -0.01031475,\n",
       "                       0.        , -0.08581837,  0.01879015, -0.05849091,  0.03826221,\n",
       "                       0.        ])},\n",
       "              'rr': {'train_scores': {'mae': 4427.088155626152,\n",
       "                'mse': 61524003.23789133,\n",
       "                'medae': 3468.228009581566},\n",
       "               'test_scores': {'mae': 12349.559040606877,\n",
       "                'mse': 843044227.1803896,\n",
       "                'medae': 3772.8002863792935},\n",
       "               'model': RidgeCV(alphas=array([1.e-10, 1.e-09, 1.e-08, 1.e-07, 1.e-06, 1.e-05, 1.e-04, 1.e-03,\n",
       "                      1.e-02, 1.e-01, 1.e+00, 1.e+01, 1.e+02, 1.e+03, 1.e+04, 1.e+05,\n",
       "                      1.e+06, 1.e+07, 1.e+08, 1.e+09, 1.e+10]),\n",
       "                       cv=5),\n",
       "               'alpha': 10.0,\n",
       "               'coeff': array([ 0.04716607,  0.11074747,  0.10821954,  0.11074747,  0.10821954,\n",
       "                       0.12406267, -0.01396181, -0.06798895, -0.05578671,  0.09244062,\n",
       "                      -0.03492371,  0.03172571,  0.14912539,  0.00224925, -0.00418988,\n",
       "                      -0.0032506 ,  0.11074747,  0.0004946 ,  0.0003141 , -0.00306624,\n",
       "                       0.11375006,  0.00568037,  0.05330039,  0.03632002, -0.03649557,\n",
       "                       0.02666981, -0.0830769 ,  0.05488842, -0.0838313 ,  0.05789581,\n",
       "                       0.04497947])},\n",
       "              'lasso': {'train_scores': {'mae': 4656.104388116155,\n",
       "                'mse': 75774487.77412093,\n",
       "                'medae': 2814.8429791789094},\n",
       "               'test_scores': {'mae': 12688.4335287653,\n",
       "                'mse': 734924292.0573502,\n",
       "                'medae': 5453.999419305648},\n",
       "               'model': LassoCV(cv=5, max_iter=10000, n_jobs=-1),\n",
       "               'alpha': 0.04491153528485688,\n",
       "               'coeff': array([ 0.01455935,  0.        ,  0.        ,  0.        ,  0.        ,\n",
       "                       0.68872133, -0.        , -0.01049098, -0.        ,  0.09461601,\n",
       "                      -0.        ,  0.        ,  0.11482587, -0.        , -0.        ,\n",
       "                      -0.        ,  0.        ,  0.        ,  0.        ,  0.        ,\n",
       "                       0.        , -0.        ,  0.01163522,  0.        , -0.        ,\n",
       "                       0.        , -0.05950694,  0.        , -0.        ,  0.03770588,\n",
       "                       0.        ]),\n",
       "               'features': Index(['date_erected', 'eff_ar', 'fireplace_metal_prefab', 'fixtures_total',\n",
       "                      'room_half_bath', 'mas_brk_garage_pri',\n",
       "                      'exterior_wall_Frame / Concrete Blk', 'kmeans_label_1'],\n",
       "                     dtype='object')},\n",
       "              'rr_fe': {'train_scores': {'mae': 5095.522894574074,\n",
       "                'mse': 68675326.16284974,\n",
       "                'medae': 3791.2656100976164},\n",
       "               'test_scores': {'mae': 12641.685629028498,\n",
       "                'mse': 843830485.0514809,\n",
       "                'medae': 3785.865131615399},\n",
       "               'model': RidgeCV(alphas=array([1.e-10, 1.e-09, 1.e-08, 1.e-07, 1.e-06, 1.e-05, 1.e-04, 1.e-03,\n",
       "                      1.e-02, 1.e-01, 1.e+00, 1.e+01, 1.e+02, 1.e+03, 1.e+04, 1.e+05,\n",
       "                      1.e+06, 1.e+07, 1.e+08, 1.e+09, 1.e+10]),\n",
       "                       cv=5),\n",
       "               'alpha': 0.1,\n",
       "               'coeff': array([ 0.05664367,  0.71952571, -0.08330586,  0.12438862,  0.12774618,\n",
       "                       0.03593099, -0.12099971,  0.09005145])}}})"
      ]
     },
     "execution_count": 35,
     "metadata": {},
     "output_type": "execute_result"
    }
   ],
   "source": [
    "cv_results"
   ]
  },
  {
   "cell_type": "markdown",
   "metadata": {},
   "source": [
    "## Explore train and test errors\n",
    "Let's look at the prediction errors defined by the median absolute error (medae)."
   ]
  },
  {
   "cell_type": "code",
   "execution_count": 36,
   "metadata": {
    "ExecuteTime": {
     "end_time": "2020-11-27T04:56:43.059484Z",
     "start_time": "2020-11-27T04:56:43.038706Z"
    }
   },
   "outputs": [],
   "source": [
    "eval_score = 'medae'"
   ]
  },
  {
   "cell_type": "code",
   "execution_count": 37,
   "metadata": {
    "ExecuteTime": {
     "end_time": "2020-11-27T04:56:43.668611Z",
     "start_time": "2020-11-27T04:56:43.626268Z"
    }
   },
   "outputs": [],
   "source": [
    "model_params = [('rf', 'n_estimators', np.nan),\n",
    "                ('en', 'alpha', 'l1_ratio'),\n",
    "                ('rr', 'alpha', np.nan),\n",
    "                ('lasso', 'alpha', np.nan),\n",
    "                ('rr_fe', 'alpha', np.nan)]"
   ]
  },
  {
   "cell_type": "code",
   "execution_count": 38,
   "metadata": {
    "ExecuteTime": {
     "end_time": "2020-11-27T04:56:44.144933Z",
     "start_time": "2020-11-27T04:56:44.115194Z"
    }
   },
   "outputs": [],
   "source": [
    "score_cols = defaultdict(list)"
   ]
  },
  {
   "cell_type": "code",
   "execution_count": 39,
   "metadata": {
    "ExecuteTime": {
     "end_time": "2020-11-27T04:56:44.669988Z",
     "start_time": "2020-11-27T04:56:44.630885Z"
    }
   },
   "outputs": [],
   "source": [
    "for fold, values in cv_results.items():\n",
    "    for model, param_1, param_2 in model_params:\n",
    "        score_cols['fold'].append(fold)\n",
    "        score_cols['model'].append(model)\n",
    "        score_cols['train_score'].append(values[model]['train_scores'][eval_score])\n",
    "        score_cols['test_score'].append(values[model]['test_scores'][eval_score])\n",
    "        score_cols['param_1'].append(values[model][param_1])\n",
    "        \n",
    "        # Check if it is np.nan\n",
    "        if isinstance(param_2, float):\n",
    "            score_cols['param_2'].append(param_2)\n",
    "        else:\n",
    "            score_cols['param_2'].append(values[model][param_2])"
   ]
  },
  {
   "cell_type": "code",
   "execution_count": 40,
   "metadata": {
    "ExecuteTime": {
     "end_time": "2020-11-27T04:56:45.190664Z",
     "start_time": "2020-11-27T04:56:45.164544Z"
    }
   },
   "outputs": [],
   "source": [
    "scores = pd.DataFrame.from_dict(score_cols)"
   ]
  },
  {
   "cell_type": "code",
   "execution_count": 41,
   "metadata": {
    "ExecuteTime": {
     "end_time": "2020-11-27T04:56:45.730572Z",
     "start_time": "2020-11-27T04:56:45.698093Z"
    }
   },
   "outputs": [
    {
     "data": {
      "text/html": [
       "<div>\n",
       "<style scoped>\n",
       "    .dataframe tbody tr th:only-of-type {\n",
       "        vertical-align: middle;\n",
       "    }\n",
       "\n",
       "    .dataframe tbody tr th {\n",
       "        vertical-align: top;\n",
       "    }\n",
       "\n",
       "    .dataframe thead th {\n",
       "        text-align: right;\n",
       "    }\n",
       "</style>\n",
       "<table border=\"1\" class=\"dataframe\">\n",
       "  <thead>\n",
       "    <tr style=\"text-align: right;\">\n",
       "      <th></th>\n",
       "      <th>fold</th>\n",
       "      <th>model</th>\n",
       "      <th>train_score</th>\n",
       "      <th>test_score</th>\n",
       "      <th>param_1</th>\n",
       "      <th>param_2</th>\n",
       "    </tr>\n",
       "  </thead>\n",
       "  <tbody>\n",
       "    <tr>\n",
       "      <th>0</th>\n",
       "      <td>0</td>\n",
       "      <td>rf</td>\n",
       "      <td>2306.890000</td>\n",
       "      <td>7090.980000</td>\n",
       "      <td>1.000000e+02</td>\n",
       "      <td>NaN</td>\n",
       "    </tr>\n",
       "    <tr>\n",
       "      <th>1</th>\n",
       "      <td>0</td>\n",
       "      <td>en</td>\n",
       "      <td>5513.312320</td>\n",
       "      <td>2533.395164</td>\n",
       "      <td>1.398627e-01</td>\n",
       "      <td>1.0</td>\n",
       "    </tr>\n",
       "    <tr>\n",
       "      <th>2</th>\n",
       "      <td>0</td>\n",
       "      <td>rr</td>\n",
       "      <td>4634.509785</td>\n",
       "      <td>5621.743675</td>\n",
       "      <td>1.000000e+02</td>\n",
       "      <td>NaN</td>\n",
       "    </tr>\n",
       "    <tr>\n",
       "      <th>3</th>\n",
       "      <td>0</td>\n",
       "      <td>lasso</td>\n",
       "      <td>5513.312320</td>\n",
       "      <td>2533.395164</td>\n",
       "      <td>1.398627e-01</td>\n",
       "      <td>NaN</td>\n",
       "    </tr>\n",
       "    <tr>\n",
       "      <th>4</th>\n",
       "      <td>0</td>\n",
       "      <td>rr_fe</td>\n",
       "      <td>5296.525021</td>\n",
       "      <td>5698.130294</td>\n",
       "      <td>1.000000e-10</td>\n",
       "      <td>NaN</td>\n",
       "    </tr>\n",
       "    <tr>\n",
       "      <th>5</th>\n",
       "      <td>1</td>\n",
       "      <td>rf</td>\n",
       "      <td>1691.345000</td>\n",
       "      <td>5191.091250</td>\n",
       "      <td>4.000000e+02</td>\n",
       "      <td>NaN</td>\n",
       "    </tr>\n",
       "    <tr>\n",
       "      <th>6</th>\n",
       "      <td>1</td>\n",
       "      <td>en</td>\n",
       "      <td>4510.268720</td>\n",
       "      <td>5964.556213</td>\n",
       "      <td>1.668440e-01</td>\n",
       "      <td>1.0</td>\n",
       "    </tr>\n",
       "    <tr>\n",
       "      <th>7</th>\n",
       "      <td>1</td>\n",
       "      <td>rr</td>\n",
       "      <td>4203.469390</td>\n",
       "      <td>4135.652149</td>\n",
       "      <td>1.000000e+02</td>\n",
       "      <td>NaN</td>\n",
       "    </tr>\n",
       "    <tr>\n",
       "      <th>8</th>\n",
       "      <td>1</td>\n",
       "      <td>lasso</td>\n",
       "      <td>4510.268720</td>\n",
       "      <td>5964.556213</td>\n",
       "      <td>1.668440e-01</td>\n",
       "      <td>NaN</td>\n",
       "    </tr>\n",
       "    <tr>\n",
       "      <th>9</th>\n",
       "      <td>1</td>\n",
       "      <td>rr_fe</td>\n",
       "      <td>4037.830887</td>\n",
       "      <td>7847.662412</td>\n",
       "      <td>1.000000e+00</td>\n",
       "      <td>NaN</td>\n",
       "    </tr>\n",
       "    <tr>\n",
       "      <th>10</th>\n",
       "      <td>2</td>\n",
       "      <td>rf</td>\n",
       "      <td>2391.046250</td>\n",
       "      <td>8410.810000</td>\n",
       "      <td>8.000000e+02</td>\n",
       "      <td>NaN</td>\n",
       "    </tr>\n",
       "    <tr>\n",
       "      <th>11</th>\n",
       "      <td>2</td>\n",
       "      <td>en</td>\n",
       "      <td>4147.207553</td>\n",
       "      <td>3824.447720</td>\n",
       "      <td>1.498049e-01</td>\n",
       "      <td>1.0</td>\n",
       "    </tr>\n",
       "    <tr>\n",
       "      <th>12</th>\n",
       "      <td>2</td>\n",
       "      <td>rr</td>\n",
       "      <td>4764.472185</td>\n",
       "      <td>1760.724249</td>\n",
       "      <td>1.000000e+02</td>\n",
       "      <td>NaN</td>\n",
       "    </tr>\n",
       "    <tr>\n",
       "      <th>13</th>\n",
       "      <td>2</td>\n",
       "      <td>lasso</td>\n",
       "      <td>4147.207553</td>\n",
       "      <td>3824.447720</td>\n",
       "      <td>1.498049e-01</td>\n",
       "      <td>NaN</td>\n",
       "    </tr>\n",
       "    <tr>\n",
       "      <th>14</th>\n",
       "      <td>2</td>\n",
       "      <td>rr_fe</td>\n",
       "      <td>5102.492512</td>\n",
       "      <td>4936.880746</td>\n",
       "      <td>1.000000e-01</td>\n",
       "      <td>NaN</td>\n",
       "    </tr>\n",
       "    <tr>\n",
       "      <th>15</th>\n",
       "      <td>3</td>\n",
       "      <td>rf</td>\n",
       "      <td>2050.865833</td>\n",
       "      <td>4733.960000</td>\n",
       "      <td>6.000000e+02</td>\n",
       "      <td>NaN</td>\n",
       "    </tr>\n",
       "    <tr>\n",
       "      <th>16</th>\n",
       "      <td>3</td>\n",
       "      <td>en</td>\n",
       "      <td>4767.755507</td>\n",
       "      <td>5384.590421</td>\n",
       "      <td>9.309680e-01</td>\n",
       "      <td>0.1</td>\n",
       "    </tr>\n",
       "    <tr>\n",
       "      <th>17</th>\n",
       "      <td>3</td>\n",
       "      <td>rr</td>\n",
       "      <td>5390.278135</td>\n",
       "      <td>4598.594637</td>\n",
       "      <td>1.000000e+02</td>\n",
       "      <td>NaN</td>\n",
       "    </tr>\n",
       "    <tr>\n",
       "      <th>18</th>\n",
       "      <td>3</td>\n",
       "      <td>lasso</td>\n",
       "      <td>3565.115353</td>\n",
       "      <td>3974.224351</td>\n",
       "      <td>1.414989e-01</td>\n",
       "      <td>NaN</td>\n",
       "    </tr>\n",
       "    <tr>\n",
       "      <th>19</th>\n",
       "      <td>3</td>\n",
       "      <td>rr_fe</td>\n",
       "      <td>6212.423642</td>\n",
       "      <td>7574.913061</td>\n",
       "      <td>1.000000e+00</td>\n",
       "      <td>NaN</td>\n",
       "    </tr>\n",
       "    <tr>\n",
       "      <th>20</th>\n",
       "      <td>4</td>\n",
       "      <td>rf</td>\n",
       "      <td>1091.645000</td>\n",
       "      <td>5433.290000</td>\n",
       "      <td>2.000000e+02</td>\n",
       "      <td>NaN</td>\n",
       "    </tr>\n",
       "    <tr>\n",
       "      <th>21</th>\n",
       "      <td>4</td>\n",
       "      <td>en</td>\n",
       "      <td>2966.616212</td>\n",
       "      <td>4440.020855</td>\n",
       "      <td>1.813086e-01</td>\n",
       "      <td>0.1</td>\n",
       "    </tr>\n",
       "    <tr>\n",
       "      <th>22</th>\n",
       "      <td>4</td>\n",
       "      <td>rr</td>\n",
       "      <td>3468.228010</td>\n",
       "      <td>3772.800286</td>\n",
       "      <td>1.000000e+01</td>\n",
       "      <td>NaN</td>\n",
       "    </tr>\n",
       "    <tr>\n",
       "      <th>23</th>\n",
       "      <td>4</td>\n",
       "      <td>lasso</td>\n",
       "      <td>2814.842979</td>\n",
       "      <td>5453.999419</td>\n",
       "      <td>4.491154e-02</td>\n",
       "      <td>NaN</td>\n",
       "    </tr>\n",
       "    <tr>\n",
       "      <th>24</th>\n",
       "      <td>4</td>\n",
       "      <td>rr_fe</td>\n",
       "      <td>3791.265610</td>\n",
       "      <td>3785.865132</td>\n",
       "      <td>1.000000e-01</td>\n",
       "      <td>NaN</td>\n",
       "    </tr>\n",
       "  </tbody>\n",
       "</table>\n",
       "</div>"
      ],
      "text/plain": [
       "    fold  model  train_score   test_score       param_1  param_2\n",
       "0      0     rf  2306.890000  7090.980000  1.000000e+02      NaN\n",
       "1      0     en  5513.312320  2533.395164  1.398627e-01      1.0\n",
       "2      0     rr  4634.509785  5621.743675  1.000000e+02      NaN\n",
       "3      0  lasso  5513.312320  2533.395164  1.398627e-01      NaN\n",
       "4      0  rr_fe  5296.525021  5698.130294  1.000000e-10      NaN\n",
       "5      1     rf  1691.345000  5191.091250  4.000000e+02      NaN\n",
       "6      1     en  4510.268720  5964.556213  1.668440e-01      1.0\n",
       "7      1     rr  4203.469390  4135.652149  1.000000e+02      NaN\n",
       "8      1  lasso  4510.268720  5964.556213  1.668440e-01      NaN\n",
       "9      1  rr_fe  4037.830887  7847.662412  1.000000e+00      NaN\n",
       "10     2     rf  2391.046250  8410.810000  8.000000e+02      NaN\n",
       "11     2     en  4147.207553  3824.447720  1.498049e-01      1.0\n",
       "12     2     rr  4764.472185  1760.724249  1.000000e+02      NaN\n",
       "13     2  lasso  4147.207553  3824.447720  1.498049e-01      NaN\n",
       "14     2  rr_fe  5102.492512  4936.880746  1.000000e-01      NaN\n",
       "15     3     rf  2050.865833  4733.960000  6.000000e+02      NaN\n",
       "16     3     en  4767.755507  5384.590421  9.309680e-01      0.1\n",
       "17     3     rr  5390.278135  4598.594637  1.000000e+02      NaN\n",
       "18     3  lasso  3565.115353  3974.224351  1.414989e-01      NaN\n",
       "19     3  rr_fe  6212.423642  7574.913061  1.000000e+00      NaN\n",
       "20     4     rf  1091.645000  5433.290000  2.000000e+02      NaN\n",
       "21     4     en  2966.616212  4440.020855  1.813086e-01      0.1\n",
       "22     4     rr  3468.228010  3772.800286  1.000000e+01      NaN\n",
       "23     4  lasso  2814.842979  5453.999419  4.491154e-02      NaN\n",
       "24     4  rr_fe  3791.265610  3785.865132  1.000000e-01      NaN"
      ]
     },
     "execution_count": 41,
     "metadata": {},
     "output_type": "execute_result"
    }
   ],
   "source": [
    "scores"
   ]
  },
  {
   "cell_type": "code",
   "execution_count": 42,
   "metadata": {
    "ExecuteTime": {
     "end_time": "2020-11-27T04:56:46.908227Z",
     "start_time": "2020-11-27T04:56:46.361349Z"
    }
   },
   "outputs": [
    {
     "data": {
      "image/png": "[encoded data removed]",
      "text/plain": [
       "<Figure size 921.6x633.6 with 1 Axes>"
      ]
     },
     "metadata": {
      "needs_background": "light"
     },
     "output_type": "display_data"
    }
   ],
   "source": [
    "ax = sns.stripplot(x='model', y='test_score', hue='fold', data=scores, alpha=0.5, size=20)\n",
    "_ = ax.set_title('Test errors')"
   ]
  },
  {
   "cell_type": "code",
   "execution_count": 43,
   "metadata": {
    "ExecuteTime": {
     "end_time": "2020-11-27T04:56:47.506051Z",
     "start_time": "2020-11-27T04:56:46.910257Z"
    }
   },
   "outputs": [
    {
     "data": {
      "text/plain": [
       "Text(0.5, 1.0, 'Train errors')"
      ]
     },
     "execution_count": 43,
     "metadata": {},
     "output_type": "execute_result"
    },
    {
     "data": {
      "image/png": "[encoded data removed]",
      "text/plain": [
       "<Figure size 921.6x633.6 with 1 Axes>"
      ]
     },
     "metadata": {
      "needs_background": "light"
     },
     "output_type": "display_data"
    }
   ],
   "source": [
    "ax = sns.stripplot(x='model', y='train_score', hue='fold', data=scores, alpha=0.5, size=20)\n",
    "ax.set_title('Train errors')"
   ]
  },
  {
   "cell_type": "markdown",
   "metadata": {},
   "source": [
    "Ridge regression produces the lowest test errors. Overall, LASSO, ElasticNet, and ridge regression have a similar cross-validation test errors, while random forest and ridge regression with feature elimination are the worst performers. Base on this plot I'd select the ridge regression estimator, as it produces the smallest maximum and the smallest minimum cross-validation error.\n",
    "\n",
    "Now let's look at the stability of the ridge regression parameter alpha."
   ]
  },
  {
   "cell_type": "code",
   "execution_count": 44,
   "metadata": {
    "ExecuteTime": {
     "end_time": "2020-11-27T04:56:48.682646Z",
     "start_time": "2020-11-27T04:56:48.419238Z"
    }
   },
   "outputs": [
    {
     "data": {
      "image/png": "[encoded data removed]",
      "text/plain": [
       "<Figure size 921.6x633.6 with 1 Axes>"
      ]
     },
     "metadata": {
      "needs_background": "light"
     },
     "output_type": "display_data"
    }
   ],
   "source": [
    "data = scores.loc[scores['model'] == 'rr', :]\n",
    "ax = sns.stripplot(x='fold', y='param_1', data=data, alpha=0.5, size=20)\n",
    "_ = plt.ylabel('Alpha')\n",
    "_ = ax.set_title('Selected ridge regression alpha across folds')"
   ]
  },
  {
   "cell_type": "markdown",
   "metadata": {},
   "source": [
    "The ridge regression penalty term alpha takes values of 10 or 100, the latter being favored by four out of the 5 folds in the cross-validation. For this reason, I'll run the final fit using alpha equal to 100."
   ]
  },
  {
   "cell_type": "markdown",
   "metadata": {},
   "source": [
    "## Feature elimination results\n",
    "Let's look at the feature importance returned by the random forest estimator and compare them to the LASSO features coefficients."
   ]
  },
  {
   "cell_type": "code",
   "execution_count": 45,
   "metadata": {
    "ExecuteTime": {
     "end_time": "2020-11-27T04:56:50.516511Z",
     "start_time": "2020-11-27T04:56:50.495328Z"
    }
   },
   "outputs": [
    {
     "data": {
      "text/plain": [
       "Index(['date_erected', 'im_sq_ft', 'act_ar', 'heat_ar', 'gross_ar', 'eff_ar',\n",
       "       'perimeter', 'fireplace_metal_prefab', 'fixtures_addl',\n",
       "       'fixtures_total', 'room_bedroom', 'room_full_bath', 'room_half_bath',\n",
       "       'room_rec', 'room_total', 'story_height_index', 'bld_ar', 'land_ar',\n",
       "       'acreage', 'land_val', 'base_area_pri', 'base_area_upr',\n",
       "       'mas_brk_garage_pri', 'open_frame_porch_pri', 'open_mas_porch_pri',\n",
       "       'exterior_wall_Brick / Veneer', 'exterior_wall_Frame / Concrete Blk',\n",
       "       'exterior_wall_Stone', 'kmeans_label_0', 'kmeans_label_1',\n",
       "       'kmeans_label_2'],\n",
       "      dtype='object')"
      ]
     },
     "execution_count": 45,
     "metadata": {},
     "output_type": "execute_result"
    }
   ],
   "source": [
    "X_train.columns"
   ]
  },
  {
   "cell_type": "code",
   "execution_count": 46,
   "metadata": {
    "ExecuteTime": {
     "end_time": "2020-11-27T04:56:51.930268Z",
     "start_time": "2020-11-27T04:56:51.214841Z"
    }
   },
   "outputs": [
    {
     "data": {
      "image/png": "[encoded data removed]",
      "text/plain": [
       "<Figure size 921.6x633.6 with 1 Axes>"
      ]
     },
     "metadata": {
      "needs_background": "light"
     },
     "output_type": "display_data"
    }
   ],
   "source": [
    "features = X_train.columns\n",
    "width = 0.35\n",
    "\n",
    "bottom = np.zeros(len(features))\n",
    "\n",
    "for fold, values in cv_results.items():\n",
    "    \n",
    "    rf_fi = np.abs(values['rf']['features'])\n",
    "    \n",
    "    p = plt.bar(features, rf_fi, width, bottom=bottom, label=fold)\n",
    "    \n",
    "    bottom += rf_fi\n",
    "    \n",
    "_ = plt.xticks(rotation=90)\n",
    "_ = plt.legend(title='Fold', title_fontsize='x-large')\n",
    "_ = plt.ylabel('Stacked coefficients absolute value')\n",
    "_ = plt.title('Random Forest feature importance')"
   ]
  },
  {
   "cell_type": "markdown",
   "metadata": {},
   "source": [
    "By far, the most significant feature is the effective area (`eff_ar`). The other area related features have a significant contribution each, except for the land area."
   ]
  },
  {
   "cell_type": "code",
   "execution_count": 47,
   "metadata": {
    "ExecuteTime": {
     "end_time": "2020-11-27T04:56:52.988842Z",
     "start_time": "2020-11-27T04:56:52.224190Z"
    }
   },
   "outputs": [
    {
     "data": {
      "image/png": "[encoded data removed]",
      "text/plain": [
       "<Figure size 921.6x633.6 with 1 Axes>"
      ]
     },
     "metadata": {
      "needs_background": "light"
     },
     "output_type": "display_data"
    }
   ],
   "source": [
    "features = X_train.columns\n",
    "width = 0.35\n",
    "\n",
    "bottom = np.zeros(len(features))\n",
    "\n",
    "for fold, values in cv_results.items():\n",
    "    \n",
    "    lasso_fi = np.abs(values['lasso']['coeff'])\n",
    "    \n",
    "    p = plt.bar(features, lasso_fi, width, bottom=bottom, label=fold)\n",
    "    \n",
    "    bottom += lasso_fi\n",
    "    \n",
    "_ = plt.xticks(rotation=90)\n",
    "_ = plt.legend(title='Fold', title_fontsize='x-large')\n",
    "_ = plt.ylabel('Stacked coefficients absolute value')\n",
    "_ = plt.title('LASSO feature coefficients')"
   ]
  },
  {
   "cell_type": "markdown",
   "metadata": {},
   "source": [
    "As in the case with random forest, the effective area is the dominant feature in the LASSO estimator. Nonetheless, the ridge regression estimator after feature elimination is out performed by the ridge regression with all the features, suggesting that even though the contribution from the other variables is small, it helps reduce the test error."
   ]
  },
  {
   "cell_type": "markdown",
   "metadata": {},
   "source": [
    "# Fit development ridge regression\n",
    "We determined that ridge regression was the best estimator, and that the penalty term alpha value of 100 was preferred by 4 out of the 5 folds in cross-validation. Next, let's built a ridge regression estimator using alpha equal to 100 and all the data on the train set, and then score this model with the test set (unseen yet)."
   ]
  },
  {
   "cell_type": "code",
   "execution_count": 48,
   "metadata": {
    "ExecuteTime": {
     "end_time": "2020-11-27T04:56:54.938467Z",
     "start_time": "2020-11-27T04:56:54.909718Z"
    }
   },
   "outputs": [],
   "source": [
    "from sklearn.linear_model import Ridge"
   ]
  },
  {
   "cell_type": "code",
   "execution_count": 49,
   "metadata": {
    "ExecuteTime": {
     "end_time": "2020-11-27T04:56:56.244628Z",
     "start_time": "2020-11-27T04:56:56.202372Z"
    }
   },
   "outputs": [],
   "source": [
    "# Standardize variables\n",
    "sc_x = StandardScaler()\n",
    "sc_y = StandardScaler()\n",
    "sc_x.fit(X_train)\n",
    "sc_y.fit(y_train.to_numpy().reshape(-1, 1))\n",
    "\n",
    "X_train_std = sc_x.transform(X_train)\n",
    "X_test_std = sc_x.transform(X_test)\n",
    "\n",
    "y_train_std = sc_y.transform(y_train.to_numpy().reshape(-1, 1)).ravel()\n",
    "y_test_std = sc_y.transform(y_test.to_numpy().reshape(-1, 1)).ravel()"
   ]
  },
  {
   "cell_type": "code",
   "execution_count": 50,
   "metadata": {
    "ExecuteTime": {
     "end_time": "2020-11-27T04:56:56.789774Z",
     "start_time": "2020-11-27T04:56:56.746326Z"
    }
   },
   "outputs": [
    {
     "data": {
      "text/plain": [
       "Ridge(alpha=100)"
      ]
     },
     "execution_count": 50,
     "metadata": {},
     "output_type": "execute_result"
    }
   ],
   "source": [
    "# Fit model\n",
    "rr_dev = Ridge(alpha=100)\n",
    "rr_dev.fit(X_train_std, y_train_std)"
   ]
  },
  {
   "cell_type": "code",
   "execution_count": 51,
   "metadata": {
    "ExecuteTime": {
     "end_time": "2020-11-27T04:56:57.325074Z",
     "start_time": "2020-11-27T04:56:57.287845Z"
    }
   },
   "outputs": [],
   "source": [
    "# Calculate train residuals\n",
    "y_train_pred_std = rr_dev.predict(X_train_std)\n",
    "y_train_pred = sc_y.inverse_transform(y_train_pred_std)\n",
    "\n",
    "residuals_train = y_train - y_train_pred"
   ]
  },
  {
   "cell_type": "code",
   "execution_count": 52,
   "metadata": {
    "ExecuteTime": {
     "end_time": "2020-11-27T04:56:57.822601Z",
     "start_time": "2020-11-27T04:56:57.801793Z"
    }
   },
   "outputs": [],
   "source": [
    "# Calculate test residuals\n",
    "\n",
    "y_pred_std = rr_dev.predict(X_test_std)\n",
    "y_pred = sc_y.inverse_transform(y_pred_std)\n",
    "\n",
    "residuals_test = y_test - y_pred"
   ]
  },
  {
   "cell_type": "code",
   "execution_count": 53,
   "metadata": {
    "ExecuteTime": {
     "end_time": "2020-11-27T04:56:58.517309Z",
     "start_time": "2020-11-27T04:56:58.488975Z"
    }
   },
   "outputs": [],
   "source": [
    "scores_dev = model_scores(rr_dev, X_train_std, y_train_std, X_test_std, y_test_std, sc_y)"
   ]
  },
  {
   "cell_type": "code",
   "execution_count": 54,
   "metadata": {
    "ExecuteTime": {
     "end_time": "2020-11-27T04:56:59.054756Z",
     "start_time": "2020-11-27T04:56:59.031813Z"
    }
   },
   "outputs": [
    {
     "data": {
      "text/plain": [
       "{'train_scores': {'mae': 7395.20417572804,\n",
       "  'mse': 192568036.8778021,\n",
       "  'medae': 4218.79337023088},\n",
       " 'test_scores': {'mae': 6822.834359149198,\n",
       "  'mse': 69998123.65572518,\n",
       "  'medae': 5931.989854287036}}"
      ]
     },
     "execution_count": 54,
     "metadata": {},
     "output_type": "execute_result"
    }
   ],
   "source": [
    "scores_dev"
   ]
  },
  {
   "cell_type": "markdown",
   "metadata": {},
   "source": [
    "## Save development model"
   ]
  },
  {
   "cell_type": "code",
   "execution_count": 55,
   "metadata": {
    "ExecuteTime": {
     "end_time": "2020-11-27T04:57:00.099506Z",
     "start_time": "2020-11-27T04:57:00.066286Z"
    }
   },
   "outputs": [],
   "source": [
    "save_fn = ROOT_DIR / 'models/rr_dev.pickle'\n",
    "save_pickle(rr_dev, save_fn)\n",
    "\n",
    "save_fn = ROOT_DIR / 'models/scores_dev.pickle'\n",
    "save_pickle(scores_dev, save_fn)"
   ]
  },
  {
   "cell_type": "markdown",
   "metadata": {},
   "source": [
    "## Residuals plot"
   ]
  },
  {
   "cell_type": "code",
   "execution_count": 56,
   "metadata": {
    "ExecuteTime": {
     "end_time": "2020-11-27T04:57:01.312251Z",
     "start_time": "2020-11-27T04:57:00.999070Z"
    }
   },
   "outputs": [
    {
     "data": {
      "image/png": "[encoded data removed]",
      "text/plain": [
       "<Figure size 921.6x633.6 with 1 Axes>"
      ]
     },
     "metadata": {
      "needs_background": "light"
     },
     "output_type": "display_data"
    }
   ],
   "source": [
    "sns.scatterplot(x=y_train_pred, y=residuals_train, alpha=0.5, label='Train')\n",
    "sns.scatterplot(x=y_pred, y=residuals_test, alpha=0.5, label='Test')\n",
    "_ = plt.hlines(0, 210_000, 280_000, label='Perfect prediction', color='grey', linestyles='dashed')\n",
    "_ = plt.ylabel('Residuals ($)')\n",
    "_ = plt.xlabel('Predicted value ($)')\n",
    "_ = plt.title('Residuals for ridge regression model')\n",
    "\n",
    "_ = plt.text(255_000, -40_000, f\"Train MAE: ${scores_dev['train_scores']['mae']:.2f}\", fontsize=18)\n",
    "_ = plt.text(255_000, -45_000, f\"Train MEDAE: ${scores_dev['train_scores']['medae']:.2f}\", fontsize=18)\n",
    "_ = plt.text(255_000, -50_000, f\"Test MAE: ${scores_dev['test_scores']['mae']:.2f}\", fontsize=18)\n",
    "_ = plt.text(255_000, -55_000, f\"Test MEDAE: ${scores_dev['test_scores']['medae']:.2f}\", fontsize=18)"
   ]
  },
  {
   "cell_type": "markdown",
   "metadata": {},
   "source": [
    "On the test data, the majority of the residuals are positive, indicating that the model tends to underpredict the property value."
   ]
  },
  {
   "cell_type": "markdown",
   "metadata": {},
   "source": [
    "## Prediction error plot"
   ]
  },
  {
   "cell_type": "code",
   "execution_count": 57,
   "metadata": {
    "ExecuteTime": {
     "end_time": "2020-11-27T04:57:02.946888Z",
     "start_time": "2020-11-27T04:57:02.659102Z"
    }
   },
   "outputs": [
    {
     "data": {
      "image/png": "[encoded data removed]",
      "text/plain": [
       "<Figure size 921.6x633.6 with 1 Axes>"
      ]
     },
     "metadata": {
      "needs_background": "light"
     },
     "output_type": "display_data"
    }
   ],
   "source": [
    "id_x = [200_000, 290_000]\n",
    "id_y = id_x\n",
    "\n",
    "ax = sns.scatterplot(x=y_test, y=y_pred, alpha=0.5, label='Test data')\n",
    "_ = plt.plot(id_x, id_y, label='Perfect prediction', linestyle='--', color='grey')\n",
    "_ = plt.axis('square')\n",
    "_ = plt.ylabel('Predicted appraised value ($)')\n",
    "_ = plt.xlabel('True appraised value ($)')\n",
    "_ = plt.title('Development ridge regression test prediction error')\n",
    "_ = plt.legend()"
   ]
  },
  {
   "cell_type": "markdown",
   "metadata": {},
   "source": [
    "Most of the properties values are underpredicted."
   ]
  },
  {
   "cell_type": "markdown",
   "metadata": {},
   "source": [
    "# Fit production ridge regression\n",
    "Finally, let's use all the data build the model that we will use to predict the target house appraised value."
   ]
  },
  {
   "cell_type": "code",
   "execution_count": 58,
   "metadata": {
    "ExecuteTime": {
     "end_time": "2020-11-27T04:57:04.013122Z",
     "start_time": "2020-11-27T04:57:03.985489Z"
    }
   },
   "outputs": [],
   "source": [
    "# Standardize variables\n",
    "sc_x = StandardScaler()\n",
    "sc_y = StandardScaler()\n",
    "\n",
    "sc_x.fit(X)\n",
    "sc_y.fit(y.to_numpy().reshape(-1, 1))\n",
    "\n",
    "X_std = sc_x.transform(X)\n",
    "y_std = sc_y.transform(y.to_numpy().reshape(-1, 1)).ravel()"
   ]
  },
  {
   "cell_type": "code",
   "execution_count": 59,
   "metadata": {
    "ExecuteTime": {
     "end_time": "2020-11-27T04:57:04.526265Z",
     "start_time": "2020-11-27T04:57:04.497333Z"
    }
   },
   "outputs": [
    {
     "data": {
      "text/plain": [
       "Ridge(alpha=100)"
      ]
     },
     "execution_count": 59,
     "metadata": {},
     "output_type": "execute_result"
    }
   ],
   "source": [
    "# Fit model\n",
    "rr_prod = Ridge(alpha=100)\n",
    "rr_prod.fit(X_std, y_std)"
   ]
  },
  {
   "cell_type": "markdown",
   "metadata": {},
   "source": [
    "## Save production model"
   ]
  },
  {
   "cell_type": "code",
   "execution_count": 60,
   "metadata": {
    "ExecuteTime": {
     "end_time": "2020-11-27T04:57:05.423544Z",
     "start_time": "2020-11-27T04:57:05.396835Z"
    }
   },
   "outputs": [],
   "source": [
    "save_fn = ROOT_DIR / 'models/rr_prod.pickle'\n",
    "save_pickle(rr_prod, save_fn)"
   ]
  },
  {
   "cell_type": "code",
   "execution_count": 61,
   "metadata": {
    "ExecuteTime": {
     "end_time": "2020-11-27T04:57:06.006592Z",
     "start_time": "2020-11-27T04:57:05.966230Z"
    }
   },
   "outputs": [],
   "source": [
    "save_fn = ROOT_DIR / 'models/sc_x.pickle'\n",
    "save_pickle(sc_x, save_fn)\n",
    "\n",
    "save_fn = ROOT_DIR / 'models/sc_y.pickle'\n",
    "save_pickle(sc_y, save_fn)"
   ]
  },
  {
   "cell_type": "markdown",
   "metadata": {},
   "source": [
    "# Predict target house appraised value"
   ]
  },
  {
   "cell_type": "code",
   "execution_count": 62,
   "metadata": {
    "ExecuteTime": {
     "end_time": "2020-11-27T04:57:06.872940Z",
     "start_time": "2020-11-27T04:57:06.842405Z"
    }
   },
   "outputs": [],
   "source": [
    "target_house_fn = ROOT_DIR / 'data/processed/target_house.pickle'"
   ]
  },
  {
   "cell_type": "code",
   "execution_count": 63,
   "metadata": {
    "ExecuteTime": {
     "end_time": "2020-11-27T04:57:07.472907Z",
     "start_time": "2020-11-27T04:57:07.446986Z"
    }
   },
   "outputs": [],
   "source": [
    "target_house = pd.read_pickle(target_house_fn)"
   ]
  },
  {
   "cell_type": "code",
   "execution_count": 64,
   "metadata": {
    "ExecuteTime": {
     "end_time": "2020-11-27T04:57:07.850005Z",
     "start_time": "2020-11-27T04:57:07.828596Z"
    }
   },
   "outputs": [],
   "source": [
    "target_house.drop('tot_appr_val', inplace=True)"
   ]
  },
  {
   "cell_type": "code",
   "execution_count": 65,
   "metadata": {
    "ExecuteTime": {
     "end_time": "2020-11-27T04:57:08.200363Z",
     "start_time": "2020-11-27T04:57:08.176849Z"
    }
   },
   "outputs": [],
   "source": [
    "target_house.drop(drop, inplace=True)"
   ]
  },
  {
   "cell_type": "code",
   "execution_count": 66,
   "metadata": {
    "ExecuteTime": {
     "end_time": "2020-11-27T04:57:08.565550Z",
     "start_time": "2020-11-27T04:57:08.536380Z"
    }
   },
   "outputs": [
    {
     "data": {
      "text/plain": [
       "date_erected                        2014\n",
       "im_sq_ft                            2697\n",
       "act_ar                              3351\n",
       "heat_ar                             2697\n",
       "gross_ar                            3351\n",
       "eff_ar                              2824\n",
       "perimeter                            430\n",
       "fireplace_metal_prefab                 1\n",
       "fixtures_addl                          2\n",
       "fixtures_total                        15\n",
       "room_bedroom                           4\n",
       "room_full_bath                         3\n",
       "room_half_bath                         1\n",
       "room_rec                               2\n",
       "room_total                             9\n",
       "story_height_index                     2\n",
       "bld_ar                              2697\n",
       "land_ar                             6350\n",
       "acreage                           0.1458\n",
       "land_val                           36313\n",
       "base_area_pri                       1590\n",
       "base_area_upr                       1107\n",
       "mas_brk_garage_pri                   420\n",
       "open_frame_porch_pri                 120\n",
       "open_mas_porch_pri                   114\n",
       "exterior_wall             Brick / Veneer\n",
       "kmeans_label                           2\n",
       "Name: 1347180010049, dtype: object"
      ]
     },
     "execution_count": 66,
     "metadata": {},
     "output_type": "execute_result"
    }
   ],
   "source": [
    "target_house"
   ]
  },
  {
   "cell_type": "code",
   "execution_count": 67,
   "metadata": {
    "ExecuteTime": {
     "end_time": "2020-11-27T04:57:08.904009Z",
     "start_time": "2020-11-27T04:57:08.881743Z"
    }
   },
   "outputs": [],
   "source": [
    "target_house_enc = enc.transform(target_house[cat_cols].to_numpy().reshape(1, -1)).toarray()"
   ]
  },
  {
   "cell_type": "code",
   "execution_count": 68,
   "metadata": {
    "ExecuteTime": {
     "end_time": "2020-11-27T04:57:09.425630Z",
     "start_time": "2020-11-27T04:57:09.402001Z"
    }
   },
   "outputs": [],
   "source": [
    "target_house_encoded = target_house.drop(cat_cols)"
   ]
  },
  {
   "cell_type": "code",
   "execution_count": 69,
   "metadata": {
    "ExecuteTime": {
     "end_time": "2020-11-27T04:57:09.940207Z",
     "start_time": "2020-11-27T04:57:09.899146Z"
    }
   },
   "outputs": [],
   "source": [
    "for feature, val in zip(enc.get_feature_names(cat_cols), *target_house_enc):\n",
    "    target_house_encoded[feature] = val"
   ]
  },
  {
   "cell_type": "code",
   "execution_count": 70,
   "metadata": {
    "ExecuteTime": {
     "end_time": "2020-11-27T04:57:10.486798Z",
     "start_time": "2020-11-27T04:57:10.453447Z"
    }
   },
   "outputs": [
    {
     "data": {
      "text/plain": [
       "date_erected                            2014\n",
       "im_sq_ft                                2697\n",
       "act_ar                                  3351\n",
       "heat_ar                                 2697\n",
       "gross_ar                                3351\n",
       "eff_ar                                  2824\n",
       "perimeter                                430\n",
       "fireplace_metal_prefab                     1\n",
       "fixtures_addl                              2\n",
       "fixtures_total                            15\n",
       "room_bedroom                               4\n",
       "room_full_bath                             3\n",
       "room_half_bath                             1\n",
       "room_rec                                   2\n",
       "room_total                                 9\n",
       "story_height_index                         2\n",
       "bld_ar                                  2697\n",
       "land_ar                                 6350\n",
       "acreage                               0.1458\n",
       "land_val                               36313\n",
       "base_area_pri                           1590\n",
       "base_area_upr                           1107\n",
       "mas_brk_garage_pri                       420\n",
       "open_frame_porch_pri                     120\n",
       "open_mas_porch_pri                       114\n",
       "exterior_wall_Brick / Veneer               1\n",
       "exterior_wall_Frame / Concrete Blk         0\n",
       "exterior_wall_Stone                        0\n",
       "kmeans_label_0                             0\n",
       "kmeans_label_1                             0\n",
       "kmeans_label_2                             1\n",
       "Name: 1347180010049, dtype: object"
      ]
     },
     "execution_count": 70,
     "metadata": {},
     "output_type": "execute_result"
    }
   ],
   "source": [
    "target_house_encoded"
   ]
  },
  {
   "cell_type": "code",
   "execution_count": 71,
   "metadata": {
    "ExecuteTime": {
     "end_time": "2020-11-27T04:57:11.238232Z",
     "start_time": "2020-11-27T04:57:11.218215Z"
    }
   },
   "outputs": [],
   "source": [
    "target_house_encoded_std = sc_x.transform(target_house_encoded.to_numpy().reshape(1, -1))"
   ]
  },
  {
   "cell_type": "code",
   "execution_count": 72,
   "metadata": {
    "ExecuteTime": {
     "end_time": "2020-11-27T04:57:11.859128Z",
     "start_time": "2020-11-27T04:57:11.832256Z"
    }
   },
   "outputs": [],
   "source": [
    "y_pred_std = rr_prod.predict(target_house_encoded_std)"
   ]
  },
  {
   "cell_type": "code",
   "execution_count": 73,
   "metadata": {
    "ExecuteTime": {
     "end_time": "2020-11-27T04:57:12.363760Z",
     "start_time": "2020-11-27T04:57:12.340958Z"
    }
   },
   "outputs": [],
   "source": [
    "y_pred = sc_y.inverse_transform(y_pred_std)[0]"
   ]
  },
  {
   "cell_type": "code",
   "execution_count": 74,
   "metadata": {
    "ExecuteTime": {
     "end_time": "2020-11-27T04:57:12.901414Z",
     "start_time": "2020-11-27T04:57:12.876722Z"
    }
   },
   "outputs": [
    {
     "name": "stdout",
     "output_type": "stream",
     "text": [
      "The predicted appraised value for the target house is: $258695.51\n"
     ]
    }
   ],
   "source": [
    "print(f'The predicted appraised value for the target house is: ${y_pred:.2f}')"
   ]
  }
 ],
 "metadata": {
  "kernelspec": {
   "display_name": "hcad_pred",
   "language": "python",
   "name": "hcad_pred"
  },
  "language_info": {
   "codemirror_mode": {
    "name": "ipython",
    "version": 3
   },
   "file_extension": ".py",
   "mimetype": "text/x-python",
   "name": "python",
   "nbconvert_exporter": "python",
   "pygments_lexer": "ipython3",
   "version": "3.7.8"
  },
  "toc": {
   "base_numbering": 1,
   "nav_menu": {},
   "number_sections": true,
   "sideBar": true,
   "skip_h1_title": false,
   "title_cell": "Table of Contents",
   "title_sidebar": "Contents",
   "toc_cell": false,
   "toc_position": {},
   "toc_section_display": true,
   "toc_window_display": false
  }
 },
 "nbformat": 4,
 "nbformat_minor": 4
}
