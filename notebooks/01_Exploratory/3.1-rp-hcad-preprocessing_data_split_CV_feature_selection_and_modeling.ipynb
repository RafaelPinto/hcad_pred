{
 "cells": [
  {
   "cell_type": "markdown",
   "metadata": {},
   "source": [
    "# Load previously selected subdivision samples and feature\n",
    "\n",
    "The file being imported below was constructed in the last exploratory notebooks (2.2-rp-hcad-eda-appraised-value-perc-diff-subdiv-comps-hypothesis-test). These data have been cleaned, merged, and selected so we can start preparing it for modeling."
   ]
  },
  {
   "cell_type": "code",
   "execution_count": 1,
   "metadata": {
    "ExecuteTime": {
     "end_time": "2020-11-04T22:13:13.478496Z",
     "start_time": "2020-11-04T22:13:13.447918Z"
    }
   },
   "outputs": [],
   "source": [
    "%load_ext autoreload\n",
    "%autoreload 2"
   ]
  },
  {
   "cell_type": "code",
   "execution_count": 2,
   "metadata": {
    "ExecuteTime": {
     "end_time": "2020-11-04T22:13:14.406386Z",
     "start_time": "2020-11-04T22:13:13.481278Z"
    }
   },
   "outputs": [],
   "source": [
    "from pathlib import Path\n",
    "import pickle\n",
    "\n",
    "import numpy as np\n",
    "import pandas as pd\n",
    "\n",
    "import matplotlib.pyplot as plt\n",
    "import seaborn as sns\n",
    "\n",
    "from src.definitions import ROOT_DIR\n",
    "from src.data.utils import save_pickle"
   ]
  },
  {
   "cell_type": "code",
   "execution_count": 3,
   "metadata": {
    "ExecuteTime": {
     "end_time": "2020-11-04T22:13:14.429394Z",
     "start_time": "2020-11-04T22:13:14.409035Z"
    }
   },
   "outputs": [],
   "source": [
    "plt.style.use('seaborn-poster')"
   ]
  },
  {
   "cell_type": "code",
   "execution_count": 4,
   "metadata": {
    "ExecuteTime": {
     "end_time": "2020-11-04T22:13:14.448665Z",
     "start_time": "2020-11-04T22:13:14.432546Z"
    }
   },
   "outputs": [],
   "source": [
    "subdiv_fn = ROOT_DIR / 'data/interim/2016/subdiv.pickle'\n",
    "assert subdiv_fn.exists()"
   ]
  },
  {
   "cell_type": "code",
   "execution_count": 5,
   "metadata": {
    "ExecuteTime": {
     "end_time": "2020-11-04T22:13:14.467667Z",
     "start_time": "2020-11-04T22:13:14.450091Z"
    }
   },
   "outputs": [],
   "source": [
    "subdiv = pd.read_pickle(subdiv_fn)"
   ]
  },
  {
   "cell_type": "code",
   "execution_count": 6,
   "metadata": {
    "ExecuteTime": {
     "end_time": "2020-11-04T22:13:14.523498Z",
     "start_time": "2020-11-04T22:13:14.469367Z"
    }
   },
   "outputs": [
    {
     "data": {
      "text/html": [
       "<div>\n",
       "<style scoped>\n",
       "    .dataframe tbody tr th:only-of-type {\n",
       "        vertical-align: middle;\n",
       "    }\n",
       "\n",
       "    .dataframe tbody tr th {\n",
       "        vertical-align: top;\n",
       "    }\n",
       "\n",
       "    .dataframe thead th {\n",
       "        text-align: right;\n",
       "    }\n",
       "</style>\n",
       "<table border=\"1\" class=\"dataframe\">\n",
       "  <thead>\n",
       "    <tr style=\"text-align: right;\">\n",
       "      <th></th>\n",
       "      <th>date_erected</th>\n",
       "      <th>im_sq_ft</th>\n",
       "      <th>act_ar</th>\n",
       "      <th>heat_ar</th>\n",
       "      <th>gross_ar</th>\n",
       "      <th>eff_ar</th>\n",
       "      <th>perimeter</th>\n",
       "      <th>fireplace_metal_prefab</th>\n",
       "      <th>fixtures_addl</th>\n",
       "      <th>fixtures_total</th>\n",
       "      <th>...</th>\n",
       "      <th>new_own_dt</th>\n",
       "      <th>lgl_1</th>\n",
       "      <th>base_area_pri</th>\n",
       "      <th>base_area_upr</th>\n",
       "      <th>mas_brk_garage_pri</th>\n",
       "      <th>open_frame_porch_pri</th>\n",
       "      <th>open_mas_porch_pri</th>\n",
       "      <th>exterior_wall</th>\n",
       "      <th>yy_pct_change</th>\n",
       "      <th>kmeans_label</th>\n",
       "    </tr>\n",
       "    <tr>\n",
       "      <th>acct</th>\n",
       "      <th></th>\n",
       "      <th></th>\n",
       "      <th></th>\n",
       "      <th></th>\n",
       "      <th></th>\n",
       "      <th></th>\n",
       "      <th></th>\n",
       "      <th></th>\n",
       "      <th></th>\n",
       "      <th></th>\n",
       "      <th></th>\n",
       "      <th></th>\n",
       "      <th></th>\n",
       "      <th></th>\n",
       "      <th></th>\n",
       "      <th></th>\n",
       "      <th></th>\n",
       "      <th></th>\n",
       "      <th></th>\n",
       "      <th></th>\n",
       "      <th></th>\n",
       "    </tr>\n",
       "  </thead>\n",
       "  <tbody>\n",
       "    <tr>\n",
       "      <th>1347180010002</th>\n",
       "      <td>2015</td>\n",
       "      <td>2321.0</td>\n",
       "      <td>2914</td>\n",
       "      <td>2321.0</td>\n",
       "      <td>2914</td>\n",
       "      <td>2537.0</td>\n",
       "      <td>244.0</td>\n",
       "      <td>1.0</td>\n",
       "      <td>2.0</td>\n",
       "      <td>12.0</td>\n",
       "      <td>...</td>\n",
       "      <td>2015-05-08</td>\n",
       "      <td>LT 2 BLK 1</td>\n",
       "      <td>2321.0</td>\n",
       "      <td>0.0</td>\n",
       "      <td>399.0</td>\n",
       "      <td>0.0</td>\n",
       "      <td>152.0</td>\n",
       "      <td>Stone</td>\n",
       "      <td>5.919743</td>\n",
       "      <td>2</td>\n",
       "    </tr>\n",
       "    <tr>\n",
       "      <th>1347180010052</th>\n",
       "      <td>2014</td>\n",
       "      <td>3078.0</td>\n",
       "      <td>3872</td>\n",
       "      <td>3078.0</td>\n",
       "      <td>3872</td>\n",
       "      <td>3223.0</td>\n",
       "      <td>352.0</td>\n",
       "      <td>1.0</td>\n",
       "      <td>2.0</td>\n",
       "      <td>15.0</td>\n",
       "      <td>...</td>\n",
       "      <td>2014-05-30</td>\n",
       "      <td>LT 52 BLK 1</td>\n",
       "      <td>1778.0</td>\n",
       "      <td>1300.0</td>\n",
       "      <td>400.0</td>\n",
       "      <td>210.0</td>\n",
       "      <td>144.0</td>\n",
       "      <td>Stone</td>\n",
       "      <td>0.184155</td>\n",
       "      <td>1</td>\n",
       "    </tr>\n",
       "    <tr>\n",
       "      <th>1347180010010</th>\n",
       "      <td>2014</td>\n",
       "      <td>2030.0</td>\n",
       "      <td>2528</td>\n",
       "      <td>2030.0</td>\n",
       "      <td>2528</td>\n",
       "      <td>2214.0</td>\n",
       "      <td>238.0</td>\n",
       "      <td>1.0</td>\n",
       "      <td>2.0</td>\n",
       "      <td>10.0</td>\n",
       "      <td>...</td>\n",
       "      <td>2015-05-14</td>\n",
       "      <td>LT 10 BLK 1</td>\n",
       "      <td>2030.0</td>\n",
       "      <td>0.0</td>\n",
       "      <td>396.0</td>\n",
       "      <td>102.0</td>\n",
       "      <td>0.0</td>\n",
       "      <td>Stone</td>\n",
       "      <td>3.863895</td>\n",
       "      <td>2</td>\n",
       "    </tr>\n",
       "    <tr>\n",
       "      <th>1347180010037</th>\n",
       "      <td>2014</td>\n",
       "      <td>3206.0</td>\n",
       "      <td>3968</td>\n",
       "      <td>3206.0</td>\n",
       "      <td>3968</td>\n",
       "      <td>3341.0</td>\n",
       "      <td>360.0</td>\n",
       "      <td>1.0</td>\n",
       "      <td>2.0</td>\n",
       "      <td>15.0</td>\n",
       "      <td>...</td>\n",
       "      <td>2014-08-29</td>\n",
       "      <td>LT 37 BLK 1</td>\n",
       "      <td>1894.0</td>\n",
       "      <td>1312.0</td>\n",
       "      <td>440.0</td>\n",
       "      <td>220.0</td>\n",
       "      <td>62.0</td>\n",
       "      <td>Brick / Veneer</td>\n",
       "      <td>0.092911</td>\n",
       "      <td>0</td>\n",
       "    </tr>\n",
       "    <tr>\n",
       "      <th>1347180030004</th>\n",
       "      <td>2014</td>\n",
       "      <td>1824.0</td>\n",
       "      <td>2472</td>\n",
       "      <td>1824.0</td>\n",
       "      <td>2472</td>\n",
       "      <td>2058.0</td>\n",
       "      <td>216.0</td>\n",
       "      <td>1.0</td>\n",
       "      <td>2.0</td>\n",
       "      <td>10.0</td>\n",
       "      <td>...</td>\n",
       "      <td>2014-12-12</td>\n",
       "      <td>LT 4 BLK 3</td>\n",
       "      <td>1824.0</td>\n",
       "      <td>0.0</td>\n",
       "      <td>400.0</td>\n",
       "      <td>100.0</td>\n",
       "      <td>148.0</td>\n",
       "      <td>Frame / Concrete Blk</td>\n",
       "      <td>0.045583</td>\n",
       "      <td>2</td>\n",
       "    </tr>\n",
       "    <tr>\n",
       "      <th>1347180030019</th>\n",
       "      <td>2014</td>\n",
       "      <td>1943.0</td>\n",
       "      <td>2437</td>\n",
       "      <td>1943.0</td>\n",
       "      <td>2437</td>\n",
       "      <td>2125.0</td>\n",
       "      <td>220.0</td>\n",
       "      <td>1.0</td>\n",
       "      <td>2.0</td>\n",
       "      <td>10.0</td>\n",
       "      <td>...</td>\n",
       "      <td>2014-08-27</td>\n",
       "      <td>LT 19 BLK 3</td>\n",
       "      <td>1943.0</td>\n",
       "      <td>0.0</td>\n",
       "      <td>380.0</td>\n",
       "      <td>102.0</td>\n",
       "      <td>12.0</td>\n",
       "      <td>Stone</td>\n",
       "      <td>0.072175</td>\n",
       "      <td>1</td>\n",
       "    </tr>\n",
       "    <tr>\n",
       "      <th>1347180020012</th>\n",
       "      <td>2015</td>\n",
       "      <td>2587.0</td>\n",
       "      <td>3297</td>\n",
       "      <td>2587.0</td>\n",
       "      <td>3297</td>\n",
       "      <td>2737.0</td>\n",
       "      <td>450.0</td>\n",
       "      <td>1.0</td>\n",
       "      <td>2.0</td>\n",
       "      <td>12.0</td>\n",
       "      <td>...</td>\n",
       "      <td>2015-08-24</td>\n",
       "      <td>LT 12 BLK 2</td>\n",
       "      <td>1492.0</td>\n",
       "      <td>1095.0</td>\n",
       "      <td>491.0</td>\n",
       "      <td>130.0</td>\n",
       "      <td>89.0</td>\n",
       "      <td>Stone</td>\n",
       "      <td>6.219183</td>\n",
       "      <td>0</td>\n",
       "    </tr>\n",
       "    <tr>\n",
       "      <th>1347180020013</th>\n",
       "      <td>2014</td>\n",
       "      <td>1874.0</td>\n",
       "      <td>2465</td>\n",
       "      <td>1874.0</td>\n",
       "      <td>2465</td>\n",
       "      <td>2090.0</td>\n",
       "      <td>220.0</td>\n",
       "      <td>0.0</td>\n",
       "      <td>2.0</td>\n",
       "      <td>10.0</td>\n",
       "      <td>...</td>\n",
       "      <td>2015-05-26</td>\n",
       "      <td>LT 13 BLK 2</td>\n",
       "      <td>1874.0</td>\n",
       "      <td>0.0</td>\n",
       "      <td>420.0</td>\n",
       "      <td>122.0</td>\n",
       "      <td>49.0</td>\n",
       "      <td>Stone</td>\n",
       "      <td>2.378514</td>\n",
       "      <td>2</td>\n",
       "    </tr>\n",
       "    <tr>\n",
       "      <th>1347180020028</th>\n",
       "      <td>2014</td>\n",
       "      <td>2832.0</td>\n",
       "      <td>3448</td>\n",
       "      <td>2832.0</td>\n",
       "      <td>3448</td>\n",
       "      <td>2930.0</td>\n",
       "      <td>438.0</td>\n",
       "      <td>1.0</td>\n",
       "      <td>2.0</td>\n",
       "      <td>12.0</td>\n",
       "      <td>...</td>\n",
       "      <td>2015-01-16</td>\n",
       "      <td>LT 28 BLK 2</td>\n",
       "      <td>1542.0</td>\n",
       "      <td>1290.0</td>\n",
       "      <td>462.0</td>\n",
       "      <td>130.0</td>\n",
       "      <td>24.0</td>\n",
       "      <td>Brick / Veneer</td>\n",
       "      <td>0.043620</td>\n",
       "      <td>0</td>\n",
       "    </tr>\n",
       "    <tr>\n",
       "      <th>1347180010006</th>\n",
       "      <td>2014</td>\n",
       "      <td>1844.0</td>\n",
       "      <td>2406</td>\n",
       "      <td>1844.0</td>\n",
       "      <td>2406</td>\n",
       "      <td>2051.0</td>\n",
       "      <td>218.0</td>\n",
       "      <td>1.0</td>\n",
       "      <td>2.0</td>\n",
       "      <td>10.0</td>\n",
       "      <td>...</td>\n",
       "      <td>2015-04-24</td>\n",
       "      <td>LT 6 BLK 1</td>\n",
       "      <td>1844.0</td>\n",
       "      <td>0.0</td>\n",
       "      <td>420.0</td>\n",
       "      <td>112.0</td>\n",
       "      <td>30.0</td>\n",
       "      <td>Brick / Veneer</td>\n",
       "      <td>1.512663</td>\n",
       "      <td>2</td>\n",
       "    </tr>\n",
       "  </tbody>\n",
       "</table>\n",
       "<p>10 rows × 33 columns</p>\n",
       "</div>"
      ],
      "text/plain": [
       "               date_erected  im_sq_ft  act_ar  heat_ar  gross_ar  eff_ar  \\\n",
       "acct                                                                       \n",
       "1347180010002          2015    2321.0    2914   2321.0      2914  2537.0   \n",
       "1347180010052          2014    3078.0    3872   3078.0      3872  3223.0   \n",
       "1347180010010          2014    2030.0    2528   2030.0      2528  2214.0   \n",
       "1347180010037          2014    3206.0    3968   3206.0      3968  3341.0   \n",
       "1347180030004          2014    1824.0    2472   1824.0      2472  2058.0   \n",
       "1347180030019          2014    1943.0    2437   1943.0      2437  2125.0   \n",
       "1347180020012          2015    2587.0    3297   2587.0      3297  2737.0   \n",
       "1347180020013          2014    1874.0    2465   1874.0      2465  2090.0   \n",
       "1347180020028          2014    2832.0    3448   2832.0      3448  2930.0   \n",
       "1347180010006          2014    1844.0    2406   1844.0      2406  2051.0   \n",
       "\n",
       "               perimeter  fireplace_metal_prefab  fixtures_addl  \\\n",
       "acct                                                              \n",
       "1347180010002      244.0                     1.0            2.0   \n",
       "1347180010052      352.0                     1.0            2.0   \n",
       "1347180010010      238.0                     1.0            2.0   \n",
       "1347180010037      360.0                     1.0            2.0   \n",
       "1347180030004      216.0                     1.0            2.0   \n",
       "1347180030019      220.0                     1.0            2.0   \n",
       "1347180020012      450.0                     1.0            2.0   \n",
       "1347180020013      220.0                     0.0            2.0   \n",
       "1347180020028      438.0                     1.0            2.0   \n",
       "1347180010006      218.0                     1.0            2.0   \n",
       "\n",
       "               fixtures_total  ...  new_own_dt        lgl_1  base_area_pri  \\\n",
       "acct                           ...                                           \n",
       "1347180010002            12.0  ...  2015-05-08   LT 2 BLK 1         2321.0   \n",
       "1347180010052            15.0  ...  2014-05-30  LT 52 BLK 1         1778.0   \n",
       "1347180010010            10.0  ...  2015-05-14  LT 10 BLK 1         2030.0   \n",
       "1347180010037            15.0  ...  2014-08-29  LT 37 BLK 1         1894.0   \n",
       "1347180030004            10.0  ...  2014-12-12   LT 4 BLK 3         1824.0   \n",
       "1347180030019            10.0  ...  2014-08-27  LT 19 BLK 3         1943.0   \n",
       "1347180020012            12.0  ...  2015-08-24  LT 12 BLK 2         1492.0   \n",
       "1347180020013            10.0  ...  2015-05-26  LT 13 BLK 2         1874.0   \n",
       "1347180020028            12.0  ...  2015-01-16  LT 28 BLK 2         1542.0   \n",
       "1347180010006            10.0  ...  2015-04-24   LT 6 BLK 1         1844.0   \n",
       "\n",
       "               base_area_upr  mas_brk_garage_pri  open_frame_porch_pri  \\\n",
       "acct                                                                     \n",
       "1347180010002            0.0               399.0                   0.0   \n",
       "1347180010052         1300.0               400.0                 210.0   \n",
       "1347180010010            0.0               396.0                 102.0   \n",
       "1347180010037         1312.0               440.0                 220.0   \n",
       "1347180030004            0.0               400.0                 100.0   \n",
       "1347180030019            0.0               380.0                 102.0   \n",
       "1347180020012         1095.0               491.0                 130.0   \n",
       "1347180020013            0.0               420.0                 122.0   \n",
       "1347180020028         1290.0               462.0                 130.0   \n",
       "1347180010006            0.0               420.0                 112.0   \n",
       "\n",
       "               open_mas_porch_pri         exterior_wall  yy_pct_change  \\\n",
       "acct                                                                     \n",
       "1347180010002               152.0                 Stone       5.919743   \n",
       "1347180010052               144.0                 Stone       0.184155   \n",
       "1347180010010                 0.0                 Stone       3.863895   \n",
       "1347180010037                62.0        Brick / Veneer       0.092911   \n",
       "1347180030004               148.0  Frame / Concrete Blk       0.045583   \n",
       "1347180030019                12.0                 Stone       0.072175   \n",
       "1347180020012                89.0                 Stone       6.219183   \n",
       "1347180020013                49.0                 Stone       2.378514   \n",
       "1347180020028                24.0        Brick / Veneer       0.043620   \n",
       "1347180010006                30.0        Brick / Veneer       1.512663   \n",
       "\n",
       "               kmeans_label  \n",
       "acct                         \n",
       "1347180010002             2  \n",
       "1347180010052             1  \n",
       "1347180010010             2  \n",
       "1347180010037             0  \n",
       "1347180030004             2  \n",
       "1347180030019             1  \n",
       "1347180020012             0  \n",
       "1347180020013             2  \n",
       "1347180020028             0  \n",
       "1347180010006             2  \n",
       "\n",
       "[10 rows x 33 columns]"
      ]
     },
     "execution_count": 6,
     "metadata": {},
     "output_type": "execute_result"
    }
   ],
   "source": [
    "subdiv.sample(10)"
   ]
  },
  {
   "cell_type": "markdown",
   "metadata": {},
   "source": [
    "# Drop previous year related features\n",
    "Since some of the houses weren't finished by January of the prior year (2015), features that use the prior year value will be bias towards lower values. Let's drop these features."
   ]
  },
  {
   "cell_type": "code",
   "execution_count": 7,
   "metadata": {
    "ExecuteTime": {
     "end_time": "2020-11-04T22:13:14.541295Z",
     "start_time": "2020-11-04T22:13:14.525283Z"
    }
   },
   "outputs": [
    {
     "data": {
      "text/plain": [
       "(111, 33)"
      ]
     },
     "execution_count": 7,
     "metadata": {},
     "output_type": "execute_result"
    }
   ],
   "source": [
    "subdiv.shape"
   ]
  },
  {
   "cell_type": "code",
   "execution_count": 8,
   "metadata": {
    "ExecuteTime": {
     "end_time": "2020-11-04T22:13:14.581803Z",
     "start_time": "2020-11-04T22:13:14.543851Z"
    }
   },
   "outputs": [
    {
     "name": "stdout",
     "output_type": "stream",
     "text": [
      "<class 'pandas.core.frame.DataFrame'>\n",
      "UInt64Index: 111 entries, 1347180010011 to 1347180030030\n",
      "Data columns (total 33 columns):\n",
      " #   Column                  Non-Null Count  Dtype         \n",
      "---  ------                  --------------  -----         \n",
      " 0   date_erected            111 non-null    uint16        \n",
      " 1   im_sq_ft                111 non-null    float64       \n",
      " 2   act_ar                  111 non-null    uint16        \n",
      " 3   heat_ar                 111 non-null    float64       \n",
      " 4   gross_ar                111 non-null    uint16        \n",
      " 5   eff_ar                  111 non-null    float64       \n",
      " 6   perimeter               111 non-null    float64       \n",
      " 7   fireplace_metal_prefab  111 non-null    float32       \n",
      " 8   fixtures_addl           111 non-null    float32       \n",
      " 9   fixtures_total          111 non-null    float32       \n",
      " 10  room_bedroom            111 non-null    float32       \n",
      " 11  room_full_bath          111 non-null    float32       \n",
      " 12  room_half_bath          111 non-null    float32       \n",
      " 13  room_rec                111 non-null    float32       \n",
      " 14  room_total              111 non-null    float32       \n",
      " 15  story_height_index      111 non-null    float32       \n",
      " 16  bld_ar                  111 non-null    float64       \n",
      " 17  land_ar                 111 non-null    float64       \n",
      " 18  acreage                 111 non-null    float64       \n",
      " 19  land_val                111 non-null    float64       \n",
      " 20  tot_appr_val            111 non-null    float64       \n",
      " 21  prior_land_val          111 non-null    float64       \n",
      " 22  prior_tot_appr_val      111 non-null    float64       \n",
      " 23  new_own_dt              111 non-null    datetime64[ns]\n",
      " 24  lgl_1                   111 non-null    object        \n",
      " 25  base_area_pri           111 non-null    float64       \n",
      " 26  base_area_upr           111 non-null    float64       \n",
      " 27  mas_brk_garage_pri      111 non-null    float64       \n",
      " 28  open_frame_porch_pri    111 non-null    float64       \n",
      " 29  open_mas_porch_pri      111 non-null    float64       \n",
      " 30  exterior_wall           111 non-null    category      \n",
      " 31  yy_pct_change           111 non-null    float64       \n",
      " 32  kmeans_label            111 non-null    int32         \n",
      "dtypes: category(1), datetime64[ns](1), float32(9), float64(17), int32(1), object(1), uint16(3)\n",
      "memory usage: 22.8+ KB\n"
     ]
    }
   ],
   "source": [
    "subdiv.info()"
   ]
  },
  {
   "cell_type": "code",
   "execution_count": 9,
   "metadata": {
    "ExecuteTime": {
     "end_time": "2020-11-04T22:13:14.613375Z",
     "start_time": "2020-11-04T22:13:14.584863Z"
    }
   },
   "outputs": [],
   "source": [
    "drop = [\n",
    "    'yy_pct_change', # Some of the houses weren't finished in 2015\n",
    "    'prior_land_val', # Some of the houses weren't finished in 2015\n",
    "    'prior_tot_appr_val', # Some of the houses weren't finished in 2015\n",
    "    'new_own_dt', # Latest purchase date\n",
    "    'lgl_1', # House lot\n",
    "]"
   ]
  },
  {
   "cell_type": "code",
   "execution_count": 10,
   "metadata": {
    "ExecuteTime": {
     "end_time": "2020-11-04T22:13:14.647755Z",
     "start_time": "2020-11-04T22:13:14.618501Z"
    }
   },
   "outputs": [],
   "source": [
    "subdiv.drop(drop, axis=1, inplace=True)"
   ]
  },
  {
   "cell_type": "code",
   "execution_count": 11,
   "metadata": {
    "ExecuteTime": {
     "end_time": "2020-11-04T22:13:14.696003Z",
     "start_time": "2020-11-04T22:13:14.650221Z"
    }
   },
   "outputs": [
    {
     "name": "stdout",
     "output_type": "stream",
     "text": [
      "<class 'pandas.core.frame.DataFrame'>\n",
      "UInt64Index: 111 entries, 1347180010011 to 1347180030030\n",
      "Data columns (total 28 columns):\n",
      " #   Column                  Non-Null Count  Dtype   \n",
      "---  ------                  --------------  -----   \n",
      " 0   date_erected            111 non-null    uint16  \n",
      " 1   im_sq_ft                111 non-null    float64 \n",
      " 2   act_ar                  111 non-null    uint16  \n",
      " 3   heat_ar                 111 non-null    float64 \n",
      " 4   gross_ar                111 non-null    uint16  \n",
      " 5   eff_ar                  111 non-null    float64 \n",
      " 6   perimeter               111 non-null    float64 \n",
      " 7   fireplace_metal_prefab  111 non-null    float32 \n",
      " 8   fixtures_addl           111 non-null    float32 \n",
      " 9   fixtures_total          111 non-null    float32 \n",
      " 10  room_bedroom            111 non-null    float32 \n",
      " 11  room_full_bath          111 non-null    float32 \n",
      " 12  room_half_bath          111 non-null    float32 \n",
      " 13  room_rec                111 non-null    float32 \n",
      " 14  room_total              111 non-null    float32 \n",
      " 15  story_height_index      111 non-null    float32 \n",
      " 16  bld_ar                  111 non-null    float64 \n",
      " 17  land_ar                 111 non-null    float64 \n",
      " 18  acreage                 111 non-null    float64 \n",
      " 19  land_val                111 non-null    float64 \n",
      " 20  tot_appr_val            111 non-null    float64 \n",
      " 21  base_area_pri           111 non-null    float64 \n",
      " 22  base_area_upr           111 non-null    float64 \n",
      " 23  mas_brk_garage_pri      111 non-null    float64 \n",
      " 24  open_frame_porch_pri    111 non-null    float64 \n",
      " 25  open_mas_porch_pri      111 non-null    float64 \n",
      " 26  exterior_wall           111 non-null    category\n",
      " 27  kmeans_label            111 non-null    int32   \n",
      "dtypes: category(1), float32(9), float64(14), int32(1), uint16(3)\n",
      "memory usage: 18.5 KB\n"
     ]
    }
   ],
   "source": [
    "subdiv.info()"
   ]
  },
  {
   "cell_type": "markdown",
   "metadata": {},
   "source": [
    "# Create dummy features for categorical variables\n",
    "Since the `exterior_wall` category was created using all the houses in HCAD, there are seven categories that are not present in this subdivision. Let's remove them from the possible categories list so the `pd.get_dummy` method doesn't get confused."
   ]
  },
  {
   "cell_type": "code",
   "execution_count": 12,
   "metadata": {
    "ExecuteTime": {
     "end_time": "2020-11-04T22:13:14.735732Z",
     "start_time": "2020-11-04T22:13:14.698360Z"
    }
   },
   "outputs": [
    {
     "data": {
      "text/plain": [
       "Brick / Veneer          44\n",
       "Frame / Concrete Blk    36\n",
       "Stone                   31\n",
       "Stucco                   0\n",
       "Shake Shingle            0\n",
       "Metal, Light             0\n",
       "Frame / Res Stucco       0\n",
       "Brick / Masonry          0\n",
       "Asbestos                 0\n",
       "Aluminum / Vinyl         0\n",
       "Name: exterior_wall, dtype: int64"
      ]
     },
     "execution_count": 12,
     "metadata": {},
     "output_type": "execute_result"
    }
   ],
   "source": [
    "subdiv['exterior_wall'].value_counts()"
   ]
  },
  {
   "cell_type": "code",
   "execution_count": 13,
   "metadata": {
    "ExecuteTime": {
     "end_time": "2020-11-04T22:13:14.766915Z",
     "start_time": "2020-11-04T22:13:14.743275Z"
    }
   },
   "outputs": [],
   "source": [
    "subdiv['exterior_wall'] = subdiv['exterior_wall'].cat.remove_unused_categories()"
   ]
  },
  {
   "cell_type": "code",
   "execution_count": 14,
   "metadata": {
    "ExecuteTime": {
     "end_time": "2020-11-04T22:13:14.797368Z",
     "start_time": "2020-11-04T22:13:14.770098Z"
    }
   },
   "outputs": [
    {
     "data": {
      "text/plain": [
       "Brick / Veneer          44\n",
       "Frame / Concrete Blk    36\n",
       "Stone                   31\n",
       "Name: exterior_wall, dtype: int64"
      ]
     },
     "execution_count": 14,
     "metadata": {},
     "output_type": "execute_result"
    }
   ],
   "source": [
    "subdiv['exterior_wall'].value_counts()"
   ]
  },
  {
   "cell_type": "code",
   "execution_count": 15,
   "metadata": {
    "ExecuteTime": {
     "end_time": "2020-11-04T22:13:14.829052Z",
     "start_time": "2020-11-04T22:13:14.799578Z"
    }
   },
   "outputs": [],
   "source": [
    "subdiv_dummy = pd.get_dummies(subdiv, columns=['kmeans_label', 'exterior_wall'], drop_first=True)"
   ]
  },
  {
   "cell_type": "code",
   "execution_count": 16,
   "metadata": {
    "ExecuteTime": {
     "end_time": "2020-11-04T22:13:14.885342Z",
     "start_time": "2020-11-04T22:13:14.832371Z"
    }
   },
   "outputs": [
    {
     "data": {
      "text/html": [
       "<div>\n",
       "<style scoped>\n",
       "    .dataframe tbody tr th:only-of-type {\n",
       "        vertical-align: middle;\n",
       "    }\n",
       "\n",
       "    .dataframe tbody tr th {\n",
       "        vertical-align: top;\n",
       "    }\n",
       "\n",
       "    .dataframe thead th {\n",
       "        text-align: right;\n",
       "    }\n",
       "</style>\n",
       "<table border=\"1\" class=\"dataframe\">\n",
       "  <thead>\n",
       "    <tr style=\"text-align: right;\">\n",
       "      <th></th>\n",
       "      <th>date_erected</th>\n",
       "      <th>im_sq_ft</th>\n",
       "      <th>act_ar</th>\n",
       "      <th>heat_ar</th>\n",
       "      <th>gross_ar</th>\n",
       "      <th>eff_ar</th>\n",
       "      <th>perimeter</th>\n",
       "      <th>fireplace_metal_prefab</th>\n",
       "      <th>fixtures_addl</th>\n",
       "      <th>fixtures_total</th>\n",
       "      <th>...</th>\n",
       "      <th>tot_appr_val</th>\n",
       "      <th>base_area_pri</th>\n",
       "      <th>base_area_upr</th>\n",
       "      <th>mas_brk_garage_pri</th>\n",
       "      <th>open_frame_porch_pri</th>\n",
       "      <th>open_mas_porch_pri</th>\n",
       "      <th>kmeans_label_1</th>\n",
       "      <th>kmeans_label_2</th>\n",
       "      <th>exterior_wall_Frame / Concrete Blk</th>\n",
       "      <th>exterior_wall_Stone</th>\n",
       "    </tr>\n",
       "    <tr>\n",
       "      <th>acct</th>\n",
       "      <th></th>\n",
       "      <th></th>\n",
       "      <th></th>\n",
       "      <th></th>\n",
       "      <th></th>\n",
       "      <th></th>\n",
       "      <th></th>\n",
       "      <th></th>\n",
       "      <th></th>\n",
       "      <th></th>\n",
       "      <th></th>\n",
       "      <th></th>\n",
       "      <th></th>\n",
       "      <th></th>\n",
       "      <th></th>\n",
       "      <th></th>\n",
       "      <th></th>\n",
       "      <th></th>\n",
       "      <th></th>\n",
       "      <th></th>\n",
       "      <th></th>\n",
       "    </tr>\n",
       "  </thead>\n",
       "  <tbody>\n",
       "    <tr>\n",
       "      <th>1347180010011</th>\n",
       "      <td>2014</td>\n",
       "      <td>2869.0</td>\n",
       "      <td>3545</td>\n",
       "      <td>2869.0</td>\n",
       "      <td>3545</td>\n",
       "      <td>3003.0</td>\n",
       "      <td>374.0</td>\n",
       "      <td>1.0</td>\n",
       "      <td>2.0</td>\n",
       "      <td>15.0</td>\n",
       "      <td>...</td>\n",
       "      <td>276747.0</td>\n",
       "      <td>1764.0</td>\n",
       "      <td>1105.0</td>\n",
       "      <td>399.0</td>\n",
       "      <td>220.0</td>\n",
       "      <td>57.0</td>\n",
       "      <td>0</td>\n",
       "      <td>0</td>\n",
       "      <td>1</td>\n",
       "      <td>0</td>\n",
       "    </tr>\n",
       "    <tr>\n",
       "      <th>1347180010013</th>\n",
       "      <td>2014</td>\n",
       "      <td>1858.0</td>\n",
       "      <td>2524</td>\n",
       "      <td>1858.0</td>\n",
       "      <td>2524</td>\n",
       "      <td>2098.0</td>\n",
       "      <td>218.0</td>\n",
       "      <td>0.0</td>\n",
       "      <td>2.0</td>\n",
       "      <td>10.0</td>\n",
       "      <td>...</td>\n",
       "      <td>215920.0</td>\n",
       "      <td>1858.0</td>\n",
       "      <td>0.0</td>\n",
       "      <td>399.0</td>\n",
       "      <td>112.0</td>\n",
       "      <td>155.0</td>\n",
       "      <td>0</td>\n",
       "      <td>1</td>\n",
       "      <td>0</td>\n",
       "      <td>1</td>\n",
       "    </tr>\n",
       "    <tr>\n",
       "      <th>1347180010021</th>\n",
       "      <td>2014</td>\n",
       "      <td>2579.0</td>\n",
       "      <td>3214</td>\n",
       "      <td>2579.0</td>\n",
       "      <td>3214</td>\n",
       "      <td>2683.0</td>\n",
       "      <td>230.0</td>\n",
       "      <td>1.0</td>\n",
       "      <td>2.0</td>\n",
       "      <td>15.0</td>\n",
       "      <td>...</td>\n",
       "      <td>258753.0</td>\n",
       "      <td>2130.0</td>\n",
       "      <td>0.0</td>\n",
       "      <td>399.0</td>\n",
       "      <td>136.0</td>\n",
       "      <td>100.0</td>\n",
       "      <td>0</td>\n",
       "      <td>0</td>\n",
       "      <td>0</td>\n",
       "      <td>0</td>\n",
       "    </tr>\n",
       "    <tr>\n",
       "      <th>1347180010023</th>\n",
       "      <td>2014</td>\n",
       "      <td>2031.0</td>\n",
       "      <td>2626</td>\n",
       "      <td>2031.0</td>\n",
       "      <td>2626</td>\n",
       "      <td>2246.0</td>\n",
       "      <td>234.0</td>\n",
       "      <td>1.0</td>\n",
       "      <td>2.0</td>\n",
       "      <td>10.0</td>\n",
       "      <td>...</td>\n",
       "      <td>165326.0</td>\n",
       "      <td>2031.0</td>\n",
       "      <td>0.0</td>\n",
       "      <td>396.0</td>\n",
       "      <td>119.0</td>\n",
       "      <td>80.0</td>\n",
       "      <td>0</td>\n",
       "      <td>1</td>\n",
       "      <td>1</td>\n",
       "      <td>0</td>\n",
       "    </tr>\n",
       "    <tr>\n",
       "      <th>1347180010035</th>\n",
       "      <td>2014</td>\n",
       "      <td>2371.0</td>\n",
       "      <td>3133</td>\n",
       "      <td>2371.0</td>\n",
       "      <td>3133</td>\n",
       "      <td>2458.0</td>\n",
       "      <td>216.0</td>\n",
       "      <td>0.0</td>\n",
       "      <td>2.0</td>\n",
       "      <td>12.0</td>\n",
       "      <td>...</td>\n",
       "      <td>238820.0</td>\n",
       "      <td>1683.0</td>\n",
       "      <td>0.0</td>\n",
       "      <td>566.0</td>\n",
       "      <td>100.0</td>\n",
       "      <td>96.0</td>\n",
       "      <td>0</td>\n",
       "      <td>1</td>\n",
       "      <td>0</td>\n",
       "      <td>1</td>\n",
       "    </tr>\n",
       "  </tbody>\n",
       "</table>\n",
       "<p>5 rows × 30 columns</p>\n",
       "</div>"
      ],
      "text/plain": [
       "               date_erected  im_sq_ft  act_ar  heat_ar  gross_ar  eff_ar  \\\n",
       "acct                                                                       \n",
       "1347180010011          2014    2869.0    3545   2869.0      3545  3003.0   \n",
       "1347180010013          2014    1858.0    2524   1858.0      2524  2098.0   \n",
       "1347180010021          2014    2579.0    3214   2579.0      3214  2683.0   \n",
       "1347180010023          2014    2031.0    2626   2031.0      2626  2246.0   \n",
       "1347180010035          2014    2371.0    3133   2371.0      3133  2458.0   \n",
       "\n",
       "               perimeter  fireplace_metal_prefab  fixtures_addl  \\\n",
       "acct                                                              \n",
       "1347180010011      374.0                     1.0            2.0   \n",
       "1347180010013      218.0                     0.0            2.0   \n",
       "1347180010021      230.0                     1.0            2.0   \n",
       "1347180010023      234.0                     1.0            2.0   \n",
       "1347180010035      216.0                     0.0            2.0   \n",
       "\n",
       "               fixtures_total  ...  tot_appr_val  base_area_pri  \\\n",
       "acct                           ...                                \n",
       "1347180010011            15.0  ...      276747.0         1764.0   \n",
       "1347180010013            10.0  ...      215920.0         1858.0   \n",
       "1347180010021            15.0  ...      258753.0         2130.0   \n",
       "1347180010023            10.0  ...      165326.0         2031.0   \n",
       "1347180010035            12.0  ...      238820.0         1683.0   \n",
       "\n",
       "               base_area_upr  mas_brk_garage_pri  open_frame_porch_pri  \\\n",
       "acct                                                                     \n",
       "1347180010011         1105.0               399.0                 220.0   \n",
       "1347180010013            0.0               399.0                 112.0   \n",
       "1347180010021            0.0               399.0                 136.0   \n",
       "1347180010023            0.0               396.0                 119.0   \n",
       "1347180010035            0.0               566.0                 100.0   \n",
       "\n",
       "               open_mas_porch_pri  kmeans_label_1  kmeans_label_2  \\\n",
       "acct                                                                \n",
       "1347180010011                57.0               0               0   \n",
       "1347180010013               155.0               0               1   \n",
       "1347180010021               100.0               0               0   \n",
       "1347180010023                80.0               0               1   \n",
       "1347180010035                96.0               0               1   \n",
       "\n",
       "               exterior_wall_Frame / Concrete Blk  exterior_wall_Stone  \n",
       "acct                                                                    \n",
       "1347180010011                                   1                    0  \n",
       "1347180010013                                   0                    1  \n",
       "1347180010021                                   0                    0  \n",
       "1347180010023                                   1                    0  \n",
       "1347180010035                                   0                    1  \n",
       "\n",
       "[5 rows x 30 columns]"
      ]
     },
     "execution_count": 16,
     "metadata": {},
     "output_type": "execute_result"
    }
   ],
   "source": [
    "subdiv_dummy.head()"
   ]
  },
  {
   "cell_type": "markdown",
   "metadata": {},
   "source": [
    "# Split data"
   ]
  },
  {
   "cell_type": "code",
   "execution_count": 17,
   "metadata": {
    "ExecuteTime": {
     "end_time": "2020-11-04T22:13:15.075298Z",
     "start_time": "2020-11-04T22:13:14.888191Z"
    }
   },
   "outputs": [],
   "source": [
    "from sklearn.model_selection import train_test_split"
   ]
  },
  {
   "cell_type": "code",
   "execution_count": 18,
   "metadata": {
    "ExecuteTime": {
     "end_time": "2020-11-04T22:13:15.106640Z",
     "start_time": "2020-11-04T22:13:15.076798Z"
    }
   },
   "outputs": [],
   "source": [
    "X = subdiv_dummy.drop(['tot_appr_val'], axis=1)\n",
    "y = subdiv_dummy['tot_appr_val']"
   ]
  },
  {
   "cell_type": "code",
   "execution_count": 19,
   "metadata": {
    "ExecuteTime": {
     "end_time": "2020-11-04T22:13:15.137408Z",
     "start_time": "2020-11-04T22:13:15.109868Z"
    }
   },
   "outputs": [],
   "source": [
    "X_train, X_test, y_train, y_test = train_test_split(X, y, test_size=0.3, random_state=42)"
   ]
  },
  {
   "cell_type": "markdown",
   "metadata": {},
   "source": [
    "# 10-fold cross-validation, feature selection and modeling\n",
    "\n",
    "I'll follow a variant of the steps on page [245 of Hastie, Tibshirani, and Friedman (2009)](https://web.stanford.edu/~hastie/ElemStatLearn/). In this case, I first split the data (previous step) and use the training data in cross-validation to:\n",
    "1. Standardize the variables\n",
    "2. Perform feature elimination with Lasso\n",
    "3. Build a multi-linear Ridge regression model with the selected features\n",
    "4. Determine the model scores on the held-out data fold\n",
    "\n",
    "By summarizing the model scores across fold (cross-validation error) we can form an idea of the prediction error on unseen data.\n",
    "\n",
    "https://sebastianraschka.com/blog/2016/model-evaluation-selection-part3.html\n",
    "https://www.tomasbeuzen.com/post/scikit-learn-gridsearch-pipelines/\n",
    "https://www.aaai.org/Papers/Workshops/2007/WS-07-05/WS07-05-007.pdf\n",
    "https://jcheminf.biomedcentral.com/articles/10.1186/1758-2946-6-10\n",
    "https://machinelearningmastery.com/nested-cross-validation-for-machine-learning-with-python/\n",
    "https://stats.stackexchange.com/questions/266225/step-by-step-explanation-of-k-fold-cross-validation-with-grid-search-to-optimise\n"
   ]
  },
  {
   "cell_type": "code",
   "execution_count": null,
   "metadata": {},
   "outputs": [],
   "source": []
  }
 ],
 "metadata": {
  "kernelspec": {
   "display_name": "hcad_pred",
   "language": "python",
   "name": "hcad_pred"
  },
  "language_info": {
   "codemirror_mode": {
    "name": "ipython",
    "version": 3
   },
   "file_extension": ".py",
   "mimetype": "text/x-python",
   "name": "python",
   "nbconvert_exporter": "python",
   "pygments_lexer": "ipython3",
   "version": "3.7.8"
  },
  "toc": {
   "base_numbering": 1,
   "nav_menu": {},
   "number_sections": true,
   "sideBar": true,
   "skip_h1_title": false,
   "title_cell": "Table of Contents",
   "title_sidebar": "Contents",
   "toc_cell": false,
   "toc_position": {},
   "toc_section_display": true,
   "toc_window_display": false
  }
 },
 "nbformat": 4,
 "nbformat_minor": 4
}
