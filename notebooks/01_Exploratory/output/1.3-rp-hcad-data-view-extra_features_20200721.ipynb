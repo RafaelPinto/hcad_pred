{
 "cells": [
  {
   "cell_type": "markdown",
   "metadata": {
    "papermill": {
     "duration": 0.036975,
     "end_time": "2020-07-22T04:25:33.512931",
     "exception": false,
     "start_time": "2020-07-22T04:25:33.475956",
     "status": "completed"
    },
    "tags": []
   },
   "source": [
    "# Find the comparables: extra_features.txt\n",
    "\n",
    "The file `extra_features.txt` contains important property information like number and quality of pools, detached garages, outbuildings, canopies, and more. Let's load this file and grab a subset with the important columns to continue our study."
   ]
  },
  {
   "cell_type": "code",
   "execution_count": 1,
   "metadata": {
    "ExecuteTime": {
     "end_time": "2020-07-22T03:09:43.443310Z",
     "start_time": "2020-07-22T03:09:43.416715Z"
    },
    "execution": {
     "iopub.execute_input": "2020-07-22T04:25:33.551763Z",
     "iopub.status.busy": "2020-07-22T04:25:33.551135Z",
     "iopub.status.idle": "2020-07-22T04:25:33.561402Z",
     "shell.execute_reply": "2020-07-22T04:25:33.561833Z"
    },
    "papermill": {
     "duration": 0.028525,
     "end_time": "2020-07-22T04:25:33.562005",
     "exception": false,
     "start_time": "2020-07-22T04:25:33.533480",
     "status": "completed"
    },
    "tags": []
   },
   "outputs": [],
   "source": [
    "%load_ext autoreload\n",
    "%autoreload 2"
   ]
  },
  {
   "cell_type": "code",
   "execution_count": 2,
   "metadata": {
    "ExecuteTime": {
     "end_time": "2020-07-22T03:09:44.223916Z",
     "start_time": "2020-07-22T03:09:43.845269Z"
    },
    "execution": {
     "iopub.execute_input": "2020-07-22T04:25:33.592319Z",
     "iopub.status.busy": "2020-07-22T04:25:33.591761Z",
     "iopub.status.idle": "2020-07-22T04:25:33.943632Z",
     "shell.execute_reply": "2020-07-22T04:25:33.942656Z"
    },
    "papermill": {
     "duration": 0.366672,
     "end_time": "2020-07-22T04:25:33.943808",
     "exception": false,
     "start_time": "2020-07-22T04:25:33.577136",
     "status": "completed"
    },
    "tags": []
   },
   "outputs": [],
   "source": [
    "from pathlib import Path\n",
    "import pickle\n",
    "\n",
    "import pandas as pd\n",
    "\n",
    "from src.definitions import ROOT_DIR\n",
    "from src.data.utils import Table, save_pickle"
   ]
  },
  {
   "cell_type": "code",
   "execution_count": 3,
   "metadata": {
    "ExecuteTime": {
     "end_time": "2020-07-22T03:09:46.289630Z",
     "start_time": "2020-07-22T03:09:46.233076Z"
    },
    "execution": {
     "iopub.execute_input": "2020-07-22T04:25:33.971560Z",
     "iopub.status.busy": "2020-07-22T04:25:33.971040Z",
     "iopub.status.idle": "2020-07-22T04:25:33.981906Z",
     "shell.execute_reply": "2020-07-22T04:25:33.982497Z"
    },
    "papermill": {
     "duration": 0.025993,
     "end_time": "2020-07-22T04:25:33.982762",
     "exception": false,
     "start_time": "2020-07-22T04:25:33.956769",
     "status": "completed"
    },
    "tags": []
   },
   "outputs": [],
   "source": [
    "extra_features_fn = ROOT_DIR / 'data/external/2016/Real_building_land/extra_features.txt'\n",
    "assert extra_features_fn.exists()"
   ]
  },
  {
   "cell_type": "code",
   "execution_count": 4,
   "metadata": {
    "ExecuteTime": {
     "end_time": "2020-07-22T03:09:49.410054Z",
     "start_time": "2020-07-22T03:09:49.388092Z"
    },
    "execution": {
     "iopub.execute_input": "2020-07-22T04:25:34.012292Z",
     "iopub.status.busy": "2020-07-22T04:25:34.011432Z",
     "iopub.status.idle": "2020-07-22T04:25:34.022709Z",
     "shell.execute_reply": "2020-07-22T04:25:34.023151Z"
    },
    "papermill": {
     "duration": 0.028038,
     "end_time": "2020-07-22T04:25:34.023302",
     "exception": false,
     "start_time": "2020-07-22T04:25:33.995264",
     "status": "completed"
    },
    "tags": []
   },
   "outputs": [],
   "source": [
    "extra_features = Table(extra_features_fn, '2016')"
   ]
  },
  {
   "cell_type": "code",
   "execution_count": 5,
   "metadata": {
    "ExecuteTime": {
     "end_time": "2020-07-22T03:09:49.977969Z",
     "start_time": "2020-07-22T03:09:49.947631Z"
    },
    "execution": {
     "iopub.execute_input": "2020-07-22T04:25:34.049712Z",
     "iopub.status.busy": "2020-07-22T04:25:34.049086Z",
     "iopub.status.idle": "2020-07-22T04:25:34.076058Z",
     "shell.execute_reply": "2020-07-22T04:25:34.075560Z"
    },
    "papermill": {
     "duration": 0.041407,
     "end_time": "2020-07-22T04:25:34.076181",
     "exception": false,
     "start_time": "2020-07-22T04:25:34.034774",
     "status": "completed"
    },
    "tags": []
   },
   "outputs": [
    {
     "data": {
      "text/plain": [
       "['acct',\n",
       " 'bld_num',\n",
       " 'count',\n",
       " 'grade',\n",
       " 'cd',\n",
       " 's_dscr',\n",
       " 'l_dscr',\n",
       " 'cat',\n",
       " 'dscr',\n",
       " 'note',\n",
       " 'uts']"
      ]
     },
     "execution_count": 5,
     "metadata": {},
     "output_type": "execute_result"
    }
   ],
   "source": [
    "extra_features.get_header()"
   ]
  },
  {
   "cell_type": "markdown",
   "metadata": {
    "papermill": {
     "duration": 0.011978,
     "end_time": "2020-07-22T04:25:34.100393",
     "exception": false,
     "start_time": "2020-07-22T04:25:34.088415",
     "status": "completed"
    },
    "tags": []
   },
   "source": [
    "# Load accounts of interest\n",
    "Let's remove the account numbers that don't meet free-standing single-family home criteria that we found while processing the `building_res.txt` file."
   ]
  },
  {
   "cell_type": "code",
   "execution_count": 6,
   "metadata": {
    "ExecuteTime": {
     "end_time": "2020-07-22T03:10:07.923905Z",
     "start_time": "2020-07-22T03:10:07.095276Z"
    },
    "execution": {
     "iopub.execute_input": "2020-07-22T04:25:34.128895Z",
     "iopub.status.busy": "2020-07-22T04:25:34.128382Z",
     "iopub.status.idle": "2020-07-22T04:25:35.442446Z",
     "shell.execute_reply": "2020-07-22T04:25:35.442017Z"
    },
    "papermill": {
     "duration": 1.330126,
     "end_time": "2020-07-22T04:25:35.442565",
     "exception": false,
     "start_time": "2020-07-22T04:25:34.112439",
     "status": "completed"
    },
    "tags": []
   },
   "outputs": [],
   "source": [
    "skiprows = extra_features.get_skiprows()"
   ]
  },
  {
   "cell_type": "code",
   "execution_count": 7,
   "metadata": {
    "ExecuteTime": {
     "end_time": "2020-07-22T03:10:23.131980Z",
     "start_time": "2020-07-22T03:10:22.098365Z"
    },
    "execution": {
     "iopub.execute_input": "2020-07-22T04:25:35.478473Z",
     "iopub.status.busy": "2020-07-22T04:25:35.477952Z",
     "iopub.status.idle": "2020-07-22T04:25:36.495088Z",
     "shell.execute_reply": "2020-07-22T04:25:36.494672Z"
    },
    "papermill": {
     "duration": 1.037743,
     "end_time": "2020-07-22T04:25:36.495211",
     "exception": false,
     "start_time": "2020-07-22T04:25:35.457468",
     "status": "completed"
    },
    "tags": []
   },
   "outputs": [],
   "source": [
    "extra_features_df = extra_features.get_df(skiprows=skiprows)"
   ]
  },
  {
   "cell_type": "code",
   "execution_count": 8,
   "metadata": {
    "ExecuteTime": {
     "end_time": "2020-07-22T03:10:24.180081Z",
     "start_time": "2020-07-22T03:10:24.145898Z"
    },
    "execution": {
     "iopub.execute_input": "2020-07-22T04:25:36.522930Z",
     "iopub.status.busy": "2020-07-22T04:25:36.522414Z",
     "iopub.status.idle": "2020-07-22T04:25:36.546433Z",
     "shell.execute_reply": "2020-07-22T04:25:36.546844Z"
    },
    "papermill": {
     "duration": 0.039476,
     "end_time": "2020-07-22T04:25:36.546997",
     "exception": false,
     "start_time": "2020-07-22T04:25:36.507521",
     "status": "completed"
    },
    "tags": []
   },
   "outputs": [
    {
     "data": {
      "text/html": [
       "<div>\n",
       "<style scoped>\n",
       "    .dataframe tbody tr th:only-of-type {\n",
       "        vertical-align: middle;\n",
       "    }\n",
       "\n",
       "    .dataframe tbody tr th {\n",
       "        vertical-align: top;\n",
       "    }\n",
       "\n",
       "    .dataframe thead th {\n",
       "        text-align: right;\n",
       "    }\n",
       "</style>\n",
       "<table border=\"1\" class=\"dataframe\">\n",
       "  <thead>\n",
       "    <tr style=\"text-align: right;\">\n",
       "      <th></th>\n",
       "      <th>acct</th>\n",
       "      <th>bld_num</th>\n",
       "      <th>count</th>\n",
       "      <th>grade</th>\n",
       "      <th>cd</th>\n",
       "      <th>s_dscr</th>\n",
       "      <th>l_dscr</th>\n",
       "      <th>cat</th>\n",
       "      <th>dscr</th>\n",
       "      <th>note</th>\n",
       "      <th>uts</th>\n",
       "    </tr>\n",
       "  </thead>\n",
       "  <tbody>\n",
       "    <tr>\n",
       "      <th>0</th>\n",
       "      <td>21440000001</td>\n",
       "      <td>0</td>\n",
       "      <td>2</td>\n",
       "      <td>4</td>\n",
       "      <td>RRS1</td>\n",
       "      <td>WDUtSh</td>\n",
       "      <td>Frame Utility Shed</td>\n",
       "      <td>OB</td>\n",
       "      <td>Outbuildings</td>\n",
       "      <td></td>\n",
       "      <td>110.0</td>\n",
       "    </tr>\n",
       "    <tr>\n",
       "      <th>1</th>\n",
       "      <td>21440000001</td>\n",
       "      <td>0</td>\n",
       "      <td>2</td>\n",
       "      <td>4</td>\n",
       "      <td>RRS1</td>\n",
       "      <td>WDUtSh</td>\n",
       "      <td>Frame Utility Shed</td>\n",
       "      <td>OB</td>\n",
       "      <td>Outbuildings</td>\n",
       "      <td></td>\n",
       "      <td>130.0</td>\n",
       "    </tr>\n",
       "    <tr>\n",
       "      <th>2</th>\n",
       "      <td>21480000002</td>\n",
       "      <td>1</td>\n",
       "      <td>1</td>\n",
       "      <td>4</td>\n",
       "      <td>ROGV</td>\n",
       "      <td>OtherRs</td>\n",
       "      <td>Residential Other Gross Value</td>\n",
       "      <td>MS</td>\n",
       "      <td>Miscellaneous</td>\n",
       "      <td>SALV GAR APMT.</td>\n",
       "      <td>0.5</td>\n",
       "    </tr>\n",
       "    <tr>\n",
       "      <th>3</th>\n",
       "      <td>21650000007</td>\n",
       "      <td>0</td>\n",
       "      <td>1</td>\n",
       "      <td>4</td>\n",
       "      <td>RRP5</td>\n",
       "      <td>GnPool</td>\n",
       "      <td>Gunite Pool</td>\n",
       "      <td>PL</td>\n",
       "      <td>Pools</td>\n",
       "      <td></td>\n",
       "      <td>368.0</td>\n",
       "    </tr>\n",
       "    <tr>\n",
       "      <th>4</th>\n",
       "      <td>21700000013</td>\n",
       "      <td>0</td>\n",
       "      <td>1</td>\n",
       "      <td>5</td>\n",
       "      <td>RRG1</td>\n",
       "      <td>FrmGar</td>\n",
       "      <td>Frame Detached Garage</td>\n",
       "      <td>GR</td>\n",
       "      <td>Garage</td>\n",
       "      <td></td>\n",
       "      <td>225.0</td>\n",
       "    </tr>\n",
       "  </tbody>\n",
       "</table>\n",
       "</div>"
      ],
      "text/plain": [
       "          acct  bld_num  count  grade      cd   s_dscr  \\\n",
       "0  21440000001        0      2      4  RRS1     WDUtSh   \n",
       "1  21440000001        0      2      4  RRS1     WDUtSh   \n",
       "2  21480000002        1      1      4  ROGV    OtherRs   \n",
       "3  21650000007        0      1      4  RRP5     GnPool   \n",
       "4  21700000013        0      1      5  RRG1     FrmGar   \n",
       "\n",
       "                          l_dscr cat           dscr            note    uts  \n",
       "0             Frame Utility Shed  OB   Outbuildings                  110.0  \n",
       "1             Frame Utility Shed  OB   Outbuildings                  130.0  \n",
       "2  Residential Other Gross Value  MS  Miscellaneous  SALV GAR APMT.    0.5  \n",
       "3                    Gunite Pool  PL          Pools                  368.0  \n",
       "4          Frame Detached Garage  GR         Garage                  225.0  "
      ]
     },
     "execution_count": 8,
     "metadata": {},
     "output_type": "execute_result"
    }
   ],
   "source": [
    "extra_features_df.head()"
   ]
  },
  {
   "cell_type": "code",
   "execution_count": 9,
   "metadata": {
    "ExecuteTime": {
     "end_time": "2020-07-22T03:10:36.398622Z",
     "start_time": "2020-07-22T03:10:36.286903Z"
    },
    "execution": {
     "iopub.execute_input": "2020-07-22T04:25:36.576229Z",
     "iopub.status.busy": "2020-07-22T04:25:36.575679Z",
     "iopub.status.idle": "2020-07-22T04:25:36.636196Z",
     "shell.execute_reply": "2020-07-22T04:25:36.636629Z"
    },
    "papermill": {
     "duration": 0.076702,
     "end_time": "2020-07-22T04:25:36.636776",
     "exception": false,
     "start_time": "2020-07-22T04:25:36.560074",
     "status": "completed"
    },
    "tags": []
   },
   "outputs": [
    {
     "data": {
      "text/plain": [
       "Garage                     203945\n",
       "Pools                      131083\n",
       "Outbuildings               121614\n",
       "Canopy                      85893\n",
       "Carport                     76646\n",
       "Foundation Defect           35431\n",
       "Miscellaneous               21902\n",
       "Boat Docks & Structures      2233\n",
       "Greenhouse                    645\n",
       "Solar                         439\n",
       "Spaces for Mobile Homes       375\n",
       "Skirting                      317\n",
       "Tennis Courts                 287\n",
       "Decking                        65\n",
       "Paving                         49\n",
       "Porches                        11\n",
       "Additions                       3\n",
       "Name: dscr, dtype: int64"
      ]
     },
     "execution_count": 9,
     "metadata": {},
     "output_type": "execute_result"
    }
   ],
   "source": [
    "extra_features_df.dscr.value_counts()"
   ]
  },
  {
   "cell_type": "markdown",
   "metadata": {
    "papermill": {
     "duration": 0.012823,
     "end_time": "2020-07-22T04:25:36.662517",
     "exception": false,
     "start_time": "2020-07-22T04:25:36.649694",
     "status": "completed"
    },
    "tags": []
   },
   "source": [
    "# Grab slice of the extra features of interest\n",
    "With the value counts on the extra feature description performed above we can see that the majority of the features land in the top 6 categories. Let's filter out the rests of the columns."
   ]
  },
  {
   "cell_type": "code",
   "execution_count": 10,
   "metadata": {
    "ExecuteTime": {
     "end_time": "2020-07-22T03:10:40.425777Z",
     "start_time": "2020-07-22T03:10:40.305383Z"
    },
    "execution": {
     "iopub.execute_input": "2020-07-22T04:25:36.693795Z",
     "iopub.status.busy": "2020-07-22T04:25:36.693269Z",
     "iopub.status.idle": "2020-07-22T04:25:36.751949Z",
     "shell.execute_reply": "2020-07-22T04:25:36.752442Z"
    },
    "papermill": {
     "duration": 0.076888,
     "end_time": "2020-07-22T04:25:36.752605",
     "exception": false,
     "start_time": "2020-07-22T04:25:36.675717",
     "status": "completed"
    },
    "tags": []
   },
   "outputs": [],
   "source": [
    "cols = extra_features_df.dscr.value_counts().head(6).index"
   ]
  },
  {
   "cell_type": "code",
   "execution_count": 11,
   "metadata": {
    "ExecuteTime": {
     "end_time": "2020-07-22T03:10:43.904232Z",
     "start_time": "2020-07-22T03:10:43.835656Z"
    },
    "execution": {
     "iopub.execute_input": "2020-07-22T04:25:36.782589Z",
     "iopub.status.busy": "2020-07-22T04:25:36.782078Z",
     "iopub.status.idle": "2020-07-22T04:25:36.839031Z",
     "shell.execute_reply": "2020-07-22T04:25:36.838568Z"
    },
    "papermill": {
     "duration": 0.073077,
     "end_time": "2020-07-22T04:25:36.839163",
     "exception": false,
     "start_time": "2020-07-22T04:25:36.766086",
     "status": "completed"
    },
    "tags": []
   },
   "outputs": [],
   "source": [
    "cond0 = extra_features_df['dscr'].isin(cols)\n",
    "extra_features_df = extra_features_df.loc[cond0, :]"
   ]
  },
  {
   "cell_type": "markdown",
   "metadata": {
    "papermill": {
     "duration": 0.013226,
     "end_time": "2020-07-22T04:25:36.865246",
     "exception": false,
     "start_time": "2020-07-22T04:25:36.852020",
     "status": "completed"
    },
    "tags": []
   },
   "source": [
    "# Build pivot tables for count and grade\n",
    "There appear to be two important values related to each extra feature:count and grade. Let's build individual pivot tables for each and merge them before saving them out."
   ]
  },
  {
   "cell_type": "code",
   "execution_count": 12,
   "metadata": {
    "ExecuteTime": {
     "end_time": "2020-07-22T03:10:56.506208Z",
     "start_time": "2020-07-22T03:10:55.703799Z"
    },
    "execution": {
     "iopub.execute_input": "2020-07-22T04:25:36.895736Z",
     "iopub.status.busy": "2020-07-22T04:25:36.895215Z",
     "iopub.status.idle": "2020-07-22T04:25:37.609111Z",
     "shell.execute_reply": "2020-07-22T04:25:37.608646Z"
    },
    "papermill": {
     "duration": 0.730692,
     "end_time": "2020-07-22T04:25:37.609236",
     "exception": false,
     "start_time": "2020-07-22T04:25:36.878544",
     "status": "completed"
    },
    "tags": []
   },
   "outputs": [],
   "source": [
    "extra_features_pivot_count = extra_features_df.pivot_table(index='acct',\n",
    "                                                           columns='dscr',\n",
    "                                                           values='count',\n",
    "                                                           fill_value=0)"
   ]
  },
  {
   "cell_type": "code",
   "execution_count": 13,
   "metadata": {
    "ExecuteTime": {
     "end_time": "2020-07-22T03:10:56.531786Z",
     "start_time": "2020-07-22T03:10:56.508024Z"
    },
    "execution": {
     "iopub.execute_input": "2020-07-22T04:25:37.638757Z",
     "iopub.status.busy": "2020-07-22T04:25:37.638251Z",
     "iopub.status.idle": "2020-07-22T04:25:37.655054Z",
     "shell.execute_reply": "2020-07-22T04:25:37.654527Z"
    },
    "papermill": {
     "duration": 0.032827,
     "end_time": "2020-07-22T04:25:37.655173",
     "exception": false,
     "start_time": "2020-07-22T04:25:37.622346",
     "status": "completed"
    },
    "tags": []
   },
   "outputs": [
    {
     "data": {
      "text/html": [
       "<div>\n",
       "<style scoped>\n",
       "    .dataframe tbody tr th:only-of-type {\n",
       "        vertical-align: middle;\n",
       "    }\n",
       "\n",
       "    .dataframe tbody tr th {\n",
       "        vertical-align: top;\n",
       "    }\n",
       "\n",
       "    .dataframe thead th {\n",
       "        text-align: right;\n",
       "    }\n",
       "</style>\n",
       "<table border=\"1\" class=\"dataframe\">\n",
       "  <thead>\n",
       "    <tr style=\"text-align: right;\">\n",
       "      <th>dscr</th>\n",
       "      <th>Canopy</th>\n",
       "      <th>Carport</th>\n",
       "      <th>Foundation Defect</th>\n",
       "      <th>Garage</th>\n",
       "      <th>Outbuildings</th>\n",
       "      <th>Pools</th>\n",
       "    </tr>\n",
       "    <tr>\n",
       "      <th>acct</th>\n",
       "      <th></th>\n",
       "      <th></th>\n",
       "      <th></th>\n",
       "      <th></th>\n",
       "      <th></th>\n",
       "      <th></th>\n",
       "    </tr>\n",
       "  </thead>\n",
       "  <tbody>\n",
       "    <tr>\n",
       "      <th>21440000001</th>\n",
       "      <td>0</td>\n",
       "      <td>0</td>\n",
       "      <td>0</td>\n",
       "      <td>0</td>\n",
       "      <td>2</td>\n",
       "      <td>0</td>\n",
       "    </tr>\n",
       "    <tr>\n",
       "      <th>21650000007</th>\n",
       "      <td>0</td>\n",
       "      <td>0</td>\n",
       "      <td>0</td>\n",
       "      <td>0</td>\n",
       "      <td>0</td>\n",
       "      <td>1</td>\n",
       "    </tr>\n",
       "    <tr>\n",
       "      <th>21700000013</th>\n",
       "      <td>0</td>\n",
       "      <td>0</td>\n",
       "      <td>0</td>\n",
       "      <td>1</td>\n",
       "      <td>0</td>\n",
       "      <td>0</td>\n",
       "    </tr>\n",
       "    <tr>\n",
       "      <th>21750000013</th>\n",
       "      <td>0</td>\n",
       "      <td>0</td>\n",
       "      <td>0</td>\n",
       "      <td>2</td>\n",
       "      <td>0</td>\n",
       "      <td>0</td>\n",
       "    </tr>\n",
       "    <tr>\n",
       "      <th>22070000007</th>\n",
       "      <td>0</td>\n",
       "      <td>0</td>\n",
       "      <td>0</td>\n",
       "      <td>1</td>\n",
       "      <td>0</td>\n",
       "      <td>0</td>\n",
       "    </tr>\n",
       "  </tbody>\n",
       "</table>\n",
       "</div>"
      ],
      "text/plain": [
       "dscr         Canopy  Carport  Foundation Defect  Garage  Outbuildings  Pools\n",
       "acct                                                                        \n",
       "21440000001       0        0                  0       0             2      0\n",
       "21650000007       0        0                  0       0             0      1\n",
       "21700000013       0        0                  0       1             0      0\n",
       "21750000013       0        0                  0       2             0      0\n",
       "22070000007       0        0                  0       1             0      0"
      ]
     },
     "execution_count": 13,
     "metadata": {},
     "output_type": "execute_result"
    }
   ],
   "source": [
    "extra_features_pivot_count.head()"
   ]
  },
  {
   "cell_type": "code",
   "execution_count": 14,
   "metadata": {
    "ExecuteTime": {
     "end_time": "2020-07-22T03:10:57.394464Z",
     "start_time": "2020-07-22T03:10:56.911526Z"
    },
    "execution": {
     "iopub.execute_input": "2020-07-22T04:25:37.686829Z",
     "iopub.status.busy": "2020-07-22T04:25:37.686316Z",
     "iopub.status.idle": "2020-07-22T04:25:38.160570Z",
     "shell.execute_reply": "2020-07-22T04:25:38.160126Z"
    },
    "papermill": {
     "duration": 0.491355,
     "end_time": "2020-07-22T04:25:38.160688",
     "exception": false,
     "start_time": "2020-07-22T04:25:37.669333",
     "status": "completed"
    },
    "tags": []
   },
   "outputs": [],
   "source": [
    "extra_features_pivot_grade = extra_features_df.pivot_table(index='acct',\n",
    "                                                           columns='dscr',\n",
    "                                                           values='grade')"
   ]
  },
  {
   "cell_type": "code",
   "execution_count": 15,
   "metadata": {
    "ExecuteTime": {
     "end_time": "2020-07-22T03:10:57.557956Z",
     "start_time": "2020-07-22T03:10:57.530711Z"
    },
    "execution": {
     "iopub.execute_input": "2020-07-22T04:25:38.192309Z",
     "iopub.status.busy": "2020-07-22T04:25:38.191791Z",
     "iopub.status.idle": "2020-07-22T04:25:38.211192Z",
     "shell.execute_reply": "2020-07-22T04:25:38.210755Z"
    },
    "papermill": {
     "duration": 0.036272,
     "end_time": "2020-07-22T04:25:38.211320",
     "exception": false,
     "start_time": "2020-07-22T04:25:38.175048",
     "status": "completed"
    },
    "tags": []
   },
   "outputs": [
    {
     "data": {
      "text/html": [
       "<div>\n",
       "<style scoped>\n",
       "    .dataframe tbody tr th:only-of-type {\n",
       "        vertical-align: middle;\n",
       "    }\n",
       "\n",
       "    .dataframe tbody tr th {\n",
       "        vertical-align: top;\n",
       "    }\n",
       "\n",
       "    .dataframe thead th {\n",
       "        text-align: right;\n",
       "    }\n",
       "</style>\n",
       "<table border=\"1\" class=\"dataframe\">\n",
       "  <thead>\n",
       "    <tr style=\"text-align: right;\">\n",
       "      <th>dscr</th>\n",
       "      <th>Canopy</th>\n",
       "      <th>Carport</th>\n",
       "      <th>Foundation Defect</th>\n",
       "      <th>Garage</th>\n",
       "      <th>Outbuildings</th>\n",
       "      <th>Pools</th>\n",
       "    </tr>\n",
       "    <tr>\n",
       "      <th>acct</th>\n",
       "      <th></th>\n",
       "      <th></th>\n",
       "      <th></th>\n",
       "      <th></th>\n",
       "      <th></th>\n",
       "      <th></th>\n",
       "    </tr>\n",
       "  </thead>\n",
       "  <tbody>\n",
       "    <tr>\n",
       "      <th>21440000001</th>\n",
       "      <td>NaN</td>\n",
       "      <td>NaN</td>\n",
       "      <td>NaN</td>\n",
       "      <td>NaN</td>\n",
       "      <td>4.0</td>\n",
       "      <td>NaN</td>\n",
       "    </tr>\n",
       "    <tr>\n",
       "      <th>21650000007</th>\n",
       "      <td>NaN</td>\n",
       "      <td>NaN</td>\n",
       "      <td>NaN</td>\n",
       "      <td>NaN</td>\n",
       "      <td>NaN</td>\n",
       "      <td>4.0</td>\n",
       "    </tr>\n",
       "    <tr>\n",
       "      <th>21700000013</th>\n",
       "      <td>NaN</td>\n",
       "      <td>NaN</td>\n",
       "      <td>NaN</td>\n",
       "      <td>5.0</td>\n",
       "      <td>NaN</td>\n",
       "      <td>NaN</td>\n",
       "    </tr>\n",
       "    <tr>\n",
       "      <th>21750000013</th>\n",
       "      <td>NaN</td>\n",
       "      <td>NaN</td>\n",
       "      <td>NaN</td>\n",
       "      <td>4.0</td>\n",
       "      <td>NaN</td>\n",
       "      <td>NaN</td>\n",
       "    </tr>\n",
       "    <tr>\n",
       "      <th>22070000007</th>\n",
       "      <td>NaN</td>\n",
       "      <td>NaN</td>\n",
       "      <td>NaN</td>\n",
       "      <td>5.0</td>\n",
       "      <td>NaN</td>\n",
       "      <td>NaN</td>\n",
       "    </tr>\n",
       "  </tbody>\n",
       "</table>\n",
       "</div>"
      ],
      "text/plain": [
       "dscr         Canopy  Carport  Foundation Defect  Garage  Outbuildings  Pools\n",
       "acct                                                                        \n",
       "21440000001     NaN      NaN                NaN     NaN           4.0    NaN\n",
       "21650000007     NaN      NaN                NaN     NaN           NaN    4.0\n",
       "21700000013     NaN      NaN                NaN     5.0           NaN    NaN\n",
       "21750000013     NaN      NaN                NaN     4.0           NaN    NaN\n",
       "22070000007     NaN      NaN                NaN     5.0           NaN    NaN"
      ]
     },
     "execution_count": 15,
     "metadata": {},
     "output_type": "execute_result"
    }
   ],
   "source": [
    "extra_features_pivot_grade.head()"
   ]
  },
  {
   "cell_type": "code",
   "execution_count": 16,
   "metadata": {
    "ExecuteTime": {
     "end_time": "2020-07-22T03:10:58.339052Z",
     "start_time": "2020-07-22T03:10:58.228897Z"
    },
    "execution": {
     "iopub.execute_input": "2020-07-22T04:25:38.245428Z",
     "iopub.status.busy": "2020-07-22T04:25:38.244604Z",
     "iopub.status.idle": "2020-07-22T04:25:38.332020Z",
     "shell.execute_reply": "2020-07-22T04:25:38.331444Z"
    },
    "papermill": {
     "duration": 0.105613,
     "end_time": "2020-07-22T04:25:38.332152",
     "exception": false,
     "start_time": "2020-07-22T04:25:38.226539",
     "status": "completed"
    },
    "tags": []
   },
   "outputs": [],
   "source": [
    "extra_features_count_grade = extra_features_pivot_count.merge(extra_features_pivot_grade,\n",
    "                                                              how='left',\n",
    "                                                              left_index=True,\n",
    "                                                              right_index=True,\n",
    "                                                              suffixes=('_count', '_grade'),\n",
    "                                                              validate='one_to_one')"
   ]
  },
  {
   "cell_type": "code",
   "execution_count": 17,
   "metadata": {
    "ExecuteTime": {
     "end_time": "2020-07-22T03:10:58.985607Z",
     "start_time": "2020-07-22T03:10:58.940520Z"
    },
    "execution": {
     "iopub.execute_input": "2020-07-22T04:25:38.364873Z",
     "iopub.status.busy": "2020-07-22T04:25:38.364018Z",
     "iopub.status.idle": "2020-07-22T04:25:38.385936Z",
     "shell.execute_reply": "2020-07-22T04:25:38.386394Z"
    },
    "papermill": {
     "duration": 0.039826,
     "end_time": "2020-07-22T04:25:38.386544",
     "exception": false,
     "start_time": "2020-07-22T04:25:38.346718",
     "status": "completed"
    },
    "tags": []
   },
   "outputs": [
    {
     "data": {
      "text/html": [
       "<div>\n",
       "<style scoped>\n",
       "    .dataframe tbody tr th:only-of-type {\n",
       "        vertical-align: middle;\n",
       "    }\n",
       "\n",
       "    .dataframe tbody tr th {\n",
       "        vertical-align: top;\n",
       "    }\n",
       "\n",
       "    .dataframe thead th {\n",
       "        text-align: right;\n",
       "    }\n",
       "</style>\n",
       "<table border=\"1\" class=\"dataframe\">\n",
       "  <thead>\n",
       "    <tr style=\"text-align: right;\">\n",
       "      <th>dscr</th>\n",
       "      <th>Canopy_count</th>\n",
       "      <th>Carport_count</th>\n",
       "      <th>Foundation Defect_count</th>\n",
       "      <th>Garage_count</th>\n",
       "      <th>Outbuildings_count</th>\n",
       "      <th>Pools_count</th>\n",
       "      <th>Canopy_grade</th>\n",
       "      <th>Carport_grade</th>\n",
       "      <th>Foundation Defect_grade</th>\n",
       "      <th>Garage_grade</th>\n",
       "      <th>Outbuildings_grade</th>\n",
       "      <th>Pools_grade</th>\n",
       "    </tr>\n",
       "    <tr>\n",
       "      <th>acct</th>\n",
       "      <th></th>\n",
       "      <th></th>\n",
       "      <th></th>\n",
       "      <th></th>\n",
       "      <th></th>\n",
       "      <th></th>\n",
       "      <th></th>\n",
       "      <th></th>\n",
       "      <th></th>\n",
       "      <th></th>\n",
       "      <th></th>\n",
       "      <th></th>\n",
       "    </tr>\n",
       "  </thead>\n",
       "  <tbody>\n",
       "    <tr>\n",
       "      <th>21440000001</th>\n",
       "      <td>0</td>\n",
       "      <td>0</td>\n",
       "      <td>0</td>\n",
       "      <td>0</td>\n",
       "      <td>2</td>\n",
       "      <td>0</td>\n",
       "      <td>NaN</td>\n",
       "      <td>NaN</td>\n",
       "      <td>NaN</td>\n",
       "      <td>NaN</td>\n",
       "      <td>4.0</td>\n",
       "      <td>NaN</td>\n",
       "    </tr>\n",
       "    <tr>\n",
       "      <th>21650000007</th>\n",
       "      <td>0</td>\n",
       "      <td>0</td>\n",
       "      <td>0</td>\n",
       "      <td>0</td>\n",
       "      <td>0</td>\n",
       "      <td>1</td>\n",
       "      <td>NaN</td>\n",
       "      <td>NaN</td>\n",
       "      <td>NaN</td>\n",
       "      <td>NaN</td>\n",
       "      <td>NaN</td>\n",
       "      <td>4.0</td>\n",
       "    </tr>\n",
       "    <tr>\n",
       "      <th>21700000013</th>\n",
       "      <td>0</td>\n",
       "      <td>0</td>\n",
       "      <td>0</td>\n",
       "      <td>1</td>\n",
       "      <td>0</td>\n",
       "      <td>0</td>\n",
       "      <td>NaN</td>\n",
       "      <td>NaN</td>\n",
       "      <td>NaN</td>\n",
       "      <td>5.0</td>\n",
       "      <td>NaN</td>\n",
       "      <td>NaN</td>\n",
       "    </tr>\n",
       "    <tr>\n",
       "      <th>21750000013</th>\n",
       "      <td>0</td>\n",
       "      <td>0</td>\n",
       "      <td>0</td>\n",
       "      <td>2</td>\n",
       "      <td>0</td>\n",
       "      <td>0</td>\n",
       "      <td>NaN</td>\n",
       "      <td>NaN</td>\n",
       "      <td>NaN</td>\n",
       "      <td>4.0</td>\n",
       "      <td>NaN</td>\n",
       "      <td>NaN</td>\n",
       "    </tr>\n",
       "    <tr>\n",
       "      <th>22070000007</th>\n",
       "      <td>0</td>\n",
       "      <td>0</td>\n",
       "      <td>0</td>\n",
       "      <td>1</td>\n",
       "      <td>0</td>\n",
       "      <td>0</td>\n",
       "      <td>NaN</td>\n",
       "      <td>NaN</td>\n",
       "      <td>NaN</td>\n",
       "      <td>5.0</td>\n",
       "      <td>NaN</td>\n",
       "      <td>NaN</td>\n",
       "    </tr>\n",
       "  </tbody>\n",
       "</table>\n",
       "</div>"
      ],
      "text/plain": [
       "dscr         Canopy_count  Carport_count  Foundation Defect_count  \\\n",
       "acct                                                                \n",
       "21440000001             0              0                        0   \n",
       "21650000007             0              0                        0   \n",
       "21700000013             0              0                        0   \n",
       "21750000013             0              0                        0   \n",
       "22070000007             0              0                        0   \n",
       "\n",
       "dscr         Garage_count  Outbuildings_count  Pools_count  Canopy_grade  \\\n",
       "acct                                                                       \n",
       "21440000001             0                   2            0           NaN   \n",
       "21650000007             0                   0            1           NaN   \n",
       "21700000013             1                   0            0           NaN   \n",
       "21750000013             2                   0            0           NaN   \n",
       "22070000007             1                   0            0           NaN   \n",
       "\n",
       "dscr         Carport_grade  Foundation Defect_grade  Garage_grade  \\\n",
       "acct                                                                \n",
       "21440000001            NaN                      NaN           NaN   \n",
       "21650000007            NaN                      NaN           NaN   \n",
       "21700000013            NaN                      NaN           5.0   \n",
       "21750000013            NaN                      NaN           4.0   \n",
       "22070000007            NaN                      NaN           5.0   \n",
       "\n",
       "dscr         Outbuildings_grade  Pools_grade  \n",
       "acct                                          \n",
       "21440000001                 4.0          NaN  \n",
       "21650000007                 NaN          4.0  \n",
       "21700000013                 NaN          NaN  \n",
       "21750000013                 NaN          NaN  \n",
       "22070000007                 NaN          NaN  "
      ]
     },
     "execution_count": 17,
     "metadata": {},
     "output_type": "execute_result"
    }
   ],
   "source": [
    "extra_features_count_grade.head()"
   ]
  },
  {
   "cell_type": "code",
   "execution_count": 18,
   "metadata": {
    "ExecuteTime": {
     "end_time": "2020-07-22T03:11:04.980975Z",
     "start_time": "2020-07-22T03:11:04.923561Z"
    },
    "execution": {
     "iopub.execute_input": "2020-07-22T04:25:38.420172Z",
     "iopub.status.busy": "2020-07-22T04:25:38.419530Z",
     "iopub.status.idle": "2020-07-22T04:25:38.430045Z",
     "shell.execute_reply": "2020-07-22T04:25:38.430453Z"
    },
    "papermill": {
     "duration": 0.02914,
     "end_time": "2020-07-22T04:25:38.430631",
     "exception": false,
     "start_time": "2020-07-22T04:25:38.401491",
     "status": "completed"
    },
    "tags": []
   },
   "outputs": [],
   "source": [
    "assert extra_features_count_grade.index.is_unique"
   ]
  },
  {
   "cell_type": "markdown",
   "metadata": {
    "papermill": {
     "duration": 0.015391,
     "end_time": "2020-07-22T04:25:38.460840",
     "exception": false,
     "start_time": "2020-07-22T04:25:38.445449",
     "status": "completed"
    },
    "tags": []
   },
   "source": [
    "add `acct` column to make easier the merging process ahead"
   ]
  },
  {
   "cell_type": "code",
   "execution_count": 19,
   "metadata": {
    "ExecuteTime": {
     "end_time": "2020-07-22T03:11:08.298666Z",
     "start_time": "2020-07-22T03:11:08.255047Z"
    },
    "execution": {
     "iopub.execute_input": "2020-07-22T04:25:38.494430Z",
     "iopub.status.busy": "2020-07-22T04:25:38.493899Z",
     "iopub.status.idle": "2020-07-22T04:25:38.505653Z",
     "shell.execute_reply": "2020-07-22T04:25:38.505202Z"
    },
    "papermill": {
     "duration": 0.029809,
     "end_time": "2020-07-22T04:25:38.505775",
     "exception": false,
     "start_time": "2020-07-22T04:25:38.475966",
     "status": "completed"
    },
    "tags": []
   },
   "outputs": [],
   "source": [
    "extra_features_count_grade.reset_index(inplace=True)"
   ]
  },
  {
   "cell_type": "markdown",
   "metadata": {
    "papermill": {
     "duration": 0.016069,
     "end_time": "2020-07-22T04:25:38.538219",
     "exception": false,
     "start_time": "2020-07-22T04:25:38.522150",
     "status": "completed"
    },
    "tags": []
   },
   "source": [
    "# Export real_acct"
   ]
  },
  {
   "cell_type": "code",
   "execution_count": 20,
   "metadata": {
    "ExecuteTime": {
     "end_time": "2020-07-22T03:11:44.015123Z",
     "start_time": "2020-07-22T03:11:43.943731Z"
    },
    "execution": {
     "iopub.execute_input": "2020-07-22T04:25:38.572344Z",
     "iopub.status.busy": "2020-07-22T04:25:38.571730Z",
     "iopub.status.idle": "2020-07-22T04:25:38.616393Z",
     "shell.execute_reply": "2020-07-22T04:25:38.615955Z"
    },
    "papermill": {
     "duration": 0.063044,
     "end_time": "2020-07-22T04:25:38.616513",
     "exception": false,
     "start_time": "2020-07-22T04:25:38.553469",
     "status": "completed"
    },
    "tags": []
   },
   "outputs": [],
   "source": [
    "save_fn = ROOT_DIR / 'data/raw/2016/extra_features_count_grade_comps.pickle'\n",
    "save_pickle(extra_features_count_grade, save_fn)"
   ]
  }
 ],
 "metadata": {
  "kernelspec": {
   "display_name": "hcad_pred",
   "language": "python",
   "name": "hcad_pred"
  },
  "language_info": {
   "codemirror_mode": {
    "name": "ipython",
    "version": 3
   },
   "file_extension": ".py",
   "mimetype": "text/x-python",
   "name": "python",
   "nbconvert_exporter": "python",
   "pygments_lexer": "ipython3",
   "version": "3.7.6"
  },
  "papermill": {
   "duration": 6.281625,
   "end_time": "2020-07-22T04:25:38.938475",
   "environment_variables": {},
   "exception": null,
   "input_path": "/media/hdd/projects/springboard/hcad_pred/notebooks/01_Exploratory/1.3-rp-hcad-data-view-extra_features.ipynb",
   "output_path": "/media/hdd/projects/springboard/hcad_pred/notebooks/01_Exploratory/output/1.3-rp-hcad-data-view-extra_features_20200721.ipynb",
   "parameters": {},
   "start_time": "2020-07-22T04:25:32.656850",
   "version": "2.1.2"
  },
  "toc": {
   "base_numbering": 1,
   "nav_menu": {},
   "number_sections": true,
   "sideBar": true,
   "skip_h1_title": false,
   "title_cell": "Table of Contents",
   "title_sidebar": "Contents",
   "toc_cell": false,
   "toc_position": {},
   "toc_section_display": true,
   "toc_window_display": false
  }
 },
 "nbformat": 4,
 "nbformat_minor": 4
}