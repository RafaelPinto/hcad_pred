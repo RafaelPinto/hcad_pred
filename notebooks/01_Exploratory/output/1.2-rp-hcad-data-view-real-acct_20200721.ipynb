{
 "cells": [
  {
   "cell_type": "markdown",
   "metadata": {
    "papermill": {
     "duration": 0.023867,
     "end_time": "2020-07-22T04:25:13.918965",
     "exception": false,
     "start_time": "2020-07-22T04:25:13.895098",
     "status": "completed"
    },
    "tags": []
   },
   "source": [
    "# Find the comparables: real_acc.txt\n",
    "\n",
    "The file `real_acc.txt` contains important property information like number total appraised value (the target on this exercise), neighborhood, school district, economic group, land value, and more. Let's load this file and grab a subset with the important columns to continue our study."
   ]
  },
  {
   "cell_type": "code",
   "execution_count": 1,
   "metadata": {
    "ExecuteTime": {
     "end_time": "2020-07-22T03:08:02.282701Z",
     "start_time": "2020-07-22T03:08:02.194733Z"
    },
    "execution": {
     "iopub.execute_input": "2020-07-22T04:25:13.949908Z",
     "iopub.status.busy": "2020-07-22T04:25:13.949334Z",
     "iopub.status.idle": "2020-07-22T04:25:13.961042Z",
     "shell.execute_reply": "2020-07-22T04:25:13.960550Z"
    },
    "papermill": {
     "duration": 0.02521,
     "end_time": "2020-07-22T04:25:13.961186",
     "exception": false,
     "start_time": "2020-07-22T04:25:13.935976",
     "status": "completed"
    },
    "tags": []
   },
   "outputs": [],
   "source": [
    "%load_ext autoreload\n",
    "%autoreload 2"
   ]
  },
  {
   "cell_type": "code",
   "execution_count": 2,
   "metadata": {
    "ExecuteTime": {
     "end_time": "2020-07-22T03:08:03.288449Z",
     "start_time": "2020-07-22T03:08:02.873205Z"
    },
    "execution": {
     "iopub.execute_input": "2020-07-22T04:25:13.980031Z",
     "iopub.status.busy": "2020-07-22T04:25:13.979495Z",
     "iopub.status.idle": "2020-07-22T04:25:14.548005Z",
     "shell.execute_reply": "2020-07-22T04:25:14.547486Z"
    },
    "papermill": {
     "duration": 0.579656,
     "end_time": "2020-07-22T04:25:14.548123",
     "exception": false,
     "start_time": "2020-07-22T04:25:13.968467",
     "status": "completed"
    },
    "tags": []
   },
   "outputs": [],
   "source": [
    "from pathlib import Path\n",
    "import pickle\n",
    "\n",
    "import pandas as pd\n",
    "\n",
    "from src.definitions import ROOT_DIR\n",
    "from src.data.utils import Table, save_pickle"
   ]
  },
  {
   "cell_type": "code",
   "execution_count": 3,
   "metadata": {
    "ExecuteTime": {
     "end_time": "2020-07-22T03:08:03.965247Z",
     "start_time": "2020-07-22T03:08:03.935671Z"
    },
    "execution": {
     "iopub.execute_input": "2020-07-22T04:25:14.578996Z",
     "iopub.status.busy": "2020-07-22T04:25:14.578481Z",
     "iopub.status.idle": "2020-07-22T04:25:14.590706Z",
     "shell.execute_reply": "2020-07-22T04:25:14.590265Z"
    },
    "papermill": {
     "duration": 0.035254,
     "end_time": "2020-07-22T04:25:14.590827",
     "exception": false,
     "start_time": "2020-07-22T04:25:14.555573",
     "status": "completed"
    },
    "tags": []
   },
   "outputs": [],
   "source": [
    "real_acct_fn = ROOT_DIR / 'data/external/2016/Real_acct_owner/real_acct.txt'\n",
    "assert real_acct_fn.exists()"
   ]
  },
  {
   "cell_type": "code",
   "execution_count": 4,
   "metadata": {
    "ExecuteTime": {
     "end_time": "2020-07-22T03:08:06.569877Z",
     "start_time": "2020-07-22T03:08:06.547715Z"
    },
    "execution": {
     "iopub.execute_input": "2020-07-22T04:25:14.630825Z",
     "iopub.status.busy": "2020-07-22T04:25:14.630088Z",
     "iopub.status.idle": "2020-07-22T04:25:14.642572Z",
     "shell.execute_reply": "2020-07-22T04:25:14.642098Z"
    },
    "papermill": {
     "duration": 0.036585,
     "end_time": "2020-07-22T04:25:14.642693",
     "exception": false,
     "start_time": "2020-07-22T04:25:14.606108",
     "status": "completed"
    },
    "tags": []
   },
   "outputs": [],
   "source": [
    "real_acct = Table(real_acct_fn, '2016')"
   ]
  },
  {
   "cell_type": "code",
   "execution_count": 5,
   "metadata": {
    "ExecuteTime": {
     "end_time": "2020-07-22T03:08:07.842992Z",
     "start_time": "2020-07-22T03:08:07.770333Z"
    },
    "execution": {
     "iopub.execute_input": "2020-07-22T04:25:14.662042Z",
     "iopub.status.busy": "2020-07-22T04:25:14.661499Z",
     "iopub.status.idle": "2020-07-22T04:25:14.679928Z",
     "shell.execute_reply": "2020-07-22T04:25:14.679494Z"
    },
    "papermill": {
     "duration": 0.03006,
     "end_time": "2020-07-22T04:25:14.680047",
     "exception": false,
     "start_time": "2020-07-22T04:25:14.649987",
     "status": "completed"
    },
    "scrolled": true,
    "tags": []
   },
   "outputs": [
    {
     "data": {
      "text/plain": [
       "['acct',\n",
       " 'yr',\n",
       " 'mailto',\n",
       " 'mail_addr_1',\n",
       " 'mail_addr_2',\n",
       " 'mail_city',\n",
       " 'mail_state',\n",
       " 'mail_zip',\n",
       " 'mail_country',\n",
       " 'undeliverable',\n",
       " 'str_pfx',\n",
       " 'str_num',\n",
       " 'str_num_sfx',\n",
       " 'str',\n",
       " 'str_sfx',\n",
       " 'str_sfx_dir',\n",
       " 'str_unit',\n",
       " 'site_addr_1',\n",
       " 'site_addr_2',\n",
       " 'site_addr_3',\n",
       " 'state_class',\n",
       " 'school_dist',\n",
       " 'map_facet',\n",
       " 'key_map',\n",
       " 'Neighborhood_Code',\n",
       " 'Neighborhood_Grp',\n",
       " 'Market_Area_1',\n",
       " 'Market_Area_1_Dscr',\n",
       " 'Market_Area_2',\n",
       " 'Market_Area_2_Dscr',\n",
       " 'econ_area',\n",
       " 'econ_bld_class',\n",
       " 'center_code',\n",
       " 'yr_impr',\n",
       " 'yr_annexed',\n",
       " 'splt_dt',\n",
       " 'dsc_cd',\n",
       " 'nxt_bld',\n",
       " 'bld_ar',\n",
       " 'land_ar',\n",
       " 'acreage',\n",
       " 'Cap_acct',\n",
       " 'shared_cad',\n",
       " 'land_val',\n",
       " 'bld_val',\n",
       " 'x_features_val',\n",
       " 'ag_val',\n",
       " 'assessed_val',\n",
       " 'tot_appr_val',\n",
       " 'tot_mkt_val',\n",
       " 'prior_land_val',\n",
       " 'prior_bld_val',\n",
       " 'prior_x_features_val',\n",
       " 'prior_ag_val',\n",
       " 'prior_tot_appr_val',\n",
       " 'prior_tot_mkt_val',\n",
       " 'new_construction_val',\n",
       " 'tot_rcn_val',\n",
       " 'value_status',\n",
       " 'noticed',\n",
       " 'notice_dt',\n",
       " 'protested',\n",
       " 'certified_date',\n",
       " 'rev_dt',\n",
       " 'rev_by',\n",
       " 'new_own_dt',\n",
       " 'lgl_1',\n",
       " 'lgl_2',\n",
       " 'lgl_3',\n",
       " 'lgl_4',\n",
       " 'jurs']"
      ]
     },
     "execution_count": 5,
     "metadata": {},
     "output_type": "execute_result"
    }
   ],
   "source": [
    "real_acct.get_header()"
   ]
  },
  {
   "cell_type": "markdown",
   "metadata": {
    "papermill": {
     "duration": 0.007887,
     "end_time": "2020-07-22T04:25:14.695819",
     "exception": false,
     "start_time": "2020-07-22T04:25:14.687932",
     "status": "completed"
    },
    "tags": []
   },
   "source": [
    "# Load accounts and columns of interest\n",
    "Let's remove the account numbers that don't meet free-standing single-family home criteria that we found while processing the `building_res.txt` file.\n",
    "\n",
    "Also, the columns above show a lot of value information along property groups that might come in handy when predicting the appraised value. Now let's get a slice of some of the important columns."
   ]
  },
  {
   "cell_type": "code",
   "execution_count": 6,
   "metadata": {
    "ExecuteTime": {
     "end_time": "2020-07-22T03:08:46.709658Z",
     "start_time": "2020-07-22T03:08:40.603479Z"
    },
    "execution": {
     "iopub.execute_input": "2020-07-22T04:25:14.715495Z",
     "iopub.status.busy": "2020-07-22T04:25:14.714983Z",
     "iopub.status.idle": "2020-07-22T04:25:23.855007Z",
     "shell.execute_reply": "2020-07-22T04:25:23.855411Z"
    },
    "papermill": {
     "duration": 9.151563,
     "end_time": "2020-07-22T04:25:23.855555",
     "exception": false,
     "start_time": "2020-07-22T04:25:14.703992",
     "status": "completed"
    },
    "tags": []
   },
   "outputs": [],
   "source": [
    "skiprows = real_acct.get_skiprows()"
   ]
  },
  {
   "cell_type": "code",
   "execution_count": 7,
   "metadata": {
    "ExecuteTime": {
     "end_time": "2020-07-22T03:08:49.438708Z",
     "start_time": "2020-07-22T03:08:49.412745Z"
    },
    "execution": {
     "iopub.execute_input": "2020-07-22T04:25:23.874799Z",
     "iopub.status.busy": "2020-07-22T04:25:23.874277Z",
     "iopub.status.idle": "2020-07-22T04:25:23.885997Z",
     "shell.execute_reply": "2020-07-22T04:25:23.885391Z"
    },
    "papermill": {
     "duration": 0.022728,
     "end_time": "2020-07-22T04:25:23.886122",
     "exception": false,
     "start_time": "2020-07-22T04:25:23.863394",
     "status": "completed"
    },
    "tags": []
   },
   "outputs": [],
   "source": [
    "cols = [\n",
    "    'acct',\n",
    "    'site_addr_3', # Zip\n",
    "    'school_dist',\n",
    "    'Neighborhood_Code',\n",
    "    'Market_Area_1_Dscr',\n",
    "    'Market_Area_2_Dscr',\n",
    "    'center_code',\n",
    "    'bld_ar',\n",
    "    'land_ar',\n",
    "    'acreage',\n",
    "    'land_val',\n",
    "    'tot_appr_val', # Target\n",
    "    'prior_land_val',\n",
    "    'prior_tot_appr_val',\n",
    "    'new_own_dt',  # New owner date\n",
    "]"
   ]
  },
  {
   "cell_type": "code",
   "execution_count": 8,
   "metadata": {
    "ExecuteTime": {
     "end_time": "2020-07-22T03:09:15.378315Z",
     "start_time": "2020-07-22T03:09:07.790741Z"
    },
    "execution": {
     "iopub.execute_input": "2020-07-22T04:25:23.906163Z",
     "iopub.status.busy": "2020-07-22T04:25:23.905644Z",
     "iopub.status.idle": "2020-07-22T04:25:31.679811Z",
     "shell.execute_reply": "2020-07-22T04:25:31.680246Z"
    },
    "papermill": {
     "duration": 7.785614,
     "end_time": "2020-07-22T04:25:31.680434",
     "exception": false,
     "start_time": "2020-07-22T04:25:23.894820",
     "status": "completed"
    },
    "tags": []
   },
   "outputs": [],
   "source": [
    "real_acct_df = real_acct.get_df(skiprows=skiprows, usecols=cols)"
   ]
  },
  {
   "cell_type": "code",
   "execution_count": 9,
   "metadata": {
    "ExecuteTime": {
     "end_time": "2020-07-22T03:09:17.064800Z",
     "start_time": "2020-07-22T03:09:17.016160Z"
    },
    "execution": {
     "iopub.execute_input": "2020-07-22T04:25:31.700024Z",
     "iopub.status.busy": "2020-07-22T04:25:31.699516Z",
     "iopub.status.idle": "2020-07-22T04:25:31.726059Z",
     "shell.execute_reply": "2020-07-22T04:25:31.726444Z"
    },
    "papermill": {
     "duration": 0.038279,
     "end_time": "2020-07-22T04:25:31.726594",
     "exception": false,
     "start_time": "2020-07-22T04:25:31.688315",
     "status": "completed"
    },
    "tags": []
   },
   "outputs": [
    {
     "data": {
      "text/html": [
       "<div>\n",
       "<style scoped>\n",
       "    .dataframe tbody tr th:only-of-type {\n",
       "        vertical-align: middle;\n",
       "    }\n",
       "\n",
       "    .dataframe tbody tr th {\n",
       "        vertical-align: top;\n",
       "    }\n",
       "\n",
       "    .dataframe thead th {\n",
       "        text-align: right;\n",
       "    }\n",
       "</style>\n",
       "<table border=\"1\" class=\"dataframe\">\n",
       "  <thead>\n",
       "    <tr style=\"text-align: right;\">\n",
       "      <th></th>\n",
       "      <th>acct</th>\n",
       "      <th>site_addr_3</th>\n",
       "      <th>school_dist</th>\n",
       "      <th>Neighborhood_Code</th>\n",
       "      <th>Market_Area_1_Dscr</th>\n",
       "      <th>Market_Area_2_Dscr</th>\n",
       "      <th>center_code</th>\n",
       "      <th>bld_ar</th>\n",
       "      <th>land_ar</th>\n",
       "      <th>acreage</th>\n",
       "      <th>land_val</th>\n",
       "      <th>tot_appr_val</th>\n",
       "      <th>prior_land_val</th>\n",
       "      <th>prior_tot_appr_val</th>\n",
       "      <th>new_own_dt</th>\n",
       "    </tr>\n",
       "  </thead>\n",
       "  <tbody>\n",
       "    <tr>\n",
       "      <th>0</th>\n",
       "      <td>21440000001</td>\n",
       "      <td>77003</td>\n",
       "      <td>01</td>\n",
       "      <td>8400.12</td>\n",
       "      <td>1C Midtown, Riverside Terrace, University Areas</td>\n",
       "      <td>1C Midtown, Riverside Terrace, University Areas</td>\n",
       "      <td>61</td>\n",
       "      <td>2537</td>\n",
       "      <td>5000</td>\n",
       "      <td>0.1148</td>\n",
       "      <td>125000.0</td>\n",
       "      <td>145200.0</td>\n",
       "      <td>75000.0</td>\n",
       "      <td>132000.0</td>\n",
       "      <td>2012-09-11 00:00:00.000</td>\n",
       "    </tr>\n",
       "    <tr>\n",
       "      <th>1</th>\n",
       "      <td>21470000008</td>\n",
       "      <td>77003</td>\n",
       "      <td>01</td>\n",
       "      <td>8400.12</td>\n",
       "      <td>1C Midtown, Riverside Terrace, University Areas</td>\n",
       "      <td>1C Midtown, Riverside Terrace, University Areas</td>\n",
       "      <td>61</td>\n",
       "      <td>1000</td>\n",
       "      <td>5000</td>\n",
       "      <td>0.1148</td>\n",
       "      <td>74900.0</td>\n",
       "      <td>75000.0</td>\n",
       "      <td>64000.0</td>\n",
       "      <td>65000.0</td>\n",
       "      <td>1988-01-02 00:00:00.000</td>\n",
       "    </tr>\n",
       "    <tr>\n",
       "      <th>2</th>\n",
       "      <td>21480000002</td>\n",
       "      <td>77003</td>\n",
       "      <td>01</td>\n",
       "      <td>8400.12</td>\n",
       "      <td>1C Midtown, Riverside Terrace, University Areas</td>\n",
       "      <td>1C Midtown, Riverside Terrace, University Areas</td>\n",
       "      <td>61</td>\n",
       "      <td>1496</td>\n",
       "      <td>5000</td>\n",
       "      <td>0.1148</td>\n",
       "      <td>125000.0</td>\n",
       "      <td>85929.0</td>\n",
       "      <td>75000.0</td>\n",
       "      <td>78118.0</td>\n",
       "      <td>2004-07-28 00:00:00.000</td>\n",
       "    </tr>\n",
       "    <tr>\n",
       "      <th>3</th>\n",
       "      <td>21650000007</td>\n",
       "      <td>77003</td>\n",
       "      <td>01</td>\n",
       "      <td>8400.12</td>\n",
       "      <td>1C Midtown, Riverside Terrace, University Areas</td>\n",
       "      <td>1C Midtown, Riverside Terrace, University Areas</td>\n",
       "      <td>61</td>\n",
       "      <td>3387</td>\n",
       "      <td>5000</td>\n",
       "      <td>0.1148</td>\n",
       "      <td>125000.0</td>\n",
       "      <td>549004.0</td>\n",
       "      <td>75000.0</td>\n",
       "      <td>75000.0</td>\n",
       "      <td>2013-10-14 00:00:00.000</td>\n",
       "    </tr>\n",
       "    <tr>\n",
       "      <th>4</th>\n",
       "      <td>21650000011</td>\n",
       "      <td>77003</td>\n",
       "      <td>01</td>\n",
       "      <td>8400.12</td>\n",
       "      <td>1C Midtown, Riverside Terrace, University Areas</td>\n",
       "      <td>1C Midtown, Riverside Terrace, University Areas</td>\n",
       "      <td>61</td>\n",
       "      <td>1508</td>\n",
       "      <td>6250</td>\n",
       "      <td>0.1435</td>\n",
       "      <td>140625.0</td>\n",
       "      <td>181370.0</td>\n",
       "      <td>84375.0</td>\n",
       "      <td>164882.0</td>\n",
       "      <td>2001-05-05 00:00:00.000</td>\n",
       "    </tr>\n",
       "  </tbody>\n",
       "</table>\n",
       "</div>"
      ],
      "text/plain": [
       "          acct site_addr_3 school_dist  Neighborhood_Code  \\\n",
       "0  21440000001       77003       01               8400.12   \n",
       "1  21470000008       77003       01               8400.12   \n",
       "2  21480000002       77003       01               8400.12   \n",
       "3  21650000007       77003       01               8400.12   \n",
       "4  21650000011       77003       01               8400.12   \n",
       "\n",
       "                                Market_Area_1_Dscr  \\\n",
       "0  1C Midtown, Riverside Terrace, University Areas   \n",
       "1  1C Midtown, Riverside Terrace, University Areas   \n",
       "2  1C Midtown, Riverside Terrace, University Areas   \n",
       "3  1C Midtown, Riverside Terrace, University Areas   \n",
       "4  1C Midtown, Riverside Terrace, University Areas   \n",
       "\n",
       "                                Market_Area_2_Dscr center_code  bld_ar  \\\n",
       "0  1C Midtown, Riverside Terrace, University Areas       61       2537   \n",
       "1  1C Midtown, Riverside Terrace, University Areas       61       1000   \n",
       "2  1C Midtown, Riverside Terrace, University Areas       61       1496   \n",
       "3  1C Midtown, Riverside Terrace, University Areas       61       3387   \n",
       "4  1C Midtown, Riverside Terrace, University Areas       61       1508   \n",
       "\n",
       "   land_ar  acreage  land_val  tot_appr_val  prior_land_val  \\\n",
       "0     5000   0.1148  125000.0      145200.0         75000.0   \n",
       "1     5000   0.1148   74900.0       75000.0         64000.0   \n",
       "2     5000   0.1148  125000.0       85929.0         75000.0   \n",
       "3     5000   0.1148  125000.0      549004.0         75000.0   \n",
       "4     6250   0.1435  140625.0      181370.0         84375.0   \n",
       "\n",
       "   prior_tot_appr_val               new_own_dt  \n",
       "0            132000.0  2012-09-11 00:00:00.000  \n",
       "1             65000.0  1988-01-02 00:00:00.000  \n",
       "2             78118.0  2004-07-28 00:00:00.000  \n",
       "3             75000.0  2013-10-14 00:00:00.000  \n",
       "4            164882.0  2001-05-05 00:00:00.000  "
      ]
     },
     "execution_count": 9,
     "metadata": {},
     "output_type": "execute_result"
    }
   ],
   "source": [
    "real_acct_df.head()"
   ]
  },
  {
   "cell_type": "markdown",
   "metadata": {
    "papermill": {
     "duration": 0.009327,
     "end_time": "2020-07-22T04:25:31.744503",
     "exception": false,
     "start_time": "2020-07-22T04:25:31.735176",
     "status": "completed"
    },
    "tags": []
   },
   "source": [
    "Double check if the there is only one account number per row"
   ]
  },
  {
   "cell_type": "code",
   "execution_count": 10,
   "metadata": {
    "ExecuteTime": {
     "end_time": "2020-07-22T03:09:21.640499Z",
     "start_time": "2020-07-22T03:09:21.520171Z"
    },
    "execution": {
     "iopub.execute_input": "2020-07-22T04:25:31.765695Z",
     "iopub.status.busy": "2020-07-22T04:25:31.765148Z",
     "iopub.status.idle": "2020-07-22T04:25:31.867507Z",
     "shell.execute_reply": "2020-07-22T04:25:31.867003Z"
    },
    "papermill": {
     "duration": 0.114296,
     "end_time": "2020-07-22T04:25:31.867621",
     "exception": false,
     "start_time": "2020-07-22T04:25:31.753325",
     "status": "completed"
    },
    "tags": []
   },
   "outputs": [],
   "source": [
    "assert real_acct_df['acct'].is_unique"
   ]
  },
  {
   "cell_type": "markdown",
   "metadata": {
    "papermill": {
     "duration": 0.008699,
     "end_time": "2020-07-22T04:25:31.884949",
     "exception": false,
     "start_time": "2020-07-22T04:25:31.876250",
     "status": "completed"
    },
    "tags": []
   },
   "source": [
    "# Export real_acct"
   ]
  },
  {
   "cell_type": "code",
   "execution_count": 11,
   "metadata": {
    "ExecuteTime": {
     "end_time": "2020-07-22T03:09:23.358818Z",
     "start_time": "2020-07-22T03:09:22.916828Z"
    },
    "execution": {
     "iopub.execute_input": "2020-07-22T04:25:31.907630Z",
     "iopub.status.busy": "2020-07-22T04:25:31.906674Z",
     "iopub.status.idle": "2020-07-22T04:25:32.285934Z",
     "shell.execute_reply": "2020-07-22T04:25:32.285343Z"
    },
    "papermill": {
     "duration": 0.392284,
     "end_time": "2020-07-22T04:25:32.286052",
     "exception": false,
     "start_time": "2020-07-22T04:25:31.893768",
     "status": "completed"
    },
    "tags": []
   },
   "outputs": [],
   "source": [
    "save_fn = ROOT_DIR / 'data/raw/2016/real_acct_comps.pickle'\n",
    "save_pickle(real_acct_df, save_fn)"
   ]
  }
 ],
 "metadata": {
  "kernelspec": {
   "display_name": "hcad_pred",
   "language": "python",
   "name": "hcad_pred"
  },
  "language_info": {
   "codemirror_mode": {
    "name": "ipython",
    "version": 3
   },
   "file_extension": ".py",
   "mimetype": "text/x-python",
   "name": "python",
   "nbconvert_exporter": "python",
   "pygments_lexer": "ipython3",
   "version": "3.7.6"
  },
  "papermill": {
   "duration": 19.608084,
   "end_time": "2020-07-22T04:25:32.601967",
   "environment_variables": {},
   "exception": null,
   "input_path": "/media/hdd/projects/springboard/hcad_pred/notebooks/01_Exploratory/1.2-rp-hcad-data-view-real-acct.ipynb",
   "output_path": "/media/hdd/projects/springboard/hcad_pred/notebooks/01_Exploratory/output/1.2-rp-hcad-data-view-real-acct_20200721.ipynb",
   "parameters": {},
   "start_time": "2020-07-22T04:25:12.993883",
   "version": "2.1.2"
  },
  "toc": {
   "base_numbering": 1,
   "nav_menu": {},
   "number_sections": true,
   "sideBar": true,
   "skip_h1_title": false,
   "title_cell": "Table of Contents",
   "title_sidebar": "Contents",
   "toc_cell": false,
   "toc_position": {},
   "toc_section_display": true,
   "toc_window_display": false
  }
 },
 "nbformat": 4,
 "nbformat_minor": 4
}