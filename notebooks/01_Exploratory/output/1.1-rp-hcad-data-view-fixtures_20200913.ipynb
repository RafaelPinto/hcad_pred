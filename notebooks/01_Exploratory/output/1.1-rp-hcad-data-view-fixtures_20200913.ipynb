{
 "cells": [
  {
   "cell_type": "markdown",
   "metadata": {
    "papermill": {
     "duration": 0.026139,
     "end_time": "2020-09-13T12:43:49.356846",
     "exception": false,
     "start_time": "2020-09-13T12:43:49.330707",
     "status": "completed"
    },
    "tags": []
   },
   "source": [
    "# Find the comparables: fixtures.txt\n",
    "\n",
    "The file `fixtures.txt` contains important property features like number of bedrooms, full baths, half baths, and more. It comes as a melted table, so we need to use the pivot_table method on the dataframe instance to shape it to a table with one observation per row (account number)."
   ]
  },
  {
   "cell_type": "code",
   "execution_count": 1,
   "metadata": {
    "ExecuteTime": {
     "end_time": "2020-07-28T10:37:57.005923Z",
     "start_time": "2020-07-28T10:37:56.988122Z"
    },
    "execution": {
     "iopub.execute_input": "2020-09-13T12:43:49.404902Z",
     "iopub.status.busy": "2020-09-13T12:43:49.404115Z",
     "iopub.status.idle": "2020-09-13T12:43:49.420551Z",
     "shell.execute_reply": "2020-09-13T12:43:49.419870Z"
    },
    "papermill": {
     "duration": 0.041766,
     "end_time": "2020-09-13T12:43:49.420731",
     "exception": false,
     "start_time": "2020-09-13T12:43:49.378965",
     "status": "completed"
    },
    "tags": []
   },
   "outputs": [],
   "source": [
    "%load_ext autoreload\n",
    "%autoreload 2"
   ]
  },
  {
   "cell_type": "code",
   "execution_count": 2,
   "metadata": {
    "ExecuteTime": {
     "end_time": "2020-07-28T10:37:57.426155Z",
     "start_time": "2020-07-28T10:37:57.008192Z"
    },
    "execution": {
     "iopub.execute_input": "2020-09-13T12:43:49.465571Z",
     "iopub.status.busy": "2020-09-13T12:43:49.464661Z",
     "iopub.status.idle": "2020-09-13T12:43:49.898660Z",
     "shell.execute_reply": "2020-09-13T12:43:49.899343Z"
    },
    "papermill": {
     "duration": 0.458548,
     "end_time": "2020-09-13T12:43:49.899578",
     "exception": false,
     "start_time": "2020-09-13T12:43:49.441030",
     "status": "completed"
    },
    "tags": []
   },
   "outputs": [],
   "source": [
    "from pathlib import Path\n",
    "import pickle\n",
    "\n",
    "import pandas as pd\n",
    "\n",
    "from src.definitions import ROOT_DIR\n",
    "from src.data.utils import Table, save_pickle"
   ]
  },
  {
   "cell_type": "code",
   "execution_count": 3,
   "metadata": {
    "ExecuteTime": {
     "end_time": "2020-07-28T10:37:57.444724Z",
     "start_time": "2020-07-28T10:37:57.427898Z"
    },
    "execution": {
     "iopub.execute_input": "2020-09-13T12:43:49.964237Z",
     "iopub.status.busy": "2020-09-13T12:43:49.963655Z",
     "iopub.status.idle": "2020-09-13T12:43:49.979247Z",
     "shell.execute_reply": "2020-09-13T12:43:49.979744Z"
    },
    "papermill": {
     "duration": 0.051019,
     "end_time": "2020-09-13T12:43:49.979924",
     "exception": false,
     "start_time": "2020-09-13T12:43:49.928905",
     "status": "completed"
    },
    "tags": []
   },
   "outputs": [],
   "source": [
    "fixtures_fn = ROOT_DIR / 'data/external/2016/Real_building_land/fixtures.txt'\n",
    "assert fixtures_fn.exists()"
   ]
  },
  {
   "cell_type": "markdown",
   "metadata": {
    "papermill": {
     "duration": 0.021203,
     "end_time": "2020-09-13T12:43:50.020915",
     "exception": false,
     "start_time": "2020-09-13T12:43:49.999712",
     "status": "completed"
    },
    "tags": []
   },
   "source": [
    "## Load accounts of interest\n",
    "Let's load only the account numbers that meet the free-standing single-family home criteria that we found while processing the `building_res.txt` file."
   ]
  },
  {
   "cell_type": "code",
   "execution_count": 4,
   "metadata": {
    "ExecuteTime": {
     "end_time": "2020-07-28T10:37:57.460138Z",
     "start_time": "2020-07-28T10:37:57.446977Z"
    },
    "execution": {
     "iopub.execute_input": "2020-09-13T12:43:50.068169Z",
     "iopub.status.busy": "2020-09-13T12:43:50.067337Z",
     "iopub.status.idle": "2020-09-13T12:43:50.081693Z",
     "shell.execute_reply": "2020-09-13T12:43:50.082411Z"
    },
    "papermill": {
     "duration": 0.040627,
     "end_time": "2020-09-13T12:43:50.082639",
     "exception": false,
     "start_time": "2020-09-13T12:43:50.042012",
     "status": "completed"
    },
    "tags": []
   },
   "outputs": [],
   "source": [
    "fixtures = Table(fixtures_fn, '2016')"
   ]
  },
  {
   "cell_type": "code",
   "execution_count": 5,
   "metadata": {
    "ExecuteTime": {
     "end_time": "2020-07-28T10:38:00.887219Z",
     "start_time": "2020-07-28T10:37:57.461923Z"
    },
    "execution": {
     "iopub.execute_input": "2020-09-13T12:43:50.145301Z",
     "iopub.status.busy": "2020-09-13T12:43:50.144367Z",
     "iopub.status.idle": "2020-09-13T12:43:55.185933Z",
     "shell.execute_reply": "2020-09-13T12:43:55.186698Z"
    },
    "papermill": {
     "duration": 5.066739,
     "end_time": "2020-09-13T12:43:55.186965",
     "exception": false,
     "start_time": "2020-09-13T12:43:50.120226",
     "status": "completed"
    },
    "tags": []
   },
   "outputs": [],
   "source": [
    "skiprows = fixtures.get_skiprows()"
   ]
  },
  {
   "cell_type": "code",
   "execution_count": 6,
   "metadata": {
    "ExecuteTime": {
     "end_time": "2020-07-28T10:38:05.478170Z",
     "start_time": "2020-07-28T10:38:00.888665Z"
    },
    "execution": {
     "iopub.execute_input": "2020-09-13T12:43:55.258012Z",
     "iopub.status.busy": "2020-09-13T12:43:55.257148Z",
     "iopub.status.idle": "2020-09-13T12:44:00.595187Z",
     "shell.execute_reply": "2020-09-13T12:44:00.595861Z"
    },
    "papermill": {
     "duration": 5.368096,
     "end_time": "2020-09-13T12:44:00.596021",
     "exception": false,
     "start_time": "2020-09-13T12:43:55.227925",
     "status": "completed"
    },
    "tags": []
   },
   "outputs": [],
   "source": [
    "fixtures_df = fixtures.get_df(skiprows=skiprows)"
   ]
  },
  {
   "cell_type": "code",
   "execution_count": 7,
   "metadata": {
    "ExecuteTime": {
     "end_time": "2020-07-28T10:38:05.511673Z",
     "start_time": "2020-07-28T10:38:05.479653Z"
    },
    "execution": {
     "iopub.execute_input": "2020-09-13T12:44:00.650226Z",
     "iopub.status.busy": "2020-09-13T12:44:00.644077Z",
     "iopub.status.idle": "2020-09-13T12:44:00.674118Z",
     "shell.execute_reply": "2020-09-13T12:44:00.673573Z"
    },
    "papermill": {
     "duration": 0.05608,
     "end_time": "2020-09-13T12:44:00.674264",
     "exception": false,
     "start_time": "2020-09-13T12:44:00.618184",
     "status": "completed"
    },
    "tags": []
   },
   "outputs": [
    {
     "data": {
      "text/html": [
       "<div>\n",
       "<style scoped>\n",
       "    .dataframe tbody tr th:only-of-type {\n",
       "        vertical-align: middle;\n",
       "    }\n",
       "\n",
       "    .dataframe tbody tr th {\n",
       "        vertical-align: top;\n",
       "    }\n",
       "\n",
       "    .dataframe thead th {\n",
       "        text-align: right;\n",
       "    }\n",
       "</style>\n",
       "<table border=\"1\" class=\"dataframe\">\n",
       "  <thead>\n",
       "    <tr style=\"text-align: right;\">\n",
       "      <th></th>\n",
       "      <th>acct</th>\n",
       "      <th>bld_num</th>\n",
       "      <th>type</th>\n",
       "      <th>type_dscr</th>\n",
       "      <th>units</th>\n",
       "    </tr>\n",
       "  </thead>\n",
       "  <tbody>\n",
       "    <tr>\n",
       "      <th>0</th>\n",
       "      <td>1142540050016</td>\n",
       "      <td>1</td>\n",
       "      <td>FXT</td>\n",
       "      <td>Fixtures:  Total</td>\n",
       "      <td>8.0</td>\n",
       "    </tr>\n",
       "    <tr>\n",
       "      <th>1</th>\n",
       "      <td>1142540050019</td>\n",
       "      <td>1</td>\n",
       "      <td>FPM</td>\n",
       "      <td>Fireplace: Metal Prefab</td>\n",
       "      <td>1.0</td>\n",
       "    </tr>\n",
       "    <tr>\n",
       "      <th>2</th>\n",
       "      <td>1142540050019</td>\n",
       "      <td>1</td>\n",
       "      <td>FXT</td>\n",
       "      <td>Fixtures:  Total</td>\n",
       "      <td>8.0</td>\n",
       "    </tr>\n",
       "    <tr>\n",
       "      <th>3</th>\n",
       "      <td>1142540050027</td>\n",
       "      <td>1</td>\n",
       "      <td>FPM</td>\n",
       "      <td>Fireplace: Metal Prefab</td>\n",
       "      <td>1.0</td>\n",
       "    </tr>\n",
       "    <tr>\n",
       "      <th>4</th>\n",
       "      <td>1142540050027</td>\n",
       "      <td>1</td>\n",
       "      <td>FXT</td>\n",
       "      <td>Fixtures:  Total</td>\n",
       "      <td>8.0</td>\n",
       "    </tr>\n",
       "  </tbody>\n",
       "</table>\n",
       "</div>"
      ],
      "text/plain": [
       "            acct  bld_num  type                type_dscr  units\n",
       "0  1142540050016        1  FXT          Fixtures:  Total    8.0\n",
       "1  1142540050019        1  FPM   Fireplace: Metal Prefab    1.0\n",
       "2  1142540050019        1  FXT          Fixtures:  Total    8.0\n",
       "3  1142540050027        1  FPM   Fireplace: Metal Prefab    1.0\n",
       "4  1142540050027        1  FXT          Fixtures:  Total    8.0"
      ]
     },
     "execution_count": 7,
     "metadata": {},
     "output_type": "execute_result"
    }
   ],
   "source": [
    "fixtures_df.head()"
   ]
  },
  {
   "cell_type": "code",
   "execution_count": 8,
   "metadata": {
    "ExecuteTime": {
     "end_time": "2020-07-28T10:38:06.022097Z",
     "start_time": "2020-07-28T10:38:05.515281Z"
    },
    "execution": {
     "iopub.execute_input": "2020-09-13T12:44:00.730062Z",
     "iopub.status.busy": "2020-09-13T12:44:00.723452Z",
     "iopub.status.idle": "2020-09-13T12:44:01.231881Z",
     "shell.execute_reply": "2020-09-13T12:44:01.232319Z"
    },
    "papermill": {
     "duration": 0.535483,
     "end_time": "2020-09-13T12:44:01.232472",
     "exception": false,
     "start_time": "2020-09-13T12:44:00.696989",
     "status": "completed"
    },
    "tags": []
   },
   "outputs": [
    {
     "data": {
      "text/plain": [
       "Room:  Bedroom                  960729\n",
       "Story Height Index              960648\n",
       "Room:  Full Bath                960567\n",
       "Room:  Total                    960477\n",
       "Fixtures:  Total                960343\n",
       "Fixtures:  Addl                 463957\n",
       "Room:  Half Bath                393910\n",
       "Room:  Rec                      372823\n",
       "Fireplace: Metal Prefab         335609\n",
       "Fireplace: Masonry Firebrick    203722\n",
       "Masonry Trim                     40565\n",
       "Fireplace: Direct Vent           27568\n",
       "Fireplace:  Adl Open              3536\n",
       "Elevator Stops                    2471\n",
       "Atrium                            1238\n",
       "Lower Level Rec                    188\n",
       "Fireplace:  Open (1)                68\n",
       "                                    20\n",
       "Wall Height                          6\n",
       "Bank:  Drive-Thru                    5\n",
       "Interior Finish Percent              5\n",
       "Elev:  Elect / Pass                  4\n",
       "Pool:  Indoor Value                  4\n",
       "A/C:  Central                        3\n",
       "OH Door:  Motor RS                   2\n",
       "Elev:  Elect / Frght                 2\n",
       "Fireplace:  Open (3)                 2\n",
       "Unfinished Area                      1\n",
       "Fireplace:  Open (2)                 1\n",
       "Miscellaneous                        1\n",
       "Name: type_dscr, dtype: int64"
      ]
     },
     "execution_count": 8,
     "metadata": {},
     "output_type": "execute_result"
    }
   ],
   "source": [
    "fixtures_df['type_dscr'].value_counts()"
   ]
  },
  {
   "cell_type": "markdown",
   "metadata": {
    "papermill": {
     "duration": 0.022123,
     "end_time": "2020-09-13T12:44:01.275785",
     "exception": false,
     "start_time": "2020-09-13T12:44:01.253662",
     "status": "completed"
    },
    "tags": []
   },
   "source": [
    "# Select columns and build pivot table\n",
    "From the value count on the fixtures type description above we can tell that the first 10 types are prevalent in the data. Let's focus on these 10 in our evaluation.\n",
    "Also, we assume there is only one reported fixture per category per property. If there is more than one value reported we will take the maximum of those."
   ]
  },
  {
   "cell_type": "code",
   "execution_count": 9,
   "metadata": {
    "ExecuteTime": {
     "end_time": "2020-07-28T10:38:06.522227Z",
     "start_time": "2020-07-28T10:38:06.025252Z"
    },
    "execution": {
     "iopub.execute_input": "2020-09-13T12:44:01.326965Z",
     "iopub.status.busy": "2020-09-13T12:44:01.326408Z",
     "iopub.status.idle": "2020-09-13T12:44:01.855016Z",
     "shell.execute_reply": "2020-09-13T12:44:01.854568Z"
    },
    "papermill": {
     "duration": 0.55546,
     "end_time": "2020-09-13T12:44:01.855153",
     "exception": false,
     "start_time": "2020-09-13T12:44:01.299693",
     "status": "completed"
    },
    "tags": []
   },
   "outputs": [],
   "source": [
    "cols = fixtures_df['type_dscr'].value_counts().head(10).index"
   ]
  },
  {
   "cell_type": "code",
   "execution_count": 10,
   "metadata": {
    "ExecuteTime": {
     "end_time": "2020-07-28T10:38:06.912662Z",
     "start_time": "2020-07-28T10:38:06.524303Z"
    },
    "execution": {
     "iopub.execute_input": "2020-09-13T12:44:01.906431Z",
     "iopub.status.busy": "2020-09-13T12:44:01.905500Z",
     "iopub.status.idle": "2020-09-13T12:44:02.383898Z",
     "shell.execute_reply": "2020-09-13T12:44:02.384915Z"
    },
    "papermill": {
     "duration": 0.506639,
     "end_time": "2020-09-13T12:44:02.385164",
     "exception": false,
     "start_time": "2020-09-13T12:44:01.878525",
     "status": "completed"
    },
    "tags": []
   },
   "outputs": [],
   "source": [
    "cond0 = fixtures_df['type_dscr'].isin(cols)\n",
    "fixtures_df = fixtures_df.loc[cond0, :]"
   ]
  },
  {
   "cell_type": "code",
   "execution_count": 11,
   "metadata": {
    "ExecuteTime": {
     "end_time": "2020-07-28T10:38:12.862523Z",
     "start_time": "2020-07-28T10:38:06.917639Z"
    },
    "execution": {
     "iopub.execute_input": "2020-09-13T12:44:02.444286Z",
     "iopub.status.busy": "2020-09-13T12:44:02.443255Z",
     "iopub.status.idle": "2020-09-13T12:44:10.127978Z",
     "shell.execute_reply": "2020-09-13T12:44:10.128468Z"
    },
    "papermill": {
     "duration": 7.711853,
     "end_time": "2020-09-13T12:44:10.128639",
     "exception": false,
     "start_time": "2020-09-13T12:44:02.416786",
     "status": "completed"
    },
    "tags": []
   },
   "outputs": [],
   "source": [
    "fixtures_pivot = fixtures_df.pivot_table(index='acct',\n",
    "                                         columns='type_dscr',\n",
    "                                         values='units',\n",
    "                                         fill_value=0,\n",
    "                                         aggfunc='max')"
   ]
  },
  {
   "cell_type": "code",
   "execution_count": 12,
   "metadata": {
    "ExecuteTime": {
     "end_time": "2020-07-28T10:38:12.896923Z",
     "start_time": "2020-07-28T10:38:12.864086Z"
    },
    "execution": {
     "iopub.execute_input": "2020-09-13T12:44:10.178482Z",
     "iopub.status.busy": "2020-09-13T12:44:10.177550Z",
     "iopub.status.idle": "2020-09-13T12:44:10.198614Z",
     "shell.execute_reply": "2020-09-13T12:44:10.198131Z"
    },
    "papermill": {
     "duration": 0.04664,
     "end_time": "2020-09-13T12:44:10.198767",
     "exception": false,
     "start_time": "2020-09-13T12:44:10.152127",
     "status": "completed"
    },
    "tags": []
   },
   "outputs": [
    {
     "data": {
      "text/html": [
       "<div>\n",
       "<style scoped>\n",
       "    .dataframe tbody tr th:only-of-type {\n",
       "        vertical-align: middle;\n",
       "    }\n",
       "\n",
       "    .dataframe tbody tr th {\n",
       "        vertical-align: top;\n",
       "    }\n",
       "\n",
       "    .dataframe thead th {\n",
       "        text-align: right;\n",
       "    }\n",
       "</style>\n",
       "<table border=\"1\" class=\"dataframe\">\n",
       "  <thead>\n",
       "    <tr style=\"text-align: right;\">\n",
       "      <th>type_dscr</th>\n",
       "      <th>Fireplace: Masonry Firebrick</th>\n",
       "      <th>Fireplace: Metal Prefab</th>\n",
       "      <th>Fixtures:  Addl</th>\n",
       "      <th>Fixtures:  Total</th>\n",
       "      <th>Room:  Bedroom</th>\n",
       "      <th>Room:  Full Bath</th>\n",
       "      <th>Room:  Half Bath</th>\n",
       "      <th>Room:  Rec</th>\n",
       "      <th>Room:  Total</th>\n",
       "      <th>Story Height Index</th>\n",
       "    </tr>\n",
       "    <tr>\n",
       "      <th>acct</th>\n",
       "      <th></th>\n",
       "      <th></th>\n",
       "      <th></th>\n",
       "      <th></th>\n",
       "      <th></th>\n",
       "      <th></th>\n",
       "      <th></th>\n",
       "      <th></th>\n",
       "      <th></th>\n",
       "      <th></th>\n",
       "    </tr>\n",
       "  </thead>\n",
       "  <tbody>\n",
       "    <tr>\n",
       "      <th>21440000001</th>\n",
       "      <td>0</td>\n",
       "      <td>0</td>\n",
       "      <td>2</td>\n",
       "      <td>12</td>\n",
       "      <td>3</td>\n",
       "      <td>2</td>\n",
       "      <td>1</td>\n",
       "      <td>1</td>\n",
       "      <td>8</td>\n",
       "      <td>2.0</td>\n",
       "    </tr>\n",
       "    <tr>\n",
       "      <th>21470000008</th>\n",
       "      <td>0</td>\n",
       "      <td>0</td>\n",
       "      <td>0</td>\n",
       "      <td>5</td>\n",
       "      <td>2</td>\n",
       "      <td>1</td>\n",
       "      <td>0</td>\n",
       "      <td>0</td>\n",
       "      <td>4</td>\n",
       "      <td>1.0</td>\n",
       "    </tr>\n",
       "    <tr>\n",
       "      <th>21480000002</th>\n",
       "      <td>0</td>\n",
       "      <td>0</td>\n",
       "      <td>0</td>\n",
       "      <td>5</td>\n",
       "      <td>3</td>\n",
       "      <td>1</td>\n",
       "      <td>0</td>\n",
       "      <td>0</td>\n",
       "      <td>6</td>\n",
       "      <td>1.0</td>\n",
       "    </tr>\n",
       "    <tr>\n",
       "      <th>21650000007</th>\n",
       "      <td>0</td>\n",
       "      <td>0</td>\n",
       "      <td>3</td>\n",
       "      <td>16</td>\n",
       "      <td>3</td>\n",
       "      <td>3</td>\n",
       "      <td>1</td>\n",
       "      <td>0</td>\n",
       "      <td>6</td>\n",
       "      <td>2.0</td>\n",
       "    </tr>\n",
       "    <tr>\n",
       "      <th>21650000011</th>\n",
       "      <td>0</td>\n",
       "      <td>1</td>\n",
       "      <td>0</td>\n",
       "      <td>8</td>\n",
       "      <td>3</td>\n",
       "      <td>2</td>\n",
       "      <td>0</td>\n",
       "      <td>0</td>\n",
       "      <td>5</td>\n",
       "      <td>1.0</td>\n",
       "    </tr>\n",
       "  </tbody>\n",
       "</table>\n",
       "</div>"
      ],
      "text/plain": [
       "type_dscr    Fireplace: Masonry Firebrick  Fireplace: Metal Prefab  \\\n",
       "acct                                                                 \n",
       "21440000001                             0                        0   \n",
       "21470000008                             0                        0   \n",
       "21480000002                             0                        0   \n",
       "21650000007                             0                        0   \n",
       "21650000011                             0                        1   \n",
       "\n",
       "type_dscr    Fixtures:  Addl  Fixtures:  Total  Room:  Bedroom  \\\n",
       "acct                                                             \n",
       "21440000001                2                12               3   \n",
       "21470000008                0                 5               2   \n",
       "21480000002                0                 5               3   \n",
       "21650000007                3                16               3   \n",
       "21650000011                0                 8               3   \n",
       "\n",
       "type_dscr    Room:  Full Bath  Room:  Half Bath  Room:  Rec  Room:  Total  \\\n",
       "acct                                                                        \n",
       "21440000001                 2                 1           1             8   \n",
       "21470000008                 1                 0           0             4   \n",
       "21480000002                 1                 0           0             6   \n",
       "21650000007                 3                 1           0             6   \n",
       "21650000011                 2                 0           0             5   \n",
       "\n",
       "type_dscr    Story Height Index  \n",
       "acct                             \n",
       "21440000001                 2.0  \n",
       "21470000008                 1.0  \n",
       "21480000002                 1.0  \n",
       "21650000007                 2.0  \n",
       "21650000011                 1.0  "
      ]
     },
     "execution_count": 12,
     "metadata": {},
     "output_type": "execute_result"
    }
   ],
   "source": [
    "fixtures_pivot.head()"
   ]
  },
  {
   "cell_type": "markdown",
   "metadata": {
    "papermill": {
     "duration": 0.023709,
     "end_time": "2020-09-13T12:44:10.245992",
     "exception": false,
     "start_time": "2020-09-13T12:44:10.222283",
     "status": "completed"
    },
    "tags": []
   },
   "source": [
    "add `acct` column to make easier the merging process ahead"
   ]
  },
  {
   "cell_type": "code",
   "execution_count": 13,
   "metadata": {
    "ExecuteTime": {
     "end_time": "2020-07-28T10:38:12.915779Z",
     "start_time": "2020-07-28T10:38:12.901018Z"
    },
    "execution": {
     "iopub.execute_input": "2020-09-13T12:44:10.297220Z",
     "iopub.status.busy": "2020-09-13T12:44:10.296651Z",
     "iopub.status.idle": "2020-09-13T12:44:10.316196Z",
     "shell.execute_reply": "2020-09-13T12:44:10.315739Z"
    },
    "papermill": {
     "duration": 0.046836,
     "end_time": "2020-09-13T12:44:10.316329",
     "exception": false,
     "start_time": "2020-09-13T12:44:10.269493",
     "status": "completed"
    },
    "tags": []
   },
   "outputs": [],
   "source": [
    "fixtures_pivot.reset_index(inplace=True)"
   ]
  },
  {
   "cell_type": "markdown",
   "metadata": {
    "papermill": {
     "duration": 0.023846,
     "end_time": "2020-09-13T12:44:10.362431",
     "exception": false,
     "start_time": "2020-09-13T12:44:10.338585",
     "status": "completed"
    },
    "tags": []
   },
   "source": [
    "# Describe and clean the columns\n",
    "\n",
    "Now we must describe each column by answering:\n",
    "\n",
    "* Meaning\n",
    "* Descriptive statistics or value counts\n",
    "* Data type\n",
    "\n",
    "There is no explicit document provided by HCAD explaining all the variables, but most are easy to guess for using their name."
   ]
  },
  {
   "cell_type": "markdown",
   "metadata": {
    "papermill": {
     "duration": 0.023162,
     "end_time": "2020-09-13T12:44:10.409128",
     "exception": false,
     "start_time": "2020-09-13T12:44:10.385966",
     "status": "completed"
    },
    "tags": []
   },
   "source": [
    "## Fix column names\n",
    "We would like the column names to be all lower case, with no spaces nor non-alphanumeric characters."
   ]
  },
  {
   "cell_type": "code",
   "execution_count": 14,
   "metadata": {
    "ExecuteTime": {
     "end_time": "2020-07-28T10:38:12.938683Z",
     "start_time": "2020-07-28T10:38:12.917607Z"
    },
    "execution": {
     "iopub.execute_input": "2020-09-13T12:44:10.460660Z",
     "iopub.status.busy": "2020-09-13T12:44:10.459725Z",
     "iopub.status.idle": "2020-09-13T12:44:10.477815Z",
     "shell.execute_reply": "2020-09-13T12:44:10.476940Z"
    },
    "papermill": {
     "duration": 0.044961,
     "end_time": "2020-09-13T12:44:10.478007",
     "exception": false,
     "start_time": "2020-09-13T12:44:10.433046",
     "status": "completed"
    },
    "tags": []
   },
   "outputs": [],
   "source": [
    "from src.data.utils import fix_column_names"
   ]
  },
  {
   "cell_type": "code",
   "execution_count": 15,
   "metadata": {
    "ExecuteTime": {
     "end_time": "2020-07-28T10:38:12.962817Z",
     "start_time": "2020-07-28T10:38:12.941857Z"
    },
    "execution": {
     "iopub.execute_input": "2020-09-13T12:44:10.542946Z",
     "iopub.status.busy": "2020-09-13T12:44:10.542058Z",
     "iopub.status.idle": "2020-09-13T12:44:10.554559Z",
     "shell.execute_reply": "2020-09-13T12:44:10.554065Z"
    },
    "papermill": {
     "duration": 0.040932,
     "end_time": "2020-09-13T12:44:10.554694",
     "exception": false,
     "start_time": "2020-09-13T12:44:10.513762",
     "status": "completed"
    },
    "tags": []
   },
   "outputs": [
    {
     "data": {
      "text/plain": [
       "Index(['acct', 'Fireplace: Masonry Firebrick', 'Fireplace: Metal Prefab',\n",
       "       'Fixtures:  Addl', 'Fixtures:  Total', 'Room:  Bedroom',\n",
       "       'Room:  Full Bath', 'Room:  Half Bath', 'Room:  Rec', 'Room:  Total',\n",
       "       'Story Height Index'],\n",
       "      dtype='object', name='type_dscr')"
      ]
     },
     "execution_count": 15,
     "metadata": {},
     "output_type": "execute_result"
    }
   ],
   "source": [
    "fixtures_pivot.columns"
   ]
  },
  {
   "cell_type": "code",
   "execution_count": 16,
   "metadata": {
    "ExecuteTime": {
     "end_time": "2020-07-28T10:38:12.990439Z",
     "start_time": "2020-07-28T10:38:12.965215Z"
    },
    "execution": {
     "iopub.execute_input": "2020-09-13T12:44:10.606915Z",
     "iopub.status.busy": "2020-09-13T12:44:10.606096Z",
     "iopub.status.idle": "2020-09-13T12:44:10.617059Z",
     "shell.execute_reply": "2020-09-13T12:44:10.617578Z"
    },
    "papermill": {
     "duration": 0.038532,
     "end_time": "2020-09-13T12:44:10.617751",
     "exception": false,
     "start_time": "2020-09-13T12:44:10.579219",
     "status": "completed"
    },
    "tags": []
   },
   "outputs": [],
   "source": [
    "fixtures_pivot = fix_column_names(fixtures_pivot)"
   ]
  },
  {
   "cell_type": "code",
   "execution_count": 17,
   "metadata": {
    "ExecuteTime": {
     "end_time": "2020-07-28T10:38:13.019388Z",
     "start_time": "2020-07-28T10:38:12.993057Z"
    },
    "execution": {
     "iopub.execute_input": "2020-09-13T12:44:10.670859Z",
     "iopub.status.busy": "2020-09-13T12:44:10.669973Z",
     "iopub.status.idle": "2020-09-13T12:44:10.683401Z",
     "shell.execute_reply": "2020-09-13T12:44:10.683853Z"
    },
    "papermill": {
     "duration": 0.041387,
     "end_time": "2020-09-13T12:44:10.684012",
     "exception": false,
     "start_time": "2020-09-13T12:44:10.642625",
     "status": "completed"
    },
    "tags": []
   },
   "outputs": [
    {
     "data": {
      "text/plain": [
       "Index(['acct', 'fireplace_masonry_firebrick', 'fireplace_metal_prefab',\n",
       "       'fixtures_addl', 'fixtures_total', 'room_bedroom', 'room_full_bath',\n",
       "       'room_half_bath', 'room_rec', 'room_total', 'story_height_index'],\n",
       "      dtype='object')"
      ]
     },
     "execution_count": 17,
     "metadata": {},
     "output_type": "execute_result"
    }
   ],
   "source": [
    "fixtures_pivot.columns"
   ]
  },
  {
   "cell_type": "markdown",
   "metadata": {
    "papermill": {
     "duration": 0.023433,
     "end_time": "2020-09-13T12:44:10.732138",
     "exception": false,
     "start_time": "2020-09-13T12:44:10.708705",
     "status": "completed"
    },
    "tags": []
   },
   "source": [
    "### Find duplicated rows"
   ]
  },
  {
   "cell_type": "code",
   "execution_count": 18,
   "metadata": {
    "ExecuteTime": {
     "end_time": "2020-07-28T10:38:13.376820Z",
     "start_time": "2020-07-28T10:38:13.021446Z"
    },
    "execution": {
     "iopub.execute_input": "2020-09-13T12:44:10.792444Z",
     "iopub.status.busy": "2020-09-13T12:44:10.791575Z",
     "iopub.status.idle": "2020-09-13T12:44:11.184415Z",
     "shell.execute_reply": "2020-09-13T12:44:11.184939Z"
    },
    "papermill": {
     "duration": 0.429649,
     "end_time": "2020-09-13T12:44:11.185141",
     "exception": false,
     "start_time": "2020-09-13T12:44:10.755492",
     "status": "completed"
    },
    "tags": []
   },
   "outputs": [
    {
     "data": {
      "text/html": [
       "<div>\n",
       "<style scoped>\n",
       "    .dataframe tbody tr th:only-of-type {\n",
       "        vertical-align: middle;\n",
       "    }\n",
       "\n",
       "    .dataframe tbody tr th {\n",
       "        vertical-align: top;\n",
       "    }\n",
       "\n",
       "    .dataframe thead th {\n",
       "        text-align: right;\n",
       "    }\n",
       "</style>\n",
       "<table border=\"1\" class=\"dataframe\">\n",
       "  <thead>\n",
       "    <tr style=\"text-align: right;\">\n",
       "      <th></th>\n",
       "      <th>acct</th>\n",
       "      <th>fireplace_masonry_firebrick</th>\n",
       "      <th>fireplace_metal_prefab</th>\n",
       "      <th>fixtures_addl</th>\n",
       "      <th>fixtures_total</th>\n",
       "      <th>room_bedroom</th>\n",
       "      <th>room_full_bath</th>\n",
       "      <th>room_half_bath</th>\n",
       "      <th>room_rec</th>\n",
       "      <th>room_total</th>\n",
       "      <th>story_height_index</th>\n",
       "    </tr>\n",
       "  </thead>\n",
       "  <tbody>\n",
       "  </tbody>\n",
       "</table>\n",
       "</div>"
      ],
      "text/plain": [
       "Empty DataFrame\n",
       "Columns: [acct, fireplace_masonry_firebrick, fireplace_metal_prefab, fixtures_addl, fixtures_total, room_bedroom, room_full_bath, room_half_bath, room_rec, room_total, story_height_index]\n",
       "Index: []"
      ]
     },
     "execution_count": 18,
     "metadata": {},
     "output_type": "execute_result"
    }
   ],
   "source": [
    "cond0 = fixtures_pivot.duplicated()\n",
    "fixtures_pivot.loc[cond0, :]"
   ]
  },
  {
   "cell_type": "markdown",
   "metadata": {
    "papermill": {
     "duration": 0.026507,
     "end_time": "2020-09-13T12:44:11.237806",
     "exception": false,
     "start_time": "2020-09-13T12:44:11.211299",
     "status": "completed"
    },
    "tags": []
   },
   "source": [
    "## Fixtures\n",
    "The following property fixtures are represented by their total count:\n",
    "\n",
    "1. fireplace_masonry_firebrick: Number of masonry firebrick fireplaces in the property.\n",
    "2. fireplace_metal_prefab: Number of prefabricated metal fireplaces in the property.\n",
    "3. fixtures_addl: Number of additional fixtures in the property.\n",
    "4. fixtures_total: Total number fixtures in the property.\n",
    "5. room_bedroom: Number of bedrooms in the property.\n",
    "6. room_full_bath: Number of full baths in the property.\n",
    "7. room_half_bath: Number of half baths in the property.\n",
    "8. room_rec: Number of recreational rooms in the property.\n",
    "9. room_total: Total number of rooms in the property.\n",
    "10. story_height_index: Number of stories in the property.\n",
    "\n",
    "Confusingly, not all the values are integers for most of the fixtures, so I decided to leave them as floats and not try to cast them as categories."
   ]
  },
  {
   "cell_type": "markdown",
   "metadata": {
    "papermill": {
     "duration": 0.024706,
     "end_time": "2020-09-13T12:44:11.288009",
     "exception": false,
     "start_time": "2020-09-13T12:44:11.263303",
     "status": "completed"
    },
    "tags": []
   },
   "source": [
    "### fireplace_masonry_firebrick"
   ]
  },
  {
   "cell_type": "code",
   "execution_count": 19,
   "metadata": {
    "ExecuteTime": {
     "end_time": "2020-07-28T10:38:13.391698Z",
     "start_time": "2020-07-28T10:38:13.378660Z"
    },
    "execution": {
     "iopub.execute_input": "2020-09-13T12:44:11.341240Z",
     "iopub.status.busy": "2020-09-13T12:44:11.340617Z",
     "iopub.status.idle": "2020-09-13T12:44:11.359208Z",
     "shell.execute_reply": "2020-09-13T12:44:11.358750Z"
    },
    "papermill": {
     "duration": 0.046238,
     "end_time": "2020-09-13T12:44:11.359348",
     "exception": false,
     "start_time": "2020-09-13T12:44:11.313110",
     "status": "completed"
    },
    "tags": []
   },
   "outputs": [],
   "source": [
    "from src.data.utils import fix_fixtures"
   ]
  },
  {
   "cell_type": "code",
   "execution_count": 20,
   "metadata": {
    "ExecuteTime": {
     "end_time": "2020-07-28T10:38:13.540689Z",
     "start_time": "2020-07-28T10:38:13.393431Z"
    },
    "execution": {
     "iopub.execute_input": "2020-09-13T12:44:11.412494Z",
     "iopub.status.busy": "2020-09-13T12:44:11.411631Z",
     "iopub.status.idle": "2020-09-13T12:44:11.534552Z",
     "shell.execute_reply": "2020-09-13T12:44:11.535268Z"
    },
    "papermill": {
     "duration": 0.152136,
     "end_time": "2020-09-13T12:44:11.535499",
     "exception": false,
     "start_time": "2020-09-13T12:44:11.383363",
     "status": "completed"
    },
    "tags": []
   },
   "outputs": [
    {
     "name": "stdout",
     "output_type": "stream",
     "text": [
      "Values less than 0: 0\n",
      "\n",
      "\n",
      "The new data type is: float32\n",
      "Head:\n",
      "0    0.0\n",
      "1    0.0\n",
      "2    0.0\n",
      "3    0.0\n",
      "4    0.0\n",
      "Name: fireplace_masonry_firebrick, dtype: float32\n",
      "\n",
      "\n",
      "fireplace_masonry_firebrick normalized value counts: First 20\n",
      "0.0    0.787326\n",
      "1.0    0.204959\n",
      "2.0    0.006546\n",
      "3.0    0.000953\n",
      "4.0    0.000169\n",
      "5.0    0.000032\n",
      "6.0    0.000013\n",
      "7.0    0.000002\n",
      "Name: fireplace_masonry_firebrick, dtype: float64\n",
      "\n",
      "\n",
      "The number of null values is: 0\n",
      "\n",
      "\n"
     ]
    }
   ],
   "source": [
    "fixtures_pivot = fix_fixtures(fixtures_pivot, 'fireplace_masonry_firebrick')"
   ]
  },
  {
   "cell_type": "markdown",
   "metadata": {
    "papermill": {
     "duration": 0.025306,
     "end_time": "2020-09-13T12:44:11.591851",
     "exception": false,
     "start_time": "2020-09-13T12:44:11.566545",
     "status": "completed"
    },
    "tags": []
   },
   "source": [
    "### fireplace_metal_prefab"
   ]
  },
  {
   "cell_type": "code",
   "execution_count": 21,
   "metadata": {
    "ExecuteTime": {
     "end_time": "2020-07-28T10:38:13.689313Z",
     "start_time": "2020-07-28T10:38:13.542768Z"
    },
    "execution": {
     "iopub.execute_input": "2020-09-13T12:44:11.646260Z",
     "iopub.status.busy": "2020-09-13T12:44:11.645385Z",
     "iopub.status.idle": "2020-09-13T12:44:11.765949Z",
     "shell.execute_reply": "2020-09-13T12:44:11.766416Z"
    },
    "papermill": {
     "duration": 0.148878,
     "end_time": "2020-09-13T12:44:11.766578",
     "exception": false,
     "start_time": "2020-09-13T12:44:11.617700",
     "status": "completed"
    },
    "tags": []
   },
   "outputs": [
    {
     "name": "stdout",
     "output_type": "stream",
     "text": [
      "Values less than 0: 0\n",
      "\n",
      "\n",
      "The new data type is: float32\n",
      "Head:\n",
      "0    0.0\n",
      "1    0.0\n",
      "2    0.0\n",
      "3    0.0\n",
      "4    1.0\n",
      "Name: fireplace_metal_prefab, dtype: float32\n",
      "\n",
      "\n",
      "fireplace_metal_prefab normalized value counts: First 20\n",
      "0.0    0.650146\n",
      "1.0    0.340515\n",
      "2.0    0.007925\n",
      "3.0    0.001127\n",
      "4.0    0.000221\n",
      "5.0    0.000049\n",
      "6.0    0.000011\n",
      "7.0    0.000004\n",
      "8.0    0.000001\n",
      "Name: fireplace_metal_prefab, dtype: float64\n",
      "\n",
      "\n",
      "The number of null values is: 0\n",
      "\n",
      "\n"
     ]
    }
   ],
   "source": [
    "fixtures_pivot = fix_fixtures(fixtures_pivot, 'fireplace_metal_prefab')"
   ]
  },
  {
   "cell_type": "markdown",
   "metadata": {
    "papermill": {
     "duration": 0.02553,
     "end_time": "2020-09-13T12:44:11.816983",
     "exception": false,
     "start_time": "2020-09-13T12:44:11.791453",
     "status": "completed"
    },
    "tags": []
   },
   "source": [
    "### fixtures_addl"
   ]
  },
  {
   "cell_type": "code",
   "execution_count": 22,
   "metadata": {
    "ExecuteTime": {
     "end_time": "2020-07-28T10:38:13.820048Z",
     "start_time": "2020-07-28T10:38:13.691630Z"
    },
    "execution": {
     "iopub.execute_input": "2020-09-13T12:44:11.878012Z",
     "iopub.status.busy": "2020-09-13T12:44:11.872122Z",
     "iopub.status.idle": "2020-09-13T12:44:12.000454Z",
     "shell.execute_reply": "2020-09-13T12:44:11.999948Z"
    },
    "papermill": {
     "duration": 0.157673,
     "end_time": "2020-09-13T12:44:12.000591",
     "exception": false,
     "start_time": "2020-09-13T12:44:11.842918",
     "status": "completed"
    },
    "tags": []
   },
   "outputs": [
    {
     "name": "stdout",
     "output_type": "stream",
     "text": [
      "Values less than 0: 0\n",
      "\n",
      "\n",
      "The new data type is: float32\n",
      "Head:\n",
      "0    2.0\n",
      "1    0.0\n",
      "2    0.0\n",
      "3    3.0\n",
      "4    0.0\n",
      "Name: fixtures_addl, dtype: float32\n",
      "\n",
      "\n",
      "fixtures_addl normalized value counts: First 20\n",
      "0.0     0.515790\n",
      "2.0     0.174383\n",
      "3.0     0.124497\n",
      "1.0     0.090731\n",
      "4.0     0.061421\n",
      "5.0     0.018742\n",
      "6.0     0.008203\n",
      "7.0     0.002792\n",
      "8.0     0.001763\n",
      "10.0    0.000567\n",
      "9.0     0.000554\n",
      "11.0    0.000163\n",
      "12.0    0.000117\n",
      "13.0    0.000065\n",
      "15.0    0.000056\n",
      "14.0    0.000052\n",
      "16.0    0.000038\n",
      "17.0    0.000016\n",
      "18.0    0.000016\n",
      "20.0    0.000014\n",
      "Name: fixtures_addl, dtype: float64\n",
      "\n",
      "\n",
      "The number of null values is: 0\n",
      "\n",
      "\n"
     ]
    }
   ],
   "source": [
    "fixtures_pivot = fix_fixtures(fixtures_pivot, 'fixtures_addl')"
   ]
  },
  {
   "cell_type": "markdown",
   "metadata": {
    "ExecuteTime": {
     "end_time": "2020-07-25T11:02:47.968355Z",
     "start_time": "2020-07-25T11:02:47.946972Z"
    },
    "papermill": {
     "duration": 0.024773,
     "end_time": "2020-09-13T12:44:12.051099",
     "exception": false,
     "start_time": "2020-09-13T12:44:12.026326",
     "status": "completed"
    },
    "tags": []
   },
   "source": [
    "### fixtures_total"
   ]
  },
  {
   "cell_type": "code",
   "execution_count": 23,
   "metadata": {
    "ExecuteTime": {
     "end_time": "2020-07-28T10:38:13.958501Z",
     "start_time": "2020-07-28T10:38:13.824007Z"
    },
    "execution": {
     "iopub.execute_input": "2020-09-13T12:44:12.108524Z",
     "iopub.status.busy": "2020-09-13T12:44:12.107648Z",
     "iopub.status.idle": "2020-09-13T12:44:12.233755Z",
     "shell.execute_reply": "2020-09-13T12:44:12.233006Z"
    },
    "papermill": {
     "duration": 0.157792,
     "end_time": "2020-09-13T12:44:12.233952",
     "exception": false,
     "start_time": "2020-09-13T12:44:12.076160",
     "status": "completed"
    },
    "tags": []
   },
   "outputs": [
    {
     "name": "stdout",
     "output_type": "stream",
     "text": [
      "Values less than 0: 0\n",
      "\n",
      "\n",
      "The new data type is: float32\n",
      "Head:\n",
      "0    12.0\n",
      "1     5.0\n",
      "2     5.0\n",
      "3    16.0\n",
      "4     8.0\n",
      "Name: fixtures_total, dtype: float32\n",
      "\n",
      "\n",
      "fixtures_total normalized value counts: First 20\n",
      "8.0     0.257450\n",
      "5.0     0.138424\n",
      "10.0    0.130209\n",
      "12.0    0.081768\n",
      "11.0    0.069250\n",
      "13.0    0.066917\n",
      "9.0     0.049375\n",
      "7.0     0.048893\n",
      "14.0    0.031181\n",
      "16.0    0.030800\n",
      "17.0    0.027129\n",
      "15.0    0.024251\n",
      "18.0    0.013494\n",
      "19.0    0.007609\n",
      "20.0    0.005854\n",
      "21.0    0.003991\n",
      "22.0    0.002839\n",
      "23.0    0.001964\n",
      "24.0    0.001608\n",
      "6.0     0.001538\n",
      "Name: fixtures_total, dtype: float64\n",
      "\n",
      "\n",
      "The number of null values is: 0\n",
      "\n",
      "\n"
     ]
    }
   ],
   "source": [
    "fixtures_pivot = fix_fixtures(fixtures_pivot, 'fixtures_total')"
   ]
  },
  {
   "cell_type": "markdown",
   "metadata": {
    "ExecuteTime": {
     "end_time": "2020-07-25T11:02:48.557379Z",
     "start_time": "2020-07-25T11:02:48.538432Z"
    },
    "papermill": {
     "duration": 0.026159,
     "end_time": "2020-09-13T12:44:12.302773",
     "exception": false,
     "start_time": "2020-09-13T12:44:12.276614",
     "status": "completed"
    },
    "tags": []
   },
   "source": [
    "### room_bedroom"
   ]
  },
  {
   "cell_type": "code",
   "execution_count": 24,
   "metadata": {
    "ExecuteTime": {
     "end_time": "2020-07-28T10:38:14.111181Z",
     "start_time": "2020-07-28T10:38:13.961073Z"
    },
    "execution": {
     "iopub.execute_input": "2020-09-13T12:44:12.361349Z",
     "iopub.status.busy": "2020-09-13T12:44:12.360439Z",
     "iopub.status.idle": "2020-09-13T12:44:12.483356Z",
     "shell.execute_reply": "2020-09-13T12:44:12.482859Z"
    },
    "papermill": {
     "duration": 0.153991,
     "end_time": "2020-09-13T12:44:12.483497",
     "exception": false,
     "start_time": "2020-09-13T12:44:12.329506",
     "status": "completed"
    },
    "tags": []
   },
   "outputs": [
    {
     "name": "stdout",
     "output_type": "stream",
     "text": [
      "Values less than 0: 0\n",
      "\n",
      "\n",
      "The new data type is: float32\n",
      "Head:\n",
      "0    3.0\n",
      "1    2.0\n",
      "2    3.0\n",
      "3    3.0\n",
      "4    3.0\n",
      "Name: room_bedroom, dtype: float32\n",
      "\n",
      "\n",
      "room_bedroom normalized value counts: First 20\n",
      "3.0     0.540799\n",
      "4.0     0.314901\n",
      "2.0     0.092008\n",
      "5.0     0.044068\n",
      "6.0     0.003792\n",
      "1.0     0.003705\n",
      "7.0     0.000457\n",
      "8.0     0.000135\n",
      "0.0     0.000070\n",
      "9.0     0.000042\n",
      "10.0    0.000022\n",
      "14.0    0.000001\n",
      "Name: room_bedroom, dtype: float64\n",
      "\n",
      "\n",
      "The number of null values is: 0\n",
      "\n",
      "\n"
     ]
    }
   ],
   "source": [
    "fixtures_pivot = fix_fixtures(fixtures_pivot, 'room_bedroom')"
   ]
  },
  {
   "cell_type": "markdown",
   "metadata": {
    "papermill": {
     "duration": 0.025793,
     "end_time": "2020-09-13T12:44:12.535987",
     "exception": false,
     "start_time": "2020-09-13T12:44:12.510194",
     "status": "completed"
    },
    "tags": []
   },
   "source": [
    "### room_full_bath"
   ]
  },
  {
   "cell_type": "code",
   "execution_count": 25,
   "metadata": {
    "ExecuteTime": {
     "end_time": "2020-07-28T10:38:14.241846Z",
     "start_time": "2020-07-28T10:38:14.113143Z"
    },
    "execution": {
     "iopub.execute_input": "2020-09-13T12:44:12.595099Z",
     "iopub.status.busy": "2020-09-13T12:44:12.594215Z",
     "iopub.status.idle": "2020-09-13T12:44:12.715488Z",
     "shell.execute_reply": "2020-09-13T12:44:12.715964Z"
    },
    "papermill": {
     "duration": 0.153498,
     "end_time": "2020-09-13T12:44:12.716127",
     "exception": false,
     "start_time": "2020-09-13T12:44:12.562629",
     "status": "completed"
    },
    "tags": []
   },
   "outputs": [
    {
     "name": "stdout",
     "output_type": "stream",
     "text": [
      "Values less than 0: 0\n",
      "\n",
      "\n",
      "The new data type is: float32\n",
      "Head:\n",
      "0    2.0\n",
      "1    1.0\n",
      "2    1.0\n",
      "3    3.0\n",
      "4    2.0\n",
      "Name: room_full_bath, dtype: float32\n",
      "\n",
      "\n",
      "room_full_bath normalized value counts: First 20\n",
      "2.0     0.654748\n",
      "1.0     0.189543\n",
      "3.0     0.127473\n",
      "4.0     0.021527\n",
      "5.0     0.004872\n",
      "6.0     0.001246\n",
      "7.0     0.000339\n",
      "0.0     0.000147\n",
      "8.0     0.000072\n",
      "9.0     0.000026\n",
      "10.0    0.000005\n",
      "11.0    0.000001\n",
      "Name: room_full_bath, dtype: float64\n",
      "\n",
      "\n",
      "The number of null values is: 0\n",
      "\n",
      "\n"
     ]
    }
   ],
   "source": [
    "fixtures_pivot = fix_fixtures(fixtures_pivot, 'room_full_bath')"
   ]
  },
  {
   "cell_type": "markdown",
   "metadata": {
    "papermill": {
     "duration": 0.02774,
     "end_time": "2020-09-13T12:44:12.770959",
     "exception": false,
     "start_time": "2020-09-13T12:44:12.743219",
     "status": "completed"
    },
    "tags": []
   },
   "source": [
    "### room_half_bath"
   ]
  },
  {
   "cell_type": "code",
   "execution_count": 26,
   "metadata": {
    "ExecuteTime": {
     "end_time": "2020-07-28T10:38:14.373478Z",
     "start_time": "2020-07-28T10:38:14.244068Z"
    },
    "execution": {
     "iopub.execute_input": "2020-09-13T12:44:12.830056Z",
     "iopub.status.busy": "2020-09-13T12:44:12.829191Z",
     "iopub.status.idle": "2020-09-13T12:44:12.953626Z",
     "shell.execute_reply": "2020-09-13T12:44:12.954303Z"
    },
    "papermill": {
     "duration": 0.156221,
     "end_time": "2020-09-13T12:44:12.954470",
     "exception": false,
     "start_time": "2020-09-13T12:44:12.798249",
     "status": "completed"
    },
    "tags": []
   },
   "outputs": [
    {
     "name": "stdout",
     "output_type": "stream",
     "text": [
      "Values less than 0: 0\n",
      "\n",
      "\n",
      "The new data type is: float32\n",
      "Head:\n",
      "0    1.0\n",
      "1    0.0\n",
      "2    0.0\n",
      "3    1.0\n",
      "4    0.0\n",
      "Name: room_half_bath, dtype: float32\n",
      "\n",
      "\n",
      "room_half_bath normalized value counts: First 20\n",
      "0.0    0.589179\n",
      "1.0    0.398573\n",
      "2.0    0.011202\n",
      "3.0    0.000903\n",
      "4.0    0.000109\n",
      "5.0    0.000031\n",
      "6.0    0.000002\n",
      "7.0    0.000001\n",
      "Name: room_half_bath, dtype: float64\n",
      "\n",
      "\n",
      "The number of null values is: 0\n",
      "\n",
      "\n"
     ]
    }
   ],
   "source": [
    "fixtures_pivot = fix_fixtures(fixtures_pivot, 'room_half_bath')"
   ]
  },
  {
   "cell_type": "markdown",
   "metadata": {
    "papermill": {
     "duration": 0.027724,
     "end_time": "2020-09-13T12:44:13.009750",
     "exception": false,
     "start_time": "2020-09-13T12:44:12.982026",
     "status": "completed"
    },
    "tags": []
   },
   "source": [
    "### room_rec"
   ]
  },
  {
   "cell_type": "code",
   "execution_count": 27,
   "metadata": {
    "ExecuteTime": {
     "end_time": "2020-07-28T10:38:14.507739Z",
     "start_time": "2020-07-28T10:38:14.375606Z"
    },
    "execution": {
     "iopub.execute_input": "2020-09-13T12:44:13.069196Z",
     "iopub.status.busy": "2020-09-13T12:44:13.068236Z",
     "iopub.status.idle": "2020-09-13T12:44:13.211289Z",
     "shell.execute_reply": "2020-09-13T12:44:13.211974Z"
    },
    "papermill": {
     "duration": 0.17458,
     "end_time": "2020-09-13T12:44:13.212188",
     "exception": false,
     "start_time": "2020-09-13T12:44:13.037608",
     "status": "completed"
    },
    "tags": []
   },
   "outputs": [
    {
     "name": "stdout",
     "output_type": "stream",
     "text": [
      "Values less than 0: 0\n",
      "\n",
      "\n",
      "The new data type is: float32\n",
      "Head:\n",
      "0    1.0\n",
      "1    0.0\n",
      "2    0.0\n",
      "3    0.0\n",
      "4    0.0\n",
      "Name: room_rec, dtype: float32\n",
      "\n",
      "\n",
      "room_rec normalized value counts: First 20\n",
      "0.0     0.611029\n",
      "1.0     0.329514\n",
      "2.0     0.046319\n",
      "3.0     0.011530\n",
      "4.0     0.001218\n",
      "5.0     0.000230\n",
      "6.0     0.000123\n",
      "7.0     0.000019\n",
      "8.0     0.000009\n",
      "9.0     0.000004\n",
      "10.0    0.000002\n",
      "12.0    0.000001\n",
      "13.0    0.000001\n",
      "11.0    0.000001\n",
      "Name: room_rec, dtype: float64\n",
      "\n",
      "\n",
      "The number of null values is: 0\n",
      "\n",
      "\n"
     ]
    }
   ],
   "source": [
    "fixtures_pivot = fix_fixtures(fixtures_pivot, 'room_rec')"
   ]
  },
  {
   "cell_type": "markdown",
   "metadata": {
    "papermill": {
     "duration": 0.028453,
     "end_time": "2020-09-13T12:44:13.272000",
     "exception": false,
     "start_time": "2020-09-13T12:44:13.243547",
     "status": "completed"
    },
    "tags": []
   },
   "source": [
    "### room_total"
   ]
  },
  {
   "cell_type": "code",
   "execution_count": 28,
   "metadata": {
    "ExecuteTime": {
     "end_time": "2020-07-28T10:38:14.647771Z",
     "start_time": "2020-07-28T10:38:14.509615Z"
    },
    "execution": {
     "iopub.execute_input": "2020-09-13T12:44:13.333547Z",
     "iopub.status.busy": "2020-09-13T12:44:13.332307Z",
     "iopub.status.idle": "2020-09-13T12:44:13.448974Z",
     "shell.execute_reply": "2020-09-13T12:44:13.449682Z"
    },
    "papermill": {
     "duration": 0.149242,
     "end_time": "2020-09-13T12:44:13.449896",
     "exception": false,
     "start_time": "2020-09-13T12:44:13.300654",
     "status": "completed"
    },
    "tags": []
   },
   "outputs": [
    {
     "name": "stdout",
     "output_type": "stream",
     "text": [
      "Values less than 0: 0\n",
      "\n",
      "\n",
      "The new data type is: float32\n",
      "Head:\n",
      "0    8.0\n",
      "1    4.0\n",
      "2    6.0\n",
      "3    6.0\n",
      "4    5.0\n",
      "Name: room_total, dtype: float32\n",
      "\n",
      "\n",
      "room_total normalized value counts: First 20\n",
      "6.0     0.305940\n",
      "7.0     0.211937\n",
      "5.0     0.161923\n",
      "8.0     0.157356\n",
      "9.0     0.073413\n",
      "10.0    0.038381\n",
      "4.0     0.028815\n",
      "11.0    0.011950\n",
      "12.0    0.004756\n",
      "3.0     0.002273\n",
      "13.0    0.001284\n",
      "14.0    0.000675\n",
      "2.0     0.000388\n",
      "15.0    0.000284\n",
      "0.0     0.000240\n",
      "16.0    0.000143\n",
      "1.0     0.000084\n",
      "17.0    0.000051\n",
      "18.0    0.000039\n",
      "20.0    0.000033\n",
      "Name: room_total, dtype: float64\n",
      "\n",
      "\n",
      "The number of null values is: 0\n",
      "\n",
      "\n"
     ]
    }
   ],
   "source": [
    "fixtures_pivot = fix_fixtures(fixtures_pivot, 'room_total')"
   ]
  },
  {
   "cell_type": "markdown",
   "metadata": {
    "papermill": {
     "duration": 0.028658,
     "end_time": "2020-09-13T12:44:13.515584",
     "exception": false,
     "start_time": "2020-09-13T12:44:13.486926",
     "status": "completed"
    },
    "tags": []
   },
   "source": [
    "### story_height_index"
   ]
  },
  {
   "cell_type": "code",
   "execution_count": 29,
   "metadata": {
    "ExecuteTime": {
     "end_time": "2020-07-28T10:38:14.790052Z",
     "start_time": "2020-07-28T10:38:14.649941Z"
    },
    "execution": {
     "iopub.execute_input": "2020-09-13T12:44:13.606740Z",
     "iopub.status.busy": "2020-09-13T12:44:13.605796Z",
     "iopub.status.idle": "2020-09-13T12:44:13.729096Z",
     "shell.execute_reply": "2020-09-13T12:44:13.728565Z"
    },
    "papermill": {
     "duration": 0.160511,
     "end_time": "2020-09-13T12:44:13.729241",
     "exception": false,
     "start_time": "2020-09-13T12:44:13.568730",
     "status": "completed"
    },
    "tags": []
   },
   "outputs": [
    {
     "name": "stdout",
     "output_type": "stream",
     "text": [
      "Values less than 0: 0\n",
      "\n",
      "\n",
      "The new data type is: float32\n",
      "Head:\n",
      "0    2.0\n",
      "1    1.0\n",
      "2    1.0\n",
      "3    2.0\n",
      "4    1.0\n",
      "Name: story_height_index, dtype: float32\n",
      "\n",
      "\n",
      "story_height_index normalized value counts: First 20\n",
      "1.0    0.644237\n",
      "2.0    0.329187\n",
      "3.0    0.017760\n",
      "1.5    0.006352\n",
      "4.0    0.002195\n",
      "2.5    0.000200\n",
      "5.0    0.000042\n",
      "0.0    0.000021\n",
      "3.5    0.000006\n",
      "Name: story_height_index, dtype: float64\n",
      "\n",
      "\n",
      "The number of null values is: 0\n",
      "\n",
      "\n"
     ]
    }
   ],
   "source": [
    "fixtures_pivot = fix_fixtures(fixtures_pivot, 'story_height_index')"
   ]
  },
  {
   "cell_type": "markdown",
   "metadata": {
    "papermill": {
     "duration": 0.029078,
     "end_time": "2020-09-13T12:44:13.787383",
     "exception": false,
     "start_time": "2020-09-13T12:44:13.758305",
     "status": "completed"
    },
    "tags": []
   },
   "source": [
    "# Export fixtures_pivot"
   ]
  },
  {
   "cell_type": "code",
   "execution_count": 30,
   "metadata": {
    "ExecuteTime": {
     "end_time": "2020-07-28T10:38:14.886338Z",
     "start_time": "2020-07-28T10:38:14.792138Z"
    },
    "execution": {
     "iopub.execute_input": "2020-09-13T12:44:13.849762Z",
     "iopub.status.busy": "2020-09-13T12:44:13.849213Z",
     "iopub.status.idle": "2020-09-13T12:44:13.924562Z",
     "shell.execute_reply": "2020-09-13T12:44:13.923951Z"
    },
    "papermill": {
     "duration": 0.108247,
     "end_time": "2020-09-13T12:44:13.924692",
     "exception": false,
     "start_time": "2020-09-13T12:44:13.816445",
     "status": "completed"
    },
    "tags": []
   },
   "outputs": [],
   "source": [
    "save_fn = ROOT_DIR / 'data/raw/2016/fixtures_comps.pickle'\n",
    "save_pickle(fixtures_pivot, save_fn)"
   ]
  }
 ],
 "metadata": {
  "kernelspec": {
   "display_name": "hcad_pred",
   "language": "python",
   "name": "hcad_pred"
  },
  "language_info": {
   "codemirror_mode": {
    "name": "ipython",
    "version": 3
   },
   "file_extension": ".py",
   "mimetype": "text/x-python",
   "name": "python",
   "nbconvert_exporter": "python",
   "pygments_lexer": "ipython3",
   "version": "3.7.8"
  },
  "papermill": {
   "duration": 25.830422,
   "end_time": "2020-09-13T12:44:14.365360",
   "environment_variables": {},
   "exception": null,
   "input_path": "/media/hdd/projects/springboard/hcad_pred/notebooks/01_Exploratory/1.1-rp-hcad-data-view-fixtures.ipynb",
   "output_path": "/media/hdd/projects/springboard/hcad_pred/notebooks/01_Exploratory/output/1.1-rp-hcad-data-view-fixtures_20200913.ipynb",
   "parameters": {},
   "start_time": "2020-09-13T12:43:48.534938",
   "version": "2.1.2"
  },
  "toc": {
   "base_numbering": 1,
   "nav_menu": {},
   "number_sections": true,
   "sideBar": true,
   "skip_h1_title": false,
   "title_cell": "Table of Contents",
   "title_sidebar": "Contents",
   "toc_cell": false,
   "toc_position": {},
   "toc_section_display": true,
   "toc_window_display": false
  }
 },
 "nbformat": 4,
 "nbformat_minor": 4
}