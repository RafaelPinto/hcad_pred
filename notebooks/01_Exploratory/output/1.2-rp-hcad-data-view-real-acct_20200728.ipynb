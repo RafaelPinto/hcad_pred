{
 "cells": [
  {
   "cell_type": "markdown",
   "metadata": {
    "papermill": {
     "duration": 0.036888,
     "end_time": "2020-07-28T11:15:27.648553",
     "exception": false,
     "start_time": "2020-07-28T11:15:27.611665",
     "status": "completed"
    },
    "tags": []
   },
   "source": [
    "# Find the comparables: real_acc.txt\n",
    "\n",
    "The file `real_acc.txt` contains important property information like number total appraised value (the target on this exercise), neighborhood, school district, economic group, land value, and more. Let's load this file and grab a subset with the important columns to continue our study."
   ]
  },
  {
   "cell_type": "code",
   "execution_count": 1,
   "metadata": {
    "ExecuteTime": {
     "end_time": "2020-07-27T18:49:39.510740Z",
     "start_time": "2020-07-27T18:49:39.494489Z"
    },
    "execution": {
     "iopub.execute_input": "2020-07-28T11:15:27.714024Z",
     "iopub.status.busy": "2020-07-28T11:15:27.712446Z",
     "iopub.status.idle": "2020-07-28T11:15:27.723550Z",
     "shell.execute_reply": "2020-07-28T11:15:27.723081Z"
    },
    "papermill": {
     "duration": 0.046546,
     "end_time": "2020-07-28T11:15:27.723677",
     "exception": false,
     "start_time": "2020-07-28T11:15:27.677131",
     "status": "completed"
    },
    "tags": []
   },
   "outputs": [],
   "source": [
    "%load_ext autoreload\n",
    "%autoreload 2"
   ]
  },
  {
   "cell_type": "code",
   "execution_count": 2,
   "metadata": {
    "ExecuteTime": {
     "end_time": "2020-07-27T18:49:40.012778Z",
     "start_time": "2020-07-27T18:49:39.512754Z"
    },
    "execution": {
     "iopub.execute_input": "2020-07-28T11:15:27.783796Z",
     "iopub.status.busy": "2020-07-28T11:15:27.783233Z",
     "iopub.status.idle": "2020-07-28T11:15:28.131607Z",
     "shell.execute_reply": "2020-07-28T11:15:28.132016Z"
    },
    "papermill": {
     "duration": 0.380548,
     "end_time": "2020-07-28T11:15:28.132160",
     "exception": false,
     "start_time": "2020-07-28T11:15:27.751612",
     "status": "completed"
    },
    "tags": []
   },
   "outputs": [],
   "source": [
    "from pathlib import Path\n",
    "import pickle\n",
    "\n",
    "import numpy as np\n",
    "import pandas as pd\n",
    "\n",
    "from src.definitions import ROOT_DIR\n",
    "from src.data.utils import Table, save_pickle"
   ]
  },
  {
   "cell_type": "code",
   "execution_count": 3,
   "metadata": {
    "ExecuteTime": {
     "end_time": "2020-07-27T18:49:40.025746Z",
     "start_time": "2020-07-27T18:49:40.014532Z"
    },
    "execution": {
     "iopub.execute_input": "2020-07-28T11:15:28.195176Z",
     "iopub.status.busy": "2020-07-28T11:15:28.193958Z",
     "iopub.status.idle": "2020-07-28T11:15:28.205543Z",
     "shell.execute_reply": "2020-07-28T11:15:28.206007Z"
    },
    "papermill": {
     "duration": 0.045615,
     "end_time": "2020-07-28T11:15:28.206157",
     "exception": false,
     "start_time": "2020-07-28T11:15:28.160542",
     "status": "completed"
    },
    "tags": []
   },
   "outputs": [],
   "source": [
    "real_acct_fn = ROOT_DIR / 'data/external/2016/Real_acct_owner/real_acct.txt'\n",
    "assert real_acct_fn.exists()"
   ]
  },
  {
   "cell_type": "code",
   "execution_count": 4,
   "metadata": {
    "ExecuteTime": {
     "end_time": "2020-07-27T18:49:40.042309Z",
     "start_time": "2020-07-27T18:49:40.028178Z"
    },
    "execution": {
     "iopub.execute_input": "2020-07-28T11:15:28.266435Z",
     "iopub.status.busy": "2020-07-28T11:15:28.265915Z",
     "iopub.status.idle": "2020-07-28T11:15:28.277002Z",
     "shell.execute_reply": "2020-07-28T11:15:28.276453Z"
    },
    "papermill": {
     "duration": 0.042461,
     "end_time": "2020-07-28T11:15:28.277126",
     "exception": false,
     "start_time": "2020-07-28T11:15:28.234665",
     "status": "completed"
    },
    "tags": []
   },
   "outputs": [],
   "source": [
    "real_acct = Table(real_acct_fn, '2016')"
   ]
  },
  {
   "cell_type": "code",
   "execution_count": 5,
   "metadata": {
    "ExecuteTime": {
     "end_time": "2020-07-27T18:49:40.069514Z",
     "start_time": "2020-07-27T18:49:40.043949Z"
    },
    "execution": {
     "iopub.execute_input": "2020-07-28T11:15:28.338499Z",
     "iopub.status.busy": "2020-07-28T11:15:28.337658Z",
     "iopub.status.idle": "2020-07-28T11:15:28.357519Z",
     "shell.execute_reply": "2020-07-28T11:15:28.356714Z"
    },
    "papermill": {
     "duration": 0.051656,
     "end_time": "2020-07-28T11:15:28.357669",
     "exception": false,
     "start_time": "2020-07-28T11:15:28.306013",
     "status": "completed"
    },
    "scrolled": true,
    "tags": []
   },
   "outputs": [
    {
     "data": {
      "text/plain": [
       "['acct',\n",
       " 'yr',\n",
       " 'mailto',\n",
       " 'mail_addr_1',\n",
       " 'mail_addr_2',\n",
       " 'mail_city',\n",
       " 'mail_state',\n",
       " 'mail_zip',\n",
       " 'mail_country',\n",
       " 'undeliverable',\n",
       " 'str_pfx',\n",
       " 'str_num',\n",
       " 'str_num_sfx',\n",
       " 'str',\n",
       " 'str_sfx',\n",
       " 'str_sfx_dir',\n",
       " 'str_unit',\n",
       " 'site_addr_1',\n",
       " 'site_addr_2',\n",
       " 'site_addr_3',\n",
       " 'state_class',\n",
       " 'school_dist',\n",
       " 'map_facet',\n",
       " 'key_map',\n",
       " 'Neighborhood_Code',\n",
       " 'Neighborhood_Grp',\n",
       " 'Market_Area_1',\n",
       " 'Market_Area_1_Dscr',\n",
       " 'Market_Area_2',\n",
       " 'Market_Area_2_Dscr',\n",
       " 'econ_area',\n",
       " 'econ_bld_class',\n",
       " 'center_code',\n",
       " 'yr_impr',\n",
       " 'yr_annexed',\n",
       " 'splt_dt',\n",
       " 'dsc_cd',\n",
       " 'nxt_bld',\n",
       " 'bld_ar',\n",
       " 'land_ar',\n",
       " 'acreage',\n",
       " 'Cap_acct',\n",
       " 'shared_cad',\n",
       " 'land_val',\n",
       " 'bld_val',\n",
       " 'x_features_val',\n",
       " 'ag_val',\n",
       " 'assessed_val',\n",
       " 'tot_appr_val',\n",
       " 'tot_mkt_val',\n",
       " 'prior_land_val',\n",
       " 'prior_bld_val',\n",
       " 'prior_x_features_val',\n",
       " 'prior_ag_val',\n",
       " 'prior_tot_appr_val',\n",
       " 'prior_tot_mkt_val',\n",
       " 'new_construction_val',\n",
       " 'tot_rcn_val',\n",
       " 'value_status',\n",
       " 'noticed',\n",
       " 'notice_dt',\n",
       " 'protested',\n",
       " 'certified_date',\n",
       " 'rev_dt',\n",
       " 'rev_by',\n",
       " 'new_own_dt',\n",
       " 'lgl_1',\n",
       " 'lgl_2',\n",
       " 'lgl_3',\n",
       " 'lgl_4',\n",
       " 'jurs']"
      ]
     },
     "execution_count": 5,
     "metadata": {},
     "output_type": "execute_result"
    }
   ],
   "source": [
    "real_acct.get_header()"
   ]
  },
  {
   "cell_type": "markdown",
   "metadata": {
    "papermill": {
     "duration": 0.029107,
     "end_time": "2020-07-28T11:15:28.415519",
     "exception": false,
     "start_time": "2020-07-28T11:15:28.386412",
     "status": "completed"
    },
    "tags": []
   },
   "source": [
    "# Load accounts and columns of interest\n",
    "Let's remove the account numbers that don't meet free-standing single-family home criteria that we found while processing the `building_res.txt` file.\n",
    "\n",
    "Also, the columns above show a lot of value information along property groups that might come in handy when predicting the appraised value. Now let's get a slice of some of the important columns."
   ]
  },
  {
   "cell_type": "code",
   "execution_count": 6,
   "metadata": {
    "ExecuteTime": {
     "end_time": "2020-07-27T18:49:45.340149Z",
     "start_time": "2020-07-27T18:49:40.071388Z"
    },
    "execution": {
     "iopub.execute_input": "2020-07-28T11:15:28.477973Z",
     "iopub.status.busy": "2020-07-28T11:15:28.477172Z",
     "iopub.status.idle": "2020-07-28T11:15:35.092353Z",
     "shell.execute_reply": "2020-07-28T11:15:35.091913Z"
    },
    "papermill": {
     "duration": 6.647648,
     "end_time": "2020-07-28T11:15:35.092474",
     "exception": false,
     "start_time": "2020-07-28T11:15:28.444826",
     "status": "completed"
    },
    "tags": []
   },
   "outputs": [],
   "source": [
    "skiprows = real_acct.get_skiprows()"
   ]
  },
  {
   "cell_type": "code",
   "execution_count": 7,
   "metadata": {
    "ExecuteTime": {
     "end_time": "2020-07-27T18:49:45.357119Z",
     "start_time": "2020-07-27T18:49:45.341776Z"
    },
    "execution": {
     "iopub.execute_input": "2020-07-28T11:15:35.156998Z",
     "iopub.status.busy": "2020-07-28T11:15:35.156477Z",
     "iopub.status.idle": "2020-07-28T11:15:35.167563Z",
     "shell.execute_reply": "2020-07-28T11:15:35.168062Z"
    },
    "papermill": {
     "duration": 0.046702,
     "end_time": "2020-07-28T11:15:35.168228",
     "exception": false,
     "start_time": "2020-07-28T11:15:35.121526",
     "status": "completed"
    },
    "tags": []
   },
   "outputs": [],
   "source": [
    "cols = [\n",
    "    'acct',\n",
    "    'site_addr_3', # Zip\n",
    "    'school_dist',\n",
    "    'Neighborhood_Code',\n",
    "    'Market_Area_1_Dscr',\n",
    "    'Market_Area_2_Dscr',\n",
    "    'center_code',\n",
    "    'bld_ar',\n",
    "    'land_ar',\n",
    "    'acreage',\n",
    "    'land_val',\n",
    "    'tot_appr_val', # Target\n",
    "    'prior_land_val',\n",
    "    'prior_tot_appr_val',\n",
    "    'new_own_dt',  # New owner date\n",
    "]"
   ]
  },
  {
   "cell_type": "code",
   "execution_count": 8,
   "metadata": {
    "ExecuteTime": {
     "end_time": "2020-07-27T18:49:52.961310Z",
     "start_time": "2020-07-27T18:49:45.361148Z"
    },
    "execution": {
     "iopub.execute_input": "2020-07-28T11:15:35.229904Z",
     "iopub.status.busy": "2020-07-28T11:15:35.229381Z",
     "iopub.status.idle": "2020-07-28T11:15:42.837440Z",
     "shell.execute_reply": "2020-07-28T11:15:42.837845Z"
    },
    "papermill": {
     "duration": 7.640508,
     "end_time": "2020-07-28T11:15:42.837987",
     "exception": false,
     "start_time": "2020-07-28T11:15:35.197479",
     "status": "completed"
    },
    "tags": []
   },
   "outputs": [],
   "source": [
    "real_acct_df = real_acct.get_df(skiprows=skiprows, usecols=cols)"
   ]
  },
  {
   "cell_type": "code",
   "execution_count": 9,
   "metadata": {
    "ExecuteTime": {
     "end_time": "2020-07-27T18:49:53.003445Z",
     "start_time": "2020-07-27T18:49:52.966139Z"
    },
    "execution": {
     "iopub.execute_input": "2020-07-28T11:15:42.901095Z",
     "iopub.status.busy": "2020-07-28T11:15:42.900309Z",
     "iopub.status.idle": "2020-07-28T11:15:42.927094Z",
     "shell.execute_reply": "2020-07-28T11:15:42.927505Z"
    },
    "papermill": {
     "duration": 0.061249,
     "end_time": "2020-07-28T11:15:42.927650",
     "exception": false,
     "start_time": "2020-07-28T11:15:42.866401",
     "status": "completed"
    },
    "tags": []
   },
   "outputs": [
    {
     "data": {
      "text/html": [
       "<div>\n",
       "<style scoped>\n",
       "    .dataframe tbody tr th:only-of-type {\n",
       "        vertical-align: middle;\n",
       "    }\n",
       "\n",
       "    .dataframe tbody tr th {\n",
       "        vertical-align: top;\n",
       "    }\n",
       "\n",
       "    .dataframe thead th {\n",
       "        text-align: right;\n",
       "    }\n",
       "</style>\n",
       "<table border=\"1\" class=\"dataframe\">\n",
       "  <thead>\n",
       "    <tr style=\"text-align: right;\">\n",
       "      <th></th>\n",
       "      <th>acct</th>\n",
       "      <th>site_addr_3</th>\n",
       "      <th>school_dist</th>\n",
       "      <th>Neighborhood_Code</th>\n",
       "      <th>Market_Area_1_Dscr</th>\n",
       "      <th>Market_Area_2_Dscr</th>\n",
       "      <th>center_code</th>\n",
       "      <th>bld_ar</th>\n",
       "      <th>land_ar</th>\n",
       "      <th>acreage</th>\n",
       "      <th>land_val</th>\n",
       "      <th>tot_appr_val</th>\n",
       "      <th>prior_land_val</th>\n",
       "      <th>prior_tot_appr_val</th>\n",
       "      <th>new_own_dt</th>\n",
       "    </tr>\n",
       "  </thead>\n",
       "  <tbody>\n",
       "    <tr>\n",
       "      <th>0</th>\n",
       "      <td>21440000001</td>\n",
       "      <td>77003</td>\n",
       "      <td>01</td>\n",
       "      <td>8400.12</td>\n",
       "      <td>1C Midtown, Riverside Terrace, University Areas</td>\n",
       "      <td>1C Midtown, Riverside Terrace, University Areas</td>\n",
       "      <td>61</td>\n",
       "      <td>2537</td>\n",
       "      <td>5000</td>\n",
       "      <td>0.1148</td>\n",
       "      <td>125000.0</td>\n",
       "      <td>145200.0</td>\n",
       "      <td>75000.0</td>\n",
       "      <td>132000.0</td>\n",
       "      <td>2012-09-11 00:00:00.000</td>\n",
       "    </tr>\n",
       "    <tr>\n",
       "      <th>1</th>\n",
       "      <td>21470000008</td>\n",
       "      <td>77003</td>\n",
       "      <td>01</td>\n",
       "      <td>8400.12</td>\n",
       "      <td>1C Midtown, Riverside Terrace, University Areas</td>\n",
       "      <td>1C Midtown, Riverside Terrace, University Areas</td>\n",
       "      <td>61</td>\n",
       "      <td>1000</td>\n",
       "      <td>5000</td>\n",
       "      <td>0.1148</td>\n",
       "      <td>74900.0</td>\n",
       "      <td>75000.0</td>\n",
       "      <td>64000.0</td>\n",
       "      <td>65000.0</td>\n",
       "      <td>1988-01-02 00:00:00.000</td>\n",
       "    </tr>\n",
       "    <tr>\n",
       "      <th>2</th>\n",
       "      <td>21480000002</td>\n",
       "      <td>77003</td>\n",
       "      <td>01</td>\n",
       "      <td>8400.12</td>\n",
       "      <td>1C Midtown, Riverside Terrace, University Areas</td>\n",
       "      <td>1C Midtown, Riverside Terrace, University Areas</td>\n",
       "      <td>61</td>\n",
       "      <td>1496</td>\n",
       "      <td>5000</td>\n",
       "      <td>0.1148</td>\n",
       "      <td>125000.0</td>\n",
       "      <td>85929.0</td>\n",
       "      <td>75000.0</td>\n",
       "      <td>78118.0</td>\n",
       "      <td>2004-07-28 00:00:00.000</td>\n",
       "    </tr>\n",
       "    <tr>\n",
       "      <th>3</th>\n",
       "      <td>21650000007</td>\n",
       "      <td>77003</td>\n",
       "      <td>01</td>\n",
       "      <td>8400.12</td>\n",
       "      <td>1C Midtown, Riverside Terrace, University Areas</td>\n",
       "      <td>1C Midtown, Riverside Terrace, University Areas</td>\n",
       "      <td>61</td>\n",
       "      <td>3387</td>\n",
       "      <td>5000</td>\n",
       "      <td>0.1148</td>\n",
       "      <td>125000.0</td>\n",
       "      <td>549004.0</td>\n",
       "      <td>75000.0</td>\n",
       "      <td>75000.0</td>\n",
       "      <td>2013-10-14 00:00:00.000</td>\n",
       "    </tr>\n",
       "    <tr>\n",
       "      <th>4</th>\n",
       "      <td>21650000011</td>\n",
       "      <td>77003</td>\n",
       "      <td>01</td>\n",
       "      <td>8400.12</td>\n",
       "      <td>1C Midtown, Riverside Terrace, University Areas</td>\n",
       "      <td>1C Midtown, Riverside Terrace, University Areas</td>\n",
       "      <td>61</td>\n",
       "      <td>1508</td>\n",
       "      <td>6250</td>\n",
       "      <td>0.1435</td>\n",
       "      <td>140625.0</td>\n",
       "      <td>181370.0</td>\n",
       "      <td>84375.0</td>\n",
       "      <td>164882.0</td>\n",
       "      <td>2001-05-05 00:00:00.000</td>\n",
       "    </tr>\n",
       "  </tbody>\n",
       "</table>\n",
       "</div>"
      ],
      "text/plain": [
       "          acct site_addr_3 school_dist  Neighborhood_Code  \\\n",
       "0  21440000001       77003       01               8400.12   \n",
       "1  21470000008       77003       01               8400.12   \n",
       "2  21480000002       77003       01               8400.12   \n",
       "3  21650000007       77003       01               8400.12   \n",
       "4  21650000011       77003       01               8400.12   \n",
       "\n",
       "                                Market_Area_1_Dscr  \\\n",
       "0  1C Midtown, Riverside Terrace, University Areas   \n",
       "1  1C Midtown, Riverside Terrace, University Areas   \n",
       "2  1C Midtown, Riverside Terrace, University Areas   \n",
       "3  1C Midtown, Riverside Terrace, University Areas   \n",
       "4  1C Midtown, Riverside Terrace, University Areas   \n",
       "\n",
       "                                Market_Area_2_Dscr center_code  bld_ar  \\\n",
       "0  1C Midtown, Riverside Terrace, University Areas       61       2537   \n",
       "1  1C Midtown, Riverside Terrace, University Areas       61       1000   \n",
       "2  1C Midtown, Riverside Terrace, University Areas       61       1496   \n",
       "3  1C Midtown, Riverside Terrace, University Areas       61       3387   \n",
       "4  1C Midtown, Riverside Terrace, University Areas       61       1508   \n",
       "\n",
       "   land_ar  acreage  land_val  tot_appr_val  prior_land_val  \\\n",
       "0     5000   0.1148  125000.0      145200.0         75000.0   \n",
       "1     5000   0.1148   74900.0       75000.0         64000.0   \n",
       "2     5000   0.1148  125000.0       85929.0         75000.0   \n",
       "3     5000   0.1148  125000.0      549004.0         75000.0   \n",
       "4     6250   0.1435  140625.0      181370.0         84375.0   \n",
       "\n",
       "   prior_tot_appr_val               new_own_dt  \n",
       "0            132000.0  2012-09-11 00:00:00.000  \n",
       "1             65000.0  1988-01-02 00:00:00.000  \n",
       "2             78118.0  2004-07-28 00:00:00.000  \n",
       "3             75000.0  2013-10-14 00:00:00.000  \n",
       "4            164882.0  2001-05-05 00:00:00.000  "
      ]
     },
     "execution_count": 9,
     "metadata": {},
     "output_type": "execute_result"
    }
   ],
   "source": [
    "real_acct_df.head()"
   ]
  },
  {
   "cell_type": "markdown",
   "metadata": {
    "papermill": {
     "duration": 0.030996,
     "end_time": "2020-07-28T11:15:42.988507",
     "exception": false,
     "start_time": "2020-07-28T11:15:42.957511",
     "status": "completed"
    },
    "tags": []
   },
   "source": [
    "Double check if the there is only one account number per row"
   ]
  },
  {
   "cell_type": "code",
   "execution_count": 10,
   "metadata": {
    "ExecuteTime": {
     "end_time": "2020-07-27T18:49:53.118895Z",
     "start_time": "2020-07-27T18:49:53.005411Z"
    },
    "execution": {
     "iopub.execute_input": "2020-07-28T11:15:43.054378Z",
     "iopub.status.busy": "2020-07-28T11:15:43.053572Z",
     "iopub.status.idle": "2020-07-28T11:15:43.159943Z",
     "shell.execute_reply": "2020-07-28T11:15:43.159017Z"
    },
    "papermill": {
     "duration": 0.14044,
     "end_time": "2020-07-28T11:15:43.160165",
     "exception": false,
     "start_time": "2020-07-28T11:15:43.019725",
     "status": "completed"
    },
    "tags": []
   },
   "outputs": [],
   "source": [
    "assert real_acct_df['acct'].is_unique"
   ]
  },
  {
   "cell_type": "markdown",
   "metadata": {
    "papermill": {
     "duration": 0.031867,
     "end_time": "2020-07-28T11:15:43.226244",
     "exception": false,
     "start_time": "2020-07-28T11:15:43.194377",
     "status": "completed"
    },
    "tags": []
   },
   "source": [
    "# Describe and clean the columns\n",
    "\n",
    "Now we must describe each column by answering:\n",
    "\n",
    "* Meaning\n",
    "* Descriptive statistics or value counts\n",
    "* Data type\n",
    "\n",
    "There is no explicit document provided by HCAD explaining all the variables, but most are easy to guess for using their name."
   ]
  },
  {
   "cell_type": "markdown",
   "metadata": {
    "papermill": {
     "duration": 0.029358,
     "end_time": "2020-07-28T11:15:43.285812",
     "exception": false,
     "start_time": "2020-07-28T11:15:43.256454",
     "status": "completed"
    },
    "tags": []
   },
   "source": [
    "## Fix column names\n",
    "We would like the column names to be all lower case, with no spaces nor non-alphanumeric characters."
   ]
  },
  {
   "cell_type": "code",
   "execution_count": 11,
   "metadata": {
    "ExecuteTime": {
     "end_time": "2020-07-27T18:49:53.136699Z",
     "start_time": "2020-07-27T18:49:53.121136Z"
    },
    "execution": {
     "iopub.execute_input": "2020-07-28T11:15:43.349856Z",
     "iopub.status.busy": "2020-07-28T11:15:43.349053Z",
     "iopub.status.idle": "2020-07-28T11:15:43.360729Z",
     "shell.execute_reply": "2020-07-28T11:15:43.360197Z"
    },
    "papermill": {
     "duration": 0.045013,
     "end_time": "2020-07-28T11:15:43.360858",
     "exception": false,
     "start_time": "2020-07-28T11:15:43.315845",
     "status": "completed"
    },
    "tags": []
   },
   "outputs": [],
   "source": [
    "from src.data.utils import fix_column_names"
   ]
  },
  {
   "cell_type": "code",
   "execution_count": 12,
   "metadata": {
    "ExecuteTime": {
     "end_time": "2020-07-27T18:49:53.155905Z",
     "start_time": "2020-07-27T18:49:53.138888Z"
    },
    "execution": {
     "iopub.execute_input": "2020-07-28T11:15:43.425002Z",
     "iopub.status.busy": "2020-07-28T11:15:43.424496Z",
     "iopub.status.idle": "2020-07-28T11:15:43.436395Z",
     "shell.execute_reply": "2020-07-28T11:15:43.436827Z"
    },
    "papermill": {
     "duration": 0.045509,
     "end_time": "2020-07-28T11:15:43.436972",
     "exception": false,
     "start_time": "2020-07-28T11:15:43.391463",
     "status": "completed"
    },
    "tags": []
   },
   "outputs": [
    {
     "data": {
      "text/plain": [
       "Index(['acct', 'site_addr_3', 'school_dist', 'Neighborhood_Code',\n",
       "       'Market_Area_1_Dscr', 'Market_Area_2_Dscr', 'center_code', 'bld_ar',\n",
       "       'land_ar', 'acreage', 'land_val', 'tot_appr_val', 'prior_land_val',\n",
       "       'prior_tot_appr_val', 'new_own_dt'],\n",
       "      dtype='object')"
      ]
     },
     "execution_count": 12,
     "metadata": {},
     "output_type": "execute_result"
    }
   ],
   "source": [
    "real_acct_df.columns"
   ]
  },
  {
   "cell_type": "code",
   "execution_count": 13,
   "metadata": {
    "ExecuteTime": {
     "end_time": "2020-07-27T18:49:53.180991Z",
     "start_time": "2020-07-27T18:49:53.159565Z"
    },
    "execution": {
     "iopub.execute_input": "2020-07-28T11:15:43.501381Z",
     "iopub.status.busy": "2020-07-28T11:15:43.500871Z",
     "iopub.status.idle": "2020-07-28T11:15:43.581366Z",
     "shell.execute_reply": "2020-07-28T11:15:43.579131Z"
    },
    "papermill": {
     "duration": 0.114469,
     "end_time": "2020-07-28T11:15:43.581826",
     "exception": false,
     "start_time": "2020-07-28T11:15:43.467357",
     "status": "completed"
    },
    "tags": []
   },
   "outputs": [],
   "source": [
    "real_acct_df = fix_column_names(real_acct_df)"
   ]
  },
  {
   "cell_type": "code",
   "execution_count": 14,
   "metadata": {
    "ExecuteTime": {
     "end_time": "2020-07-27T18:49:53.202008Z",
     "start_time": "2020-07-27T18:49:53.182994Z"
    },
    "execution": {
     "iopub.execute_input": "2020-07-28T11:15:43.651985Z",
     "iopub.status.busy": "2020-07-28T11:15:43.651184Z",
     "iopub.status.idle": "2020-07-28T11:15:43.663624Z",
     "shell.execute_reply": "2020-07-28T11:15:43.664059Z"
    },
    "papermill": {
     "duration": 0.046724,
     "end_time": "2020-07-28T11:15:43.664202",
     "exception": false,
     "start_time": "2020-07-28T11:15:43.617478",
     "status": "completed"
    },
    "tags": []
   },
   "outputs": [
    {
     "data": {
      "text/plain": [
       "Index(['acct', 'site_addr_3', 'school_dist', 'neighborhood_code',\n",
       "       'market_area_1_dscr', 'market_area_2_dscr', 'center_code', 'bld_ar',\n",
       "       'land_ar', 'acreage', 'land_val', 'tot_appr_val', 'prior_land_val',\n",
       "       'prior_tot_appr_val', 'new_own_dt'],\n",
       "      dtype='object')"
      ]
     },
     "execution_count": 14,
     "metadata": {},
     "output_type": "execute_result"
    }
   ],
   "source": [
    "real_acct_df.columns"
   ]
  },
  {
   "cell_type": "markdown",
   "metadata": {
    "papermill": {
     "duration": 0.032719,
     "end_time": "2020-07-28T11:15:43.727647",
     "exception": false,
     "start_time": "2020-07-28T11:15:43.694928",
     "status": "completed"
    },
    "tags": []
   },
   "source": [
    "### Find duplicated rows"
   ]
  },
  {
   "cell_type": "code",
   "execution_count": 15,
   "metadata": {
    "ExecuteTime": {
     "end_time": "2020-07-27T18:49:54.476006Z",
     "start_time": "2020-07-27T18:49:53.204343Z"
    },
    "execution": {
     "iopub.execute_input": "2020-07-28T11:15:43.794304Z",
     "iopub.status.busy": "2020-07-28T11:15:43.793791Z",
     "iopub.status.idle": "2020-07-28T11:15:45.015996Z",
     "shell.execute_reply": "2020-07-28T11:15:45.015533Z"
    },
    "papermill": {
     "duration": 1.256436,
     "end_time": "2020-07-28T11:15:45.016117",
     "exception": false,
     "start_time": "2020-07-28T11:15:43.759681",
     "status": "completed"
    },
    "tags": []
   },
   "outputs": [
    {
     "data": {
      "text/html": [
       "<div>\n",
       "<style scoped>\n",
       "    .dataframe tbody tr th:only-of-type {\n",
       "        vertical-align: middle;\n",
       "    }\n",
       "\n",
       "    .dataframe tbody tr th {\n",
       "        vertical-align: top;\n",
       "    }\n",
       "\n",
       "    .dataframe thead th {\n",
       "        text-align: right;\n",
       "    }\n",
       "</style>\n",
       "<table border=\"1\" class=\"dataframe\">\n",
       "  <thead>\n",
       "    <tr style=\"text-align: right;\">\n",
       "      <th></th>\n",
       "      <th>acct</th>\n",
       "      <th>site_addr_3</th>\n",
       "      <th>school_dist</th>\n",
       "      <th>neighborhood_code</th>\n",
       "      <th>market_area_1_dscr</th>\n",
       "      <th>market_area_2_dscr</th>\n",
       "      <th>center_code</th>\n",
       "      <th>bld_ar</th>\n",
       "      <th>land_ar</th>\n",
       "      <th>acreage</th>\n",
       "      <th>land_val</th>\n",
       "      <th>tot_appr_val</th>\n",
       "      <th>prior_land_val</th>\n",
       "      <th>prior_tot_appr_val</th>\n",
       "      <th>new_own_dt</th>\n",
       "    </tr>\n",
       "  </thead>\n",
       "  <tbody>\n",
       "  </tbody>\n",
       "</table>\n",
       "</div>"
      ],
      "text/plain": [
       "Empty DataFrame\n",
       "Columns: [acct, site_addr_3, school_dist, neighborhood_code, market_area_1_dscr, market_area_2_dscr, center_code, bld_ar, land_ar, acreage, land_val, tot_appr_val, prior_land_val, prior_tot_appr_val, new_own_dt]\n",
       "Index: []"
      ]
     },
     "execution_count": 15,
     "metadata": {},
     "output_type": "execute_result"
    }
   ],
   "source": [
    "cond0 = real_acct_df.duplicated()\n",
    "real_acct_df.loc[cond0, :]"
   ]
  },
  {
   "cell_type": "markdown",
   "metadata": {
    "papermill": {
     "duration": 0.031393,
     "end_time": "2020-07-28T11:15:45.078956",
     "exception": false,
     "start_time": "2020-07-28T11:15:45.047563",
     "status": "completed"
    },
    "tags": []
   },
   "source": [
    "## Zip code: site_addr_3\n",
    "These are the property zip code. They should be non-zero integers. Most should start with 77."
   ]
  },
  {
   "cell_type": "code",
   "execution_count": 16,
   "metadata": {
    "ExecuteTime": {
     "end_time": "2020-07-27T18:49:54.573846Z",
     "start_time": "2020-07-27T18:49:54.477873Z"
    },
    "execution": {
     "iopub.execute_input": "2020-07-28T11:15:45.150985Z",
     "iopub.status.busy": "2020-07-28T11:15:45.150422Z",
     "iopub.status.idle": "2020-07-28T11:15:45.221340Z",
     "shell.execute_reply": "2020-07-28T11:15:45.220823Z"
    },
    "papermill": {
     "duration": 0.111178,
     "end_time": "2020-07-28T11:15:45.221470",
     "exception": false,
     "start_time": "2020-07-28T11:15:45.110292",
     "status": "completed"
    },
    "tags": []
   },
   "outputs": [],
   "source": [
    "# Let's change the column name\n",
    "real_acct_df.rename({'site_addr_3': 'zip_code'}, axis=1, inplace=True)"
   ]
  },
  {
   "cell_type": "code",
   "execution_count": 17,
   "metadata": {
    "ExecuteTime": {
     "end_time": "2020-07-27T18:49:54.876451Z",
     "start_time": "2020-07-27T18:49:54.576399Z"
    },
    "execution": {
     "iopub.execute_input": "2020-07-28T11:15:45.287240Z",
     "iopub.status.busy": "2020-07-28T11:15:45.286410Z",
     "iopub.status.idle": "2020-07-28T11:15:45.532457Z",
     "shell.execute_reply": "2020-07-28T11:15:45.531938Z"
    },
    "papermill": {
     "duration": 0.280703,
     "end_time": "2020-07-28T11:15:45.532578",
     "exception": false,
     "start_time": "2020-07-28T11:15:45.251875",
     "status": "completed"
    },
    "tags": []
   },
   "outputs": [],
   "source": [
    "# there were some empty zip code: ' '\n",
    "real_acct_df['zip_code'] = real_acct_df['zip_code'].apply(lambda code: code if code.startswith('77') else np.nan )"
   ]
  },
  {
   "cell_type": "code",
   "execution_count": 18,
   "metadata": {
    "ExecuteTime": {
     "end_time": "2020-07-27T18:49:55.394093Z",
     "start_time": "2020-07-27T18:49:54.878102Z"
    },
    "execution": {
     "iopub.execute_input": "2020-07-28T11:15:45.604912Z",
     "iopub.status.busy": "2020-07-28T11:15:45.604400Z",
     "iopub.status.idle": "2020-07-28T11:15:46.097325Z",
     "shell.execute_reply": "2020-07-28T11:15:46.096758Z"
    },
    "papermill": {
     "duration": 0.527871,
     "end_time": "2020-07-28T11:15:46.097447",
     "exception": false,
     "start_time": "2020-07-28T11:15:45.569576",
     "status": "completed"
    },
    "tags": []
   },
   "outputs": [],
   "source": [
    "real_acct_df['zip_code'] = pd.to_numeric(real_acct_df['zip_code'], downcast='unsigned')"
   ]
  },
  {
   "cell_type": "code",
   "execution_count": 19,
   "metadata": {
    "ExecuteTime": {
     "end_time": "2020-07-27T18:49:55.424737Z",
     "start_time": "2020-07-27T18:49:55.395624Z"
    },
    "execution": {
     "iopub.execute_input": "2020-07-28T11:15:46.166677Z",
     "iopub.status.busy": "2020-07-28T11:15:46.166131Z",
     "iopub.status.idle": "2020-07-28T11:15:46.189545Z",
     "shell.execute_reply": "2020-07-28T11:15:46.188974Z"
    },
    "papermill": {
     "duration": 0.06105,
     "end_time": "2020-07-28T11:15:46.189676",
     "exception": false,
     "start_time": "2020-07-28T11:15:46.128626",
     "status": "completed"
    },
    "tags": []
   },
   "outputs": [
    {
     "data": {
      "text/plain": [
       "77449.0    30333\n",
       "77084.0    24708\n",
       "77429.0    24006\n",
       "77433.0    23831\n",
       "77379.0    23470\n",
       "           ...  \n",
       "77357.0       99\n",
       "77002.0       87\n",
       "77365.0       73\n",
       "77535.0        7\n",
       "77443.0        4\n",
       "Name: zip_code, Length: 140, dtype: int64"
      ]
     },
     "execution_count": 19,
     "metadata": {},
     "output_type": "execute_result"
    }
   ],
   "source": [
    "real_acct_df['zip_code'].value_counts()"
   ]
  },
  {
   "cell_type": "code",
   "execution_count": 20,
   "metadata": {
    "ExecuteTime": {
     "end_time": "2020-07-27T18:49:55.486267Z",
     "start_time": "2020-07-27T18:49:55.427294Z"
    },
    "execution": {
     "iopub.execute_input": "2020-07-28T11:15:46.255621Z",
     "iopub.status.busy": "2020-07-28T11:15:46.255112Z",
     "iopub.status.idle": "2020-07-28T11:15:46.303091Z",
     "shell.execute_reply": "2020-07-28T11:15:46.302579Z"
    },
    "papermill": {
     "duration": 0.082421,
     "end_time": "2020-07-28T11:15:46.303212",
     "exception": false,
     "start_time": "2020-07-28T11:15:46.220791",
     "status": "completed"
    },
    "tags": []
   },
   "outputs": [
    {
     "data": {
      "text/plain": [
       "count    957641.000000\n",
       "mean      77205.186683\n",
       "std         194.750485\n",
       "min       77002.000000\n",
       "25%       77045.000000\n",
       "50%       77085.000000\n",
       "75%       77389.000000\n",
       "max       77598.000000\n",
       "Name: zip_code, dtype: float64"
      ]
     },
     "execution_count": 20,
     "metadata": {},
     "output_type": "execute_result"
    }
   ],
   "source": [
    "real_acct_df['zip_code'].describe()"
   ]
  },
  {
   "cell_type": "code",
   "execution_count": 21,
   "metadata": {
    "ExecuteTime": {
     "end_time": "2020-07-27T18:49:55.638534Z",
     "start_time": "2020-07-27T18:49:55.488367Z"
    },
    "execution": {
     "iopub.execute_input": "2020-07-28T11:15:46.371580Z",
     "iopub.status.busy": "2020-07-28T11:15:46.371044Z",
     "iopub.status.idle": "2020-07-28T11:15:46.464423Z",
     "shell.execute_reply": "2020-07-28T11:15:46.463126Z"
    },
    "papermill": {
     "duration": 0.129969,
     "end_time": "2020-07-28T11:15:46.464645",
     "exception": false,
     "start_time": "2020-07-28T11:15:46.334676",
     "status": "completed"
    },
    "tags": []
   },
   "outputs": [
    {
     "name": "stdout",
     "output_type": "stream",
     "text": [
      "The number of missing values is: 46\n"
     ]
    }
   ],
   "source": [
    "print(f\"The number of missing values is: {sum(real_acct_df['zip_code'].isnull())}\")"
   ]
  },
  {
   "cell_type": "markdown",
   "metadata": {
    "papermill": {
     "duration": 0.033629,
     "end_time": "2020-07-28T11:15:46.542027",
     "exception": false,
     "start_time": "2020-07-28T11:15:46.508398",
     "status": "completed"
    },
    "tags": []
   },
   "source": [
    "## School district: school_dist\n",
    "The school district values come coded as two digit integers. There are a few numbers missing from the code sequence, i.e. 10, 11, 13, 14, and 22. This is consistent with the ISD codes in the `code_jur_list` table. Let's decode the school district values using this table, but first let's represent the missing data with NaNs."
   ]
  },
  {
   "cell_type": "code",
   "execution_count": 22,
   "metadata": {
    "ExecuteTime": {
     "end_time": "2020-07-27T18:49:55.651395Z",
     "start_time": "2020-07-27T18:49:55.640461Z"
    },
    "execution": {
     "iopub.execute_input": "2020-07-28T11:15:46.616360Z",
     "iopub.status.busy": "2020-07-28T11:15:46.615848Z",
     "iopub.status.idle": "2020-07-28T11:15:46.628379Z",
     "shell.execute_reply": "2020-07-28T11:15:46.628938Z"
    },
    "papermill": {
     "duration": 0.049664,
     "end_time": "2020-07-28T11:15:46.629094",
     "exception": false,
     "start_time": "2020-07-28T11:15:46.579430",
     "status": "completed"
    },
    "tags": []
   },
   "outputs": [],
   "source": [
    "from src.data.utils import decode_isd"
   ]
  },
  {
   "cell_type": "code",
   "execution_count": 23,
   "metadata": {
    "ExecuteTime": {
     "end_time": "2020-07-27T18:49:55.671105Z",
     "start_time": "2020-07-27T18:49:55.655369Z"
    },
    "execution": {
     "iopub.execute_input": "2020-07-28T11:15:46.700168Z",
     "iopub.status.busy": "2020-07-28T11:15:46.699331Z",
     "iopub.status.idle": "2020-07-28T11:15:46.713248Z",
     "shell.execute_reply": "2020-07-28T11:15:46.713803Z"
    },
    "papermill": {
     "duration": 0.051996,
     "end_time": "2020-07-28T11:15:46.714050",
     "exception": false,
     "start_time": "2020-07-28T11:15:46.662054",
     "status": "completed"
    },
    "tags": []
   },
   "outputs": [
    {
     "data": {
      "text/plain": [
       "0    01   \n",
       "1    01   \n",
       "2    01   \n",
       "3    01   \n",
       "4    01   \n",
       "Name: school_dist, dtype: object"
      ]
     },
     "execution_count": 23,
     "metadata": {},
     "output_type": "execute_result"
    }
   ],
   "source": [
    "real_acct_df['school_dist'].head()"
   ]
  },
  {
   "cell_type": "code",
   "execution_count": 24,
   "metadata": {
    "ExecuteTime": {
     "end_time": "2020-07-27T18:49:56.648205Z",
     "start_time": "2020-07-27T18:49:55.673884Z"
    },
    "execution": {
     "iopub.execute_input": "2020-07-28T11:15:46.782329Z",
     "iopub.status.busy": "2020-07-28T11:15:46.781527Z",
     "iopub.status.idle": "2020-07-28T11:15:47.723181Z",
     "shell.execute_reply": "2020-07-28T11:15:47.723621Z"
    },
    "papermill": {
     "duration": 0.977794,
     "end_time": "2020-07-28T11:15:47.723774",
     "exception": false,
     "start_time": "2020-07-28T11:15:46.745980",
     "status": "completed"
    },
    "tags": []
   },
   "outputs": [],
   "source": [
    "real_acct_df['school_dist'] = decode_isd(real_acct_df['school_dist'])"
   ]
  },
  {
   "cell_type": "code",
   "execution_count": 25,
   "metadata": {
    "ExecuteTime": {
     "end_time": "2020-07-27T18:49:56.747443Z",
     "start_time": "2020-07-27T18:49:56.649673Z"
    },
    "execution": {
     "iopub.execute_input": "2020-07-28T11:15:47.794620Z",
     "iopub.status.busy": "2020-07-28T11:15:47.793749Z",
     "iopub.status.idle": "2020-07-28T11:15:47.874942Z",
     "shell.execute_reply": "2020-07-28T11:15:47.875374Z"
    },
    "papermill": {
     "duration": 0.119344,
     "end_time": "2020-07-28T11:15:47.875521",
     "exception": false,
     "start_time": "2020-07-28T11:15:47.756177",
     "status": "completed"
    },
    "tags": []
   },
   "outputs": [
    {
     "data": {
      "text/plain": [
       "HOUSTON ISD                     0.281764\n",
       "CYPRESS-FAIRBANKS ISD           0.154691\n",
       "KLEIN ISD                       0.073474\n",
       "HUMBLE ISD                      0.057477\n",
       "KATY ISD                        0.053951\n",
       "ALDINE ISD                      0.053262\n",
       "PASADENA ISD                    0.051970\n",
       "SPRING ISD                      0.042360\n",
       "CLEAR CREEK ISD                 0.037231\n",
       "ALIEF ISD                       0.035638\n",
       "SPRING BRANCH ISD               0.033610\n",
       "GOOSE CREEK CISD                0.024349\n",
       "TOMBALL ISD                     0.020236\n",
       "GALENA PARK ISD                 0.018559\n",
       "DEER PARK ISD                   0.014387\n",
       "LA PORTE ISD                    0.013354\n",
       "CHANNELVIEW ISD                 0.008917\n",
       "SHELDON ISD                     0.008255\n",
       "CROSBY ISD                      0.007619\n",
       "HUFFMAN ISD                     0.004609\n",
       "WALLER ISD                      0.003125\n",
       "PEARLAND ISD                    0.000662\n",
       "NEW CANEY ISD                   0.000403\n",
       "STAFFORD MSD                    0.000089\n",
       "DAYTON ISD                      0.000008\n",
       "HOUSTON ISD (FORMERLY NFISD)    0.000001\n",
       "Name: school_dist, dtype: float64"
      ]
     },
     "execution_count": 25,
     "metadata": {},
     "output_type": "execute_result"
    }
   ],
   "source": [
    "real_acct_df['school_dist'].value_counts(normalize=True)"
   ]
  },
  {
   "cell_type": "code",
   "execution_count": 26,
   "metadata": {
    "ExecuteTime": {
     "end_time": "2020-07-27T18:49:56.884390Z",
     "start_time": "2020-07-27T18:49:56.749271Z"
    },
    "execution": {
     "iopub.execute_input": "2020-07-28T11:15:47.947521Z",
     "iopub.status.busy": "2020-07-28T11:15:47.946517Z",
     "iopub.status.idle": "2020-07-28T11:15:48.067203Z",
     "shell.execute_reply": "2020-07-28T11:15:48.066672Z"
    },
    "papermill": {
     "duration": 0.159054,
     "end_time": "2020-07-28T11:15:48.067324",
     "exception": false,
     "start_time": "2020-07-28T11:15:47.908270",
     "status": "completed"
    },
    "tags": []
   },
   "outputs": [
    {
     "name": "stdout",
     "output_type": "stream",
     "text": [
      "The number of missing values is: 55\n"
     ]
    }
   ],
   "source": [
    "print(f\"The number of missing values is: {sum(real_acct_df['school_dist'].isnull())}\")"
   ]
  },
  {
   "cell_type": "markdown",
   "metadata": {
    "papermill": {
     "duration": 0.03403,
     "end_time": "2020-07-28T11:15:48.134686",
     "exception": false,
     "start_time": "2020-07-28T11:15:48.100656",
     "status": "completed"
    },
    "tags": []
   },
   "source": [
    "## neighborhood_code\n",
    "\n",
    "From [Definition help](https://pdata.hcad.org/Desc/Definition_help.pdf) file:\n",
    "> Residential valuation neighborhoods are groups of comparable properties whose\n",
    "boundaries were developed based on location and similarity of property data\n",
    "characteristics. Each neighborhood in a school district has a unique identifier known as a\n",
    "residential valuation number. These neighborhood boundaries are maintained via an ongoing office and field review. As neighborhoods change, neighborhood lines are redrawn\n",
    "to reflect the changes, and maintain the homogeneity of the neighborhood. "
   ]
  },
  {
   "cell_type": "code",
   "execution_count": 27,
   "metadata": {
    "ExecuteTime": {
     "end_time": "2020-07-27T18:49:56.919547Z",
     "start_time": "2020-07-27T18:49:56.886701Z"
    },
    "execution": {
     "iopub.execute_input": "2020-07-28T11:15:48.205714Z",
     "iopub.status.busy": "2020-07-28T11:15:48.204915Z",
     "iopub.status.idle": "2020-07-28T11:15:48.216694Z",
     "shell.execute_reply": "2020-07-28T11:15:48.216182Z"
    },
    "papermill": {
     "duration": 0.048326,
     "end_time": "2020-07-28T11:15:48.216816",
     "exception": false,
     "start_time": "2020-07-28T11:15:48.168490",
     "status": "completed"
    },
    "tags": []
   },
   "outputs": [],
   "source": [
    "from src.data.utils import decode_nhood"
   ]
  },
  {
   "cell_type": "code",
   "execution_count": 28,
   "metadata": {
    "ExecuteTime": {
     "end_time": "2020-07-27T18:50:41.348286Z",
     "start_time": "2020-07-27T18:49:56.922009Z"
    },
    "execution": {
     "iopub.execute_input": "2020-07-28T11:15:48.288699Z",
     "iopub.status.busy": "2020-07-28T11:15:48.287880Z",
     "iopub.status.idle": "2020-07-28T11:16:32.179071Z",
     "shell.execute_reply": "2020-07-28T11:16:32.178617Z"
    },
    "papermill": {
     "duration": 43.928798,
     "end_time": "2020-07-28T11:16:32.179189",
     "exception": false,
     "start_time": "2020-07-28T11:15:48.250391",
     "status": "completed"
    },
    "tags": []
   },
   "outputs": [
    {
     "name": "stdout",
     "output_type": "stream",
     "text": [
      "No description for code: 9831.06\n"
     ]
    }
   ],
   "source": [
    "real_acct_df['neighborhood_code'] = decode_nhood(real_acct_df['neighborhood_code'])"
   ]
  },
  {
   "cell_type": "code",
   "execution_count": 29,
   "metadata": {
    "ExecuteTime": {
     "end_time": "2020-07-27T18:50:41.473782Z",
     "start_time": "2020-07-27T18:50:41.350490Z"
    },
    "execution": {
     "iopub.execute_input": "2020-07-28T11:16:32.258402Z",
     "iopub.status.busy": "2020-07-28T11:16:32.257838Z",
     "iopub.status.idle": "2020-07-28T11:16:32.346924Z",
     "shell.execute_reply": "2020-07-28T11:16:32.346417Z"
    },
    "papermill": {
     "duration": 0.130696,
     "end_time": "2020-07-28T11:16:32.347046",
     "exception": false,
     "start_time": "2020-07-28T11:16:32.216350",
     "status": "completed"
    },
    "tags": []
   },
   "outputs": [
    {
     "data": {
      "text/plain": [
       "M/R                              0.004532\n",
       "OAK MEADOWS                      0.002035\n",
       "RED BLUFF  TERRACE SEC 1-7       0.001802\n",
       "HOUSTON HEIGHTS                  0.001684\n",
       "BEAR CREEK VLG 2,3,4,6/OTHERS    0.001617\n",
       "                                   ...   \n",
       "BRITTWOOD T/H                    0.000001\n",
       "GRAMERCY PARK TH                 0.000001\n",
       "OAK FOREST OF LA SIERRA          0.000001\n",
       "PRESERVE AT KLUGE                0.000001\n",
       "SPRING SHADOWS T/H #1            0.000001\n",
       "Name: neighborhood_code, Length: 6015, dtype: float64"
      ]
     },
     "execution_count": 29,
     "metadata": {},
     "output_type": "execute_result"
    }
   ],
   "source": [
    "real_acct_df['neighborhood_code'].value_counts(normalize=True)"
   ]
  },
  {
   "cell_type": "code",
   "execution_count": 30,
   "metadata": {
    "ExecuteTime": {
     "end_time": "2020-07-27T18:50:41.629238Z",
     "start_time": "2020-07-27T18:50:41.478066Z"
    },
    "execution": {
     "iopub.execute_input": "2020-07-28T11:16:32.424209Z",
     "iopub.status.busy": "2020-07-28T11:16:32.423365Z",
     "iopub.status.idle": "2020-07-28T11:16:32.544515Z",
     "shell.execute_reply": "2020-07-28T11:16:32.544917Z"
    },
    "papermill": {
     "duration": 0.163894,
     "end_time": "2020-07-28T11:16:32.545060",
     "exception": false,
     "start_time": "2020-07-28T11:16:32.381166",
     "status": "completed"
    },
    "tags": []
   },
   "outputs": [
    {
     "name": "stdout",
     "output_type": "stream",
     "text": [
      "The number of missing values is: 1\n"
     ]
    }
   ],
   "source": [
    "print(f\"The number of missing values is: {sum(real_acct_df['neighborhood_code'].isnull())}\")"
   ]
  },
  {
   "cell_type": "markdown",
   "metadata": {
    "papermill": {
     "duration": 0.037225,
     "end_time": "2020-07-28T11:16:32.622381",
     "exception": false,
     "start_time": "2020-07-28T11:16:32.585156",
     "status": "completed"
    },
    "tags": []
   },
   "source": [
    "## Market area description: market_area_1_dscr"
   ]
  },
  {
   "cell_type": "code",
   "execution_count": 31,
   "metadata": {
    "ExecuteTime": {
     "end_time": "2020-07-27T18:50:41.726891Z",
     "start_time": "2020-07-27T18:50:41.631845Z"
    },
    "execution": {
     "iopub.execute_input": "2020-07-28T11:16:32.695463Z",
     "iopub.status.busy": "2020-07-28T11:16:32.694681Z",
     "iopub.status.idle": "2020-07-28T11:16:32.775102Z",
     "shell.execute_reply": "2020-07-28T11:16:32.775505Z"
    },
    "papermill": {
     "duration": 0.118202,
     "end_time": "2020-07-28T11:16:32.775648",
     "exception": false,
     "start_time": "2020-07-28T11:16:32.657446",
     "status": "completed"
    },
    "tags": []
   },
   "outputs": [
    {
     "data": {
      "text/plain": [
       "ISD 17 - Klein ISD                                    0.073422\n",
       "ISD 21 - Pasadena ISD                                 0.052091\n",
       "ISD 04 - Far Northwest, Outside Hwy 6                 0.049492\n",
       "1C South of Old Spanish Trail btwn SH 288 and I-45    0.041510\n",
       "ISD 04 - Far West, South of US 290/North of FM 529    0.035591\n",
       "                                                        ...   \n",
       "ISD 29 - Pearland ISD                                 0.000662\n",
       "ISD 07 - New Caney ISD                                0.000403\n",
       "ISD 31 - Stafford MSD                                 0.000088\n",
       "ISD 28 - Dayton ISD                                   0.000006\n",
       "FM 1960 West                                          0.000001\n",
       "Name: market_area_2_dscr, Length: 72, dtype: float64"
      ]
     },
     "execution_count": 31,
     "metadata": {},
     "output_type": "execute_result"
    }
   ],
   "source": [
    "real_acct_df['market_area_2_dscr'].value_counts(normalize=True)"
   ]
  },
  {
   "cell_type": "code",
   "execution_count": 32,
   "metadata": {
    "ExecuteTime": {
     "end_time": "2020-07-27T18:50:42.295582Z",
     "start_time": "2020-07-27T18:50:41.730191Z"
    },
    "execution": {
     "iopub.execute_input": "2020-07-28T11:16:32.850024Z",
     "iopub.status.busy": "2020-07-28T11:16:32.849194Z",
     "iopub.status.idle": "2020-07-28T11:16:33.418592Z",
     "shell.execute_reply": "2020-07-28T11:16:33.419002Z"
    },
    "papermill": {
     "duration": 0.608863,
     "end_time": "2020-07-28T11:16:33.419146",
     "exception": false,
     "start_time": "2020-07-28T11:16:32.810283",
     "status": "completed"
    },
    "tags": []
   },
   "outputs": [
    {
     "data": {
      "text/html": [
       "<div>\n",
       "<style scoped>\n",
       "    .dataframe tbody tr th:only-of-type {\n",
       "        vertical-align: middle;\n",
       "    }\n",
       "\n",
       "    .dataframe tbody tr th {\n",
       "        vertical-align: top;\n",
       "    }\n",
       "\n",
       "    .dataframe thead th {\n",
       "        text-align: right;\n",
       "    }\n",
       "</style>\n",
       "<table border=\"1\" class=\"dataframe\">\n",
       "  <thead>\n",
       "    <tr style=\"text-align: right;\">\n",
       "      <th></th>\n",
       "      <th>acct</th>\n",
       "      <th>zip_code</th>\n",
       "      <th>school_dist</th>\n",
       "      <th>neighborhood_code</th>\n",
       "      <th>market_area_1_dscr</th>\n",
       "      <th>market_area_2_dscr</th>\n",
       "      <th>center_code</th>\n",
       "      <th>bld_ar</th>\n",
       "      <th>land_ar</th>\n",
       "      <th>acreage</th>\n",
       "      <th>land_val</th>\n",
       "      <th>tot_appr_val</th>\n",
       "      <th>prior_land_val</th>\n",
       "      <th>prior_tot_appr_val</th>\n",
       "      <th>new_own_dt</th>\n",
       "    </tr>\n",
       "  </thead>\n",
       "  <tbody>\n",
       "  </tbody>\n",
       "</table>\n",
       "</div>"
      ],
      "text/plain": [
       "Empty DataFrame\n",
       "Columns: [acct, zip_code, school_dist, neighborhood_code, market_area_1_dscr, market_area_2_dscr, center_code, bld_ar, land_ar, acreage, land_val, tot_appr_val, prior_land_val, prior_tot_appr_val, new_own_dt]\n",
       "Index: []"
      ]
     },
     "execution_count": 32,
     "metadata": {},
     "output_type": "execute_result"
    }
   ],
   "source": [
    "cond0 = real_acct_df['market_area_2_dscr'].str.strip() == ''\n",
    "real_acct_df.loc[cond0, :]"
   ]
  },
  {
   "cell_type": "code",
   "execution_count": 33,
   "metadata": {
    "ExecuteTime": {
     "end_time": "2020-07-27T18:50:42.453457Z",
     "start_time": "2020-07-27T18:50:42.297393Z"
    },
    "execution": {
     "iopub.execute_input": "2020-07-28T11:16:33.493564Z",
     "iopub.status.busy": "2020-07-28T11:16:33.492740Z",
     "iopub.status.idle": "2020-07-28T11:16:33.700993Z",
     "shell.execute_reply": "2020-07-28T11:16:33.700566Z"
    },
    "papermill": {
     "duration": 0.247147,
     "end_time": "2020-07-28T11:16:33.701122",
     "exception": false,
     "start_time": "2020-07-28T11:16:33.453975",
     "status": "completed"
    },
    "tags": []
   },
   "outputs": [
    {
     "name": "stdout",
     "output_type": "stream",
     "text": [
      "The number of missing values is: 0\n"
     ]
    }
   ],
   "source": [
    "print(f\"The number of missing values is: {sum(real_acct_df['market_area_2_dscr'].isnull())}\")"
   ]
  },
  {
   "cell_type": "markdown",
   "metadata": {
    "papermill": {
     "duration": 0.036109,
     "end_time": "2020-07-28T11:16:33.772591",
     "exception": false,
     "start_time": "2020-07-28T11:16:33.736482",
     "status": "completed"
    },
    "tags": []
   },
   "source": [
    "## center_code\n",
    "From [Definition help](https://pdata.hcad.org/Desc/Definition_help.pdf) file:\n",
    "> The center code indicates the individual (HCAD employee or contractor) that is\n",
    "responsible for working and valuing the property account."
   ]
  },
  {
   "cell_type": "code",
   "execution_count": 34,
   "metadata": {
    "ExecuteTime": {
     "end_time": "2020-07-27T18:50:42.590382Z",
     "start_time": "2020-07-27T18:50:42.455419Z"
    },
    "execution": {
     "iopub.execute_input": "2020-07-28T11:16:33.848110Z",
     "iopub.status.busy": "2020-07-28T11:16:33.847605Z",
     "iopub.status.idle": "2020-07-28T11:16:33.927012Z",
     "shell.execute_reply": "2020-07-28T11:16:33.926481Z"
    },
    "papermill": {
     "duration": 0.117948,
     "end_time": "2020-07-28T11:16:33.927128",
     "exception": false,
     "start_time": "2020-07-28T11:16:33.809180",
     "status": "completed"
    },
    "tags": []
   },
   "outputs": [
    {
     "data": {
      "text/plain": [
       "10       148162\n",
       "61       118333\n",
       "50        99013\n",
       "72        92250\n",
       "20        92173\n",
       "90        85802\n",
       "40        78669\n",
       "60        65816\n",
       "30        58466\n",
       "80        35301\n",
       "70        32177\n",
       "71        29435\n",
       "81        20504\n",
       "32         1092\n",
       "            378\n",
       "33           50\n",
       "CC           16\n",
       "27           15\n",
       "45            9\n",
       "21            9\n",
       "51            3\n",
       "22            3\n",
       "25            3\n",
       "43            2\n",
       "RB            2\n",
       "28            1\n",
       "NV            1\n",
       "35            1\n",
       "62            1\n",
       "Name: center_code, dtype: int64"
      ]
     },
     "execution_count": 34,
     "metadata": {},
     "output_type": "execute_result"
    }
   ],
   "source": [
    "real_acct_df['center_code'].value_counts()"
   ]
  },
  {
   "cell_type": "code",
   "execution_count": 35,
   "metadata": {
    "ExecuteTime": {
     "end_time": "2020-07-27T18:50:42.771642Z",
     "start_time": "2020-07-27T18:50:42.592185Z"
    },
    "execution": {
     "iopub.execute_input": "2020-07-28T11:16:34.003377Z",
     "iopub.status.busy": "2020-07-28T11:16:34.002861Z",
     "iopub.status.idle": "2020-07-28T11:16:34.168696Z",
     "shell.execute_reply": "2020-07-28T11:16:34.168258Z"
    },
    "papermill": {
     "duration": 0.206195,
     "end_time": "2020-07-28T11:16:34.168818",
     "exception": false,
     "start_time": "2020-07-28T11:16:33.962623",
     "status": "completed"
    },
    "tags": []
   },
   "outputs": [],
   "source": [
    "real_acct_df['center_code'] = real_acct_df['center_code'].apply(lambda x: np.nan if x.isspace() else x)"
   ]
  },
  {
   "cell_type": "code",
   "execution_count": 36,
   "metadata": {
    "ExecuteTime": {
     "end_time": "2020-07-27T18:50:42.915117Z",
     "start_time": "2020-07-27T18:50:42.775961Z"
    },
    "execution": {
     "iopub.execute_input": "2020-07-28T11:16:34.246632Z",
     "iopub.status.busy": "2020-07-28T11:16:34.246082Z",
     "iopub.status.idle": "2020-07-28T11:16:34.366858Z",
     "shell.execute_reply": "2020-07-28T11:16:34.367262Z"
    },
    "papermill": {
     "duration": 0.162432,
     "end_time": "2020-07-28T11:16:34.367407",
     "exception": false,
     "start_time": "2020-07-28T11:16:34.204975",
     "status": "completed"
    },
    "tags": []
   },
   "outputs": [
    {
     "name": "stdout",
     "output_type": "stream",
     "text": [
      "The number of missing values is: 378\n"
     ]
    }
   ],
   "source": [
    "print(f\"The number of missing values is: {sum(real_acct_df['center_code'].isnull())}\")"
   ]
  },
  {
   "cell_type": "markdown",
   "metadata": {
    "papermill": {
     "duration": 0.03813,
     "end_time": "2020-07-28T11:16:34.441509",
     "exception": false,
     "start_time": "2020-07-28T11:16:34.403379",
     "status": "completed"
    },
    "tags": []
   },
   "source": [
    "## Building area: 'bld_ar'\n",
    "This seems to be the total area occupied by buildings in the parcel. It possibly includes non-livable buildings like barns, sheds, and other outbuildings."
   ]
  },
  {
   "cell_type": "code",
   "execution_count": 37,
   "metadata": {
    "ExecuteTime": {
     "end_time": "2020-07-27T18:50:42.928118Z",
     "start_time": "2020-07-27T18:50:42.916981Z"
    },
    "execution": {
     "iopub.execute_input": "2020-07-28T11:16:34.520786Z",
     "iopub.status.busy": "2020-07-28T11:16:34.519984Z",
     "iopub.status.idle": "2020-07-28T11:16:34.530997Z",
     "shell.execute_reply": "2020-07-28T11:16:34.531634Z"
    },
    "papermill": {
     "duration": 0.052389,
     "end_time": "2020-07-28T11:16:34.531807",
     "exception": false,
     "start_time": "2020-07-28T11:16:34.479418",
     "status": "completed"
    },
    "tags": []
   },
   "outputs": [],
   "source": [
    "from src.data.utils import fix_area_column"
   ]
  },
  {
   "cell_type": "code",
   "execution_count": 38,
   "metadata": {
    "ExecuteTime": {
     "end_time": "2020-07-27T18:50:43.444481Z",
     "start_time": "2020-07-27T18:50:42.929841Z"
    },
    "execution": {
     "iopub.execute_input": "2020-07-28T11:16:34.612297Z",
     "iopub.status.busy": "2020-07-28T11:16:34.611784Z",
     "iopub.status.idle": "2020-07-28T11:16:35.078780Z",
     "shell.execute_reply": "2020-07-28T11:16:35.079216Z"
    },
    "papermill": {
     "duration": 0.507754,
     "end_time": "2020-07-28T11:16:35.079364",
     "exception": false,
     "start_time": "2020-07-28T11:16:34.571610",
     "status": "completed"
    },
    "tags": []
   },
   "outputs": [
    {
     "name": "stdout",
     "output_type": "stream",
     "text": [
      "Values less than 100 sqft: 7\n",
      "1917      0\n",
      "31801     0\n",
      "47615     0\n",
      "131843    0\n",
      "131877    0\n",
      "148240    0\n",
      "165245    0\n",
      "Name: bld_ar, dtype: uint16\n"
     ]
    },
    {
     "name": "stdout",
     "output_type": "stream",
     "text": [
      "Since the column contains NaNs, it can't be casted as int type\n",
      "\n",
      "\n",
      "The new data type is: float64\n",
      "\n",
      "\n",
      "The number of null values is: 7\n",
      "\n",
      "\n",
      "bld_ar description:\n",
      "count    957680.000000\n",
      "mean       2112.096289\n",
      "std         954.912451\n",
      "min         120.000000\n",
      "25%        1464.000000\n",
      "50%        1906.000000\n",
      "75%        2537.000000\n",
      "max       26401.000000\n",
      "Name: bld_ar, dtype: float64\n"
     ]
    }
   ],
   "source": [
    "real_acct_df = fix_area_column(real_acct_df, 'bld_ar')"
   ]
  },
  {
   "cell_type": "markdown",
   "metadata": {
    "papermill": {
     "duration": 0.037645,
     "end_time": "2020-07-28T11:16:35.153291",
     "exception": false,
     "start_time": "2020-07-28T11:16:35.115646",
     "status": "completed"
    },
    "tags": []
   },
   "source": [
    "## Land area: land_ar\n",
    "Land area in square feet."
   ]
  },
  {
   "cell_type": "code",
   "execution_count": 39,
   "metadata": {
    "ExecuteTime": {
     "end_time": "2020-07-27T18:50:43.982304Z",
     "start_time": "2020-07-27T18:50:43.446374Z"
    },
    "execution": {
     "iopub.execute_input": "2020-07-28T11:16:35.230435Z",
     "iopub.status.busy": "2020-07-28T11:16:35.229917Z",
     "iopub.status.idle": "2020-07-28T11:16:35.742568Z",
     "shell.execute_reply": "2020-07-28T11:16:35.742974Z"
    },
    "papermill": {
     "duration": 0.552815,
     "end_time": "2020-07-28T11:16:35.743144",
     "exception": false,
     "start_time": "2020-07-28T11:16:35.190329",
     "status": "completed"
    },
    "tags": []
   },
   "outputs": [
    {
     "name": "stdout",
     "output_type": "stream",
     "text": [
      "Values less than 100 sqft: 1027\n",
      "771       0\n",
      "1584      0\n",
      "2088      0\n",
      "4481      0\n",
      "5135      0\n",
      "         ..\n",
      "956213    0\n",
      "956231    0\n",
      "956367    0\n",
      "956405    0\n",
      "957240    0\n",
      "Name: land_ar, Length: 1027, dtype: uint64\n"
     ]
    },
    {
     "name": "stdout",
     "output_type": "stream",
     "text": [
      "Since the column contains NaNs, it can't be casted as int type\n",
      "\n",
      "\n",
      "The new data type is: float64\n",
      "\n",
      "\n",
      "The number of null values is: 1027\n",
      "\n",
      "\n",
      "land_ar description:\n",
      "count    9.566600e+05\n",
      "mean     1.653704e+04\n",
      "std      4.844534e+06\n",
      "min      3.510000e+02\n",
      "25%      6.086000e+03\n",
      "50%      7.360000e+03\n",
      "75%      9.340000e+03\n",
      "max      4.544441e+09\n",
      "Name: land_ar, dtype: float64\n"
     ]
    }
   ],
   "source": [
    "real_acct_df = fix_area_column(real_acct_df, 'land_ar')"
   ]
  },
  {
   "cell_type": "markdown",
   "metadata": {
    "papermill": {
     "duration": 0.038129,
     "end_time": "2020-07-28T11:16:35.818522",
     "exception": false,
     "start_time": "2020-07-28T11:16:35.780393",
     "status": "completed"
    },
    "tags": []
   },
   "source": [
    "## Land appraised value: land_val\n",
    "Appraised value of the land. It is represented in US dollars, should integers unless there are NaNs. "
   ]
  },
  {
   "cell_type": "code",
   "execution_count": 40,
   "metadata": {
    "ExecuteTime": {
     "end_time": "2020-07-27T18:50:43.998788Z",
     "start_time": "2020-07-27T18:50:43.984274Z"
    },
    "execution": {
     "iopub.execute_input": "2020-07-28T11:16:35.897178Z",
     "iopub.status.busy": "2020-07-28T11:16:35.896667Z",
     "iopub.status.idle": "2020-07-28T11:16:35.909601Z",
     "shell.execute_reply": "2020-07-28T11:16:35.910001Z"
    },
    "papermill": {
     "duration": 0.053412,
     "end_time": "2020-07-28T11:16:35.910146",
     "exception": false,
     "start_time": "2020-07-28T11:16:35.856734",
     "status": "completed"
    },
    "tags": []
   },
   "outputs": [
    {
     "data": {
      "text/plain": [
       "0    125000.0\n",
       "1     74900.0\n",
       "2    125000.0\n",
       "3    125000.0\n",
       "4    140625.0\n",
       "Name: land_val, dtype: float64"
      ]
     },
     "execution_count": 40,
     "metadata": {},
     "output_type": "execute_result"
    }
   ],
   "source": [
    "real_acct_df['land_val'].head()"
   ]
  },
  {
   "cell_type": "code",
   "execution_count": 41,
   "metadata": {
    "ExecuteTime": {
     "end_time": "2020-07-27T18:50:44.105572Z",
     "start_time": "2020-07-27T18:50:44.000776Z"
    },
    "execution": {
     "iopub.execute_input": "2020-07-28T11:16:35.991678Z",
     "iopub.status.busy": "2020-07-28T11:16:35.991153Z",
     "iopub.status.idle": "2020-07-28T11:16:36.080358Z",
     "shell.execute_reply": "2020-07-28T11:16:36.079810Z"
    },
    "papermill": {
     "duration": 0.132269,
     "end_time": "2020-07-28T11:16:36.080479",
     "exception": false,
     "start_time": "2020-07-28T11:16:35.948210",
     "status": "completed"
    },
    "tags": []
   },
   "outputs": [
    {
     "name": "stdout",
     "output_type": "stream",
     "text": [
      "The number of missing values is: 7\n"
     ]
    }
   ],
   "source": [
    "print(f\"The number of missing values is: {sum(real_acct_df['land_val'].isnull())}\")"
   ]
  },
  {
   "cell_type": "code",
   "execution_count": 42,
   "metadata": {
    "ExecuteTime": {
     "end_time": "2020-07-27T18:50:44.167261Z",
     "start_time": "2020-07-27T18:50:44.107487Z"
    },
    "execution": {
     "iopub.execute_input": "2020-07-28T11:16:36.162520Z",
     "iopub.status.busy": "2020-07-28T11:16:36.161992Z",
     "iopub.status.idle": "2020-07-28T11:16:36.213051Z",
     "shell.execute_reply": "2020-07-28T11:16:36.212538Z"
    },
    "papermill": {
     "duration": 0.093065,
     "end_time": "2020-07-28T11:16:36.213170",
     "exception": false,
     "start_time": "2020-07-28T11:16:36.120105",
     "status": "completed"
    },
    "tags": []
   },
   "outputs": [
    {
     "data": {
      "text/plain": [
       "count      957680.000000\n",
       "mean        74993.923284\n",
       "std        175567.924395\n",
       "min             0.000000\n",
       "25%         19961.000000\n",
       "50%         27431.000000\n",
       "75%         48308.000000\n",
       "max      14598650.000000\n",
       "Name: land_val, dtype: object"
      ]
     },
     "execution_count": 42,
     "metadata": {},
     "output_type": "execute_result"
    }
   ],
   "source": [
    "real_acct_df['land_val'].describe().apply(lambda x: format(x, 'f'))"
   ]
  },
  {
   "cell_type": "markdown",
   "metadata": {
    "papermill": {
     "duration": 0.039478,
     "end_time": "2020-07-28T11:16:36.290473",
     "exception": false,
     "start_time": "2020-07-28T11:16:36.250995",
     "status": "completed"
    },
    "tags": []
   },
   "source": [
    "## Total appraised value: tot_appr_val\n",
    "This is the target to be predicted. It is represented in US dollars, should integers unless there are NaNs. "
   ]
  },
  {
   "cell_type": "code",
   "execution_count": 43,
   "metadata": {
    "ExecuteTime": {
     "end_time": "2020-07-27T18:50:44.179184Z",
     "start_time": "2020-07-27T18:50:44.168726Z"
    },
    "execution": {
     "iopub.execute_input": "2020-07-28T11:16:36.371546Z",
     "iopub.status.busy": "2020-07-28T11:16:36.370740Z",
     "iopub.status.idle": "2020-07-28T11:16:36.382479Z",
     "shell.execute_reply": "2020-07-28T11:16:36.381731Z"
    },
    "papermill": {
     "duration": 0.052986,
     "end_time": "2020-07-28T11:16:36.382621",
     "exception": false,
     "start_time": "2020-07-28T11:16:36.329635",
     "status": "completed"
    },
    "tags": []
   },
   "outputs": [],
   "source": [
    "from src.data.utils import fix_appraised_values"
   ]
  },
  {
   "cell_type": "code",
   "execution_count": 44,
   "metadata": {
    "ExecuteTime": {
     "end_time": "2020-07-27T18:50:44.369805Z",
     "start_time": "2020-07-27T18:50:44.181062Z"
    },
    "execution": {
     "iopub.execute_input": "2020-07-28T11:16:36.463435Z",
     "iopub.status.busy": "2020-07-28T11:16:36.462928Z",
     "iopub.status.idle": "2020-07-28T11:16:36.599608Z",
     "shell.execute_reply": "2020-07-28T11:16:36.599081Z"
    },
    "papermill": {
     "duration": 0.179007,
     "end_time": "2020-07-28T11:16:36.599751",
     "exception": false,
     "start_time": "2020-07-28T11:16:36.420744",
     "status": "completed"
    },
    "tags": []
   },
   "outputs": [
    {
     "name": "stdout",
     "output_type": "stream",
     "text": [
      "tot_appr_val: head\n",
      "0    145200.0\n",
      "1     75000.0\n",
      "2     85929.0\n",
      "3    549004.0\n",
      "4    181370.0\n",
      "Name: tot_appr_val, dtype: float64\n",
      "\n",
      "\n",
      "The number of missing values is: 7\n",
      "\n",
      "\n",
      "tot_appr_val: describe\n",
      "count      957680.000000\n",
      "mean       219212.921750\n",
      "std        279996.428014\n",
      "min           100.000000\n",
      "25%        100000.000000\n",
      "50%        150262.000000\n",
      "75%        234458.000000\n",
      "max      17266818.000000\n",
      "Name: tot_appr_val, dtype: object\n"
     ]
    }
   ],
   "source": [
    "real_acct_df = fix_appraised_values(real_acct_df, 'tot_appr_val')"
   ]
  },
  {
   "cell_type": "markdown",
   "metadata": {
    "papermill": {
     "duration": 0.040867,
     "end_time": "2020-07-28T11:16:36.679552",
     "exception": false,
     "start_time": "2020-07-28T11:16:36.638685",
     "status": "completed"
    },
    "tags": []
   },
   "source": [
    "## Prior land value: prior_land_val\n",
    "Last year's appraised land value. It is represented in US dollars, should integers unless there are NaNs."
   ]
  },
  {
   "cell_type": "code",
   "execution_count": 45,
   "metadata": {
    "ExecuteTime": {
     "end_time": "2020-07-27T18:50:44.525758Z",
     "start_time": "2020-07-27T18:50:44.372292Z"
    },
    "execution": {
     "iopub.execute_input": "2020-07-28T11:16:36.762726Z",
     "iopub.status.busy": "2020-07-28T11:16:36.761830Z",
     "iopub.status.idle": "2020-07-28T11:16:36.889217Z",
     "shell.execute_reply": "2020-07-28T11:16:36.888704Z"
    },
    "papermill": {
     "duration": 0.170059,
     "end_time": "2020-07-28T11:16:36.889342",
     "exception": false,
     "start_time": "2020-07-28T11:16:36.719283",
     "status": "completed"
    },
    "tags": []
   },
   "outputs": [
    {
     "name": "stdout",
     "output_type": "stream",
     "text": [
      "prior_land_val: head\n",
      "0    75000.0\n",
      "1    64000.0\n",
      "2    75000.0\n",
      "3    75000.0\n",
      "4    84375.0\n",
      "Name: prior_land_val, dtype: float64\n",
      "\n",
      "\n",
      "The number of missing values is: 1668\n",
      "\n",
      "\n",
      "prior_land_val: describe\n",
      "count      956019.000000\n",
      "mean        71895.946392\n",
      "std        170131.292181\n",
      "min             0.000000\n",
      "25%         18585.000000\n",
      "50%         25601.000000\n",
      "75%         46018.500000\n",
      "max      14598650.000000\n",
      "Name: prior_land_val, dtype: object\n"
     ]
    }
   ],
   "source": [
    "real_acct_df = fix_appraised_values(real_acct_df, 'prior_land_val')"
   ]
  },
  {
   "cell_type": "markdown",
   "metadata": {
    "papermill": {
     "duration": 0.04036,
     "end_time": "2020-07-28T11:16:36.968845",
     "exception": false,
     "start_time": "2020-07-28T11:16:36.928485",
     "status": "completed"
    },
    "tags": []
   },
   "source": [
    "## Prior total appraised value: prior_tot_appr_val\n",
    "Last year's total appraised land value. It is represented in US dollars, should integers unless there are NaNs."
   ]
  },
  {
   "cell_type": "code",
   "execution_count": 46,
   "metadata": {
    "ExecuteTime": {
     "end_time": "2020-07-27T18:50:44.682527Z",
     "start_time": "2020-07-27T18:50:44.527681Z"
    },
    "execution": {
     "iopub.execute_input": "2020-07-28T11:16:37.052947Z",
     "iopub.status.busy": "2020-07-28T11:16:37.052432Z",
     "iopub.status.idle": "2020-07-28T11:16:37.181856Z",
     "shell.execute_reply": "2020-07-28T11:16:37.182260Z"
    },
    "papermill": {
     "duration": 0.172735,
     "end_time": "2020-07-28T11:16:37.182405",
     "exception": false,
     "start_time": "2020-07-28T11:16:37.009670",
     "status": "completed"
    },
    "tags": []
   },
   "outputs": [
    {
     "name": "stdout",
     "output_type": "stream",
     "text": [
      "prior_tot_appr_val: head\n",
      "0    132000.0\n",
      "1     65000.0\n",
      "2     78118.0\n",
      "3     75000.0\n",
      "4    164882.0\n",
      "Name: prior_tot_appr_val, dtype: float64\n",
      "\n",
      "\n",
      "The number of missing values is: 1668\n",
      "\n",
      "\n",
      "prior_tot_appr_val: describe\n",
      "count      956019.000000\n",
      "mean       202540.892193\n",
      "std        263125.602703\n",
      "min             0.000000\n",
      "25%         90491.000000\n",
      "50%        137500.000000\n",
      "75%        215582.000000\n",
      "max      15697108.000000\n",
      "Name: prior_tot_appr_val, dtype: object\n"
     ]
    }
   ],
   "source": [
    "real_acct_df = fix_appraised_values(real_acct_df, 'prior_tot_appr_val')"
   ]
  },
  {
   "cell_type": "markdown",
   "metadata": {
    "papermill": {
     "duration": 0.040868,
     "end_time": "2020-07-28T11:16:37.262833",
     "exception": false,
     "start_time": "2020-07-28T11:16:37.221965",
     "status": "completed"
    },
    "tags": []
   },
   "source": [
    "## New owner date: new_own_dt\n",
    "When was the last recorded ownership changed on the property. Should be datetime type."
   ]
  },
  {
   "cell_type": "code",
   "execution_count": 47,
   "metadata": {
    "ExecuteTime": {
     "end_time": "2020-07-27T18:50:44.911003Z",
     "start_time": "2020-07-27T18:50:44.685585Z"
    },
    "execution": {
     "iopub.execute_input": "2020-07-28T11:16:37.346801Z",
     "iopub.status.busy": "2020-07-28T11:16:37.346157Z",
     "iopub.status.idle": "2020-07-28T11:16:37.542055Z",
     "shell.execute_reply": "2020-07-28T11:16:37.542446Z"
    },
    "papermill": {
     "duration": 0.239784,
     "end_time": "2020-07-28T11:16:37.542641",
     "exception": false,
     "start_time": "2020-07-28T11:16:37.302857",
     "status": "completed"
    },
    "tags": []
   },
   "outputs": [],
   "source": [
    "real_acct_df['new_own_dt'] = pd.to_datetime(real_acct_df['new_own_dt'])"
   ]
  },
  {
   "cell_type": "code",
   "execution_count": 48,
   "metadata": {
    "ExecuteTime": {
     "end_time": "2020-07-27T18:50:45.042602Z",
     "start_time": "2020-07-27T18:50:44.915713Z"
    },
    "execution": {
     "iopub.execute_input": "2020-07-28T11:16:37.634935Z",
     "iopub.status.busy": "2020-07-28T11:16:37.634083Z",
     "iopub.status.idle": "2020-07-28T11:16:37.723053Z",
     "shell.execute_reply": "2020-07-28T11:16:37.722508Z"
    },
    "papermill": {
     "duration": 0.133328,
     "end_time": "2020-07-28T11:16:37.723175",
     "exception": false,
     "start_time": "2020-07-28T11:16:37.589847",
     "status": "completed"
    },
    "tags": []
   },
   "outputs": [
    {
     "name": "stdout",
     "output_type": "stream",
     "text": [
      "The number of missing values is: 9\n"
     ]
    }
   ],
   "source": [
    "print(f\"The number of missing values is: {sum(real_acct_df['new_own_dt'].isnull())}\")"
   ]
  },
  {
   "cell_type": "code",
   "execution_count": 49,
   "metadata": {
    "ExecuteTime": {
     "end_time": "2020-07-27T18:50:45.128947Z",
     "start_time": "2020-07-27T18:50:45.044680Z"
    },
    "execution": {
     "iopub.execute_input": "2020-07-28T11:16:37.808050Z",
     "iopub.status.busy": "2020-07-28T11:16:37.807531Z",
     "iopub.status.idle": "2020-07-28T11:16:37.824825Z",
     "shell.execute_reply": "2020-07-28T11:16:37.825229Z"
    },
    "papermill": {
     "duration": 0.061972,
     "end_time": "2020-07-28T11:16:37.825376",
     "exception": false,
     "start_time": "2020-07-28T11:16:37.763404",
     "status": "completed"
    },
    "tags": []
   },
   "outputs": [
    {
     "data": {
      "text/plain": [
       "0        2012-09-11\n",
       "1        1988-01-02\n",
       "2        2004-07-28\n",
       "3        2013-10-14\n",
       "4        2001-05-05\n",
       "            ...    \n",
       "957682   2005-01-02\n",
       "957683   2005-05-31\n",
       "957684   1988-01-02\n",
       "957685   2013-11-06\n",
       "957686   2016-09-13\n",
       "Name: new_own_dt, Length: 957687, dtype: datetime64[ns]"
      ]
     },
     "execution_count": 49,
     "metadata": {},
     "output_type": "execute_result"
    }
   ],
   "source": [
    "real_acct_df['new_own_dt']"
   ]
  },
  {
   "cell_type": "code",
   "execution_count": 50,
   "metadata": {
    "ExecuteTime": {
     "end_time": "2020-07-27T18:50:45.643399Z",
     "start_time": "2020-07-27T18:50:45.132204Z"
    },
    "execution": {
     "iopub.execute_input": "2020-07-28T11:16:37.910397Z",
     "iopub.status.busy": "2020-07-28T11:16:37.909856Z",
     "iopub.status.idle": "2020-07-28T11:16:37.948544Z",
     "shell.execute_reply": "2020-07-28T11:16:37.948079Z"
    },
    "papermill": {
     "duration": 0.08285,
     "end_time": "2020-07-28T11:16:37.948673",
     "exception": false,
     "start_time": "2020-07-28T11:16:37.865823",
     "status": "completed"
    },
    "tags": []
   },
   "outputs": [
    {
     "data": {
      "text/plain": [
       "count                  957678\n",
       "unique                  11308\n",
       "top       1988-01-02 00:00:00\n",
       "freq                    60322\n",
       "first     1955-05-13 00:00:00\n",
       "last      2016-12-31 00:00:00\n",
       "Name: new_own_dt, dtype: object"
      ]
     },
     "execution_count": 50,
     "metadata": {},
     "output_type": "execute_result"
    }
   ],
   "source": [
    "real_acct_df['new_own_dt'].describe()"
   ]
  },
  {
   "cell_type": "markdown",
   "metadata": {
    "papermill": {
     "duration": 0.043172,
     "end_time": "2020-07-28T11:16:38.032778",
     "exception": false,
     "start_time": "2020-07-28T11:16:37.989606",
     "status": "completed"
    },
    "tags": []
   },
   "source": [
    "# Export real_acct"
   ]
  },
  {
   "cell_type": "code",
   "execution_count": 51,
   "metadata": {
    "ExecuteTime": {
     "end_time": "2020-07-27T18:50:46.234313Z",
     "start_time": "2020-07-27T18:50:45.645873Z"
    },
    "execution": {
     "iopub.execute_input": "2020-07-28T11:16:38.118393Z",
     "iopub.status.busy": "2020-07-28T11:16:38.117535Z",
     "iopub.status.idle": "2020-07-28T11:16:38.470672Z",
     "shell.execute_reply": "2020-07-28T11:16:38.470217Z"
    },
    "papermill": {
     "duration": 0.396974,
     "end_time": "2020-07-28T11:16:38.470797",
     "exception": false,
     "start_time": "2020-07-28T11:16:38.073823",
     "status": "completed"
    },
    "tags": []
   },
   "outputs": [],
   "source": [
    "save_fn = ROOT_DIR / 'data/raw/2016/real_acct_comps.pickle'\n",
    "save_pickle(real_acct_df, save_fn)"
   ]
  }
 ],
 "metadata": {
  "kernelspec": {
   "display_name": "hcad_pred",
   "language": "python",
   "name": "hcad_pred"
  },
  "language_info": {
   "codemirror_mode": {
    "name": "ipython",
    "version": 3
   },
   "file_extension": ".py",
   "mimetype": "text/x-python",
   "name": "python",
   "nbconvert_exporter": "python",
   "pygments_lexer": "ipython3",
   "version": "3.7.6"
  },
  "papermill": {
   "duration": 72.026028,
   "end_time": "2020-07-28T11:16:38.923657",
   "environment_variables": {},
   "exception": null,
   "input_path": "/media/hdd/projects/springboard/hcad_pred/notebooks/01_Exploratory/1.2-rp-hcad-data-view-real-acct.ipynb",
   "output_path": "/media/hdd/projects/springboard/hcad_pred/notebooks/01_Exploratory/output/1.2-rp-hcad-data-view-real-acct_20200728.ipynb",
   "parameters": {},
   "start_time": "2020-07-28T11:15:26.897629",
   "version": "2.1.2"
  },
  "toc": {
   "base_numbering": 1,
   "nav_menu": {},
   "number_sections": true,
   "sideBar": true,
   "skip_h1_title": false,
   "title_cell": "Table of Contents",
   "title_sidebar": "Contents",
   "toc_cell": false,
   "toc_position": {},
   "toc_section_display": true,
   "toc_window_display": false
  }
 },
 "nbformat": 4,
 "nbformat_minor": 4
}