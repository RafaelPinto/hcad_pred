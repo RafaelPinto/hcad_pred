{
 "cells": [
  {
   "cell_type": "markdown",
   "metadata": {
    "papermill": {
     "duration": 0.046028,
     "end_time": "2020-09-13T12:43:26.149853",
     "exception": false,
     "start_time": "2020-09-13T12:43:26.103825",
     "status": "completed"
    },
    "tags": []
   },
   "source": [
    "# Harris County Appraisal District (HCAD) real and personal property data\n",
    "The Harris County is the [third most populous](https://en.wikipedia.org/wiki/List_of_the_most_populous_counties_in_the_United_States) county in the USA. Its appraisal district (HCAD) provides a fantastic dataset with each appraised property characteristics (appraised value, fixtures, features...) on a yearly basis. In this notebook we explore these data for the year 2016, to understand what is available, and to select variables that can help us answer if a given property was appraised fairly.\n",
    "\n",
    "[HCAD data](https://pdata.hcad.org/download/2016.html) consists of several text files, grouped in zipped files as follows:\n",
    "\n",
    "1. Real_acct_owner.zip\n",
    "    * **Real_acct.txt**: account including owner name, owner mailing address, $\\color{red}{values}$, $\\color{red}{site~address}$, and legal descriptions.\n",
    "    * **Real_neighborhood_code.txt**:  $\\color{red}{neighborhood~code}$, group code and description\n",
    "    * **Parcel_tiebacks.txt**\n",
    "    * **Permits.txt**: an account including permit type, permit description, and status.\n",
    "    * **Owners.txt**: multiple owners.\n",
    "    * **Deeds.txt**: deed information.\n",
    "\n",
    "\n",
    "2. Real_building_land.zip\n",
    "    * **Building_res.txt**: $\\color{red}{all~residential~information}$\n",
    "    * **Building_other.txt**: all other real properties, such as commercial and information for income producing properties including occupancy rates and operating income.\n",
    "    * **Exterior.txt**: $\\color{red}{general~data~about~buildings~and~sub~areas,~(style~or~use,~size,~year~built).}$\n",
    "    * **Fixture.txt**: $\\color{red}{characteristics~of~the~building}$. This includes bedrooms, fireplace, bathrooms, stories for residential. Also contains wall height, elevators, and other descriptions for commercial property.\n",
    "    * **Extra_features.txt**: extra features for an account. This includes wood deck, $\\color{red}{pool}$, storage shed, detached garage, etc. This also contains information on cracked slabs and pools.\n",
    "    * **Structural_elem1.txt**: $\\color{red}{Single~Family}$, Multi Family, Condos, Town homes. $\\color{red}{Home~Information}$ (CDU, Grade Adjustment, Physical Condition).\n",
    "    * **Structural_elem2.txt**: Commercial and exempt Properties. These files contain structural elements of a property. This includes information like $\\color{red}{physical~condition,~grade,~exterior~wall,~and~foundation~type}$.\n",
    "    * **Land.txt**: land use, acreage, and land units.\n",
    "    * **Land_ag.txt**: agricultural and timber land information including land use, acreage, and land units.\n",
    "\n",
    "\n",
    "3. Real_jur_exempt.zip\n",
    "    * **Jur_exempt.txt**: Lists the jurisdictions and exemptions associated with an account and the tax rates.\n",
    "    * **Jur_exemption_cd**: Lists the exemption code associated with an account.\n",
    "    * **Jur_exemption_dscr**: Lists the jurisdictions and their exemption description.\n",
    "    * **Jur_tax_district_exempt_value.txt**: Lists the jurisdictions and their exemption values.\n",
    "    * **Jur_tax_district_percent_rate**: Lists the Taxing district percent rates.\n",
    "    * **Jur_value.txt**: Lists the jurisdictions and values associated with an account.\n",
    "\n",
    "\n",
    "4. PP_files.zip\n",
    "    * **T_business_acct.txt**:  account, including owner name, owner mailing address, values, site address, and legal descriptions, all values and etc.\n",
    "    * **T_business_detail.txt**: account, items, description and item values.\n",
    "    * **T_jur_exempt.txt**: Lists the jurisdictions and exemptions associated with an account and the tax rates.\n",
    "    * **T_jur_value.txt**: Lists the jurisdictions and values associated with an account.\n",
    "    * **T_jur_tax_district_exempt_value.txt**: Lists the jurisdictions and their exemption values.\n",
    "    * **T_jur_tax_district_percent_rate**: Lists the Taxing district percent rates.\n",
    "    * **T_pp_c.txt**: c Pipelines data.\n",
    "    * **T_pp_e.txt**: e Minerals data.\n",
    "    * **T_pp_l.txt**: l Electrical Transmission / Distribution Lines data.\n",
    "\n",
    "\n",
    "5. Hearing_files.zip\n",
    "    * **ARB_hearings_pp.txt**: account, state code, owner, date of hearing, release date, conclusion code, initial and final values and etc.\n",
    "    * **ARB_hearings_real.txt**: account, state code, owner, date of hearing, release date, conclusion code, initial and final values and etc.\n",
    "    * **ARB_protest_pp.txt**: account, protest by, date of protest.\n",
    "    * **ARB_protest_real.txt**: account, protest by, date of protest.\n",
    "\n",
    "In addition, the following files are also available for deciphering codes in some of the variables:\n",
    "\n",
    "1. code_desc_real.txt\n",
    "2. code_nh_numbers.txt\n",
    "3. code_nh_numbers_adj.txt\n",
    "4. code_desc_personal.txt\n",
    "5. code_jur_list.txt\n",
    "\n",
    "The first step is then to identify the variables that will influence the appraised value (highlighted in red above). Next, we would like to filter the data to only contain comparables, in this case free standing (a house) single-family properties."
   ]
  },
  {
   "cell_type": "markdown",
   "metadata": {
    "papermill": {
     "duration": 0.042007,
     "end_time": "2020-09-13T12:43:26.231350",
     "exception": false,
     "start_time": "2020-09-13T12:43:26.189343",
     "status": "completed"
    },
    "tags": []
   },
   "source": [
    "# Find the comparables: building_res.txt\n",
    "\n",
    "The file `building_res.txt` contains the some of the properties description, including the HCAD account number (column acct) they are associated to. Let's find the account numbers for the free standing single family properties."
   ]
  },
  {
   "cell_type": "code",
   "execution_count": 1,
   "metadata": {
    "ExecuteTime": {
     "end_time": "2020-07-25T10:10:06.763530Z",
     "start_time": "2020-07-25T10:10:06.750044Z"
    },
    "execution": {
     "iopub.execute_input": "2020-09-13T12:43:26.316704Z",
     "iopub.status.busy": "2020-09-13T12:43:26.316136Z",
     "iopub.status.idle": "2020-09-13T12:43:26.328232Z",
     "shell.execute_reply": "2020-09-13T12:43:26.328676Z"
    },
    "papermill": {
     "duration": 0.057699,
     "end_time": "2020-09-13T12:43:26.328996",
     "exception": false,
     "start_time": "2020-09-13T12:43:26.271297",
     "status": "completed"
    },
    "tags": []
   },
   "outputs": [],
   "source": [
    "%load_ext autoreload\n",
    "%autoreload 2"
   ]
  },
  {
   "cell_type": "code",
   "execution_count": 2,
   "metadata": {
    "ExecuteTime": {
     "end_time": "2020-07-25T10:10:07.232666Z",
     "start_time": "2020-07-25T10:10:06.766371Z"
    },
    "execution": {
     "iopub.execute_input": "2020-09-13T12:43:26.417619Z",
     "iopub.status.busy": "2020-09-13T12:43:26.416700Z",
     "iopub.status.idle": "2020-09-13T12:43:26.972748Z",
     "shell.execute_reply": "2020-09-13T12:43:26.973271Z"
    },
    "papermill": {
     "duration": 0.603223,
     "end_time": "2020-09-13T12:43:26.973442",
     "exception": false,
     "start_time": "2020-09-13T12:43:26.370219",
     "status": "completed"
    },
    "tags": []
   },
   "outputs": [],
   "source": [
    "from pathlib import Path\n",
    "\n",
    "import numpy as np\n",
    "import pandas as pd\n",
    "\n",
    "from src.definitions import ROOT_DIR\n",
    "from src.data.utils import Table"
   ]
  },
  {
   "cell_type": "code",
   "execution_count": 3,
   "metadata": {
    "ExecuteTime": {
     "end_time": "2020-07-25T10:10:07.254280Z",
     "start_time": "2020-07-25T10:10:07.235213Z"
    },
    "execution": {
     "iopub.execute_input": "2020-09-13T12:43:27.058426Z",
     "iopub.status.busy": "2020-09-13T12:43:27.057564Z",
     "iopub.status.idle": "2020-09-13T12:43:27.070342Z",
     "shell.execute_reply": "2020-09-13T12:43:27.070797Z"
    },
    "papermill": {
     "duration": 0.056445,
     "end_time": "2020-09-13T12:43:27.070968",
     "exception": false,
     "start_time": "2020-09-13T12:43:27.014523",
     "status": "completed"
    },
    "tags": []
   },
   "outputs": [],
   "source": [
    "building_res_fn = ROOT_DIR / 'data/external/2016/Real_building_land/building_res.txt'\n",
    "assert building_res_fn.exists()"
   ]
  },
  {
   "cell_type": "markdown",
   "metadata": {
    "papermill": {
     "duration": 0.039068,
     "end_time": "2020-09-13T12:43:27.150283",
     "exception": false,
     "start_time": "2020-09-13T12:43:27.111215",
     "status": "completed"
    },
    "tags": []
   },
   "source": [
    "The column names of the HCAD files are stored in the file `Layout_and_Length.txt`. The `src.data.utils.Table` class has methods to read the file column names, and read the data file as a pandas DataFrame."
   ]
  },
  {
   "cell_type": "code",
   "execution_count": 4,
   "metadata": {
    "ExecuteTime": {
     "end_time": "2020-07-25T10:10:07.270870Z",
     "start_time": "2020-07-25T10:10:07.257853Z"
    },
    "execution": {
     "iopub.execute_input": "2020-09-13T12:43:27.234384Z",
     "iopub.status.busy": "2020-09-13T12:43:27.233465Z",
     "iopub.status.idle": "2020-09-13T12:43:27.245364Z",
     "shell.execute_reply": "2020-09-13T12:43:27.245859Z"
    },
    "papermill": {
     "duration": 0.055931,
     "end_time": "2020-09-13T12:43:27.246022",
     "exception": false,
     "start_time": "2020-09-13T12:43:27.190091",
     "status": "completed"
    },
    "tags": []
   },
   "outputs": [],
   "source": [
    "building_res = Table(building_res_fn, '2016')"
   ]
  },
  {
   "cell_type": "code",
   "execution_count": 5,
   "metadata": {
    "ExecuteTime": {
     "end_time": "2020-07-25T10:10:07.301560Z",
     "start_time": "2020-07-25T10:10:07.272715Z"
    },
    "execution": {
     "iopub.execute_input": "2020-09-13T12:43:27.328548Z",
     "iopub.status.busy": "2020-09-13T12:43:27.328011Z",
     "iopub.status.idle": "2020-09-13T12:43:27.357252Z",
     "shell.execute_reply": "2020-09-13T12:43:27.357707Z"
    },
    "papermill": {
     "duration": 0.072655,
     "end_time": "2020-09-13T12:43:27.357869",
     "exception": false,
     "start_time": "2020-09-13T12:43:27.285214",
     "status": "completed"
    },
    "tags": []
   },
   "outputs": [
    {
     "data": {
      "text/plain": [
       "['acct',\n",
       " 'property_use_cd',\n",
       " 'bld_num',\n",
       " 'impr_tp',\n",
       " 'impr_mdl_cd',\n",
       " 'structure',\n",
       " 'structure_dscr',\n",
       " 'dpr_val',\n",
       " 'cama_replacement_cost',\n",
       " 'accrued_depr_pct',\n",
       " 'qa_cd',\n",
       " 'dscr',\n",
       " 'date_erected',\n",
       " 'eff',\n",
       " 'yr_remodel',\n",
       " 'yr_roll',\n",
       " 'appr_by',\n",
       " 'appr_dt',\n",
       " 'notes',\n",
       " 'im_sq_ft',\n",
       " 'act_ar',\n",
       " 'heat_ar',\n",
       " 'gross_ar',\n",
       " 'eff_ar',\n",
       " 'base_ar',\n",
       " 'perimeter',\n",
       " 'pct',\n",
       " 'bld_adj',\n",
       " 'rcnld',\n",
       " 'size_index',\n",
       " 'lump_sum_adj']"
      ]
     },
     "execution_count": 5,
     "metadata": {},
     "output_type": "execute_result"
    }
   ],
   "source": [
    "building_res.get_header()"
   ]
  },
  {
   "cell_type": "markdown",
   "metadata": {
    "papermill": {
     "duration": 0.041447,
     "end_time": "2020-09-13T12:43:27.439226",
     "exception": false,
     "start_time": "2020-09-13T12:43:27.397779",
     "status": "completed"
    },
    "tags": []
   },
   "source": [
    "Since the file may not fit into memory, let's load only the columns of interest."
   ]
  },
  {
   "cell_type": "code",
   "execution_count": 6,
   "metadata": {
    "ExecuteTime": {
     "end_time": "2020-07-25T10:10:07.318881Z",
     "start_time": "2020-07-25T10:10:07.303871Z"
    },
    "execution": {
     "iopub.execute_input": "2020-09-13T12:43:27.526631Z",
     "iopub.status.busy": "2020-09-13T12:43:27.525682Z",
     "iopub.status.idle": "2020-09-13T12:43:27.543416Z",
     "shell.execute_reply": "2020-09-13T12:43:27.542903Z"
    },
    "papermill": {
     "duration": 0.062337,
     "end_time": "2020-09-13T12:43:27.543571",
     "exception": false,
     "start_time": "2020-09-13T12:43:27.481234",
     "status": "completed"
    },
    "tags": []
   },
   "outputs": [],
   "source": [
    "cols = [\n",
    "    'acct',      # Property unique account number\n",
    "    'property_use_cd',\n",
    "    'bld_num',\n",
    "    'impr_mdl_cd',\n",
    "    'impr_tp',\n",
    "    'structure_dscr',\n",
    "    'pct',\n",
    "    'dscr',      # Quality description\n",
    "    'date_erected',\n",
    "    'yr_remodel',\n",
    "    'im_sq_ft',  # Improvement square feet\n",
    "    'act_ar',    # Actual area\n",
    "    'heat_ar',   # Heat area\n",
    "    'gross_ar',  # Gross area\n",
    "    'eff_ar',    # Affective area\n",
    "    'base_ar',   # Base area\n",
    "    'perimeter',\n",
    "]"
   ]
  },
  {
   "cell_type": "code",
   "execution_count": 7,
   "metadata": {
    "ExecuteTime": {
     "end_time": "2020-07-25T10:10:10.311360Z",
     "start_time": "2020-07-25T10:10:07.321800Z"
    },
    "execution": {
     "iopub.execute_input": "2020-09-13T12:43:27.632064Z",
     "iopub.status.busy": "2020-09-13T12:43:27.631467Z",
     "iopub.status.idle": "2020-09-13T12:43:31.963804Z",
     "shell.execute_reply": "2020-09-13T12:43:31.964249Z"
    },
    "papermill": {
     "duration": 4.381345,
     "end_time": "2020-09-13T12:43:31.964424",
     "exception": false,
     "start_time": "2020-09-13T12:43:27.583079",
     "status": "completed"
    },
    "tags": []
   },
   "outputs": [],
   "source": [
    "building_res_df = building_res.get_df(usecols=cols)"
   ]
  },
  {
   "cell_type": "code",
   "execution_count": 8,
   "metadata": {
    "ExecuteTime": {
     "end_time": "2020-07-25T10:10:10.342080Z",
     "start_time": "2020-07-25T10:10:10.314107Z"
    },
    "execution": {
     "iopub.execute_input": "2020-09-13T12:43:32.050627Z",
     "iopub.status.busy": "2020-09-13T12:43:32.049739Z",
     "iopub.status.idle": "2020-09-13T12:43:32.082061Z",
     "shell.execute_reply": "2020-09-13T12:43:32.082778Z"
    },
    "papermill": {
     "duration": 0.077063,
     "end_time": "2020-09-13T12:43:32.083016",
     "exception": false,
     "start_time": "2020-09-13T12:43:32.005953",
     "status": "completed"
    },
    "tags": []
   },
   "outputs": [
    {
     "data": {
      "text/html": [
       "<div>\n",
       "<style scoped>\n",
       "    .dataframe tbody tr th:only-of-type {\n",
       "        vertical-align: middle;\n",
       "    }\n",
       "\n",
       "    .dataframe tbody tr th {\n",
       "        vertical-align: top;\n",
       "    }\n",
       "\n",
       "    .dataframe thead th {\n",
       "        text-align: right;\n",
       "    }\n",
       "</style>\n",
       "<table border=\"1\" class=\"dataframe\">\n",
       "  <thead>\n",
       "    <tr style=\"text-align: right;\">\n",
       "      <th></th>\n",
       "      <th>acct</th>\n",
       "      <th>property_use_cd</th>\n",
       "      <th>bld_num</th>\n",
       "      <th>impr_tp</th>\n",
       "      <th>impr_mdl_cd</th>\n",
       "      <th>structure_dscr</th>\n",
       "      <th>dscr</th>\n",
       "      <th>date_erected</th>\n",
       "      <th>yr_remodel</th>\n",
       "      <th>im_sq_ft</th>\n",
       "      <th>act_ar</th>\n",
       "      <th>heat_ar</th>\n",
       "      <th>gross_ar</th>\n",
       "      <th>eff_ar</th>\n",
       "      <th>base_ar</th>\n",
       "      <th>perimeter</th>\n",
       "      <th>pct</th>\n",
       "    </tr>\n",
       "  </thead>\n",
       "  <tbody>\n",
       "    <tr>\n",
       "      <th>0</th>\n",
       "      <td>21660000004</td>\n",
       "      <td>B4</td>\n",
       "      <td>1</td>\n",
       "      <td>1002</td>\n",
       "      <td>102</td>\n",
       "      <td>Residential</td>\n",
       "      <td>Low</td>\n",
       "      <td>1950</td>\n",
       "      <td>2006</td>\n",
       "      <td>2658</td>\n",
       "      <td>2814</td>\n",
       "      <td>2658</td>\n",
       "      <td>2814</td>\n",
       "      <td>2578</td>\n",
       "      <td>2658</td>\n",
       "      <td>314</td>\n",
       "      <td>1.0</td>\n",
       "    </tr>\n",
       "    <tr>\n",
       "      <th>1</th>\n",
       "      <td>21660000009</td>\n",
       "      <td>B2</td>\n",
       "      <td>2</td>\n",
       "      <td>1002</td>\n",
       "      <td>102</td>\n",
       "      <td>Residential</td>\n",
       "      <td>Low</td>\n",
       "      <td>1940</td>\n",
       "      <td>0</td>\n",
       "      <td>1320</td>\n",
       "      <td>1352</td>\n",
       "      <td>1320</td>\n",
       "      <td>1352</td>\n",
       "      <td>1331</td>\n",
       "      <td>1320</td>\n",
       "      <td>148</td>\n",
       "      <td>1.0</td>\n",
       "    </tr>\n",
       "    <tr>\n",
       "      <th>2</th>\n",
       "      <td>21980000016</td>\n",
       "      <td>B2</td>\n",
       "      <td>1</td>\n",
       "      <td>1002</td>\n",
       "      <td>102</td>\n",
       "      <td>Residential</td>\n",
       "      <td>Low</td>\n",
       "      <td>1940</td>\n",
       "      <td>0</td>\n",
       "      <td>3916</td>\n",
       "      <td>3916</td>\n",
       "      <td>3916</td>\n",
       "      <td>3916</td>\n",
       "      <td>3771</td>\n",
       "      <td>3916</td>\n",
       "      <td>354</td>\n",
       "      <td>1.0</td>\n",
       "    </tr>\n",
       "    <tr>\n",
       "      <th>3</th>\n",
       "      <td>22070000001</td>\n",
       "      <td>A1</td>\n",
       "      <td>1</td>\n",
       "      <td>1001</td>\n",
       "      <td>101</td>\n",
       "      <td>Residential</td>\n",
       "      <td>Low</td>\n",
       "      <td>1923</td>\n",
       "      <td>0</td>\n",
       "      <td>680</td>\n",
       "      <td>728</td>\n",
       "      <td>680</td>\n",
       "      <td>728</td>\n",
       "      <td>696</td>\n",
       "      <td>680</td>\n",
       "      <td>128</td>\n",
       "      <td>1.0</td>\n",
       "    </tr>\n",
       "    <tr>\n",
       "      <th>4</th>\n",
       "      <td>22070000007</td>\n",
       "      <td>A1</td>\n",
       "      <td>1</td>\n",
       "      <td>1001</td>\n",
       "      <td>101</td>\n",
       "      <td>Residential</td>\n",
       "      <td>Low</td>\n",
       "      <td>1935</td>\n",
       "      <td>0</td>\n",
       "      <td>1956</td>\n",
       "      <td>2244</td>\n",
       "      <td>1956</td>\n",
       "      <td>2244</td>\n",
       "      <td>2034</td>\n",
       "      <td>1956</td>\n",
       "      <td>196</td>\n",
       "      <td>1.0</td>\n",
       "    </tr>\n",
       "  </tbody>\n",
       "</table>\n",
       "</div>"
      ],
      "text/plain": [
       "          acct property_use_cd  bld_num  impr_tp  impr_mdl_cd structure_dscr  \\\n",
       "0  21660000004              B4        1     1002          102    Residential   \n",
       "1  21660000009              B2        2     1002          102    Residential   \n",
       "2  21980000016              B2        1     1002          102    Residential   \n",
       "3  22070000001              A1        1     1001          101    Residential   \n",
       "4  22070000007              A1        1     1001          101    Residential   \n",
       "\n",
       "  dscr  date_erected  yr_remodel  im_sq_ft  act_ar  heat_ar  gross_ar  eff_ar  \\\n",
       "0  Low          1950        2006      2658    2814     2658      2814    2578   \n",
       "1  Low          1940           0      1320    1352     1320      1352    1331   \n",
       "2  Low          1940           0      3916    3916     3916      3916    3771   \n",
       "3  Low          1923           0       680     728      680       728     696   \n",
       "4  Low          1935           0      1956    2244     1956      2244    2034   \n",
       "\n",
       "   base_ar  perimeter  pct  \n",
       "0     2658        314  1.0  \n",
       "1     1320        148  1.0  \n",
       "2     3916        354  1.0  \n",
       "3      680        128  1.0  \n",
       "4     1956        196  1.0  "
      ]
     },
     "execution_count": 8,
     "metadata": {},
     "output_type": "execute_result"
    }
   ],
   "source": [
    "building_res_df.head()"
   ]
  },
  {
   "cell_type": "code",
   "execution_count": 9,
   "metadata": {
    "ExecuteTime": {
     "end_time": "2020-07-25T10:10:10.361304Z",
     "start_time": "2020-07-25T10:10:10.345493Z"
    },
    "execution": {
     "iopub.execute_input": "2020-09-13T12:43:32.191056Z",
     "iopub.status.busy": "2020-09-13T12:43:32.190209Z",
     "iopub.status.idle": "2020-09-13T12:43:32.205181Z",
     "shell.execute_reply": "2020-09-13T12:43:32.204421Z"
    },
    "papermill": {
     "duration": 0.06033,
     "end_time": "2020-09-13T12:43:32.205378",
     "exception": false,
     "start_time": "2020-09-13T12:43:32.145048",
     "status": "completed"
    },
    "tags": []
   },
   "outputs": [
    {
     "data": {
      "text/plain": [
       "acct                 int64\n",
       "property_use_cd     object\n",
       "bld_num              int64\n",
       "impr_tp              int64\n",
       "impr_mdl_cd          int64\n",
       "structure_dscr      object\n",
       "dscr                object\n",
       "date_erected         int64\n",
       "yr_remodel           int64\n",
       "im_sq_ft             int64\n",
       "act_ar               int64\n",
       "heat_ar              int64\n",
       "gross_ar             int64\n",
       "eff_ar               int64\n",
       "base_ar              int64\n",
       "perimeter            int64\n",
       "pct                float64\n",
       "dtype: object"
      ]
     },
     "execution_count": 9,
     "metadata": {},
     "output_type": "execute_result"
    }
   ],
   "source": [
    "building_res_df.dtypes"
   ]
  },
  {
   "cell_type": "code",
   "execution_count": 10,
   "metadata": {
    "ExecuteTime": {
     "end_time": "2020-07-25T10:10:10.715029Z",
     "start_time": "2020-07-25T10:10:10.363285Z"
    },
    "execution": {
     "iopub.execute_input": "2020-09-13T12:43:32.314815Z",
     "iopub.status.busy": "2020-09-13T12:43:32.313931Z",
     "iopub.status.idle": "2020-09-13T12:43:32.605175Z",
     "shell.execute_reply": "2020-09-13T12:43:32.604594Z"
    },
    "papermill": {
     "duration": 0.336786,
     "end_time": "2020-09-13T12:43:32.605307",
     "exception": false,
     "start_time": "2020-09-13T12:43:32.268521",
     "status": "completed"
    },
    "tags": []
   },
   "outputs": [
    {
     "data": {
      "text/plain": [
       "Index                   128\n",
       "acct                9210704\n",
       "property_use_cd    67928942\n",
       "bld_num             9210704\n",
       "impr_tp             9210704\n",
       "impr_mdl_cd         9210704\n",
       "structure_dscr     78291718\n",
       "dscr               72475596\n",
       "date_erected        9210704\n",
       "yr_remodel          9210704\n",
       "im_sq_ft            9210704\n",
       "act_ar              9210704\n",
       "heat_ar             9210704\n",
       "gross_ar            9210704\n",
       "eff_ar              9210704\n",
       "base_ar             9210704\n",
       "perimeter           9210704\n",
       "pct                 9210704\n",
       "dtype: int64"
      ]
     },
     "execution_count": 10,
     "metadata": {},
     "output_type": "execute_result"
    }
   ],
   "source": [
    "building_res_df.memory_usage(deep=True)"
   ]
  },
  {
   "cell_type": "markdown",
   "metadata": {
    "papermill": {
     "duration": 0.042184,
     "end_time": "2020-09-13T12:43:32.688315",
     "exception": false,
     "start_time": "2020-09-13T12:43:32.646131",
     "status": "completed"
    },
    "tags": []
   },
   "source": [
    "Let's reduce the in-memory file size by changing the types of the categorical columns, and downcasting the numerical column types where possible."
   ]
  },
  {
   "cell_type": "code",
   "execution_count": 11,
   "metadata": {
    "ExecuteTime": {
     "end_time": "2020-07-25T10:10:11.016813Z",
     "start_time": "2020-07-25T10:10:10.717541Z"
    },
    "execution": {
     "iopub.execute_input": "2020-09-13T12:43:32.777318Z",
     "iopub.status.busy": "2020-09-13T12:43:32.776715Z",
     "iopub.status.idle": "2020-09-13T12:43:33.228765Z",
     "shell.execute_reply": "2020-09-13T12:43:33.229414Z"
    },
    "papermill": {
     "duration": 0.499545,
     "end_time": "2020-09-13T12:43:33.229638",
     "exception": false,
     "start_time": "2020-09-13T12:43:32.730093",
     "status": "completed"
    },
    "tags": []
   },
   "outputs": [],
   "source": [
    "building_res_df['property_use_cd'] = building_res_df['property_use_cd'].astype('category')\n",
    "building_res_df['bld_num'] = building_res_df['bld_num'].astype('category')\n",
    "building_res_df['impr_mdl_cd'] = building_res_df['impr_mdl_cd'].astype('category')\n",
    "building_res_df['impr_tp'] = building_res_df['impr_tp'].astype('category')\n",
    "building_res_df['structure_dscr'] = building_res_df['structure_dscr'].astype('category')\n",
    "building_res_df['dscr'] = building_res_df['dscr'].astype('category')"
   ]
  },
  {
   "cell_type": "code",
   "execution_count": 12,
   "metadata": {
    "ExecuteTime": {
     "end_time": "2020-07-25T10:10:11.101466Z",
     "start_time": "2020-07-25T10:10:11.018646Z"
    },
    "execution": {
     "iopub.execute_input": "2020-09-13T12:43:33.325031Z",
     "iopub.status.busy": "2020-09-13T12:43:33.324120Z",
     "iopub.status.idle": "2020-09-13T12:43:33.413780Z",
     "shell.execute_reply": "2020-09-13T12:43:33.414239Z"
    },
    "papermill": {
     "duration": 0.137468,
     "end_time": "2020-09-13T12:43:33.414407",
     "exception": false,
     "start_time": "2020-09-13T12:43:33.276939",
     "status": "completed"
    },
    "tags": []
   },
   "outputs": [],
   "source": [
    "building_res_df['acct'] = pd.to_numeric(building_res_df['acct'], downcast='unsigned')"
   ]
  },
  {
   "cell_type": "code",
   "execution_count": 13,
   "metadata": {
    "ExecuteTime": {
     "end_time": "2020-07-25T10:10:11.426638Z",
     "start_time": "2020-07-25T10:10:11.103085Z"
    },
    "execution": {
     "iopub.execute_input": "2020-09-13T12:43:33.507102Z",
     "iopub.status.busy": "2020-09-13T12:43:33.506177Z",
     "iopub.status.idle": "2020-09-13T12:43:33.853437Z",
     "shell.execute_reply": "2020-09-13T12:43:33.852905Z"
    },
    "papermill": {
     "duration": 0.395151,
     "end_time": "2020-09-13T12:43:33.853576",
     "exception": false,
     "start_time": "2020-09-13T12:43:33.458425",
     "status": "completed"
    },
    "tags": []
   },
   "outputs": [],
   "source": [
    "building_res_df.loc[:, 'date_erected':'base_ar'] = building_res_df.loc[:, 'date_erected':'base_ar'].apply(pd.to_numeric, downcast='unsigned')\n",
    "building_res_df['perimeter'] = pd.to_numeric(building_res_df['perimeter'], downcast='integer')\n",
    "building_res_df['pct'] = pd.to_numeric(building_res_df['pct'], downcast='float')"
   ]
  },
  {
   "cell_type": "code",
   "execution_count": 14,
   "metadata": {
    "ExecuteTime": {
     "end_time": "2020-07-25T10:10:11.442591Z",
     "start_time": "2020-07-25T10:10:11.428566Z"
    },
    "execution": {
     "iopub.execute_input": "2020-09-13T12:43:33.950271Z",
     "iopub.status.busy": "2020-09-13T12:43:33.949662Z",
     "iopub.status.idle": "2020-09-13T12:43:33.970559Z",
     "shell.execute_reply": "2020-09-13T12:43:33.971221Z"
    },
    "papermill": {
     "duration": 0.074137,
     "end_time": "2020-09-13T12:43:33.971433",
     "exception": false,
     "start_time": "2020-09-13T12:43:33.897296",
     "status": "completed"
    },
    "tags": []
   },
   "outputs": [
    {
     "data": {
      "text/plain": [
       "acct                 uint64\n",
       "property_use_cd    category\n",
       "bld_num            category\n",
       "impr_tp            category\n",
       "impr_mdl_cd        category\n",
       "structure_dscr     category\n",
       "dscr               category\n",
       "date_erected         uint16\n",
       "yr_remodel            int64\n",
       "im_sq_ft             uint16\n",
       "act_ar               uint16\n",
       "heat_ar              uint16\n",
       "gross_ar             uint16\n",
       "eff_ar               uint16\n",
       "base_ar              uint16\n",
       "perimeter             int16\n",
       "pct                 float32\n",
       "dtype: object"
      ]
     },
     "execution_count": 14,
     "metadata": {},
     "output_type": "execute_result"
    }
   ],
   "source": [
    "building_res_df.dtypes"
   ]
  },
  {
   "cell_type": "code",
   "execution_count": 15,
   "metadata": {
    "ExecuteTime": {
     "end_time": "2020-07-25T10:10:11.463089Z",
     "start_time": "2020-07-25T10:10:11.444569Z"
    },
    "execution": {
     "iopub.execute_input": "2020-09-13T12:43:34.100796Z",
     "iopub.status.busy": "2020-09-13T12:43:34.099935Z",
     "iopub.status.idle": "2020-09-13T12:43:34.115749Z",
     "shell.execute_reply": "2020-09-13T12:43:34.115197Z"
    },
    "papermill": {
     "duration": 0.062882,
     "end_time": "2020-09-13T12:43:34.115898",
     "exception": false,
     "start_time": "2020-09-13T12:43:34.053016",
     "status": "completed"
    },
    "tags": []
   },
   "outputs": [
    {
     "data": {
      "text/plain": [
       "Index                  128\n",
       "acct               9210704\n",
       "property_use_cd    1154211\n",
       "bld_num            1154346\n",
       "impr_tp            1152130\n",
       "impr_mdl_cd        1152170\n",
       "structure_dscr     1152234\n",
       "dscr               1152100\n",
       "date_erected       2302676\n",
       "yr_remodel         9210704\n",
       "im_sq_ft           2302676\n",
       "act_ar             2302676\n",
       "heat_ar            2302676\n",
       "gross_ar           2302676\n",
       "eff_ar             2302676\n",
       "base_ar            2302676\n",
       "perimeter          2302676\n",
       "pct                4605352\n",
       "dtype: int64"
      ]
     },
     "execution_count": 15,
     "metadata": {},
     "output_type": "execute_result"
    }
   ],
   "source": [
    "building_res_df.memory_usage(deep=True)"
   ]
  },
  {
   "cell_type": "code",
   "execution_count": 16,
   "metadata": {
    "ExecuteTime": {
     "end_time": "2020-07-25T10:10:11.506035Z",
     "start_time": "2020-07-25T10:10:11.464847Z"
    },
    "execution": {
     "iopub.execute_input": "2020-09-13T12:43:34.208151Z",
     "iopub.status.busy": "2020-09-13T12:43:34.207599Z",
     "iopub.status.idle": "2020-09-13T12:43:34.243992Z",
     "shell.execute_reply": "2020-09-13T12:43:34.244395Z"
    },
    "papermill": {
     "duration": 0.085457,
     "end_time": "2020-09-13T12:43:34.244554",
     "exception": false,
     "start_time": "2020-09-13T12:43:34.159097",
     "status": "completed"
    },
    "tags": []
   },
   "outputs": [
    {
     "data": {
      "text/html": [
       "<div>\n",
       "<style scoped>\n",
       "    .dataframe tbody tr th:only-of-type {\n",
       "        vertical-align: middle;\n",
       "    }\n",
       "\n",
       "    .dataframe tbody tr th {\n",
       "        vertical-align: top;\n",
       "    }\n",
       "\n",
       "    .dataframe thead th {\n",
       "        text-align: right;\n",
       "    }\n",
       "</style>\n",
       "<table border=\"1\" class=\"dataframe\">\n",
       "  <thead>\n",
       "    <tr style=\"text-align: right;\">\n",
       "      <th></th>\n",
       "      <th>acct</th>\n",
       "      <th>property_use_cd</th>\n",
       "      <th>bld_num</th>\n",
       "      <th>impr_tp</th>\n",
       "      <th>impr_mdl_cd</th>\n",
       "      <th>structure_dscr</th>\n",
       "      <th>dscr</th>\n",
       "      <th>date_erected</th>\n",
       "      <th>yr_remodel</th>\n",
       "      <th>im_sq_ft</th>\n",
       "      <th>act_ar</th>\n",
       "      <th>heat_ar</th>\n",
       "      <th>gross_ar</th>\n",
       "      <th>eff_ar</th>\n",
       "      <th>base_ar</th>\n",
       "      <th>perimeter</th>\n",
       "      <th>pct</th>\n",
       "    </tr>\n",
       "  </thead>\n",
       "  <tbody>\n",
       "    <tr>\n",
       "      <th>0</th>\n",
       "      <td>21660000004</td>\n",
       "      <td>B4</td>\n",
       "      <td>1</td>\n",
       "      <td>1002</td>\n",
       "      <td>102</td>\n",
       "      <td>Residential</td>\n",
       "      <td>Low</td>\n",
       "      <td>1950</td>\n",
       "      <td>2006</td>\n",
       "      <td>2658</td>\n",
       "      <td>2814</td>\n",
       "      <td>2658</td>\n",
       "      <td>2814</td>\n",
       "      <td>2578</td>\n",
       "      <td>2658</td>\n",
       "      <td>314</td>\n",
       "      <td>1.0</td>\n",
       "    </tr>\n",
       "    <tr>\n",
       "      <th>1</th>\n",
       "      <td>21660000009</td>\n",
       "      <td>B2</td>\n",
       "      <td>2</td>\n",
       "      <td>1002</td>\n",
       "      <td>102</td>\n",
       "      <td>Residential</td>\n",
       "      <td>Low</td>\n",
       "      <td>1940</td>\n",
       "      <td>0</td>\n",
       "      <td>1320</td>\n",
       "      <td>1352</td>\n",
       "      <td>1320</td>\n",
       "      <td>1352</td>\n",
       "      <td>1331</td>\n",
       "      <td>1320</td>\n",
       "      <td>148</td>\n",
       "      <td>1.0</td>\n",
       "    </tr>\n",
       "    <tr>\n",
       "      <th>2</th>\n",
       "      <td>21980000016</td>\n",
       "      <td>B2</td>\n",
       "      <td>1</td>\n",
       "      <td>1002</td>\n",
       "      <td>102</td>\n",
       "      <td>Residential</td>\n",
       "      <td>Low</td>\n",
       "      <td>1940</td>\n",
       "      <td>0</td>\n",
       "      <td>3916</td>\n",
       "      <td>3916</td>\n",
       "      <td>3916</td>\n",
       "      <td>3916</td>\n",
       "      <td>3771</td>\n",
       "      <td>3916</td>\n",
       "      <td>354</td>\n",
       "      <td>1.0</td>\n",
       "    </tr>\n",
       "    <tr>\n",
       "      <th>3</th>\n",
       "      <td>22070000001</td>\n",
       "      <td>A1</td>\n",
       "      <td>1</td>\n",
       "      <td>1001</td>\n",
       "      <td>101</td>\n",
       "      <td>Residential</td>\n",
       "      <td>Low</td>\n",
       "      <td>1923</td>\n",
       "      <td>0</td>\n",
       "      <td>680</td>\n",
       "      <td>728</td>\n",
       "      <td>680</td>\n",
       "      <td>728</td>\n",
       "      <td>696</td>\n",
       "      <td>680</td>\n",
       "      <td>128</td>\n",
       "      <td>1.0</td>\n",
       "    </tr>\n",
       "    <tr>\n",
       "      <th>4</th>\n",
       "      <td>22070000007</td>\n",
       "      <td>A1</td>\n",
       "      <td>1</td>\n",
       "      <td>1001</td>\n",
       "      <td>101</td>\n",
       "      <td>Residential</td>\n",
       "      <td>Low</td>\n",
       "      <td>1935</td>\n",
       "      <td>0</td>\n",
       "      <td>1956</td>\n",
       "      <td>2244</td>\n",
       "      <td>1956</td>\n",
       "      <td>2244</td>\n",
       "      <td>2034</td>\n",
       "      <td>1956</td>\n",
       "      <td>196</td>\n",
       "      <td>1.0</td>\n",
       "    </tr>\n",
       "  </tbody>\n",
       "</table>\n",
       "</div>"
      ],
      "text/plain": [
       "          acct property_use_cd bld_num impr_tp impr_mdl_cd structure_dscr  \\\n",
       "0  21660000004              B4       1    1002         102    Residential   \n",
       "1  21660000009              B2       2    1002         102    Residential   \n",
       "2  21980000016              B2       1    1002         102    Residential   \n",
       "3  22070000001              A1       1    1001         101    Residential   \n",
       "4  22070000007              A1       1    1001         101    Residential   \n",
       "\n",
       "  dscr  date_erected  yr_remodel  im_sq_ft  act_ar  heat_ar  gross_ar  eff_ar  \\\n",
       "0  Low          1950        2006      2658    2814     2658      2814    2578   \n",
       "1  Low          1940           0      1320    1352     1320      1352    1331   \n",
       "2  Low          1940           0      3916    3916     3916      3916    3771   \n",
       "3  Low          1923           0       680     728      680       728     696   \n",
       "4  Low          1935           0      1956    2244     1956      2244    2034   \n",
       "\n",
       "   base_ar  perimeter  pct  \n",
       "0     2658        314  1.0  \n",
       "1     1320        148  1.0  \n",
       "2     3916        354  1.0  \n",
       "3      680        128  1.0  \n",
       "4     1956        196  1.0  "
      ]
     },
     "execution_count": 16,
     "metadata": {},
     "output_type": "execute_result"
    }
   ],
   "source": [
    "building_res_df.head()"
   ]
  },
  {
   "cell_type": "markdown",
   "metadata": {
    "papermill": {
     "duration": 0.045035,
     "end_time": "2020-09-13T12:43:34.332579",
     "exception": false,
     "start_time": "2020-09-13T12:43:34.287544",
     "status": "completed"
    },
    "tags": []
   },
   "source": [
    "# Select comparables\n",
    "\n",
    "From file `data/external/2016/code_desc_real` we find that the following columns define the free-standing single-family homes:\n",
    "\n",
    "1. property_use_cd: **A1** = Real, Residential, Single-Family\n",
    "2. impr_mdl_cd: **101** = Residential 1 Family\n",
    "3. impr_tp: **1001** = Residential Single Family\n",
    "4. structure_dscr: **Residential**\n",
    "5. pct: **1** = 100% built\n",
    "\n",
    "Let's filter the rows based on these criteria."
   ]
  },
  {
   "cell_type": "code",
   "execution_count": 17,
   "metadata": {
    "ExecuteTime": {
     "end_time": "2020-07-25T10:10:11.538589Z",
     "start_time": "2020-07-25T10:10:11.513602Z"
    },
    "execution": {
     "iopub.execute_input": "2020-09-13T12:43:34.424945Z",
     "iopub.status.busy": "2020-09-13T12:43:34.424066Z",
     "iopub.status.idle": "2020-09-13T12:43:34.445246Z",
     "shell.execute_reply": "2020-09-13T12:43:34.445667Z"
    },
    "papermill": {
     "duration": 0.068626,
     "end_time": "2020-09-13T12:43:34.445832",
     "exception": false,
     "start_time": "2020-09-13T12:43:34.377206",
     "status": "completed"
    },
    "tags": []
   },
   "outputs": [],
   "source": [
    "cond0 = building_res_df['property_use_cd'] == 'A1'\n",
    "cond1 = building_res_df['impr_mdl_cd'] == 101\n",
    "cond2 = building_res_df['impr_tp'] == 1001\n",
    "cond3 = building_res_df['structure_dscr'] == 'Residential'\n",
    "cond4 = building_res_df['pct'] == 1  # 100% built home"
   ]
  },
  {
   "cell_type": "code",
   "execution_count": 18,
   "metadata": {
    "ExecuteTime": {
     "end_time": "2020-07-25T10:10:11.650027Z",
     "start_time": "2020-07-25T10:10:11.540619Z"
    },
    "execution": {
     "iopub.execute_input": "2020-09-13T12:43:34.537590Z",
     "iopub.status.busy": "2020-09-13T12:43:34.536694Z",
     "iopub.status.idle": "2020-09-13T12:43:34.635906Z",
     "shell.execute_reply": "2020-09-13T12:43:34.635149Z"
    },
    "papermill": {
     "duration": 0.147294,
     "end_time": "2020-09-13T12:43:34.636102",
     "exception": false,
     "start_time": "2020-09-13T12:43:34.488808",
     "status": "completed"
    },
    "tags": []
   },
   "outputs": [],
   "source": [
    "building_res_comps = building_res_df.loc[cond0 & cond1 & cond2 & cond3 & cond4, :]"
   ]
  },
  {
   "cell_type": "code",
   "execution_count": 19,
   "metadata": {
    "ExecuteTime": {
     "end_time": "2020-07-25T10:10:11.667440Z",
     "start_time": "2020-07-25T10:10:11.651953Z"
    },
    "execution": {
     "iopub.execute_input": "2020-09-13T12:43:34.733698Z",
     "iopub.status.busy": "2020-09-13T12:43:34.732737Z",
     "iopub.status.idle": "2020-09-13T12:43:34.746124Z",
     "shell.execute_reply": "2020-09-13T12:43:34.746571Z"
    },
    "papermill": {
     "duration": 0.062917,
     "end_time": "2020-09-13T12:43:34.746751",
     "exception": false,
     "start_time": "2020-09-13T12:43:34.683834",
     "status": "completed"
    },
    "tags": []
   },
   "outputs": [
    {
     "data": {
      "text/plain": [
       "(993908, 17)"
      ]
     },
     "execution_count": 19,
     "metadata": {},
     "output_type": "execute_result"
    }
   ],
   "source": [
    "building_res_comps.shape"
   ]
  },
  {
   "cell_type": "markdown",
   "metadata": {
    "papermill": {
     "duration": 0.044816,
     "end_time": "2020-09-13T12:43:34.836613",
     "exception": false,
     "start_time": "2020-09-13T12:43:34.791797",
     "status": "completed"
    },
    "tags": []
   },
   "source": [
    "The property values are reported in the `real_acct.txt` file. There is only one set of appraised values for each account number. Let's make sure our filtered `building_res_comps` only contains accounts that have just one building."
   ]
  },
  {
   "cell_type": "code",
   "execution_count": 20,
   "metadata": {
    "ExecuteTime": {
     "end_time": "2020-07-25T10:10:11.992605Z",
     "start_time": "2020-07-25T10:10:11.669630Z"
    },
    "execution": {
     "iopub.execute_input": "2020-09-13T12:43:34.941092Z",
     "iopub.status.busy": "2020-09-13T12:43:34.932162Z",
     "iopub.status.idle": "2020-09-13T12:43:35.235605Z",
     "shell.execute_reply": "2020-09-13T12:43:35.236047Z"
    },
    "papermill": {
     "duration": 0.351194,
     "end_time": "2020-09-13T12:43:35.236217",
     "exception": false,
     "start_time": "2020-09-13T12:43:34.885023",
     "status": "completed"
    },
    "tags": []
   },
   "outputs": [],
   "source": [
    "total_bld_per_acct = building_res_comps.groupby('acct')['bld_num'].count()\n",
    "one_bld_in_acct = total_bld_per_acct[total_bld_per_acct == 1].index"
   ]
  },
  {
   "cell_type": "code",
   "execution_count": 21,
   "metadata": {
    "ExecuteTime": {
     "end_time": "2020-07-25T10:10:12.087248Z",
     "start_time": "2020-07-25T10:10:11.994182Z"
    },
    "execution": {
     "iopub.execute_input": "2020-09-13T12:43:35.364217Z",
     "iopub.status.busy": "2020-09-13T12:43:35.363219Z",
     "iopub.status.idle": "2020-09-13T12:43:35.482493Z",
     "shell.execute_reply": "2020-09-13T12:43:35.482997Z"
    },
    "papermill": {
     "duration": 0.20004,
     "end_time": "2020-09-13T12:43:35.483194",
     "exception": false,
     "start_time": "2020-09-13T12:43:35.283154",
     "status": "completed"
    },
    "tags": []
   },
   "outputs": [],
   "source": [
    "assert one_bld_in_acct.is_unique, f\"Non-unique accounts: {one_bld_in_acct}\""
   ]
  },
  {
   "cell_type": "code",
   "execution_count": 22,
   "metadata": {
    "ExecuteTime": {
     "end_time": "2020-07-25T10:10:12.503159Z",
     "start_time": "2020-07-25T10:10:12.088656Z"
    },
    "execution": {
     "iopub.execute_input": "2020-09-13T12:43:35.581332Z",
     "iopub.status.busy": "2020-09-13T12:43:35.580740Z",
     "iopub.status.idle": "2020-09-13T12:43:35.983643Z",
     "shell.execute_reply": "2020-09-13T12:43:35.984130Z"
    },
    "papermill": {
     "duration": 0.452632,
     "end_time": "2020-09-13T12:43:35.984301",
     "exception": false,
     "start_time": "2020-09-13T12:43:35.531669",
     "status": "completed"
    },
    "tags": []
   },
   "outputs": [],
   "source": [
    "cond0 = building_res_comps['acct'].isin(one_bld_in_acct)\n",
    "building_res_comps = building_res_comps.loc[cond0, :]"
   ]
  },
  {
   "cell_type": "code",
   "execution_count": 23,
   "metadata": {
    "ExecuteTime": {
     "end_time": "2020-07-25T10:10:12.523869Z",
     "start_time": "2020-07-25T10:10:12.507075Z"
    },
    "execution": {
     "iopub.execute_input": "2020-09-13T12:43:36.079682Z",
     "iopub.status.busy": "2020-09-13T12:43:36.078796Z",
     "iopub.status.idle": "2020-09-13T12:43:36.097759Z",
     "shell.execute_reply": "2020-09-13T12:43:36.097261Z"
    },
    "papermill": {
     "duration": 0.067323,
     "end_time": "2020-09-13T12:43:36.097896",
     "exception": false,
     "start_time": "2020-09-13T12:43:36.030573",
     "status": "completed"
    },
    "tags": []
   },
   "outputs": [
    {
     "data": {
      "text/plain": [
       "(957691, 17)"
      ]
     },
     "execution_count": 23,
     "metadata": {},
     "output_type": "execute_result"
    }
   ],
   "source": [
    "building_res_comps.shape"
   ]
  },
  {
   "cell_type": "markdown",
   "metadata": {
    "papermill": {
     "duration": 0.045325,
     "end_time": "2020-09-13T12:43:36.187687",
     "exception": false,
     "start_time": "2020-09-13T12:43:36.142362",
     "status": "completed"
    },
    "tags": []
   },
   "source": [
    "# Select columns in comparables\n",
    "Since the accounts remaining all have the same free-standing single-family defining columns values, we would like to export only the columns that change for this subset of the data."
   ]
  },
  {
   "cell_type": "code",
   "execution_count": 24,
   "metadata": {
    "ExecuteTime": {
     "end_time": "2020-07-25T10:10:12.542227Z",
     "start_time": "2020-07-25T10:10:12.526805Z"
    },
    "execution": {
     "iopub.execute_input": "2020-09-13T12:43:36.281989Z",
     "iopub.status.busy": "2020-09-13T12:43:36.281443Z",
     "iopub.status.idle": "2020-09-13T12:43:36.300570Z",
     "shell.execute_reply": "2020-09-13T12:43:36.301035Z"
    },
    "papermill": {
     "duration": 0.067973,
     "end_time": "2020-09-13T12:43:36.301201",
     "exception": false,
     "start_time": "2020-09-13T12:43:36.233228",
     "status": "completed"
    },
    "tags": []
   },
   "outputs": [
    {
     "data": {
      "text/plain": [
       "Index(['acct', 'property_use_cd', 'bld_num', 'impr_tp', 'impr_mdl_cd',\n",
       "       'structure_dscr', 'dscr', 'date_erected', 'yr_remodel', 'im_sq_ft',\n",
       "       'act_ar', 'heat_ar', 'gross_ar', 'eff_ar', 'base_ar', 'perimeter',\n",
       "       'pct'],\n",
       "      dtype='object')"
      ]
     },
     "execution_count": 24,
     "metadata": {},
     "output_type": "execute_result"
    }
   ],
   "source": [
    "building_res_comps.columns"
   ]
  },
  {
   "cell_type": "code",
   "execution_count": 25,
   "metadata": {
    "ExecuteTime": {
     "end_time": "2020-07-25T10:10:12.556543Z",
     "start_time": "2020-07-25T10:10:12.544457Z"
    },
    "execution": {
     "iopub.execute_input": "2020-09-13T12:43:36.401081Z",
     "iopub.status.busy": "2020-09-13T12:43:36.396607Z",
     "iopub.status.idle": "2020-09-13T12:43:36.408904Z",
     "shell.execute_reply": "2020-09-13T12:43:36.408174Z"
    },
    "papermill": {
     "duration": 0.063763,
     "end_time": "2020-09-13T12:43:36.409108",
     "exception": false,
     "start_time": "2020-09-13T12:43:36.345345",
     "status": "completed"
    },
    "tags": []
   },
   "outputs": [],
   "source": [
    "cols = [\n",
    "    'acct',     # Property unique account number\n",
    "    'dscr',     # Quality description\n",
    "    'date_erected',\n",
    "    'yr_remodel',\n",
    "    'im_sq_ft', # Improvement square feet\n",
    "    'act_ar',   # Actual area\n",
    "    'heat_ar',  # Heat area\n",
    "    'gross_ar', # Gross area\n",
    "    'eff_ar',   # Affective area\n",
    "    'base_ar',  # Base area\n",
    "    'perimeter',\n",
    "]"
   ]
  },
  {
   "cell_type": "code",
   "execution_count": 26,
   "metadata": {
    "ExecuteTime": {
     "end_time": "2020-07-25T10:10:12.603218Z",
     "start_time": "2020-07-25T10:10:12.558552Z"
    },
    "execution": {
     "iopub.execute_input": "2020-09-13T12:43:36.529848Z",
     "iopub.status.busy": "2020-09-13T12:43:36.529294Z",
     "iopub.status.idle": "2020-09-13T12:43:36.564447Z",
     "shell.execute_reply": "2020-09-13T12:43:36.563840Z"
    },
    "papermill": {
     "duration": 0.085061,
     "end_time": "2020-09-13T12:43:36.564585",
     "exception": false,
     "start_time": "2020-09-13T12:43:36.479524",
     "status": "completed"
    },
    "tags": []
   },
   "outputs": [],
   "source": [
    "building_res_comps = building_res_comps.loc[:, cols]"
   ]
  },
  {
   "cell_type": "code",
   "execution_count": 27,
   "metadata": {
    "ExecuteTime": {
     "end_time": "2020-07-25T10:10:12.642475Z",
     "start_time": "2020-07-25T10:10:12.605542Z"
    },
    "execution": {
     "iopub.execute_input": "2020-09-13T12:43:36.661435Z",
     "iopub.status.busy": "2020-09-13T12:43:36.660873Z",
     "iopub.status.idle": "2020-09-13T12:43:36.690463Z",
     "shell.execute_reply": "2020-09-13T12:43:36.691108Z"
    },
    "papermill": {
     "duration": 0.08035,
     "end_time": "2020-09-13T12:43:36.691318",
     "exception": false,
     "start_time": "2020-09-13T12:43:36.610968",
     "status": "completed"
    },
    "tags": []
   },
   "outputs": [
    {
     "data": {
      "text/html": [
       "<div>\n",
       "<style scoped>\n",
       "    .dataframe tbody tr th:only-of-type {\n",
       "        vertical-align: middle;\n",
       "    }\n",
       "\n",
       "    .dataframe tbody tr th {\n",
       "        vertical-align: top;\n",
       "    }\n",
       "\n",
       "    .dataframe thead th {\n",
       "        text-align: right;\n",
       "    }\n",
       "</style>\n",
       "<table border=\"1\" class=\"dataframe\">\n",
       "  <thead>\n",
       "    <tr style=\"text-align: right;\">\n",
       "      <th></th>\n",
       "      <th>acct</th>\n",
       "      <th>dscr</th>\n",
       "      <th>date_erected</th>\n",
       "      <th>yr_remodel</th>\n",
       "      <th>im_sq_ft</th>\n",
       "      <th>act_ar</th>\n",
       "      <th>heat_ar</th>\n",
       "      <th>gross_ar</th>\n",
       "      <th>eff_ar</th>\n",
       "      <th>base_ar</th>\n",
       "      <th>perimeter</th>\n",
       "    </tr>\n",
       "  </thead>\n",
       "  <tbody>\n",
       "    <tr>\n",
       "      <th>3</th>\n",
       "      <td>22070000001</td>\n",
       "      <td>Low</td>\n",
       "      <td>1923</td>\n",
       "      <td>0</td>\n",
       "      <td>680</td>\n",
       "      <td>728</td>\n",
       "      <td>680</td>\n",
       "      <td>728</td>\n",
       "      <td>696</td>\n",
       "      <td>680</td>\n",
       "      <td>128</td>\n",
       "    </tr>\n",
       "    <tr>\n",
       "      <th>4</th>\n",
       "      <td>22070000007</td>\n",
       "      <td>Low</td>\n",
       "      <td>1935</td>\n",
       "      <td>0</td>\n",
       "      <td>1956</td>\n",
       "      <td>2244</td>\n",
       "      <td>1956</td>\n",
       "      <td>2244</td>\n",
       "      <td>2034</td>\n",
       "      <td>1956</td>\n",
       "      <td>196</td>\n",
       "    </tr>\n",
       "    <tr>\n",
       "      <th>9</th>\n",
       "      <td>30130000002</td>\n",
       "      <td>Low</td>\n",
       "      <td>1941</td>\n",
       "      <td>0</td>\n",
       "      <td>1102</td>\n",
       "      <td>1242</td>\n",
       "      <td>1102</td>\n",
       "      <td>1242</td>\n",
       "      <td>1148</td>\n",
       "      <td>1102</td>\n",
       "      <td>154</td>\n",
       "    </tr>\n",
       "    <tr>\n",
       "      <th>12</th>\n",
       "      <td>30310000002</td>\n",
       "      <td>Low</td>\n",
       "      <td>1930</td>\n",
       "      <td>0</td>\n",
       "      <td>1216</td>\n",
       "      <td>1408</td>\n",
       "      <td>1216</td>\n",
       "      <td>1408</td>\n",
       "      <td>1279</td>\n",
       "      <td>1216</td>\n",
       "      <td>148</td>\n",
       "    </tr>\n",
       "    <tr>\n",
       "      <th>13</th>\n",
       "      <td>30340000009</td>\n",
       "      <td>Low</td>\n",
       "      <td>1936</td>\n",
       "      <td>0</td>\n",
       "      <td>1050</td>\n",
       "      <td>1528</td>\n",
       "      <td>1050</td>\n",
       "      <td>1528</td>\n",
       "      <td>1177</td>\n",
       "      <td>1050</td>\n",
       "      <td>136</td>\n",
       "    </tr>\n",
       "  </tbody>\n",
       "</table>\n",
       "</div>"
      ],
      "text/plain": [
       "           acct dscr  date_erected  yr_remodel  im_sq_ft  act_ar  heat_ar  \\\n",
       "3   22070000001  Low          1923           0       680     728      680   \n",
       "4   22070000007  Low          1935           0      1956    2244     1956   \n",
       "9   30130000002  Low          1941           0      1102    1242     1102   \n",
       "12  30310000002  Low          1930           0      1216    1408     1216   \n",
       "13  30340000009  Low          1936           0      1050    1528     1050   \n",
       "\n",
       "    gross_ar  eff_ar  base_ar  perimeter  \n",
       "3        728     696      680        128  \n",
       "4       2244    2034     1956        196  \n",
       "9       1242    1148     1102        154  \n",
       "12      1408    1279     1216        148  \n",
       "13      1528    1177     1050        136  "
      ]
     },
     "execution_count": 27,
     "metadata": {},
     "output_type": "execute_result"
    }
   ],
   "source": [
    "building_res_comps.head()"
   ]
  },
  {
   "cell_type": "code",
   "execution_count": 28,
   "metadata": {
    "ExecuteTime": {
     "end_time": "2020-07-25T10:10:12.671626Z",
     "start_time": "2020-07-25T10:10:12.645571Z"
    },
    "execution": {
     "iopub.execute_input": "2020-09-13T12:43:36.813875Z",
     "iopub.status.busy": "2020-09-13T12:43:36.812252Z",
     "iopub.status.idle": "2020-09-13T12:43:36.830909Z",
     "shell.execute_reply": "2020-09-13T12:43:36.831366Z"
    },
    "papermill": {
     "duration": 0.070089,
     "end_time": "2020-09-13T12:43:36.831523",
     "exception": false,
     "start_time": "2020-09-13T12:43:36.761434",
     "status": "completed"
    },
    "tags": []
   },
   "outputs": [
    {
     "data": {
      "text/plain": [
       "(957691, 11)"
      ]
     },
     "execution_count": 28,
     "metadata": {},
     "output_type": "execute_result"
    }
   ],
   "source": [
    "building_res_comps.shape"
   ]
  },
  {
   "cell_type": "markdown",
   "metadata": {
    "papermill": {
     "duration": 0.047353,
     "end_time": "2020-09-13T12:43:36.924596",
     "exception": false,
     "start_time": "2020-09-13T12:43:36.877243",
     "status": "completed"
    },
    "tags": []
   },
   "source": [
    "# Describe and clean the columns\n",
    "\n",
    "Now we must describe each column by answering:\n",
    "\n",
    "* Meaning\n",
    "* Descriptive statistics or value counts\n",
    "* Data type\n",
    "\n",
    "There is no explicit document provided by HCAD explaining all the variables, but most are easy to guess for using their name."
   ]
  },
  {
   "cell_type": "markdown",
   "metadata": {
    "papermill": {
     "duration": 0.046935,
     "end_time": "2020-09-13T12:43:37.025829",
     "exception": false,
     "start_time": "2020-09-13T12:43:36.978894",
     "status": "completed"
    },
    "tags": []
   },
   "source": [
    "## Find duplicated rows"
   ]
  },
  {
   "cell_type": "code",
   "execution_count": 29,
   "metadata": {
    "ExecuteTime": {
     "end_time": "2020-07-25T10:10:13.327648Z",
     "start_time": "2020-07-25T10:10:12.673772Z"
    },
    "execution": {
     "iopub.execute_input": "2020-09-13T12:43:37.122272Z",
     "iopub.status.busy": "2020-09-13T12:43:37.121713Z",
     "iopub.status.idle": "2020-09-13T12:43:37.818613Z",
     "shell.execute_reply": "2020-09-13T12:43:37.819130Z"
    },
    "papermill": {
     "duration": 0.746274,
     "end_time": "2020-09-13T12:43:37.819310",
     "exception": false,
     "start_time": "2020-09-13T12:43:37.073036",
     "status": "completed"
    },
    "tags": []
   },
   "outputs": [
    {
     "data": {
      "text/html": [
       "<div>\n",
       "<style scoped>\n",
       "    .dataframe tbody tr th:only-of-type {\n",
       "        vertical-align: middle;\n",
       "    }\n",
       "\n",
       "    .dataframe tbody tr th {\n",
       "        vertical-align: top;\n",
       "    }\n",
       "\n",
       "    .dataframe thead th {\n",
       "        text-align: right;\n",
       "    }\n",
       "</style>\n",
       "<table border=\"1\" class=\"dataframe\">\n",
       "  <thead>\n",
       "    <tr style=\"text-align: right;\">\n",
       "      <th></th>\n",
       "      <th>acct</th>\n",
       "      <th>dscr</th>\n",
       "      <th>date_erected</th>\n",
       "      <th>yr_remodel</th>\n",
       "      <th>im_sq_ft</th>\n",
       "      <th>act_ar</th>\n",
       "      <th>heat_ar</th>\n",
       "      <th>gross_ar</th>\n",
       "      <th>eff_ar</th>\n",
       "      <th>base_ar</th>\n",
       "      <th>perimeter</th>\n",
       "    </tr>\n",
       "  </thead>\n",
       "  <tbody>\n",
       "  </tbody>\n",
       "</table>\n",
       "</div>"
      ],
      "text/plain": [
       "Empty DataFrame\n",
       "Columns: [acct, dscr, date_erected, yr_remodel, im_sq_ft, act_ar, heat_ar, gross_ar, eff_ar, base_ar, perimeter]\n",
       "Index: []"
      ]
     },
     "execution_count": 29,
     "metadata": {},
     "output_type": "execute_result"
    }
   ],
   "source": [
    "cond0 = building_res_comps.duplicated()\n",
    "building_res_comps.loc[cond0, :]"
   ]
  },
  {
   "cell_type": "markdown",
   "metadata": {
    "papermill": {
     "duration": 0.047921,
     "end_time": "2020-09-13T12:43:37.917997",
     "exception": false,
     "start_time": "2020-09-13T12:43:37.870076",
     "status": "completed"
    },
    "tags": []
   },
   "source": [
    "## Account numbers: acct\n",
    "These are the account numbers or id that the property has in HCAD system. In previous steps we selected accounts for free-standing single-family homes, with a single building per property, thus the account values in the comps DataFrame should be unique."
   ]
  },
  {
   "cell_type": "code",
   "execution_count": 30,
   "metadata": {
    "ExecuteTime": {
     "end_time": "2020-07-25T10:10:13.459314Z",
     "start_time": "2020-07-25T10:10:13.329316Z"
    },
    "execution": {
     "iopub.execute_input": "2020-09-13T12:43:38.025640Z",
     "iopub.status.busy": "2020-09-13T12:43:38.024665Z",
     "iopub.status.idle": "2020-09-13T12:43:38.162994Z",
     "shell.execute_reply": "2020-09-13T12:43:38.163733Z"
    },
    "papermill": {
     "duration": 0.190309,
     "end_time": "2020-09-13T12:43:38.163933",
     "exception": false,
     "start_time": "2020-09-13T12:43:37.973624",
     "status": "completed"
    },
    "tags": []
   },
   "outputs": [],
   "source": [
    "assert building_res_comps['acct'].is_unique"
   ]
  },
  {
   "cell_type": "code",
   "execution_count": 31,
   "metadata": {
    "ExecuteTime": {
     "end_time": "2020-07-25T10:10:13.474912Z",
     "start_time": "2020-07-25T10:10:13.460870Z"
    },
    "execution": {
     "iopub.execute_input": "2020-09-13T12:43:38.267375Z",
     "iopub.status.busy": "2020-09-13T12:43:38.266380Z",
     "iopub.status.idle": "2020-09-13T12:43:38.285340Z",
     "shell.execute_reply": "2020-09-13T12:43:38.285755Z"
    },
    "papermill": {
     "duration": 0.071121,
     "end_time": "2020-09-13T12:43:38.285914",
     "exception": false,
     "start_time": "2020-09-13T12:43:38.214793",
     "status": "completed"
    },
    "tags": []
   },
   "outputs": [
    {
     "data": {
      "text/plain": [
       "dtype('uint64')"
      ]
     },
     "execution_count": 31,
     "metadata": {},
     "output_type": "execute_result"
    }
   ],
   "source": [
    "building_res_comps['acct'].dtype"
   ]
  },
  {
   "cell_type": "code",
   "execution_count": 32,
   "metadata": {
    "ExecuteTime": {
     "end_time": "2020-07-25T10:10:13.493801Z",
     "start_time": "2020-07-25T10:10:13.476406Z"
    },
    "execution": {
     "iopub.execute_input": "2020-09-13T12:43:38.384556Z",
     "iopub.status.busy": "2020-09-13T12:43:38.383576Z",
     "iopub.status.idle": "2020-09-13T12:43:38.404725Z",
     "shell.execute_reply": "2020-09-13T12:43:38.405176Z"
    },
    "papermill": {
     "duration": 0.073122,
     "end_time": "2020-09-13T12:43:38.405337",
     "exception": false,
     "start_time": "2020-09-13T12:43:38.332215",
     "status": "completed"
    },
    "tags": []
   },
   "outputs": [
    {
     "name": "stdout",
     "output_type": "stream",
     "text": [
      "Minimum value: 21440000001\n",
      "Maximum value: 1955020050280\n"
     ]
    }
   ],
   "source": [
    "acct_min = building_res_comps['acct'].min()\n",
    "acct_max = building_res_comps['acct'].max()\n",
    "print(f'Minimum value: {acct_min}')\n",
    "print(f'Maximum value: {acct_max}')"
   ]
  },
  {
   "cell_type": "code",
   "execution_count": 33,
   "metadata": {
    "ExecuteTime": {
     "end_time": "2020-07-25T10:10:13.594309Z",
     "start_time": "2020-07-25T10:10:13.495905Z"
    },
    "execution": {
     "iopub.execute_input": "2020-09-13T12:43:38.503859Z",
     "iopub.status.busy": "2020-09-13T12:43:38.502905Z",
     "iopub.status.idle": "2020-09-13T12:43:38.608516Z",
     "shell.execute_reply": "2020-09-13T12:43:38.608080Z"
    },
    "papermill": {
     "duration": 0.156872,
     "end_time": "2020-09-13T12:43:38.608655",
     "exception": false,
     "start_time": "2020-09-13T12:43:38.451783",
     "status": "completed"
    },
    "tags": []
   },
   "outputs": [
    {
     "name": "stdout",
     "output_type": "stream",
     "text": [
      "The number of missing values is: 0\n"
     ]
    }
   ],
   "source": [
    "print(f\"The number of missing values is: {sum(building_res_comps['acct'].isnull())}\")"
   ]
  },
  {
   "cell_type": "markdown",
   "metadata": {
    "papermill": {
     "duration": 0.048407,
     "end_time": "2020-09-13T12:43:38.704145",
     "exception": false,
     "start_time": "2020-09-13T12:43:38.655738",
     "status": "completed"
    },
    "tags": []
   },
   "source": [
    "## Property quality description: dscr\n",
    "This is the current property quality description. It is an ordered categorical variable that can take values: 'Excellent', 'Superior', 'Good', 'Average', 'Low', 'Very Low', and 'Poor'."
   ]
  },
  {
   "cell_type": "code",
   "execution_count": 34,
   "metadata": {
    "ExecuteTime": {
     "end_time": "2020-07-25T10:10:13.621598Z",
     "start_time": "2020-07-25T10:10:13.596644Z"
    },
    "execution": {
     "iopub.execute_input": "2020-09-13T12:43:38.804402Z",
     "iopub.status.busy": "2020-09-13T12:43:38.803502Z",
     "iopub.status.idle": "2020-09-13T12:43:38.824166Z",
     "shell.execute_reply": "2020-09-13T12:43:38.824639Z"
    },
    "papermill": {
     "duration": 0.072293,
     "end_time": "2020-09-13T12:43:38.824798",
     "exception": false,
     "start_time": "2020-09-13T12:43:38.752505",
     "status": "completed"
    },
    "tags": []
   },
   "outputs": [
    {
     "data": {
      "text/plain": [
       "3     Low\n",
       "4     Low\n",
       "9     Low\n",
       "12    Low\n",
       "13    Low\n",
       "Name: dscr, dtype: category\n",
       "Categories (7, object): ['Average', 'Excellent', 'Good', 'Low', 'Poor', 'Superior', 'Very Low']"
      ]
     },
     "execution_count": 34,
     "metadata": {},
     "output_type": "execute_result"
    }
   ],
   "source": [
    "building_res_comps['dscr'].head()"
   ]
  },
  {
   "cell_type": "code",
   "execution_count": 35,
   "metadata": {
    "ExecuteTime": {
     "end_time": "2020-07-25T10:10:13.647975Z",
     "start_time": "2020-07-25T10:10:13.623110Z"
    },
    "execution": {
     "iopub.execute_input": "2020-09-13T12:43:38.927015Z",
     "iopub.status.busy": "2020-09-13T12:43:38.926091Z",
     "iopub.status.idle": "2020-09-13T12:43:38.944893Z",
     "shell.execute_reply": "2020-09-13T12:43:38.945701Z"
    },
    "papermill": {
     "duration": 0.073445,
     "end_time": "2020-09-13T12:43:38.945948",
     "exception": false,
     "start_time": "2020-09-13T12:43:38.872503",
     "status": "completed"
    },
    "tags": []
   },
   "outputs": [],
   "source": [
    "order = ['Excellent', 'Superior', 'Good', 'Average', 'Low', 'Very Low', 'Poor']\n",
    "building_res_comps['dscr'] = building_res_comps['dscr'].cat.reorder_categories(order, ordered=True)"
   ]
  },
  {
   "cell_type": "code",
   "execution_count": 36,
   "metadata": {
    "ExecuteTime": {
     "end_time": "2020-07-25T10:10:13.678754Z",
     "start_time": "2020-07-25T10:10:13.652921Z"
    },
    "execution": {
     "iopub.execute_input": "2020-09-13T12:43:39.048172Z",
     "iopub.status.busy": "2020-09-13T12:43:39.047222Z",
     "iopub.status.idle": "2020-09-13T12:43:39.063257Z",
     "shell.execute_reply": "2020-09-13T12:43:39.062750Z"
    },
    "papermill": {
     "duration": 0.067852,
     "end_time": "2020-09-13T12:43:39.063394",
     "exception": false,
     "start_time": "2020-09-13T12:43:38.995542",
     "status": "completed"
    },
    "tags": []
   },
   "outputs": [
    {
     "data": {
      "text/plain": [
       "3     Low\n",
       "4     Low\n",
       "9     Low\n",
       "12    Low\n",
       "13    Low\n",
       "Name: dscr, dtype: category\n",
       "Categories (7, object): ['Excellent' < 'Superior' < 'Good' < 'Average' < 'Low' < 'Very Low' < 'Poor']"
      ]
     },
     "execution_count": 36,
     "metadata": {},
     "output_type": "execute_result"
    }
   ],
   "source": [
    "building_res_comps['dscr'].head()"
   ]
  },
  {
   "cell_type": "code",
   "execution_count": 37,
   "metadata": {
    "ExecuteTime": {
     "end_time": "2020-07-25T10:10:13.716310Z",
     "start_time": "2020-07-25T10:10:13.680957Z"
    },
    "execution": {
     "iopub.execute_input": "2020-09-13T12:43:39.165678Z",
     "iopub.status.busy": "2020-09-13T12:43:39.164771Z",
     "iopub.status.idle": "2020-09-13T12:43:39.184604Z",
     "shell.execute_reply": "2020-09-13T12:43:39.184072Z"
    },
    "papermill": {
     "duration": 0.072347,
     "end_time": "2020-09-13T12:43:39.184749",
     "exception": false,
     "start_time": "2020-09-13T12:43:39.112402",
     "status": "completed"
    },
    "tags": []
   },
   "outputs": [
    {
     "data": {
      "text/plain": [
       "Average      0.629493\n",
       "Good         0.226792\n",
       "Low          0.077515\n",
       "Excellent    0.054441\n",
       "Superior     0.008366\n",
       "Very Low     0.003379\n",
       "Poor         0.000014\n",
       "Name: dscr, dtype: float64"
      ]
     },
     "execution_count": 37,
     "metadata": {},
     "output_type": "execute_result"
    }
   ],
   "source": [
    "building_res_comps['dscr'].value_counts(normalize=True)"
   ]
  },
  {
   "cell_type": "code",
   "execution_count": 38,
   "metadata": {
    "ExecuteTime": {
     "end_time": "2020-07-25T10:10:13.815057Z",
     "start_time": "2020-07-25T10:10:13.718088Z"
    },
    "execution": {
     "iopub.execute_input": "2020-09-13T12:43:39.292167Z",
     "iopub.status.busy": "2020-09-13T12:43:39.291363Z",
     "iopub.status.idle": "2020-09-13T12:43:39.377952Z",
     "shell.execute_reply": "2020-09-13T12:43:39.377061Z"
    },
    "papermill": {
     "duration": 0.143608,
     "end_time": "2020-09-13T12:43:39.378129",
     "exception": false,
     "start_time": "2020-09-13T12:43:39.234521",
     "status": "completed"
    },
    "tags": []
   },
   "outputs": [
    {
     "name": "stdout",
     "output_type": "stream",
     "text": [
      "The number of missing values is: 0\n"
     ]
    }
   ],
   "source": [
    "print(f\"The number of missing values is: {sum(building_res_comps['dscr'].isnull())}\")"
   ]
  },
  {
   "cell_type": "markdown",
   "metadata": {
    "ExecuteTime": {
     "end_time": "2020-07-25T09:37:07.842635Z",
     "start_time": "2020-07-25T09:37:07.818868Z"
    },
    "papermill": {
     "duration": 0.049427,
     "end_time": "2020-09-13T12:43:39.489768",
     "exception": false,
     "start_time": "2020-09-13T12:43:39.440341",
     "status": "completed"
    },
    "tags": []
   },
   "source": [
    "## Date erected: date_erected\n",
    "Refers to the year the property was built. Data should be positive integers up to 2015 (year before these data were issued)."
   ]
  },
  {
   "cell_type": "code",
   "execution_count": 39,
   "metadata": {
    "ExecuteTime": {
     "end_time": "2020-07-25T10:10:13.837676Z",
     "start_time": "2020-07-25T10:10:13.817419Z"
    },
    "execution": {
     "iopub.execute_input": "2020-09-13T12:43:39.593851Z",
     "iopub.status.busy": "2020-09-13T12:43:39.592986Z",
     "iopub.status.idle": "2020-09-13T12:43:39.606295Z",
     "shell.execute_reply": "2020-09-13T12:43:39.606840Z"
    },
    "papermill": {
     "duration": 0.067424,
     "end_time": "2020-09-13T12:43:39.606994",
     "exception": false,
     "start_time": "2020-09-13T12:43:39.539570",
     "status": "completed"
    },
    "tags": []
   },
   "outputs": [
    {
     "data": {
      "text/plain": [
       "3     1923\n",
       "4     1935\n",
       "9     1941\n",
       "12    1930\n",
       "13    1936\n",
       "Name: date_erected, dtype: uint16"
      ]
     },
     "execution_count": 39,
     "metadata": {},
     "output_type": "execute_result"
    }
   ],
   "source": [
    "building_res_comps['date_erected'].head()"
   ]
  },
  {
   "cell_type": "code",
   "execution_count": 40,
   "metadata": {
    "ExecuteTime": {
     "end_time": "2020-07-25T10:10:13.899372Z",
     "start_time": "2020-07-25T10:10:13.840830Z"
    },
    "execution": {
     "iopub.execute_input": "2020-09-13T12:43:39.711118Z",
     "iopub.status.busy": "2020-09-13T12:43:39.710319Z",
     "iopub.status.idle": "2020-09-13T12:43:39.772821Z",
     "shell.execute_reply": "2020-09-13T12:43:39.773305Z"
    },
    "papermill": {
     "duration": 0.116904,
     "end_time": "2020-09-13T12:43:39.773470",
     "exception": false,
     "start_time": "2020-09-13T12:43:39.656566",
     "status": "completed"
    },
    "tags": []
   },
   "outputs": [
    {
     "data": {
      "text/plain": [
       "(1998.182, 2015.0]      0.318820\n",
       "(1964.545, 1981.364]    0.246321\n",
       "(1981.364, 1998.182]    0.193594\n",
       "(1947.727, 1964.545]    0.175080\n",
       "(1930.909, 1947.727]    0.049632\n",
       "(1914.091, 1930.909]    0.015189\n",
       "(1897.273, 1914.091]    0.001199\n",
       "(1880.455, 1897.273]    0.000137\n",
       "(1863.636, 1880.455]    0.000022\n",
       "(1846.818, 1863.636]    0.000004\n",
       "(1829.814, 1846.818]    0.000003\n",
       "Name: date_erected, dtype: float64"
      ]
     },
     "execution_count": 40,
     "metadata": {},
     "output_type": "execute_result"
    }
   ],
   "source": [
    "building_res_comps['date_erected'].value_counts(bins=11, normalize=True)"
   ]
  },
  {
   "cell_type": "code",
   "execution_count": 41,
   "metadata": {
    "ExecuteTime": {
     "end_time": "2020-07-25T10:10:13.938923Z",
     "start_time": "2020-07-25T10:10:13.901556Z"
    },
    "execution": {
     "iopub.execute_input": "2020-09-13T12:43:39.878548Z",
     "iopub.status.busy": "2020-09-13T12:43:39.877614Z",
     "iopub.status.idle": "2020-09-13T12:43:39.918495Z",
     "shell.execute_reply": "2020-09-13T12:43:39.918902Z"
    },
    "papermill": {
     "duration": 0.095812,
     "end_time": "2020-09-13T12:43:39.919060",
     "exception": false,
     "start_time": "2020-09-13T12:43:39.823248",
     "status": "completed"
    },
    "tags": []
   },
   "outputs": [
    {
     "data": {
      "text/plain": [
       "count    957691.000000\n",
       "mean       1981.594340\n",
       "std          22.229594\n",
       "min        1830.000000\n",
       "25%        1965.000000\n",
       "50%        1982.000000\n",
       "75%        2002.000000\n",
       "max        2015.000000\n",
       "Name: date_erected, dtype: float64"
      ]
     },
     "execution_count": 41,
     "metadata": {},
     "output_type": "execute_result"
    }
   ],
   "source": [
    "building_res_comps['date_erected'].describe()"
   ]
  },
  {
   "cell_type": "code",
   "execution_count": 42,
   "metadata": {
    "ExecuteTime": {
     "end_time": "2020-07-25T10:10:14.142460Z",
     "start_time": "2020-07-25T10:10:13.940803Z"
    },
    "execution": {
     "iopub.execute_input": "2020-09-13T12:43:40.033598Z",
     "iopub.status.busy": "2020-09-13T12:43:40.032677Z",
     "iopub.status.idle": "2020-09-13T12:43:40.124887Z",
     "shell.execute_reply": "2020-09-13T12:43:40.125382Z"
    },
    "papermill": {
     "duration": 0.147963,
     "end_time": "2020-09-13T12:43:40.125550",
     "exception": false,
     "start_time": "2020-09-13T12:43:39.977587",
     "status": "completed"
    },
    "tags": []
   },
   "outputs": [
    {
     "name": "stdout",
     "output_type": "stream",
     "text": [
      "The number of missing values is: 0\n"
     ]
    }
   ],
   "source": [
    "print(f\"The number of missing values is: {sum(building_res_comps['date_erected'].isnull())}\")"
   ]
  },
  {
   "cell_type": "markdown",
   "metadata": {
    "papermill": {
     "duration": 0.051775,
     "end_time": "2020-09-13T12:43:40.227508",
     "exception": false,
     "start_time": "2020-09-13T12:43:40.175733",
     "status": "completed"
    },
    "tags": []
   },
   "source": [
    "## Year remodeled: yr_remodel\n",
    "When was the last year the property was remodeled? In principle there shouldn't be properties remodeled before they were erected. Let's check that assumption."
   ]
  },
  {
   "cell_type": "code",
   "execution_count": 43,
   "metadata": {
    "ExecuteTime": {
     "end_time": "2020-07-25T10:10:14.194879Z",
     "start_time": "2020-07-25T10:10:14.144693Z"
    },
    "execution": {
     "iopub.execute_input": "2020-09-13T12:43:40.335063Z",
     "iopub.status.busy": "2020-09-13T12:43:40.334172Z",
     "iopub.status.idle": "2020-09-13T12:43:40.362259Z",
     "shell.execute_reply": "2020-09-13T12:43:40.362766Z"
    },
    "papermill": {
     "duration": 0.083743,
     "end_time": "2020-09-13T12:43:40.362939",
     "exception": false,
     "start_time": "2020-09-13T12:43:40.279196",
     "status": "completed"
    },
    "tags": []
   },
   "outputs": [
    {
     "data": {
      "text/plain": [
       " 0       862604\n",
       " 1            3\n",
       "-1            1\n",
       " 2009         1\n",
       " 2005         1\n",
       "Name: yr_remodel, dtype: int64"
      ]
     },
     "execution_count": 43,
     "metadata": {},
     "output_type": "execute_result"
    }
   ],
   "source": [
    "cond0 = building_res_comps['yr_remodel'] < building_res_comps['date_erected']\n",
    "\n",
    "remo_before_build = building_res_comps['yr_remodel'].loc[cond0]\n",
    "remo_before_build_vc = remo_before_build.value_counts()\n",
    "remo_before_build_vc"
   ]
  },
  {
   "cell_type": "markdown",
   "metadata": {
    "papermill": {
     "duration": 0.05116,
     "end_time": "2020-09-13T12:43:40.467087",
     "exception": false,
     "start_time": "2020-09-13T12:43:40.415927",
     "status": "completed"
    },
    "tags": []
   },
   "source": [
    "Let's assign NaNs to these values."
   ]
  },
  {
   "cell_type": "code",
   "execution_count": 44,
   "metadata": {
    "ExecuteTime": {
     "end_time": "2020-07-25T10:10:14.220746Z",
     "start_time": "2020-07-25T10:10:14.197448Z"
    },
    "execution": {
     "iopub.execute_input": "2020-09-13T12:43:40.575007Z",
     "iopub.status.busy": "2020-09-13T12:43:40.574102Z",
     "iopub.status.idle": "2020-09-13T12:43:40.591878Z",
     "shell.execute_reply": "2020-09-13T12:43:40.591325Z"
    },
    "papermill": {
     "duration": 0.073571,
     "end_time": "2020-09-13T12:43:40.592032",
     "exception": false,
     "start_time": "2020-09-13T12:43:40.518461",
     "status": "completed"
    },
    "tags": []
   },
   "outputs": [],
   "source": [
    "replace = {num: np.nan for num in remo_before_build_vc.index}"
   ]
  },
  {
   "cell_type": "code",
   "execution_count": 45,
   "metadata": {
    "ExecuteTime": {
     "end_time": "2020-07-25T10:10:14.261642Z",
     "start_time": "2020-07-25T10:10:14.223642Z"
    },
    "execution": {
     "iopub.execute_input": "2020-09-13T12:43:40.699986Z",
     "iopub.status.busy": "2020-09-13T12:43:40.699297Z",
     "iopub.status.idle": "2020-09-13T12:43:40.743972Z",
     "shell.execute_reply": "2020-09-13T12:43:40.744430Z"
    },
    "papermill": {
     "duration": 0.101552,
     "end_time": "2020-09-13T12:43:40.744590",
     "exception": false,
     "start_time": "2020-09-13T12:43:40.643038",
     "status": "completed"
    },
    "tags": []
   },
   "outputs": [],
   "source": [
    "building_res_comps['yr_remodel'].replace(replace, inplace=True)"
   ]
  },
  {
   "cell_type": "code",
   "execution_count": 46,
   "metadata": {
    "ExecuteTime": {
     "end_time": "2020-07-25T10:10:14.351349Z",
     "start_time": "2020-07-25T10:10:14.263940Z"
    },
    "execution": {
     "iopub.execute_input": "2020-09-13T12:43:40.853823Z",
     "iopub.status.busy": "2020-09-13T12:43:40.852889Z",
     "iopub.status.idle": "2020-09-13T12:43:40.911673Z",
     "shell.execute_reply": "2020-09-13T12:43:40.912113Z"
    },
    "papermill": {
     "duration": 0.114971,
     "end_time": "2020-09-13T12:43:40.912286",
     "exception": false,
     "start_time": "2020-09-13T12:43:40.797315",
     "status": "completed"
    },
    "tags": []
   },
   "outputs": [
    {
     "data": {
      "text/plain": [
       "(1932.913, 1940.818]    0.000007\n",
       "(1940.818, 1948.636]    0.000017\n",
       "(1948.636, 1956.455]    0.000090\n",
       "(1956.455, 1964.273]    0.000515\n",
       "(1964.273, 1972.091]    0.002607\n",
       "(1972.091, 1979.909]    0.006923\n",
       "(1979.909, 1987.727]    0.007561\n",
       "(1987.727, 1995.545]    0.012738\n",
       "(1995.545, 2003.364]    0.019329\n",
       "(2003.364, 2011.182]    0.024668\n",
       "(2011.182, 2019.0]      0.015770\n",
       "Name: yr_remodel, dtype: float64"
      ]
     },
     "execution_count": 46,
     "metadata": {},
     "output_type": "execute_result"
    }
   ],
   "source": [
    "building_res_comps['yr_remodel'].value_counts(bins=11, normalize=True, sort=False)"
   ]
  },
  {
   "cell_type": "code",
   "execution_count": 47,
   "metadata": {
    "ExecuteTime": {
     "end_time": "2020-07-25T10:10:14.409174Z",
     "start_time": "2020-07-25T10:10:14.353016Z"
    },
    "execution": {
     "iopub.execute_input": "2020-09-13T12:43:41.029615Z",
     "iopub.status.busy": "2020-09-13T12:43:41.028660Z",
     "iopub.status.idle": "2020-09-13T12:43:41.087734Z",
     "shell.execute_reply": "2020-09-13T12:43:41.086746Z"
    },
    "papermill": {
     "duration": 0.11671,
     "end_time": "2020-09-13T12:43:41.087936",
     "exception": false,
     "start_time": "2020-09-13T12:43:40.971226",
     "status": "completed"
    },
    "tags": []
   },
   "outputs": [
    {
     "data": {
      "text/plain": [
       "count    86407.000000\n",
       "mean      1999.077471\n",
       "std         12.912784\n",
       "min       1933.000000\n",
       "25%       1991.000000\n",
       "50%       2002.000000\n",
       "75%       2010.000000\n",
       "max       2019.000000\n",
       "Name: yr_remodel, dtype: float64"
      ]
     },
     "execution_count": 47,
     "metadata": {},
     "output_type": "execute_result"
    }
   ],
   "source": [
    "building_res_comps['yr_remodel'].describe()"
   ]
  },
  {
   "cell_type": "code",
   "execution_count": 48,
   "metadata": {
    "ExecuteTime": {
     "end_time": "2020-07-25T10:10:14.549634Z",
     "start_time": "2020-07-25T10:10:14.410782Z"
    },
    "execution": {
     "iopub.execute_input": "2020-09-13T12:43:41.225764Z",
     "iopub.status.busy": "2020-09-13T12:43:41.224812Z",
     "iopub.status.idle": "2020-09-13T12:43:41.327933Z",
     "shell.execute_reply": "2020-09-13T12:43:41.328574Z"
    },
    "papermill": {
     "duration": 0.162067,
     "end_time": "2020-09-13T12:43:41.328777",
     "exception": false,
     "start_time": "2020-09-13T12:43:41.166710",
     "status": "completed"
    },
    "tags": []
   },
   "outputs": [
    {
     "name": "stdout",
     "output_type": "stream",
     "text": [
      "The number of missing values is: 871284\n"
     ]
    }
   ],
   "source": [
    "print(f\"The number of missing values is: {sum(building_res_comps['yr_remodel'].isnull())}\")"
   ]
  },
  {
   "cell_type": "markdown",
   "metadata": {
    "papermill": {
     "duration": 0.053409,
     "end_time": "2020-09-13T12:43:41.439604",
     "exception": false,
     "start_time": "2020-09-13T12:43:41.386195",
     "status": "completed"
    },
    "tags": []
   },
   "source": [
    "## Areas\n",
    "There are a few columns in the comps DataFrame that account for different property areas. Some of their descriptions can be found on [HCAD definitions file](https://pdata.hcad.org/Desc/Definition_help.pdf):\n",
    "\n",
    "1. im_sq_ft: Improvement area.\n",
    "2. base_ar: Base area. Building Area for commercial properties; Sum of the areas of all the base areas of a commercial property. Residential properties do not use base area.\n",
    "3. act_ar: Actual area. For residential properties this is the base area of the house.\n",
    "4. heat_ar: Living Area or Building sqft of a residential building. \n",
    "5. gross_ar: Usually equal to Actual area, except in 1+1/2 story houses. Commercial properties do not use Gross Area.\n",
    "6. eff_ar: Effective area. This is used in determining the market value of the improvements, but there is no clear definition in the HCAD website.\n",
    "\n",
    "From this list we gather that we can safely drop the `base_ar` as we are focused on residential properties. Also the `heat_ar` should be no larger than the `act_ar`, e.g. the house porch in not included in the `heat_ar` but it is included in the `act_ar`."
   ]
  },
  {
   "cell_type": "code",
   "execution_count": 49,
   "metadata": {
    "ExecuteTime": {
     "end_time": "2020-07-25T10:10:14.583698Z",
     "start_time": "2020-07-25T10:10:14.551926Z"
    },
    "execution": {
     "iopub.execute_input": "2020-09-13T12:43:41.550121Z",
     "iopub.status.busy": "2020-09-13T12:43:41.549582Z",
     "iopub.status.idle": "2020-09-13T12:43:41.589158Z",
     "shell.execute_reply": "2020-09-13T12:43:41.588554Z"
    },
    "papermill": {
     "duration": 0.096647,
     "end_time": "2020-09-13T12:43:41.589294",
     "exception": false,
     "start_time": "2020-09-13T12:43:41.492647",
     "status": "completed"
    },
    "tags": []
   },
   "outputs": [],
   "source": [
    "cols = list(building_res_comps.columns)\n",
    "cols.remove('base_ar')\n",
    "building_res_comps = building_res_comps.loc[:, cols]"
   ]
  },
  {
   "cell_type": "code",
   "execution_count": 50,
   "metadata": {
    "ExecuteTime": {
     "end_time": "2020-07-25T10:10:14.599950Z",
     "start_time": "2020-07-25T10:10:14.585657Z"
    },
    "execution": {
     "iopub.execute_input": "2020-09-13T12:43:41.702821Z",
     "iopub.status.busy": "2020-09-13T12:43:41.701930Z",
     "iopub.status.idle": "2020-09-13T12:43:41.715985Z",
     "shell.execute_reply": "2020-09-13T12:43:41.716471Z"
    },
    "papermill": {
     "duration": 0.071707,
     "end_time": "2020-09-13T12:43:41.716628",
     "exception": false,
     "start_time": "2020-09-13T12:43:41.644921",
     "status": "completed"
    },
    "tags": []
   },
   "outputs": [
    {
     "data": {
      "text/plain": [
       "False"
      ]
     },
     "execution_count": 50,
     "metadata": {},
     "output_type": "execute_result"
    }
   ],
   "source": [
    "all(building_res_comps['heat_ar'] > building_res_comps['act_ar'])"
   ]
  },
  {
   "cell_type": "markdown",
   "metadata": {
    "papermill": {
     "duration": 0.052645,
     "end_time": "2020-09-13T12:43:41.822667",
     "exception": false,
     "start_time": "2020-09-13T12:43:41.770022",
     "status": "completed"
    },
    "tags": []
   },
   "source": [
    "We should also consider dropping all the properties that have zero in all of these area columns"
   ]
  },
  {
   "cell_type": "code",
   "execution_count": 51,
   "metadata": {
    "ExecuteTime": {
     "end_time": "2020-07-25T10:10:14.622686Z",
     "start_time": "2020-07-25T10:10:14.601896Z"
    },
    "execution": {
     "iopub.execute_input": "2020-09-13T12:43:41.948548Z",
     "iopub.status.busy": "2020-09-13T12:43:41.944858Z",
     "iopub.status.idle": "2020-09-13T12:43:41.963110Z",
     "shell.execute_reply": "2020-09-13T12:43:41.962594Z"
    },
    "papermill": {
     "duration": 0.082065,
     "end_time": "2020-09-13T12:43:41.963257",
     "exception": false,
     "start_time": "2020-09-13T12:43:41.881192",
     "status": "completed"
    },
    "tags": []
   },
   "outputs": [],
   "source": [
    "cond0 = building_res_comps['im_sq_ft'] == 0\n",
    "cond1 = building_res_comps['im_sq_ft'] == building_res_comps['act_ar']\n",
    "cond2 = building_res_comps['im_sq_ft'] == building_res_comps['heat_ar'] \n",
    "cond3 = building_res_comps['im_sq_ft'] == building_res_comps['gross_ar'] \n",
    "cond4 = building_res_comps['im_sq_ft'] == building_res_comps['eff_ar']"
   ]
  },
  {
   "cell_type": "code",
   "execution_count": 52,
   "metadata": {
    "ExecuteTime": {
     "end_time": "2020-07-25T10:10:14.700569Z",
     "start_time": "2020-07-25T10:10:14.625141Z"
    },
    "execution": {
     "iopub.execute_input": "2020-09-13T12:43:42.076254Z",
     "iopub.status.busy": "2020-09-13T12:43:42.075413Z",
     "iopub.status.idle": "2020-09-13T12:43:42.141595Z",
     "shell.execute_reply": "2020-09-13T12:43:42.142327Z"
    },
    "papermill": {
     "duration": 0.124449,
     "end_time": "2020-09-13T12:43:42.142571",
     "exception": false,
     "start_time": "2020-09-13T12:43:42.018122",
     "status": "completed"
    },
    "tags": []
   },
   "outputs": [],
   "source": [
    "building_res_comps = building_res_comps.loc[~(cond0 & cond1 & cond2 & cond3 & cond4), :]"
   ]
  },
  {
   "cell_type": "code",
   "execution_count": 53,
   "metadata": {
    "ExecuteTime": {
     "end_time": "2020-07-25T10:10:14.722534Z",
     "start_time": "2020-07-25T10:10:14.705225Z"
    },
    "execution": {
     "iopub.execute_input": "2020-09-13T12:43:42.258557Z",
     "iopub.status.busy": "2020-09-13T12:43:42.258010Z",
     "iopub.status.idle": "2020-09-13T12:43:42.277219Z",
     "shell.execute_reply": "2020-09-13T12:43:42.276748Z"
    },
    "papermill": {
     "duration": 0.077034,
     "end_time": "2020-09-13T12:43:42.277362",
     "exception": false,
     "start_time": "2020-09-13T12:43:42.200328",
     "status": "completed"
    },
    "tags": []
   },
   "outputs": [
    {
     "data": {
      "text/plain": [
       "(957686, 10)"
      ]
     },
     "execution_count": 53,
     "metadata": {},
     "output_type": "execute_result"
    }
   ],
   "source": [
    "building_res_comps.shape"
   ]
  },
  {
   "cell_type": "markdown",
   "metadata": {
    "papermill": {
     "duration": 0.053854,
     "end_time": "2020-09-13T12:43:42.383965",
     "exception": false,
     "start_time": "2020-09-13T12:43:42.330111",
     "status": "completed"
    },
    "tags": []
   },
   "source": [
    "### im_sq_ft: Improvement area"
   ]
  },
  {
   "cell_type": "code",
   "execution_count": 54,
   "metadata": {
    "ExecuteTime": {
     "end_time": "2020-07-25T10:10:14.749537Z",
     "start_time": "2020-07-25T10:10:14.725600Z"
    },
    "execution": {
     "iopub.execute_input": "2020-09-13T12:43:42.496608Z",
     "iopub.status.busy": "2020-09-13T12:43:42.495709Z",
     "iopub.status.idle": "2020-09-13T12:43:42.513137Z",
     "shell.execute_reply": "2020-09-13T12:43:42.512427Z"
    },
    "papermill": {
     "duration": 0.075312,
     "end_time": "2020-09-13T12:43:42.513284",
     "exception": false,
     "start_time": "2020-09-13T12:43:42.437972",
     "status": "completed"
    },
    "tags": []
   },
   "outputs": [],
   "source": [
    "from src.data.utils import fix_area_column"
   ]
  },
  {
   "cell_type": "code",
   "execution_count": 55,
   "metadata": {
    "ExecuteTime": {
     "end_time": "2020-07-25T10:10:14.933909Z",
     "start_time": "2020-07-25T10:10:14.751685Z"
    },
    "execution": {
     "iopub.execute_input": "2020-09-13T12:43:42.625408Z",
     "iopub.status.busy": "2020-09-13T12:43:42.624494Z",
     "iopub.status.idle": "2020-09-13T12:43:43.153860Z",
     "shell.execute_reply": "2020-09-13T12:43:43.154601Z"
    },
    "papermill": {
     "duration": 0.588078,
     "end_time": "2020-09-13T12:43:43.154829",
     "exception": false,
     "start_time": "2020-09-13T12:43:42.566751",
     "status": "completed"
    },
    "tags": []
   },
   "outputs": [
    {
     "name": "stdout",
     "output_type": "stream",
     "text": [
      "Values less than 100 sqft: 3\n",
      "62939     0\n",
      "181823    0\n",
      "198980    0\n",
      "Name: im_sq_ft, dtype: uint16\n"
     ]
    },
    {
     "name": "stdout",
     "output_type": "stream",
     "text": [
      "Since the column contains NaNs, it can't be casted as int type\n",
      "\n",
      "\n",
      "The new data type is: float64\n",
      "\n",
      "\n",
      "The number of null values is: 3\n",
      "\n",
      "\n",
      "im_sq_ft description:\n",
      "count    957683.000000\n",
      "mean       2111.178257\n",
      "std         956.415509\n",
      "min         120.000000\n",
      "25%        1462.000000\n",
      "50%        1904.000000\n",
      "75%        2539.000000\n",
      "max       26401.000000\n",
      "Name: im_sq_ft, dtype: float64\n"
     ]
    }
   ],
   "source": [
    "building_res_comps = fix_area_column(building_res_comps, 'im_sq_ft')"
   ]
  },
  {
   "cell_type": "markdown",
   "metadata": {
    "papermill": {
     "duration": 0.055534,
     "end_time": "2020-09-13T12:43:43.271166",
     "exception": false,
     "start_time": "2020-09-13T12:43:43.215632",
     "status": "completed"
    },
    "tags": []
   },
   "source": [
    "### Actual area: act_ar"
   ]
  },
  {
   "cell_type": "code",
   "execution_count": 56,
   "metadata": {
    "ExecuteTime": {
     "end_time": "2020-07-25T10:10:15.089556Z",
     "start_time": "2020-07-25T10:10:14.935582Z"
    },
    "execution": {
     "iopub.execute_input": "2020-09-13T12:43:43.384453Z",
     "iopub.status.busy": "2020-09-13T12:43:43.382993Z",
     "iopub.status.idle": "2020-09-13T12:43:43.517945Z",
     "shell.execute_reply": "2020-09-13T12:43:43.518397Z"
    },
    "papermill": {
     "duration": 0.192992,
     "end_time": "2020-09-13T12:43:43.518554",
     "exception": false,
     "start_time": "2020-09-13T12:43:43.325562",
     "status": "completed"
    },
    "tags": []
   },
   "outputs": [
    {
     "name": "stdout",
     "output_type": "stream",
     "text": [
      "Values less than 100 sqft: 0\n",
      "\n",
      "\n",
      "The new data type is: uint16\n",
      "\n",
      "\n",
      "The number of null values is: 0\n",
      "\n",
      "\n",
      "act_ar description:\n",
      "count    957686.000000\n",
      "mean       2619.445648\n",
      "std        1183.965415\n",
      "min         144.000000\n",
      "25%        1894.000000\n",
      "50%        2415.000000\n",
      "75%        3082.000000\n",
      "max       37123.000000\n",
      "Name: act_ar, dtype: float64\n"
     ]
    }
   ],
   "source": [
    "building_res_comps = fix_area_column(building_res_comps, 'act_ar')"
   ]
  },
  {
   "cell_type": "markdown",
   "metadata": {
    "papermill": {
     "duration": 0.054883,
     "end_time": "2020-09-13T12:43:43.626719",
     "exception": false,
     "start_time": "2020-09-13T12:43:43.571836",
     "status": "completed"
    },
    "tags": []
   },
   "source": [
    "### Living area: heat_ar"
   ]
  },
  {
   "cell_type": "code",
   "execution_count": 57,
   "metadata": {
    "ExecuteTime": {
     "end_time": "2020-07-25T10:10:15.260390Z",
     "start_time": "2020-07-25T10:10:15.092307Z"
    },
    "execution": {
     "iopub.execute_input": "2020-09-13T12:43:43.738941Z",
     "iopub.status.busy": "2020-09-13T12:43:43.738341Z",
     "iopub.status.idle": "2020-09-13T12:43:44.286151Z",
     "shell.execute_reply": "2020-09-13T12:43:44.286616Z"
    },
    "papermill": {
     "duration": 0.605935,
     "end_time": "2020-09-13T12:43:44.286793",
     "exception": false,
     "start_time": "2020-09-13T12:43:43.680858",
     "status": "completed"
    },
    "tags": []
   },
   "outputs": [
    {
     "name": "stdout",
     "output_type": "stream",
     "text": [
      "Values less than 100 sqft: 4\n",
      "62939     0\n",
      "68749     0\n",
      "181823    0\n",
      "198980    0\n",
      "Name: heat_ar, dtype: uint16\n"
     ]
    },
    {
     "name": "stdout",
     "output_type": "stream",
     "text": [
      "Since the column contains NaNs, it can't be casted as int type\n",
      "\n",
      "\n",
      "The new data type is: float64\n",
      "\n",
      "\n",
      "The number of null values is: 4\n",
      "\n",
      "\n",
      "heat_ar description:\n",
      "count    957682.000000\n",
      "mean       2108.505369\n",
      "std         953.561250\n",
      "min         120.000000\n",
      "25%        1462.000000\n",
      "50%        1903.000000\n",
      "75%        2534.000000\n",
      "max       26401.000000\n",
      "Name: heat_ar, dtype: float64\n"
     ]
    }
   ],
   "source": [
    "building_res_comps = fix_area_column(building_res_comps, 'heat_ar')"
   ]
  },
  {
   "cell_type": "markdown",
   "metadata": {
    "papermill": {
     "duration": 0.056005,
     "end_time": "2020-09-13T12:43:44.399011",
     "exception": false,
     "start_time": "2020-09-13T12:43:44.343006",
     "status": "completed"
    },
    "tags": []
   },
   "source": [
    "### Gross area: gross_ar"
   ]
  },
  {
   "cell_type": "code",
   "execution_count": 58,
   "metadata": {
    "ExecuteTime": {
     "end_time": "2020-07-25T10:10:15.408599Z",
     "start_time": "2020-07-25T10:10:15.262007Z"
    },
    "execution": {
     "iopub.execute_input": "2020-09-13T12:43:44.515340Z",
     "iopub.status.busy": "2020-09-13T12:43:44.514475Z",
     "iopub.status.idle": "2020-09-13T12:43:44.660123Z",
     "shell.execute_reply": "2020-09-13T12:43:44.660553Z"
    },
    "papermill": {
     "duration": 0.205447,
     "end_time": "2020-09-13T12:43:44.660704",
     "exception": false,
     "start_time": "2020-09-13T12:43:44.455257",
     "status": "completed"
    },
    "tags": []
   },
   "outputs": [
    {
     "name": "stdout",
     "output_type": "stream",
     "text": [
      "Values less than 100 sqft: 0\n",
      "\n",
      "\n",
      "The new data type is: uint16\n",
      "\n",
      "\n",
      "The number of null values is: 0\n",
      "\n",
      "\n",
      "gross_ar description:\n",
      "count    957686.000000\n",
      "mean       2616.859883\n",
      "std        1181.428051\n",
      "min         120.000000\n",
      "25%        1894.000000\n",
      "50%        2413.000000\n",
      "75%        3077.000000\n",
      "max       37123.000000\n",
      "Name: gross_ar, dtype: float64\n"
     ]
    }
   ],
   "source": [
    "building_res_comps = fix_area_column(building_res_comps, 'gross_ar')"
   ]
  },
  {
   "cell_type": "markdown",
   "metadata": {
    "papermill": {
     "duration": 0.056241,
     "end_time": "2020-09-13T12:43:44.771058",
     "exception": false,
     "start_time": "2020-09-13T12:43:44.714817",
     "status": "completed"
    },
    "tags": []
   },
   "source": [
    "### Effective area: eff_ar"
   ]
  },
  {
   "cell_type": "code",
   "execution_count": 59,
   "metadata": {
    "ExecuteTime": {
     "end_time": "2020-07-25T10:10:15.587487Z",
     "start_time": "2020-07-25T10:10:15.410270Z"
    },
    "execution": {
     "iopub.execute_input": "2020-09-13T12:43:44.887136Z",
     "iopub.status.busy": "2020-09-13T12:43:44.886254Z",
     "iopub.status.idle": "2020-09-13T12:43:45.401122Z",
     "shell.execute_reply": "2020-09-13T12:43:45.400589Z"
    },
    "papermill": {
     "duration": 0.574328,
     "end_time": "2020-09-13T12:43:45.401271",
     "exception": false,
     "start_time": "2020-09-13T12:43:44.826943",
     "status": "completed"
    },
    "tags": []
   },
   "outputs": [
    {
     "name": "stdout",
     "output_type": "stream",
     "text": [
      "Values less than 100 sqft: 1\n",
      "68749    37\n",
      "Name: eff_ar, dtype: uint16\n"
     ]
    },
    {
     "name": "stdout",
     "output_type": "stream",
     "text": [
      "Since the column contains NaNs, it can't be casted as int type\n",
      "\n",
      "\n",
      "The new data type is: float64\n",
      "\n",
      "\n",
      "The number of null values is: 1\n",
      "\n",
      "\n",
      "eff_ar description:\n",
      "count    957685.000000\n",
      "mean       2227.733149\n",
      "std         961.235839\n",
      "min         144.000000\n",
      "25%        1607.000000\n",
      "50%        2049.000000\n",
      "75%        2623.000000\n",
      "max       27753.000000\n",
      "Name: eff_ar, dtype: float64\n"
     ]
    }
   ],
   "source": [
    "building_res_comps = fix_area_column(building_res_comps, 'eff_ar')"
   ]
  },
  {
   "cell_type": "markdown",
   "metadata": {
    "papermill": {
     "duration": 0.05717,
     "end_time": "2020-09-13T12:43:45.515959",
     "exception": false,
     "start_time": "2020-09-13T12:43:45.458789",
     "status": "completed"
    },
    "tags": []
   },
   "source": [
    "## Perimeter\n",
    "Let's say that all perimeter values less than 50 ft are bad, and replace them with NaNs."
   ]
  },
  {
   "cell_type": "code",
   "execution_count": 60,
   "metadata": {
    "ExecuteTime": {
     "end_time": "2020-07-25T10:10:15.600709Z",
     "start_time": "2020-07-25T10:10:15.589063Z"
    },
    "execution": {
     "iopub.execute_input": "2020-09-13T12:43:45.633659Z",
     "iopub.status.busy": "2020-09-13T12:43:45.632719Z",
     "iopub.status.idle": "2020-09-13T12:43:45.650302Z",
     "shell.execute_reply": "2020-09-13T12:43:45.650849Z"
    },
    "papermill": {
     "duration": 0.07829,
     "end_time": "2020-09-13T12:43:45.651012",
     "exception": false,
     "start_time": "2020-09-13T12:43:45.572722",
     "status": "completed"
    },
    "tags": []
   },
   "outputs": [],
   "source": [
    "cond0 = building_res_comps['perimeter'] < 50"
   ]
  },
  {
   "cell_type": "code",
   "execution_count": 61,
   "metadata": {
    "ExecuteTime": {
     "end_time": "2020-07-25T10:10:15.744577Z",
     "start_time": "2020-07-25T10:10:15.602809Z"
    },
    "execution": {
     "iopub.execute_input": "2020-09-13T12:43:45.769909Z",
     "iopub.status.busy": "2020-09-13T12:43:45.769013Z",
     "iopub.status.idle": "2020-09-13T12:43:45.888451Z",
     "shell.execute_reply": "2020-09-13T12:43:45.888889Z"
    },
    "papermill": {
     "duration": 0.182005,
     "end_time": "2020-09-13T12:43:45.889100",
     "exception": false,
     "start_time": "2020-09-13T12:43:45.707095",
     "status": "completed"
    },
    "tags": []
   },
   "outputs": [
    {
     "name": "stdout",
     "output_type": "stream",
     "text": [
      "Number of bad perimeter values: 1169\n"
     ]
    }
   ],
   "source": [
    "print(f\"Number of bad perimeter values: {sum(cond0)}\")"
   ]
  },
  {
   "cell_type": "code",
   "execution_count": 62,
   "metadata": {
    "ExecuteTime": {
     "end_time": "2020-07-25T10:10:15.765080Z",
     "start_time": "2020-07-25T10:10:15.747015Z"
    },
    "execution": {
     "iopub.execute_input": "2020-09-13T12:43:46.012725Z",
     "iopub.status.busy": "2020-09-13T12:43:46.011794Z",
     "iopub.status.idle": "2020-09-13T12:43:46.058780Z",
     "shell.execute_reply": "2020-09-13T12:43:46.059590Z"
    },
    "papermill": {
     "duration": 0.109701,
     "end_time": "2020-09-13T12:43:46.059831",
     "exception": false,
     "start_time": "2020-09-13T12:43:45.950130",
     "status": "completed"
    },
    "tags": []
   },
   "outputs": [
    {
     "data": {
      "text/plain": [
       " 0      1163\n",
       "-580       1\n",
       "-220       1\n",
       "-56        1\n",
       "-54        1\n",
       "-20        1\n",
       " 2         1\n",
       "Name: perimeter, dtype: int64"
      ]
     },
     "execution_count": 62,
     "metadata": {},
     "output_type": "execute_result"
    }
   ],
   "source": [
    "bad_perimeter_vc = building_res_comps.loc[cond0, :]['perimeter'].value_counts()\n",
    "bad_perimeter_vc"
   ]
  },
  {
   "cell_type": "code",
   "execution_count": 63,
   "metadata": {
    "ExecuteTime": {
     "end_time": "2020-07-25T10:10:15.787286Z",
     "start_time": "2020-07-25T10:10:15.767365Z"
    },
    "execution": {
     "iopub.execute_input": "2020-09-13T12:43:46.202853Z",
     "iopub.status.busy": "2020-09-13T12:43:46.201978Z",
     "iopub.status.idle": "2020-09-13T12:43:46.213394Z",
     "shell.execute_reply": "2020-09-13T12:43:46.213845Z"
    },
    "papermill": {
     "duration": 0.074826,
     "end_time": "2020-09-13T12:43:46.214016",
     "exception": false,
     "start_time": "2020-09-13T12:43:46.139190",
     "status": "completed"
    },
    "tags": []
   },
   "outputs": [],
   "source": [
    "replace = {num: np.nan for num in bad_perimeter_vc.index}"
   ]
  },
  {
   "cell_type": "code",
   "execution_count": 64,
   "metadata": {
    "ExecuteTime": {
     "end_time": "2020-07-25T10:10:15.823826Z",
     "start_time": "2020-07-25T10:10:15.789535Z"
    },
    "execution": {
     "iopub.execute_input": "2020-09-13T12:43:46.334234Z",
     "iopub.status.busy": "2020-09-13T12:43:46.333340Z",
     "iopub.status.idle": "2020-09-13T12:43:46.371565Z",
     "shell.execute_reply": "2020-09-13T12:43:46.370807Z"
    },
    "papermill": {
     "duration": 0.09967,
     "end_time": "2020-09-13T12:43:46.371757",
     "exception": false,
     "start_time": "2020-09-13T12:43:46.272087",
     "status": "completed"
    },
    "tags": []
   },
   "outputs": [],
   "source": [
    "building_res_comps['perimeter'].replace(replace, inplace=True)"
   ]
  },
  {
   "cell_type": "code",
   "execution_count": 65,
   "metadata": {
    "ExecuteTime": {
     "end_time": "2020-07-25T10:10:15.913015Z",
     "start_time": "2020-07-25T10:10:15.826015Z"
    },
    "execution": {
     "iopub.execute_input": "2020-09-13T12:43:46.498639Z",
     "iopub.status.busy": "2020-09-13T12:43:46.498103Z",
     "iopub.status.idle": "2020-09-13T12:43:46.571038Z",
     "shell.execute_reply": "2020-09-13T12:43:46.570483Z"
    },
    "papermill": {
     "duration": 0.135587,
     "end_time": "2020-09-13T12:43:46.571165",
     "exception": false,
     "start_time": "2020-09-13T12:43:46.435578",
     "status": "completed"
    },
    "tags": []
   },
   "outputs": [
    {
     "data": {
      "text/plain": [
       "count    956517.000000\n",
       "mean        269.796338\n",
       "std         110.960821\n",
       "min          52.000000\n",
       "25%         192.000000\n",
       "50%         234.000000\n",
       "75%         330.000000\n",
       "max        1937.000000\n",
       "Name: perimeter, dtype: float64"
      ]
     },
     "execution_count": 65,
     "metadata": {},
     "output_type": "execute_result"
    }
   ],
   "source": [
    "building_res_comps['perimeter'].describe()"
   ]
  },
  {
   "cell_type": "code",
   "execution_count": 66,
   "metadata": {
    "ExecuteTime": {
     "end_time": "2020-07-25T10:10:16.042323Z",
     "start_time": "2020-07-25T10:10:15.915052Z"
    },
    "execution": {
     "iopub.execute_input": "2020-09-13T12:43:46.692316Z",
     "iopub.status.busy": "2020-09-13T12:43:46.691504Z",
     "iopub.status.idle": "2020-09-13T12:43:46.793372Z",
     "shell.execute_reply": "2020-09-13T12:43:46.793999Z"
    },
    "papermill": {
     "duration": 0.166622,
     "end_time": "2020-09-13T12:43:46.794207",
     "exception": false,
     "start_time": "2020-09-13T12:43:46.627585",
     "status": "completed"
    },
    "tags": []
   },
   "outputs": [
    {
     "name": "stdout",
     "output_type": "stream",
     "text": [
      "The number of missing perimeter values is: 1169\n"
     ]
    }
   ],
   "source": [
    "print(f\"The number of missing perimeter values is: {sum(building_res_comps['perimeter'].isnull())}\")"
   ]
  },
  {
   "cell_type": "markdown",
   "metadata": {
    "papermill": {
     "duration": 0.059368,
     "end_time": "2020-09-13T12:43:46.922470",
     "exception": false,
     "start_time": "2020-09-13T12:43:46.863102",
     "status": "completed"
    },
    "tags": []
   },
   "source": [
    "# Export building_res_comps\n",
    "That was a lot of work! Let's save it as a pickle file and continue the data conditioning in the next notebook."
   ]
  },
  {
   "cell_type": "code",
   "execution_count": 67,
   "metadata": {
    "ExecuteTime": {
     "end_time": "2020-07-25T10:10:16.060271Z",
     "start_time": "2020-07-25T10:10:16.044736Z"
    },
    "execution": {
     "iopub.execute_input": "2020-09-13T12:43:47.051717Z",
     "iopub.status.busy": "2020-09-13T12:43:47.050828Z",
     "iopub.status.idle": "2020-09-13T12:43:47.061673Z",
     "shell.execute_reply": "2020-09-13T12:43:47.062119Z"
    },
    "papermill": {
     "duration": 0.075113,
     "end_time": "2020-09-13T12:43:47.062289",
     "exception": false,
     "start_time": "2020-09-13T12:43:46.987176",
     "status": "completed"
    },
    "tags": []
   },
   "outputs": [],
   "source": [
    "from src.data.utils import save_pickle"
   ]
  },
  {
   "cell_type": "code",
   "execution_count": 68,
   "metadata": {
    "ExecuteTime": {
     "end_time": "2020-07-25T10:10:16.077843Z",
     "start_time": "2020-07-25T10:10:16.065063Z"
    },
    "execution": {
     "iopub.execute_input": "2020-09-13T12:43:47.189787Z",
     "iopub.status.busy": "2020-09-13T12:43:47.188893Z",
     "iopub.status.idle": "2020-09-13T12:43:47.200524Z",
     "shell.execute_reply": "2020-09-13T12:43:47.201253Z"
    },
    "papermill": {
     "duration": 0.074985,
     "end_time": "2020-09-13T12:43:47.201476",
     "exception": false,
     "start_time": "2020-09-13T12:43:47.126491",
     "status": "completed"
    },
    "tags": []
   },
   "outputs": [],
   "source": [
    "save_fn = ROOT_DIR / 'data/raw/2016/building_res_comps.pickle'"
   ]
  },
  {
   "cell_type": "code",
   "execution_count": 69,
   "metadata": {
    "ExecuteTime": {
     "end_time": "2020-07-25T10:10:17.223721Z",
     "start_time": "2020-07-25T10:10:16.080141Z"
    },
    "execution": {
     "iopub.execute_input": "2020-09-13T12:43:47.347624Z",
     "iopub.status.busy": "2020-09-13T12:43:47.346745Z",
     "iopub.status.idle": "2020-09-13T12:43:47.410181Z",
     "shell.execute_reply": "2020-09-13T12:43:47.410683Z"
    },
    "papermill": {
     "duration": 0.127475,
     "end_time": "2020-09-13T12:43:47.410869",
     "exception": false,
     "start_time": "2020-09-13T12:43:47.283394",
     "status": "completed"
    },
    "tags": []
   },
   "outputs": [],
   "source": [
    "save_pickle(building_res_comps, save_fn)"
   ]
  },
  {
   "cell_type": "markdown",
   "metadata": {
    "papermill": {
     "duration": 0.062963,
     "end_time": "2020-09-13T12:43:47.539107",
     "exception": false,
     "start_time": "2020-09-13T12:43:47.476144",
     "status": "completed"
    },
    "tags": []
   },
   "source": [
    "# Export unique account numbers of interest: one_bld_in_acct"
   ]
  },
  {
   "cell_type": "code",
   "execution_count": 70,
   "metadata": {
    "ExecuteTime": {
     "end_time": "2020-07-25T10:10:17.280671Z",
     "start_time": "2020-07-25T10:10:17.228423Z"
    },
    "execution": {
     "iopub.execute_input": "2020-09-13T12:43:47.668551Z",
     "iopub.status.busy": "2020-09-13T12:43:47.667853Z",
     "iopub.status.idle": "2020-09-13T12:43:47.685207Z",
     "shell.execute_reply": "2020-09-13T12:43:47.685664Z"
    },
    "papermill": {
     "duration": 0.083903,
     "end_time": "2020-09-13T12:43:47.685824",
     "exception": false,
     "start_time": "2020-09-13T12:43:47.601921",
     "status": "completed"
    },
    "tags": []
   },
   "outputs": [],
   "source": [
    "save_fn = ROOT_DIR / 'data/raw/2016/one_bld_in_acct.pickle'"
   ]
  },
  {
   "cell_type": "code",
   "execution_count": 71,
   "metadata": {
    "ExecuteTime": {
     "end_time": "2020-07-25T10:10:17.356119Z",
     "start_time": "2020-07-25T10:10:17.284967Z"
    },
    "execution": {
     "iopub.execute_input": "2020-09-13T12:43:47.811736Z",
     "iopub.status.busy": "2020-09-13T12:43:47.809905Z",
     "iopub.status.idle": "2020-09-13T12:43:47.832868Z",
     "shell.execute_reply": "2020-09-13T12:43:47.832339Z"
    },
    "papermill": {
     "duration": 0.088494,
     "end_time": "2020-09-13T12:43:47.833020",
     "exception": false,
     "start_time": "2020-09-13T12:43:47.744526",
     "status": "completed"
    },
    "tags": []
   },
   "outputs": [],
   "source": [
    "save_pickle(one_bld_in_acct, save_fn)"
   ]
  }
 ],
 "metadata": {
  "kernelspec": {
   "display_name": "hcad_pred",
   "language": "python",
   "name": "hcad_pred"
  },
  "language_info": {
   "codemirror_mode": {
    "name": "ipython",
    "version": 3
   },
   "file_extension": ".py",
   "mimetype": "text/x-python",
   "name": "python",
   "nbconvert_exporter": "python",
   "pygments_lexer": "ipython3",
   "version": "3.7.8"
  },
  "papermill": {
   "duration": 23.271996,
   "end_time": "2020-09-13T12:43:48.299731",
   "environment_variables": {},
   "exception": null,
   "input_path": "/media/hdd/projects/springboard/hcad_pred/notebooks/01_Exploratory/1.0-rp-hcad-data-view-building-res.ipynb",
   "output_path": "/media/hdd/projects/springboard/hcad_pred/notebooks/01_Exploratory/output/1.0-rp-hcad-data-view-building-res_20200913.ipynb",
   "parameters": {},
   "start_time": "2020-09-13T12:43:25.027735",
   "version": "2.1.2"
  },
  "toc": {
   "base_numbering": 1,
   "nav_menu": {},
   "number_sections": true,
   "sideBar": true,
   "skip_h1_title": false,
   "title_cell": "Table of Contents",
   "title_sidebar": "Contents",
   "toc_cell": false,
   "toc_position": {},
   "toc_section_display": true,
   "toc_window_display": false
  }
 },
 "nbformat": 4,
 "nbformat_minor": 4
}