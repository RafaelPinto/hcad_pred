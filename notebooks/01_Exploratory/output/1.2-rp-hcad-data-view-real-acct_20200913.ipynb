{
 "cells": [
  {
   "cell_type": "markdown",
   "metadata": {
    "papermill": {
     "duration": 0.044661,
     "end_time": "2020-09-13T12:44:15.367203",
     "exception": false,
     "start_time": "2020-09-13T12:44:15.322542",
     "status": "completed"
    },
    "tags": []
   },
   "source": [
    "# Find the comparables: real_acc.txt\n",
    "\n",
    "The file `real_acc.txt` contains important property information like number total appraised value (the target on this exercise), neighborhood, school district, economic group, land value, and more. Let's load this file and grab a subset with the important columns to continue our study."
   ]
  },
  {
   "cell_type": "code",
   "execution_count": 1,
   "metadata": {
    "ExecuteTime": {
     "end_time": "2020-07-27T18:49:39.510740Z",
     "start_time": "2020-07-27T18:49:39.494489Z"
    },
    "execution": {
     "iopub.execute_input": "2020-09-13T12:44:15.436496Z",
     "iopub.status.busy": "2020-09-13T12:44:15.435593Z",
     "iopub.status.idle": "2020-09-13T12:44:15.447148Z",
     "shell.execute_reply": "2020-09-13T12:44:15.446310Z"
    },
    "papermill": {
     "duration": 0.049398,
     "end_time": "2020-09-13T12:44:15.447405",
     "exception": false,
     "start_time": "2020-09-13T12:44:15.398007",
     "status": "completed"
    },
    "tags": []
   },
   "outputs": [],
   "source": [
    "%load_ext autoreload\n",
    "%autoreload 2"
   ]
  },
  {
   "cell_type": "code",
   "execution_count": 2,
   "metadata": {
    "ExecuteTime": {
     "end_time": "2020-07-27T18:49:40.012778Z",
     "start_time": "2020-07-27T18:49:39.512754Z"
    },
    "execution": {
     "iopub.execute_input": "2020-09-13T12:44:15.530302Z",
     "iopub.status.busy": "2020-09-13T12:44:15.529756Z",
     "iopub.status.idle": "2020-09-13T12:44:15.972858Z",
     "shell.execute_reply": "2020-09-13T12:44:15.973340Z"
    },
    "papermill": {
     "duration": 0.478058,
     "end_time": "2020-09-13T12:44:15.973517",
     "exception": false,
     "start_time": "2020-09-13T12:44:15.495459",
     "status": "completed"
    },
    "tags": []
   },
   "outputs": [],
   "source": [
    "from pathlib import Path\n",
    "import pickle\n",
    "\n",
    "import numpy as np\n",
    "import pandas as pd\n",
    "\n",
    "from src.definitions import ROOT_DIR\n",
    "from src.data.utils import Table, save_pickle"
   ]
  },
  {
   "cell_type": "code",
   "execution_count": 3,
   "metadata": {
    "ExecuteTime": {
     "end_time": "2020-07-27T18:49:40.025746Z",
     "start_time": "2020-07-27T18:49:40.014532Z"
    },
    "execution": {
     "iopub.execute_input": "2020-09-13T12:44:16.040174Z",
     "iopub.status.busy": "2020-09-13T12:44:16.039215Z",
     "iopub.status.idle": "2020-09-13T12:44:16.057539Z",
     "shell.execute_reply": "2020-09-13T12:44:16.058234Z"
    },
    "papermill": {
     "duration": 0.053467,
     "end_time": "2020-09-13T12:44:16.058458",
     "exception": false,
     "start_time": "2020-09-13T12:44:16.004991",
     "status": "completed"
    },
    "tags": []
   },
   "outputs": [],
   "source": [
    "real_acct_fn = ROOT_DIR / 'data/external/2016/Real_acct_owner/real_acct.txt'\n",
    "assert real_acct_fn.exists()"
   ]
  },
  {
   "cell_type": "code",
   "execution_count": 4,
   "metadata": {
    "ExecuteTime": {
     "end_time": "2020-07-27T18:49:40.042309Z",
     "start_time": "2020-07-27T18:49:40.028178Z"
    },
    "execution": {
     "iopub.execute_input": "2020-09-13T12:44:16.154486Z",
     "iopub.status.busy": "2020-09-13T12:44:16.153594Z",
     "iopub.status.idle": "2020-09-13T12:44:16.164314Z",
     "shell.execute_reply": "2020-09-13T12:44:16.164808Z"
    },
    "papermill": {
     "duration": 0.047817,
     "end_time": "2020-09-13T12:44:16.165004",
     "exception": false,
     "start_time": "2020-09-13T12:44:16.117187",
     "status": "completed"
    },
    "tags": []
   },
   "outputs": [],
   "source": [
    "real_acct = Table(real_acct_fn, '2016')"
   ]
  },
  {
   "cell_type": "code",
   "execution_count": 5,
   "metadata": {
    "ExecuteTime": {
     "end_time": "2020-07-27T18:49:40.069514Z",
     "start_time": "2020-07-27T18:49:40.043949Z"
    },
    "execution": {
     "iopub.execute_input": "2020-09-13T12:44:16.229729Z",
     "iopub.status.busy": "2020-09-13T12:44:16.228820Z",
     "iopub.status.idle": "2020-09-13T12:44:16.249995Z",
     "shell.execute_reply": "2020-09-13T12:44:16.250663Z"
    },
    "papermill": {
     "duration": 0.05578,
     "end_time": "2020-09-13T12:44:16.250909",
     "exception": false,
     "start_time": "2020-09-13T12:44:16.195129",
     "status": "completed"
    },
    "scrolled": true,
    "tags": []
   },
   "outputs": [
    {
     "data": {
      "text/plain": [
       "['acct',\n",
       " 'yr',\n",
       " 'mailto',\n",
       " 'mail_addr_1',\n",
       " 'mail_addr_2',\n",
       " 'mail_city',\n",
       " 'mail_state',\n",
       " 'mail_zip',\n",
       " 'mail_country',\n",
       " 'undeliverable',\n",
       " 'str_pfx',\n",
       " 'str_num',\n",
       " 'str_num_sfx',\n",
       " 'str',\n",
       " 'str_sfx',\n",
       " 'str_sfx_dir',\n",
       " 'str_unit',\n",
       " 'site_addr_1',\n",
       " 'site_addr_2',\n",
       " 'site_addr_3',\n",
       " 'state_class',\n",
       " 'school_dist',\n",
       " 'map_facet',\n",
       " 'key_map',\n",
       " 'Neighborhood_Code',\n",
       " 'Neighborhood_Grp',\n",
       " 'Market_Area_1',\n",
       " 'Market_Area_1_Dscr',\n",
       " 'Market_Area_2',\n",
       " 'Market_Area_2_Dscr',\n",
       " 'econ_area',\n",
       " 'econ_bld_class',\n",
       " 'center_code',\n",
       " 'yr_impr',\n",
       " 'yr_annexed',\n",
       " 'splt_dt',\n",
       " 'dsc_cd',\n",
       " 'nxt_bld',\n",
       " 'bld_ar',\n",
       " 'land_ar',\n",
       " 'acreage',\n",
       " 'Cap_acct',\n",
       " 'shared_cad',\n",
       " 'land_val',\n",
       " 'bld_val',\n",
       " 'x_features_val',\n",
       " 'ag_val',\n",
       " 'assessed_val',\n",
       " 'tot_appr_val',\n",
       " 'tot_mkt_val',\n",
       " 'prior_land_val',\n",
       " 'prior_bld_val',\n",
       " 'prior_x_features_val',\n",
       " 'prior_ag_val',\n",
       " 'prior_tot_appr_val',\n",
       " 'prior_tot_mkt_val',\n",
       " 'new_construction_val',\n",
       " 'tot_rcn_val',\n",
       " 'value_status',\n",
       " 'noticed',\n",
       " 'notice_dt',\n",
       " 'protested',\n",
       " 'certified_date',\n",
       " 'rev_dt',\n",
       " 'rev_by',\n",
       " 'new_own_dt',\n",
       " 'lgl_1',\n",
       " 'lgl_2',\n",
       " 'lgl_3',\n",
       " 'lgl_4',\n",
       " 'jurs']"
      ]
     },
     "execution_count": 5,
     "metadata": {},
     "output_type": "execute_result"
    }
   ],
   "source": [
    "real_acct.get_header()"
   ]
  },
  {
   "cell_type": "markdown",
   "metadata": {
    "papermill": {
     "duration": 0.030536,
     "end_time": "2020-09-13T12:44:16.336836",
     "exception": false,
     "start_time": "2020-09-13T12:44:16.306300",
     "status": "completed"
    },
    "tags": []
   },
   "source": [
    "# Load accounts and columns of interest\n",
    "Let's remove the account numbers that don't meet free-standing single-family home criteria that we found while processing the `building_res.txt` file.\n",
    "\n",
    "Also, the columns above show a lot of value information along property groups that might come in handy when predicting the appraised value. Now let's get a slice of some of the important columns."
   ]
  },
  {
   "cell_type": "code",
   "execution_count": 6,
   "metadata": {
    "ExecuteTime": {
     "end_time": "2020-07-27T18:49:45.340149Z",
     "start_time": "2020-07-27T18:49:40.071388Z"
    },
    "execution": {
     "iopub.execute_input": "2020-09-13T12:44:16.402582Z",
     "iopub.status.busy": "2020-09-13T12:44:16.401562Z",
     "iopub.status.idle": "2020-09-13T12:44:26.212468Z",
     "shell.execute_reply": "2020-09-13T12:44:26.213182Z"
    },
    "papermill": {
     "duration": 9.845532,
     "end_time": "2020-09-13T12:44:26.213431",
     "exception": false,
     "start_time": "2020-09-13T12:44:16.367899",
     "status": "completed"
    },
    "tags": []
   },
   "outputs": [],
   "source": [
    "skiprows = real_acct.get_skiprows()"
   ]
  },
  {
   "cell_type": "code",
   "execution_count": 7,
   "metadata": {
    "ExecuteTime": {
     "end_time": "2020-07-27T18:49:45.357119Z",
     "start_time": "2020-07-27T18:49:45.341776Z"
    },
    "execution": {
     "iopub.execute_input": "2020-09-13T12:44:26.298820Z",
     "iopub.status.busy": "2020-09-13T12:44:26.297920Z",
     "iopub.status.idle": "2020-09-13T12:44:26.310052Z",
     "shell.execute_reply": "2020-09-13T12:44:26.309155Z"
    },
    "papermill": {
     "duration": 0.046552,
     "end_time": "2020-09-13T12:44:26.310241",
     "exception": false,
     "start_time": "2020-09-13T12:44:26.263689",
     "status": "completed"
    },
    "tags": []
   },
   "outputs": [],
   "source": [
    "cols = [\n",
    "    'acct',\n",
    "    'site_addr_3', # Zip\n",
    "    'school_dist',\n",
    "    'Neighborhood_Code',\n",
    "    'Market_Area_1_Dscr',\n",
    "    'Market_Area_2_Dscr',\n",
    "    'center_code',\n",
    "    'bld_ar',\n",
    "    'land_ar',\n",
    "    'acreage',\n",
    "    'land_val',\n",
    "    'tot_appr_val', # Target\n",
    "    'prior_land_val',\n",
    "    'prior_tot_appr_val',\n",
    "    'new_own_dt',  # New owner date\n",
    "]"
   ]
  },
  {
   "cell_type": "code",
   "execution_count": 8,
   "metadata": {
    "ExecuteTime": {
     "end_time": "2020-07-27T18:49:52.961310Z",
     "start_time": "2020-07-27T18:49:45.361148Z"
    },
    "execution": {
     "iopub.execute_input": "2020-09-13T12:44:26.404317Z",
     "iopub.status.busy": "2020-09-13T12:44:26.403726Z",
     "iopub.status.idle": "2020-09-13T12:44:34.489849Z",
     "shell.execute_reply": "2020-09-13T12:44:34.490543Z"
    },
    "papermill": {
     "duration": 8.120532,
     "end_time": "2020-09-13T12:44:34.490774",
     "exception": false,
     "start_time": "2020-09-13T12:44:26.370242",
     "status": "completed"
    },
    "tags": []
   },
   "outputs": [],
   "source": [
    "real_acct_df = real_acct.get_df(skiprows=skiprows, usecols=cols)"
   ]
  },
  {
   "cell_type": "code",
   "execution_count": 9,
   "metadata": {
    "ExecuteTime": {
     "end_time": "2020-07-27T18:49:53.003445Z",
     "start_time": "2020-07-27T18:49:52.966139Z"
    },
    "execution": {
     "iopub.execute_input": "2020-09-13T12:44:34.576295Z",
     "iopub.status.busy": "2020-09-13T12:44:34.575084Z",
     "iopub.status.idle": "2020-09-13T12:44:34.603649Z",
     "shell.execute_reply": "2020-09-13T12:44:34.604315Z"
    },
    "papermill": {
     "duration": 0.068312,
     "end_time": "2020-09-13T12:44:34.604541",
     "exception": false,
     "start_time": "2020-09-13T12:44:34.536229",
     "status": "completed"
    },
    "tags": []
   },
   "outputs": [
    {
     "data": {
      "text/html": [
       "<div>\n",
       "<style scoped>\n",
       "    .dataframe tbody tr th:only-of-type {\n",
       "        vertical-align: middle;\n",
       "    }\n",
       "\n",
       "    .dataframe tbody tr th {\n",
       "        vertical-align: top;\n",
       "    }\n",
       "\n",
       "    .dataframe thead th {\n",
       "        text-align: right;\n",
       "    }\n",
       "</style>\n",
       "<table border=\"1\" class=\"dataframe\">\n",
       "  <thead>\n",
       "    <tr style=\"text-align: right;\">\n",
       "      <th></th>\n",
       "      <th>acct</th>\n",
       "      <th>site_addr_3</th>\n",
       "      <th>school_dist</th>\n",
       "      <th>Neighborhood_Code</th>\n",
       "      <th>Market_Area_1_Dscr</th>\n",
       "      <th>Market_Area_2_Dscr</th>\n",
       "      <th>center_code</th>\n",
       "      <th>bld_ar</th>\n",
       "      <th>land_ar</th>\n",
       "      <th>acreage</th>\n",
       "      <th>land_val</th>\n",
       "      <th>tot_appr_val</th>\n",
       "      <th>prior_land_val</th>\n",
       "      <th>prior_tot_appr_val</th>\n",
       "      <th>new_own_dt</th>\n",
       "    </tr>\n",
       "  </thead>\n",
       "  <tbody>\n",
       "    <tr>\n",
       "      <th>0</th>\n",
       "      <td>21440000001</td>\n",
       "      <td>77003</td>\n",
       "      <td>01</td>\n",
       "      <td>8400.12</td>\n",
       "      <td>1C Midtown, Riverside Terrace, University Areas</td>\n",
       "      <td>1C Midtown, Riverside Terrace, University Areas</td>\n",
       "      <td>61</td>\n",
       "      <td>2537</td>\n",
       "      <td>5000</td>\n",
       "      <td>0.1148</td>\n",
       "      <td>125000.0</td>\n",
       "      <td>145200.0</td>\n",
       "      <td>75000.0</td>\n",
       "      <td>132000.0</td>\n",
       "      <td>2012-09-11 00:00:00.000</td>\n",
       "    </tr>\n",
       "    <tr>\n",
       "      <th>1</th>\n",
       "      <td>21470000008</td>\n",
       "      <td>77003</td>\n",
       "      <td>01</td>\n",
       "      <td>8400.12</td>\n",
       "      <td>1C Midtown, Riverside Terrace, University Areas</td>\n",
       "      <td>1C Midtown, Riverside Terrace, University Areas</td>\n",
       "      <td>61</td>\n",
       "      <td>1000</td>\n",
       "      <td>5000</td>\n",
       "      <td>0.1148</td>\n",
       "      <td>74900.0</td>\n",
       "      <td>75000.0</td>\n",
       "      <td>64000.0</td>\n",
       "      <td>65000.0</td>\n",
       "      <td>1988-01-02 00:00:00.000</td>\n",
       "    </tr>\n",
       "    <tr>\n",
       "      <th>2</th>\n",
       "      <td>21480000002</td>\n",
       "      <td>77003</td>\n",
       "      <td>01</td>\n",
       "      <td>8400.12</td>\n",
       "      <td>1C Midtown, Riverside Terrace, University Areas</td>\n",
       "      <td>1C Midtown, Riverside Terrace, University Areas</td>\n",
       "      <td>61</td>\n",
       "      <td>1496</td>\n",
       "      <td>5000</td>\n",
       "      <td>0.1148</td>\n",
       "      <td>125000.0</td>\n",
       "      <td>85929.0</td>\n",
       "      <td>75000.0</td>\n",
       "      <td>78118.0</td>\n",
       "      <td>2004-07-28 00:00:00.000</td>\n",
       "    </tr>\n",
       "    <tr>\n",
       "      <th>3</th>\n",
       "      <td>21650000007</td>\n",
       "      <td>77003</td>\n",
       "      <td>01</td>\n",
       "      <td>8400.12</td>\n",
       "      <td>1C Midtown, Riverside Terrace, University Areas</td>\n",
       "      <td>1C Midtown, Riverside Terrace, University Areas</td>\n",
       "      <td>61</td>\n",
       "      <td>3387</td>\n",
       "      <td>5000</td>\n",
       "      <td>0.1148</td>\n",
       "      <td>125000.0</td>\n",
       "      <td>549004.0</td>\n",
       "      <td>75000.0</td>\n",
       "      <td>75000.0</td>\n",
       "      <td>2013-10-14 00:00:00.000</td>\n",
       "    </tr>\n",
       "    <tr>\n",
       "      <th>4</th>\n",
       "      <td>21650000011</td>\n",
       "      <td>77003</td>\n",
       "      <td>01</td>\n",
       "      <td>8400.12</td>\n",
       "      <td>1C Midtown, Riverside Terrace, University Areas</td>\n",
       "      <td>1C Midtown, Riverside Terrace, University Areas</td>\n",
       "      <td>61</td>\n",
       "      <td>1508</td>\n",
       "      <td>6250</td>\n",
       "      <td>0.1435</td>\n",
       "      <td>140625.0</td>\n",
       "      <td>181370.0</td>\n",
       "      <td>84375.0</td>\n",
       "      <td>164882.0</td>\n",
       "      <td>2001-05-05 00:00:00.000</td>\n",
       "    </tr>\n",
       "  </tbody>\n",
       "</table>\n",
       "</div>"
      ],
      "text/plain": [
       "          acct site_addr_3 school_dist  Neighborhood_Code  \\\n",
       "0  21440000001       77003       01               8400.12   \n",
       "1  21470000008       77003       01               8400.12   \n",
       "2  21480000002       77003       01               8400.12   \n",
       "3  21650000007       77003       01               8400.12   \n",
       "4  21650000011       77003       01               8400.12   \n",
       "\n",
       "                                Market_Area_1_Dscr  \\\n",
       "0  1C Midtown, Riverside Terrace, University Areas   \n",
       "1  1C Midtown, Riverside Terrace, University Areas   \n",
       "2  1C Midtown, Riverside Terrace, University Areas   \n",
       "3  1C Midtown, Riverside Terrace, University Areas   \n",
       "4  1C Midtown, Riverside Terrace, University Areas   \n",
       "\n",
       "                                Market_Area_2_Dscr center_code  bld_ar  \\\n",
       "0  1C Midtown, Riverside Terrace, University Areas       61       2537   \n",
       "1  1C Midtown, Riverside Terrace, University Areas       61       1000   \n",
       "2  1C Midtown, Riverside Terrace, University Areas       61       1496   \n",
       "3  1C Midtown, Riverside Terrace, University Areas       61       3387   \n",
       "4  1C Midtown, Riverside Terrace, University Areas       61       1508   \n",
       "\n",
       "   land_ar  acreage  land_val  tot_appr_val  prior_land_val  \\\n",
       "0     5000   0.1148  125000.0      145200.0         75000.0   \n",
       "1     5000   0.1148   74900.0       75000.0         64000.0   \n",
       "2     5000   0.1148  125000.0       85929.0         75000.0   \n",
       "3     5000   0.1148  125000.0      549004.0         75000.0   \n",
       "4     6250   0.1435  140625.0      181370.0         84375.0   \n",
       "\n",
       "   prior_tot_appr_val               new_own_dt  \n",
       "0            132000.0  2012-09-11 00:00:00.000  \n",
       "1             65000.0  1988-01-02 00:00:00.000  \n",
       "2             78118.0  2004-07-28 00:00:00.000  \n",
       "3             75000.0  2013-10-14 00:00:00.000  \n",
       "4            164882.0  2001-05-05 00:00:00.000  "
      ]
     },
     "execution_count": 9,
     "metadata": {},
     "output_type": "execute_result"
    }
   ],
   "source": [
    "real_acct_df.head()"
   ]
  },
  {
   "cell_type": "markdown",
   "metadata": {
    "papermill": {
     "duration": 0.032287,
     "end_time": "2020-09-13T12:44:34.694488",
     "exception": false,
     "start_time": "2020-09-13T12:44:34.662201",
     "status": "completed"
    },
    "tags": []
   },
   "source": [
    "Double check if the there is only one account number per row"
   ]
  },
  {
   "cell_type": "code",
   "execution_count": 10,
   "metadata": {
    "ExecuteTime": {
     "end_time": "2020-07-27T18:49:53.118895Z",
     "start_time": "2020-07-27T18:49:53.005411Z"
    },
    "execution": {
     "iopub.execute_input": "2020-09-13T12:44:34.764617Z",
     "iopub.status.busy": "2020-09-13T12:44:34.764079Z",
     "iopub.status.idle": "2020-09-13T12:44:34.889440Z",
     "shell.execute_reply": "2020-09-13T12:44:34.890042Z"
    },
    "papermill": {
     "duration": 0.161511,
     "end_time": "2020-09-13T12:44:34.890245",
     "exception": false,
     "start_time": "2020-09-13T12:44:34.728734",
     "status": "completed"
    },
    "tags": []
   },
   "outputs": [],
   "source": [
    "assert real_acct_df['acct'].is_unique"
   ]
  },
  {
   "cell_type": "markdown",
   "metadata": {
    "papermill": {
     "duration": 0.045413,
     "end_time": "2020-09-13T12:44:34.970733",
     "exception": false,
     "start_time": "2020-09-13T12:44:34.925320",
     "status": "completed"
    },
    "tags": []
   },
   "source": [
    "# Describe and clean the columns\n",
    "\n",
    "Now we must describe each column by answering:\n",
    "\n",
    "* Meaning\n",
    "* Descriptive statistics or value counts\n",
    "* Data type\n",
    "\n",
    "There is no explicit document provided by HCAD explaining all the variables, but most are easy to guess for using their name."
   ]
  },
  {
   "cell_type": "markdown",
   "metadata": {
    "papermill": {
     "duration": 0.031929,
     "end_time": "2020-09-13T12:44:35.036116",
     "exception": false,
     "start_time": "2020-09-13T12:44:35.004187",
     "status": "completed"
    },
    "tags": []
   },
   "source": [
    "## Fix column names\n",
    "We would like the column names to be all lower case, with no spaces nor non-alphanumeric characters."
   ]
  },
  {
   "cell_type": "code",
   "execution_count": 11,
   "metadata": {
    "ExecuteTime": {
     "end_time": "2020-07-27T18:49:53.136699Z",
     "start_time": "2020-07-27T18:49:53.121136Z"
    },
    "execution": {
     "iopub.execute_input": "2020-09-13T12:44:35.105346Z",
     "iopub.status.busy": "2020-09-13T12:44:35.104408Z",
     "iopub.status.idle": "2020-09-13T12:44:35.122120Z",
     "shell.execute_reply": "2020-09-13T12:44:35.122539Z"
    },
    "papermill": {
     "duration": 0.054339,
     "end_time": "2020-09-13T12:44:35.122711",
     "exception": false,
     "start_time": "2020-09-13T12:44:35.068372",
     "status": "completed"
    },
    "tags": []
   },
   "outputs": [],
   "source": [
    "from src.data.utils import fix_column_names"
   ]
  },
  {
   "cell_type": "code",
   "execution_count": 12,
   "metadata": {
    "ExecuteTime": {
     "end_time": "2020-07-27T18:49:53.155905Z",
     "start_time": "2020-07-27T18:49:53.138888Z"
    },
    "execution": {
     "iopub.execute_input": "2020-09-13T12:44:35.190471Z",
     "iopub.status.busy": "2020-09-13T12:44:35.189928Z",
     "iopub.status.idle": "2020-09-13T12:44:35.209756Z",
     "shell.execute_reply": "2020-09-13T12:44:35.210192Z"
    },
    "papermill": {
     "duration": 0.056537,
     "end_time": "2020-09-13T12:44:35.210342",
     "exception": false,
     "start_time": "2020-09-13T12:44:35.153805",
     "status": "completed"
    },
    "tags": []
   },
   "outputs": [
    {
     "data": {
      "text/plain": [
       "Index(['acct', 'site_addr_3', 'school_dist', 'Neighborhood_Code',\n",
       "       'Market_Area_1_Dscr', 'Market_Area_2_Dscr', 'center_code', 'bld_ar',\n",
       "       'land_ar', 'acreage', 'land_val', 'tot_appr_val', 'prior_land_val',\n",
       "       'prior_tot_appr_val', 'new_own_dt'],\n",
       "      dtype='object')"
      ]
     },
     "execution_count": 12,
     "metadata": {},
     "output_type": "execute_result"
    }
   ],
   "source": [
    "real_acct_df.columns"
   ]
  },
  {
   "cell_type": "code",
   "execution_count": 13,
   "metadata": {
    "ExecuteTime": {
     "end_time": "2020-07-27T18:49:53.180991Z",
     "start_time": "2020-07-27T18:49:53.159565Z"
    },
    "execution": {
     "iopub.execute_input": "2020-09-13T12:44:35.279406Z",
     "iopub.status.busy": "2020-09-13T12:44:35.278510Z",
     "iopub.status.idle": "2020-09-13T12:44:35.291274Z",
     "shell.execute_reply": "2020-09-13T12:44:35.291847Z"
    },
    "papermill": {
     "duration": 0.050233,
     "end_time": "2020-09-13T12:44:35.292064",
     "exception": false,
     "start_time": "2020-09-13T12:44:35.241831",
     "status": "completed"
    },
    "tags": []
   },
   "outputs": [],
   "source": [
    "real_acct_df = fix_column_names(real_acct_df)"
   ]
  },
  {
   "cell_type": "code",
   "execution_count": 14,
   "metadata": {
    "ExecuteTime": {
     "end_time": "2020-07-27T18:49:53.202008Z",
     "start_time": "2020-07-27T18:49:53.182994Z"
    },
    "execution": {
     "iopub.execute_input": "2020-09-13T12:44:35.369328Z",
     "iopub.status.busy": "2020-09-13T12:44:35.368407Z",
     "iopub.status.idle": "2020-09-13T12:44:35.381478Z",
     "shell.execute_reply": "2020-09-13T12:44:35.381889Z"
    },
    "papermill": {
     "duration": 0.056703,
     "end_time": "2020-09-13T12:44:35.382049",
     "exception": false,
     "start_time": "2020-09-13T12:44:35.325346",
     "status": "completed"
    },
    "tags": []
   },
   "outputs": [
    {
     "data": {
      "text/plain": [
       "Index(['acct', 'site_addr_3', 'school_dist', 'neighborhood_code',\n",
       "       'market_area_1_dscr', 'market_area_2_dscr', 'center_code', 'bld_ar',\n",
       "       'land_ar', 'acreage', 'land_val', 'tot_appr_val', 'prior_land_val',\n",
       "       'prior_tot_appr_val', 'new_own_dt'],\n",
       "      dtype='object')"
      ]
     },
     "execution_count": 14,
     "metadata": {},
     "output_type": "execute_result"
    }
   ],
   "source": [
    "real_acct_df.columns"
   ]
  },
  {
   "cell_type": "markdown",
   "metadata": {
    "papermill": {
     "duration": 0.031789,
     "end_time": "2020-09-13T12:44:35.445168",
     "exception": false,
     "start_time": "2020-09-13T12:44:35.413379",
     "status": "completed"
    },
    "tags": []
   },
   "source": [
    "### Find duplicated rows"
   ]
  },
  {
   "cell_type": "code",
   "execution_count": 15,
   "metadata": {
    "ExecuteTime": {
     "end_time": "2020-07-27T18:49:54.476006Z",
     "start_time": "2020-07-27T18:49:53.204343Z"
    },
    "execution": {
     "iopub.execute_input": "2020-09-13T12:44:35.514698Z",
     "iopub.status.busy": "2020-09-13T12:44:35.513800Z",
     "iopub.status.idle": "2020-09-13T12:44:37.096141Z",
     "shell.execute_reply": "2020-09-13T12:44:37.096669Z"
    },
    "papermill": {
     "duration": 1.618926,
     "end_time": "2020-09-13T12:44:37.096863",
     "exception": false,
     "start_time": "2020-09-13T12:44:35.477937",
     "status": "completed"
    },
    "tags": []
   },
   "outputs": [
    {
     "data": {
      "text/html": [
       "<div>\n",
       "<style scoped>\n",
       "    .dataframe tbody tr th:only-of-type {\n",
       "        vertical-align: middle;\n",
       "    }\n",
       "\n",
       "    .dataframe tbody tr th {\n",
       "        vertical-align: top;\n",
       "    }\n",
       "\n",
       "    .dataframe thead th {\n",
       "        text-align: right;\n",
       "    }\n",
       "</style>\n",
       "<table border=\"1\" class=\"dataframe\">\n",
       "  <thead>\n",
       "    <tr style=\"text-align: right;\">\n",
       "      <th></th>\n",
       "      <th>acct</th>\n",
       "      <th>site_addr_3</th>\n",
       "      <th>school_dist</th>\n",
       "      <th>neighborhood_code</th>\n",
       "      <th>market_area_1_dscr</th>\n",
       "      <th>market_area_2_dscr</th>\n",
       "      <th>center_code</th>\n",
       "      <th>bld_ar</th>\n",
       "      <th>land_ar</th>\n",
       "      <th>acreage</th>\n",
       "      <th>land_val</th>\n",
       "      <th>tot_appr_val</th>\n",
       "      <th>prior_land_val</th>\n",
       "      <th>prior_tot_appr_val</th>\n",
       "      <th>new_own_dt</th>\n",
       "    </tr>\n",
       "  </thead>\n",
       "  <tbody>\n",
       "  </tbody>\n",
       "</table>\n",
       "</div>"
      ],
      "text/plain": [
       "Empty DataFrame\n",
       "Columns: [acct, site_addr_3, school_dist, neighborhood_code, market_area_1_dscr, market_area_2_dscr, center_code, bld_ar, land_ar, acreage, land_val, tot_appr_val, prior_land_val, prior_tot_appr_val, new_own_dt]\n",
       "Index: []"
      ]
     },
     "execution_count": 15,
     "metadata": {},
     "output_type": "execute_result"
    }
   ],
   "source": [
    "cond0 = real_acct_df.duplicated()\n",
    "real_acct_df.loc[cond0, :]"
   ]
  },
  {
   "cell_type": "markdown",
   "metadata": {
    "papermill": {
     "duration": 0.034682,
     "end_time": "2020-09-13T12:44:37.167685",
     "exception": false,
     "start_time": "2020-09-13T12:44:37.133003",
     "status": "completed"
    },
    "tags": []
   },
   "source": [
    "## Zip code: site_addr_3\n",
    "These are the property zip code. They should be non-zero integers. Most should start with 77."
   ]
  },
  {
   "cell_type": "code",
   "execution_count": 16,
   "metadata": {
    "ExecuteTime": {
     "end_time": "2020-07-27T18:49:54.573846Z",
     "start_time": "2020-07-27T18:49:54.477873Z"
    },
    "execution": {
     "iopub.execute_input": "2020-09-13T12:44:37.239026Z",
     "iopub.status.busy": "2020-09-13T12:44:37.238094Z",
     "iopub.status.idle": "2020-09-13T12:44:37.256260Z",
     "shell.execute_reply": "2020-09-13T12:44:37.256732Z"
    },
    "papermill": {
     "duration": 0.055076,
     "end_time": "2020-09-13T12:44:37.256889",
     "exception": false,
     "start_time": "2020-09-13T12:44:37.201813",
     "status": "completed"
    },
    "tags": []
   },
   "outputs": [],
   "source": [
    "# Let's change the column name\n",
    "real_acct_df.rename({'site_addr_3': 'zip_code'}, axis=1, inplace=True)"
   ]
  },
  {
   "cell_type": "code",
   "execution_count": 17,
   "metadata": {
    "ExecuteTime": {
     "end_time": "2020-07-27T18:49:54.876451Z",
     "start_time": "2020-07-27T18:49:54.576399Z"
    },
    "execution": {
     "iopub.execute_input": "2020-09-13T12:44:37.327318Z",
     "iopub.status.busy": "2020-09-13T12:44:37.325944Z",
     "iopub.status.idle": "2020-09-13T12:44:37.581329Z",
     "shell.execute_reply": "2020-09-13T12:44:37.581950Z"
    },
    "papermill": {
     "duration": 0.293237,
     "end_time": "2020-09-13T12:44:37.582175",
     "exception": false,
     "start_time": "2020-09-13T12:44:37.288938",
     "status": "completed"
    },
    "tags": []
   },
   "outputs": [],
   "source": [
    "# there were some empty zip code: ' '\n",
    "real_acct_df['zip_code'] = real_acct_df['zip_code'].apply(lambda code: code if code.startswith('77') else np.nan )"
   ]
  },
  {
   "cell_type": "code",
   "execution_count": 18,
   "metadata": {
    "ExecuteTime": {
     "end_time": "2020-07-27T18:49:55.394093Z",
     "start_time": "2020-07-27T18:49:54.878102Z"
    },
    "execution": {
     "iopub.execute_input": "2020-09-13T12:44:37.656654Z",
     "iopub.status.busy": "2020-09-13T12:44:37.655729Z",
     "iopub.status.idle": "2020-09-13T12:44:38.159644Z",
     "shell.execute_reply": "2020-09-13T12:44:38.160113Z"
    },
    "papermill": {
     "duration": 0.540348,
     "end_time": "2020-09-13T12:44:38.160290",
     "exception": false,
     "start_time": "2020-09-13T12:44:37.619942",
     "status": "completed"
    },
    "tags": []
   },
   "outputs": [],
   "source": [
    "real_acct_df['zip_code'] = pd.to_numeric(real_acct_df['zip_code'], downcast='unsigned')"
   ]
  },
  {
   "cell_type": "code",
   "execution_count": 19,
   "metadata": {
    "ExecuteTime": {
     "end_time": "2020-07-27T18:49:55.424737Z",
     "start_time": "2020-07-27T18:49:55.395624Z"
    },
    "execution": {
     "iopub.execute_input": "2020-09-13T12:44:38.229844Z",
     "iopub.status.busy": "2020-09-13T12:44:38.228927Z",
     "iopub.status.idle": "2020-09-13T12:44:38.252717Z",
     "shell.execute_reply": "2020-09-13T12:44:38.253216Z"
    },
    "papermill": {
     "duration": 0.059985,
     "end_time": "2020-09-13T12:44:38.253380",
     "exception": false,
     "start_time": "2020-09-13T12:44:38.193395",
     "status": "completed"
    },
    "tags": []
   },
   "outputs": [
    {
     "data": {
      "text/plain": [
       "77449.0    30333\n",
       "77084.0    24708\n",
       "77429.0    24006\n",
       "77433.0    23831\n",
       "77379.0    23470\n",
       "           ...  \n",
       "77357.0       99\n",
       "77002.0       87\n",
       "77365.0       73\n",
       "77535.0        7\n",
       "77443.0        4\n",
       "Name: zip_code, Length: 140, dtype: int64"
      ]
     },
     "execution_count": 19,
     "metadata": {},
     "output_type": "execute_result"
    }
   ],
   "source": [
    "real_acct_df['zip_code'].value_counts()"
   ]
  },
  {
   "cell_type": "code",
   "execution_count": 20,
   "metadata": {
    "ExecuteTime": {
     "end_time": "2020-07-27T18:49:55.486267Z",
     "start_time": "2020-07-27T18:49:55.427294Z"
    },
    "execution": {
     "iopub.execute_input": "2020-09-13T12:44:38.323591Z",
     "iopub.status.busy": "2020-09-13T12:44:38.322693Z",
     "iopub.status.idle": "2020-09-13T12:44:38.374166Z",
     "shell.execute_reply": "2020-09-13T12:44:38.374691Z"
    },
    "papermill": {
     "duration": 0.088312,
     "end_time": "2020-09-13T12:44:38.374867",
     "exception": false,
     "start_time": "2020-09-13T12:44:38.286555",
     "status": "completed"
    },
    "tags": []
   },
   "outputs": [
    {
     "data": {
      "text/plain": [
       "count    957645.000000\n",
       "mean      77205.187268\n",
       "std         194.750499\n",
       "min       77002.000000\n",
       "25%       77045.000000\n",
       "50%       77085.000000\n",
       "75%       77389.000000\n",
       "max       77598.000000\n",
       "Name: zip_code, dtype: float64"
      ]
     },
     "execution_count": 20,
     "metadata": {},
     "output_type": "execute_result"
    }
   ],
   "source": [
    "real_acct_df['zip_code'].describe()"
   ]
  },
  {
   "cell_type": "code",
   "execution_count": 21,
   "metadata": {
    "ExecuteTime": {
     "end_time": "2020-07-27T18:49:55.638534Z",
     "start_time": "2020-07-27T18:49:55.488367Z"
    },
    "execution": {
     "iopub.execute_input": "2020-09-13T12:44:38.447364Z",
     "iopub.status.busy": "2020-09-13T12:44:38.446812Z",
     "iopub.status.idle": "2020-09-13T12:44:38.539612Z",
     "shell.execute_reply": "2020-09-13T12:44:38.540252Z"
    },
    "papermill": {
     "duration": 0.13045,
     "end_time": "2020-09-13T12:44:38.540407",
     "exception": false,
     "start_time": "2020-09-13T12:44:38.409957",
     "status": "completed"
    },
    "tags": []
   },
   "outputs": [
    {
     "name": "stdout",
     "output_type": "stream",
     "text": [
      "The number of missing values is: 46\n"
     ]
    }
   ],
   "source": [
    "print(f\"The number of missing values is: {sum(real_acct_df['zip_code'].isnull())}\")"
   ]
  },
  {
   "cell_type": "markdown",
   "metadata": {
    "papermill": {
     "duration": 0.033488,
     "end_time": "2020-09-13T12:44:38.606904",
     "exception": false,
     "start_time": "2020-09-13T12:44:38.573416",
     "status": "completed"
    },
    "tags": []
   },
   "source": [
    "## School district: school_dist\n",
    "The school district values come coded as two digit integers. There are a few numbers missing from the code sequence, i.e. 10, 11, 13, 14, and 22. This is consistent with the ISD codes in the `code_jur_list` table. Let's decode the school district values using this table, but first let's represent the missing data with NaNs."
   ]
  },
  {
   "cell_type": "code",
   "execution_count": 22,
   "metadata": {
    "ExecuteTime": {
     "end_time": "2020-07-27T18:49:55.651395Z",
     "start_time": "2020-07-27T18:49:55.640461Z"
    },
    "execution": {
     "iopub.execute_input": "2020-09-13T12:44:38.679959Z",
     "iopub.status.busy": "2020-09-13T12:44:38.679375Z",
     "iopub.status.idle": "2020-09-13T12:44:38.695829Z",
     "shell.execute_reply": "2020-09-13T12:44:38.696243Z"
    },
    "papermill": {
     "duration": 0.055,
     "end_time": "2020-09-13T12:44:38.696408",
     "exception": false,
     "start_time": "2020-09-13T12:44:38.641408",
     "status": "completed"
    },
    "tags": []
   },
   "outputs": [],
   "source": [
    "from src.data.utils import decode_isd"
   ]
  },
  {
   "cell_type": "code",
   "execution_count": 23,
   "metadata": {
    "ExecuteTime": {
     "end_time": "2020-07-27T18:49:55.671105Z",
     "start_time": "2020-07-27T18:49:55.655369Z"
    },
    "execution": {
     "iopub.execute_input": "2020-09-13T12:44:38.768894Z",
     "iopub.status.busy": "2020-09-13T12:44:38.768347Z",
     "iopub.status.idle": "2020-09-13T12:44:38.788538Z",
     "shell.execute_reply": "2020-09-13T12:44:38.789227Z"
    },
    "papermill": {
     "duration": 0.059664,
     "end_time": "2020-09-13T12:44:38.789439",
     "exception": false,
     "start_time": "2020-09-13T12:44:38.729775",
     "status": "completed"
    },
    "tags": []
   },
   "outputs": [
    {
     "data": {
      "text/plain": [
       "0    01   \n",
       "1    01   \n",
       "2    01   \n",
       "3    01   \n",
       "4    01   \n",
       "Name: school_dist, dtype: object"
      ]
     },
     "execution_count": 23,
     "metadata": {},
     "output_type": "execute_result"
    }
   ],
   "source": [
    "real_acct_df['school_dist'].head()"
   ]
  },
  {
   "cell_type": "code",
   "execution_count": 24,
   "metadata": {
    "ExecuteTime": {
     "end_time": "2020-07-27T18:49:56.648205Z",
     "start_time": "2020-07-27T18:49:55.673884Z"
    },
    "execution": {
     "iopub.execute_input": "2020-09-13T12:44:38.893701Z",
     "iopub.status.busy": "2020-09-13T12:44:38.892790Z",
     "iopub.status.idle": "2020-09-13T12:44:40.542702Z",
     "shell.execute_reply": "2020-09-13T12:44:40.543375Z"
    },
    "papermill": {
     "duration": 1.690019,
     "end_time": "2020-09-13T12:44:40.543613",
     "exception": false,
     "start_time": "2020-09-13T12:44:38.853594",
     "status": "completed"
    },
    "tags": []
   },
   "outputs": [],
   "source": [
    "real_acct_df['school_dist'] = decode_isd(real_acct_df['school_dist'])"
   ]
  },
  {
   "cell_type": "code",
   "execution_count": 25,
   "metadata": {
    "ExecuteTime": {
     "end_time": "2020-07-27T18:49:56.747443Z",
     "start_time": "2020-07-27T18:49:56.649673Z"
    },
    "execution": {
     "iopub.execute_input": "2020-09-13T12:44:40.631638Z",
     "iopub.status.busy": "2020-09-13T12:44:40.630117Z",
     "iopub.status.idle": "2020-09-13T12:44:40.740384Z",
     "shell.execute_reply": "2020-09-13T12:44:40.740825Z"
    },
    "papermill": {
     "duration": 0.148512,
     "end_time": "2020-09-13T12:44:40.741003",
     "exception": false,
     "start_time": "2020-09-13T12:44:40.592491",
     "status": "completed"
    },
    "tags": []
   },
   "outputs": [
    {
     "data": {
      "text/plain": [
       "HOUSTON ISD                     0.281761\n",
       "CYPRESS-FAIRBANKS ISD           0.154690\n",
       "KLEIN ISD                       0.073475\n",
       "HUMBLE ISD                      0.057477\n",
       "KATY ISD                        0.053951\n",
       "ALDINE ISD                      0.053262\n",
       "PASADENA ISD                    0.051970\n",
       "SPRING ISD                      0.042361\n",
       "CLEAR CREEK ISD                 0.037231\n",
       "ALIEF ISD                       0.035638\n",
       "SPRING BRANCH ISD               0.033610\n",
       "GOOSE CREEK CISD                0.024351\n",
       "TOMBALL ISD                     0.020237\n",
       "GALENA PARK ISD                 0.018560\n",
       "DEER PARK ISD                   0.014386\n",
       "LA PORTE ISD                    0.013354\n",
       "CHANNELVIEW ISD                 0.008916\n",
       "SHELDON ISD                     0.008255\n",
       "CROSBY ISD                      0.007619\n",
       "HUFFMAN ISD                     0.004609\n",
       "WALLER ISD                      0.003125\n",
       "PEARLAND ISD                    0.000662\n",
       "NEW CANEY ISD                   0.000403\n",
       "STAFFORD MSD                    0.000089\n",
       "DAYTON ISD                      0.000008\n",
       "HOUSTON ISD (FORMERLY NFISD)    0.000001\n",
       "Name: school_dist, dtype: float64"
      ]
     },
     "execution_count": 25,
     "metadata": {},
     "output_type": "execute_result"
    }
   ],
   "source": [
    "real_acct_df['school_dist'].value_counts(normalize=True)"
   ]
  },
  {
   "cell_type": "code",
   "execution_count": 26,
   "metadata": {
    "ExecuteTime": {
     "end_time": "2020-07-27T18:49:56.884390Z",
     "start_time": "2020-07-27T18:49:56.749271Z"
    },
    "execution": {
     "iopub.execute_input": "2020-09-13T12:44:40.816005Z",
     "iopub.status.busy": "2020-09-13T12:44:40.815048Z",
     "iopub.status.idle": "2020-09-13T12:44:40.981346Z",
     "shell.execute_reply": "2020-09-13T12:44:40.981982Z"
    },
    "papermill": {
     "duration": 0.206561,
     "end_time": "2020-09-13T12:44:40.982137",
     "exception": false,
     "start_time": "2020-09-13T12:44:40.775576",
     "status": "completed"
    },
    "tags": []
   },
   "outputs": [
    {
     "name": "stdout",
     "output_type": "stream",
     "text": [
      "The number of missing values is: 55\n"
     ]
    }
   ],
   "source": [
    "print(f\"The number of missing values is: {sum(real_acct_df['school_dist'].isnull())}\")"
   ]
  },
  {
   "cell_type": "markdown",
   "metadata": {
    "papermill": {
     "duration": 0.03551,
     "end_time": "2020-09-13T12:44:41.052232",
     "exception": false,
     "start_time": "2020-09-13T12:44:41.016722",
     "status": "completed"
    },
    "tags": []
   },
   "source": [
    "## neighborhood_code\n",
    "\n",
    "From [Definition help](https://pdata.hcad.org/Desc/Definition_help.pdf) file:\n",
    "> Residential valuation neighborhoods are groups of comparable properties whose\n",
    "boundaries were developed based on location and similarity of property data\n",
    "characteristics. Each neighborhood in a school district has a unique identifier known as a\n",
    "residential valuation number. These neighborhood boundaries are maintained via an ongoing office and field review. As neighborhoods change, neighborhood lines are redrawn\n",
    "to reflect the changes, and maintain the homogeneity of the neighborhood. "
   ]
  },
  {
   "cell_type": "code",
   "execution_count": 27,
   "metadata": {
    "ExecuteTime": {
     "end_time": "2020-07-27T18:49:56.919547Z",
     "start_time": "2020-07-27T18:49:56.886701Z"
    },
    "execution": {
     "iopub.execute_input": "2020-09-13T12:44:41.127973Z",
     "iopub.status.busy": "2020-09-13T12:44:41.127078Z",
     "iopub.status.idle": "2020-09-13T12:44:41.138274Z",
     "shell.execute_reply": "2020-09-13T12:44:41.138844Z"
    },
    "papermill": {
     "duration": 0.050828,
     "end_time": "2020-09-13T12:44:41.139070",
     "exception": false,
     "start_time": "2020-09-13T12:44:41.088242",
     "status": "completed"
    },
    "tags": []
   },
   "outputs": [],
   "source": [
    "from src.data.utils import decode_nhood"
   ]
  },
  {
   "cell_type": "code",
   "execution_count": 28,
   "metadata": {
    "ExecuteTime": {
     "end_time": "2020-07-27T18:50:41.348286Z",
     "start_time": "2020-07-27T18:49:56.922009Z"
    },
    "execution": {
     "iopub.execute_input": "2020-09-13T12:44:41.215081Z",
     "iopub.status.busy": "2020-09-13T12:44:41.214203Z",
     "iopub.status.idle": "2020-09-13T12:45:46.586901Z",
     "shell.execute_reply": "2020-09-13T12:45:46.587453Z"
    },
    "papermill": {
     "duration": 65.413156,
     "end_time": "2020-09-13T12:45:46.587627",
     "exception": false,
     "start_time": "2020-09-13T12:44:41.174471",
     "status": "completed"
    },
    "tags": []
   },
   "outputs": [
    {
     "name": "stdout",
     "output_type": "stream",
     "text": [
      "No description for code: 9831.06\n"
     ]
    }
   ],
   "source": [
    "real_acct_df['neighborhood_code'] = decode_nhood(real_acct_df['neighborhood_code'])"
   ]
  },
  {
   "cell_type": "code",
   "execution_count": 29,
   "metadata": {
    "ExecuteTime": {
     "end_time": "2020-07-27T18:50:41.473782Z",
     "start_time": "2020-07-27T18:50:41.350490Z"
    },
    "execution": {
     "iopub.execute_input": "2020-09-13T12:45:46.674854Z",
     "iopub.status.busy": "2020-09-13T12:45:46.673983Z",
     "iopub.status.idle": "2020-09-13T12:45:46.798577Z",
     "shell.execute_reply": "2020-09-13T12:45:46.799321Z"
    },
    "papermill": {
     "duration": 0.172113,
     "end_time": "2020-09-13T12:45:46.799483",
     "exception": false,
     "start_time": "2020-09-13T12:45:46.627370",
     "status": "completed"
    },
    "tags": []
   },
   "outputs": [
    {
     "data": {
      "text/plain": [
       "M/R                              0.004535\n",
       "OAK MEADOWS                      0.002035\n",
       "RED BLUFF  TERRACE SEC 1-7       0.001802\n",
       "HOUSTON HEIGHTS                  0.001684\n",
       "BEAR CREEK VLG 2,3,4,6/OTHERS    0.001617\n",
       "                                   ...   \n",
       "MEMORIAL ASHFORD T/H             0.000001\n",
       "HOU. SURBURBAN GDNS.             0.000001\n",
       "GRANT PLAZA U/R                  0.000001\n",
       "MEMORIAL WAY T/H                 0.000001\n",
       "SILVER MEADOWS T/H               0.000001\n",
       "Name: neighborhood_code, Length: 6015, dtype: float64"
      ]
     },
     "execution_count": 29,
     "metadata": {},
     "output_type": "execute_result"
    }
   ],
   "source": [
    "real_acct_df['neighborhood_code'].value_counts(normalize=True)"
   ]
  },
  {
   "cell_type": "code",
   "execution_count": 30,
   "metadata": {
    "ExecuteTime": {
     "end_time": "2020-07-27T18:50:41.629238Z",
     "start_time": "2020-07-27T18:50:41.478066Z"
    },
    "execution": {
     "iopub.execute_input": "2020-09-13T12:45:46.878929Z",
     "iopub.status.busy": "2020-09-13T12:45:46.878012Z",
     "iopub.status.idle": "2020-09-13T12:45:47.042743Z",
     "shell.execute_reply": "2020-09-13T12:45:47.043138Z"
    },
    "papermill": {
     "duration": 0.208026,
     "end_time": "2020-09-13T12:45:47.043300",
     "exception": false,
     "start_time": "2020-09-13T12:45:46.835274",
     "status": "completed"
    },
    "tags": []
   },
   "outputs": [
    {
     "name": "stdout",
     "output_type": "stream",
     "text": [
      "The number of missing values is: 1\n"
     ]
    }
   ],
   "source": [
    "print(f\"The number of missing values is: {sum(real_acct_df['neighborhood_code'].isnull())}\")"
   ]
  },
  {
   "cell_type": "markdown",
   "metadata": {
    "papermill": {
     "duration": 0.046268,
     "end_time": "2020-09-13T12:45:47.142657",
     "exception": false,
     "start_time": "2020-09-13T12:45:47.096389",
     "status": "completed"
    },
    "tags": []
   },
   "source": [
    "## Market area description: market_area_1_dscr"
   ]
  },
  {
   "cell_type": "code",
   "execution_count": 31,
   "metadata": {
    "ExecuteTime": {
     "end_time": "2020-07-27T18:50:41.726891Z",
     "start_time": "2020-07-27T18:50:41.631845Z"
    },
    "execution": {
     "iopub.execute_input": "2020-09-13T12:45:47.221093Z",
     "iopub.status.busy": "2020-09-13T12:45:47.220221Z",
     "iopub.status.idle": "2020-09-13T12:45:47.305251Z",
     "shell.execute_reply": "2020-09-13T12:45:47.305662Z"
    },
    "papermill": {
     "duration": 0.126174,
     "end_time": "2020-09-13T12:45:47.305823",
     "exception": false,
     "start_time": "2020-09-13T12:45:47.179649",
     "status": "completed"
    },
    "tags": []
   },
   "outputs": [
    {
     "data": {
      "text/plain": [
       "ISD 17 - Klein ISD                                    0.073422\n",
       "ISD 21 - Pasadena ISD                                 0.052091\n",
       "ISD 04 - Far Northwest, Outside Hwy 6                 0.049492\n",
       "1C South of Old Spanish Trail btwn SH 288 and I-45    0.041510\n",
       "ISD 04 - Far West, South of US 290/North of FM 529    0.035591\n",
       "                                                        ...   \n",
       "ISD 29 - Pearland ISD                                 0.000662\n",
       "ISD 07 - New Caney ISD                                0.000403\n",
       "ISD 31 - Stafford MSD                                 0.000088\n",
       "ISD 28 - Dayton ISD                                   0.000006\n",
       "FM 1960 West                                          0.000001\n",
       "Name: market_area_2_dscr, Length: 72, dtype: float64"
      ]
     },
     "execution_count": 31,
     "metadata": {},
     "output_type": "execute_result"
    }
   ],
   "source": [
    "real_acct_df['market_area_2_dscr'].value_counts(normalize=True)"
   ]
  },
  {
   "cell_type": "code",
   "execution_count": 32,
   "metadata": {
    "ExecuteTime": {
     "end_time": "2020-07-27T18:50:42.295582Z",
     "start_time": "2020-07-27T18:50:41.730191Z"
    },
    "execution": {
     "iopub.execute_input": "2020-09-13T12:45:47.384368Z",
     "iopub.status.busy": "2020-09-13T12:45:47.383795Z",
     "iopub.status.idle": "2020-09-13T12:45:48.032842Z",
     "shell.execute_reply": "2020-09-13T12:45:48.033492Z"
    },
    "papermill": {
     "duration": 0.691673,
     "end_time": "2020-09-13T12:45:48.033733",
     "exception": false,
     "start_time": "2020-09-13T12:45:47.342060",
     "status": "completed"
    },
    "tags": []
   },
   "outputs": [
    {
     "data": {
      "text/html": [
       "<div>\n",
       "<style scoped>\n",
       "    .dataframe tbody tr th:only-of-type {\n",
       "        vertical-align: middle;\n",
       "    }\n",
       "\n",
       "    .dataframe tbody tr th {\n",
       "        vertical-align: top;\n",
       "    }\n",
       "\n",
       "    .dataframe thead th {\n",
       "        text-align: right;\n",
       "    }\n",
       "</style>\n",
       "<table border=\"1\" class=\"dataframe\">\n",
       "  <thead>\n",
       "    <tr style=\"text-align: right;\">\n",
       "      <th></th>\n",
       "      <th>acct</th>\n",
       "      <th>zip_code</th>\n",
       "      <th>school_dist</th>\n",
       "      <th>neighborhood_code</th>\n",
       "      <th>market_area_1_dscr</th>\n",
       "      <th>market_area_2_dscr</th>\n",
       "      <th>center_code</th>\n",
       "      <th>bld_ar</th>\n",
       "      <th>land_ar</th>\n",
       "      <th>acreage</th>\n",
       "      <th>land_val</th>\n",
       "      <th>tot_appr_val</th>\n",
       "      <th>prior_land_val</th>\n",
       "      <th>prior_tot_appr_val</th>\n",
       "      <th>new_own_dt</th>\n",
       "    </tr>\n",
       "  </thead>\n",
       "  <tbody>\n",
       "  </tbody>\n",
       "</table>\n",
       "</div>"
      ],
      "text/plain": [
       "Empty DataFrame\n",
       "Columns: [acct, zip_code, school_dist, neighborhood_code, market_area_1_dscr, market_area_2_dscr, center_code, bld_ar, land_ar, acreage, land_val, tot_appr_val, prior_land_val, prior_tot_appr_val, new_own_dt]\n",
       "Index: []"
      ]
     },
     "execution_count": 32,
     "metadata": {},
     "output_type": "execute_result"
    }
   ],
   "source": [
    "cond0 = real_acct_df['market_area_2_dscr'].str.strip() == ''\n",
    "real_acct_df.loc[cond0, :]"
   ]
  },
  {
   "cell_type": "code",
   "execution_count": 33,
   "metadata": {
    "ExecuteTime": {
     "end_time": "2020-07-27T18:50:42.453457Z",
     "start_time": "2020-07-27T18:50:42.297393Z"
    },
    "execution": {
     "iopub.execute_input": "2020-09-13T12:45:48.116846Z",
     "iopub.status.busy": "2020-09-13T12:45:48.115929Z",
     "iopub.status.idle": "2020-09-13T12:45:48.241334Z",
     "shell.execute_reply": "2020-09-13T12:45:48.241775Z"
    },
    "papermill": {
     "duration": 0.167605,
     "end_time": "2020-09-13T12:45:48.241933",
     "exception": false,
     "start_time": "2020-09-13T12:45:48.074328",
     "status": "completed"
    },
    "tags": []
   },
   "outputs": [
    {
     "name": "stdout",
     "output_type": "stream",
     "text": [
      "The number of missing values is: 0\n"
     ]
    }
   ],
   "source": [
    "print(f\"The number of missing values is: {sum(real_acct_df['market_area_2_dscr'].isnull())}\")"
   ]
  },
  {
   "cell_type": "markdown",
   "metadata": {
    "papermill": {
     "duration": 0.038843,
     "end_time": "2020-09-13T12:45:48.317854",
     "exception": false,
     "start_time": "2020-09-13T12:45:48.279011",
     "status": "completed"
    },
    "tags": []
   },
   "source": [
    "## center_code\n",
    "From [Definition help](https://pdata.hcad.org/Desc/Definition_help.pdf) file:\n",
    "> The center code indicates the individual (HCAD employee or contractor) that is\n",
    "responsible for working and valuing the property account."
   ]
  },
  {
   "cell_type": "code",
   "execution_count": 34,
   "metadata": {
    "ExecuteTime": {
     "end_time": "2020-07-27T18:50:42.590382Z",
     "start_time": "2020-07-27T18:50:42.455419Z"
    },
    "execution": {
     "iopub.execute_input": "2020-09-13T12:45:48.398710Z",
     "iopub.status.busy": "2020-09-13T12:45:48.397817Z",
     "iopub.status.idle": "2020-09-13T12:45:48.506320Z",
     "shell.execute_reply": "2020-09-13T12:45:48.506982Z"
    },
    "papermill": {
     "duration": 0.150791,
     "end_time": "2020-09-13T12:45:48.507195",
     "exception": false,
     "start_time": "2020-09-13T12:45:48.356404",
     "status": "completed"
    },
    "tags": []
   },
   "outputs": [
    {
     "data": {
      "text/plain": [
       "10       148162\n",
       "61       118331\n",
       "50        99013\n",
       "72        92252\n",
       "20        92175\n",
       "90        85802\n",
       "40        78670\n",
       "60        65816\n",
       "30        58467\n",
       "80        35301\n",
       "70        32177\n",
       "71        29435\n",
       "81        20504\n",
       "32         1092\n",
       "            378\n",
       "33           50\n",
       "CC           16\n",
       "27           15\n",
       "21            9\n",
       "45            9\n",
       "22            3\n",
       "51            3\n",
       "25            3\n",
       "43            2\n",
       "RB            2\n",
       "35            1\n",
       "28            1\n",
       "62            1\n",
       "NV            1\n",
       "Name: center_code, dtype: int64"
      ]
     },
     "execution_count": 34,
     "metadata": {},
     "output_type": "execute_result"
    }
   ],
   "source": [
    "real_acct_df['center_code'].value_counts()"
   ]
  },
  {
   "cell_type": "code",
   "execution_count": 35,
   "metadata": {
    "ExecuteTime": {
     "end_time": "2020-07-27T18:50:42.771642Z",
     "start_time": "2020-07-27T18:50:42.592185Z"
    },
    "execution": {
     "iopub.execute_input": "2020-09-13T12:45:48.609346Z",
     "iopub.status.busy": "2020-09-13T12:45:48.608768Z",
     "iopub.status.idle": "2020-09-13T12:45:48.804972Z",
     "shell.execute_reply": "2020-09-13T12:45:48.805527Z"
    },
    "papermill": {
     "duration": 0.240193,
     "end_time": "2020-09-13T12:45:48.805699",
     "exception": false,
     "start_time": "2020-09-13T12:45:48.565506",
     "status": "completed"
    },
    "tags": []
   },
   "outputs": [],
   "source": [
    "real_acct_df['center_code'] = real_acct_df['center_code'].apply(lambda x: np.nan if x.isspace() else x)"
   ]
  },
  {
   "cell_type": "code",
   "execution_count": 36,
   "metadata": {
    "ExecuteTime": {
     "end_time": "2020-07-27T18:50:42.915117Z",
     "start_time": "2020-07-27T18:50:42.775961Z"
    },
    "execution": {
     "iopub.execute_input": "2020-09-13T12:45:48.886869Z",
     "iopub.status.busy": "2020-09-13T12:45:48.885962Z",
     "iopub.status.idle": "2020-09-13T12:45:49.017609Z",
     "shell.execute_reply": "2020-09-13T12:45:49.017146Z"
    },
    "papermill": {
     "duration": 0.174209,
     "end_time": "2020-09-13T12:45:49.017737",
     "exception": false,
     "start_time": "2020-09-13T12:45:48.843528",
     "status": "completed"
    },
    "tags": []
   },
   "outputs": [
    {
     "name": "stdout",
     "output_type": "stream",
     "text": [
      "The number of missing values is: 378\n"
     ]
    }
   ],
   "source": [
    "print(f\"The number of missing values is: {sum(real_acct_df['center_code'].isnull())}\")"
   ]
  },
  {
   "cell_type": "markdown",
   "metadata": {
    "papermill": {
     "duration": 0.03893,
     "end_time": "2020-09-13T12:45:49.094634",
     "exception": false,
     "start_time": "2020-09-13T12:45:49.055704",
     "status": "completed"
    },
    "tags": []
   },
   "source": [
    "## Building area: 'bld_ar'\n",
    "This seems to be the total area occupied by buildings in the parcel. It possibly includes non-livable buildings like barns, sheds, and other outbuildings."
   ]
  },
  {
   "cell_type": "code",
   "execution_count": 37,
   "metadata": {
    "ExecuteTime": {
     "end_time": "2020-07-27T18:50:42.928118Z",
     "start_time": "2020-07-27T18:50:42.916981Z"
    },
    "execution": {
     "iopub.execute_input": "2020-09-13T12:45:49.177995Z",
     "iopub.status.busy": "2020-09-13T12:45:49.176414Z",
     "iopub.status.idle": "2020-09-13T12:45:49.194630Z",
     "shell.execute_reply": "2020-09-13T12:45:49.194054Z"
    },
    "papermill": {
     "duration": 0.059701,
     "end_time": "2020-09-13T12:45:49.194765",
     "exception": false,
     "start_time": "2020-09-13T12:45:49.135064",
     "status": "completed"
    },
    "tags": []
   },
   "outputs": [],
   "source": [
    "from src.data.utils import fix_area_column"
   ]
  },
  {
   "cell_type": "code",
   "execution_count": 38,
   "metadata": {
    "ExecuteTime": {
     "end_time": "2020-07-27T18:50:43.444481Z",
     "start_time": "2020-07-27T18:50:42.929841Z"
    },
    "execution": {
     "iopub.execute_input": "2020-09-13T12:45:49.276407Z",
     "iopub.status.busy": "2020-09-13T12:45:49.275521Z",
     "iopub.status.idle": "2020-09-13T12:45:49.805001Z",
     "shell.execute_reply": "2020-09-13T12:45:49.804215Z"
    },
    "papermill": {
     "duration": 0.572448,
     "end_time": "2020-09-13T12:45:49.805217",
     "exception": false,
     "start_time": "2020-09-13T12:45:49.232769",
     "status": "completed"
    },
    "tags": []
   },
   "outputs": [
    {
     "name": "stdout",
     "output_type": "stream",
     "text": [
      "Values less than 100 sqft: 7\n",
      "1917      0\n",
      "31801     0\n",
      "47618     0\n",
      "131847    0\n",
      "131881    0\n",
      "148243    0\n",
      "165247    0\n",
      "Name: bld_ar, dtype: uint16\n"
     ]
    },
    {
     "name": "stdout",
     "output_type": "stream",
     "text": [
      "Since the column contains NaNs, it can't be casted as int type\n",
      "\n",
      "\n",
      "The new data type is: float64\n",
      "\n",
      "\n",
      "The number of null values is: 7\n",
      "\n",
      "\n",
      "bld_ar description:\n",
      "count    957684.000000\n",
      "mean       2112.095100\n",
      "std         954.911264\n",
      "min         120.000000\n",
      "25%        1464.000000\n",
      "50%        1906.000000\n",
      "75%        2537.000000\n",
      "max       26401.000000\n",
      "Name: bld_ar, dtype: float64\n"
     ]
    }
   ],
   "source": [
    "real_acct_df = fix_area_column(real_acct_df, 'bld_ar')"
   ]
  },
  {
   "cell_type": "markdown",
   "metadata": {
    "papermill": {
     "duration": 0.040751,
     "end_time": "2020-09-13T12:45:49.890849",
     "exception": false,
     "start_time": "2020-09-13T12:45:49.850098",
     "status": "completed"
    },
    "tags": []
   },
   "source": [
    "## Land area: land_ar\n",
    "Land area in square feet."
   ]
  },
  {
   "cell_type": "code",
   "execution_count": 39,
   "metadata": {
    "ExecuteTime": {
     "end_time": "2020-07-27T18:50:43.982304Z",
     "start_time": "2020-07-27T18:50:43.446374Z"
    },
    "execution": {
     "iopub.execute_input": "2020-09-13T12:45:49.986251Z",
     "iopub.status.busy": "2020-09-13T12:45:49.985378Z",
     "iopub.status.idle": "2020-09-13T12:45:50.511400Z",
     "shell.execute_reply": "2020-09-13T12:45:50.512128Z"
    },
    "papermill": {
     "duration": 0.581363,
     "end_time": "2020-09-13T12:45:50.512369",
     "exception": false,
     "start_time": "2020-09-13T12:45:49.931006",
     "status": "completed"
    },
    "tags": []
   },
   "outputs": [
    {
     "name": "stdout",
     "output_type": "stream",
     "text": [
      "Values less than 100 sqft: 1032\n",
      "771       0\n",
      "1584      0\n",
      "2088      0\n",
      "4481      0\n",
      "5135      0\n",
      "         ..\n",
      "956217    0\n",
      "956235    0\n",
      "956371    0\n",
      "956409    0\n",
      "957244    0\n",
      "Name: land_ar, Length: 1032, dtype: uint64\n"
     ]
    },
    {
     "name": "stdout",
     "output_type": "stream",
     "text": [
      "Since the column contains NaNs, it can't be casted as int type\n",
      "\n",
      "\n",
      "The new data type is: float64\n",
      "\n",
      "\n",
      "The number of null values is: 1032\n",
      "\n",
      "\n",
      "land_ar description:\n",
      "count    9.566590e+05\n",
      "mean     1.653732e+04\n",
      "std      4.844536e+06\n",
      "min      3.510000e+02\n",
      "25%      6.086000e+03\n",
      "50%      7.360000e+03\n",
      "75%      9.340000e+03\n",
      "max      4.544441e+09\n",
      "Name: land_ar, dtype: float64\n"
     ]
    }
   ],
   "source": [
    "real_acct_df = fix_area_column(real_acct_df, 'land_ar')"
   ]
  },
  {
   "cell_type": "markdown",
   "metadata": {
    "papermill": {
     "duration": 0.053683,
     "end_time": "2020-09-13T12:45:50.611618",
     "exception": false,
     "start_time": "2020-09-13T12:45:50.557935",
     "status": "completed"
    },
    "tags": []
   },
   "source": [
    "## Land appraised value: land_val\n",
    "Appraised value of the land. It is represented in US dollars, should integers unless there are NaNs. "
   ]
  },
  {
   "cell_type": "code",
   "execution_count": 40,
   "metadata": {
    "ExecuteTime": {
     "end_time": "2020-07-27T18:50:43.998788Z",
     "start_time": "2020-07-27T18:50:43.984274Z"
    },
    "execution": {
     "iopub.execute_input": "2020-09-13T12:45:50.737973Z",
     "iopub.status.busy": "2020-09-13T12:45:50.737257Z",
     "iopub.status.idle": "2020-09-13T12:45:50.757385Z",
     "shell.execute_reply": "2020-09-13T12:45:50.757815Z"
    },
    "papermill": {
     "duration": 0.075326,
     "end_time": "2020-09-13T12:45:50.757982",
     "exception": false,
     "start_time": "2020-09-13T12:45:50.682656",
     "status": "completed"
    },
    "tags": []
   },
   "outputs": [
    {
     "data": {
      "text/plain": [
       "0    125000.0\n",
       "1     74900.0\n",
       "2    125000.0\n",
       "3    125000.0\n",
       "4    140625.0\n",
       "Name: land_val, dtype: float64"
      ]
     },
     "execution_count": 40,
     "metadata": {},
     "output_type": "execute_result"
    }
   ],
   "source": [
    "real_acct_df['land_val'].head()"
   ]
  },
  {
   "cell_type": "code",
   "execution_count": 41,
   "metadata": {
    "ExecuteTime": {
     "end_time": "2020-07-27T18:50:44.105572Z",
     "start_time": "2020-07-27T18:50:44.000776Z"
    },
    "execution": {
     "iopub.execute_input": "2020-09-13T12:45:50.843991Z",
     "iopub.status.busy": "2020-09-13T12:45:50.843434Z",
     "iopub.status.idle": "2020-09-13T12:45:50.970271Z",
     "shell.execute_reply": "2020-09-13T12:45:50.969830Z"
    },
    "papermill": {
     "duration": 0.171761,
     "end_time": "2020-09-13T12:45:50.970415",
     "exception": false,
     "start_time": "2020-09-13T12:45:50.798654",
     "status": "completed"
    },
    "tags": []
   },
   "outputs": [
    {
     "name": "stdout",
     "output_type": "stream",
     "text": [
      "The number of missing values is: 4\n"
     ]
    }
   ],
   "source": [
    "print(f\"The number of missing values is: {sum(real_acct_df['land_val'].isnull())}\")"
   ]
  },
  {
   "cell_type": "code",
   "execution_count": 42,
   "metadata": {
    "ExecuteTime": {
     "end_time": "2020-07-27T18:50:44.167261Z",
     "start_time": "2020-07-27T18:50:44.107487Z"
    },
    "execution": {
     "iopub.execute_input": "2020-09-13T12:45:51.055995Z",
     "iopub.status.busy": "2020-09-13T12:45:51.055440Z",
     "iopub.status.idle": "2020-09-13T12:45:51.121212Z",
     "shell.execute_reply": "2020-09-13T12:45:51.120252Z"
    },
    "papermill": {
     "duration": 0.110843,
     "end_time": "2020-09-13T12:45:51.121394",
     "exception": false,
     "start_time": "2020-09-13T12:45:51.010551",
     "status": "completed"
    },
    "tags": []
   },
   "outputs": [
    {
     "data": {
      "text/plain": [
       "count      957687.000000\n",
       "mean        74993.389017\n",
       "std        175567.440264\n",
       "min             0.000000\n",
       "25%         19961.000000\n",
       "50%         27431.000000\n",
       "75%         48307.500000\n",
       "max      14598650.000000\n",
       "Name: land_val, dtype: object"
      ]
     },
     "execution_count": 42,
     "metadata": {},
     "output_type": "execute_result"
    }
   ],
   "source": [
    "real_acct_df['land_val'].describe().apply(lambda x: format(x, 'f'))"
   ]
  },
  {
   "cell_type": "markdown",
   "metadata": {
    "papermill": {
     "duration": 0.042066,
     "end_time": "2020-09-13T12:45:51.213840",
     "exception": false,
     "start_time": "2020-09-13T12:45:51.171774",
     "status": "completed"
    },
    "tags": []
   },
   "source": [
    "## Total appraised value: tot_appr_val\n",
    "This is the target to be predicted. It is represented in US dollars, should integers unless there are NaNs. "
   ]
  },
  {
   "cell_type": "code",
   "execution_count": 43,
   "metadata": {
    "ExecuteTime": {
     "end_time": "2020-07-27T18:50:44.179184Z",
     "start_time": "2020-07-27T18:50:44.168726Z"
    },
    "execution": {
     "iopub.execute_input": "2020-09-13T12:45:51.301659Z",
     "iopub.status.busy": "2020-09-13T12:45:51.301120Z",
     "iopub.status.idle": "2020-09-13T12:45:51.318216Z",
     "shell.execute_reply": "2020-09-13T12:45:51.318750Z"
    },
    "papermill": {
     "duration": 0.063069,
     "end_time": "2020-09-13T12:45:51.318916",
     "exception": false,
     "start_time": "2020-09-13T12:45:51.255847",
     "status": "completed"
    },
    "tags": []
   },
   "outputs": [],
   "source": [
    "from src.data.utils import fix_appraised_values"
   ]
  },
  {
   "cell_type": "code",
   "execution_count": 44,
   "metadata": {
    "ExecuteTime": {
     "end_time": "2020-07-27T18:50:44.369805Z",
     "start_time": "2020-07-27T18:50:44.181062Z"
    },
    "execution": {
     "iopub.execute_input": "2020-09-13T12:45:51.404126Z",
     "iopub.status.busy": "2020-09-13T12:45:51.403506Z",
     "iopub.status.idle": "2020-09-13T12:45:51.572730Z",
     "shell.execute_reply": "2020-09-13T12:45:51.572033Z"
    },
    "papermill": {
     "duration": 0.214078,
     "end_time": "2020-09-13T12:45:51.572873",
     "exception": false,
     "start_time": "2020-09-13T12:45:51.358795",
     "status": "completed"
    },
    "tags": []
   },
   "outputs": [
    {
     "name": "stdout",
     "output_type": "stream",
     "text": [
      "tot_appr_val: head\n",
      "0    145200.0\n",
      "1     75000.0\n",
      "2     85929.0\n",
      "3    549004.0\n",
      "4    181370.0\n",
      "Name: tot_appr_val, dtype: float64\n",
      "\n",
      "\n",
      "The number of missing values is: 4\n",
      "\n",
      "\n",
      "tot_appr_val: describe\n",
      "count      957687.000000\n",
      "mean       219212.465773\n",
      "std        279995.209203\n",
      "min           100.000000\n",
      "25%        100000.000000\n",
      "50%        150262.000000\n",
      "75%        234458.000000\n",
      "max      17266818.000000\n",
      "Name: tot_appr_val, dtype: object\n"
     ]
    }
   ],
   "source": [
    "real_acct_df = fix_appraised_values(real_acct_df, 'tot_appr_val')"
   ]
  },
  {
   "cell_type": "markdown",
   "metadata": {
    "papermill": {
     "duration": 0.043013,
     "end_time": "2020-09-13T12:45:51.658697",
     "exception": false,
     "start_time": "2020-09-13T12:45:51.615684",
     "status": "completed"
    },
    "tags": []
   },
   "source": [
    "## Prior land value: prior_land_val\n",
    "Last year's appraised land value. It is represented in US dollars, should integers unless there are NaNs."
   ]
  },
  {
   "cell_type": "code",
   "execution_count": 45,
   "metadata": {
    "ExecuteTime": {
     "end_time": "2020-07-27T18:50:44.525758Z",
     "start_time": "2020-07-27T18:50:44.372292Z"
    },
    "execution": {
     "iopub.execute_input": "2020-09-13T12:45:51.747877Z",
     "iopub.status.busy": "2020-09-13T12:45:51.747051Z",
     "iopub.status.idle": "2020-09-13T12:45:51.879440Z",
     "shell.execute_reply": "2020-09-13T12:45:51.878705Z"
    },
    "papermill": {
     "duration": 0.177925,
     "end_time": "2020-09-13T12:45:51.879632",
     "exception": false,
     "start_time": "2020-09-13T12:45:51.701707",
     "status": "completed"
    },
    "tags": []
   },
   "outputs": [
    {
     "name": "stdout",
     "output_type": "stream",
     "text": [
      "prior_land_val: head\n",
      "0    75000.0\n",
      "1    64000.0\n",
      "2    75000.0\n",
      "3    75000.0\n",
      "4    84375.0\n",
      "Name: prior_land_val, dtype: float64\n",
      "\n",
      "\n",
      "The number of missing values is: 1666\n",
      "\n",
      "\n",
      "prior_land_val: describe\n",
      "count      956025.000000\n",
      "mean        71895.343272\n",
      "std        170130.801341\n",
      "min             0.000000\n",
      "25%         18585.000000\n",
      "50%         25600.000000\n",
      "75%         46018.000000\n",
      "max      14598650.000000\n",
      "Name: prior_land_val, dtype: object\n"
     ]
    }
   ],
   "source": [
    "real_acct_df = fix_appraised_values(real_acct_df, 'prior_land_val')"
   ]
  },
  {
   "cell_type": "markdown",
   "metadata": {
    "papermill": {
     "duration": 0.043062,
     "end_time": "2020-09-13T12:45:51.999154",
     "exception": false,
     "start_time": "2020-09-13T12:45:51.956092",
     "status": "completed"
    },
    "tags": []
   },
   "source": [
    "## Prior total appraised value: prior_tot_appr_val\n",
    "Last year's total appraised land value. It is represented in US dollars, should integers unless there are NaNs."
   ]
  },
  {
   "cell_type": "code",
   "execution_count": 46,
   "metadata": {
    "ExecuteTime": {
     "end_time": "2020-07-27T18:50:44.682527Z",
     "start_time": "2020-07-27T18:50:44.527681Z"
    },
    "execution": {
     "iopub.execute_input": "2020-09-13T12:45:52.086627Z",
     "iopub.status.busy": "2020-09-13T12:45:52.085365Z",
     "iopub.status.idle": "2020-09-13T12:45:52.221742Z",
     "shell.execute_reply": "2020-09-13T12:45:52.222212Z"
    },
    "papermill": {
     "duration": 0.18162,
     "end_time": "2020-09-13T12:45:52.222373",
     "exception": false,
     "start_time": "2020-09-13T12:45:52.040753",
     "status": "completed"
    },
    "tags": []
   },
   "outputs": [
    {
     "name": "stdout",
     "output_type": "stream",
     "text": [
      "prior_tot_appr_val: head\n",
      "0    132000.0\n",
      "1     65000.0\n",
      "2     78118.0\n",
      "3     75000.0\n",
      "4    164882.0\n",
      "Name: prior_tot_appr_val, dtype: float64\n",
      "\n",
      "\n",
      "The number of missing values is: 1666\n",
      "\n",
      "\n",
      "prior_tot_appr_val: describe\n",
      "count      956025.000000\n",
      "mean       202540.310016\n",
      "std        263124.394608\n",
      "min             0.000000\n",
      "25%         90491.000000\n",
      "50%        137500.000000\n",
      "75%        215582.000000\n",
      "max      15697108.000000\n",
      "Name: prior_tot_appr_val, dtype: object\n"
     ]
    }
   ],
   "source": [
    "real_acct_df = fix_appraised_values(real_acct_df, 'prior_tot_appr_val')"
   ]
  },
  {
   "cell_type": "markdown",
   "metadata": {
    "papermill": {
     "duration": 0.042673,
     "end_time": "2020-09-13T12:45:52.308034",
     "exception": false,
     "start_time": "2020-09-13T12:45:52.265361",
     "status": "completed"
    },
    "tags": []
   },
   "source": [
    "## New owner date: new_own_dt\n",
    "When was the last recorded ownership changed on the property. Should be datetime type."
   ]
  },
  {
   "cell_type": "code",
   "execution_count": 47,
   "metadata": {
    "ExecuteTime": {
     "end_time": "2020-07-27T18:50:44.911003Z",
     "start_time": "2020-07-27T18:50:44.685585Z"
    },
    "execution": {
     "iopub.execute_input": "2020-09-13T12:45:52.395490Z",
     "iopub.status.busy": "2020-09-13T12:45:52.394700Z",
     "iopub.status.idle": "2020-09-13T12:45:52.610912Z",
     "shell.execute_reply": "2020-09-13T12:45:52.611374Z"
    },
    "papermill": {
     "duration": 0.261477,
     "end_time": "2020-09-13T12:45:52.611532",
     "exception": false,
     "start_time": "2020-09-13T12:45:52.350055",
     "status": "completed"
    },
    "tags": []
   },
   "outputs": [],
   "source": [
    "real_acct_df['new_own_dt'] = pd.to_datetime(real_acct_df['new_own_dt'])"
   ]
  },
  {
   "cell_type": "code",
   "execution_count": 48,
   "metadata": {
    "ExecuteTime": {
     "end_time": "2020-07-27T18:50:45.042602Z",
     "start_time": "2020-07-27T18:50:44.915713Z"
    },
    "execution": {
     "iopub.execute_input": "2020-09-13T12:45:52.705490Z",
     "iopub.status.busy": "2020-09-13T12:45:52.700570Z",
     "iopub.status.idle": "2020-09-13T12:45:52.791263Z",
     "shell.execute_reply": "2020-09-13T12:45:52.791694Z"
    },
    "papermill": {
     "duration": 0.137212,
     "end_time": "2020-09-13T12:45:52.791843",
     "exception": false,
     "start_time": "2020-09-13T12:45:52.654631",
     "status": "completed"
    },
    "tags": []
   },
   "outputs": [
    {
     "name": "stdout",
     "output_type": "stream",
     "text": [
      "The number of missing values is: 9\n"
     ]
    }
   ],
   "source": [
    "print(f\"The number of missing values is: {sum(real_acct_df['new_own_dt'].isnull())}\")"
   ]
  },
  {
   "cell_type": "code",
   "execution_count": 49,
   "metadata": {
    "ExecuteTime": {
     "end_time": "2020-07-27T18:50:45.128947Z",
     "start_time": "2020-07-27T18:50:45.044680Z"
    },
    "execution": {
     "iopub.execute_input": "2020-09-13T12:45:52.880182Z",
     "iopub.status.busy": "2020-09-13T12:45:52.879315Z",
     "iopub.status.idle": "2020-09-13T12:45:52.896870Z",
     "shell.execute_reply": "2020-09-13T12:45:52.896396Z"
    },
    "papermill": {
     "duration": 0.063468,
     "end_time": "2020-09-13T12:45:52.897043",
     "exception": false,
     "start_time": "2020-09-13T12:45:52.833575",
     "status": "completed"
    },
    "tags": []
   },
   "outputs": [
    {
     "data": {
      "text/plain": [
       "0        2012-09-11\n",
       "1        1988-01-02\n",
       "2        2004-07-28\n",
       "3        2013-10-14\n",
       "4        2001-05-05\n",
       "            ...    \n",
       "957686   2005-01-02\n",
       "957687   2005-05-31\n",
       "957688   1988-01-02\n",
       "957689   2013-11-06\n",
       "957690   2016-09-13\n",
       "Name: new_own_dt, Length: 957691, dtype: datetime64[ns]"
      ]
     },
     "execution_count": 49,
     "metadata": {},
     "output_type": "execute_result"
    }
   ],
   "source": [
    "real_acct_df['new_own_dt']"
   ]
  },
  {
   "cell_type": "code",
   "execution_count": 50,
   "metadata": {
    "ExecuteTime": {
     "end_time": "2020-07-27T18:50:45.643399Z",
     "start_time": "2020-07-27T18:50:45.132204Z"
    },
    "execution": {
     "iopub.execute_input": "2020-09-13T12:45:52.994276Z",
     "iopub.status.busy": "2020-09-13T12:45:52.993714Z",
     "iopub.status.idle": "2020-09-13T12:45:53.043976Z",
     "shell.execute_reply": "2020-09-13T12:45:53.044463Z"
    },
    "papermill": {
     "duration": 0.098105,
     "end_time": "2020-09-13T12:45:53.044625",
     "exception": false,
     "start_time": "2020-09-13T12:45:52.946520",
     "status": "completed"
    },
    "tags": []
   },
   "outputs": [
    {
     "name": "stderr",
     "output_type": "stream",
     "text": [
      "/home/pinto/anaconda3/envs/hcad_pred/lib/python3.7/site-packages/ipykernel_launcher.py:1: FutureWarning: Treating datetime data as categorical rather than numeric in `.describe` is deprecated and will be removed in a future version of pandas. Specify `datetime_is_numeric=True` to silence this warning and adopt the future behavior now.\n",
      "  \"\"\"Entry point for launching an IPython kernel.\n"
     ]
    },
    {
     "data": {
      "text/plain": [
       "count                  957682\n",
       "unique                  11312\n",
       "top       1988-01-02 00:00:00\n",
       "freq                    60252\n",
       "first     1955-05-13 00:00:00\n",
       "last      2017-10-06 00:00:00\n",
       "Name: new_own_dt, dtype: object"
      ]
     },
     "execution_count": 50,
     "metadata": {},
     "output_type": "execute_result"
    }
   ],
   "source": [
    "real_acct_df['new_own_dt'].describe()"
   ]
  },
  {
   "cell_type": "markdown",
   "metadata": {
    "papermill": {
     "duration": 0.043733,
     "end_time": "2020-09-13T12:45:53.132974",
     "exception": false,
     "start_time": "2020-09-13T12:45:53.089241",
     "status": "completed"
    },
    "tags": []
   },
   "source": [
    "# Export real_acct"
   ]
  },
  {
   "cell_type": "code",
   "execution_count": 51,
   "metadata": {
    "ExecuteTime": {
     "end_time": "2020-07-27T18:50:46.234313Z",
     "start_time": "2020-07-27T18:50:45.645873Z"
    },
    "execution": {
     "iopub.execute_input": "2020-09-13T12:45:53.223488Z",
     "iopub.status.busy": "2020-09-13T12:45:53.222617Z",
     "iopub.status.idle": "2020-09-13T12:45:53.609319Z",
     "shell.execute_reply": "2020-09-13T12:45:53.609980Z"
    },
    "papermill": {
     "duration": 0.433891,
     "end_time": "2020-09-13T12:45:53.610211",
     "exception": false,
     "start_time": "2020-09-13T12:45:53.176320",
     "status": "completed"
    },
    "tags": []
   },
   "outputs": [],
   "source": [
    "save_fn = ROOT_DIR / 'data/raw/2016/real_acct_comps.pickle'\n",
    "save_pickle(real_acct_df, save_fn)"
   ]
  }
 ],
 "metadata": {
  "kernelspec": {
   "display_name": "hcad_pred",
   "language": "python",
   "name": "hcad_pred"
  },
  "language_info": {
   "codemirror_mode": {
    "name": "ipython",
    "version": 3
   },
   "file_extension": ".py",
   "mimetype": "text/x-python",
   "name": "python",
   "nbconvert_exporter": "python",
   "pygments_lexer": "ipython3",
   "version": "3.7.8"
  },
  "papermill": {
   "duration": 99.553404,
   "end_time": "2020-09-13T12:45:54.093106",
   "environment_variables": {},
   "exception": null,
   "input_path": "/media/hdd/projects/springboard/hcad_pred/notebooks/01_Exploratory/1.2-rp-hcad-data-view-real-acct.ipynb",
   "output_path": "/media/hdd/projects/springboard/hcad_pred/notebooks/01_Exploratory/output/1.2-rp-hcad-data-view-real-acct_20200913.ipynb",
   "parameters": {},
   "start_time": "2020-09-13T12:44:14.539702",
   "version": "2.1.2"
  },
  "toc": {
   "base_numbering": 1,
   "nav_menu": {},
   "number_sections": true,
   "sideBar": true,
   "skip_h1_title": false,
   "title_cell": "Table of Contents",
   "title_sidebar": "Contents",
   "toc_cell": false,
   "toc_position": {},
   "toc_section_display": true,
   "toc_window_display": false
  }
 },
 "nbformat": 4,
 "nbformat_minor": 4
}