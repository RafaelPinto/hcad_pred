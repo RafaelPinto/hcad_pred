{
 "cells": [
  {
   "cell_type": "markdown",
   "metadata": {
    "papermill": {
     "duration": 0.052656,
     "end_time": "2020-07-22T04:24:43.353949",
     "exception": false,
     "start_time": "2020-07-22T04:24:43.301293",
     "status": "completed"
    },
    "tags": []
   },
   "source": [
    "# Harris County Appraisal District (HCAD) real and personal property data\n",
    "The Harris County is the [third most populous](https://en.wikipedia.org/wiki/List_of_the_most_populous_counties_in_the_United_States) county in the USA. Its appraisal district (HCAD) provides a fantastic dataset with each appraised property characteristics (appraised value, fixtures, features...) on a yearly basis. In this notebook we explore these data for the year 2016, to understand what is available, and to select variables that can help us answer if a given property was appraised fairly.\n",
    "\n",
    "[HCAD data](https://pdata.hcad.org/download/2016.html) consists of several text files, grouped in zipped files as follows:\n",
    "\n",
    "1. Real_acct_owner.zip\n",
    "    * **Real_acct.txt**: account including owner name, owner mailing address, $\\color{red}{values}$, $\\color{red}{site~address}$, and legal descriptions.\n",
    "    * **Real_neighborhood_code.txt**:  $\\color{red}{neighborhood~code}$, group code and description\n",
    "    * **Parcel_tiebacks.txt**\n",
    "    * **Permits.txt**: an account including permit type, permit description, and status.\n",
    "    * **Owners.txt**: multiple owners.\n",
    "    * **Deeds.txt**: deed information.\n",
    "\n",
    "\n",
    "2. Real_building_land.zip\n",
    "    * **Building_res.txt**: $\\color{red}{all~residential~information}$\n",
    "    * **Building_other.txt**: all other real properties, such as commercial and information for income producing properties including occupancy rates and operating income.\n",
    "    * **Exterior.txt**: $\\color{red}{general~data~about~buildings~and~sub~areas,~(style~or~use,~size,~year~built).}$\n",
    "    * **Fixture.txt**: $\\color{red}{characteristics~of~the~building}$. This includes bedrooms, fireplace, bathrooms, stories for residential. Also contains wall height, elevators, and other descriptions for commercial property.\n",
    "    * **Extra_features.txt**: extra features for an account. This includes wood deck, $\\color{red}{pool}$, storage shed, detached garage, etc. This also contains information on cracked slabs and pools.\n",
    "    * **Structural_elem1.txt**: $\\color{red}{Single~Family}$, Multi Family, Condos, Town homes. $\\color{red}{Home~Information}$ (CDU, Grade Adjustment, Physical Condition).\n",
    "    * **Structural_elem2.txt**: Commercial and exempt Properties. These files contain structural elements of a property. This includes information like $\\color{red}{physical~condition,~grade,~exterior~wall,~and~foundation~type}$.\n",
    "    * **Land.txt**: land use, acreage, and land units.\n",
    "    * **Land_ag.txt**: agricultural and timber land information including land use, acreage, and land units.\n",
    "\n",
    "\n",
    "3. Real_jur_exempt.zip\n",
    "    * **Jur_exempt.txt**: Lists the jurisdictions and exemptions associated with an account and the tax rates.\n",
    "    * **Jur_exemption_cd**: Lists the exemption code associated with an account.\n",
    "    * **Jur_exemption_dscr**: Lists the jurisdictions and their exemption description.\n",
    "    * **Jur_tax_district_exempt_value.txt**: Lists the jurisdictions and their exemption values.\n",
    "    * **Jur_tax_district_percent_rate**: Lists the Taxing district percent rates.\n",
    "    * **Jur_value.txt**: Lists the jurisdictions and values associated with an account.\n",
    "\n",
    "\n",
    "4. PP_files.zip\n",
    "    * **T_business_acct.txt**:  account, including owner name, owner mailing address, values, site address, and legal descriptions, all values and etc.\n",
    "    * **T_business_detail.txt**: account, items, description and item values.\n",
    "    * **T_jur_exempt.txt**: Lists the jurisdictions and exemptions associated with an account and the tax rates.\n",
    "    * **T_jur_value.txt**: Lists the jurisdictions and values associated with an account.\n",
    "    * **T_jur_tax_district_exempt_value.txt**: Lists the jurisdictions and their exemption values.\n",
    "    * **T_jur_tax_district_percent_rate**: Lists the Taxing district percent rates.\n",
    "    * **T_pp_c.txt**: c Pipelines data.\n",
    "    * **T_pp_e.txt**: e Minerals data.\n",
    "    * **T_pp_l.txt**: l Electrical Transmission / Distribution Lines data.\n",
    "\n",
    "\n",
    "5. Hearing_files.zip\n",
    "    * **ARB_hearings_pp.txt**: account, state code, owner, date of hearing, release date, conclusion code, initial and final values and etc.\n",
    "    * **ARB_hearings_real.txt**: account, state code, owner, date of hearing, release date, conclusion code, initial and final values and etc.\n",
    "    * **ARB_protest_pp.txt**: account, protest by, date of protest.\n",
    "    * **ARB_protest_real.txt**: account, protest by, date of protest.\n",
    "\n",
    "In addition, the following files are also available for deciphering codes in some of the variables:\n",
    "\n",
    "1. code_desc_real.txt\n",
    "2. code_nh_numbers.txt\n",
    "3. code_nh_numbers_adj.txt\n",
    "4. code_desc_personal.txt\n",
    "5. code_jur_list.txt\n",
    "\n",
    "The first step is then to identify the variables that will influence the appraised value (highlighted in red above). Next, we would like to filter the data to only contain comparables, in this case free standing (a house) single-family properties."
   ]
  },
  {
   "cell_type": "markdown",
   "metadata": {
    "papermill": {
     "duration": 0.023222,
     "end_time": "2020-07-22T04:24:43.397644",
     "exception": false,
     "start_time": "2020-07-22T04:24:43.374422",
     "status": "completed"
    },
    "tags": []
   },
   "source": [
    "# Find the comparables: building_res.txt\n",
    "\n",
    "The file `building_res.txt` contains the some of the properties description, including the HCAD account number (column acct) they are associated to. Let's find the account numbers for the free standing single family properties."
   ]
  },
  {
   "cell_type": "code",
   "execution_count": 1,
   "metadata": {
    "ExecuteTime": {
     "end_time": "2020-07-22T03:00:25.872371Z",
     "start_time": "2020-07-22T03:00:25.852297Z"
    },
    "execution": {
     "iopub.execute_input": "2020-07-22T04:24:43.459837Z",
     "iopub.status.busy": "2020-07-22T04:24:43.458985Z",
     "iopub.status.idle": "2020-07-22T04:24:43.473272Z",
     "shell.execute_reply": "2020-07-22T04:24:43.472796Z"
    },
    "papermill": {
     "duration": 0.046708,
     "end_time": "2020-07-22T04:24:43.473400",
     "exception": false,
     "start_time": "2020-07-22T04:24:43.426692",
     "status": "completed"
    },
    "tags": []
   },
   "outputs": [],
   "source": [
    "%load_ext autoreload\n",
    "%autoreload 2"
   ]
  },
  {
   "cell_type": "code",
   "execution_count": 2,
   "metadata": {
    "ExecuteTime": {
     "end_time": "2020-07-22T03:00:27.114527Z",
     "start_time": "2020-07-22T03:00:26.695325Z"
    },
    "execution": {
     "iopub.execute_input": "2020-07-22T04:24:43.526940Z",
     "iopub.status.busy": "2020-07-22T04:24:43.526425Z",
     "iopub.status.idle": "2020-07-22T04:24:44.072647Z",
     "shell.execute_reply": "2020-07-22T04:24:44.071933Z"
    },
    "papermill": {
     "duration": 0.576234,
     "end_time": "2020-07-22T04:24:44.072832",
     "exception": false,
     "start_time": "2020-07-22T04:24:43.496598",
     "status": "completed"
    },
    "tags": []
   },
   "outputs": [],
   "source": [
    "from pathlib import Path\n",
    "\n",
    "import pandas as pd\n",
    "\n",
    "from src.definitions import ROOT_DIR\n",
    "from src.data.utils import Table"
   ]
  },
  {
   "cell_type": "code",
   "execution_count": 3,
   "metadata": {
    "ExecuteTime": {
     "end_time": "2020-07-22T03:00:29.693664Z",
     "start_time": "2020-07-22T03:00:29.664885Z"
    },
    "execution": {
     "iopub.execute_input": "2020-07-22T04:24:44.124383Z",
     "iopub.status.busy": "2020-07-22T04:24:44.123492Z",
     "iopub.status.idle": "2020-07-22T04:24:44.136780Z",
     "shell.execute_reply": "2020-07-22T04:24:44.136330Z"
    },
    "papermill": {
     "duration": 0.041001,
     "end_time": "2020-07-22T04:24:44.136900",
     "exception": false,
     "start_time": "2020-07-22T04:24:44.095899",
     "status": "completed"
    },
    "tags": []
   },
   "outputs": [],
   "source": [
    "building_res_fn = ROOT_DIR / 'data/external/2016/Real_building_land/building_res.txt'\n",
    "assert building_res_fn.exists()"
   ]
  },
  {
   "cell_type": "markdown",
   "metadata": {
    "papermill": {
     "duration": 0.024954,
     "end_time": "2020-07-22T04:24:44.189541",
     "exception": false,
     "start_time": "2020-07-22T04:24:44.164587",
     "status": "completed"
    },
    "tags": []
   },
   "source": [
    "The column names of the HCAD files are stored in the file `Layout_and_Length.txt`. The `src.data.utils.Table` class has methods to read the file column names, and read the data file as a pandas DataFrame."
   ]
  },
  {
   "cell_type": "code",
   "execution_count": 4,
   "metadata": {
    "ExecuteTime": {
     "end_time": "2020-07-22T03:00:34.819250Z",
     "start_time": "2020-07-22T03:00:34.800369Z"
    },
    "execution": {
     "iopub.execute_input": "2020-07-22T04:24:44.233719Z",
     "iopub.status.busy": "2020-07-22T04:24:44.233173Z",
     "iopub.status.idle": "2020-07-22T04:24:44.244581Z",
     "shell.execute_reply": "2020-07-22T04:24:44.245047Z"
    },
    "papermill": {
     "duration": 0.033988,
     "end_time": "2020-07-22T04:24:44.245215",
     "exception": false,
     "start_time": "2020-07-22T04:24:44.211227",
     "status": "completed"
    },
    "tags": []
   },
   "outputs": [],
   "source": [
    "building_res = Table(building_res_fn, '2016')"
   ]
  },
  {
   "cell_type": "code",
   "execution_count": 5,
   "metadata": {
    "ExecuteTime": {
     "end_time": "2020-07-22T03:00:36.559324Z",
     "start_time": "2020-07-22T03:00:36.519522Z"
    },
    "execution": {
     "iopub.execute_input": "2020-07-22T04:24:44.292793Z",
     "iopub.status.busy": "2020-07-22T04:24:44.292275Z",
     "iopub.status.idle": "2020-07-22T04:24:44.312915Z",
     "shell.execute_reply": "2020-07-22T04:24:44.313333Z"
    },
    "papermill": {
     "duration": 0.04753,
     "end_time": "2020-07-22T04:24:44.313493",
     "exception": false,
     "start_time": "2020-07-22T04:24:44.265963",
     "status": "completed"
    },
    "tags": []
   },
   "outputs": [
    {
     "data": {
      "text/plain": [
       "['acct',\n",
       " 'property_use_cd',\n",
       " 'bld_num',\n",
       " 'impr_tp',\n",
       " 'impr_mdl_cd',\n",
       " 'structure',\n",
       " 'structure_dscr',\n",
       " 'dpr_val',\n",
       " 'cama_replacement_cost',\n",
       " 'accrued_depr_pct',\n",
       " 'qa_cd',\n",
       " 'dscr',\n",
       " 'date_erected',\n",
       " 'eff',\n",
       " 'yr_remodel',\n",
       " 'yr_roll',\n",
       " 'appr_by',\n",
       " 'appr_dt',\n",
       " 'notes',\n",
       " 'im_sq_ft',\n",
       " 'act_ar',\n",
       " 'heat_ar',\n",
       " 'gross_ar',\n",
       " 'eff_ar',\n",
       " 'base_ar',\n",
       " 'perimeter',\n",
       " 'pct',\n",
       " 'bld_adj',\n",
       " 'rcnld',\n",
       " 'size_index',\n",
       " 'lump_sum_adj']"
      ]
     },
     "execution_count": 5,
     "metadata": {},
     "output_type": "execute_result"
    }
   ],
   "source": [
    "building_res.get_header()"
   ]
  },
  {
   "cell_type": "markdown",
   "metadata": {
    "papermill": {
     "duration": 0.019058,
     "end_time": "2020-07-22T04:24:44.351974",
     "exception": false,
     "start_time": "2020-07-22T04:24:44.332916",
     "status": "completed"
    },
    "tags": []
   },
   "source": [
    "Since the file may not fit into memory, let's load only the columns of interest."
   ]
  },
  {
   "cell_type": "code",
   "execution_count": 6,
   "metadata": {
    "ExecuteTime": {
     "end_time": "2020-07-22T03:01:00.442898Z",
     "start_time": "2020-07-22T03:01:00.418174Z"
    },
    "execution": {
     "iopub.execute_input": "2020-07-22T04:24:44.417624Z",
     "iopub.status.busy": "2020-07-22T04:24:44.416743Z",
     "iopub.status.idle": "2020-07-22T04:24:44.433923Z",
     "shell.execute_reply": "2020-07-22T04:24:44.434606Z"
    },
    "papermill": {
     "duration": 0.060169,
     "end_time": "2020-07-22T04:24:44.434835",
     "exception": false,
     "start_time": "2020-07-22T04:24:44.374666",
     "status": "completed"
    },
    "tags": []
   },
   "outputs": [],
   "source": [
    "cols = [\n",
    "    'acct',      # Property unique account number\n",
    "    'property_use_cd',\n",
    "    'bld_num',\n",
    "    'impr_mdl_cd',\n",
    "    'impr_tp',\n",
    "    'structure_dscr',\n",
    "    'pct',\n",
    "    'dscr',      # Quality description\n",
    "    'date_erected',\n",
    "    'yr_remodel',\n",
    "    'im_sq_ft',  # Improvement square feet\n",
    "    'act_ar',    # Actual area\n",
    "    'heat_ar',   # Heat area\n",
    "    'gross_ar',  # Gross area\n",
    "    'eff_ar',    # Affective area\n",
    "    'base_ar',   # Base area\n",
    "    'perimeter',\n",
    "]"
   ]
  },
  {
   "cell_type": "code",
   "execution_count": 7,
   "metadata": {
    "ExecuteTime": {
     "end_time": "2020-07-22T03:01:08.797658Z",
     "start_time": "2020-07-22T03:01:04.793933Z"
    },
    "execution": {
     "iopub.execute_input": "2020-07-22T04:24:44.484542Z",
     "iopub.status.busy": "2020-07-22T04:24:44.484035Z",
     "iopub.status.idle": "2020-07-22T04:24:47.463472Z",
     "shell.execute_reply": "2020-07-22T04:24:47.462962Z"
    },
    "papermill": {
     "duration": 3.001734,
     "end_time": "2020-07-22T04:24:47.463593",
     "exception": false,
     "start_time": "2020-07-22T04:24:44.461859",
     "status": "completed"
    },
    "tags": []
   },
   "outputs": [],
   "source": [
    "building_res_df = building_res.get_df(usecols=cols)"
   ]
  },
  {
   "cell_type": "code",
   "execution_count": 8,
   "metadata": {
    "ExecuteTime": {
     "end_time": "2020-07-22T03:01:11.262521Z",
     "start_time": "2020-07-22T03:01:11.233325Z"
    },
    "execution": {
     "iopub.execute_input": "2020-07-22T04:24:47.505205Z",
     "iopub.status.busy": "2020-07-22T04:24:47.504700Z",
     "iopub.status.idle": "2020-07-22T04:24:47.527574Z",
     "shell.execute_reply": "2020-07-22T04:24:47.527961Z"
    },
    "papermill": {
     "duration": 0.045651,
     "end_time": "2020-07-22T04:24:47.528098",
     "exception": false,
     "start_time": "2020-07-22T04:24:47.482447",
     "status": "completed"
    },
    "tags": []
   },
   "outputs": [
    {
     "data": {
      "text/html": [
       "<div>\n",
       "<style scoped>\n",
       "    .dataframe tbody tr th:only-of-type {\n",
       "        vertical-align: middle;\n",
       "    }\n",
       "\n",
       "    .dataframe tbody tr th {\n",
       "        vertical-align: top;\n",
       "    }\n",
       "\n",
       "    .dataframe thead th {\n",
       "        text-align: right;\n",
       "    }\n",
       "</style>\n",
       "<table border=\"1\" class=\"dataframe\">\n",
       "  <thead>\n",
       "    <tr style=\"text-align: right;\">\n",
       "      <th></th>\n",
       "      <th>acct</th>\n",
       "      <th>property_use_cd</th>\n",
       "      <th>bld_num</th>\n",
       "      <th>impr_tp</th>\n",
       "      <th>impr_mdl_cd</th>\n",
       "      <th>structure_dscr</th>\n",
       "      <th>dscr</th>\n",
       "      <th>date_erected</th>\n",
       "      <th>yr_remodel</th>\n",
       "      <th>im_sq_ft</th>\n",
       "      <th>act_ar</th>\n",
       "      <th>heat_ar</th>\n",
       "      <th>gross_ar</th>\n",
       "      <th>eff_ar</th>\n",
       "      <th>base_ar</th>\n",
       "      <th>perimeter</th>\n",
       "      <th>pct</th>\n",
       "    </tr>\n",
       "  </thead>\n",
       "  <tbody>\n",
       "    <tr>\n",
       "      <th>0</th>\n",
       "      <td>21660000012</td>\n",
       "      <td>A1</td>\n",
       "      <td>1</td>\n",
       "      <td>1001</td>\n",
       "      <td>101</td>\n",
       "      <td>Residential</td>\n",
       "      <td>Good</td>\n",
       "      <td>2014</td>\n",
       "      <td>0</td>\n",
       "      <td>2328</td>\n",
       "      <td>2328</td>\n",
       "      <td>2328</td>\n",
       "      <td>2328</td>\n",
       "      <td>2212</td>\n",
       "      <td>2328</td>\n",
       "      <td>300</td>\n",
       "      <td>1.0</td>\n",
       "    </tr>\n",
       "    <tr>\n",
       "      <th>1</th>\n",
       "      <td>21700000013</td>\n",
       "      <td>A1</td>\n",
       "      <td>1</td>\n",
       "      <td>1001</td>\n",
       "      <td>101</td>\n",
       "      <td>Residential</td>\n",
       "      <td>Low</td>\n",
       "      <td>1920</td>\n",
       "      <td>2004</td>\n",
       "      <td>1434</td>\n",
       "      <td>1622</td>\n",
       "      <td>1434</td>\n",
       "      <td>1622</td>\n",
       "      <td>1453</td>\n",
       "      <td>1434</td>\n",
       "      <td>170</td>\n",
       "      <td>1.0</td>\n",
       "    </tr>\n",
       "    <tr>\n",
       "      <th>2</th>\n",
       "      <td>21870000006</td>\n",
       "      <td>A1</td>\n",
       "      <td>1</td>\n",
       "      <td>1001</td>\n",
       "      <td>101</td>\n",
       "      <td>Residential</td>\n",
       "      <td>Very Low</td>\n",
       "      <td>1940</td>\n",
       "      <td>0</td>\n",
       "      <td>572</td>\n",
       "      <td>652</td>\n",
       "      <td>572</td>\n",
       "      <td>652</td>\n",
       "      <td>598</td>\n",
       "      <td>572</td>\n",
       "      <td>96</td>\n",
       "      <td>1.0</td>\n",
       "    </tr>\n",
       "    <tr>\n",
       "      <th>3</th>\n",
       "      <td>21960000001</td>\n",
       "      <td>A1</td>\n",
       "      <td>2</td>\n",
       "      <td>1001</td>\n",
       "      <td>101</td>\n",
       "      <td>Residential</td>\n",
       "      <td>Low</td>\n",
       "      <td>1940</td>\n",
       "      <td>1999</td>\n",
       "      <td>4304</td>\n",
       "      <td>4984</td>\n",
       "      <td>4304</td>\n",
       "      <td>4984</td>\n",
       "      <td>4253</td>\n",
       "      <td>4304</td>\n",
       "      <td>444</td>\n",
       "      <td>1.0</td>\n",
       "    </tr>\n",
       "    <tr>\n",
       "      <th>4</th>\n",
       "      <td>22080000004</td>\n",
       "      <td>A1</td>\n",
       "      <td>2</td>\n",
       "      <td>1001</td>\n",
       "      <td>101</td>\n",
       "      <td>Residential</td>\n",
       "      <td>Low</td>\n",
       "      <td>1920</td>\n",
       "      <td>0</td>\n",
       "      <td>528</td>\n",
       "      <td>576</td>\n",
       "      <td>528</td>\n",
       "      <td>576</td>\n",
       "      <td>544</td>\n",
       "      <td>528</td>\n",
       "      <td>96</td>\n",
       "      <td>1.0</td>\n",
       "    </tr>\n",
       "  </tbody>\n",
       "</table>\n",
       "</div>"
      ],
      "text/plain": [
       "          acct property_use_cd  bld_num  impr_tp  impr_mdl_cd structure_dscr  \\\n",
       "0  21660000012              A1        1     1001          101    Residential   \n",
       "1  21700000013              A1        1     1001          101    Residential   \n",
       "2  21870000006              A1        1     1001          101    Residential   \n",
       "3  21960000001              A1        2     1001          101    Residential   \n",
       "4  22080000004              A1        2     1001          101    Residential   \n",
       "\n",
       "       dscr  date_erected  yr_remodel  im_sq_ft  act_ar  heat_ar  gross_ar  \\\n",
       "0      Good          2014           0      2328    2328     2328      2328   \n",
       "1       Low          1920        2004      1434    1622     1434      1622   \n",
       "2  Very Low          1940           0       572     652      572       652   \n",
       "3       Low          1940        1999      4304    4984     4304      4984   \n",
       "4       Low          1920           0       528     576      528       576   \n",
       "\n",
       "   eff_ar  base_ar  perimeter  pct  \n",
       "0    2212     2328        300  1.0  \n",
       "1    1453     1434        170  1.0  \n",
       "2     598      572         96  1.0  \n",
       "3    4253     4304        444  1.0  \n",
       "4     544      528         96  1.0  "
      ]
     },
     "execution_count": 8,
     "metadata": {},
     "output_type": "execute_result"
    }
   ],
   "source": [
    "building_res_df.head()"
   ]
  },
  {
   "cell_type": "code",
   "execution_count": 9,
   "metadata": {
    "ExecuteTime": {
     "end_time": "2020-07-22T03:01:14.543529Z",
     "start_time": "2020-07-22T03:01:14.486907Z"
    },
    "execution": {
     "iopub.execute_input": "2020-07-22T04:24:47.570532Z",
     "iopub.status.busy": "2020-07-22T04:24:47.570019Z",
     "iopub.status.idle": "2020-07-22T04:24:47.584110Z",
     "shell.execute_reply": "2020-07-22T04:24:47.584524Z"
    },
    "papermill": {
     "duration": 0.036392,
     "end_time": "2020-07-22T04:24:47.584680",
     "exception": false,
     "start_time": "2020-07-22T04:24:47.548288",
     "status": "completed"
    },
    "tags": []
   },
   "outputs": [
    {
     "data": {
      "text/plain": [
       "acct                 int64\n",
       "property_use_cd     object\n",
       "bld_num              int64\n",
       "impr_tp              int64\n",
       "impr_mdl_cd          int64\n",
       "structure_dscr      object\n",
       "dscr                object\n",
       "date_erected         int64\n",
       "yr_remodel           int64\n",
       "im_sq_ft             int64\n",
       "act_ar               int64\n",
       "heat_ar              int64\n",
       "gross_ar             int64\n",
       "eff_ar               int64\n",
       "base_ar              int64\n",
       "perimeter            int64\n",
       "pct                float64\n",
       "dtype: object"
      ]
     },
     "execution_count": 9,
     "metadata": {},
     "output_type": "execute_result"
    }
   ],
   "source": [
    "building_res_df.dtypes"
   ]
  },
  {
   "cell_type": "code",
   "execution_count": 10,
   "metadata": {
    "ExecuteTime": {
     "end_time": "2020-07-22T03:01:17.918038Z",
     "start_time": "2020-07-22T03:01:17.615500Z"
    },
    "execution": {
     "iopub.execute_input": "2020-07-22T04:24:47.628115Z",
     "iopub.status.busy": "2020-07-22T04:24:47.627602Z",
     "iopub.status.idle": "2020-07-22T04:24:47.916203Z",
     "shell.execute_reply": "2020-07-22T04:24:47.916624Z"
    },
    "papermill": {
     "duration": 0.311705,
     "end_time": "2020-07-22T04:24:47.916774",
     "exception": false,
     "start_time": "2020-07-22T04:24:47.605069",
     "status": "completed"
    },
    "tags": []
   },
   "outputs": [
    {
     "data": {
      "text/plain": [
       "Index                   128\n",
       "acct                9210776\n",
       "property_use_cd    67929473\n",
       "bld_num             9210776\n",
       "impr_tp             9210776\n",
       "impr_mdl_cd         9210776\n",
       "structure_dscr     78292330\n",
       "dscr               72476161\n",
       "date_erected        9210776\n",
       "yr_remodel          9210776\n",
       "im_sq_ft            9210776\n",
       "act_ar              9210776\n",
       "heat_ar             9210776\n",
       "gross_ar            9210776\n",
       "eff_ar              9210776\n",
       "base_ar             9210776\n",
       "perimeter           9210776\n",
       "pct                 9210776\n",
       "dtype: int64"
      ]
     },
     "execution_count": 10,
     "metadata": {},
     "output_type": "execute_result"
    }
   ],
   "source": [
    "building_res_df.memory_usage(deep=True)"
   ]
  },
  {
   "cell_type": "markdown",
   "metadata": {
    "papermill": {
     "duration": 0.020139,
     "end_time": "2020-07-22T04:24:47.957110",
     "exception": false,
     "start_time": "2020-07-22T04:24:47.936971",
     "status": "completed"
    },
    "tags": []
   },
   "source": [
    "Let's reduce the in-memory file size by changing the types of the categorical columns, and downcasting the numerical column types where possible."
   ]
  },
  {
   "cell_type": "code",
   "execution_count": 11,
   "metadata": {
    "ExecuteTime": {
     "end_time": "2020-07-22T03:01:26.286567Z",
     "start_time": "2020-07-22T03:01:26.003752Z"
    },
    "execution": {
     "iopub.execute_input": "2020-07-22T04:24:48.002575Z",
     "iopub.status.busy": "2020-07-22T04:24:48.002043Z",
     "iopub.status.idle": "2020-07-22T04:24:48.400536Z",
     "shell.execute_reply": "2020-07-22T04:24:48.400937Z"
    },
    "papermill": {
     "duration": 0.423228,
     "end_time": "2020-07-22T04:24:48.401080",
     "exception": false,
     "start_time": "2020-07-22T04:24:47.977852",
     "status": "completed"
    },
    "tags": []
   },
   "outputs": [],
   "source": [
    "building_res_df['property_use_cd'] = building_res_df['property_use_cd'].astype('category')\n",
    "building_res_df['bld_num'] = building_res_df['bld_num'].astype('category')\n",
    "building_res_df['impr_mdl_cd'] = building_res_df['impr_mdl_cd'].astype('category')\n",
    "building_res_df['impr_tp'] = building_res_df['impr_tp'].astype('category')\n",
    "building_res_df['structure_dscr'] = building_res_df['structure_dscr'].astype('category')\n",
    "building_res_df['dscr'] = building_res_df['dscr'].astype('category')"
   ]
  },
  {
   "cell_type": "code",
   "execution_count": 12,
   "metadata": {
    "ExecuteTime": {
     "end_time": "2020-07-22T03:01:27.700563Z",
     "start_time": "2020-07-22T03:01:27.578756Z"
    },
    "execution": {
     "iopub.execute_input": "2020-07-22T04:24:48.444610Z",
     "iopub.status.busy": "2020-07-22T04:24:48.444102Z",
     "iopub.status.idle": "2020-07-22T04:24:48.518111Z",
     "shell.execute_reply": "2020-07-22T04:24:48.517674Z"
    },
    "papermill": {
     "duration": 0.097056,
     "end_time": "2020-07-22T04:24:48.518231",
     "exception": false,
     "start_time": "2020-07-22T04:24:48.421175",
     "status": "completed"
    },
    "tags": []
   },
   "outputs": [],
   "source": [
    "building_res_df['acct'] = pd.to_numeric(building_res_df['acct'], downcast='unsigned')"
   ]
  },
  {
   "cell_type": "code",
   "execution_count": 13,
   "metadata": {
    "ExecuteTime": {
     "end_time": "2020-07-22T03:01:29.507782Z",
     "start_time": "2020-07-22T03:01:29.173200Z"
    },
    "execution": {
     "iopub.execute_input": "2020-07-22T04:24:48.564973Z",
     "iopub.status.busy": "2020-07-22T04:24:48.564029Z",
     "iopub.status.idle": "2020-07-22T04:24:48.853155Z",
     "shell.execute_reply": "2020-07-22T04:24:48.852639Z"
    },
    "papermill": {
     "duration": 0.314656,
     "end_time": "2020-07-22T04:24:48.853277",
     "exception": false,
     "start_time": "2020-07-22T04:24:48.538621",
     "status": "completed"
    },
    "tags": []
   },
   "outputs": [],
   "source": [
    "building_res_df.loc[:, 'date_erected':'base_ar'] = building_res_df.loc[:, 'date_erected':'base_ar'].apply(pd.to_numeric, downcast='unsigned')\n",
    "building_res_df['perimeter'] = pd.to_numeric(building_res_df['perimeter'], downcast='integer')\n",
    "building_res_df['pct'] = pd.to_numeric(building_res_df['pct'], downcast='float')"
   ]
  },
  {
   "cell_type": "code",
   "execution_count": 14,
   "metadata": {
    "ExecuteTime": {
     "end_time": "2020-07-22T03:01:33.349060Z",
     "start_time": "2020-07-22T03:01:33.327424Z"
    },
    "execution": {
     "iopub.execute_input": "2020-07-22T04:24:48.896348Z",
     "iopub.status.busy": "2020-07-22T04:24:48.895845Z",
     "iopub.status.idle": "2020-07-22T04:24:48.910135Z",
     "shell.execute_reply": "2020-07-22T04:24:48.910587Z"
    },
    "papermill": {
     "duration": 0.037424,
     "end_time": "2020-07-22T04:24:48.910733",
     "exception": false,
     "start_time": "2020-07-22T04:24:48.873309",
     "status": "completed"
    },
    "tags": []
   },
   "outputs": [
    {
     "data": {
      "text/plain": [
       "acct                 uint64\n",
       "property_use_cd    category\n",
       "bld_num            category\n",
       "impr_tp            category\n",
       "impr_mdl_cd        category\n",
       "structure_dscr     category\n",
       "dscr               category\n",
       "date_erected         uint16\n",
       "yr_remodel            int64\n",
       "im_sq_ft             uint16\n",
       "act_ar               uint16\n",
       "heat_ar              uint16\n",
       "gross_ar             uint16\n",
       "eff_ar               uint16\n",
       "base_ar              uint16\n",
       "perimeter             int16\n",
       "pct                 float32\n",
       "dtype: object"
      ]
     },
     "execution_count": 14,
     "metadata": {},
     "output_type": "execute_result"
    }
   ],
   "source": [
    "building_res_df.dtypes"
   ]
  },
  {
   "cell_type": "code",
   "execution_count": 15,
   "metadata": {
    "ExecuteTime": {
     "end_time": "2020-07-22T03:01:34.329508Z",
     "start_time": "2020-07-22T03:01:34.296356Z"
    },
    "execution": {
     "iopub.execute_input": "2020-07-22T04:24:48.956646Z",
     "iopub.status.busy": "2020-07-22T04:24:48.955833Z",
     "iopub.status.idle": "2020-07-22T04:24:48.970161Z",
     "shell.execute_reply": "2020-07-22T04:24:48.970534Z"
    },
    "papermill": {
     "duration": 0.038668,
     "end_time": "2020-07-22T04:24:48.970681",
     "exception": false,
     "start_time": "2020-07-22T04:24:48.932013",
     "status": "completed"
    },
    "tags": []
   },
   "outputs": [
    {
     "data": {
      "text/plain": [
       "Index                  128\n",
       "acct               9210776\n",
       "property_use_cd    1154220\n",
       "bld_num            1154355\n",
       "impr_tp            1152139\n",
       "impr_mdl_cd        1152179\n",
       "structure_dscr     1152243\n",
       "dscr               1152109\n",
       "date_erected       2302694\n",
       "yr_remodel         9210776\n",
       "im_sq_ft           2302694\n",
       "act_ar             2302694\n",
       "heat_ar            2302694\n",
       "gross_ar           2302694\n",
       "eff_ar             2302694\n",
       "base_ar            2302694\n",
       "perimeter          2302694\n",
       "pct                4605388\n",
       "dtype: int64"
      ]
     },
     "execution_count": 15,
     "metadata": {},
     "output_type": "execute_result"
    }
   ],
   "source": [
    "building_res_df.memory_usage(deep=True)"
   ]
  },
  {
   "cell_type": "code",
   "execution_count": 16,
   "metadata": {
    "ExecuteTime": {
     "end_time": "2020-07-22T03:01:49.124965Z",
     "start_time": "2020-07-22T03:01:49.063980Z"
    },
    "execution": {
     "iopub.execute_input": "2020-07-22T04:24:49.017422Z",
     "iopub.status.busy": "2020-07-22T04:24:49.016628Z",
     "iopub.status.idle": "2020-07-22T04:24:49.043803Z",
     "shell.execute_reply": "2020-07-22T04:24:49.043059Z"
    },
    "papermill": {
     "duration": 0.051722,
     "end_time": "2020-07-22T04:24:49.043932",
     "exception": false,
     "start_time": "2020-07-22T04:24:48.992210",
     "status": "completed"
    },
    "tags": []
   },
   "outputs": [
    {
     "data": {
      "text/html": [
       "<div>\n",
       "<style scoped>\n",
       "    .dataframe tbody tr th:only-of-type {\n",
       "        vertical-align: middle;\n",
       "    }\n",
       "\n",
       "    .dataframe tbody tr th {\n",
       "        vertical-align: top;\n",
       "    }\n",
       "\n",
       "    .dataframe thead th {\n",
       "        text-align: right;\n",
       "    }\n",
       "</style>\n",
       "<table border=\"1\" class=\"dataframe\">\n",
       "  <thead>\n",
       "    <tr style=\"text-align: right;\">\n",
       "      <th></th>\n",
       "      <th>acct</th>\n",
       "      <th>property_use_cd</th>\n",
       "      <th>bld_num</th>\n",
       "      <th>impr_tp</th>\n",
       "      <th>impr_mdl_cd</th>\n",
       "      <th>structure_dscr</th>\n",
       "      <th>dscr</th>\n",
       "      <th>date_erected</th>\n",
       "      <th>yr_remodel</th>\n",
       "      <th>im_sq_ft</th>\n",
       "      <th>act_ar</th>\n",
       "      <th>heat_ar</th>\n",
       "      <th>gross_ar</th>\n",
       "      <th>eff_ar</th>\n",
       "      <th>base_ar</th>\n",
       "      <th>perimeter</th>\n",
       "      <th>pct</th>\n",
       "    </tr>\n",
       "  </thead>\n",
       "  <tbody>\n",
       "    <tr>\n",
       "      <th>0</th>\n",
       "      <td>21660000012</td>\n",
       "      <td>A1</td>\n",
       "      <td>1</td>\n",
       "      <td>1001</td>\n",
       "      <td>101</td>\n",
       "      <td>Residential</td>\n",
       "      <td>Good</td>\n",
       "      <td>2014</td>\n",
       "      <td>0</td>\n",
       "      <td>2328</td>\n",
       "      <td>2328</td>\n",
       "      <td>2328</td>\n",
       "      <td>2328</td>\n",
       "      <td>2212</td>\n",
       "      <td>2328</td>\n",
       "      <td>300</td>\n",
       "      <td>1.0</td>\n",
       "    </tr>\n",
       "    <tr>\n",
       "      <th>1</th>\n",
       "      <td>21700000013</td>\n",
       "      <td>A1</td>\n",
       "      <td>1</td>\n",
       "      <td>1001</td>\n",
       "      <td>101</td>\n",
       "      <td>Residential</td>\n",
       "      <td>Low</td>\n",
       "      <td>1920</td>\n",
       "      <td>2004</td>\n",
       "      <td>1434</td>\n",
       "      <td>1622</td>\n",
       "      <td>1434</td>\n",
       "      <td>1622</td>\n",
       "      <td>1453</td>\n",
       "      <td>1434</td>\n",
       "      <td>170</td>\n",
       "      <td>1.0</td>\n",
       "    </tr>\n",
       "    <tr>\n",
       "      <th>2</th>\n",
       "      <td>21870000006</td>\n",
       "      <td>A1</td>\n",
       "      <td>1</td>\n",
       "      <td>1001</td>\n",
       "      <td>101</td>\n",
       "      <td>Residential</td>\n",
       "      <td>Very Low</td>\n",
       "      <td>1940</td>\n",
       "      <td>0</td>\n",
       "      <td>572</td>\n",
       "      <td>652</td>\n",
       "      <td>572</td>\n",
       "      <td>652</td>\n",
       "      <td>598</td>\n",
       "      <td>572</td>\n",
       "      <td>96</td>\n",
       "      <td>1.0</td>\n",
       "    </tr>\n",
       "    <tr>\n",
       "      <th>3</th>\n",
       "      <td>21960000001</td>\n",
       "      <td>A1</td>\n",
       "      <td>2</td>\n",
       "      <td>1001</td>\n",
       "      <td>101</td>\n",
       "      <td>Residential</td>\n",
       "      <td>Low</td>\n",
       "      <td>1940</td>\n",
       "      <td>1999</td>\n",
       "      <td>4304</td>\n",
       "      <td>4984</td>\n",
       "      <td>4304</td>\n",
       "      <td>4984</td>\n",
       "      <td>4253</td>\n",
       "      <td>4304</td>\n",
       "      <td>444</td>\n",
       "      <td>1.0</td>\n",
       "    </tr>\n",
       "    <tr>\n",
       "      <th>4</th>\n",
       "      <td>22080000004</td>\n",
       "      <td>A1</td>\n",
       "      <td>2</td>\n",
       "      <td>1001</td>\n",
       "      <td>101</td>\n",
       "      <td>Residential</td>\n",
       "      <td>Low</td>\n",
       "      <td>1920</td>\n",
       "      <td>0</td>\n",
       "      <td>528</td>\n",
       "      <td>576</td>\n",
       "      <td>528</td>\n",
       "      <td>576</td>\n",
       "      <td>544</td>\n",
       "      <td>528</td>\n",
       "      <td>96</td>\n",
       "      <td>1.0</td>\n",
       "    </tr>\n",
       "  </tbody>\n",
       "</table>\n",
       "</div>"
      ],
      "text/plain": [
       "          acct property_use_cd bld_num impr_tp impr_mdl_cd structure_dscr  \\\n",
       "0  21660000012              A1       1    1001         101    Residential   \n",
       "1  21700000013              A1       1    1001         101    Residential   \n",
       "2  21870000006              A1       1    1001         101    Residential   \n",
       "3  21960000001              A1       2    1001         101    Residential   \n",
       "4  22080000004              A1       2    1001         101    Residential   \n",
       "\n",
       "       dscr  date_erected  yr_remodel  im_sq_ft  act_ar  heat_ar  gross_ar  \\\n",
       "0      Good          2014           0      2328    2328     2328      2328   \n",
       "1       Low          1920        2004      1434    1622     1434      1622   \n",
       "2  Very Low          1940           0       572     652      572       652   \n",
       "3       Low          1940        1999      4304    4984     4304      4984   \n",
       "4       Low          1920           0       528     576      528       576   \n",
       "\n",
       "   eff_ar  base_ar  perimeter  pct  \n",
       "0    2212     2328        300  1.0  \n",
       "1    1453     1434        170  1.0  \n",
       "2     598      572         96  1.0  \n",
       "3    4253     4304        444  1.0  \n",
       "4     544      528         96  1.0  "
      ]
     },
     "execution_count": 16,
     "metadata": {},
     "output_type": "execute_result"
    }
   ],
   "source": [
    "building_res_df.head()"
   ]
  },
  {
   "cell_type": "markdown",
   "metadata": {
    "papermill": {
     "duration": 0.021227,
     "end_time": "2020-07-22T04:24:49.101236",
     "exception": false,
     "start_time": "2020-07-22T04:24:49.080009",
     "status": "completed"
    },
    "tags": []
   },
   "source": [
    "# Select comparables\n",
    "\n",
    "From file `data/external/2016/code_desc_real` we find that the following columns define the free-standing single-family homes:\n",
    "\n",
    "1. property_use_cd: **A1** = Real, Residential, Single-Family\n",
    "2. impr_mdl_cd: **101** = Residential 1 Family\n",
    "3. impr_tp: **1001** = Residential Single Family\n",
    "4. structure_dscr: **Residential**\n",
    "5. pct: **1** = 100% built\n",
    "\n",
    "Let's filter the rows based on these criteria."
   ]
  },
  {
   "cell_type": "code",
   "execution_count": 17,
   "metadata": {
    "ExecuteTime": {
     "end_time": "2020-07-22T03:02:13.662281Z",
     "start_time": "2020-07-22T03:02:13.572754Z"
    },
    "execution": {
     "iopub.execute_input": "2020-07-22T04:24:49.148478Z",
     "iopub.status.busy": "2020-07-22T04:24:49.147813Z",
     "iopub.status.idle": "2020-07-22T04:24:49.162313Z",
     "shell.execute_reply": "2020-07-22T04:24:49.161808Z"
    },
    "papermill": {
     "duration": 0.039716,
     "end_time": "2020-07-22T04:24:49.162440",
     "exception": false,
     "start_time": "2020-07-22T04:24:49.122724",
     "status": "completed"
    },
    "tags": []
   },
   "outputs": [],
   "source": [
    "cond0 = building_res_df['property_use_cd'] == 'A1'\n",
    "cond1 = building_res_df['impr_mdl_cd'] == 101\n",
    "cond2 = building_res_df['impr_tp'] == 1001\n",
    "cond3 = building_res_df['structure_dscr'] == 'Residential'\n",
    "cond4 = building_res_df['pct'] == 1  # 100% built home"
   ]
  },
  {
   "cell_type": "code",
   "execution_count": 18,
   "metadata": {
    "ExecuteTime": {
     "end_time": "2020-07-22T03:02:17.310805Z",
     "start_time": "2020-07-22T03:02:17.206328Z"
    },
    "execution": {
     "iopub.execute_input": "2020-07-22T04:24:49.210524Z",
     "iopub.status.busy": "2020-07-22T04:24:49.209992Z",
     "iopub.status.idle": "2020-07-22T04:24:49.299864Z",
     "shell.execute_reply": "2020-07-22T04:24:49.299405Z"
    },
    "papermill": {
     "duration": 0.115614,
     "end_time": "2020-07-22T04:24:49.299999",
     "exception": false,
     "start_time": "2020-07-22T04:24:49.184385",
     "status": "completed"
    },
    "tags": []
   },
   "outputs": [],
   "source": [
    "building_res_comps = building_res_df.loc[cond0 & cond1 & cond2 & cond3 & cond4, :]"
   ]
  },
  {
   "cell_type": "code",
   "execution_count": 19,
   "metadata": {
    "ExecuteTime": {
     "end_time": "2020-07-22T03:02:18.898082Z",
     "start_time": "2020-07-22T03:02:18.836484Z"
    },
    "execution": {
     "iopub.execute_input": "2020-07-22T04:24:49.347107Z",
     "iopub.status.busy": "2020-07-22T04:24:49.346603Z",
     "iopub.status.idle": "2020-07-22T04:24:49.359429Z",
     "shell.execute_reply": "2020-07-22T04:24:49.359842Z"
    },
    "papermill": {
     "duration": 0.037748,
     "end_time": "2020-07-22T04:24:49.359984",
     "exception": false,
     "start_time": "2020-07-22T04:24:49.322236",
     "status": "completed"
    },
    "tags": []
   },
   "outputs": [
    {
     "data": {
      "text/plain": [
       "(993906, 17)"
      ]
     },
     "execution_count": 19,
     "metadata": {},
     "output_type": "execute_result"
    }
   ],
   "source": [
    "building_res_comps.shape"
   ]
  },
  {
   "cell_type": "markdown",
   "metadata": {
    "papermill": {
     "duration": 0.022173,
     "end_time": "2020-07-22T04:24:49.405035",
     "exception": false,
     "start_time": "2020-07-22T04:24:49.382862",
     "status": "completed"
    },
    "tags": []
   },
   "source": [
    "The property values are reported in the `real_acct.txt` file. There is only one set of appraised values for each account number. Let's make sure our filtered `building_res_comps` only contains accounts that have just one building."
   ]
  },
  {
   "cell_type": "code",
   "execution_count": 20,
   "metadata": {
    "ExecuteTime": {
     "end_time": "2020-07-22T03:02:30.300168Z",
     "start_time": "2020-07-22T03:02:30.012234Z"
    },
    "execution": {
     "iopub.execute_input": "2020-07-22T04:24:49.461996Z",
     "iopub.status.busy": "2020-07-22T04:24:49.461455Z",
     "iopub.status.idle": "2020-07-22T04:24:49.719196Z",
     "shell.execute_reply": "2020-07-22T04:24:49.718680Z"
    },
    "papermill": {
     "duration": 0.282821,
     "end_time": "2020-07-22T04:24:49.719316",
     "exception": false,
     "start_time": "2020-07-22T04:24:49.436495",
     "status": "completed"
    },
    "tags": []
   },
   "outputs": [],
   "source": [
    "total_bld_per_acct = building_res_comps.groupby('acct')['bld_num'].count()\n",
    "one_bld_in_acct = total_bld_per_acct[total_bld_per_acct == 1].index"
   ]
  },
  {
   "cell_type": "code",
   "execution_count": 21,
   "metadata": {
    "ExecuteTime": {
     "end_time": "2020-07-22T03:02:38.489450Z",
     "start_time": "2020-07-22T03:02:38.382054Z"
    },
    "execution": {
     "iopub.execute_input": "2020-07-22T04:24:49.767121Z",
     "iopub.status.busy": "2020-07-22T04:24:49.766609Z",
     "iopub.status.idle": "2020-07-22T04:24:49.855895Z",
     "shell.execute_reply": "2020-07-22T04:24:49.856328Z"
    },
    "papermill": {
     "duration": 0.115232,
     "end_time": "2020-07-22T04:24:49.856485",
     "exception": false,
     "start_time": "2020-07-22T04:24:49.741253",
     "status": "completed"
    },
    "tags": []
   },
   "outputs": [],
   "source": [
    "assert one_bld_in_acct.is_unique, f\"Non-unique accounts: {one_bld_in_acct}\""
   ]
  },
  {
   "cell_type": "code",
   "execution_count": 22,
   "metadata": {
    "ExecuteTime": {
     "end_time": "2020-07-22T03:02:49.417724Z",
     "start_time": "2020-07-22T03:02:48.836727Z"
    },
    "execution": {
     "iopub.execute_input": "2020-07-22T04:24:49.904848Z",
     "iopub.status.busy": "2020-07-22T04:24:49.904161Z",
     "iopub.status.idle": "2020-07-22T04:24:50.258615Z",
     "shell.execute_reply": "2020-07-22T04:24:50.258023Z"
    },
    "papermill": {
     "duration": 0.379925,
     "end_time": "2020-07-22T04:24:50.258740",
     "exception": false,
     "start_time": "2020-07-22T04:24:49.878815",
     "status": "completed"
    },
    "tags": []
   },
   "outputs": [],
   "source": [
    "cond0 = building_res_comps['acct'].isin(one_bld_in_acct)\n",
    "building_res_comps = building_res_comps.loc[cond0, :]"
   ]
  },
  {
   "cell_type": "code",
   "execution_count": 23,
   "metadata": {
    "ExecuteTime": {
     "end_time": "2020-07-22T03:02:51.600694Z",
     "start_time": "2020-07-22T03:02:51.578221Z"
    },
    "execution": {
     "iopub.execute_input": "2020-07-22T04:24:50.307184Z",
     "iopub.status.busy": "2020-07-22T04:24:50.306377Z",
     "iopub.status.idle": "2020-07-22T04:24:50.319037Z",
     "shell.execute_reply": "2020-07-22T04:24:50.319437Z"
    },
    "papermill": {
     "duration": 0.038585,
     "end_time": "2020-07-22T04:24:50.319580",
     "exception": false,
     "start_time": "2020-07-22T04:24:50.280995",
     "status": "completed"
    },
    "tags": []
   },
   "outputs": [
    {
     "data": {
      "text/plain": [
       "(957687, 17)"
      ]
     },
     "execution_count": 23,
     "metadata": {},
     "output_type": "execute_result"
    }
   ],
   "source": [
    "building_res_comps.shape"
   ]
  },
  {
   "cell_type": "markdown",
   "metadata": {
    "papermill": {
     "duration": 0.022413,
     "end_time": "2020-07-22T04:24:50.364921",
     "exception": false,
     "start_time": "2020-07-22T04:24:50.342508",
     "status": "completed"
    },
    "tags": []
   },
   "source": [
    "# Select columns in comparables\n",
    "Since the accounts remaining all have the same free-standing single-family defining columns values, we would like to export only the columns that change for this subset of the data."
   ]
  },
  {
   "cell_type": "code",
   "execution_count": 24,
   "metadata": {
    "ExecuteTime": {
     "end_time": "2020-07-22T03:03:01.281180Z",
     "start_time": "2020-07-22T03:03:01.203783Z"
    },
    "execution": {
     "iopub.execute_input": "2020-07-22T04:24:50.414338Z",
     "iopub.status.busy": "2020-07-22T04:24:50.413815Z",
     "iopub.status.idle": "2020-07-22T04:24:50.426159Z",
     "shell.execute_reply": "2020-07-22T04:24:50.426612Z"
    },
    "papermill": {
     "duration": 0.038596,
     "end_time": "2020-07-22T04:24:50.426766",
     "exception": false,
     "start_time": "2020-07-22T04:24:50.388170",
     "status": "completed"
    },
    "tags": []
   },
   "outputs": [
    {
     "data": {
      "text/plain": [
       "Index(['acct', 'property_use_cd', 'bld_num', 'impr_tp', 'impr_mdl_cd',\n",
       "       'structure_dscr', 'dscr', 'date_erected', 'yr_remodel', 'im_sq_ft',\n",
       "       'act_ar', 'heat_ar', 'gross_ar', 'eff_ar', 'base_ar', 'perimeter',\n",
       "       'pct'],\n",
       "      dtype='object')"
      ]
     },
     "execution_count": 24,
     "metadata": {},
     "output_type": "execute_result"
    }
   ],
   "source": [
    "building_res_comps.columns"
   ]
  },
  {
   "cell_type": "code",
   "execution_count": 25,
   "metadata": {
    "ExecuteTime": {
     "end_time": "2020-07-22T03:03:10.213715Z",
     "start_time": "2020-07-22T03:03:10.163945Z"
    },
    "execution": {
     "iopub.execute_input": "2020-07-22T04:24:50.477028Z",
     "iopub.status.busy": "2020-07-22T04:24:50.476511Z",
     "iopub.status.idle": "2020-07-22T04:24:50.487921Z",
     "shell.execute_reply": "2020-07-22T04:24:50.487198Z"
    },
    "papermill": {
     "duration": 0.038599,
     "end_time": "2020-07-22T04:24:50.488111",
     "exception": false,
     "start_time": "2020-07-22T04:24:50.449512",
     "status": "completed"
    },
    "tags": []
   },
   "outputs": [],
   "source": [
    "cols = [\n",
    "    'acct',     # Property unique account number\n",
    "    'dscr',     # Quality description\n",
    "    'date_erected',\n",
    "    'yr_remodel',\n",
    "    'im_sq_ft', # Improvement square feet\n",
    "    'act_ar',   # Actual area\n",
    "    'heat_ar',  # Heat area\n",
    "    'gross_ar', # Gross area\n",
    "    'eff_ar',   # Affective area\n",
    "    'base_ar',  # Base area\n",
    "    'perimeter',\n",
    "]"
   ]
  },
  {
   "cell_type": "code",
   "execution_count": 26,
   "metadata": {
    "ExecuteTime": {
     "end_time": "2020-07-22T03:03:11.502251Z",
     "start_time": "2020-07-22T03:03:11.466239Z"
    },
    "execution": {
     "iopub.execute_input": "2020-07-22T04:24:50.539114Z",
     "iopub.status.busy": "2020-07-22T04:24:50.538611Z",
     "iopub.status.idle": "2020-07-22T04:24:50.564500Z",
     "shell.execute_reply": "2020-07-22T04:24:50.564957Z"
    },
    "papermill": {
     "duration": 0.053403,
     "end_time": "2020-07-22T04:24:50.565120",
     "exception": false,
     "start_time": "2020-07-22T04:24:50.511717",
     "status": "completed"
    },
    "tags": []
   },
   "outputs": [],
   "source": [
    "building_res_comps = building_res_comps.loc[:, cols]"
   ]
  },
  {
   "cell_type": "code",
   "execution_count": 27,
   "metadata": {
    "ExecuteTime": {
     "end_time": "2020-07-22T03:03:12.481960Z",
     "start_time": "2020-07-22T03:03:12.397853Z"
    },
    "execution": {
     "iopub.execute_input": "2020-07-22T04:24:50.615172Z",
     "iopub.status.busy": "2020-07-22T04:24:50.614248Z",
     "iopub.status.idle": "2020-07-22T04:24:50.634439Z",
     "shell.execute_reply": "2020-07-22T04:24:50.633918Z"
    },
    "papermill": {
     "duration": 0.046102,
     "end_time": "2020-07-22T04:24:50.634561",
     "exception": false,
     "start_time": "2020-07-22T04:24:50.588459",
     "status": "completed"
    },
    "tags": []
   },
   "outputs": [
    {
     "data": {
      "text/html": [
       "<div>\n",
       "<style scoped>\n",
       "    .dataframe tbody tr th:only-of-type {\n",
       "        vertical-align: middle;\n",
       "    }\n",
       "\n",
       "    .dataframe tbody tr th {\n",
       "        vertical-align: top;\n",
       "    }\n",
       "\n",
       "    .dataframe thead th {\n",
       "        text-align: right;\n",
       "    }\n",
       "</style>\n",
       "<table border=\"1\" class=\"dataframe\">\n",
       "  <thead>\n",
       "    <tr style=\"text-align: right;\">\n",
       "      <th></th>\n",
       "      <th>acct</th>\n",
       "      <th>dscr</th>\n",
       "      <th>date_erected</th>\n",
       "      <th>yr_remodel</th>\n",
       "      <th>im_sq_ft</th>\n",
       "      <th>act_ar</th>\n",
       "      <th>heat_ar</th>\n",
       "      <th>gross_ar</th>\n",
       "      <th>eff_ar</th>\n",
       "      <th>base_ar</th>\n",
       "      <th>perimeter</th>\n",
       "    </tr>\n",
       "  </thead>\n",
       "  <tbody>\n",
       "    <tr>\n",
       "      <th>0</th>\n",
       "      <td>21660000012</td>\n",
       "      <td>Good</td>\n",
       "      <td>2014</td>\n",
       "      <td>0</td>\n",
       "      <td>2328</td>\n",
       "      <td>2328</td>\n",
       "      <td>2328</td>\n",
       "      <td>2328</td>\n",
       "      <td>2212</td>\n",
       "      <td>2328</td>\n",
       "      <td>300</td>\n",
       "    </tr>\n",
       "    <tr>\n",
       "      <th>1</th>\n",
       "      <td>21700000013</td>\n",
       "      <td>Low</td>\n",
       "      <td>1920</td>\n",
       "      <td>2004</td>\n",
       "      <td>1434</td>\n",
       "      <td>1622</td>\n",
       "      <td>1434</td>\n",
       "      <td>1622</td>\n",
       "      <td>1453</td>\n",
       "      <td>1434</td>\n",
       "      <td>170</td>\n",
       "    </tr>\n",
       "    <tr>\n",
       "      <th>3</th>\n",
       "      <td>21960000001</td>\n",
       "      <td>Low</td>\n",
       "      <td>1940</td>\n",
       "      <td>1999</td>\n",
       "      <td>4304</td>\n",
       "      <td>4984</td>\n",
       "      <td>4304</td>\n",
       "      <td>4984</td>\n",
       "      <td>4253</td>\n",
       "      <td>4304</td>\n",
       "      <td>444</td>\n",
       "    </tr>\n",
       "    <tr>\n",
       "      <th>6</th>\n",
       "      <td>22080000008</td>\n",
       "      <td>Low</td>\n",
       "      <td>1940</td>\n",
       "      <td>0</td>\n",
       "      <td>2240</td>\n",
       "      <td>2732</td>\n",
       "      <td>2240</td>\n",
       "      <td>2732</td>\n",
       "      <td>2270</td>\n",
       "      <td>2240</td>\n",
       "      <td>272</td>\n",
       "    </tr>\n",
       "    <tr>\n",
       "      <th>8</th>\n",
       "      <td>22620000008</td>\n",
       "      <td>Good</td>\n",
       "      <td>2013</td>\n",
       "      <td>0</td>\n",
       "      <td>1778</td>\n",
       "      <td>1808</td>\n",
       "      <td>1778</td>\n",
       "      <td>1808</td>\n",
       "      <td>1699</td>\n",
       "      <td>1778</td>\n",
       "      <td>256</td>\n",
       "    </tr>\n",
       "  </tbody>\n",
       "</table>\n",
       "</div>"
      ],
      "text/plain": [
       "          acct  dscr  date_erected  yr_remodel  im_sq_ft  act_ar  heat_ar  \\\n",
       "0  21660000012  Good          2014           0      2328    2328     2328   \n",
       "1  21700000013   Low          1920        2004      1434    1622     1434   \n",
       "3  21960000001   Low          1940        1999      4304    4984     4304   \n",
       "6  22080000008   Low          1940           0      2240    2732     2240   \n",
       "8  22620000008  Good          2013           0      1778    1808     1778   \n",
       "\n",
       "   gross_ar  eff_ar  base_ar  perimeter  \n",
       "0      2328    2212     2328        300  \n",
       "1      1622    1453     1434        170  \n",
       "3      4984    4253     4304        444  \n",
       "6      2732    2270     2240        272  \n",
       "8      1808    1699     1778        256  "
      ]
     },
     "execution_count": 27,
     "metadata": {},
     "output_type": "execute_result"
    }
   ],
   "source": [
    "building_res_comps.head()"
   ]
  },
  {
   "cell_type": "code",
   "execution_count": 28,
   "metadata": {
    "ExecuteTime": {
     "end_time": "2020-07-22T03:03:15.942526Z",
     "start_time": "2020-07-22T03:03:15.922963Z"
    },
    "execution": {
     "iopub.execute_input": "2020-07-22T04:24:50.686698Z",
     "iopub.status.busy": "2020-07-22T04:24:50.685927Z",
     "iopub.status.idle": "2020-07-22T04:24:50.698398Z",
     "shell.execute_reply": "2020-07-22T04:24:50.697873Z"
    },
    "papermill": {
     "duration": 0.039477,
     "end_time": "2020-07-22T04:24:50.698517",
     "exception": false,
     "start_time": "2020-07-22T04:24:50.659040",
     "status": "completed"
    },
    "tags": []
   },
   "outputs": [
    {
     "data": {
      "text/plain": [
       "(957687, 11)"
      ]
     },
     "execution_count": 28,
     "metadata": {},
     "output_type": "execute_result"
    }
   ],
   "source": [
    "building_res_comps.shape"
   ]
  },
  {
   "cell_type": "markdown",
   "metadata": {
    "papermill": {
     "duration": 0.02437,
     "end_time": "2020-07-22T04:24:50.747609",
     "exception": false,
     "start_time": "2020-07-22T04:24:50.723239",
     "status": "completed"
    },
    "tags": []
   },
   "source": [
    "# Export building_res_comps\n",
    "That was a lot of work! Let's save it as a pickle file and continue the data conditioning in the next notebook."
   ]
  },
  {
   "cell_type": "code",
   "execution_count": 29,
   "metadata": {
    "ExecuteTime": {
     "end_time": "2020-07-22T03:03:17.014007Z",
     "start_time": "2020-07-22T03:03:16.994501Z"
    },
    "execution": {
     "iopub.execute_input": "2020-07-22T04:24:50.801131Z",
     "iopub.status.busy": "2020-07-22T04:24:50.800310Z",
     "iopub.status.idle": "2020-07-22T04:24:50.811372Z",
     "shell.execute_reply": "2020-07-22T04:24:50.811861Z"
    },
    "papermill": {
     "duration": 0.039602,
     "end_time": "2020-07-22T04:24:50.812071",
     "exception": false,
     "start_time": "2020-07-22T04:24:50.772469",
     "status": "completed"
    },
    "tags": []
   },
   "outputs": [],
   "source": [
    "from src.data.utils import save_pickle"
   ]
  },
  {
   "cell_type": "code",
   "execution_count": 30,
   "metadata": {
    "ExecuteTime": {
     "end_time": "2020-07-22T03:03:19.343923Z",
     "start_time": "2020-07-22T03:03:19.324254Z"
    },
    "execution": {
     "iopub.execute_input": "2020-07-22T04:24:50.864406Z",
     "iopub.status.busy": "2020-07-22T04:24:50.863575Z",
     "iopub.status.idle": "2020-07-22T04:24:50.874970Z",
     "shell.execute_reply": "2020-07-22T04:24:50.874510Z"
    },
    "papermill": {
     "duration": 0.038716,
     "end_time": "2020-07-22T04:24:50.875094",
     "exception": false,
     "start_time": "2020-07-22T04:24:50.836378",
     "status": "completed"
    },
    "tags": []
   },
   "outputs": [],
   "source": [
    "save_fn = ROOT_DIR / 'data/raw/2016/building_res_comps.pickle'"
   ]
  },
  {
   "cell_type": "code",
   "execution_count": 31,
   "metadata": {
    "ExecuteTime": {
     "end_time": "2020-07-22T03:03:20.209203Z",
     "start_time": "2020-07-22T03:03:20.135899Z"
    },
    "execution": {
     "iopub.execute_input": "2020-07-22T04:24:50.927942Z",
     "iopub.status.busy": "2020-07-22T04:24:50.927432Z",
     "iopub.status.idle": "2020-07-22T04:24:50.978679Z",
     "shell.execute_reply": "2020-07-22T04:24:50.979139Z"
    },
    "papermill": {
     "duration": 0.0788,
     "end_time": "2020-07-22T04:24:50.979285",
     "exception": false,
     "start_time": "2020-07-22T04:24:50.900485",
     "status": "completed"
    },
    "tags": []
   },
   "outputs": [],
   "source": [
    "save_pickle(building_res_comps, save_fn)"
   ]
  },
  {
   "cell_type": "markdown",
   "metadata": {
    "papermill": {
     "duration": 0.024288,
     "end_time": "2020-07-22T04:24:51.028269",
     "exception": false,
     "start_time": "2020-07-22T04:24:51.003981",
     "status": "completed"
    },
    "tags": []
   },
   "source": [
    "# Export unique account numbers of interest: one_bld_in_acct"
   ]
  },
  {
   "cell_type": "code",
   "execution_count": 32,
   "metadata": {
    "ExecuteTime": {
     "end_time": "2020-07-22T03:03:23.273224Z",
     "start_time": "2020-07-22T03:03:23.243391Z"
    },
    "execution": {
     "iopub.execute_input": "2020-07-22T04:24:51.096180Z",
     "iopub.status.busy": "2020-07-22T04:24:51.095472Z",
     "iopub.status.idle": "2020-07-22T04:24:51.106487Z",
     "shell.execute_reply": "2020-07-22T04:24:51.106944Z"
    },
    "papermill": {
     "duration": 0.040882,
     "end_time": "2020-07-22T04:24:51.107092",
     "exception": false,
     "start_time": "2020-07-22T04:24:51.066210",
     "status": "completed"
    },
    "tags": []
   },
   "outputs": [],
   "source": [
    "save_fn = ROOT_DIR / 'data/raw/2016/one_bld_in_acct.pickle'"
   ]
  },
  {
   "cell_type": "code",
   "execution_count": 33,
   "metadata": {
    "ExecuteTime": {
     "end_time": "2020-07-22T03:03:23.633404Z",
     "start_time": "2020-07-22T03:03:23.608175Z"
    },
    "execution": {
     "iopub.execute_input": "2020-07-22T04:24:51.160018Z",
     "iopub.status.busy": "2020-07-22T04:24:51.159189Z",
     "iopub.status.idle": "2020-07-22T04:24:51.175979Z",
     "shell.execute_reply": "2020-07-22T04:24:51.175532Z"
    },
    "papermill": {
     "duration": 0.043989,
     "end_time": "2020-07-22T04:24:51.176100",
     "exception": false,
     "start_time": "2020-07-22T04:24:51.132111",
     "status": "completed"
    },
    "tags": []
   },
   "outputs": [],
   "source": [
    "save_pickle(one_bld_in_acct, save_fn)"
   ]
  }
 ],
 "metadata": {
  "kernelspec": {
   "display_name": "hcad_pred",
   "language": "python",
   "name": "hcad_pred"
  },
  "language_info": {
   "codemirror_mode": {
    "name": "ipython",
    "version": 3
   },
   "file_extension": ".py",
   "mimetype": "text/x-python",
   "name": "python",
   "nbconvert_exporter": "python",
   "pygments_lexer": "ipython3",
   "version": "3.7.6"
  },
  "papermill": {
   "duration": 9.21788,
   "end_time": "2020-07-22T04:24:51.507909",
   "environment_variables": {},
   "exception": null,
   "input_path": "/media/hdd/projects/springboard/hcad_pred/notebooks/01_Exploratory/1.0-rp-hcad-data-view-building-res.ipynb",
   "output_path": "/media/hdd/projects/springboard/hcad_pred/notebooks/01_Exploratory/output/1.0-rp-hcad-data-view-building-res_20200721.ipynb",
   "parameters": {},
   "start_time": "2020-07-22T04:24:42.290029",
   "version": "2.1.2"
  },
  "toc": {
   "base_numbering": 1,
   "nav_menu": {},
   "number_sections": true,
   "sideBar": true,
   "skip_h1_title": false,
   "title_cell": "Table of Contents",
   "title_sidebar": "Contents",
   "toc_cell": false,
   "toc_position": {},
   "toc_section_display": true,
   "toc_window_display": false
  }
 },
 "nbformat": 4,
 "nbformat_minor": 4
}