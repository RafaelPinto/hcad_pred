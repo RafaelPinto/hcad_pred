{
 "cells": [
  {
   "cell_type": "markdown",
   "metadata": {
    "papermill": {
     "duration": 0.022444,
     "end_time": "2020-09-13T12:45:55.295626",
     "exception": false,
     "start_time": "2020-09-13T12:45:55.273182",
     "status": "completed"
    },
    "tags": []
   },
   "source": [
    "# Find the comparables: extra_features.txt\n",
    "\n",
    "The file `extra_features.txt` contains important property information like number and quality of pools, detached garages, outbuildings, canopies, and more. Let's load this file and grab a subset with the important columns to continue our study."
   ]
  },
  {
   "cell_type": "code",
   "execution_count": 1,
   "metadata": {
    "ExecuteTime": {
     "end_time": "2020-07-28T11:04:15.487172Z",
     "start_time": "2020-07-28T11:04:15.451845Z"
    },
    "execution": {
     "iopub.execute_input": "2020-09-13T12:45:55.341354Z",
     "iopub.status.busy": "2020-09-13T12:45:55.340683Z",
     "iopub.status.idle": "2020-09-13T12:45:55.354319Z",
     "shell.execute_reply": "2020-09-13T12:45:55.354808Z"
    },
    "papermill": {
     "duration": 0.039392,
     "end_time": "2020-09-13T12:45:55.355091",
     "exception": false,
     "start_time": "2020-09-13T12:45:55.315699",
     "status": "completed"
    },
    "tags": []
   },
   "outputs": [],
   "source": [
    "%load_ext autoreload\n",
    "%autoreload 2"
   ]
  },
  {
   "cell_type": "code",
   "execution_count": 2,
   "metadata": {
    "ExecuteTime": {
     "end_time": "2020-07-28T11:04:15.910958Z",
     "start_time": "2020-07-28T11:04:15.489969Z"
    },
    "execution": {
     "iopub.execute_input": "2020-09-13T12:45:55.394046Z",
     "iopub.status.busy": "2020-09-13T12:45:55.393116Z",
     "iopub.status.idle": "2020-09-13T12:45:56.067190Z",
     "shell.execute_reply": "2020-09-13T12:45:56.068135Z"
    },
    "papermill": {
     "duration": 0.695893,
     "end_time": "2020-09-13T12:45:56.068331",
     "exception": false,
     "start_time": "2020-09-13T12:45:55.372438",
     "status": "completed"
    },
    "tags": []
   },
   "outputs": [],
   "source": [
    "from pathlib import Path\n",
    "import pickle\n",
    "\n",
    "import pandas as pd\n",
    "\n",
    "from src.definitions import ROOT_DIR\n",
    "from src.data.utils import Table, save_pickle"
   ]
  },
  {
   "cell_type": "code",
   "execution_count": 3,
   "metadata": {
    "ExecuteTime": {
     "end_time": "2020-07-28T11:04:15.928691Z",
     "start_time": "2020-07-28T11:04:15.913867Z"
    },
    "execution": {
     "iopub.execute_input": "2020-09-13T12:45:56.109558Z",
     "iopub.status.busy": "2020-09-13T12:45:56.108951Z",
     "iopub.status.idle": "2020-09-13T12:45:56.126935Z",
     "shell.execute_reply": "2020-09-13T12:45:56.127381Z"
    },
    "papermill": {
     "duration": 0.040616,
     "end_time": "2020-09-13T12:45:56.127547",
     "exception": false,
     "start_time": "2020-09-13T12:45:56.086931",
     "status": "completed"
    },
    "tags": []
   },
   "outputs": [],
   "source": [
    "extra_features_fn = ROOT_DIR / 'data/external/2016/Real_building_land/extra_features.txt'\n",
    "assert extra_features_fn.exists()"
   ]
  },
  {
   "cell_type": "code",
   "execution_count": 4,
   "metadata": {
    "ExecuteTime": {
     "end_time": "2020-07-28T11:04:15.946824Z",
     "start_time": "2020-07-28T11:04:15.931271Z"
    },
    "execution": {
     "iopub.execute_input": "2020-09-13T12:45:56.167461Z",
     "iopub.status.busy": "2020-09-13T12:45:56.166868Z",
     "iopub.status.idle": "2020-09-13T12:45:56.184926Z",
     "shell.execute_reply": "2020-09-13T12:45:56.184446Z"
    },
    "papermill": {
     "duration": 0.039846,
     "end_time": "2020-09-13T12:45:56.185075",
     "exception": false,
     "start_time": "2020-09-13T12:45:56.145229",
     "status": "completed"
    },
    "tags": []
   },
   "outputs": [],
   "source": [
    "extra_features = Table(extra_features_fn, '2016')"
   ]
  },
  {
   "cell_type": "code",
   "execution_count": 5,
   "metadata": {
    "ExecuteTime": {
     "end_time": "2020-07-28T11:04:15.984801Z",
     "start_time": "2020-07-28T11:04:15.948189Z"
    },
    "execution": {
     "iopub.execute_input": "2020-09-13T12:45:56.223913Z",
     "iopub.status.busy": "2020-09-13T12:45:56.223382Z",
     "iopub.status.idle": "2020-09-13T12:45:56.260835Z",
     "shell.execute_reply": "2020-09-13T12:45:56.261344Z"
    },
    "papermill": {
     "duration": 0.058732,
     "end_time": "2020-09-13T12:45:56.261511",
     "exception": false,
     "start_time": "2020-09-13T12:45:56.202779",
     "status": "completed"
    },
    "tags": []
   },
   "outputs": [
    {
     "data": {
      "text/plain": [
       "['acct',\n",
       " 'bld_num',\n",
       " 'count',\n",
       " 'grade',\n",
       " 'cd',\n",
       " 's_dscr',\n",
       " 'l_dscr',\n",
       " 'cat',\n",
       " 'dscr',\n",
       " 'note',\n",
       " 'uts']"
      ]
     },
     "execution_count": 5,
     "metadata": {},
     "output_type": "execute_result"
    }
   ],
   "source": [
    "extra_features.get_header()"
   ]
  },
  {
   "cell_type": "markdown",
   "metadata": {
    "papermill": {
     "duration": 0.017388,
     "end_time": "2020-09-13T12:45:56.296852",
     "exception": false,
     "start_time": "2020-09-13T12:45:56.279464",
     "status": "completed"
    },
    "tags": []
   },
   "source": [
    "# Load accounts of interest\n",
    "Let's remove the account numbers that don't meet free-standing single-family home criteria that we found while processing the `building_res.txt` file."
   ]
  },
  {
   "cell_type": "code",
   "execution_count": 6,
   "metadata": {
    "ExecuteTime": {
     "end_time": "2020-07-28T11:04:16.858659Z",
     "start_time": "2020-07-28T11:04:15.987080Z"
    },
    "execution": {
     "iopub.execute_input": "2020-09-13T12:45:56.334641Z",
     "iopub.status.busy": "2020-09-13T12:45:56.333899Z",
     "iopub.status.idle": "2020-09-13T12:45:57.793172Z",
     "shell.execute_reply": "2020-09-13T12:45:57.793665Z"
    },
    "papermill": {
     "duration": 1.479523,
     "end_time": "2020-09-13T12:45:57.793838",
     "exception": false,
     "start_time": "2020-09-13T12:45:56.314315",
     "status": "completed"
    },
    "tags": []
   },
   "outputs": [],
   "source": [
    "skiprows = extra_features.get_skiprows()"
   ]
  },
  {
   "cell_type": "code",
   "execution_count": 7,
   "metadata": {
    "ExecuteTime": {
     "end_time": "2020-07-28T11:04:17.903178Z",
     "start_time": "2020-07-28T11:04:16.861253Z"
    },
    "execution": {
     "iopub.execute_input": "2020-09-13T12:45:57.837043Z",
     "iopub.status.busy": "2020-09-13T12:45:57.836136Z",
     "iopub.status.idle": "2020-09-13T12:45:58.982954Z",
     "shell.execute_reply": "2020-09-13T12:45:58.983398Z"
    },
    "papermill": {
     "duration": 1.171747,
     "end_time": "2020-09-13T12:45:58.983569",
     "exception": false,
     "start_time": "2020-09-13T12:45:57.811822",
     "status": "completed"
    },
    "tags": []
   },
   "outputs": [],
   "source": [
    "extra_features_df = extra_features.get_df(skiprows=skiprows)"
   ]
  },
  {
   "cell_type": "code",
   "execution_count": 8,
   "metadata": {
    "ExecuteTime": {
     "end_time": "2020-07-28T11:04:17.934876Z",
     "start_time": "2020-07-28T11:04:17.906550Z"
    },
    "execution": {
     "iopub.execute_input": "2020-09-13T12:45:59.022648Z",
     "iopub.status.busy": "2020-09-13T12:45:59.021744Z",
     "iopub.status.idle": "2020-09-13T12:45:59.051154Z",
     "shell.execute_reply": "2020-09-13T12:45:59.051883Z"
    },
    "papermill": {
     "duration": 0.050469,
     "end_time": "2020-09-13T12:45:59.052127",
     "exception": false,
     "start_time": "2020-09-13T12:45:59.001658",
     "status": "completed"
    },
    "tags": []
   },
   "outputs": [
    {
     "data": {
      "text/html": [
       "<div>\n",
       "<style scoped>\n",
       "    .dataframe tbody tr th:only-of-type {\n",
       "        vertical-align: middle;\n",
       "    }\n",
       "\n",
       "    .dataframe tbody tr th {\n",
       "        vertical-align: top;\n",
       "    }\n",
       "\n",
       "    .dataframe thead th {\n",
       "        text-align: right;\n",
       "    }\n",
       "</style>\n",
       "<table border=\"1\" class=\"dataframe\">\n",
       "  <thead>\n",
       "    <tr style=\"text-align: right;\">\n",
       "      <th></th>\n",
       "      <th>acct</th>\n",
       "      <th>bld_num</th>\n",
       "      <th>count</th>\n",
       "      <th>grade</th>\n",
       "      <th>cd</th>\n",
       "      <th>s_dscr</th>\n",
       "      <th>l_dscr</th>\n",
       "      <th>cat</th>\n",
       "      <th>dscr</th>\n",
       "      <th>note</th>\n",
       "      <th>uts</th>\n",
       "    </tr>\n",
       "  </thead>\n",
       "  <tbody>\n",
       "    <tr>\n",
       "      <th>0</th>\n",
       "      <td>21440000001</td>\n",
       "      <td>0</td>\n",
       "      <td>2</td>\n",
       "      <td>4</td>\n",
       "      <td>RRS1</td>\n",
       "      <td>WDUtSh</td>\n",
       "      <td>Frame Utility Shed</td>\n",
       "      <td>OB</td>\n",
       "      <td>Outbuildings</td>\n",
       "      <td></td>\n",
       "      <td>110.0</td>\n",
       "    </tr>\n",
       "    <tr>\n",
       "      <th>1</th>\n",
       "      <td>21440000001</td>\n",
       "      <td>0</td>\n",
       "      <td>2</td>\n",
       "      <td>4</td>\n",
       "      <td>RRS1</td>\n",
       "      <td>WDUtSh</td>\n",
       "      <td>Frame Utility Shed</td>\n",
       "      <td>OB</td>\n",
       "      <td>Outbuildings</td>\n",
       "      <td></td>\n",
       "      <td>130.0</td>\n",
       "    </tr>\n",
       "    <tr>\n",
       "      <th>2</th>\n",
       "      <td>21480000002</td>\n",
       "      <td>1</td>\n",
       "      <td>1</td>\n",
       "      <td>4</td>\n",
       "      <td>ROGV</td>\n",
       "      <td>OtherRs</td>\n",
       "      <td>Residential Other Gross Value</td>\n",
       "      <td>MS</td>\n",
       "      <td>Miscellaneous</td>\n",
       "      <td>SALV GAR APMT.</td>\n",
       "      <td>0.5</td>\n",
       "    </tr>\n",
       "    <tr>\n",
       "      <th>3</th>\n",
       "      <td>21650000007</td>\n",
       "      <td>0</td>\n",
       "      <td>1</td>\n",
       "      <td>4</td>\n",
       "      <td>RRP5</td>\n",
       "      <td>GnPool</td>\n",
       "      <td>Gunite Pool</td>\n",
       "      <td>PL</td>\n",
       "      <td>Pools</td>\n",
       "      <td></td>\n",
       "      <td>368.0</td>\n",
       "    </tr>\n",
       "    <tr>\n",
       "      <th>4</th>\n",
       "      <td>21700000013</td>\n",
       "      <td>0</td>\n",
       "      <td>1</td>\n",
       "      <td>5</td>\n",
       "      <td>RRG1</td>\n",
       "      <td>FrmGar</td>\n",
       "      <td>Frame Detached Garage</td>\n",
       "      <td>GR</td>\n",
       "      <td>Garage</td>\n",
       "      <td></td>\n",
       "      <td>225.0</td>\n",
       "    </tr>\n",
       "  </tbody>\n",
       "</table>\n",
       "</div>"
      ],
      "text/plain": [
       "          acct  bld_num  count  grade      cd   s_dscr  \\\n",
       "0  21440000001        0      2      4  RRS1     WDUtSh   \n",
       "1  21440000001        0      2      4  RRS1     WDUtSh   \n",
       "2  21480000002        1      1      4  ROGV    OtherRs   \n",
       "3  21650000007        0      1      4  RRP5     GnPool   \n",
       "4  21700000013        0      1      5  RRG1     FrmGar   \n",
       "\n",
       "                          l_dscr cat           dscr            note    uts  \n",
       "0             Frame Utility Shed  OB   Outbuildings                  110.0  \n",
       "1             Frame Utility Shed  OB   Outbuildings                  130.0  \n",
       "2  Residential Other Gross Value  MS  Miscellaneous  SALV GAR APMT.    0.5  \n",
       "3                    Gunite Pool  PL          Pools                  368.0  \n",
       "4          Frame Detached Garage  GR         Garage                  225.0  "
      ]
     },
     "execution_count": 8,
     "metadata": {},
     "output_type": "execute_result"
    }
   ],
   "source": [
    "extra_features_df.head()"
   ]
  },
  {
   "cell_type": "code",
   "execution_count": 9,
   "metadata": {
    "ExecuteTime": {
     "end_time": "2020-07-28T11:04:18.015446Z",
     "start_time": "2020-07-28T11:04:17.939213Z"
    },
    "execution": {
     "iopub.execute_input": "2020-09-13T12:45:59.129205Z",
     "iopub.status.busy": "2020-09-13T12:45:59.128365Z",
     "iopub.status.idle": "2020-09-13T12:45:59.192740Z",
     "shell.execute_reply": "2020-09-13T12:45:59.193375Z"
    },
    "papermill": {
     "duration": 0.102358,
     "end_time": "2020-09-13T12:45:59.193543",
     "exception": false,
     "start_time": "2020-09-13T12:45:59.091185",
     "status": "completed"
    },
    "tags": []
   },
   "outputs": [
    {
     "data": {
      "text/plain": [
       "Frame Detached Garage                       181620\n",
       "Frame Utility Shed                           93377\n",
       "Gunite Pool                                  88000\n",
       "Canopy - Residential                         85894\n",
       "Carport - Residential                        76605\n",
       "Pool SPA with Heater                         37244\n",
       "Metal Utility Shed                           19563\n",
       "Foundation Repaired                          17655\n",
       "Cracked Slab                                 16123\n",
       "Residential Other Gross Value                14816\n",
       "Brick or Stone Detached Garage               13804\n",
       "Frame Detached Garage w/living area abov      7059\n",
       "Custom Outdoor Kitchen                        4301\n",
       "Reinforced Concrete Pool                      3729\n",
       "Basic Outdoor Kitchen                         2304\n",
       "Utility Building - Metal                      2007\n",
       "4 Side closed Metal Pole Barn                 1889\n",
       "Brick or Stone Detached Garage w/living       1461\n",
       "Utility Building - Frame                      1430\n",
       "Light Wood Deck Lt Posts Boat Dock            1217\n",
       "Cracked Beam - Crawlspace                     1192\n",
       "1 Side Open Metal Pole Barn                   1015\n",
       "Plastic Liner Pool                             618\n",
       "Frame or Concrete Block Boathouse              581\n",
       "Fiberglass Pool                                531\n",
       "Name: l_dscr, dtype: int64"
      ]
     },
     "execution_count": 9,
     "metadata": {},
     "output_type": "execute_result"
    }
   ],
   "source": [
    "extra_features_df.l_dscr.value_counts().head(25)"
   ]
  },
  {
   "cell_type": "markdown",
   "metadata": {
    "papermill": {
     "duration": 0.018751,
     "end_time": "2020-09-13T12:45:59.229788",
     "exception": false,
     "start_time": "2020-09-13T12:45:59.211037",
     "status": "completed"
    },
    "tags": []
   },
   "source": [
    "# Grab slice of the extra features of interest\n",
    "With the value counts on the extra feature description performed above we can see that the majority of the features land in the top 15 categories. Let's filter out the rests of the columns."
   ]
  },
  {
   "cell_type": "code",
   "execution_count": 10,
   "metadata": {
    "ExecuteTime": {
     "end_time": "2020-07-28T11:04:18.116171Z",
     "start_time": "2020-07-28T11:04:18.017119Z"
    },
    "execution": {
     "iopub.execute_input": "2020-09-13T12:45:59.276723Z",
     "iopub.status.busy": "2020-09-13T12:45:59.275856Z",
     "iopub.status.idle": "2020-09-13T12:45:59.339071Z",
     "shell.execute_reply": "2020-09-13T12:45:59.339738Z"
    },
    "papermill": {
     "duration": 0.091025,
     "end_time": "2020-09-13T12:45:59.339961",
     "exception": false,
     "start_time": "2020-09-13T12:45:59.248936",
     "status": "completed"
    },
    "tags": []
   },
   "outputs": [],
   "source": [
    "cols = extra_features_df.l_dscr.value_counts().head(15).index"
   ]
  },
  {
   "cell_type": "code",
   "execution_count": 11,
   "metadata": {
    "ExecuteTime": {
     "end_time": "2020-07-28T11:04:18.206632Z",
     "start_time": "2020-07-28T11:04:18.118011Z"
    },
    "execution": {
     "iopub.execute_input": "2020-09-13T12:45:59.415090Z",
     "iopub.status.busy": "2020-09-13T12:45:59.414205Z",
     "iopub.status.idle": "2020-09-13T12:45:59.484611Z",
     "shell.execute_reply": "2020-09-13T12:45:59.485343Z"
    },
    "papermill": {
     "duration": 0.110697,
     "end_time": "2020-09-13T12:45:59.485595",
     "exception": false,
     "start_time": "2020-09-13T12:45:59.374898",
     "status": "completed"
    },
    "tags": []
   },
   "outputs": [],
   "source": [
    "cond0 = extra_features_df['l_dscr'].isin(cols)\n",
    "extra_features_df = extra_features_df.loc[cond0, :]"
   ]
  },
  {
   "cell_type": "markdown",
   "metadata": {
    "papermill": {
     "duration": 0.019216,
     "end_time": "2020-09-13T12:45:59.529103",
     "exception": false,
     "start_time": "2020-09-13T12:45:59.509887",
     "status": "completed"
    },
    "tags": []
   },
   "source": [
    "# Build pivot tables for count and grade\n",
    "There appear to be two important values related to each extra feature: uts (units area in square feet) and grade. Since a property can have multiple features of the same class, e.g. frame utility shed, let's aggregate them by adding the uts values, and also by taking the mean of the same class feature grades.\n",
    "\n",
    "Let's build individual pivot tables for each and merge them before saving them out."
   ]
  },
  {
   "cell_type": "code",
   "execution_count": 12,
   "metadata": {
    "ExecuteTime": {
     "end_time": "2020-07-28T11:04:19.324760Z",
     "start_time": "2020-07-28T11:04:18.208268Z"
    },
    "execution": {
     "iopub.execute_input": "2020-09-13T12:45:59.573697Z",
     "iopub.status.busy": "2020-09-13T12:45:59.571749Z",
     "iopub.status.idle": "2020-09-13T12:46:00.798044Z",
     "shell.execute_reply": "2020-09-13T12:46:00.797283Z"
    },
    "papermill": {
     "duration": 1.249527,
     "end_time": "2020-09-13T12:46:00.798193",
     "exception": false,
     "start_time": "2020-09-13T12:45:59.548666",
     "status": "completed"
    },
    "tags": []
   },
   "outputs": [],
   "source": [
    "extra_features_pivot_uts = extra_features_df.pivot_table(index='acct',\n",
    "                                                         columns='l_dscr',\n",
    "                                                         values='uts',\n",
    "                                                         aggfunc='sum',\n",
    "                                                         fill_value=0)"
   ]
  },
  {
   "cell_type": "code",
   "execution_count": 13,
   "metadata": {
    "ExecuteTime": {
     "end_time": "2020-07-28T11:04:19.356250Z",
     "start_time": "2020-07-28T11:04:19.326375Z"
    },
    "execution": {
     "iopub.execute_input": "2020-09-13T12:46:00.841978Z",
     "iopub.status.busy": "2020-09-13T12:46:00.840929Z",
     "iopub.status.idle": "2020-09-13T12:46:00.869886Z",
     "shell.execute_reply": "2020-09-13T12:46:00.870719Z"
    },
    "papermill": {
     "duration": 0.052641,
     "end_time": "2020-09-13T12:46:00.870958",
     "exception": false,
     "start_time": "2020-09-13T12:46:00.818317",
     "status": "completed"
    },
    "tags": []
   },
   "outputs": [
    {
     "data": {
      "text/html": [
       "<div>\n",
       "<style scoped>\n",
       "    .dataframe tbody tr th:only-of-type {\n",
       "        vertical-align: middle;\n",
       "    }\n",
       "\n",
       "    .dataframe tbody tr th {\n",
       "        vertical-align: top;\n",
       "    }\n",
       "\n",
       "    .dataframe thead th {\n",
       "        text-align: right;\n",
       "    }\n",
       "</style>\n",
       "<table border=\"1\" class=\"dataframe\">\n",
       "  <thead>\n",
       "    <tr style=\"text-align: right;\">\n",
       "      <th>l_dscr</th>\n",
       "      <th>Basic Outdoor Kitchen</th>\n",
       "      <th>Brick or Stone Detached Garage</th>\n",
       "      <th>Canopy - Residential</th>\n",
       "      <th>Carport - Residential</th>\n",
       "      <th>Cracked Slab</th>\n",
       "      <th>Custom Outdoor Kitchen</th>\n",
       "      <th>Foundation Repaired</th>\n",
       "      <th>Frame Detached Garage</th>\n",
       "      <th>Frame Detached Garage w/living area abov</th>\n",
       "      <th>Frame Utility Shed</th>\n",
       "      <th>Gunite Pool</th>\n",
       "      <th>Metal Utility Shed</th>\n",
       "      <th>Pool SPA with Heater</th>\n",
       "      <th>Reinforced Concrete Pool</th>\n",
       "      <th>Residential Other Gross Value</th>\n",
       "    </tr>\n",
       "    <tr>\n",
       "      <th>acct</th>\n",
       "      <th></th>\n",
       "      <th></th>\n",
       "      <th></th>\n",
       "      <th></th>\n",
       "      <th></th>\n",
       "      <th></th>\n",
       "      <th></th>\n",
       "      <th></th>\n",
       "      <th></th>\n",
       "      <th></th>\n",
       "      <th></th>\n",
       "      <th></th>\n",
       "      <th></th>\n",
       "      <th></th>\n",
       "      <th></th>\n",
       "    </tr>\n",
       "  </thead>\n",
       "  <tbody>\n",
       "    <tr>\n",
       "      <th>21440000001</th>\n",
       "      <td>0.0</td>\n",
       "      <td>0</td>\n",
       "      <td>0.0</td>\n",
       "      <td>0</td>\n",
       "      <td>0</td>\n",
       "      <td>0.0</td>\n",
       "      <td>0.0</td>\n",
       "      <td>0</td>\n",
       "      <td>0.0</td>\n",
       "      <td>240.0</td>\n",
       "      <td>0.0</td>\n",
       "      <td>0</td>\n",
       "      <td>0.0</td>\n",
       "      <td>0</td>\n",
       "      <td>0.0</td>\n",
       "    </tr>\n",
       "    <tr>\n",
       "      <th>21480000002</th>\n",
       "      <td>0.0</td>\n",
       "      <td>0</td>\n",
       "      <td>0.0</td>\n",
       "      <td>0</td>\n",
       "      <td>0</td>\n",
       "      <td>0.0</td>\n",
       "      <td>0.0</td>\n",
       "      <td>0</td>\n",
       "      <td>0.0</td>\n",
       "      <td>0.0</td>\n",
       "      <td>0.0</td>\n",
       "      <td>0</td>\n",
       "      <td>0.0</td>\n",
       "      <td>0</td>\n",
       "      <td>0.5</td>\n",
       "    </tr>\n",
       "    <tr>\n",
       "      <th>21650000007</th>\n",
       "      <td>0.0</td>\n",
       "      <td>0</td>\n",
       "      <td>0.0</td>\n",
       "      <td>0</td>\n",
       "      <td>0</td>\n",
       "      <td>0.0</td>\n",
       "      <td>0.0</td>\n",
       "      <td>0</td>\n",
       "      <td>0.0</td>\n",
       "      <td>0.0</td>\n",
       "      <td>368.0</td>\n",
       "      <td>0</td>\n",
       "      <td>0.0</td>\n",
       "      <td>0</td>\n",
       "      <td>0.0</td>\n",
       "    </tr>\n",
       "    <tr>\n",
       "      <th>21700000013</th>\n",
       "      <td>0.0</td>\n",
       "      <td>0</td>\n",
       "      <td>0.0</td>\n",
       "      <td>0</td>\n",
       "      <td>0</td>\n",
       "      <td>0.0</td>\n",
       "      <td>0.0</td>\n",
       "      <td>225</td>\n",
       "      <td>0.0</td>\n",
       "      <td>0.0</td>\n",
       "      <td>0.0</td>\n",
       "      <td>0</td>\n",
       "      <td>0.0</td>\n",
       "      <td>0</td>\n",
       "      <td>0.0</td>\n",
       "    </tr>\n",
       "    <tr>\n",
       "      <th>21750000013</th>\n",
       "      <td>0.0</td>\n",
       "      <td>0</td>\n",
       "      <td>0.0</td>\n",
       "      <td>0</td>\n",
       "      <td>0</td>\n",
       "      <td>0.0</td>\n",
       "      <td>0.0</td>\n",
       "      <td>450</td>\n",
       "      <td>300.0</td>\n",
       "      <td>0.0</td>\n",
       "      <td>0.0</td>\n",
       "      <td>0</td>\n",
       "      <td>0.0</td>\n",
       "      <td>0</td>\n",
       "      <td>0.0</td>\n",
       "    </tr>\n",
       "  </tbody>\n",
       "</table>\n",
       "</div>"
      ],
      "text/plain": [
       "l_dscr       Basic Outdoor Kitchen  Brick or Stone Detached Garage  \\\n",
       "acct                                                                 \n",
       "21440000001                    0.0                               0   \n",
       "21480000002                    0.0                               0   \n",
       "21650000007                    0.0                               0   \n",
       "21700000013                    0.0                               0   \n",
       "21750000013                    0.0                               0   \n",
       "\n",
       "l_dscr       Canopy - Residential  Carport - Residential  Cracked Slab  \\\n",
       "acct                                                                     \n",
       "21440000001                   0.0                      0             0   \n",
       "21480000002                   0.0                      0             0   \n",
       "21650000007                   0.0                      0             0   \n",
       "21700000013                   0.0                      0             0   \n",
       "21750000013                   0.0                      0             0   \n",
       "\n",
       "l_dscr       Custom Outdoor Kitchen  Foundation Repaired  \\\n",
       "acct                                                       \n",
       "21440000001                     0.0                  0.0   \n",
       "21480000002                     0.0                  0.0   \n",
       "21650000007                     0.0                  0.0   \n",
       "21700000013                     0.0                  0.0   \n",
       "21750000013                     0.0                  0.0   \n",
       "\n",
       "l_dscr       Frame Detached Garage  Frame Detached Garage w/living area abov  \\\n",
       "acct                                                                           \n",
       "21440000001                      0                                       0.0   \n",
       "21480000002                      0                                       0.0   \n",
       "21650000007                      0                                       0.0   \n",
       "21700000013                    225                                       0.0   \n",
       "21750000013                    450                                     300.0   \n",
       "\n",
       "l_dscr       Frame Utility Shed  Gunite Pool  Metal Utility Shed  \\\n",
       "acct                                                               \n",
       "21440000001               240.0          0.0                   0   \n",
       "21480000002                 0.0          0.0                   0   \n",
       "21650000007                 0.0        368.0                   0   \n",
       "21700000013                 0.0          0.0                   0   \n",
       "21750000013                 0.0          0.0                   0   \n",
       "\n",
       "l_dscr       Pool SPA with Heater  Reinforced Concrete Pool  \\\n",
       "acct                                                          \n",
       "21440000001                   0.0                         0   \n",
       "21480000002                   0.0                         0   \n",
       "21650000007                   0.0                         0   \n",
       "21700000013                   0.0                         0   \n",
       "21750000013                   0.0                         0   \n",
       "\n",
       "l_dscr       Residential Other Gross Value  \n",
       "acct                                        \n",
       "21440000001                            0.0  \n",
       "21480000002                            0.5  \n",
       "21650000007                            0.0  \n",
       "21700000013                            0.0  \n",
       "21750000013                            0.0  "
      ]
     },
     "execution_count": 13,
     "metadata": {},
     "output_type": "execute_result"
    }
   ],
   "source": [
    "extra_features_pivot_uts.head()"
   ]
  },
  {
   "cell_type": "code",
   "execution_count": 14,
   "metadata": {
    "ExecuteTime": {
     "end_time": "2020-07-28T11:04:19.930914Z",
     "start_time": "2020-07-28T11:04:19.360535Z"
    },
    "execution": {
     "iopub.execute_input": "2020-09-13T12:46:00.946326Z",
     "iopub.status.busy": "2020-09-13T12:46:00.945466Z",
     "iopub.status.idle": "2020-09-13T12:46:01.508775Z",
     "shell.execute_reply": "2020-09-13T12:46:01.509512Z"
    },
    "papermill": {
     "duration": 0.60037,
     "end_time": "2020-09-13T12:46:01.509691",
     "exception": false,
     "start_time": "2020-09-13T12:46:00.909321",
     "status": "completed"
    },
    "tags": []
   },
   "outputs": [],
   "source": [
    "extra_features_pivot_grade = extra_features_df.pivot_table(index='acct',\n",
    "                                                           columns='l_dscr',\n",
    "                                                           values='grade',\n",
    "                                                           aggfunc='mean',\n",
    "                                                           )"
   ]
  },
  {
   "cell_type": "code",
   "execution_count": 15,
   "metadata": {
    "ExecuteTime": {
     "end_time": "2020-07-28T11:04:19.963154Z",
     "start_time": "2020-07-28T11:04:19.932427Z"
    },
    "execution": {
     "iopub.execute_input": "2020-09-13T12:46:01.555008Z",
     "iopub.status.busy": "2020-09-13T12:46:01.554100Z",
     "iopub.status.idle": "2020-09-13T12:46:01.579470Z",
     "shell.execute_reply": "2020-09-13T12:46:01.578902Z"
    },
    "papermill": {
     "duration": 0.049946,
     "end_time": "2020-09-13T12:46:01.579626",
     "exception": false,
     "start_time": "2020-09-13T12:46:01.529680",
     "status": "completed"
    },
    "tags": []
   },
   "outputs": [
    {
     "data": {
      "text/html": [
       "<div>\n",
       "<style scoped>\n",
       "    .dataframe tbody tr th:only-of-type {\n",
       "        vertical-align: middle;\n",
       "    }\n",
       "\n",
       "    .dataframe tbody tr th {\n",
       "        vertical-align: top;\n",
       "    }\n",
       "\n",
       "    .dataframe thead th {\n",
       "        text-align: right;\n",
       "    }\n",
       "</style>\n",
       "<table border=\"1\" class=\"dataframe\">\n",
       "  <thead>\n",
       "    <tr style=\"text-align: right;\">\n",
       "      <th>l_dscr</th>\n",
       "      <th>Basic Outdoor Kitchen</th>\n",
       "      <th>Brick or Stone Detached Garage</th>\n",
       "      <th>Canopy - Residential</th>\n",
       "      <th>Carport - Residential</th>\n",
       "      <th>Cracked Slab</th>\n",
       "      <th>Custom Outdoor Kitchen</th>\n",
       "      <th>Foundation Repaired</th>\n",
       "      <th>Frame Detached Garage</th>\n",
       "      <th>Frame Detached Garage w/living area abov</th>\n",
       "      <th>Frame Utility Shed</th>\n",
       "      <th>Gunite Pool</th>\n",
       "      <th>Metal Utility Shed</th>\n",
       "      <th>Pool SPA with Heater</th>\n",
       "      <th>Reinforced Concrete Pool</th>\n",
       "      <th>Residential Other Gross Value</th>\n",
       "    </tr>\n",
       "    <tr>\n",
       "      <th>acct</th>\n",
       "      <th></th>\n",
       "      <th></th>\n",
       "      <th></th>\n",
       "      <th></th>\n",
       "      <th></th>\n",
       "      <th></th>\n",
       "      <th></th>\n",
       "      <th></th>\n",
       "      <th></th>\n",
       "      <th></th>\n",
       "      <th></th>\n",
       "      <th></th>\n",
       "      <th></th>\n",
       "      <th></th>\n",
       "      <th></th>\n",
       "    </tr>\n",
       "  </thead>\n",
       "  <tbody>\n",
       "    <tr>\n",
       "      <th>21440000001</th>\n",
       "      <td>NaN</td>\n",
       "      <td>NaN</td>\n",
       "      <td>NaN</td>\n",
       "      <td>NaN</td>\n",
       "      <td>NaN</td>\n",
       "      <td>NaN</td>\n",
       "      <td>NaN</td>\n",
       "      <td>NaN</td>\n",
       "      <td>NaN</td>\n",
       "      <td>4.0</td>\n",
       "      <td>NaN</td>\n",
       "      <td>NaN</td>\n",
       "      <td>NaN</td>\n",
       "      <td>NaN</td>\n",
       "      <td>NaN</td>\n",
       "    </tr>\n",
       "    <tr>\n",
       "      <th>21480000002</th>\n",
       "      <td>NaN</td>\n",
       "      <td>NaN</td>\n",
       "      <td>NaN</td>\n",
       "      <td>NaN</td>\n",
       "      <td>NaN</td>\n",
       "      <td>NaN</td>\n",
       "      <td>NaN</td>\n",
       "      <td>NaN</td>\n",
       "      <td>NaN</td>\n",
       "      <td>NaN</td>\n",
       "      <td>NaN</td>\n",
       "      <td>NaN</td>\n",
       "      <td>NaN</td>\n",
       "      <td>NaN</td>\n",
       "      <td>4.0</td>\n",
       "    </tr>\n",
       "    <tr>\n",
       "      <th>21650000007</th>\n",
       "      <td>NaN</td>\n",
       "      <td>NaN</td>\n",
       "      <td>NaN</td>\n",
       "      <td>NaN</td>\n",
       "      <td>NaN</td>\n",
       "      <td>NaN</td>\n",
       "      <td>NaN</td>\n",
       "      <td>NaN</td>\n",
       "      <td>NaN</td>\n",
       "      <td>NaN</td>\n",
       "      <td>4.0</td>\n",
       "      <td>NaN</td>\n",
       "      <td>NaN</td>\n",
       "      <td>NaN</td>\n",
       "      <td>NaN</td>\n",
       "    </tr>\n",
       "    <tr>\n",
       "      <th>21700000013</th>\n",
       "      <td>NaN</td>\n",
       "      <td>NaN</td>\n",
       "      <td>NaN</td>\n",
       "      <td>NaN</td>\n",
       "      <td>NaN</td>\n",
       "      <td>NaN</td>\n",
       "      <td>NaN</td>\n",
       "      <td>5.0</td>\n",
       "      <td>NaN</td>\n",
       "      <td>NaN</td>\n",
       "      <td>NaN</td>\n",
       "      <td>NaN</td>\n",
       "      <td>NaN</td>\n",
       "      <td>NaN</td>\n",
       "      <td>NaN</td>\n",
       "    </tr>\n",
       "    <tr>\n",
       "      <th>21750000013</th>\n",
       "      <td>NaN</td>\n",
       "      <td>NaN</td>\n",
       "      <td>NaN</td>\n",
       "      <td>NaN</td>\n",
       "      <td>NaN</td>\n",
       "      <td>NaN</td>\n",
       "      <td>NaN</td>\n",
       "      <td>4.0</td>\n",
       "      <td>4.0</td>\n",
       "      <td>NaN</td>\n",
       "      <td>NaN</td>\n",
       "      <td>NaN</td>\n",
       "      <td>NaN</td>\n",
       "      <td>NaN</td>\n",
       "      <td>NaN</td>\n",
       "    </tr>\n",
       "  </tbody>\n",
       "</table>\n",
       "</div>"
      ],
      "text/plain": [
       "l_dscr       Basic Outdoor Kitchen  Brick or Stone Detached Garage  \\\n",
       "acct                                                                 \n",
       "21440000001                    NaN                             NaN   \n",
       "21480000002                    NaN                             NaN   \n",
       "21650000007                    NaN                             NaN   \n",
       "21700000013                    NaN                             NaN   \n",
       "21750000013                    NaN                             NaN   \n",
       "\n",
       "l_dscr       Canopy - Residential  Carport - Residential  Cracked Slab  \\\n",
       "acct                                                                     \n",
       "21440000001                   NaN                    NaN           NaN   \n",
       "21480000002                   NaN                    NaN           NaN   \n",
       "21650000007                   NaN                    NaN           NaN   \n",
       "21700000013                   NaN                    NaN           NaN   \n",
       "21750000013                   NaN                    NaN           NaN   \n",
       "\n",
       "l_dscr       Custom Outdoor Kitchen  Foundation Repaired  \\\n",
       "acct                                                       \n",
       "21440000001                     NaN                  NaN   \n",
       "21480000002                     NaN                  NaN   \n",
       "21650000007                     NaN                  NaN   \n",
       "21700000013                     NaN                  NaN   \n",
       "21750000013                     NaN                  NaN   \n",
       "\n",
       "l_dscr       Frame Detached Garage  Frame Detached Garage w/living area abov  \\\n",
       "acct                                                                           \n",
       "21440000001                    NaN                                       NaN   \n",
       "21480000002                    NaN                                       NaN   \n",
       "21650000007                    NaN                                       NaN   \n",
       "21700000013                    5.0                                       NaN   \n",
       "21750000013                    4.0                                       4.0   \n",
       "\n",
       "l_dscr       Frame Utility Shed  Gunite Pool  Metal Utility Shed  \\\n",
       "acct                                                               \n",
       "21440000001                 4.0          NaN                 NaN   \n",
       "21480000002                 NaN          NaN                 NaN   \n",
       "21650000007                 NaN          4.0                 NaN   \n",
       "21700000013                 NaN          NaN                 NaN   \n",
       "21750000013                 NaN          NaN                 NaN   \n",
       "\n",
       "l_dscr       Pool SPA with Heater  Reinforced Concrete Pool  \\\n",
       "acct                                                          \n",
       "21440000001                   NaN                       NaN   \n",
       "21480000002                   NaN                       NaN   \n",
       "21650000007                   NaN                       NaN   \n",
       "21700000013                   NaN                       NaN   \n",
       "21750000013                   NaN                       NaN   \n",
       "\n",
       "l_dscr       Residential Other Gross Value  \n",
       "acct                                        \n",
       "21440000001                            NaN  \n",
       "21480000002                            4.0  \n",
       "21650000007                            NaN  \n",
       "21700000013                            NaN  \n",
       "21750000013                            NaN  "
      ]
     },
     "execution_count": 15,
     "metadata": {},
     "output_type": "execute_result"
    }
   ],
   "source": [
    "extra_features_pivot_grade.head()"
   ]
  },
  {
   "cell_type": "code",
   "execution_count": 16,
   "metadata": {
    "ExecuteTime": {
     "end_time": "2020-07-28T11:04:20.128378Z",
     "start_time": "2020-07-28T11:04:19.965688Z"
    },
    "execution": {
     "iopub.execute_input": "2020-09-13T12:46:01.627968Z",
     "iopub.status.busy": "2020-09-13T12:46:01.627055Z",
     "iopub.status.idle": "2020-09-13T12:46:01.785353Z",
     "shell.execute_reply": "2020-09-13T12:46:01.786028Z"
    },
    "papermill": {
     "duration": 0.186039,
     "end_time": "2020-09-13T12:46:01.786276",
     "exception": false,
     "start_time": "2020-09-13T12:46:01.600237",
     "status": "completed"
    },
    "tags": []
   },
   "outputs": [],
   "source": [
    "extra_features_uts_grade = extra_features_pivot_uts.merge(extra_features_pivot_grade,\n",
    "                                                          how='left',\n",
    "                                                          left_index=True,\n",
    "                                                          right_index=True,\n",
    "                                                          suffixes=('_uts', '_grade'),\n",
    "                                                          validate='one_to_one')"
   ]
  },
  {
   "cell_type": "code",
   "execution_count": 17,
   "metadata": {
    "ExecuteTime": {
     "end_time": "2020-07-28T11:04:20.182881Z",
     "start_time": "2020-07-28T11:04:20.130977Z"
    },
    "execution": {
     "iopub.execute_input": "2020-09-13T12:46:01.844856Z",
     "iopub.status.busy": "2020-09-13T12:46:01.843904Z",
     "iopub.status.idle": "2020-09-13T12:46:01.881287Z",
     "shell.execute_reply": "2020-09-13T12:46:01.881791Z"
    },
    "papermill": {
     "duration": 0.066984,
     "end_time": "2020-09-13T12:46:01.881963",
     "exception": false,
     "start_time": "2020-09-13T12:46:01.814979",
     "status": "completed"
    },
    "tags": []
   },
   "outputs": [
    {
     "data": {
      "text/html": [
       "<div>\n",
       "<style scoped>\n",
       "    .dataframe tbody tr th:only-of-type {\n",
       "        vertical-align: middle;\n",
       "    }\n",
       "\n",
       "    .dataframe tbody tr th {\n",
       "        vertical-align: top;\n",
       "    }\n",
       "\n",
       "    .dataframe thead th {\n",
       "        text-align: right;\n",
       "    }\n",
       "</style>\n",
       "<table border=\"1\" class=\"dataframe\">\n",
       "  <thead>\n",
       "    <tr style=\"text-align: right;\">\n",
       "      <th>l_dscr</th>\n",
       "      <th>Basic Outdoor Kitchen_uts</th>\n",
       "      <th>Brick or Stone Detached Garage_uts</th>\n",
       "      <th>Canopy - Residential_uts</th>\n",
       "      <th>Carport - Residential_uts</th>\n",
       "      <th>Cracked Slab_uts</th>\n",
       "      <th>Custom Outdoor Kitchen_uts</th>\n",
       "      <th>Foundation Repaired_uts</th>\n",
       "      <th>Frame Detached Garage_uts</th>\n",
       "      <th>Frame Detached Garage w/living area abov_uts</th>\n",
       "      <th>Frame Utility Shed_uts</th>\n",
       "      <th>...</th>\n",
       "      <th>Custom Outdoor Kitchen_grade</th>\n",
       "      <th>Foundation Repaired_grade</th>\n",
       "      <th>Frame Detached Garage_grade</th>\n",
       "      <th>Frame Detached Garage w/living area abov_grade</th>\n",
       "      <th>Frame Utility Shed_grade</th>\n",
       "      <th>Gunite Pool_grade</th>\n",
       "      <th>Metal Utility Shed_grade</th>\n",
       "      <th>Pool SPA with Heater_grade</th>\n",
       "      <th>Reinforced Concrete Pool_grade</th>\n",
       "      <th>Residential Other Gross Value_grade</th>\n",
       "    </tr>\n",
       "    <tr>\n",
       "      <th>acct</th>\n",
       "      <th></th>\n",
       "      <th></th>\n",
       "      <th></th>\n",
       "      <th></th>\n",
       "      <th></th>\n",
       "      <th></th>\n",
       "      <th></th>\n",
       "      <th></th>\n",
       "      <th></th>\n",
       "      <th></th>\n",
       "      <th></th>\n",
       "      <th></th>\n",
       "      <th></th>\n",
       "      <th></th>\n",
       "      <th></th>\n",
       "      <th></th>\n",
       "      <th></th>\n",
       "      <th></th>\n",
       "      <th></th>\n",
       "      <th></th>\n",
       "      <th></th>\n",
       "    </tr>\n",
       "  </thead>\n",
       "  <tbody>\n",
       "    <tr>\n",
       "      <th>21440000001</th>\n",
       "      <td>0.0</td>\n",
       "      <td>0</td>\n",
       "      <td>0.0</td>\n",
       "      <td>0</td>\n",
       "      <td>0</td>\n",
       "      <td>0.0</td>\n",
       "      <td>0.0</td>\n",
       "      <td>0</td>\n",
       "      <td>0.0</td>\n",
       "      <td>240.0</td>\n",
       "      <td>...</td>\n",
       "      <td>NaN</td>\n",
       "      <td>NaN</td>\n",
       "      <td>NaN</td>\n",
       "      <td>NaN</td>\n",
       "      <td>4.0</td>\n",
       "      <td>NaN</td>\n",
       "      <td>NaN</td>\n",
       "      <td>NaN</td>\n",
       "      <td>NaN</td>\n",
       "      <td>NaN</td>\n",
       "    </tr>\n",
       "    <tr>\n",
       "      <th>21480000002</th>\n",
       "      <td>0.0</td>\n",
       "      <td>0</td>\n",
       "      <td>0.0</td>\n",
       "      <td>0</td>\n",
       "      <td>0</td>\n",
       "      <td>0.0</td>\n",
       "      <td>0.0</td>\n",
       "      <td>0</td>\n",
       "      <td>0.0</td>\n",
       "      <td>0.0</td>\n",
       "      <td>...</td>\n",
       "      <td>NaN</td>\n",
       "      <td>NaN</td>\n",
       "      <td>NaN</td>\n",
       "      <td>NaN</td>\n",
       "      <td>NaN</td>\n",
       "      <td>NaN</td>\n",
       "      <td>NaN</td>\n",
       "      <td>NaN</td>\n",
       "      <td>NaN</td>\n",
       "      <td>4.0</td>\n",
       "    </tr>\n",
       "    <tr>\n",
       "      <th>21650000007</th>\n",
       "      <td>0.0</td>\n",
       "      <td>0</td>\n",
       "      <td>0.0</td>\n",
       "      <td>0</td>\n",
       "      <td>0</td>\n",
       "      <td>0.0</td>\n",
       "      <td>0.0</td>\n",
       "      <td>0</td>\n",
       "      <td>0.0</td>\n",
       "      <td>0.0</td>\n",
       "      <td>...</td>\n",
       "      <td>NaN</td>\n",
       "      <td>NaN</td>\n",
       "      <td>NaN</td>\n",
       "      <td>NaN</td>\n",
       "      <td>NaN</td>\n",
       "      <td>4.0</td>\n",
       "      <td>NaN</td>\n",
       "      <td>NaN</td>\n",
       "      <td>NaN</td>\n",
       "      <td>NaN</td>\n",
       "    </tr>\n",
       "    <tr>\n",
       "      <th>21700000013</th>\n",
       "      <td>0.0</td>\n",
       "      <td>0</td>\n",
       "      <td>0.0</td>\n",
       "      <td>0</td>\n",
       "      <td>0</td>\n",
       "      <td>0.0</td>\n",
       "      <td>0.0</td>\n",
       "      <td>225</td>\n",
       "      <td>0.0</td>\n",
       "      <td>0.0</td>\n",
       "      <td>...</td>\n",
       "      <td>NaN</td>\n",
       "      <td>NaN</td>\n",
       "      <td>5.0</td>\n",
       "      <td>NaN</td>\n",
       "      <td>NaN</td>\n",
       "      <td>NaN</td>\n",
       "      <td>NaN</td>\n",
       "      <td>NaN</td>\n",
       "      <td>NaN</td>\n",
       "      <td>NaN</td>\n",
       "    </tr>\n",
       "    <tr>\n",
       "      <th>21750000013</th>\n",
       "      <td>0.0</td>\n",
       "      <td>0</td>\n",
       "      <td>0.0</td>\n",
       "      <td>0</td>\n",
       "      <td>0</td>\n",
       "      <td>0.0</td>\n",
       "      <td>0.0</td>\n",
       "      <td>450</td>\n",
       "      <td>300.0</td>\n",
       "      <td>0.0</td>\n",
       "      <td>...</td>\n",
       "      <td>NaN</td>\n",
       "      <td>NaN</td>\n",
       "      <td>4.0</td>\n",
       "      <td>4.0</td>\n",
       "      <td>NaN</td>\n",
       "      <td>NaN</td>\n",
       "      <td>NaN</td>\n",
       "      <td>NaN</td>\n",
       "      <td>NaN</td>\n",
       "      <td>NaN</td>\n",
       "    </tr>\n",
       "  </tbody>\n",
       "</table>\n",
       "<p>5 rows × 30 columns</p>\n",
       "</div>"
      ],
      "text/plain": [
       "l_dscr       Basic Outdoor Kitchen_uts  Brick or Stone Detached Garage_uts  \\\n",
       "acct                                                                         \n",
       "21440000001                        0.0                                   0   \n",
       "21480000002                        0.0                                   0   \n",
       "21650000007                        0.0                                   0   \n",
       "21700000013                        0.0                                   0   \n",
       "21750000013                        0.0                                   0   \n",
       "\n",
       "l_dscr       Canopy - Residential_uts  Carport - Residential_uts  \\\n",
       "acct                                                               \n",
       "21440000001                       0.0                          0   \n",
       "21480000002                       0.0                          0   \n",
       "21650000007                       0.0                          0   \n",
       "21700000013                       0.0                          0   \n",
       "21750000013                       0.0                          0   \n",
       "\n",
       "l_dscr       Cracked Slab_uts  Custom Outdoor Kitchen_uts  \\\n",
       "acct                                                        \n",
       "21440000001                 0                         0.0   \n",
       "21480000002                 0                         0.0   \n",
       "21650000007                 0                         0.0   \n",
       "21700000013                 0                         0.0   \n",
       "21750000013                 0                         0.0   \n",
       "\n",
       "l_dscr       Foundation Repaired_uts  Frame Detached Garage_uts  \\\n",
       "acct                                                              \n",
       "21440000001                      0.0                          0   \n",
       "21480000002                      0.0                          0   \n",
       "21650000007                      0.0                          0   \n",
       "21700000013                      0.0                        225   \n",
       "21750000013                      0.0                        450   \n",
       "\n",
       "l_dscr       Frame Detached Garage w/living area abov_uts  \\\n",
       "acct                                                        \n",
       "21440000001                                           0.0   \n",
       "21480000002                                           0.0   \n",
       "21650000007                                           0.0   \n",
       "21700000013                                           0.0   \n",
       "21750000013                                         300.0   \n",
       "\n",
       "l_dscr       Frame Utility Shed_uts  ...  Custom Outdoor Kitchen_grade  \\\n",
       "acct                                 ...                                 \n",
       "21440000001                   240.0  ...                           NaN   \n",
       "21480000002                     0.0  ...                           NaN   \n",
       "21650000007                     0.0  ...                           NaN   \n",
       "21700000013                     0.0  ...                           NaN   \n",
       "21750000013                     0.0  ...                           NaN   \n",
       "\n",
       "l_dscr       Foundation Repaired_grade  Frame Detached Garage_grade  \\\n",
       "acct                                                                  \n",
       "21440000001                        NaN                          NaN   \n",
       "21480000002                        NaN                          NaN   \n",
       "21650000007                        NaN                          NaN   \n",
       "21700000013                        NaN                          5.0   \n",
       "21750000013                        NaN                          4.0   \n",
       "\n",
       "l_dscr       Frame Detached Garage w/living area abov_grade  \\\n",
       "acct                                                          \n",
       "21440000001                                             NaN   \n",
       "21480000002                                             NaN   \n",
       "21650000007                                             NaN   \n",
       "21700000013                                             NaN   \n",
       "21750000013                                             4.0   \n",
       "\n",
       "l_dscr       Frame Utility Shed_grade  Gunite Pool_grade  \\\n",
       "acct                                                       \n",
       "21440000001                       4.0                NaN   \n",
       "21480000002                       NaN                NaN   \n",
       "21650000007                       NaN                4.0   \n",
       "21700000013                       NaN                NaN   \n",
       "21750000013                       NaN                NaN   \n",
       "\n",
       "l_dscr       Metal Utility Shed_grade  Pool SPA with Heater_grade  \\\n",
       "acct                                                                \n",
       "21440000001                       NaN                         NaN   \n",
       "21480000002                       NaN                         NaN   \n",
       "21650000007                       NaN                         NaN   \n",
       "21700000013                       NaN                         NaN   \n",
       "21750000013                       NaN                         NaN   \n",
       "\n",
       "l_dscr       Reinforced Concrete Pool_grade  \\\n",
       "acct                                          \n",
       "21440000001                             NaN   \n",
       "21480000002                             NaN   \n",
       "21650000007                             NaN   \n",
       "21700000013                             NaN   \n",
       "21750000013                             NaN   \n",
       "\n",
       "l_dscr       Residential Other Gross Value_grade  \n",
       "acct                                              \n",
       "21440000001                                  NaN  \n",
       "21480000002                                  4.0  \n",
       "21650000007                                  NaN  \n",
       "21700000013                                  NaN  \n",
       "21750000013                                  NaN  \n",
       "\n",
       "[5 rows x 30 columns]"
      ]
     },
     "execution_count": 17,
     "metadata": {},
     "output_type": "execute_result"
    }
   ],
   "source": [
    "extra_features_uts_grade.head()"
   ]
  },
  {
   "cell_type": "code",
   "execution_count": 18,
   "metadata": {
    "ExecuteTime": {
     "end_time": "2020-07-28T11:04:20.206180Z",
     "start_time": "2020-07-28T11:04:20.185324Z"
    },
    "execution": {
     "iopub.execute_input": "2020-09-13T12:46:01.934051Z",
     "iopub.status.busy": "2020-09-13T12:46:01.927031Z",
     "iopub.status.idle": "2020-09-13T12:46:01.944349Z",
     "shell.execute_reply": "2020-09-13T12:46:01.945056Z"
    },
    "papermill": {
     "duration": 0.041894,
     "end_time": "2020-09-13T12:46:01.945283",
     "exception": false,
     "start_time": "2020-09-13T12:46:01.903389",
     "status": "completed"
    },
    "tags": []
   },
   "outputs": [],
   "source": [
    "assert extra_features_uts_grade.index.is_unique"
   ]
  },
  {
   "cell_type": "markdown",
   "metadata": {
    "papermill": {
     "duration": 0.02117,
     "end_time": "2020-09-13T12:46:02.002754",
     "exception": false,
     "start_time": "2020-09-13T12:46:01.981584",
     "status": "completed"
    },
    "tags": []
   },
   "source": [
    "add `acct` column to make easier the merging process ahead"
   ]
  },
  {
   "cell_type": "code",
   "execution_count": 19,
   "metadata": {
    "ExecuteTime": {
     "end_time": "2020-07-28T11:04:20.224505Z",
     "start_time": "2020-07-28T11:04:20.207927Z"
    },
    "execution": {
     "iopub.execute_input": "2020-09-13T12:46:02.054695Z",
     "iopub.status.busy": "2020-09-13T12:46:02.053918Z",
     "iopub.status.idle": "2020-09-13T12:46:02.061655Z",
     "shell.execute_reply": "2020-09-13T12:46:02.060907Z"
    },
    "papermill": {
     "duration": 0.037448,
     "end_time": "2020-09-13T12:46:02.061842",
     "exception": false,
     "start_time": "2020-09-13T12:46:02.024394",
     "status": "completed"
    },
    "tags": []
   },
   "outputs": [],
   "source": [
    "extra_features_uts_grade.reset_index(inplace=True)"
   ]
  },
  {
   "cell_type": "markdown",
   "metadata": {
    "papermill": {
     "duration": 0.039113,
     "end_time": "2020-09-13T12:46:02.140820",
     "exception": false,
     "start_time": "2020-09-13T12:46:02.101707",
     "status": "completed"
    },
    "tags": []
   },
   "source": [
    "# Fix column names\n",
    "We would like the column names to be all lower case, with no spaces nor non-alphanumeric characters."
   ]
  },
  {
   "cell_type": "code",
   "execution_count": 20,
   "metadata": {
    "ExecuteTime": {
     "end_time": "2020-07-28T11:04:20.240937Z",
     "start_time": "2020-07-28T11:04:20.227365Z"
    },
    "execution": {
     "iopub.execute_input": "2020-09-13T12:46:02.212198Z",
     "iopub.status.busy": "2020-09-13T12:46:02.209921Z",
     "iopub.status.idle": "2020-09-13T12:46:02.221787Z",
     "shell.execute_reply": "2020-09-13T12:46:02.221203Z"
    },
    "papermill": {
     "duration": 0.041938,
     "end_time": "2020-09-13T12:46:02.221925",
     "exception": false,
     "start_time": "2020-09-13T12:46:02.179987",
     "status": "completed"
    },
    "tags": []
   },
   "outputs": [],
   "source": [
    "from src.data.utils import fix_column_names"
   ]
  },
  {
   "cell_type": "code",
   "execution_count": 21,
   "metadata": {
    "ExecuteTime": {
     "end_time": "2020-07-28T11:04:20.261387Z",
     "start_time": "2020-07-28T11:04:20.243396Z"
    },
    "execution": {
     "iopub.execute_input": "2020-09-13T12:46:02.266724Z",
     "iopub.status.busy": "2020-09-13T12:46:02.265850Z",
     "iopub.status.idle": "2020-09-13T12:46:02.279330Z",
     "shell.execute_reply": "2020-09-13T12:46:02.279776Z"
    },
    "papermill": {
     "duration": 0.037571,
     "end_time": "2020-09-13T12:46:02.279936",
     "exception": false,
     "start_time": "2020-09-13T12:46:02.242365",
     "status": "completed"
    },
    "tags": []
   },
   "outputs": [
    {
     "data": {
      "text/plain": [
       "Index(['acct', 'Basic Outdoor Kitchen_uts',\n",
       "       'Brick or Stone Detached Garage_uts', 'Canopy - Residential_uts',\n",
       "       'Carport - Residential_uts', 'Cracked Slab_uts',\n",
       "       'Custom Outdoor Kitchen_uts', 'Foundation Repaired_uts',\n",
       "       'Frame Detached Garage_uts',\n",
       "       'Frame Detached Garage w/living area abov_uts',\n",
       "       'Frame Utility Shed_uts', 'Gunite Pool_uts', 'Metal Utility Shed_uts',\n",
       "       'Pool SPA with Heater_uts', 'Reinforced Concrete Pool_uts',\n",
       "       'Residential Other Gross Value_uts', 'Basic Outdoor Kitchen_grade',\n",
       "       'Brick or Stone Detached Garage_grade', 'Canopy - Residential_grade',\n",
       "       'Carport - Residential_grade', 'Cracked Slab_grade',\n",
       "       'Custom Outdoor Kitchen_grade', 'Foundation Repaired_grade',\n",
       "       'Frame Detached Garage_grade',\n",
       "       'Frame Detached Garage w/living area abov_grade',\n",
       "       'Frame Utility Shed_grade', 'Gunite Pool_grade',\n",
       "       'Metal Utility Shed_grade', 'Pool SPA with Heater_grade',\n",
       "       'Reinforced Concrete Pool_grade',\n",
       "       'Residential Other Gross Value_grade'],\n",
       "      dtype='object', name='l_dscr')"
      ]
     },
     "execution_count": 21,
     "metadata": {},
     "output_type": "execute_result"
    }
   ],
   "source": [
    "extra_features_uts_grade.columns"
   ]
  },
  {
   "cell_type": "code",
   "execution_count": 22,
   "metadata": {
    "ExecuteTime": {
     "end_time": "2020-07-28T11:04:20.281596Z",
     "start_time": "2020-07-28T11:04:20.263793Z"
    },
    "execution": {
     "iopub.execute_input": "2020-09-13T12:46:02.326934Z",
     "iopub.status.busy": "2020-09-13T12:46:02.326079Z",
     "iopub.status.idle": "2020-09-13T12:46:02.337954Z",
     "shell.execute_reply": "2020-09-13T12:46:02.338392Z"
    },
    "papermill": {
     "duration": 0.036415,
     "end_time": "2020-09-13T12:46:02.338547",
     "exception": false,
     "start_time": "2020-09-13T12:46:02.302132",
     "status": "completed"
    },
    "tags": []
   },
   "outputs": [],
   "source": [
    "extra_features_uts_grade = fix_column_names(extra_features_uts_grade)"
   ]
  },
  {
   "cell_type": "code",
   "execution_count": 23,
   "metadata": {
    "ExecuteTime": {
     "end_time": "2020-07-28T11:04:20.309149Z",
     "start_time": "2020-07-28T11:04:20.286722Z"
    },
    "execution": {
     "iopub.execute_input": "2020-09-13T12:46:02.384799Z",
     "iopub.status.busy": "2020-09-13T12:46:02.384171Z",
     "iopub.status.idle": "2020-09-13T12:46:02.405081Z",
     "shell.execute_reply": "2020-09-13T12:46:02.404591Z"
    },
    "papermill": {
     "duration": 0.044755,
     "end_time": "2020-09-13T12:46:02.405214",
     "exception": false,
     "start_time": "2020-09-13T12:46:02.360459",
     "status": "completed"
    },
    "tags": []
   },
   "outputs": [
    {
     "data": {
      "text/plain": [
       "Index(['acct', 'basic_outdoor_kitchen_uts',\n",
       "       'brick_or_stone_detached_garage_uts', 'canopy_residential_uts',\n",
       "       'carport_residential_uts', 'cracked_slab_uts',\n",
       "       'custom_outdoor_kitchen_uts', 'foundation_repaired_uts',\n",
       "       'frame_detached_garage_uts',\n",
       "       'frame_detached_garage_w_living_area_abov_uts',\n",
       "       'frame_utility_shed_uts', 'gunite_pool_uts', 'metal_utility_shed_uts',\n",
       "       'pool_spa_with_heater_uts', 'reinforced_concrete_pool_uts',\n",
       "       'residential_other_gross_value_uts', 'basic_outdoor_kitchen_grade',\n",
       "       'brick_or_stone_detached_garage_grade', 'canopy_residential_grade',\n",
       "       'carport_residential_grade', 'cracked_slab_grade',\n",
       "       'custom_outdoor_kitchen_grade', 'foundation_repaired_grade',\n",
       "       'frame_detached_garage_grade',\n",
       "       'frame_detached_garage_w_living_area_abov_grade',\n",
       "       'frame_utility_shed_grade', 'gunite_pool_grade',\n",
       "       'metal_utility_shed_grade', 'pool_spa_with_heater_grade',\n",
       "       'reinforced_concrete_pool_grade',\n",
       "       'residential_other_gross_value_grade'],\n",
       "      dtype='object')"
      ]
     },
     "execution_count": 23,
     "metadata": {},
     "output_type": "execute_result"
    }
   ],
   "source": [
    "extra_features_uts_grade.columns"
   ]
  },
  {
   "cell_type": "markdown",
   "metadata": {
    "papermill": {
     "duration": 0.022249,
     "end_time": "2020-09-13T12:46:02.449246",
     "exception": false,
     "start_time": "2020-09-13T12:46:02.426997",
     "status": "completed"
    },
    "tags": []
   },
   "source": [
    "### Find duplicated rows"
   ]
  },
  {
   "cell_type": "code",
   "execution_count": 24,
   "metadata": {
    "ExecuteTime": {
     "end_time": "2020-07-28T11:04:20.832935Z",
     "start_time": "2020-07-28T11:04:20.311921Z"
    },
    "execution": {
     "iopub.execute_input": "2020-09-13T12:46:02.507496Z",
     "iopub.status.busy": "2020-09-13T12:46:02.497603Z",
     "iopub.status.idle": "2020-09-13T12:46:03.099734Z",
     "shell.execute_reply": "2020-09-13T12:46:03.100297Z"
    },
    "papermill": {
     "duration": 0.628871,
     "end_time": "2020-09-13T12:46:03.100468",
     "exception": false,
     "start_time": "2020-09-13T12:46:02.471597",
     "status": "completed"
    },
    "tags": []
   },
   "outputs": [
    {
     "data": {
      "text/html": [
       "<div>\n",
       "<style scoped>\n",
       "    .dataframe tbody tr th:only-of-type {\n",
       "        vertical-align: middle;\n",
       "    }\n",
       "\n",
       "    .dataframe tbody tr th {\n",
       "        vertical-align: top;\n",
       "    }\n",
       "\n",
       "    .dataframe thead th {\n",
       "        text-align: right;\n",
       "    }\n",
       "</style>\n",
       "<table border=\"1\" class=\"dataframe\">\n",
       "  <thead>\n",
       "    <tr style=\"text-align: right;\">\n",
       "      <th></th>\n",
       "      <th>acct</th>\n",
       "      <th>basic_outdoor_kitchen_uts</th>\n",
       "      <th>brick_or_stone_detached_garage_uts</th>\n",
       "      <th>canopy_residential_uts</th>\n",
       "      <th>carport_residential_uts</th>\n",
       "      <th>cracked_slab_uts</th>\n",
       "      <th>custom_outdoor_kitchen_uts</th>\n",
       "      <th>foundation_repaired_uts</th>\n",
       "      <th>frame_detached_garage_uts</th>\n",
       "      <th>frame_detached_garage_w_living_area_abov_uts</th>\n",
       "      <th>...</th>\n",
       "      <th>custom_outdoor_kitchen_grade</th>\n",
       "      <th>foundation_repaired_grade</th>\n",
       "      <th>frame_detached_garage_grade</th>\n",
       "      <th>frame_detached_garage_w_living_area_abov_grade</th>\n",
       "      <th>frame_utility_shed_grade</th>\n",
       "      <th>gunite_pool_grade</th>\n",
       "      <th>metal_utility_shed_grade</th>\n",
       "      <th>pool_spa_with_heater_grade</th>\n",
       "      <th>reinforced_concrete_pool_grade</th>\n",
       "      <th>residential_other_gross_value_grade</th>\n",
       "    </tr>\n",
       "  </thead>\n",
       "  <tbody>\n",
       "  </tbody>\n",
       "</table>\n",
       "<p>0 rows × 31 columns</p>\n",
       "</div>"
      ],
      "text/plain": [
       "Empty DataFrame\n",
       "Columns: [acct, basic_outdoor_kitchen_uts, brick_or_stone_detached_garage_uts, canopy_residential_uts, carport_residential_uts, cracked_slab_uts, custom_outdoor_kitchen_uts, foundation_repaired_uts, frame_detached_garage_uts, frame_detached_garage_w_living_area_abov_uts, frame_utility_shed_uts, gunite_pool_uts, metal_utility_shed_uts, pool_spa_with_heater_uts, reinforced_concrete_pool_uts, residential_other_gross_value_uts, basic_outdoor_kitchen_grade, brick_or_stone_detached_garage_grade, canopy_residential_grade, carport_residential_grade, cracked_slab_grade, custom_outdoor_kitchen_grade, foundation_repaired_grade, frame_detached_garage_grade, frame_detached_garage_w_living_area_abov_grade, frame_utility_shed_grade, gunite_pool_grade, metal_utility_shed_grade, pool_spa_with_heater_grade, reinforced_concrete_pool_grade, residential_other_gross_value_grade]\n",
       "Index: []\n",
       "\n",
       "[0 rows x 31 columns]"
      ]
     },
     "execution_count": 24,
     "metadata": {},
     "output_type": "execute_result"
    }
   ],
   "source": [
    "cond0 = extra_features_uts_grade.duplicated()\n",
    "extra_features_uts_grade.loc[cond0, :]"
   ]
  },
  {
   "cell_type": "markdown",
   "metadata": {
    "papermill": {
     "duration": 0.023618,
     "end_time": "2020-09-13T12:46:03.148016",
     "exception": false,
     "start_time": "2020-09-13T12:46:03.124398",
     "status": "completed"
    },
    "tags": []
   },
   "source": [
    "# Describe"
   ]
  },
  {
   "cell_type": "code",
   "execution_count": 25,
   "metadata": {
    "ExecuteTime": {
     "end_time": "2020-07-28T11:04:20.904707Z",
     "start_time": "2020-07-28T11:04:20.835275Z"
    },
    "execution": {
     "iopub.execute_input": "2020-09-13T12:46:03.197768Z",
     "iopub.status.busy": "2020-09-13T12:46:03.196816Z",
     "iopub.status.idle": "2020-09-13T12:46:03.257811Z",
     "shell.execute_reply": "2020-09-13T12:46:03.258438Z"
    },
    "papermill": {
     "duration": 0.087898,
     "end_time": "2020-09-13T12:46:03.258646",
     "exception": false,
     "start_time": "2020-09-13T12:46:03.170748",
     "status": "completed"
    },
    "tags": []
   },
   "outputs": [
    {
     "name": "stdout",
     "output_type": "stream",
     "text": [
      "<class 'pandas.core.frame.DataFrame'>\n",
      "RangeIndex: 429699 entries, 0 to 429698\n",
      "Data columns (total 31 columns):\n",
      " #   Column                                          Non-Null Count   Dtype  \n",
      "---  ------                                          --------------   -----  \n",
      " 0   acct                                            429699 non-null  int64  \n",
      " 1   basic_outdoor_kitchen_uts                       429699 non-null  float64\n",
      " 2   brick_or_stone_detached_garage_uts              429699 non-null  int64  \n",
      " 3   canopy_residential_uts                          429699 non-null  float64\n",
      " 4   carport_residential_uts                         429699 non-null  int64  \n",
      " 5   cracked_slab_uts                                429699 non-null  int64  \n",
      " 6   custom_outdoor_kitchen_uts                      429699 non-null  float64\n",
      " 7   foundation_repaired_uts                         429699 non-null  float64\n",
      " 8   frame_detached_garage_uts                       429699 non-null  int64  \n",
      " 9   frame_detached_garage_w_living_area_abov_uts    429699 non-null  float64\n",
      " 10  frame_utility_shed_uts                          429699 non-null  float64\n",
      " 11  gunite_pool_uts                                 429699 non-null  float64\n",
      " 12  metal_utility_shed_uts                          429699 non-null  int64  \n",
      " 13  pool_spa_with_heater_uts                        429699 non-null  float64\n",
      " 14  reinforced_concrete_pool_uts                    429699 non-null  int64  \n",
      " 15  residential_other_gross_value_uts               429699 non-null  float64\n",
      " 16  basic_outdoor_kitchen_grade                     2303 non-null    float64\n",
      " 17  brick_or_stone_detached_garage_grade            13743 non-null   float64\n",
      " 18  canopy_residential_grade                        80709 non-null   float64\n",
      " 19  carport_residential_grade                       73049 non-null   float64\n",
      " 20  cracked_slab_grade                              16121 non-null   float64\n",
      " 21  custom_outdoor_kitchen_grade                    4294 non-null    float64\n",
      " 22  foundation_repaired_grade                       17653 non-null   float64\n",
      " 23  frame_detached_garage_grade                     180707 non-null  float64\n",
      " 24  frame_detached_garage_w_living_area_abov_grade  7047 non-null    float64\n",
      " 25  frame_utility_shed_grade                        87818 non-null   float64\n",
      " 26  gunite_pool_grade                               87950 non-null   float64\n",
      " 27  metal_utility_shed_grade                        18365 non-null   float64\n",
      " 28  pool_spa_with_heater_grade                      37212 non-null   float64\n",
      " 29  reinforced_concrete_pool_grade                  3729 non-null    float64\n",
      " 30  residential_other_gross_value_grade             14550 non-null   float64\n",
      "dtypes: float64(24), int64(7)\n",
      "memory usage: 101.6 MB\n"
     ]
    }
   ],
   "source": [
    "extra_features_uts_grade.info()"
   ]
  },
  {
   "cell_type": "code",
   "execution_count": 26,
   "metadata": {
    "ExecuteTime": {
     "end_time": "2020-07-28T11:04:21.484599Z",
     "start_time": "2020-07-28T11:04:20.908020Z"
    },
    "execution": {
     "iopub.execute_input": "2020-09-13T12:46:03.348769Z",
     "iopub.status.busy": "2020-09-13T12:46:03.348221Z",
     "iopub.status.idle": "2020-09-13T12:46:03.953993Z",
     "shell.execute_reply": "2020-09-13T12:46:03.954471Z"
    },
    "papermill": {
     "duration": 0.652917,
     "end_time": "2020-09-13T12:46:03.954638",
     "exception": false,
     "start_time": "2020-09-13T12:46:03.301721",
     "status": "completed"
    },
    "tags": []
   },
   "outputs": [
    {
     "data": {
      "text/html": [
       "<div>\n",
       "<style scoped>\n",
       "    .dataframe tbody tr th:only-of-type {\n",
       "        vertical-align: middle;\n",
       "    }\n",
       "\n",
       "    .dataframe tbody tr th {\n",
       "        vertical-align: top;\n",
       "    }\n",
       "\n",
       "    .dataframe thead th {\n",
       "        text-align: right;\n",
       "    }\n",
       "</style>\n",
       "<table border=\"1\" class=\"dataframe\">\n",
       "  <thead>\n",
       "    <tr style=\"text-align: right;\">\n",
       "      <th></th>\n",
       "      <th>acct</th>\n",
       "      <th>basic_outdoor_kitchen_uts</th>\n",
       "      <th>brick_or_stone_detached_garage_uts</th>\n",
       "      <th>canopy_residential_uts</th>\n",
       "      <th>carport_residential_uts</th>\n",
       "      <th>cracked_slab_uts</th>\n",
       "      <th>custom_outdoor_kitchen_uts</th>\n",
       "      <th>foundation_repaired_uts</th>\n",
       "      <th>frame_detached_garage_uts</th>\n",
       "      <th>frame_detached_garage_w_living_area_abov_uts</th>\n",
       "      <th>...</th>\n",
       "      <th>custom_outdoor_kitchen_grade</th>\n",
       "      <th>foundation_repaired_grade</th>\n",
       "      <th>frame_detached_garage_grade</th>\n",
       "      <th>frame_detached_garage_w_living_area_abov_grade</th>\n",
       "      <th>frame_utility_shed_grade</th>\n",
       "      <th>gunite_pool_grade</th>\n",
       "      <th>metal_utility_shed_grade</th>\n",
       "      <th>pool_spa_with_heater_grade</th>\n",
       "      <th>reinforced_concrete_pool_grade</th>\n",
       "      <th>residential_other_gross_value_grade</th>\n",
       "    </tr>\n",
       "  </thead>\n",
       "  <tbody>\n",
       "    <tr>\n",
       "      <th>count</th>\n",
       "      <td>4.296990e+05</td>\n",
       "      <td>429699.000000</td>\n",
       "      <td>429699.000000</td>\n",
       "      <td>429699.000000</td>\n",
       "      <td>429699.000000</td>\n",
       "      <td>429699.000000</td>\n",
       "      <td>429699.000000</td>\n",
       "      <td>429699.000000</td>\n",
       "      <td>429699.000000</td>\n",
       "      <td>429699.000000</td>\n",
       "      <td>...</td>\n",
       "      <td>4294.000000</td>\n",
       "      <td>17653.000000</td>\n",
       "      <td>180707.000000</td>\n",
       "      <td>7047.000000</td>\n",
       "      <td>87818.000000</td>\n",
       "      <td>87950.000000</td>\n",
       "      <td>18365.000000</td>\n",
       "      <td>37212.000000</td>\n",
       "      <td>3729.000000</td>\n",
       "      <td>14550.000000</td>\n",
       "    </tr>\n",
       "    <tr>\n",
       "      <th>mean</th>\n",
       "      <td>9.272532e+11</td>\n",
       "      <td>0.006876</td>\n",
       "      <td>19.495363</td>\n",
       "      <td>52.362742</td>\n",
       "      <td>71.472582</td>\n",
       "      <td>58.690651</td>\n",
       "      <td>0.010087</td>\n",
       "      <td>74.098803</td>\n",
       "      <td>213.682699</td>\n",
       "      <td>9.658207</td>\n",
       "      <td>...</td>\n",
       "      <td>3.261877</td>\n",
       "      <td>4.001076</td>\n",
       "      <td>4.546272</td>\n",
       "      <td>3.964027</td>\n",
       "      <td>4.490619</td>\n",
       "      <td>3.882462</td>\n",
       "      <td>4.630054</td>\n",
       "      <td>3.846958</td>\n",
       "      <td>3.998391</td>\n",
       "      <td>3.992131</td>\n",
       "    </tr>\n",
       "    <tr>\n",
       "      <th>std</th>\n",
       "      <td>2.642890e+11</td>\n",
       "      <td>0.498159</td>\n",
       "      <td>116.572297</td>\n",
       "      <td>146.890934</td>\n",
       "      <td>185.686579</td>\n",
       "      <td>315.733841</td>\n",
       "      <td>0.101181</td>\n",
       "      <td>375.256846</td>\n",
       "      <td>273.811109</td>\n",
       "      <td>79.669787</td>\n",
       "      <td>...</td>\n",
       "      <td>0.960405</td>\n",
       "      <td>0.043224</td>\n",
       "      <td>0.551924</td>\n",
       "      <td>0.716937</td>\n",
       "      <td>0.594027</td>\n",
       "      <td>0.465274</td>\n",
       "      <td>0.577235</td>\n",
       "      <td>0.494614</td>\n",
       "      <td>0.284616</td>\n",
       "      <td>0.284215</td>\n",
       "    </tr>\n",
       "    <tr>\n",
       "      <th>min</th>\n",
       "      <td>2.144000e+10</td>\n",
       "      <td>0.000000</td>\n",
       "      <td>0.000000</td>\n",
       "      <td>0.000000</td>\n",
       "      <td>0.000000</td>\n",
       "      <td>0.000000</td>\n",
       "      <td>0.000000</td>\n",
       "      <td>0.000000</td>\n",
       "      <td>0.000000</td>\n",
       "      <td>0.000000</td>\n",
       "      <td>...</td>\n",
       "      <td>1.000000</td>\n",
       "      <td>1.000000</td>\n",
       "      <td>1.000000</td>\n",
       "      <td>1.000000</td>\n",
       "      <td>1.000000</td>\n",
       "      <td>1.000000</td>\n",
       "      <td>1.000000</td>\n",
       "      <td>1.000000</td>\n",
       "      <td>1.000000</td>\n",
       "      <td>1.000000</td>\n",
       "    </tr>\n",
       "    <tr>\n",
       "      <th>25%</th>\n",
       "      <td>7.705001e+11</td>\n",
       "      <td>0.000000</td>\n",
       "      <td>0.000000</td>\n",
       "      <td>0.000000</td>\n",
       "      <td>0.000000</td>\n",
       "      <td>0.000000</td>\n",
       "      <td>0.000000</td>\n",
       "      <td>0.000000</td>\n",
       "      <td>0.000000</td>\n",
       "      <td>0.000000</td>\n",
       "      <td>...</td>\n",
       "      <td>3.000000</td>\n",
       "      <td>4.000000</td>\n",
       "      <td>4.000000</td>\n",
       "      <td>4.000000</td>\n",
       "      <td>4.000000</td>\n",
       "      <td>4.000000</td>\n",
       "      <td>4.000000</td>\n",
       "      <td>4.000000</td>\n",
       "      <td>4.000000</td>\n",
       "      <td>4.000000</td>\n",
       "    </tr>\n",
       "    <tr>\n",
       "      <th>50%</th>\n",
       "      <td>9.937500e+11</td>\n",
       "      <td>0.000000</td>\n",
       "      <td>0.000000</td>\n",
       "      <td>0.000000</td>\n",
       "      <td>0.000000</td>\n",
       "      <td>0.000000</td>\n",
       "      <td>0.000000</td>\n",
       "      <td>0.000000</td>\n",
       "      <td>0.000000</td>\n",
       "      <td>0.000000</td>\n",
       "      <td>...</td>\n",
       "      <td>4.000000</td>\n",
       "      <td>4.000000</td>\n",
       "      <td>5.000000</td>\n",
       "      <td>4.000000</td>\n",
       "      <td>4.500000</td>\n",
       "      <td>4.000000</td>\n",
       "      <td>5.000000</td>\n",
       "      <td>4.000000</td>\n",
       "      <td>4.000000</td>\n",
       "      <td>4.000000</td>\n",
       "    </tr>\n",
       "    <tr>\n",
       "      <th>75%</th>\n",
       "      <td>1.143770e+12</td>\n",
       "      <td>0.000000</td>\n",
       "      <td>0.000000</td>\n",
       "      <td>0.000000</td>\n",
       "      <td>0.000000</td>\n",
       "      <td>0.000000</td>\n",
       "      <td>0.000000</td>\n",
       "      <td>0.000000</td>\n",
       "      <td>462.000000</td>\n",
       "      <td>0.000000</td>\n",
       "      <td>...</td>\n",
       "      <td>4.000000</td>\n",
       "      <td>4.000000</td>\n",
       "      <td>5.000000</td>\n",
       "      <td>4.000000</td>\n",
       "      <td>5.000000</td>\n",
       "      <td>4.000000</td>\n",
       "      <td>5.000000</td>\n",
       "      <td>4.000000</td>\n",
       "      <td>4.000000</td>\n",
       "      <td>4.000000</td>\n",
       "    </tr>\n",
       "    <tr>\n",
       "      <th>max</th>\n",
       "      <td>1.373580e+12</td>\n",
       "      <td>256.000000</td>\n",
       "      <td>11086.000000</td>\n",
       "      <td>15450.000000</td>\n",
       "      <td>19000.000000</td>\n",
       "      <td>9153.000000</td>\n",
       "      <td>5.000000</td>\n",
       "      <td>8952.000000</td>\n",
       "      <td>10406.000000</td>\n",
       "      <td>2920.000000</td>\n",
       "      <td>...</td>\n",
       "      <td>6.000000</td>\n",
       "      <td>5.000000</td>\n",
       "      <td>6.000000</td>\n",
       "      <td>6.000000</td>\n",
       "      <td>6.000000</td>\n",
       "      <td>6.000000</td>\n",
       "      <td>6.000000</td>\n",
       "      <td>6.000000</td>\n",
       "      <td>6.000000</td>\n",
       "      <td>6.000000</td>\n",
       "    </tr>\n",
       "  </tbody>\n",
       "</table>\n",
       "<p>8 rows × 31 columns</p>\n",
       "</div>"
      ],
      "text/plain": [
       "               acct  basic_outdoor_kitchen_uts  \\\n",
       "count  4.296990e+05              429699.000000   \n",
       "mean   9.272532e+11                   0.006876   \n",
       "std    2.642890e+11                   0.498159   \n",
       "min    2.144000e+10                   0.000000   \n",
       "25%    7.705001e+11                   0.000000   \n",
       "50%    9.937500e+11                   0.000000   \n",
       "75%    1.143770e+12                   0.000000   \n",
       "max    1.373580e+12                 256.000000   \n",
       "\n",
       "       brick_or_stone_detached_garage_uts  canopy_residential_uts  \\\n",
       "count                       429699.000000           429699.000000   \n",
       "mean                            19.495363               52.362742   \n",
       "std                            116.572297              146.890934   \n",
       "min                              0.000000                0.000000   \n",
       "25%                              0.000000                0.000000   \n",
       "50%                              0.000000                0.000000   \n",
       "75%                              0.000000                0.000000   \n",
       "max                          11086.000000            15450.000000   \n",
       "\n",
       "       carport_residential_uts  cracked_slab_uts  custom_outdoor_kitchen_uts  \\\n",
       "count            429699.000000     429699.000000               429699.000000   \n",
       "mean                 71.472582         58.690651                    0.010087   \n",
       "std                 185.686579        315.733841                    0.101181   \n",
       "min                   0.000000          0.000000                    0.000000   \n",
       "25%                   0.000000          0.000000                    0.000000   \n",
       "50%                   0.000000          0.000000                    0.000000   \n",
       "75%                   0.000000          0.000000                    0.000000   \n",
       "max               19000.000000       9153.000000                    5.000000   \n",
       "\n",
       "       foundation_repaired_uts  frame_detached_garage_uts  \\\n",
       "count            429699.000000              429699.000000   \n",
       "mean                 74.098803                 213.682699   \n",
       "std                 375.256846                 273.811109   \n",
       "min                   0.000000                   0.000000   \n",
       "25%                   0.000000                   0.000000   \n",
       "50%                   0.000000                   0.000000   \n",
       "75%                   0.000000                 462.000000   \n",
       "max                8952.000000               10406.000000   \n",
       "\n",
       "       frame_detached_garage_w_living_area_abov_uts  ...  \\\n",
       "count                                 429699.000000  ...   \n",
       "mean                                       9.658207  ...   \n",
       "std                                       79.669787  ...   \n",
       "min                                        0.000000  ...   \n",
       "25%                                        0.000000  ...   \n",
       "50%                                        0.000000  ...   \n",
       "75%                                        0.000000  ...   \n",
       "max                                     2920.000000  ...   \n",
       "\n",
       "       custom_outdoor_kitchen_grade  foundation_repaired_grade  \\\n",
       "count                   4294.000000               17653.000000   \n",
       "mean                       3.261877                   4.001076   \n",
       "std                        0.960405                   0.043224   \n",
       "min                        1.000000                   1.000000   \n",
       "25%                        3.000000                   4.000000   \n",
       "50%                        4.000000                   4.000000   \n",
       "75%                        4.000000                   4.000000   \n",
       "max                        6.000000                   5.000000   \n",
       "\n",
       "       frame_detached_garage_grade  \\\n",
       "count                180707.000000   \n",
       "mean                      4.546272   \n",
       "std                       0.551924   \n",
       "min                       1.000000   \n",
       "25%                       4.000000   \n",
       "50%                       5.000000   \n",
       "75%                       5.000000   \n",
       "max                       6.000000   \n",
       "\n",
       "       frame_detached_garage_w_living_area_abov_grade  \\\n",
       "count                                     7047.000000   \n",
       "mean                                         3.964027   \n",
       "std                                          0.716937   \n",
       "min                                          1.000000   \n",
       "25%                                          4.000000   \n",
       "50%                                          4.000000   \n",
       "75%                                          4.000000   \n",
       "max                                          6.000000   \n",
       "\n",
       "       frame_utility_shed_grade  gunite_pool_grade  metal_utility_shed_grade  \\\n",
       "count              87818.000000       87950.000000              18365.000000   \n",
       "mean                   4.490619           3.882462                  4.630054   \n",
       "std                    0.594027           0.465274                  0.577235   \n",
       "min                    1.000000           1.000000                  1.000000   \n",
       "25%                    4.000000           4.000000                  4.000000   \n",
       "50%                    4.500000           4.000000                  5.000000   \n",
       "75%                    5.000000           4.000000                  5.000000   \n",
       "max                    6.000000           6.000000                  6.000000   \n",
       "\n",
       "       pool_spa_with_heater_grade  reinforced_concrete_pool_grade  \\\n",
       "count                37212.000000                     3729.000000   \n",
       "mean                     3.846958                        3.998391   \n",
       "std                      0.494614                        0.284616   \n",
       "min                      1.000000                        1.000000   \n",
       "25%                      4.000000                        4.000000   \n",
       "50%                      4.000000                        4.000000   \n",
       "75%                      4.000000                        4.000000   \n",
       "max                      6.000000                        6.000000   \n",
       "\n",
       "       residential_other_gross_value_grade  \n",
       "count                         14550.000000  \n",
       "mean                              3.992131  \n",
       "std                               0.284215  \n",
       "min                               1.000000  \n",
       "25%                               4.000000  \n",
       "50%                               4.000000  \n",
       "75%                               4.000000  \n",
       "max                               6.000000  \n",
       "\n",
       "[8 rows x 31 columns]"
      ]
     },
     "execution_count": 26,
     "metadata": {},
     "output_type": "execute_result"
    }
   ],
   "source": [
    "extra_features_uts_grade.describe()"
   ]
  },
  {
   "cell_type": "markdown",
   "metadata": {
    "papermill": {
     "duration": 0.023512,
     "end_time": "2020-09-13T12:46:04.003749",
     "exception": false,
     "start_time": "2020-09-13T12:46:03.980237",
     "status": "completed"
    },
    "tags": []
   },
   "source": [
    "# Export real_acct"
   ]
  },
  {
   "cell_type": "code",
   "execution_count": 27,
   "metadata": {
    "ExecuteTime": {
     "end_time": "2020-07-28T11:04:21.615821Z",
     "start_time": "2020-07-28T11:04:21.486980Z"
    },
    "execution": {
     "iopub.execute_input": "2020-09-13T12:46:04.057381Z",
     "iopub.status.busy": "2020-09-13T12:46:04.056501Z",
     "iopub.status.idle": "2020-09-13T12:46:04.209424Z",
     "shell.execute_reply": "2020-09-13T12:46:04.210218Z"
    },
    "papermill": {
     "duration": 0.182006,
     "end_time": "2020-09-13T12:46:04.210459",
     "exception": false,
     "start_time": "2020-09-13T12:46:04.028453",
     "status": "completed"
    },
    "tags": []
   },
   "outputs": [],
   "source": [
    "save_fn = ROOT_DIR / 'data/raw/2016/extra_features_uts_grade_comps.pickle'\n",
    "save_pickle(extra_features_uts_grade, save_fn)"
   ]
  }
 ],
 "metadata": {
  "kernelspec": {
   "display_name": "hcad_pred",
   "language": "python",
   "name": "hcad_pred"
  },
  "language_info": {
   "codemirror_mode": {
    "name": "ipython",
    "version": 3
   },
   "file_extension": ".py",
   "mimetype": "text/x-python",
   "name": "python",
   "nbconvert_exporter": "python",
   "pygments_lexer": "ipython3",
   "version": "3.7.8"
  },
  "papermill": {
   "duration": 10.425806,
   "end_time": "2020-09-13T12:46:04.665984",
   "environment_variables": {},
   "exception": null,
   "input_path": "/media/hdd/projects/springboard/hcad_pred/notebooks/01_Exploratory/1.3-rp-hcad-data-view-extra_features.ipynb",
   "output_path": "/media/hdd/projects/springboard/hcad_pred/notebooks/01_Exploratory/output/1.3-rp-hcad-data-view-extra_features_20200913.ipynb",
   "parameters": {},
   "start_time": "2020-09-13T12:45:54.240178",
   "version": "2.1.2"
  },
  "toc": {
   "base_numbering": 1,
   "nav_menu": {},
   "number_sections": true,
   "sideBar": true,
   "skip_h1_title": false,
   "title_cell": "Table of Contents",
   "title_sidebar": "Contents",
   "toc_cell": false,
   "toc_position": {},
   "toc_section_display": true,
   "toc_window_display": false
  }
 },
 "nbformat": 4,
 "nbformat_minor": 4
}