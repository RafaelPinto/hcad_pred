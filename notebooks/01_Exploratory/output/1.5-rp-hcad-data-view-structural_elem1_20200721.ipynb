{
 "cells": [
  {
   "cell_type": "markdown",
   "metadata": {
    "papermill": {
     "duration": 0.031862,
     "end_time": "2020-07-22T04:25:53.468719",
     "exception": false,
     "start_time": "2020-07-22T04:25:53.436857",
     "status": "completed"
    },
    "tags": []
   },
   "source": [
    "# Find the comparables: structural_elem1.txt\n",
    "\n",
    "The file `structural_elem1.txt` contains important property information about the building data, like foundation type, exterior wall composition, Heating/AC, and more. Let's load this file and grab a subset with the important columns to continue our study."
   ]
  },
  {
   "cell_type": "code",
   "execution_count": 1,
   "metadata": {
    "ExecuteTime": {
     "end_time": "2020-07-22T03:14:27.238531Z",
     "start_time": "2020-07-22T03:14:27.213981Z"
    },
    "execution": {
     "iopub.execute_input": "2020-07-22T04:25:53.543150Z",
     "iopub.status.busy": "2020-07-22T04:25:53.540584Z",
     "iopub.status.idle": "2020-07-22T04:25:53.562429Z",
     "shell.execute_reply": "2020-07-22T04:25:53.562984Z"
    },
    "papermill": {
     "duration": 0.073522,
     "end_time": "2020-07-22T04:25:53.563196",
     "exception": false,
     "start_time": "2020-07-22T04:25:53.489674",
     "status": "completed"
    },
    "tags": []
   },
   "outputs": [],
   "source": [
    "%load_ext autoreload\n",
    "%autoreload 2"
   ]
  },
  {
   "cell_type": "code",
   "execution_count": 2,
   "metadata": {
    "ExecuteTime": {
     "end_time": "2020-07-22T03:14:28.866023Z",
     "start_time": "2020-07-22T03:14:28.480396Z"
    },
    "execution": {
     "iopub.execute_input": "2020-07-22T04:25:53.592048Z",
     "iopub.status.busy": "2020-07-22T04:25:53.591527Z",
     "iopub.status.idle": "2020-07-22T04:25:53.944643Z",
     "shell.execute_reply": "2020-07-22T04:25:53.944008Z"
    },
    "papermill": {
     "duration": 0.368546,
     "end_time": "2020-07-22T04:25:53.944763",
     "exception": false,
     "start_time": "2020-07-22T04:25:53.576217",
     "status": "completed"
    },
    "tags": []
   },
   "outputs": [],
   "source": [
    "from pathlib import Path\n",
    "import pickle\n",
    "\n",
    "import pandas as pd\n",
    "\n",
    "from src.definitions import ROOT_DIR\n",
    "from src.data.utils import Table, save_pickle"
   ]
  },
  {
   "cell_type": "code",
   "execution_count": 3,
   "metadata": {
    "ExecuteTime": {
     "end_time": "2020-07-22T03:14:29.438930Z",
     "start_time": "2020-07-22T03:14:29.415141Z"
    },
    "execution": {
     "iopub.execute_input": "2020-07-22T04:25:53.968814Z",
     "iopub.status.busy": "2020-07-22T04:25:53.968288Z",
     "iopub.status.idle": "2020-07-22T04:25:53.978614Z",
     "shell.execute_reply": "2020-07-22T04:25:53.979147Z"
    },
    "papermill": {
     "duration": 0.024337,
     "end_time": "2020-07-22T04:25:53.979331",
     "exception": false,
     "start_time": "2020-07-22T04:25:53.954994",
     "status": "completed"
    },
    "tags": []
   },
   "outputs": [],
   "source": [
    "structural_elem1_fn = ROOT_DIR / 'data/external/2016/Real_building_land/structural_elem1.txt'\n",
    "assert structural_elem1_fn.exists()"
   ]
  },
  {
   "cell_type": "code",
   "execution_count": 4,
   "metadata": {
    "ExecuteTime": {
     "end_time": "2020-07-22T03:14:30.453270Z",
     "start_time": "2020-07-22T03:14:30.405868Z"
    },
    "execution": {
     "iopub.execute_input": "2020-07-22T04:25:54.006271Z",
     "iopub.status.busy": "2020-07-22T04:25:54.005441Z",
     "iopub.status.idle": "2020-07-22T04:25:54.020320Z",
     "shell.execute_reply": "2020-07-22T04:25:54.020765Z"
    },
    "papermill": {
     "duration": 0.030093,
     "end_time": "2020-07-22T04:25:54.020913",
     "exception": false,
     "start_time": "2020-07-22T04:25:53.990820",
     "status": "completed"
    },
    "tags": []
   },
   "outputs": [],
   "source": [
    "structural_elem1 = Table(structural_elem1_fn, '2016')"
   ]
  },
  {
   "cell_type": "markdown",
   "metadata": {
    "papermill": {
     "duration": 0.011091,
     "end_time": "2020-07-22T04:25:54.042169",
     "exception": false,
     "start_time": "2020-07-22T04:25:54.031078",
     "status": "completed"
    },
    "tags": []
   },
   "source": [
    "# Load accounts of interest\n",
    "Let's remove the account numbers that don't meet free-standing single-family home criteria that we found while processing the `building_res.txt` file."
   ]
  },
  {
   "cell_type": "code",
   "execution_count": 5,
   "metadata": {
    "ExecuteTime": {
     "end_time": "2020-07-22T03:14:55.928434Z",
     "start_time": "2020-07-22T03:14:49.639006Z"
    },
    "execution": {
     "iopub.execute_input": "2020-07-22T04:25:54.091214Z",
     "iopub.status.busy": "2020-07-22T04:25:54.087573Z",
     "iopub.status.idle": "2020-07-22T04:26:00.419241Z",
     "shell.execute_reply": "2020-07-22T04:26:00.418683Z"
    },
    "papermill": {
     "duration": 6.35397,
     "end_time": "2020-07-22T04:26:00.419364",
     "exception": false,
     "start_time": "2020-07-22T04:25:54.065394",
     "status": "completed"
    },
    "tags": []
   },
   "outputs": [],
   "source": [
    "skiprows = structural_elem1.get_skiprows()"
   ]
  },
  {
   "cell_type": "code",
   "execution_count": 6,
   "metadata": {
    "ExecuteTime": {
     "end_time": "2020-07-22T03:15:07.477978Z",
     "start_time": "2020-07-22T03:15:00.963073Z"
    },
    "execution": {
     "iopub.execute_input": "2020-07-22T04:26:00.443953Z",
     "iopub.status.busy": "2020-07-22T04:26:00.443145Z",
     "iopub.status.idle": "2020-07-22T04:26:08.649431Z",
     "shell.execute_reply": "2020-07-22T04:26:08.649857Z"
    },
    "papermill": {
     "duration": 8.220383,
     "end_time": "2020-07-22T04:26:08.650008",
     "exception": false,
     "start_time": "2020-07-22T04:26:00.429625",
     "status": "completed"
    },
    "tags": []
   },
   "outputs": [],
   "source": [
    "structural_elem1_df = structural_elem1.get_df(skiprows=skiprows)"
   ]
  },
  {
   "cell_type": "code",
   "execution_count": 7,
   "metadata": {
    "ExecuteTime": {
     "end_time": "2020-07-22T03:15:13.142476Z",
     "start_time": "2020-07-22T03:15:13.096752Z"
    },
    "execution": {
     "iopub.execute_input": "2020-07-22T04:26:08.674676Z",
     "iopub.status.busy": "2020-07-22T04:26:08.673865Z",
     "iopub.status.idle": "2020-07-22T04:26:08.700842Z",
     "shell.execute_reply": "2020-07-22T04:26:08.701241Z"
    },
    "papermill": {
     "duration": 0.040914,
     "end_time": "2020-07-22T04:26:08.701384",
     "exception": false,
     "start_time": "2020-07-22T04:26:08.660470",
     "status": "completed"
    },
    "tags": []
   },
   "outputs": [
    {
     "data": {
      "text/html": [
       "<div>\n",
       "<style scoped>\n",
       "    .dataframe tbody tr th:only-of-type {\n",
       "        vertical-align: middle;\n",
       "    }\n",
       "\n",
       "    .dataframe tbody tr th {\n",
       "        vertical-align: top;\n",
       "    }\n",
       "\n",
       "    .dataframe thead th {\n",
       "        text-align: right;\n",
       "    }\n",
       "</style>\n",
       "<table border=\"1\" class=\"dataframe\">\n",
       "  <thead>\n",
       "    <tr style=\"text-align: right;\">\n",
       "      <th></th>\n",
       "      <th>acct</th>\n",
       "      <th>bld_num</th>\n",
       "      <th>code</th>\n",
       "      <th>adj</th>\n",
       "      <th>type</th>\n",
       "      <th>type_dscr</th>\n",
       "      <th>category_dscr</th>\n",
       "      <th>dor_cd</th>\n",
       "    </tr>\n",
       "  </thead>\n",
       "  <tbody>\n",
       "    <tr>\n",
       "      <th>0</th>\n",
       "      <td>975030000036</td>\n",
       "      <td>1</td>\n",
       "      <td>92</td>\n",
       "      <td>1.35</td>\n",
       "      <td>CAD</td>\n",
       "      <td>Cost and Design</td>\n",
       "      <td>Extensive</td>\n",
       "      <td>A1</td>\n",
       "    </tr>\n",
       "    <tr>\n",
       "      <th>1</th>\n",
       "      <td>982110000009</td>\n",
       "      <td>1</td>\n",
       "      <td>4</td>\n",
       "      <td>NaN</td>\n",
       "      <td>PCR</td>\n",
       "      <td>Physical Condition</td>\n",
       "      <td>Average</td>\n",
       "      <td>A1</td>\n",
       "    </tr>\n",
       "    <tr>\n",
       "      <th>2</th>\n",
       "      <td>924620000001</td>\n",
       "      <td>1</td>\n",
       "      <td>91</td>\n",
       "      <td>1.50</td>\n",
       "      <td>CAD</td>\n",
       "      <td>Cost and Design</td>\n",
       "      <td>Partial</td>\n",
       "      <td>A1</td>\n",
       "    </tr>\n",
       "    <tr>\n",
       "      <th>3</th>\n",
       "      <td>924620000001</td>\n",
       "      <td>1</td>\n",
       "      <td>4</td>\n",
       "      <td>NaN</td>\n",
       "      <td>PCR</td>\n",
       "      <td>Physical Condition</td>\n",
       "      <td>Average</td>\n",
       "      <td>A1</td>\n",
       "    </tr>\n",
       "    <tr>\n",
       "      <th>4</th>\n",
       "      <td>924620000001</td>\n",
       "      <td>1</td>\n",
       "      <td>1</td>\n",
       "      <td>0.00</td>\n",
       "      <td>FND</td>\n",
       "      <td>Foundation Type</td>\n",
       "      <td>Slab</td>\n",
       "      <td>A1</td>\n",
       "    </tr>\n",
       "  </tbody>\n",
       "</table>\n",
       "</div>"
      ],
      "text/plain": [
       "           acct  bld_num  code   adj  type           type_dscr category_dscr  \\\n",
       "0  975030000036        1    92  1.35  CAD      Cost and Design     Extensive   \n",
       "1  982110000009        1     4   NaN  PCR   Physical Condition       Average   \n",
       "2  924620000001        1    91  1.50  CAD      Cost and Design       Partial   \n",
       "3  924620000001        1     4   NaN  PCR   Physical Condition       Average   \n",
       "4  924620000001        1     1  0.00  FND      Foundation Type          Slab   \n",
       "\n",
       "  dor_cd  \n",
       "0   A1    \n",
       "1   A1    \n",
       "2   A1    \n",
       "3   A1    \n",
       "4   A1    "
      ]
     },
     "execution_count": 7,
     "metadata": {},
     "output_type": "execute_result"
    }
   ],
   "source": [
    "structural_elem1_df.head()"
   ]
  },
  {
   "cell_type": "markdown",
   "metadata": {
    "papermill": {
     "duration": 0.011447,
     "end_time": "2020-07-22T04:26:08.724733",
     "exception": false,
     "start_time": "2020-07-22T04:26:08.713286",
     "status": "completed"
    },
    "tags": []
   },
   "source": [
    "# Grab slice of the structural_elem1 variables of interest\n",
    "Let's look at the number of `type_dscr` present in the data using value counts."
   ]
  },
  {
   "cell_type": "code",
   "execution_count": 8,
   "metadata": {
    "ExecuteTime": {
     "end_time": "2020-07-22T03:15:32.265678Z",
     "start_time": "2020-07-22T03:15:31.700240Z"
    },
    "execution": {
     "iopub.execute_input": "2020-07-22T04:26:08.750972Z",
     "iopub.status.busy": "2020-07-22T04:26:08.750157Z",
     "iopub.status.idle": "2020-07-22T04:26:09.222408Z",
     "shell.execute_reply": "2020-07-22T04:26:09.221887Z"
    },
    "papermill": {
     "duration": 0.486856,
     "end_time": "2020-07-22T04:26:09.222532",
     "exception": false,
     "start_time": "2020-07-22T04:26:08.735676",
     "status": "completed"
    },
    "tags": []
   },
   "outputs": [
    {
     "data": {
      "text/plain": [
       "Exterior Wall            1359393\n",
       "Foundation Type           960758\n",
       "Physical Condition        960678\n",
       "Heating / AC              960674\n",
       "Grade Adjustment          960673\n",
       "Cond / Desir / Util       960672\n",
       "Cost and Design           152419\n",
       "Economic Obsolescence          7\n",
       "Construction Type              5\n",
       "Cooling Type                   5\n",
       "Heating Type                   5\n",
       "Partition Type                 5\n",
       "Sprinkler Type                 5\n",
       "Functional Utility             5\n",
       "Plumbing Type                  5\n",
       "Name: type_dscr, dtype: int64"
      ]
     },
     "execution_count": 8,
     "metadata": {},
     "output_type": "execute_result"
    }
   ],
   "source": [
    "structural_elem1_df.type_dscr.value_counts()"
   ]
  },
  {
   "cell_type": "markdown",
   "metadata": {
    "papermill": {
     "duration": 0.011456,
     "end_time": "2020-07-22T04:26:09.245296",
     "exception": false,
     "start_time": "2020-07-22T04:26:09.233840",
     "status": "completed"
    },
    "tags": []
   },
   "source": [
    "The vast majority of type descriptions are represented in the first six entries above. Let's grab those before building the pivot table."
   ]
  },
  {
   "cell_type": "code",
   "execution_count": 9,
   "metadata": {
    "ExecuteTime": {
     "end_time": "2020-07-22T03:15:40.259065Z",
     "start_time": "2020-07-22T03:15:39.805439Z"
    },
    "execution": {
     "iopub.execute_input": "2020-07-22T04:26:09.272258Z",
     "iopub.status.busy": "2020-07-22T04:26:09.271743Z",
     "iopub.status.idle": "2020-07-22T04:26:09.705159Z",
     "shell.execute_reply": "2020-07-22T04:26:09.704638Z"
    },
    "papermill": {
     "duration": 0.4488,
     "end_time": "2020-07-22T04:26:09.705284",
     "exception": false,
     "start_time": "2020-07-22T04:26:09.256484",
     "status": "completed"
    },
    "tags": []
   },
   "outputs": [],
   "source": [
    "cols = structural_elem1_df.type_dscr.value_counts().head(6).index"
   ]
  },
  {
   "cell_type": "code",
   "execution_count": 10,
   "metadata": {
    "ExecuteTime": {
     "end_time": "2020-07-22T03:15:44.238237Z",
     "start_time": "2020-07-22T03:15:43.708379Z"
    },
    "execution": {
     "iopub.execute_input": "2020-07-22T04:26:09.732592Z",
     "iopub.status.busy": "2020-07-22T04:26:09.732078Z",
     "iopub.status.idle": "2020-07-22T04:26:10.186552Z",
     "shell.execute_reply": "2020-07-22T04:26:10.186107Z"
    },
    "papermill": {
     "duration": 0.469873,
     "end_time": "2020-07-22T04:26:10.186671",
     "exception": false,
     "start_time": "2020-07-22T04:26:09.716798",
     "status": "completed"
    },
    "tags": []
   },
   "outputs": [],
   "source": [
    "cond0 = structural_elem1_df['type_dscr'].isin(cols)\n",
    "structural_elem1_df = structural_elem1_df.loc[cond0, :]"
   ]
  },
  {
   "cell_type": "markdown",
   "metadata": {
    "papermill": {
     "duration": 0.011993,
     "end_time": "2020-07-22T04:26:10.210296",
     "exception": false,
     "start_time": "2020-07-22T04:26:10.198303",
     "status": "completed"
    },
    "tags": []
   },
   "source": [
    "# Build pivot table\n",
    "Let's look at one example from a random property account:"
   ]
  },
  {
   "cell_type": "code",
   "execution_count": 11,
   "metadata": {
    "ExecuteTime": {
     "end_time": "2020-07-22T03:16:06.028641Z",
     "start_time": "2020-07-22T03:16:05.978694Z"
    },
    "execution": {
     "iopub.execute_input": "2020-07-22T04:26:10.239282Z",
     "iopub.status.busy": "2020-07-22T04:26:10.238446Z",
     "iopub.status.idle": "2020-07-22T04:26:10.266379Z",
     "shell.execute_reply": "2020-07-22T04:26:10.265838Z"
    },
    "papermill": {
     "duration": 0.043941,
     "end_time": "2020-07-22T04:26:10.266502",
     "exception": false,
     "start_time": "2020-07-22T04:26:10.222561",
     "status": "completed"
    },
    "tags": []
   },
   "outputs": [
    {
     "data": {
      "text/html": [
       "<div>\n",
       "<style scoped>\n",
       "    .dataframe tbody tr th:only-of-type {\n",
       "        vertical-align: middle;\n",
       "    }\n",
       "\n",
       "    .dataframe tbody tr th {\n",
       "        vertical-align: top;\n",
       "    }\n",
       "\n",
       "    .dataframe thead th {\n",
       "        text-align: right;\n",
       "    }\n",
       "</style>\n",
       "<table border=\"1\" class=\"dataframe\">\n",
       "  <thead>\n",
       "    <tr style=\"text-align: right;\">\n",
       "      <th></th>\n",
       "      <th>acct</th>\n",
       "      <th>bld_num</th>\n",
       "      <th>code</th>\n",
       "      <th>adj</th>\n",
       "      <th>type</th>\n",
       "      <th>type_dscr</th>\n",
       "      <th>category_dscr</th>\n",
       "      <th>dor_cd</th>\n",
       "    </tr>\n",
       "  </thead>\n",
       "  <tbody>\n",
       "    <tr>\n",
       "      <th>2960688</th>\n",
       "      <td>1347180010021</td>\n",
       "      <td>1</td>\n",
       "      <td>1</td>\n",
       "      <td>30.00</td>\n",
       "      <td>XWR</td>\n",
       "      <td>Exterior Wall</td>\n",
       "      <td>Frame / Concrete Blk</td>\n",
       "      <td>A1</td>\n",
       "    </tr>\n",
       "    <tr>\n",
       "      <th>2960690</th>\n",
       "      <td>1347180010021</td>\n",
       "      <td>1</td>\n",
       "      <td>1</td>\n",
       "      <td>0.00</td>\n",
       "      <td>FND</td>\n",
       "      <td>Foundation Type</td>\n",
       "      <td>Slab</td>\n",
       "      <td>A1</td>\n",
       "    </tr>\n",
       "    <tr>\n",
       "      <th>2961035</th>\n",
       "      <td>1347180010021</td>\n",
       "      <td>1</td>\n",
       "      <td>3</td>\n",
       "      <td>8.00</td>\n",
       "      <td>HAC</td>\n",
       "      <td>Heating / AC</td>\n",
       "      <td>Central Heat/AC</td>\n",
       "      <td>A1</td>\n",
       "    </tr>\n",
       "    <tr>\n",
       "      <th>2961405</th>\n",
       "      <td>1347180010021</td>\n",
       "      <td>1</td>\n",
       "      <td>4</td>\n",
       "      <td>0.99</td>\n",
       "      <td>CDU</td>\n",
       "      <td>Cond / Desir / Util</td>\n",
       "      <td>Average</td>\n",
       "      <td>A1</td>\n",
       "    </tr>\n",
       "    <tr>\n",
       "      <th>2961464</th>\n",
       "      <td>1347180010021</td>\n",
       "      <td>1</td>\n",
       "      <td>6</td>\n",
       "      <td>77.70</td>\n",
       "      <td>XWR</td>\n",
       "      <td>Exterior Wall</td>\n",
       "      <td>Brick / Veneer</td>\n",
       "      <td>A1</td>\n",
       "    </tr>\n",
       "    <tr>\n",
       "      <th>2961465</th>\n",
       "      <td>1347180010021</td>\n",
       "      <td>1</td>\n",
       "      <td>9</td>\n",
       "      <td>1.17</td>\n",
       "      <td>GRD</td>\n",
       "      <td>Grade Adjustment</td>\n",
       "      <td>B-</td>\n",
       "      <td>A1</td>\n",
       "    </tr>\n",
       "    <tr>\n",
       "      <th>2961744</th>\n",
       "      <td>1347180010021</td>\n",
       "      <td>1</td>\n",
       "      <td>4</td>\n",
       "      <td>NaN</td>\n",
       "      <td>PCR</td>\n",
       "      <td>Physical Condition</td>\n",
       "      <td>Average</td>\n",
       "      <td>A1</td>\n",
       "    </tr>\n",
       "  </tbody>\n",
       "</table>\n",
       "</div>"
      ],
      "text/plain": [
       "                  acct  bld_num  code    adj  type            type_dscr  \\\n",
       "2960688  1347180010021        1     1  30.00  XWR         Exterior Wall   \n",
       "2960690  1347180010021        1     1   0.00  FND       Foundation Type   \n",
       "2961035  1347180010021        1     3   8.00  HAC          Heating / AC   \n",
       "2961405  1347180010021        1     4   0.99  CDU   Cond / Desir / Util   \n",
       "2961464  1347180010021        1     6  77.70  XWR         Exterior Wall   \n",
       "2961465  1347180010021        1     9   1.17  GRD      Grade Adjustment   \n",
       "2961744  1347180010021        1     4    NaN  PCR    Physical Condition   \n",
       "\n",
       "                category_dscr dor_cd  \n",
       "2960688  Frame / Concrete Blk   A1    \n",
       "2960690                  Slab   A1    \n",
       "2961035       Central Heat/AC   A1    \n",
       "2961405               Average   A1    \n",
       "2961464        Brick / Veneer   A1    \n",
       "2961465                    B-   A1    \n",
       "2961744               Average   A1    "
      ]
     },
     "execution_count": 11,
     "metadata": {},
     "output_type": "execute_result"
    }
   ],
   "source": [
    "structural_elem1_df[structural_elem1_df['acct'] == 1347180010021]"
   ]
  },
  {
   "cell_type": "markdown",
   "metadata": {
    "papermill": {
     "duration": 0.012024,
     "end_time": "2020-07-22T04:26:10.290611",
     "exception": false,
     "start_time": "2020-07-22T04:26:10.278587",
     "status": "completed"
    },
    "tags": []
   },
   "source": [
    "We would like to build a pivot table using the `type_dscr` entries as columns and the `category_dscr` as values. However, note that the `type_dscr` is not unique for each account number (`acct`). In the example above, the `type_dscr` Exterior Wall is found twice for the same property account. Let's select the first occurrence of each `type_dscr` for the moment. If it turns out that any of these variables is highly correlated to the property's appraised value we might have to use a different approach, i.e. account for all descriptions by relabeling the repeated entries."
   ]
  },
  {
   "cell_type": "code",
   "execution_count": 12,
   "metadata": {
    "ExecuteTime": {
     "end_time": "2020-07-22T03:16:41.148836Z",
     "start_time": "2020-07-22T03:16:34.006379Z"
    },
    "execution": {
     "iopub.execute_input": "2020-07-22T04:26:10.318529Z",
     "iopub.status.busy": "2020-07-22T04:26:10.317707Z",
     "iopub.status.idle": "2020-07-22T04:26:18.112555Z",
     "shell.execute_reply": "2020-07-22T04:26:18.112978Z"
    },
    "papermill": {
     "duration": 7.810592,
     "end_time": "2020-07-22T04:26:18.113129",
     "exception": false,
     "start_time": "2020-07-22T04:26:10.302537",
     "status": "completed"
    },
    "tags": []
   },
   "outputs": [],
   "source": [
    "structural_elem1_pivot = structural_elem1_df.pivot_table(index='acct',\n",
    "                                                         columns='type_dscr',\n",
    "                                                         values='category_dscr',\n",
    "                                                         aggfunc='first')"
   ]
  },
  {
   "cell_type": "code",
   "execution_count": 13,
   "metadata": {
    "ExecuteTime": {
     "end_time": "2020-07-22T03:16:42.470707Z",
     "start_time": "2020-07-22T03:16:42.436344Z"
    },
    "execution": {
     "iopub.execute_input": "2020-07-22T04:26:18.144973Z",
     "iopub.status.busy": "2020-07-22T04:26:18.144145Z",
     "iopub.status.idle": "2020-07-22T04:26:18.160505Z",
     "shell.execute_reply": "2020-07-22T04:26:18.160922Z"
    },
    "papermill": {
     "duration": 0.033452,
     "end_time": "2020-07-22T04:26:18.161069",
     "exception": false,
     "start_time": "2020-07-22T04:26:18.127617",
     "status": "completed"
    },
    "tags": []
   },
   "outputs": [],
   "source": [
    "structural_elem1_pivot.reset_index(inplace=True)"
   ]
  },
  {
   "cell_type": "code",
   "execution_count": 14,
   "metadata": {
    "ExecuteTime": {
     "end_time": "2020-07-22T03:16:43.227741Z",
     "start_time": "2020-07-22T03:16:43.183375Z"
    },
    "execution": {
     "iopub.execute_input": "2020-07-22T04:26:18.191139Z",
     "iopub.status.busy": "2020-07-22T04:26:18.190225Z",
     "iopub.status.idle": "2020-07-22T04:26:18.210067Z",
     "shell.execute_reply": "2020-07-22T04:26:18.210475Z"
    },
    "papermill": {
     "duration": 0.036773,
     "end_time": "2020-07-22T04:26:18.210618",
     "exception": false,
     "start_time": "2020-07-22T04:26:18.173845",
     "status": "completed"
    },
    "tags": []
   },
   "outputs": [
    {
     "data": {
      "text/html": [
       "<div>\n",
       "<style scoped>\n",
       "    .dataframe tbody tr th:only-of-type {\n",
       "        vertical-align: middle;\n",
       "    }\n",
       "\n",
       "    .dataframe tbody tr th {\n",
       "        vertical-align: top;\n",
       "    }\n",
       "\n",
       "    .dataframe thead th {\n",
       "        text-align: right;\n",
       "    }\n",
       "</style>\n",
       "<table border=\"1\" class=\"dataframe\">\n",
       "  <thead>\n",
       "    <tr style=\"text-align: right;\">\n",
       "      <th>type_dscr</th>\n",
       "      <th>acct</th>\n",
       "      <th>Cond / Desir / Util</th>\n",
       "      <th>Exterior Wall</th>\n",
       "      <th>Foundation Type</th>\n",
       "      <th>Grade Adjustment</th>\n",
       "      <th>Heating / AC</th>\n",
       "      <th>Physical Condition</th>\n",
       "    </tr>\n",
       "  </thead>\n",
       "  <tbody>\n",
       "    <tr>\n",
       "      <th>0</th>\n",
       "      <td>21440000001</td>\n",
       "      <td>Fair</td>\n",
       "      <td>Stucco</td>\n",
       "      <td>Slab</td>\n",
       "      <td>B-</td>\n",
       "      <td>Central Heat/AC</td>\n",
       "      <td>Average</td>\n",
       "    </tr>\n",
       "    <tr>\n",
       "      <th>1</th>\n",
       "      <td>21470000008</td>\n",
       "      <td>Unsound</td>\n",
       "      <td>Frame / Concrete Blk</td>\n",
       "      <td>Slab</td>\n",
       "      <td>D-</td>\n",
       "      <td>None</td>\n",
       "      <td>Unsound</td>\n",
       "    </tr>\n",
       "    <tr>\n",
       "      <th>2</th>\n",
       "      <td>21480000002</td>\n",
       "      <td>Poor</td>\n",
       "      <td>Frame / Concrete Blk</td>\n",
       "      <td>Crawl Space</td>\n",
       "      <td>D</td>\n",
       "      <td>None</td>\n",
       "      <td>Poor</td>\n",
       "    </tr>\n",
       "    <tr>\n",
       "      <th>3</th>\n",
       "      <td>21650000007</td>\n",
       "      <td>Average</td>\n",
       "      <td>Stucco</td>\n",
       "      <td>Slab</td>\n",
       "      <td>B+</td>\n",
       "      <td>Central Heat/AC</td>\n",
       "      <td>Average</td>\n",
       "    </tr>\n",
       "    <tr>\n",
       "      <th>4</th>\n",
       "      <td>21650000011</td>\n",
       "      <td>Fair</td>\n",
       "      <td>Frame / Concrete Blk</td>\n",
       "      <td>Slab</td>\n",
       "      <td>C</td>\n",
       "      <td>Central Heat/AC</td>\n",
       "      <td>Average</td>\n",
       "    </tr>\n",
       "  </tbody>\n",
       "</table>\n",
       "</div>"
      ],
      "text/plain": [
       "type_dscr         acct Cond / Desir / Util         Exterior Wall  \\\n",
       "0          21440000001                Fair                Stucco   \n",
       "1          21470000008             Unsound  Frame / Concrete Blk   \n",
       "2          21480000002                Poor  Frame / Concrete Blk   \n",
       "3          21650000007             Average                Stucco   \n",
       "4          21650000011                Fair  Frame / Concrete Blk   \n",
       "\n",
       "type_dscr Foundation Type Grade Adjustment     Heating / AC Physical Condition  \n",
       "0                    Slab               B-  Central Heat/AC            Average  \n",
       "1                    Slab               D-             None            Unsound  \n",
       "2             Crawl Space                D             None               Poor  \n",
       "3                    Slab               B+  Central Heat/AC            Average  \n",
       "4                    Slab                C  Central Heat/AC            Average  "
      ]
     },
     "execution_count": 14,
     "metadata": {},
     "output_type": "execute_result"
    }
   ],
   "source": [
    "structural_elem1_pivot.head()"
   ]
  },
  {
   "cell_type": "code",
   "execution_count": 15,
   "metadata": {
    "ExecuteTime": {
     "end_time": "2020-07-22T03:16:50.186113Z",
     "start_time": "2020-07-22T03:16:50.043682Z"
    },
    "execution": {
     "iopub.execute_input": "2020-07-22T04:26:18.240986Z",
     "iopub.status.busy": "2020-07-22T04:26:18.240183Z",
     "iopub.status.idle": "2020-07-22T04:26:18.352141Z",
     "shell.execute_reply": "2020-07-22T04:26:18.351637Z"
    },
    "papermill": {
     "duration": 0.128718,
     "end_time": "2020-07-22T04:26:18.352255",
     "exception": false,
     "start_time": "2020-07-22T04:26:18.223537",
     "status": "completed"
    },
    "tags": []
   },
   "outputs": [],
   "source": [
    "assert structural_elem1_pivot['acct'].is_unique"
   ]
  },
  {
   "cell_type": "markdown",
   "metadata": {
    "papermill": {
     "duration": 0.012658,
     "end_time": "2020-07-22T04:26:18.377272",
     "exception": false,
     "start_time": "2020-07-22T04:26:18.364614",
     "status": "completed"
    },
    "tags": []
   },
   "source": [
    "# Export real_acct"
   ]
  },
  {
   "cell_type": "code",
   "execution_count": 16,
   "metadata": {
    "ExecuteTime": {
     "end_time": "2020-07-22T03:16:51.915308Z",
     "start_time": "2020-07-22T03:16:51.491034Z"
    },
    "execution": {
     "iopub.execute_input": "2020-07-22T04:26:18.408216Z",
     "iopub.status.busy": "2020-07-22T04:26:18.407398Z",
     "iopub.status.idle": "2020-07-22T04:26:18.671439Z",
     "shell.execute_reply": "2020-07-22T04:26:18.670997Z"
    },
    "papermill": {
     "duration": 0.281515,
     "end_time": "2020-07-22T04:26:18.671559",
     "exception": false,
     "start_time": "2020-07-22T04:26:18.390044",
     "status": "completed"
    },
    "tags": []
   },
   "outputs": [],
   "source": [
    "save_fn = ROOT_DIR / 'data/raw/2016/structural_elem1_comps.pickle'\n",
    "save_pickle(structural_elem1_pivot, save_fn)"
   ]
  }
 ],
 "metadata": {
  "kernelspec": {
   "display_name": "hcad_pred",
   "language": "python",
   "name": "hcad_pred"
  },
  "language_info": {
   "codemirror_mode": {
    "name": "ipython",
    "version": 3
   },
   "file_extension": ".py",
   "mimetype": "text/x-python",
   "name": "python",
   "nbconvert_exporter": "python",
   "pygments_lexer": "ipython3",
   "version": "3.7.6"
  },
  "papermill": {
   "duration": 26.429778,
   "end_time": "2020-07-22T04:26:19.092466",
   "environment_variables": {},
   "exception": null,
   "input_path": "/media/hdd/projects/springboard/hcad_pred/notebooks/01_Exploratory/1.5-rp-hcad-data-view-structural_elem1.ipynb",
   "output_path": "/media/hdd/projects/springboard/hcad_pred/notebooks/01_Exploratory/output/1.5-rp-hcad-data-view-structural_elem1_20200721.ipynb",
   "parameters": {},
   "start_time": "2020-07-22T04:25:52.662688",
   "version": "2.1.2"
  },
  "toc": {
   "base_numbering": 1,
   "nav_menu": {},
   "number_sections": true,
   "sideBar": true,
   "skip_h1_title": false,
   "title_cell": "Table of Contents",
   "title_sidebar": "Contents",
   "toc_cell": false,
   "toc_position": {},
   "toc_section_display": true,
   "toc_window_display": false
  }
 },
 "nbformat": 4,
 "nbformat_minor": 4
}