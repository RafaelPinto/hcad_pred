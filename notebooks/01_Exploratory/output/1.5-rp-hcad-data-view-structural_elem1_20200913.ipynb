{
 "cells": [
  {
   "cell_type": "markdown",
   "metadata": {
    "papermill": {
     "duration": 0.030862,
     "end_time": "2020-09-13T12:46:21.185616",
     "exception": false,
     "start_time": "2020-09-13T12:46:21.154754",
     "status": "completed"
    },
    "tags": []
   },
   "source": [
    "# Find the comparables: structural_elem1.txt\n",
    "\n",
    "The file `structural_elem1.txt` contains important property information about the building data, like foundation type, exterior wall composition, Heating/AC, and more. Let's load this file and grab a subset with the important columns to continue our study."
   ]
  },
  {
   "cell_type": "code",
   "execution_count": 1,
   "metadata": {
    "ExecuteTime": {
     "end_time": "2020-07-28T10:58:04.418028Z",
     "start_time": "2020-07-28T10:58:04.401115Z"
    },
    "execution": {
     "iopub.execute_input": "2020-09-13T12:46:21.250866Z",
     "iopub.status.busy": "2020-09-13T12:46:21.249838Z",
     "iopub.status.idle": "2020-09-13T12:46:21.262910Z",
     "shell.execute_reply": "2020-09-13T12:46:21.262011Z"
    },
    "papermill": {
     "duration": 0.050403,
     "end_time": "2020-09-13T12:46:21.263184",
     "exception": false,
     "start_time": "2020-09-13T12:46:21.212781",
     "status": "completed"
    },
    "tags": []
   },
   "outputs": [],
   "source": [
    "%load_ext autoreload\n",
    "%autoreload 2"
   ]
  },
  {
   "cell_type": "code",
   "execution_count": 2,
   "metadata": {
    "ExecuteTime": {
     "end_time": "2020-07-28T10:58:04.834082Z",
     "start_time": "2020-07-28T10:58:04.420660Z"
    },
    "execution": {
     "iopub.execute_input": "2020-09-13T12:46:21.328237Z",
     "iopub.status.busy": "2020-09-13T12:46:21.327315Z",
     "iopub.status.idle": "2020-09-13T12:46:21.766269Z",
     "shell.execute_reply": "2020-09-13T12:46:21.767028Z"
    },
    "papermill": {
     "duration": 0.469101,
     "end_time": "2020-09-13T12:46:21.767206",
     "exception": false,
     "start_time": "2020-09-13T12:46:21.298105",
     "status": "completed"
    },
    "tags": []
   },
   "outputs": [],
   "source": [
    "from pathlib import Path\n",
    "import pickle\n",
    "\n",
    "import pandas as pd\n",
    "\n",
    "from src.definitions import ROOT_DIR\n",
    "from src.data.utils import Table, save_pickle"
   ]
  },
  {
   "cell_type": "code",
   "execution_count": 3,
   "metadata": {
    "ExecuteTime": {
     "end_time": "2020-07-28T10:58:04.846909Z",
     "start_time": "2020-07-28T10:58:04.835998Z"
    },
    "execution": {
     "iopub.execute_input": "2020-09-13T12:46:21.823567Z",
     "iopub.status.busy": "2020-09-13T12:46:21.822656Z",
     "iopub.status.idle": "2020-09-13T12:46:21.833807Z",
     "shell.execute_reply": "2020-09-13T12:46:21.834259Z"
    },
    "papermill": {
     "duration": 0.041961,
     "end_time": "2020-09-13T12:46:21.834428",
     "exception": false,
     "start_time": "2020-09-13T12:46:21.792467",
     "status": "completed"
    },
    "tags": []
   },
   "outputs": [],
   "source": [
    "structural_elem1_fn = ROOT_DIR / 'data/external/2016/Real_building_land/structural_elem1.txt'\n",
    "assert structural_elem1_fn.exists()"
   ]
  },
  {
   "cell_type": "code",
   "execution_count": 4,
   "metadata": {
    "ExecuteTime": {
     "end_time": "2020-07-28T10:58:04.866676Z",
     "start_time": "2020-07-28T10:58:04.850043Z"
    },
    "execution": {
     "iopub.execute_input": "2020-09-13T12:46:21.887624Z",
     "iopub.status.busy": "2020-09-13T12:46:21.886743Z",
     "iopub.status.idle": "2020-09-13T12:46:21.899496Z",
     "shell.execute_reply": "2020-09-13T12:46:21.899001Z"
    },
    "papermill": {
     "duration": 0.040185,
     "end_time": "2020-09-13T12:46:21.899630",
     "exception": false,
     "start_time": "2020-09-13T12:46:21.859445",
     "status": "completed"
    },
    "tags": []
   },
   "outputs": [],
   "source": [
    "structural_elem1 = Table(structural_elem1_fn, '2016')"
   ]
  },
  {
   "cell_type": "markdown",
   "metadata": {
    "papermill": {
     "duration": 0.029211,
     "end_time": "2020-09-13T12:46:21.953908",
     "exception": false,
     "start_time": "2020-09-13T12:46:21.924697",
     "status": "completed"
    },
    "tags": []
   },
   "source": [
    "# Load accounts of interest\n",
    "Let's remove the account numbers that don't meet free-standing single-family home criteria that we found while processing the `building_res.txt` file."
   ]
  },
  {
   "cell_type": "code",
   "execution_count": 5,
   "metadata": {
    "ExecuteTime": {
     "end_time": "2020-07-28T10:58:09.279865Z",
     "start_time": "2020-07-28T10:58:04.868848Z"
    },
    "execution": {
     "iopub.execute_input": "2020-09-13T12:46:22.006495Z",
     "iopub.status.busy": "2020-09-13T12:46:22.005941Z",
     "iopub.status.idle": "2020-09-13T12:46:27.871776Z",
     "shell.execute_reply": "2020-09-13T12:46:27.872263Z"
    },
    "papermill": {
     "duration": 5.893767,
     "end_time": "2020-09-13T12:46:27.872446",
     "exception": false,
     "start_time": "2020-09-13T12:46:21.978679",
     "status": "completed"
    },
    "tags": []
   },
   "outputs": [],
   "source": [
    "skiprows = structural_elem1.get_skiprows()"
   ]
  },
  {
   "cell_type": "code",
   "execution_count": 6,
   "metadata": {
    "ExecuteTime": {
     "end_time": "2020-07-28T10:58:15.542302Z",
     "start_time": "2020-07-28T10:58:09.283986Z"
    },
    "execution": {
     "iopub.execute_input": "2020-09-13T12:46:28.424326Z",
     "iopub.status.busy": "2020-09-13T12:46:28.423651Z",
     "iopub.status.idle": "2020-09-13T12:46:35.436629Z",
     "shell.execute_reply": "2020-09-13T12:46:35.437076Z"
    },
    "papermill": {
     "duration": 7.537635,
     "end_time": "2020-09-13T12:46:35.437239",
     "exception": false,
     "start_time": "2020-09-13T12:46:27.899604",
     "status": "completed"
    },
    "tags": []
   },
   "outputs": [],
   "source": [
    "structural_elem1_df = structural_elem1.get_df(skiprows=skiprows)"
   ]
  },
  {
   "cell_type": "code",
   "execution_count": 7,
   "metadata": {
    "ExecuteTime": {
     "end_time": "2020-07-28T10:58:15.586443Z",
     "start_time": "2020-07-28T10:58:15.543756Z"
    },
    "execution": {
     "iopub.execute_input": "2020-09-13T12:46:35.493354Z",
     "iopub.status.busy": "2020-09-13T12:46:35.492454Z",
     "iopub.status.idle": "2020-09-13T12:46:35.519238Z",
     "shell.execute_reply": "2020-09-13T12:46:35.519701Z"
    },
    "papermill": {
     "duration": 0.058205,
     "end_time": "2020-09-13T12:46:35.519861",
     "exception": false,
     "start_time": "2020-09-13T12:46:35.461656",
     "status": "completed"
    },
    "tags": []
   },
   "outputs": [
    {
     "data": {
      "text/html": [
       "<div>\n",
       "<style scoped>\n",
       "    .dataframe tbody tr th:only-of-type {\n",
       "        vertical-align: middle;\n",
       "    }\n",
       "\n",
       "    .dataframe tbody tr th {\n",
       "        vertical-align: top;\n",
       "    }\n",
       "\n",
       "    .dataframe thead th {\n",
       "        text-align: right;\n",
       "    }\n",
       "</style>\n",
       "<table border=\"1\" class=\"dataframe\">\n",
       "  <thead>\n",
       "    <tr style=\"text-align: right;\">\n",
       "      <th></th>\n",
       "      <th>acct</th>\n",
       "      <th>bld_num</th>\n",
       "      <th>code</th>\n",
       "      <th>adj</th>\n",
       "      <th>type</th>\n",
       "      <th>type_dscr</th>\n",
       "      <th>category_dscr</th>\n",
       "      <th>dor_cd</th>\n",
       "    </tr>\n",
       "  </thead>\n",
       "  <tbody>\n",
       "    <tr>\n",
       "      <th>0</th>\n",
       "      <td>1234170010001</td>\n",
       "      <td>1</td>\n",
       "      <td>4</td>\n",
       "      <td>0.86</td>\n",
       "      <td>CDU</td>\n",
       "      <td>Cond / Desir / Util</td>\n",
       "      <td>Average</td>\n",
       "      <td>A1</td>\n",
       "    </tr>\n",
       "    <tr>\n",
       "      <th>1</th>\n",
       "      <td>1234170010001</td>\n",
       "      <td>1</td>\n",
       "      <td>1</td>\n",
       "      <td>0.00</td>\n",
       "      <td>FND</td>\n",
       "      <td>Foundation Type</td>\n",
       "      <td>Slab</td>\n",
       "      <td>A1</td>\n",
       "    </tr>\n",
       "    <tr>\n",
       "      <th>2</th>\n",
       "      <td>1247460020012</td>\n",
       "      <td>1</td>\n",
       "      <td>4</td>\n",
       "      <td>0.88</td>\n",
       "      <td>CDU</td>\n",
       "      <td>Cond / Desir / Util</td>\n",
       "      <td>Average</td>\n",
       "      <td>A1</td>\n",
       "    </tr>\n",
       "    <tr>\n",
       "      <th>3</th>\n",
       "      <td>1247460020012</td>\n",
       "      <td>1</td>\n",
       "      <td>8</td>\n",
       "      <td>1.29</td>\n",
       "      <td>GRD</td>\n",
       "      <td>Grade Adjustment</td>\n",
       "      <td>B</td>\n",
       "      <td>A1</td>\n",
       "    </tr>\n",
       "    <tr>\n",
       "      <th>4</th>\n",
       "      <td>1247460020012</td>\n",
       "      <td>1</td>\n",
       "      <td>6</td>\n",
       "      <td>111.00</td>\n",
       "      <td>XWR</td>\n",
       "      <td>Exterior Wall</td>\n",
       "      <td>Brick / Veneer</td>\n",
       "      <td>A1</td>\n",
       "    </tr>\n",
       "  </tbody>\n",
       "</table>\n",
       "</div>"
      ],
      "text/plain": [
       "            acct  bld_num  code     adj  type            type_dscr  \\\n",
       "0  1234170010001        1     4    0.86  CDU   Cond / Desir / Util   \n",
       "1  1234170010001        1     1    0.00  FND       Foundation Type   \n",
       "2  1247460020012        1     4    0.88  CDU   Cond / Desir / Util   \n",
       "3  1247460020012        1     8    1.29  GRD      Grade Adjustment   \n",
       "4  1247460020012        1     6  111.00  XWR         Exterior Wall   \n",
       "\n",
       "    category_dscr dor_cd  \n",
       "0         Average   A1    \n",
       "1            Slab   A1    \n",
       "2         Average   A1    \n",
       "3               B   A1    \n",
       "4  Brick / Veneer   A1    "
      ]
     },
     "execution_count": 7,
     "metadata": {},
     "output_type": "execute_result"
    }
   ],
   "source": [
    "structural_elem1_df.head()"
   ]
  },
  {
   "cell_type": "markdown",
   "metadata": {
    "papermill": {
     "duration": 0.024173,
     "end_time": "2020-09-13T12:46:35.569164",
     "exception": false,
     "start_time": "2020-09-13T12:46:35.544991",
     "status": "completed"
    },
    "tags": []
   },
   "source": [
    "# Grab slice of the structural_elem1 variables of interest\n",
    "Let's look at the number of `type_dscr` present in the data using value counts."
   ]
  },
  {
   "cell_type": "code",
   "execution_count": 8,
   "metadata": {
    "ExecuteTime": {
     "end_time": "2020-07-28T10:58:16.056940Z",
     "start_time": "2020-07-28T10:58:15.589509Z"
    },
    "execution": {
     "iopub.execute_input": "2020-09-13T12:46:35.623263Z",
     "iopub.status.busy": "2020-09-13T12:46:35.622382Z",
     "iopub.status.idle": "2020-09-13T12:46:36.103828Z",
     "shell.execute_reply": "2020-09-13T12:46:36.103358Z"
    },
    "papermill": {
     "duration": 0.510544,
     "end_time": "2020-09-13T12:46:36.103957",
     "exception": false,
     "start_time": "2020-09-13T12:46:35.593413",
     "status": "completed"
    },
    "tags": []
   },
   "outputs": [
    {
     "data": {
      "text/plain": [
       "Exterior Wall            1359397.000000\n",
       "Foundation Type           960762.000000\n",
       "Physical Condition        960682.000000\n",
       "Heating / AC              960678.000000\n",
       "Grade Adjustment          960677.000000\n",
       "Cond / Desir / Util       960676.000000\n",
       "Cost and Design           152421.000000\n",
       "Economic Obsolescence          7.000000\n",
       "Cooling Type                   5.000000\n",
       "Construction Type              5.000000\n",
       "Heating Type                   5.000000\n",
       "Partition Type                 5.000000\n",
       "Functional Utility             5.000000\n",
       "Plumbing Type                  5.000000\n",
       "Sprinkler Type                 5.000000\n",
       "Name: type_dscr, dtype: object"
      ]
     },
     "execution_count": 8,
     "metadata": {},
     "output_type": "execute_result"
    }
   ],
   "source": [
    "structural_elem1_df.type_dscr.value_counts().apply(lambda x: format(x, 'f'))"
   ]
  },
  {
   "cell_type": "markdown",
   "metadata": {
    "papermill": {
     "duration": 0.024969,
     "end_time": "2020-09-13T12:46:36.153421",
     "exception": false,
     "start_time": "2020-09-13T12:46:36.128452",
     "status": "completed"
    },
    "tags": []
   },
   "source": [
    "The vast majority of type descriptions are represented in the first seven entries above. Let's grab those before building the pivot table."
   ]
  },
  {
   "cell_type": "code",
   "execution_count": 9,
   "metadata": {
    "ExecuteTime": {
     "end_time": "2020-07-28T10:58:16.544605Z",
     "start_time": "2020-07-28T10:58:16.060139Z"
    },
    "execution": {
     "iopub.execute_input": "2020-09-13T12:46:36.210635Z",
     "iopub.status.busy": "2020-09-13T12:46:36.209766Z",
     "iopub.status.idle": "2020-09-13T12:46:36.681552Z",
     "shell.execute_reply": "2020-09-13T12:46:36.681992Z"
    },
    "papermill": {
     "duration": 0.502968,
     "end_time": "2020-09-13T12:46:36.682148",
     "exception": false,
     "start_time": "2020-09-13T12:46:36.179180",
     "status": "completed"
    },
    "tags": []
   },
   "outputs": [],
   "source": [
    "cols = structural_elem1_df.type_dscr.value_counts().head(7).index"
   ]
  },
  {
   "cell_type": "code",
   "execution_count": 10,
   "metadata": {
    "ExecuteTime": {
     "end_time": "2020-07-28T10:58:17.040080Z",
     "start_time": "2020-07-28T10:58:16.546117Z"
    },
    "execution": {
     "iopub.execute_input": "2020-09-13T12:46:36.737389Z",
     "iopub.status.busy": "2020-09-13T12:46:36.736473Z",
     "iopub.status.idle": "2020-09-13T12:46:37.179048Z",
     "shell.execute_reply": "2020-09-13T12:46:37.179487Z"
    },
    "papermill": {
     "duration": 0.472768,
     "end_time": "2020-09-13T12:46:37.179655",
     "exception": false,
     "start_time": "2020-09-13T12:46:36.706887",
     "status": "completed"
    },
    "tags": []
   },
   "outputs": [],
   "source": [
    "cond0 = structural_elem1_df['type_dscr'].isin(cols)\n",
    "structural_elem1_df = structural_elem1_df.loc[cond0, :]"
   ]
  },
  {
   "cell_type": "markdown",
   "metadata": {
    "papermill": {
     "duration": 0.025605,
     "end_time": "2020-09-13T12:46:37.232135",
     "exception": false,
     "start_time": "2020-09-13T12:46:37.206530",
     "status": "completed"
    },
    "tags": []
   },
   "source": [
    "# Build pivot table\n",
    "Let's look at one example from a random property account:"
   ]
  },
  {
   "cell_type": "code",
   "execution_count": 11,
   "metadata": {
    "ExecuteTime": {
     "end_time": "2020-07-28T10:58:17.082402Z",
     "start_time": "2020-07-28T10:58:17.041826Z"
    },
    "execution": {
     "iopub.execute_input": "2020-09-13T12:46:37.299406Z",
     "iopub.status.busy": "2020-09-13T12:46:37.298489Z",
     "iopub.status.idle": "2020-09-13T12:46:37.329485Z",
     "shell.execute_reply": "2020-09-13T12:46:37.329933Z"
    },
    "papermill": {
     "duration": 0.061567,
     "end_time": "2020-09-13T12:46:37.330105",
     "exception": false,
     "start_time": "2020-09-13T12:46:37.268538",
     "status": "completed"
    },
    "tags": []
   },
   "outputs": [
    {
     "data": {
      "text/html": [
       "<div>\n",
       "<style scoped>\n",
       "    .dataframe tbody tr th:only-of-type {\n",
       "        vertical-align: middle;\n",
       "    }\n",
       "\n",
       "    .dataframe tbody tr th {\n",
       "        vertical-align: top;\n",
       "    }\n",
       "\n",
       "    .dataframe thead th {\n",
       "        text-align: right;\n",
       "    }\n",
       "</style>\n",
       "<table border=\"1\" class=\"dataframe\">\n",
       "  <thead>\n",
       "    <tr style=\"text-align: right;\">\n",
       "      <th></th>\n",
       "      <th>acct</th>\n",
       "      <th>bld_num</th>\n",
       "      <th>code</th>\n",
       "      <th>adj</th>\n",
       "      <th>type</th>\n",
       "      <th>type_dscr</th>\n",
       "      <th>category_dscr</th>\n",
       "      <th>dor_cd</th>\n",
       "    </tr>\n",
       "  </thead>\n",
       "  <tbody>\n",
       "    <tr>\n",
       "      <th>5072046</th>\n",
       "      <td>1347180010021</td>\n",
       "      <td>1</td>\n",
       "      <td>1</td>\n",
       "      <td>0.00</td>\n",
       "      <td>FND</td>\n",
       "      <td>Foundation Type</td>\n",
       "      <td>Slab</td>\n",
       "      <td>A1</td>\n",
       "    </tr>\n",
       "    <tr>\n",
       "      <th>5072047</th>\n",
       "      <td>1347180010021</td>\n",
       "      <td>1</td>\n",
       "      <td>3</td>\n",
       "      <td>8.00</td>\n",
       "      <td>HAC</td>\n",
       "      <td>Heating / AC</td>\n",
       "      <td>Central Heat/AC</td>\n",
       "      <td>A1</td>\n",
       "    </tr>\n",
       "    <tr>\n",
       "      <th>5072048</th>\n",
       "      <td>1347180010021</td>\n",
       "      <td>1</td>\n",
       "      <td>4</td>\n",
       "      <td>NaN</td>\n",
       "      <td>PCR</td>\n",
       "      <td>Physical Condition</td>\n",
       "      <td>Average</td>\n",
       "      <td>A1</td>\n",
       "    </tr>\n",
       "    <tr>\n",
       "      <th>5072049</th>\n",
       "      <td>1347180010021</td>\n",
       "      <td>1</td>\n",
       "      <td>4</td>\n",
       "      <td>0.99</td>\n",
       "      <td>CDU</td>\n",
       "      <td>Cond / Desir / Util</td>\n",
       "      <td>Average</td>\n",
       "      <td>A1</td>\n",
       "    </tr>\n",
       "    <tr>\n",
       "      <th>5073997</th>\n",
       "      <td>1347180010021</td>\n",
       "      <td>1</td>\n",
       "      <td>9</td>\n",
       "      <td>1.17</td>\n",
       "      <td>GRD</td>\n",
       "      <td>Grade Adjustment</td>\n",
       "      <td>B-</td>\n",
       "      <td>A1</td>\n",
       "    </tr>\n",
       "    <tr>\n",
       "      <th>5073998</th>\n",
       "      <td>1347180010021</td>\n",
       "      <td>1</td>\n",
       "      <td>6</td>\n",
       "      <td>77.70</td>\n",
       "      <td>XWR</td>\n",
       "      <td>Exterior Wall</td>\n",
       "      <td>Brick / Veneer</td>\n",
       "      <td>A1</td>\n",
       "    </tr>\n",
       "    <tr>\n",
       "      <th>5073999</th>\n",
       "      <td>1347180010021</td>\n",
       "      <td>1</td>\n",
       "      <td>1</td>\n",
       "      <td>30.00</td>\n",
       "      <td>XWR</td>\n",
       "      <td>Exterior Wall</td>\n",
       "      <td>Frame / Concrete Blk</td>\n",
       "      <td>A1</td>\n",
       "    </tr>\n",
       "  </tbody>\n",
       "</table>\n",
       "</div>"
      ],
      "text/plain": [
       "                  acct  bld_num  code    adj  type            type_dscr  \\\n",
       "5072046  1347180010021        1     1   0.00  FND       Foundation Type   \n",
       "5072047  1347180010021        1     3   8.00  HAC          Heating / AC   \n",
       "5072048  1347180010021        1     4    NaN  PCR    Physical Condition   \n",
       "5072049  1347180010021        1     4   0.99  CDU   Cond / Desir / Util   \n",
       "5073997  1347180010021        1     9   1.17  GRD      Grade Adjustment   \n",
       "5073998  1347180010021        1     6  77.70  XWR         Exterior Wall   \n",
       "5073999  1347180010021        1     1  30.00  XWR         Exterior Wall   \n",
       "\n",
       "                category_dscr dor_cd  \n",
       "5072046                  Slab   A1    \n",
       "5072047       Central Heat/AC   A1    \n",
       "5072048               Average   A1    \n",
       "5072049               Average   A1    \n",
       "5073997                    B-   A1    \n",
       "5073998        Brick / Veneer   A1    \n",
       "5073999  Frame / Concrete Blk   A1    "
      ]
     },
     "execution_count": 11,
     "metadata": {},
     "output_type": "execute_result"
    }
   ],
   "source": [
    "structural_elem1_df[structural_elem1_df['acct'] == 1347180010021]"
   ]
  },
  {
   "cell_type": "markdown",
   "metadata": {
    "papermill": {
     "duration": 0.025642,
     "end_time": "2020-09-13T12:46:37.382469",
     "exception": false,
     "start_time": "2020-09-13T12:46:37.356827",
     "status": "completed"
    },
    "tags": []
   },
   "source": [
    "We would like to build a pivot table using the `type_dscr` entries as columns and the `category_dscr` as values. However, note that the `type_dscr` is not unique for each account number (`acct`). In the example above, the `type_dscr` Exterior Wall is found twice for the same property account. Let's select the first occurrence of each `type_dscr` for the moment. If it turns out that any of these variables is highly correlated to the property's appraised value we might have to use a different approach, i.e. account for all descriptions by relabeling the repeated entries."
   ]
  },
  {
   "cell_type": "code",
   "execution_count": 12,
   "metadata": {
    "ExecuteTime": {
     "end_time": "2020-07-28T10:58:23.435033Z",
     "start_time": "2020-07-28T10:58:17.085221Z"
    },
    "execution": {
     "iopub.execute_input": "2020-09-13T12:46:37.441324Z",
     "iopub.status.busy": "2020-09-13T12:46:37.439958Z",
     "iopub.status.idle": "2020-09-13T12:46:44.263025Z",
     "shell.execute_reply": "2020-09-13T12:46:44.262269Z"
    },
    "papermill": {
     "duration": 6.853995,
     "end_time": "2020-09-13T12:46:44.263230",
     "exception": false,
     "start_time": "2020-09-13T12:46:37.409235",
     "status": "completed"
    },
    "tags": []
   },
   "outputs": [],
   "source": [
    "structural_elem1_pivot = structural_elem1_df.pivot_table(index='acct',\n",
    "                                                         columns='type_dscr',\n",
    "                                                         values='category_dscr',\n",
    "                                                         aggfunc='first')"
   ]
  },
  {
   "cell_type": "code",
   "execution_count": 13,
   "metadata": {
    "ExecuteTime": {
     "end_time": "2020-07-28T10:58:23.457253Z",
     "start_time": "2020-07-28T10:58:23.436637Z"
    },
    "execution": {
     "iopub.execute_input": "2020-09-13T12:46:44.335176Z",
     "iopub.status.busy": "2020-09-13T12:46:44.334288Z",
     "iopub.status.idle": "2020-09-13T12:46:44.348533Z",
     "shell.execute_reply": "2020-09-13T12:46:44.348975Z"
    },
    "papermill": {
     "duration": 0.045442,
     "end_time": "2020-09-13T12:46:44.349154",
     "exception": false,
     "start_time": "2020-09-13T12:46:44.303712",
     "status": "completed"
    },
    "tags": []
   },
   "outputs": [],
   "source": [
    "structural_elem1_pivot.reset_index(inplace=True)"
   ]
  },
  {
   "cell_type": "code",
   "execution_count": 14,
   "metadata": {
    "ExecuteTime": {
     "end_time": "2020-07-28T10:58:23.498344Z",
     "start_time": "2020-07-28T10:58:23.459844Z"
    },
    "execution": {
     "iopub.execute_input": "2020-09-13T12:46:44.406372Z",
     "iopub.status.busy": "2020-09-13T12:46:44.405488Z",
     "iopub.status.idle": "2020-09-13T12:46:44.429810Z",
     "shell.execute_reply": "2020-09-13T12:46:44.430228Z"
    },
    "papermill": {
     "duration": 0.054584,
     "end_time": "2020-09-13T12:46:44.430389",
     "exception": false,
     "start_time": "2020-09-13T12:46:44.375805",
     "status": "completed"
    },
    "tags": []
   },
   "outputs": [
    {
     "data": {
      "text/html": [
       "<div>\n",
       "<style scoped>\n",
       "    .dataframe tbody tr th:only-of-type {\n",
       "        vertical-align: middle;\n",
       "    }\n",
       "\n",
       "    .dataframe tbody tr th {\n",
       "        vertical-align: top;\n",
       "    }\n",
       "\n",
       "    .dataframe thead th {\n",
       "        text-align: right;\n",
       "    }\n",
       "</style>\n",
       "<table border=\"1\" class=\"dataframe\">\n",
       "  <thead>\n",
       "    <tr style=\"text-align: right;\">\n",
       "      <th>type_dscr</th>\n",
       "      <th>acct</th>\n",
       "      <th>Cond / Desir / Util</th>\n",
       "      <th>Cost and Design</th>\n",
       "      <th>Exterior Wall</th>\n",
       "      <th>Foundation Type</th>\n",
       "      <th>Grade Adjustment</th>\n",
       "      <th>Heating / AC</th>\n",
       "      <th>Physical Condition</th>\n",
       "    </tr>\n",
       "  </thead>\n",
       "  <tbody>\n",
       "    <tr>\n",
       "      <th>0</th>\n",
       "      <td>21440000001</td>\n",
       "      <td>Fair</td>\n",
       "      <td>New / Rebuilt</td>\n",
       "      <td>Stucco</td>\n",
       "      <td>Slab</td>\n",
       "      <td>B-</td>\n",
       "      <td>Central Heat/AC</td>\n",
       "      <td>Average</td>\n",
       "    </tr>\n",
       "    <tr>\n",
       "      <th>1</th>\n",
       "      <td>21470000008</td>\n",
       "      <td>Unsound</td>\n",
       "      <td>Econ Misimprovement</td>\n",
       "      <td>Frame / Concrete Blk</td>\n",
       "      <td>Slab</td>\n",
       "      <td>D-</td>\n",
       "      <td>None</td>\n",
       "      <td>Unsound</td>\n",
       "    </tr>\n",
       "    <tr>\n",
       "      <th>2</th>\n",
       "      <td>21480000002</td>\n",
       "      <td>Poor</td>\n",
       "      <td>Econ Misimprovement</td>\n",
       "      <td>Frame / Concrete Blk</td>\n",
       "      <td>Crawl Space</td>\n",
       "      <td>D</td>\n",
       "      <td>None</td>\n",
       "      <td>Poor</td>\n",
       "    </tr>\n",
       "    <tr>\n",
       "      <th>3</th>\n",
       "      <td>21650000007</td>\n",
       "      <td>Average</td>\n",
       "      <td>New / Rebuilt</td>\n",
       "      <td>Stucco</td>\n",
       "      <td>Slab</td>\n",
       "      <td>B+</td>\n",
       "      <td>Central Heat/AC</td>\n",
       "      <td>Average</td>\n",
       "    </tr>\n",
       "    <tr>\n",
       "      <th>4</th>\n",
       "      <td>21650000011</td>\n",
       "      <td>Fair</td>\n",
       "      <td>New / Rebuilt</td>\n",
       "      <td>Frame / Concrete Blk</td>\n",
       "      <td>Slab</td>\n",
       "      <td>C</td>\n",
       "      <td>Central Heat/AC</td>\n",
       "      <td>Average</td>\n",
       "    </tr>\n",
       "    <tr>\n",
       "      <th>5</th>\n",
       "      <td>21660000011</td>\n",
       "      <td>Fair</td>\n",
       "      <td>Econ Misimprovement</td>\n",
       "      <td>Asbestos</td>\n",
       "      <td>Crawl Space</td>\n",
       "      <td>D</td>\n",
       "      <td>Central Heat/AC</td>\n",
       "      <td>Fair</td>\n",
       "    </tr>\n",
       "    <tr>\n",
       "      <th>6</th>\n",
       "      <td>21660000012</td>\n",
       "      <td>Average</td>\n",
       "      <td>NaN</td>\n",
       "      <td>Frame / Concrete Blk</td>\n",
       "      <td>Slab</td>\n",
       "      <td>B</td>\n",
       "      <td>Central Heat/AC</td>\n",
       "      <td>Average</td>\n",
       "    </tr>\n",
       "    <tr>\n",
       "      <th>7</th>\n",
       "      <td>21700000013</td>\n",
       "      <td>Average</td>\n",
       "      <td>Partial</td>\n",
       "      <td>Stucco</td>\n",
       "      <td>Crawl Space</td>\n",
       "      <td>D+</td>\n",
       "      <td>None</td>\n",
       "      <td>Average</td>\n",
       "    </tr>\n",
       "    <tr>\n",
       "      <th>8</th>\n",
       "      <td>21750000003</td>\n",
       "      <td>Average</td>\n",
       "      <td>NaN</td>\n",
       "      <td>Brick / Veneer</td>\n",
       "      <td>Slab</td>\n",
       "      <td>B+</td>\n",
       "      <td>Central Heat/AC</td>\n",
       "      <td>Average</td>\n",
       "    </tr>\n",
       "    <tr>\n",
       "      <th>9</th>\n",
       "      <td>21750000013</td>\n",
       "      <td>Fair</td>\n",
       "      <td>Extensive</td>\n",
       "      <td>Frame / Concrete Blk</td>\n",
       "      <td>Crawl Space</td>\n",
       "      <td>B</td>\n",
       "      <td>Central Heat/AC</td>\n",
       "      <td>Average</td>\n",
       "    </tr>\n",
       "    <tr>\n",
       "      <th>10</th>\n",
       "      <td>21750000018</td>\n",
       "      <td>Average</td>\n",
       "      <td>NaN</td>\n",
       "      <td>Brick / Veneer</td>\n",
       "      <td>Slab</td>\n",
       "      <td>B+</td>\n",
       "      <td>Central Heat/AC</td>\n",
       "      <td>Average</td>\n",
       "    </tr>\n",
       "    <tr>\n",
       "      <th>11</th>\n",
       "      <td>21750000019</td>\n",
       "      <td>Average</td>\n",
       "      <td>NaN</td>\n",
       "      <td>Brick / Veneer</td>\n",
       "      <td>Slab</td>\n",
       "      <td>B+</td>\n",
       "      <td>Central Heat/AC</td>\n",
       "      <td>Average</td>\n",
       "    </tr>\n",
       "    <tr>\n",
       "      <th>12</th>\n",
       "      <td>21960000001</td>\n",
       "      <td>Good</td>\n",
       "      <td>Total</td>\n",
       "      <td>Aluminum / Vinyl</td>\n",
       "      <td>Slab</td>\n",
       "      <td>D-</td>\n",
       "      <td>Central Heat/AC</td>\n",
       "      <td>Excellent</td>\n",
       "    </tr>\n",
       "    <tr>\n",
       "      <th>13</th>\n",
       "      <td>21980000011</td>\n",
       "      <td>Very Poor</td>\n",
       "      <td>NaN</td>\n",
       "      <td>Frame / Concrete Blk</td>\n",
       "      <td>Crawl Space</td>\n",
       "      <td>D-</td>\n",
       "      <td>None</td>\n",
       "      <td>Very Poor</td>\n",
       "    </tr>\n",
       "    <tr>\n",
       "      <th>14</th>\n",
       "      <td>22070000001</td>\n",
       "      <td>Average</td>\n",
       "      <td>NaN</td>\n",
       "      <td>Frame / Concrete Blk</td>\n",
       "      <td>Crawl Space</td>\n",
       "      <td>D</td>\n",
       "      <td>None</td>\n",
       "      <td>Average</td>\n",
       "    </tr>\n",
       "    <tr>\n",
       "      <th>15</th>\n",
       "      <td>22070000002</td>\n",
       "      <td>Average</td>\n",
       "      <td>New / Rebuilt</td>\n",
       "      <td>Frame / Concrete Blk</td>\n",
       "      <td>Slab</td>\n",
       "      <td>B</td>\n",
       "      <td>Central Heat/AC</td>\n",
       "      <td>Average</td>\n",
       "    </tr>\n",
       "    <tr>\n",
       "      <th>16</th>\n",
       "      <td>22070000006</td>\n",
       "      <td>Fair</td>\n",
       "      <td>NaN</td>\n",
       "      <td>Asbestos</td>\n",
       "      <td>Crawl Space</td>\n",
       "      <td>D-</td>\n",
       "      <td>None</td>\n",
       "      <td>Fair</td>\n",
       "    </tr>\n",
       "    <tr>\n",
       "      <th>17</th>\n",
       "      <td>22070000007</td>\n",
       "      <td>Fair</td>\n",
       "      <td>NaN</td>\n",
       "      <td>Frame / Concrete Blk</td>\n",
       "      <td>Crawl Space</td>\n",
       "      <td>D+</td>\n",
       "      <td>None</td>\n",
       "      <td>Fair</td>\n",
       "    </tr>\n",
       "    <tr>\n",
       "      <th>18</th>\n",
       "      <td>22080000002</td>\n",
       "      <td>Average</td>\n",
       "      <td>NaN</td>\n",
       "      <td>Frame / Concrete Blk</td>\n",
       "      <td>Slab</td>\n",
       "      <td>C-</td>\n",
       "      <td>Central Heat/AC</td>\n",
       "      <td>Average</td>\n",
       "    </tr>\n",
       "    <tr>\n",
       "      <th>19</th>\n",
       "      <td>22080000008</td>\n",
       "      <td>Average</td>\n",
       "      <td>NaN</td>\n",
       "      <td>Aluminum / Vinyl</td>\n",
       "      <td>Crawl Space</td>\n",
       "      <td>D</td>\n",
       "      <td>None</td>\n",
       "      <td>Average</td>\n",
       "    </tr>\n",
       "  </tbody>\n",
       "</table>\n",
       "</div>"
      ],
      "text/plain": [
       "type_dscr         acct Cond / Desir / Util      Cost and Design  \\\n",
       "0          21440000001                Fair        New / Rebuilt   \n",
       "1          21470000008             Unsound  Econ Misimprovement   \n",
       "2          21480000002                Poor  Econ Misimprovement   \n",
       "3          21650000007             Average        New / Rebuilt   \n",
       "4          21650000011                Fair        New / Rebuilt   \n",
       "5          21660000011                Fair  Econ Misimprovement   \n",
       "6          21660000012             Average                  NaN   \n",
       "7          21700000013             Average              Partial   \n",
       "8          21750000003             Average                  NaN   \n",
       "9          21750000013                Fair            Extensive   \n",
       "10         21750000018             Average                  NaN   \n",
       "11         21750000019             Average                  NaN   \n",
       "12         21960000001                Good                Total   \n",
       "13         21980000011           Very Poor                  NaN   \n",
       "14         22070000001             Average                  NaN   \n",
       "15         22070000002             Average        New / Rebuilt   \n",
       "16         22070000006                Fair                  NaN   \n",
       "17         22070000007                Fair                  NaN   \n",
       "18         22080000002             Average                  NaN   \n",
       "19         22080000008             Average                  NaN   \n",
       "\n",
       "type_dscr         Exterior Wall Foundation Type Grade Adjustment  \\\n",
       "0                        Stucco            Slab               B-   \n",
       "1          Frame / Concrete Blk            Slab               D-   \n",
       "2          Frame / Concrete Blk     Crawl Space                D   \n",
       "3                        Stucco            Slab               B+   \n",
       "4          Frame / Concrete Blk            Slab                C   \n",
       "5                      Asbestos     Crawl Space                D   \n",
       "6          Frame / Concrete Blk            Slab                B   \n",
       "7                        Stucco     Crawl Space               D+   \n",
       "8                Brick / Veneer            Slab               B+   \n",
       "9          Frame / Concrete Blk     Crawl Space                B   \n",
       "10               Brick / Veneer            Slab               B+   \n",
       "11               Brick / Veneer            Slab               B+   \n",
       "12             Aluminum / Vinyl            Slab               D-   \n",
       "13         Frame / Concrete Blk     Crawl Space               D-   \n",
       "14         Frame / Concrete Blk     Crawl Space                D   \n",
       "15         Frame / Concrete Blk            Slab                B   \n",
       "16                     Asbestos     Crawl Space               D-   \n",
       "17         Frame / Concrete Blk     Crawl Space               D+   \n",
       "18         Frame / Concrete Blk            Slab               C-   \n",
       "19             Aluminum / Vinyl     Crawl Space                D   \n",
       "\n",
       "type_dscr     Heating / AC Physical Condition  \n",
       "0          Central Heat/AC            Average  \n",
       "1                     None            Unsound  \n",
       "2                     None               Poor  \n",
       "3          Central Heat/AC            Average  \n",
       "4          Central Heat/AC            Average  \n",
       "5          Central Heat/AC               Fair  \n",
       "6          Central Heat/AC            Average  \n",
       "7                     None            Average  \n",
       "8          Central Heat/AC            Average  \n",
       "9          Central Heat/AC            Average  \n",
       "10         Central Heat/AC            Average  \n",
       "11         Central Heat/AC            Average  \n",
       "12         Central Heat/AC          Excellent  \n",
       "13                    None          Very Poor  \n",
       "14                    None            Average  \n",
       "15         Central Heat/AC            Average  \n",
       "16                    None               Fair  \n",
       "17                    None               Fair  \n",
       "18         Central Heat/AC            Average  \n",
       "19                    None            Average  "
      ]
     },
     "execution_count": 14,
     "metadata": {},
     "output_type": "execute_result"
    }
   ],
   "source": [
    "structural_elem1_pivot.head(20)"
   ]
  },
  {
   "cell_type": "code",
   "execution_count": 15,
   "metadata": {
    "ExecuteTime": {
     "end_time": "2020-07-28T10:58:23.665393Z",
     "start_time": "2020-07-28T10:58:23.500198Z"
    },
    "execution": {
     "iopub.execute_input": "2020-09-13T12:46:44.489450Z",
     "iopub.status.busy": "2020-09-13T12:46:44.488580Z",
     "iopub.status.idle": "2020-09-13T12:46:44.627351Z",
     "shell.execute_reply": "2020-09-13T12:46:44.627947Z"
    },
    "papermill": {
     "duration": 0.170911,
     "end_time": "2020-09-13T12:46:44.628191",
     "exception": false,
     "start_time": "2020-09-13T12:46:44.457280",
     "status": "completed"
    },
    "tags": []
   },
   "outputs": [],
   "source": [
    "assert structural_elem1_pivot['acct'].is_unique"
   ]
  },
  {
   "cell_type": "markdown",
   "metadata": {
    "papermill": {
     "duration": 0.02918,
     "end_time": "2020-09-13T12:46:44.687967",
     "exception": false,
     "start_time": "2020-09-13T12:46:44.658787",
     "status": "completed"
    },
    "tags": []
   },
   "source": [
    "# Fix column names\n",
    "We would like the column names to be all lower case, with no spaces nor non-alphanumeric characters."
   ]
  },
  {
   "cell_type": "code",
   "execution_count": 16,
   "metadata": {
    "ExecuteTime": {
     "end_time": "2020-07-28T10:58:23.679429Z",
     "start_time": "2020-07-28T10:58:23.667056Z"
    },
    "execution": {
     "iopub.execute_input": "2020-09-13T12:46:44.749569Z",
     "iopub.status.busy": "2020-09-13T12:46:44.748919Z",
     "iopub.status.idle": "2020-09-13T12:46:44.766658Z",
     "shell.execute_reply": "2020-09-13T12:46:44.766079Z"
    },
    "papermill": {
     "duration": 0.04968,
     "end_time": "2020-09-13T12:46:44.766798",
     "exception": false,
     "start_time": "2020-09-13T12:46:44.717118",
     "status": "completed"
    },
    "tags": []
   },
   "outputs": [],
   "source": [
    "from src.data.utils import fix_column_names"
   ]
  },
  {
   "cell_type": "code",
   "execution_count": 17,
   "metadata": {
    "ExecuteTime": {
     "end_time": "2020-07-28T10:58:23.695015Z",
     "start_time": "2020-07-28T10:58:23.681061Z"
    },
    "execution": {
     "iopub.execute_input": "2020-09-13T12:46:44.825431Z",
     "iopub.status.busy": "2020-09-13T12:46:44.824866Z",
     "iopub.status.idle": "2020-09-13T12:46:44.844291Z",
     "shell.execute_reply": "2020-09-13T12:46:44.844931Z"
    },
    "papermill": {
     "duration": 0.051673,
     "end_time": "2020-09-13T12:46:44.845126",
     "exception": false,
     "start_time": "2020-09-13T12:46:44.793453",
     "status": "completed"
    },
    "tags": []
   },
   "outputs": [
    {
     "data": {
      "text/plain": [
       "Index(['acct', 'Cond / Desir / Util', 'Cost and Design', 'Exterior Wall',\n",
       "       'Foundation Type', 'Grade Adjustment', 'Heating / AC',\n",
       "       'Physical Condition'],\n",
       "      dtype='object', name='type_dscr')"
      ]
     },
     "execution_count": 17,
     "metadata": {},
     "output_type": "execute_result"
    }
   ],
   "source": [
    "structural_elem1_pivot.columns"
   ]
  },
  {
   "cell_type": "code",
   "execution_count": 18,
   "metadata": {
    "ExecuteTime": {
     "end_time": "2020-07-28T10:58:23.711608Z",
     "start_time": "2020-07-28T10:58:23.697670Z"
    },
    "execution": {
     "iopub.execute_input": "2020-09-13T12:46:44.904694Z",
     "iopub.status.busy": "2020-09-13T12:46:44.903981Z",
     "iopub.status.idle": "2020-09-13T12:46:44.920362Z",
     "shell.execute_reply": "2020-09-13T12:46:44.921019Z"
    },
    "papermill": {
     "duration": 0.049392,
     "end_time": "2020-09-13T12:46:44.921234",
     "exception": false,
     "start_time": "2020-09-13T12:46:44.871842",
     "status": "completed"
    },
    "tags": []
   },
   "outputs": [],
   "source": [
    "structural_elem1_pivot = fix_column_names(structural_elem1_pivot)"
   ]
  },
  {
   "cell_type": "code",
   "execution_count": 19,
   "metadata": {
    "ExecuteTime": {
     "end_time": "2020-07-28T10:58:23.727937Z",
     "start_time": "2020-07-28T10:58:23.712905Z"
    },
    "execution": {
     "iopub.execute_input": "2020-09-13T12:46:44.991072Z",
     "iopub.status.busy": "2020-09-13T12:46:44.990096Z",
     "iopub.status.idle": "2020-09-13T12:46:45.002960Z",
     "shell.execute_reply": "2020-09-13T12:46:45.003627Z"
    },
    "papermill": {
     "duration": 0.044308,
     "end_time": "2020-09-13T12:46:45.003839",
     "exception": false,
     "start_time": "2020-09-13T12:46:44.959531",
     "status": "completed"
    },
    "tags": []
   },
   "outputs": [
    {
     "data": {
      "text/plain": [
       "Index(['acct', 'cond_desir_util', 'cost_and_design', 'exterior_wall',\n",
       "       'foundation_type', 'grade_adjustment', 'heating_ac',\n",
       "       'physical_condition'],\n",
       "      dtype='object')"
      ]
     },
     "execution_count": 19,
     "metadata": {},
     "output_type": "execute_result"
    }
   ],
   "source": [
    "structural_elem1_pivot.columns"
   ]
  },
  {
   "cell_type": "markdown",
   "metadata": {
    "papermill": {
     "duration": 0.050811,
     "end_time": "2020-09-13T12:46:45.108628",
     "exception": false,
     "start_time": "2020-09-13T12:46:45.057817",
     "status": "completed"
    },
    "tags": []
   },
   "source": [
    "### Find duplicated rows"
   ]
  },
  {
   "cell_type": "code",
   "execution_count": 20,
   "metadata": {
    "ExecuteTime": {
     "end_time": "2020-07-28T10:58:24.350696Z",
     "start_time": "2020-07-28T10:58:23.730097Z"
    },
    "execution": {
     "iopub.execute_input": "2020-09-13T12:46:45.170596Z",
     "iopub.status.busy": "2020-09-13T12:46:45.169780Z",
     "iopub.status.idle": "2020-09-13T12:46:45.853500Z",
     "shell.execute_reply": "2020-09-13T12:46:45.852582Z"
    },
    "papermill": {
     "duration": 0.716963,
     "end_time": "2020-09-13T12:46:45.853721",
     "exception": false,
     "start_time": "2020-09-13T12:46:45.136758",
     "status": "completed"
    },
    "tags": []
   },
   "outputs": [
    {
     "data": {
      "text/html": [
       "<div>\n",
       "<style scoped>\n",
       "    .dataframe tbody tr th:only-of-type {\n",
       "        vertical-align: middle;\n",
       "    }\n",
       "\n",
       "    .dataframe tbody tr th {\n",
       "        vertical-align: top;\n",
       "    }\n",
       "\n",
       "    .dataframe thead th {\n",
       "        text-align: right;\n",
       "    }\n",
       "</style>\n",
       "<table border=\"1\" class=\"dataframe\">\n",
       "  <thead>\n",
       "    <tr style=\"text-align: right;\">\n",
       "      <th></th>\n",
       "      <th>acct</th>\n",
       "      <th>cond_desir_util</th>\n",
       "      <th>cost_and_design</th>\n",
       "      <th>exterior_wall</th>\n",
       "      <th>foundation_type</th>\n",
       "      <th>grade_adjustment</th>\n",
       "      <th>heating_ac</th>\n",
       "      <th>physical_condition</th>\n",
       "    </tr>\n",
       "  </thead>\n",
       "  <tbody>\n",
       "  </tbody>\n",
       "</table>\n",
       "</div>"
      ],
      "text/plain": [
       "Empty DataFrame\n",
       "Columns: [acct, cond_desir_util, cost_and_design, exterior_wall, foundation_type, grade_adjustment, heating_ac, physical_condition]\n",
       "Index: []"
      ]
     },
     "execution_count": 20,
     "metadata": {},
     "output_type": "execute_result"
    }
   ],
   "source": [
    "cond0 = structural_elem1_pivot.duplicated()\n",
    "structural_elem1_pivot.loc[cond0, :]"
   ]
  },
  {
   "cell_type": "markdown",
   "metadata": {
    "papermill": {
     "duration": 0.057378,
     "end_time": "2020-09-13T12:46:45.968110",
     "exception": false,
     "start_time": "2020-09-13T12:46:45.910732",
     "status": "completed"
    },
    "tags": []
   },
   "source": [
    "# Describe and clean the columns\n",
    "\n",
    "Now we must describe each column by answering:\n",
    "\n",
    "* Meaning\n",
    "* Descriptive statistics or value counts\n",
    "* Data type\n",
    "\n",
    "There is no explicit document provided by HCAD explaining all the variables, but most are easy to guess for using their name."
   ]
  },
  {
   "cell_type": "markdown",
   "metadata": {
    "papermill": {
     "duration": 0.028692,
     "end_time": "2020-09-13T12:46:46.024482",
     "exception": false,
     "start_time": "2020-09-13T12:46:45.995790",
     "status": "completed"
    },
    "tags": []
   },
   "source": [
    "## Condition, desirability, utility:  cond_desir_util"
   ]
  },
  {
   "cell_type": "code",
   "execution_count": 21,
   "metadata": {
    "ExecuteTime": {
     "end_time": "2020-07-28T10:58:24.363490Z",
     "start_time": "2020-07-28T10:58:24.352585Z"
    },
    "execution": {
     "iopub.execute_input": "2020-09-13T12:46:46.086457Z",
     "iopub.status.busy": "2020-09-13T12:46:46.085569Z",
     "iopub.status.idle": "2020-09-13T12:46:46.097314Z",
     "shell.execute_reply": "2020-09-13T12:46:46.096322Z"
    },
    "papermill": {
     "duration": 0.045531,
     "end_time": "2020-09-13T12:46:46.097503",
     "exception": false,
     "start_time": "2020-09-13T12:46:46.051972",
     "status": "completed"
    },
    "tags": []
   },
   "outputs": [],
   "source": [
    "from src.data.utils import fix_category_col"
   ]
  },
  {
   "cell_type": "code",
   "execution_count": 22,
   "metadata": {
    "ExecuteTime": {
     "end_time": "2020-07-28T10:58:24.476468Z",
     "start_time": "2020-07-28T10:58:24.365308Z"
    },
    "execution": {
     "iopub.execute_input": "2020-09-13T12:46:46.196526Z",
     "iopub.status.busy": "2020-09-13T12:46:46.195979Z",
     "iopub.status.idle": "2020-09-13T12:46:46.305746Z",
     "shell.execute_reply": "2020-09-13T12:46:46.306147Z"
    },
    "papermill": {
     "duration": 0.153837,
     "end_time": "2020-09-13T12:46:46.306307",
     "exception": false,
     "start_time": "2020-09-13T12:46:46.152470",
     "status": "completed"
    },
    "tags": []
   },
   "outputs": [
    {
     "data": {
      "text/plain": [
       "Average      0.691470\n",
       "Good         0.140875\n",
       "Fair         0.093587\n",
       "Very Good    0.041447\n",
       "Poor         0.020060\n",
       "Very Poor    0.005749\n",
       "Excellent    0.005571\n",
       "Unsound      0.001242\n",
       "Name: cond_desir_util, dtype: float64"
      ]
     },
     "execution_count": 22,
     "metadata": {},
     "output_type": "execute_result"
    }
   ],
   "source": [
    "structural_elem1_pivot['cond_desir_util'].value_counts(normalize=True)"
   ]
  },
  {
   "cell_type": "code",
   "execution_count": 23,
   "metadata": {
    "ExecuteTime": {
     "end_time": "2020-07-28T10:58:24.695906Z",
     "start_time": "2020-07-28T10:58:24.481779Z"
    },
    "execution": {
     "iopub.execute_input": "2020-09-13T12:46:46.368006Z",
     "iopub.status.busy": "2020-09-13T12:46:46.366726Z",
     "iopub.status.idle": "2020-09-13T12:46:46.575732Z",
     "shell.execute_reply": "2020-09-13T12:46:46.576374Z"
    },
    "papermill": {
     "duration": 0.242674,
     "end_time": "2020-09-13T12:46:46.576588",
     "exception": false,
     "start_time": "2020-09-13T12:46:46.333914",
     "status": "completed"
    },
    "tags": []
   },
   "outputs": [
    {
     "name": "stdout",
     "output_type": "stream",
     "text": [
      "The new column type is: CategoricalDtype(categories=['Excellent', 'Very Good', 'Good', 'Average', 'Fair', 'Poor',\n",
      "                  'Very Poor', 'Unsound'],\n",
      "                 ordered=True)\n",
      "\n",
      "\n",
      "The number of missing values is: 0\n"
     ]
    }
   ],
   "source": [
    "order = ['Excellent', 'Very Good', 'Good', 'Average', 'Fair', 'Poor', 'Very Poor', 'Unsound']\n",
    "structural_elem1_pivot = fix_category_col(structural_elem1_pivot, 'cond_desir_util', order=order)"
   ]
  },
  {
   "cell_type": "markdown",
   "metadata": {
    "papermill": {
     "duration": 0.028876,
     "end_time": "2020-09-13T12:46:46.641887",
     "exception": false,
     "start_time": "2020-09-13T12:46:46.613011",
     "status": "completed"
    },
    "tags": []
   },
   "source": [
    "## cost_and_design"
   ]
  },
  {
   "cell_type": "code",
   "execution_count": 24,
   "metadata": {
    "ExecuteTime": {
     "end_time": "2020-07-28T10:58:24.778218Z",
     "start_time": "2020-07-28T10:58:24.698159Z"
    },
    "execution": {
     "iopub.execute_input": "2020-09-13T12:46:46.703118Z",
     "iopub.status.busy": "2020-09-13T12:46:46.702275Z",
     "iopub.status.idle": "2020-09-13T12:46:46.769649Z",
     "shell.execute_reply": "2020-09-13T12:46:46.770278Z"
    },
    "papermill": {
     "duration": 0.099728,
     "end_time": "2020-09-13T12:46:46.770498",
     "exception": false,
     "start_time": "2020-09-13T12:46:46.670770",
     "status": "completed"
    },
    "tags": []
   },
   "outputs": [
    {
     "data": {
      "text/plain": [
       "New / Rebuilt          0.421937\n",
       "Partial                0.258141\n",
       "Extensive              0.199091\n",
       "Total                  0.060875\n",
       "Econ Misimprovement    0.059746\n",
       "Condo Code 1           0.000158\n",
       "Condo Code 4           0.000053\n",
       "Name: cost_and_design, dtype: float64"
      ]
     },
     "execution_count": 24,
     "metadata": {},
     "output_type": "execute_result"
    }
   ],
   "source": [
    "structural_elem1_pivot['cost_and_design'].value_counts(normalize=True)"
   ]
  },
  {
   "cell_type": "code",
   "execution_count": 25,
   "metadata": {
    "ExecuteTime": {
     "end_time": "2020-07-28T10:58:25.025086Z",
     "start_time": "2020-07-28T10:58:24.780768Z"
    },
    "execution": {
     "iopub.execute_input": "2020-09-13T12:46:46.839706Z",
     "iopub.status.busy": "2020-09-13T12:46:46.838854Z",
     "iopub.status.idle": "2020-09-13T12:46:47.050414Z",
     "shell.execute_reply": "2020-09-13T12:46:47.051283Z"
    },
    "papermill": {
     "duration": 0.245287,
     "end_time": "2020-09-13T12:46:47.051488",
     "exception": false,
     "start_time": "2020-09-13T12:46:46.806201",
     "status": "completed"
    },
    "tags": []
   },
   "outputs": [
    {
     "name": "stdout",
     "output_type": "stream",
     "text": [
      "The new column type is: CategoricalDtype(categories=['Condo Code 1', 'Condo Code 4', 'Econ Misimprovement',\n",
      "                  'Extensive', 'New / Rebuilt', 'Partial', 'Total'],\n",
      "                 ordered=False)\n",
      "\n",
      "\n",
      "The number of missing values is: 805429\n"
     ]
    }
   ],
   "source": [
    "structural_elem1_pivot = fix_category_col(structural_elem1_pivot, 'cost_and_design')"
   ]
  },
  {
   "cell_type": "markdown",
   "metadata": {
    "papermill": {
     "duration": 0.02986,
     "end_time": "2020-09-13T12:46:47.110778",
     "exception": false,
     "start_time": "2020-09-13T12:46:47.080918",
     "status": "completed"
    },
    "tags": []
   },
   "source": [
    "## exterior_wall"
   ]
  },
  {
   "cell_type": "code",
   "execution_count": 26,
   "metadata": {
    "ExecuteTime": {
     "end_time": "2020-07-28T10:58:25.116218Z",
     "start_time": "2020-07-28T10:58:25.027329Z"
    },
    "execution": {
     "iopub.execute_input": "2020-09-13T12:46:47.175447Z",
     "iopub.status.busy": "2020-09-13T12:46:47.174559Z",
     "iopub.status.idle": "2020-09-13T12:46:47.259276Z",
     "shell.execute_reply": "2020-09-13T12:46:47.258808Z"
    },
    "papermill": {
     "duration": 0.119059,
     "end_time": "2020-09-13T12:46:47.259420",
     "exception": false,
     "start_time": "2020-09-13T12:46:47.140361",
     "status": "completed"
    },
    "tags": []
   },
   "outputs": [
    {
     "data": {
      "text/plain": [
       "Brick / Veneer          0.470118\n",
       "Frame / Concrete Blk    0.300622\n",
       "Brick / Masonry         0.102839\n",
       "Aluminum / Vinyl        0.040302\n",
       "Stucco                  0.031921\n",
       "Shake Shingle           0.020870\n",
       "Asbestos                0.019353\n",
       "Stone                   0.013973\n",
       "Metal, Light            0.000001\n",
       "Frame / Res Stucco      0.000001\n",
       "Name: exterior_wall, dtype: float64"
      ]
     },
     "execution_count": 26,
     "metadata": {},
     "output_type": "execute_result"
    }
   ],
   "source": [
    "structural_elem1_pivot['exterior_wall'].value_counts(normalize=True)"
   ]
  },
  {
   "cell_type": "code",
   "execution_count": 27,
   "metadata": {
    "ExecuteTime": {
     "end_time": "2020-07-28T10:58:25.301966Z",
     "start_time": "2020-07-28T10:58:25.117938Z"
    },
    "execution": {
     "iopub.execute_input": "2020-09-13T12:46:47.323926Z",
     "iopub.status.busy": "2020-09-13T12:46:47.322991Z",
     "iopub.status.idle": "2020-09-13T12:46:47.528881Z",
     "shell.execute_reply": "2020-09-13T12:46:47.528416Z"
    },
    "papermill": {
     "duration": 0.240364,
     "end_time": "2020-09-13T12:46:47.529026",
     "exception": false,
     "start_time": "2020-09-13T12:46:47.288662",
     "status": "completed"
    },
    "tags": []
   },
   "outputs": [
    {
     "name": "stdout",
     "output_type": "stream",
     "text": [
      "The new column type is: CategoricalDtype(categories=['Aluminum / Vinyl', 'Asbestos', 'Brick / Masonry',\n",
      "                  'Brick / Veneer', 'Frame / Concrete Blk',\n",
      "                  'Frame / Res Stucco', 'Metal, Light', 'Shake Shingle',\n",
      "                  'Stone', 'Stucco'],\n",
      "                 ordered=False)\n",
      "\n",
      "\n",
      "The number of missing values is: 1\n"
     ]
    }
   ],
   "source": [
    "structural_elem1_pivot = fix_category_col(structural_elem1_pivot, 'exterior_wall')"
   ]
  },
  {
   "cell_type": "markdown",
   "metadata": {
    "papermill": {
     "duration": 0.031462,
     "end_time": "2020-09-13T12:46:47.590401",
     "exception": false,
     "start_time": "2020-09-13T12:46:47.558939",
     "status": "completed"
    },
    "tags": []
   },
   "source": [
    "## foundation_type"
   ]
  },
  {
   "cell_type": "code",
   "execution_count": 28,
   "metadata": {
    "ExecuteTime": {
     "end_time": "2020-07-28T10:58:25.395427Z",
     "start_time": "2020-07-28T10:58:25.304202Z"
    },
    "execution": {
     "iopub.execute_input": "2020-09-13T12:46:47.655151Z",
     "iopub.status.busy": "2020-09-13T12:46:47.654278Z",
     "iopub.status.idle": "2020-09-13T12:46:47.740558Z",
     "shell.execute_reply": "2020-09-13T12:46:47.740115Z"
    },
    "papermill": {
     "duration": 0.1199,
     "end_time": "2020-09-13T12:46:47.740693",
     "exception": false,
     "start_time": "2020-09-13T12:46:47.620793",
     "status": "completed"
    },
    "tags": []
   },
   "outputs": [
    {
     "data": {
      "text/plain": [
       "Slab                0.903931\n",
       "Crawl Space         0.094759\n",
       "Full Basement       0.000673\n",
       "Partial Basement    0.000636\n",
       "Name: foundation_type, dtype: float64"
      ]
     },
     "execution_count": 28,
     "metadata": {},
     "output_type": "execute_result"
    }
   ],
   "source": [
    "structural_elem1_pivot['foundation_type'].value_counts(normalize=True)"
   ]
  },
  {
   "cell_type": "code",
   "execution_count": 29,
   "metadata": {
    "ExecuteTime": {
     "end_time": "2020-07-28T10:58:25.594808Z",
     "start_time": "2020-07-28T10:58:25.398141Z"
    },
    "execution": {
     "iopub.execute_input": "2020-09-13T12:46:47.807941Z",
     "iopub.status.busy": "2020-09-13T12:46:47.806985Z",
     "iopub.status.idle": "2020-09-13T12:46:47.982456Z",
     "shell.execute_reply": "2020-09-13T12:46:47.981990Z"
    },
    "papermill": {
     "duration": 0.211722,
     "end_time": "2020-09-13T12:46:47.982586",
     "exception": false,
     "start_time": "2020-09-13T12:46:47.770864",
     "status": "completed"
    },
    "tags": []
   },
   "outputs": [
    {
     "name": "stdout",
     "output_type": "stream",
     "text": [
      "The new column type is: CategoricalDtype(categories=['Crawl Space', 'Full Basement', 'Partial Basement', 'Slab'], ordered=False)\n",
      "\n",
      "\n",
      "The number of missing values is: 0\n"
     ]
    }
   ],
   "source": [
    "structural_elem1_pivot = fix_category_col(structural_elem1_pivot, 'foundation_type')"
   ]
  },
  {
   "cell_type": "markdown",
   "metadata": {
    "papermill": {
     "duration": 0.031903,
     "end_time": "2020-09-13T12:46:48.045439",
     "exception": false,
     "start_time": "2020-09-13T12:46:48.013536",
     "status": "completed"
    },
    "tags": []
   },
   "source": [
    "## grade_adjustment"
   ]
  },
  {
   "cell_type": "code",
   "execution_count": 30,
   "metadata": {
    "ExecuteTime": {
     "end_time": "2020-07-28T10:58:25.690688Z",
     "start_time": "2020-07-28T10:58:25.597057Z"
    },
    "execution": {
     "iopub.execute_input": "2020-09-13T12:46:48.117792Z",
     "iopub.status.busy": "2020-09-13T12:46:48.113616Z",
     "iopub.status.idle": "2020-09-13T12:46:48.207986Z",
     "shell.execute_reply": "2020-09-13T12:46:48.207513Z"
    },
    "papermill": {
     "duration": 0.130288,
     "end_time": "2020-09-13T12:46:48.208115",
     "exception": false,
     "start_time": "2020-09-13T12:46:48.077827",
     "status": "completed"
    },
    "tags": []
   },
   "outputs": [
    {
     "data": {
      "text/plain": [
       "C     0.347699\n",
       "C+    0.206818\n",
       "B-    0.096475\n",
       "B     0.082971\n",
       "C-    0.072634\n",
       "B+    0.050494\n",
       "D     0.038653\n",
       "D+    0.027677\n",
       "A-    0.021622\n",
       "A     0.018226\n",
       "A+    0.014111\n",
       "D-    0.010852\n",
       "X-    0.005150\n",
       "X     0.002758\n",
       "E     0.001774\n",
       "E+    0.001227\n",
       "X+    0.000628\n",
       "E-    0.000231\n",
       "Name: grade_adjustment, dtype: float64"
      ]
     },
     "execution_count": 30,
     "metadata": {},
     "output_type": "execute_result"
    }
   ],
   "source": [
    "structural_elem1_pivot['grade_adjustment'].value_counts(normalize=True)"
   ]
  },
  {
   "cell_type": "code",
   "execution_count": 31,
   "metadata": {
    "ExecuteTime": {
     "end_time": "2020-07-28T10:58:25.714962Z",
     "start_time": "2020-07-28T10:58:25.692916Z"
    },
    "execution": {
     "iopub.execute_input": "2020-09-13T12:46:48.276091Z",
     "iopub.status.busy": "2020-09-13T12:46:48.275238Z",
     "iopub.status.idle": "2020-09-13T12:46:48.287561Z",
     "shell.execute_reply": "2020-09-13T12:46:48.287097Z"
    },
    "papermill": {
     "duration": 0.048811,
     "end_time": "2020-09-13T12:46:48.287702",
     "exception": false,
     "start_time": "2020-09-13T12:46:48.238891",
     "status": "completed"
    },
    "tags": []
   },
   "outputs": [],
   "source": [
    "letters = ['A', 'B', 'C', 'D', 'E', 'X']\n",
    "signs = ['+', '', '-']\n",
    "order = [letter + sign for letter in letters for sign in signs]"
   ]
  },
  {
   "cell_type": "code",
   "execution_count": 32,
   "metadata": {
    "ExecuteTime": {
     "end_time": "2020-07-28T10:58:25.915156Z",
     "start_time": "2020-07-28T10:58:25.717086Z"
    },
    "execution": {
     "iopub.execute_input": "2020-09-13T12:46:48.354857Z",
     "iopub.status.busy": "2020-09-13T12:46:48.353993Z",
     "iopub.status.idle": "2020-09-13T12:46:48.509953Z",
     "shell.execute_reply": "2020-09-13T12:46:48.510588Z"
    },
    "papermill": {
     "duration": 0.191271,
     "end_time": "2020-09-13T12:46:48.510791",
     "exception": false,
     "start_time": "2020-09-13T12:46:48.319520",
     "status": "completed"
    },
    "tags": []
   },
   "outputs": [
    {
     "name": "stdout",
     "output_type": "stream",
     "text": [
      "The new column type is: CategoricalDtype(categories=['A+', 'A', 'A-', 'B+', 'B', 'B-', 'C+', 'C', 'C-', 'D+', 'D',\n",
      "                  'D-', 'E+', 'E', 'E-', 'X+', 'X', 'X-'],\n",
      "                 ordered=True)\n",
      "\n",
      "\n",
      "The number of missing values is: 0\n"
     ]
    }
   ],
   "source": [
    "structural_elem1_pivot = fix_category_col(structural_elem1_pivot, 'grade_adjustment', order=order)"
   ]
  },
  {
   "cell_type": "markdown",
   "metadata": {
    "papermill": {
     "duration": 0.03502,
     "end_time": "2020-09-13T12:46:48.595446",
     "exception": false,
     "start_time": "2020-09-13T12:46:48.560426",
     "status": "completed"
    },
    "tags": []
   },
   "source": [
    "## heating_ac"
   ]
  },
  {
   "cell_type": "code",
   "execution_count": 33,
   "metadata": {
    "ExecuteTime": {
     "end_time": "2020-07-28T10:58:26.027027Z",
     "start_time": "2020-07-28T10:58:25.917665Z"
    },
    "execution": {
     "iopub.execute_input": "2020-09-13T12:46:48.688186Z",
     "iopub.status.busy": "2020-09-13T12:46:48.687315Z",
     "iopub.status.idle": "2020-09-13T12:46:48.913994Z",
     "shell.execute_reply": "2020-09-13T12:46:48.914394Z"
    },
    "papermill": {
     "duration": 0.274365,
     "end_time": "2020-09-13T12:46:48.914552",
     "exception": false,
     "start_time": "2020-09-13T12:46:48.640187",
     "status": "completed"
    },
    "tags": []
   },
   "outputs": [
    {
     "data": {
      "text/plain": [
       "Central Heat/AC    0.897521\n",
       "None               0.079938\n",
       "Central Heat       0.020844\n",
       "A/C Only           0.001697\n",
       "Name: heating_ac, dtype: float64"
      ]
     },
     "execution_count": 33,
     "metadata": {},
     "output_type": "execute_result"
    }
   ],
   "source": [
    "structural_elem1_pivot['heating_ac'].value_counts(normalize=True)"
   ]
  },
  {
   "cell_type": "markdown",
   "metadata": {
    "papermill": {
     "duration": 0.046493,
     "end_time": "2020-09-13T12:46:49.013468",
     "exception": false,
     "start_time": "2020-09-13T12:46:48.966975",
     "status": "completed"
    },
    "tags": []
   },
   "source": [
    "None here means there is no heating / AC unit in the property."
   ]
  },
  {
   "cell_type": "code",
   "execution_count": 34,
   "metadata": {
    "ExecuteTime": {
     "end_time": "2020-07-28T10:58:26.230808Z",
     "start_time": "2020-07-28T10:58:26.029008Z"
    },
    "execution": {
     "iopub.execute_input": "2020-09-13T12:46:49.112326Z",
     "iopub.status.busy": "2020-09-13T12:46:49.111297Z",
     "iopub.status.idle": "2020-09-13T12:46:49.300491Z",
     "shell.execute_reply": "2020-09-13T12:46:49.301265Z"
    },
    "papermill": {
     "duration": 0.250933,
     "end_time": "2020-09-13T12:46:49.301539",
     "exception": false,
     "start_time": "2020-09-13T12:46:49.050606",
     "status": "completed"
    },
    "tags": []
   },
   "outputs": [
    {
     "name": "stdout",
     "output_type": "stream",
     "text": [
      "The new column type is: CategoricalDtype(categories=['A/C Only', 'Central Heat', 'Central Heat/AC', 'None'], ordered=False)\n",
      "\n",
      "\n",
      "The number of missing values is: 1\n"
     ]
    }
   ],
   "source": [
    "structural_elem1_pivot = fix_category_col(structural_elem1_pivot, 'heating_ac')"
   ]
  },
  {
   "cell_type": "markdown",
   "metadata": {
    "papermill": {
     "duration": 0.033697,
     "end_time": "2020-09-13T12:46:49.367370",
     "exception": false,
     "start_time": "2020-09-13T12:46:49.333673",
     "status": "completed"
    },
    "tags": []
   },
   "source": [
    "## physical_condition"
   ]
  },
  {
   "cell_type": "code",
   "execution_count": 35,
   "metadata": {
    "ExecuteTime": {
     "end_time": "2020-07-28T10:58:26.347893Z",
     "start_time": "2020-07-28T10:58:26.233524Z"
    },
    "execution": {
     "iopub.execute_input": "2020-09-13T12:46:49.440093Z",
     "iopub.status.busy": "2020-09-13T12:46:49.439203Z",
     "iopub.status.idle": "2020-09-13T12:46:49.524902Z",
     "shell.execute_reply": "2020-09-13T12:46:49.525334Z"
    },
    "papermill": {
     "duration": 0.123398,
     "end_time": "2020-09-13T12:46:49.525492",
     "exception": false,
     "start_time": "2020-09-13T12:46:49.402094",
     "status": "completed"
    },
    "tags": []
   },
   "outputs": [
    {
     "data": {
      "text/plain": [
       "Average      0.831449\n",
       "Good         0.083243\n",
       "Fair         0.048969\n",
       "Very Good    0.016354\n",
       "Poor         0.011392\n",
       "Excellent    0.005605\n",
       "Very Poor    0.001959\n",
       "Unsound      0.001030\n",
       "Name: physical_condition, dtype: float64"
      ]
     },
     "execution_count": 35,
     "metadata": {},
     "output_type": "execute_result"
    }
   ],
   "source": [
    "structural_elem1_pivot['physical_condition'].value_counts(normalize=True)"
   ]
  },
  {
   "cell_type": "code",
   "execution_count": 36,
   "metadata": {
    "ExecuteTime": {
     "end_time": "2020-07-28T10:58:26.367062Z",
     "start_time": "2020-07-28T10:58:26.350972Z"
    },
    "execution": {
     "iopub.execute_input": "2020-09-13T12:46:49.596655Z",
     "iopub.status.busy": "2020-09-13T12:46:49.596063Z",
     "iopub.status.idle": "2020-09-13T12:46:49.614166Z",
     "shell.execute_reply": "2020-09-13T12:46:49.613621Z"
    },
    "papermill": {
     "duration": 0.055784,
     "end_time": "2020-09-13T12:46:49.614315",
     "exception": false,
     "start_time": "2020-09-13T12:46:49.558531",
     "status": "completed"
    },
    "tags": []
   },
   "outputs": [],
   "source": [
    "order = ['Excellent', 'Very Good', 'Good', 'Average', 'Fair', 'Poor', 'Very Poor', 'Unsound']"
   ]
  },
  {
   "cell_type": "code",
   "execution_count": 37,
   "metadata": {
    "ExecuteTime": {
     "end_time": "2020-07-28T10:58:26.586224Z",
     "start_time": "2020-07-28T10:58:26.369059Z"
    },
    "execution": {
     "iopub.execute_input": "2020-09-13T12:46:49.693188Z",
     "iopub.status.busy": "2020-09-13T12:46:49.692623Z",
     "iopub.status.idle": "2020-09-13T12:46:49.863208Z",
     "shell.execute_reply": "2020-09-13T12:46:49.863853Z"
    },
    "papermill": {
     "duration": 0.211436,
     "end_time": "2020-09-13T12:46:49.864062",
     "exception": false,
     "start_time": "2020-09-13T12:46:49.652626",
     "status": "completed"
    },
    "tags": []
   },
   "outputs": [
    {
     "name": "stdout",
     "output_type": "stream",
     "text": [
      "The new column type is: CategoricalDtype(categories=['Excellent', 'Very Good', 'Good', 'Average', 'Fair', 'Poor',\n",
      "                  'Very Poor', 'Unsound'],\n",
      "                 ordered=True)\n",
      "\n",
      "\n",
      "The number of missing values is: 0\n"
     ]
    }
   ],
   "source": [
    "structural_elem1_pivot = fix_category_col(structural_elem1_pivot, 'physical_condition', order=order)"
   ]
  },
  {
   "cell_type": "markdown",
   "metadata": {
    "papermill": {
     "duration": 0.041802,
     "end_time": "2020-09-13T12:46:49.969675",
     "exception": false,
     "start_time": "2020-09-13T12:46:49.927873",
     "status": "completed"
    },
    "tags": []
   },
   "source": [
    "# Export real_acct"
   ]
  },
  {
   "cell_type": "code",
   "execution_count": 38,
   "metadata": {
    "ExecuteTime": {
     "end_time": "2020-07-28T10:58:26.633820Z",
     "start_time": "2020-07-28T10:58:26.589119Z"
    },
    "execution": {
     "iopub.execute_input": "2020-09-13T12:46:50.043324Z",
     "iopub.status.busy": "2020-09-13T12:46:50.042439Z",
     "iopub.status.idle": "2020-09-13T12:46:50.066225Z",
     "shell.execute_reply": "2020-09-13T12:46:50.066843Z"
    },
    "papermill": {
     "duration": 0.061033,
     "end_time": "2020-09-13T12:46:50.067059",
     "exception": false,
     "start_time": "2020-09-13T12:46:50.006026",
     "status": "completed"
    },
    "tags": []
   },
   "outputs": [],
   "source": [
    "save_fn = ROOT_DIR / 'data/raw/2016/structural_elem1_comps.pickle'\n",
    "save_pickle(structural_elem1_pivot, save_fn)"
   ]
  }
 ],
 "metadata": {
  "kernelspec": {
   "display_name": "hcad_pred",
   "language": "python",
   "name": "hcad_pred"
  },
  "language_info": {
   "codemirror_mode": {
    "name": "ipython",
    "version": 3
   },
   "file_extension": ".py",
   "mimetype": "text/x-python",
   "name": "python",
   "nbconvert_exporter": "python",
   "pygments_lexer": "ipython3",
   "version": "3.7.8"
  },
  "papermill": {
   "duration": 31.078915,
   "end_time": "2020-09-13T12:46:51.472231",
   "environment_variables": {},
   "exception": null,
   "input_path": "/media/hdd/projects/springboard/hcad_pred/notebooks/01_Exploratory/1.5-rp-hcad-data-view-structural_elem1.ipynb",
   "output_path": "/media/hdd/projects/springboard/hcad_pred/notebooks/01_Exploratory/output/1.5-rp-hcad-data-view-structural_elem1_20200913.ipynb",
   "parameters": {},
   "start_time": "2020-09-13T12:46:20.393316",
   "version": "2.1.2"
  },
  "toc": {
   "base_numbering": 1,
   "nav_menu": {},
   "number_sections": true,
   "sideBar": true,
   "skip_h1_title": false,
   "title_cell": "Table of Contents",
   "title_sidebar": "Contents",
   "toc_cell": false,
   "toc_position": {},
   "toc_section_display": true,
   "toc_window_display": false
  }
 },
 "nbformat": 4,
 "nbformat_minor": 4
}