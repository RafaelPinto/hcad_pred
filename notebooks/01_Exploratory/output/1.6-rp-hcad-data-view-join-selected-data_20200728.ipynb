{
 "cells": [
  {
   "cell_type": "markdown",
   "metadata": {
    "papermill": {
     "duration": 0.036311,
     "end_time": "2020-07-28T11:17:32.327402",
     "exception": false,
     "start_time": "2020-07-28T11:17:32.291091",
     "status": "completed"
    },
    "tags": []
   },
   "source": [
    "# Load previously exported files\n",
    "\n",
    "The files being imported below were constructed in the last six exploratory notebooks (1.0 to 1.5). Here, we join them all using the `acct` column as key."
   ]
  },
  {
   "cell_type": "code",
   "execution_count": 1,
   "metadata": {
    "ExecuteTime": {
     "end_time": "2020-07-28T11:09:39.498949Z",
     "start_time": "2020-07-28T11:09:39.478523Z"
    },
    "execution": {
     "iopub.execute_input": "2020-07-28T11:17:32.357199Z",
     "iopub.status.busy": "2020-07-28T11:17:32.355867Z",
     "iopub.status.idle": "2020-07-28T11:17:32.370538Z",
     "shell.execute_reply": "2020-07-28T11:17:32.371532Z"
    },
    "papermill": {
     "duration": 0.030228,
     "end_time": "2020-07-28T11:17:32.371908",
     "exception": false,
     "start_time": "2020-07-28T11:17:32.341680",
     "status": "completed"
    },
    "tags": []
   },
   "outputs": [],
   "source": [
    "%load_ext autoreload\n",
    "%autoreload 2"
   ]
  },
  {
   "cell_type": "code",
   "execution_count": 2,
   "metadata": {
    "ExecuteTime": {
     "end_time": "2020-07-28T11:09:39.974420Z",
     "start_time": "2020-07-28T11:09:39.501094Z"
    },
    "execution": {
     "iopub.execute_input": "2020-07-28T11:17:32.399895Z",
     "iopub.status.busy": "2020-07-28T11:17:32.399381Z",
     "iopub.status.idle": "2020-07-28T11:17:32.862556Z",
     "shell.execute_reply": "2020-07-28T11:17:32.861708Z"
    },
    "papermill": {
     "duration": 0.479592,
     "end_time": "2020-07-28T11:17:32.862745",
     "exception": false,
     "start_time": "2020-07-28T11:17:32.383153",
     "status": "completed"
    },
    "tags": []
   },
   "outputs": [],
   "source": [
    "from pathlib import Path\n",
    "import pickle\n",
    "\n",
    "import pandas as pd\n",
    "\n",
    "from src.definitions import ROOT_DIR\n",
    "from src.data.utils import Table, save_pickle"
   ]
  },
  {
   "cell_type": "code",
   "execution_count": 3,
   "metadata": {
    "ExecuteTime": {
     "end_time": "2020-07-28T11:09:40.067937Z",
     "start_time": "2020-07-28T11:09:39.977612Z"
    },
    "execution": {
     "iopub.execute_input": "2020-07-28T11:17:32.895702Z",
     "iopub.status.busy": "2020-07-28T11:17:32.894427Z",
     "iopub.status.idle": "2020-07-28T11:17:33.526949Z",
     "shell.execute_reply": "2020-07-28T11:17:33.525490Z"
    },
    "papermill": {
     "duration": 0.650731,
     "end_time": "2020-07-28T11:17:33.527330",
     "exception": false,
     "start_time": "2020-07-28T11:17:32.876599",
     "status": "completed"
    },
    "tags": []
   },
   "outputs": [],
   "source": [
    "building_res_comps_fn = ROOT_DIR / 'data/raw/2016/building_res_comps.pickle'\n",
    "assert building_res_comps_fn.exists()\n",
    "\n",
    "with open(building_res_comps_fn, 'rb') as f:\n",
    "    building_res_comps = pickle.load(f)"
   ]
  },
  {
   "cell_type": "code",
   "execution_count": 4,
   "metadata": {
    "ExecuteTime": {
     "end_time": "2020-07-28T11:09:40.141915Z",
     "start_time": "2020-07-28T11:09:40.069827Z"
    },
    "execution": {
     "iopub.execute_input": "2020-07-28T11:17:33.583436Z",
     "iopub.status.busy": "2020-07-28T11:17:33.582916Z",
     "iopub.status.idle": "2020-07-28T11:17:34.091837Z",
     "shell.execute_reply": "2020-07-28T11:17:34.090084Z"
    },
    "papermill": {
     "duration": 0.525972,
     "end_time": "2020-07-28T11:17:34.092239",
     "exception": false,
     "start_time": "2020-07-28T11:17:33.566267",
     "status": "completed"
    },
    "tags": []
   },
   "outputs": [],
   "source": [
    "fixtures_comps_fn = ROOT_DIR / 'data/raw/2016/fixtures_comps.pickle'\n",
    "assert fixtures_comps_fn.exists()\n",
    "\n",
    "with open(fixtures_comps_fn, 'rb') as f:\n",
    "    fixtures_comps = pickle.load(f)"
   ]
  },
  {
   "cell_type": "code",
   "execution_count": 5,
   "metadata": {
    "ExecuteTime": {
     "end_time": "2020-07-28T11:09:40.410944Z",
     "start_time": "2020-07-28T11:09:40.143512Z"
    },
    "execution": {
     "iopub.execute_input": "2020-07-28T11:17:34.134399Z",
     "iopub.status.busy": "2020-07-28T11:17:34.133588Z",
     "iopub.status.idle": "2020-07-28T11:17:34.365791Z",
     "shell.execute_reply": "2020-07-28T11:17:34.365242Z"
    },
    "papermill": {
     "duration": 0.247909,
     "end_time": "2020-07-28T11:17:34.365916",
     "exception": false,
     "start_time": "2020-07-28T11:17:34.118007",
     "status": "completed"
    },
    "tags": []
   },
   "outputs": [],
   "source": [
    "real_acct_comps_fn = ROOT_DIR / 'data/raw/2016/real_acct_comps.pickle'\n",
    "assert real_acct_comps_fn.exists()\n",
    "\n",
    "with open(real_acct_comps_fn, 'rb') as f:\n",
    "    real_acct_comps = pickle.load(f)"
   ]
  },
  {
   "cell_type": "code",
   "execution_count": 6,
   "metadata": {
    "ExecuteTime": {
     "end_time": "2020-07-28T11:09:40.536816Z",
     "start_time": "2020-07-28T11:09:40.412450Z"
    },
    "execution": {
     "iopub.execute_input": "2020-07-28T11:17:35.099047Z",
     "iopub.status.busy": "2020-07-28T11:17:35.096791Z",
     "iopub.status.idle": "2020-07-28T11:17:35.234129Z",
     "shell.execute_reply": "2020-07-28T11:17:35.233612Z"
    },
    "papermill": {
     "duration": 0.858664,
     "end_time": "2020-07-28T11:17:35.234250",
     "exception": false,
     "start_time": "2020-07-28T11:17:34.375586",
     "status": "completed"
    },
    "tags": []
   },
   "outputs": [],
   "source": [
    "extra_features_uts_grade_comps_fn = ROOT_DIR / 'data/raw/2016/extra_features_uts_grade_comps.pickle'\n",
    "assert extra_features_uts_grade_comps_fn.exists()\n",
    "\n",
    "with open(extra_features_uts_grade_comps_fn, 'rb') as f:\n",
    "    extra_features_uts_grade_comps = pickle.load(f)"
   ]
  },
  {
   "cell_type": "code",
   "execution_count": 7,
   "metadata": {
    "ExecuteTime": {
     "end_time": "2020-07-28T11:09:40.658932Z",
     "start_time": "2020-07-28T11:09:40.538207Z"
    },
    "execution": {
     "iopub.execute_input": "2020-07-28T11:17:35.258463Z",
     "iopub.status.busy": "2020-07-28T11:17:35.257939Z",
     "iopub.status.idle": "2020-07-28T11:17:35.357242Z",
     "shell.execute_reply": "2020-07-28T11:17:35.356819Z"
    },
    "papermill": {
     "duration": 0.113112,
     "end_time": "2020-07-28T11:17:35.357364",
     "exception": false,
     "start_time": "2020-07-28T11:17:35.244252",
     "status": "completed"
    },
    "tags": []
   },
   "outputs": [],
   "source": [
    "exterior_comps_fn = ROOT_DIR / 'data/raw/2016/exterior_comps.pickle'\n",
    "assert exterior_comps_fn.exists()\n",
    "\n",
    "with open(exterior_comps_fn, 'rb') as f:\n",
    "    exterior_comps = pickle.load(f)"
   ]
  },
  {
   "cell_type": "code",
   "execution_count": 8,
   "metadata": {
    "ExecuteTime": {
     "end_time": "2020-07-28T11:09:40.682466Z",
     "start_time": "2020-07-28T11:09:40.661898Z"
    },
    "execution": {
     "iopub.execute_input": "2020-07-28T11:17:35.381807Z",
     "iopub.status.busy": "2020-07-28T11:17:35.381286Z",
     "iopub.status.idle": "2020-07-28T11:17:35.399565Z",
     "shell.execute_reply": "2020-07-28T11:17:35.399038Z"
    },
    "papermill": {
     "duration": 0.032631,
     "end_time": "2020-07-28T11:17:35.399687",
     "exception": false,
     "start_time": "2020-07-28T11:17:35.367056",
     "status": "completed"
    },
    "tags": []
   },
   "outputs": [],
   "source": [
    "structural_elem1_comps_fn = ROOT_DIR / 'data/raw/2016/structural_elem1_comps.pickle'\n",
    "assert structural_elem1_comps_fn.exists()\n",
    "\n",
    "with open(structural_elem1_comps_fn, 'rb') as f:\n",
    "    structural_elem1_comps = pickle.load(f)"
   ]
  },
  {
   "cell_type": "markdown",
   "metadata": {
    "papermill": {
     "duration": 0.011871,
     "end_time": "2020-07-28T11:17:35.421827",
     "exception": false,
     "start_time": "2020-07-28T11:17:35.409956",
     "status": "completed"
    },
    "tags": []
   },
   "source": [
    "# Merge tables"
   ]
  },
  {
   "cell_type": "code",
   "execution_count": 9,
   "metadata": {
    "ExecuteTime": {
     "end_time": "2020-07-28T11:09:41.752465Z",
     "start_time": "2020-07-28T11:09:40.685108Z"
    },
    "execution": {
     "iopub.execute_input": "2020-07-28T11:17:35.445621Z",
     "iopub.status.busy": "2020-07-28T11:17:35.445100Z",
     "iopub.status.idle": "2020-07-28T11:17:36.545139Z",
     "shell.execute_reply": "2020-07-28T11:17:36.544689Z"
    },
    "papermill": {
     "duration": 1.113169,
     "end_time": "2020-07-28T11:17:36.545282",
     "exception": false,
     "start_time": "2020-07-28T11:17:35.432113",
     "status": "completed"
    },
    "scrolled": true,
    "tags": []
   },
   "outputs": [],
   "source": [
    "comps = building_res_comps.merge(fixtures_comps,\n",
    "                                 how='left',\n",
    "                                 on='acct',\n",
    "                                 validate='one_to_one')"
   ]
  },
  {
   "cell_type": "code",
   "execution_count": 10,
   "metadata": {
    "ExecuteTime": {
     "end_time": "2020-07-28T11:09:43.075568Z",
     "start_time": "2020-07-28T11:09:41.754029Z"
    },
    "execution": {
     "iopub.execute_input": "2020-07-28T11:17:36.582874Z",
     "iopub.status.busy": "2020-07-28T11:17:36.582317Z",
     "iopub.status.idle": "2020-07-28T11:17:37.795807Z",
     "shell.execute_reply": "2020-07-28T11:17:37.795375Z"
    },
    "papermill": {
     "duration": 1.234796,
     "end_time": "2020-07-28T11:17:37.795927",
     "exception": false,
     "start_time": "2020-07-28T11:17:36.561131",
     "status": "completed"
    },
    "tags": []
   },
   "outputs": [],
   "source": [
    "comps = comps.merge(real_acct_comps,\n",
    "                    how='left',\n",
    "                    on='acct',\n",
    "                    validate='one_to_one')"
   ]
  },
  {
   "cell_type": "code",
   "execution_count": 11,
   "metadata": {
    "ExecuteTime": {
     "end_time": "2020-07-28T11:09:45.416123Z",
     "start_time": "2020-07-28T11:09:43.078498Z"
    },
    "execution": {
     "iopub.execute_input": "2020-07-28T11:17:37.820976Z",
     "iopub.status.busy": "2020-07-28T11:17:37.820149Z",
     "iopub.status.idle": "2020-07-28T11:17:39.512179Z",
     "shell.execute_reply": "2020-07-28T11:17:39.511700Z"
    },
    "papermill": {
     "duration": 1.706194,
     "end_time": "2020-07-28T11:17:39.512299",
     "exception": false,
     "start_time": "2020-07-28T11:17:37.806105",
     "status": "completed"
    },
    "tags": []
   },
   "outputs": [],
   "source": [
    "comps = comps.merge(extra_features_uts_grade_comps,\n",
    "                    how='left',\n",
    "                    on='acct',\n",
    "                    validate='one_to_one')"
   ]
  },
  {
   "cell_type": "code",
   "execution_count": 12,
   "metadata": {
    "ExecuteTime": {
     "end_time": "2020-07-28T11:09:46.822515Z",
     "start_time": "2020-07-28T11:09:45.418732Z"
    },
    "execution": {
     "iopub.execute_input": "2020-07-28T11:17:39.536749Z",
     "iopub.status.busy": "2020-07-28T11:17:39.535943Z",
     "iopub.status.idle": "2020-07-28T11:17:40.651006Z",
     "shell.execute_reply": "2020-07-28T11:17:40.650491Z"
    },
    "papermill": {
     "duration": 1.128583,
     "end_time": "2020-07-28T11:17:40.651127",
     "exception": false,
     "start_time": "2020-07-28T11:17:39.522544",
     "status": "completed"
    },
    "tags": []
   },
   "outputs": [],
   "source": [
    "comps = comps.merge(exterior_comps,\n",
    "                    how='left',\n",
    "                    on='acct',\n",
    "                    validate='one_to_one')"
   ]
  },
  {
   "cell_type": "code",
   "execution_count": 13,
   "metadata": {
    "ExecuteTime": {
     "end_time": "2020-07-28T11:09:48.284080Z",
     "start_time": "2020-07-28T11:09:46.824213Z"
    },
    "execution": {
     "iopub.execute_input": "2020-07-28T11:17:40.675590Z",
     "iopub.status.busy": "2020-07-28T11:17:40.674785Z",
     "iopub.status.idle": "2020-07-28T11:17:41.805420Z",
     "shell.execute_reply": "2020-07-28T11:17:41.805819Z"
    },
    "papermill": {
     "duration": 1.144646,
     "end_time": "2020-07-28T11:17:41.805972",
     "exception": false,
     "start_time": "2020-07-28T11:17:40.661326",
     "status": "completed"
    },
    "tags": []
   },
   "outputs": [],
   "source": [
    "comps = comps.merge(structural_elem1_comps,\n",
    "                    how='left',\n",
    "                    on='acct',\n",
    "                    validate='one_to_one')"
   ]
  },
  {
   "cell_type": "code",
   "execution_count": 14,
   "metadata": {
    "ExecuteTime": {
     "end_time": "2020-07-28T11:09:48.348628Z",
     "start_time": "2020-07-28T11:09:48.285880Z"
    },
    "execution": {
     "iopub.execute_input": "2020-07-28T11:17:41.845658Z",
     "iopub.status.busy": "2020-07-28T11:17:41.843787Z",
     "iopub.status.idle": "2020-07-28T11:17:41.904763Z",
     "shell.execute_reply": "2020-07-28T11:17:41.904316Z"
    },
    "papermill": {
     "duration": 0.08838,
     "end_time": "2020-07-28T11:17:41.904884",
     "exception": false,
     "start_time": "2020-07-28T11:17:41.816504",
     "status": "completed"
    },
    "tags": []
   },
   "outputs": [
    {
     "data": {
      "text/html": [
       "<div>\n",
       "<style scoped>\n",
       "    .dataframe tbody tr th:only-of-type {\n",
       "        vertical-align: middle;\n",
       "    }\n",
       "\n",
       "    .dataframe tbody tr th {\n",
       "        vertical-align: top;\n",
       "    }\n",
       "\n",
       "    .dataframe thead th {\n",
       "        text-align: right;\n",
       "    }\n",
       "</style>\n",
       "<table border=\"1\" class=\"dataframe\">\n",
       "  <thead>\n",
       "    <tr style=\"text-align: right;\">\n",
       "      <th></th>\n",
       "      <th>acct</th>\n",
       "      <th>dscr</th>\n",
       "      <th>date_erected</th>\n",
       "      <th>yr_remodel</th>\n",
       "      <th>im_sq_ft</th>\n",
       "      <th>act_ar</th>\n",
       "      <th>heat_ar</th>\n",
       "      <th>gross_ar</th>\n",
       "      <th>eff_ar</th>\n",
       "      <th>perimeter</th>\n",
       "      <th>...</th>\n",
       "      <th>one_story_mas_pri</th>\n",
       "      <th>open_frame_porch_pri</th>\n",
       "      <th>open_mas_porch_pri</th>\n",
       "      <th>cond_desir_util</th>\n",
       "      <th>cost_and_design</th>\n",
       "      <th>exterior_wall</th>\n",
       "      <th>foundation_type</th>\n",
       "      <th>grade_adjustment</th>\n",
       "      <th>heating_ac</th>\n",
       "      <th>physical_condition</th>\n",
       "    </tr>\n",
       "  </thead>\n",
       "  <tbody>\n",
       "    <tr>\n",
       "      <th>0</th>\n",
       "      <td>21660000012</td>\n",
       "      <td>Good</td>\n",
       "      <td>2014</td>\n",
       "      <td>NaN</td>\n",
       "      <td>2328.0</td>\n",
       "      <td>2328</td>\n",
       "      <td>2328.0</td>\n",
       "      <td>2328</td>\n",
       "      <td>2212.0</td>\n",
       "      <td>300.0</td>\n",
       "      <td>...</td>\n",
       "      <td>0.0</td>\n",
       "      <td>0.0</td>\n",
       "      <td>0.0</td>\n",
       "      <td>Average</td>\n",
       "      <td>NaN</td>\n",
       "      <td>Frame / Concrete Blk</td>\n",
       "      <td>Slab</td>\n",
       "      <td>B</td>\n",
       "      <td>Central Heat/AC</td>\n",
       "      <td>Average</td>\n",
       "    </tr>\n",
       "    <tr>\n",
       "      <th>1</th>\n",
       "      <td>21700000013</td>\n",
       "      <td>Low</td>\n",
       "      <td>1920</td>\n",
       "      <td>2004.0</td>\n",
       "      <td>1434.0</td>\n",
       "      <td>1622</td>\n",
       "      <td>1434.0</td>\n",
       "      <td>1622</td>\n",
       "      <td>1453.0</td>\n",
       "      <td>170.0</td>\n",
       "      <td>...</td>\n",
       "      <td>0.0</td>\n",
       "      <td>28.0</td>\n",
       "      <td>0.0</td>\n",
       "      <td>Average</td>\n",
       "      <td>Partial</td>\n",
       "      <td>Stucco</td>\n",
       "      <td>Crawl Space</td>\n",
       "      <td>D+</td>\n",
       "      <td>None</td>\n",
       "      <td>Average</td>\n",
       "    </tr>\n",
       "    <tr>\n",
       "      <th>2</th>\n",
       "      <td>21960000001</td>\n",
       "      <td>Low</td>\n",
       "      <td>1940</td>\n",
       "      <td>1999.0</td>\n",
       "      <td>4304.0</td>\n",
       "      <td>4984</td>\n",
       "      <td>4304.0</td>\n",
       "      <td>4984</td>\n",
       "      <td>4253.0</td>\n",
       "      <td>444.0</td>\n",
       "      <td>...</td>\n",
       "      <td>0.0</td>\n",
       "      <td>272.0</td>\n",
       "      <td>0.0</td>\n",
       "      <td>Good</td>\n",
       "      <td>Total</td>\n",
       "      <td>Aluminum / Vinyl</td>\n",
       "      <td>Slab</td>\n",
       "      <td>D-</td>\n",
       "      <td>Central Heat/AC</td>\n",
       "      <td>Excellent</td>\n",
       "    </tr>\n",
       "    <tr>\n",
       "      <th>3</th>\n",
       "      <td>22080000008</td>\n",
       "      <td>Low</td>\n",
       "      <td>1940</td>\n",
       "      <td>NaN</td>\n",
       "      <td>2240.0</td>\n",
       "      <td>2732</td>\n",
       "      <td>2240.0</td>\n",
       "      <td>2732</td>\n",
       "      <td>2270.0</td>\n",
       "      <td>272.0</td>\n",
       "      <td>...</td>\n",
       "      <td>0.0</td>\n",
       "      <td>168.0</td>\n",
       "      <td>0.0</td>\n",
       "      <td>Average</td>\n",
       "      <td>NaN</td>\n",
       "      <td>Aluminum / Vinyl</td>\n",
       "      <td>Crawl Space</td>\n",
       "      <td>D</td>\n",
       "      <td>None</td>\n",
       "      <td>Average</td>\n",
       "    </tr>\n",
       "    <tr>\n",
       "      <th>4</th>\n",
       "      <td>22620000008</td>\n",
       "      <td>Good</td>\n",
       "      <td>2013</td>\n",
       "      <td>NaN</td>\n",
       "      <td>1778.0</td>\n",
       "      <td>1808</td>\n",
       "      <td>1778.0</td>\n",
       "      <td>1808</td>\n",
       "      <td>1699.0</td>\n",
       "      <td>256.0</td>\n",
       "      <td>...</td>\n",
       "      <td>0.0</td>\n",
       "      <td>30.0</td>\n",
       "      <td>0.0</td>\n",
       "      <td>Average</td>\n",
       "      <td>New / Rebuilt</td>\n",
       "      <td>Aluminum / Vinyl</td>\n",
       "      <td>Slab</td>\n",
       "      <td>B+</td>\n",
       "      <td>Central Heat/AC</td>\n",
       "      <td>Average</td>\n",
       "    </tr>\n",
       "  </tbody>\n",
       "</table>\n",
       "<p>5 rows × 81 columns</p>\n",
       "</div>"
      ],
      "text/plain": [
       "          acct  dscr  date_erected  yr_remodel  im_sq_ft  act_ar  heat_ar  \\\n",
       "0  21660000012  Good          2014         NaN    2328.0    2328   2328.0   \n",
       "1  21700000013   Low          1920      2004.0    1434.0    1622   1434.0   \n",
       "2  21960000001   Low          1940      1999.0    4304.0    4984   4304.0   \n",
       "3  22080000008   Low          1940         NaN    2240.0    2732   2240.0   \n",
       "4  22620000008  Good          2013         NaN    1778.0    1808   1778.0   \n",
       "\n",
       "   gross_ar  eff_ar  perimeter  ...  one_story_mas_pri  open_frame_porch_pri  \\\n",
       "0      2328  2212.0      300.0  ...                0.0                   0.0   \n",
       "1      1622  1453.0      170.0  ...                0.0                  28.0   \n",
       "2      4984  4253.0      444.0  ...                0.0                 272.0   \n",
       "3      2732  2270.0      272.0  ...                0.0                 168.0   \n",
       "4      1808  1699.0      256.0  ...                0.0                  30.0   \n",
       "\n",
       "   open_mas_porch_pri  cond_desir_util  cost_and_design         exterior_wall  \\\n",
       "0                 0.0          Average              NaN  Frame / Concrete Blk   \n",
       "1                 0.0          Average          Partial                Stucco   \n",
       "2                 0.0             Good            Total      Aluminum / Vinyl   \n",
       "3                 0.0          Average              NaN      Aluminum / Vinyl   \n",
       "4                 0.0          Average    New / Rebuilt      Aluminum / Vinyl   \n",
       "\n",
       "   foundation_type  grade_adjustment       heating_ac  physical_condition  \n",
       "0             Slab                 B  Central Heat/AC             Average  \n",
       "1      Crawl Space                D+             None             Average  \n",
       "2             Slab                D-  Central Heat/AC           Excellent  \n",
       "3      Crawl Space                 D             None             Average  \n",
       "4             Slab                B+  Central Heat/AC             Average  \n",
       "\n",
       "[5 rows x 81 columns]"
      ]
     },
     "execution_count": 14,
     "metadata": {},
     "output_type": "execute_result"
    }
   ],
   "source": [
    "comps.head()"
   ]
  },
  {
   "cell_type": "code",
   "execution_count": 15,
   "metadata": {
    "ExecuteTime": {
     "end_time": "2020-07-28T11:09:48.376648Z",
     "start_time": "2020-07-28T11:09:48.350839Z"
    },
    "execution": {
     "iopub.execute_input": "2020-07-28T11:17:41.930397Z",
     "iopub.status.busy": "2020-07-28T11:17:41.929890Z",
     "iopub.status.idle": "2020-07-28T11:17:41.942794Z",
     "shell.execute_reply": "2020-07-28T11:17:41.943201Z"
    },
    "papermill": {
     "duration": 0.027259,
     "end_time": "2020-07-28T11:17:41.943345",
     "exception": false,
     "start_time": "2020-07-28T11:17:41.916086",
     "status": "completed"
    },
    "tags": []
   },
   "outputs": [
    {
     "data": {
      "text/plain": [
       "Index(['acct', 'dscr', 'date_erected', 'yr_remodel', 'im_sq_ft', 'act_ar',\n",
       "       'heat_ar', 'gross_ar', 'eff_ar', 'perimeter',\n",
       "       'fireplace_masonry_firebrick', 'fireplace_metal_prefab',\n",
       "       'fixtures_addl', 'fixtures_total', 'room_bedroom', 'room_full_bath',\n",
       "       'room_half_bath', 'room_rec', 'room_total', 'story_height_index',\n",
       "       'zip_code', 'school_dist', 'neighborhood_code', 'market_area_1_dscr',\n",
       "       'market_area_2_dscr', 'center_code', 'bld_ar', 'land_ar', 'acreage',\n",
       "       'land_val', 'tot_appr_val', 'prior_land_val', 'prior_tot_appr_val',\n",
       "       'new_own_dt', 'basic_outdoor_kitchen_uts',\n",
       "       'brick_or_stone_detached_garage_uts', 'canopy_residential_uts',\n",
       "       'carport_residential_uts', 'cracked_slab_uts',\n",
       "       'custom_outdoor_kitchen_uts', 'foundation_repaired_uts',\n",
       "       'frame_detached_garage_uts',\n",
       "       'frame_detached_garage_w_living_area_abov_uts',\n",
       "       'frame_utility_shed_uts', 'gunite_pool_uts', 'metal_utility_shed_uts',\n",
       "       'pool_spa_with_heater_uts', 'reinforced_concrete_pool_uts',\n",
       "       'residential_other_gross_value_uts', 'basic_outdoor_kitchen_grade',\n",
       "       'brick_or_stone_detached_garage_grade', 'canopy_residential_grade',\n",
       "       'carport_residential_grade', 'cracked_slab_grade',\n",
       "       'custom_outdoor_kitchen_grade', 'foundation_repaired_grade',\n",
       "       'frame_detached_garage_grade',\n",
       "       'frame_detached_garage_w_living_area_abov_grade',\n",
       "       'frame_utility_shed_grade', 'gunite_pool_grade',\n",
       "       'metal_utility_shed_grade', 'pool_spa_with_heater_grade',\n",
       "       'reinforced_concrete_pool_grade', 'residential_other_gross_value_grade',\n",
       "       'base_area_pri', 'base_area_upr', 'frame_garage_pri',\n",
       "       'mas_brk_garage_pri', 'mas_conc_patio_pri', 'one_story_frame_pri',\n",
       "       'one_story_frame_upr', 'one_story_mas_pri', 'open_frame_porch_pri',\n",
       "       'open_mas_porch_pri', 'cond_desir_util', 'cost_and_design',\n",
       "       'exterior_wall', 'foundation_type', 'grade_adjustment', 'heating_ac',\n",
       "       'physical_condition'],\n",
       "      dtype='object')"
      ]
     },
     "execution_count": 15,
     "metadata": {},
     "output_type": "execute_result"
    }
   ],
   "source": [
    "comps.columns"
   ]
  },
  {
   "cell_type": "code",
   "execution_count": 16,
   "metadata": {
    "ExecuteTime": {
     "end_time": "2020-07-28T11:09:48.395707Z",
     "start_time": "2020-07-28T11:09:48.379096Z"
    },
    "execution": {
     "iopub.execute_input": "2020-07-28T11:17:41.970218Z",
     "iopub.status.busy": "2020-07-28T11:17:41.969708Z",
     "iopub.status.idle": "2020-07-28T11:17:41.981821Z",
     "shell.execute_reply": "2020-07-28T11:17:41.982244Z"
    },
    "papermill": {
     "duration": 0.027181,
     "end_time": "2020-07-28T11:17:41.982402",
     "exception": false,
     "start_time": "2020-07-28T11:17:41.955221",
     "status": "completed"
    },
    "tags": []
   },
   "outputs": [
    {
     "data": {
      "text/plain": [
       "(957682, 81)"
      ]
     },
     "execution_count": 16,
     "metadata": {},
     "output_type": "execute_result"
    }
   ],
   "source": [
    "comps.shape"
   ]
  },
  {
   "cell_type": "markdown",
   "metadata": {
    "papermill": {
     "duration": 0.012988,
     "end_time": "2020-07-28T11:17:42.008877",
     "exception": false,
     "start_time": "2020-07-28T11:17:41.995889",
     "status": "completed"
    },
    "tags": []
   },
   "source": [
    "# Export comps"
   ]
  },
  {
   "cell_type": "code",
   "execution_count": 17,
   "metadata": {
    "ExecuteTime": {
     "end_time": "2020-07-28T11:09:52.816966Z",
     "start_time": "2020-07-28T11:09:48.398330Z"
    },
    "execution": {
     "iopub.execute_input": "2020-07-28T11:17:42.039332Z",
     "iopub.status.busy": "2020-07-28T11:17:42.038521Z",
     "iopub.status.idle": "2020-07-28T11:17:42.829430Z",
     "shell.execute_reply": "2020-07-28T11:17:42.828690Z"
    },
    "papermill": {
     "duration": 0.807295,
     "end_time": "2020-07-28T11:17:42.829599",
     "exception": false,
     "start_time": "2020-07-28T11:17:42.022304",
     "status": "completed"
    },
    "tags": []
   },
   "outputs": [],
   "source": [
    "save_fn = ROOT_DIR / 'data/interim/2016/comps.pickle'\n",
    "save_pickle(comps, save_fn)"
   ]
  }
 ],
 "metadata": {
  "kernelspec": {
   "display_name": "hcad_pred",
   "language": "python",
   "name": "hcad_pred"
  },
  "language_info": {
   "codemirror_mode": {
    "name": "ipython",
    "version": 3
   },
   "file_extension": ".py",
   "mimetype": "text/x-python",
   "name": "python",
   "nbconvert_exporter": "python",
   "pygments_lexer": "ipython3",
   "version": "3.7.6"
  },
  "papermill": {
   "duration": 11.707083,
   "end_time": "2020-07-28T11:17:43.257456",
   "environment_variables": {},
   "exception": null,
   "input_path": "/media/hdd/projects/springboard/hcad_pred/notebooks/01_Exploratory/1.6-rp-hcad-data-view-join-selected-data.ipynb",
   "output_path": "/media/hdd/projects/springboard/hcad_pred/notebooks/01_Exploratory/output/1.6-rp-hcad-data-view-join-selected-data_20200728.ipynb",
   "parameters": {},
   "start_time": "2020-07-28T11:17:31.550373",
   "version": "2.1.2"
  },
  "toc": {
   "base_numbering": 1,
   "nav_menu": {},
   "number_sections": true,
   "sideBar": true,
   "skip_h1_title": false,
   "title_cell": "Table of Contents",
   "title_sidebar": "Contents",
   "toc_cell": false,
   "toc_position": {},
   "toc_section_display": true,
   "toc_window_display": false
  }
 },
 "nbformat": 4,
 "nbformat_minor": 4
}