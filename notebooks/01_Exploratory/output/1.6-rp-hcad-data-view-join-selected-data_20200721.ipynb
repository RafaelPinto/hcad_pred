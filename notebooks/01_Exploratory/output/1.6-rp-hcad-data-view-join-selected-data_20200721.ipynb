{
 "cells": [
  {
   "cell_type": "markdown",
   "metadata": {
    "papermill": {
     "duration": 0.027678,
     "end_time": "2020-07-22T04:26:20.166852",
     "exception": false,
     "start_time": "2020-07-22T04:26:20.139174",
     "status": "completed"
    },
    "tags": []
   },
   "source": [
    "# Load previously exported files\n",
    "\n",
    "The files being imported below were constructed in the last six exploratory notebooks (1.0 to 1.5). Here, we join them all using the `acct` column as key."
   ]
  },
  {
   "cell_type": "code",
   "execution_count": 1,
   "metadata": {
    "ExecuteTime": {
     "end_time": "2020-07-22T03:17:49.925709Z",
     "start_time": "2020-07-22T03:17:49.903846Z"
    },
    "execution": {
     "iopub.execute_input": "2020-07-22T04:26:20.193951Z",
     "iopub.status.busy": "2020-07-22T04:26:20.193298Z",
     "iopub.status.idle": "2020-07-22T04:26:20.209503Z",
     "shell.execute_reply": "2020-07-22T04:26:20.208259Z"
    },
    "papermill": {
     "duration": 0.030091,
     "end_time": "2020-07-22T04:26:20.209824",
     "exception": false,
     "start_time": "2020-07-22T04:26:20.179733",
     "status": "completed"
    },
    "tags": []
   },
   "outputs": [],
   "source": [
    "%load_ext autoreload\n",
    "%autoreload 2"
   ]
  },
  {
   "cell_type": "code",
   "execution_count": 2,
   "metadata": {
    "ExecuteTime": {
     "end_time": "2020-07-22T03:17:51.670880Z",
     "start_time": "2020-07-22T03:17:51.056049Z"
    },
    "execution": {
     "iopub.execute_input": "2020-07-22T04:26:20.245197Z",
     "iopub.status.busy": "2020-07-22T04:26:20.244375Z",
     "iopub.status.idle": "2020-07-22T04:26:20.778413Z",
     "shell.execute_reply": "2020-07-22T04:26:20.778828Z"
    },
    "papermill": {
     "duration": 0.549726,
     "end_time": "2020-07-22T04:26:20.778976",
     "exception": false,
     "start_time": "2020-07-22T04:26:20.229250",
     "status": "completed"
    },
    "tags": []
   },
   "outputs": [],
   "source": [
    "from pathlib import Path\n",
    "import pickle\n",
    "\n",
    "import pandas as pd\n",
    "\n",
    "from src.definitions import ROOT_DIR\n",
    "from src.data.utils import Table, save_pickle"
   ]
  },
  {
   "cell_type": "code",
   "execution_count": 3,
   "metadata": {
    "ExecuteTime": {
     "end_time": "2020-07-22T03:17:57.127832Z",
     "start_time": "2020-07-22T03:17:56.667768Z"
    },
    "execution": {
     "iopub.execute_input": "2020-07-22T04:26:20.800442Z",
     "iopub.status.busy": "2020-07-22T04:26:20.799898Z",
     "iopub.status.idle": "2020-07-22T04:26:21.211195Z",
     "shell.execute_reply": "2020-07-22T04:26:21.209585Z"
    },
    "papermill": {
     "duration": 0.423718,
     "end_time": "2020-07-22T04:26:21.211536",
     "exception": false,
     "start_time": "2020-07-22T04:26:20.787818",
     "status": "completed"
    },
    "tags": []
   },
   "outputs": [],
   "source": [
    "building_res_comps_fn = ROOT_DIR / 'data/raw/2016/building_res_comps.pickle'\n",
    "assert building_res_comps_fn.exists()\n",
    "\n",
    "with open(building_res_comps_fn, 'rb') as f:\n",
    "    building_res_comps = pickle.load(f)"
   ]
  },
  {
   "cell_type": "code",
   "execution_count": 4,
   "metadata": {
    "ExecuteTime": {
     "end_time": "2020-07-22T03:17:58.594199Z",
     "start_time": "2020-07-22T03:17:57.709583Z"
    },
    "execution": {
     "iopub.execute_input": "2020-07-22T04:26:21.256322Z",
     "iopub.status.busy": "2020-07-22T04:26:21.255449Z",
     "iopub.status.idle": "2020-07-22T04:26:22.162902Z",
     "shell.execute_reply": "2020-07-22T04:26:22.160678Z"
    },
    "papermill": {
     "duration": 0.925905,
     "end_time": "2020-07-22T04:26:22.163330",
     "exception": false,
     "start_time": "2020-07-22T04:26:21.237425",
     "status": "completed"
    },
    "tags": []
   },
   "outputs": [],
   "source": [
    "fixtures_comps_fn = ROOT_DIR / 'data/raw/2016/fixtures_comps.pickle'\n",
    "assert fixtures_comps_fn.exists()\n",
    "\n",
    "with open(fixtures_comps_fn, 'rb') as f:\n",
    "    fixtures_comps = pickle.load(f)"
   ]
  },
  {
   "cell_type": "code",
   "execution_count": 5,
   "metadata": {
    "ExecuteTime": {
     "end_time": "2020-07-22T03:18:00.163519Z",
     "start_time": "2020-07-22T03:17:59.105433Z"
    },
    "execution": {
     "iopub.execute_input": "2020-07-22T04:26:22.201113Z",
     "iopub.status.busy": "2020-07-22T04:26:22.200307Z",
     "iopub.status.idle": "2020-07-22T04:26:23.252127Z",
     "shell.execute_reply": "2020-07-22T04:26:23.251446Z"
    },
    "papermill": {
     "duration": 1.065957,
     "end_time": "2020-07-22T04:26:23.252270",
     "exception": false,
     "start_time": "2020-07-22T04:26:22.186313",
     "status": "completed"
    },
    "tags": []
   },
   "outputs": [],
   "source": [
    "real_acct_comps_fn = ROOT_DIR / 'data/raw/2016/real_acct_comps.pickle'\n",
    "assert real_acct_comps_fn.exists()\n",
    "\n",
    "with open(real_acct_comps_fn, 'rb') as f:\n",
    "    real_acct_comps = pickle.load(f)"
   ]
  },
  {
   "cell_type": "code",
   "execution_count": 6,
   "metadata": {
    "ExecuteTime": {
     "end_time": "2020-07-22T03:18:00.877963Z",
     "start_time": "2020-07-22T03:18:00.440799Z"
    },
    "execution": {
     "iopub.execute_input": "2020-07-22T04:26:23.283929Z",
     "iopub.status.busy": "2020-07-22T04:26:23.283385Z",
     "iopub.status.idle": "2020-07-22T04:26:23.808592Z",
     "shell.execute_reply": "2020-07-22T04:26:23.808054Z"
    },
    "papermill": {
     "duration": 0.545209,
     "end_time": "2020-07-22T04:26:23.808714",
     "exception": false,
     "start_time": "2020-07-22T04:26:23.263505",
     "status": "completed"
    },
    "tags": []
   },
   "outputs": [],
   "source": [
    "extra_features_count_grade_comps_fn = ROOT_DIR / 'data/raw/2016/extra_features_count_grade_comps.pickle'\n",
    "assert extra_features_count_grade_comps_fn.exists()\n",
    "\n",
    "with open(extra_features_count_grade_comps_fn, 'rb') as f:\n",
    "    extra_features_count_grade_comps = pickle.load(f)"
   ]
  },
  {
   "cell_type": "code",
   "execution_count": 7,
   "metadata": {
    "ExecuteTime": {
     "end_time": "2020-07-22T03:18:01.925304Z",
     "start_time": "2020-07-22T03:18:01.710008Z"
    },
    "execution": {
     "iopub.execute_input": "2020-07-22T04:26:23.831762Z",
     "iopub.status.busy": "2020-07-22T04:26:23.831240Z",
     "iopub.status.idle": "2020-07-22T04:26:24.021096Z",
     "shell.execute_reply": "2020-07-22T04:26:24.021498Z"
    },
    "papermill": {
     "duration": 0.203057,
     "end_time": "2020-07-22T04:26:24.021653",
     "exception": false,
     "start_time": "2020-07-22T04:26:23.818596",
     "status": "completed"
    },
    "tags": []
   },
   "outputs": [],
   "source": [
    "structural_elem1_comps_fn = ROOT_DIR / 'data/raw/2016/structural_elem1_comps.pickle'\n",
    "assert structural_elem1_comps_fn.exists()\n",
    "\n",
    "with open(structural_elem1_comps_fn, 'rb') as f:\n",
    "    structural_elem1_comps = pickle.load(f)"
   ]
  },
  {
   "cell_type": "markdown",
   "metadata": {
    "papermill": {
     "duration": 0.008865,
     "end_time": "2020-07-22T04:26:24.039519",
     "exception": false,
     "start_time": "2020-07-22T04:26:24.030654",
     "status": "completed"
    },
    "tags": []
   },
   "source": [
    "# Merge tables"
   ]
  },
  {
   "cell_type": "code",
   "execution_count": 8,
   "metadata": {
    "ExecuteTime": {
     "end_time": "2020-07-22T03:18:05.217973Z",
     "start_time": "2020-07-22T03:18:04.052069Z"
    },
    "execution": {
     "iopub.execute_input": "2020-07-22T04:26:24.081757Z",
     "iopub.status.busy": "2020-07-22T04:26:24.080771Z",
     "iopub.status.idle": "2020-07-22T04:26:25.226416Z",
     "shell.execute_reply": "2020-07-22T04:26:25.225877Z"
    },
    "papermill": {
     "duration": 1.177977,
     "end_time": "2020-07-22T04:26:25.226534",
     "exception": false,
     "start_time": "2020-07-22T04:26:24.048557",
     "status": "completed"
    },
    "scrolled": true,
    "tags": []
   },
   "outputs": [],
   "source": [
    "comps = building_res_comps.merge(fixtures_comps,\n",
    "                                 how='left',\n",
    "                                 on='acct',\n",
    "                                 validate='one_to_one')"
   ]
  },
  {
   "cell_type": "code",
   "execution_count": 9,
   "metadata": {
    "ExecuteTime": {
     "end_time": "2020-07-22T03:18:07.239537Z",
     "start_time": "2020-07-22T03:18:05.718251Z"
    },
    "execution": {
     "iopub.execute_input": "2020-07-22T04:26:25.248974Z",
     "iopub.status.busy": "2020-07-22T04:26:25.248169Z",
     "iopub.status.idle": "2020-07-22T04:26:26.717963Z",
     "shell.execute_reply": "2020-07-22T04:26:26.717401Z"
    },
    "papermill": {
     "duration": 1.482368,
     "end_time": "2020-07-22T04:26:26.718090",
     "exception": false,
     "start_time": "2020-07-22T04:26:25.235722",
     "status": "completed"
    },
    "tags": []
   },
   "outputs": [],
   "source": [
    "comps = comps.merge(real_acct_comps,\n",
    "                    how='left',\n",
    "                    on='acct',\n",
    "                    validate='one_to_one')"
   ]
  },
  {
   "cell_type": "code",
   "execution_count": 10,
   "metadata": {
    "ExecuteTime": {
     "end_time": "2020-07-22T03:18:08.574681Z",
     "start_time": "2020-07-22T03:18:07.655229Z"
    },
    "execution": {
     "iopub.execute_input": "2020-07-22T04:26:26.740238Z",
     "iopub.status.busy": "2020-07-22T04:26:26.739704Z",
     "iopub.status.idle": "2020-07-22T04:26:27.641643Z",
     "shell.execute_reply": "2020-07-22T04:26:27.642055Z"
    },
    "papermill": {
     "duration": 0.914918,
     "end_time": "2020-07-22T04:26:27.642201",
     "exception": false,
     "start_time": "2020-07-22T04:26:26.727283",
     "status": "completed"
    },
    "tags": []
   },
   "outputs": [],
   "source": [
    "comps = comps.merge(extra_features_count_grade_comps,\n",
    "                    how='left',\n",
    "                    on='acct',\n",
    "                    validate='one_to_one')"
   ]
  },
  {
   "cell_type": "code",
   "execution_count": 11,
   "metadata": {
    "ExecuteTime": {
     "end_time": "2020-07-22T03:18:10.119765Z",
     "start_time": "2020-07-22T03:18:08.953064Z"
    },
    "execution": {
     "iopub.execute_input": "2020-07-22T04:26:27.665024Z",
     "iopub.status.busy": "2020-07-22T04:26:27.664215Z",
     "iopub.status.idle": "2020-07-22T04:26:28.833163Z",
     "shell.execute_reply": "2020-07-22T04:26:28.832646Z"
    },
    "papermill": {
     "duration": 1.181679,
     "end_time": "2020-07-22T04:26:28.833286",
     "exception": false,
     "start_time": "2020-07-22T04:26:27.651607",
     "status": "completed"
    },
    "tags": []
   },
   "outputs": [],
   "source": [
    "comps = comps.merge(structural_elem1_comps,\n",
    "                    how='left',\n",
    "                    on='acct',\n",
    "                    validate='one_to_one')"
   ]
  },
  {
   "cell_type": "code",
   "execution_count": 12,
   "metadata": {
    "ExecuteTime": {
     "end_time": "2020-07-22T03:18:10.591001Z",
     "start_time": "2020-07-22T03:18:10.544544Z"
    },
    "execution": {
     "iopub.execute_input": "2020-07-22T04:26:28.866473Z",
     "iopub.status.busy": "2020-07-22T04:26:28.865486Z",
     "iopub.status.idle": "2020-07-22T04:26:28.910357Z",
     "shell.execute_reply": "2020-07-22T04:26:28.909910Z"
    },
    "papermill": {
     "duration": 0.067324,
     "end_time": "2020-07-22T04:26:28.910477",
     "exception": false,
     "start_time": "2020-07-22T04:26:28.843153",
     "status": "completed"
    },
    "tags": []
   },
   "outputs": [
    {
     "data": {
      "text/html": [
       "<div>\n",
       "<style scoped>\n",
       "    .dataframe tbody tr th:only-of-type {\n",
       "        vertical-align: middle;\n",
       "    }\n",
       "\n",
       "    .dataframe tbody tr th {\n",
       "        vertical-align: top;\n",
       "    }\n",
       "\n",
       "    .dataframe thead th {\n",
       "        text-align: right;\n",
       "    }\n",
       "</style>\n",
       "<table border=\"1\" class=\"dataframe\">\n",
       "  <thead>\n",
       "    <tr style=\"text-align: right;\">\n",
       "      <th></th>\n",
       "      <th>acct</th>\n",
       "      <th>dscr</th>\n",
       "      <th>date_erected</th>\n",
       "      <th>yr_remodel</th>\n",
       "      <th>im_sq_ft</th>\n",
       "      <th>act_ar</th>\n",
       "      <th>heat_ar</th>\n",
       "      <th>gross_ar</th>\n",
       "      <th>eff_ar</th>\n",
       "      <th>base_ar</th>\n",
       "      <th>...</th>\n",
       "      <th>Foundation Defect_grade</th>\n",
       "      <th>Garage_grade</th>\n",
       "      <th>Outbuildings_grade</th>\n",
       "      <th>Pools_grade</th>\n",
       "      <th>Cond / Desir / Util</th>\n",
       "      <th>Exterior Wall</th>\n",
       "      <th>Foundation Type</th>\n",
       "      <th>Grade Adjustment</th>\n",
       "      <th>Heating / AC</th>\n",
       "      <th>Physical Condition</th>\n",
       "    </tr>\n",
       "  </thead>\n",
       "  <tbody>\n",
       "    <tr>\n",
       "      <th>0</th>\n",
       "      <td>21660000012</td>\n",
       "      <td>Good</td>\n",
       "      <td>2014</td>\n",
       "      <td>0</td>\n",
       "      <td>2328</td>\n",
       "      <td>2328</td>\n",
       "      <td>2328</td>\n",
       "      <td>2328</td>\n",
       "      <td>2212</td>\n",
       "      <td>2328</td>\n",
       "      <td>...</td>\n",
       "      <td>NaN</td>\n",
       "      <td>NaN</td>\n",
       "      <td>NaN</td>\n",
       "      <td>NaN</td>\n",
       "      <td>Average</td>\n",
       "      <td>Frame / Concrete Blk</td>\n",
       "      <td>Slab</td>\n",
       "      <td>B</td>\n",
       "      <td>Central Heat/AC</td>\n",
       "      <td>Average</td>\n",
       "    </tr>\n",
       "    <tr>\n",
       "      <th>1</th>\n",
       "      <td>21700000013</td>\n",
       "      <td>Low</td>\n",
       "      <td>1920</td>\n",
       "      <td>2004</td>\n",
       "      <td>1434</td>\n",
       "      <td>1622</td>\n",
       "      <td>1434</td>\n",
       "      <td>1622</td>\n",
       "      <td>1453</td>\n",
       "      <td>1434</td>\n",
       "      <td>...</td>\n",
       "      <td>NaN</td>\n",
       "      <td>5.0</td>\n",
       "      <td>NaN</td>\n",
       "      <td>NaN</td>\n",
       "      <td>Average</td>\n",
       "      <td>Stucco</td>\n",
       "      <td>Crawl Space</td>\n",
       "      <td>D+</td>\n",
       "      <td>None</td>\n",
       "      <td>Average</td>\n",
       "    </tr>\n",
       "    <tr>\n",
       "      <th>2</th>\n",
       "      <td>21960000001</td>\n",
       "      <td>Low</td>\n",
       "      <td>1940</td>\n",
       "      <td>1999</td>\n",
       "      <td>4304</td>\n",
       "      <td>4984</td>\n",
       "      <td>4304</td>\n",
       "      <td>4984</td>\n",
       "      <td>4253</td>\n",
       "      <td>4304</td>\n",
       "      <td>...</td>\n",
       "      <td>NaN</td>\n",
       "      <td>NaN</td>\n",
       "      <td>NaN</td>\n",
       "      <td>NaN</td>\n",
       "      <td>Good</td>\n",
       "      <td>Aluminum / Vinyl</td>\n",
       "      <td>Slab</td>\n",
       "      <td>D-</td>\n",
       "      <td>Central Heat/AC</td>\n",
       "      <td>Excellent</td>\n",
       "    </tr>\n",
       "    <tr>\n",
       "      <th>3</th>\n",
       "      <td>22080000008</td>\n",
       "      <td>Low</td>\n",
       "      <td>1940</td>\n",
       "      <td>0</td>\n",
       "      <td>2240</td>\n",
       "      <td>2732</td>\n",
       "      <td>2240</td>\n",
       "      <td>2732</td>\n",
       "      <td>2270</td>\n",
       "      <td>2240</td>\n",
       "      <td>...</td>\n",
       "      <td>NaN</td>\n",
       "      <td>5.0</td>\n",
       "      <td>4.0</td>\n",
       "      <td>NaN</td>\n",
       "      <td>Average</td>\n",
       "      <td>Aluminum / Vinyl</td>\n",
       "      <td>Crawl Space</td>\n",
       "      <td>D</td>\n",
       "      <td>None</td>\n",
       "      <td>Average</td>\n",
       "    </tr>\n",
       "    <tr>\n",
       "      <th>4</th>\n",
       "      <td>22620000008</td>\n",
       "      <td>Good</td>\n",
       "      <td>2013</td>\n",
       "      <td>0</td>\n",
       "      <td>1778</td>\n",
       "      <td>1808</td>\n",
       "      <td>1778</td>\n",
       "      <td>1808</td>\n",
       "      <td>1699</td>\n",
       "      <td>1778</td>\n",
       "      <td>...</td>\n",
       "      <td>NaN</td>\n",
       "      <td>NaN</td>\n",
       "      <td>NaN</td>\n",
       "      <td>NaN</td>\n",
       "      <td>Average</td>\n",
       "      <td>Aluminum / Vinyl</td>\n",
       "      <td>Slab</td>\n",
       "      <td>B+</td>\n",
       "      <td>Central Heat/AC</td>\n",
       "      <td>Average</td>\n",
       "    </tr>\n",
       "  </tbody>\n",
       "</table>\n",
       "<p>5 rows × 53 columns</p>\n",
       "</div>"
      ],
      "text/plain": [
       "          acct  dscr  date_erected  yr_remodel  im_sq_ft  act_ar  heat_ar  \\\n",
       "0  21660000012  Good          2014           0      2328    2328     2328   \n",
       "1  21700000013   Low          1920        2004      1434    1622     1434   \n",
       "2  21960000001   Low          1940        1999      4304    4984     4304   \n",
       "3  22080000008   Low          1940           0      2240    2732     2240   \n",
       "4  22620000008  Good          2013           0      1778    1808     1778   \n",
       "\n",
       "   gross_ar  eff_ar  base_ar  ...  Foundation Defect_grade  Garage_grade  \\\n",
       "0      2328    2212     2328  ...                      NaN           NaN   \n",
       "1      1622    1453     1434  ...                      NaN           5.0   \n",
       "2      4984    4253     4304  ...                      NaN           NaN   \n",
       "3      2732    2270     2240  ...                      NaN           5.0   \n",
       "4      1808    1699     1778  ...                      NaN           NaN   \n",
       "\n",
       "   Outbuildings_grade  Pools_grade  Cond / Desir / Util         Exterior Wall  \\\n",
       "0                 NaN          NaN              Average  Frame / Concrete Blk   \n",
       "1                 NaN          NaN              Average                Stucco   \n",
       "2                 NaN          NaN                 Good      Aluminum / Vinyl   \n",
       "3                 4.0          NaN              Average      Aluminum / Vinyl   \n",
       "4                 NaN          NaN              Average      Aluminum / Vinyl   \n",
       "\n",
       "   Foundation Type  Grade Adjustment     Heating / AC  Physical Condition  \n",
       "0             Slab                 B  Central Heat/AC             Average  \n",
       "1      Crawl Space                D+             None             Average  \n",
       "2             Slab                D-  Central Heat/AC           Excellent  \n",
       "3      Crawl Space                 D             None             Average  \n",
       "4             Slab                B+  Central Heat/AC             Average  \n",
       "\n",
       "[5 rows x 53 columns]"
      ]
     },
     "execution_count": 12,
     "metadata": {},
     "output_type": "execute_result"
    }
   ],
   "source": [
    "comps.head()"
   ]
  },
  {
   "cell_type": "code",
   "execution_count": 13,
   "metadata": {
    "ExecuteTime": {
     "end_time": "2020-07-22T03:18:28.333007Z",
     "start_time": "2020-07-22T03:18:28.295887Z"
    },
    "execution": {
     "iopub.execute_input": "2020-07-22T04:26:28.933852Z",
     "iopub.status.busy": "2020-07-22T04:26:28.933313Z",
     "iopub.status.idle": "2020-07-22T04:26:28.946199Z",
     "shell.execute_reply": "2020-07-22T04:26:28.945761Z"
    },
    "papermill": {
     "duration": 0.025706,
     "end_time": "2020-07-22T04:26:28.946324",
     "exception": false,
     "start_time": "2020-07-22T04:26:28.920618",
     "status": "completed"
    },
    "tags": []
   },
   "outputs": [
    {
     "data": {
      "text/plain": [
       "Index(['acct', 'dscr', 'date_erected', 'yr_remodel', 'im_sq_ft', 'act_ar',\n",
       "       'heat_ar', 'gross_ar', 'eff_ar', 'base_ar', 'perimeter',\n",
       "       'Fireplace: Masonry Firebrick', 'Fireplace: Metal Prefab',\n",
       "       'Fixtures:  Addl', 'Fixtures:  Total', 'Room:  Bedroom',\n",
       "       'Room:  Full Bath', 'Room:  Half Bath', 'Room:  Rec', 'Room:  Total',\n",
       "       'Story Height Index', 'site_addr_3', 'school_dist', 'Neighborhood_Code',\n",
       "       'Market_Area_1_Dscr', 'Market_Area_2_Dscr', 'center_code', 'bld_ar',\n",
       "       'land_ar', 'acreage', 'land_val', 'tot_appr_val', 'prior_land_val',\n",
       "       'prior_tot_appr_val', 'new_own_dt', 'Canopy_count', 'Carport_count',\n",
       "       'Foundation Defect_count', 'Garage_count', 'Outbuildings_count',\n",
       "       'Pools_count', 'Canopy_grade', 'Carport_grade',\n",
       "       'Foundation Defect_grade', 'Garage_grade', 'Outbuildings_grade',\n",
       "       'Pools_grade', 'Cond / Desir / Util', 'Exterior Wall',\n",
       "       'Foundation Type', 'Grade Adjustment', 'Heating / AC',\n",
       "       'Physical Condition'],\n",
       "      dtype='object')"
      ]
     },
     "execution_count": 13,
     "metadata": {},
     "output_type": "execute_result"
    }
   ],
   "source": [
    "comps.columns"
   ]
  },
  {
   "cell_type": "code",
   "execution_count": 14,
   "metadata": {
    "ExecuteTime": {
     "end_time": "2020-07-22T03:18:51.422159Z",
     "start_time": "2020-07-22T03:18:51.393280Z"
    },
    "execution": {
     "iopub.execute_input": "2020-07-22T04:26:28.971150Z",
     "iopub.status.busy": "2020-07-22T04:26:28.970491Z",
     "iopub.status.idle": "2020-07-22T04:26:28.982803Z",
     "shell.execute_reply": "2020-07-22T04:26:28.982304Z"
    },
    "papermill": {
     "duration": 0.026163,
     "end_time": "2020-07-22T04:26:28.982942",
     "exception": false,
     "start_time": "2020-07-22T04:26:28.956779",
     "status": "completed"
    },
    "tags": []
   },
   "outputs": [
    {
     "data": {
      "text/plain": [
       "(957687, 53)"
      ]
     },
     "execution_count": 14,
     "metadata": {},
     "output_type": "execute_result"
    }
   ],
   "source": [
    "comps.shape"
   ]
  },
  {
   "cell_type": "markdown",
   "metadata": {
    "papermill": {
     "duration": 0.01184,
     "end_time": "2020-07-22T04:26:29.007232",
     "exception": false,
     "start_time": "2020-07-22T04:26:28.995392",
     "status": "completed"
    },
    "tags": []
   },
   "source": [
    "# Export comps"
   ]
  },
  {
   "cell_type": "code",
   "execution_count": 15,
   "metadata": {
    "ExecuteTime": {
     "end_time": "2020-07-22T03:19:16.043855Z",
     "start_time": "2020-07-22T03:19:15.122874Z"
    },
    "execution": {
     "iopub.execute_input": "2020-07-22T04:26:29.034201Z",
     "iopub.status.busy": "2020-07-22T04:26:29.033199Z",
     "iopub.status.idle": "2020-07-22T04:26:29.908701Z",
     "shell.execute_reply": "2020-07-22T04:26:29.908197Z"
    },
    "papermill": {
     "duration": 0.890084,
     "end_time": "2020-07-22T04:26:29.908816",
     "exception": false,
     "start_time": "2020-07-22T04:26:29.018732",
     "status": "completed"
    },
    "tags": []
   },
   "outputs": [],
   "source": [
    "save_fn = ROOT_DIR / 'data/interim/2016/comps.pickle'\n",
    "save_pickle(comps, save_fn)"
   ]
  }
 ],
 "metadata": {
  "kernelspec": {
   "display_name": "hcad_pred",
   "language": "python",
   "name": "hcad_pred"
  },
  "language_info": {
   "codemirror_mode": {
    "name": "ipython",
    "version": 3
   },
   "file_extension": ".py",
   "mimetype": "text/x-python",
   "name": "python",
   "nbconvert_exporter": "python",
   "pygments_lexer": "ipython3",
   "version": "3.7.6"
  },
  "papermill": {
   "duration": 12.120043,
   "end_time": "2020-07-22T04:26:31.277164",
   "environment_variables": {},
   "exception": null,
   "input_path": "/media/hdd/projects/springboard/hcad_pred/notebooks/01_Exploratory/1.6-rp-hcad-data-view-join-selected-data.ipynb",
   "output_path": "/media/hdd/projects/springboard/hcad_pred/notebooks/01_Exploratory/output/1.6-rp-hcad-data-view-join-selected-data_20200721.ipynb",
   "parameters": {},
   "start_time": "2020-07-22T04:26:19.157121",
   "version": "2.1.2"
  },
  "toc": {
   "base_numbering": 1,
   "nav_menu": {},
   "number_sections": true,
   "sideBar": true,
   "skip_h1_title": false,
   "title_cell": "Table of Contents",
   "title_sidebar": "Contents",
   "toc_cell": false,
   "toc_position": {},
   "toc_section_display": true,
   "toc_window_display": false
  }
 },
 "nbformat": 4,
 "nbformat_minor": 4
}