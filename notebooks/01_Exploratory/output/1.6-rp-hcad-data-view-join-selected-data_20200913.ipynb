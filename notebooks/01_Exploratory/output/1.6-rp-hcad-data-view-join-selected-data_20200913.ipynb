{
 "cells": [
  {
   "cell_type": "markdown",
   "metadata": {
    "papermill": {
     "duration": 0.013174,
     "end_time": "2020-09-13T12:46:52.441125",
     "exception": false,
     "start_time": "2020-09-13T12:46:52.427951",
     "status": "completed"
    },
    "tags": []
   },
   "source": [
    "# Load previously exported files\n",
    "\n",
    "The files being imported below were constructed in the last six exploratory notebooks (1.0 to 1.5). Here, we join them all using the `acct` column as key."
   ]
  },
  {
   "cell_type": "code",
   "execution_count": 1,
   "metadata": {
    "ExecuteTime": {
     "end_time": "2020-07-28T11:09:39.498949Z",
     "start_time": "2020-07-28T11:09:39.478523Z"
    },
    "execution": {
     "iopub.execute_input": "2020-09-13T12:46:52.478798Z",
     "iopub.status.busy": "2020-09-13T12:46:52.477937Z",
     "iopub.status.idle": "2020-09-13T12:46:52.492671Z",
     "shell.execute_reply": "2020-09-13T12:46:52.492107Z"
    },
    "papermill": {
     "duration": 0.038047,
     "end_time": "2020-09-13T12:46:52.492860",
     "exception": false,
     "start_time": "2020-09-13T12:46:52.454813",
     "status": "completed"
    },
    "tags": []
   },
   "outputs": [],
   "source": [
    "%load_ext autoreload\n",
    "%autoreload 2"
   ]
  },
  {
   "cell_type": "code",
   "execution_count": 2,
   "metadata": {
    "ExecuteTime": {
     "end_time": "2020-07-28T11:09:39.974420Z",
     "start_time": "2020-07-28T11:09:39.501094Z"
    },
    "execution": {
     "iopub.execute_input": "2020-09-13T12:46:52.520314Z",
     "iopub.status.busy": "2020-09-13T12:46:52.519468Z",
     "iopub.status.idle": "2020-09-13T12:46:52.971901Z",
     "shell.execute_reply": "2020-09-13T12:46:52.972648Z"
    },
    "papermill": {
     "duration": 0.469466,
     "end_time": "2020-09-13T12:46:52.972884",
     "exception": false,
     "start_time": "2020-09-13T12:46:52.503418",
     "status": "completed"
    },
    "tags": []
   },
   "outputs": [],
   "source": [
    "from pathlib import Path\n",
    "import pickle\n",
    "\n",
    "import pandas as pd\n",
    "\n",
    "from src.definitions import ROOT_DIR\n",
    "from src.data.utils import Table, save_pickle"
   ]
  },
  {
   "cell_type": "code",
   "execution_count": 3,
   "metadata": {
    "ExecuteTime": {
     "end_time": "2020-07-28T11:09:40.067937Z",
     "start_time": "2020-07-28T11:09:39.977612Z"
    },
    "execution": {
     "iopub.execute_input": "2020-09-13T12:46:53.015787Z",
     "iopub.status.busy": "2020-09-13T12:46:53.014970Z",
     "iopub.status.idle": "2020-09-13T12:46:53.755666Z",
     "shell.execute_reply": "2020-09-13T12:46:53.756516Z"
    },
    "papermill": {
     "duration": 0.763569,
     "end_time": "2020-09-13T12:46:53.756784",
     "exception": false,
     "start_time": "2020-09-13T12:46:52.993215",
     "status": "completed"
    },
    "tags": []
   },
   "outputs": [],
   "source": [
    "building_res_comps_fn = ROOT_DIR / 'data/raw/2016/building_res_comps.pickle'\n",
    "assert building_res_comps_fn.exists()\n",
    "\n",
    "with open(building_res_comps_fn, 'rb') as f:\n",
    "    building_res_comps = pickle.load(f)"
   ]
  },
  {
   "cell_type": "code",
   "execution_count": 4,
   "metadata": {
    "ExecuteTime": {
     "end_time": "2020-07-28T11:09:40.141915Z",
     "start_time": "2020-07-28T11:09:40.069827Z"
    },
    "execution": {
     "iopub.execute_input": "2020-09-13T12:46:54.498495Z",
     "iopub.status.busy": "2020-09-13T12:46:54.497388Z",
     "iopub.status.idle": "2020-09-13T12:46:55.140158Z",
     "shell.execute_reply": "2020-09-13T12:46:55.140698Z"
    },
    "papermill": {
     "duration": 1.364774,
     "end_time": "2020-09-13T12:46:55.140904",
     "exception": false,
     "start_time": "2020-09-13T12:46:53.776130",
     "status": "completed"
    },
    "tags": []
   },
   "outputs": [],
   "source": [
    "fixtures_comps_fn = ROOT_DIR / 'data/raw/2016/fixtures_comps.pickle'\n",
    "assert fixtures_comps_fn.exists()\n",
    "\n",
    "with open(fixtures_comps_fn, 'rb') as f:\n",
    "    fixtures_comps = pickle.load(f)"
   ]
  },
  {
   "cell_type": "code",
   "execution_count": 5,
   "metadata": {
    "ExecuteTime": {
     "end_time": "2020-07-28T11:09:40.410944Z",
     "start_time": "2020-07-28T11:09:40.143512Z"
    },
    "execution": {
     "iopub.execute_input": "2020-09-13T12:46:55.179372Z",
     "iopub.status.busy": "2020-09-13T12:46:55.175706Z",
     "iopub.status.idle": "2020-09-13T12:46:55.415201Z",
     "shell.execute_reply": "2020-09-13T12:46:55.415849Z"
    },
    "papermill": {
     "duration": 0.262756,
     "end_time": "2020-09-13T12:46:55.416076",
     "exception": false,
     "start_time": "2020-09-13T12:46:55.153320",
     "status": "completed"
    },
    "tags": []
   },
   "outputs": [],
   "source": [
    "real_acct_comps_fn = ROOT_DIR / 'data/raw/2016/real_acct_comps.pickle'\n",
    "assert real_acct_comps_fn.exists()\n",
    "\n",
    "with open(real_acct_comps_fn, 'rb') as f:\n",
    "    real_acct_comps = pickle.load(f)"
   ]
  },
  {
   "cell_type": "code",
   "execution_count": 6,
   "metadata": {
    "ExecuteTime": {
     "end_time": "2020-07-28T11:09:40.536816Z",
     "start_time": "2020-07-28T11:09:40.412450Z"
    },
    "execution": {
     "iopub.execute_input": "2020-09-13T12:46:55.460092Z",
     "iopub.status.busy": "2020-09-13T12:46:55.459271Z",
     "iopub.status.idle": "2020-09-13T12:46:55.587244Z",
     "shell.execute_reply": "2020-09-13T12:46:55.587931Z"
    },
    "papermill": {
     "duration": 0.151662,
     "end_time": "2020-09-13T12:46:55.588152",
     "exception": false,
     "start_time": "2020-09-13T12:46:55.436490",
     "status": "completed"
    },
    "tags": []
   },
   "outputs": [],
   "source": [
    "extra_features_uts_grade_comps_fn = ROOT_DIR / 'data/raw/2016/extra_features_uts_grade_comps.pickle'\n",
    "assert extra_features_uts_grade_comps_fn.exists()\n",
    "\n",
    "with open(extra_features_uts_grade_comps_fn, 'rb') as f:\n",
    "    extra_features_uts_grade_comps = pickle.load(f)"
   ]
  },
  {
   "cell_type": "code",
   "execution_count": 7,
   "metadata": {
    "ExecuteTime": {
     "end_time": "2020-07-28T11:09:40.658932Z",
     "start_time": "2020-07-28T11:09:40.538207Z"
    },
    "execution": {
     "iopub.execute_input": "2020-09-13T12:46:55.623737Z",
     "iopub.status.busy": "2020-09-13T12:46:55.622859Z",
     "iopub.status.idle": "2020-09-13T12:46:55.731294Z",
     "shell.execute_reply": "2020-09-13T12:46:55.731735Z"
    },
    "papermill": {
     "duration": 0.124915,
     "end_time": "2020-09-13T12:46:55.731902",
     "exception": false,
     "start_time": "2020-09-13T12:46:55.606987",
     "status": "completed"
    },
    "tags": []
   },
   "outputs": [],
   "source": [
    "exterior_comps_fn = ROOT_DIR / 'data/raw/2016/exterior_comps.pickle'\n",
    "assert exterior_comps_fn.exists()\n",
    "\n",
    "with open(exterior_comps_fn, 'rb') as f:\n",
    "    exterior_comps = pickle.load(f)"
   ]
  },
  {
   "cell_type": "code",
   "execution_count": 8,
   "metadata": {
    "ExecuteTime": {
     "end_time": "2020-07-28T11:09:40.682466Z",
     "start_time": "2020-07-28T11:09:40.661898Z"
    },
    "execution": {
     "iopub.execute_input": "2020-09-13T12:46:55.757819Z",
     "iopub.status.busy": "2020-09-13T12:46:55.756932Z",
     "iopub.status.idle": "2020-09-13T12:46:55.774792Z",
     "shell.execute_reply": "2020-09-13T12:46:55.775264Z"
    },
    "papermill": {
     "duration": 0.032651,
     "end_time": "2020-09-13T12:46:55.775427",
     "exception": false,
     "start_time": "2020-09-13T12:46:55.742776",
     "status": "completed"
    },
    "tags": []
   },
   "outputs": [],
   "source": [
    "structural_elem1_comps_fn = ROOT_DIR / 'data/raw/2016/structural_elem1_comps.pickle'\n",
    "assert structural_elem1_comps_fn.exists()\n",
    "\n",
    "with open(structural_elem1_comps_fn, 'rb') as f:\n",
    "    structural_elem1_comps = pickle.load(f)"
   ]
  },
  {
   "cell_type": "markdown",
   "metadata": {
    "papermill": {
     "duration": 0.011414,
     "end_time": "2020-09-13T12:46:55.797737",
     "exception": false,
     "start_time": "2020-09-13T12:46:55.786323",
     "status": "completed"
    },
    "tags": []
   },
   "source": [
    "# Merge tables"
   ]
  },
  {
   "cell_type": "code",
   "execution_count": 9,
   "metadata": {
    "ExecuteTime": {
     "end_time": "2020-07-28T11:09:41.752465Z",
     "start_time": "2020-07-28T11:09:40.685108Z"
    },
    "execution": {
     "iopub.execute_input": "2020-09-13T12:46:55.824424Z",
     "iopub.status.busy": "2020-09-13T12:46:55.823267Z",
     "iopub.status.idle": "2020-09-13T12:46:57.109943Z",
     "shell.execute_reply": "2020-09-13T12:46:57.110449Z"
    },
    "papermill": {
     "duration": 1.302309,
     "end_time": "2020-09-13T12:46:57.110629",
     "exception": false,
     "start_time": "2020-09-13T12:46:55.808320",
     "status": "completed"
    },
    "scrolled": true,
    "tags": []
   },
   "outputs": [],
   "source": [
    "comps = building_res_comps.merge(fixtures_comps,\n",
    "                                 how='left',\n",
    "                                 on='acct',\n",
    "                                 validate='one_to_one')"
   ]
  },
  {
   "cell_type": "code",
   "execution_count": 10,
   "metadata": {
    "ExecuteTime": {
     "end_time": "2020-07-28T11:09:43.075568Z",
     "start_time": "2020-07-28T11:09:41.754029Z"
    },
    "execution": {
     "iopub.execute_input": "2020-09-13T12:46:57.141703Z",
     "iopub.status.busy": "2020-09-13T12:46:57.140735Z",
     "iopub.status.idle": "2020-09-13T12:46:58.569741Z",
     "shell.execute_reply": "2020-09-13T12:46:58.570160Z"
    },
    "papermill": {
     "duration": 1.447468,
     "end_time": "2020-09-13T12:46:58.570323",
     "exception": false,
     "start_time": "2020-09-13T12:46:57.122855",
     "status": "completed"
    },
    "tags": []
   },
   "outputs": [],
   "source": [
    "comps = comps.merge(real_acct_comps,\n",
    "                    how='left',\n",
    "                    on='acct',\n",
    "                    validate='one_to_one')"
   ]
  },
  {
   "cell_type": "code",
   "execution_count": 11,
   "metadata": {
    "ExecuteTime": {
     "end_time": "2020-07-28T11:09:45.416123Z",
     "start_time": "2020-07-28T11:09:43.078498Z"
    },
    "execution": {
     "iopub.execute_input": "2020-09-13T12:46:58.618908Z",
     "iopub.status.busy": "2020-09-13T12:46:58.617982Z",
     "iopub.status.idle": "2020-09-13T12:47:00.622590Z",
     "shell.execute_reply": "2020-09-13T12:47:00.623317Z"
    },
    "papermill": {
     "duration": 2.040685,
     "end_time": "2020-09-13T12:47:00.623567",
     "exception": false,
     "start_time": "2020-09-13T12:46:58.582882",
     "status": "completed"
    },
    "tags": []
   },
   "outputs": [],
   "source": [
    "comps = comps.merge(extra_features_uts_grade_comps,\n",
    "                    how='left',\n",
    "                    on='acct',\n",
    "                    validate='one_to_one')"
   ]
  },
  {
   "cell_type": "code",
   "execution_count": 12,
   "metadata": {
    "ExecuteTime": {
     "end_time": "2020-07-28T11:09:46.822515Z",
     "start_time": "2020-07-28T11:09:45.418732Z"
    },
    "execution": {
     "iopub.execute_input": "2020-09-13T12:47:00.655519Z",
     "iopub.status.busy": "2020-09-13T12:47:00.654531Z",
     "iopub.status.idle": "2020-09-13T12:47:02.009372Z",
     "shell.execute_reply": "2020-09-13T12:47:02.008858Z"
    },
    "papermill": {
     "duration": 1.371071,
     "end_time": "2020-09-13T12:47:02.009536",
     "exception": false,
     "start_time": "2020-09-13T12:47:00.638465",
     "status": "completed"
    },
    "tags": []
   },
   "outputs": [],
   "source": [
    "comps = comps.merge(exterior_comps,\n",
    "                    how='left',\n",
    "                    on='acct',\n",
    "                    validate='one_to_one')"
   ]
  },
  {
   "cell_type": "code",
   "execution_count": 13,
   "metadata": {
    "ExecuteTime": {
     "end_time": "2020-07-28T11:09:48.284080Z",
     "start_time": "2020-07-28T11:09:46.824213Z"
    },
    "execution": {
     "iopub.execute_input": "2020-09-13T12:47:02.039117Z",
     "iopub.status.busy": "2020-09-13T12:47:02.037999Z",
     "iopub.status.idle": "2020-09-13T12:47:03.313852Z",
     "shell.execute_reply": "2020-09-13T12:47:03.314599Z"
    },
    "papermill": {
     "duration": 1.29341,
     "end_time": "2020-09-13T12:47:03.314772",
     "exception": false,
     "start_time": "2020-09-13T12:47:02.021362",
     "status": "completed"
    },
    "tags": []
   },
   "outputs": [],
   "source": [
    "comps = comps.merge(structural_elem1_comps,\n",
    "                    how='left',\n",
    "                    on='acct',\n",
    "                    validate='one_to_one')"
   ]
  },
  {
   "cell_type": "code",
   "execution_count": 14,
   "metadata": {
    "ExecuteTime": {
     "end_time": "2020-07-28T11:09:48.348628Z",
     "start_time": "2020-07-28T11:09:48.285880Z"
    },
    "execution": {
     "iopub.execute_input": "2020-09-13T12:47:03.346806Z",
     "iopub.status.busy": "2020-09-13T12:47:03.345889Z",
     "iopub.status.idle": "2020-09-13T12:47:03.392044Z",
     "shell.execute_reply": "2020-09-13T12:47:03.392511Z"
    },
    "papermill": {
     "duration": 0.065634,
     "end_time": "2020-09-13T12:47:03.392675",
     "exception": false,
     "start_time": "2020-09-13T12:47:03.327041",
     "status": "completed"
    },
    "tags": []
   },
   "outputs": [
    {
     "data": {
      "text/html": [
       "<div>\n",
       "<style scoped>\n",
       "    .dataframe tbody tr th:only-of-type {\n",
       "        vertical-align: middle;\n",
       "    }\n",
       "\n",
       "    .dataframe tbody tr th {\n",
       "        vertical-align: top;\n",
       "    }\n",
       "\n",
       "    .dataframe thead th {\n",
       "        text-align: right;\n",
       "    }\n",
       "</style>\n",
       "<table border=\"1\" class=\"dataframe\">\n",
       "  <thead>\n",
       "    <tr style=\"text-align: right;\">\n",
       "      <th></th>\n",
       "      <th>acct</th>\n",
       "      <th>dscr</th>\n",
       "      <th>date_erected</th>\n",
       "      <th>yr_remodel</th>\n",
       "      <th>im_sq_ft</th>\n",
       "      <th>act_ar</th>\n",
       "      <th>heat_ar</th>\n",
       "      <th>gross_ar</th>\n",
       "      <th>eff_ar</th>\n",
       "      <th>perimeter</th>\n",
       "      <th>...</th>\n",
       "      <th>one_story_mas_pri</th>\n",
       "      <th>open_frame_porch_pri</th>\n",
       "      <th>open_mas_porch_pri</th>\n",
       "      <th>cond_desir_util</th>\n",
       "      <th>cost_and_design</th>\n",
       "      <th>exterior_wall</th>\n",
       "      <th>foundation_type</th>\n",
       "      <th>grade_adjustment</th>\n",
       "      <th>heating_ac</th>\n",
       "      <th>physical_condition</th>\n",
       "    </tr>\n",
       "  </thead>\n",
       "  <tbody>\n",
       "    <tr>\n",
       "      <th>0</th>\n",
       "      <td>22070000001</td>\n",
       "      <td>Low</td>\n",
       "      <td>1923</td>\n",
       "      <td>NaN</td>\n",
       "      <td>680.0</td>\n",
       "      <td>728</td>\n",
       "      <td>680.0</td>\n",
       "      <td>728</td>\n",
       "      <td>696.0</td>\n",
       "      <td>128.0</td>\n",
       "      <td>...</td>\n",
       "      <td>0.0</td>\n",
       "      <td>48.0</td>\n",
       "      <td>0.0</td>\n",
       "      <td>Average</td>\n",
       "      <td>NaN</td>\n",
       "      <td>Frame / Concrete Blk</td>\n",
       "      <td>Crawl Space</td>\n",
       "      <td>D</td>\n",
       "      <td>None</td>\n",
       "      <td>Average</td>\n",
       "    </tr>\n",
       "    <tr>\n",
       "      <th>1</th>\n",
       "      <td>22070000007</td>\n",
       "      <td>Low</td>\n",
       "      <td>1935</td>\n",
       "      <td>NaN</td>\n",
       "      <td>1956.0</td>\n",
       "      <td>2244</td>\n",
       "      <td>1956.0</td>\n",
       "      <td>2244</td>\n",
       "      <td>2034.0</td>\n",
       "      <td>196.0</td>\n",
       "      <td>...</td>\n",
       "      <td>0.0</td>\n",
       "      <td>0.0</td>\n",
       "      <td>0.0</td>\n",
       "      <td>Fair</td>\n",
       "      <td>NaN</td>\n",
       "      <td>Frame / Concrete Blk</td>\n",
       "      <td>Crawl Space</td>\n",
       "      <td>D+</td>\n",
       "      <td>None</td>\n",
       "      <td>Fair</td>\n",
       "    </tr>\n",
       "    <tr>\n",
       "      <th>2</th>\n",
       "      <td>30130000002</td>\n",
       "      <td>Low</td>\n",
       "      <td>1941</td>\n",
       "      <td>NaN</td>\n",
       "      <td>1102.0</td>\n",
       "      <td>1242</td>\n",
       "      <td>1102.0</td>\n",
       "      <td>1242</td>\n",
       "      <td>1148.0</td>\n",
       "      <td>154.0</td>\n",
       "      <td>...</td>\n",
       "      <td>0.0</td>\n",
       "      <td>140.0</td>\n",
       "      <td>0.0</td>\n",
       "      <td>Fair</td>\n",
       "      <td>NaN</td>\n",
       "      <td>Frame / Concrete Blk</td>\n",
       "      <td>Crawl Space</td>\n",
       "      <td>D-</td>\n",
       "      <td>None</td>\n",
       "      <td>Fair</td>\n",
       "    </tr>\n",
       "    <tr>\n",
       "      <th>3</th>\n",
       "      <td>30310000002</td>\n",
       "      <td>Low</td>\n",
       "      <td>1930</td>\n",
       "      <td>NaN</td>\n",
       "      <td>1216.0</td>\n",
       "      <td>1408</td>\n",
       "      <td>1216.0</td>\n",
       "      <td>1408</td>\n",
       "      <td>1279.0</td>\n",
       "      <td>148.0</td>\n",
       "      <td>...</td>\n",
       "      <td>0.0</td>\n",
       "      <td>192.0</td>\n",
       "      <td>0.0</td>\n",
       "      <td>Good</td>\n",
       "      <td>NaN</td>\n",
       "      <td>Frame / Concrete Blk</td>\n",
       "      <td>Crawl Space</td>\n",
       "      <td>C-</td>\n",
       "      <td>None</td>\n",
       "      <td>Good</td>\n",
       "    </tr>\n",
       "    <tr>\n",
       "      <th>4</th>\n",
       "      <td>30340000009</td>\n",
       "      <td>Low</td>\n",
       "      <td>1936</td>\n",
       "      <td>NaN</td>\n",
       "      <td>1050.0</td>\n",
       "      <td>1528</td>\n",
       "      <td>1050.0</td>\n",
       "      <td>1528</td>\n",
       "      <td>1177.0</td>\n",
       "      <td>136.0</td>\n",
       "      <td>...</td>\n",
       "      <td>0.0</td>\n",
       "      <td>112.0</td>\n",
       "      <td>0.0</td>\n",
       "      <td>Poor</td>\n",
       "      <td>NaN</td>\n",
       "      <td>Frame / Concrete Blk</td>\n",
       "      <td>Crawl Space</td>\n",
       "      <td>D</td>\n",
       "      <td>None</td>\n",
       "      <td>Fair</td>\n",
       "    </tr>\n",
       "  </tbody>\n",
       "</table>\n",
       "<p>5 rows × 81 columns</p>\n",
       "</div>"
      ],
      "text/plain": [
       "          acct dscr  date_erected  yr_remodel  im_sq_ft  act_ar  heat_ar  \\\n",
       "0  22070000001  Low          1923         NaN     680.0     728    680.0   \n",
       "1  22070000007  Low          1935         NaN    1956.0    2244   1956.0   \n",
       "2  30130000002  Low          1941         NaN    1102.0    1242   1102.0   \n",
       "3  30310000002  Low          1930         NaN    1216.0    1408   1216.0   \n",
       "4  30340000009  Low          1936         NaN    1050.0    1528   1050.0   \n",
       "\n",
       "   gross_ar  eff_ar  perimeter  ...  one_story_mas_pri  open_frame_porch_pri  \\\n",
       "0       728   696.0      128.0  ...                0.0                  48.0   \n",
       "1      2244  2034.0      196.0  ...                0.0                   0.0   \n",
       "2      1242  1148.0      154.0  ...                0.0                 140.0   \n",
       "3      1408  1279.0      148.0  ...                0.0                 192.0   \n",
       "4      1528  1177.0      136.0  ...                0.0                 112.0   \n",
       "\n",
       "   open_mas_porch_pri  cond_desir_util  cost_and_design         exterior_wall  \\\n",
       "0                 0.0          Average              NaN  Frame / Concrete Blk   \n",
       "1                 0.0             Fair              NaN  Frame / Concrete Blk   \n",
       "2                 0.0             Fair              NaN  Frame / Concrete Blk   \n",
       "3                 0.0             Good              NaN  Frame / Concrete Blk   \n",
       "4                 0.0             Poor              NaN  Frame / Concrete Blk   \n",
       "\n",
       "   foundation_type  grade_adjustment  heating_ac  physical_condition  \n",
       "0      Crawl Space                 D        None             Average  \n",
       "1      Crawl Space                D+        None                Fair  \n",
       "2      Crawl Space                D-        None                Fair  \n",
       "3      Crawl Space                C-        None                Good  \n",
       "4      Crawl Space                 D        None                Fair  \n",
       "\n",
       "[5 rows x 81 columns]"
      ]
     },
     "execution_count": 14,
     "metadata": {},
     "output_type": "execute_result"
    }
   ],
   "source": [
    "comps.head()"
   ]
  },
  {
   "cell_type": "code",
   "execution_count": 15,
   "metadata": {
    "ExecuteTime": {
     "end_time": "2020-07-28T11:09:48.376648Z",
     "start_time": "2020-07-28T11:09:48.350839Z"
    },
    "execution": {
     "iopub.execute_input": "2020-09-13T12:47:03.420673Z",
     "iopub.status.busy": "2020-09-13T12:47:03.419786Z",
     "iopub.status.idle": "2020-09-13T12:47:03.433308Z",
     "shell.execute_reply": "2020-09-13T12:47:03.433933Z"
    },
    "papermill": {
     "duration": 0.029391,
     "end_time": "2020-09-13T12:47:03.434094",
     "exception": false,
     "start_time": "2020-09-13T12:47:03.404703",
     "status": "completed"
    },
    "tags": []
   },
   "outputs": [
    {
     "data": {
      "text/plain": [
       "Index(['acct', 'dscr', 'date_erected', 'yr_remodel', 'im_sq_ft', 'act_ar',\n",
       "       'heat_ar', 'gross_ar', 'eff_ar', 'perimeter',\n",
       "       'fireplace_masonry_firebrick', 'fireplace_metal_prefab',\n",
       "       'fixtures_addl', 'fixtures_total', 'room_bedroom', 'room_full_bath',\n",
       "       'room_half_bath', 'room_rec', 'room_total', 'story_height_index',\n",
       "       'zip_code', 'school_dist', 'neighborhood_code', 'market_area_1_dscr',\n",
       "       'market_area_2_dscr', 'center_code', 'bld_ar', 'land_ar', 'acreage',\n",
       "       'land_val', 'tot_appr_val', 'prior_land_val', 'prior_tot_appr_val',\n",
       "       'new_own_dt', 'basic_outdoor_kitchen_uts',\n",
       "       'brick_or_stone_detached_garage_uts', 'canopy_residential_uts',\n",
       "       'carport_residential_uts', 'cracked_slab_uts',\n",
       "       'custom_outdoor_kitchen_uts', 'foundation_repaired_uts',\n",
       "       'frame_detached_garage_uts',\n",
       "       'frame_detached_garage_w_living_area_abov_uts',\n",
       "       'frame_utility_shed_uts', 'gunite_pool_uts', 'metal_utility_shed_uts',\n",
       "       'pool_spa_with_heater_uts', 'reinforced_concrete_pool_uts',\n",
       "       'residential_other_gross_value_uts', 'basic_outdoor_kitchen_grade',\n",
       "       'brick_or_stone_detached_garage_grade', 'canopy_residential_grade',\n",
       "       'carport_residential_grade', 'cracked_slab_grade',\n",
       "       'custom_outdoor_kitchen_grade', 'foundation_repaired_grade',\n",
       "       'frame_detached_garage_grade',\n",
       "       'frame_detached_garage_w_living_area_abov_grade',\n",
       "       'frame_utility_shed_grade', 'gunite_pool_grade',\n",
       "       'metal_utility_shed_grade', 'pool_spa_with_heater_grade',\n",
       "       'reinforced_concrete_pool_grade', 'residential_other_gross_value_grade',\n",
       "       'base_area_pri', 'base_area_upr', 'frame_garage_pri',\n",
       "       'mas_brk_garage_pri', 'mas_conc_patio_pri', 'one_story_frame_pri',\n",
       "       'one_story_frame_upr', 'one_story_mas_pri', 'open_frame_porch_pri',\n",
       "       'open_mas_porch_pri', 'cond_desir_util', 'cost_and_design',\n",
       "       'exterior_wall', 'foundation_type', 'grade_adjustment', 'heating_ac',\n",
       "       'physical_condition'],\n",
       "      dtype='object')"
      ]
     },
     "execution_count": 15,
     "metadata": {},
     "output_type": "execute_result"
    }
   ],
   "source": [
    "comps.columns"
   ]
  },
  {
   "cell_type": "code",
   "execution_count": 16,
   "metadata": {
    "ExecuteTime": {
     "end_time": "2020-07-28T11:09:48.395707Z",
     "start_time": "2020-07-28T11:09:48.379096Z"
    },
    "execution": {
     "iopub.execute_input": "2020-09-13T12:47:03.463184Z",
     "iopub.status.busy": "2020-09-13T12:47:03.462201Z",
     "iopub.status.idle": "2020-09-13T12:47:03.475561Z",
     "shell.execute_reply": "2020-09-13T12:47:03.474983Z"
    },
    "papermill": {
     "duration": 0.029321,
     "end_time": "2020-09-13T12:47:03.475704",
     "exception": false,
     "start_time": "2020-09-13T12:47:03.446383",
     "status": "completed"
    },
    "tags": []
   },
   "outputs": [
    {
     "data": {
      "text/plain": [
       "(957686, 81)"
      ]
     },
     "execution_count": 16,
     "metadata": {},
     "output_type": "execute_result"
    }
   ],
   "source": [
    "comps.shape"
   ]
  },
  {
   "cell_type": "markdown",
   "metadata": {
    "papermill": {
     "duration": 0.012687,
     "end_time": "2020-09-13T12:47:03.500941",
     "exception": false,
     "start_time": "2020-09-13T12:47:03.488254",
     "status": "completed"
    },
    "tags": []
   },
   "source": [
    "# Export comps"
   ]
  },
  {
   "cell_type": "code",
   "execution_count": 17,
   "metadata": {
    "ExecuteTime": {
     "end_time": "2020-07-28T11:09:52.816966Z",
     "start_time": "2020-07-28T11:09:48.398330Z"
    },
    "execution": {
     "iopub.execute_input": "2020-09-13T12:47:03.529968Z",
     "iopub.status.busy": "2020-09-13T12:47:03.529047Z",
     "iopub.status.idle": "2020-09-13T12:47:07.978487Z",
     "shell.execute_reply": "2020-09-13T12:47:07.977905Z"
    },
    "papermill": {
     "duration": 4.465007,
     "end_time": "2020-09-13T12:47:07.978650",
     "exception": false,
     "start_time": "2020-09-13T12:47:03.513643",
     "status": "completed"
    },
    "tags": []
   },
   "outputs": [],
   "source": [
    "save_fn = ROOT_DIR / 'data/interim/2016/comps.pickle'\n",
    "save_pickle(comps, save_fn)"
   ]
  }
 ],
 "metadata": {
  "kernelspec": {
   "display_name": "hcad_pred",
   "language": "python",
   "name": "hcad_pred"
  },
  "language_info": {
   "codemirror_mode": {
    "name": "ipython",
    "version": 3
   },
   "file_extension": ".py",
   "mimetype": "text/x-python",
   "name": "python",
   "nbconvert_exporter": "python",
   "pygments_lexer": "ipython3",
   "version": "3.7.8"
  },
  "papermill": {
   "duration": 16.956346,
   "end_time": "2020-09-13T12:47:08.561963",
   "environment_variables": {},
   "exception": null,
   "input_path": "/media/hdd/projects/springboard/hcad_pred/notebooks/01_Exploratory/1.6-rp-hcad-data-view-join-selected-data.ipynb",
   "output_path": "/media/hdd/projects/springboard/hcad_pred/notebooks/01_Exploratory/output/1.6-rp-hcad-data-view-join-selected-data_20200913.ipynb",
   "parameters": {},
   "start_time": "2020-09-13T12:46:51.605617",
   "version": "2.1.2"
  },
  "toc": {
   "base_numbering": 1,
   "nav_menu": {},
   "number_sections": true,
   "sideBar": true,
   "skip_h1_title": false,
   "title_cell": "Table of Contents",
   "title_sidebar": "Contents",
   "toc_cell": false,
   "toc_position": {},
   "toc_section_display": true,
   "toc_window_display": false
  }
 },
 "nbformat": 4,
 "nbformat_minor": 4
}