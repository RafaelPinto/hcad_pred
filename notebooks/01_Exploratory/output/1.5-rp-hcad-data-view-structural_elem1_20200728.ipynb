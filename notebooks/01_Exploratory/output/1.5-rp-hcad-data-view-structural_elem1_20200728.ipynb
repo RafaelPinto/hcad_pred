{
 "cells": [
  {
   "cell_type": "markdown",
   "metadata": {
    "papermill": {
     "duration": 0.035791,
     "end_time": "2020-07-28T11:17:03.667356",
     "exception": false,
     "start_time": "2020-07-28T11:17:03.631565",
     "status": "completed"
    },
    "tags": []
   },
   "source": [
    "# Find the comparables: structural_elem1.txt\n",
    "\n",
    "The file `structural_elem1.txt` contains important property information about the building data, like foundation type, exterior wall composition, Heating/AC, and more. Let's load this file and grab a subset with the important columns to continue our study."
   ]
  },
  {
   "cell_type": "code",
   "execution_count": 1,
   "metadata": {
    "ExecuteTime": {
     "end_time": "2020-07-28T10:58:04.418028Z",
     "start_time": "2020-07-28T10:58:04.401115Z"
    },
    "execution": {
     "iopub.execute_input": "2020-07-28T11:17:03.738497Z",
     "iopub.status.busy": "2020-07-28T11:17:03.737433Z",
     "iopub.status.idle": "2020-07-28T11:17:03.750590Z",
     "shell.execute_reply": "2020-07-28T11:17:03.750098Z"
    },
    "papermill": {
     "duration": 0.05122,
     "end_time": "2020-07-28T11:17:03.750721",
     "exception": false,
     "start_time": "2020-07-28T11:17:03.699501",
     "status": "completed"
    },
    "tags": []
   },
   "outputs": [],
   "source": [
    "%load_ext autoreload\n",
    "%autoreload 2"
   ]
  },
  {
   "cell_type": "code",
   "execution_count": 2,
   "metadata": {
    "ExecuteTime": {
     "end_time": "2020-07-28T10:58:04.834082Z",
     "start_time": "2020-07-28T10:58:04.420660Z"
    },
    "execution": {
     "iopub.execute_input": "2020-07-28T11:17:03.820728Z",
     "iopub.status.busy": "2020-07-28T11:17:03.819065Z",
     "iopub.status.idle": "2020-07-28T11:17:04.235840Z",
     "shell.execute_reply": "2020-07-28T11:17:04.236330Z"
    },
    "papermill": {
     "duration": 0.454771,
     "end_time": "2020-07-28T11:17:04.236474",
     "exception": false,
     "start_time": "2020-07-28T11:17:03.781703",
     "status": "completed"
    },
    "tags": []
   },
   "outputs": [],
   "source": [
    "from pathlib import Path\n",
    "import pickle\n",
    "\n",
    "import pandas as pd\n",
    "\n",
    "from src.definitions import ROOT_DIR\n",
    "from src.data.utils import Table, save_pickle"
   ]
  },
  {
   "cell_type": "code",
   "execution_count": 3,
   "metadata": {
    "ExecuteTime": {
     "end_time": "2020-07-28T10:58:04.846909Z",
     "start_time": "2020-07-28T10:58:04.835998Z"
    },
    "execution": {
     "iopub.execute_input": "2020-07-28T11:17:04.284720Z",
     "iopub.status.busy": "2020-07-28T11:17:04.283844Z",
     "iopub.status.idle": "2020-07-28T11:17:04.298615Z",
     "shell.execute_reply": "2020-07-28T11:17:04.298035Z"
    },
    "papermill": {
     "duration": 0.04042,
     "end_time": "2020-07-28T11:17:04.298746",
     "exception": false,
     "start_time": "2020-07-28T11:17:04.258326",
     "status": "completed"
    },
    "tags": []
   },
   "outputs": [],
   "source": [
    "structural_elem1_fn = ROOT_DIR / 'data/external/2016/Real_building_land/structural_elem1.txt'\n",
    "assert structural_elem1_fn.exists()"
   ]
  },
  {
   "cell_type": "code",
   "execution_count": 4,
   "metadata": {
    "ExecuteTime": {
     "end_time": "2020-07-28T10:58:04.866676Z",
     "start_time": "2020-07-28T10:58:04.850043Z"
    },
    "execution": {
     "iopub.execute_input": "2020-07-28T11:17:04.348638Z",
     "iopub.status.busy": "2020-07-28T11:17:04.348117Z",
     "iopub.status.idle": "2020-07-28T11:17:04.358799Z",
     "shell.execute_reply": "2020-07-28T11:17:04.359237Z"
    },
    "papermill": {
     "duration": 0.037866,
     "end_time": "2020-07-28T11:17:04.359381",
     "exception": false,
     "start_time": "2020-07-28T11:17:04.321515",
     "status": "completed"
    },
    "tags": []
   },
   "outputs": [],
   "source": [
    "structural_elem1 = Table(structural_elem1_fn, '2016')"
   ]
  },
  {
   "cell_type": "markdown",
   "metadata": {
    "papermill": {
     "duration": 0.023794,
     "end_time": "2020-07-28T11:17:04.406323",
     "exception": false,
     "start_time": "2020-07-28T11:17:04.382529",
     "status": "completed"
    },
    "tags": []
   },
   "source": [
    "# Load accounts of interest\n",
    "Let's remove the account numbers that don't meet free-standing single-family home criteria that we found while processing the `building_res.txt` file."
   ]
  },
  {
   "cell_type": "code",
   "execution_count": 5,
   "metadata": {
    "ExecuteTime": {
     "end_time": "2020-07-28T10:58:09.279865Z",
     "start_time": "2020-07-28T10:58:04.868848Z"
    },
    "execution": {
     "iopub.execute_input": "2020-07-28T11:17:04.458236Z",
     "iopub.status.busy": "2020-07-28T11:17:04.457425Z",
     "iopub.status.idle": "2020-07-28T11:17:10.743630Z",
     "shell.execute_reply": "2020-07-28T11:17:10.743126Z"
    },
    "papermill": {
     "duration": 6.312427,
     "end_time": "2020-07-28T11:17:10.743750",
     "exception": false,
     "start_time": "2020-07-28T11:17:04.431323",
     "status": "completed"
    },
    "tags": []
   },
   "outputs": [],
   "source": [
    "skiprows = structural_elem1.get_skiprows()"
   ]
  },
  {
   "cell_type": "code",
   "execution_count": 6,
   "metadata": {
    "ExecuteTime": {
     "end_time": "2020-07-28T10:58:15.542302Z",
     "start_time": "2020-07-28T10:58:09.283986Z"
    },
    "execution": {
     "iopub.execute_input": "2020-07-28T11:17:10.792688Z",
     "iopub.status.busy": "2020-07-28T11:17:10.791969Z",
     "iopub.status.idle": "2020-07-28T11:17:16.957910Z",
     "shell.execute_reply": "2020-07-28T11:17:16.957472Z"
    },
    "papermill": {
     "duration": 6.19197,
     "end_time": "2020-07-28T11:17:16.958034",
     "exception": false,
     "start_time": "2020-07-28T11:17:10.766064",
     "status": "completed"
    },
    "tags": []
   },
   "outputs": [],
   "source": [
    "structural_elem1_df = structural_elem1.get_df(skiprows=skiprows)"
   ]
  },
  {
   "cell_type": "code",
   "execution_count": 7,
   "metadata": {
    "ExecuteTime": {
     "end_time": "2020-07-28T10:58:15.586443Z",
     "start_time": "2020-07-28T10:58:15.543756Z"
    },
    "execution": {
     "iopub.execute_input": "2020-07-28T11:17:17.008255Z",
     "iopub.status.busy": "2020-07-28T11:17:17.007509Z",
     "iopub.status.idle": "2020-07-28T11:17:17.035459Z",
     "shell.execute_reply": "2020-07-28T11:17:17.036119Z"
    },
    "papermill": {
     "duration": 0.055579,
     "end_time": "2020-07-28T11:17:17.036269",
     "exception": false,
     "start_time": "2020-07-28T11:17:16.980690",
     "status": "completed"
    },
    "tags": []
   },
   "outputs": [
    {
     "data": {
      "text/html": [
       "<div>\n",
       "<style scoped>\n",
       "    .dataframe tbody tr th:only-of-type {\n",
       "        vertical-align: middle;\n",
       "    }\n",
       "\n",
       "    .dataframe tbody tr th {\n",
       "        vertical-align: top;\n",
       "    }\n",
       "\n",
       "    .dataframe thead th {\n",
       "        text-align: right;\n",
       "    }\n",
       "</style>\n",
       "<table border=\"1\" class=\"dataframe\">\n",
       "  <thead>\n",
       "    <tr style=\"text-align: right;\">\n",
       "      <th></th>\n",
       "      <th>acct</th>\n",
       "      <th>bld_num</th>\n",
       "      <th>code</th>\n",
       "      <th>adj</th>\n",
       "      <th>type</th>\n",
       "      <th>type_dscr</th>\n",
       "      <th>category_dscr</th>\n",
       "      <th>dor_cd</th>\n",
       "    </tr>\n",
       "  </thead>\n",
       "  <tbody>\n",
       "    <tr>\n",
       "      <th>0</th>\n",
       "      <td>975030000036</td>\n",
       "      <td>1</td>\n",
       "      <td>92</td>\n",
       "      <td>1.35</td>\n",
       "      <td>CAD</td>\n",
       "      <td>Cost and Design</td>\n",
       "      <td>Extensive</td>\n",
       "      <td>A1</td>\n",
       "    </tr>\n",
       "    <tr>\n",
       "      <th>1</th>\n",
       "      <td>982110000009</td>\n",
       "      <td>1</td>\n",
       "      <td>4</td>\n",
       "      <td>NaN</td>\n",
       "      <td>PCR</td>\n",
       "      <td>Physical Condition</td>\n",
       "      <td>Average</td>\n",
       "      <td>A1</td>\n",
       "    </tr>\n",
       "    <tr>\n",
       "      <th>2</th>\n",
       "      <td>924620000001</td>\n",
       "      <td>1</td>\n",
       "      <td>91</td>\n",
       "      <td>1.50</td>\n",
       "      <td>CAD</td>\n",
       "      <td>Cost and Design</td>\n",
       "      <td>Partial</td>\n",
       "      <td>A1</td>\n",
       "    </tr>\n",
       "    <tr>\n",
       "      <th>3</th>\n",
       "      <td>924620000001</td>\n",
       "      <td>1</td>\n",
       "      <td>4</td>\n",
       "      <td>NaN</td>\n",
       "      <td>PCR</td>\n",
       "      <td>Physical Condition</td>\n",
       "      <td>Average</td>\n",
       "      <td>A1</td>\n",
       "    </tr>\n",
       "    <tr>\n",
       "      <th>4</th>\n",
       "      <td>924620000001</td>\n",
       "      <td>1</td>\n",
       "      <td>1</td>\n",
       "      <td>0.00</td>\n",
       "      <td>FND</td>\n",
       "      <td>Foundation Type</td>\n",
       "      <td>Slab</td>\n",
       "      <td>A1</td>\n",
       "    </tr>\n",
       "  </tbody>\n",
       "</table>\n",
       "</div>"
      ],
      "text/plain": [
       "           acct  bld_num  code   adj  type           type_dscr category_dscr  \\\n",
       "0  975030000036        1    92  1.35  CAD      Cost and Design     Extensive   \n",
       "1  982110000009        1     4   NaN  PCR   Physical Condition       Average   \n",
       "2  924620000001        1    91  1.50  CAD      Cost and Design       Partial   \n",
       "3  924620000001        1     4   NaN  PCR   Physical Condition       Average   \n",
       "4  924620000001        1     1  0.00  FND      Foundation Type          Slab   \n",
       "\n",
       "  dor_cd  \n",
       "0   A1    \n",
       "1   A1    \n",
       "2   A1    \n",
       "3   A1    \n",
       "4   A1    "
      ]
     },
     "execution_count": 7,
     "metadata": {},
     "output_type": "execute_result"
    }
   ],
   "source": [
    "structural_elem1_df.head()"
   ]
  },
  {
   "cell_type": "markdown",
   "metadata": {
    "papermill": {
     "duration": 0.023066,
     "end_time": "2020-07-28T11:17:17.082080",
     "exception": false,
     "start_time": "2020-07-28T11:17:17.059014",
     "status": "completed"
    },
    "tags": []
   },
   "source": [
    "# Grab slice of the structural_elem1 variables of interest\n",
    "Let's look at the number of `type_dscr` present in the data using value counts."
   ]
  },
  {
   "cell_type": "code",
   "execution_count": 8,
   "metadata": {
    "ExecuteTime": {
     "end_time": "2020-07-28T10:58:16.056940Z",
     "start_time": "2020-07-28T10:58:15.589509Z"
    },
    "execution": {
     "iopub.execute_input": "2020-07-28T11:17:17.133113Z",
     "iopub.status.busy": "2020-07-28T11:17:17.132599Z",
     "iopub.status.idle": "2020-07-28T11:17:17.577066Z",
     "shell.execute_reply": "2020-07-28T11:17:17.576549Z"
    },
    "papermill": {
     "duration": 0.472021,
     "end_time": "2020-07-28T11:17:17.577185",
     "exception": false,
     "start_time": "2020-07-28T11:17:17.105164",
     "status": "completed"
    },
    "tags": []
   },
   "outputs": [
    {
     "data": {
      "text/plain": [
       "Exterior Wall            1359393.000000\n",
       "Foundation Type           960758.000000\n",
       "Physical Condition        960678.000000\n",
       "Heating / AC              960674.000000\n",
       "Grade Adjustment          960673.000000\n",
       "Cond / Desir / Util       960672.000000\n",
       "Cost and Design           152419.000000\n",
       "Economic Obsolescence          7.000000\n",
       "Plumbing Type                  5.000000\n",
       "Heating Type                   5.000000\n",
       "Functional Utility             5.000000\n",
       "Construction Type              5.000000\n",
       "Cooling Type                   5.000000\n",
       "Sprinkler Type                 5.000000\n",
       "Partition Type                 5.000000\n",
       "Name: type_dscr, dtype: object"
      ]
     },
     "execution_count": 8,
     "metadata": {},
     "output_type": "execute_result"
    }
   ],
   "source": [
    "structural_elem1_df.type_dscr.value_counts().apply(lambda x: format(x, 'f'))"
   ]
  },
  {
   "cell_type": "markdown",
   "metadata": {
    "papermill": {
     "duration": 0.023661,
     "end_time": "2020-07-28T11:17:17.624686",
     "exception": false,
     "start_time": "2020-07-28T11:17:17.601025",
     "status": "completed"
    },
    "tags": []
   },
   "source": [
    "The vast majority of type descriptions are represented in the first seven entries above. Let's grab those before building the pivot table."
   ]
  },
  {
   "cell_type": "code",
   "execution_count": 9,
   "metadata": {
    "ExecuteTime": {
     "end_time": "2020-07-28T10:58:16.544605Z",
     "start_time": "2020-07-28T10:58:16.060139Z"
    },
    "execution": {
     "iopub.execute_input": "2020-07-28T11:17:17.678783Z",
     "iopub.status.busy": "2020-07-28T11:17:17.678019Z",
     "iopub.status.idle": "2020-07-28T11:17:18.110953Z",
     "shell.execute_reply": "2020-07-28T11:17:18.110412Z"
    },
    "papermill": {
     "duration": 0.46063,
     "end_time": "2020-07-28T11:17:18.111076",
     "exception": false,
     "start_time": "2020-07-28T11:17:17.650446",
     "status": "completed"
    },
    "tags": []
   },
   "outputs": [],
   "source": [
    "cols = structural_elem1_df.type_dscr.value_counts().head(7).index"
   ]
  },
  {
   "cell_type": "code",
   "execution_count": 10,
   "metadata": {
    "ExecuteTime": {
     "end_time": "2020-07-28T10:58:17.040080Z",
     "start_time": "2020-07-28T10:58:16.546117Z"
    },
    "execution": {
     "iopub.execute_input": "2020-07-28T11:17:18.162795Z",
     "iopub.status.busy": "2020-07-28T11:17:18.162260Z",
     "iopub.status.idle": "2020-07-28T11:17:18.609203Z",
     "shell.execute_reply": "2020-07-28T11:17:18.609612Z"
    },
    "papermill": {
     "duration": 0.475177,
     "end_time": "2020-07-28T11:17:18.609767",
     "exception": false,
     "start_time": "2020-07-28T11:17:18.134590",
     "status": "completed"
    },
    "tags": []
   },
   "outputs": [],
   "source": [
    "cond0 = structural_elem1_df['type_dscr'].isin(cols)\n",
    "structural_elem1_df = structural_elem1_df.loc[cond0, :]"
   ]
  },
  {
   "cell_type": "markdown",
   "metadata": {
    "papermill": {
     "duration": 0.682619,
     "end_time": "2020-07-28T11:17:19.341027",
     "exception": false,
     "start_time": "2020-07-28T11:17:18.658408",
     "status": "completed"
    },
    "tags": []
   },
   "source": [
    "# Build pivot table\n",
    "Let's look at one example from a random property account:"
   ]
  },
  {
   "cell_type": "code",
   "execution_count": 11,
   "metadata": {
    "ExecuteTime": {
     "end_time": "2020-07-28T10:58:17.082402Z",
     "start_time": "2020-07-28T10:58:17.041826Z"
    },
    "execution": {
     "iopub.execute_input": "2020-07-28T11:17:19.690243Z",
     "iopub.status.busy": "2020-07-28T11:17:19.689422Z",
     "iopub.status.idle": "2020-07-28T11:17:19.715520Z",
     "shell.execute_reply": "2020-07-28T11:17:19.715931Z"
    },
    "papermill": {
     "duration": 0.080076,
     "end_time": "2020-07-28T11:17:19.716082",
     "exception": false,
     "start_time": "2020-07-28T11:17:19.636006",
     "status": "completed"
    },
    "tags": []
   },
   "outputs": [
    {
     "data": {
      "text/html": [
       "<div>\n",
       "<style scoped>\n",
       "    .dataframe tbody tr th:only-of-type {\n",
       "        vertical-align: middle;\n",
       "    }\n",
       "\n",
       "    .dataframe tbody tr th {\n",
       "        vertical-align: top;\n",
       "    }\n",
       "\n",
       "    .dataframe thead th {\n",
       "        text-align: right;\n",
       "    }\n",
       "</style>\n",
       "<table border=\"1\" class=\"dataframe\">\n",
       "  <thead>\n",
       "    <tr style=\"text-align: right;\">\n",
       "      <th></th>\n",
       "      <th>acct</th>\n",
       "      <th>bld_num</th>\n",
       "      <th>code</th>\n",
       "      <th>adj</th>\n",
       "      <th>type</th>\n",
       "      <th>type_dscr</th>\n",
       "      <th>category_dscr</th>\n",
       "      <th>dor_cd</th>\n",
       "    </tr>\n",
       "  </thead>\n",
       "  <tbody>\n",
       "    <tr>\n",
       "      <th>2960688</th>\n",
       "      <td>1347180010021</td>\n",
       "      <td>1</td>\n",
       "      <td>1</td>\n",
       "      <td>30.00</td>\n",
       "      <td>XWR</td>\n",
       "      <td>Exterior Wall</td>\n",
       "      <td>Frame / Concrete Blk</td>\n",
       "      <td>A1</td>\n",
       "    </tr>\n",
       "    <tr>\n",
       "      <th>2960690</th>\n",
       "      <td>1347180010021</td>\n",
       "      <td>1</td>\n",
       "      <td>1</td>\n",
       "      <td>0.00</td>\n",
       "      <td>FND</td>\n",
       "      <td>Foundation Type</td>\n",
       "      <td>Slab</td>\n",
       "      <td>A1</td>\n",
       "    </tr>\n",
       "    <tr>\n",
       "      <th>2961035</th>\n",
       "      <td>1347180010021</td>\n",
       "      <td>1</td>\n",
       "      <td>3</td>\n",
       "      <td>8.00</td>\n",
       "      <td>HAC</td>\n",
       "      <td>Heating / AC</td>\n",
       "      <td>Central Heat/AC</td>\n",
       "      <td>A1</td>\n",
       "    </tr>\n",
       "    <tr>\n",
       "      <th>2961405</th>\n",
       "      <td>1347180010021</td>\n",
       "      <td>1</td>\n",
       "      <td>4</td>\n",
       "      <td>0.99</td>\n",
       "      <td>CDU</td>\n",
       "      <td>Cond / Desir / Util</td>\n",
       "      <td>Average</td>\n",
       "      <td>A1</td>\n",
       "    </tr>\n",
       "    <tr>\n",
       "      <th>2961464</th>\n",
       "      <td>1347180010021</td>\n",
       "      <td>1</td>\n",
       "      <td>6</td>\n",
       "      <td>77.70</td>\n",
       "      <td>XWR</td>\n",
       "      <td>Exterior Wall</td>\n",
       "      <td>Brick / Veneer</td>\n",
       "      <td>A1</td>\n",
       "    </tr>\n",
       "    <tr>\n",
       "      <th>2961465</th>\n",
       "      <td>1347180010021</td>\n",
       "      <td>1</td>\n",
       "      <td>9</td>\n",
       "      <td>1.17</td>\n",
       "      <td>GRD</td>\n",
       "      <td>Grade Adjustment</td>\n",
       "      <td>B-</td>\n",
       "      <td>A1</td>\n",
       "    </tr>\n",
       "    <tr>\n",
       "      <th>2961744</th>\n",
       "      <td>1347180010021</td>\n",
       "      <td>1</td>\n",
       "      <td>4</td>\n",
       "      <td>NaN</td>\n",
       "      <td>PCR</td>\n",
       "      <td>Physical Condition</td>\n",
       "      <td>Average</td>\n",
       "      <td>A1</td>\n",
       "    </tr>\n",
       "  </tbody>\n",
       "</table>\n",
       "</div>"
      ],
      "text/plain": [
       "                  acct  bld_num  code    adj  type            type_dscr  \\\n",
       "2960688  1347180010021        1     1  30.00  XWR         Exterior Wall   \n",
       "2960690  1347180010021        1     1   0.00  FND       Foundation Type   \n",
       "2961035  1347180010021        1     3   8.00  HAC          Heating / AC   \n",
       "2961405  1347180010021        1     4   0.99  CDU   Cond / Desir / Util   \n",
       "2961464  1347180010021        1     6  77.70  XWR         Exterior Wall   \n",
       "2961465  1347180010021        1     9   1.17  GRD      Grade Adjustment   \n",
       "2961744  1347180010021        1     4    NaN  PCR    Physical Condition   \n",
       "\n",
       "                category_dscr dor_cd  \n",
       "2960688  Frame / Concrete Blk   A1    \n",
       "2960690                  Slab   A1    \n",
       "2961035       Central Heat/AC   A1    \n",
       "2961405               Average   A1    \n",
       "2961464        Brick / Veneer   A1    \n",
       "2961465                    B-   A1    \n",
       "2961744               Average   A1    "
      ]
     },
     "execution_count": 11,
     "metadata": {},
     "output_type": "execute_result"
    }
   ],
   "source": [
    "structural_elem1_df[structural_elem1_df['acct'] == 1347180010021]"
   ]
  },
  {
   "cell_type": "markdown",
   "metadata": {
    "papermill": {
     "duration": 0.02418,
     "end_time": "2020-07-28T11:17:19.764585",
     "exception": false,
     "start_time": "2020-07-28T11:17:19.740405",
     "status": "completed"
    },
    "tags": []
   },
   "source": [
    "We would like to build a pivot table using the `type_dscr` entries as columns and the `category_dscr` as values. However, note that the `type_dscr` is not unique for each account number (`acct`). In the example above, the `type_dscr` Exterior Wall is found twice for the same property account. Let's select the first occurrence of each `type_dscr` for the moment. If it turns out that any of these variables is highly correlated to the property's appraised value we might have to use a different approach, i.e. account for all descriptions by relabeling the repeated entries."
   ]
  },
  {
   "cell_type": "code",
   "execution_count": 12,
   "metadata": {
    "ExecuteTime": {
     "end_time": "2020-07-28T10:58:23.435033Z",
     "start_time": "2020-07-28T10:58:17.085221Z"
    },
    "execution": {
     "iopub.execute_input": "2020-07-28T11:17:19.818789Z",
     "iopub.status.busy": "2020-07-28T11:17:19.818245Z",
     "iopub.status.idle": "2020-07-28T11:17:26.129930Z",
     "shell.execute_reply": "2020-07-28T11:17:26.129419Z"
    },
    "papermill": {
     "duration": 6.340478,
     "end_time": "2020-07-28T11:17:26.130048",
     "exception": false,
     "start_time": "2020-07-28T11:17:19.789570",
     "status": "completed"
    },
    "tags": []
   },
   "outputs": [],
   "source": [
    "structural_elem1_pivot = structural_elem1_df.pivot_table(index='acct',\n",
    "                                                         columns='type_dscr',\n",
    "                                                         values='category_dscr',\n",
    "                                                         aggfunc='first')"
   ]
  },
  {
   "cell_type": "code",
   "execution_count": 13,
   "metadata": {
    "ExecuteTime": {
     "end_time": "2020-07-28T10:58:23.457253Z",
     "start_time": "2020-07-28T10:58:23.436637Z"
    },
    "execution": {
     "iopub.execute_input": "2020-07-28T11:17:26.183352Z",
     "iopub.status.busy": "2020-07-28T11:17:26.182663Z",
     "iopub.status.idle": "2020-07-28T11:17:26.199271Z",
     "shell.execute_reply": "2020-07-28T11:17:26.199680Z"
    },
    "papermill": {
     "duration": 0.045701,
     "end_time": "2020-07-28T11:17:26.199829",
     "exception": false,
     "start_time": "2020-07-28T11:17:26.154128",
     "status": "completed"
    },
    "tags": []
   },
   "outputs": [],
   "source": [
    "structural_elem1_pivot.reset_index(inplace=True)"
   ]
  },
  {
   "cell_type": "code",
   "execution_count": 14,
   "metadata": {
    "ExecuteTime": {
     "end_time": "2020-07-28T10:58:23.498344Z",
     "start_time": "2020-07-28T10:58:23.459844Z"
    },
    "execution": {
     "iopub.execute_input": "2020-07-28T11:17:26.253898Z",
     "iopub.status.busy": "2020-07-28T11:17:26.253034Z",
     "iopub.status.idle": "2020-07-28T11:17:26.278730Z",
     "shell.execute_reply": "2020-07-28T11:17:26.278139Z"
    },
    "papermill": {
     "duration": 0.053717,
     "end_time": "2020-07-28T11:17:26.278893",
     "exception": false,
     "start_time": "2020-07-28T11:17:26.225176",
     "status": "completed"
    },
    "tags": []
   },
   "outputs": [
    {
     "data": {
      "text/html": [
       "<div>\n",
       "<style scoped>\n",
       "    .dataframe tbody tr th:only-of-type {\n",
       "        vertical-align: middle;\n",
       "    }\n",
       "\n",
       "    .dataframe tbody tr th {\n",
       "        vertical-align: top;\n",
       "    }\n",
       "\n",
       "    .dataframe thead th {\n",
       "        text-align: right;\n",
       "    }\n",
       "</style>\n",
       "<table border=\"1\" class=\"dataframe\">\n",
       "  <thead>\n",
       "    <tr style=\"text-align: right;\">\n",
       "      <th>type_dscr</th>\n",
       "      <th>acct</th>\n",
       "      <th>Cond / Desir / Util</th>\n",
       "      <th>Cost and Design</th>\n",
       "      <th>Exterior Wall</th>\n",
       "      <th>Foundation Type</th>\n",
       "      <th>Grade Adjustment</th>\n",
       "      <th>Heating / AC</th>\n",
       "      <th>Physical Condition</th>\n",
       "    </tr>\n",
       "  </thead>\n",
       "  <tbody>\n",
       "    <tr>\n",
       "      <th>0</th>\n",
       "      <td>21440000001</td>\n",
       "      <td>Fair</td>\n",
       "      <td>New / Rebuilt</td>\n",
       "      <td>Stucco</td>\n",
       "      <td>Slab</td>\n",
       "      <td>B-</td>\n",
       "      <td>Central Heat/AC</td>\n",
       "      <td>Average</td>\n",
       "    </tr>\n",
       "    <tr>\n",
       "      <th>1</th>\n",
       "      <td>21470000008</td>\n",
       "      <td>Unsound</td>\n",
       "      <td>Econ Misimprovement</td>\n",
       "      <td>Frame / Concrete Blk</td>\n",
       "      <td>Slab</td>\n",
       "      <td>D-</td>\n",
       "      <td>None</td>\n",
       "      <td>Unsound</td>\n",
       "    </tr>\n",
       "    <tr>\n",
       "      <th>2</th>\n",
       "      <td>21480000002</td>\n",
       "      <td>Poor</td>\n",
       "      <td>Econ Misimprovement</td>\n",
       "      <td>Frame / Concrete Blk</td>\n",
       "      <td>Crawl Space</td>\n",
       "      <td>D</td>\n",
       "      <td>None</td>\n",
       "      <td>Poor</td>\n",
       "    </tr>\n",
       "    <tr>\n",
       "      <th>3</th>\n",
       "      <td>21650000007</td>\n",
       "      <td>Average</td>\n",
       "      <td>New / Rebuilt</td>\n",
       "      <td>Stucco</td>\n",
       "      <td>Slab</td>\n",
       "      <td>B+</td>\n",
       "      <td>Central Heat/AC</td>\n",
       "      <td>Average</td>\n",
       "    </tr>\n",
       "    <tr>\n",
       "      <th>4</th>\n",
       "      <td>21650000011</td>\n",
       "      <td>Fair</td>\n",
       "      <td>New / Rebuilt</td>\n",
       "      <td>Frame / Concrete Blk</td>\n",
       "      <td>Slab</td>\n",
       "      <td>C</td>\n",
       "      <td>Central Heat/AC</td>\n",
       "      <td>Average</td>\n",
       "    </tr>\n",
       "    <tr>\n",
       "      <th>5</th>\n",
       "      <td>21660000011</td>\n",
       "      <td>Fair</td>\n",
       "      <td>Econ Misimprovement</td>\n",
       "      <td>Asbestos</td>\n",
       "      <td>Crawl Space</td>\n",
       "      <td>D</td>\n",
       "      <td>Central Heat/AC</td>\n",
       "      <td>Fair</td>\n",
       "    </tr>\n",
       "    <tr>\n",
       "      <th>6</th>\n",
       "      <td>21660000012</td>\n",
       "      <td>Average</td>\n",
       "      <td>NaN</td>\n",
       "      <td>Frame / Concrete Blk</td>\n",
       "      <td>Slab</td>\n",
       "      <td>B</td>\n",
       "      <td>Central Heat/AC</td>\n",
       "      <td>Average</td>\n",
       "    </tr>\n",
       "    <tr>\n",
       "      <th>7</th>\n",
       "      <td>21700000013</td>\n",
       "      <td>Average</td>\n",
       "      <td>Partial</td>\n",
       "      <td>Stucco</td>\n",
       "      <td>Crawl Space</td>\n",
       "      <td>D+</td>\n",
       "      <td>None</td>\n",
       "      <td>Average</td>\n",
       "    </tr>\n",
       "    <tr>\n",
       "      <th>8</th>\n",
       "      <td>21750000003</td>\n",
       "      <td>Average</td>\n",
       "      <td>NaN</td>\n",
       "      <td>Brick / Veneer</td>\n",
       "      <td>Slab</td>\n",
       "      <td>B+</td>\n",
       "      <td>Central Heat/AC</td>\n",
       "      <td>Average</td>\n",
       "    </tr>\n",
       "    <tr>\n",
       "      <th>9</th>\n",
       "      <td>21750000013</td>\n",
       "      <td>Fair</td>\n",
       "      <td>Extensive</td>\n",
       "      <td>Frame / Concrete Blk</td>\n",
       "      <td>Crawl Space</td>\n",
       "      <td>B</td>\n",
       "      <td>Central Heat/AC</td>\n",
       "      <td>Average</td>\n",
       "    </tr>\n",
       "    <tr>\n",
       "      <th>10</th>\n",
       "      <td>21750000018</td>\n",
       "      <td>Average</td>\n",
       "      <td>NaN</td>\n",
       "      <td>Brick / Veneer</td>\n",
       "      <td>Slab</td>\n",
       "      <td>B+</td>\n",
       "      <td>Central Heat/AC</td>\n",
       "      <td>Average</td>\n",
       "    </tr>\n",
       "    <tr>\n",
       "      <th>11</th>\n",
       "      <td>21750000019</td>\n",
       "      <td>Average</td>\n",
       "      <td>NaN</td>\n",
       "      <td>Brick / Veneer</td>\n",
       "      <td>Slab</td>\n",
       "      <td>B+</td>\n",
       "      <td>Central Heat/AC</td>\n",
       "      <td>Average</td>\n",
       "    </tr>\n",
       "    <tr>\n",
       "      <th>12</th>\n",
       "      <td>21960000001</td>\n",
       "      <td>Good</td>\n",
       "      <td>Total</td>\n",
       "      <td>Aluminum / Vinyl</td>\n",
       "      <td>Slab</td>\n",
       "      <td>D-</td>\n",
       "      <td>Central Heat/AC</td>\n",
       "      <td>Excellent</td>\n",
       "    </tr>\n",
       "    <tr>\n",
       "      <th>13</th>\n",
       "      <td>21980000011</td>\n",
       "      <td>Very Poor</td>\n",
       "      <td>NaN</td>\n",
       "      <td>Frame / Concrete Blk</td>\n",
       "      <td>Crawl Space</td>\n",
       "      <td>D-</td>\n",
       "      <td>None</td>\n",
       "      <td>Very Poor</td>\n",
       "    </tr>\n",
       "    <tr>\n",
       "      <th>14</th>\n",
       "      <td>22070000001</td>\n",
       "      <td>Average</td>\n",
       "      <td>NaN</td>\n",
       "      <td>Frame / Concrete Blk</td>\n",
       "      <td>Crawl Space</td>\n",
       "      <td>D</td>\n",
       "      <td>None</td>\n",
       "      <td>Average</td>\n",
       "    </tr>\n",
       "    <tr>\n",
       "      <th>15</th>\n",
       "      <td>22070000002</td>\n",
       "      <td>Average</td>\n",
       "      <td>New / Rebuilt</td>\n",
       "      <td>Frame / Concrete Blk</td>\n",
       "      <td>Slab</td>\n",
       "      <td>B</td>\n",
       "      <td>Central Heat/AC</td>\n",
       "      <td>Average</td>\n",
       "    </tr>\n",
       "    <tr>\n",
       "      <th>16</th>\n",
       "      <td>22070000006</td>\n",
       "      <td>Fair</td>\n",
       "      <td>NaN</td>\n",
       "      <td>Asbestos</td>\n",
       "      <td>Crawl Space</td>\n",
       "      <td>D-</td>\n",
       "      <td>None</td>\n",
       "      <td>Fair</td>\n",
       "    </tr>\n",
       "    <tr>\n",
       "      <th>17</th>\n",
       "      <td>22070000007</td>\n",
       "      <td>Fair</td>\n",
       "      <td>NaN</td>\n",
       "      <td>Frame / Concrete Blk</td>\n",
       "      <td>Crawl Space</td>\n",
       "      <td>D+</td>\n",
       "      <td>None</td>\n",
       "      <td>Fair</td>\n",
       "    </tr>\n",
       "    <tr>\n",
       "      <th>18</th>\n",
       "      <td>22080000002</td>\n",
       "      <td>Average</td>\n",
       "      <td>NaN</td>\n",
       "      <td>Frame / Concrete Blk</td>\n",
       "      <td>Slab</td>\n",
       "      <td>C-</td>\n",
       "      <td>Central Heat/AC</td>\n",
       "      <td>Average</td>\n",
       "    </tr>\n",
       "    <tr>\n",
       "      <th>19</th>\n",
       "      <td>22080000008</td>\n",
       "      <td>Average</td>\n",
       "      <td>NaN</td>\n",
       "      <td>Aluminum / Vinyl</td>\n",
       "      <td>Crawl Space</td>\n",
       "      <td>D</td>\n",
       "      <td>None</td>\n",
       "      <td>Average</td>\n",
       "    </tr>\n",
       "  </tbody>\n",
       "</table>\n",
       "</div>"
      ],
      "text/plain": [
       "type_dscr         acct Cond / Desir / Util      Cost and Design  \\\n",
       "0          21440000001                Fair        New / Rebuilt   \n",
       "1          21470000008             Unsound  Econ Misimprovement   \n",
       "2          21480000002                Poor  Econ Misimprovement   \n",
       "3          21650000007             Average        New / Rebuilt   \n",
       "4          21650000011                Fair        New / Rebuilt   \n",
       "5          21660000011                Fair  Econ Misimprovement   \n",
       "6          21660000012             Average                  NaN   \n",
       "7          21700000013             Average              Partial   \n",
       "8          21750000003             Average                  NaN   \n",
       "9          21750000013                Fair            Extensive   \n",
       "10         21750000018             Average                  NaN   \n",
       "11         21750000019             Average                  NaN   \n",
       "12         21960000001                Good                Total   \n",
       "13         21980000011           Very Poor                  NaN   \n",
       "14         22070000001             Average                  NaN   \n",
       "15         22070000002             Average        New / Rebuilt   \n",
       "16         22070000006                Fair                  NaN   \n",
       "17         22070000007                Fair                  NaN   \n",
       "18         22080000002             Average                  NaN   \n",
       "19         22080000008             Average                  NaN   \n",
       "\n",
       "type_dscr         Exterior Wall Foundation Type Grade Adjustment  \\\n",
       "0                        Stucco            Slab               B-   \n",
       "1          Frame / Concrete Blk            Slab               D-   \n",
       "2          Frame / Concrete Blk     Crawl Space                D   \n",
       "3                        Stucco            Slab               B+   \n",
       "4          Frame / Concrete Blk            Slab                C   \n",
       "5                      Asbestos     Crawl Space                D   \n",
       "6          Frame / Concrete Blk            Slab                B   \n",
       "7                        Stucco     Crawl Space               D+   \n",
       "8                Brick / Veneer            Slab               B+   \n",
       "9          Frame / Concrete Blk     Crawl Space                B   \n",
       "10               Brick / Veneer            Slab               B+   \n",
       "11               Brick / Veneer            Slab               B+   \n",
       "12             Aluminum / Vinyl            Slab               D-   \n",
       "13         Frame / Concrete Blk     Crawl Space               D-   \n",
       "14         Frame / Concrete Blk     Crawl Space                D   \n",
       "15         Frame / Concrete Blk            Slab                B   \n",
       "16                     Asbestos     Crawl Space               D-   \n",
       "17         Frame / Concrete Blk     Crawl Space               D+   \n",
       "18         Frame / Concrete Blk            Slab               C-   \n",
       "19             Aluminum / Vinyl     Crawl Space                D   \n",
       "\n",
       "type_dscr     Heating / AC Physical Condition  \n",
       "0          Central Heat/AC            Average  \n",
       "1                     None            Unsound  \n",
       "2                     None               Poor  \n",
       "3          Central Heat/AC            Average  \n",
       "4          Central Heat/AC            Average  \n",
       "5          Central Heat/AC               Fair  \n",
       "6          Central Heat/AC            Average  \n",
       "7                     None            Average  \n",
       "8          Central Heat/AC            Average  \n",
       "9          Central Heat/AC            Average  \n",
       "10         Central Heat/AC            Average  \n",
       "11         Central Heat/AC            Average  \n",
       "12         Central Heat/AC          Excellent  \n",
       "13                    None          Very Poor  \n",
       "14                    None            Average  \n",
       "15         Central Heat/AC            Average  \n",
       "16                    None               Fair  \n",
       "17                    None               Fair  \n",
       "18         Central Heat/AC            Average  \n",
       "19                    None            Average  "
      ]
     },
     "execution_count": 14,
     "metadata": {},
     "output_type": "execute_result"
    }
   ],
   "source": [
    "structural_elem1_pivot.head(20)"
   ]
  },
  {
   "cell_type": "code",
   "execution_count": 15,
   "metadata": {
    "ExecuteTime": {
     "end_time": "2020-07-28T10:58:23.665393Z",
     "start_time": "2020-07-28T10:58:23.500198Z"
    },
    "execution": {
     "iopub.execute_input": "2020-07-28T11:17:26.332984Z",
     "iopub.status.busy": "2020-07-28T11:17:26.332462Z",
     "iopub.status.idle": "2020-07-28T11:17:26.445153Z",
     "shell.execute_reply": "2020-07-28T11:17:26.445548Z"
    },
    "papermill": {
     "duration": 0.141864,
     "end_time": "2020-07-28T11:17:26.445696",
     "exception": false,
     "start_time": "2020-07-28T11:17:26.303832",
     "status": "completed"
    },
    "tags": []
   },
   "outputs": [],
   "source": [
    "assert structural_elem1_pivot['acct'].is_unique"
   ]
  },
  {
   "cell_type": "markdown",
   "metadata": {
    "papermill": {
     "duration": 0.024987,
     "end_time": "2020-07-28T11:17:26.496450",
     "exception": false,
     "start_time": "2020-07-28T11:17:26.471463",
     "status": "completed"
    },
    "tags": []
   },
   "source": [
    "# Fix column names\n",
    "We would like the column names to be all lower case, with no spaces nor non-alphanumeric characters."
   ]
  },
  {
   "cell_type": "code",
   "execution_count": 16,
   "metadata": {
    "ExecuteTime": {
     "end_time": "2020-07-28T10:58:23.679429Z",
     "start_time": "2020-07-28T10:58:23.667056Z"
    },
    "execution": {
     "iopub.execute_input": "2020-07-28T11:17:26.560536Z",
     "iopub.status.busy": "2020-07-28T11:17:26.554361Z",
     "iopub.status.idle": "2020-07-28T11:17:26.570277Z",
     "shell.execute_reply": "2020-07-28T11:17:26.570892Z"
    },
    "papermill": {
     "duration": 0.045611,
     "end_time": "2020-07-28T11:17:26.571067",
     "exception": false,
     "start_time": "2020-07-28T11:17:26.525456",
     "status": "completed"
    },
    "tags": []
   },
   "outputs": [],
   "source": [
    "from src.data.utils import fix_column_names"
   ]
  },
  {
   "cell_type": "code",
   "execution_count": 17,
   "metadata": {
    "ExecuteTime": {
     "end_time": "2020-07-28T10:58:23.695015Z",
     "start_time": "2020-07-28T10:58:23.681061Z"
    },
    "execution": {
     "iopub.execute_input": "2020-07-28T11:17:26.626699Z",
     "iopub.status.busy": "2020-07-28T11:17:26.625827Z",
     "iopub.status.idle": "2020-07-28T11:17:26.638016Z",
     "shell.execute_reply": "2020-07-28T11:17:26.638437Z"
    },
    "papermill": {
     "duration": 0.041611,
     "end_time": "2020-07-28T11:17:26.638631",
     "exception": false,
     "start_time": "2020-07-28T11:17:26.597020",
     "status": "completed"
    },
    "tags": []
   },
   "outputs": [
    {
     "data": {
      "text/plain": [
       "Index(['acct', 'Cond / Desir / Util', 'Cost and Design', 'Exterior Wall',\n",
       "       'Foundation Type', 'Grade Adjustment', 'Heating / AC',\n",
       "       'Physical Condition'],\n",
       "      dtype='object', name='type_dscr')"
      ]
     },
     "execution_count": 17,
     "metadata": {},
     "output_type": "execute_result"
    }
   ],
   "source": [
    "structural_elem1_pivot.columns"
   ]
  },
  {
   "cell_type": "code",
   "execution_count": 18,
   "metadata": {
    "ExecuteTime": {
     "end_time": "2020-07-28T10:58:23.711608Z",
     "start_time": "2020-07-28T10:58:23.697670Z"
    },
    "execution": {
     "iopub.execute_input": "2020-07-28T11:17:26.694278Z",
     "iopub.status.busy": "2020-07-28T11:17:26.693771Z",
     "iopub.status.idle": "2020-07-28T11:17:26.705273Z",
     "shell.execute_reply": "2020-07-28T11:17:26.704832Z"
    },
    "papermill": {
     "duration": 0.040267,
     "end_time": "2020-07-28T11:17:26.705393",
     "exception": false,
     "start_time": "2020-07-28T11:17:26.665126",
     "status": "completed"
    },
    "tags": []
   },
   "outputs": [],
   "source": [
    "structural_elem1_pivot = fix_column_names(structural_elem1_pivot)"
   ]
  },
  {
   "cell_type": "code",
   "execution_count": 19,
   "metadata": {
    "ExecuteTime": {
     "end_time": "2020-07-28T10:58:23.727937Z",
     "start_time": "2020-07-28T10:58:23.712905Z"
    },
    "execution": {
     "iopub.execute_input": "2020-07-28T11:17:26.762597Z",
     "iopub.status.busy": "2020-07-28T11:17:26.762053Z",
     "iopub.status.idle": "2020-07-28T11:17:26.774223Z",
     "shell.execute_reply": "2020-07-28T11:17:26.774645Z"
    },
    "papermill": {
     "duration": 0.042608,
     "end_time": "2020-07-28T11:17:26.774793",
     "exception": false,
     "start_time": "2020-07-28T11:17:26.732185",
     "status": "completed"
    },
    "tags": []
   },
   "outputs": [
    {
     "data": {
      "text/plain": [
       "Index(['acct', 'cond_desir_util', 'cost_and_design', 'exterior_wall',\n",
       "       'foundation_type', 'grade_adjustment', 'heating_ac',\n",
       "       'physical_condition'],\n",
       "      dtype='object')"
      ]
     },
     "execution_count": 19,
     "metadata": {},
     "output_type": "execute_result"
    }
   ],
   "source": [
    "structural_elem1_pivot.columns"
   ]
  },
  {
   "cell_type": "markdown",
   "metadata": {
    "papermill": {
     "duration": 0.027486,
     "end_time": "2020-07-28T11:17:26.830231",
     "exception": false,
     "start_time": "2020-07-28T11:17:26.802745",
     "status": "completed"
    },
    "tags": []
   },
   "source": [
    "### Find duplicated rows"
   ]
  },
  {
   "cell_type": "code",
   "execution_count": 20,
   "metadata": {
    "ExecuteTime": {
     "end_time": "2020-07-28T10:58:24.350696Z",
     "start_time": "2020-07-28T10:58:23.730097Z"
    },
    "execution": {
     "iopub.execute_input": "2020-07-28T11:17:26.890365Z",
     "iopub.status.busy": "2020-07-28T11:17:26.889358Z",
     "iopub.status.idle": "2020-07-28T11:17:27.476775Z",
     "shell.execute_reply": "2020-07-28T11:17:27.476302Z"
    },
    "papermill": {
     "duration": 0.618207,
     "end_time": "2020-07-28T11:17:27.476915",
     "exception": false,
     "start_time": "2020-07-28T11:17:26.858708",
     "status": "completed"
    },
    "tags": []
   },
   "outputs": [
    {
     "data": {
      "text/html": [
       "<div>\n",
       "<style scoped>\n",
       "    .dataframe tbody tr th:only-of-type {\n",
       "        vertical-align: middle;\n",
       "    }\n",
       "\n",
       "    .dataframe tbody tr th {\n",
       "        vertical-align: top;\n",
       "    }\n",
       "\n",
       "    .dataframe thead th {\n",
       "        text-align: right;\n",
       "    }\n",
       "</style>\n",
       "<table border=\"1\" class=\"dataframe\">\n",
       "  <thead>\n",
       "    <tr style=\"text-align: right;\">\n",
       "      <th></th>\n",
       "      <th>acct</th>\n",
       "      <th>cond_desir_util</th>\n",
       "      <th>cost_and_design</th>\n",
       "      <th>exterior_wall</th>\n",
       "      <th>foundation_type</th>\n",
       "      <th>grade_adjustment</th>\n",
       "      <th>heating_ac</th>\n",
       "      <th>physical_condition</th>\n",
       "    </tr>\n",
       "  </thead>\n",
       "  <tbody>\n",
       "  </tbody>\n",
       "</table>\n",
       "</div>"
      ],
      "text/plain": [
       "Empty DataFrame\n",
       "Columns: [acct, cond_desir_util, cost_and_design, exterior_wall, foundation_type, grade_adjustment, heating_ac, physical_condition]\n",
       "Index: []"
      ]
     },
     "execution_count": 20,
     "metadata": {},
     "output_type": "execute_result"
    }
   ],
   "source": [
    "cond0 = structural_elem1_pivot.duplicated()\n",
    "structural_elem1_pivot.loc[cond0, :]"
   ]
  },
  {
   "cell_type": "markdown",
   "metadata": {
    "papermill": {
     "duration": 0.026286,
     "end_time": "2020-07-28T11:17:27.529435",
     "exception": false,
     "start_time": "2020-07-28T11:17:27.503149",
     "status": "completed"
    },
    "tags": []
   },
   "source": [
    "# Describe and clean the columns\n",
    "\n",
    "Now we must describe each column by answering:\n",
    "\n",
    "* Meaning\n",
    "* Descriptive statistics or value counts\n",
    "* Data type\n",
    "\n",
    "There is no explicit document provided by HCAD explaining all the variables, but most are easy to guess for using their name."
   ]
  },
  {
   "cell_type": "markdown",
   "metadata": {
    "papermill": {
     "duration": 0.030577,
     "end_time": "2020-07-28T11:17:27.588572",
     "exception": false,
     "start_time": "2020-07-28T11:17:27.557995",
     "status": "completed"
    },
    "tags": []
   },
   "source": [
    "## Condition, desirability, utility:  cond_desir_util"
   ]
  },
  {
   "cell_type": "code",
   "execution_count": 21,
   "metadata": {
    "ExecuteTime": {
     "end_time": "2020-07-28T10:58:24.363490Z",
     "start_time": "2020-07-28T10:58:24.352585Z"
    },
    "execution": {
     "iopub.execute_input": "2020-07-28T11:17:27.645283Z",
     "iopub.status.busy": "2020-07-28T11:17:27.644782Z",
     "iopub.status.idle": "2020-07-28T11:17:27.655726Z",
     "shell.execute_reply": "2020-07-28T11:17:27.655098Z"
    },
    "papermill": {
     "duration": 0.040307,
     "end_time": "2020-07-28T11:17:27.655870",
     "exception": false,
     "start_time": "2020-07-28T11:17:27.615563",
     "status": "completed"
    },
    "tags": []
   },
   "outputs": [],
   "source": [
    "from src.data.utils import fix_category_col"
   ]
  },
  {
   "cell_type": "code",
   "execution_count": 22,
   "metadata": {
    "ExecuteTime": {
     "end_time": "2020-07-28T10:58:24.476468Z",
     "start_time": "2020-07-28T10:58:24.365308Z"
    },
    "execution": {
     "iopub.execute_input": "2020-07-28T11:17:27.713996Z",
     "iopub.status.busy": "2020-07-28T11:17:27.713487Z",
     "iopub.status.idle": "2020-07-28T11:17:27.795912Z",
     "shell.execute_reply": "2020-07-28T11:17:27.795392Z"
    },
    "papermill": {
     "duration": 0.113007,
     "end_time": "2020-07-28T11:17:27.796035",
     "exception": false,
     "start_time": "2020-07-28T11:17:27.683028",
     "status": "completed"
    },
    "tags": []
   },
   "outputs": [
    {
     "data": {
      "text/plain": [
       "Average      0.691479\n",
       "Good         0.140879\n",
       "Fair         0.093539\n",
       "Very Good    0.041426\n",
       "Poor         0.020080\n",
       "Very Poor    0.005784\n",
       "Excellent    0.005573\n",
       "Unsound      0.001242\n",
       "Name: cond_desir_util, dtype: float64"
      ]
     },
     "execution_count": 22,
     "metadata": {},
     "output_type": "execute_result"
    }
   ],
   "source": [
    "structural_elem1_pivot['cond_desir_util'].value_counts(normalize=True)"
   ]
  },
  {
   "cell_type": "code",
   "execution_count": 23,
   "metadata": {
    "ExecuteTime": {
     "end_time": "2020-07-28T10:58:24.695906Z",
     "start_time": "2020-07-28T10:58:24.481779Z"
    },
    "execution": {
     "iopub.execute_input": "2020-07-28T11:17:27.853677Z",
     "iopub.status.busy": "2020-07-28T11:17:27.853037Z",
     "iopub.status.idle": "2020-07-28T11:17:28.040954Z",
     "shell.execute_reply": "2020-07-28T11:17:28.040440Z"
    },
    "papermill": {
     "duration": 0.218563,
     "end_time": "2020-07-28T11:17:28.041073",
     "exception": false,
     "start_time": "2020-07-28T11:17:27.822510",
     "status": "completed"
    },
    "tags": []
   },
   "outputs": [
    {
     "name": "stdout",
     "output_type": "stream",
     "text": [
      "The new column type is: CategoricalDtype(categories=['Excellent', 'Very Good', 'Good', 'Average', 'Fair', 'Poor',\n",
      "                  'Very Poor', 'Unsound'],\n",
      "                 ordered=True)\n",
      "\n",
      "\n",
      "The number of missing values is: 0\n"
     ]
    }
   ],
   "source": [
    "order = ['Excellent', 'Very Good', 'Good', 'Average', 'Fair', 'Poor', 'Very Poor', 'Unsound']\n",
    "structural_elem1_pivot = fix_category_col(structural_elem1_pivot, 'cond_desir_util', order=order)"
   ]
  },
  {
   "cell_type": "markdown",
   "metadata": {
    "papermill": {
     "duration": 0.028065,
     "end_time": "2020-07-28T11:17:28.096413",
     "exception": false,
     "start_time": "2020-07-28T11:17:28.068348",
     "status": "completed"
    },
    "tags": []
   },
   "source": [
    "## cost_and_design"
   ]
  },
  {
   "cell_type": "code",
   "execution_count": 24,
   "metadata": {
    "ExecuteTime": {
     "end_time": "2020-07-28T10:58:24.778218Z",
     "start_time": "2020-07-28T10:58:24.698159Z"
    },
    "execution": {
     "iopub.execute_input": "2020-07-28T11:17:28.155883Z",
     "iopub.status.busy": "2020-07-28T11:17:28.155068Z",
     "iopub.status.idle": "2020-07-28T11:17:28.222841Z",
     "shell.execute_reply": "2020-07-28T11:17:28.223293Z"
    },
    "papermill": {
     "duration": 0.098753,
     "end_time": "2020-07-28T11:17:28.223440",
     "exception": false,
     "start_time": "2020-07-28T11:17:28.124687",
     "status": "completed"
    },
    "tags": []
   },
   "outputs": [
    {
     "data": {
      "text/plain": [
       "New / Rebuilt          0.421910\n",
       "Partial                0.258183\n",
       "Extensive              0.199087\n",
       "Total                  0.060870\n",
       "Econ Misimprovement    0.059740\n",
       "Condo Code 1           0.000158\n",
       "Condo Code 4           0.000053\n",
       "Name: cost_and_design, dtype: float64"
      ]
     },
     "execution_count": 24,
     "metadata": {},
     "output_type": "execute_result"
    }
   ],
   "source": [
    "structural_elem1_pivot['cost_and_design'].value_counts(normalize=True)"
   ]
  },
  {
   "cell_type": "code",
   "execution_count": 25,
   "metadata": {
    "ExecuteTime": {
     "end_time": "2020-07-28T10:58:25.025086Z",
     "start_time": "2020-07-28T10:58:24.780768Z"
    },
    "execution": {
     "iopub.execute_input": "2020-07-28T11:17:28.282254Z",
     "iopub.status.busy": "2020-07-28T11:17:28.281420Z",
     "iopub.status.idle": "2020-07-28T11:17:28.458473Z",
     "shell.execute_reply": "2020-07-28T11:17:28.457946Z"
    },
    "papermill": {
     "duration": 0.20784,
     "end_time": "2020-07-28T11:17:28.458597",
     "exception": false,
     "start_time": "2020-07-28T11:17:28.250757",
     "status": "completed"
    },
    "tags": []
   },
   "outputs": [
    {
     "name": "stdout",
     "output_type": "stream",
     "text": [
      "The new column type is: CategoricalDtype(categories=['Condo Code 1', 'Condo Code 4', 'Econ Misimprovement',\n",
      "                  'Extensive', 'New / Rebuilt', 'Partial', 'Total'],\n",
      "                 ordered=False)\n",
      "\n",
      "\n",
      "The number of missing values is: 805427\n"
     ]
    }
   ],
   "source": [
    "structural_elem1_pivot = fix_category_col(structural_elem1_pivot, 'cost_and_design')"
   ]
  },
  {
   "cell_type": "markdown",
   "metadata": {
    "papermill": {
     "duration": 0.027963,
     "end_time": "2020-07-28T11:17:28.514082",
     "exception": false,
     "start_time": "2020-07-28T11:17:28.486119",
     "status": "completed"
    },
    "tags": []
   },
   "source": [
    "## exterior_wall"
   ]
  },
  {
   "cell_type": "code",
   "execution_count": 26,
   "metadata": {
    "ExecuteTime": {
     "end_time": "2020-07-28T10:58:25.116218Z",
     "start_time": "2020-07-28T10:58:25.027329Z"
    },
    "execution": {
     "iopub.execute_input": "2020-07-28T11:17:28.578240Z",
     "iopub.status.busy": "2020-07-28T11:17:28.577687Z",
     "iopub.status.idle": "2020-07-28T11:17:28.657658Z",
     "shell.execute_reply": "2020-07-28T11:17:28.657138Z"
    },
    "papermill": {
     "duration": 0.115213,
     "end_time": "2020-07-28T11:17:28.657779",
     "exception": false,
     "start_time": "2020-07-28T11:17:28.542566",
     "status": "completed"
    },
    "tags": []
   },
   "outputs": [
    {
     "data": {
      "text/plain": [
       "Brick / Veneer          0.454953\n",
       "Frame / Concrete Blk    0.335775\n",
       "Brick / Masonry         0.089216\n",
       "Aluminum / Vinyl        0.040391\n",
       "Stucco                  0.029197\n",
       "Shake Shingle           0.020315\n",
       "Asbestos                0.019298\n",
       "Stone                   0.010854\n",
       "Metal, Light            0.000001\n",
       "Name: exterior_wall, dtype: float64"
      ]
     },
     "execution_count": 26,
     "metadata": {},
     "output_type": "execute_result"
    }
   ],
   "source": [
    "structural_elem1_pivot['exterior_wall'].value_counts(normalize=True)"
   ]
  },
  {
   "cell_type": "code",
   "execution_count": 27,
   "metadata": {
    "ExecuteTime": {
     "end_time": "2020-07-28T10:58:25.301966Z",
     "start_time": "2020-07-28T10:58:25.117938Z"
    },
    "execution": {
     "iopub.execute_input": "2020-07-28T11:17:28.717896Z",
     "iopub.status.busy": "2020-07-28T11:17:28.717375Z",
     "iopub.status.idle": "2020-07-28T11:17:28.910943Z",
     "shell.execute_reply": "2020-07-28T11:17:28.911345Z"
    },
    "papermill": {
     "duration": 0.225335,
     "end_time": "2020-07-28T11:17:28.911490",
     "exception": false,
     "start_time": "2020-07-28T11:17:28.686155",
     "status": "completed"
    },
    "tags": []
   },
   "outputs": [
    {
     "name": "stdout",
     "output_type": "stream",
     "text": [
      "The new column type is: CategoricalDtype(categories=['Aluminum / Vinyl', 'Asbestos', 'Brick / Masonry',\n",
      "                  'Brick / Veneer', 'Frame / Concrete Blk', 'Metal, Light',\n",
      "                  'Shake Shingle', 'Stone', 'Stucco'],\n",
      "                 ordered=False)\n",
      "\n",
      "\n",
      "The number of missing values is: 1\n"
     ]
    }
   ],
   "source": [
    "structural_elem1_pivot = fix_category_col(structural_elem1_pivot, 'exterior_wall')"
   ]
  },
  {
   "cell_type": "markdown",
   "metadata": {
    "papermill": {
     "duration": 0.028832,
     "end_time": "2020-07-28T11:17:28.969206",
     "exception": false,
     "start_time": "2020-07-28T11:17:28.940374",
     "status": "completed"
    },
    "tags": []
   },
   "source": [
    "## foundation_type"
   ]
  },
  {
   "cell_type": "code",
   "execution_count": 28,
   "metadata": {
    "ExecuteTime": {
     "end_time": "2020-07-28T10:58:25.395427Z",
     "start_time": "2020-07-28T10:58:25.304202Z"
    },
    "execution": {
     "iopub.execute_input": "2020-07-28T11:17:29.032086Z",
     "iopub.status.busy": "2020-07-28T11:17:29.031282Z",
     "iopub.status.idle": "2020-07-28T11:17:29.111523Z",
     "shell.execute_reply": "2020-07-28T11:17:29.112023Z"
    },
    "papermill": {
     "duration": 0.113274,
     "end_time": "2020-07-28T11:17:29.112172",
     "exception": false,
     "start_time": "2020-07-28T11:17:28.998898",
     "status": "completed"
    },
    "tags": []
   },
   "outputs": [
    {
     "data": {
      "text/plain": [
       "Slab                0.903941\n",
       "Crawl Space         0.094747\n",
       "Full Basement       0.000671\n",
       "Partial Basement    0.000640\n",
       "Name: foundation_type, dtype: float64"
      ]
     },
     "execution_count": 28,
     "metadata": {},
     "output_type": "execute_result"
    }
   ],
   "source": [
    "structural_elem1_pivot['foundation_type'].value_counts(normalize=True)"
   ]
  },
  {
   "cell_type": "code",
   "execution_count": 29,
   "metadata": {
    "ExecuteTime": {
     "end_time": "2020-07-28T10:58:25.594808Z",
     "start_time": "2020-07-28T10:58:25.398141Z"
    },
    "execution": {
     "iopub.execute_input": "2020-07-28T11:17:29.174684Z",
     "iopub.status.busy": "2020-07-28T11:17:29.174161Z",
     "iopub.status.idle": "2020-07-28T11:17:29.332489Z",
     "shell.execute_reply": "2020-07-28T11:17:29.331937Z"
    },
    "papermill": {
     "duration": 0.191928,
     "end_time": "2020-07-28T11:17:29.332611",
     "exception": false,
     "start_time": "2020-07-28T11:17:29.140683",
     "status": "completed"
    },
    "tags": []
   },
   "outputs": [
    {
     "name": "stdout",
     "output_type": "stream",
     "text": [
      "The new column type is: CategoricalDtype(categories=['Crawl Space', 'Full Basement', 'Partial Basement', 'Slab'], ordered=False)\n",
      "\n",
      "\n",
      "The number of missing values is: 0\n"
     ]
    }
   ],
   "source": [
    "structural_elem1_pivot = fix_category_col(structural_elem1_pivot, 'foundation_type')"
   ]
  },
  {
   "cell_type": "markdown",
   "metadata": {
    "papermill": {
     "duration": 0.030166,
     "end_time": "2020-07-28T11:17:29.391668",
     "exception": false,
     "start_time": "2020-07-28T11:17:29.361502",
     "status": "completed"
    },
    "tags": []
   },
   "source": [
    "## grade_adjustment"
   ]
  },
  {
   "cell_type": "code",
   "execution_count": 30,
   "metadata": {
    "ExecuteTime": {
     "end_time": "2020-07-28T10:58:25.690688Z",
     "start_time": "2020-07-28T10:58:25.597057Z"
    },
    "execution": {
     "iopub.execute_input": "2020-07-28T11:17:29.454887Z",
     "iopub.status.busy": "2020-07-28T11:17:29.454336Z",
     "iopub.status.idle": "2020-07-28T11:17:29.534420Z",
     "shell.execute_reply": "2020-07-28T11:17:29.534844Z"
    },
    "papermill": {
     "duration": 0.113453,
     "end_time": "2020-07-28T11:17:29.534989",
     "exception": false,
     "start_time": "2020-07-28T11:17:29.421536",
     "status": "completed"
    },
    "tags": []
   },
   "outputs": [
    {
     "data": {
      "text/plain": [
       "C     0.347695\n",
       "C+    0.206812\n",
       "B-    0.096476\n",
       "B     0.082970\n",
       "C-    0.072611\n",
       "B+    0.050488\n",
       "D     0.038663\n",
       "D+    0.027678\n",
       "A-    0.021622\n",
       "A     0.018225\n",
       "A+    0.014111\n",
       "D-    0.010865\n",
       "X-    0.005150\n",
       "X     0.002760\n",
       "E     0.001779\n",
       "E+    0.001236\n",
       "X+    0.000629\n",
       "E-    0.000230\n",
       "Name: grade_adjustment, dtype: float64"
      ]
     },
     "execution_count": 30,
     "metadata": {},
     "output_type": "execute_result"
    }
   ],
   "source": [
    "structural_elem1_pivot['grade_adjustment'].value_counts(normalize=True)"
   ]
  },
  {
   "cell_type": "code",
   "execution_count": 31,
   "metadata": {
    "ExecuteTime": {
     "end_time": "2020-07-28T10:58:25.714962Z",
     "start_time": "2020-07-28T10:58:25.692916Z"
    },
    "execution": {
     "iopub.execute_input": "2020-07-28T11:17:29.607134Z",
     "iopub.status.busy": "2020-07-28T11:17:29.606624Z",
     "iopub.status.idle": "2020-07-28T11:17:29.617944Z",
     "shell.execute_reply": "2020-07-28T11:17:29.618406Z"
    },
    "papermill": {
     "duration": 0.045288,
     "end_time": "2020-07-28T11:17:29.618600",
     "exception": false,
     "start_time": "2020-07-28T11:17:29.573312",
     "status": "completed"
    },
    "tags": []
   },
   "outputs": [],
   "source": [
    "letters = ['A', 'B', 'C', 'D', 'E', 'X']\n",
    "signs = ['+', '', '-']\n",
    "order = [letter + sign for letter in letters for sign in signs]"
   ]
  },
  {
   "cell_type": "code",
   "execution_count": 32,
   "metadata": {
    "ExecuteTime": {
     "end_time": "2020-07-28T10:58:25.915156Z",
     "start_time": "2020-07-28T10:58:25.717086Z"
    },
    "execution": {
     "iopub.execute_input": "2020-07-28T11:17:29.683248Z",
     "iopub.status.busy": "2020-07-28T11:17:29.682371Z",
     "iopub.status.idle": "2020-07-28T11:17:29.831561Z",
     "shell.execute_reply": "2020-07-28T11:17:29.831967Z"
    },
    "papermill": {
     "duration": 0.183517,
     "end_time": "2020-07-28T11:17:29.832111",
     "exception": false,
     "start_time": "2020-07-28T11:17:29.648594",
     "status": "completed"
    },
    "tags": []
   },
   "outputs": [
    {
     "name": "stdout",
     "output_type": "stream",
     "text": [
      "The new column type is: CategoricalDtype(categories=['A+', 'A', 'A-', 'B+', 'B', 'B-', 'C+', 'C', 'C-', 'D+', 'D',\n",
      "                  'D-', 'E+', 'E', 'E-', 'X+', 'X', 'X-'],\n",
      "                 ordered=True)\n",
      "\n",
      "\n",
      "The number of missing values is: 0\n"
     ]
    }
   ],
   "source": [
    "structural_elem1_pivot = fix_category_col(structural_elem1_pivot, 'grade_adjustment', order=order)"
   ]
  },
  {
   "cell_type": "markdown",
   "metadata": {
    "papermill": {
     "duration": 0.030281,
     "end_time": "2020-07-28T11:17:29.892710",
     "exception": false,
     "start_time": "2020-07-28T11:17:29.862429",
     "status": "completed"
    },
    "tags": []
   },
   "source": [
    "## heating_ac"
   ]
  },
  {
   "cell_type": "code",
   "execution_count": 33,
   "metadata": {
    "ExecuteTime": {
     "end_time": "2020-07-28T10:58:26.027027Z",
     "start_time": "2020-07-28T10:58:25.917665Z"
    },
    "execution": {
     "iopub.execute_input": "2020-07-28T11:17:29.958105Z",
     "iopub.status.busy": "2020-07-28T11:17:29.957599Z",
     "iopub.status.idle": "2020-07-28T11:17:30.037033Z",
     "shell.execute_reply": "2020-07-28T11:17:30.036571Z"
    },
    "papermill": {
     "duration": 0.113613,
     "end_time": "2020-07-28T11:17:30.037156",
     "exception": false,
     "start_time": "2020-07-28T11:17:29.923543",
     "status": "completed"
    },
    "tags": []
   },
   "outputs": [
    {
     "data": {
      "text/plain": [
       "Central Heat/AC    0.897520\n",
       "None               0.079934\n",
       "Central Heat       0.020852\n",
       "A/C Only           0.001694\n",
       "Name: heating_ac, dtype: float64"
      ]
     },
     "execution_count": 33,
     "metadata": {},
     "output_type": "execute_result"
    }
   ],
   "source": [
    "structural_elem1_pivot['heating_ac'].value_counts(normalize=True)"
   ]
  },
  {
   "cell_type": "markdown",
   "metadata": {
    "papermill": {
     "duration": 0.031211,
     "end_time": "2020-07-28T11:17:30.098718",
     "exception": false,
     "start_time": "2020-07-28T11:17:30.067507",
     "status": "completed"
    },
    "tags": []
   },
   "source": [
    "None here means there is no heating / AC unit in the property."
   ]
  },
  {
   "cell_type": "code",
   "execution_count": 34,
   "metadata": {
    "ExecuteTime": {
     "end_time": "2020-07-28T10:58:26.230808Z",
     "start_time": "2020-07-28T10:58:26.029008Z"
    },
    "execution": {
     "iopub.execute_input": "2020-07-28T11:17:30.163285Z",
     "iopub.status.busy": "2020-07-28T11:17:30.162735Z",
     "iopub.status.idle": "2020-07-28T11:17:30.322357Z",
     "shell.execute_reply": "2020-07-28T11:17:30.321907Z"
    },
    "papermill": {
     "duration": 0.192717,
     "end_time": "2020-07-28T11:17:30.322532",
     "exception": false,
     "start_time": "2020-07-28T11:17:30.129815",
     "status": "completed"
    },
    "tags": []
   },
   "outputs": [
    {
     "name": "stdout",
     "output_type": "stream",
     "text": [
      "The new column type is: CategoricalDtype(categories=['A/C Only', 'Central Heat', 'Central Heat/AC', 'None'], ordered=False)\n",
      "\n",
      "\n",
      "The number of missing values is: 1\n"
     ]
    }
   ],
   "source": [
    "structural_elem1_pivot = fix_category_col(structural_elem1_pivot, 'heating_ac')"
   ]
  },
  {
   "cell_type": "markdown",
   "metadata": {
    "papermill": {
     "duration": 0.03169,
     "end_time": "2020-07-28T11:17:30.384472",
     "exception": false,
     "start_time": "2020-07-28T11:17:30.352782",
     "status": "completed"
    },
    "tags": []
   },
   "source": [
    "## physical_condition"
   ]
  },
  {
   "cell_type": "code",
   "execution_count": 35,
   "metadata": {
    "ExecuteTime": {
     "end_time": "2020-07-28T10:58:26.347893Z",
     "start_time": "2020-07-28T10:58:26.233524Z"
    },
    "execution": {
     "iopub.execute_input": "2020-07-28T11:17:30.450532Z",
     "iopub.status.busy": "2020-07-28T11:17:30.449727Z",
     "iopub.status.idle": "2020-07-28T11:17:30.532149Z",
     "shell.execute_reply": "2020-07-28T11:17:30.532550Z"
    },
    "papermill": {
     "duration": 0.116853,
     "end_time": "2020-07-28T11:17:30.532694",
     "exception": false,
     "start_time": "2020-07-28T11:17:30.415841",
     "status": "completed"
    },
    "tags": []
   },
   "outputs": [
    {
     "data": {
      "text/plain": [
       "Average      0.831425\n",
       "Good         0.083252\n",
       "Fair         0.048958\n",
       "Very Good    0.016344\n",
       "Poor         0.011400\n",
       "Excellent    0.005601\n",
       "Very Poor    0.001984\n",
       "Unsound      0.001037\n",
       "Name: physical_condition, dtype: float64"
      ]
     },
     "execution_count": 35,
     "metadata": {},
     "output_type": "execute_result"
    }
   ],
   "source": [
    "structural_elem1_pivot['physical_condition'].value_counts(normalize=True)"
   ]
  },
  {
   "cell_type": "code",
   "execution_count": 36,
   "metadata": {
    "ExecuteTime": {
     "end_time": "2020-07-28T10:58:26.367062Z",
     "start_time": "2020-07-28T10:58:26.350972Z"
    },
    "execution": {
     "iopub.execute_input": "2020-07-28T11:17:30.605367Z",
     "iopub.status.busy": "2020-07-28T11:17:30.604556Z",
     "iopub.status.idle": "2020-07-28T11:17:30.616153Z",
     "shell.execute_reply": "2020-07-28T11:17:30.615715Z"
    },
    "papermill": {
     "duration": 0.047772,
     "end_time": "2020-07-28T11:17:30.616272",
     "exception": false,
     "start_time": "2020-07-28T11:17:30.568500",
     "status": "completed"
    },
    "tags": []
   },
   "outputs": [],
   "source": [
    "order = ['Excellent', 'Very Good', 'Good', 'Average', 'Fair', 'Poor', 'Very Poor', 'Unsound']"
   ]
  },
  {
   "cell_type": "code",
   "execution_count": 37,
   "metadata": {
    "ExecuteTime": {
     "end_time": "2020-07-28T10:58:26.586224Z",
     "start_time": "2020-07-28T10:58:26.369059Z"
    },
    "execution": {
     "iopub.execute_input": "2020-07-28T11:17:30.683744Z",
     "iopub.status.busy": "2020-07-28T11:17:30.683230Z",
     "iopub.status.idle": "2020-07-28T11:17:30.821695Z",
     "shell.execute_reply": "2020-07-28T11:17:30.822093Z"
    },
    "papermill": {
     "duration": 0.17403,
     "end_time": "2020-07-28T11:17:30.822237",
     "exception": false,
     "start_time": "2020-07-28T11:17:30.648207",
     "status": "completed"
    },
    "tags": []
   },
   "outputs": [
    {
     "name": "stdout",
     "output_type": "stream",
     "text": [
      "The new column type is: CategoricalDtype(categories=['Excellent', 'Very Good', 'Good', 'Average', 'Fair', 'Poor',\n",
      "                  'Very Poor', 'Unsound'],\n",
      "                 ordered=True)\n",
      "\n",
      "\n",
      "The number of missing values is: 0\n"
     ]
    }
   ],
   "source": [
    "structural_elem1_pivot = fix_category_col(structural_elem1_pivot, 'physical_condition', order=order)"
   ]
  },
  {
   "cell_type": "markdown",
   "metadata": {
    "papermill": {
     "duration": 0.034095,
     "end_time": "2020-07-28T11:17:30.888352",
     "exception": false,
     "start_time": "2020-07-28T11:17:30.854257",
     "status": "completed"
    },
    "tags": []
   },
   "source": [
    "# Export real_acct"
   ]
  },
  {
   "cell_type": "code",
   "execution_count": 38,
   "metadata": {
    "ExecuteTime": {
     "end_time": "2020-07-28T10:58:26.633820Z",
     "start_time": "2020-07-28T10:58:26.589119Z"
    },
    "execution": {
     "iopub.execute_input": "2020-07-28T11:17:30.957187Z",
     "iopub.status.busy": "2020-07-28T11:17:30.956676Z",
     "iopub.status.idle": "2020-07-28T11:17:30.982679Z",
     "shell.execute_reply": "2020-07-28T11:17:30.981472Z"
    },
    "papermill": {
     "duration": 0.061737,
     "end_time": "2020-07-28T11:17:30.982993",
     "exception": false,
     "start_time": "2020-07-28T11:17:30.921256",
     "status": "completed"
    },
    "tags": []
   },
   "outputs": [],
   "source": [
    "save_fn = ROOT_DIR / 'data/raw/2016/structural_elem1_comps.pickle'\n",
    "save_pickle(structural_elem1_pivot, save_fn)"
   ]
  }
 ],
 "metadata": {
  "kernelspec": {
   "display_name": "hcad_pred",
   "language": "python",
   "name": "hcad_pred"
  },
  "language_info": {
   "codemirror_mode": {
    "name": "ipython",
    "version": 3
   },
   "file_extension": ".py",
   "mimetype": "text/x-python",
   "name": "python",
   "nbconvert_exporter": "python",
   "pygments_lexer": "ipython3",
   "version": "3.7.6"
  },
  "papermill": {
   "duration": 28.641945,
   "end_time": "2020-07-28T11:17:31.431557",
   "environment_variables": {},
   "exception": null,
   "input_path": "/media/hdd/projects/springboard/hcad_pred/notebooks/01_Exploratory/1.5-rp-hcad-data-view-structural_elem1.ipynb",
   "output_path": "/media/hdd/projects/springboard/hcad_pred/notebooks/01_Exploratory/output/1.5-rp-hcad-data-view-structural_elem1_20200728.ipynb",
   "parameters": {},
   "start_time": "2020-07-28T11:17:02.789612",
   "version": "2.1.2"
  },
  "toc": {
   "base_numbering": 1,
   "nav_menu": {},
   "number_sections": true,
   "sideBar": true,
   "skip_h1_title": false,
   "title_cell": "Table of Contents",
   "title_sidebar": "Contents",
   "toc_cell": false,
   "toc_position": {},
   "toc_section_display": true,
   "toc_window_display": false
  }
 },
 "nbformat": 4,
 "nbformat_minor": 4
}