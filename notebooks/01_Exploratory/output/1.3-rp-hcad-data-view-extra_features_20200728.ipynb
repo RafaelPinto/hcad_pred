{
 "cells": [
  {
   "cell_type": "markdown",
   "metadata": {
    "papermill": {
     "duration": 0.035811,
     "end_time": "2020-07-28T11:16:40.128652",
     "exception": false,
     "start_time": "2020-07-28T11:16:40.092841",
     "status": "completed"
    },
    "tags": []
   },
   "source": [
    "# Find the comparables: extra_features.txt\n",
    "\n",
    "The file `extra_features.txt` contains important property information like number and quality of pools, detached garages, outbuildings, canopies, and more. Let's load this file and grab a subset with the important columns to continue our study."
   ]
  },
  {
   "cell_type": "code",
   "execution_count": 1,
   "metadata": {
    "ExecuteTime": {
     "end_time": "2020-07-28T11:04:15.487172Z",
     "start_time": "2020-07-28T11:04:15.451845Z"
    },
    "execution": {
     "iopub.execute_input": "2020-07-28T11:16:40.168685Z",
     "iopub.status.busy": "2020-07-28T11:16:40.167534Z",
     "iopub.status.idle": "2020-07-28T11:16:40.178749Z",
     "shell.execute_reply": "2020-07-28T11:16:40.178202Z"
    },
    "papermill": {
     "duration": 0.031962,
     "end_time": "2020-07-28T11:16:40.178904",
     "exception": false,
     "start_time": "2020-07-28T11:16:40.146942",
     "status": "completed"
    },
    "tags": []
   },
   "outputs": [],
   "source": [
    "%load_ext autoreload\n",
    "%autoreload 2"
   ]
  },
  {
   "cell_type": "code",
   "execution_count": 2,
   "metadata": {
    "ExecuteTime": {
     "end_time": "2020-07-28T11:04:15.910958Z",
     "start_time": "2020-07-28T11:04:15.489969Z"
    },
    "execution": {
     "iopub.execute_input": "2020-07-28T11:16:40.224498Z",
     "iopub.status.busy": "2020-07-28T11:16:40.223385Z",
     "iopub.status.idle": "2020-07-28T11:16:40.797272Z",
     "shell.execute_reply": "2020-07-28T11:16:40.796799Z"
    },
    "papermill": {
     "duration": 0.597656,
     "end_time": "2020-07-28T11:16:40.797398",
     "exception": false,
     "start_time": "2020-07-28T11:16:40.199742",
     "status": "completed"
    },
    "tags": []
   },
   "outputs": [],
   "source": [
    "from pathlib import Path\n",
    "import pickle\n",
    "\n",
    "import pandas as pd\n",
    "\n",
    "from src.definitions import ROOT_DIR\n",
    "from src.data.utils import Table, save_pickle"
   ]
  },
  {
   "cell_type": "code",
   "execution_count": 3,
   "metadata": {
    "ExecuteTime": {
     "end_time": "2020-07-28T11:04:15.928691Z",
     "start_time": "2020-07-28T11:04:15.913867Z"
    },
    "execution": {
     "iopub.execute_input": "2020-07-28T11:16:40.831435Z",
     "iopub.status.busy": "2020-07-28T11:16:40.830930Z",
     "iopub.status.idle": "2020-07-28T11:16:40.842390Z",
     "shell.execute_reply": "2020-07-28T11:16:40.841951Z"
    },
    "papermill": {
     "duration": 0.029889,
     "end_time": "2020-07-28T11:16:40.842539",
     "exception": false,
     "start_time": "2020-07-28T11:16:40.812650",
     "status": "completed"
    },
    "tags": []
   },
   "outputs": [],
   "source": [
    "extra_features_fn = ROOT_DIR / 'data/external/2016/Real_building_land/extra_features.txt'\n",
    "assert extra_features_fn.exists()"
   ]
  },
  {
   "cell_type": "code",
   "execution_count": 4,
   "metadata": {
    "ExecuteTime": {
     "end_time": "2020-07-28T11:04:15.946824Z",
     "start_time": "2020-07-28T11:04:15.931271Z"
    },
    "execution": {
     "iopub.execute_input": "2020-07-28T11:16:40.880137Z",
     "iopub.status.busy": "2020-07-28T11:16:40.879360Z",
     "iopub.status.idle": "2020-07-28T11:16:40.890730Z",
     "shell.execute_reply": "2020-07-28T11:16:40.891144Z"
    },
    "papermill": {
     "duration": 0.030893,
     "end_time": "2020-07-28T11:16:40.891294",
     "exception": false,
     "start_time": "2020-07-28T11:16:40.860401",
     "status": "completed"
    },
    "tags": []
   },
   "outputs": [],
   "source": [
    "extra_features = Table(extra_features_fn, '2016')"
   ]
  },
  {
   "cell_type": "code",
   "execution_count": 5,
   "metadata": {
    "ExecuteTime": {
     "end_time": "2020-07-28T11:04:15.984801Z",
     "start_time": "2020-07-28T11:04:15.948189Z"
    },
    "execution": {
     "iopub.execute_input": "2020-07-28T11:16:40.925720Z",
     "iopub.status.busy": "2020-07-28T11:16:40.924915Z",
     "iopub.status.idle": "2020-07-28T11:16:40.982085Z",
     "shell.execute_reply": "2020-07-28T11:16:40.982999Z"
    },
    "papermill": {
     "duration": 0.076977,
     "end_time": "2020-07-28T11:16:40.983301",
     "exception": false,
     "start_time": "2020-07-28T11:16:40.906324",
     "status": "completed"
    },
    "tags": []
   },
   "outputs": [
    {
     "data": {
      "text/plain": [
       "['acct',\n",
       " 'bld_num',\n",
       " 'count',\n",
       " 'grade',\n",
       " 'cd',\n",
       " 's_dscr',\n",
       " 'l_dscr',\n",
       " 'cat',\n",
       " 'dscr',\n",
       " 'note',\n",
       " 'uts']"
      ]
     },
     "execution_count": 5,
     "metadata": {},
     "output_type": "execute_result"
    }
   ],
   "source": [
    "extra_features.get_header()"
   ]
  },
  {
   "cell_type": "markdown",
   "metadata": {
    "papermill": {
     "duration": 0.015594,
     "end_time": "2020-07-28T11:16:41.020068",
     "exception": false,
     "start_time": "2020-07-28T11:16:41.004474",
     "status": "completed"
    },
    "tags": []
   },
   "source": [
    "# Load accounts of interest\n",
    "Let's remove the account numbers that don't meet free-standing single-family home criteria that we found while processing the `building_res.txt` file."
   ]
  },
  {
   "cell_type": "code",
   "execution_count": 6,
   "metadata": {
    "ExecuteTime": {
     "end_time": "2020-07-28T11:04:16.858659Z",
     "start_time": "2020-07-28T11:04:15.987080Z"
    },
    "execution": {
     "iopub.execute_input": "2020-07-28T11:16:41.067247Z",
     "iopub.status.busy": "2020-07-28T11:16:41.063117Z",
     "iopub.status.idle": "2020-07-28T11:16:42.344611Z",
     "shell.execute_reply": "2020-07-28T11:16:42.344088Z"
    },
    "papermill": {
     "duration": 1.305961,
     "end_time": "2020-07-28T11:16:42.344745",
     "exception": false,
     "start_time": "2020-07-28T11:16:41.038784",
     "status": "completed"
    },
    "tags": []
   },
   "outputs": [],
   "source": [
    "skiprows = extra_features.get_skiprows()"
   ]
  },
  {
   "cell_type": "code",
   "execution_count": 7,
   "metadata": {
    "ExecuteTime": {
     "end_time": "2020-07-28T11:04:17.903178Z",
     "start_time": "2020-07-28T11:04:16.861253Z"
    },
    "execution": {
     "iopub.execute_input": "2020-07-28T11:16:42.416966Z",
     "iopub.status.busy": "2020-07-28T11:16:42.416241Z",
     "iopub.status.idle": "2020-07-28T11:16:43.441297Z",
     "shell.execute_reply": "2020-07-28T11:16:43.440780Z"
    },
    "papermill": {
     "duration": 1.080597,
     "end_time": "2020-07-28T11:16:43.441421",
     "exception": false,
     "start_time": "2020-07-28T11:16:42.360824",
     "status": "completed"
    },
    "tags": []
   },
   "outputs": [],
   "source": [
    "extra_features_df = extra_features.get_df(skiprows=skiprows)"
   ]
  },
  {
   "cell_type": "code",
   "execution_count": 8,
   "metadata": {
    "ExecuteTime": {
     "end_time": "2020-07-28T11:04:17.934876Z",
     "start_time": "2020-07-28T11:04:17.906550Z"
    },
    "execution": {
     "iopub.execute_input": "2020-07-28T11:16:43.476648Z",
     "iopub.status.busy": "2020-07-28T11:16:43.476144Z",
     "iopub.status.idle": "2020-07-28T11:16:43.500912Z",
     "shell.execute_reply": "2020-07-28T11:16:43.500439Z"
    },
    "papermill": {
     "duration": 0.043804,
     "end_time": "2020-07-28T11:16:43.501049",
     "exception": false,
     "start_time": "2020-07-28T11:16:43.457245",
     "status": "completed"
    },
    "tags": []
   },
   "outputs": [
    {
     "data": {
      "text/html": [
       "<div>\n",
       "<style scoped>\n",
       "    .dataframe tbody tr th:only-of-type {\n",
       "        vertical-align: middle;\n",
       "    }\n",
       "\n",
       "    .dataframe tbody tr th {\n",
       "        vertical-align: top;\n",
       "    }\n",
       "\n",
       "    .dataframe thead th {\n",
       "        text-align: right;\n",
       "    }\n",
       "</style>\n",
       "<table border=\"1\" class=\"dataframe\">\n",
       "  <thead>\n",
       "    <tr style=\"text-align: right;\">\n",
       "      <th></th>\n",
       "      <th>acct</th>\n",
       "      <th>bld_num</th>\n",
       "      <th>count</th>\n",
       "      <th>grade</th>\n",
       "      <th>cd</th>\n",
       "      <th>s_dscr</th>\n",
       "      <th>l_dscr</th>\n",
       "      <th>cat</th>\n",
       "      <th>dscr</th>\n",
       "      <th>note</th>\n",
       "      <th>uts</th>\n",
       "    </tr>\n",
       "  </thead>\n",
       "  <tbody>\n",
       "    <tr>\n",
       "      <th>0</th>\n",
       "      <td>21440000001</td>\n",
       "      <td>0</td>\n",
       "      <td>2</td>\n",
       "      <td>4</td>\n",
       "      <td>RRS1</td>\n",
       "      <td>WDUtSh</td>\n",
       "      <td>Frame Utility Shed</td>\n",
       "      <td>OB</td>\n",
       "      <td>Outbuildings</td>\n",
       "      <td></td>\n",
       "      <td>110.0</td>\n",
       "    </tr>\n",
       "    <tr>\n",
       "      <th>1</th>\n",
       "      <td>21440000001</td>\n",
       "      <td>0</td>\n",
       "      <td>2</td>\n",
       "      <td>4</td>\n",
       "      <td>RRS1</td>\n",
       "      <td>WDUtSh</td>\n",
       "      <td>Frame Utility Shed</td>\n",
       "      <td>OB</td>\n",
       "      <td>Outbuildings</td>\n",
       "      <td></td>\n",
       "      <td>130.0</td>\n",
       "    </tr>\n",
       "    <tr>\n",
       "      <th>2</th>\n",
       "      <td>21480000002</td>\n",
       "      <td>1</td>\n",
       "      <td>1</td>\n",
       "      <td>4</td>\n",
       "      <td>ROGV</td>\n",
       "      <td>OtherRs</td>\n",
       "      <td>Residential Other Gross Value</td>\n",
       "      <td>MS</td>\n",
       "      <td>Miscellaneous</td>\n",
       "      <td>SALV GAR APMT.</td>\n",
       "      <td>0.5</td>\n",
       "    </tr>\n",
       "    <tr>\n",
       "      <th>3</th>\n",
       "      <td>21650000007</td>\n",
       "      <td>0</td>\n",
       "      <td>1</td>\n",
       "      <td>4</td>\n",
       "      <td>RRP5</td>\n",
       "      <td>GnPool</td>\n",
       "      <td>Gunite Pool</td>\n",
       "      <td>PL</td>\n",
       "      <td>Pools</td>\n",
       "      <td></td>\n",
       "      <td>368.0</td>\n",
       "    </tr>\n",
       "    <tr>\n",
       "      <th>4</th>\n",
       "      <td>21700000013</td>\n",
       "      <td>0</td>\n",
       "      <td>1</td>\n",
       "      <td>5</td>\n",
       "      <td>RRG1</td>\n",
       "      <td>FrmGar</td>\n",
       "      <td>Frame Detached Garage</td>\n",
       "      <td>GR</td>\n",
       "      <td>Garage</td>\n",
       "      <td></td>\n",
       "      <td>225.0</td>\n",
       "    </tr>\n",
       "  </tbody>\n",
       "</table>\n",
       "</div>"
      ],
      "text/plain": [
       "          acct  bld_num  count  grade      cd   s_dscr  \\\n",
       "0  21440000001        0      2      4  RRS1     WDUtSh   \n",
       "1  21440000001        0      2      4  RRS1     WDUtSh   \n",
       "2  21480000002        1      1      4  ROGV    OtherRs   \n",
       "3  21650000007        0      1      4  RRP5     GnPool   \n",
       "4  21700000013        0      1      5  RRG1     FrmGar   \n",
       "\n",
       "                          l_dscr cat           dscr            note    uts  \n",
       "0             Frame Utility Shed  OB   Outbuildings                  110.0  \n",
       "1             Frame Utility Shed  OB   Outbuildings                  130.0  \n",
       "2  Residential Other Gross Value  MS  Miscellaneous  SALV GAR APMT.    0.5  \n",
       "3                    Gunite Pool  PL          Pools                  368.0  \n",
       "4          Frame Detached Garage  GR         Garage                  225.0  "
      ]
     },
     "execution_count": 8,
     "metadata": {},
     "output_type": "execute_result"
    }
   ],
   "source": [
    "extra_features_df.head()"
   ]
  },
  {
   "cell_type": "code",
   "execution_count": 9,
   "metadata": {
    "ExecuteTime": {
     "end_time": "2020-07-28T11:04:18.015446Z",
     "start_time": "2020-07-28T11:04:17.939213Z"
    },
    "execution": {
     "iopub.execute_input": "2020-07-28T11:16:43.539506Z",
     "iopub.status.busy": "2020-07-28T11:16:43.539000Z",
     "iopub.status.idle": "2020-07-28T11:16:43.608107Z",
     "shell.execute_reply": "2020-07-28T11:16:43.608495Z"
    },
    "papermill": {
     "duration": 0.089746,
     "end_time": "2020-07-28T11:16:43.608633",
     "exception": false,
     "start_time": "2020-07-28T11:16:43.518887",
     "status": "completed"
    },
    "tags": []
   },
   "outputs": [
    {
     "data": {
      "text/plain": [
       "Frame Detached Garage                       181621\n",
       "Frame Utility Shed                           93378\n",
       "Gunite Pool                                  87999\n",
       "Canopy - Residential                         85893\n",
       "Carport - Residential                        76603\n",
       "Pool SPA with Heater                         37243\n",
       "Metal Utility Shed                           19563\n",
       "Foundation Repaired                          17655\n",
       "Cracked Slab                                 16123\n",
       "Residential Other Gross Value                14816\n",
       "Brick or Stone Detached Garage               13804\n",
       "Frame Detached Garage w/living area abov      7059\n",
       "Custom Outdoor Kitchen                        4301\n",
       "Reinforced Concrete Pool                      3729\n",
       "Basic Outdoor Kitchen                         2304\n",
       "Utility Building - Metal                      2007\n",
       "4 Side closed Metal Pole Barn                 1889\n",
       "Brick or Stone Detached Garage w/living       1461\n",
       "Utility Building - Frame                      1430\n",
       "Light Wood Deck Lt Posts Boat Dock            1217\n",
       "Cracked Beam - Crawlspace                     1192\n",
       "1 Side Open Metal Pole Barn                   1015\n",
       "Plastic Liner Pool                             618\n",
       "Frame or Concrete Block Boathouse              581\n",
       "Fiberglass Pool                                531\n",
       "Name: l_dscr, dtype: int64"
      ]
     },
     "execution_count": 9,
     "metadata": {},
     "output_type": "execute_result"
    }
   ],
   "source": [
    "extra_features_df.l_dscr.value_counts().head(25)"
   ]
  },
  {
   "cell_type": "markdown",
   "metadata": {
    "papermill": {
     "duration": 0.016817,
     "end_time": "2020-07-28T11:16:43.642200",
     "exception": false,
     "start_time": "2020-07-28T11:16:43.625383",
     "status": "completed"
    },
    "tags": []
   },
   "source": [
    "# Grab slice of the extra features of interest\n",
    "With the value counts on the extra feature description performed above we can see that the majority of the features land in the top 15 categories. Let's filter out the rests of the columns."
   ]
  },
  {
   "cell_type": "code",
   "execution_count": 10,
   "metadata": {
    "ExecuteTime": {
     "end_time": "2020-07-28T11:04:18.116171Z",
     "start_time": "2020-07-28T11:04:18.017119Z"
    },
    "execution": {
     "iopub.execute_input": "2020-07-28T11:16:43.681484Z",
     "iopub.status.busy": "2020-07-28T11:16:43.680972Z",
     "iopub.status.idle": "2020-07-28T11:16:43.739404Z",
     "shell.execute_reply": "2020-07-28T11:16:43.738875Z"
    },
    "papermill": {
     "duration": 0.079534,
     "end_time": "2020-07-28T11:16:43.739525",
     "exception": false,
     "start_time": "2020-07-28T11:16:43.659991",
     "status": "completed"
    },
    "tags": []
   },
   "outputs": [],
   "source": [
    "cols = extra_features_df.l_dscr.value_counts().head(15).index"
   ]
  },
  {
   "cell_type": "code",
   "execution_count": 11,
   "metadata": {
    "ExecuteTime": {
     "end_time": "2020-07-28T11:04:18.206632Z",
     "start_time": "2020-07-28T11:04:18.118011Z"
    },
    "execution": {
     "iopub.execute_input": "2020-07-28T11:16:43.777174Z",
     "iopub.status.busy": "2020-07-28T11:16:43.776666Z",
     "iopub.status.idle": "2020-07-28T11:16:43.846699Z",
     "shell.execute_reply": "2020-07-28T11:16:43.847095Z"
    },
    "papermill": {
     "duration": 0.09068,
     "end_time": "2020-07-28T11:16:43.847237",
     "exception": false,
     "start_time": "2020-07-28T11:16:43.756557",
     "status": "completed"
    },
    "tags": []
   },
   "outputs": [],
   "source": [
    "cond0 = extra_features_df['l_dscr'].isin(cols)\n",
    "extra_features_df = extra_features_df.loc[cond0, :]"
   ]
  },
  {
   "cell_type": "markdown",
   "metadata": {
    "papermill": {
     "duration": 0.017309,
     "end_time": "2020-07-28T11:16:43.881134",
     "exception": false,
     "start_time": "2020-07-28T11:16:43.863825",
     "status": "completed"
    },
    "tags": []
   },
   "source": [
    "# Build pivot tables for count and grade\n",
    "There appear to be two important values related to each extra feature: uts (units area in square feet) and grade. Since a property can have multiple features of the same class, e.g. frame utility shed, let's aggregate them by adding the uts values, and also by taking the mean of the same class feature grades.\n",
    "\n",
    "Let's build individual pivot tables for each and merge them before saving them out."
   ]
  },
  {
   "cell_type": "code",
   "execution_count": 12,
   "metadata": {
    "ExecuteTime": {
     "end_time": "2020-07-28T11:04:19.324760Z",
     "start_time": "2020-07-28T11:04:18.208268Z"
    },
    "execution": {
     "iopub.execute_input": "2020-07-28T11:16:43.920794Z",
     "iopub.status.busy": "2020-07-28T11:16:43.920262Z",
     "iopub.status.idle": "2020-07-28T11:16:45.008117Z",
     "shell.execute_reply": "2020-07-28T11:16:45.007644Z"
    },
    "papermill": {
     "duration": 1.109627,
     "end_time": "2020-07-28T11:16:45.008253",
     "exception": false,
     "start_time": "2020-07-28T11:16:43.898626",
     "status": "completed"
    },
    "tags": []
   },
   "outputs": [],
   "source": [
    "extra_features_pivot_uts = extra_features_df.pivot_table(index='acct',\n",
    "                                                         columns='l_dscr',\n",
    "                                                         values='uts',\n",
    "                                                         aggfunc='sum',\n",
    "                                                         fill_value=0)"
   ]
  },
  {
   "cell_type": "code",
   "execution_count": 13,
   "metadata": {
    "ExecuteTime": {
     "end_time": "2020-07-28T11:04:19.356250Z",
     "start_time": "2020-07-28T11:04:19.326375Z"
    },
    "execution": {
     "iopub.execute_input": "2020-07-28T11:16:45.045730Z",
     "iopub.status.busy": "2020-07-28T11:16:45.045216Z",
     "iopub.status.idle": "2020-07-28T11:16:45.070180Z",
     "shell.execute_reply": "2020-07-28T11:16:45.070607Z"
    },
    "papermill": {
     "duration": 0.045327,
     "end_time": "2020-07-28T11:16:45.070759",
     "exception": false,
     "start_time": "2020-07-28T11:16:45.025432",
     "status": "completed"
    },
    "tags": []
   },
   "outputs": [
    {
     "data": {
      "text/html": [
       "<div>\n",
       "<style scoped>\n",
       "    .dataframe tbody tr th:only-of-type {\n",
       "        vertical-align: middle;\n",
       "    }\n",
       "\n",
       "    .dataframe tbody tr th {\n",
       "        vertical-align: top;\n",
       "    }\n",
       "\n",
       "    .dataframe thead th {\n",
       "        text-align: right;\n",
       "    }\n",
       "</style>\n",
       "<table border=\"1\" class=\"dataframe\">\n",
       "  <thead>\n",
       "    <tr style=\"text-align: right;\">\n",
       "      <th>l_dscr</th>\n",
       "      <th>Basic Outdoor Kitchen</th>\n",
       "      <th>Brick or Stone Detached Garage</th>\n",
       "      <th>Canopy - Residential</th>\n",
       "      <th>Carport - Residential</th>\n",
       "      <th>Cracked Slab</th>\n",
       "      <th>Custom Outdoor Kitchen</th>\n",
       "      <th>Foundation Repaired</th>\n",
       "      <th>Frame Detached Garage</th>\n",
       "      <th>Frame Detached Garage w/living area abov</th>\n",
       "      <th>Frame Utility Shed</th>\n",
       "      <th>Gunite Pool</th>\n",
       "      <th>Metal Utility Shed</th>\n",
       "      <th>Pool SPA with Heater</th>\n",
       "      <th>Reinforced Concrete Pool</th>\n",
       "      <th>Residential Other Gross Value</th>\n",
       "    </tr>\n",
       "    <tr>\n",
       "      <th>acct</th>\n",
       "      <th></th>\n",
       "      <th></th>\n",
       "      <th></th>\n",
       "      <th></th>\n",
       "      <th></th>\n",
       "      <th></th>\n",
       "      <th></th>\n",
       "      <th></th>\n",
       "      <th></th>\n",
       "      <th></th>\n",
       "      <th></th>\n",
       "      <th></th>\n",
       "      <th></th>\n",
       "      <th></th>\n",
       "      <th></th>\n",
       "    </tr>\n",
       "  </thead>\n",
       "  <tbody>\n",
       "    <tr>\n",
       "      <th>21440000001</th>\n",
       "      <td>0.0</td>\n",
       "      <td>0</td>\n",
       "      <td>0.0</td>\n",
       "      <td>0</td>\n",
       "      <td>0</td>\n",
       "      <td>0.0</td>\n",
       "      <td>0.0</td>\n",
       "      <td>0</td>\n",
       "      <td>0.0</td>\n",
       "      <td>240.0</td>\n",
       "      <td>0.0</td>\n",
       "      <td>0</td>\n",
       "      <td>0.0</td>\n",
       "      <td>0</td>\n",
       "      <td>0.0</td>\n",
       "    </tr>\n",
       "    <tr>\n",
       "      <th>21480000002</th>\n",
       "      <td>0.0</td>\n",
       "      <td>0</td>\n",
       "      <td>0.0</td>\n",
       "      <td>0</td>\n",
       "      <td>0</td>\n",
       "      <td>0.0</td>\n",
       "      <td>0.0</td>\n",
       "      <td>0</td>\n",
       "      <td>0.0</td>\n",
       "      <td>0.0</td>\n",
       "      <td>0.0</td>\n",
       "      <td>0</td>\n",
       "      <td>0.0</td>\n",
       "      <td>0</td>\n",
       "      <td>0.5</td>\n",
       "    </tr>\n",
       "    <tr>\n",
       "      <th>21650000007</th>\n",
       "      <td>0.0</td>\n",
       "      <td>0</td>\n",
       "      <td>0.0</td>\n",
       "      <td>0</td>\n",
       "      <td>0</td>\n",
       "      <td>0.0</td>\n",
       "      <td>0.0</td>\n",
       "      <td>0</td>\n",
       "      <td>0.0</td>\n",
       "      <td>0.0</td>\n",
       "      <td>368.0</td>\n",
       "      <td>0</td>\n",
       "      <td>0.0</td>\n",
       "      <td>0</td>\n",
       "      <td>0.0</td>\n",
       "    </tr>\n",
       "    <tr>\n",
       "      <th>21700000013</th>\n",
       "      <td>0.0</td>\n",
       "      <td>0</td>\n",
       "      <td>0.0</td>\n",
       "      <td>0</td>\n",
       "      <td>0</td>\n",
       "      <td>0.0</td>\n",
       "      <td>0.0</td>\n",
       "      <td>225</td>\n",
       "      <td>0.0</td>\n",
       "      <td>0.0</td>\n",
       "      <td>0.0</td>\n",
       "      <td>0</td>\n",
       "      <td>0.0</td>\n",
       "      <td>0</td>\n",
       "      <td>0.0</td>\n",
       "    </tr>\n",
       "    <tr>\n",
       "      <th>21750000013</th>\n",
       "      <td>0.0</td>\n",
       "      <td>0</td>\n",
       "      <td>0.0</td>\n",
       "      <td>0</td>\n",
       "      <td>0</td>\n",
       "      <td>0.0</td>\n",
       "      <td>0.0</td>\n",
       "      <td>450</td>\n",
       "      <td>300.0</td>\n",
       "      <td>0.0</td>\n",
       "      <td>0.0</td>\n",
       "      <td>0</td>\n",
       "      <td>0.0</td>\n",
       "      <td>0</td>\n",
       "      <td>0.0</td>\n",
       "    </tr>\n",
       "  </tbody>\n",
       "</table>\n",
       "</div>"
      ],
      "text/plain": [
       "l_dscr       Basic Outdoor Kitchen  Brick or Stone Detached Garage  \\\n",
       "acct                                                                 \n",
       "21440000001                    0.0                               0   \n",
       "21480000002                    0.0                               0   \n",
       "21650000007                    0.0                               0   \n",
       "21700000013                    0.0                               0   \n",
       "21750000013                    0.0                               0   \n",
       "\n",
       "l_dscr       Canopy - Residential  Carport - Residential  Cracked Slab  \\\n",
       "acct                                                                     \n",
       "21440000001                   0.0                      0             0   \n",
       "21480000002                   0.0                      0             0   \n",
       "21650000007                   0.0                      0             0   \n",
       "21700000013                   0.0                      0             0   \n",
       "21750000013                   0.0                      0             0   \n",
       "\n",
       "l_dscr       Custom Outdoor Kitchen  Foundation Repaired  \\\n",
       "acct                                                       \n",
       "21440000001                     0.0                  0.0   \n",
       "21480000002                     0.0                  0.0   \n",
       "21650000007                     0.0                  0.0   \n",
       "21700000013                     0.0                  0.0   \n",
       "21750000013                     0.0                  0.0   \n",
       "\n",
       "l_dscr       Frame Detached Garage  Frame Detached Garage w/living area abov  \\\n",
       "acct                                                                           \n",
       "21440000001                      0                                       0.0   \n",
       "21480000002                      0                                       0.0   \n",
       "21650000007                      0                                       0.0   \n",
       "21700000013                    225                                       0.0   \n",
       "21750000013                    450                                     300.0   \n",
       "\n",
       "l_dscr       Frame Utility Shed  Gunite Pool  Metal Utility Shed  \\\n",
       "acct                                                               \n",
       "21440000001               240.0          0.0                   0   \n",
       "21480000002                 0.0          0.0                   0   \n",
       "21650000007                 0.0        368.0                   0   \n",
       "21700000013                 0.0          0.0                   0   \n",
       "21750000013                 0.0          0.0                   0   \n",
       "\n",
       "l_dscr       Pool SPA with Heater  Reinforced Concrete Pool  \\\n",
       "acct                                                          \n",
       "21440000001                   0.0                         0   \n",
       "21480000002                   0.0                         0   \n",
       "21650000007                   0.0                         0   \n",
       "21700000013                   0.0                         0   \n",
       "21750000013                   0.0                         0   \n",
       "\n",
       "l_dscr       Residential Other Gross Value  \n",
       "acct                                        \n",
       "21440000001                            0.0  \n",
       "21480000002                            0.5  \n",
       "21650000007                            0.0  \n",
       "21700000013                            0.0  \n",
       "21750000013                            0.0  "
      ]
     },
     "execution_count": 13,
     "metadata": {},
     "output_type": "execute_result"
    }
   ],
   "source": [
    "extra_features_pivot_uts.head()"
   ]
  },
  {
   "cell_type": "code",
   "execution_count": 14,
   "metadata": {
    "ExecuteTime": {
     "end_time": "2020-07-28T11:04:19.930914Z",
     "start_time": "2020-07-28T11:04:19.360535Z"
    },
    "execution": {
     "iopub.execute_input": "2020-07-28T11:16:45.110716Z",
     "iopub.status.busy": "2020-07-28T11:16:45.109582Z",
     "iopub.status.idle": "2020-07-28T11:16:45.642900Z",
     "shell.execute_reply": "2020-07-28T11:16:45.642367Z"
    },
    "papermill": {
     "duration": 0.554351,
     "end_time": "2020-07-28T11:16:45.643019",
     "exception": false,
     "start_time": "2020-07-28T11:16:45.088668",
     "status": "completed"
    },
    "tags": []
   },
   "outputs": [],
   "source": [
    "extra_features_pivot_grade = extra_features_df.pivot_table(index='acct',\n",
    "                                                           columns='l_dscr',\n",
    "                                                           values='grade',\n",
    "                                                           aggfunc='mean',\n",
    "                                                           )"
   ]
  },
  {
   "cell_type": "code",
   "execution_count": 15,
   "metadata": {
    "ExecuteTime": {
     "end_time": "2020-07-28T11:04:19.963154Z",
     "start_time": "2020-07-28T11:04:19.932427Z"
    },
    "execution": {
     "iopub.execute_input": "2020-07-28T11:16:45.684042Z",
     "iopub.status.busy": "2020-07-28T11:16:45.683503Z",
     "iopub.status.idle": "2020-07-28T11:16:45.710171Z",
     "shell.execute_reply": "2020-07-28T11:16:45.710596Z"
    },
    "papermill": {
     "duration": 0.050228,
     "end_time": "2020-07-28T11:16:45.710740",
     "exception": false,
     "start_time": "2020-07-28T11:16:45.660512",
     "status": "completed"
    },
    "tags": []
   },
   "outputs": [
    {
     "data": {
      "text/html": [
       "<div>\n",
       "<style scoped>\n",
       "    .dataframe tbody tr th:only-of-type {\n",
       "        vertical-align: middle;\n",
       "    }\n",
       "\n",
       "    .dataframe tbody tr th {\n",
       "        vertical-align: top;\n",
       "    }\n",
       "\n",
       "    .dataframe thead th {\n",
       "        text-align: right;\n",
       "    }\n",
       "</style>\n",
       "<table border=\"1\" class=\"dataframe\">\n",
       "  <thead>\n",
       "    <tr style=\"text-align: right;\">\n",
       "      <th>l_dscr</th>\n",
       "      <th>Basic Outdoor Kitchen</th>\n",
       "      <th>Brick or Stone Detached Garage</th>\n",
       "      <th>Canopy - Residential</th>\n",
       "      <th>Carport - Residential</th>\n",
       "      <th>Cracked Slab</th>\n",
       "      <th>Custom Outdoor Kitchen</th>\n",
       "      <th>Foundation Repaired</th>\n",
       "      <th>Frame Detached Garage</th>\n",
       "      <th>Frame Detached Garage w/living area abov</th>\n",
       "      <th>Frame Utility Shed</th>\n",
       "      <th>Gunite Pool</th>\n",
       "      <th>Metal Utility Shed</th>\n",
       "      <th>Pool SPA with Heater</th>\n",
       "      <th>Reinforced Concrete Pool</th>\n",
       "      <th>Residential Other Gross Value</th>\n",
       "    </tr>\n",
       "    <tr>\n",
       "      <th>acct</th>\n",
       "      <th></th>\n",
       "      <th></th>\n",
       "      <th></th>\n",
       "      <th></th>\n",
       "      <th></th>\n",
       "      <th></th>\n",
       "      <th></th>\n",
       "      <th></th>\n",
       "      <th></th>\n",
       "      <th></th>\n",
       "      <th></th>\n",
       "      <th></th>\n",
       "      <th></th>\n",
       "      <th></th>\n",
       "      <th></th>\n",
       "    </tr>\n",
       "  </thead>\n",
       "  <tbody>\n",
       "    <tr>\n",
       "      <th>21440000001</th>\n",
       "      <td>NaN</td>\n",
       "      <td>NaN</td>\n",
       "      <td>NaN</td>\n",
       "      <td>NaN</td>\n",
       "      <td>NaN</td>\n",
       "      <td>NaN</td>\n",
       "      <td>NaN</td>\n",
       "      <td>NaN</td>\n",
       "      <td>NaN</td>\n",
       "      <td>4.0</td>\n",
       "      <td>NaN</td>\n",
       "      <td>NaN</td>\n",
       "      <td>NaN</td>\n",
       "      <td>NaN</td>\n",
       "      <td>NaN</td>\n",
       "    </tr>\n",
       "    <tr>\n",
       "      <th>21480000002</th>\n",
       "      <td>NaN</td>\n",
       "      <td>NaN</td>\n",
       "      <td>NaN</td>\n",
       "      <td>NaN</td>\n",
       "      <td>NaN</td>\n",
       "      <td>NaN</td>\n",
       "      <td>NaN</td>\n",
       "      <td>NaN</td>\n",
       "      <td>NaN</td>\n",
       "      <td>NaN</td>\n",
       "      <td>NaN</td>\n",
       "      <td>NaN</td>\n",
       "      <td>NaN</td>\n",
       "      <td>NaN</td>\n",
       "      <td>4.0</td>\n",
       "    </tr>\n",
       "    <tr>\n",
       "      <th>21650000007</th>\n",
       "      <td>NaN</td>\n",
       "      <td>NaN</td>\n",
       "      <td>NaN</td>\n",
       "      <td>NaN</td>\n",
       "      <td>NaN</td>\n",
       "      <td>NaN</td>\n",
       "      <td>NaN</td>\n",
       "      <td>NaN</td>\n",
       "      <td>NaN</td>\n",
       "      <td>NaN</td>\n",
       "      <td>4.0</td>\n",
       "      <td>NaN</td>\n",
       "      <td>NaN</td>\n",
       "      <td>NaN</td>\n",
       "      <td>NaN</td>\n",
       "    </tr>\n",
       "    <tr>\n",
       "      <th>21700000013</th>\n",
       "      <td>NaN</td>\n",
       "      <td>NaN</td>\n",
       "      <td>NaN</td>\n",
       "      <td>NaN</td>\n",
       "      <td>NaN</td>\n",
       "      <td>NaN</td>\n",
       "      <td>NaN</td>\n",
       "      <td>5.0</td>\n",
       "      <td>NaN</td>\n",
       "      <td>NaN</td>\n",
       "      <td>NaN</td>\n",
       "      <td>NaN</td>\n",
       "      <td>NaN</td>\n",
       "      <td>NaN</td>\n",
       "      <td>NaN</td>\n",
       "    </tr>\n",
       "    <tr>\n",
       "      <th>21750000013</th>\n",
       "      <td>NaN</td>\n",
       "      <td>NaN</td>\n",
       "      <td>NaN</td>\n",
       "      <td>NaN</td>\n",
       "      <td>NaN</td>\n",
       "      <td>NaN</td>\n",
       "      <td>NaN</td>\n",
       "      <td>4.0</td>\n",
       "      <td>4.0</td>\n",
       "      <td>NaN</td>\n",
       "      <td>NaN</td>\n",
       "      <td>NaN</td>\n",
       "      <td>NaN</td>\n",
       "      <td>NaN</td>\n",
       "      <td>NaN</td>\n",
       "    </tr>\n",
       "  </tbody>\n",
       "</table>\n",
       "</div>"
      ],
      "text/plain": [
       "l_dscr       Basic Outdoor Kitchen  Brick or Stone Detached Garage  \\\n",
       "acct                                                                 \n",
       "21440000001                    NaN                             NaN   \n",
       "21480000002                    NaN                             NaN   \n",
       "21650000007                    NaN                             NaN   \n",
       "21700000013                    NaN                             NaN   \n",
       "21750000013                    NaN                             NaN   \n",
       "\n",
       "l_dscr       Canopy - Residential  Carport - Residential  Cracked Slab  \\\n",
       "acct                                                                     \n",
       "21440000001                   NaN                    NaN           NaN   \n",
       "21480000002                   NaN                    NaN           NaN   \n",
       "21650000007                   NaN                    NaN           NaN   \n",
       "21700000013                   NaN                    NaN           NaN   \n",
       "21750000013                   NaN                    NaN           NaN   \n",
       "\n",
       "l_dscr       Custom Outdoor Kitchen  Foundation Repaired  \\\n",
       "acct                                                       \n",
       "21440000001                     NaN                  NaN   \n",
       "21480000002                     NaN                  NaN   \n",
       "21650000007                     NaN                  NaN   \n",
       "21700000013                     NaN                  NaN   \n",
       "21750000013                     NaN                  NaN   \n",
       "\n",
       "l_dscr       Frame Detached Garage  Frame Detached Garage w/living area abov  \\\n",
       "acct                                                                           \n",
       "21440000001                    NaN                                       NaN   \n",
       "21480000002                    NaN                                       NaN   \n",
       "21650000007                    NaN                                       NaN   \n",
       "21700000013                    5.0                                       NaN   \n",
       "21750000013                    4.0                                       4.0   \n",
       "\n",
       "l_dscr       Frame Utility Shed  Gunite Pool  Metal Utility Shed  \\\n",
       "acct                                                               \n",
       "21440000001                 4.0          NaN                 NaN   \n",
       "21480000002                 NaN          NaN                 NaN   \n",
       "21650000007                 NaN          4.0                 NaN   \n",
       "21700000013                 NaN          NaN                 NaN   \n",
       "21750000013                 NaN          NaN                 NaN   \n",
       "\n",
       "l_dscr       Pool SPA with Heater  Reinforced Concrete Pool  \\\n",
       "acct                                                          \n",
       "21440000001                   NaN                       NaN   \n",
       "21480000002                   NaN                       NaN   \n",
       "21650000007                   NaN                       NaN   \n",
       "21700000013                   NaN                       NaN   \n",
       "21750000013                   NaN                       NaN   \n",
       "\n",
       "l_dscr       Residential Other Gross Value  \n",
       "acct                                        \n",
       "21440000001                            NaN  \n",
       "21480000002                            4.0  \n",
       "21650000007                            NaN  \n",
       "21700000013                            NaN  \n",
       "21750000013                            NaN  "
      ]
     },
     "execution_count": 15,
     "metadata": {},
     "output_type": "execute_result"
    }
   ],
   "source": [
    "extra_features_pivot_grade.head()"
   ]
  },
  {
   "cell_type": "code",
   "execution_count": 16,
   "metadata": {
    "ExecuteTime": {
     "end_time": "2020-07-28T11:04:20.128378Z",
     "start_time": "2020-07-28T11:04:19.965688Z"
    },
    "execution": {
     "iopub.execute_input": "2020-07-28T11:16:45.751662Z",
     "iopub.status.busy": "2020-07-28T11:16:45.751142Z",
     "iopub.status.idle": "2020-07-28T11:16:45.945135Z",
     "shell.execute_reply": "2020-07-28T11:16:45.944182Z"
    },
    "papermill": {
     "duration": 0.215351,
     "end_time": "2020-07-28T11:16:45.945342",
     "exception": false,
     "start_time": "2020-07-28T11:16:45.729991",
     "status": "completed"
    },
    "tags": []
   },
   "outputs": [],
   "source": [
    "extra_features_uts_grade = extra_features_pivot_uts.merge(extra_features_pivot_grade,\n",
    "                                                          how='left',\n",
    "                                                          left_index=True,\n",
    "                                                          right_index=True,\n",
    "                                                          suffixes=('_uts', '_grade'),\n",
    "                                                          validate='one_to_one')"
   ]
  },
  {
   "cell_type": "code",
   "execution_count": 17,
   "metadata": {
    "ExecuteTime": {
     "end_time": "2020-07-28T11:04:20.182881Z",
     "start_time": "2020-07-28T11:04:20.130977Z"
    },
    "execution": {
     "iopub.execute_input": "2020-07-28T11:16:45.994041Z",
     "iopub.status.busy": "2020-07-28T11:16:45.993533Z",
     "iopub.status.idle": "2020-07-28T11:16:46.029660Z",
     "shell.execute_reply": "2020-07-28T11:16:46.029210Z"
    },
    "papermill": {
     "duration": 0.058176,
     "end_time": "2020-07-28T11:16:46.029784",
     "exception": false,
     "start_time": "2020-07-28T11:16:45.971608",
     "status": "completed"
    },
    "tags": []
   },
   "outputs": [
    {
     "data": {
      "text/html": [
       "<div>\n",
       "<style scoped>\n",
       "    .dataframe tbody tr th:only-of-type {\n",
       "        vertical-align: middle;\n",
       "    }\n",
       "\n",
       "    .dataframe tbody tr th {\n",
       "        vertical-align: top;\n",
       "    }\n",
       "\n",
       "    .dataframe thead th {\n",
       "        text-align: right;\n",
       "    }\n",
       "</style>\n",
       "<table border=\"1\" class=\"dataframe\">\n",
       "  <thead>\n",
       "    <tr style=\"text-align: right;\">\n",
       "      <th>l_dscr</th>\n",
       "      <th>Basic Outdoor Kitchen_uts</th>\n",
       "      <th>Brick or Stone Detached Garage_uts</th>\n",
       "      <th>Canopy - Residential_uts</th>\n",
       "      <th>Carport - Residential_uts</th>\n",
       "      <th>Cracked Slab_uts</th>\n",
       "      <th>Custom Outdoor Kitchen_uts</th>\n",
       "      <th>Foundation Repaired_uts</th>\n",
       "      <th>Frame Detached Garage_uts</th>\n",
       "      <th>Frame Detached Garage w/living area abov_uts</th>\n",
       "      <th>Frame Utility Shed_uts</th>\n",
       "      <th>...</th>\n",
       "      <th>Custom Outdoor Kitchen_grade</th>\n",
       "      <th>Foundation Repaired_grade</th>\n",
       "      <th>Frame Detached Garage_grade</th>\n",
       "      <th>Frame Detached Garage w/living area abov_grade</th>\n",
       "      <th>Frame Utility Shed_grade</th>\n",
       "      <th>Gunite Pool_grade</th>\n",
       "      <th>Metal Utility Shed_grade</th>\n",
       "      <th>Pool SPA with Heater_grade</th>\n",
       "      <th>Reinforced Concrete Pool_grade</th>\n",
       "      <th>Residential Other Gross Value_grade</th>\n",
       "    </tr>\n",
       "    <tr>\n",
       "      <th>acct</th>\n",
       "      <th></th>\n",
       "      <th></th>\n",
       "      <th></th>\n",
       "      <th></th>\n",
       "      <th></th>\n",
       "      <th></th>\n",
       "      <th></th>\n",
       "      <th></th>\n",
       "      <th></th>\n",
       "      <th></th>\n",
       "      <th></th>\n",
       "      <th></th>\n",
       "      <th></th>\n",
       "      <th></th>\n",
       "      <th></th>\n",
       "      <th></th>\n",
       "      <th></th>\n",
       "      <th></th>\n",
       "      <th></th>\n",
       "      <th></th>\n",
       "      <th></th>\n",
       "    </tr>\n",
       "  </thead>\n",
       "  <tbody>\n",
       "    <tr>\n",
       "      <th>21440000001</th>\n",
       "      <td>0.0</td>\n",
       "      <td>0</td>\n",
       "      <td>0.0</td>\n",
       "      <td>0</td>\n",
       "      <td>0</td>\n",
       "      <td>0.0</td>\n",
       "      <td>0.0</td>\n",
       "      <td>0</td>\n",
       "      <td>0.0</td>\n",
       "      <td>240.0</td>\n",
       "      <td>...</td>\n",
       "      <td>NaN</td>\n",
       "      <td>NaN</td>\n",
       "      <td>NaN</td>\n",
       "      <td>NaN</td>\n",
       "      <td>4.0</td>\n",
       "      <td>NaN</td>\n",
       "      <td>NaN</td>\n",
       "      <td>NaN</td>\n",
       "      <td>NaN</td>\n",
       "      <td>NaN</td>\n",
       "    </tr>\n",
       "    <tr>\n",
       "      <th>21480000002</th>\n",
       "      <td>0.0</td>\n",
       "      <td>0</td>\n",
       "      <td>0.0</td>\n",
       "      <td>0</td>\n",
       "      <td>0</td>\n",
       "      <td>0.0</td>\n",
       "      <td>0.0</td>\n",
       "      <td>0</td>\n",
       "      <td>0.0</td>\n",
       "      <td>0.0</td>\n",
       "      <td>...</td>\n",
       "      <td>NaN</td>\n",
       "      <td>NaN</td>\n",
       "      <td>NaN</td>\n",
       "      <td>NaN</td>\n",
       "      <td>NaN</td>\n",
       "      <td>NaN</td>\n",
       "      <td>NaN</td>\n",
       "      <td>NaN</td>\n",
       "      <td>NaN</td>\n",
       "      <td>4.0</td>\n",
       "    </tr>\n",
       "    <tr>\n",
       "      <th>21650000007</th>\n",
       "      <td>0.0</td>\n",
       "      <td>0</td>\n",
       "      <td>0.0</td>\n",
       "      <td>0</td>\n",
       "      <td>0</td>\n",
       "      <td>0.0</td>\n",
       "      <td>0.0</td>\n",
       "      <td>0</td>\n",
       "      <td>0.0</td>\n",
       "      <td>0.0</td>\n",
       "      <td>...</td>\n",
       "      <td>NaN</td>\n",
       "      <td>NaN</td>\n",
       "      <td>NaN</td>\n",
       "      <td>NaN</td>\n",
       "      <td>NaN</td>\n",
       "      <td>4.0</td>\n",
       "      <td>NaN</td>\n",
       "      <td>NaN</td>\n",
       "      <td>NaN</td>\n",
       "      <td>NaN</td>\n",
       "    </tr>\n",
       "    <tr>\n",
       "      <th>21700000013</th>\n",
       "      <td>0.0</td>\n",
       "      <td>0</td>\n",
       "      <td>0.0</td>\n",
       "      <td>0</td>\n",
       "      <td>0</td>\n",
       "      <td>0.0</td>\n",
       "      <td>0.0</td>\n",
       "      <td>225</td>\n",
       "      <td>0.0</td>\n",
       "      <td>0.0</td>\n",
       "      <td>...</td>\n",
       "      <td>NaN</td>\n",
       "      <td>NaN</td>\n",
       "      <td>5.0</td>\n",
       "      <td>NaN</td>\n",
       "      <td>NaN</td>\n",
       "      <td>NaN</td>\n",
       "      <td>NaN</td>\n",
       "      <td>NaN</td>\n",
       "      <td>NaN</td>\n",
       "      <td>NaN</td>\n",
       "    </tr>\n",
       "    <tr>\n",
       "      <th>21750000013</th>\n",
       "      <td>0.0</td>\n",
       "      <td>0</td>\n",
       "      <td>0.0</td>\n",
       "      <td>0</td>\n",
       "      <td>0</td>\n",
       "      <td>0.0</td>\n",
       "      <td>0.0</td>\n",
       "      <td>450</td>\n",
       "      <td>300.0</td>\n",
       "      <td>0.0</td>\n",
       "      <td>...</td>\n",
       "      <td>NaN</td>\n",
       "      <td>NaN</td>\n",
       "      <td>4.0</td>\n",
       "      <td>4.0</td>\n",
       "      <td>NaN</td>\n",
       "      <td>NaN</td>\n",
       "      <td>NaN</td>\n",
       "      <td>NaN</td>\n",
       "      <td>NaN</td>\n",
       "      <td>NaN</td>\n",
       "    </tr>\n",
       "  </tbody>\n",
       "</table>\n",
       "<p>5 rows × 30 columns</p>\n",
       "</div>"
      ],
      "text/plain": [
       "l_dscr       Basic Outdoor Kitchen_uts  Brick or Stone Detached Garage_uts  \\\n",
       "acct                                                                         \n",
       "21440000001                        0.0                                   0   \n",
       "21480000002                        0.0                                   0   \n",
       "21650000007                        0.0                                   0   \n",
       "21700000013                        0.0                                   0   \n",
       "21750000013                        0.0                                   0   \n",
       "\n",
       "l_dscr       Canopy - Residential_uts  Carport - Residential_uts  \\\n",
       "acct                                                               \n",
       "21440000001                       0.0                          0   \n",
       "21480000002                       0.0                          0   \n",
       "21650000007                       0.0                          0   \n",
       "21700000013                       0.0                          0   \n",
       "21750000013                       0.0                          0   \n",
       "\n",
       "l_dscr       Cracked Slab_uts  Custom Outdoor Kitchen_uts  \\\n",
       "acct                                                        \n",
       "21440000001                 0                         0.0   \n",
       "21480000002                 0                         0.0   \n",
       "21650000007                 0                         0.0   \n",
       "21700000013                 0                         0.0   \n",
       "21750000013                 0                         0.0   \n",
       "\n",
       "l_dscr       Foundation Repaired_uts  Frame Detached Garage_uts  \\\n",
       "acct                                                              \n",
       "21440000001                      0.0                          0   \n",
       "21480000002                      0.0                          0   \n",
       "21650000007                      0.0                          0   \n",
       "21700000013                      0.0                        225   \n",
       "21750000013                      0.0                        450   \n",
       "\n",
       "l_dscr       Frame Detached Garage w/living area abov_uts  \\\n",
       "acct                                                        \n",
       "21440000001                                           0.0   \n",
       "21480000002                                           0.0   \n",
       "21650000007                                           0.0   \n",
       "21700000013                                           0.0   \n",
       "21750000013                                         300.0   \n",
       "\n",
       "l_dscr       Frame Utility Shed_uts  ...  Custom Outdoor Kitchen_grade  \\\n",
       "acct                                 ...                                 \n",
       "21440000001                   240.0  ...                           NaN   \n",
       "21480000002                     0.0  ...                           NaN   \n",
       "21650000007                     0.0  ...                           NaN   \n",
       "21700000013                     0.0  ...                           NaN   \n",
       "21750000013                     0.0  ...                           NaN   \n",
       "\n",
       "l_dscr       Foundation Repaired_grade  Frame Detached Garage_grade  \\\n",
       "acct                                                                  \n",
       "21440000001                        NaN                          NaN   \n",
       "21480000002                        NaN                          NaN   \n",
       "21650000007                        NaN                          NaN   \n",
       "21700000013                        NaN                          5.0   \n",
       "21750000013                        NaN                          4.0   \n",
       "\n",
       "l_dscr       Frame Detached Garage w/living area abov_grade  \\\n",
       "acct                                                          \n",
       "21440000001                                             NaN   \n",
       "21480000002                                             NaN   \n",
       "21650000007                                             NaN   \n",
       "21700000013                                             NaN   \n",
       "21750000013                                             4.0   \n",
       "\n",
       "l_dscr       Frame Utility Shed_grade  Gunite Pool_grade  \\\n",
       "acct                                                       \n",
       "21440000001                       4.0                NaN   \n",
       "21480000002                       NaN                NaN   \n",
       "21650000007                       NaN                4.0   \n",
       "21700000013                       NaN                NaN   \n",
       "21750000013                       NaN                NaN   \n",
       "\n",
       "l_dscr       Metal Utility Shed_grade  Pool SPA with Heater_grade  \\\n",
       "acct                                                                \n",
       "21440000001                       NaN                         NaN   \n",
       "21480000002                       NaN                         NaN   \n",
       "21650000007                       NaN                         NaN   \n",
       "21700000013                       NaN                         NaN   \n",
       "21750000013                       NaN                         NaN   \n",
       "\n",
       "l_dscr       Reinforced Concrete Pool_grade  \\\n",
       "acct                                          \n",
       "21440000001                             NaN   \n",
       "21480000002                             NaN   \n",
       "21650000007                             NaN   \n",
       "21700000013                             NaN   \n",
       "21750000013                             NaN   \n",
       "\n",
       "l_dscr       Residential Other Gross Value_grade  \n",
       "acct                                              \n",
       "21440000001                                  NaN  \n",
       "21480000002                                  4.0  \n",
       "21650000007                                  NaN  \n",
       "21700000013                                  NaN  \n",
       "21750000013                                  NaN  \n",
       "\n",
       "[5 rows x 30 columns]"
      ]
     },
     "execution_count": 17,
     "metadata": {},
     "output_type": "execute_result"
    }
   ],
   "source": [
    "extra_features_uts_grade.head()"
   ]
  },
  {
   "cell_type": "code",
   "execution_count": 18,
   "metadata": {
    "ExecuteTime": {
     "end_time": "2020-07-28T11:04:20.206180Z",
     "start_time": "2020-07-28T11:04:20.185324Z"
    },
    "execution": {
     "iopub.execute_input": "2020-07-28T11:16:46.072312Z",
     "iopub.status.busy": "2020-07-28T11:16:46.071513Z",
     "iopub.status.idle": "2020-07-28T11:16:46.082881Z",
     "shell.execute_reply": "2020-07-28T11:16:46.082442Z"
    },
    "papermill": {
     "duration": 0.033844,
     "end_time": "2020-07-28T11:16:46.083017",
     "exception": false,
     "start_time": "2020-07-28T11:16:46.049173",
     "status": "completed"
    },
    "tags": []
   },
   "outputs": [],
   "source": [
    "assert extra_features_uts_grade.index.is_unique"
   ]
  },
  {
   "cell_type": "markdown",
   "metadata": {
    "papermill": {
     "duration": 0.019935,
     "end_time": "2020-07-28T11:16:46.123517",
     "exception": false,
     "start_time": "2020-07-28T11:16:46.103582",
     "status": "completed"
    },
    "tags": []
   },
   "source": [
    "add `acct` column to make easier the merging process ahead"
   ]
  },
  {
   "cell_type": "code",
   "execution_count": 19,
   "metadata": {
    "ExecuteTime": {
     "end_time": "2020-07-28T11:04:20.224505Z",
     "start_time": "2020-07-28T11:04:20.207927Z"
    },
    "execution": {
     "iopub.execute_input": "2020-07-28T11:16:46.170863Z",
     "iopub.status.busy": "2020-07-28T11:16:46.170318Z",
     "iopub.status.idle": "2020-07-28T11:16:46.182637Z",
     "shell.execute_reply": "2020-07-28T11:16:46.182090Z"
    },
    "papermill": {
     "duration": 0.03625,
     "end_time": "2020-07-28T11:16:46.182761",
     "exception": false,
     "start_time": "2020-07-28T11:16:46.146511",
     "status": "completed"
    },
    "tags": []
   },
   "outputs": [],
   "source": [
    "extra_features_uts_grade.reset_index(inplace=True)"
   ]
  },
  {
   "cell_type": "markdown",
   "metadata": {
    "papermill": {
     "duration": 0.019369,
     "end_time": "2020-07-28T11:16:46.221458",
     "exception": false,
     "start_time": "2020-07-28T11:16:46.202089",
     "status": "completed"
    },
    "tags": []
   },
   "source": [
    "# Fix column names\n",
    "We would like the column names to be all lower case, with no spaces nor non-alphanumeric characters."
   ]
  },
  {
   "cell_type": "code",
   "execution_count": 20,
   "metadata": {
    "ExecuteTime": {
     "end_time": "2020-07-28T11:04:20.240937Z",
     "start_time": "2020-07-28T11:04:20.227365Z"
    },
    "execution": {
     "iopub.execute_input": "2020-07-28T11:16:46.265814Z",
     "iopub.status.busy": "2020-07-28T11:16:46.265003Z",
     "iopub.status.idle": "2020-07-28T11:16:46.279639Z",
     "shell.execute_reply": "2020-07-28T11:16:46.279201Z"
    },
    "papermill": {
     "duration": 0.039022,
     "end_time": "2020-07-28T11:16:46.279759",
     "exception": false,
     "start_time": "2020-07-28T11:16:46.240737",
     "status": "completed"
    },
    "tags": []
   },
   "outputs": [],
   "source": [
    "from src.data.utils import fix_column_names"
   ]
  },
  {
   "cell_type": "code",
   "execution_count": 21,
   "metadata": {
    "ExecuteTime": {
     "end_time": "2020-07-28T11:04:20.261387Z",
     "start_time": "2020-07-28T11:04:20.243396Z"
    },
    "execution": {
     "iopub.execute_input": "2020-07-28T11:16:46.322144Z",
     "iopub.status.busy": "2020-07-28T11:16:46.321636Z",
     "iopub.status.idle": "2020-07-28T11:16:46.335309Z",
     "shell.execute_reply": "2020-07-28T11:16:46.334885Z"
    },
    "papermill": {
     "duration": 0.036239,
     "end_time": "2020-07-28T11:16:46.335470",
     "exception": false,
     "start_time": "2020-07-28T11:16:46.299231",
     "status": "completed"
    },
    "tags": []
   },
   "outputs": [
    {
     "data": {
      "text/plain": [
       "Index(['acct', 'Basic Outdoor Kitchen_uts',\n",
       "       'Brick or Stone Detached Garage_uts', 'Canopy - Residential_uts',\n",
       "       'Carport - Residential_uts', 'Cracked Slab_uts',\n",
       "       'Custom Outdoor Kitchen_uts', 'Foundation Repaired_uts',\n",
       "       'Frame Detached Garage_uts',\n",
       "       'Frame Detached Garage w/living area abov_uts',\n",
       "       'Frame Utility Shed_uts', 'Gunite Pool_uts', 'Metal Utility Shed_uts',\n",
       "       'Pool SPA with Heater_uts', 'Reinforced Concrete Pool_uts',\n",
       "       'Residential Other Gross Value_uts', 'Basic Outdoor Kitchen_grade',\n",
       "       'Brick or Stone Detached Garage_grade', 'Canopy - Residential_grade',\n",
       "       'Carport - Residential_grade', 'Cracked Slab_grade',\n",
       "       'Custom Outdoor Kitchen_grade', 'Foundation Repaired_grade',\n",
       "       'Frame Detached Garage_grade',\n",
       "       'Frame Detached Garage w/living area abov_grade',\n",
       "       'Frame Utility Shed_grade', 'Gunite Pool_grade',\n",
       "       'Metal Utility Shed_grade', 'Pool SPA with Heater_grade',\n",
       "       'Reinforced Concrete Pool_grade',\n",
       "       'Residential Other Gross Value_grade'],\n",
       "      dtype='object', name='l_dscr')"
      ]
     },
     "execution_count": 21,
     "metadata": {},
     "output_type": "execute_result"
    }
   ],
   "source": [
    "extra_features_uts_grade.columns"
   ]
  },
  {
   "cell_type": "code",
   "execution_count": 22,
   "metadata": {
    "ExecuteTime": {
     "end_time": "2020-07-28T11:04:20.281596Z",
     "start_time": "2020-07-28T11:04:20.263793Z"
    },
    "execution": {
     "iopub.execute_input": "2020-07-28T11:16:46.380427Z",
     "iopub.status.busy": "2020-07-28T11:16:46.379912Z",
     "iopub.status.idle": "2020-07-28T11:16:46.391057Z",
     "shell.execute_reply": "2020-07-28T11:16:46.391456Z"
    },
    "papermill": {
     "duration": 0.034569,
     "end_time": "2020-07-28T11:16:46.391599",
     "exception": false,
     "start_time": "2020-07-28T11:16:46.357030",
     "status": "completed"
    },
    "tags": []
   },
   "outputs": [],
   "source": [
    "extra_features_uts_grade = fix_column_names(extra_features_uts_grade)"
   ]
  },
  {
   "cell_type": "code",
   "execution_count": 23,
   "metadata": {
    "ExecuteTime": {
     "end_time": "2020-07-28T11:04:20.309149Z",
     "start_time": "2020-07-28T11:04:20.286722Z"
    },
    "execution": {
     "iopub.execute_input": "2020-07-28T11:16:46.435564Z",
     "iopub.status.busy": "2020-07-28T11:16:46.435054Z",
     "iopub.status.idle": "2020-07-28T11:16:46.446958Z",
     "shell.execute_reply": "2020-07-28T11:16:46.447355Z"
    },
    "papermill": {
     "duration": 0.035251,
     "end_time": "2020-07-28T11:16:46.447502",
     "exception": false,
     "start_time": "2020-07-28T11:16:46.412251",
     "status": "completed"
    },
    "tags": []
   },
   "outputs": [
    {
     "data": {
      "text/plain": [
       "Index(['acct', 'basic_outdoor_kitchen_uts',\n",
       "       'brick_or_stone_detached_garage_uts', 'canopy_residential_uts',\n",
       "       'carport_residential_uts', 'cracked_slab_uts',\n",
       "       'custom_outdoor_kitchen_uts', 'foundation_repaired_uts',\n",
       "       'frame_detached_garage_uts',\n",
       "       'frame_detached_garage_w_living_area_abov_uts',\n",
       "       'frame_utility_shed_uts', 'gunite_pool_uts', 'metal_utility_shed_uts',\n",
       "       'pool_spa_with_heater_uts', 'reinforced_concrete_pool_uts',\n",
       "       'residential_other_gross_value_uts', 'basic_outdoor_kitchen_grade',\n",
       "       'brick_or_stone_detached_garage_grade', 'canopy_residential_grade',\n",
       "       'carport_residential_grade', 'cracked_slab_grade',\n",
       "       'custom_outdoor_kitchen_grade', 'foundation_repaired_grade',\n",
       "       'frame_detached_garage_grade',\n",
       "       'frame_detached_garage_w_living_area_abov_grade',\n",
       "       'frame_utility_shed_grade', 'gunite_pool_grade',\n",
       "       'metal_utility_shed_grade', 'pool_spa_with_heater_grade',\n",
       "       'reinforced_concrete_pool_grade',\n",
       "       'residential_other_gross_value_grade'],\n",
       "      dtype='object')"
      ]
     },
     "execution_count": 23,
     "metadata": {},
     "output_type": "execute_result"
    }
   ],
   "source": [
    "extra_features_uts_grade.columns"
   ]
  },
  {
   "cell_type": "markdown",
   "metadata": {
    "papermill": {
     "duration": 0.020058,
     "end_time": "2020-07-28T11:16:46.488207",
     "exception": false,
     "start_time": "2020-07-28T11:16:46.468149",
     "status": "completed"
    },
    "tags": []
   },
   "source": [
    "### Find duplicated rows"
   ]
  },
  {
   "cell_type": "code",
   "execution_count": 24,
   "metadata": {
    "ExecuteTime": {
     "end_time": "2020-07-28T11:04:20.832935Z",
     "start_time": "2020-07-28T11:04:20.311921Z"
    },
    "execution": {
     "iopub.execute_input": "2020-07-28T11:16:46.533842Z",
     "iopub.status.busy": "2020-07-28T11:16:46.533166Z",
     "iopub.status.idle": "2020-07-28T11:16:47.020466Z",
     "shell.execute_reply": "2020-07-28T11:16:47.020869Z"
    },
    "papermill": {
     "duration": 0.511867,
     "end_time": "2020-07-28T11:16:47.021011",
     "exception": false,
     "start_time": "2020-07-28T11:16:46.509144",
     "status": "completed"
    },
    "tags": []
   },
   "outputs": [
    {
     "data": {
      "text/html": [
       "<div>\n",
       "<style scoped>\n",
       "    .dataframe tbody tr th:only-of-type {\n",
       "        vertical-align: middle;\n",
       "    }\n",
       "\n",
       "    .dataframe tbody tr th {\n",
       "        vertical-align: top;\n",
       "    }\n",
       "\n",
       "    .dataframe thead th {\n",
       "        text-align: right;\n",
       "    }\n",
       "</style>\n",
       "<table border=\"1\" class=\"dataframe\">\n",
       "  <thead>\n",
       "    <tr style=\"text-align: right;\">\n",
       "      <th></th>\n",
       "      <th>acct</th>\n",
       "      <th>basic_outdoor_kitchen_uts</th>\n",
       "      <th>brick_or_stone_detached_garage_uts</th>\n",
       "      <th>canopy_residential_uts</th>\n",
       "      <th>carport_residential_uts</th>\n",
       "      <th>cracked_slab_uts</th>\n",
       "      <th>custom_outdoor_kitchen_uts</th>\n",
       "      <th>foundation_repaired_uts</th>\n",
       "      <th>frame_detached_garage_uts</th>\n",
       "      <th>frame_detached_garage_w_living_area_abov_uts</th>\n",
       "      <th>...</th>\n",
       "      <th>custom_outdoor_kitchen_grade</th>\n",
       "      <th>foundation_repaired_grade</th>\n",
       "      <th>frame_detached_garage_grade</th>\n",
       "      <th>frame_detached_garage_w_living_area_abov_grade</th>\n",
       "      <th>frame_utility_shed_grade</th>\n",
       "      <th>gunite_pool_grade</th>\n",
       "      <th>metal_utility_shed_grade</th>\n",
       "      <th>pool_spa_with_heater_grade</th>\n",
       "      <th>reinforced_concrete_pool_grade</th>\n",
       "      <th>residential_other_gross_value_grade</th>\n",
       "    </tr>\n",
       "  </thead>\n",
       "  <tbody>\n",
       "  </tbody>\n",
       "</table>\n",
       "<p>0 rows × 31 columns</p>\n",
       "</div>"
      ],
      "text/plain": [
       "Empty DataFrame\n",
       "Columns: [acct, basic_outdoor_kitchen_uts, brick_or_stone_detached_garage_uts, canopy_residential_uts, carport_residential_uts, cracked_slab_uts, custom_outdoor_kitchen_uts, foundation_repaired_uts, frame_detached_garage_uts, frame_detached_garage_w_living_area_abov_uts, frame_utility_shed_uts, gunite_pool_uts, metal_utility_shed_uts, pool_spa_with_heater_uts, reinforced_concrete_pool_uts, residential_other_gross_value_uts, basic_outdoor_kitchen_grade, brick_or_stone_detached_garage_grade, canopy_residential_grade, carport_residential_grade, cracked_slab_grade, custom_outdoor_kitchen_grade, foundation_repaired_grade, frame_detached_garage_grade, frame_detached_garage_w_living_area_abov_grade, frame_utility_shed_grade, gunite_pool_grade, metal_utility_shed_grade, pool_spa_with_heater_grade, reinforced_concrete_pool_grade, residential_other_gross_value_grade]\n",
       "Index: []\n",
       "\n",
       "[0 rows x 31 columns]"
      ]
     },
     "execution_count": 24,
     "metadata": {},
     "output_type": "execute_result"
    }
   ],
   "source": [
    "cond0 = extra_features_uts_grade.duplicated()\n",
    "extra_features_uts_grade.loc[cond0, :]"
   ]
  },
  {
   "cell_type": "markdown",
   "metadata": {
    "papermill": {
     "duration": 0.020892,
     "end_time": "2020-07-28T11:16:47.062828",
     "exception": false,
     "start_time": "2020-07-28T11:16:47.041936",
     "status": "completed"
    },
    "tags": []
   },
   "source": [
    "# Describe"
   ]
  },
  {
   "cell_type": "code",
   "execution_count": 25,
   "metadata": {
    "ExecuteTime": {
     "end_time": "2020-07-28T11:04:20.904707Z",
     "start_time": "2020-07-28T11:04:20.835275Z"
    },
    "execution": {
     "iopub.execute_input": "2020-07-28T11:16:47.110204Z",
     "iopub.status.busy": "2020-07-28T11:16:47.109689Z",
     "iopub.status.idle": "2020-07-28T11:16:47.159469Z",
     "shell.execute_reply": "2020-07-28T11:16:47.158892Z"
    },
    "papermill": {
     "duration": 0.07497,
     "end_time": "2020-07-28T11:16:47.159598",
     "exception": false,
     "start_time": "2020-07-28T11:16:47.084628",
     "status": "completed"
    },
    "tags": []
   },
   "outputs": [
    {
     "name": "stdout",
     "output_type": "stream",
     "text": [
      "<class 'pandas.core.frame.DataFrame'>\n",
      "RangeIndex: 429701 entries, 0 to 429700\n",
      "Data columns (total 31 columns):\n",
      " #   Column                                          Non-Null Count   Dtype  \n",
      "---  ------                                          --------------   -----  \n",
      " 0   acct                                            429701 non-null  int64  \n",
      " 1   basic_outdoor_kitchen_uts                       429701 non-null  float64\n",
      " 2   brick_or_stone_detached_garage_uts              429701 non-null  int64  \n",
      " 3   canopy_residential_uts                          429701 non-null  float64\n",
      " 4   carport_residential_uts                         429701 non-null  int64  \n",
      " 5   cracked_slab_uts                                429701 non-null  int64  \n",
      " 6   custom_outdoor_kitchen_uts                      429701 non-null  float64\n",
      " 7   foundation_repaired_uts                         429701 non-null  float64\n",
      " 8   frame_detached_garage_uts                       429701 non-null  int64  \n",
      " 9   frame_detached_garage_w_living_area_abov_uts    429701 non-null  float64\n",
      " 10  frame_utility_shed_uts                          429701 non-null  float64\n",
      " 11  gunite_pool_uts                                 429701 non-null  float64\n",
      " 12  metal_utility_shed_uts                          429701 non-null  int64  \n",
      " 13  pool_spa_with_heater_uts                        429701 non-null  float64\n",
      " 14  reinforced_concrete_pool_uts                    429701 non-null  int64  \n",
      " 15  residential_other_gross_value_uts               429701 non-null  float64\n",
      " 16  basic_outdoor_kitchen_grade                     2303 non-null    float64\n",
      " 17  brick_or_stone_detached_garage_grade            13743 non-null   float64\n",
      " 18  canopy_residential_grade                        80708 non-null   float64\n",
      " 19  carport_residential_grade                       73048 non-null   float64\n",
      " 20  cracked_slab_grade                              16121 non-null   float64\n",
      " 21  custom_outdoor_kitchen_grade                    4294 non-null    float64\n",
      " 22  foundation_repaired_grade                       17653 non-null   float64\n",
      " 23  frame_detached_garage_grade                     180708 non-null  float64\n",
      " 24  frame_detached_garage_w_living_area_abov_grade  7047 non-null    float64\n",
      " 25  frame_utility_shed_grade                        87819 non-null   float64\n",
      " 26  gunite_pool_grade                               87949 non-null   float64\n",
      " 27  metal_utility_shed_grade                        18365 non-null   float64\n",
      " 28  pool_spa_with_heater_grade                      37211 non-null   float64\n",
      " 29  reinforced_concrete_pool_grade                  3729 non-null    float64\n",
      " 30  residential_other_gross_value_grade             14550 non-null   float64\n",
      "dtypes: float64(24), int64(7)\n",
      "memory usage: 101.6 MB\n"
     ]
    }
   ],
   "source": [
    "extra_features_uts_grade.info()"
   ]
  },
  {
   "cell_type": "code",
   "execution_count": 26,
   "metadata": {
    "ExecuteTime": {
     "end_time": "2020-07-28T11:04:21.484599Z",
     "start_time": "2020-07-28T11:04:20.908020Z"
    },
    "execution": {
     "iopub.execute_input": "2020-07-28T11:16:47.205681Z",
     "iopub.status.busy": "2020-07-28T11:16:47.205169Z",
     "iopub.status.idle": "2020-07-28T11:16:47.734647Z",
     "shell.execute_reply": "2020-07-28T11:16:47.735052Z"
    },
    "papermill": {
     "duration": 0.554502,
     "end_time": "2020-07-28T11:16:47.735198",
     "exception": false,
     "start_time": "2020-07-28T11:16:47.180696",
     "status": "completed"
    },
    "tags": []
   },
   "outputs": [
    {
     "data": {
      "text/html": [
       "<div>\n",
       "<style scoped>\n",
       "    .dataframe tbody tr th:only-of-type {\n",
       "        vertical-align: middle;\n",
       "    }\n",
       "\n",
       "    .dataframe tbody tr th {\n",
       "        vertical-align: top;\n",
       "    }\n",
       "\n",
       "    .dataframe thead th {\n",
       "        text-align: right;\n",
       "    }\n",
       "</style>\n",
       "<table border=\"1\" class=\"dataframe\">\n",
       "  <thead>\n",
       "    <tr style=\"text-align: right;\">\n",
       "      <th></th>\n",
       "      <th>acct</th>\n",
       "      <th>basic_outdoor_kitchen_uts</th>\n",
       "      <th>brick_or_stone_detached_garage_uts</th>\n",
       "      <th>canopy_residential_uts</th>\n",
       "      <th>carport_residential_uts</th>\n",
       "      <th>cracked_slab_uts</th>\n",
       "      <th>custom_outdoor_kitchen_uts</th>\n",
       "      <th>foundation_repaired_uts</th>\n",
       "      <th>frame_detached_garage_uts</th>\n",
       "      <th>frame_detached_garage_w_living_area_abov_uts</th>\n",
       "      <th>...</th>\n",
       "      <th>custom_outdoor_kitchen_grade</th>\n",
       "      <th>foundation_repaired_grade</th>\n",
       "      <th>frame_detached_garage_grade</th>\n",
       "      <th>frame_detached_garage_w_living_area_abov_grade</th>\n",
       "      <th>frame_utility_shed_grade</th>\n",
       "      <th>gunite_pool_grade</th>\n",
       "      <th>metal_utility_shed_grade</th>\n",
       "      <th>pool_spa_with_heater_grade</th>\n",
       "      <th>reinforced_concrete_pool_grade</th>\n",
       "      <th>residential_other_gross_value_grade</th>\n",
       "    </tr>\n",
       "  </thead>\n",
       "  <tbody>\n",
       "    <tr>\n",
       "      <th>count</th>\n",
       "      <td>4.297010e+05</td>\n",
       "      <td>429701.000000</td>\n",
       "      <td>429701.000000</td>\n",
       "      <td>429701.000000</td>\n",
       "      <td>429701.000000</td>\n",
       "      <td>429701.000000</td>\n",
       "      <td>429701.000000</td>\n",
       "      <td>429701.000000</td>\n",
       "      <td>429701.000000</td>\n",
       "      <td>429701.000000</td>\n",
       "      <td>...</td>\n",
       "      <td>4294.000000</td>\n",
       "      <td>17653.000000</td>\n",
       "      <td>180708.000000</td>\n",
       "      <td>7047.000000</td>\n",
       "      <td>87819.000000</td>\n",
       "      <td>87949.000000</td>\n",
       "      <td>18365.000000</td>\n",
       "      <td>37211.000000</td>\n",
       "      <td>3729.000000</td>\n",
       "      <td>14550.000000</td>\n",
       "    </tr>\n",
       "    <tr>\n",
       "      <th>mean</th>\n",
       "      <td>9.272519e+11</td>\n",
       "      <td>0.006876</td>\n",
       "      <td>19.495272</td>\n",
       "      <td>52.361754</td>\n",
       "      <td>71.469364</td>\n",
       "      <td>58.690378</td>\n",
       "      <td>0.010087</td>\n",
       "      <td>74.098459</td>\n",
       "      <td>213.682570</td>\n",
       "      <td>9.658162</td>\n",
       "      <td>...</td>\n",
       "      <td>3.261877</td>\n",
       "      <td>4.001076</td>\n",
       "      <td>4.546280</td>\n",
       "      <td>3.964027</td>\n",
       "      <td>4.490624</td>\n",
       "      <td>3.882460</td>\n",
       "      <td>4.630054</td>\n",
       "      <td>3.846954</td>\n",
       "      <td>3.998391</td>\n",
       "      <td>3.992131</td>\n",
       "    </tr>\n",
       "    <tr>\n",
       "      <th>std</th>\n",
       "      <td>2.642891e+11</td>\n",
       "      <td>0.498158</td>\n",
       "      <td>116.572033</td>\n",
       "      <td>146.890090</td>\n",
       "      <td>185.677686</td>\n",
       "      <td>315.733131</td>\n",
       "      <td>0.101181</td>\n",
       "      <td>375.256007</td>\n",
       "      <td>273.810794</td>\n",
       "      <td>79.669605</td>\n",
       "      <td>...</td>\n",
       "      <td>0.960405</td>\n",
       "      <td>0.043224</td>\n",
       "      <td>0.551933</td>\n",
       "      <td>0.716937</td>\n",
       "      <td>0.594026</td>\n",
       "      <td>0.465277</td>\n",
       "      <td>0.577235</td>\n",
       "      <td>0.494620</td>\n",
       "      <td>0.284616</td>\n",
       "      <td>0.284215</td>\n",
       "    </tr>\n",
       "    <tr>\n",
       "      <th>min</th>\n",
       "      <td>2.144000e+10</td>\n",
       "      <td>0.000000</td>\n",
       "      <td>0.000000</td>\n",
       "      <td>0.000000</td>\n",
       "      <td>0.000000</td>\n",
       "      <td>0.000000</td>\n",
       "      <td>0.000000</td>\n",
       "      <td>0.000000</td>\n",
       "      <td>0.000000</td>\n",
       "      <td>0.000000</td>\n",
       "      <td>...</td>\n",
       "      <td>1.000000</td>\n",
       "      <td>1.000000</td>\n",
       "      <td>1.000000</td>\n",
       "      <td>1.000000</td>\n",
       "      <td>1.000000</td>\n",
       "      <td>1.000000</td>\n",
       "      <td>1.000000</td>\n",
       "      <td>1.000000</td>\n",
       "      <td>1.000000</td>\n",
       "      <td>1.000000</td>\n",
       "    </tr>\n",
       "    <tr>\n",
       "      <th>25%</th>\n",
       "      <td>7.705001e+11</td>\n",
       "      <td>0.000000</td>\n",
       "      <td>0.000000</td>\n",
       "      <td>0.000000</td>\n",
       "      <td>0.000000</td>\n",
       "      <td>0.000000</td>\n",
       "      <td>0.000000</td>\n",
       "      <td>0.000000</td>\n",
       "      <td>0.000000</td>\n",
       "      <td>0.000000</td>\n",
       "      <td>...</td>\n",
       "      <td>3.000000</td>\n",
       "      <td>4.000000</td>\n",
       "      <td>4.000000</td>\n",
       "      <td>4.000000</td>\n",
       "      <td>4.000000</td>\n",
       "      <td>4.000000</td>\n",
       "      <td>4.000000</td>\n",
       "      <td>4.000000</td>\n",
       "      <td>4.000000</td>\n",
       "      <td>4.000000</td>\n",
       "    </tr>\n",
       "    <tr>\n",
       "      <th>50%</th>\n",
       "      <td>9.937500e+11</td>\n",
       "      <td>0.000000</td>\n",
       "      <td>0.000000</td>\n",
       "      <td>0.000000</td>\n",
       "      <td>0.000000</td>\n",
       "      <td>0.000000</td>\n",
       "      <td>0.000000</td>\n",
       "      <td>0.000000</td>\n",
       "      <td>0.000000</td>\n",
       "      <td>0.000000</td>\n",
       "      <td>...</td>\n",
       "      <td>4.000000</td>\n",
       "      <td>4.000000</td>\n",
       "      <td>5.000000</td>\n",
       "      <td>4.000000</td>\n",
       "      <td>4.500000</td>\n",
       "      <td>4.000000</td>\n",
       "      <td>5.000000</td>\n",
       "      <td>4.000000</td>\n",
       "      <td>4.000000</td>\n",
       "      <td>4.000000</td>\n",
       "    </tr>\n",
       "    <tr>\n",
       "      <th>75%</th>\n",
       "      <td>1.143770e+12</td>\n",
       "      <td>0.000000</td>\n",
       "      <td>0.000000</td>\n",
       "      <td>0.000000</td>\n",
       "      <td>0.000000</td>\n",
       "      <td>0.000000</td>\n",
       "      <td>0.000000</td>\n",
       "      <td>0.000000</td>\n",
       "      <td>462.000000</td>\n",
       "      <td>0.000000</td>\n",
       "      <td>...</td>\n",
       "      <td>4.000000</td>\n",
       "      <td>4.000000</td>\n",
       "      <td>5.000000</td>\n",
       "      <td>4.000000</td>\n",
       "      <td>5.000000</td>\n",
       "      <td>4.000000</td>\n",
       "      <td>5.000000</td>\n",
       "      <td>4.000000</td>\n",
       "      <td>4.000000</td>\n",
       "      <td>4.000000</td>\n",
       "    </tr>\n",
       "    <tr>\n",
       "      <th>max</th>\n",
       "      <td>1.373580e+12</td>\n",
       "      <td>256.000000</td>\n",
       "      <td>11086.000000</td>\n",
       "      <td>15450.000000</td>\n",
       "      <td>19000.000000</td>\n",
       "      <td>9153.000000</td>\n",
       "      <td>5.000000</td>\n",
       "      <td>8952.000000</td>\n",
       "      <td>10406.000000</td>\n",
       "      <td>2920.000000</td>\n",
       "      <td>...</td>\n",
       "      <td>6.000000</td>\n",
       "      <td>5.000000</td>\n",
       "      <td>6.000000</td>\n",
       "      <td>6.000000</td>\n",
       "      <td>6.000000</td>\n",
       "      <td>6.000000</td>\n",
       "      <td>6.000000</td>\n",
       "      <td>6.000000</td>\n",
       "      <td>6.000000</td>\n",
       "      <td>6.000000</td>\n",
       "    </tr>\n",
       "  </tbody>\n",
       "</table>\n",
       "<p>8 rows × 31 columns</p>\n",
       "</div>"
      ],
      "text/plain": [
       "               acct  basic_outdoor_kitchen_uts  \\\n",
       "count  4.297010e+05              429701.000000   \n",
       "mean   9.272519e+11                   0.006876   \n",
       "std    2.642891e+11                   0.498158   \n",
       "min    2.144000e+10                   0.000000   \n",
       "25%    7.705001e+11                   0.000000   \n",
       "50%    9.937500e+11                   0.000000   \n",
       "75%    1.143770e+12                   0.000000   \n",
       "max    1.373580e+12                 256.000000   \n",
       "\n",
       "       brick_or_stone_detached_garage_uts  canopy_residential_uts  \\\n",
       "count                       429701.000000           429701.000000   \n",
       "mean                            19.495272               52.361754   \n",
       "std                            116.572033              146.890090   \n",
       "min                              0.000000                0.000000   \n",
       "25%                              0.000000                0.000000   \n",
       "50%                              0.000000                0.000000   \n",
       "75%                              0.000000                0.000000   \n",
       "max                          11086.000000            15450.000000   \n",
       "\n",
       "       carport_residential_uts  cracked_slab_uts  custom_outdoor_kitchen_uts  \\\n",
       "count            429701.000000     429701.000000               429701.000000   \n",
       "mean                 71.469364         58.690378                    0.010087   \n",
       "std                 185.677686        315.733131                    0.101181   \n",
       "min                   0.000000          0.000000                    0.000000   \n",
       "25%                   0.000000          0.000000                    0.000000   \n",
       "50%                   0.000000          0.000000                    0.000000   \n",
       "75%                   0.000000          0.000000                    0.000000   \n",
       "max               19000.000000       9153.000000                    5.000000   \n",
       "\n",
       "       foundation_repaired_uts  frame_detached_garage_uts  \\\n",
       "count            429701.000000              429701.000000   \n",
       "mean                 74.098459                 213.682570   \n",
       "std                 375.256007                 273.810794   \n",
       "min                   0.000000                   0.000000   \n",
       "25%                   0.000000                   0.000000   \n",
       "50%                   0.000000                   0.000000   \n",
       "75%                   0.000000                 462.000000   \n",
       "max                8952.000000               10406.000000   \n",
       "\n",
       "       frame_detached_garage_w_living_area_abov_uts  ...  \\\n",
       "count                                 429701.000000  ...   \n",
       "mean                                       9.658162  ...   \n",
       "std                                       79.669605  ...   \n",
       "min                                        0.000000  ...   \n",
       "25%                                        0.000000  ...   \n",
       "50%                                        0.000000  ...   \n",
       "75%                                        0.000000  ...   \n",
       "max                                     2920.000000  ...   \n",
       "\n",
       "       custom_outdoor_kitchen_grade  foundation_repaired_grade  \\\n",
       "count                   4294.000000               17653.000000   \n",
       "mean                       3.261877                   4.001076   \n",
       "std                        0.960405                   0.043224   \n",
       "min                        1.000000                   1.000000   \n",
       "25%                        3.000000                   4.000000   \n",
       "50%                        4.000000                   4.000000   \n",
       "75%                        4.000000                   4.000000   \n",
       "max                        6.000000                   5.000000   \n",
       "\n",
       "       frame_detached_garage_grade  \\\n",
       "count                180708.000000   \n",
       "mean                      4.546280   \n",
       "std                       0.551933   \n",
       "min                       1.000000   \n",
       "25%                       4.000000   \n",
       "50%                       5.000000   \n",
       "75%                       5.000000   \n",
       "max                       6.000000   \n",
       "\n",
       "       frame_detached_garage_w_living_area_abov_grade  \\\n",
       "count                                     7047.000000   \n",
       "mean                                         3.964027   \n",
       "std                                          0.716937   \n",
       "min                                          1.000000   \n",
       "25%                                          4.000000   \n",
       "50%                                          4.000000   \n",
       "75%                                          4.000000   \n",
       "max                                          6.000000   \n",
       "\n",
       "       frame_utility_shed_grade  gunite_pool_grade  metal_utility_shed_grade  \\\n",
       "count              87819.000000       87949.000000              18365.000000   \n",
       "mean                   4.490624           3.882460                  4.630054   \n",
       "std                    0.594026           0.465277                  0.577235   \n",
       "min                    1.000000           1.000000                  1.000000   \n",
       "25%                    4.000000           4.000000                  4.000000   \n",
       "50%                    4.500000           4.000000                  5.000000   \n",
       "75%                    5.000000           4.000000                  5.000000   \n",
       "max                    6.000000           6.000000                  6.000000   \n",
       "\n",
       "       pool_spa_with_heater_grade  reinforced_concrete_pool_grade  \\\n",
       "count                37211.000000                     3729.000000   \n",
       "mean                     3.846954                        3.998391   \n",
       "std                      0.494620                        0.284616   \n",
       "min                      1.000000                        1.000000   \n",
       "25%                      4.000000                        4.000000   \n",
       "50%                      4.000000                        4.000000   \n",
       "75%                      4.000000                        4.000000   \n",
       "max                      6.000000                        6.000000   \n",
       "\n",
       "       residential_other_gross_value_grade  \n",
       "count                         14550.000000  \n",
       "mean                              3.992131  \n",
       "std                               0.284215  \n",
       "min                               1.000000  \n",
       "25%                               4.000000  \n",
       "50%                               4.000000  \n",
       "75%                               4.000000  \n",
       "max                               6.000000  \n",
       "\n",
       "[8 rows x 31 columns]"
      ]
     },
     "execution_count": 26,
     "metadata": {},
     "output_type": "execute_result"
    }
   ],
   "source": [
    "extra_features_uts_grade.describe()"
   ]
  },
  {
   "cell_type": "markdown",
   "metadata": {
    "papermill": {
     "duration": 0.022707,
     "end_time": "2020-07-28T11:16:47.780014",
     "exception": false,
     "start_time": "2020-07-28T11:16:47.757307",
     "status": "completed"
    },
    "tags": []
   },
   "source": [
    "# Export real_acct"
   ]
  },
  {
   "cell_type": "code",
   "execution_count": 27,
   "metadata": {
    "ExecuteTime": {
     "end_time": "2020-07-28T11:04:21.615821Z",
     "start_time": "2020-07-28T11:04:21.486980Z"
    },
    "execution": {
     "iopub.execute_input": "2020-07-28T11:16:47.846742Z",
     "iopub.status.busy": "2020-07-28T11:16:47.846213Z",
     "iopub.status.idle": "2020-07-28T11:16:47.971130Z",
     "shell.execute_reply": "2020-07-28T11:16:47.970375Z"
    },
    "papermill": {
     "duration": 0.156959,
     "end_time": "2020-07-28T11:16:47.971253",
     "exception": false,
     "start_time": "2020-07-28T11:16:47.814294",
     "status": "completed"
    },
    "tags": []
   },
   "outputs": [],
   "source": [
    "save_fn = ROOT_DIR / 'data/raw/2016/extra_features_uts_grade_comps.pickle'\n",
    "save_pickle(extra_features_uts_grade, save_fn)"
   ]
  }
 ],
 "metadata": {
  "kernelspec": {
   "display_name": "hcad_pred",
   "language": "python",
   "name": "hcad_pred"
  },
  "language_info": {
   "codemirror_mode": {
    "name": "ipython",
    "version": 3
   },
   "file_extension": ".py",
   "mimetype": "text/x-python",
   "name": "python",
   "nbconvert_exporter": "python",
   "pygments_lexer": "ipython3",
   "version": "3.7.6"
  },
  "papermill": {
   "duration": 9.248333,
   "end_time": "2020-07-28T11:16:48.299934",
   "environment_variables": {},
   "exception": null,
   "input_path": "/media/hdd/projects/springboard/hcad_pred/notebooks/01_Exploratory/1.3-rp-hcad-data-view-extra_features.ipynb",
   "output_path": "/media/hdd/projects/springboard/hcad_pred/notebooks/01_Exploratory/output/1.3-rp-hcad-data-view-extra_features_20200728.ipynb",
   "parameters": {},
   "start_time": "2020-07-28T11:16:39.051601",
   "version": "2.1.2"
  },
  "toc": {
   "base_numbering": 1,
   "nav_menu": {},
   "number_sections": true,
   "sideBar": true,
   "skip_h1_title": false,
   "title_cell": "Table of Contents",
   "title_sidebar": "Contents",
   "toc_cell": false,
   "toc_position": {},
   "toc_section_display": true,
   "toc_window_display": false
  }
 },
 "nbformat": 4,
 "nbformat_minor": 4
}