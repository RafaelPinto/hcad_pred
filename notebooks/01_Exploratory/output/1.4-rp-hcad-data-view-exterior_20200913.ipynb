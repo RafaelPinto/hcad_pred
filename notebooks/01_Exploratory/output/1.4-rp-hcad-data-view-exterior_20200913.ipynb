{
 "cells": [
  {
   "cell_type": "markdown",
   "metadata": {
    "papermill": {
     "duration": 0.024251,
     "end_time": "2020-09-13T12:46:05.575098",
     "exception": false,
     "start_time": "2020-09-13T12:46:05.550847",
     "status": "completed"
    },
    "tags": []
   },
   "source": [
    "# Find the comparables: exterior.txt\n",
    "\n",
    "The file `exterior.txt` contains important property information about the areas of the property sections. Let's load this file and grab a subset with the important columns to continue our study."
   ]
  },
  {
   "cell_type": "code",
   "execution_count": 1,
   "metadata": {
    "ExecuteTime": {
     "end_time": "2020-07-28T10:53:45.019114Z",
     "start_time": "2020-07-28T10:53:44.989884Z"
    },
    "execution": {
     "iopub.execute_input": "2020-09-13T12:46:05.616094Z",
     "iopub.status.busy": "2020-09-13T12:46:05.615480Z",
     "iopub.status.idle": "2020-09-13T12:46:05.628256Z",
     "shell.execute_reply": "2020-09-13T12:46:05.628707Z"
    },
    "papermill": {
     "duration": 0.037014,
     "end_time": "2020-09-13T12:46:05.629015",
     "exception": false,
     "start_time": "2020-09-13T12:46:05.592001",
     "status": "completed"
    },
    "tags": []
   },
   "outputs": [],
   "source": [
    "%load_ext autoreload\n",
    "%autoreload 2"
   ]
  },
  {
   "cell_type": "code",
   "execution_count": 2,
   "metadata": {
    "ExecuteTime": {
     "end_time": "2020-07-28T10:53:45.413264Z",
     "start_time": "2020-07-28T10:53:45.021709Z"
    },
    "execution": {
     "iopub.execute_input": "2020-09-13T12:46:05.667746Z",
     "iopub.status.busy": "2020-09-13T12:46:05.662957Z",
     "iopub.status.idle": "2020-09-13T12:46:06.105066Z",
     "shell.execute_reply": "2020-09-13T12:46:06.105808Z"
    },
    "papermill": {
     "duration": 0.462493,
     "end_time": "2020-09-13T12:46:06.106061",
     "exception": false,
     "start_time": "2020-09-13T12:46:05.643568",
     "status": "completed"
    },
    "tags": []
   },
   "outputs": [],
   "source": [
    "from pathlib import Path\n",
    "import pickle\n",
    "\n",
    "import pandas as pd\n",
    "\n",
    "from src.definitions import ROOT_DIR\n",
    "from src.data.utils import Table, save_pickle"
   ]
  },
  {
   "cell_type": "code",
   "execution_count": 3,
   "metadata": {
    "ExecuteTime": {
     "end_time": "2020-07-28T10:53:45.430991Z",
     "start_time": "2020-07-28T10:53:45.415138Z"
    },
    "execution": {
     "iopub.execute_input": "2020-09-13T12:46:06.166261Z",
     "iopub.status.busy": "2020-09-13T12:46:06.165423Z",
     "iopub.status.idle": "2020-09-13T12:46:06.176422Z",
     "shell.execute_reply": "2020-09-13T12:46:06.177056Z"
    },
    "papermill": {
     "duration": 0.042914,
     "end_time": "2020-09-13T12:46:06.177271",
     "exception": false,
     "start_time": "2020-09-13T12:46:06.134357",
     "status": "completed"
    },
    "tags": []
   },
   "outputs": [],
   "source": [
    "exterior_fn = ROOT_DIR / 'data/external/2016/Real_building_land/exterior.txt'\n",
    "assert exterior_fn.exists()"
   ]
  },
  {
   "cell_type": "code",
   "execution_count": 4,
   "metadata": {
    "ExecuteTime": {
     "end_time": "2020-07-28T10:53:45.447396Z",
     "start_time": "2020-07-28T10:53:45.433617Z"
    },
    "execution": {
     "iopub.execute_input": "2020-09-13T12:46:06.235159Z",
     "iopub.status.busy": "2020-09-13T12:46:06.234307Z",
     "iopub.status.idle": "2020-09-13T12:46:06.246204Z",
     "shell.execute_reply": "2020-09-13T12:46:06.245748Z"
    },
    "papermill": {
     "duration": 0.042184,
     "end_time": "2020-09-13T12:46:06.246342",
     "exception": false,
     "start_time": "2020-09-13T12:46:06.204158",
     "status": "completed"
    },
    "tags": []
   },
   "outputs": [],
   "source": [
    "exterior = Table(exterior_fn, '2016')"
   ]
  },
  {
   "cell_type": "markdown",
   "metadata": {
    "papermill": {
     "duration": 0.014036,
     "end_time": "2020-09-13T12:46:06.274821",
     "exception": false,
     "start_time": "2020-09-13T12:46:06.260785",
     "status": "completed"
    },
    "tags": []
   },
   "source": [
    "# Load accounts of interest\n",
    "Let's remove the account numbers that don't meet free-standing single-family home criteria that we found while processing the `building_res.txt` file."
   ]
  },
  {
   "cell_type": "code",
   "execution_count": 5,
   "metadata": {
    "ExecuteTime": {
     "end_time": "2020-07-28T10:53:47.753463Z",
     "start_time": "2020-07-28T10:53:45.448882Z"
    },
    "execution": {
     "iopub.execute_input": "2020-09-13T12:46:06.307480Z",
     "iopub.status.busy": "2020-09-13T12:46:06.306943Z",
     "iopub.status.idle": "2020-09-13T12:46:09.395373Z",
     "shell.execute_reply": "2020-09-13T12:46:09.395844Z"
    },
    "papermill": {
     "duration": 3.107133,
     "end_time": "2020-09-13T12:46:09.396024",
     "exception": false,
     "start_time": "2020-09-13T12:46:06.288891",
     "status": "completed"
    },
    "tags": []
   },
   "outputs": [],
   "source": [
    "skiprows = exterior.get_skiprows()"
   ]
  },
  {
   "cell_type": "code",
   "execution_count": 6,
   "metadata": {
    "ExecuteTime": {
     "end_time": "2020-07-28T10:53:50.562892Z",
     "start_time": "2020-07-28T10:53:47.755223Z"
    },
    "execution": {
     "iopub.execute_input": "2020-09-13T12:46:09.432051Z",
     "iopub.status.busy": "2020-09-13T12:46:09.431145Z",
     "iopub.status.idle": "2020-09-13T12:46:12.615378Z",
     "shell.execute_reply": "2020-09-13T12:46:12.615879Z"
    },
    "papermill": {
     "duration": 3.204571,
     "end_time": "2020-09-13T12:46:12.616045",
     "exception": false,
     "start_time": "2020-09-13T12:46:09.411474",
     "status": "completed"
    },
    "tags": []
   },
   "outputs": [],
   "source": [
    "exterior_df = exterior.get_df(skiprows=skiprows)"
   ]
  },
  {
   "cell_type": "code",
   "execution_count": 7,
   "metadata": {
    "ExecuteTime": {
     "end_time": "2020-07-28T10:53:50.598986Z",
     "start_time": "2020-07-28T10:53:50.567499Z"
    },
    "execution": {
     "iopub.execute_input": "2020-09-13T12:46:12.649784Z",
     "iopub.status.busy": "2020-09-13T12:46:12.648795Z",
     "iopub.status.idle": "2020-09-13T12:46:12.674388Z",
     "shell.execute_reply": "2020-09-13T12:46:12.673917Z"
    },
    "papermill": {
     "duration": 0.043501,
     "end_time": "2020-09-13T12:46:12.674530",
     "exception": false,
     "start_time": "2020-09-13T12:46:12.631029",
     "status": "completed"
    },
    "tags": []
   },
   "outputs": [
    {
     "data": {
      "text/html": [
       "<div>\n",
       "<style scoped>\n",
       "    .dataframe tbody tr th:only-of-type {\n",
       "        vertical-align: middle;\n",
       "    }\n",
       "\n",
       "    .dataframe tbody tr th {\n",
       "        vertical-align: top;\n",
       "    }\n",
       "\n",
       "    .dataframe thead th {\n",
       "        text-align: right;\n",
       "    }\n",
       "</style>\n",
       "<table border=\"1\" class=\"dataframe\">\n",
       "  <thead>\n",
       "    <tr style=\"text-align: right;\">\n",
       "      <th></th>\n",
       "      <th>acct</th>\n",
       "      <th>bld_num</th>\n",
       "      <th>sar_cd</th>\n",
       "      <th>sar_dscr</th>\n",
       "      <th>area</th>\n",
       "    </tr>\n",
       "  </thead>\n",
       "  <tbody>\n",
       "    <tr>\n",
       "      <th>0</th>\n",
       "      <td>162030000013</td>\n",
       "      <td>1</td>\n",
       "      <td>OFP</td>\n",
       "      <td>OPEN FRAME PORCH PRI</td>\n",
       "      <td>396</td>\n",
       "    </tr>\n",
       "    <tr>\n",
       "      <th>1</th>\n",
       "      <td>162030000013</td>\n",
       "      <td>1</td>\n",
       "      <td>OFP</td>\n",
       "      <td>OPEN FRAME PORCH PRI</td>\n",
       "      <td>180</td>\n",
       "    </tr>\n",
       "    <tr>\n",
       "      <th>2</th>\n",
       "      <td>162090000005</td>\n",
       "      <td>1</td>\n",
       "      <td>OFP</td>\n",
       "      <td>OPEN FRAME PORCH PRI</td>\n",
       "      <td>78</td>\n",
       "    </tr>\n",
       "    <tr>\n",
       "      <th>3</th>\n",
       "      <td>162100000006</td>\n",
       "      <td>1</td>\n",
       "      <td>OFP</td>\n",
       "      <td>OPEN FRAME PORCH PRI</td>\n",
       "      <td>126</td>\n",
       "    </tr>\n",
       "    <tr>\n",
       "      <th>4</th>\n",
       "      <td>162160000009</td>\n",
       "      <td>1</td>\n",
       "      <td>OFP</td>\n",
       "      <td>OPEN FRAME PORCH PRI</td>\n",
       "      <td>48</td>\n",
       "    </tr>\n",
       "  </tbody>\n",
       "</table>\n",
       "</div>"
      ],
      "text/plain": [
       "           acct  bld_num sar_cd              sar_dscr  area\n",
       "0  162030000013        1    OFP  OPEN FRAME PORCH PRI   396\n",
       "1  162030000013        1    OFP  OPEN FRAME PORCH PRI   180\n",
       "2  162090000005        1    OFP  OPEN FRAME PORCH PRI    78\n",
       "3  162100000006        1    OFP  OPEN FRAME PORCH PRI   126\n",
       "4  162160000009        1    OFP  OPEN FRAME PORCH PRI    48"
      ]
     },
     "execution_count": 7,
     "metadata": {},
     "output_type": "execute_result"
    }
   ],
   "source": [
    "exterior_df.head()"
   ]
  },
  {
   "cell_type": "code",
   "execution_count": 8,
   "metadata": {
    "ExecuteTime": {
     "end_time": "2020-07-28T10:53:50.927400Z",
     "start_time": "2020-07-28T10:53:50.602838Z"
    },
    "execution": {
     "iopub.execute_input": "2020-09-13T12:46:12.711034Z",
     "iopub.status.busy": "2020-09-13T12:46:12.710124Z",
     "iopub.status.idle": "2020-09-13T12:46:13.034400Z",
     "shell.execute_reply": "2020-09-13T12:46:13.034880Z"
    },
    "papermill": {
     "duration": 0.344554,
     "end_time": "2020-09-13T12:46:13.035078",
     "exception": false,
     "start_time": "2020-09-13T12:46:12.690524",
     "status": "completed"
    },
    "tags": []
   },
   "outputs": [
    {
     "data": {
      "text/plain": [
       "BASE AREA PRI           958583\n",
       "OPEN FRAME PORCH PRI    714592\n",
       "MAS/BRK GARAGE PRI      560302\n",
       "OPEN MAS PORCH PRI      429101\n",
       "BASE AREA UPR           346750\n",
       "ONE STORY MAS PRI       267074\n",
       "ONE STORY FRAME UPR     129798\n",
       "ONE STORY FRAME PRI     121992\n",
       "FRAME GARAGE PRI        117535\n",
       "MAS/CONC PATIO PRI      116876\n",
       "CARPORT PRI              40416\n",
       "CANOPY PRI               40183\n",
       "WOOD DECK PRI            35479\n",
       "ONE STORY MAS UPR        33511\n",
       "FRAME OVERHANG UPR       29155\n",
       "ATTIC FINISHED           26280\n",
       "ENCL FRAME PORCH PRI     26140\n",
       "OPEN FRAME PORCH UPR     26117\n",
       "BASE AREA LWR            12945\n",
       "FRAME UTIL BLDG PRI      11732\n",
       "Name: sar_dscr, dtype: int64"
      ]
     },
     "execution_count": 8,
     "metadata": {},
     "output_type": "execute_result"
    }
   ],
   "source": [
    "exterior_df.sar_dscr.value_counts().head(20)"
   ]
  },
  {
   "cell_type": "markdown",
   "metadata": {
    "papermill": {
     "duration": 0.015539,
     "end_time": "2020-09-13T12:46:13.065361",
     "exception": false,
     "start_time": "2020-09-13T12:46:13.049822",
     "status": "completed"
    },
    "tags": []
   },
   "source": [
    "# Grab slice of the exterior features of interest\n",
    "With the value counts on the exterior features description performed above we can see that the majority of the features land in the top 10 categories. Let's filter out the rests of the columns."
   ]
  },
  {
   "cell_type": "code",
   "execution_count": 9,
   "metadata": {
    "ExecuteTime": {
     "end_time": "2020-07-28T10:53:51.237763Z",
     "start_time": "2020-07-28T10:53:50.929481Z"
    },
    "execution": {
     "iopub.execute_input": "2020-09-13T12:46:13.101203Z",
     "iopub.status.busy": "2020-09-13T12:46:13.100190Z",
     "iopub.status.idle": "2020-09-13T12:46:13.413032Z",
     "shell.execute_reply": "2020-09-13T12:46:13.413445Z"
    },
    "papermill": {
     "duration": 0.332737,
     "end_time": "2020-09-13T12:46:13.413605",
     "exception": false,
     "start_time": "2020-09-13T12:46:13.080868",
     "status": "completed"
    },
    "tags": []
   },
   "outputs": [],
   "source": [
    "cols = exterior_df.sar_dscr.value_counts().head(10).index"
   ]
  },
  {
   "cell_type": "code",
   "execution_count": 10,
   "metadata": {
    "ExecuteTime": {
     "end_time": "2020-07-28T10:53:51.449710Z",
     "start_time": "2020-07-28T10:53:51.239710Z"
    },
    "execution": {
     "iopub.execute_input": "2020-09-13T12:46:13.448609Z",
     "iopub.status.busy": "2020-09-13T12:46:13.447701Z",
     "iopub.status.idle": "2020-09-13T12:46:13.695504Z",
     "shell.execute_reply": "2020-09-13T12:46:13.695945Z"
    },
    "papermill": {
     "duration": 0.26699,
     "end_time": "2020-09-13T12:46:13.696115",
     "exception": false,
     "start_time": "2020-09-13T12:46:13.429125",
     "status": "completed"
    },
    "tags": []
   },
   "outputs": [],
   "source": [
    "cond0 = exterior_df['sar_dscr'].isin(cols)\n",
    "exterior_df = exterior_df.loc[cond0, :]"
   ]
  },
  {
   "cell_type": "markdown",
   "metadata": {
    "papermill": {
     "duration": 0.015377,
     "end_time": "2020-09-13T12:46:13.727574",
     "exception": false,
     "start_time": "2020-09-13T12:46:13.712197",
     "status": "completed"
    },
    "tags": []
   },
   "source": [
    "# Build pivot table\n",
    "Let's build a pivot table with the account number (`acct`) as index, surface area `sar_dscr` as column, and `area` as values. Since the areas are already split by primary (PRI) and upper (UPR) I'll assume there should be only one exterior feature category per property, and thus aggregate multiple occurrences by taking the maximum value."
   ]
  },
  {
   "cell_type": "code",
   "execution_count": 11,
   "metadata": {
    "ExecuteTime": {
     "end_time": "2020-07-28T10:53:55.171962Z",
     "start_time": "2020-07-28T10:53:51.451552Z"
    },
    "execution": {
     "iopub.execute_input": "2020-09-13T12:46:13.763784Z",
     "iopub.status.busy": "2020-09-13T12:46:13.762967Z",
     "iopub.status.idle": "2020-09-13T12:46:17.896817Z",
     "shell.execute_reply": "2020-09-13T12:46:17.897595Z"
    },
    "papermill": {
     "duration": 4.154468,
     "end_time": "2020-09-13T12:46:17.897826",
     "exception": false,
     "start_time": "2020-09-13T12:46:13.743358",
     "status": "completed"
    },
    "tags": []
   },
   "outputs": [],
   "source": [
    "exterior_pivot = exterior_df.pivot_table(index='acct',\n",
    "                                         columns='sar_dscr',\n",
    "                                         values='area',\n",
    "                                         fill_value=0,\n",
    "                                         aggfunc='max')"
   ]
  },
  {
   "cell_type": "code",
   "execution_count": 12,
   "metadata": {
    "ExecuteTime": {
     "end_time": "2020-07-28T10:53:55.199620Z",
     "start_time": "2020-07-28T10:53:55.173629Z"
    },
    "execution": {
     "iopub.execute_input": "2020-09-13T12:46:17.957918Z",
     "iopub.status.busy": "2020-09-13T12:46:17.955761Z",
     "iopub.status.idle": "2020-09-13T12:46:17.974714Z",
     "shell.execute_reply": "2020-09-13T12:46:17.975370Z"
    },
    "papermill": {
     "duration": 0.046709,
     "end_time": "2020-09-13T12:46:17.975610",
     "exception": false,
     "start_time": "2020-09-13T12:46:17.928901",
     "status": "completed"
    },
    "tags": []
   },
   "outputs": [
    {
     "data": {
      "text/html": [
       "<div>\n",
       "<style scoped>\n",
       "    .dataframe tbody tr th:only-of-type {\n",
       "        vertical-align: middle;\n",
       "    }\n",
       "\n",
       "    .dataframe tbody tr th {\n",
       "        vertical-align: top;\n",
       "    }\n",
       "\n",
       "    .dataframe thead th {\n",
       "        text-align: right;\n",
       "    }\n",
       "</style>\n",
       "<table border=\"1\" class=\"dataframe\">\n",
       "  <thead>\n",
       "    <tr style=\"text-align: right;\">\n",
       "      <th>sar_dscr</th>\n",
       "      <th>BASE AREA PRI</th>\n",
       "      <th>BASE AREA UPR</th>\n",
       "      <th>FRAME GARAGE PRI</th>\n",
       "      <th>MAS/BRK GARAGE PRI</th>\n",
       "      <th>MAS/CONC PATIO PRI</th>\n",
       "      <th>ONE STORY FRAME PRI</th>\n",
       "      <th>ONE STORY FRAME UPR</th>\n",
       "      <th>ONE STORY MAS PRI</th>\n",
       "      <th>OPEN FRAME PORCH PRI</th>\n",
       "      <th>OPEN MAS PORCH PRI</th>\n",
       "    </tr>\n",
       "    <tr>\n",
       "      <th>acct</th>\n",
       "      <th></th>\n",
       "      <th></th>\n",
       "      <th></th>\n",
       "      <th></th>\n",
       "      <th></th>\n",
       "      <th></th>\n",
       "      <th></th>\n",
       "      <th></th>\n",
       "      <th></th>\n",
       "      <th></th>\n",
       "    </tr>\n",
       "  </thead>\n",
       "  <tbody>\n",
       "    <tr>\n",
       "      <th>21440000001</th>\n",
       "      <td>1658</td>\n",
       "      <td>879</td>\n",
       "      <td>0</td>\n",
       "      <td>0</td>\n",
       "      <td>0</td>\n",
       "      <td>0</td>\n",
       "      <td>0</td>\n",
       "      <td>0</td>\n",
       "      <td>105</td>\n",
       "      <td>0</td>\n",
       "    </tr>\n",
       "    <tr>\n",
       "      <th>21470000008</th>\n",
       "      <td>1000</td>\n",
       "      <td>0</td>\n",
       "      <td>0</td>\n",
       "      <td>0</td>\n",
       "      <td>0</td>\n",
       "      <td>0</td>\n",
       "      <td>0</td>\n",
       "      <td>0</td>\n",
       "      <td>0</td>\n",
       "      <td>0</td>\n",
       "    </tr>\n",
       "    <tr>\n",
       "      <th>21480000002</th>\n",
       "      <td>1496</td>\n",
       "      <td>0</td>\n",
       "      <td>0</td>\n",
       "      <td>0</td>\n",
       "      <td>0</td>\n",
       "      <td>0</td>\n",
       "      <td>0</td>\n",
       "      <td>0</td>\n",
       "      <td>182</td>\n",
       "      <td>0</td>\n",
       "    </tr>\n",
       "    <tr>\n",
       "      <th>21650000007</th>\n",
       "      <td>1517</td>\n",
       "      <td>1870</td>\n",
       "      <td>0</td>\n",
       "      <td>529</td>\n",
       "      <td>0</td>\n",
       "      <td>0</td>\n",
       "      <td>0</td>\n",
       "      <td>0</td>\n",
       "      <td>138</td>\n",
       "      <td>36</td>\n",
       "    </tr>\n",
       "    <tr>\n",
       "      <th>21650000011</th>\n",
       "      <td>1508</td>\n",
       "      <td>0</td>\n",
       "      <td>420</td>\n",
       "      <td>0</td>\n",
       "      <td>0</td>\n",
       "      <td>0</td>\n",
       "      <td>0</td>\n",
       "      <td>0</td>\n",
       "      <td>0</td>\n",
       "      <td>0</td>\n",
       "    </tr>\n",
       "  </tbody>\n",
       "</table>\n",
       "</div>"
      ],
      "text/plain": [
       "sar_dscr     BASE AREA PRI  BASE AREA UPR  FRAME GARAGE PRI  \\\n",
       "acct                                                          \n",
       "21440000001           1658            879                 0   \n",
       "21470000008           1000              0                 0   \n",
       "21480000002           1496              0                 0   \n",
       "21650000007           1517           1870                 0   \n",
       "21650000011           1508              0               420   \n",
       "\n",
       "sar_dscr     MAS/BRK GARAGE PRI  MAS/CONC PATIO PRI  ONE STORY FRAME PRI  \\\n",
       "acct                                                                       \n",
       "21440000001                   0                   0                    0   \n",
       "21470000008                   0                   0                    0   \n",
       "21480000002                   0                   0                    0   \n",
       "21650000007                 529                   0                    0   \n",
       "21650000011                   0                   0                    0   \n",
       "\n",
       "sar_dscr     ONE STORY FRAME UPR  ONE STORY MAS PRI  OPEN FRAME PORCH PRI  \\\n",
       "acct                                                                        \n",
       "21440000001                    0                  0                   105   \n",
       "21470000008                    0                  0                     0   \n",
       "21480000002                    0                  0                   182   \n",
       "21650000007                    0                  0                   138   \n",
       "21650000011                    0                  0                     0   \n",
       "\n",
       "sar_dscr     OPEN MAS PORCH PRI  \n",
       "acct                             \n",
       "21440000001                   0  \n",
       "21470000008                   0  \n",
       "21480000002                   0  \n",
       "21650000007                  36  \n",
       "21650000011                   0  "
      ]
     },
     "execution_count": 12,
     "metadata": {},
     "output_type": "execute_result"
    }
   ],
   "source": [
    "exterior_pivot.head()"
   ]
  },
  {
   "cell_type": "markdown",
   "metadata": {
    "papermill": {
     "duration": 0.030485,
     "end_time": "2020-09-13T12:46:18.037366",
     "exception": false,
     "start_time": "2020-09-13T12:46:18.006881",
     "status": "completed"
    },
    "tags": []
   },
   "source": [
    "add `acct` column to make easier the merging process ahead"
   ]
  },
  {
   "cell_type": "code",
   "execution_count": 13,
   "metadata": {
    "ExecuteTime": {
     "end_time": "2020-07-28T10:53:55.216890Z",
     "start_time": "2020-07-28T10:53:55.202637Z"
    },
    "execution": {
     "iopub.execute_input": "2020-09-13T12:46:18.102571Z",
     "iopub.status.busy": "2020-09-13T12:46:18.101722Z",
     "iopub.status.idle": "2020-09-13T12:46:18.115166Z",
     "shell.execute_reply": "2020-09-13T12:46:18.115781Z"
    },
    "papermill": {
     "duration": 0.047905,
     "end_time": "2020-09-13T12:46:18.116012",
     "exception": false,
     "start_time": "2020-09-13T12:46:18.068107",
     "status": "completed"
    },
    "tags": []
   },
   "outputs": [],
   "source": [
    "exterior_pivot.reset_index(inplace=True)"
   ]
  },
  {
   "cell_type": "code",
   "execution_count": 14,
   "metadata": {
    "ExecuteTime": {
     "end_time": "2020-07-28T10:53:55.361220Z",
     "start_time": "2020-07-28T10:53:55.218469Z"
    },
    "execution": {
     "iopub.execute_input": "2020-09-13T12:46:18.157658Z",
     "iopub.status.busy": "2020-09-13T12:46:18.157119Z",
     "iopub.status.idle": "2020-09-13T12:46:18.268491Z",
     "shell.execute_reply": "2020-09-13T12:46:18.269021Z"
    },
    "papermill": {
     "duration": 0.131438,
     "end_time": "2020-09-13T12:46:18.269305",
     "exception": false,
     "start_time": "2020-09-13T12:46:18.137867",
     "status": "completed"
    },
    "tags": []
   },
   "outputs": [],
   "source": [
    "assert exterior_pivot['acct'].is_unique"
   ]
  },
  {
   "cell_type": "markdown",
   "metadata": {
    "papermill": {
     "duration": 0.018482,
     "end_time": "2020-09-13T12:46:18.305741",
     "exception": false,
     "start_time": "2020-09-13T12:46:18.287259",
     "status": "completed"
    },
    "tags": []
   },
   "source": [
    "# Fix column names\n",
    "We would like the column names to be all lower case, with no spaces nor non-alphanumeric characters."
   ]
  },
  {
   "cell_type": "code",
   "execution_count": 15,
   "metadata": {
    "ExecuteTime": {
     "end_time": "2020-07-28T10:53:55.380325Z",
     "start_time": "2020-07-28T10:53:55.363181Z"
    },
    "execution": {
     "iopub.execute_input": "2020-09-13T12:46:18.346448Z",
     "iopub.status.busy": "2020-09-13T12:46:18.345477Z",
     "iopub.status.idle": "2020-09-13T12:46:18.363263Z",
     "shell.execute_reply": "2020-09-13T12:46:18.362700Z"
    },
    "papermill": {
     "duration": 0.039397,
     "end_time": "2020-09-13T12:46:18.363401",
     "exception": false,
     "start_time": "2020-09-13T12:46:18.324004",
     "status": "completed"
    },
    "tags": []
   },
   "outputs": [],
   "source": [
    "from src.data.utils import fix_column_names"
   ]
  },
  {
   "cell_type": "code",
   "execution_count": 16,
   "metadata": {
    "ExecuteTime": {
     "end_time": "2020-07-28T10:53:55.399499Z",
     "start_time": "2020-07-28T10:53:55.382379Z"
    },
    "execution": {
     "iopub.execute_input": "2020-09-13T12:46:18.399777Z",
     "iopub.status.busy": "2020-09-13T12:46:18.398900Z",
     "iopub.status.idle": "2020-09-13T12:46:18.411962Z",
     "shell.execute_reply": "2020-09-13T12:46:18.412375Z"
    },
    "papermill": {
     "duration": 0.033447,
     "end_time": "2020-09-13T12:46:18.412536",
     "exception": false,
     "start_time": "2020-09-13T12:46:18.379089",
     "status": "completed"
    },
    "tags": []
   },
   "outputs": [
    {
     "data": {
      "text/plain": [
       "Index(['acct', 'BASE AREA PRI', 'BASE AREA UPR', 'FRAME GARAGE PRI',\n",
       "       'MAS/BRK GARAGE PRI', 'MAS/CONC PATIO PRI', 'ONE STORY FRAME PRI',\n",
       "       'ONE STORY FRAME UPR', 'ONE STORY MAS PRI', 'OPEN FRAME PORCH PRI',\n",
       "       'OPEN MAS PORCH PRI'],\n",
       "      dtype='object', name='sar_dscr')"
      ]
     },
     "execution_count": 16,
     "metadata": {},
     "output_type": "execute_result"
    }
   ],
   "source": [
    "exterior_pivot.columns"
   ]
  },
  {
   "cell_type": "code",
   "execution_count": 17,
   "metadata": {
    "ExecuteTime": {
     "end_time": "2020-07-28T10:53:55.415061Z",
     "start_time": "2020-07-28T10:53:55.401068Z"
    },
    "execution": {
     "iopub.execute_input": "2020-09-13T12:46:18.450171Z",
     "iopub.status.busy": "2020-09-13T12:46:18.449285Z",
     "iopub.status.idle": "2020-09-13T12:46:18.462400Z",
     "shell.execute_reply": "2020-09-13T12:46:18.461677Z"
    },
    "papermill": {
     "duration": 0.033286,
     "end_time": "2020-09-13T12:46:18.462594",
     "exception": false,
     "start_time": "2020-09-13T12:46:18.429308",
     "status": "completed"
    },
    "tags": []
   },
   "outputs": [],
   "source": [
    "exterior_pivot = fix_column_names(exterior_pivot)"
   ]
  },
  {
   "cell_type": "code",
   "execution_count": 18,
   "metadata": {
    "ExecuteTime": {
     "end_time": "2020-07-28T10:53:55.431437Z",
     "start_time": "2020-07-28T10:53:55.417118Z"
    },
    "execution": {
     "iopub.execute_input": "2020-09-13T12:46:18.532355Z",
     "iopub.status.busy": "2020-09-13T12:46:18.531541Z",
     "iopub.status.idle": "2020-09-13T12:46:18.542505Z",
     "shell.execute_reply": "2020-09-13T12:46:18.543105Z"
    },
    "papermill": {
     "duration": 0.048331,
     "end_time": "2020-09-13T12:46:18.543316",
     "exception": false,
     "start_time": "2020-09-13T12:46:18.494985",
     "status": "completed"
    },
    "tags": []
   },
   "outputs": [
    {
     "data": {
      "text/plain": [
       "Index(['acct', 'base_area_pri', 'base_area_upr', 'frame_garage_pri',\n",
       "       'mas_brk_garage_pri', 'mas_conc_patio_pri', 'one_story_frame_pri',\n",
       "       'one_story_frame_upr', 'one_story_mas_pri', 'open_frame_porch_pri',\n",
       "       'open_mas_porch_pri'],\n",
       "      dtype='object')"
      ]
     },
     "execution_count": 18,
     "metadata": {},
     "output_type": "execute_result"
    }
   ],
   "source": [
    "exterior_pivot.columns"
   ]
  },
  {
   "cell_type": "markdown",
   "metadata": {
    "papermill": {
     "duration": 0.018626,
     "end_time": "2020-09-13T12:46:18.595000",
     "exception": false,
     "start_time": "2020-09-13T12:46:18.576374",
     "status": "completed"
    },
    "tags": []
   },
   "source": [
    "### Find duplicated rows"
   ]
  },
  {
   "cell_type": "code",
   "execution_count": 19,
   "metadata": {
    "ExecuteTime": {
     "end_time": "2020-07-28T10:53:56.029396Z",
     "start_time": "2020-07-28T10:53:55.434023Z"
    },
    "execution": {
     "iopub.execute_input": "2020-09-13T12:46:18.636423Z",
     "iopub.status.busy": "2020-09-13T12:46:18.635527Z",
     "iopub.status.idle": "2020-09-13T12:46:19.200987Z",
     "shell.execute_reply": "2020-09-13T12:46:19.201496Z"
    },
    "papermill": {
     "duration": 0.588431,
     "end_time": "2020-09-13T12:46:19.201693",
     "exception": false,
     "start_time": "2020-09-13T12:46:18.613262",
     "status": "completed"
    },
    "tags": []
   },
   "outputs": [
    {
     "data": {
      "text/html": [
       "<div>\n",
       "<style scoped>\n",
       "    .dataframe tbody tr th:only-of-type {\n",
       "        vertical-align: middle;\n",
       "    }\n",
       "\n",
       "    .dataframe tbody tr th {\n",
       "        vertical-align: top;\n",
       "    }\n",
       "\n",
       "    .dataframe thead th {\n",
       "        text-align: right;\n",
       "    }\n",
       "</style>\n",
       "<table border=\"1\" class=\"dataframe\">\n",
       "  <thead>\n",
       "    <tr style=\"text-align: right;\">\n",
       "      <th></th>\n",
       "      <th>acct</th>\n",
       "      <th>base_area_pri</th>\n",
       "      <th>base_area_upr</th>\n",
       "      <th>frame_garage_pri</th>\n",
       "      <th>mas_brk_garage_pri</th>\n",
       "      <th>mas_conc_patio_pri</th>\n",
       "      <th>one_story_frame_pri</th>\n",
       "      <th>one_story_frame_upr</th>\n",
       "      <th>one_story_mas_pri</th>\n",
       "      <th>open_frame_porch_pri</th>\n",
       "      <th>open_mas_porch_pri</th>\n",
       "    </tr>\n",
       "  </thead>\n",
       "  <tbody>\n",
       "  </tbody>\n",
       "</table>\n",
       "</div>"
      ],
      "text/plain": [
       "Empty DataFrame\n",
       "Columns: [acct, base_area_pri, base_area_upr, frame_garage_pri, mas_brk_garage_pri, mas_conc_patio_pri, one_story_frame_pri, one_story_frame_upr, one_story_mas_pri, open_frame_porch_pri, open_mas_porch_pri]\n",
       "Index: []"
      ]
     },
     "execution_count": 19,
     "metadata": {},
     "output_type": "execute_result"
    }
   ],
   "source": [
    "cond0 = exterior_pivot.duplicated()\n",
    "exterior_pivot.loc[cond0, :]"
   ]
  },
  {
   "cell_type": "markdown",
   "metadata": {
    "papermill": {
     "duration": 0.020089,
     "end_time": "2020-09-13T12:46:19.242153",
     "exception": false,
     "start_time": "2020-09-13T12:46:19.222064",
     "status": "completed"
    },
    "tags": []
   },
   "source": [
    "# Describe"
   ]
  },
  {
   "cell_type": "code",
   "execution_count": 20,
   "metadata": {
    "ExecuteTime": {
     "end_time": "2020-07-28T10:53:56.081602Z",
     "start_time": "2020-07-28T10:53:56.031935Z"
    },
    "execution": {
     "iopub.execute_input": "2020-09-13T12:46:19.291821Z",
     "iopub.status.busy": "2020-09-13T12:46:19.290952Z",
     "iopub.status.idle": "2020-09-13T12:46:19.325204Z",
     "shell.execute_reply": "2020-09-13T12:46:19.324736Z"
    },
    "papermill": {
     "duration": 0.064552,
     "end_time": "2020-09-13T12:46:19.325342",
     "exception": false,
     "start_time": "2020-09-13T12:46:19.260790",
     "status": "completed"
    },
    "tags": []
   },
   "outputs": [
    {
     "name": "stdout",
     "output_type": "stream",
     "text": [
      "<class 'pandas.core.frame.DataFrame'>\n",
      "RangeIndex: 957684 entries, 0 to 957683\n",
      "Data columns (total 11 columns):\n",
      " #   Column                Non-Null Count   Dtype\n",
      "---  ------                --------------   -----\n",
      " 0   acct                  957684 non-null  int64\n",
      " 1   base_area_pri         957684 non-null  int64\n",
      " 2   base_area_upr         957684 non-null  int64\n",
      " 3   frame_garage_pri      957684 non-null  int64\n",
      " 4   mas_brk_garage_pri    957684 non-null  int64\n",
      " 5   mas_conc_patio_pri    957684 non-null  int64\n",
      " 6   one_story_frame_pri   957684 non-null  int64\n",
      " 7   one_story_frame_upr   957684 non-null  int64\n",
      " 8   one_story_mas_pri     957684 non-null  int64\n",
      " 9   open_frame_porch_pri  957684 non-null  int64\n",
      " 10  open_mas_porch_pri    957684 non-null  int64\n",
      "dtypes: int64(11)\n",
      "memory usage: 80.4 MB\n"
     ]
    }
   ],
   "source": [
    "exterior_pivot.info()"
   ]
  },
  {
   "cell_type": "code",
   "execution_count": 21,
   "metadata": {
    "ExecuteTime": {
     "end_time": "2020-07-28T10:53:56.444328Z",
     "start_time": "2020-07-28T10:53:56.084523Z"
    },
    "execution": {
     "iopub.execute_input": "2020-09-13T12:46:19.369035Z",
     "iopub.status.busy": "2020-09-13T12:46:19.368098Z",
     "iopub.status.idle": "2020-09-13T12:46:19.677960Z",
     "shell.execute_reply": "2020-09-13T12:46:19.678383Z"
    },
    "papermill": {
     "duration": 0.334521,
     "end_time": "2020-09-13T12:46:19.678551",
     "exception": false,
     "start_time": "2020-09-13T12:46:19.344030",
     "status": "completed"
    },
    "tags": []
   },
   "outputs": [
    {
     "data": {
      "text/html": [
       "<div>\n",
       "<style scoped>\n",
       "    .dataframe tbody tr th:only-of-type {\n",
       "        vertical-align: middle;\n",
       "    }\n",
       "\n",
       "    .dataframe tbody tr th {\n",
       "        vertical-align: top;\n",
       "    }\n",
       "\n",
       "    .dataframe thead th {\n",
       "        text-align: right;\n",
       "    }\n",
       "</style>\n",
       "<table border=\"1\" class=\"dataframe\">\n",
       "  <thead>\n",
       "    <tr style=\"text-align: right;\">\n",
       "      <th></th>\n",
       "      <th>acct</th>\n",
       "      <th>base_area_pri</th>\n",
       "      <th>base_area_upr</th>\n",
       "      <th>frame_garage_pri</th>\n",
       "      <th>mas_brk_garage_pri</th>\n",
       "      <th>mas_conc_patio_pri</th>\n",
       "      <th>one_story_frame_pri</th>\n",
       "      <th>one_story_frame_upr</th>\n",
       "      <th>one_story_mas_pri</th>\n",
       "      <th>open_frame_porch_pri</th>\n",
       "      <th>open_mas_porch_pri</th>\n",
       "    </tr>\n",
       "  </thead>\n",
       "  <tbody>\n",
       "    <tr>\n",
       "      <th>count</th>\n",
       "      <td>9.576840e+05</td>\n",
       "      <td>957684.000000</td>\n",
       "      <td>957684.000000</td>\n",
       "      <td>957684.000000</td>\n",
       "      <td>957684.000000</td>\n",
       "      <td>957684.000000</td>\n",
       "      <td>957684.000000</td>\n",
       "      <td>957684.000000</td>\n",
       "      <td>957684.000000</td>\n",
       "      <td>957684.00000</td>\n",
       "      <td>957684.000000</td>\n",
       "    </tr>\n",
       "    <tr>\n",
       "      <th>mean</th>\n",
       "      <td>1.013455e+12</td>\n",
       "      <td>1495.021577</td>\n",
       "      <td>403.353327</td>\n",
       "      <td>45.982053</td>\n",
       "      <td>237.577644</td>\n",
       "      <td>35.882653</td>\n",
       "      <td>34.753508</td>\n",
       "      <td>30.488102</td>\n",
       "      <td>78.742360</td>\n",
       "      <td>68.40654</td>\n",
       "      <td>33.197506</td>\n",
       "    </tr>\n",
       "    <tr>\n",
       "      <th>std</th>\n",
       "      <td>2.689613e+11</td>\n",
       "      <td>610.476457</td>\n",
       "      <td>617.076246</td>\n",
       "      <td>137.221001</td>\n",
       "      <td>233.084765</td>\n",
       "      <td>117.541038</td>\n",
       "      <td>134.097213</td>\n",
       "      <td>112.266798</td>\n",
       "      <td>220.327152</td>\n",
       "      <td>104.23072</td>\n",
       "      <td>75.935905</td>\n",
       "    </tr>\n",
       "    <tr>\n",
       "      <th>min</th>\n",
       "      <td>2.144000e+10</td>\n",
       "      <td>0.000000</td>\n",
       "      <td>0.000000</td>\n",
       "      <td>0.000000</td>\n",
       "      <td>0.000000</td>\n",
       "      <td>0.000000</td>\n",
       "      <td>0.000000</td>\n",
       "      <td>0.000000</td>\n",
       "      <td>0.000000</td>\n",
       "      <td>0.00000</td>\n",
       "      <td>-63.000000</td>\n",
       "    </tr>\n",
       "    <tr>\n",
       "      <th>25%</th>\n",
       "      <td>8.510400e+11</td>\n",
       "      <td>1064.000000</td>\n",
       "      <td>0.000000</td>\n",
       "      <td>0.000000</td>\n",
       "      <td>0.000000</td>\n",
       "      <td>0.000000</td>\n",
       "      <td>0.000000</td>\n",
       "      <td>0.000000</td>\n",
       "      <td>0.000000</td>\n",
       "      <td>0.00000</td>\n",
       "      <td>0.000000</td>\n",
       "    </tr>\n",
       "    <tr>\n",
       "      <th>50%</th>\n",
       "      <td>1.112500e+12</td>\n",
       "      <td>1418.000000</td>\n",
       "      <td>0.000000</td>\n",
       "      <td>0.000000</td>\n",
       "      <td>311.000000</td>\n",
       "      <td>0.000000</td>\n",
       "      <td>0.000000</td>\n",
       "      <td>0.000000</td>\n",
       "      <td>0.000000</td>\n",
       "      <td>33.00000</td>\n",
       "      <td>0.000000</td>\n",
       "    </tr>\n",
       "    <tr>\n",
       "      <th>75%</th>\n",
       "      <td>1.203490e+12</td>\n",
       "      <td>1820.000000</td>\n",
       "      <td>888.000000</td>\n",
       "      <td>0.000000</td>\n",
       "      <td>440.000000</td>\n",
       "      <td>0.000000</td>\n",
       "      <td>0.000000</td>\n",
       "      <td>0.000000</td>\n",
       "      <td>0.000000</td>\n",
       "      <td>96.00000</td>\n",
       "      <td>38.000000</td>\n",
       "    </tr>\n",
       "    <tr>\n",
       "      <th>max</th>\n",
       "      <td>1.955020e+12</td>\n",
       "      <td>13451.000000</td>\n",
       "      <td>12950.000000</td>\n",
       "      <td>3120.000000</td>\n",
       "      <td>3250.000000</td>\n",
       "      <td>4328.000000</td>\n",
       "      <td>4950.000000</td>\n",
       "      <td>3597.000000</td>\n",
       "      <td>5693.000000</td>\n",
       "      <td>3312.00000</td>\n",
       "      <td>3500.000000</td>\n",
       "    </tr>\n",
       "  </tbody>\n",
       "</table>\n",
       "</div>"
      ],
      "text/plain": [
       "               acct  base_area_pri  base_area_upr  frame_garage_pri  \\\n",
       "count  9.576840e+05  957684.000000  957684.000000     957684.000000   \n",
       "mean   1.013455e+12    1495.021577     403.353327         45.982053   \n",
       "std    2.689613e+11     610.476457     617.076246        137.221001   \n",
       "min    2.144000e+10       0.000000       0.000000          0.000000   \n",
       "25%    8.510400e+11    1064.000000       0.000000          0.000000   \n",
       "50%    1.112500e+12    1418.000000       0.000000          0.000000   \n",
       "75%    1.203490e+12    1820.000000     888.000000          0.000000   \n",
       "max    1.955020e+12   13451.000000   12950.000000       3120.000000   \n",
       "\n",
       "       mas_brk_garage_pri  mas_conc_patio_pri  one_story_frame_pri  \\\n",
       "count       957684.000000       957684.000000        957684.000000   \n",
       "mean           237.577644           35.882653            34.753508   \n",
       "std            233.084765          117.541038           134.097213   \n",
       "min              0.000000            0.000000             0.000000   \n",
       "25%              0.000000            0.000000             0.000000   \n",
       "50%            311.000000            0.000000             0.000000   \n",
       "75%            440.000000            0.000000             0.000000   \n",
       "max           3250.000000         4328.000000          4950.000000   \n",
       "\n",
       "       one_story_frame_upr  one_story_mas_pri  open_frame_porch_pri  \\\n",
       "count        957684.000000      957684.000000          957684.00000   \n",
       "mean             30.488102          78.742360              68.40654   \n",
       "std             112.266798         220.327152             104.23072   \n",
       "min               0.000000           0.000000               0.00000   \n",
       "25%               0.000000           0.000000               0.00000   \n",
       "50%               0.000000           0.000000              33.00000   \n",
       "75%               0.000000           0.000000              96.00000   \n",
       "max            3597.000000        5693.000000            3312.00000   \n",
       "\n",
       "       open_mas_porch_pri  \n",
       "count       957684.000000  \n",
       "mean            33.197506  \n",
       "std             75.935905  \n",
       "min            -63.000000  \n",
       "25%              0.000000  \n",
       "50%              0.000000  \n",
       "75%             38.000000  \n",
       "max           3500.000000  "
      ]
     },
     "execution_count": 21,
     "metadata": {},
     "output_type": "execute_result"
    }
   ],
   "source": [
    "exterior_pivot.describe()"
   ]
  },
  {
   "cell_type": "markdown",
   "metadata": {
    "papermill": {
     "duration": 0.018367,
     "end_time": "2020-09-13T12:46:19.715923",
     "exception": false,
     "start_time": "2020-09-13T12:46:19.697556",
     "status": "completed"
    },
    "tags": []
   },
   "source": [
    "# Export real_acct"
   ]
  },
  {
   "cell_type": "code",
   "execution_count": 22,
   "metadata": {
    "ExecuteTime": {
     "end_time": "2020-07-28T10:53:56.883289Z",
     "start_time": "2020-07-28T10:53:56.447190Z"
    },
    "execution": {
     "iopub.execute_input": "2020-09-13T12:46:19.758735Z",
     "iopub.status.busy": "2020-09-13T12:46:19.757851Z",
     "iopub.status.idle": "2020-09-13T12:46:19.830648Z",
     "shell.execute_reply": "2020-09-13T12:46:19.830037Z"
    },
    "papermill": {
     "duration": 0.096458,
     "end_time": "2020-09-13T12:46:19.830799",
     "exception": false,
     "start_time": "2020-09-13T12:46:19.734341",
     "status": "completed"
    },
    "tags": []
   },
   "outputs": [],
   "source": [
    "save_fn = ROOT_DIR / 'data/raw/2016/exterior_comps.pickle'\n",
    "save_pickle(exterior_pivot, save_fn)"
   ]
  }
 ],
 "metadata": {
  "kernelspec": {
   "display_name": "hcad_pred",
   "language": "python",
   "name": "hcad_pred"
  },
  "language_info": {
   "codemirror_mode": {
    "name": "ipython",
    "version": 3
   },
   "file_extension": ".py",
   "mimetype": "text/x-python",
   "name": "python",
   "nbconvert_exporter": "python",
   "pygments_lexer": "ipython3",
   "version": "3.7.8"
  },
  "papermill": {
   "duration": 15.477703,
   "end_time": "2020-09-13T12:46:20.259027",
   "environment_variables": {},
   "exception": null,
   "input_path": "/media/hdd/projects/springboard/hcad_pred/notebooks/01_Exploratory/1.4-rp-hcad-data-view-exterior.ipynb",
   "output_path": "/media/hdd/projects/springboard/hcad_pred/notebooks/01_Exploratory/output/1.4-rp-hcad-data-view-exterior_20200913.ipynb",
   "parameters": {},
   "start_time": "2020-09-13T12:46:04.781324",
   "version": "2.1.2"
  },
  "toc": {
   "base_numbering": 1,
   "nav_menu": {},
   "number_sections": true,
   "sideBar": true,
   "skip_h1_title": false,
   "title_cell": "Table of Contents",
   "title_sidebar": "Contents",
   "toc_cell": false,
   "toc_position": {},
   "toc_section_display": true,
   "toc_window_display": false
  }
 },
 "nbformat": 4,
 "nbformat_minor": 4
}