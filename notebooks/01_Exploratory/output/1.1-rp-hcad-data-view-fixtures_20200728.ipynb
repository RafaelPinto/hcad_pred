{
 "cells": [
  {
   "cell_type": "markdown",
   "metadata": {
    "papermill": {
     "duration": 0.045822,
     "end_time": "2020-07-28T11:15:06.528220",
     "exception": false,
     "start_time": "2020-07-28T11:15:06.482398",
     "status": "completed"
    },
    "tags": []
   },
   "source": [
    "# Find the comparables: fixtures.txt\n",
    "\n",
    "The file `fixtures.txt` contains important property features like number of bedrooms, full baths, half baths, and more. It comes as a melted table, so we need to use the pivot_table method on the dataframe instance to shape it to a table with one observation per row (account number)."
   ]
  },
  {
   "cell_type": "code",
   "execution_count": 1,
   "metadata": {
    "ExecuteTime": {
     "end_time": "2020-07-28T10:37:57.005923Z",
     "start_time": "2020-07-28T10:37:56.988122Z"
    },
    "execution": {
     "iopub.execute_input": "2020-07-28T11:15:06.576445Z",
     "iopub.status.busy": "2020-07-28T11:15:06.575786Z",
     "iopub.status.idle": "2020-07-28T11:15:06.585918Z",
     "shell.execute_reply": "2020-07-28T11:15:06.586331Z"
    },
    "papermill": {
     "duration": 0.038703,
     "end_time": "2020-07-28T11:15:06.586578",
     "exception": false,
     "start_time": "2020-07-28T11:15:06.547875",
     "status": "completed"
    },
    "tags": []
   },
   "outputs": [],
   "source": [
    "%load_ext autoreload\n",
    "%autoreload 2"
   ]
  },
  {
   "cell_type": "code",
   "execution_count": 2,
   "metadata": {
    "ExecuteTime": {
     "end_time": "2020-07-28T10:37:57.426155Z",
     "start_time": "2020-07-28T10:37:57.008192Z"
    },
    "execution": {
     "iopub.execute_input": "2020-07-28T11:15:06.631128Z",
     "iopub.status.busy": "2020-07-28T11:15:06.630193Z",
     "iopub.status.idle": "2020-07-28T11:15:06.980458Z",
     "shell.execute_reply": "2020-07-28T11:15:06.979927Z"
    },
    "papermill": {
     "duration": 0.374187,
     "end_time": "2020-07-28T11:15:06.980589",
     "exception": false,
     "start_time": "2020-07-28T11:15:06.606402",
     "status": "completed"
    },
    "tags": []
   },
   "outputs": [],
   "source": [
    "from pathlib import Path\n",
    "import pickle\n",
    "\n",
    "import pandas as pd\n",
    "\n",
    "from src.definitions import ROOT_DIR\n",
    "from src.data.utils import Table, save_pickle"
   ]
  },
  {
   "cell_type": "code",
   "execution_count": 3,
   "metadata": {
    "ExecuteTime": {
     "end_time": "2020-07-28T10:37:57.444724Z",
     "start_time": "2020-07-28T10:37:57.427898Z"
    },
    "execution": {
     "iopub.execute_input": "2020-07-28T11:15:07.022057Z",
     "iopub.status.busy": "2020-07-28T11:15:07.021540Z",
     "iopub.status.idle": "2020-07-28T11:15:07.033006Z",
     "shell.execute_reply": "2020-07-28T11:15:07.033543Z"
    },
    "papermill": {
     "duration": 0.034021,
     "end_time": "2020-07-28T11:15:07.033709",
     "exception": false,
     "start_time": "2020-07-28T11:15:06.999688",
     "status": "completed"
    },
    "tags": []
   },
   "outputs": [],
   "source": [
    "fixtures_fn = ROOT_DIR / 'data/external/2016/Real_building_land/fixtures.txt'\n",
    "assert fixtures_fn.exists()"
   ]
  },
  {
   "cell_type": "markdown",
   "metadata": {
    "papermill": {
     "duration": 0.019478,
     "end_time": "2020-07-28T11:15:07.072954",
     "exception": false,
     "start_time": "2020-07-28T11:15:07.053476",
     "status": "completed"
    },
    "tags": []
   },
   "source": [
    "## Load accounts of interest\n",
    "Let's load only the account numbers that meet the free-standing single-family home criteria that we found while processing the `building_res.txt` file."
   ]
  },
  {
   "cell_type": "code",
   "execution_count": 4,
   "metadata": {
    "ExecuteTime": {
     "end_time": "2020-07-28T10:37:57.460138Z",
     "start_time": "2020-07-28T10:37:57.446977Z"
    },
    "execution": {
     "iopub.execute_input": "2020-07-28T11:15:07.115912Z",
     "iopub.status.busy": "2020-07-28T11:15:07.115404Z",
     "iopub.status.idle": "2020-07-28T11:15:07.126248Z",
     "shell.execute_reply": "2020-07-28T11:15:07.126712Z"
    },
    "papermill": {
     "duration": 0.034351,
     "end_time": "2020-07-28T11:15:07.126898",
     "exception": false,
     "start_time": "2020-07-28T11:15:07.092547",
     "status": "completed"
    },
    "tags": []
   },
   "outputs": [],
   "source": [
    "fixtures = Table(fixtures_fn, '2016')"
   ]
  },
  {
   "cell_type": "code",
   "execution_count": 5,
   "metadata": {
    "ExecuteTime": {
     "end_time": "2020-07-28T10:38:00.887219Z",
     "start_time": "2020-07-28T10:37:57.461923Z"
    },
    "execution": {
     "iopub.execute_input": "2020-07-28T11:15:07.169772Z",
     "iopub.status.busy": "2020-07-28T11:15:07.169259Z",
     "iopub.status.idle": "2020-07-28T11:15:10.449165Z",
     "shell.execute_reply": "2020-07-28T11:15:10.449572Z"
    },
    "papermill": {
     "duration": 3.303676,
     "end_time": "2020-07-28T11:15:10.449725",
     "exception": false,
     "start_time": "2020-07-28T11:15:07.146049",
     "status": "completed"
    },
    "tags": []
   },
   "outputs": [],
   "source": [
    "skiprows = fixtures.get_skiprows()"
   ]
  },
  {
   "cell_type": "code",
   "execution_count": 6,
   "metadata": {
    "ExecuteTime": {
     "end_time": "2020-07-28T10:38:05.478170Z",
     "start_time": "2020-07-28T10:38:00.888665Z"
    },
    "execution": {
     "iopub.execute_input": "2020-07-28T11:15:10.492526Z",
     "iopub.status.busy": "2020-07-28T11:15:10.492021Z",
     "iopub.status.idle": "2020-07-28T11:15:15.479382Z",
     "shell.execute_reply": "2020-07-28T11:15:15.479777Z"
    },
    "papermill": {
     "duration": 5.010758,
     "end_time": "2020-07-28T11:15:15.479931",
     "exception": false,
     "start_time": "2020-07-28T11:15:10.469173",
     "status": "completed"
    },
    "tags": []
   },
   "outputs": [],
   "source": [
    "fixtures_df = fixtures.get_df(skiprows=skiprows)"
   ]
  },
  {
   "cell_type": "code",
   "execution_count": 7,
   "metadata": {
    "ExecuteTime": {
     "end_time": "2020-07-28T10:38:05.511673Z",
     "start_time": "2020-07-28T10:38:05.479653Z"
    },
    "execution": {
     "iopub.execute_input": "2020-07-28T11:15:15.531171Z",
     "iopub.status.busy": "2020-07-28T11:15:15.530655Z",
     "iopub.status.idle": "2020-07-28T11:15:15.559281Z",
     "shell.execute_reply": "2020-07-28T11:15:15.559736Z"
    },
    "papermill": {
     "duration": 0.057022,
     "end_time": "2020-07-28T11:15:15.559906",
     "exception": false,
     "start_time": "2020-07-28T11:15:15.502884",
     "status": "completed"
    },
    "tags": []
   },
   "outputs": [
    {
     "data": {
      "text/html": [
       "<div>\n",
       "<style scoped>\n",
       "    .dataframe tbody tr th:only-of-type {\n",
       "        vertical-align: middle;\n",
       "    }\n",
       "\n",
       "    .dataframe tbody tr th {\n",
       "        vertical-align: top;\n",
       "    }\n",
       "\n",
       "    .dataframe thead th {\n",
       "        text-align: right;\n",
       "    }\n",
       "</style>\n",
       "<table border=\"1\" class=\"dataframe\">\n",
       "  <thead>\n",
       "    <tr style=\"text-align: right;\">\n",
       "      <th></th>\n",
       "      <th>acct</th>\n",
       "      <th>bld_num</th>\n",
       "      <th>type</th>\n",
       "      <th>type_dscr</th>\n",
       "      <th>units</th>\n",
       "    </tr>\n",
       "  </thead>\n",
       "  <tbody>\n",
       "    <tr>\n",
       "      <th>0</th>\n",
       "      <td>1116690000018</td>\n",
       "      <td>1</td>\n",
       "      <td>RMT</td>\n",
       "      <td>Room:  Total</td>\n",
       "      <td>5.0</td>\n",
       "    </tr>\n",
       "    <tr>\n",
       "      <th>1</th>\n",
       "      <td>1116690000018</td>\n",
       "      <td>1</td>\n",
       "      <td>STY</td>\n",
       "      <td>Story Height Index</td>\n",
       "      <td>1.0</td>\n",
       "    </tr>\n",
       "    <tr>\n",
       "      <th>2</th>\n",
       "      <td>1116690000019</td>\n",
       "      <td>1</td>\n",
       "      <td>RMT</td>\n",
       "      <td>Room:  Total</td>\n",
       "      <td>5.0</td>\n",
       "    </tr>\n",
       "    <tr>\n",
       "      <th>3</th>\n",
       "      <td>1116690000019</td>\n",
       "      <td>1</td>\n",
       "      <td>STY</td>\n",
       "      <td>Story Height Index</td>\n",
       "      <td>2.0</td>\n",
       "    </tr>\n",
       "    <tr>\n",
       "      <th>4</th>\n",
       "      <td>1116690000020</td>\n",
       "      <td>1</td>\n",
       "      <td>RMT</td>\n",
       "      <td>Room:  Total</td>\n",
       "      <td>5.0</td>\n",
       "    </tr>\n",
       "  </tbody>\n",
       "</table>\n",
       "</div>"
      ],
      "text/plain": [
       "            acct  bld_num  type           type_dscr  units\n",
       "0  1116690000018        1  RMT         Room:  Total    5.0\n",
       "1  1116690000018        1  STY   Story Height Index    1.0\n",
       "2  1116690000019        1  RMT         Room:  Total    5.0\n",
       "3  1116690000019        1  STY   Story Height Index    2.0\n",
       "4  1116690000020        1  RMT         Room:  Total    5.0"
      ]
     },
     "execution_count": 7,
     "metadata": {},
     "output_type": "execute_result"
    }
   ],
   "source": [
    "fixtures_df.head()"
   ]
  },
  {
   "cell_type": "code",
   "execution_count": 8,
   "metadata": {
    "ExecuteTime": {
     "end_time": "2020-07-28T10:38:06.022097Z",
     "start_time": "2020-07-28T10:38:05.515281Z"
    },
    "execution": {
     "iopub.execute_input": "2020-07-28T11:15:15.605235Z",
     "iopub.status.busy": "2020-07-28T11:15:15.604725Z",
     "iopub.status.idle": "2020-07-28T11:15:16.072322Z",
     "shell.execute_reply": "2020-07-28T11:15:16.071811Z"
    },
    "papermill": {
     "duration": 0.491245,
     "end_time": "2020-07-28T11:15:16.072443",
     "exception": false,
     "start_time": "2020-07-28T11:15:15.581198",
     "status": "completed"
    },
    "tags": []
   },
   "outputs": [
    {
     "data": {
      "text/plain": [
       "Room:  Bedroom                  960725\n",
       "Story Height Index              960644\n",
       "Room:  Full Bath                960563\n",
       "Room:  Total                    960473\n",
       "Fixtures:  Total                960339\n",
       "Fixtures:  Addl                 463957\n",
       "Room:  Half Bath                393908\n",
       "Room:  Rec                      372823\n",
       "Fireplace: Metal Prefab         335608\n",
       "Fireplace: Masonry Firebrick    203721\n",
       "Masonry Trim                     40565\n",
       "Fireplace: Direct Vent           27568\n",
       "Fireplace:  Adl Open              3536\n",
       "Elevator Stops                    2471\n",
       "Atrium                            1238\n",
       "Lower Level Rec                    188\n",
       "Fireplace:  Open (1)                68\n",
       "                                    20\n",
       "Wall Height                          6\n",
       "Interior Finish Percent              5\n",
       "Bank:  Drive-Thru                    5\n",
       "Pool:  Indoor Value                  4\n",
       "Elev:  Elect / Pass                  4\n",
       "A/C:  Central                        3\n",
       "Fireplace:  Open (3)                 2\n",
       "Elev:  Elect / Frght                 2\n",
       "OH Door:  Motor RS                   2\n",
       "Miscellaneous                        1\n",
       "Fireplace:  Open (2)                 1\n",
       "Unfinished Area                      1\n",
       "Name: type_dscr, dtype: int64"
      ]
     },
     "execution_count": 8,
     "metadata": {},
     "output_type": "execute_result"
    }
   ],
   "source": [
    "fixtures_df['type_dscr'].value_counts()"
   ]
  },
  {
   "cell_type": "markdown",
   "metadata": {
    "papermill": {
     "duration": 0.020485,
     "end_time": "2020-07-28T11:15:16.113359",
     "exception": false,
     "start_time": "2020-07-28T11:15:16.092874",
     "status": "completed"
    },
    "tags": []
   },
   "source": [
    "# Select columns and build pivot table\n",
    "From the value count on the fixtures type description above we can tell that the first 10 types are prevalent in the data. Let's focus on these 10 in our evaluation.\n",
    "Also, we assume there is only one reported fixture per category per property. If there is more than one value reported we will take the maximum of those."
   ]
  },
  {
   "cell_type": "code",
   "execution_count": 9,
   "metadata": {
    "ExecuteTime": {
     "end_time": "2020-07-28T10:38:06.522227Z",
     "start_time": "2020-07-28T10:38:06.025252Z"
    },
    "execution": {
     "iopub.execute_input": "2020-07-28T11:15:16.164678Z",
     "iopub.status.busy": "2020-07-28T11:15:16.164144Z",
     "iopub.status.idle": "2020-07-28T11:15:16.629128Z",
     "shell.execute_reply": "2020-07-28T11:15:16.628703Z"
    },
    "papermill": {
     "duration": 0.488732,
     "end_time": "2020-07-28T11:15:16.629248",
     "exception": false,
     "start_time": "2020-07-28T11:15:16.140516",
     "status": "completed"
    },
    "tags": []
   },
   "outputs": [],
   "source": [
    "cols = fixtures_df['type_dscr'].value_counts().head(10).index"
   ]
  },
  {
   "cell_type": "code",
   "execution_count": 10,
   "metadata": {
    "ExecuteTime": {
     "end_time": "2020-07-28T10:38:06.912662Z",
     "start_time": "2020-07-28T10:38:06.524303Z"
    },
    "execution": {
     "iopub.execute_input": "2020-07-28T11:15:16.674927Z",
     "iopub.status.busy": "2020-07-28T11:15:16.674382Z",
     "iopub.status.idle": "2020-07-28T11:15:17.028734Z",
     "shell.execute_reply": "2020-07-28T11:15:17.028292Z"
    },
    "papermill": {
     "duration": 0.379144,
     "end_time": "2020-07-28T11:15:17.028856",
     "exception": false,
     "start_time": "2020-07-28T11:15:16.649712",
     "status": "completed"
    },
    "tags": []
   },
   "outputs": [],
   "source": [
    "cond0 = fixtures_df['type_dscr'].isin(cols)\n",
    "fixtures_df = fixtures_df.loc[cond0, :]"
   ]
  },
  {
   "cell_type": "code",
   "execution_count": 11,
   "metadata": {
    "ExecuteTime": {
     "end_time": "2020-07-28T10:38:12.862523Z",
     "start_time": "2020-07-28T10:38:06.917639Z"
    },
    "execution": {
     "iopub.execute_input": "2020-07-28T11:15:17.075762Z",
     "iopub.status.busy": "2020-07-28T11:15:17.074841Z",
     "iopub.status.idle": "2020-07-28T11:15:22.961525Z",
     "shell.execute_reply": "2020-07-28T11:15:22.961001Z"
    },
    "papermill": {
     "duration": 5.912084,
     "end_time": "2020-07-28T11:15:22.961647",
     "exception": false,
     "start_time": "2020-07-28T11:15:17.049563",
     "status": "completed"
    },
    "tags": []
   },
   "outputs": [],
   "source": [
    "fixtures_pivot = fixtures_df.pivot_table(index='acct',\n",
    "                                         columns='type_dscr',\n",
    "                                         values='units',\n",
    "                                         fill_value=0,\n",
    "                                         aggfunc='max')"
   ]
  },
  {
   "cell_type": "code",
   "execution_count": 12,
   "metadata": {
    "ExecuteTime": {
     "end_time": "2020-07-28T10:38:12.896923Z",
     "start_time": "2020-07-28T10:38:12.864086Z"
    },
    "execution": {
     "iopub.execute_input": "2020-07-28T11:15:23.006941Z",
     "iopub.status.busy": "2020-07-28T11:15:23.006122Z",
     "iopub.status.idle": "2020-07-28T11:15:23.028066Z",
     "shell.execute_reply": "2020-07-28T11:15:23.028474Z"
    },
    "papermill": {
     "duration": 0.046187,
     "end_time": "2020-07-28T11:15:23.028620",
     "exception": false,
     "start_time": "2020-07-28T11:15:22.982433",
     "status": "completed"
    },
    "tags": []
   },
   "outputs": [
    {
     "data": {
      "text/html": [
       "<div>\n",
       "<style scoped>\n",
       "    .dataframe tbody tr th:only-of-type {\n",
       "        vertical-align: middle;\n",
       "    }\n",
       "\n",
       "    .dataframe tbody tr th {\n",
       "        vertical-align: top;\n",
       "    }\n",
       "\n",
       "    .dataframe thead th {\n",
       "        text-align: right;\n",
       "    }\n",
       "</style>\n",
       "<table border=\"1\" class=\"dataframe\">\n",
       "  <thead>\n",
       "    <tr style=\"text-align: right;\">\n",
       "      <th>type_dscr</th>\n",
       "      <th>Fireplace: Masonry Firebrick</th>\n",
       "      <th>Fireplace: Metal Prefab</th>\n",
       "      <th>Fixtures:  Addl</th>\n",
       "      <th>Fixtures:  Total</th>\n",
       "      <th>Room:  Bedroom</th>\n",
       "      <th>Room:  Full Bath</th>\n",
       "      <th>Room:  Half Bath</th>\n",
       "      <th>Room:  Rec</th>\n",
       "      <th>Room:  Total</th>\n",
       "      <th>Story Height Index</th>\n",
       "    </tr>\n",
       "    <tr>\n",
       "      <th>acct</th>\n",
       "      <th></th>\n",
       "      <th></th>\n",
       "      <th></th>\n",
       "      <th></th>\n",
       "      <th></th>\n",
       "      <th></th>\n",
       "      <th></th>\n",
       "      <th></th>\n",
       "      <th></th>\n",
       "      <th></th>\n",
       "    </tr>\n",
       "  </thead>\n",
       "  <tbody>\n",
       "    <tr>\n",
       "      <th>21440000001</th>\n",
       "      <td>0</td>\n",
       "      <td>0</td>\n",
       "      <td>2</td>\n",
       "      <td>12</td>\n",
       "      <td>3</td>\n",
       "      <td>2</td>\n",
       "      <td>1</td>\n",
       "      <td>1</td>\n",
       "      <td>8</td>\n",
       "      <td>2.0</td>\n",
       "    </tr>\n",
       "    <tr>\n",
       "      <th>21470000008</th>\n",
       "      <td>0</td>\n",
       "      <td>0</td>\n",
       "      <td>0</td>\n",
       "      <td>5</td>\n",
       "      <td>2</td>\n",
       "      <td>1</td>\n",
       "      <td>0</td>\n",
       "      <td>0</td>\n",
       "      <td>4</td>\n",
       "      <td>1.0</td>\n",
       "    </tr>\n",
       "    <tr>\n",
       "      <th>21480000002</th>\n",
       "      <td>0</td>\n",
       "      <td>0</td>\n",
       "      <td>0</td>\n",
       "      <td>5</td>\n",
       "      <td>3</td>\n",
       "      <td>1</td>\n",
       "      <td>0</td>\n",
       "      <td>0</td>\n",
       "      <td>6</td>\n",
       "      <td>1.0</td>\n",
       "    </tr>\n",
       "    <tr>\n",
       "      <th>21650000007</th>\n",
       "      <td>0</td>\n",
       "      <td>0</td>\n",
       "      <td>3</td>\n",
       "      <td>16</td>\n",
       "      <td>3</td>\n",
       "      <td>3</td>\n",
       "      <td>1</td>\n",
       "      <td>0</td>\n",
       "      <td>6</td>\n",
       "      <td>2.0</td>\n",
       "    </tr>\n",
       "    <tr>\n",
       "      <th>21650000011</th>\n",
       "      <td>0</td>\n",
       "      <td>1</td>\n",
       "      <td>0</td>\n",
       "      <td>8</td>\n",
       "      <td>3</td>\n",
       "      <td>2</td>\n",
       "      <td>0</td>\n",
       "      <td>0</td>\n",
       "      <td>5</td>\n",
       "      <td>1.0</td>\n",
       "    </tr>\n",
       "  </tbody>\n",
       "</table>\n",
       "</div>"
      ],
      "text/plain": [
       "type_dscr    Fireplace: Masonry Firebrick  Fireplace: Metal Prefab  \\\n",
       "acct                                                                 \n",
       "21440000001                             0                        0   \n",
       "21470000008                             0                        0   \n",
       "21480000002                             0                        0   \n",
       "21650000007                             0                        0   \n",
       "21650000011                             0                        1   \n",
       "\n",
       "type_dscr    Fixtures:  Addl  Fixtures:  Total  Room:  Bedroom  \\\n",
       "acct                                                             \n",
       "21440000001                2                12               3   \n",
       "21470000008                0                 5               2   \n",
       "21480000002                0                 5               3   \n",
       "21650000007                3                16               3   \n",
       "21650000011                0                 8               3   \n",
       "\n",
       "type_dscr    Room:  Full Bath  Room:  Half Bath  Room:  Rec  Room:  Total  \\\n",
       "acct                                                                        \n",
       "21440000001                 2                 1           1             8   \n",
       "21470000008                 1                 0           0             4   \n",
       "21480000002                 1                 0           0             6   \n",
       "21650000007                 3                 1           0             6   \n",
       "21650000011                 2                 0           0             5   \n",
       "\n",
       "type_dscr    Story Height Index  \n",
       "acct                             \n",
       "21440000001                 2.0  \n",
       "21470000008                 1.0  \n",
       "21480000002                 1.0  \n",
       "21650000007                 2.0  \n",
       "21650000011                 1.0  "
      ]
     },
     "execution_count": 12,
     "metadata": {},
     "output_type": "execute_result"
    }
   ],
   "source": [
    "fixtures_pivot.head()"
   ]
  },
  {
   "cell_type": "markdown",
   "metadata": {
    "papermill": {
     "duration": 0.021315,
     "end_time": "2020-07-28T11:15:23.071868",
     "exception": false,
     "start_time": "2020-07-28T11:15:23.050553",
     "status": "completed"
    },
    "tags": []
   },
   "source": [
    "add `acct` column to make easier the merging process ahead"
   ]
  },
  {
   "cell_type": "code",
   "execution_count": 13,
   "metadata": {
    "ExecuteTime": {
     "end_time": "2020-07-28T10:38:12.915779Z",
     "start_time": "2020-07-28T10:38:12.901018Z"
    },
    "execution": {
     "iopub.execute_input": "2020-07-28T11:15:23.119180Z",
     "iopub.status.busy": "2020-07-28T11:15:23.118394Z",
     "iopub.status.idle": "2020-07-28T11:15:23.134335Z",
     "shell.execute_reply": "2020-07-28T11:15:23.134760Z"
    },
    "papermill": {
     "duration": 0.041051,
     "end_time": "2020-07-28T11:15:23.134901",
     "exception": false,
     "start_time": "2020-07-28T11:15:23.093850",
     "status": "completed"
    },
    "tags": []
   },
   "outputs": [],
   "source": [
    "fixtures_pivot.reset_index(inplace=True)"
   ]
  },
  {
   "cell_type": "markdown",
   "metadata": {
    "papermill": {
     "duration": 0.021672,
     "end_time": "2020-07-28T11:15:23.178071",
     "exception": false,
     "start_time": "2020-07-28T11:15:23.156399",
     "status": "completed"
    },
    "tags": []
   },
   "source": [
    "# Describe and clean the columns\n",
    "\n",
    "Now we must describe each column by answering:\n",
    "\n",
    "* Meaning\n",
    "* Descriptive statistics or value counts\n",
    "* Data type\n",
    "\n",
    "There is no explicit document provided by HCAD explaining all the variables, but most are easy to guess for using their name."
   ]
  },
  {
   "cell_type": "markdown",
   "metadata": {
    "papermill": {
     "duration": 0.021288,
     "end_time": "2020-07-28T11:15:23.220952",
     "exception": false,
     "start_time": "2020-07-28T11:15:23.199664",
     "status": "completed"
    },
    "tags": []
   },
   "source": [
    "## Fix column names\n",
    "We would like the column names to be all lower case, with no spaces nor non-alphanumeric characters."
   ]
  },
  {
   "cell_type": "code",
   "execution_count": 14,
   "metadata": {
    "ExecuteTime": {
     "end_time": "2020-07-28T10:38:12.938683Z",
     "start_time": "2020-07-28T10:38:12.917607Z"
    },
    "execution": {
     "iopub.execute_input": "2020-07-28T11:15:23.270843Z",
     "iopub.status.busy": "2020-07-28T11:15:23.270141Z",
     "iopub.status.idle": "2020-07-28T11:15:23.280889Z",
     "shell.execute_reply": "2020-07-28T11:15:23.281314Z"
    },
    "papermill": {
     "duration": 0.036261,
     "end_time": "2020-07-28T11:15:23.281467",
     "exception": false,
     "start_time": "2020-07-28T11:15:23.245206",
     "status": "completed"
    },
    "tags": []
   },
   "outputs": [],
   "source": [
    "from src.data.utils import fix_column_names"
   ]
  },
  {
   "cell_type": "code",
   "execution_count": 15,
   "metadata": {
    "ExecuteTime": {
     "end_time": "2020-07-28T10:38:12.962817Z",
     "start_time": "2020-07-28T10:38:12.941857Z"
    },
    "execution": {
     "iopub.execute_input": "2020-07-28T11:15:23.330589Z",
     "iopub.status.busy": "2020-07-28T11:15:23.329590Z",
     "iopub.status.idle": "2020-07-28T11:15:23.342560Z",
     "shell.execute_reply": "2020-07-28T11:15:23.342021Z"
    },
    "papermill": {
     "duration": 0.038338,
     "end_time": "2020-07-28T11:15:23.342685",
     "exception": false,
     "start_time": "2020-07-28T11:15:23.304347",
     "status": "completed"
    },
    "tags": []
   },
   "outputs": [
    {
     "data": {
      "text/plain": [
       "Index(['acct', 'Fireplace: Masonry Firebrick', 'Fireplace: Metal Prefab',\n",
       "       'Fixtures:  Addl', 'Fixtures:  Total', 'Room:  Bedroom',\n",
       "       'Room:  Full Bath', 'Room:  Half Bath', 'Room:  Rec', 'Room:  Total',\n",
       "       'Story Height Index'],\n",
       "      dtype='object', name='type_dscr')"
      ]
     },
     "execution_count": 15,
     "metadata": {},
     "output_type": "execute_result"
    }
   ],
   "source": [
    "fixtures_pivot.columns"
   ]
  },
  {
   "cell_type": "code",
   "execution_count": 16,
   "metadata": {
    "ExecuteTime": {
     "end_time": "2020-07-28T10:38:12.990439Z",
     "start_time": "2020-07-28T10:38:12.965215Z"
    },
    "execution": {
     "iopub.execute_input": "2020-07-28T11:15:23.390400Z",
     "iopub.status.busy": "2020-07-28T11:15:23.389888Z",
     "iopub.status.idle": "2020-07-28T11:15:23.400719Z",
     "shell.execute_reply": "2020-07-28T11:15:23.401124Z"
    },
    "papermill": {
     "duration": 0.035916,
     "end_time": "2020-07-28T11:15:23.401272",
     "exception": false,
     "start_time": "2020-07-28T11:15:23.365356",
     "status": "completed"
    },
    "tags": []
   },
   "outputs": [],
   "source": [
    "fixtures_pivot = fix_column_names(fixtures_pivot)"
   ]
  },
  {
   "cell_type": "code",
   "execution_count": 17,
   "metadata": {
    "ExecuteTime": {
     "end_time": "2020-07-28T10:38:13.019388Z",
     "start_time": "2020-07-28T10:38:12.993057Z"
    },
    "execution": {
     "iopub.execute_input": "2020-07-28T11:15:23.449353Z",
     "iopub.status.busy": "2020-07-28T11:15:23.448518Z",
     "iopub.status.idle": "2020-07-28T11:15:23.460936Z",
     "shell.execute_reply": "2020-07-28T11:15:23.461336Z"
    },
    "papermill": {
     "duration": 0.037981,
     "end_time": "2020-07-28T11:15:23.461481",
     "exception": false,
     "start_time": "2020-07-28T11:15:23.423500",
     "status": "completed"
    },
    "tags": []
   },
   "outputs": [
    {
     "data": {
      "text/plain": [
       "Index(['acct', 'fireplace_masonry_firebrick', 'fireplace_metal_prefab',\n",
       "       'fixtures_addl', 'fixtures_total', 'room_bedroom', 'room_full_bath',\n",
       "       'room_half_bath', 'room_rec', 'room_total', 'story_height_index'],\n",
       "      dtype='object')"
      ]
     },
     "execution_count": 17,
     "metadata": {},
     "output_type": "execute_result"
    }
   ],
   "source": [
    "fixtures_pivot.columns"
   ]
  },
  {
   "cell_type": "markdown",
   "metadata": {
    "papermill": {
     "duration": 0.02209,
     "end_time": "2020-07-28T11:15:23.506583",
     "exception": false,
     "start_time": "2020-07-28T11:15:23.484493",
     "status": "completed"
    },
    "tags": []
   },
   "source": [
    "### Find duplicated rows"
   ]
  },
  {
   "cell_type": "code",
   "execution_count": 18,
   "metadata": {
    "ExecuteTime": {
     "end_time": "2020-07-28T10:38:13.376820Z",
     "start_time": "2020-07-28T10:38:13.021446Z"
    },
    "execution": {
     "iopub.execute_input": "2020-07-28T11:15:23.555462Z",
     "iopub.status.busy": "2020-07-28T11:15:23.554342Z",
     "iopub.status.idle": "2020-07-28T11:15:23.843218Z",
     "shell.execute_reply": "2020-07-28T11:15:23.842694Z"
    },
    "papermill": {
     "duration": 0.314468,
     "end_time": "2020-07-28T11:15:23.843338",
     "exception": false,
     "start_time": "2020-07-28T11:15:23.528870",
     "status": "completed"
    },
    "tags": []
   },
   "outputs": [
    {
     "data": {
      "text/html": [
       "<div>\n",
       "<style scoped>\n",
       "    .dataframe tbody tr th:only-of-type {\n",
       "        vertical-align: middle;\n",
       "    }\n",
       "\n",
       "    .dataframe tbody tr th {\n",
       "        vertical-align: top;\n",
       "    }\n",
       "\n",
       "    .dataframe thead th {\n",
       "        text-align: right;\n",
       "    }\n",
       "</style>\n",
       "<table border=\"1\" class=\"dataframe\">\n",
       "  <thead>\n",
       "    <tr style=\"text-align: right;\">\n",
       "      <th></th>\n",
       "      <th>acct</th>\n",
       "      <th>fireplace_masonry_firebrick</th>\n",
       "      <th>fireplace_metal_prefab</th>\n",
       "      <th>fixtures_addl</th>\n",
       "      <th>fixtures_total</th>\n",
       "      <th>room_bedroom</th>\n",
       "      <th>room_full_bath</th>\n",
       "      <th>room_half_bath</th>\n",
       "      <th>room_rec</th>\n",
       "      <th>room_total</th>\n",
       "      <th>story_height_index</th>\n",
       "    </tr>\n",
       "  </thead>\n",
       "  <tbody>\n",
       "  </tbody>\n",
       "</table>\n",
       "</div>"
      ],
      "text/plain": [
       "Empty DataFrame\n",
       "Columns: [acct, fireplace_masonry_firebrick, fireplace_metal_prefab, fixtures_addl, fixtures_total, room_bedroom, room_full_bath, room_half_bath, room_rec, room_total, story_height_index]\n",
       "Index: []"
      ]
     },
     "execution_count": 18,
     "metadata": {},
     "output_type": "execute_result"
    }
   ],
   "source": [
    "cond0 = fixtures_pivot.duplicated()\n",
    "fixtures_pivot.loc[cond0, :]"
   ]
  },
  {
   "cell_type": "markdown",
   "metadata": {
    "papermill": {
     "duration": 0.022547,
     "end_time": "2020-07-28T11:15:23.888554",
     "exception": false,
     "start_time": "2020-07-28T11:15:23.866007",
     "status": "completed"
    },
    "tags": []
   },
   "source": [
    "## Fixtures\n",
    "The following property fixtures are represented by their total count:\n",
    "\n",
    "1. fireplace_masonry_firebrick: Number of masonry firebrick fireplaces in the property.\n",
    "2. fireplace_metal_prefab: Number of prefabricated metal fireplaces in the property.\n",
    "3. fixtures_addl: Number of additional fixtures in the property.\n",
    "4. fixtures_total: Total number fixtures in the property.\n",
    "5. room_bedroom: Number of bedrooms in the property.\n",
    "6. room_full_bath: Number of full baths in the property.\n",
    "7. room_half_bath: Number of half baths in the property.\n",
    "8. room_rec: Number of recreational rooms in the property.\n",
    "9. room_total: Total number of rooms in the property.\n",
    "10. story_height_index: Number of stories in the property.\n",
    "\n",
    "Confusingly, not all the values are integers for most of the fixtures, so I decided to leave them as floats and not try to cast them as categories."
   ]
  },
  {
   "cell_type": "markdown",
   "metadata": {
    "papermill": {
     "duration": 0.022666,
     "end_time": "2020-07-28T11:15:23.933824",
     "exception": false,
     "start_time": "2020-07-28T11:15:23.911158",
     "status": "completed"
    },
    "tags": []
   },
   "source": [
    "### fireplace_masonry_firebrick"
   ]
  },
  {
   "cell_type": "code",
   "execution_count": 19,
   "metadata": {
    "ExecuteTime": {
     "end_time": "2020-07-28T10:38:13.391698Z",
     "start_time": "2020-07-28T10:38:13.378660Z"
    },
    "execution": {
     "iopub.execute_input": "2020-07-28T11:15:23.984276Z",
     "iopub.status.busy": "2020-07-28T11:15:23.983723Z",
     "iopub.status.idle": "2020-07-28T11:15:23.994831Z",
     "shell.execute_reply": "2020-07-28T11:15:23.995296Z"
    },
    "papermill": {
     "duration": 0.03809,
     "end_time": "2020-07-28T11:15:23.995444",
     "exception": false,
     "start_time": "2020-07-28T11:15:23.957354",
     "status": "completed"
    },
    "tags": []
   },
   "outputs": [],
   "source": [
    "from src.data.utils import fix_fixtures"
   ]
  },
  {
   "cell_type": "code",
   "execution_count": 20,
   "metadata": {
    "ExecuteTime": {
     "end_time": "2020-07-28T10:38:13.540689Z",
     "start_time": "2020-07-28T10:38:13.393431Z"
    },
    "execution": {
     "iopub.execute_input": "2020-07-28T11:15:24.045077Z",
     "iopub.status.busy": "2020-07-28T11:15:24.044154Z",
     "iopub.status.idle": "2020-07-28T11:15:24.159548Z",
     "shell.execute_reply": "2020-07-28T11:15:24.159951Z"
    },
    "papermill": {
     "duration": 0.141824,
     "end_time": "2020-07-28T11:15:24.160095",
     "exception": false,
     "start_time": "2020-07-28T11:15:24.018271",
     "status": "completed"
    },
    "tags": []
   },
   "outputs": [
    {
     "name": "stdout",
     "output_type": "stream",
     "text": [
      "Values less than 0: 0\n",
      "\n",
      "\n",
      "The new data type is: float32\n",
      "Head:\n",
      "0    0.0\n",
      "1    0.0\n",
      "2    0.0\n",
      "3    0.0\n",
      "4    0.0\n",
      "Name: fireplace_masonry_firebrick, dtype: float32\n",
      "\n",
      "\n",
      "fireplace_masonry_firebrick normalized value counts: First 20\n",
      "0.0    0.787326\n",
      "1.0    0.204958\n",
      "2.0    0.006546\n",
      "3.0    0.000953\n",
      "4.0    0.000169\n",
      "5.0    0.000032\n",
      "6.0    0.000013\n",
      "7.0    0.000002\n",
      "Name: fireplace_masonry_firebrick, dtype: float64\n",
      "\n",
      "\n",
      "The number of null values is: 0\n",
      "\n",
      "\n"
     ]
    }
   ],
   "source": [
    "fixtures_pivot = fix_fixtures(fixtures_pivot, 'fireplace_masonry_firebrick')"
   ]
  },
  {
   "cell_type": "markdown",
   "metadata": {
    "papermill": {
     "duration": 0.022932,
     "end_time": "2020-07-28T11:15:24.205848",
     "exception": false,
     "start_time": "2020-07-28T11:15:24.182916",
     "status": "completed"
    },
    "tags": []
   },
   "source": [
    "### fireplace_metal_prefab"
   ]
  },
  {
   "cell_type": "code",
   "execution_count": 21,
   "metadata": {
    "ExecuteTime": {
     "end_time": "2020-07-28T10:38:13.689313Z",
     "start_time": "2020-07-28T10:38:13.542768Z"
    },
    "execution": {
     "iopub.execute_input": "2020-07-28T11:15:24.255862Z",
     "iopub.status.busy": "2020-07-28T11:15:24.255192Z",
     "iopub.status.idle": "2020-07-28T11:15:24.374700Z",
     "shell.execute_reply": "2020-07-28T11:15:24.374260Z"
    },
    "papermill": {
     "duration": 0.145902,
     "end_time": "2020-07-28T11:15:24.374831",
     "exception": false,
     "start_time": "2020-07-28T11:15:24.228929",
     "status": "completed"
    },
    "tags": []
   },
   "outputs": [
    {
     "name": "stdout",
     "output_type": "stream",
     "text": [
      "Values less than 0: 0\n",
      "\n",
      "\n",
      "The new data type is: float32\n",
      "Head:\n",
      "0    0.0\n",
      "1    0.0\n",
      "2    0.0\n",
      "3    0.0\n",
      "4    1.0\n",
      "Name: fireplace_metal_prefab, dtype: float32\n",
      "\n",
      "\n",
      "fireplace_metal_prefab normalized value counts: First 20\n",
      "0.0    0.650146\n",
      "1.0    0.340515\n",
      "2.0    0.007925\n",
      "3.0    0.001127\n",
      "4.0    0.000221\n",
      "5.0    0.000049\n",
      "6.0    0.000011\n",
      "7.0    0.000004\n",
      "8.0    0.000001\n",
      "Name: fireplace_metal_prefab, dtype: float64\n",
      "\n",
      "\n",
      "The number of null values is: 0\n",
      "\n",
      "\n"
     ]
    }
   ],
   "source": [
    "fixtures_pivot = fix_fixtures(fixtures_pivot, 'fireplace_metal_prefab')"
   ]
  },
  {
   "cell_type": "markdown",
   "metadata": {
    "papermill": {
     "duration": 0.02339,
     "end_time": "2020-07-28T11:15:24.421381",
     "exception": false,
     "start_time": "2020-07-28T11:15:24.397991",
     "status": "completed"
    },
    "tags": []
   },
   "source": [
    "### fixtures_addl"
   ]
  },
  {
   "cell_type": "code",
   "execution_count": 22,
   "metadata": {
    "ExecuteTime": {
     "end_time": "2020-07-28T10:38:13.820048Z",
     "start_time": "2020-07-28T10:38:13.691630Z"
    },
    "execution": {
     "iopub.execute_input": "2020-07-28T11:15:24.472980Z",
     "iopub.status.busy": "2020-07-28T11:15:24.472470Z",
     "iopub.status.idle": "2020-07-28T11:15:24.592705Z",
     "shell.execute_reply": "2020-07-28T11:15:24.592186Z"
    },
    "papermill": {
     "duration": 0.147835,
     "end_time": "2020-07-28T11:15:24.592825",
     "exception": false,
     "start_time": "2020-07-28T11:15:24.444990",
     "status": "completed"
    },
    "tags": []
   },
   "outputs": [
    {
     "name": "stdout",
     "output_type": "stream",
     "text": [
      "Values less than 0: 0\n",
      "\n",
      "\n",
      "The new data type is: float32\n",
      "Head:\n",
      "0    2.0\n",
      "1    0.0\n",
      "2    0.0\n",
      "3    3.0\n",
      "4    0.0\n",
      "Name: fixtures_addl, dtype: float32\n",
      "\n",
      "\n",
      "fixtures_addl normalized value counts: First 20\n",
      "0.0     0.515788\n",
      "2.0     0.174384\n",
      "3.0     0.124498\n",
      "1.0     0.090731\n",
      "4.0     0.061421\n",
      "5.0     0.018742\n",
      "6.0     0.008203\n",
      "7.0     0.002792\n",
      "8.0     0.001763\n",
      "10.0    0.000567\n",
      "9.0     0.000554\n",
      "11.0    0.000163\n",
      "12.0    0.000117\n",
      "13.0    0.000065\n",
      "15.0    0.000056\n",
      "14.0    0.000052\n",
      "16.0    0.000038\n",
      "17.0    0.000016\n",
      "18.0    0.000016\n",
      "20.0    0.000014\n",
      "Name: fixtures_addl, dtype: float64\n",
      "\n",
      "\n",
      "The number of null values is: 0\n",
      "\n",
      "\n"
     ]
    }
   ],
   "source": [
    "fixtures_pivot = fix_fixtures(fixtures_pivot, 'fixtures_addl')"
   ]
  },
  {
   "cell_type": "markdown",
   "metadata": {
    "ExecuteTime": {
     "end_time": "2020-07-25T11:02:47.968355Z",
     "start_time": "2020-07-25T11:02:47.946972Z"
    },
    "papermill": {
     "duration": 0.025082,
     "end_time": "2020-07-28T11:15:24.641503",
     "exception": false,
     "start_time": "2020-07-28T11:15:24.616421",
     "status": "completed"
    },
    "tags": []
   },
   "source": [
    "### fixtures_total"
   ]
  },
  {
   "cell_type": "code",
   "execution_count": 23,
   "metadata": {
    "ExecuteTime": {
     "end_time": "2020-07-28T10:38:13.958501Z",
     "start_time": "2020-07-28T10:38:13.824007Z"
    },
    "execution": {
     "iopub.execute_input": "2020-07-28T11:15:24.694777Z",
     "iopub.status.busy": "2020-07-28T11:15:24.694230Z",
     "iopub.status.idle": "2020-07-28T11:15:24.807666Z",
     "shell.execute_reply": "2020-07-28T11:15:24.807140Z"
    },
    "papermill": {
     "duration": 0.141397,
     "end_time": "2020-07-28T11:15:24.807788",
     "exception": false,
     "start_time": "2020-07-28T11:15:24.666391",
     "status": "completed"
    },
    "tags": []
   },
   "outputs": [
    {
     "name": "stdout",
     "output_type": "stream",
     "text": [
      "Values less than 0: 0\n",
      "\n",
      "\n",
      "The new data type is: float32\n",
      "Head:\n",
      "0    12.0\n",
      "1     5.0\n",
      "2     5.0\n",
      "3    16.0\n",
      "4     8.0\n",
      "Name: fixtures_total, dtype: float32\n",
      "\n",
      "\n",
      "fixtures_total normalized value counts: First 20\n",
      "8.0     0.257448\n",
      "5.0     0.138425\n",
      "10.0    0.130210\n",
      "12.0    0.081766\n",
      "11.0    0.069250\n",
      "13.0    0.066917\n",
      "9.0     0.049375\n",
      "7.0     0.048893\n",
      "14.0    0.031181\n",
      "16.0    0.030800\n",
      "17.0    0.027129\n",
      "15.0    0.024251\n",
      "18.0    0.013494\n",
      "19.0    0.007609\n",
      "20.0    0.005854\n",
      "21.0    0.003991\n",
      "22.0    0.002839\n",
      "23.0    0.001964\n",
      "24.0    0.001608\n",
      "6.0     0.001538\n",
      "Name: fixtures_total, dtype: float64\n",
      "\n",
      "\n",
      "The number of null values is: 0\n",
      "\n",
      "\n"
     ]
    }
   ],
   "source": [
    "fixtures_pivot = fix_fixtures(fixtures_pivot, 'fixtures_total')"
   ]
  },
  {
   "cell_type": "markdown",
   "metadata": {
    "ExecuteTime": {
     "end_time": "2020-07-25T11:02:48.557379Z",
     "start_time": "2020-07-25T11:02:48.538432Z"
    },
    "papermill": {
     "duration": 0.025048,
     "end_time": "2020-07-28T11:15:24.857016",
     "exception": false,
     "start_time": "2020-07-28T11:15:24.831968",
     "status": "completed"
    },
    "tags": []
   },
   "source": [
    "### room_bedroom"
   ]
  },
  {
   "cell_type": "code",
   "execution_count": 24,
   "metadata": {
    "ExecuteTime": {
     "end_time": "2020-07-28T10:38:14.111181Z",
     "start_time": "2020-07-28T10:38:13.961073Z"
    },
    "execution": {
     "iopub.execute_input": "2020-07-28T11:15:24.911501Z",
     "iopub.status.busy": "2020-07-28T11:15:24.910692Z",
     "iopub.status.idle": "2020-07-28T11:15:25.026294Z",
     "shell.execute_reply": "2020-07-28T11:15:25.026735Z"
    },
    "papermill": {
     "duration": 0.145077,
     "end_time": "2020-07-28T11:15:25.026894",
     "exception": false,
     "start_time": "2020-07-28T11:15:24.881817",
     "status": "completed"
    },
    "tags": []
   },
   "outputs": [
    {
     "name": "stdout",
     "output_type": "stream",
     "text": [
      "Values less than 0: 0\n",
      "\n",
      "\n",
      "The new data type is: float32\n",
      "Head:\n",
      "0    3.0\n",
      "1    2.0\n",
      "2    3.0\n",
      "3    3.0\n",
      "4    3.0\n",
      "Name: room_bedroom, dtype: float32\n",
      "\n",
      "\n",
      "room_bedroom normalized value counts: First 20\n",
      "3.0     0.540798\n",
      "4.0     0.314901\n",
      "2.0     0.092010\n",
      "5.0     0.044069\n",
      "6.0     0.003792\n",
      "1.0     0.003703\n",
      "7.0     0.000457\n",
      "8.0     0.000135\n",
      "0.0     0.000070\n",
      "9.0     0.000042\n",
      "10.0    0.000022\n",
      "14.0    0.000001\n",
      "Name: room_bedroom, dtype: float64\n",
      "\n",
      "\n",
      "The number of null values is: 0\n",
      "\n",
      "\n"
     ]
    }
   ],
   "source": [
    "fixtures_pivot = fix_fixtures(fixtures_pivot, 'room_bedroom')"
   ]
  },
  {
   "cell_type": "markdown",
   "metadata": {
    "papermill": {
     "duration": 0.02434,
     "end_time": "2020-07-28T11:15:25.075123",
     "exception": false,
     "start_time": "2020-07-28T11:15:25.050783",
     "status": "completed"
    },
    "tags": []
   },
   "source": [
    "### room_full_bath"
   ]
  },
  {
   "cell_type": "code",
   "execution_count": 25,
   "metadata": {
    "ExecuteTime": {
     "end_time": "2020-07-28T10:38:14.241846Z",
     "start_time": "2020-07-28T10:38:14.113143Z"
    },
    "execution": {
     "iopub.execute_input": "2020-07-28T11:15:25.128857Z",
     "iopub.status.busy": "2020-07-28T11:15:25.128306Z",
     "iopub.status.idle": "2020-07-28T11:15:25.240729Z",
     "shell.execute_reply": "2020-07-28T11:15:25.241136Z"
    },
    "papermill": {
     "duration": 0.141276,
     "end_time": "2020-07-28T11:15:25.241281",
     "exception": false,
     "start_time": "2020-07-28T11:15:25.100005",
     "status": "completed"
    },
    "tags": []
   },
   "outputs": [
    {
     "name": "stdout",
     "output_type": "stream",
     "text": [
      "Values less than 0: 0\n",
      "\n",
      "\n",
      "The new data type is: float32\n",
      "Head:\n",
      "0    2.0\n",
      "1    1.0\n",
      "2    1.0\n",
      "3    3.0\n",
      "4    2.0\n",
      "Name: room_full_bath, dtype: float32\n",
      "\n",
      "\n",
      "room_full_bath normalized value counts: First 20\n",
      "2.0     0.654745\n",
      "1.0     0.189545\n",
      "3.0     0.127474\n",
      "4.0     0.021527\n",
      "5.0     0.004872\n",
      "6.0     0.001246\n",
      "7.0     0.000339\n",
      "0.0     0.000147\n",
      "8.0     0.000072\n",
      "9.0     0.000026\n",
      "10.0    0.000005\n",
      "11.0    0.000001\n",
      "Name: room_full_bath, dtype: float64\n",
      "\n",
      "\n",
      "The number of null values is: 0\n",
      "\n",
      "\n"
     ]
    }
   ],
   "source": [
    "fixtures_pivot = fix_fixtures(fixtures_pivot, 'room_full_bath')"
   ]
  },
  {
   "cell_type": "markdown",
   "metadata": {
    "papermill": {
     "duration": 0.025758,
     "end_time": "2020-07-28T11:15:25.291533",
     "exception": false,
     "start_time": "2020-07-28T11:15:25.265775",
     "status": "completed"
    },
    "tags": []
   },
   "source": [
    "### room_half_bath"
   ]
  },
  {
   "cell_type": "code",
   "execution_count": 26,
   "metadata": {
    "ExecuteTime": {
     "end_time": "2020-07-28T10:38:14.373478Z",
     "start_time": "2020-07-28T10:38:14.244068Z"
    },
    "execution": {
     "iopub.execute_input": "2020-07-28T11:15:25.345795Z",
     "iopub.status.busy": "2020-07-28T11:15:25.345281Z",
     "iopub.status.idle": "2020-07-28T11:15:25.460578Z",
     "shell.execute_reply": "2020-07-28T11:15:25.460054Z"
    },
    "papermill": {
     "duration": 0.143992,
     "end_time": "2020-07-28T11:15:25.460698",
     "exception": false,
     "start_time": "2020-07-28T11:15:25.316706",
     "status": "completed"
    },
    "tags": []
   },
   "outputs": [
    {
     "name": "stdout",
     "output_type": "stream",
     "text": [
      "Values less than 0: 0\n",
      "\n",
      "\n",
      "The new data type is: float32\n",
      "Head:\n",
      "0    1.0\n",
      "1    0.0\n",
      "2    0.0\n",
      "3    1.0\n",
      "4    0.0\n",
      "Name: room_half_bath, dtype: float32\n",
      "\n",
      "\n",
      "room_half_bath normalized value counts: First 20\n",
      "0.0    0.589179\n",
      "1.0    0.398573\n",
      "2.0    0.011202\n",
      "3.0    0.000903\n",
      "4.0    0.000109\n",
      "5.0    0.000031\n",
      "6.0    0.000002\n",
      "7.0    0.000001\n",
      "Name: room_half_bath, dtype: float64\n",
      "\n",
      "\n",
      "The number of null values is: 0\n",
      "\n",
      "\n"
     ]
    }
   ],
   "source": [
    "fixtures_pivot = fix_fixtures(fixtures_pivot, 'room_half_bath')"
   ]
  },
  {
   "cell_type": "markdown",
   "metadata": {
    "papermill": {
     "duration": 0.025628,
     "end_time": "2020-07-28T11:15:25.511753",
     "exception": false,
     "start_time": "2020-07-28T11:15:25.486125",
     "status": "completed"
    },
    "tags": []
   },
   "source": [
    "### room_rec"
   ]
  },
  {
   "cell_type": "code",
   "execution_count": 27,
   "metadata": {
    "ExecuteTime": {
     "end_time": "2020-07-28T10:38:14.507739Z",
     "start_time": "2020-07-28T10:38:14.375606Z"
    },
    "execution": {
     "iopub.execute_input": "2020-07-28T11:15:25.580019Z",
     "iopub.status.busy": "2020-07-28T11:15:25.579213Z",
     "iopub.status.idle": "2020-07-28T11:15:25.694831Z",
     "shell.execute_reply": "2020-07-28T11:15:25.694274Z"
    },
    "papermill": {
     "duration": 0.156165,
     "end_time": "2020-07-28T11:15:25.694949",
     "exception": false,
     "start_time": "2020-07-28T11:15:25.538784",
     "status": "completed"
    },
    "tags": []
   },
   "outputs": [
    {
     "name": "stdout",
     "output_type": "stream",
     "text": [
      "Values less than 0: 0\n",
      "\n",
      "\n",
      "The new data type is: float32\n",
      "Head:\n",
      "0    1.0\n",
      "1    0.0\n",
      "2    0.0\n",
      "3    0.0\n",
      "4    0.0\n",
      "Name: room_rec, dtype: float32\n",
      "\n",
      "\n",
      "room_rec normalized value counts: First 20\n",
      "0.0     0.611027\n",
      "1.0     0.329516\n",
      "2.0     0.046319\n",
      "3.0     0.011530\n",
      "4.0     0.001218\n",
      "5.0     0.000230\n",
      "6.0     0.000123\n",
      "7.0     0.000019\n",
      "8.0     0.000009\n",
      "9.0     0.000004\n",
      "10.0    0.000002\n",
      "12.0    0.000001\n",
      "13.0    0.000001\n",
      "11.0    0.000001\n",
      "Name: room_rec, dtype: float64\n",
      "\n",
      "\n",
      "The number of null values is: 0\n",
      "\n",
      "\n"
     ]
    }
   ],
   "source": [
    "fixtures_pivot = fix_fixtures(fixtures_pivot, 'room_rec')"
   ]
  },
  {
   "cell_type": "markdown",
   "metadata": {
    "papermill": {
     "duration": 0.025943,
     "end_time": "2020-07-28T11:15:25.746171",
     "exception": false,
     "start_time": "2020-07-28T11:15:25.720228",
     "status": "completed"
    },
    "tags": []
   },
   "source": [
    "### room_total"
   ]
  },
  {
   "cell_type": "code",
   "execution_count": 28,
   "metadata": {
    "ExecuteTime": {
     "end_time": "2020-07-28T10:38:14.647771Z",
     "start_time": "2020-07-28T10:38:14.509615Z"
    },
    "execution": {
     "iopub.execute_input": "2020-07-28T11:15:25.804385Z",
     "iopub.status.busy": "2020-07-28T11:15:25.803875Z",
     "iopub.status.idle": "2020-07-28T11:15:25.915228Z",
     "shell.execute_reply": "2020-07-28T11:15:25.914714Z"
    },
    "papermill": {
     "duration": 0.141219,
     "end_time": "2020-07-28T11:15:25.915350",
     "exception": false,
     "start_time": "2020-07-28T11:15:25.774131",
     "status": "completed"
    },
    "tags": []
   },
   "outputs": [
    {
     "name": "stdout",
     "output_type": "stream",
     "text": [
      "Values less than 0: 0\n",
      "\n",
      "\n",
      "The new data type is: float32\n",
      "Head:\n",
      "0    8.0\n",
      "1    4.0\n",
      "2    6.0\n",
      "3    6.0\n",
      "4    5.0\n",
      "Name: room_total, dtype: float32\n",
      "\n",
      "\n",
      "room_total normalized value counts: First 20\n",
      "6.0     0.305940\n",
      "7.0     0.211938\n",
      "5.0     0.161921\n",
      "8.0     0.157355\n",
      "9.0     0.073413\n",
      "10.0    0.038381\n",
      "4.0     0.028816\n",
      "11.0    0.011950\n",
      "12.0    0.004756\n",
      "3.0     0.002272\n",
      "13.0    0.001284\n",
      "14.0    0.000675\n",
      "2.0     0.000388\n",
      "15.0    0.000284\n",
      "0.0     0.000240\n",
      "16.0    0.000143\n",
      "1.0     0.000084\n",
      "17.0    0.000051\n",
      "18.0    0.000039\n",
      "20.0    0.000033\n",
      "Name: room_total, dtype: float64\n",
      "\n",
      "\n",
      "The number of null values is: 0\n",
      "\n",
      "\n"
     ]
    }
   ],
   "source": [
    "fixtures_pivot = fix_fixtures(fixtures_pivot, 'room_total')"
   ]
  },
  {
   "cell_type": "markdown",
   "metadata": {
    "papermill": {
     "duration": 0.026563,
     "end_time": "2020-07-28T11:15:25.968521",
     "exception": false,
     "start_time": "2020-07-28T11:15:25.941958",
     "status": "completed"
    },
    "tags": []
   },
   "source": [
    "### story_height_index"
   ]
  },
  {
   "cell_type": "code",
   "execution_count": 29,
   "metadata": {
    "ExecuteTime": {
     "end_time": "2020-07-28T10:38:14.790052Z",
     "start_time": "2020-07-28T10:38:14.649941Z"
    },
    "execution": {
     "iopub.execute_input": "2020-07-28T11:15:26.026273Z",
     "iopub.status.busy": "2020-07-28T11:15:26.025757Z",
     "iopub.status.idle": "2020-07-28T11:15:26.137182Z",
     "shell.execute_reply": "2020-07-28T11:15:26.136661Z"
    },
    "papermill": {
     "duration": 0.140685,
     "end_time": "2020-07-28T11:15:26.137302",
     "exception": false,
     "start_time": "2020-07-28T11:15:25.996617",
     "status": "completed"
    },
    "tags": []
   },
   "outputs": [
    {
     "name": "stdout",
     "output_type": "stream",
     "text": [
      "Values less than 0: 0\n",
      "\n",
      "\n",
      "The new data type is: float32\n",
      "Head:\n",
      "0    2.0\n",
      "1    1.0\n",
      "2    1.0\n",
      "3    2.0\n",
      "4    1.0\n",
      "Name: story_height_index, dtype: float32\n",
      "\n",
      "\n",
      "story_height_index normalized value counts: First 20\n",
      "1.0    0.644240\n",
      "2.0    0.329184\n",
      "3.0    0.017761\n",
      "1.5    0.006352\n",
      "4.0    0.002195\n",
      "2.5    0.000200\n",
      "5.0    0.000042\n",
      "0.0    0.000021\n",
      "3.5    0.000006\n",
      "Name: story_height_index, dtype: float64\n",
      "\n",
      "\n",
      "The number of null values is: 0\n",
      "\n",
      "\n"
     ]
    }
   ],
   "source": [
    "fixtures_pivot = fix_fixtures(fixtures_pivot, 'story_height_index')"
   ]
  },
  {
   "cell_type": "markdown",
   "metadata": {
    "papermill": {
     "duration": 0.027074,
     "end_time": "2020-07-28T11:15:26.191120",
     "exception": false,
     "start_time": "2020-07-28T11:15:26.164046",
     "status": "completed"
    },
    "tags": []
   },
   "source": [
    "# Export fixtures_pivot"
   ]
  },
  {
   "cell_type": "code",
   "execution_count": 30,
   "metadata": {
    "ExecuteTime": {
     "end_time": "2020-07-28T10:38:14.886338Z",
     "start_time": "2020-07-28T10:38:14.792138Z"
    },
    "execution": {
     "iopub.execute_input": "2020-07-28T11:15:26.271808Z",
     "iopub.status.busy": "2020-07-28T11:15:26.270998Z",
     "iopub.status.idle": "2020-07-28T11:15:26.329677Z",
     "shell.execute_reply": "2020-07-28T11:15:26.329227Z"
    },
    "papermill": {
     "duration": 0.089628,
     "end_time": "2020-07-28T11:15:26.329800",
     "exception": false,
     "start_time": "2020-07-28T11:15:26.240172",
     "status": "completed"
    },
    "tags": []
   },
   "outputs": [],
   "source": [
    "save_fn = ROOT_DIR / 'data/raw/2016/fixtures_comps.pickle'\n",
    "save_pickle(fixtures_pivot, save_fn)"
   ]
  }
 ],
 "metadata": {
  "kernelspec": {
   "display_name": "hcad_pred",
   "language": "python",
   "name": "hcad_pred"
  },
  "language_info": {
   "codemirror_mode": {
    "name": "ipython",
    "version": 3
   },
   "file_extension": ".py",
   "mimetype": "text/x-python",
   "name": "python",
   "nbconvert_exporter": "python",
   "pygments_lexer": "ipython3",
   "version": "3.7.6"
  },
  "papermill": {
   "duration": 21.006912,
   "end_time": "2020-07-28T11:15:26.766123",
   "environment_variables": {},
   "exception": null,
   "input_path": "/media/hdd/projects/springboard/hcad_pred/notebooks/01_Exploratory/1.1-rp-hcad-data-view-fixtures.ipynb",
   "output_path": "/media/hdd/projects/springboard/hcad_pred/notebooks/01_Exploratory/output/1.1-rp-hcad-data-view-fixtures_20200728.ipynb",
   "parameters": {},
   "start_time": "2020-07-28T11:15:05.759211",
   "version": "2.1.2"
  },
  "toc": {
   "base_numbering": 1,
   "nav_menu": {},
   "number_sections": true,
   "sideBar": true,
   "skip_h1_title": false,
   "title_cell": "Table of Contents",
   "title_sidebar": "Contents",
   "toc_cell": false,
   "toc_position": {},
   "toc_section_display": true,
   "toc_window_display": false
  }
 },
 "nbformat": 4,
 "nbformat_minor": 4
}