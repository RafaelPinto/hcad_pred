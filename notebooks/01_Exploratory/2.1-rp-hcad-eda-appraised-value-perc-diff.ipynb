{
 "cells": [
  {
   "cell_type": "markdown",
   "metadata": {},
   "source": [
    "# Load previously cleaned and merged properties (comps)\n",
    "\n",
    "The file being imported below was constructed in the last seven exploratory notebooks (1.0 to 1.6). These data have been cleaned and merged so we can start the exploratory data analysis."
   ]
  },
  {
   "cell_type": "code",
   "execution_count": 1,
   "metadata": {
    "ExecuteTime": {
     "end_time": "2020-10-25T18:25:51.008487Z",
     "start_time": "2020-10-25T18:25:50.992780Z"
    }
   },
   "outputs": [],
   "source": [
    "%load_ext autoreload\n",
    "%autoreload 2"
   ]
  },
  {
   "cell_type": "code",
   "execution_count": 2,
   "metadata": {
    "ExecuteTime": {
     "end_time": "2020-10-25T18:25:52.394930Z",
     "start_time": "2020-10-25T18:25:51.499968Z"
    }
   },
   "outputs": [],
   "source": [
    "from pathlib import Path\n",
    "import pickle\n",
    "\n",
    "import numpy as np\n",
    "import pandas as pd\n",
    "\n",
    "import matplotlib.pyplot as plt\n",
    "import seaborn as sns\n",
    "\n",
    "from src.definitions import ROOT_DIR\n",
    "from src.data.utils import Table, save_pickle"
   ]
  },
  {
   "cell_type": "code",
   "execution_count": 3,
   "metadata": {
    "ExecuteTime": {
     "end_time": "2020-10-25T18:25:52.412039Z",
     "start_time": "2020-10-25T18:25:52.396765Z"
    }
   },
   "outputs": [],
   "source": [
    "plt.style.use('seaborn-poster')"
   ]
  },
  {
   "cell_type": "code",
   "execution_count": 4,
   "metadata": {
    "ExecuteTime": {
     "end_time": "2020-10-25T18:25:53.663458Z",
     "start_time": "2020-10-25T18:25:52.986931Z"
    }
   },
   "outputs": [],
   "source": [
    "comps_fn = ROOT_DIR / 'data/interim/2016/comps.pickle'\n",
    "assert comps_fn.exists()\n",
    "\n",
    "with open(comps_fn, 'rb') as f:\n",
    "    comps = pickle.load(f)"
   ]
  },
  {
   "cell_type": "code",
   "execution_count": 5,
   "metadata": {
    "ExecuteTime": {
     "end_time": "2020-10-25T18:25:53.705937Z",
     "start_time": "2020-10-25T18:25:53.665984Z"
    }
   },
   "outputs": [
    {
     "data": {
      "text/plain": [
       "(957686, 81)"
      ]
     },
     "execution_count": 5,
     "metadata": {},
     "output_type": "execute_result"
    }
   ],
   "source": [
    "comps.shape"
   ]
  },
  {
   "cell_type": "code",
   "execution_count": 6,
   "metadata": {
    "ExecuteTime": {
     "end_time": "2020-10-25T18:25:54.718754Z",
     "start_time": "2020-10-25T18:25:53.708643Z"
    }
   },
   "outputs": [
    {
     "name": "stdout",
     "output_type": "stream",
     "text": [
      "<class 'pandas.core.frame.DataFrame'>\n",
      "Int64Index: 957686 entries, 0 to 957685\n",
      "Data columns (total 81 columns):\n",
      " #   Column                                          Non-Null Count   Dtype         \n",
      "---  ------                                          --------------   -----         \n",
      " 0   acct                                            957686 non-null  uint64        \n",
      " 1   dscr                                            957686 non-null  category      \n",
      " 2   date_erected                                    957686 non-null  uint16        \n",
      " 3   yr_remodel                                      86406 non-null   float64       \n",
      " 4   im_sq_ft                                        957683 non-null  float64       \n",
      " 5   act_ar                                          957686 non-null  uint16        \n",
      " 6   heat_ar                                         957682 non-null  float64       \n",
      " 7   gross_ar                                        957686 non-null  uint16        \n",
      " 8   eff_ar                                          957685 non-null  float64       \n",
      " 9   perimeter                                       956517 non-null  float64       \n",
      " 10  fireplace_masonry_firebrick                     957686 non-null  float32       \n",
      " 11  fireplace_metal_prefab                          957686 non-null  float32       \n",
      " 12  fixtures_addl                                   957686 non-null  float32       \n",
      " 13  fixtures_total                                  957686 non-null  float32       \n",
      " 14  room_bedroom                                    957686 non-null  float32       \n",
      " 15  room_full_bath                                  957686 non-null  float32       \n",
      " 16  room_half_bath                                  957686 non-null  float32       \n",
      " 17  room_rec                                        957686 non-null  float32       \n",
      " 18  room_total                                      957686 non-null  float32       \n",
      " 19  story_height_index                              957686 non-null  float32       \n",
      " 20  zip_code                                        957640 non-null  float64       \n",
      " 21  school_dist                                     957631 non-null  object        \n",
      " 22  neighborhood_code                               957685 non-null  object        \n",
      " 23  market_area_1_dscr                              957686 non-null  object        \n",
      " 24  market_area_2_dscr                              957686 non-null  object        \n",
      " 25  center_code                                     957308 non-null  object        \n",
      " 26  bld_ar                                          957683 non-null  float64       \n",
      " 27  land_ar                                         956654 non-null  float64       \n",
      " 28  acreage                                         957686 non-null  float64       \n",
      " 29  land_val                                        957682 non-null  float64       \n",
      " 30  tot_appr_val                                    957682 non-null  float64       \n",
      " 31  prior_land_val                                  956020 non-null  float64       \n",
      " 32  prior_tot_appr_val                              956020 non-null  float64       \n",
      " 33  new_own_dt                                      957677 non-null  datetime64[ns]\n",
      " 34  basic_outdoor_kitchen_uts                       429697 non-null  float64       \n",
      " 35  brick_or_stone_detached_garage_uts              429697 non-null  float64       \n",
      " 36  canopy_residential_uts                          429697 non-null  float64       \n",
      " 37  carport_residential_uts                         429697 non-null  float64       \n",
      " 38  cracked_slab_uts                                429697 non-null  float64       \n",
      " 39  custom_outdoor_kitchen_uts                      429697 non-null  float64       \n",
      " 40  foundation_repaired_uts                         429697 non-null  float64       \n",
      " 41  frame_detached_garage_uts                       429697 non-null  float64       \n",
      " 42  frame_detached_garage_w_living_area_abov_uts    429697 non-null  float64       \n",
      " 43  frame_utility_shed_uts                          429697 non-null  float64       \n",
      " 44  gunite_pool_uts                                 429697 non-null  float64       \n",
      " 45  metal_utility_shed_uts                          429697 non-null  float64       \n",
      " 46  pool_spa_with_heater_uts                        429697 non-null  float64       \n",
      " 47  reinforced_concrete_pool_uts                    429697 non-null  float64       \n",
      " 48  residential_other_gross_value_uts               429697 non-null  float64       \n",
      " 49  basic_outdoor_kitchen_grade                     2303 non-null    float64       \n",
      " 50  brick_or_stone_detached_garage_grade            13743 non-null   float64       \n",
      " 51  canopy_residential_grade                        80708 non-null   float64       \n",
      " 52  carport_residential_grade                       73048 non-null   float64       \n",
      " 53  cracked_slab_grade                              16121 non-null   float64       \n",
      " 54  custom_outdoor_kitchen_grade                    4294 non-null    float64       \n",
      " 55  foundation_repaired_grade                       17653 non-null   float64       \n",
      " 56  frame_detached_garage_grade                     180706 non-null  float64       \n",
      " 57  frame_detached_garage_w_living_area_abov_grade  7047 non-null    float64       \n",
      " 58  frame_utility_shed_grade                        87818 non-null   float64       \n",
      " 59  gunite_pool_grade                               87950 non-null   float64       \n",
      " 60  metal_utility_shed_grade                        18365 non-null   float64       \n",
      " 61  pool_spa_with_heater_grade                      37212 non-null   float64       \n",
      " 62  reinforced_concrete_pool_grade                  3729 non-null    float64       \n",
      " 63  residential_other_gross_value_grade             14549 non-null   float64       \n",
      " 64  base_area_pri                                   957683 non-null  float64       \n",
      " 65  base_area_upr                                   957683 non-null  float64       \n",
      " 66  frame_garage_pri                                957683 non-null  float64       \n",
      " 67  mas_brk_garage_pri                              957683 non-null  float64       \n",
      " 68  mas_conc_patio_pri                              957683 non-null  float64       \n",
      " 69  one_story_frame_pri                             957683 non-null  float64       \n",
      " 70  one_story_frame_upr                             957683 non-null  float64       \n",
      " 71  one_story_mas_pri                               957683 non-null  float64       \n",
      " 72  open_frame_porch_pri                            957683 non-null  float64       \n",
      " 73  open_mas_porch_pri                              957683 non-null  float64       \n",
      " 74  cond_desir_util                                 957686 non-null  category      \n",
      " 75  cost_and_design                                 152261 non-null  category      \n",
      " 76  exterior_wall                                   957685 non-null  category      \n",
      " 77  foundation_type                                 957686 non-null  category      \n",
      " 78  grade_adjustment                                957686 non-null  category      \n",
      " 79  heating_ac                                      957685 non-null  category      \n",
      " 80  physical_condition                              957686 non-null  category      \n",
      "dtypes: category(8), datetime64[ns](1), float32(10), float64(53), object(5), uint16(3), uint64(1)\n",
      "memory usage: 495.0+ MB\n"
     ]
    }
   ],
   "source": [
    "comps.info()"
   ]
  },
  {
   "cell_type": "code",
   "execution_count": 7,
   "metadata": {
    "ExecuteTime": {
     "end_time": "2020-10-25T18:25:54.822232Z",
     "start_time": "2020-10-25T18:25:54.721206Z"
    }
   },
   "outputs": [
    {
     "data": {
      "text/html": [
       "<div>\n",
       "<style scoped>\n",
       "    .dataframe tbody tr th:only-of-type {\n",
       "        vertical-align: middle;\n",
       "    }\n",
       "\n",
       "    .dataframe tbody tr th {\n",
       "        vertical-align: top;\n",
       "    }\n",
       "\n",
       "    .dataframe thead th {\n",
       "        text-align: right;\n",
       "    }\n",
       "</style>\n",
       "<table border=\"1\" class=\"dataframe\">\n",
       "  <thead>\n",
       "    <tr style=\"text-align: right;\">\n",
       "      <th></th>\n",
       "      <th>acct</th>\n",
       "      <th>dscr</th>\n",
       "      <th>date_erected</th>\n",
       "      <th>yr_remodel</th>\n",
       "      <th>im_sq_ft</th>\n",
       "      <th>act_ar</th>\n",
       "      <th>heat_ar</th>\n",
       "      <th>gross_ar</th>\n",
       "      <th>eff_ar</th>\n",
       "      <th>perimeter</th>\n",
       "      <th>...</th>\n",
       "      <th>one_story_mas_pri</th>\n",
       "      <th>open_frame_porch_pri</th>\n",
       "      <th>open_mas_porch_pri</th>\n",
       "      <th>cond_desir_util</th>\n",
       "      <th>cost_and_design</th>\n",
       "      <th>exterior_wall</th>\n",
       "      <th>foundation_type</th>\n",
       "      <th>grade_adjustment</th>\n",
       "      <th>heating_ac</th>\n",
       "      <th>physical_condition</th>\n",
       "    </tr>\n",
       "  </thead>\n",
       "  <tbody>\n",
       "    <tr>\n",
       "      <th>899476</th>\n",
       "      <td>1295140040011</td>\n",
       "      <td>Good</td>\n",
       "      <td>2008</td>\n",
       "      <td>NaN</td>\n",
       "      <td>2806.0</td>\n",
       "      <td>3501</td>\n",
       "      <td>2806.0</td>\n",
       "      <td>3501</td>\n",
       "      <td>2941.0</td>\n",
       "      <td>370.0</td>\n",
       "      <td>...</td>\n",
       "      <td>0.0</td>\n",
       "      <td>0.0</td>\n",
       "      <td>155.0</td>\n",
       "      <td>Average</td>\n",
       "      <td>NaN</td>\n",
       "      <td>Brick / Veneer</td>\n",
       "      <td>Slab</td>\n",
       "      <td>B</td>\n",
       "      <td>Central Heat/AC</td>\n",
       "      <td>Average</td>\n",
       "    </tr>\n",
       "    <tr>\n",
       "      <th>300178</th>\n",
       "      <td>950720000012</td>\n",
       "      <td>Average</td>\n",
       "      <td>1963</td>\n",
       "      <td>NaN</td>\n",
       "      <td>1771.0</td>\n",
       "      <td>2320</td>\n",
       "      <td>1771.0</td>\n",
       "      <td>2320</td>\n",
       "      <td>1880.0</td>\n",
       "      <td>204.0</td>\n",
       "      <td>...</td>\n",
       "      <td>70.0</td>\n",
       "      <td>0.0</td>\n",
       "      <td>0.0</td>\n",
       "      <td>Average</td>\n",
       "      <td>NaN</td>\n",
       "      <td>Brick / Veneer</td>\n",
       "      <td>Slab</td>\n",
       "      <td>C+</td>\n",
       "      <td>Central Heat/AC</td>\n",
       "      <td>Average</td>\n",
       "    </tr>\n",
       "    <tr>\n",
       "      <th>707640</th>\n",
       "      <td>1195510030009</td>\n",
       "      <td>Average</td>\n",
       "      <td>1998</td>\n",
       "      <td>NaN</td>\n",
       "      <td>2040.0</td>\n",
       "      <td>2551</td>\n",
       "      <td>2040.0</td>\n",
       "      <td>2551</td>\n",
       "      <td>2230.0</td>\n",
       "      <td>260.0</td>\n",
       "      <td>...</td>\n",
       "      <td>0.0</td>\n",
       "      <td>91.0</td>\n",
       "      <td>0.0</td>\n",
       "      <td>Good</td>\n",
       "      <td>NaN</td>\n",
       "      <td>Brick / Veneer</td>\n",
       "      <td>Slab</td>\n",
       "      <td>C+</td>\n",
       "      <td>Central Heat/AC</td>\n",
       "      <td>Average</td>\n",
       "    </tr>\n",
       "    <tr>\n",
       "      <th>913857</th>\n",
       "      <td>1301260020017</td>\n",
       "      <td>Good</td>\n",
       "      <td>2009</td>\n",
       "      <td>NaN</td>\n",
       "      <td>1688.0</td>\n",
       "      <td>2327</td>\n",
       "      <td>1688.0</td>\n",
       "      <td>2327</td>\n",
       "      <td>1923.0</td>\n",
       "      <td>210.0</td>\n",
       "      <td>...</td>\n",
       "      <td>0.0</td>\n",
       "      <td>90.0</td>\n",
       "      <td>65.0</td>\n",
       "      <td>Average</td>\n",
       "      <td>NaN</td>\n",
       "      <td>Brick / Veneer</td>\n",
       "      <td>Slab</td>\n",
       "      <td>B</td>\n",
       "      <td>Central Heat/AC</td>\n",
       "      <td>Average</td>\n",
       "    </tr>\n",
       "    <tr>\n",
       "      <th>476999</th>\n",
       "      <td>1111720000019</td>\n",
       "      <td>Good</td>\n",
       "      <td>1979</td>\n",
       "      <td>NaN</td>\n",
       "      <td>2618.0</td>\n",
       "      <td>3110</td>\n",
       "      <td>2618.0</td>\n",
       "      <td>3110</td>\n",
       "      <td>2614.0</td>\n",
       "      <td>314.0</td>\n",
       "      <td>...</td>\n",
       "      <td>700.0</td>\n",
       "      <td>100.0</td>\n",
       "      <td>0.0</td>\n",
       "      <td>Very Good</td>\n",
       "      <td>NaN</td>\n",
       "      <td>Brick / Masonry</td>\n",
       "      <td>Slab</td>\n",
       "      <td>B+</td>\n",
       "      <td>Central Heat/AC</td>\n",
       "      <td>Good</td>\n",
       "    </tr>\n",
       "    <tr>\n",
       "      <th>890693</th>\n",
       "      <td>1284910010002</td>\n",
       "      <td>Average</td>\n",
       "      <td>2010</td>\n",
       "      <td>NaN</td>\n",
       "      <td>2295.0</td>\n",
       "      <td>2756</td>\n",
       "      <td>2295.0</td>\n",
       "      <td>2756</td>\n",
       "      <td>2328.0</td>\n",
       "      <td>328.0</td>\n",
       "      <td>...</td>\n",
       "      <td>0.0</td>\n",
       "      <td>45.0</td>\n",
       "      <td>36.0</td>\n",
       "      <td>Average</td>\n",
       "      <td>NaN</td>\n",
       "      <td>Brick / Veneer</td>\n",
       "      <td>Slab</td>\n",
       "      <td>C</td>\n",
       "      <td>Central Heat/AC</td>\n",
       "      <td>Average</td>\n",
       "    </tr>\n",
       "    <tr>\n",
       "      <th>155175</th>\n",
       "      <td>752020150003</td>\n",
       "      <td>Good</td>\n",
       "      <td>1955</td>\n",
       "      <td>NaN</td>\n",
       "      <td>4235.0</td>\n",
       "      <td>5557</td>\n",
       "      <td>4235.0</td>\n",
       "      <td>5557</td>\n",
       "      <td>4534.0</td>\n",
       "      <td>476.0</td>\n",
       "      <td>...</td>\n",
       "      <td>0.0</td>\n",
       "      <td>28.0</td>\n",
       "      <td>0.0</td>\n",
       "      <td>Very Good</td>\n",
       "      <td>Partial</td>\n",
       "      <td>Brick / Veneer</td>\n",
       "      <td>Slab</td>\n",
       "      <td>B+</td>\n",
       "      <td>Central Heat/AC</td>\n",
       "      <td>Good</td>\n",
       "    </tr>\n",
       "    <tr>\n",
       "      <th>682860</th>\n",
       "      <td>1186750020026</td>\n",
       "      <td>Average</td>\n",
       "      <td>1996</td>\n",
       "      <td>NaN</td>\n",
       "      <td>2135.0</td>\n",
       "      <td>2565</td>\n",
       "      <td>2135.0</td>\n",
       "      <td>2565</td>\n",
       "      <td>2297.0</td>\n",
       "      <td>226.0</td>\n",
       "      <td>...</td>\n",
       "      <td>0.0</td>\n",
       "      <td>0.0</td>\n",
       "      <td>30.0</td>\n",
       "      <td>Average</td>\n",
       "      <td>NaN</td>\n",
       "      <td>Brick / Veneer</td>\n",
       "      <td>Slab</td>\n",
       "      <td>C</td>\n",
       "      <td>Central Heat/AC</td>\n",
       "      <td>Average</td>\n",
       "    </tr>\n",
       "    <tr>\n",
       "      <th>373673</th>\n",
       "      <td>1040230000024</td>\n",
       "      <td>Good</td>\n",
       "      <td>1972</td>\n",
       "      <td>NaN</td>\n",
       "      <td>2212.0</td>\n",
       "      <td>2740</td>\n",
       "      <td>2212.0</td>\n",
       "      <td>2740</td>\n",
       "      <td>2206.0</td>\n",
       "      <td>280.0</td>\n",
       "      <td>...</td>\n",
       "      <td>160.0</td>\n",
       "      <td>48.0</td>\n",
       "      <td>40.0</td>\n",
       "      <td>Average</td>\n",
       "      <td>NaN</td>\n",
       "      <td>Brick / Masonry</td>\n",
       "      <td>Slab</td>\n",
       "      <td>B-</td>\n",
       "      <td>Central Heat/AC</td>\n",
       "      <td>Average</td>\n",
       "    </tr>\n",
       "    <tr>\n",
       "      <th>484964</th>\n",
       "      <td>1117330000015</td>\n",
       "      <td>Good</td>\n",
       "      <td>1991</td>\n",
       "      <td>NaN</td>\n",
       "      <td>5489.0</td>\n",
       "      <td>7350</td>\n",
       "      <td>3807.0</td>\n",
       "      <td>7350</td>\n",
       "      <td>4967.0</td>\n",
       "      <td>837.0</td>\n",
       "      <td>...</td>\n",
       "      <td>0.0</td>\n",
       "      <td>0.0</td>\n",
       "      <td>65.0</td>\n",
       "      <td>Good</td>\n",
       "      <td>NaN</td>\n",
       "      <td>Brick / Veneer</td>\n",
       "      <td>Slab</td>\n",
       "      <td>B+</td>\n",
       "      <td>Central Heat/AC</td>\n",
       "      <td>Average</td>\n",
       "    </tr>\n",
       "  </tbody>\n",
       "</table>\n",
       "<p>10 rows × 81 columns</p>\n",
       "</div>"
      ],
      "text/plain": [
       "                 acct     dscr  date_erected  yr_remodel  im_sq_ft  act_ar  \\\n",
       "899476  1295140040011     Good          2008         NaN    2806.0    3501   \n",
       "300178   950720000012  Average          1963         NaN    1771.0    2320   \n",
       "707640  1195510030009  Average          1998         NaN    2040.0    2551   \n",
       "913857  1301260020017     Good          2009         NaN    1688.0    2327   \n",
       "476999  1111720000019     Good          1979         NaN    2618.0    3110   \n",
       "890693  1284910010002  Average          2010         NaN    2295.0    2756   \n",
       "155175   752020150003     Good          1955         NaN    4235.0    5557   \n",
       "682860  1186750020026  Average          1996         NaN    2135.0    2565   \n",
       "373673  1040230000024     Good          1972         NaN    2212.0    2740   \n",
       "484964  1117330000015     Good          1991         NaN    5489.0    7350   \n",
       "\n",
       "        heat_ar  gross_ar  eff_ar  perimeter  ...  one_story_mas_pri  \\\n",
       "899476   2806.0      3501  2941.0      370.0  ...                0.0   \n",
       "300178   1771.0      2320  1880.0      204.0  ...               70.0   \n",
       "707640   2040.0      2551  2230.0      260.0  ...                0.0   \n",
       "913857   1688.0      2327  1923.0      210.0  ...                0.0   \n",
       "476999   2618.0      3110  2614.0      314.0  ...              700.0   \n",
       "890693   2295.0      2756  2328.0      328.0  ...                0.0   \n",
       "155175   4235.0      5557  4534.0      476.0  ...                0.0   \n",
       "682860   2135.0      2565  2297.0      226.0  ...                0.0   \n",
       "373673   2212.0      2740  2206.0      280.0  ...              160.0   \n",
       "484964   3807.0      7350  4967.0      837.0  ...                0.0   \n",
       "\n",
       "        open_frame_porch_pri  open_mas_porch_pri  cond_desir_util  \\\n",
       "899476                   0.0               155.0          Average   \n",
       "300178                   0.0                 0.0          Average   \n",
       "707640                  91.0                 0.0             Good   \n",
       "913857                  90.0                65.0          Average   \n",
       "476999                 100.0                 0.0        Very Good   \n",
       "890693                  45.0                36.0          Average   \n",
       "155175                  28.0                 0.0        Very Good   \n",
       "682860                   0.0                30.0          Average   \n",
       "373673                  48.0                40.0          Average   \n",
       "484964                   0.0                65.0             Good   \n",
       "\n",
       "        cost_and_design    exterior_wall  foundation_type  grade_adjustment  \\\n",
       "899476              NaN   Brick / Veneer             Slab                 B   \n",
       "300178              NaN   Brick / Veneer             Slab                C+   \n",
       "707640              NaN   Brick / Veneer             Slab                C+   \n",
       "913857              NaN   Brick / Veneer             Slab                 B   \n",
       "476999              NaN  Brick / Masonry             Slab                B+   \n",
       "890693              NaN   Brick / Veneer             Slab                 C   \n",
       "155175          Partial   Brick / Veneer             Slab                B+   \n",
       "682860              NaN   Brick / Veneer             Slab                 C   \n",
       "373673              NaN  Brick / Masonry             Slab                B-   \n",
       "484964              NaN   Brick / Veneer             Slab                B+   \n",
       "\n",
       "             heating_ac  physical_condition  \n",
       "899476  Central Heat/AC             Average  \n",
       "300178  Central Heat/AC             Average  \n",
       "707640  Central Heat/AC             Average  \n",
       "913857  Central Heat/AC             Average  \n",
       "476999  Central Heat/AC                Good  \n",
       "890693  Central Heat/AC             Average  \n",
       "155175  Central Heat/AC                Good  \n",
       "682860  Central Heat/AC             Average  \n",
       "373673  Central Heat/AC             Average  \n",
       "484964  Central Heat/AC             Average  \n",
       "\n",
       "[10 rows x 81 columns]"
      ]
     },
     "execution_count": 7,
     "metadata": {},
     "output_type": "execute_result"
    }
   ],
   "source": [
    "comps.sample(10)"
   ]
  },
  {
   "cell_type": "markdown",
   "metadata": {},
   "source": [
    "## Drop account numbers\n",
    "The account numbers are kept as a reference to the raw data, but should not be used in the EDA. Since they are unique, let's use them as index in the comps dataframe."
   ]
  },
  {
   "cell_type": "code",
   "execution_count": 8,
   "metadata": {
    "ExecuteTime": {
     "end_time": "2020-10-25T18:25:55.045196Z",
     "start_time": "2020-10-25T18:25:54.902758Z"
    }
   },
   "outputs": [
    {
     "data": {
      "text/plain": [
       "True"
      ]
     },
     "execution_count": 8,
     "metadata": {},
     "output_type": "execute_result"
    }
   ],
   "source": [
    "comps['acct'].is_unique"
   ]
  },
  {
   "cell_type": "code",
   "execution_count": 9,
   "metadata": {
    "ExecuteTime": {
     "end_time": "2020-10-25T18:25:55.240395Z",
     "start_time": "2020-10-25T18:25:55.224845Z"
    }
   },
   "outputs": [],
   "source": [
    "comps.set_index('acct', inplace=True)"
   ]
  },
  {
   "cell_type": "code",
   "execution_count": 10,
   "metadata": {
    "ExecuteTime": {
     "end_time": "2020-10-25T18:25:55.619028Z",
     "start_time": "2020-10-25T18:25:55.536806Z"
    }
   },
   "outputs": [
    {
     "data": {
      "text/html": [
       "<div>\n",
       "<style scoped>\n",
       "    .dataframe tbody tr th:only-of-type {\n",
       "        vertical-align: middle;\n",
       "    }\n",
       "\n",
       "    .dataframe tbody tr th {\n",
       "        vertical-align: top;\n",
       "    }\n",
       "\n",
       "    .dataframe thead th {\n",
       "        text-align: right;\n",
       "    }\n",
       "</style>\n",
       "<table border=\"1\" class=\"dataframe\">\n",
       "  <thead>\n",
       "    <tr style=\"text-align: right;\">\n",
       "      <th></th>\n",
       "      <th>dscr</th>\n",
       "      <th>date_erected</th>\n",
       "      <th>yr_remodel</th>\n",
       "      <th>im_sq_ft</th>\n",
       "      <th>act_ar</th>\n",
       "      <th>heat_ar</th>\n",
       "      <th>gross_ar</th>\n",
       "      <th>eff_ar</th>\n",
       "      <th>perimeter</th>\n",
       "      <th>fireplace_masonry_firebrick</th>\n",
       "      <th>...</th>\n",
       "      <th>one_story_mas_pri</th>\n",
       "      <th>open_frame_porch_pri</th>\n",
       "      <th>open_mas_porch_pri</th>\n",
       "      <th>cond_desir_util</th>\n",
       "      <th>cost_and_design</th>\n",
       "      <th>exterior_wall</th>\n",
       "      <th>foundation_type</th>\n",
       "      <th>grade_adjustment</th>\n",
       "      <th>heating_ac</th>\n",
       "      <th>physical_condition</th>\n",
       "    </tr>\n",
       "    <tr>\n",
       "      <th>acct</th>\n",
       "      <th></th>\n",
       "      <th></th>\n",
       "      <th></th>\n",
       "      <th></th>\n",
       "      <th></th>\n",
       "      <th></th>\n",
       "      <th></th>\n",
       "      <th></th>\n",
       "      <th></th>\n",
       "      <th></th>\n",
       "      <th></th>\n",
       "      <th></th>\n",
       "      <th></th>\n",
       "      <th></th>\n",
       "      <th></th>\n",
       "      <th></th>\n",
       "      <th></th>\n",
       "      <th></th>\n",
       "      <th></th>\n",
       "      <th></th>\n",
       "      <th></th>\n",
       "    </tr>\n",
       "  </thead>\n",
       "  <tbody>\n",
       "    <tr>\n",
       "      <th>1188880040059</th>\n",
       "      <td>Average</td>\n",
       "      <td>1996</td>\n",
       "      <td>NaN</td>\n",
       "      <td>2019.0</td>\n",
       "      <td>2507</td>\n",
       "      <td>2019.0</td>\n",
       "      <td>2507</td>\n",
       "      <td>2204.0</td>\n",
       "      <td>252.0</td>\n",
       "      <td>0.0</td>\n",
       "      <td>...</td>\n",
       "      <td>0.0</td>\n",
       "      <td>0.0</td>\n",
       "      <td>26.0</td>\n",
       "      <td>Average</td>\n",
       "      <td>NaN</td>\n",
       "      <td>Brick / Veneer</td>\n",
       "      <td>Slab</td>\n",
       "      <td>C+</td>\n",
       "      <td>Central Heat/AC</td>\n",
       "      <td>Average</td>\n",
       "    </tr>\n",
       "    <tr>\n",
       "      <th>1010870000044</th>\n",
       "      <td>Good</td>\n",
       "      <td>1970</td>\n",
       "      <td>NaN</td>\n",
       "      <td>2538.0</td>\n",
       "      <td>2698</td>\n",
       "      <td>2538.0</td>\n",
       "      <td>2698</td>\n",
       "      <td>2469.0</td>\n",
       "      <td>300.0</td>\n",
       "      <td>1.0</td>\n",
       "      <td>...</td>\n",
       "      <td>144.0</td>\n",
       "      <td>105.0</td>\n",
       "      <td>0.0</td>\n",
       "      <td>Average</td>\n",
       "      <td>NaN</td>\n",
       "      <td>Brick / Masonry</td>\n",
       "      <td>Slab</td>\n",
       "      <td>B-</td>\n",
       "      <td>Central Heat/AC</td>\n",
       "      <td>Average</td>\n",
       "    </tr>\n",
       "    <tr>\n",
       "      <th>1131720000013</th>\n",
       "      <td>Average</td>\n",
       "      <td>1981</td>\n",
       "      <td>NaN</td>\n",
       "      <td>1164.0</td>\n",
       "      <td>1648</td>\n",
       "      <td>1164.0</td>\n",
       "      <td>1648</td>\n",
       "      <td>1348.0</td>\n",
       "      <td>172.0</td>\n",
       "      <td>0.0</td>\n",
       "      <td>...</td>\n",
       "      <td>0.0</td>\n",
       "      <td>0.0</td>\n",
       "      <td>0.0</td>\n",
       "      <td>Average</td>\n",
       "      <td>NaN</td>\n",
       "      <td>Brick / Veneer</td>\n",
       "      <td>Slab</td>\n",
       "      <td>C</td>\n",
       "      <td>Central Heat/AC</td>\n",
       "      <td>Average</td>\n",
       "    </tr>\n",
       "    <tr>\n",
       "      <th>422300000220</th>\n",
       "      <td>Low</td>\n",
       "      <td>1938</td>\n",
       "      <td>2001.0</td>\n",
       "      <td>1096.0</td>\n",
       "      <td>2016</td>\n",
       "      <td>1096.0</td>\n",
       "      <td>2016</td>\n",
       "      <td>1420.0</td>\n",
       "      <td>256.0</td>\n",
       "      <td>0.0</td>\n",
       "      <td>...</td>\n",
       "      <td>0.0</td>\n",
       "      <td>72.0</td>\n",
       "      <td>0.0</td>\n",
       "      <td>Average</td>\n",
       "      <td>Extensive</td>\n",
       "      <td>Frame / Concrete Blk</td>\n",
       "      <td>Crawl Space</td>\n",
       "      <td>D+</td>\n",
       "      <td>None</td>\n",
       "      <td>Good</td>\n",
       "    </tr>\n",
       "    <tr>\n",
       "      <th>1149480070051</th>\n",
       "      <td>Average</td>\n",
       "      <td>1981</td>\n",
       "      <td>NaN</td>\n",
       "      <td>1584.0</td>\n",
       "      <td>2062</td>\n",
       "      <td>1584.0</td>\n",
       "      <td>2062</td>\n",
       "      <td>1765.0</td>\n",
       "      <td>228.0</td>\n",
       "      <td>0.0</td>\n",
       "      <td>...</td>\n",
       "      <td>0.0</td>\n",
       "      <td>18.0</td>\n",
       "      <td>0.0</td>\n",
       "      <td>Average</td>\n",
       "      <td>NaN</td>\n",
       "      <td>Brick / Veneer</td>\n",
       "      <td>Slab</td>\n",
       "      <td>C</td>\n",
       "      <td>Central Heat/AC</td>\n",
       "      <td>Average</td>\n",
       "    </tr>\n",
       "    <tr>\n",
       "      <th>961260000012</th>\n",
       "      <td>Good</td>\n",
       "      <td>1966</td>\n",
       "      <td>NaN</td>\n",
       "      <td>3267.0</td>\n",
       "      <td>4047</td>\n",
       "      <td>3267.0</td>\n",
       "      <td>4047</td>\n",
       "      <td>3390.0</td>\n",
       "      <td>276.0</td>\n",
       "      <td>1.0</td>\n",
       "      <td>...</td>\n",
       "      <td>250.0</td>\n",
       "      <td>28.0</td>\n",
       "      <td>0.0</td>\n",
       "      <td>Good</td>\n",
       "      <td>NaN</td>\n",
       "      <td>Brick / Veneer</td>\n",
       "      <td>Slab</td>\n",
       "      <td>B</td>\n",
       "      <td>Central Heat/AC</td>\n",
       "      <td>Good</td>\n",
       "    </tr>\n",
       "    <tr>\n",
       "      <th>802920000012</th>\n",
       "      <td>Average</td>\n",
       "      <td>1952</td>\n",
       "      <td>2001.0</td>\n",
       "      <td>1830.0</td>\n",
       "      <td>2337</td>\n",
       "      <td>1830.0</td>\n",
       "      <td>2337</td>\n",
       "      <td>1996.0</td>\n",
       "      <td>188.0</td>\n",
       "      <td>0.0</td>\n",
       "      <td>...</td>\n",
       "      <td>0.0</td>\n",
       "      <td>0.0</td>\n",
       "      <td>88.0</td>\n",
       "      <td>Fair</td>\n",
       "      <td>Partial</td>\n",
       "      <td>Brick / Veneer</td>\n",
       "      <td>Slab</td>\n",
       "      <td>C</td>\n",
       "      <td>None</td>\n",
       "      <td>Average</td>\n",
       "    </tr>\n",
       "    <tr>\n",
       "      <th>1205960010074</th>\n",
       "      <td>Good</td>\n",
       "      <td>2001</td>\n",
       "      <td>NaN</td>\n",
       "      <td>2966.0</td>\n",
       "      <td>3768</td>\n",
       "      <td>2966.0</td>\n",
       "      <td>3768</td>\n",
       "      <td>3243.0</td>\n",
       "      <td>278.0</td>\n",
       "      <td>0.0</td>\n",
       "      <td>...</td>\n",
       "      <td>0.0</td>\n",
       "      <td>0.0</td>\n",
       "      <td>188.0</td>\n",
       "      <td>Average</td>\n",
       "      <td>NaN</td>\n",
       "      <td>Brick / Veneer</td>\n",
       "      <td>Slab</td>\n",
       "      <td>B+</td>\n",
       "      <td>Central Heat/AC</td>\n",
       "      <td>Average</td>\n",
       "    </tr>\n",
       "    <tr>\n",
       "      <th>131610000025</th>\n",
       "      <td>Average</td>\n",
       "      <td>1982</td>\n",
       "      <td>NaN</td>\n",
       "      <td>1900.0</td>\n",
       "      <td>2880</td>\n",
       "      <td>1900.0</td>\n",
       "      <td>2880</td>\n",
       "      <td>2303.0</td>\n",
       "      <td>276.0</td>\n",
       "      <td>1.0</td>\n",
       "      <td>...</td>\n",
       "      <td>0.0</td>\n",
       "      <td>120.0</td>\n",
       "      <td>0.0</td>\n",
       "      <td>Average</td>\n",
       "      <td>NaN</td>\n",
       "      <td>Brick / Veneer</td>\n",
       "      <td>Slab</td>\n",
       "      <td>C</td>\n",
       "      <td>Central Heat/AC</td>\n",
       "      <td>Average</td>\n",
       "    </tr>\n",
       "    <tr>\n",
       "      <th>1311040030001</th>\n",
       "      <td>Good</td>\n",
       "      <td>2009</td>\n",
       "      <td>NaN</td>\n",
       "      <td>3124.0</td>\n",
       "      <td>3911</td>\n",
       "      <td>3124.0</td>\n",
       "      <td>3911</td>\n",
       "      <td>3273.0</td>\n",
       "      <td>476.0</td>\n",
       "      <td>0.0</td>\n",
       "      <td>...</td>\n",
       "      <td>0.0</td>\n",
       "      <td>0.0</td>\n",
       "      <td>170.0</td>\n",
       "      <td>Average</td>\n",
       "      <td>NaN</td>\n",
       "      <td>Brick / Masonry</td>\n",
       "      <td>Slab</td>\n",
       "      <td>B</td>\n",
       "      <td>Central Heat/AC</td>\n",
       "      <td>Average</td>\n",
       "    </tr>\n",
       "  </tbody>\n",
       "</table>\n",
       "<p>10 rows × 80 columns</p>\n",
       "</div>"
      ],
      "text/plain": [
       "                  dscr  date_erected  yr_remodel  im_sq_ft  act_ar  heat_ar  \\\n",
       "acct                                                                          \n",
       "1188880040059  Average          1996         NaN    2019.0    2507   2019.0   \n",
       "1010870000044     Good          1970         NaN    2538.0    2698   2538.0   \n",
       "1131720000013  Average          1981         NaN    1164.0    1648   1164.0   \n",
       "422300000220       Low          1938      2001.0    1096.0    2016   1096.0   \n",
       "1149480070051  Average          1981         NaN    1584.0    2062   1584.0   \n",
       "961260000012      Good          1966         NaN    3267.0    4047   3267.0   \n",
       "802920000012   Average          1952      2001.0    1830.0    2337   1830.0   \n",
       "1205960010074     Good          2001         NaN    2966.0    3768   2966.0   \n",
       "131610000025   Average          1982         NaN    1900.0    2880   1900.0   \n",
       "1311040030001     Good          2009         NaN    3124.0    3911   3124.0   \n",
       "\n",
       "               gross_ar  eff_ar  perimeter  fireplace_masonry_firebrick  ...  \\\n",
       "acct                                                                     ...   \n",
       "1188880040059      2507  2204.0      252.0                          0.0  ...   \n",
       "1010870000044      2698  2469.0      300.0                          1.0  ...   \n",
       "1131720000013      1648  1348.0      172.0                          0.0  ...   \n",
       "422300000220       2016  1420.0      256.0                          0.0  ...   \n",
       "1149480070051      2062  1765.0      228.0                          0.0  ...   \n",
       "961260000012       4047  3390.0      276.0                          1.0  ...   \n",
       "802920000012       2337  1996.0      188.0                          0.0  ...   \n",
       "1205960010074      3768  3243.0      278.0                          0.0  ...   \n",
       "131610000025       2880  2303.0      276.0                          1.0  ...   \n",
       "1311040030001      3911  3273.0      476.0                          0.0  ...   \n",
       "\n",
       "               one_story_mas_pri  open_frame_porch_pri  open_mas_porch_pri  \\\n",
       "acct                                                                         \n",
       "1188880040059                0.0                   0.0                26.0   \n",
       "1010870000044              144.0                 105.0                 0.0   \n",
       "1131720000013                0.0                   0.0                 0.0   \n",
       "422300000220                 0.0                  72.0                 0.0   \n",
       "1149480070051                0.0                  18.0                 0.0   \n",
       "961260000012               250.0                  28.0                 0.0   \n",
       "802920000012                 0.0                   0.0                88.0   \n",
       "1205960010074                0.0                   0.0               188.0   \n",
       "131610000025                 0.0                 120.0                 0.0   \n",
       "1311040030001                0.0                   0.0               170.0   \n",
       "\n",
       "               cond_desir_util  cost_and_design         exterior_wall  \\\n",
       "acct                                                                    \n",
       "1188880040059          Average              NaN        Brick / Veneer   \n",
       "1010870000044          Average              NaN       Brick / Masonry   \n",
       "1131720000013          Average              NaN        Brick / Veneer   \n",
       "422300000220           Average        Extensive  Frame / Concrete Blk   \n",
       "1149480070051          Average              NaN        Brick / Veneer   \n",
       "961260000012              Good              NaN        Brick / Veneer   \n",
       "802920000012              Fair          Partial        Brick / Veneer   \n",
       "1205960010074          Average              NaN        Brick / Veneer   \n",
       "131610000025           Average              NaN        Brick / Veneer   \n",
       "1311040030001          Average              NaN       Brick / Masonry   \n",
       "\n",
       "               foundation_type  grade_adjustment       heating_ac  \\\n",
       "acct                                                                \n",
       "1188880040059             Slab                C+  Central Heat/AC   \n",
       "1010870000044             Slab                B-  Central Heat/AC   \n",
       "1131720000013             Slab                 C  Central Heat/AC   \n",
       "422300000220       Crawl Space                D+             None   \n",
       "1149480070051             Slab                 C  Central Heat/AC   \n",
       "961260000012              Slab                 B  Central Heat/AC   \n",
       "802920000012              Slab                 C             None   \n",
       "1205960010074             Slab                B+  Central Heat/AC   \n",
       "131610000025              Slab                 C  Central Heat/AC   \n",
       "1311040030001             Slab                 B  Central Heat/AC   \n",
       "\n",
       "               physical_condition  \n",
       "acct                               \n",
       "1188880040059             Average  \n",
       "1010870000044             Average  \n",
       "1131720000013             Average  \n",
       "422300000220                 Good  \n",
       "1149480070051             Average  \n",
       "961260000012                 Good  \n",
       "802920000012              Average  \n",
       "1205960010074             Average  \n",
       "131610000025              Average  \n",
       "1311040030001             Average  \n",
       "\n",
       "[10 rows x 80 columns]"
      ]
     },
     "execution_count": 10,
     "metadata": {},
     "output_type": "execute_result"
    }
   ],
   "source": [
    "comps.sample(10)"
   ]
  },
  {
   "cell_type": "markdown",
   "metadata": {},
   "source": [
    "# Build target column\n",
    "The purpose of this work is to find if a given property was fairly appraised when compared with with similar properties.\n",
    "\n",
    "For this we could find the distribution of similar properties total appraised value (`tot_appr_val`) and locate where our target distribution falls. However, since there is a wide range of property values given their location (neighborhood), physical condition, renovation, and other factors, it might be best to focus on the year-to-year percent change in property value:\n",
    "\n",
    "`yy_pct_change` = (`tot_appr_val` - `prior_tot_appr_val`) / `prior_tot_appr_val`"
   ]
  },
  {
   "cell_type": "markdown",
   "metadata": {},
   "source": [
    "## Drop NaNs in value colums"
   ]
  },
  {
   "cell_type": "code",
   "execution_count": 11,
   "metadata": {
    "ExecuteTime": {
     "end_time": "2020-10-25T18:25:56.455299Z",
     "start_time": "2020-10-25T18:25:56.431262Z"
    }
   },
   "outputs": [],
   "source": [
    "cond0 = comps['prior_tot_appr_val'].isna()\n",
    "cond1 = comps['tot_appr_val'].isna()"
   ]
  },
  {
   "cell_type": "code",
   "execution_count": 12,
   "metadata": {
    "ExecuteTime": {
     "end_time": "2020-10-25T18:25:56.762945Z",
     "start_time": "2020-10-25T18:25:56.738583Z"
    }
   },
   "outputs": [
    {
     "name": "stdout",
     "output_type": "stream",
     "text": [
      "Percent of prior_tot_appr_val missing values: 0.0017396098512456066\n",
      "Percent of tot_appr_val missing values: 4.176734336724146e-06\n"
     ]
    }
   ],
   "source": [
    "print(f'Percent of prior_tot_appr_val missing values: {cond0.sum() / cond0.shape[0]}')\n",
    "print(f'Percent of tot_appr_val missing values: {cond1.sum() / cond1.shape[0]}')"
   ]
  },
  {
   "cell_type": "code",
   "execution_count": 13,
   "metadata": {
    "ExecuteTime": {
     "end_time": "2020-10-25T18:25:57.355435Z",
     "start_time": "2020-10-25T18:25:57.034198Z"
    }
   },
   "outputs": [],
   "source": [
    "comps = comps.loc[~cond0 & ~cond1, :]"
   ]
  },
  {
   "cell_type": "markdown",
   "metadata": {},
   "source": [
    "## Drop samples where prior_tot_appr_val is zero"
   ]
  },
  {
   "cell_type": "code",
   "execution_count": 14,
   "metadata": {
    "ExecuteTime": {
     "end_time": "2020-10-25T18:25:57.613267Z",
     "start_time": "2020-10-25T18:25:57.577902Z"
    }
   },
   "outputs": [
    {
     "data": {
      "text/plain": [
       "30"
      ]
     },
     "execution_count": 14,
     "metadata": {},
     "output_type": "execute_result"
    }
   ],
   "source": [
    "cond0 = comps['prior_tot_appr_val'] == 0\n",
    "\n",
    "cond0.sum()"
   ]
  },
  {
   "cell_type": "code",
   "execution_count": 15,
   "metadata": {
    "ExecuteTime": {
     "end_time": "2020-10-25T18:25:58.559269Z",
     "start_time": "2020-10-25T18:25:57.937433Z"
    }
   },
   "outputs": [],
   "source": [
    "comps = comps.loc[~cond0, :]"
   ]
  },
  {
   "cell_type": "markdown",
   "metadata": {},
   "source": [
    "## Build year-to-year percent change value"
   ]
  },
  {
   "cell_type": "code",
   "execution_count": 16,
   "metadata": {
    "ExecuteTime": {
     "end_time": "2020-10-25T18:25:58.581074Z",
     "start_time": "2020-10-25T18:25:58.560850Z"
    }
   },
   "outputs": [],
   "source": [
    "comps['yy_pct_change'] = (comps['tot_appr_val'] - comps['prior_tot_appr_val']) / comps['prior_tot_appr_val']"
   ]
  },
  {
   "cell_type": "code",
   "execution_count": 17,
   "metadata": {
    "ExecuteTime": {
     "end_time": "2020-10-25T18:25:59.095539Z",
     "start_time": "2020-10-25T18:25:59.006328Z"
    }
   },
   "outputs": [
    {
     "data": {
      "text/plain": [
       "count    955988.000000\n",
       "mean          0.165985\n",
       "std           8.581099\n",
       "min          -0.870447\n",
       "25%           0.030658\n",
       "50%           0.099989\n",
       "75%           0.099999\n",
       "max        7151.941176\n",
       "Name: yy_pct_change, dtype: float64"
      ]
     },
     "execution_count": 17,
     "metadata": {},
     "output_type": "execute_result"
    }
   ],
   "source": [
    "comps['yy_pct_change'].describe()"
   ]
  },
  {
   "cell_type": "markdown",
   "metadata": {},
   "source": [
    "## Remove exceedingly large value changes\n",
    "\n",
    "There are valid reasons for a property value appreciation from year-to-year to be multiples of the initial value, for example, when a new house is constructed on an existing lot, the previous year value will be the value of the land alone, and the current year value will be the value of the land plus the value of the improvement (built house).\n",
    "\n",
    "Similarly, when the existing house in the prior year is a tear-down, we can expect the value of the property to increase significantly if the owner has removed the old house and built a new one on its place. This is fairly common on neighborhoods with new constructions restrictions, like The Heights. \n",
    "\n",
    "Also, we can expect a large value increase if there has been a major remodeling that either increased the number of rooms of baths (fixtures), common on fixer-uppers, but this work generally increases the value of a property by a fraction, and not whole multipliers.\n",
    "\n",
    "I'm primarily concerned with finding the comparable properties to my house, that was already there in 2015 (no new construction), and had no remodeling done (no fixtures change). For this, I'll filter out all samples outside the [-1, 1] appreciation percent range."
   ]
  },
  {
   "cell_type": "markdown",
   "metadata": {},
   "source": [
    "### Remove new constructions and recent remodels"
   ]
  },
  {
   "cell_type": "code",
   "execution_count": 18,
   "metadata": {
    "ExecuteTime": {
     "end_time": "2020-10-25T18:26:00.476924Z",
     "start_time": "2020-10-25T18:26:00.449195Z"
    }
   },
   "outputs": [],
   "source": [
    "comps['lastest_const_year'] = comps['yr_remodel'].fillna(comps['date_erected'])"
   ]
  },
  {
   "cell_type": "code",
   "execution_count": 19,
   "metadata": {
    "ExecuteTime": {
     "end_time": "2020-10-25T18:26:01.111104Z",
     "start_time": "2020-10-25T18:26:01.081432Z"
    }
   },
   "outputs": [],
   "source": [
    "cond0 = (comps['lastest_const_year'] >= 2015)"
   ]
  },
  {
   "cell_type": "code",
   "execution_count": 20,
   "metadata": {
    "ExecuteTime": {
     "end_time": "2020-10-25T18:26:01.660895Z",
     "start_time": "2020-10-25T18:26:01.638795Z"
    }
   },
   "outputs": [
    {
     "name": "stdout",
     "output_type": "stream",
     "text": [
      "Number of new constructions or newly remodeled properties: 10020\n",
      "Percent of total: 0.01 %\n"
     ]
    }
   ],
   "source": [
    "print(f'Number of new constructions or newly remodeled properties: {cond0.sum()}')\n",
    "print(f'Percent of total: {cond0.sum() / comps.shape[0]:.2f} %')"
   ]
  },
  {
   "cell_type": "code",
   "execution_count": 21,
   "metadata": {
    "ExecuteTime": {
     "end_time": "2020-10-25T18:26:02.805223Z",
     "start_time": "2020-10-25T18:26:01.978789Z"
    }
   },
   "outputs": [],
   "source": [
    "comps = comps.loc[~cond0, :]"
   ]
  },
  {
   "cell_type": "markdown",
   "metadata": {},
   "source": [
    "### Remove real (bad data) outliers\n",
    "Large value changes that where not captured by the new construction and remodel filter above, might be a result of problems with the data."
   ]
  },
  {
   "cell_type": "code",
   "execution_count": 22,
   "metadata": {
    "ExecuteTime": {
     "end_time": "2020-10-25T18:26:02.824637Z",
     "start_time": "2020-10-25T18:26:02.806981Z"
    }
   },
   "outputs": [],
   "source": [
    "cond0 = comps['yy_pct_change'].between(-1,1)"
   ]
  },
  {
   "cell_type": "code",
   "execution_count": 23,
   "metadata": {
    "ExecuteTime": {
     "end_time": "2020-10-25T18:26:03.285170Z",
     "start_time": "2020-10-25T18:26:03.261114Z"
    }
   },
   "outputs": [],
   "source": [
    "outliers = comps.loc[~cond0, ['yy_pct_change', 'tot_appr_val', 'prior_tot_appr_val', 'lastest_const_year']]"
   ]
  },
  {
   "cell_type": "code",
   "execution_count": 24,
   "metadata": {
    "ExecuteTime": {
     "end_time": "2020-10-25T18:26:04.906438Z",
     "start_time": "2020-10-25T18:26:04.887781Z"
    }
   },
   "outputs": [
    {
     "data": {
      "text/plain": [
       "(3036, 4)"
      ]
     },
     "execution_count": 24,
     "metadata": {},
     "output_type": "execute_result"
    }
   ],
   "source": [
    "outliers.shape"
   ]
  },
  {
   "cell_type": "code",
   "execution_count": 25,
   "metadata": {
    "ExecuteTime": {
     "end_time": "2020-10-25T18:26:05.123049Z",
     "start_time": "2020-10-25T18:26:05.085055Z"
    }
   },
   "outputs": [
    {
     "data": {
      "text/html": [
       "<div>\n",
       "<style scoped>\n",
       "    .dataframe tbody tr th:only-of-type {\n",
       "        vertical-align: middle;\n",
       "    }\n",
       "\n",
       "    .dataframe tbody tr th {\n",
       "        vertical-align: top;\n",
       "    }\n",
       "\n",
       "    .dataframe thead th {\n",
       "        text-align: right;\n",
       "    }\n",
       "</style>\n",
       "<table border=\"1\" class=\"dataframe\">\n",
       "  <thead>\n",
       "    <tr style=\"text-align: right;\">\n",
       "      <th></th>\n",
       "      <th>yy_pct_change</th>\n",
       "      <th>tot_appr_val</th>\n",
       "      <th>prior_tot_appr_val</th>\n",
       "      <th>lastest_const_year</th>\n",
       "    </tr>\n",
       "  </thead>\n",
       "  <tbody>\n",
       "    <tr>\n",
       "      <th>count</th>\n",
       "      <td>3036.000000</td>\n",
       "      <td>3.036000e+03</td>\n",
       "      <td>3.036000e+03</td>\n",
       "      <td>3036.000000</td>\n",
       "    </tr>\n",
       "    <tr>\n",
       "      <th>mean</th>\n",
       "      <td>2.107496</td>\n",
       "      <td>3.272255e+05</td>\n",
       "      <td>1.225868e+05</td>\n",
       "      <td>1999.955534</td>\n",
       "    </tr>\n",
       "    <tr>\n",
       "      <th>std</th>\n",
       "      <td>1.900489</td>\n",
       "      <td>3.275134e+05</td>\n",
       "      <td>1.367662e+05</td>\n",
       "      <td>26.070637</td>\n",
       "    </tr>\n",
       "    <tr>\n",
       "      <th>min</th>\n",
       "      <td>1.000456</td>\n",
       "      <td>7.900000e+03</td>\n",
       "      <td>1.000000e+03</td>\n",
       "      <td>1870.000000</td>\n",
       "    </tr>\n",
       "    <tr>\n",
       "      <th>25%</th>\n",
       "      <td>1.183824</td>\n",
       "      <td>1.440250e+05</td>\n",
       "      <td>3.918075e+04</td>\n",
       "      <td>2004.000000</td>\n",
       "    </tr>\n",
       "    <tr>\n",
       "      <th>50%</th>\n",
       "      <td>1.484603</td>\n",
       "      <td>2.498880e+05</td>\n",
       "      <td>8.927750e+04</td>\n",
       "      <td>2014.000000</td>\n",
       "    </tr>\n",
       "    <tr>\n",
       "      <th>75%</th>\n",
       "      <td>2.209001</td>\n",
       "      <td>4.104905e+05</td>\n",
       "      <td>1.545838e+05</td>\n",
       "      <td>2014.000000</td>\n",
       "    </tr>\n",
       "    <tr>\n",
       "      <th>max</th>\n",
       "      <td>45.160430</td>\n",
       "      <td>4.122500e+06</td>\n",
       "      <td>1.651458e+06</td>\n",
       "      <td>2014.000000</td>\n",
       "    </tr>\n",
       "  </tbody>\n",
       "</table>\n",
       "</div>"
      ],
      "text/plain": [
       "       yy_pct_change  tot_appr_val  prior_tot_appr_val  lastest_const_year\n",
       "count    3036.000000  3.036000e+03        3.036000e+03         3036.000000\n",
       "mean        2.107496  3.272255e+05        1.225868e+05         1999.955534\n",
       "std         1.900489  3.275134e+05        1.367662e+05           26.070637\n",
       "min         1.000456  7.900000e+03        1.000000e+03         1870.000000\n",
       "25%         1.183824  1.440250e+05        3.918075e+04         2004.000000\n",
       "50%         1.484603  2.498880e+05        8.927750e+04         2014.000000\n",
       "75%         2.209001  4.104905e+05        1.545838e+05         2014.000000\n",
       "max        45.160430  4.122500e+06        1.651458e+06         2014.000000"
      ]
     },
     "execution_count": 25,
     "metadata": {},
     "output_type": "execute_result"
    }
   ],
   "source": [
    "outliers.describe()"
   ]
  },
  {
   "cell_type": "code",
   "execution_count": 26,
   "metadata": {
    "ExecuteTime": {
     "end_time": "2020-10-25T18:26:05.566527Z",
     "start_time": "2020-10-25T18:26:05.538766Z"
    }
   },
   "outputs": [
    {
     "data": {
      "text/html": [
       "<div>\n",
       "<style scoped>\n",
       "    .dataframe tbody tr th:only-of-type {\n",
       "        vertical-align: middle;\n",
       "    }\n",
       "\n",
       "    .dataframe tbody tr th {\n",
       "        vertical-align: top;\n",
       "    }\n",
       "\n",
       "    .dataframe thead th {\n",
       "        text-align: right;\n",
       "    }\n",
       "</style>\n",
       "<table border=\"1\" class=\"dataframe\">\n",
       "  <thead>\n",
       "    <tr style=\"text-align: right;\">\n",
       "      <th></th>\n",
       "      <th>yy_pct_change</th>\n",
       "      <th>tot_appr_val</th>\n",
       "      <th>prior_tot_appr_val</th>\n",
       "      <th>lastest_const_year</th>\n",
       "    </tr>\n",
       "    <tr>\n",
       "      <th>acct</th>\n",
       "      <th></th>\n",
       "      <th></th>\n",
       "      <th></th>\n",
       "      <th></th>\n",
       "    </tr>\n",
       "  </thead>\n",
       "  <tbody>\n",
       "    <tr>\n",
       "      <th>31640000004</th>\n",
       "      <td>1.200552</td>\n",
       "      <td>149072.0</td>\n",
       "      <td>67743.0</td>\n",
       "      <td>1920.0</td>\n",
       "    </tr>\n",
       "    <tr>\n",
       "      <th>30490000007</th>\n",
       "      <td>1.581602</td>\n",
       "      <td>87000.0</td>\n",
       "      <td>33700.0</td>\n",
       "      <td>1938.0</td>\n",
       "    </tr>\n",
       "    <tr>\n",
       "      <th>32170000026</th>\n",
       "      <td>1.142638</td>\n",
       "      <td>208198.0</td>\n",
       "      <td>97169.0</td>\n",
       "      <td>2014.0</td>\n",
       "    </tr>\n",
       "    <tr>\n",
       "      <th>32600000015</th>\n",
       "      <td>1.024324</td>\n",
       "      <td>277055.0</td>\n",
       "      <td>136863.0</td>\n",
       "      <td>2013.0</td>\n",
       "    </tr>\n",
       "    <tr>\n",
       "      <th>40250000004</th>\n",
       "      <td>1.257994</td>\n",
       "      <td>28952.0</td>\n",
       "      <td>12822.0</td>\n",
       "      <td>1945.0</td>\n",
       "    </tr>\n",
       "  </tbody>\n",
       "</table>\n",
       "</div>"
      ],
      "text/plain": [
       "             yy_pct_change  tot_appr_val  prior_tot_appr_val  \\\n",
       "acct                                                           \n",
       "31640000004       1.200552      149072.0             67743.0   \n",
       "30490000007       1.581602       87000.0             33700.0   \n",
       "32170000026       1.142638      208198.0             97169.0   \n",
       "32600000015       1.024324      277055.0            136863.0   \n",
       "40250000004       1.257994       28952.0             12822.0   \n",
       "\n",
       "             lastest_const_year  \n",
       "acct                             \n",
       "31640000004              1920.0  \n",
       "30490000007              1938.0  \n",
       "32170000026              2014.0  \n",
       "32600000015              2013.0  \n",
       "40250000004              1945.0  "
      ]
     },
     "execution_count": 26,
     "metadata": {},
     "output_type": "execute_result"
    }
   ],
   "source": [
    "outliers.head()"
   ]
  },
  {
   "cell_type": "markdown",
   "metadata": {},
   "source": [
    "for example, from the five outliers examples above, the older houses (latest_const_year 1920, 1938, 1945) are probably remodels or new constructions from tear-downs that didn't reflect the constructions updates in this database.\n",
    "\n",
    "The more recent properties (2014, 2013) apparently didn't realize their full value until later, a sort of edge effect depending on when was the construction finished during the year."
   ]
  },
  {
   "cell_type": "code",
   "execution_count": 27,
   "metadata": {
    "ExecuteTime": {
     "end_time": "2020-10-25T18:26:10.502264Z",
     "start_time": "2020-10-25T18:26:10.473757Z"
    }
   },
   "outputs": [
    {
     "name": "stdout",
     "output_type": "stream",
     "text": [
      "Number of outliers to be removed: 3036\n",
      "Percent of outliers to be removed: 0.0032 %\n"
     ]
    }
   ],
   "source": [
    "print(f'Number of outliers to be removed: {outliers.shape[0]}')\n",
    "print(f'Percent of outliers to be removed: {outliers.shape[0] / comps.shape[0]:.4f} %')"
   ]
  },
  {
   "cell_type": "code",
   "execution_count": 28,
   "metadata": {
    "ExecuteTime": {
     "end_time": "2020-10-25T18:26:11.493296Z",
     "start_time": "2020-10-25T18:26:10.990924Z"
    }
   },
   "outputs": [],
   "source": [
    "comps = comps.loc[cond0, :]"
   ]
  },
  {
   "cell_type": "markdown",
   "metadata": {},
   "source": [
    "## Examine target after outliers removal"
   ]
  },
  {
   "cell_type": "code",
   "execution_count": 29,
   "metadata": {
    "ExecuteTime": {
     "end_time": "2020-10-25T18:26:15.087948Z",
     "start_time": "2020-10-25T18:26:15.005784Z"
    }
   },
   "outputs": [
    {
     "data": {
      "text/plain": [
       "count    942932.000000\n",
       "mean          0.077794\n",
       "std           0.085153\n",
       "min          -0.870447\n",
       "25%           0.029525\n",
       "50%           0.099987\n",
       "75%           0.099999\n",
       "max           1.000000\n",
       "Name: yy_pct_change, dtype: float64"
      ]
     },
     "execution_count": 29,
     "metadata": {},
     "output_type": "execute_result"
    }
   ],
   "source": [
    "comps['yy_pct_change'].describe()"
   ]
  },
  {
   "cell_type": "code",
   "execution_count": 43,
   "metadata": {
    "ExecuteTime": {
     "end_time": "2020-10-25T18:38:14.269633Z",
     "start_time": "2020-10-25T18:38:13.911464Z"
    }
   },
   "outputs": [
    {
     "data": {
      "image/png": "[encoded data removed]",
      "text/plain": [
       "<Figure size 576x576 with 1 Axes>"
      ]
     },
     "metadata": {
      "needs_background": "light"
     },
     "output_type": "display_data"
    }
   ],
   "source": [
    "_ = plt.figure(figsize=(8,8))\n",
    "_ = comps['yy_pct_change'].hist(bins=100)\n",
    "_ = plt.xlabel('yy_pct_change')\n",
    "_ = plt.ylabel('Count')"
   ]
  },
  {
   "cell_type": "markdown",
   "metadata": {},
   "source": [
    "This is interesting. There is a spike in the 10% value increase mark. This is possibly related to [Capped Appraisal Values](https://hcad.org/hcad-resources/hcad-residential-property/hcad-capped-appraisal-values/), where the appraisal district will cap the value of an existing property if the current year appraised value is more than 10% of last year's. Also, the property has to be homestead exempt for the current and prior year to be eligible for this benefit.\n",
    "\n",
    "We can see in the histogram that about 425000 properties qualified for this capping rule. Neat!\n",
    "\n",
    "There is a lesser spike near 0 % value increase, but its origin is less clear."
   ]
  },
  {
   "cell_type": "code",
   "execution_count": 45,
   "metadata": {
    "ExecuteTime": {
     "end_time": "2020-10-26T09:17:22.900014Z",
     "start_time": "2020-10-26T09:17:22.562812Z"
    }
   },
   "outputs": [
    {
     "data": {
      "image/png": "[encoded data removed]",
      "text/plain": [
       "<Figure size 921.6x633.6 with 1 Axes>"
      ]
     },
     "metadata": {
      "needs_background": "light"
     },
     "output_type": "display_data"
    }
   ],
   "source": [
    "_ = sns.boxplot(x=comps['yy_pct_change'])"
   ]
  },
  {
   "cell_type": "code",
   "execution_count": 46,
   "metadata": {
    "ExecuteTime": {
     "end_time": "2020-10-26T09:17:32.336793Z",
     "start_time": "2020-10-26T09:17:31.813432Z"
    }
   },
   "outputs": [
    {
     "data": {
      "image/png": "[encoded data removed]",
      "text/plain": [
       "<Figure size 576x576 with 1 Axes>"
      ]
     },
     "metadata": {
      "needs_background": "light"
     },
     "output_type": "display_data"
    }
   ],
   "source": [
    "_ = plt.figure(figsize=(8, 8))\n",
    "_ = sns.ecdfplot(x='yy_pct_change', data=comps)"
   ]
  },
  {
   "cell_type": "code",
   "execution_count": 67,
   "metadata": {
    "ExecuteTime": {
     "end_time": "2020-10-26T10:10:19.617590Z",
     "start_time": "2020-10-26T10:10:18.389631Z"
    }
   },
   "outputs": [],
   "source": [
    "comps.drop('tot_appr_val', axis=1, inplace=True)"
   ]
  },
  {
   "cell_type": "markdown",
   "metadata": {},
   "source": [
    "# Preliminary report\n",
    "\n",
    "Since there are 80 features in this dataset, it is best to explore them using an automated tool like [Sweetviz](https://github.com/fbdesignpro/sweetviz). This will take care of building the histograms and summary statistics for each feature, and also will provide an association plot between all the variables. I will select the variables from this plot to further investigate interesting associations."
   ]
  },
  {
   "cell_type": "markdown",
   "metadata": {},
   "source": [
    "## Reset dtypes to work with Sweetviz\n",
    "Running `sweetviz` with the `comps` data \"as is\" was throwing a `TypeError` associated with the categorical columns, so here I change their type to `object`."
   ]
  },
  {
   "cell_type": "code",
   "execution_count": 68,
   "metadata": {
    "ExecuteTime": {
     "end_time": "2020-10-26T10:10:22.739566Z",
     "start_time": "2020-10-26T10:10:22.420462Z"
    },
    "scrolled": true
   },
   "outputs": [],
   "source": [
    "for col in comps.columns:\n",
    "    if str(comps[col].dtype) == 'category':\n",
    "        comps[col] = comps[col].astype('object')"
   ]
  },
  {
   "cell_type": "code",
   "execution_count": 69,
   "metadata": {
    "ExecuteTime": {
     "end_time": "2020-10-26T10:10:25.025909Z",
     "start_time": "2020-10-26T10:10:23.312694Z"
    },
    "scrolled": false
   },
   "outputs": [
    {
     "name": "stdout",
     "output_type": "stream",
     "text": [
      "<class 'pandas.core.frame.DataFrame'>\n",
      "UInt64Index: 942932 entries, 22070000001 to 1955020050280\n",
      "Data columns (total 81 columns):\n",
      " #   Column                                          Non-Null Count   Dtype         \n",
      "---  ------                                          --------------   -----         \n",
      " 0   dscr                                            942932 non-null  object        \n",
      " 1   date_erected                                    942932 non-null  uint16        \n",
      " 2   yr_remodel                                      83740 non-null   float64       \n",
      " 3   im_sq_ft                                        942929 non-null  float64       \n",
      " 4   act_ar                                          942932 non-null  uint16        \n",
      " 5   heat_ar                                         942928 non-null  float64       \n",
      " 6   gross_ar                                        942932 non-null  uint16        \n",
      " 7   eff_ar                                          942931 non-null  float64       \n",
      " 8   perimeter                                       941763 non-null  float64       \n",
      " 9   fireplace_masonry_firebrick                     942932 non-null  float32       \n",
      " 10  fireplace_metal_prefab                          942932 non-null  float32       \n",
      " 11  fixtures_addl                                   942932 non-null  float32       \n",
      " 12  fixtures_total                                  942932 non-null  float32       \n",
      " 13  room_bedroom                                    942932 non-null  float32       \n",
      " 14  room_full_bath                                  942932 non-null  float32       \n",
      " 15  room_half_bath                                  942932 non-null  float32       \n",
      " 16  room_rec                                        942932 non-null  float32       \n",
      " 17  room_total                                      942932 non-null  float32       \n",
      " 18  story_height_index                              942932 non-null  float32       \n",
      " 19  zip_code                                        942895 non-null  float64       \n",
      " 20  school_dist                                     942879 non-null  object        \n",
      " 21  neighborhood_code                               942931 non-null  object        \n",
      " 22  market_area_1_dscr                              942932 non-null  object        \n",
      " 23  market_area_2_dscr                              942932 non-null  object        \n",
      " 24  center_code                                     942557 non-null  object        \n",
      " 25  bld_ar                                          942929 non-null  float64       \n",
      " 26  land_ar                                         941953 non-null  float64       \n",
      " 27  acreage                                         942932 non-null  float64       \n",
      " 28  land_val                                        942932 non-null  float64       \n",
      " 29  prior_land_val                                  942932 non-null  float64       \n",
      " 30  prior_tot_appr_val                              942932 non-null  float64       \n",
      " 31  new_own_dt                                      942924 non-null  datetime64[ns]\n",
      " 32  basic_outdoor_kitchen_uts                       427126 non-null  float64       \n",
      " 33  brick_or_stone_detached_garage_uts              427126 non-null  float64       \n",
      " 34  canopy_residential_uts                          427126 non-null  float64       \n",
      " 35  carport_residential_uts                         427126 non-null  float64       \n",
      " 36  cracked_slab_uts                                427126 non-null  float64       \n",
      " 37  custom_outdoor_kitchen_uts                      427126 non-null  float64       \n",
      " 38  foundation_repaired_uts                         427126 non-null  float64       \n",
      " 39  frame_detached_garage_uts                       427126 non-null  float64       \n",
      " 40  frame_detached_garage_w_living_area_abov_uts    427126 non-null  float64       \n",
      " 41  frame_utility_shed_uts                          427126 non-null  float64       \n",
      " 42  gunite_pool_uts                                 427126 non-null  float64       \n",
      " 43  metal_utility_shed_uts                          427126 non-null  float64       \n",
      " 44  pool_spa_with_heater_uts                        427126 non-null  float64       \n",
      " 45  reinforced_concrete_pool_uts                    427126 non-null  float64       \n",
      " 46  residential_other_gross_value_uts               427126 non-null  float64       \n",
      " 47  basic_outdoor_kitchen_grade                     2150 non-null    float64       \n",
      " 48  brick_or_stone_detached_garage_grade            13680 non-null   float64       \n",
      " 49  canopy_residential_grade                        80402 non-null   float64       \n",
      " 50  carport_residential_grade                       72712 non-null   float64       \n",
      " 51  cracked_slab_grade                              16074 non-null   float64       \n",
      " 52  custom_outdoor_kitchen_grade                    4102 non-null    float64       \n",
      " 53  foundation_repaired_grade                       17459 non-null   float64       \n",
      " 54  frame_detached_garage_grade                     179715 non-null  float64       \n",
      " 55  frame_detached_garage_w_living_area_abov_grade  6978 non-null    float64       \n",
      " 56  frame_utility_shed_grade                        87412 non-null   float64       \n",
      " 57  gunite_pool_grade                               87423 non-null   float64       \n",
      " 58  metal_utility_shed_grade                        18268 non-null   float64       \n",
      " 59  pool_spa_with_heater_grade                      36912 non-null   float64       \n",
      " 60  reinforced_concrete_pool_grade                  3712 non-null    float64       \n",
      " 61  residential_other_gross_value_grade             14497 non-null   float64       \n",
      " 62  base_area_pri                                   942929 non-null  float64       \n",
      " 63  base_area_upr                                   942929 non-null  float64       \n",
      " 64  frame_garage_pri                                942929 non-null  float64       \n",
      " 65  mas_brk_garage_pri                              942929 non-null  float64       \n",
      " 66  mas_conc_patio_pri                              942929 non-null  float64       \n",
      " 67  one_story_frame_pri                             942929 non-null  float64       \n",
      " 68  one_story_frame_upr                             942929 non-null  float64       \n",
      " 69  one_story_mas_pri                               942929 non-null  float64       \n",
      " 70  open_frame_porch_pri                            942929 non-null  float64       \n",
      " 71  open_mas_porch_pri                              942929 non-null  float64       \n",
      " 72  cond_desir_util                                 942932 non-null  object        \n",
      " 73  cost_and_design                                 148109 non-null  object        \n",
      " 74  exterior_wall                                   942932 non-null  object        \n",
      " 75  foundation_type                                 942932 non-null  object        \n",
      " 76  grade_adjustment                                942932 non-null  object        \n",
      " 77  heating_ac                                      942931 non-null  object        \n",
      " 78  physical_condition                              942932 non-null  object        \n",
      " 79  yy_pct_change                                   942932 non-null  float64       \n",
      " 80  lastest_const_year                              942932 non-null  float64       \n",
      "dtypes: datetime64[ns](1), float32(10), float64(54), object(13), uint16(3)\n",
      "memory usage: 537.8+ MB\n"
     ]
    }
   ],
   "source": [
    "comps.info()"
   ]
  },
  {
   "cell_type": "markdown",
   "metadata": {},
   "source": [
    "## Run Sweetviz"
   ]
  },
  {
   "cell_type": "code",
   "execution_count": 70,
   "metadata": {
    "ExecuteTime": {
     "end_time": "2020-10-26T10:10:36.046597Z",
     "start_time": "2020-10-26T10:10:35.792173Z"
    }
   },
   "outputs": [],
   "source": [
    "import sweetviz as sv"
   ]
  },
  {
   "cell_type": "code",
   "execution_count": 71,
   "metadata": {
    "ExecuteTime": {
     "end_time": "2020-10-26T10:48:53.445804Z",
     "start_time": "2020-10-26T10:12:50.941001Z"
    },
    "scrolled": false
   },
   "outputs": [
    {
     "name": "stderr",
     "output_type": "stream",
     "text": [
      ":FEATURES DONE:                    |█████████████████████| [100%]   15:45  -> (00:00 left)\n",
      ":PAIRWISE DONE:                    |█████████████████████| [100%]   20:05  -> (00:00 left)\n"
     ]
    },
    {
     "name": "stdout",
     "output_type": "stream",
     "text": [
      "Creating Associations graph... DONE!\n",
      "Report SWEETVIZ_REPORT_yy_pct_change.html was generated! NOTEBOOK/COLAB USERS: no browser will pop up, the report is saved in your notebook/colab files.\n"
     ]
    }
   ],
   "source": [
    "# This takes a long time to run (37 min), change flag to True if need to re-run\n",
    "if True:\n",
    "    my_report = sv.analyze(comps, target_feat='yy_pct_change')\n",
    "    my_report.show_html(filepath='SWEETVIZ_REPORT_yy_pct_change.html')"
   ]
  },
  {
   "cell_type": "markdown",
   "metadata": {},
   "source": [
    "The cell above creates a file (notebooks/01_Exploratory/SWEETVIZ_REPORT.html) with the resulting plots."
   ]
  },
  {
   "cell_type": "markdown",
   "metadata": {},
   "source": [
    "# Features exploration\n",
    "Let's start by review the association plot in the sweetviz report.\n",
    "\n",
    "![Sweetviz all variables association](figures/sv_all_variables_association.png)\n",
    "\n",
    "Impressive!\n",
    "\n",
    "There is a strong association in most variables in the top left quadrant. I'm particularly interested in exploring the associations with the total appraise value (`tot_appr_val`) so let's look at its individual association table.\n",
    "\n",
    "![total apprasied value association tables](figures/tot_appr_val_associations_tables.png)\n",
    "\n",
    "Now let's select the numerical and categorical features with strong association (> 0.59) to our target variable and examine these in detail."
   ]
  },
  {
   "cell_type": "code",
   "execution_count": null,
   "metadata": {
    "ExecuteTime": {
     "end_time": "2020-10-23T20:32:13.589755Z",
     "start_time": "2020-10-23T20:32:13.566444Z"
    }
   },
   "outputs": [],
   "source": [
    "num_features = [\n",
    "    'tot_appr_val',\n",
    "    'prior_tot_appr_val',\n",
    "    'prior_land_val',\n",
    "    'land_val',\n",
    "    'eff_ar',\n",
    "    'bld_ar',\n",
    "    'heat_ar',\n",
    "    'im_sq_ft',\n",
    "    'gross_ar',\n",
    "    'act_ar',\n",
    "    'fixtures_total',\n",
    "    'perimeter',\n",
    "    'room_full_bath',\n",
    "]\n",
    "\n",
    "cat_features = [\n",
    "    'grade_adjustment',\n",
    "    'market_area_1_dscr',\n",
    "    'market_area_2_dscr',\n",
    "    'dscr',\n",
    "]"
   ]
  },
  {
   "cell_type": "markdown",
   "metadata": {},
   "source": [
    "# Selected features analysis"
   ]
  },
  {
   "cell_type": "markdown",
   "metadata": {},
   "source": [
    "## Total appraised value: tot_appr_val\n",
    "Let's begin with a description of our target variable: total appraised value."
   ]
  },
  {
   "cell_type": "code",
   "execution_count": null,
   "metadata": {
    "ExecuteTime": {
     "end_time": "2020-10-23T20:32:13.620996Z",
     "start_time": "2020-10-23T20:32:13.593236Z"
    }
   },
   "outputs": [],
   "source": [
    "from src.visualization.visualize import plot_ecdf, plot_counts, plot_hist\n",
    "\n",
    "plt.style.use('ggplot')"
   ]
  },
  {
   "cell_type": "markdown",
   "metadata": {},
   "source": [
    "Check for null values"
   ]
  },
  {
   "cell_type": "code",
   "execution_count": null,
   "metadata": {
    "ExecuteTime": {
     "end_time": "2020-10-23T20:32:13.657882Z",
     "start_time": "2020-10-23T20:32:13.623735Z"
    }
   },
   "outputs": [],
   "source": [
    "comps['tot_appr_val'][comps['tot_appr_val'].isna()]"
   ]
  },
  {
   "cell_type": "markdown",
   "metadata": {},
   "source": [
    "let's remove these from the comps dataframe"
   ]
  },
  {
   "cell_type": "code",
   "execution_count": null,
   "metadata": {
    "ExecuteTime": {
     "end_time": "2020-10-23T20:32:14.403777Z",
     "start_time": "2020-10-23T20:32:13.661288Z"
    }
   },
   "outputs": [],
   "source": [
    "comps.dropna(axis=0, how='any', subset=['tot_appr_val'], inplace=True)"
   ]
  },
  {
   "cell_type": "markdown",
   "metadata": {},
   "source": [
    "Now let's build the plots"
   ]
  },
  {
   "cell_type": "code",
   "execution_count": null,
   "metadata": {
    "ExecuteTime": {
     "end_time": "2020-10-23T20:32:14.428193Z",
     "start_time": "2020-10-23T20:32:14.406241Z"
    }
   },
   "outputs": [],
   "source": [
    "col ='tot_appr_val'\n",
    "series = comps[col]"
   ]
  },
  {
   "cell_type": "code",
   "execution_count": null,
   "metadata": {
    "ExecuteTime": {
     "end_time": "2020-10-23T20:32:14.513882Z",
     "start_time": "2020-10-23T20:32:14.429877Z"
    }
   },
   "outputs": [],
   "source": [
    "series.describe()"
   ]
  },
  {
   "cell_type": "code",
   "execution_count": null,
   "metadata": {
    "ExecuteTime": {
     "end_time": "2020-10-23T20:32:14.882682Z",
     "start_time": "2020-10-23T20:32:14.518258Z"
    }
   },
   "outputs": [],
   "source": [
    "plot_hist(series, col)"
   ]
  },
  {
   "cell_type": "markdown",
   "metadata": {},
   "source": [
    "The high valued properties are masking the distribution of the lower valued properties in this histogram. Let's remake this figure with only properties valued less than $500k"
   ]
  },
  {
   "cell_type": "code",
   "execution_count": null,
   "metadata": {
    "ExecuteTime": {
     "end_time": "2020-10-23T20:32:15.110946Z",
     "start_time": "2020-10-23T20:32:14.885888Z"
    }
   },
   "outputs": [],
   "source": [
    "plot_hist(series[series < 500000], col + ': Less than $500k')"
   ]
  },
  {
   "cell_type": "markdown",
   "metadata": {},
   "source": [
    "So the most common value is around $150k with a right-skewed distribution."
   ]
  },
  {
   "cell_type": "code",
   "execution_count": null,
   "metadata": {
    "ExecuteTime": {
     "end_time": "2020-10-23T20:32:16.285742Z",
     "start_time": "2020-10-23T20:32:15.113116Z"
    }
   },
   "outputs": [],
   "source": [
    "plot_ecdf(series, col)"
   ]
  },
  {
   "cell_type": "markdown",
   "metadata": {},
   "source": [
    "More than 90% of the properties are valued less than ~$400K"
   ]
  },
  {
   "cell_type": "markdown",
   "metadata": {},
   "source": [
    "## Check for features interdependence\n",
    "I'd like to drop highly interdependent features. Since there are so many to check, I'll group, compare, and select them first by major categories (value, area, fixtures), and then repeat the process for the final feature selection. "
   ]
  },
  {
   "cell_type": "markdown",
   "metadata": {},
   "source": [
    "### Value metrics"
   ]
  },
  {
   "cell_type": "code",
   "execution_count": null,
   "metadata": {
    "ExecuteTime": {
     "end_time": "2020-10-23T20:32:16.310037Z",
     "start_time": "2020-10-23T20:32:16.287898Z"
    }
   },
   "outputs": [],
   "source": [
    "values = [\n",
    "    'tot_appr_val',\n",
    "    'prior_tot_appr_val',\n",
    "    'prior_land_val',\n",
    "    'land_val',\n",
    "]"
   ]
  },
  {
   "cell_type": "code",
   "execution_count": null,
   "metadata": {
    "ExecuteTime": {
     "end_time": "2020-10-23T20:34:59.991893Z",
     "start_time": "2020-10-23T20:32:16.317082Z"
    }
   },
   "outputs": [],
   "source": [
    "_ = sns.pairplot(comps.loc[:, values])"
   ]
  },
  {
   "cell_type": "code",
   "execution_count": null,
   "metadata": {
    "ExecuteTime": {
     "end_time": "2020-10-23T20:35:00.569246Z",
     "start_time": "2020-10-23T20:34:59.995033Z"
    }
   },
   "outputs": [],
   "source": [
    "plt.figure(figsize=(14,12))\n",
    "_ = sns.heatmap(comps.loc[:, values].corr(), linewidths=0.1, cmap='YlGnBu', annot=True)\n",
    "_ = plt.title('Pearson correlation heatmap: Values')"
   ]
  },
  {
   "cell_type": "markdown",
   "metadata": {},
   "source": [
    "The total appraised value (`tot_appr_val`) is highly correlated to the prior year value (`prior_tot_appr_val`). It is reasonable to assume that both of these should include the land value (total_value = land_value + building_value), and since the current land value (`land_val`) and prior land value (`prior_land_val`) are so highly correlated we can do with just one of these. I'll select the prior land value as it should be available for all properties."
   ]
  },
  {
   "cell_type": "markdown",
   "metadata": {},
   "source": [
    "## Area metric\n",
    "\n",
    "These features were encountered first on the notebook: [notebooks/01_Exploratory/1.0-rp-hcad-data-view-building-res](1.0-rp-hcad-data-view-building-res.ipynb).\n",
    "\n",
    "Here is a brief description:\n",
    "\n",
    "1. im_sq_ft: Improvement area.\n",
    "2. act_ar: Actual area. For residential properties this is the base area of the house.\n",
    "3. heat_ar: Living Area or Building sqft of a residential building. \n",
    "4. gross_ar: Usually equal to Actual area, except in 1+1/2 story houses. Commercial properties do not use Gross Area.\n",
    "5. eff_ar: Effective area. This is used in determining the market value of the improvements, but there is no clear definition in the HCAD website."
   ]
  },
  {
   "cell_type": "code",
   "execution_count": null,
   "metadata": {
    "ExecuteTime": {
     "end_time": "2020-10-23T20:35:00.594625Z",
     "start_time": "2020-10-23T20:35:00.571459Z"
    }
   },
   "outputs": [],
   "source": [
    "areas = [\n",
    "    'tot_appr_val',\n",
    "    'eff_ar',\n",
    "    'bld_ar',\n",
    "    'heat_ar',\n",
    "    'im_sq_ft',\n",
    "    'gross_ar',\n",
    "    'act_ar',\n",
    "    'perimeter'\n",
    "]"
   ]
  },
  {
   "cell_type": "code",
   "execution_count": null,
   "metadata": {
    "ExecuteTime": {
     "end_time": "2020-10-23T20:37:31.177646Z",
     "start_time": "2020-10-23T20:35:00.597600Z"
    }
   },
   "outputs": [],
   "source": [
    "_ = sns.pairplot(comps.loc[:, areas])"
   ]
  },
  {
   "cell_type": "code",
   "execution_count": null,
   "metadata": {
    "ExecuteTime": {
     "end_time": "2020-10-23T20:37:32.161187Z",
     "start_time": "2020-10-23T20:37:31.180545Z"
    }
   },
   "outputs": [],
   "source": [
    "plt.figure(figsize=(14,12))\n",
    "_ = sns.heatmap(comps.loc[:, areas].corr(), linewidths=0.1, cmap='YlGnBu', annot=True)\n",
    "_ = plt.title(f'Pearson correlation heatmap: Areas')"
   ]
  },
  {
   "cell_type": "markdown",
   "metadata": {},
   "source": [
    "Since all the areas and perimeter are highly correlated between them, we can select one to continue our analysis. I think the most accessible area is the improvement area (`im_sq_ft`) since it represents the sum of all the areas of the buildings in the property. This value should be relatively easy to obtain for a homeowner. "
   ]
  },
  {
   "cell_type": "markdown",
   "metadata": {},
   "source": [
    "## Fixtures"
   ]
  },
  {
   "cell_type": "code",
   "execution_count": null,
   "metadata": {
    "ExecuteTime": {
     "end_time": "2020-10-23T20:37:32.180923Z",
     "start_time": "2020-10-23T20:37:32.163277Z"
    }
   },
   "outputs": [],
   "source": [
    "fixtures = [\n",
    "    'tot_appr_val',\n",
    "    'fixtures_total',\n",
    "    'room_full_bath',\n",
    "]"
   ]
  },
  {
   "cell_type": "code",
   "execution_count": null,
   "metadata": {
    "ExecuteTime": {
     "end_time": "2020-10-23T20:38:04.483684Z",
     "start_time": "2020-10-23T20:37:32.182430Z"
    }
   },
   "outputs": [],
   "source": [
    "_ = sns.pairplot(comps.loc[:, fixtures])"
   ]
  },
  {
   "cell_type": "code",
   "execution_count": null,
   "metadata": {
    "ExecuteTime": {
     "end_time": "2020-10-23T20:38:04.861460Z",
     "start_time": "2020-10-23T20:38:04.486537Z"
    }
   },
   "outputs": [],
   "source": [
    "plt.figure(figsize=(14,12))\n",
    "_ = sns.heatmap(comps.loc[:, fixtures].corr(), linewidths=0.1, cmap='YlGnBu', annot=True)\n",
    "_ = plt.title(f'Pearson correlation heatmap: Fixtures')"
   ]
  },
  {
   "cell_type": "markdown",
   "metadata": {},
   "source": [
    "It looks like we can treat the total number of bathrooms as a categorical variable. Let's look at appraised value boxplots split by `room_full_bath`."
   ]
  },
  {
   "cell_type": "code",
   "execution_count": null,
   "metadata": {
    "ExecuteTime": {
     "end_time": "2020-10-23T20:38:05.555666Z",
     "start_time": "2020-10-23T20:38:04.863132Z"
    }
   },
   "outputs": [],
   "source": [
    "fig, ax = plt.subplots(figsize=(8,8))\n",
    "_ = sns.boxplot(x='room_full_bath', y='tot_appr_val', data=comps)"
   ]
  },
  {
   "cell_type": "code",
   "execution_count": null,
   "metadata": {
    "ExecuteTime": {
     "end_time": "2020-10-23T20:38:05.594609Z",
     "start_time": "2020-10-23T20:38:05.557771Z"
    }
   },
   "outputs": [],
   "source": [
    "comps['room_full_bath'].value_counts()"
   ]
  },
  {
   "cell_type": "markdown",
   "metadata": {},
   "source": [
    "Not counting properties with 10 and 11 full bathrooms (low sample size), we can see that having more full baths start to positively associate to appraised value past the 4th bathroom. It is possible that there are lurking factor here, e.g. bigger houses are in more expensive neighborhoods and have more full bathrooms, so we should check for this below.\n",
    "\n",
    "Also, the sum of all fixtures (`fixtures_total`) should contain the `room_full_bath`, as the latter are fixtures. Let's keep this in mind while further refining our feature selection."
   ]
  },
  {
   "cell_type": "markdown",
   "metadata": {},
   "source": [
    "## Categorical features\n",
    "Let's explore the relationship of each one of the categorical features with the total appraised value. As a reminder here are the definitions of the categories we are about to expore:\n",
    "\n",
    "1) **Grade adjustment**: The grade is a factor that is intended to reflect an overall judgment of the quality of workmanship and materials evident in a dwelling ([HCAD](https://hcad.org/hcad-resources/hcad-appraisal-codes/hcad-building-grade-adjustment/)). The scale of factors runs from E- (lowest), E, E+, D-, D, D+, C-, C, C+, B-, B, B+, A-, A, A+, X-, X, X+ (highest).\n",
    "\n",
    "2) **Market area 1 dscr**: Market areas are defined by the physical, economic, governmental and social forces that influence property values. The effects of these forces were used to identify, classify and stratify or delineate similarly situated properties into smaller, more comparable and manageable subsets for valuation purposes. Delineation can involve the physical drawing of neighborhood boundary lines on a map; it can also involve statistical separation or stratification based on attribute analysis. These homogeneous properties have been delineated into valuation neighborhoods for residential property or economic class for commercial property, but because there are discernible patterns of growth that characterize a neighborhood or market segment, analyst staff will annually evaluate the neighborhood boundaries or market segments to ensure homogeneity of property characteristics ([HCAD](https://hcad.org/assets/uploads/pdf/Reports/2017-2018_reappraisal_plan_amended_final_20180124.pdf))\n",
    "\n",
    "There is no clear distinction between `market_area_1_dscr` and `market_area_2_dscr` and since they are correlated highly correlated among themselves (sweetviz association plot), I think it is safe to select just one for the analysis.\n",
    "\n",
    "3) **dscr**: It's the property quality description. I think this should be highly associated with the grade adjustment. "
   ]
  },
  {
   "cell_type": "code",
   "execution_count": null,
   "metadata": {
    "ExecuteTime": {
     "end_time": "2020-10-23T20:38:05.614739Z",
     "start_time": "2020-10-23T20:38:05.596645Z"
    }
   },
   "outputs": [],
   "source": [
    "cat_features = [\n",
    "    'grade_adjustment',\n",
    "    'market_area_1_dscr',\n",
    "    'dscr',\n",
    "]"
   ]
  },
  {
   "cell_type": "markdown",
   "metadata": {},
   "source": [
    "### Grade adjustment"
   ]
  },
  {
   "cell_type": "code",
   "execution_count": null,
   "metadata": {
    "ExecuteTime": {
     "end_time": "2020-10-23T20:38:05.634834Z",
     "start_time": "2020-10-23T20:38:05.616551Z"
    }
   },
   "outputs": [],
   "source": [
    "order =  ['E-', 'E', 'E+', 'D-', 'D', 'D+', 'C-', 'C', 'C+', 'B-', 'B', 'B+', 'A-', 'A', 'A+', 'X-', 'X', 'X+']"
   ]
  },
  {
   "cell_type": "code",
   "execution_count": null,
   "metadata": {
    "ExecuteTime": {
     "end_time": "2020-10-23T20:38:06.430666Z",
     "start_time": "2020-10-23T20:38:05.636885Z"
    }
   },
   "outputs": [],
   "source": [
    "fig, ax = plt.subplots(figsize=(8,8))\n",
    "_ = sns.boxplot(x='grade_adjustment', y='tot_appr_val', data=comps, order=order)"
   ]
  },
  {
   "cell_type": "code",
   "execution_count": null,
   "metadata": {
    "ExecuteTime": {
     "end_time": "2020-10-23T20:38:06.521310Z",
     "start_time": "2020-10-23T20:38:06.432906Z"
    }
   },
   "outputs": [],
   "source": [
    "comps['grade_adjustment'].value_counts()"
   ]
  },
  {
   "cell_type": "markdown",
   "metadata": {},
   "source": [
    "The grade adjustment starts to significantly influence the appraised value after the B classification."
   ]
  },
  {
   "cell_type": "markdown",
   "metadata": {},
   "source": [
    "### market_area_1_dscr\n",
    "Let's remove the areas with insufficient samples (<30)."
   ]
  },
  {
   "cell_type": "code",
   "execution_count": null,
   "metadata": {
    "ExecuteTime": {
     "end_time": "2020-10-23T20:38:06.613377Z",
     "start_time": "2020-10-23T20:38:06.523496Z"
    }
   },
   "outputs": [],
   "source": [
    "comps['market_area_1_dscr'].value_counts().tail(16)"
   ]
  },
  {
   "cell_type": "code",
   "execution_count": null,
   "metadata": {
    "ExecuteTime": {
     "end_time": "2020-10-23T20:38:06.707411Z",
     "start_time": "2020-10-23T20:38:06.615277Z"
    }
   },
   "outputs": [],
   "source": [
    "drop_areas = list(comps['market_area_1_dscr'].value_counts().tail(16).index)"
   ]
  },
  {
   "cell_type": "code",
   "execution_count": null,
   "metadata": {
    "ExecuteTime": {
     "end_time": "2020-10-23T20:38:07.211707Z",
     "start_time": "2020-10-23T20:38:06.709619Z"
    }
   },
   "outputs": [],
   "source": [
    "cond0 = ~comps['market_area_1_dscr'].isin(drop_areas)\n",
    "comps = comps.loc[cond0, :]"
   ]
  },
  {
   "cell_type": "markdown",
   "metadata": {},
   "source": [
    "Now let's build the order based on the median of the total appraised value."
   ]
  },
  {
   "cell_type": "code",
   "execution_count": null,
   "metadata": {
    "ExecuteTime": {
     "end_time": "2020-10-23T20:38:07.632127Z",
     "start_time": "2020-10-23T20:38:07.213444Z"
    }
   },
   "outputs": [],
   "source": [
    "order = comps.groupby('market_area_1_dscr')['tot_appr_val'].quantile(0.5).sort_values().index"
   ]
  },
  {
   "cell_type": "code",
   "execution_count": null,
   "metadata": {
    "ExecuteTime": {
     "end_time": "2020-10-23T20:38:11.712198Z",
     "start_time": "2020-10-23T20:38:07.634663Z"
    }
   },
   "outputs": [],
   "source": [
    "fig, ax = plt.subplots(figsize=(16,10))\n",
    "_ = sns.boxplot(x='market_area_1_dscr', y='tot_appr_val', data=comps, order=order)\n",
    "_ = plt.xticks(rotation=90)"
   ]
  },
  {
   "cell_type": "markdown",
   "metadata": {},
   "source": [
    "Let's zoom in the figure above in the region of houses valued less than $1.2M."
   ]
  },
  {
   "cell_type": "code",
   "execution_count": null,
   "metadata": {
    "ExecuteTime": {
     "end_time": "2020-10-23T20:38:15.601503Z",
     "start_time": "2020-10-23T20:38:11.713963Z"
    }
   },
   "outputs": [],
   "source": [
    "fig, ax = plt.subplots(figsize=(16,10))\n",
    "_ = sns.boxplot(x='market_area_1_dscr', y='tot_appr_val', data=comps, order=order)\n",
    "_ = plt.xticks(rotation=90)\n",
    "_ = plt.ylim((-50000, 1200000))"
   ]
  },
  {
   "cell_type": "markdown",
   "metadata": {},
   "source": [
    "Location, location, location!\n",
    "\n",
    "The median appraised value moderately increases from the Former North Forest ISD market area to ISD-29 - Pearland, and then it increases tremendously up to 1F River Oaks (from which we only catch its bottom whisker on this plot)."
   ]
  },
  {
   "cell_type": "markdown",
   "metadata": {},
   "source": [
    "### dscr\n",
    "This is the current property quality description. It is an ordered categorical variable that can take values: 'Excellent', 'Superior', 'Good', 'Average', 'Low', 'Very Low', and 'Poor'."
   ]
  },
  {
   "cell_type": "code",
   "execution_count": null,
   "metadata": {
    "ExecuteTime": {
     "end_time": "2020-10-23T20:38:15.764488Z",
     "start_time": "2020-10-23T20:38:15.604515Z"
    }
   },
   "outputs": [],
   "source": [
    "comps['dscr'].value_counts()"
   ]
  },
  {
   "cell_type": "markdown",
   "metadata": {},
   "source": [
    "Let's drop the properties classified as poor since there are only 13 units."
   ]
  },
  {
   "cell_type": "code",
   "execution_count": null,
   "metadata": {
    "ExecuteTime": {
     "end_time": "2020-10-23T20:38:16.671735Z",
     "start_time": "2020-10-23T20:38:15.767430Z"
    }
   },
   "outputs": [],
   "source": [
    "cond0 = ~(comps['dscr'] == 'Poor')\n",
    "comps = comps.loc[cond0, :]"
   ]
  },
  {
   "cell_type": "code",
   "execution_count": null,
   "metadata": {
    "ExecuteTime": {
     "end_time": "2020-10-23T20:38:16.705863Z",
     "start_time": "2020-10-23T20:38:16.677426Z"
    }
   },
   "outputs": [],
   "source": [
    "order = ['Superior', 'Excellent', 'Good', 'Average', 'Low', 'Very Low']"
   ]
  },
  {
   "cell_type": "code",
   "execution_count": null,
   "metadata": {
    "ExecuteTime": {
     "end_time": "2020-10-23T20:38:17.441570Z",
     "start_time": "2020-10-23T20:38:16.708093Z"
    }
   },
   "outputs": [],
   "source": [
    "fig, ax = plt.subplots(figsize=(8,8))\n",
    "_ = sns.boxplot(x='dscr', y='tot_appr_val', data=comps, order=order)"
   ]
  },
  {
   "cell_type": "markdown",
   "metadata": {},
   "source": [
    "Zooming in to properties valued less than $3M"
   ]
  },
  {
   "cell_type": "code",
   "execution_count": null,
   "metadata": {
    "ExecuteTime": {
     "end_time": "2020-10-23T20:38:18.162271Z",
     "start_time": "2020-10-23T20:38:17.443597Z"
    }
   },
   "outputs": [],
   "source": [
    "fig, ax = plt.subplots(figsize=(8,8))\n",
    "_ = sns.boxplot(x='dscr', y='tot_appr_val', data=comps, order=order)\n",
    "_ = plt.ylim((-50000, 3000000))"
   ]
  },
  {
   "cell_type": "markdown",
   "metadata": {},
   "source": [
    "`dscr` really seems to influence the appraised value.\n",
    "\n",
    "Now let's compare `dscr` with `grade_adjustment` as it is possible that they are highly correlated. The idea is to group the properties by `dscr` and then draw a count plot of the `grade_adjustment` for each quality description."
   ]
  },
  {
   "cell_type": "code",
   "execution_count": null,
   "metadata": {
    "ExecuteTime": {
     "end_time": "2020-10-23T20:38:21.522522Z",
     "start_time": "2020-10-23T20:38:18.164511Z"
    },
    "scrolled": false
   },
   "outputs": [],
   "source": [
    "for group, df in comps.groupby('dscr'):\n",
    "    ga = df['grade_adjustment']\n",
    "    \n",
    "    fig, ax = plt.subplots(figsize=(16,8))\n",
    "    sns.countplot(x=ga)\n",
    "    _ = plt.xlabel(group)\n",
    "    _ = plt.ylabel('Count')"
   ]
  },
  {
   "cell_type": "markdown",
   "metadata": {},
   "source": [
    "It looks like the quality descriptions have the following correspondence:\n",
    "\n",
    "1) Very Low: E-, E, E+\n",
    "\n",
    "2) Low: D-, D, D+\n",
    "\n",
    "3) Average: C-, C, C+\n",
    "\n",
    "4) Good: B-, B, B+\n",
    "\n",
    "5) Excellent: A-, A, A+\n",
    "\n",
    "6) Superior: X-, X, X+\n",
    "\n",
    "with a few outliers. Let's keep both features for the time being."
   ]
  },
  {
   "cell_type": "markdown",
   "metadata": {},
   "source": [
    "# Check independence of selected features"
   ]
  },
  {
   "cell_type": "markdown",
   "metadata": {},
   "source": [
    "## Is the total number of bathrooms a function of the house size?"
   ]
  },
  {
   "cell_type": "code",
   "execution_count": null,
   "metadata": {
    "ExecuteTime": {
     "end_time": "2020-10-23T20:38:22.110552Z",
     "start_time": "2020-10-23T20:38:21.524395Z"
    }
   },
   "outputs": [],
   "source": [
    "fig, ax = plt.subplots(figsize=(8,8))\n",
    "_ = sns.boxplot(x='room_full_bath', y='im_sq_ft', data=comps)"
   ]
  },
  {
   "cell_type": "markdown",
   "metadata": {},
   "source": [
    "It looks like the bigger the house the more full bathrooms it has. Also, the variance of the distribution increases with the number of baths, possibly because the more baths the lower the sample size in that category.\n",
    "\n",
    "I think there is enough variability in this plot to keep both features."
   ]
  },
  {
   "cell_type": "markdown",
   "metadata": {},
   "source": [
    "## Re-run sweetviz on selected features"
   ]
  },
  {
   "cell_type": "code",
   "execution_count": null,
   "metadata": {
    "ExecuteTime": {
     "end_time": "2020-10-24T10:26:01.924586Z",
     "start_time": "2020-10-24T10:26:01.896187Z"
    }
   },
   "outputs": [],
   "source": [
    "keep = [\n",
    "    'tot_appr_val',\n",
    "    'prior_tot_appr_val',\n",
    "    'prior_land_val',\n",
    "    'im_sq_ft',\n",
    "    'fixtures_total',\n",
    "    'room_full_bath',\n",
    "    'grade_adjustment',\n",
    "    'market_area_1_dscr',\n",
    "    'dscr',\n",
    "    'date_erected', # We will need this down the road\n",
    "    'yr_remodel', # We will need this down the road\n",
    "]"
   ]
  },
  {
   "cell_type": "code",
   "execution_count": null,
   "metadata": {
    "ExecuteTime": {
     "end_time": "2020-10-24T10:26:03.299469Z",
     "start_time": "2020-10-24T10:26:03.198323Z"
    }
   },
   "outputs": [],
   "source": [
    "features = comps.loc[:, keep]"
   ]
  },
  {
   "cell_type": "code",
   "execution_count": null,
   "metadata": {
    "ExecuteTime": {
     "end_time": "2020-10-24T10:30:31.422989Z",
     "start_time": "2020-10-24T10:27:09.220557Z"
    }
   },
   "outputs": [],
   "source": [
    "if False:\n",
    "    my_report = sv.analyze(features, target_feat='tot_appr_val')\n",
    "    my_report.show_html(filepath='SWEETVIZ_REPORT_features.html')"
   ]
  },
  {
   "cell_type": "markdown",
   "metadata": {},
   "source": [
    "Now the dependency between the selected features is clear in the sweetviz association plot:\n",
    "\n",
    "![Sweetviz selected features only association](figures/sv_features_association.png)\n",
    "\n",
    "There is a lot of independence between these features, so we need to approach the modeling step one feature at a time, to understand the contribution of each to the prediction.\n",
    "\n",
    "Next, we should group the properties based on these features to find the distribution of properties where my target house belongs, and then assess the probability of getting my appraised value or more under this distribution."
   ]
  },
  {
   "cell_type": "markdown",
   "metadata": {},
   "source": [
    "# Export features"
   ]
  },
  {
   "cell_type": "code",
   "execution_count": null,
   "metadata": {
    "ExecuteTime": {
     "end_time": "2020-10-24T10:26:18.597704Z",
     "start_time": "2020-10-24T10:26:17.883534Z"
    }
   },
   "outputs": [],
   "source": [
    "save_fn = ROOT_DIR / 'data/interim/2016/features.pickle'\n",
    "save_pickle(features, save_fn)"
   ]
  },
  {
   "cell_type": "code",
   "execution_count": null,
   "metadata": {},
   "outputs": [],
   "source": []
  },
  {
   "cell_type": "code",
   "execution_count": null,
   "metadata": {},
   "outputs": [],
   "source": []
  },
  {
   "cell_type": "code",
   "execution_count": null,
   "metadata": {},
   "outputs": [],
   "source": []
  },
  {
   "cell_type": "code",
   "execution_count": null,
   "metadata": {},
   "outputs": [],
   "source": []
  },
  {
   "cell_type": "markdown",
   "metadata": {},
   "source": [
    "## Build linear model"
   ]
  },
  {
   "cell_type": "code",
   "execution_count": 47,
   "metadata": {
    "ExecuteTime": {
     "end_time": "2020-10-26T09:21:29.848047Z",
     "start_time": "2020-10-26T09:21:29.505014Z"
    }
   },
   "outputs": [],
   "source": [
    "from sklearn import linear_model\n",
    "from sklearn.model_selection import train_test_split\n",
    "from sklearn.metrics import mean_squared_error"
   ]
  },
  {
   "cell_type": "code",
   "execution_count": 48,
   "metadata": {
    "ExecuteTime": {
     "end_time": "2020-10-26T09:21:30.449939Z",
     "start_time": "2020-10-26T09:21:30.432935Z"
    }
   },
   "outputs": [],
   "source": [
    "X = comps['prior_tot_appr_val']\n",
    "y = comps['yy_pct_change']"
   ]
  },
  {
   "cell_type": "code",
   "execution_count": 49,
   "metadata": {
    "ExecuteTime": {
     "end_time": "2020-10-26T09:21:32.055172Z",
     "start_time": "2020-10-26T09:21:31.962436Z"
    }
   },
   "outputs": [],
   "source": [
    "X_train, X_test, y_train, y_test = train_test_split(X, y, test_size=0.3, random_state=42)"
   ]
  },
  {
   "cell_type": "code",
   "execution_count": 50,
   "metadata": {
    "ExecuteTime": {
     "end_time": "2020-10-26T09:21:33.474063Z",
     "start_time": "2020-10-26T09:21:33.444213Z"
    }
   },
   "outputs": [],
   "source": [
    "model = linear_model.LinearRegression()"
   ]
  },
  {
   "cell_type": "code",
   "execution_count": 51,
   "metadata": {
    "ExecuteTime": {
     "end_time": "2020-10-26T09:21:34.540408Z",
     "start_time": "2020-10-26T09:21:34.497593Z"
    }
   },
   "outputs": [
    {
     "data": {
      "text/plain": [
       "LinearRegression()"
      ]
     },
     "execution_count": 51,
     "metadata": {},
     "output_type": "execute_result"
    }
   ],
   "source": [
    "X_train = X_train.to_numpy().reshape(-1, 1)\n",
    "model.fit(X_train, y_train)"
   ]
  },
  {
   "cell_type": "code",
   "execution_count": 52,
   "metadata": {
    "ExecuteTime": {
     "end_time": "2020-10-26T09:21:35.354892Z",
     "start_time": "2020-10-26T09:21:35.322403Z"
    }
   },
   "outputs": [
    {
     "data": {
      "text/plain": [
       "0.0072398103226701815"
      ]
     },
     "execution_count": 52,
     "metadata": {},
     "output_type": "execute_result"
    }
   ],
   "source": [
    "model.score(X_train, y_train)"
   ]
  },
  {
   "cell_type": "code",
   "execution_count": 53,
   "metadata": {
    "ExecuteTime": {
     "end_time": "2020-10-26T09:21:36.128612Z",
     "start_time": "2020-10-26T09:21:36.108719Z"
    }
   },
   "outputs": [],
   "source": [
    "X_test = X_test.to_numpy().reshape(-1, 1)\n",
    "y_pred = model.predict(X_test)"
   ]
  },
  {
   "cell_type": "code",
   "execution_count": 58,
   "metadata": {
    "ExecuteTime": {
     "end_time": "2020-10-26T09:24:42.395377Z",
     "start_time": "2020-10-26T09:24:40.400768Z"
    }
   },
   "outputs": [
    {
     "data": {
      "image/png": "[encoded data removed]",
      "text/plain": [
       "<Figure size 720x720 with 1 Axes>"
      ]
     },
     "metadata": {
      "needs_background": "light"
     },
     "output_type": "display_data"
    }
   ],
   "source": [
    "x = X.to_numpy().reshape(-1, 1)\n",
    "\n",
    "plt.figure(figsize=(10, 10))\n",
    "_ = plt.scatter(x, y, marker='.', label='All data')\n",
    "_ = plt.plot(x, model.predict(x), color='red', label='Prediction')\n",
    "_ = plt.xlabel('prior_tot_appr_val')\n",
    "_ = plt.ylabel('yy_pct_change')\n",
    "\n",
    "_ = plt.legend(loc='lower right')"
   ]
  },
  {
   "cell_type": "code",
   "execution_count": 60,
   "metadata": {
    "ExecuteTime": {
     "end_time": "2020-10-26T09:28:04.373268Z",
     "start_time": "2020-10-26T09:28:03.454254Z"
    }
   },
   "outputs": [
    {
     "data": {
      "image/png": "[encoded data removed]",
      "text/plain": [
       "<Figure size 720x720 with 1 Axes>"
      ]
     },
     "metadata": {
      "needs_background": "light"
     },
     "output_type": "display_data"
    }
   ],
   "source": [
    "plt.figure(figsize=(10, 10))\n",
    "_ = plt.scatter(y_test, y_pred, marker='.', label='Predicted and actual')\n",
    "_ = plt.plot([-1, 1], [-1, 1], color='black', label='Perfect corr. line')\n",
    "_ = plt.xlabel('Actual yy_pct_change')\n",
    "_ = plt.ylabel('Predicted yy_pct_change')\n",
    "\n",
    "_ = plt.legend(loc='lower right')"
   ]
  },
  {
   "cell_type": "code",
   "execution_count": 56,
   "metadata": {
    "ExecuteTime": {
     "end_time": "2020-10-26T09:22:36.198994Z",
     "start_time": "2020-10-26T09:22:36.178252Z"
    }
   },
   "outputs": [
    {
     "data": {
      "text/plain": [
       "0.007171698742160537"
      ]
     },
     "execution_count": 56,
     "metadata": {},
     "output_type": "execute_result"
    }
   ],
   "source": [
    "mean_squared_error(y_test, y_pred)"
   ]
  },
  {
   "cell_type": "code",
   "execution_count": 64,
   "metadata": {
    "ExecuteTime": {
     "end_time": "2020-10-26T09:52:51.567761Z",
     "start_time": "2020-10-26T09:52:51.545065Z"
    }
   },
   "outputs": [],
   "source": [
    "x = model.predict(X_train)\n",
    "y = y_train - x"
   ]
  },
  {
   "cell_type": "code",
   "execution_count": 65,
   "metadata": {
    "ExecuteTime": {
     "end_time": "2020-10-26T09:53:03.632600Z",
     "start_time": "2020-10-26T09:53:02.296550Z"
    }
   },
   "outputs": [
    {
     "data": {
      "image/png": "[encoded data removed]",
      "text/plain": [
       "<Figure size 720x720 with 1 Axes>"
      ]
     },
     "metadata": {
      "needs_background": "light"
     },
     "output_type": "display_data"
    }
   ],
   "source": [
    "plt.figure(figsize=(10, 10))\n",
    "_ = plt.scatter(x, y, marker='.', label='Residuals')\n",
    "_ = plt.xlabel('Fitted yy_pct_change (predicted)')\n",
    "_ = plt.ylabel('Residual')"
   ]
  },
  {
   "cell_type": "markdown",
   "metadata": {},
   "source": [
    "But since there is a wide range of appraised values, it might be best to focus on the percent change difference from last to this year, so we can observe if there is a pattern using all the samples."
   ]
  }
 ],
 "metadata": {
  "kernelspec": {
   "display_name": "hcad_pred",
   "language": "python",
   "name": "hcad_pred"
  },
  "language_info": {
   "codemirror_mode": {
    "name": "ipython",
    "version": 3
   },
   "file_extension": ".py",
   "mimetype": "text/x-python",
   "name": "python",
   "nbconvert_exporter": "python",
   "pygments_lexer": "ipython3",
   "version": "3.7.8"
  },
  "toc": {
   "base_numbering": 1,
   "nav_menu": {},
   "number_sections": true,
   "sideBar": true,
   "skip_h1_title": false,
   "title_cell": "Table of Contents",
   "title_sidebar": "Contents",
   "toc_cell": false,
   "toc_position": {},
   "toc_section_display": true,
   "toc_window_display": false
  }
 },
 "nbformat": 4,
 "nbformat_minor": 4
}
