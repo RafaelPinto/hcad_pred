{
 "cells": [
  {
   "cell_type": "markdown",
   "metadata": {},
   "source": [
    "# Find the comparables: extra_features.txt\n",
    "\n",
    "The file `extra_features.txt` contains important property information like number and quality of pools, detached garages, outbuildings, canopies, and more. Let's load this file and grab a subset with the important columns to continue our study."
   ]
  },
  {
   "cell_type": "code",
   "execution_count": 1,
   "metadata": {
    "ExecuteTime": {
     "end_time": "2020-07-18T12:49:07.212468Z",
     "start_time": "2020-07-18T12:49:07.185044Z"
    }
   },
   "outputs": [],
   "source": [
    "%load_ext autoreload\n",
    "%autoreload 2"
   ]
  },
  {
   "cell_type": "code",
   "execution_count": 2,
   "metadata": {
    "ExecuteTime": {
     "end_time": "2020-07-18T12:49:09.204595Z",
     "start_time": "2020-07-18T12:49:08.663637Z"
    }
   },
   "outputs": [],
   "source": [
    "from pathlib import Path\n",
    "import pickle\n",
    "\n",
    "import pandas as pd\n",
    "\n",
    "from src.definitions import ROOT_DIR\n",
    "from src.data.utils import Table, save_pickle"
   ]
  },
  {
   "cell_type": "code",
   "execution_count": 3,
   "metadata": {
    "ExecuteTime": {
     "end_time": "2020-07-18T12:49:09.784143Z",
     "start_time": "2020-07-18T12:49:09.766185Z"
    }
   },
   "outputs": [],
   "source": [
    "extra_features_fn = ROOT_DIR / 'data/external/2016/Real_building_land/extra_features.txt'\n",
    "assert extra_features_fn.exists()"
   ]
  },
  {
   "cell_type": "code",
   "execution_count": 4,
   "metadata": {
    "ExecuteTime": {
     "end_time": "2020-07-18T12:49:10.364091Z",
     "start_time": "2020-07-18T12:49:10.335790Z"
    }
   },
   "outputs": [],
   "source": [
    "extra_features = Table(extra_features_fn, '2016')"
   ]
  },
  {
   "cell_type": "code",
   "execution_count": 5,
   "metadata": {
    "ExecuteTime": {
     "end_time": "2020-07-18T12:49:12.544798Z",
     "start_time": "2020-07-18T12:49:10.943745Z"
    }
   },
   "outputs": [],
   "source": [
    "extra_features_df = extra_features.get_df()"
   ]
  },
  {
   "cell_type": "markdown",
   "metadata": {},
   "source": [
    "# Load accounts of interest\n",
    "Let's remove the account numbers that don't meet free-standing single-family home criteria that we found while processing the `building_res.txt` file."
   ]
  },
  {
   "cell_type": "code",
   "execution_count": 6,
   "metadata": {
    "ExecuteTime": {
     "end_time": "2020-07-18T12:49:15.967197Z",
     "start_time": "2020-07-18T12:49:15.941847Z"
    }
   },
   "outputs": [],
   "source": [
    "one_bld_in_acct_fn = ROOT_DIR / 'data/raw/2016/one_bld_in_acct.pickle'"
   ]
  },
  {
   "cell_type": "code",
   "execution_count": 7,
   "metadata": {
    "ExecuteTime": {
     "end_time": "2020-07-18T12:49:16.609090Z",
     "start_time": "2020-07-18T12:49:16.492447Z"
    }
   },
   "outputs": [],
   "source": [
    "with open(one_bld_in_acct_fn, 'rb') as f:\n",
    "    one_bld_in_acct = pickle.load(f)"
   ]
  },
  {
   "cell_type": "code",
   "execution_count": 8,
   "metadata": {
    "ExecuteTime": {
     "end_time": "2020-07-18T12:49:17.316248Z",
     "start_time": "2020-07-18T12:49:17.023609Z"
    }
   },
   "outputs": [],
   "source": [
    "cond0 = extra_features_df['acct'].isin(one_bld_in_acct)\n",
    "extra_features_df = extra_features_df.loc[cond0, :]"
   ]
  },
  {
   "cell_type": "code",
   "execution_count": 9,
   "metadata": {
    "ExecuteTime": {
     "end_time": "2020-07-18T12:49:17.708770Z",
     "start_time": "2020-07-18T12:49:17.677020Z"
    }
   },
   "outputs": [
    {
     "data": {
      "text/html": [
       "<div>\n",
       "<style scoped>\n",
       "    .dataframe tbody tr th:only-of-type {\n",
       "        vertical-align: middle;\n",
       "    }\n",
       "\n",
       "    .dataframe tbody tr th {\n",
       "        vertical-align: top;\n",
       "    }\n",
       "\n",
       "    .dataframe thead th {\n",
       "        text-align: right;\n",
       "    }\n",
       "</style>\n",
       "<table border=\"1\" class=\"dataframe\">\n",
       "  <thead>\n",
       "    <tr style=\"text-align: right;\">\n",
       "      <th></th>\n",
       "      <th>acct</th>\n",
       "      <th>bld_num</th>\n",
       "      <th>count</th>\n",
       "      <th>grade</th>\n",
       "      <th>cd</th>\n",
       "      <th>s_dscr</th>\n",
       "      <th>l_dscr</th>\n",
       "      <th>cat</th>\n",
       "      <th>dscr</th>\n",
       "      <th>note</th>\n",
       "      <th>uts</th>\n",
       "    </tr>\n",
       "  </thead>\n",
       "  <tbody>\n",
       "    <tr>\n",
       "      <th>1257</th>\n",
       "      <td>21440000001</td>\n",
       "      <td>0</td>\n",
       "      <td>2</td>\n",
       "      <td>4</td>\n",
       "      <td>RRS1</td>\n",
       "      <td>WDUtSh</td>\n",
       "      <td>Frame Utility Shed</td>\n",
       "      <td>OB</td>\n",
       "      <td>Outbuildings</td>\n",
       "      <td></td>\n",
       "      <td>110.0</td>\n",
       "    </tr>\n",
       "    <tr>\n",
       "      <th>1258</th>\n",
       "      <td>21440000001</td>\n",
       "      <td>0</td>\n",
       "      <td>2</td>\n",
       "      <td>4</td>\n",
       "      <td>RRS1</td>\n",
       "      <td>WDUtSh</td>\n",
       "      <td>Frame Utility Shed</td>\n",
       "      <td>OB</td>\n",
       "      <td>Outbuildings</td>\n",
       "      <td></td>\n",
       "      <td>130.0</td>\n",
       "    </tr>\n",
       "    <tr>\n",
       "      <th>1265</th>\n",
       "      <td>21480000002</td>\n",
       "      <td>1</td>\n",
       "      <td>1</td>\n",
       "      <td>4</td>\n",
       "      <td>ROGV</td>\n",
       "      <td>OtherRs</td>\n",
       "      <td>Residential Other Gross Value</td>\n",
       "      <td>MS</td>\n",
       "      <td>Miscellaneous</td>\n",
       "      <td>SALV GAR APMT.</td>\n",
       "      <td>0.5</td>\n",
       "    </tr>\n",
       "    <tr>\n",
       "      <th>1320</th>\n",
       "      <td>21650000007</td>\n",
       "      <td>0</td>\n",
       "      <td>1</td>\n",
       "      <td>4</td>\n",
       "      <td>RRP5</td>\n",
       "      <td>GnPool</td>\n",
       "      <td>Gunite Pool</td>\n",
       "      <td>PL</td>\n",
       "      <td>Pools</td>\n",
       "      <td></td>\n",
       "      <td>368.0</td>\n",
       "    </tr>\n",
       "    <tr>\n",
       "      <th>1323</th>\n",
       "      <td>21700000013</td>\n",
       "      <td>0</td>\n",
       "      <td>1</td>\n",
       "      <td>5</td>\n",
       "      <td>RRG1</td>\n",
       "      <td>FrmGar</td>\n",
       "      <td>Frame Detached Garage</td>\n",
       "      <td>GR</td>\n",
       "      <td>Garage</td>\n",
       "      <td></td>\n",
       "      <td>225.0</td>\n",
       "    </tr>\n",
       "  </tbody>\n",
       "</table>\n",
       "</div>"
      ],
      "text/plain": [
       "             acct  bld_num  count  grade      cd   s_dscr  \\\n",
       "1257  21440000001        0      2      4  RRS1     WDUtSh   \n",
       "1258  21440000001        0      2      4  RRS1     WDUtSh   \n",
       "1265  21480000002        1      1      4  ROGV    OtherRs   \n",
       "1320  21650000007        0      1      4  RRP5     GnPool   \n",
       "1323  21700000013        0      1      5  RRG1     FrmGar   \n",
       "\n",
       "                             l_dscr cat           dscr            note    uts  \n",
       "1257             Frame Utility Shed  OB   Outbuildings                  110.0  \n",
       "1258             Frame Utility Shed  OB   Outbuildings                  130.0  \n",
       "1265  Residential Other Gross Value  MS  Miscellaneous  SALV GAR APMT.    0.5  \n",
       "1320                    Gunite Pool  PL          Pools                  368.0  \n",
       "1323          Frame Detached Garage  GR         Garage                  225.0  "
      ]
     },
     "execution_count": 9,
     "metadata": {},
     "output_type": "execute_result"
    }
   ],
   "source": [
    "extra_features_df.head()"
   ]
  },
  {
   "cell_type": "code",
   "execution_count": 10,
   "metadata": {
    "ExecuteTime": {
     "end_time": "2020-07-18T12:49:18.429978Z",
     "start_time": "2020-07-18T12:49:18.410136Z"
    }
   },
   "outputs": [
    {
     "data": {
      "text/plain": [
       "Index(['acct', 'bld_num', 'count', 'grade', 'cd', 's_dscr', 'l_dscr', 'cat',\n",
       "       'dscr', 'note', 'uts'],\n",
       "      dtype='object')"
      ]
     },
     "execution_count": 10,
     "metadata": {},
     "output_type": "execute_result"
    }
   ],
   "source": [
    "extra_features_df.columns"
   ]
  },
  {
   "cell_type": "code",
   "execution_count": 11,
   "metadata": {
    "ExecuteTime": {
     "end_time": "2020-07-18T12:49:19.016610Z",
     "start_time": "2020-07-18T12:49:18.944891Z"
    }
   },
   "outputs": [
    {
     "data": {
      "text/plain": [
       "Garage                     203945\n",
       "Pools                      131083\n",
       "Outbuildings               121614\n",
       "Canopy                      85893\n",
       "Carport                     76646\n",
       "Foundation Defect           35431\n",
       "Miscellaneous               21902\n",
       "Boat Docks & Structures      2233\n",
       "Greenhouse                    645\n",
       "Solar                         439\n",
       "Spaces for Mobile Homes       375\n",
       "Skirting                      317\n",
       "Tennis Courts                 287\n",
       "Decking                        65\n",
       "Paving                         49\n",
       "Porches                        11\n",
       "Additions                       3\n",
       "Name: dscr, dtype: int64"
      ]
     },
     "execution_count": 11,
     "metadata": {},
     "output_type": "execute_result"
    }
   ],
   "source": [
    "extra_features_df.dscr.value_counts()"
   ]
  },
  {
   "cell_type": "markdown",
   "metadata": {},
   "source": [
    "# Grab slice of the extra features of interest\n",
    "With the value counts on the extra feature description performed above we can see that the majority of the features land in the top 6 categories. Let's filter out the rests of the columns."
   ]
  },
  {
   "cell_type": "code",
   "execution_count": 12,
   "metadata": {
    "ExecuteTime": {
     "end_time": "2020-07-18T12:49:20.595151Z",
     "start_time": "2020-07-18T12:49:20.526688Z"
    }
   },
   "outputs": [],
   "source": [
    "cols = extra_features_df.dscr.value_counts().head(6).index"
   ]
  },
  {
   "cell_type": "code",
   "execution_count": 13,
   "metadata": {
    "ExecuteTime": {
     "end_time": "2020-07-18T12:49:21.064800Z",
     "start_time": "2020-07-18T12:49:20.977774Z"
    }
   },
   "outputs": [],
   "source": [
    "cond0 = extra_features_df['dscr'].isin(cols)\n",
    "extra_features_df = extra_features_df.loc[cond0, :]"
   ]
  },
  {
   "cell_type": "markdown",
   "metadata": {},
   "source": [
    "# Build pivot tables for count and grade\n",
    "There appear to be two important values related to each extra feature:count and grade. Let's build individual pivot tables for each and merge them before saving them out."
   ]
  },
  {
   "cell_type": "code",
   "execution_count": 14,
   "metadata": {
    "ExecuteTime": {
     "end_time": "2020-07-18T12:49:22.599278Z",
     "start_time": "2020-07-18T12:49:22.051613Z"
    }
   },
   "outputs": [],
   "source": [
    "extra_features_pivot_count = extra_features_df.pivot_table(index='acct',\n",
    "                                                           columns='dscr',\n",
    "                                                           values='count')"
   ]
  },
  {
   "cell_type": "code",
   "execution_count": 15,
   "metadata": {
    "ExecuteTime": {
     "end_time": "2020-07-18T12:49:23.337239Z",
     "start_time": "2020-07-18T12:49:23.309817Z"
    }
   },
   "outputs": [
    {
     "data": {
      "text/html": [
       "<div>\n",
       "<style scoped>\n",
       "    .dataframe tbody tr th:only-of-type {\n",
       "        vertical-align: middle;\n",
       "    }\n",
       "\n",
       "    .dataframe tbody tr th {\n",
       "        vertical-align: top;\n",
       "    }\n",
       "\n",
       "    .dataframe thead th {\n",
       "        text-align: right;\n",
       "    }\n",
       "</style>\n",
       "<table border=\"1\" class=\"dataframe\">\n",
       "  <thead>\n",
       "    <tr style=\"text-align: right;\">\n",
       "      <th>dscr</th>\n",
       "      <th>Canopy</th>\n",
       "      <th>Carport</th>\n",
       "      <th>Foundation Defect</th>\n",
       "      <th>Garage</th>\n",
       "      <th>Outbuildings</th>\n",
       "      <th>Pools</th>\n",
       "    </tr>\n",
       "    <tr>\n",
       "      <th>acct</th>\n",
       "      <th></th>\n",
       "      <th></th>\n",
       "      <th></th>\n",
       "      <th></th>\n",
       "      <th></th>\n",
       "      <th></th>\n",
       "    </tr>\n",
       "  </thead>\n",
       "  <tbody>\n",
       "    <tr>\n",
       "      <th>21440000001</th>\n",
       "      <td>NaN</td>\n",
       "      <td>NaN</td>\n",
       "      <td>NaN</td>\n",
       "      <td>NaN</td>\n",
       "      <td>2.0</td>\n",
       "      <td>NaN</td>\n",
       "    </tr>\n",
       "    <tr>\n",
       "      <th>21650000007</th>\n",
       "      <td>NaN</td>\n",
       "      <td>NaN</td>\n",
       "      <td>NaN</td>\n",
       "      <td>NaN</td>\n",
       "      <td>NaN</td>\n",
       "      <td>1.0</td>\n",
       "    </tr>\n",
       "    <tr>\n",
       "      <th>21700000013</th>\n",
       "      <td>NaN</td>\n",
       "      <td>NaN</td>\n",
       "      <td>NaN</td>\n",
       "      <td>1.0</td>\n",
       "      <td>NaN</td>\n",
       "      <td>NaN</td>\n",
       "    </tr>\n",
       "    <tr>\n",
       "      <th>21750000013</th>\n",
       "      <td>NaN</td>\n",
       "      <td>NaN</td>\n",
       "      <td>NaN</td>\n",
       "      <td>2.0</td>\n",
       "      <td>NaN</td>\n",
       "      <td>NaN</td>\n",
       "    </tr>\n",
       "    <tr>\n",
       "      <th>22070000007</th>\n",
       "      <td>NaN</td>\n",
       "      <td>NaN</td>\n",
       "      <td>NaN</td>\n",
       "      <td>1.0</td>\n",
       "      <td>NaN</td>\n",
       "      <td>NaN</td>\n",
       "    </tr>\n",
       "  </tbody>\n",
       "</table>\n",
       "</div>"
      ],
      "text/plain": [
       "dscr         Canopy  Carport  Foundation Defect  Garage  Outbuildings  Pools\n",
       "acct                                                                        \n",
       "21440000001     NaN      NaN                NaN     NaN           2.0    NaN\n",
       "21650000007     NaN      NaN                NaN     NaN           NaN    1.0\n",
       "21700000013     NaN      NaN                NaN     1.0           NaN    NaN\n",
       "21750000013     NaN      NaN                NaN     2.0           NaN    NaN\n",
       "22070000007     NaN      NaN                NaN     1.0           NaN    NaN"
      ]
     },
     "execution_count": 15,
     "metadata": {},
     "output_type": "execute_result"
    }
   ],
   "source": [
    "extra_features_pivot_count.head()"
   ]
  },
  {
   "cell_type": "code",
   "execution_count": 16,
   "metadata": {
    "ExecuteTime": {
     "end_time": "2020-07-18T12:49:24.556940Z",
     "start_time": "2020-07-18T12:49:24.078088Z"
    }
   },
   "outputs": [],
   "source": [
    "extra_features_pivot_grade = extra_features_df.pivot_table(index='acct',\n",
    "                                                           columns='dscr',\n",
    "                                                           values='grade')"
   ]
  },
  {
   "cell_type": "code",
   "execution_count": 17,
   "metadata": {
    "ExecuteTime": {
     "end_time": "2020-07-18T12:49:24.688274Z",
     "start_time": "2020-07-18T12:49:24.664277Z"
    }
   },
   "outputs": [
    {
     "data": {
      "text/html": [
       "<div>\n",
       "<style scoped>\n",
       "    .dataframe tbody tr th:only-of-type {\n",
       "        vertical-align: middle;\n",
       "    }\n",
       "\n",
       "    .dataframe tbody tr th {\n",
       "        vertical-align: top;\n",
       "    }\n",
       "\n",
       "    .dataframe thead th {\n",
       "        text-align: right;\n",
       "    }\n",
       "</style>\n",
       "<table border=\"1\" class=\"dataframe\">\n",
       "  <thead>\n",
       "    <tr style=\"text-align: right;\">\n",
       "      <th>dscr</th>\n",
       "      <th>Canopy</th>\n",
       "      <th>Carport</th>\n",
       "      <th>Foundation Defect</th>\n",
       "      <th>Garage</th>\n",
       "      <th>Outbuildings</th>\n",
       "      <th>Pools</th>\n",
       "    </tr>\n",
       "    <tr>\n",
       "      <th>acct</th>\n",
       "      <th></th>\n",
       "      <th></th>\n",
       "      <th></th>\n",
       "      <th></th>\n",
       "      <th></th>\n",
       "      <th></th>\n",
       "    </tr>\n",
       "  </thead>\n",
       "  <tbody>\n",
       "    <tr>\n",
       "      <th>21440000001</th>\n",
       "      <td>NaN</td>\n",
       "      <td>NaN</td>\n",
       "      <td>NaN</td>\n",
       "      <td>NaN</td>\n",
       "      <td>4.0</td>\n",
       "      <td>NaN</td>\n",
       "    </tr>\n",
       "    <tr>\n",
       "      <th>21650000007</th>\n",
       "      <td>NaN</td>\n",
       "      <td>NaN</td>\n",
       "      <td>NaN</td>\n",
       "      <td>NaN</td>\n",
       "      <td>NaN</td>\n",
       "      <td>4.0</td>\n",
       "    </tr>\n",
       "    <tr>\n",
       "      <th>21700000013</th>\n",
       "      <td>NaN</td>\n",
       "      <td>NaN</td>\n",
       "      <td>NaN</td>\n",
       "      <td>5.0</td>\n",
       "      <td>NaN</td>\n",
       "      <td>NaN</td>\n",
       "    </tr>\n",
       "    <tr>\n",
       "      <th>21750000013</th>\n",
       "      <td>NaN</td>\n",
       "      <td>NaN</td>\n",
       "      <td>NaN</td>\n",
       "      <td>4.0</td>\n",
       "      <td>NaN</td>\n",
       "      <td>NaN</td>\n",
       "    </tr>\n",
       "    <tr>\n",
       "      <th>22070000007</th>\n",
       "      <td>NaN</td>\n",
       "      <td>NaN</td>\n",
       "      <td>NaN</td>\n",
       "      <td>5.0</td>\n",
       "      <td>NaN</td>\n",
       "      <td>NaN</td>\n",
       "    </tr>\n",
       "  </tbody>\n",
       "</table>\n",
       "</div>"
      ],
      "text/plain": [
       "dscr         Canopy  Carport  Foundation Defect  Garage  Outbuildings  Pools\n",
       "acct                                                                        \n",
       "21440000001     NaN      NaN                NaN     NaN           4.0    NaN\n",
       "21650000007     NaN      NaN                NaN     NaN           NaN    4.0\n",
       "21700000013     NaN      NaN                NaN     5.0           NaN    NaN\n",
       "21750000013     NaN      NaN                NaN     4.0           NaN    NaN\n",
       "22070000007     NaN      NaN                NaN     5.0           NaN    NaN"
      ]
     },
     "execution_count": 17,
     "metadata": {},
     "output_type": "execute_result"
    }
   ],
   "source": [
    "extra_features_pivot_grade.head()"
   ]
  },
  {
   "cell_type": "code",
   "execution_count": 18,
   "metadata": {
    "ExecuteTime": {
     "end_time": "2020-07-18T12:49:25.462588Z",
     "start_time": "2020-07-18T12:49:25.343905Z"
    }
   },
   "outputs": [],
   "source": [
    "extra_features_count_grade = extra_features_pivot_count.merge(extra_features_pivot_grade,\n",
    "                                                              how='inner',\n",
    "                                                              left_index=True,\n",
    "                                                              right_index=True,\n",
    "                                                              suffixes=('_count', '_grade'),\n",
    "                                                              validate='one_to_one')"
   ]
  },
  {
   "cell_type": "code",
   "execution_count": 19,
   "metadata": {
    "ExecuteTime": {
     "end_time": "2020-07-18T12:49:26.071101Z",
     "start_time": "2020-07-18T12:49:26.038244Z"
    }
   },
   "outputs": [
    {
     "data": {
      "text/html": [
       "<div>\n",
       "<style scoped>\n",
       "    .dataframe tbody tr th:only-of-type {\n",
       "        vertical-align: middle;\n",
       "    }\n",
       "\n",
       "    .dataframe tbody tr th {\n",
       "        vertical-align: top;\n",
       "    }\n",
       "\n",
       "    .dataframe thead th {\n",
       "        text-align: right;\n",
       "    }\n",
       "</style>\n",
       "<table border=\"1\" class=\"dataframe\">\n",
       "  <thead>\n",
       "    <tr style=\"text-align: right;\">\n",
       "      <th>dscr</th>\n",
       "      <th>Canopy_count</th>\n",
       "      <th>Carport_count</th>\n",
       "      <th>Foundation Defect_count</th>\n",
       "      <th>Garage_count</th>\n",
       "      <th>Outbuildings_count</th>\n",
       "      <th>Pools_count</th>\n",
       "      <th>Canopy_grade</th>\n",
       "      <th>Carport_grade</th>\n",
       "      <th>Foundation Defect_grade</th>\n",
       "      <th>Garage_grade</th>\n",
       "      <th>Outbuildings_grade</th>\n",
       "      <th>Pools_grade</th>\n",
       "    </tr>\n",
       "    <tr>\n",
       "      <th>acct</th>\n",
       "      <th></th>\n",
       "      <th></th>\n",
       "      <th></th>\n",
       "      <th></th>\n",
       "      <th></th>\n",
       "      <th></th>\n",
       "      <th></th>\n",
       "      <th></th>\n",
       "      <th></th>\n",
       "      <th></th>\n",
       "      <th></th>\n",
       "      <th></th>\n",
       "    </tr>\n",
       "  </thead>\n",
       "  <tbody>\n",
       "    <tr>\n",
       "      <th>21440000001</th>\n",
       "      <td>NaN</td>\n",
       "      <td>NaN</td>\n",
       "      <td>NaN</td>\n",
       "      <td>NaN</td>\n",
       "      <td>2.0</td>\n",
       "      <td>NaN</td>\n",
       "      <td>NaN</td>\n",
       "      <td>NaN</td>\n",
       "      <td>NaN</td>\n",
       "      <td>NaN</td>\n",
       "      <td>4.0</td>\n",
       "      <td>NaN</td>\n",
       "    </tr>\n",
       "    <tr>\n",
       "      <th>21650000007</th>\n",
       "      <td>NaN</td>\n",
       "      <td>NaN</td>\n",
       "      <td>NaN</td>\n",
       "      <td>NaN</td>\n",
       "      <td>NaN</td>\n",
       "      <td>1.0</td>\n",
       "      <td>NaN</td>\n",
       "      <td>NaN</td>\n",
       "      <td>NaN</td>\n",
       "      <td>NaN</td>\n",
       "      <td>NaN</td>\n",
       "      <td>4.0</td>\n",
       "    </tr>\n",
       "    <tr>\n",
       "      <th>21700000013</th>\n",
       "      <td>NaN</td>\n",
       "      <td>NaN</td>\n",
       "      <td>NaN</td>\n",
       "      <td>1.0</td>\n",
       "      <td>NaN</td>\n",
       "      <td>NaN</td>\n",
       "      <td>NaN</td>\n",
       "      <td>NaN</td>\n",
       "      <td>NaN</td>\n",
       "      <td>5.0</td>\n",
       "      <td>NaN</td>\n",
       "      <td>NaN</td>\n",
       "    </tr>\n",
       "    <tr>\n",
       "      <th>21750000013</th>\n",
       "      <td>NaN</td>\n",
       "      <td>NaN</td>\n",
       "      <td>NaN</td>\n",
       "      <td>2.0</td>\n",
       "      <td>NaN</td>\n",
       "      <td>NaN</td>\n",
       "      <td>NaN</td>\n",
       "      <td>NaN</td>\n",
       "      <td>NaN</td>\n",
       "      <td>4.0</td>\n",
       "      <td>NaN</td>\n",
       "      <td>NaN</td>\n",
       "    </tr>\n",
       "    <tr>\n",
       "      <th>22070000007</th>\n",
       "      <td>NaN</td>\n",
       "      <td>NaN</td>\n",
       "      <td>NaN</td>\n",
       "      <td>1.0</td>\n",
       "      <td>NaN</td>\n",
       "      <td>NaN</td>\n",
       "      <td>NaN</td>\n",
       "      <td>NaN</td>\n",
       "      <td>NaN</td>\n",
       "      <td>5.0</td>\n",
       "      <td>NaN</td>\n",
       "      <td>NaN</td>\n",
       "    </tr>\n",
       "  </tbody>\n",
       "</table>\n",
       "</div>"
      ],
      "text/plain": [
       "dscr         Canopy_count  Carport_count  Foundation Defect_count  \\\n",
       "acct                                                                \n",
       "21440000001           NaN            NaN                      NaN   \n",
       "21650000007           NaN            NaN                      NaN   \n",
       "21700000013           NaN            NaN                      NaN   \n",
       "21750000013           NaN            NaN                      NaN   \n",
       "22070000007           NaN            NaN                      NaN   \n",
       "\n",
       "dscr         Garage_count  Outbuildings_count  Pools_count  Canopy_grade  \\\n",
       "acct                                                                       \n",
       "21440000001           NaN                 2.0          NaN           NaN   \n",
       "21650000007           NaN                 NaN          1.0           NaN   \n",
       "21700000013           1.0                 NaN          NaN           NaN   \n",
       "21750000013           2.0                 NaN          NaN           NaN   \n",
       "22070000007           1.0                 NaN          NaN           NaN   \n",
       "\n",
       "dscr         Carport_grade  Foundation Defect_grade  Garage_grade  \\\n",
       "acct                                                                \n",
       "21440000001            NaN                      NaN           NaN   \n",
       "21650000007            NaN                      NaN           NaN   \n",
       "21700000013            NaN                      NaN           5.0   \n",
       "21750000013            NaN                      NaN           4.0   \n",
       "22070000007            NaN                      NaN           5.0   \n",
       "\n",
       "dscr         Outbuildings_grade  Pools_grade  \n",
       "acct                                          \n",
       "21440000001                 4.0          NaN  \n",
       "21650000007                 NaN          4.0  \n",
       "21700000013                 NaN          NaN  \n",
       "21750000013                 NaN          NaN  \n",
       "22070000007                 NaN          NaN  "
      ]
     },
     "execution_count": 19,
     "metadata": {},
     "output_type": "execute_result"
    }
   ],
   "source": [
    "extra_features_count_grade.head()"
   ]
  },
  {
   "cell_type": "code",
   "execution_count": 20,
   "metadata": {
    "ExecuteTime": {
     "end_time": "2020-07-18T12:49:26.987080Z",
     "start_time": "2020-07-18T12:49:26.911650Z"
    }
   },
   "outputs": [],
   "source": [
    "assert extra_features_count_grade.index.is_unique"
   ]
  },
  {
   "cell_type": "markdown",
   "metadata": {},
   "source": [
    "# Export real_acct"
   ]
  },
  {
   "cell_type": "code",
   "execution_count": 21,
   "metadata": {
    "ExecuteTime": {
     "end_time": "2020-07-18T12:49:28.091734Z",
     "start_time": "2020-07-18T12:49:28.007389Z"
    }
   },
   "outputs": [],
   "source": [
    "save_fn = ROOT_DIR / 'data/raw/2016/extra_features_count_grade.pickle'\n",
    "save_pickle(extra_features_count_grade, save_fn)"
   ]
  }
 ],
 "metadata": {
  "kernelspec": {
   "display_name": "hcad_pred",
   "language": "python",
   "name": "hcad_pred"
  },
  "language_info": {
   "codemirror_mode": {
    "name": "ipython",
    "version": 3
   },
   "file_extension": ".py",
   "mimetype": "text/x-python",
   "name": "python",
   "nbconvert_exporter": "python",
   "pygments_lexer": "ipython3",
   "version": "3.7.6"
  },
  "toc": {
   "base_numbering": 1,
   "nav_menu": {},
   "number_sections": true,
   "sideBar": true,
   "skip_h1_title": false,
   "title_cell": "Table of Contents",
   "title_sidebar": "Contents",
   "toc_cell": false,
   "toc_position": {},
   "toc_section_display": true,
   "toc_window_display": false
  }
 },
 "nbformat": 4,
 "nbformat_minor": 4
}
