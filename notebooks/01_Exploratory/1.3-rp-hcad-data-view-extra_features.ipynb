{
 "cells": [
  {
   "cell_type": "markdown",
   "metadata": {},
   "source": [
    "# Find the comparables: extra_features.txt\n",
    "\n",
    "The file `extra_features.txt` contains important property information like number and quality of pools, detached garages, outbuildings, canopies, and more. Let's load this file and grab a subset with the important columns to continue our study."
   ]
  },
  {
   "cell_type": "code",
   "execution_count": 1,
   "metadata": {
    "ExecuteTime": {
     "end_time": "2020-07-22T03:09:43.443310Z",
     "start_time": "2020-07-22T03:09:43.416715Z"
    }
   },
   "outputs": [],
   "source": [
    "%load_ext autoreload\n",
    "%autoreload 2"
   ]
  },
  {
   "cell_type": "code",
   "execution_count": 2,
   "metadata": {
    "ExecuteTime": {
     "end_time": "2020-07-22T03:09:44.223916Z",
     "start_time": "2020-07-22T03:09:43.845269Z"
    }
   },
   "outputs": [],
   "source": [
    "from pathlib import Path\n",
    "import pickle\n",
    "\n",
    "import pandas as pd\n",
    "\n",
    "from src.definitions import ROOT_DIR\n",
    "from src.data.utils import Table, save_pickle"
   ]
  },
  {
   "cell_type": "code",
   "execution_count": 3,
   "metadata": {
    "ExecuteTime": {
     "end_time": "2020-07-22T03:09:46.289630Z",
     "start_time": "2020-07-22T03:09:46.233076Z"
    }
   },
   "outputs": [],
   "source": [
    "extra_features_fn = ROOT_DIR / 'data/external/2016/Real_building_land/extra_features.txt'\n",
    "assert extra_features_fn.exists()"
   ]
  },
  {
   "cell_type": "code",
   "execution_count": 4,
   "metadata": {
    "ExecuteTime": {
     "end_time": "2020-07-22T03:09:49.410054Z",
     "start_time": "2020-07-22T03:09:49.388092Z"
    }
   },
   "outputs": [],
   "source": [
    "extra_features = Table(extra_features_fn, '2016')"
   ]
  },
  {
   "cell_type": "code",
   "execution_count": 5,
   "metadata": {
    "ExecuteTime": {
     "end_time": "2020-07-22T03:09:49.977969Z",
     "start_time": "2020-07-22T03:09:49.947631Z"
    }
   },
   "outputs": [
    {
     "data": {
      "text/plain": [
       "['acct',\n",
       " 'bld_num',\n",
       " 'count',\n",
       " 'grade',\n",
       " 'cd',\n",
       " 's_dscr',\n",
       " 'l_dscr',\n",
       " 'cat',\n",
       " 'dscr',\n",
       " 'note',\n",
       " 'uts']"
      ]
     },
     "execution_count": 5,
     "metadata": {},
     "output_type": "execute_result"
    }
   ],
   "source": [
    "extra_features.get_header()"
   ]
  },
  {
   "cell_type": "markdown",
   "metadata": {},
   "source": [
    "# Load accounts of interest\n",
    "Let's remove the account numbers that don't meet free-standing single-family home criteria that we found while processing the `building_res.txt` file."
   ]
  },
  {
   "cell_type": "code",
   "execution_count": 6,
   "metadata": {
    "ExecuteTime": {
     "end_time": "2020-07-22T03:10:07.923905Z",
     "start_time": "2020-07-22T03:10:07.095276Z"
    }
   },
   "outputs": [],
   "source": [
    "skiprows = extra_features.get_skiprows()"
   ]
  },
  {
   "cell_type": "code",
   "execution_count": 7,
   "metadata": {
    "ExecuteTime": {
     "end_time": "2020-07-22T03:10:23.131980Z",
     "start_time": "2020-07-22T03:10:22.098365Z"
    }
   },
   "outputs": [],
   "source": [
    "extra_features_df = extra_features.get_df(skiprows=skiprows)"
   ]
  },
  {
   "cell_type": "code",
   "execution_count": 8,
   "metadata": {
    "ExecuteTime": {
     "end_time": "2020-07-22T03:10:24.180081Z",
     "start_time": "2020-07-22T03:10:24.145898Z"
    }
   },
   "outputs": [
    {
     "data": {
      "text/html": [
       "<div>\n",
       "<style scoped>\n",
       "    .dataframe tbody tr th:only-of-type {\n",
       "        vertical-align: middle;\n",
       "    }\n",
       "\n",
       "    .dataframe tbody tr th {\n",
       "        vertical-align: top;\n",
       "    }\n",
       "\n",
       "    .dataframe thead th {\n",
       "        text-align: right;\n",
       "    }\n",
       "</style>\n",
       "<table border=\"1\" class=\"dataframe\">\n",
       "  <thead>\n",
       "    <tr style=\"text-align: right;\">\n",
       "      <th></th>\n",
       "      <th>acct</th>\n",
       "      <th>bld_num</th>\n",
       "      <th>count</th>\n",
       "      <th>grade</th>\n",
       "      <th>cd</th>\n",
       "      <th>s_dscr</th>\n",
       "      <th>l_dscr</th>\n",
       "      <th>cat</th>\n",
       "      <th>dscr</th>\n",
       "      <th>note</th>\n",
       "      <th>uts</th>\n",
       "    </tr>\n",
       "  </thead>\n",
       "  <tbody>\n",
       "    <tr>\n",
       "      <th>0</th>\n",
       "      <td>21440000001</td>\n",
       "      <td>0</td>\n",
       "      <td>2</td>\n",
       "      <td>4</td>\n",
       "      <td>RRS1</td>\n",
       "      <td>WDUtSh</td>\n",
       "      <td>Frame Utility Shed</td>\n",
       "      <td>OB</td>\n",
       "      <td>Outbuildings</td>\n",
       "      <td></td>\n",
       "      <td>110.0</td>\n",
       "    </tr>\n",
       "    <tr>\n",
       "      <th>1</th>\n",
       "      <td>21440000001</td>\n",
       "      <td>0</td>\n",
       "      <td>2</td>\n",
       "      <td>4</td>\n",
       "      <td>RRS1</td>\n",
       "      <td>WDUtSh</td>\n",
       "      <td>Frame Utility Shed</td>\n",
       "      <td>OB</td>\n",
       "      <td>Outbuildings</td>\n",
       "      <td></td>\n",
       "      <td>130.0</td>\n",
       "    </tr>\n",
       "    <tr>\n",
       "      <th>2</th>\n",
       "      <td>21480000002</td>\n",
       "      <td>1</td>\n",
       "      <td>1</td>\n",
       "      <td>4</td>\n",
       "      <td>ROGV</td>\n",
       "      <td>OtherRs</td>\n",
       "      <td>Residential Other Gross Value</td>\n",
       "      <td>MS</td>\n",
       "      <td>Miscellaneous</td>\n",
       "      <td>SALV GAR APMT.</td>\n",
       "      <td>0.5</td>\n",
       "    </tr>\n",
       "    <tr>\n",
       "      <th>3</th>\n",
       "      <td>21650000007</td>\n",
       "      <td>0</td>\n",
       "      <td>1</td>\n",
       "      <td>4</td>\n",
       "      <td>RRP5</td>\n",
       "      <td>GnPool</td>\n",
       "      <td>Gunite Pool</td>\n",
       "      <td>PL</td>\n",
       "      <td>Pools</td>\n",
       "      <td></td>\n",
       "      <td>368.0</td>\n",
       "    </tr>\n",
       "    <tr>\n",
       "      <th>4</th>\n",
       "      <td>21700000013</td>\n",
       "      <td>0</td>\n",
       "      <td>1</td>\n",
       "      <td>5</td>\n",
       "      <td>RRG1</td>\n",
       "      <td>FrmGar</td>\n",
       "      <td>Frame Detached Garage</td>\n",
       "      <td>GR</td>\n",
       "      <td>Garage</td>\n",
       "      <td></td>\n",
       "      <td>225.0</td>\n",
       "    </tr>\n",
       "  </tbody>\n",
       "</table>\n",
       "</div>"
      ],
      "text/plain": [
       "          acct  bld_num  count  grade      cd   s_dscr  \\\n",
       "0  21440000001        0      2      4  RRS1     WDUtSh   \n",
       "1  21440000001        0      2      4  RRS1     WDUtSh   \n",
       "2  21480000002        1      1      4  ROGV    OtherRs   \n",
       "3  21650000007        0      1      4  RRP5     GnPool   \n",
       "4  21700000013        0      1      5  RRG1     FrmGar   \n",
       "\n",
       "                          l_dscr cat           dscr            note    uts  \n",
       "0             Frame Utility Shed  OB   Outbuildings                  110.0  \n",
       "1             Frame Utility Shed  OB   Outbuildings                  130.0  \n",
       "2  Residential Other Gross Value  MS  Miscellaneous  SALV GAR APMT.    0.5  \n",
       "3                    Gunite Pool  PL          Pools                  368.0  \n",
       "4          Frame Detached Garage  GR         Garage                  225.0  "
      ]
     },
     "execution_count": 8,
     "metadata": {},
     "output_type": "execute_result"
    }
   ],
   "source": [
    "extra_features_df.head()"
   ]
  },
  {
   "cell_type": "code",
   "execution_count": 9,
   "metadata": {
    "ExecuteTime": {
     "end_time": "2020-07-22T03:10:36.398622Z",
     "start_time": "2020-07-22T03:10:36.286903Z"
    }
   },
   "outputs": [
    {
     "data": {
      "text/plain": [
       "Garage                     203945\n",
       "Pools                      131083\n",
       "Outbuildings               121614\n",
       "Canopy                      85893\n",
       "Carport                     76646\n",
       "Foundation Defect           35431\n",
       "Miscellaneous               21902\n",
       "Boat Docks & Structures      2233\n",
       "Greenhouse                    645\n",
       "Solar                         439\n",
       "Spaces for Mobile Homes       375\n",
       "Skirting                      317\n",
       "Tennis Courts                 287\n",
       "Decking                        65\n",
       "Paving                         49\n",
       "Porches                        11\n",
       "Additions                       3\n",
       "Name: dscr, dtype: int64"
      ]
     },
     "execution_count": 9,
     "metadata": {},
     "output_type": "execute_result"
    }
   ],
   "source": [
    "extra_features_df.dscr.value_counts()"
   ]
  },
  {
   "cell_type": "markdown",
   "metadata": {},
   "source": [
    "# Grab slice of the extra features of interest\n",
    "With the value counts on the extra feature description performed above we can see that the majority of the features land in the top 6 categories. Let's filter out the rests of the columns."
   ]
  },
  {
   "cell_type": "code",
   "execution_count": 10,
   "metadata": {
    "ExecuteTime": {
     "end_time": "2020-07-22T03:10:40.425777Z",
     "start_time": "2020-07-22T03:10:40.305383Z"
    }
   },
   "outputs": [],
   "source": [
    "cols = extra_features_df.dscr.value_counts().head(6).index"
   ]
  },
  {
   "cell_type": "code",
   "execution_count": 11,
   "metadata": {
    "ExecuteTime": {
     "end_time": "2020-07-22T03:10:43.904232Z",
     "start_time": "2020-07-22T03:10:43.835656Z"
    }
   },
   "outputs": [],
   "source": [
    "cond0 = extra_features_df['dscr'].isin(cols)\n",
    "extra_features_df = extra_features_df.loc[cond0, :]"
   ]
  },
  {
   "cell_type": "markdown",
   "metadata": {},
   "source": [
    "# Build pivot tables for count and grade\n",
    "There appear to be two important values related to each extra feature:count and grade. Let's build individual pivot tables for each and merge them before saving them out."
   ]
  },
  {
   "cell_type": "code",
   "execution_count": 12,
   "metadata": {
    "ExecuteTime": {
     "end_time": "2020-07-22T03:10:56.506208Z",
     "start_time": "2020-07-22T03:10:55.703799Z"
    }
   },
   "outputs": [],
   "source": [
    "extra_features_pivot_count = extra_features_df.pivot_table(index='acct',\n",
    "                                                           columns='dscr',\n",
    "                                                           values='count',\n",
    "                                                           fill_value=0)"
   ]
  },
  {
   "cell_type": "code",
   "execution_count": 13,
   "metadata": {
    "ExecuteTime": {
     "end_time": "2020-07-22T03:10:56.531786Z",
     "start_time": "2020-07-22T03:10:56.508024Z"
    }
   },
   "outputs": [
    {
     "data": {
      "text/html": [
       "<div>\n",
       "<style scoped>\n",
       "    .dataframe tbody tr th:only-of-type {\n",
       "        vertical-align: middle;\n",
       "    }\n",
       "\n",
       "    .dataframe tbody tr th {\n",
       "        vertical-align: top;\n",
       "    }\n",
       "\n",
       "    .dataframe thead th {\n",
       "        text-align: right;\n",
       "    }\n",
       "</style>\n",
       "<table border=\"1\" class=\"dataframe\">\n",
       "  <thead>\n",
       "    <tr style=\"text-align: right;\">\n",
       "      <th>dscr</th>\n",
       "      <th>Canopy</th>\n",
       "      <th>Carport</th>\n",
       "      <th>Foundation Defect</th>\n",
       "      <th>Garage</th>\n",
       "      <th>Outbuildings</th>\n",
       "      <th>Pools</th>\n",
       "    </tr>\n",
       "    <tr>\n",
       "      <th>acct</th>\n",
       "      <th></th>\n",
       "      <th></th>\n",
       "      <th></th>\n",
       "      <th></th>\n",
       "      <th></th>\n",
       "      <th></th>\n",
       "    </tr>\n",
       "  </thead>\n",
       "  <tbody>\n",
       "    <tr>\n",
       "      <th>21440000001</th>\n",
       "      <td>0</td>\n",
       "      <td>0</td>\n",
       "      <td>0</td>\n",
       "      <td>0</td>\n",
       "      <td>2</td>\n",
       "      <td>0</td>\n",
       "    </tr>\n",
       "    <tr>\n",
       "      <th>21650000007</th>\n",
       "      <td>0</td>\n",
       "      <td>0</td>\n",
       "      <td>0</td>\n",
       "      <td>0</td>\n",
       "      <td>0</td>\n",
       "      <td>1</td>\n",
       "    </tr>\n",
       "    <tr>\n",
       "      <th>21700000013</th>\n",
       "      <td>0</td>\n",
       "      <td>0</td>\n",
       "      <td>0</td>\n",
       "      <td>1</td>\n",
       "      <td>0</td>\n",
       "      <td>0</td>\n",
       "    </tr>\n",
       "    <tr>\n",
       "      <th>21750000013</th>\n",
       "      <td>0</td>\n",
       "      <td>0</td>\n",
       "      <td>0</td>\n",
       "      <td>2</td>\n",
       "      <td>0</td>\n",
       "      <td>0</td>\n",
       "    </tr>\n",
       "    <tr>\n",
       "      <th>22070000007</th>\n",
       "      <td>0</td>\n",
       "      <td>0</td>\n",
       "      <td>0</td>\n",
       "      <td>1</td>\n",
       "      <td>0</td>\n",
       "      <td>0</td>\n",
       "    </tr>\n",
       "  </tbody>\n",
       "</table>\n",
       "</div>"
      ],
      "text/plain": [
       "dscr         Canopy  Carport  Foundation Defect  Garage  Outbuildings  Pools\n",
       "acct                                                                        \n",
       "21440000001       0        0                  0       0             2      0\n",
       "21650000007       0        0                  0       0             0      1\n",
       "21700000013       0        0                  0       1             0      0\n",
       "21750000013       0        0                  0       2             0      0\n",
       "22070000007       0        0                  0       1             0      0"
      ]
     },
     "execution_count": 13,
     "metadata": {},
     "output_type": "execute_result"
    }
   ],
   "source": [
    "extra_features_pivot_count.head()"
   ]
  },
  {
   "cell_type": "code",
   "execution_count": 14,
   "metadata": {
    "ExecuteTime": {
     "end_time": "2020-07-22T03:10:57.394464Z",
     "start_time": "2020-07-22T03:10:56.911526Z"
    }
   },
   "outputs": [],
   "source": [
    "extra_features_pivot_grade = extra_features_df.pivot_table(index='acct',\n",
    "                                                           columns='dscr',\n",
    "                                                           values='grade')"
   ]
  },
  {
   "cell_type": "code",
   "execution_count": 15,
   "metadata": {
    "ExecuteTime": {
     "end_time": "2020-07-22T03:10:57.557956Z",
     "start_time": "2020-07-22T03:10:57.530711Z"
    }
   },
   "outputs": [
    {
     "data": {
      "text/html": [
       "<div>\n",
       "<style scoped>\n",
       "    .dataframe tbody tr th:only-of-type {\n",
       "        vertical-align: middle;\n",
       "    }\n",
       "\n",
       "    .dataframe tbody tr th {\n",
       "        vertical-align: top;\n",
       "    }\n",
       "\n",
       "    .dataframe thead th {\n",
       "        text-align: right;\n",
       "    }\n",
       "</style>\n",
       "<table border=\"1\" class=\"dataframe\">\n",
       "  <thead>\n",
       "    <tr style=\"text-align: right;\">\n",
       "      <th>dscr</th>\n",
       "      <th>Canopy</th>\n",
       "      <th>Carport</th>\n",
       "      <th>Foundation Defect</th>\n",
       "      <th>Garage</th>\n",
       "      <th>Outbuildings</th>\n",
       "      <th>Pools</th>\n",
       "    </tr>\n",
       "    <tr>\n",
       "      <th>acct</th>\n",
       "      <th></th>\n",
       "      <th></th>\n",
       "      <th></th>\n",
       "      <th></th>\n",
       "      <th></th>\n",
       "      <th></th>\n",
       "    </tr>\n",
       "  </thead>\n",
       "  <tbody>\n",
       "    <tr>\n",
       "      <th>21440000001</th>\n",
       "      <td>NaN</td>\n",
       "      <td>NaN</td>\n",
       "      <td>NaN</td>\n",
       "      <td>NaN</td>\n",
       "      <td>4.0</td>\n",
       "      <td>NaN</td>\n",
       "    </tr>\n",
       "    <tr>\n",
       "      <th>21650000007</th>\n",
       "      <td>NaN</td>\n",
       "      <td>NaN</td>\n",
       "      <td>NaN</td>\n",
       "      <td>NaN</td>\n",
       "      <td>NaN</td>\n",
       "      <td>4.0</td>\n",
       "    </tr>\n",
       "    <tr>\n",
       "      <th>21700000013</th>\n",
       "      <td>NaN</td>\n",
       "      <td>NaN</td>\n",
       "      <td>NaN</td>\n",
       "      <td>5.0</td>\n",
       "      <td>NaN</td>\n",
       "      <td>NaN</td>\n",
       "    </tr>\n",
       "    <tr>\n",
       "      <th>21750000013</th>\n",
       "      <td>NaN</td>\n",
       "      <td>NaN</td>\n",
       "      <td>NaN</td>\n",
       "      <td>4.0</td>\n",
       "      <td>NaN</td>\n",
       "      <td>NaN</td>\n",
       "    </tr>\n",
       "    <tr>\n",
       "      <th>22070000007</th>\n",
       "      <td>NaN</td>\n",
       "      <td>NaN</td>\n",
       "      <td>NaN</td>\n",
       "      <td>5.0</td>\n",
       "      <td>NaN</td>\n",
       "      <td>NaN</td>\n",
       "    </tr>\n",
       "  </tbody>\n",
       "</table>\n",
       "</div>"
      ],
      "text/plain": [
       "dscr         Canopy  Carport  Foundation Defect  Garage  Outbuildings  Pools\n",
       "acct                                                                        \n",
       "21440000001     NaN      NaN                NaN     NaN           4.0    NaN\n",
       "21650000007     NaN      NaN                NaN     NaN           NaN    4.0\n",
       "21700000013     NaN      NaN                NaN     5.0           NaN    NaN\n",
       "21750000013     NaN      NaN                NaN     4.0           NaN    NaN\n",
       "22070000007     NaN      NaN                NaN     5.0           NaN    NaN"
      ]
     },
     "execution_count": 15,
     "metadata": {},
     "output_type": "execute_result"
    }
   ],
   "source": [
    "extra_features_pivot_grade.head()"
   ]
  },
  {
   "cell_type": "code",
   "execution_count": 16,
   "metadata": {
    "ExecuteTime": {
     "end_time": "2020-07-22T03:10:58.339052Z",
     "start_time": "2020-07-22T03:10:58.228897Z"
    }
   },
   "outputs": [],
   "source": [
    "extra_features_count_grade = extra_features_pivot_count.merge(extra_features_pivot_grade,\n",
    "                                                              how='left',\n",
    "                                                              left_index=True,\n",
    "                                                              right_index=True,\n",
    "                                                              suffixes=('_count', '_grade'),\n",
    "                                                              validate='one_to_one')"
   ]
  },
  {
   "cell_type": "code",
   "execution_count": 17,
   "metadata": {
    "ExecuteTime": {
     "end_time": "2020-07-22T03:10:58.985607Z",
     "start_time": "2020-07-22T03:10:58.940520Z"
    }
   },
   "outputs": [
    {
     "data": {
      "text/html": [
       "<div>\n",
       "<style scoped>\n",
       "    .dataframe tbody tr th:only-of-type {\n",
       "        vertical-align: middle;\n",
       "    }\n",
       "\n",
       "    .dataframe tbody tr th {\n",
       "        vertical-align: top;\n",
       "    }\n",
       "\n",
       "    .dataframe thead th {\n",
       "        text-align: right;\n",
       "    }\n",
       "</style>\n",
       "<table border=\"1\" class=\"dataframe\">\n",
       "  <thead>\n",
       "    <tr style=\"text-align: right;\">\n",
       "      <th>dscr</th>\n",
       "      <th>Canopy_count</th>\n",
       "      <th>Carport_count</th>\n",
       "      <th>Foundation Defect_count</th>\n",
       "      <th>Garage_count</th>\n",
       "      <th>Outbuildings_count</th>\n",
       "      <th>Pools_count</th>\n",
       "      <th>Canopy_grade</th>\n",
       "      <th>Carport_grade</th>\n",
       "      <th>Foundation Defect_grade</th>\n",
       "      <th>Garage_grade</th>\n",
       "      <th>Outbuildings_grade</th>\n",
       "      <th>Pools_grade</th>\n",
       "    </tr>\n",
       "    <tr>\n",
       "      <th>acct</th>\n",
       "      <th></th>\n",
       "      <th></th>\n",
       "      <th></th>\n",
       "      <th></th>\n",
       "      <th></th>\n",
       "      <th></th>\n",
       "      <th></th>\n",
       "      <th></th>\n",
       "      <th></th>\n",
       "      <th></th>\n",
       "      <th></th>\n",
       "      <th></th>\n",
       "    </tr>\n",
       "  </thead>\n",
       "  <tbody>\n",
       "    <tr>\n",
       "      <th>21440000001</th>\n",
       "      <td>0</td>\n",
       "      <td>0</td>\n",
       "      <td>0</td>\n",
       "      <td>0</td>\n",
       "      <td>2</td>\n",
       "      <td>0</td>\n",
       "      <td>NaN</td>\n",
       "      <td>NaN</td>\n",
       "      <td>NaN</td>\n",
       "      <td>NaN</td>\n",
       "      <td>4.0</td>\n",
       "      <td>NaN</td>\n",
       "    </tr>\n",
       "    <tr>\n",
       "      <th>21650000007</th>\n",
       "      <td>0</td>\n",
       "      <td>0</td>\n",
       "      <td>0</td>\n",
       "      <td>0</td>\n",
       "      <td>0</td>\n",
       "      <td>1</td>\n",
       "      <td>NaN</td>\n",
       "      <td>NaN</td>\n",
       "      <td>NaN</td>\n",
       "      <td>NaN</td>\n",
       "      <td>NaN</td>\n",
       "      <td>4.0</td>\n",
       "    </tr>\n",
       "    <tr>\n",
       "      <th>21700000013</th>\n",
       "      <td>0</td>\n",
       "      <td>0</td>\n",
       "      <td>0</td>\n",
       "      <td>1</td>\n",
       "      <td>0</td>\n",
       "      <td>0</td>\n",
       "      <td>NaN</td>\n",
       "      <td>NaN</td>\n",
       "      <td>NaN</td>\n",
       "      <td>5.0</td>\n",
       "      <td>NaN</td>\n",
       "      <td>NaN</td>\n",
       "    </tr>\n",
       "    <tr>\n",
       "      <th>21750000013</th>\n",
       "      <td>0</td>\n",
       "      <td>0</td>\n",
       "      <td>0</td>\n",
       "      <td>2</td>\n",
       "      <td>0</td>\n",
       "      <td>0</td>\n",
       "      <td>NaN</td>\n",
       "      <td>NaN</td>\n",
       "      <td>NaN</td>\n",
       "      <td>4.0</td>\n",
       "      <td>NaN</td>\n",
       "      <td>NaN</td>\n",
       "    </tr>\n",
       "    <tr>\n",
       "      <th>22070000007</th>\n",
       "      <td>0</td>\n",
       "      <td>0</td>\n",
       "      <td>0</td>\n",
       "      <td>1</td>\n",
       "      <td>0</td>\n",
       "      <td>0</td>\n",
       "      <td>NaN</td>\n",
       "      <td>NaN</td>\n",
       "      <td>NaN</td>\n",
       "      <td>5.0</td>\n",
       "      <td>NaN</td>\n",
       "      <td>NaN</td>\n",
       "    </tr>\n",
       "  </tbody>\n",
       "</table>\n",
       "</div>"
      ],
      "text/plain": [
       "dscr         Canopy_count  Carport_count  Foundation Defect_count  \\\n",
       "acct                                                                \n",
       "21440000001             0              0                        0   \n",
       "21650000007             0              0                        0   \n",
       "21700000013             0              0                        0   \n",
       "21750000013             0              0                        0   \n",
       "22070000007             0              0                        0   \n",
       "\n",
       "dscr         Garage_count  Outbuildings_count  Pools_count  Canopy_grade  \\\n",
       "acct                                                                       \n",
       "21440000001             0                   2            0           NaN   \n",
       "21650000007             0                   0            1           NaN   \n",
       "21700000013             1                   0            0           NaN   \n",
       "21750000013             2                   0            0           NaN   \n",
       "22070000007             1                   0            0           NaN   \n",
       "\n",
       "dscr         Carport_grade  Foundation Defect_grade  Garage_grade  \\\n",
       "acct                                                                \n",
       "21440000001            NaN                      NaN           NaN   \n",
       "21650000007            NaN                      NaN           NaN   \n",
       "21700000013            NaN                      NaN           5.0   \n",
       "21750000013            NaN                      NaN           4.0   \n",
       "22070000007            NaN                      NaN           5.0   \n",
       "\n",
       "dscr         Outbuildings_grade  Pools_grade  \n",
       "acct                                          \n",
       "21440000001                 4.0          NaN  \n",
       "21650000007                 NaN          4.0  \n",
       "21700000013                 NaN          NaN  \n",
       "21750000013                 NaN          NaN  \n",
       "22070000007                 NaN          NaN  "
      ]
     },
     "execution_count": 17,
     "metadata": {},
     "output_type": "execute_result"
    }
   ],
   "source": [
    "extra_features_count_grade.head()"
   ]
  },
  {
   "cell_type": "code",
   "execution_count": 18,
   "metadata": {
    "ExecuteTime": {
     "end_time": "2020-07-22T03:11:04.980975Z",
     "start_time": "2020-07-22T03:11:04.923561Z"
    }
   },
   "outputs": [],
   "source": [
    "assert extra_features_count_grade.index.is_unique"
   ]
  },
  {
   "cell_type": "markdown",
   "metadata": {},
   "source": [
    "add `acct` column to make easier the merging process ahead"
   ]
  },
  {
   "cell_type": "code",
   "execution_count": 19,
   "metadata": {
    "ExecuteTime": {
     "end_time": "2020-07-22T03:11:08.298666Z",
     "start_time": "2020-07-22T03:11:08.255047Z"
    }
   },
   "outputs": [],
   "source": [
    "extra_features_count_grade.reset_index(inplace=True)"
   ]
  },
  {
   "cell_type": "markdown",
   "metadata": {},
   "source": [
    "# Export real_acct"
   ]
  },
  {
   "cell_type": "code",
   "execution_count": 20,
   "metadata": {
    "ExecuteTime": {
     "end_time": "2020-07-22T03:11:44.015123Z",
     "start_time": "2020-07-22T03:11:43.943731Z"
    }
   },
   "outputs": [],
   "source": [
    "save_fn = ROOT_DIR / 'data/raw/2016/extra_features_count_grade_comps.pickle'\n",
    "save_pickle(extra_features_count_grade, save_fn)"
   ]
  }
 ],
 "metadata": {
  "kernelspec": {
   "display_name": "hcad_pred",
   "language": "python",
   "name": "hcad_pred"
  },
  "language_info": {
   "codemirror_mode": {
    "name": "ipython",
    "version": 3
   },
   "file_extension": ".py",
   "mimetype": "text/x-python",
   "name": "python",
   "nbconvert_exporter": "python",
   "pygments_lexer": "ipython3",
   "version": "3.7.6"
  },
  "toc": {
   "base_numbering": 1,
   "nav_menu": {},
   "number_sections": true,
   "sideBar": true,
   "skip_h1_title": false,
   "title_cell": "Table of Contents",
   "title_sidebar": "Contents",
   "toc_cell": false,
   "toc_position": {},
   "toc_section_display": true,
   "toc_window_display": false
  }
 },
 "nbformat": 4,
 "nbformat_minor": 4
}
