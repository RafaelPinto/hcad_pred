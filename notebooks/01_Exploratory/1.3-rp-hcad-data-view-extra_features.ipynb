{
 "cells": [
  {
   "cell_type": "markdown",
   "metadata": {},
   "source": [
    "# Find the comparables: extra_features.txt\n",
    "\n",
    "The file `extra_features.txt` contains important property information like number and quality of pools, detached garages, outbuildings, canopies, and more. Let's load this file and grab a subset with the important columns to continue our study."
   ]
  },
  {
   "cell_type": "code",
   "execution_count": null,
   "metadata": {
    "ExecuteTime": {
     "end_time": "2020-07-18T16:09:33.323141Z",
     "start_time": "2020-07-18T16:09:33.300239Z"
    }
   },
   "outputs": [],
   "source": [
    "%load_ext autoreload\n",
    "%autoreload 2"
   ]
  },
  {
   "cell_type": "code",
   "execution_count": null,
   "metadata": {
    "ExecuteTime": {
     "end_time": "2020-07-18T16:09:33.989363Z",
     "start_time": "2020-07-18T16:09:33.325688Z"
    }
   },
   "outputs": [],
   "source": [
    "from pathlib import Path\n",
    "import pickle\n",
    "\n",
    "import pandas as pd\n",
    "\n",
    "from src.definitions import ROOT_DIR\n",
    "from src.data.utils import Table, save_pickle"
   ]
  },
  {
   "cell_type": "code",
   "execution_count": null,
   "metadata": {
    "ExecuteTime": {
     "end_time": "2020-07-18T16:09:34.004641Z",
     "start_time": "2020-07-18T16:09:33.991814Z"
    }
   },
   "outputs": [],
   "source": [
    "extra_features_fn = ROOT_DIR / 'data/external/2016/Real_building_land/extra_features.txt'\n",
    "assert extra_features_fn.exists()"
   ]
  },
  {
   "cell_type": "code",
   "execution_count": null,
   "metadata": {
    "ExecuteTime": {
     "end_time": "2020-07-18T16:09:34.019545Z",
     "start_time": "2020-07-18T16:09:34.007084Z"
    }
   },
   "outputs": [],
   "source": [
    "extra_features = Table(extra_features_fn, '2016')"
   ]
  },
  {
   "cell_type": "code",
   "execution_count": null,
   "metadata": {
    "ExecuteTime": {
     "end_time": "2020-07-18T16:09:35.650944Z",
     "start_time": "2020-07-18T16:09:34.020975Z"
    }
   },
   "outputs": [],
   "source": [
    "extra_features_df = extra_features.get_df()"
   ]
  },
  {
   "cell_type": "markdown",
   "metadata": {},
   "source": [
    "# Load accounts of interest\n",
    "Let's remove the account numbers that don't meet free-standing single-family home criteria that we found while processing the `building_res.txt` file."
   ]
  },
  {
   "cell_type": "code",
   "execution_count": null,
   "metadata": {
    "ExecuteTime": {
     "end_time": "2020-07-18T16:09:35.665884Z",
     "start_time": "2020-07-18T16:09:35.652411Z"
    }
   },
   "outputs": [],
   "source": [
    "one_bld_in_acct_fn = ROOT_DIR / 'data/raw/2016/one_bld_in_acct.pickle'"
   ]
  },
  {
   "cell_type": "code",
   "execution_count": null,
   "metadata": {
    "ExecuteTime": {
     "end_time": "2020-07-18T16:09:35.804632Z",
     "start_time": "2020-07-18T16:09:35.668410Z"
    }
   },
   "outputs": [],
   "source": [
    "with open(one_bld_in_acct_fn, 'rb') as f:\n",
    "    one_bld_in_acct = pickle.load(f)"
   ]
  },
  {
   "cell_type": "code",
   "execution_count": null,
   "metadata": {
    "ExecuteTime": {
     "end_time": "2020-07-18T16:09:36.124899Z",
     "start_time": "2020-07-18T16:09:35.809662Z"
    }
   },
   "outputs": [],
   "source": [
    "cond0 = extra_features_df['acct'].isin(one_bld_in_acct)\n",
    "extra_features_df = extra_features_df.loc[cond0, :]"
   ]
  },
  {
   "cell_type": "code",
   "execution_count": null,
   "metadata": {
    "ExecuteTime": {
     "end_time": "2020-07-18T16:09:36.170489Z",
     "start_time": "2020-07-18T16:09:36.126890Z"
    }
   },
   "outputs": [],
   "source": [
    "extra_features_df.head()"
   ]
  },
  {
   "cell_type": "code",
   "execution_count": null,
   "metadata": {
    "ExecuteTime": {
     "end_time": "2020-07-18T16:09:36.187588Z",
     "start_time": "2020-07-18T16:09:36.173493Z"
    }
   },
   "outputs": [],
   "source": [
    "extra_features_df.columns"
   ]
  },
  {
   "cell_type": "code",
   "execution_count": null,
   "metadata": {
    "ExecuteTime": {
     "end_time": "2020-07-18T16:09:36.265042Z",
     "start_time": "2020-07-18T16:09:36.189658Z"
    }
   },
   "outputs": [],
   "source": [
    "extra_features_df.dscr.value_counts()"
   ]
  },
  {
   "cell_type": "markdown",
   "metadata": {},
   "source": [
    "# Grab slice of the extra features of interest\n",
    "With the value counts on the extra feature description performed above we can see that the majority of the features land in the top 6 categories. Let's filter out the rests of the columns."
   ]
  },
  {
   "cell_type": "code",
   "execution_count": null,
   "metadata": {
    "ExecuteTime": {
     "end_time": "2020-07-18T16:09:36.353927Z",
     "start_time": "2020-07-18T16:09:36.267475Z"
    }
   },
   "outputs": [],
   "source": [
    "cols = extra_features_df.dscr.value_counts().head(6).index"
   ]
  },
  {
   "cell_type": "code",
   "execution_count": null,
   "metadata": {
    "ExecuteTime": {
     "end_time": "2020-07-18T16:09:36.438208Z",
     "start_time": "2020-07-18T16:09:36.355861Z"
    }
   },
   "outputs": [],
   "source": [
    "cond0 = extra_features_df['dscr'].isin(cols)\n",
    "extra_features_df = extra_features_df.loc[cond0, :]"
   ]
  },
  {
   "cell_type": "markdown",
   "metadata": {},
   "source": [
    "# Build pivot tables for count and grade\n",
    "There appear to be two important values related to each extra feature:count and grade. Let's build individual pivot tables for each and merge them before saving them out."
   ]
  },
  {
   "cell_type": "code",
   "execution_count": null,
   "metadata": {
    "ExecuteTime": {
     "end_time": "2020-07-18T16:09:37.161685Z",
     "start_time": "2020-07-18T16:09:36.439624Z"
    }
   },
   "outputs": [],
   "source": [
    "extra_features_pivot_count = extra_features_df.pivot_table(index='acct',\n",
    "                                                           columns='dscr',\n",
    "                                                           values='count',\n",
    "                                                           fill_value=0)"
   ]
  },
  {
   "cell_type": "code",
   "execution_count": null,
   "metadata": {
    "ExecuteTime": {
     "end_time": "2020-07-18T16:09:37.182823Z",
     "start_time": "2020-07-18T16:09:37.163544Z"
    }
   },
   "outputs": [],
   "source": [
    "extra_features_pivot_count.head()"
   ]
  },
  {
   "cell_type": "code",
   "execution_count": null,
   "metadata": {
    "ExecuteTime": {
     "end_time": "2020-07-18T16:09:37.688891Z",
     "start_time": "2020-07-18T16:09:37.186888Z"
    }
   },
   "outputs": [],
   "source": [
    "extra_features_pivot_grade = extra_features_df.pivot_table(index='acct',\n",
    "                                                           columns='dscr',\n",
    "                                                           values='grade')"
   ]
  },
  {
   "cell_type": "code",
   "execution_count": null,
   "metadata": {
    "ExecuteTime": {
     "end_time": "2020-07-18T16:09:37.712160Z",
     "start_time": "2020-07-18T16:09:37.690416Z"
    }
   },
   "outputs": [],
   "source": [
    "extra_features_pivot_grade.head()"
   ]
  },
  {
   "cell_type": "code",
   "execution_count": null,
   "metadata": {
    "ExecuteTime": {
     "end_time": "2020-07-18T16:09:37.839063Z",
     "start_time": "2020-07-18T16:09:37.714819Z"
    }
   },
   "outputs": [],
   "source": [
    "extra_features_count_grade = extra_features_pivot_count.merge(extra_features_pivot_grade,\n",
    "                                                              how='left',\n",
    "                                                              left_index=True,\n",
    "                                                              right_index=True,\n",
    "                                                              suffixes=('_count', '_grade'),\n",
    "                                                              validate='one_to_one')"
   ]
  },
  {
   "cell_type": "code",
   "execution_count": null,
   "metadata": {
    "ExecuteTime": {
     "end_time": "2020-07-18T16:09:37.868626Z",
     "start_time": "2020-07-18T16:09:37.841014Z"
    }
   },
   "outputs": [],
   "source": [
    "extra_features_count_grade.head()"
   ]
  },
  {
   "cell_type": "code",
   "execution_count": null,
   "metadata": {
    "ExecuteTime": {
     "end_time": "2020-07-18T16:09:37.881696Z",
     "start_time": "2020-07-18T16:09:37.870330Z"
    }
   },
   "outputs": [],
   "source": [
    "assert extra_features_count_grade.index.is_unique"
   ]
  },
  {
   "cell_type": "markdown",
   "metadata": {},
   "source": [
    "add `acct` column to make easier the merging process ahead"
   ]
  },
  {
   "cell_type": "code",
   "execution_count": null,
   "metadata": {
    "ExecuteTime": {
     "end_time": "2020-07-18T16:09:37.904643Z",
     "start_time": "2020-07-18T16:09:37.883170Z"
    }
   },
   "outputs": [],
   "source": [
    "extra_features_count_grade.reset_index(inplace=True)"
   ]
  },
  {
   "cell_type": "markdown",
   "metadata": {},
   "source": [
    "# Export real_acct"
   ]
  },
  {
   "cell_type": "code",
   "execution_count": null,
   "metadata": {
    "ExecuteTime": {
     "end_time": "2020-07-18T16:11:28.995342Z",
     "start_time": "2020-07-18T16:11:28.919748Z"
    }
   },
   "outputs": [],
   "source": [
    "save_fn = ROOT_DIR / 'data/raw/2016/extra_features_count_grade_comps.pickle'\n",
    "save_pickle(extra_features_count_grade, save_fn)"
   ]
  }
 ],
 "metadata": {
  "kernelspec": {
   "display_name": "hcad_pred",
   "language": "python",
   "name": "hcad_pred"
  },
  "language_info": {
   "codemirror_mode": {
    "name": "ipython",
    "version": 3
   },
   "file_extension": ".py",
   "mimetype": "text/x-python",
   "name": "python",
   "nbconvert_exporter": "python",
   "pygments_lexer": "ipython3",
   "version": "3.7.6"
  },
  "toc": {
   "base_numbering": 1,
   "nav_menu": {},
   "number_sections": true,
   "sideBar": true,
   "skip_h1_title": false,
   "title_cell": "Table of Contents",
   "title_sidebar": "Contents",
   "toc_cell": false,
   "toc_position": {},
   "toc_section_display": true,
   "toc_window_display": false
  }
 },
 "nbformat": 4,
 "nbformat_minor": 4
}
