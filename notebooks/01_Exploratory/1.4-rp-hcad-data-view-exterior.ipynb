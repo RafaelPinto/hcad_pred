{
 "cells": [
  {
   "cell_type": "markdown",
   "metadata": {},
   "source": [
    "# Find the comparables: exterior.txt\n",
    "\n",
    "The file `exterior.txt` contains important property information about the areas of the property sections. Let's load this file and grab a subset with the important columns to continue our study."
   ]
  },
  {
   "cell_type": "code",
   "execution_count": 1,
   "metadata": {
    "ExecuteTime": {
     "end_time": "2020-07-22T03:11:57.743803Z",
     "start_time": "2020-07-22T03:11:57.721908Z"
    }
   },
   "outputs": [],
   "source": [
    "%load_ext autoreload\n",
    "%autoreload 2"
   ]
  },
  {
   "cell_type": "code",
   "execution_count": 2,
   "metadata": {
    "ExecuteTime": {
     "end_time": "2020-07-22T03:11:58.401688Z",
     "start_time": "2020-07-22T03:11:58.018085Z"
    }
   },
   "outputs": [],
   "source": [
    "from pathlib import Path\n",
    "import pickle\n",
    "\n",
    "import pandas as pd\n",
    "\n",
    "from src.definitions import ROOT_DIR\n",
    "from src.data.utils import Table, save_pickle"
   ]
  },
  {
   "cell_type": "code",
   "execution_count": 3,
   "metadata": {
    "ExecuteTime": {
     "end_time": "2020-07-22T03:11:58.999416Z",
     "start_time": "2020-07-22T03:11:58.973713Z"
    }
   },
   "outputs": [],
   "source": [
    "exterior_fn = ROOT_DIR / 'data/external/2016/Real_building_land/exterior.txt'\n",
    "assert exterior_fn.exists()"
   ]
  },
  {
   "cell_type": "code",
   "execution_count": 4,
   "metadata": {
    "ExecuteTime": {
     "end_time": "2020-07-22T03:11:59.760920Z",
     "start_time": "2020-07-22T03:11:59.733437Z"
    }
   },
   "outputs": [],
   "source": [
    "exterior = Table(exterior_fn, '2016')"
   ]
  },
  {
   "cell_type": "markdown",
   "metadata": {},
   "source": [
    "# Load accounts of interest\n",
    "Let's remove the account numbers that don't meet free-standing single-family home criteria that we found while processing the `building_res.txt` file."
   ]
  },
  {
   "cell_type": "code",
   "execution_count": 5,
   "metadata": {
    "ExecuteTime": {
     "end_time": "2020-07-22T03:12:44.372020Z",
     "start_time": "2020-07-22T03:12:41.073846Z"
    }
   },
   "outputs": [],
   "source": [
    "skiprows = exterior.get_skiprows()"
   ]
  },
  {
   "cell_type": "code",
   "execution_count": 6,
   "metadata": {
    "ExecuteTime": {
     "end_time": "2020-07-22T03:13:12.120155Z",
     "start_time": "2020-07-22T03:13:09.287773Z"
    }
   },
   "outputs": [],
   "source": [
    "exterior_df = exterior.get_df(skiprows=skiprows)"
   ]
  },
  {
   "cell_type": "code",
   "execution_count": 7,
   "metadata": {
    "ExecuteTime": {
     "end_time": "2020-07-22T03:13:12.150677Z",
     "start_time": "2020-07-22T03:13:12.121989Z"
    }
   },
   "outputs": [
    {
     "data": {
      "text/html": [
       "<div>\n",
       "<style scoped>\n",
       "    .dataframe tbody tr th:only-of-type {\n",
       "        vertical-align: middle;\n",
       "    }\n",
       "\n",
       "    .dataframe tbody tr th {\n",
       "        vertical-align: top;\n",
       "    }\n",
       "\n",
       "    .dataframe thead th {\n",
       "        text-align: right;\n",
       "    }\n",
       "</style>\n",
       "<table border=\"1\" class=\"dataframe\">\n",
       "  <thead>\n",
       "    <tr style=\"text-align: right;\">\n",
       "      <th></th>\n",
       "      <th>acct</th>\n",
       "      <th>bld_num</th>\n",
       "      <th>sar_cd</th>\n",
       "      <th>sar_dscr</th>\n",
       "      <th>area</th>\n",
       "    </tr>\n",
       "  </thead>\n",
       "  <tbody>\n",
       "    <tr>\n",
       "      <th>0</th>\n",
       "      <td>101660000018</td>\n",
       "      <td>1</td>\n",
       "      <td>BAU</td>\n",
       "      <td>BASE AREA UPR</td>\n",
       "      <td>592</td>\n",
       "    </tr>\n",
       "    <tr>\n",
       "      <th>1</th>\n",
       "      <td>101660000018</td>\n",
       "      <td>1</td>\n",
       "      <td>BAU</td>\n",
       "      <td>BASE AREA UPR</td>\n",
       "      <td>592</td>\n",
       "    </tr>\n",
       "    <tr>\n",
       "      <th>2</th>\n",
       "      <td>101660000018</td>\n",
       "      <td>1</td>\n",
       "      <td>FSU</td>\n",
       "      <td>ONE STORY FRAME UPR</td>\n",
       "      <td>96</td>\n",
       "    </tr>\n",
       "    <tr>\n",
       "      <th>3</th>\n",
       "      <td>101660000033</td>\n",
       "      <td>1</td>\n",
       "      <td>FSP</td>\n",
       "      <td>ONE STORY FRAME PRI</td>\n",
       "      <td>271</td>\n",
       "    </tr>\n",
       "    <tr>\n",
       "      <th>4</th>\n",
       "      <td>101660000033</td>\n",
       "      <td>1</td>\n",
       "      <td>OMP</td>\n",
       "      <td>OPEN MAS PORCH PRI</td>\n",
       "      <td>130</td>\n",
       "    </tr>\n",
       "  </tbody>\n",
       "</table>\n",
       "</div>"
      ],
      "text/plain": [
       "           acct  bld_num sar_cd             sar_dscr  area\n",
       "0  101660000018        1    BAU        BASE AREA UPR   592\n",
       "1  101660000018        1    BAU        BASE AREA UPR   592\n",
       "2  101660000018        1    FSU  ONE STORY FRAME UPR    96\n",
       "3  101660000033        1    FSP  ONE STORY FRAME PRI   271\n",
       "4  101660000033        1    OMP   OPEN MAS PORCH PRI   130"
      ]
     },
     "execution_count": 7,
     "metadata": {},
     "output_type": "execute_result"
    }
   ],
   "source": [
    "exterior_df.head()"
   ]
  },
  {
   "cell_type": "code",
   "execution_count": 8,
   "metadata": {
    "ExecuteTime": {
     "end_time": "2020-07-22T03:13:15.292149Z",
     "start_time": "2020-07-22T03:13:14.958989Z"
    }
   },
   "outputs": [
    {
     "data": {
      "text/plain": [
       "BASE AREA PRI           958579\n",
       "OPEN FRAME PORCH PRI    714587\n",
       "MAS/BRK GARAGE PRI      560301\n",
       "OPEN MAS PORCH PRI      429101\n",
       "BASE AREA UPR           346749\n",
       "ONE STORY MAS PRI       267074\n",
       "ONE STORY FRAME UPR     129798\n",
       "ONE STORY FRAME PRI     121991\n",
       "FRAME GARAGE PRI        117535\n",
       "MAS/CONC PATIO PRI      116876\n",
       "CARPORT PRI              40416\n",
       "CANOPY PRI               40183\n",
       "WOOD DECK PRI            35478\n",
       "ONE STORY MAS UPR        33511\n",
       "FRAME OVERHANG UPR       29155\n",
       "Name: sar_dscr, dtype: int64"
      ]
     },
     "execution_count": 8,
     "metadata": {},
     "output_type": "execute_result"
    }
   ],
   "source": [
    "exterior_df.sar_dscr.value_counts().head(15)"
   ]
  },
  {
   "cell_type": "markdown",
   "metadata": {},
   "source": [
    "# Grab slice of the exterior features of interest\n",
    "With the value counts on the exterior features description performed above we can see that the majority of the features land in the top 10 categories. Let's filter out the rests of the columns."
   ]
  },
  {
   "cell_type": "code",
   "execution_count": 9,
   "metadata": {
    "ExecuteTime": {
     "end_time": "2020-07-22T03:13:22.014777Z",
     "start_time": "2020-07-22T03:13:21.709923Z"
    }
   },
   "outputs": [],
   "source": [
    "cols = exterior_df.sar_dscr.value_counts().head(10).index"
   ]
  },
  {
   "cell_type": "code",
   "execution_count": 10,
   "metadata": {
    "ExecuteTime": {
     "end_time": "2020-07-22T03:13:22.639774Z",
     "start_time": "2020-07-22T03:13:22.401824Z"
    }
   },
   "outputs": [],
   "source": [
    "cond0 = exterior_df['sar_dscr'].isin(cols)\n",
    "exterior_df = exterior_df.loc[cond0, :]"
   ]
  },
  {
   "cell_type": "markdown",
   "metadata": {},
   "source": [
    "# Build pivot table\n",
    "Let's build a pivot table with the account number (`acct`) as index, surface area `sar_dscr` as column, and `area` as values."
   ]
  },
  {
   "cell_type": "code",
   "execution_count": 11,
   "metadata": {
    "ExecuteTime": {
     "end_time": "2020-07-22T03:13:29.350937Z",
     "start_time": "2020-07-22T03:13:25.536304Z"
    }
   },
   "outputs": [],
   "source": [
    "exterior_pivot = exterior_df.pivot_table(index='acct',\n",
    "                                         columns='sar_dscr',\n",
    "                                         values='area',\n",
    "                                         fill_value=0)"
   ]
  },
  {
   "cell_type": "code",
   "execution_count": 12,
   "metadata": {
    "ExecuteTime": {
     "end_time": "2020-07-22T03:13:29.380961Z",
     "start_time": "2020-07-22T03:13:29.353255Z"
    }
   },
   "outputs": [
    {
     "data": {
      "text/html": [
       "<div>\n",
       "<style scoped>\n",
       "    .dataframe tbody tr th:only-of-type {\n",
       "        vertical-align: middle;\n",
       "    }\n",
       "\n",
       "    .dataframe tbody tr th {\n",
       "        vertical-align: top;\n",
       "    }\n",
       "\n",
       "    .dataframe thead th {\n",
       "        text-align: right;\n",
       "    }\n",
       "</style>\n",
       "<table border=\"1\" class=\"dataframe\">\n",
       "  <thead>\n",
       "    <tr style=\"text-align: right;\">\n",
       "      <th>sar_dscr</th>\n",
       "      <th>BASE AREA PRI</th>\n",
       "      <th>BASE AREA UPR</th>\n",
       "      <th>FRAME GARAGE PRI</th>\n",
       "      <th>MAS/BRK GARAGE PRI</th>\n",
       "      <th>MAS/CONC PATIO PRI</th>\n",
       "      <th>ONE STORY FRAME PRI</th>\n",
       "      <th>ONE STORY FRAME UPR</th>\n",
       "      <th>ONE STORY MAS PRI</th>\n",
       "      <th>OPEN FRAME PORCH PRI</th>\n",
       "      <th>OPEN MAS PORCH PRI</th>\n",
       "    </tr>\n",
       "    <tr>\n",
       "      <th>acct</th>\n",
       "      <th></th>\n",
       "      <th></th>\n",
       "      <th></th>\n",
       "      <th></th>\n",
       "      <th></th>\n",
       "      <th></th>\n",
       "      <th></th>\n",
       "      <th></th>\n",
       "      <th></th>\n",
       "      <th></th>\n",
       "    </tr>\n",
       "  </thead>\n",
       "  <tbody>\n",
       "    <tr>\n",
       "      <th>21440000001</th>\n",
       "      <td>1658.0</td>\n",
       "      <td>879.0</td>\n",
       "      <td>0.0</td>\n",
       "      <td>0.0</td>\n",
       "      <td>0.0</td>\n",
       "      <td>0.0</td>\n",
       "      <td>0.0</td>\n",
       "      <td>0.0</td>\n",
       "      <td>80.5</td>\n",
       "      <td>0.0</td>\n",
       "    </tr>\n",
       "    <tr>\n",
       "      <th>21470000008</th>\n",
       "      <td>1000.0</td>\n",
       "      <td>0.0</td>\n",
       "      <td>0.0</td>\n",
       "      <td>0.0</td>\n",
       "      <td>0.0</td>\n",
       "      <td>0.0</td>\n",
       "      <td>0.0</td>\n",
       "      <td>0.0</td>\n",
       "      <td>0.0</td>\n",
       "      <td>0.0</td>\n",
       "    </tr>\n",
       "    <tr>\n",
       "      <th>21480000002</th>\n",
       "      <td>1496.0</td>\n",
       "      <td>0.0</td>\n",
       "      <td>0.0</td>\n",
       "      <td>0.0</td>\n",
       "      <td>0.0</td>\n",
       "      <td>0.0</td>\n",
       "      <td>0.0</td>\n",
       "      <td>0.0</td>\n",
       "      <td>182.0</td>\n",
       "      <td>0.0</td>\n",
       "    </tr>\n",
       "    <tr>\n",
       "      <th>21650000007</th>\n",
       "      <td>1517.0</td>\n",
       "      <td>1870.0</td>\n",
       "      <td>0.0</td>\n",
       "      <td>529.0</td>\n",
       "      <td>0.0</td>\n",
       "      <td>0.0</td>\n",
       "      <td>0.0</td>\n",
       "      <td>0.0</td>\n",
       "      <td>138.0</td>\n",
       "      <td>36.0</td>\n",
       "    </tr>\n",
       "    <tr>\n",
       "      <th>21650000011</th>\n",
       "      <td>1508.0</td>\n",
       "      <td>0.0</td>\n",
       "      <td>420.0</td>\n",
       "      <td>0.0</td>\n",
       "      <td>0.0</td>\n",
       "      <td>0.0</td>\n",
       "      <td>0.0</td>\n",
       "      <td>0.0</td>\n",
       "      <td>0.0</td>\n",
       "      <td>0.0</td>\n",
       "    </tr>\n",
       "  </tbody>\n",
       "</table>\n",
       "</div>"
      ],
      "text/plain": [
       "sar_dscr     BASE AREA PRI  BASE AREA UPR  FRAME GARAGE PRI  \\\n",
       "acct                                                          \n",
       "21440000001         1658.0          879.0               0.0   \n",
       "21470000008         1000.0            0.0               0.0   \n",
       "21480000002         1496.0            0.0               0.0   \n",
       "21650000007         1517.0         1870.0               0.0   \n",
       "21650000011         1508.0            0.0             420.0   \n",
       "\n",
       "sar_dscr     MAS/BRK GARAGE PRI  MAS/CONC PATIO PRI  ONE STORY FRAME PRI  \\\n",
       "acct                                                                       \n",
       "21440000001                 0.0                 0.0                  0.0   \n",
       "21470000008                 0.0                 0.0                  0.0   \n",
       "21480000002                 0.0                 0.0                  0.0   \n",
       "21650000007               529.0                 0.0                  0.0   \n",
       "21650000011                 0.0                 0.0                  0.0   \n",
       "\n",
       "sar_dscr     ONE STORY FRAME UPR  ONE STORY MAS PRI  OPEN FRAME PORCH PRI  \\\n",
       "acct                                                                        \n",
       "21440000001                  0.0                0.0                  80.5   \n",
       "21470000008                  0.0                0.0                   0.0   \n",
       "21480000002                  0.0                0.0                 182.0   \n",
       "21650000007                  0.0                0.0                 138.0   \n",
       "21650000011                  0.0                0.0                   0.0   \n",
       "\n",
       "sar_dscr     OPEN MAS PORCH PRI  \n",
       "acct                             \n",
       "21440000001                 0.0  \n",
       "21470000008                 0.0  \n",
       "21480000002                 0.0  \n",
       "21650000007                36.0  \n",
       "21650000011                 0.0  "
      ]
     },
     "execution_count": 12,
     "metadata": {},
     "output_type": "execute_result"
    }
   ],
   "source": [
    "exterior_pivot.head()"
   ]
  },
  {
   "cell_type": "markdown",
   "metadata": {},
   "source": [
    "add `acct` column to make easier the merging process ahead"
   ]
  },
  {
   "cell_type": "code",
   "execution_count": 13,
   "metadata": {
    "ExecuteTime": {
     "end_time": "2020-07-22T03:13:34.605699Z",
     "start_time": "2020-07-22T03:13:34.580763Z"
    }
   },
   "outputs": [],
   "source": [
    "exterior_pivot.reset_index(inplace=True)"
   ]
  },
  {
   "cell_type": "code",
   "execution_count": 14,
   "metadata": {
    "ExecuteTime": {
     "end_time": "2020-07-22T03:13:36.819254Z",
     "start_time": "2020-07-22T03:13:36.704891Z"
    }
   },
   "outputs": [],
   "source": [
    "assert exterior_pivot['acct'].is_unique"
   ]
  },
  {
   "cell_type": "markdown",
   "metadata": {},
   "source": [
    "# Export real_acct"
   ]
  },
  {
   "cell_type": "code",
   "execution_count": 15,
   "metadata": {
    "ExecuteTime": {
     "end_time": "2020-07-22T03:13:38.433253Z",
     "start_time": "2020-07-22T03:13:38.356277Z"
    }
   },
   "outputs": [],
   "source": [
    "save_fn = ROOT_DIR / 'data/raw/2016/exterior_comps.pickle'\n",
    "save_pickle(exterior_pivot, save_fn)"
   ]
  }
 ],
 "metadata": {
  "kernelspec": {
   "display_name": "hcad_pred",
   "language": "python",
   "name": "hcad_pred"
  },
  "language_info": {
   "codemirror_mode": {
    "name": "ipython",
    "version": 3
   },
   "file_extension": ".py",
   "mimetype": "text/x-python",
   "name": "python",
   "nbconvert_exporter": "python",
   "pygments_lexer": "ipython3",
   "version": "3.7.6"
  },
  "toc": {
   "base_numbering": 1,
   "nav_menu": {},
   "number_sections": true,
   "sideBar": true,
   "skip_h1_title": false,
   "title_cell": "Table of Contents",
   "title_sidebar": "Contents",
   "toc_cell": false,
   "toc_position": {},
   "toc_section_display": true,
   "toc_window_display": false
  }
 },
 "nbformat": 4,
 "nbformat_minor": 4
}
