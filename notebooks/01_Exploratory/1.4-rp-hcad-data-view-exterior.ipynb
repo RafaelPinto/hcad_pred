{
 "cells": [
  {
   "cell_type": "markdown",
   "metadata": {},
   "source": [
    "# Find the comparables: exterior.txt\n",
    "\n",
    "The file `exterior.txt` contains important property information about the areas of the property sections. Let's load this file and grab a subset with the important columns to continue our study."
   ]
  },
  {
   "cell_type": "code",
   "execution_count": 1,
   "metadata": {
    "ExecuteTime": {
     "end_time": "2020-07-28T10:53:45.019114Z",
     "start_time": "2020-07-28T10:53:44.989884Z"
    }
   },
   "outputs": [],
   "source": [
    "%load_ext autoreload\n",
    "%autoreload 2"
   ]
  },
  {
   "cell_type": "code",
   "execution_count": 2,
   "metadata": {
    "ExecuteTime": {
     "end_time": "2020-07-28T10:53:45.413264Z",
     "start_time": "2020-07-28T10:53:45.021709Z"
    }
   },
   "outputs": [],
   "source": [
    "from pathlib import Path\n",
    "import pickle\n",
    "\n",
    "import pandas as pd\n",
    "\n",
    "from src.definitions import ROOT_DIR\n",
    "from src.data.utils import Table, save_pickle"
   ]
  },
  {
   "cell_type": "code",
   "execution_count": 3,
   "metadata": {
    "ExecuteTime": {
     "end_time": "2020-07-28T10:53:45.430991Z",
     "start_time": "2020-07-28T10:53:45.415138Z"
    }
   },
   "outputs": [],
   "source": [
    "exterior_fn = ROOT_DIR / 'data/external/2016/Real_building_land/exterior.txt'\n",
    "assert exterior_fn.exists()"
   ]
  },
  {
   "cell_type": "code",
   "execution_count": 4,
   "metadata": {
    "ExecuteTime": {
     "end_time": "2020-07-28T10:53:45.447396Z",
     "start_time": "2020-07-28T10:53:45.433617Z"
    }
   },
   "outputs": [],
   "source": [
    "exterior = Table(exterior_fn, '2016')"
   ]
  },
  {
   "cell_type": "markdown",
   "metadata": {},
   "source": [
    "# Load accounts of interest\n",
    "Let's remove the account numbers that don't meet free-standing single-family home criteria that we found while processing the `building_res.txt` file."
   ]
  },
  {
   "cell_type": "code",
   "execution_count": 5,
   "metadata": {
    "ExecuteTime": {
     "end_time": "2020-07-28T10:53:47.753463Z",
     "start_time": "2020-07-28T10:53:45.448882Z"
    }
   },
   "outputs": [],
   "source": [
    "skiprows = exterior.get_skiprows()"
   ]
  },
  {
   "cell_type": "code",
   "execution_count": 6,
   "metadata": {
    "ExecuteTime": {
     "end_time": "2020-07-28T10:53:50.562892Z",
     "start_time": "2020-07-28T10:53:47.755223Z"
    }
   },
   "outputs": [],
   "source": [
    "exterior_df = exterior.get_df(skiprows=skiprows)"
   ]
  },
  {
   "cell_type": "code",
   "execution_count": 7,
   "metadata": {
    "ExecuteTime": {
     "end_time": "2020-07-28T10:53:50.598986Z",
     "start_time": "2020-07-28T10:53:50.567499Z"
    }
   },
   "outputs": [
    {
     "data": {
      "text/html": [
       "<div>\n",
       "<style scoped>\n",
       "    .dataframe tbody tr th:only-of-type {\n",
       "        vertical-align: middle;\n",
       "    }\n",
       "\n",
       "    .dataframe tbody tr th {\n",
       "        vertical-align: top;\n",
       "    }\n",
       "\n",
       "    .dataframe thead th {\n",
       "        text-align: right;\n",
       "    }\n",
       "</style>\n",
       "<table border=\"1\" class=\"dataframe\">\n",
       "  <thead>\n",
       "    <tr style=\"text-align: right;\">\n",
       "      <th></th>\n",
       "      <th>acct</th>\n",
       "      <th>bld_num</th>\n",
       "      <th>sar_cd</th>\n",
       "      <th>sar_dscr</th>\n",
       "      <th>area</th>\n",
       "    </tr>\n",
       "  </thead>\n",
       "  <tbody>\n",
       "    <tr>\n",
       "      <th>0</th>\n",
       "      <td>101660000018</td>\n",
       "      <td>1</td>\n",
       "      <td>BAU</td>\n",
       "      <td>BASE AREA UPR</td>\n",
       "      <td>592</td>\n",
       "    </tr>\n",
       "    <tr>\n",
       "      <th>1</th>\n",
       "      <td>101660000018</td>\n",
       "      <td>1</td>\n",
       "      <td>BAU</td>\n",
       "      <td>BASE AREA UPR</td>\n",
       "      <td>592</td>\n",
       "    </tr>\n",
       "    <tr>\n",
       "      <th>2</th>\n",
       "      <td>101660000018</td>\n",
       "      <td>1</td>\n",
       "      <td>FSU</td>\n",
       "      <td>ONE STORY FRAME UPR</td>\n",
       "      <td>96</td>\n",
       "    </tr>\n",
       "    <tr>\n",
       "      <th>3</th>\n",
       "      <td>101660000033</td>\n",
       "      <td>1</td>\n",
       "      <td>FSP</td>\n",
       "      <td>ONE STORY FRAME PRI</td>\n",
       "      <td>271</td>\n",
       "    </tr>\n",
       "    <tr>\n",
       "      <th>4</th>\n",
       "      <td>101660000033</td>\n",
       "      <td>1</td>\n",
       "      <td>OMP</td>\n",
       "      <td>OPEN MAS PORCH PRI</td>\n",
       "      <td>130</td>\n",
       "    </tr>\n",
       "  </tbody>\n",
       "</table>\n",
       "</div>"
      ],
      "text/plain": [
       "           acct  bld_num sar_cd             sar_dscr  area\n",
       "0  101660000018        1    BAU        BASE AREA UPR   592\n",
       "1  101660000018        1    BAU        BASE AREA UPR   592\n",
       "2  101660000018        1    FSU  ONE STORY FRAME UPR    96\n",
       "3  101660000033        1    FSP  ONE STORY FRAME PRI   271\n",
       "4  101660000033        1    OMP   OPEN MAS PORCH PRI   130"
      ]
     },
     "execution_count": 7,
     "metadata": {},
     "output_type": "execute_result"
    }
   ],
   "source": [
    "exterior_df.head()"
   ]
  },
  {
   "cell_type": "code",
   "execution_count": 8,
   "metadata": {
    "ExecuteTime": {
     "end_time": "2020-07-28T10:53:50.927400Z",
     "start_time": "2020-07-28T10:53:50.602838Z"
    }
   },
   "outputs": [
    {
     "data": {
      "text/plain": [
       "BASE AREA PRI           958579\n",
       "OPEN FRAME PORCH PRI    714587\n",
       "MAS/BRK GARAGE PRI      560301\n",
       "OPEN MAS PORCH PRI      429101\n",
       "BASE AREA UPR           346749\n",
       "ONE STORY MAS PRI       267074\n",
       "ONE STORY FRAME UPR     129798\n",
       "ONE STORY FRAME PRI     121991\n",
       "FRAME GARAGE PRI        117535\n",
       "MAS/CONC PATIO PRI      116876\n",
       "CARPORT PRI              40416\n",
       "CANOPY PRI               40183\n",
       "WOOD DECK PRI            35478\n",
       "ONE STORY MAS UPR        33511\n",
       "FRAME OVERHANG UPR       29155\n",
       "ATTIC FINISHED           26280\n",
       "ENCL FRAME PORCH PRI     26140\n",
       "OPEN FRAME PORCH UPR     26117\n",
       "BASE AREA LWR            12945\n",
       "FRAME UTIL BLDG PRI      11732\n",
       "Name: sar_dscr, dtype: int64"
      ]
     },
     "execution_count": 8,
     "metadata": {},
     "output_type": "execute_result"
    }
   ],
   "source": [
    "exterior_df.sar_dscr.value_counts().head(20)"
   ]
  },
  {
   "cell_type": "markdown",
   "metadata": {},
   "source": [
    "# Grab slice of the exterior features of interest\n",
    "With the value counts on the exterior features description performed above we can see that the majority of the features land in the top 10 categories. Let's filter out the rests of the columns."
   ]
  },
  {
   "cell_type": "code",
   "execution_count": 9,
   "metadata": {
    "ExecuteTime": {
     "end_time": "2020-07-28T10:53:51.237763Z",
     "start_time": "2020-07-28T10:53:50.929481Z"
    }
   },
   "outputs": [],
   "source": [
    "cols = exterior_df.sar_dscr.value_counts().head(10).index"
   ]
  },
  {
   "cell_type": "code",
   "execution_count": 10,
   "metadata": {
    "ExecuteTime": {
     "end_time": "2020-07-28T10:53:51.449710Z",
     "start_time": "2020-07-28T10:53:51.239710Z"
    }
   },
   "outputs": [],
   "source": [
    "cond0 = exterior_df['sar_dscr'].isin(cols)\n",
    "exterior_df = exterior_df.loc[cond0, :]"
   ]
  },
  {
   "cell_type": "markdown",
   "metadata": {},
   "source": [
    "# Build pivot table\n",
    "Let's build a pivot table with the account number (`acct`) as index, surface area `sar_dscr` as column, and `area` as values. Since the areas are already split by primary (PRI) and upper (UPR) I'll assume there should be only one exterior feature category per property, and thus aggregate multiple occurrences by taking the maximum value."
   ]
  },
  {
   "cell_type": "code",
   "execution_count": 11,
   "metadata": {
    "ExecuteTime": {
     "end_time": "2020-07-28T10:53:55.171962Z",
     "start_time": "2020-07-28T10:53:51.451552Z"
    }
   },
   "outputs": [],
   "source": [
    "exterior_pivot = exterior_df.pivot_table(index='acct',\n",
    "                                         columns='sar_dscr',\n",
    "                                         values='area',\n",
    "                                         fill_value=0,\n",
    "                                         aggfunc='max')"
   ]
  },
  {
   "cell_type": "code",
   "execution_count": 12,
   "metadata": {
    "ExecuteTime": {
     "end_time": "2020-07-28T10:53:55.199620Z",
     "start_time": "2020-07-28T10:53:55.173629Z"
    }
   },
   "outputs": [
    {
     "data": {
      "text/html": [
       "<div>\n",
       "<style scoped>\n",
       "    .dataframe tbody tr th:only-of-type {\n",
       "        vertical-align: middle;\n",
       "    }\n",
       "\n",
       "    .dataframe tbody tr th {\n",
       "        vertical-align: top;\n",
       "    }\n",
       "\n",
       "    .dataframe thead th {\n",
       "        text-align: right;\n",
       "    }\n",
       "</style>\n",
       "<table border=\"1\" class=\"dataframe\">\n",
       "  <thead>\n",
       "    <tr style=\"text-align: right;\">\n",
       "      <th>sar_dscr</th>\n",
       "      <th>BASE AREA PRI</th>\n",
       "      <th>BASE AREA UPR</th>\n",
       "      <th>FRAME GARAGE PRI</th>\n",
       "      <th>MAS/BRK GARAGE PRI</th>\n",
       "      <th>MAS/CONC PATIO PRI</th>\n",
       "      <th>ONE STORY FRAME PRI</th>\n",
       "      <th>ONE STORY FRAME UPR</th>\n",
       "      <th>ONE STORY MAS PRI</th>\n",
       "      <th>OPEN FRAME PORCH PRI</th>\n",
       "      <th>OPEN MAS PORCH PRI</th>\n",
       "    </tr>\n",
       "    <tr>\n",
       "      <th>acct</th>\n",
       "      <th></th>\n",
       "      <th></th>\n",
       "      <th></th>\n",
       "      <th></th>\n",
       "      <th></th>\n",
       "      <th></th>\n",
       "      <th></th>\n",
       "      <th></th>\n",
       "      <th></th>\n",
       "      <th></th>\n",
       "    </tr>\n",
       "  </thead>\n",
       "  <tbody>\n",
       "    <tr>\n",
       "      <th>21440000001</th>\n",
       "      <td>1658</td>\n",
       "      <td>879</td>\n",
       "      <td>0</td>\n",
       "      <td>0</td>\n",
       "      <td>0</td>\n",
       "      <td>0</td>\n",
       "      <td>0</td>\n",
       "      <td>0</td>\n",
       "      <td>105</td>\n",
       "      <td>0</td>\n",
       "    </tr>\n",
       "    <tr>\n",
       "      <th>21470000008</th>\n",
       "      <td>1000</td>\n",
       "      <td>0</td>\n",
       "      <td>0</td>\n",
       "      <td>0</td>\n",
       "      <td>0</td>\n",
       "      <td>0</td>\n",
       "      <td>0</td>\n",
       "      <td>0</td>\n",
       "      <td>0</td>\n",
       "      <td>0</td>\n",
       "    </tr>\n",
       "    <tr>\n",
       "      <th>21480000002</th>\n",
       "      <td>1496</td>\n",
       "      <td>0</td>\n",
       "      <td>0</td>\n",
       "      <td>0</td>\n",
       "      <td>0</td>\n",
       "      <td>0</td>\n",
       "      <td>0</td>\n",
       "      <td>0</td>\n",
       "      <td>182</td>\n",
       "      <td>0</td>\n",
       "    </tr>\n",
       "    <tr>\n",
       "      <th>21650000007</th>\n",
       "      <td>1517</td>\n",
       "      <td>1870</td>\n",
       "      <td>0</td>\n",
       "      <td>529</td>\n",
       "      <td>0</td>\n",
       "      <td>0</td>\n",
       "      <td>0</td>\n",
       "      <td>0</td>\n",
       "      <td>138</td>\n",
       "      <td>36</td>\n",
       "    </tr>\n",
       "    <tr>\n",
       "      <th>21650000011</th>\n",
       "      <td>1508</td>\n",
       "      <td>0</td>\n",
       "      <td>420</td>\n",
       "      <td>0</td>\n",
       "      <td>0</td>\n",
       "      <td>0</td>\n",
       "      <td>0</td>\n",
       "      <td>0</td>\n",
       "      <td>0</td>\n",
       "      <td>0</td>\n",
       "    </tr>\n",
       "  </tbody>\n",
       "</table>\n",
       "</div>"
      ],
      "text/plain": [
       "sar_dscr     BASE AREA PRI  BASE AREA UPR  FRAME GARAGE PRI  \\\n",
       "acct                                                          \n",
       "21440000001           1658            879                 0   \n",
       "21470000008           1000              0                 0   \n",
       "21480000002           1496              0                 0   \n",
       "21650000007           1517           1870                 0   \n",
       "21650000011           1508              0               420   \n",
       "\n",
       "sar_dscr     MAS/BRK GARAGE PRI  MAS/CONC PATIO PRI  ONE STORY FRAME PRI  \\\n",
       "acct                                                                       \n",
       "21440000001                   0                   0                    0   \n",
       "21470000008                   0                   0                    0   \n",
       "21480000002                   0                   0                    0   \n",
       "21650000007                 529                   0                    0   \n",
       "21650000011                   0                   0                    0   \n",
       "\n",
       "sar_dscr     ONE STORY FRAME UPR  ONE STORY MAS PRI  OPEN FRAME PORCH PRI  \\\n",
       "acct                                                                        \n",
       "21440000001                    0                  0                   105   \n",
       "21470000008                    0                  0                     0   \n",
       "21480000002                    0                  0                   182   \n",
       "21650000007                    0                  0                   138   \n",
       "21650000011                    0                  0                     0   \n",
       "\n",
       "sar_dscr     OPEN MAS PORCH PRI  \n",
       "acct                             \n",
       "21440000001                   0  \n",
       "21470000008                   0  \n",
       "21480000002                   0  \n",
       "21650000007                  36  \n",
       "21650000011                   0  "
      ]
     },
     "execution_count": 12,
     "metadata": {},
     "output_type": "execute_result"
    }
   ],
   "source": [
    "exterior_pivot.head()"
   ]
  },
  {
   "cell_type": "markdown",
   "metadata": {},
   "source": [
    "add `acct` column to make easier the merging process ahead"
   ]
  },
  {
   "cell_type": "code",
   "execution_count": 13,
   "metadata": {
    "ExecuteTime": {
     "end_time": "2020-07-28T10:53:55.216890Z",
     "start_time": "2020-07-28T10:53:55.202637Z"
    }
   },
   "outputs": [],
   "source": [
    "exterior_pivot.reset_index(inplace=True)"
   ]
  },
  {
   "cell_type": "code",
   "execution_count": 14,
   "metadata": {
    "ExecuteTime": {
     "end_time": "2020-07-28T10:53:55.361220Z",
     "start_time": "2020-07-28T10:53:55.218469Z"
    }
   },
   "outputs": [],
   "source": [
    "assert exterior_pivot['acct'].is_unique"
   ]
  },
  {
   "cell_type": "markdown",
   "metadata": {},
   "source": [
    "# Fix column names\n",
    "We would like the column names to be all lower case, with no spaces nor non-alphanumeric characters."
   ]
  },
  {
   "cell_type": "code",
   "execution_count": 15,
   "metadata": {
    "ExecuteTime": {
     "end_time": "2020-07-28T10:53:55.380325Z",
     "start_time": "2020-07-28T10:53:55.363181Z"
    }
   },
   "outputs": [],
   "source": [
    "from src.data.utils import fix_column_names"
   ]
  },
  {
   "cell_type": "code",
   "execution_count": 16,
   "metadata": {
    "ExecuteTime": {
     "end_time": "2020-07-28T10:53:55.399499Z",
     "start_time": "2020-07-28T10:53:55.382379Z"
    }
   },
   "outputs": [
    {
     "data": {
      "text/plain": [
       "Index(['acct', 'BASE AREA PRI', 'BASE AREA UPR', 'FRAME GARAGE PRI',\n",
       "       'MAS/BRK GARAGE PRI', 'MAS/CONC PATIO PRI', 'ONE STORY FRAME PRI',\n",
       "       'ONE STORY FRAME UPR', 'ONE STORY MAS PRI', 'OPEN FRAME PORCH PRI',\n",
       "       'OPEN MAS PORCH PRI'],\n",
       "      dtype='object', name='sar_dscr')"
      ]
     },
     "execution_count": 16,
     "metadata": {},
     "output_type": "execute_result"
    }
   ],
   "source": [
    "exterior_pivot.columns"
   ]
  },
  {
   "cell_type": "code",
   "execution_count": 17,
   "metadata": {
    "ExecuteTime": {
     "end_time": "2020-07-28T10:53:55.415061Z",
     "start_time": "2020-07-28T10:53:55.401068Z"
    }
   },
   "outputs": [],
   "source": [
    "exterior_pivot = fix_column_names(exterior_pivot)"
   ]
  },
  {
   "cell_type": "code",
   "execution_count": 18,
   "metadata": {
    "ExecuteTime": {
     "end_time": "2020-07-28T10:53:55.431437Z",
     "start_time": "2020-07-28T10:53:55.417118Z"
    }
   },
   "outputs": [
    {
     "data": {
      "text/plain": [
       "Index(['acct', 'base_area_pri', 'base_area_upr', 'frame_garage_pri',\n",
       "       'mas_brk_garage_pri', 'mas_conc_patio_pri', 'one_story_frame_pri',\n",
       "       'one_story_frame_upr', 'one_story_mas_pri', 'open_frame_porch_pri',\n",
       "       'open_mas_porch_pri'],\n",
       "      dtype='object')"
      ]
     },
     "execution_count": 18,
     "metadata": {},
     "output_type": "execute_result"
    }
   ],
   "source": [
    "exterior_pivot.columns"
   ]
  },
  {
   "cell_type": "markdown",
   "metadata": {},
   "source": [
    "### Find duplicated rows"
   ]
  },
  {
   "cell_type": "code",
   "execution_count": 19,
   "metadata": {
    "ExecuteTime": {
     "end_time": "2020-07-28T10:53:56.029396Z",
     "start_time": "2020-07-28T10:53:55.434023Z"
    }
   },
   "outputs": [
    {
     "data": {
      "text/html": [
       "<div>\n",
       "<style scoped>\n",
       "    .dataframe tbody tr th:only-of-type {\n",
       "        vertical-align: middle;\n",
       "    }\n",
       "\n",
       "    .dataframe tbody tr th {\n",
       "        vertical-align: top;\n",
       "    }\n",
       "\n",
       "    .dataframe thead th {\n",
       "        text-align: right;\n",
       "    }\n",
       "</style>\n",
       "<table border=\"1\" class=\"dataframe\">\n",
       "  <thead>\n",
       "    <tr style=\"text-align: right;\">\n",
       "      <th></th>\n",
       "      <th>acct</th>\n",
       "      <th>base_area_pri</th>\n",
       "      <th>base_area_upr</th>\n",
       "      <th>frame_garage_pri</th>\n",
       "      <th>mas_brk_garage_pri</th>\n",
       "      <th>mas_conc_patio_pri</th>\n",
       "      <th>one_story_frame_pri</th>\n",
       "      <th>one_story_frame_upr</th>\n",
       "      <th>one_story_mas_pri</th>\n",
       "      <th>open_frame_porch_pri</th>\n",
       "      <th>open_mas_porch_pri</th>\n",
       "    </tr>\n",
       "  </thead>\n",
       "  <tbody>\n",
       "  </tbody>\n",
       "</table>\n",
       "</div>"
      ],
      "text/plain": [
       "Empty DataFrame\n",
       "Columns: [acct, base_area_pri, base_area_upr, frame_garage_pri, mas_brk_garage_pri, mas_conc_patio_pri, one_story_frame_pri, one_story_frame_upr, one_story_mas_pri, open_frame_porch_pri, open_mas_porch_pri]\n",
       "Index: []"
      ]
     },
     "execution_count": 19,
     "metadata": {},
     "output_type": "execute_result"
    }
   ],
   "source": [
    "cond0 = exterior_pivot.duplicated()\n",
    "exterior_pivot.loc[cond0, :]"
   ]
  },
  {
   "cell_type": "markdown",
   "metadata": {},
   "source": [
    "# Describe"
   ]
  },
  {
   "cell_type": "code",
   "execution_count": 20,
   "metadata": {
    "ExecuteTime": {
     "end_time": "2020-07-28T10:53:56.081602Z",
     "start_time": "2020-07-28T10:53:56.031935Z"
    }
   },
   "outputs": [
    {
     "name": "stdout",
     "output_type": "stream",
     "text": [
      "<class 'pandas.core.frame.DataFrame'>\n",
      "RangeIndex: 957680 entries, 0 to 957679\n",
      "Data columns (total 11 columns):\n",
      " #   Column                Non-Null Count   Dtype\n",
      "---  ------                --------------   -----\n",
      " 0   acct                  957680 non-null  int64\n",
      " 1   base_area_pri         957680 non-null  int64\n",
      " 2   base_area_upr         957680 non-null  int64\n",
      " 3   frame_garage_pri      957680 non-null  int64\n",
      " 4   mas_brk_garage_pri    957680 non-null  int64\n",
      " 5   mas_conc_patio_pri    957680 non-null  int64\n",
      " 6   one_story_frame_pri   957680 non-null  int64\n",
      " 7   one_story_frame_upr   957680 non-null  int64\n",
      " 8   one_story_mas_pri     957680 non-null  int64\n",
      " 9   open_frame_porch_pri  957680 non-null  int64\n",
      " 10  open_mas_porch_pri    957680 non-null  int64\n",
      "dtypes: int64(11)\n",
      "memory usage: 80.4 MB\n"
     ]
    }
   ],
   "source": [
    "exterior_pivot.info()"
   ]
  },
  {
   "cell_type": "code",
   "execution_count": 21,
   "metadata": {
    "ExecuteTime": {
     "end_time": "2020-07-28T10:53:56.444328Z",
     "start_time": "2020-07-28T10:53:56.084523Z"
    }
   },
   "outputs": [
    {
     "data": {
      "text/html": [
       "<div>\n",
       "<style scoped>\n",
       "    .dataframe tbody tr th:only-of-type {\n",
       "        vertical-align: middle;\n",
       "    }\n",
       "\n",
       "    .dataframe tbody tr th {\n",
       "        vertical-align: top;\n",
       "    }\n",
       "\n",
       "    .dataframe thead th {\n",
       "        text-align: right;\n",
       "    }\n",
       "</style>\n",
       "<table border=\"1\" class=\"dataframe\">\n",
       "  <thead>\n",
       "    <tr style=\"text-align: right;\">\n",
       "      <th></th>\n",
       "      <th>acct</th>\n",
       "      <th>base_area_pri</th>\n",
       "      <th>base_area_upr</th>\n",
       "      <th>frame_garage_pri</th>\n",
       "      <th>mas_brk_garage_pri</th>\n",
       "      <th>mas_conc_patio_pri</th>\n",
       "      <th>one_story_frame_pri</th>\n",
       "      <th>one_story_frame_upr</th>\n",
       "      <th>one_story_mas_pri</th>\n",
       "      <th>open_frame_porch_pri</th>\n",
       "      <th>open_mas_porch_pri</th>\n",
       "    </tr>\n",
       "  </thead>\n",
       "  <tbody>\n",
       "    <tr>\n",
       "      <th>count</th>\n",
       "      <td>9.576800e+05</td>\n",
       "      <td>957680.000000</td>\n",
       "      <td>957680.000000</td>\n",
       "      <td>957680.000000</td>\n",
       "      <td>957680.000000</td>\n",
       "      <td>957680.000000</td>\n",
       "      <td>957680.000000</td>\n",
       "      <td>957680.000000</td>\n",
       "      <td>957680.000000</td>\n",
       "      <td>957680.000000</td>\n",
       "      <td>957680.000000</td>\n",
       "    </tr>\n",
       "    <tr>\n",
       "      <th>mean</th>\n",
       "      <td>1.013456e+12</td>\n",
       "      <td>1495.021086</td>\n",
       "      <td>403.354231</td>\n",
       "      <td>45.982009</td>\n",
       "      <td>237.578059</td>\n",
       "      <td>35.882803</td>\n",
       "      <td>34.753537</td>\n",
       "      <td>30.488229</td>\n",
       "      <td>78.742689</td>\n",
       "      <td>68.406385</td>\n",
       "      <td>33.197644</td>\n",
       "    </tr>\n",
       "    <tr>\n",
       "      <th>std</th>\n",
       "      <td>2.689598e+11</td>\n",
       "      <td>610.475319</td>\n",
       "      <td>617.077021</td>\n",
       "      <td>137.220659</td>\n",
       "      <td>233.084651</td>\n",
       "      <td>117.541261</td>\n",
       "      <td>134.097456</td>\n",
       "      <td>112.267015</td>\n",
       "      <td>220.327554</td>\n",
       "      <td>104.230796</td>\n",
       "      <td>75.936034</td>\n",
       "    </tr>\n",
       "    <tr>\n",
       "      <th>min</th>\n",
       "      <td>2.144000e+10</td>\n",
       "      <td>0.000000</td>\n",
       "      <td>0.000000</td>\n",
       "      <td>0.000000</td>\n",
       "      <td>0.000000</td>\n",
       "      <td>0.000000</td>\n",
       "      <td>0.000000</td>\n",
       "      <td>0.000000</td>\n",
       "      <td>0.000000</td>\n",
       "      <td>0.000000</td>\n",
       "      <td>-63.000000</td>\n",
       "    </tr>\n",
       "    <tr>\n",
       "      <th>25%</th>\n",
       "      <td>8.510400e+11</td>\n",
       "      <td>1064.000000</td>\n",
       "      <td>0.000000</td>\n",
       "      <td>0.000000</td>\n",
       "      <td>0.000000</td>\n",
       "      <td>0.000000</td>\n",
       "      <td>0.000000</td>\n",
       "      <td>0.000000</td>\n",
       "      <td>0.000000</td>\n",
       "      <td>0.000000</td>\n",
       "      <td>0.000000</td>\n",
       "    </tr>\n",
       "    <tr>\n",
       "      <th>50%</th>\n",
       "      <td>1.112500e+12</td>\n",
       "      <td>1418.000000</td>\n",
       "      <td>0.000000</td>\n",
       "      <td>0.000000</td>\n",
       "      <td>311.000000</td>\n",
       "      <td>0.000000</td>\n",
       "      <td>0.000000</td>\n",
       "      <td>0.000000</td>\n",
       "      <td>0.000000</td>\n",
       "      <td>33.000000</td>\n",
       "      <td>0.000000</td>\n",
       "    </tr>\n",
       "    <tr>\n",
       "      <th>75%</th>\n",
       "      <td>1.203490e+12</td>\n",
       "      <td>1820.000000</td>\n",
       "      <td>888.000000</td>\n",
       "      <td>0.000000</td>\n",
       "      <td>440.000000</td>\n",
       "      <td>0.000000</td>\n",
       "      <td>0.000000</td>\n",
       "      <td>0.000000</td>\n",
       "      <td>0.000000</td>\n",
       "      <td>96.000000</td>\n",
       "      <td>38.000000</td>\n",
       "    </tr>\n",
       "    <tr>\n",
       "      <th>max</th>\n",
       "      <td>1.955020e+12</td>\n",
       "      <td>13451.000000</td>\n",
       "      <td>12950.000000</td>\n",
       "      <td>3120.000000</td>\n",
       "      <td>3250.000000</td>\n",
       "      <td>4328.000000</td>\n",
       "      <td>4950.000000</td>\n",
       "      <td>3597.000000</td>\n",
       "      <td>5693.000000</td>\n",
       "      <td>3312.000000</td>\n",
       "      <td>3500.000000</td>\n",
       "    </tr>\n",
       "  </tbody>\n",
       "</table>\n",
       "</div>"
      ],
      "text/plain": [
       "               acct  base_area_pri  base_area_upr  frame_garage_pri  \\\n",
       "count  9.576800e+05  957680.000000  957680.000000     957680.000000   \n",
       "mean   1.013456e+12    1495.021086     403.354231         45.982009   \n",
       "std    2.689598e+11     610.475319     617.077021        137.220659   \n",
       "min    2.144000e+10       0.000000       0.000000          0.000000   \n",
       "25%    8.510400e+11    1064.000000       0.000000          0.000000   \n",
       "50%    1.112500e+12    1418.000000       0.000000          0.000000   \n",
       "75%    1.203490e+12    1820.000000     888.000000          0.000000   \n",
       "max    1.955020e+12   13451.000000   12950.000000       3120.000000   \n",
       "\n",
       "       mas_brk_garage_pri  mas_conc_patio_pri  one_story_frame_pri  \\\n",
       "count       957680.000000       957680.000000        957680.000000   \n",
       "mean           237.578059           35.882803            34.753537   \n",
       "std            233.084651          117.541261           134.097456   \n",
       "min              0.000000            0.000000             0.000000   \n",
       "25%              0.000000            0.000000             0.000000   \n",
       "50%            311.000000            0.000000             0.000000   \n",
       "75%            440.000000            0.000000             0.000000   \n",
       "max           3250.000000         4328.000000          4950.000000   \n",
       "\n",
       "       one_story_frame_upr  one_story_mas_pri  open_frame_porch_pri  \\\n",
       "count        957680.000000      957680.000000         957680.000000   \n",
       "mean             30.488229          78.742689             68.406385   \n",
       "std             112.267015         220.327554            104.230796   \n",
       "min               0.000000           0.000000              0.000000   \n",
       "25%               0.000000           0.000000              0.000000   \n",
       "50%               0.000000           0.000000             33.000000   \n",
       "75%               0.000000           0.000000             96.000000   \n",
       "max            3597.000000        5693.000000           3312.000000   \n",
       "\n",
       "       open_mas_porch_pri  \n",
       "count       957680.000000  \n",
       "mean            33.197644  \n",
       "std             75.936034  \n",
       "min            -63.000000  \n",
       "25%              0.000000  \n",
       "50%              0.000000  \n",
       "75%             38.000000  \n",
       "max           3500.000000  "
      ]
     },
     "execution_count": 21,
     "metadata": {},
     "output_type": "execute_result"
    }
   ],
   "source": [
    "exterior_pivot.describe()"
   ]
  },
  {
   "cell_type": "markdown",
   "metadata": {},
   "source": [
    "# Export real_acct"
   ]
  },
  {
   "cell_type": "code",
   "execution_count": 22,
   "metadata": {
    "ExecuteTime": {
     "end_time": "2020-07-28T10:53:56.883289Z",
     "start_time": "2020-07-28T10:53:56.447190Z"
    }
   },
   "outputs": [],
   "source": [
    "save_fn = ROOT_DIR / 'data/raw/2016/exterior_comps.pickle'\n",
    "save_pickle(exterior_pivot, save_fn)"
   ]
  }
 ],
 "metadata": {
  "kernelspec": {
   "display_name": "hcad_pred",
   "language": "python",
   "name": "hcad_pred"
  },
  "language_info": {
   "codemirror_mode": {
    "name": "ipython",
    "version": 3
   },
   "file_extension": ".py",
   "mimetype": "text/x-python",
   "name": "python",
   "nbconvert_exporter": "python",
   "pygments_lexer": "ipython3",
   "version": "3.7.6"
  },
  "toc": {
   "base_numbering": 1,
   "nav_menu": {},
   "number_sections": true,
   "sideBar": true,
   "skip_h1_title": false,
   "title_cell": "Table of Contents",
   "title_sidebar": "Contents",
   "toc_cell": false,
   "toc_position": {},
   "toc_section_display": true,
   "toc_window_display": false
  }
 },
 "nbformat": 4,
 "nbformat_minor": 4
}
