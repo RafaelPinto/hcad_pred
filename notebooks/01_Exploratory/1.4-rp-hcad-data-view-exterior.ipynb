{
 "cells": [
  {
   "cell_type": "markdown",
   "metadata": {},
   "source": [
    "# Find the comparables: exterior.txt\n",
    "\n",
    "The file `exterior.txt` contains important property information about the areas of the property sections. Let's load this file and grab a subset with the important columns to continue our study."
   ]
  },
  {
   "cell_type": "code",
   "execution_count": null,
   "metadata": {
    "ExecuteTime": {
     "end_time": "2020-07-18T16:02:32.060096Z",
     "start_time": "2020-07-18T16:02:32.037664Z"
    }
   },
   "outputs": [],
   "source": [
    "%load_ext autoreload\n",
    "%autoreload 2"
   ]
  },
  {
   "cell_type": "code",
   "execution_count": null,
   "metadata": {
    "ExecuteTime": {
     "end_time": "2020-07-18T16:02:33.088718Z",
     "start_time": "2020-07-18T16:02:32.397494Z"
    }
   },
   "outputs": [],
   "source": [
    "from pathlib import Path\n",
    "import pickle\n",
    "\n",
    "import pandas as pd\n",
    "\n",
    "from src.definitions import ROOT_DIR\n",
    "from src.data.utils import Table, save_pickle"
   ]
  },
  {
   "cell_type": "code",
   "execution_count": null,
   "metadata": {
    "ExecuteTime": {
     "end_time": "2020-07-18T16:02:33.578862Z",
     "start_time": "2020-07-18T16:02:33.550777Z"
    }
   },
   "outputs": [],
   "source": [
    "exterior_fn = ROOT_DIR / 'data/external/2016/Real_building_land/exterior.txt'\n",
    "assert exterior_fn.exists()"
   ]
  },
  {
   "cell_type": "code",
   "execution_count": null,
   "metadata": {
    "ExecuteTime": {
     "end_time": "2020-07-18T16:02:34.421078Z",
     "start_time": "2020-07-18T16:02:34.401405Z"
    }
   },
   "outputs": [],
   "source": [
    "exterior = Table(exterior_fn, '2016')"
   ]
  },
  {
   "cell_type": "code",
   "execution_count": null,
   "metadata": {
    "ExecuteTime": {
     "end_time": "2020-07-18T16:02:39.963424Z",
     "start_time": "2020-07-18T16:02:35.102916Z"
    }
   },
   "outputs": [],
   "source": [
    "exterior_df = exterior.get_df()"
   ]
  },
  {
   "cell_type": "markdown",
   "metadata": {},
   "source": [
    "# Load accounts of interest\n",
    "Let's remove the account numbers that don't meet free-standing single-family home criteria that we found while processing the `building_res.txt` file."
   ]
  },
  {
   "cell_type": "code",
   "execution_count": null,
   "metadata": {
    "ExecuteTime": {
     "end_time": "2020-07-18T16:02:40.026613Z",
     "start_time": "2020-07-18T16:02:39.971279Z"
    }
   },
   "outputs": [],
   "source": [
    "one_bld_in_acct_fn = ROOT_DIR / 'data/raw/2016/one_bld_in_acct.pickle'"
   ]
  },
  {
   "cell_type": "code",
   "execution_count": null,
   "metadata": {
    "ExecuteTime": {
     "end_time": "2020-07-18T16:02:40.164964Z",
     "start_time": "2020-07-18T16:02:40.028621Z"
    }
   },
   "outputs": [],
   "source": [
    "with open(one_bld_in_acct_fn, 'rb') as f:\n",
    "    one_bld_in_acct = pickle.load(f)"
   ]
  },
  {
   "cell_type": "code",
   "execution_count": null,
   "metadata": {
    "ExecuteTime": {
     "end_time": "2020-07-18T16:02:42.510936Z",
     "start_time": "2020-07-18T16:02:40.576743Z"
    }
   },
   "outputs": [],
   "source": [
    "cond0 = exterior_df['acct'].isin(one_bld_in_acct)\n",
    "exterior_df = exterior_df.loc[cond0, :]"
   ]
  },
  {
   "cell_type": "code",
   "execution_count": null,
   "metadata": {
    "ExecuteTime": {
     "end_time": "2020-07-18T16:02:47.347068Z",
     "start_time": "2020-07-18T16:02:47.301054Z"
    }
   },
   "outputs": [],
   "source": [
    "exterior_df.head()"
   ]
  },
  {
   "cell_type": "code",
   "execution_count": null,
   "metadata": {
    "ExecuteTime": {
     "end_time": "2020-07-18T16:03:01.612034Z",
     "start_time": "2020-07-18T16:03:01.290997Z"
    }
   },
   "outputs": [],
   "source": [
    "exterior_df.sar_dscr.value_counts().head(15)"
   ]
  },
  {
   "cell_type": "markdown",
   "metadata": {},
   "source": [
    "# Grab slice of the exterior features of interest\n",
    "With the value counts on the exterior features description performed above we can see that the majority of the features land in the top 10 categories. Let's filter out the rests of the columns."
   ]
  },
  {
   "cell_type": "code",
   "execution_count": null,
   "metadata": {
    "ExecuteTime": {
     "end_time": "2020-07-18T16:04:28.619653Z",
     "start_time": "2020-07-18T16:04:27.823869Z"
    }
   },
   "outputs": [],
   "source": [
    "cols = exterior_df.sar_dscr.value_counts().head(10).index"
   ]
  },
  {
   "cell_type": "code",
   "execution_count": null,
   "metadata": {
    "ExecuteTime": {
     "end_time": "2020-07-18T16:05:03.990288Z",
     "start_time": "2020-07-18T16:05:03.537659Z"
    }
   },
   "outputs": [],
   "source": [
    "cond0 = exterior_df['sar_dscr'].isin(cols)\n",
    "exterior_df = exterior_df.loc[cond0, :]"
   ]
  },
  {
   "cell_type": "markdown",
   "metadata": {},
   "source": [
    "# Build pivot table\n",
    "Let's build a pivot table with the account number (`acct`) as index, surface area `sar_dscr` as column, and `area` as values."
   ]
  },
  {
   "cell_type": "code",
   "execution_count": null,
   "metadata": {
    "ExecuteTime": {
     "end_time": "2020-07-18T16:07:59.631866Z",
     "start_time": "2020-07-18T16:07:48.637017Z"
    }
   },
   "outputs": [],
   "source": [
    "exterior_pivot = exterior_df.pivot_table(index='acct',\n",
    "                                         columns='sar_dscr',\n",
    "                                         values='area',\n",
    "                                         fill_value=0)"
   ]
  },
  {
   "cell_type": "code",
   "execution_count": null,
   "metadata": {
    "ExecuteTime": {
     "end_time": "2020-07-18T16:08:02.997430Z",
     "start_time": "2020-07-18T16:08:02.825479Z"
    }
   },
   "outputs": [],
   "source": [
    "exterior_pivot.head()"
   ]
  },
  {
   "cell_type": "markdown",
   "metadata": {},
   "source": [
    "add `acct` column to make easier the merging process ahead"
   ]
  },
  {
   "cell_type": "code",
   "execution_count": null,
   "metadata": {
    "ExecuteTime": {
     "end_time": "2020-07-18T16:10:20.213957Z",
     "start_time": "2020-07-18T16:10:20.190274Z"
    }
   },
   "outputs": [],
   "source": [
    "exterior_pivot.reset_index(inplace=True)"
   ]
  },
  {
   "cell_type": "code",
   "execution_count": null,
   "metadata": {
    "ExecuteTime": {
     "end_time": "2020-07-18T16:10:37.066031Z",
     "start_time": "2020-07-18T16:10:36.954795Z"
    }
   },
   "outputs": [],
   "source": [
    "assert exterior_pivot['acct'].is_unique"
   ]
  },
  {
   "cell_type": "markdown",
   "metadata": {},
   "source": [
    "# Export real_acct"
   ]
  },
  {
   "cell_type": "code",
   "execution_count": null,
   "metadata": {
    "ExecuteTime": {
     "end_time": "2020-07-18T16:11:05.027214Z",
     "start_time": "2020-07-18T16:11:04.930469Z"
    }
   },
   "outputs": [],
   "source": [
    "save_fn = ROOT_DIR / 'data/raw/2016/exterior_comps.pickle'\n",
    "save_pickle(exterior_pivot, save_fn)"
   ]
  }
 ],
 "metadata": {
  "kernelspec": {
   "display_name": "hcad_pred",
   "language": "python",
   "name": "hcad_pred"
  },
  "language_info": {
   "codemirror_mode": {
    "name": "ipython",
    "version": 3
   },
   "file_extension": ".py",
   "mimetype": "text/x-python",
   "name": "python",
   "nbconvert_exporter": "python",
   "pygments_lexer": "ipython3",
   "version": "3.7.6"
  },
  "toc": {
   "base_numbering": 1,
   "nav_menu": {},
   "number_sections": true,
   "sideBar": true,
   "skip_h1_title": false,
   "title_cell": "Table of Contents",
   "title_sidebar": "Contents",
   "toc_cell": false,
   "toc_position": {},
   "toc_section_display": true,
   "toc_window_display": false
  }
 },
 "nbformat": 4,
 "nbformat_minor": 4
}
