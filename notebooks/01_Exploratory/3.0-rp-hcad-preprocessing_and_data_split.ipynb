{
 "cells": [
  {
   "cell_type": "markdown",
   "metadata": {},
   "source": [
    "# Load previously selected features\n",
    "\n",
    "The file being imported below was constructed in the last exploratory notebooks (2.1-rp-hcad-eda-appraised-value-perc-diff). These data have been cleaned, merged, and selected so we can start preparing it for modeling."
   ]
  },
  {
   "cell_type": "code",
   "execution_count": null,
   "metadata": {
    "ExecuteTime": {
     "end_time": "2020-10-27T21:38:58.086994Z",
     "start_time": "2020-10-27T21:38:57.951326Z"
    }
   },
   "outputs": [],
   "source": [
    "%load_ext autoreload\n",
    "%autoreload 2"
   ]
  },
  {
   "cell_type": "code",
   "execution_count": null,
   "metadata": {
    "ExecuteTime": {
     "end_time": "2020-10-27T21:39:03.194314Z",
     "start_time": "2020-10-27T21:38:58.090950Z"
    }
   },
   "outputs": [],
   "source": [
    "from pathlib import Path\n",
    "import pickle\n",
    "\n",
    "import numpy as np\n",
    "import pandas as pd\n",
    "\n",
    "import matplotlib.pyplot as plt\n",
    "import seaborn as sns\n",
    "\n",
    "from src.definitions import ROOT_DIR\n",
    "from src.data.utils import save_pickle"
   ]
  },
  {
   "cell_type": "code",
   "execution_count": null,
   "metadata": {
    "ExecuteTime": {
     "end_time": "2020-10-27T21:39:03.616182Z",
     "start_time": "2020-10-27T21:39:03.203288Z"
    }
   },
   "outputs": [],
   "source": [
    "plt.style.use('seaborn-poster')"
   ]
  },
  {
   "cell_type": "code",
   "execution_count": null,
   "metadata": {
    "ExecuteTime": {
     "end_time": "2020-10-27T21:39:04.054011Z",
     "start_time": "2020-10-27T21:39:03.621169Z"
    }
   },
   "outputs": [],
   "source": [
    "features_fn = ROOT_DIR / 'data/interim/2016/features.pickle'\n",
    "assert features_fn.exists()"
   ]
  },
  {
   "cell_type": "code",
   "execution_count": null,
   "metadata": {
    "ExecuteTime": {
     "end_time": "2020-10-27T21:39:04.568635Z",
     "start_time": "2020-10-27T21:39:04.060999Z"
    }
   },
   "outputs": [],
   "source": [
    "features = pd.read_pickle(features_fn)"
   ]
  },
  {
   "cell_type": "code",
   "execution_count": null,
   "metadata": {
    "ExecuteTime": {
     "end_time": "2020-10-27T21:39:05.230906Z",
     "start_time": "2020-10-27T21:39:04.571628Z"
    }
   },
   "outputs": [],
   "source": [
    "features.sample(10)"
   ]
  },
  {
   "cell_type": "markdown",
   "metadata": {},
   "source": [
    "# Look at the target data distribution"
   ]
  },
  {
   "cell_type": "code",
   "execution_count": null,
   "metadata": {
    "ExecuteTime": {
     "end_time": "2020-10-27T21:39:05.905637Z",
     "start_time": "2020-10-27T21:39:05.235892Z"
    }
   },
   "outputs": [],
   "source": [
    "from scipy import stats"
   ]
  },
  {
   "cell_type": "code",
   "execution_count": null,
   "metadata": {
    "ExecuteTime": {
     "end_time": "2020-10-27T21:39:09.018458Z",
     "start_time": "2020-10-27T21:39:05.912618Z"
    }
   },
   "outputs": [],
   "source": [
    "# sns.distplot(klein['appr_val_diff'], fit=stats.norm)\n",
    "fig = plt.figure(figsize=(8, 8))\n",
    "sns.displot(features['tot_appr_val'], kde=True)\n",
    "plt.xticks(rotation=70)\n",
    "fig = plt.figure(figsize=(8, 8))\n",
    "res = stats.probplot(features['tot_appr_val'], plot=plt)"
   ]
  },
  {
   "cell_type": "markdown",
   "metadata": {},
   "source": [
    "The target (total appraised value) is right skewed, however in the QQ plot it appears to be normal."
   ]
  },
  {
   "cell_type": "code",
   "execution_count": null,
   "metadata": {
    "ExecuteTime": {
     "end_time": "2020-10-27T21:39:09.714107Z",
     "start_time": "2020-10-27T21:39:09.041397Z"
    }
   },
   "outputs": [],
   "source": [
    "features.shape"
   ]
  },
  {
   "cell_type": "code",
   "execution_count": null,
   "metadata": {
    "ExecuteTime": {
     "end_time": "2020-10-27T21:39:10.647133Z",
     "start_time": "2020-10-27T21:39:09.724081Z"
    }
   },
   "outputs": [],
   "source": [
    "features.info()"
   ]
  },
  {
   "cell_type": "markdown",
   "metadata": {},
   "source": [
    "# Find neighbors\n",
    "\n",
    "I'd like to see if my target house was reasonably appraised in 2016. If we plot it on the histogram of the `tot_appr_val` we can see it lands near the high end."
   ]
  },
  {
   "cell_type": "code",
   "execution_count": null,
   "metadata": {
    "ExecuteTime": {
     "end_time": "2020-10-27T21:39:12.131706Z",
     "start_time": "2020-10-27T21:39:10.653116Z"
    }
   },
   "outputs": [],
   "source": [
    "_ = plt.figure(figsize=(8,8))\n",
    "_ = (features['tot_appr_val']/1000).hist(bins=7)\n",
    "_ = plt.vlines(292707/1000, 0, 16, color='red', label='Target house')\n",
    "_ = plt.title('Finished houses (2015) in the subdivision')\n",
    "_ = plt.xlabel('tot_appr_val x1000 ($)')\n",
    "_ = plt.ylabel('Count')\n",
    "_ = plt.legend(loc='upper right')"
   ]
  },
  {
   "cell_type": "markdown",
   "metadata": {},
   "source": [
    "But it could just be part of a larger distribution, so I'd like to group the properties by nearest neighbors (no pun intended!) to add this label as a new feature hoping to improve the target estimation."
   ]
  },
  {
   "cell_type": "code",
   "execution_count": null,
   "metadata": {
    "ExecuteTime": {
     "end_time": "2020-10-27T21:39:14.504414Z",
     "start_time": "2020-10-27T21:39:12.135696Z"
    }
   },
   "outputs": [],
   "source": [
    "from sklearn.cluster import KMeans"
   ]
  },
  {
   "cell_type": "code",
   "execution_count": null,
   "metadata": {
    "ExecuteTime": {
     "end_time": "2020-10-27T21:39:14.909332Z",
     "start_time": "2020-10-27T21:39:14.507407Z"
    }
   },
   "outputs": [],
   "source": [
    "features.columns"
   ]
  },
  {
   "cell_type": "markdown",
   "metadata": {},
   "source": [
    "Let's drop the value columns to only group the houses by their characteristics (number of fixtures, areas)."
   ]
  },
  {
   "cell_type": "code",
   "execution_count": null,
   "metadata": {
    "ExecuteTime": {
     "end_time": "2020-10-27T21:39:15.305272Z",
     "start_time": "2020-10-27T21:39:14.912323Z"
    }
   },
   "outputs": [],
   "source": [
    "no_values = features.drop(['tot_appr_val', 'prior_tot_appr_val'], axis=1).copy()"
   ]
  },
  {
   "cell_type": "code",
   "execution_count": null,
   "metadata": {
    "ExecuteTime": {
     "end_time": "2020-10-27T21:39:18.425926Z",
     "start_time": "2020-10-27T21:39:15.310259Z"
    }
   },
   "outputs": [],
   "source": [
    "ks = range(1, 12)\n",
    "inertias = []\n",
    "\n",
    "for k in ks:\n",
    "    # Create a KMeans instance with k clusters: model\n",
    "    model = KMeans(n_clusters=k)\n",
    "    \n",
    "    # Fit model to samples\n",
    "    model.fit(no_values)\n",
    "    \n",
    "    # Append the inertia to the list of inertias\n",
    "    inertias.append(model.inertia_)\n",
    "    \n",
    "# Plot ks vs inertias\n",
    "plt.figure(figsize=(8, 8))\n",
    "plt.plot(ks, inertias, '-o')\n",
    "plt.xlabel('number of clusters, k')\n",
    "plt.ylabel('inertia')\n",
    "plt.xticks(ks)\n",
    "plt.show()"
   ]
  },
  {
   "cell_type": "markdown",
   "metadata": {},
   "source": [
    "Seems like 4 clusters is a good choice."
   ]
  },
  {
   "cell_type": "code",
   "execution_count": null,
   "metadata": {
    "ExecuteTime": {
     "end_time": "2020-10-27T21:39:18.787177Z",
     "start_time": "2020-10-27T21:39:18.428918Z"
    }
   },
   "outputs": [],
   "source": [
    "model = KMeans(n_clusters=4)"
   ]
  },
  {
   "cell_type": "code",
   "execution_count": null,
   "metadata": {
    "ExecuteTime": {
     "end_time": "2020-10-27T21:39:19.123062Z",
     "start_time": "2020-10-27T21:39:18.790951Z"
    }
   },
   "outputs": [],
   "source": [
    "labels = model.fit_predict(no_values)"
   ]
  },
  {
   "cell_type": "markdown",
   "metadata": {},
   "source": [
    "## TSNE\n",
    "Now let's plot the selected labels using TSNE to find if these groups overlap or are separated."
   ]
  },
  {
   "cell_type": "code",
   "execution_count": null,
   "metadata": {
    "ExecuteTime": {
     "end_time": "2020-10-27T21:39:19.426510Z",
     "start_time": "2020-10-27T21:39:19.126054Z"
    }
   },
   "outputs": [],
   "source": [
    "from sklearn.manifold import TSNE"
   ]
  },
  {
   "cell_type": "code",
   "execution_count": null,
   "metadata": {
    "ExecuteTime": {
     "end_time": "2020-10-27T21:39:19.713524Z",
     "start_time": "2020-10-27T21:39:19.429246Z"
    }
   },
   "outputs": [],
   "source": [
    "model = TSNE(learning_rate=100)"
   ]
  },
  {
   "cell_type": "code",
   "execution_count": null,
   "metadata": {
    "ExecuteTime": {
     "end_time": "2020-10-27T21:39:20.471455Z",
     "start_time": "2020-10-27T21:39:19.718469Z"
    }
   },
   "outputs": [],
   "source": [
    "transformed = model.fit_transform(no_values)"
   ]
  },
  {
   "cell_type": "code",
   "execution_count": null,
   "metadata": {
    "ExecuteTime": {
     "end_time": "2020-10-27T21:39:20.996235Z",
     "start_time": "2020-10-27T21:39:20.476442Z"
    }
   },
   "outputs": [],
   "source": [
    "color_map = {0: 'black',\n",
    "             1: 'red',\n",
    "             2: 'blue',\n",
    "             3: 'green'} \n",
    "\n",
    "colors = [color_map[x] for x in labels]\n",
    "\n",
    "plt.figure(figsize=(8, 8))\n",
    "plt.scatter(transformed[:, 0], transformed[:, 1], c=colors, alpha=0.8)\n",
    "plt.show()"
   ]
  },
  {
   "cell_type": "markdown",
   "metadata": {},
   "source": [
    "Excellent! They are well separated indicating that these groups are meaningful.\n",
    "\n",
    "Now let's add the labels found with K-meands back to the features dataframe."
   ]
  },
  {
   "cell_type": "code",
   "execution_count": null,
   "metadata": {
    "ExecuteTime": {
     "end_time": "2020-10-27T21:39:21.327202Z",
     "start_time": "2020-10-27T21:39:21.000042Z"
    }
   },
   "outputs": [],
   "source": [
    "features['kmeans_label'] = labels"
   ]
  },
  {
   "cell_type": "code",
   "execution_count": null,
   "metadata": {
    "ExecuteTime": {
     "end_time": "2020-10-27T21:39:21.661274Z",
     "start_time": "2020-10-27T21:39:21.334153Z"
    }
   },
   "outputs": [],
   "source": [
    "features.head()"
   ]
  },
  {
   "cell_type": "code",
   "execution_count": null,
   "metadata": {
    "ExecuteTime": {
     "end_time": "2020-10-27T21:39:22.225771Z",
     "start_time": "2020-10-27T21:39:21.665263Z"
    }
   },
   "outputs": [],
   "source": [
    "sns.stripplot(x='kmeans_label', y='tot_appr_val', data=features)\n",
    "plt.hlines(292707, 0, 3, colors='red', label='Target House')\n",
    "plt.legend(loc='upper right')"
   ]
  },
  {
   "cell_type": "markdown",
   "metadata": {},
   "source": [
    "So it looks like the target house is part of a group, but even there lands on the high end of the appraised value."
   ]
  },
  {
   "cell_type": "markdown",
   "metadata": {},
   "source": [
    "# Prepare the data for modeling\n",
    "Now that we have selected the features (areas and fixtures), built a new feature (K-means labels), verified that there are no null values, and selected the appropriate subset of the samples for the value modeling, we are ready to create the dummy features for the categorical variable (K-means labels), split the data, and scale it."
   ]
  },
  {
   "cell_type": "markdown",
   "metadata": {},
   "source": [
    "## Create dummy features for kmeans label"
   ]
  },
  {
   "cell_type": "code",
   "execution_count": null,
   "metadata": {
    "ExecuteTime": {
     "end_time": "2020-10-27T21:40:02.870568Z",
     "start_time": "2020-10-27T21:40:02.601279Z"
    }
   },
   "outputs": [],
   "source": [
    "feat_dummy = pd.get_dummies(features, columns=['kmeans_label'], drop_first=True)"
   ]
  },
  {
   "cell_type": "code",
   "execution_count": null,
   "metadata": {
    "ExecuteTime": {
     "end_time": "2020-10-27T21:40:03.580346Z",
     "start_time": "2020-10-27T21:40:03.288129Z"
    }
   },
   "outputs": [],
   "source": [
    "feat_dummy.head()"
   ]
  },
  {
   "cell_type": "markdown",
   "metadata": {},
   "source": [
    "## Split the data"
   ]
  },
  {
   "cell_type": "code",
   "execution_count": null,
   "metadata": {
    "ExecuteTime": {
     "end_time": "2020-10-27T21:43:25.884316Z",
     "start_time": "2020-10-27T21:43:25.665906Z"
    }
   },
   "outputs": [],
   "source": [
    "from sklearn.model_selection import train_test_split"
   ]
  },
  {
   "cell_type": "code",
   "execution_count": null,
   "metadata": {
    "ExecuteTime": {
     "end_time": "2020-10-27T21:43:10.310209Z",
     "start_time": "2020-10-27T21:43:09.989075Z"
    }
   },
   "outputs": [],
   "source": [
    "X = feat_dummy.drop(['tot_appr_val', 'prior_tot_appr_val'], axis=1)\n",
    "y = feat_dummy['tot_appr_val']"
   ]
  },
  {
   "cell_type": "code",
   "execution_count": null,
   "metadata": {
    "ExecuteTime": {
     "end_time": "2020-10-27T21:43:30.285994Z",
     "start_time": "2020-10-27T21:43:30.006435Z"
    }
   },
   "outputs": [],
   "source": [
    "X_train, X_test, y_train, y_test = train_test_split(X, y, test_size=0.3, random_state=42)"
   ]
  },
  {
   "cell_type": "markdown",
   "metadata": {},
   "source": [
    "## Standardize data"
   ]
  },
  {
   "cell_type": "code",
   "execution_count": null,
   "metadata": {
    "ExecuteTime": {
     "end_time": "2020-10-27T21:46:38.572146Z",
     "start_time": "2020-10-27T21:46:38.370404Z"
    }
   },
   "outputs": [],
   "source": [
    "from sklearn.preprocessing import StandardScaler"
   ]
  },
  {
   "cell_type": "code",
   "execution_count": null,
   "metadata": {
    "ExecuteTime": {
     "end_time": "2020-10-27T21:46:53.212149Z",
     "start_time": "2020-10-27T21:46:52.983760Z"
    }
   },
   "outputs": [],
   "source": [
    "scaler = StandardScaler()"
   ]
  },
  {
   "cell_type": "code",
   "execution_count": null,
   "metadata": {
    "ExecuteTime": {
     "end_time": "2020-10-27T21:48:18.571098Z",
     "start_time": "2020-10-27T21:48:18.240981Z"
    }
   },
   "outputs": [],
   "source": [
    "scaler.fit(X_train)"
   ]
  },
  {
   "cell_type": "code",
   "execution_count": null,
   "metadata": {
    "ExecuteTime": {
     "end_time": "2020-10-27T21:49:06.346474Z",
     "start_time": "2020-10-27T21:49:06.037304Z"
    }
   },
   "outputs": [],
   "source": [
    "X_train_scaled = scaler.transform(X_train)\n",
    "X_test_scaled = scaler.transform(X_test)"
   ]
  },
  {
   "cell_type": "code",
   "execution_count": null,
   "metadata": {
    "ExecuteTime": {
     "end_time": "2020-10-27T21:49:22.158011Z",
     "start_time": "2020-10-27T21:49:21.902696Z"
    }
   },
   "outputs": [],
   "source": [
    "y_scaler = StandardScaler()"
   ]
  },
  {
   "cell_type": "code",
   "execution_count": null,
   "metadata": {
    "ExecuteTime": {
     "end_time": "2020-10-27T21:50:27.062443Z",
     "start_time": "2020-10-27T21:50:26.765234Z"
    }
   },
   "outputs": [],
   "source": [
    "y_scaler.fit(y_train.to_numpy().reshape(-1, 1))"
   ]
  },
  {
   "cell_type": "code",
   "execution_count": null,
   "metadata": {
    "ExecuteTime": {
     "end_time": "2020-10-27T21:51:24.089289Z",
     "start_time": "2020-10-27T21:51:23.769146Z"
    }
   },
   "outputs": [],
   "source": [
    "y_train_scaled = y_scaler.transform(y_train.to_numpy().reshape(-1, 1))\n",
    "y_test_scaled = y_scaler.transform(y_test.to_numpy().reshape(-1, 1))"
   ]
  },
  {
   "cell_type": "code",
   "execution_count": null,
   "metadata": {},
   "outputs": [],
   "source": []
  }
 ],
 "metadata": {
  "kernelspec": {
   "display_name": "hcad_pred",
   "language": "python",
   "name": "hcad_pred"
  },
  "language_info": {
   "codemirror_mode": {
    "name": "ipython",
    "version": 3
   },
   "file_extension": ".py",
   "mimetype": "text/x-python",
   "name": "python",
   "nbconvert_exporter": "python",
   "pygments_lexer": "ipython3",
   "version": "3.7.8"
  },
  "toc": {
   "base_numbering": 1,
   "nav_menu": {},
   "number_sections": true,
   "sideBar": true,
   "skip_h1_title": false,
   "title_cell": "Table of Contents",
   "title_sidebar": "Contents",
   "toc_cell": false,
   "toc_position": {},
   "toc_section_display": true,
   "toc_window_display": false
  }
 },
 "nbformat": 4,
 "nbformat_minor": 4
}
