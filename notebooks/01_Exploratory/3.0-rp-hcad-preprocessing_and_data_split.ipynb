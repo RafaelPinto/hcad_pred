{
 "cells": [
  {
   "cell_type": "code",
   "execution_count": 1,
   "metadata": {
    "ExecuteTime": {
     "end_time": "2020-10-23T15:55:43.161425Z",
     "start_time": "2020-10-23T15:55:43.030432Z"
    }
   },
   "outputs": [],
   "source": [
    "%load_ext autoreload\n",
    "%autoreload 2"
   ]
  },
  {
   "cell_type": "code",
   "execution_count": 2,
   "metadata": {
    "ExecuteTime": {
     "end_time": "2020-10-23T15:55:47.446690Z",
     "start_time": "2020-10-23T15:55:43.162947Z"
    }
   },
   "outputs": [],
   "source": [
    "from pathlib import Path\n",
    "import pickle\n",
    "\n",
    "import numpy as np\n",
    "import pandas as pd\n",
    "\n",
    "import matplotlib.pyplot as plt\n",
    "import seaborn as sns\n",
    "\n",
    "from src.definitions import ROOT_DIR\n",
    "from src.data.utils import save_pickle"
   ]
  },
  {
   "cell_type": "code",
   "execution_count": 3,
   "metadata": {
    "ExecuteTime": {
     "end_time": "2020-10-23T15:55:47.646184Z",
     "start_time": "2020-10-23T15:55:47.449649Z"
    }
   },
   "outputs": [],
   "source": [
    "features_fn = ROOT_DIR / 'data/interim/2016/features.pickle'\n",
    "assert features_fn.exists()"
   ]
  },
  {
   "cell_type": "code",
   "execution_count": 4,
   "metadata": {
    "ExecuteTime": {
     "end_time": "2020-10-23T15:55:48.251645Z",
     "start_time": "2020-10-23T15:55:47.648139Z"
    }
   },
   "outputs": [],
   "source": [
    "features = pd.read_pickle(features_fn)"
   ]
  },
  {
   "cell_type": "code",
   "execution_count": 5,
   "metadata": {
    "ExecuteTime": {
     "end_time": "2020-10-23T15:55:48.498986Z",
     "start_time": "2020-10-23T15:55:48.253562Z"
    }
   },
   "outputs": [
    {
     "data": {
      "text/html": [
       "<div>\n",
       "<style scoped>\n",
       "    .dataframe tbody tr th:only-of-type {\n",
       "        vertical-align: middle;\n",
       "    }\n",
       "\n",
       "    .dataframe tbody tr th {\n",
       "        vertical-align: top;\n",
       "    }\n",
       "\n",
       "    .dataframe thead th {\n",
       "        text-align: right;\n",
       "    }\n",
       "</style>\n",
       "<table border=\"1\" class=\"dataframe\">\n",
       "  <thead>\n",
       "    <tr style=\"text-align: right;\">\n",
       "      <th></th>\n",
       "      <th>tot_appr_val</th>\n",
       "      <th>prior_tot_appr_val</th>\n",
       "      <th>prior_land_val</th>\n",
       "      <th>im_sq_ft</th>\n",
       "      <th>fixtures_total</th>\n",
       "      <th>room_full_bath</th>\n",
       "      <th>grade_adjustment</th>\n",
       "      <th>market_area_1_dscr</th>\n",
       "      <th>dscr</th>\n",
       "    </tr>\n",
       "  </thead>\n",
       "  <tbody>\n",
       "    <tr>\n",
       "      <th>549299</th>\n",
       "      <td>366025.0</td>\n",
       "      <td>332750.0</td>\n",
       "      <td>83544.0</td>\n",
       "      <td>2986.0</td>\n",
       "      <td>10.0</td>\n",
       "      <td>2.0</td>\n",
       "      <td>A+</td>\n",
       "      <td>ISD 19 - South of I-10 Katy Freeway</td>\n",
       "      <td>Excellent</td>\n",
       "    </tr>\n",
       "    <tr>\n",
       "      <th>193245</th>\n",
       "      <td>439230.0</td>\n",
       "      <td>399300.0</td>\n",
       "      <td>240000.0</td>\n",
       "      <td>1616.0</td>\n",
       "      <td>10.0</td>\n",
       "      <td>2.0</td>\n",
       "      <td>C+</td>\n",
       "      <td>1F Heights, Brooksmith, Norhill Areas</td>\n",
       "      <td>Average</td>\n",
       "    </tr>\n",
       "    <tr>\n",
       "      <th>306626</th>\n",
       "      <td>124470.0</td>\n",
       "      <td>117261.0</td>\n",
       "      <td>19044.0</td>\n",
       "      <td>2730.0</td>\n",
       "      <td>7.0</td>\n",
       "      <td>1.0</td>\n",
       "      <td>B-</td>\n",
       "      <td>1C South of Old Spanish Trail btwn SH 288 and ...</td>\n",
       "      <td>Good</td>\n",
       "    </tr>\n",
       "    <tr>\n",
       "      <th>813153</th>\n",
       "      <td>312785.0</td>\n",
       "      <td>284350.0</td>\n",
       "      <td>51013.0</td>\n",
       "      <td>3026.0</td>\n",
       "      <td>14.0</td>\n",
       "      <td>2.0</td>\n",
       "      <td>B</td>\n",
       "      <td>ISD 27 - West of NASA Parkway (I-45 Area)</td>\n",
       "      <td>Good</td>\n",
       "    </tr>\n",
       "    <tr>\n",
       "      <th>767098</th>\n",
       "      <td>101640.0</td>\n",
       "      <td>92400.0</td>\n",
       "      <td>15435.0</td>\n",
       "      <td>1654.0</td>\n",
       "      <td>11.0</td>\n",
       "      <td>2.0</td>\n",
       "      <td>C</td>\n",
       "      <td>ISD 04 - Far West, South of US 290/North of FM...</td>\n",
       "      <td>Average</td>\n",
       "    </tr>\n",
       "    <tr>\n",
       "      <th>426000</th>\n",
       "      <td>57415.0</td>\n",
       "      <td>57415.0</td>\n",
       "      <td>12701.0</td>\n",
       "      <td>1288.0</td>\n",
       "      <td>5.0</td>\n",
       "      <td>1.0</td>\n",
       "      <td>D</td>\n",
       "      <td>ISD 09 - Outside Airport Tiers, East of I-45</td>\n",
       "      <td>Low</td>\n",
       "    </tr>\n",
       "    <tr>\n",
       "      <th>555704</th>\n",
       "      <td>124223.0</td>\n",
       "      <td>115381.0</td>\n",
       "      <td>21450.0</td>\n",
       "      <td>1858.0</td>\n",
       "      <td>8.0</td>\n",
       "      <td>2.0</td>\n",
       "      <td>C</td>\n",
       "      <td>ISD 04 - Southwest, Outside Hwy 6, South of FM...</td>\n",
       "      <td>Average</td>\n",
       "    </tr>\n",
       "    <tr>\n",
       "      <th>832830</th>\n",
       "      <td>206321.0</td>\n",
       "      <td>199773.0</td>\n",
       "      <td>39647.0</td>\n",
       "      <td>1857.0</td>\n",
       "      <td>10.0</td>\n",
       "      <td>2.0</td>\n",
       "      <td>C+</td>\n",
       "      <td>ISD 27 - West of NASA Parkway (I-45 Area)</td>\n",
       "      <td>Average</td>\n",
       "    </tr>\n",
       "    <tr>\n",
       "      <th>65064</th>\n",
       "      <td>147649.0</td>\n",
       "      <td>132187.0</td>\n",
       "      <td>21303.0</td>\n",
       "      <td>2053.0</td>\n",
       "      <td>11.0</td>\n",
       "      <td>2.0</td>\n",
       "      <td>C</td>\n",
       "      <td>ISD 09 - Airport Tiers Area</td>\n",
       "      <td>Average</td>\n",
       "    </tr>\n",
       "    <tr>\n",
       "      <th>833171</th>\n",
       "      <td>650000.0</td>\n",
       "      <td>682000.0</td>\n",
       "      <td>142237.0</td>\n",
       "      <td>3957.0</td>\n",
       "      <td>23.0</td>\n",
       "      <td>4.0</td>\n",
       "      <td>A+</td>\n",
       "      <td>ISD 04 - South of US 290, btwn Beltway 8 and H...</td>\n",
       "      <td>Superior</td>\n",
       "    </tr>\n",
       "  </tbody>\n",
       "</table>\n",
       "</div>"
      ],
      "text/plain": [
       "        tot_appr_val  prior_tot_appr_val  prior_land_val  im_sq_ft  \\\n",
       "549299      366025.0            332750.0         83544.0    2986.0   \n",
       "193245      439230.0            399300.0        240000.0    1616.0   \n",
       "306626      124470.0            117261.0         19044.0    2730.0   \n",
       "813153      312785.0            284350.0         51013.0    3026.0   \n",
       "767098      101640.0             92400.0         15435.0    1654.0   \n",
       "426000       57415.0             57415.0         12701.0    1288.0   \n",
       "555704      124223.0            115381.0         21450.0    1858.0   \n",
       "832830      206321.0            199773.0         39647.0    1857.0   \n",
       "65064       147649.0            132187.0         21303.0    2053.0   \n",
       "833171      650000.0            682000.0        142237.0    3957.0   \n",
       "\n",
       "        fixtures_total  room_full_bath grade_adjustment  \\\n",
       "549299            10.0             2.0               A+   \n",
       "193245            10.0             2.0               C+   \n",
       "306626             7.0             1.0               B-   \n",
       "813153            14.0             2.0                B   \n",
       "767098            11.0             2.0                C   \n",
       "426000             5.0             1.0                D   \n",
       "555704             8.0             2.0                C   \n",
       "832830            10.0             2.0               C+   \n",
       "65064             11.0             2.0                C   \n",
       "833171            23.0             4.0               A+   \n",
       "\n",
       "                                       market_area_1_dscr       dscr  \n",
       "549299                ISD 19 - South of I-10 Katy Freeway  Excellent  \n",
       "193245              1F Heights, Brooksmith, Norhill Areas    Average  \n",
       "306626  1C South of Old Spanish Trail btwn SH 288 and ...       Good  \n",
       "813153          ISD 27 - West of NASA Parkway (I-45 Area)       Good  \n",
       "767098  ISD 04 - Far West, South of US 290/North of FM...    Average  \n",
       "426000       ISD 09 - Outside Airport Tiers, East of I-45        Low  \n",
       "555704  ISD 04 - Southwest, Outside Hwy 6, South of FM...    Average  \n",
       "832830          ISD 27 - West of NASA Parkway (I-45 Area)    Average  \n",
       "65064                         ISD 09 - Airport Tiers Area    Average  \n",
       "833171  ISD 04 - South of US 290, btwn Beltway 8 and H...   Superior  "
      ]
     },
     "execution_count": 5,
     "metadata": {},
     "output_type": "execute_result"
    }
   ],
   "source": [
    "features.sample(10)"
   ]
  },
  {
   "cell_type": "code",
   "execution_count": 6,
   "metadata": {
    "ExecuteTime": {
     "end_time": "2020-10-23T15:55:48.793773Z",
     "start_time": "2020-10-23T15:55:48.501975Z"
    }
   },
   "outputs": [
    {
     "data": {
      "text/plain": [
       "array(['1B South of US 90, West of SH 288', 'ISD 21 - Pasadena ISD',\n",
       "       'ISD 06 - Channelview ISD', 'ISD 26 - Tomball ISD',\n",
       "       'ISD 04 - Far West, South of US 290/North of FM 529',\n",
       "       'ISD 09 - Outside Airport Tiers, West of I-45',\n",
       "       'ISD 04 - Far Northwest, Outside Hwy 6', 'ISD 17 - Klein ISD',\n",
       "       'ISD 24 - South of FM 1960', 'ISD 08 - Alief General',\n",
       "       'ISD 19 - North of I-10 Katy Freeway',\n",
       "       '1F Lazybrook, Timbergrove, Washington Corridor',\n",
       "       'ISD 18 - Outside Airport Tiers,  Atascocita Area',\n",
       "       'ISD 04 - Southwest, Outside Hwy 6, South of FM 529',\n",
       "       'ISD 04 - Northwest, btwn Beltway 8 and Hwy 6',\n",
       "       'ISD 23 - Sheldon ISD',\n",
       "       '1F  Highland Heights, Acres Homes, Pinemont Area',\n",
       "       '1D Lyons, Denver/Houston Harbor, Pleasantville',\n",
       "       '1B NRG Park, Texas Medical Center Areas',\n",
       "       '1A Tanglewood, Galleria, Briargrove Areas',\n",
       "       '1B Bellaire, West University, Southampton Areas',\n",
       "       'ISD 27 - West of NASA Parkway (I-45 Area)',\n",
       "       '1F Oak Forest, Garden Oaks, Independence Heights',\n",
       "       'ISD 20 - West of Bay Area Blvd', 'ISD 07 - New Caney ISD',\n",
       "       'ISD 24 - North of Cypress Creek', 'ISD 18 - Kingwood Area',\n",
       "       '1F Heights, Brooksmith, Norhill Areas',\n",
       "       'ISD 27 - East of NASA Parkway (Water Area)',\n",
       "       '1F Montrose, Fourth Ward Areas',\n",
       "       'ISD 19 - South of I-10 Katy Freeway',\n",
       "       '1D Navigation, Harrisburg, Lawndale Areas',\n",
       "       'ISD 09 - Airport Tiers Area',\n",
       "       '1A Westheimer to Westpark, Loop 610 to Gessner',\n",
       "       '1E Liberty/Kashmere/Houston/Croyden Gardens Areas',\n",
       "       'ISD 15 - Galena Park ISD',\n",
       "       'ISD 04 - South of US 290, btwn Beltway 8 and Hwy 6',\n",
       "       'ISD 02 - Deer Park ISD', 'ISD 04 - Inside Beltway 8',\n",
       "       '1B Linkwood, Willow Meadows, Knollwood Vlg Areas',\n",
       "       '1C Midtown, Riverside Terrace, University Areas',\n",
       "       '1E Ryon, Irvington, Lindale Areas', 'ISD 30 - Huffman ISD',\n",
       "       'ISD 16 - Baytown Sterling Area',\n",
       "       'ISD 24 - West of I-45, North of FM 1960',\n",
       "       '1A Ashford/Briar Hills Areas',\n",
       "       '1C South of Old Spanish Trail btwn SH 288 and I-45',\n",
       "       'ISD 18 - Airport Tiers South of San Jacinto River',\n",
       "       '1F Afton Oaks, Highland Village, Weslayan Areas',\n",
       "       '1D Park Place, Glenbrook, Oak Meadows Areas',\n",
       "       'ISD 05 - Crosby ISD',\n",
       "       'ISD 16 - South of SH 146 (Baytown Lee Area)',\n",
       "       'ISD 16 - North of I-10 (Baytown Memorial Area)',\n",
       "       'ISD 25 - Memorial Villages North of I-10',\n",
       "       'ISD 20 - East of Bay Area Blvd',\n",
       "       'ISD 25 - North of I-10 Outside Memorial Villages',\n",
       "       'ISD 09 - Outside Airport Tiers, East of I-45',\n",
       "       '1F River Oaks Area', 'ISD 25 - Memorial Villages South of I-10',\n",
       "       '1J Former North Forest ISD',\n",
       "       '1B Meyerland, Maplewood, Westbury Areas', 'ISD 03 - Waller ISD',\n",
       "       '1B Fondren Southwest Area',\n",
       "       '1F Hempstead Hwy/US 290 Corridor - Langwood Area',\n",
       "       'ISD 25 - West of Memorial Villages, South of I-10',\n",
       "       'ISD 29 - Pearland ISD', 'ISD 08 - Royal Oaks',\n",
       "       '1A Sharpstown Area', 'ISD 31 - Stafford MSD'], dtype=object)"
      ]
     },
     "execution_count": 6,
     "metadata": {},
     "output_type": "execute_result"
    }
   ],
   "source": [
    "features['market_area_1_dscr'].unique()"
   ]
  },
  {
   "cell_type": "code",
   "execution_count": 7,
   "metadata": {
    "ExecuteTime": {
     "end_time": "2020-10-23T15:55:49.035437Z",
     "start_time": "2020-10-23T15:55:48.795730Z"
    }
   },
   "outputs": [],
   "source": [
    "cond0 = features['market_area_1_dscr'] == 'ISD 17 - Klein ISD'\n",
    "\n",
    "klein = features.loc[cond0, :]"
   ]
  },
  {
   "cell_type": "code",
   "execution_count": 8,
   "metadata": {
    "ExecuteTime": {
     "end_time": "2020-10-23T15:55:49.203670Z",
     "start_time": "2020-10-23T15:55:49.039096Z"
    }
   },
   "outputs": [
    {
     "data": {
      "text/plain": [
       "(70367, 9)"
      ]
     },
     "execution_count": 8,
     "metadata": {},
     "output_type": "execute_result"
    }
   ],
   "source": [
    "klein.shape"
   ]
  },
  {
   "cell_type": "code",
   "execution_count": 9,
   "metadata": {
    "ExecuteTime": {
     "end_time": "2020-10-23T15:55:49.826411Z",
     "start_time": "2020-10-23T15:55:49.207659Z"
    }
   },
   "outputs": [
    {
     "data": {
      "text/plain": [
       "<AxesSubplot:>"
      ]
     },
     "execution_count": 9,
     "metadata": {},
     "output_type": "execute_result"
    },
    {
     "data": {
      "image/png": "[encoded data removed]",
      "text/plain": [
       "<Figure size 432x288 with 1 Axes>"
      ]
     },
     "metadata": {
      "needs_background": "light"
     },
     "output_type": "display_data"
    }
   ],
   "source": [
    "klein['tot_appr_val'].hist()"
   ]
  },
  {
   "cell_type": "code",
   "execution_count": 10,
   "metadata": {
    "ExecuteTime": {
     "end_time": "2020-10-23T15:55:50.134606Z",
     "start_time": "2020-10-23T15:55:49.841371Z"
    }
   },
   "outputs": [
    {
     "data": {
      "text/plain": [
       "Index(['tot_appr_val', 'prior_tot_appr_val', 'prior_land_val', 'im_sq_ft',\n",
       "       'fixtures_total', 'room_full_bath', 'grade_adjustment',\n",
       "       'market_area_1_dscr', 'dscr'],\n",
       "      dtype='object')"
      ]
     },
     "execution_count": 10,
     "metadata": {},
     "output_type": "execute_result"
    }
   ],
   "source": [
    "klein.columns"
   ]
  },
  {
   "cell_type": "code",
   "execution_count": 11,
   "metadata": {
    "ExecuteTime": {
     "end_time": "2020-10-23T15:55:50.322893Z",
     "start_time": "2020-10-23T15:55:50.136601Z"
    }
   },
   "outputs": [],
   "source": [
    "# cond0 = klein['tot_appr_val'] == \n",
    "cond1 = klein['prior_tot_appr_val'] == 267810\n",
    "cond2 = klein['prior_land_val'] == 36313\n",
    "cond3 = klein['im_sq_ft'] == 2697\n",
    "cond4 = klein['fixtures_total'] == 15\n",
    "cond5 = klein['room_full_bath'] == 3\n",
    "cond6 = klein['dscr'] == 'Good'"
   ]
  },
  {
   "cell_type": "code",
   "execution_count": 12,
   "metadata": {
    "ExecuteTime": {
     "end_time": "2020-10-23T15:55:50.522897Z",
     "start_time": "2020-10-23T15:55:50.325414Z"
    }
   },
   "outputs": [
    {
     "data": {
      "text/html": [
       "<div>\n",
       "<style scoped>\n",
       "    .dataframe tbody tr th:only-of-type {\n",
       "        vertical-align: middle;\n",
       "    }\n",
       "\n",
       "    .dataframe tbody tr th {\n",
       "        vertical-align: top;\n",
       "    }\n",
       "\n",
       "    .dataframe thead th {\n",
       "        text-align: right;\n",
       "    }\n",
       "</style>\n",
       "<table border=\"1\" class=\"dataframe\">\n",
       "  <thead>\n",
       "    <tr style=\"text-align: right;\">\n",
       "      <th></th>\n",
       "      <th>tot_appr_val</th>\n",
       "      <th>prior_tot_appr_val</th>\n",
       "      <th>prior_land_val</th>\n",
       "      <th>im_sq_ft</th>\n",
       "      <th>fixtures_total</th>\n",
       "      <th>room_full_bath</th>\n",
       "      <th>grade_adjustment</th>\n",
       "      <th>market_area_1_dscr</th>\n",
       "      <th>dscr</th>\n",
       "    </tr>\n",
       "  </thead>\n",
       "  <tbody>\n",
       "    <tr>\n",
       "      <th>147030</th>\n",
       "      <td>263704.0</td>\n",
       "      <td>267810.0</td>\n",
       "      <td>36313.0</td>\n",
       "      <td>2697.0</td>\n",
       "      <td>15.0</td>\n",
       "      <td>3.0</td>\n",
       "      <td>B-</td>\n",
       "      <td>ISD 17 - Klein ISD</td>\n",
       "      <td>Good</td>\n",
       "    </tr>\n",
       "  </tbody>\n",
       "</table>\n",
       "</div>"
      ],
      "text/plain": [
       "        tot_appr_val  prior_tot_appr_val  prior_land_val  im_sq_ft  \\\n",
       "147030      263704.0            267810.0         36313.0    2697.0   \n",
       "\n",
       "        fixtures_total  room_full_bath grade_adjustment  market_area_1_dscr  \\\n",
       "147030            15.0             3.0               B-  ISD 17 - Klein ISD   \n",
       "\n",
       "        dscr  \n",
       "147030  Good  "
      ]
     },
     "execution_count": 12,
     "metadata": {},
     "output_type": "execute_result"
    }
   ],
   "source": [
    "klein.loc[cond1, :]"
   ]
  },
  {
   "cell_type": "code",
   "execution_count": 13,
   "metadata": {
    "ExecuteTime": {
     "end_time": "2020-10-23T15:55:54.496193Z",
     "start_time": "2020-10-23T15:55:54.276398Z"
    }
   },
   "outputs": [],
   "source": [
    "klein = klein.drop(labels=['grade_adjustment', 'market_area_1_dscr'], axis=1)"
   ]
  },
  {
   "cell_type": "code",
   "execution_count": 14,
   "metadata": {
    "ExecuteTime": {
     "end_time": "2020-10-23T15:55:57.739101Z",
     "start_time": "2020-10-23T15:55:57.492706Z"
    }
   },
   "outputs": [
    {
     "data": {
      "text/html": [
       "<div>\n",
       "<style scoped>\n",
       "    .dataframe tbody tr th:only-of-type {\n",
       "        vertical-align: middle;\n",
       "    }\n",
       "\n",
       "    .dataframe tbody tr th {\n",
       "        vertical-align: top;\n",
       "    }\n",
       "\n",
       "    .dataframe thead th {\n",
       "        text-align: right;\n",
       "    }\n",
       "</style>\n",
       "<table border=\"1\" class=\"dataframe\">\n",
       "  <thead>\n",
       "    <tr style=\"text-align: right;\">\n",
       "      <th></th>\n",
       "      <th>tot_appr_val</th>\n",
       "      <th>prior_tot_appr_val</th>\n",
       "      <th>prior_land_val</th>\n",
       "      <th>im_sq_ft</th>\n",
       "      <th>fixtures_total</th>\n",
       "      <th>room_full_bath</th>\n",
       "      <th>dscr</th>\n",
       "    </tr>\n",
       "  </thead>\n",
       "  <tbody>\n",
       "    <tr>\n",
       "      <th>82</th>\n",
       "      <td>269709.0</td>\n",
       "      <td>245190.0</td>\n",
       "      <td>47952.0</td>\n",
       "      <td>3876.0</td>\n",
       "      <td>13.0</td>\n",
       "      <td>3.0</td>\n",
       "      <td>Good</td>\n",
       "    </tr>\n",
       "    <tr>\n",
       "      <th>83</th>\n",
       "      <td>316624.0</td>\n",
       "      <td>259486.0</td>\n",
       "      <td>48754.0</td>\n",
       "      <td>4111.0</td>\n",
       "      <td>15.0</td>\n",
       "      <td>3.0</td>\n",
       "      <td>Good</td>\n",
       "    </tr>\n",
       "    <tr>\n",
       "      <th>84</th>\n",
       "      <td>291296.0</td>\n",
       "      <td>236650.0</td>\n",
       "      <td>48930.0</td>\n",
       "      <td>3760.0</td>\n",
       "      <td>15.0</td>\n",
       "      <td>3.0</td>\n",
       "      <td>Good</td>\n",
       "    </tr>\n",
       "    <tr>\n",
       "      <th>85</th>\n",
       "      <td>283893.0</td>\n",
       "      <td>258085.0</td>\n",
       "      <td>49026.0</td>\n",
       "      <td>3928.0</td>\n",
       "      <td>16.0</td>\n",
       "      <td>1.0</td>\n",
       "      <td>Good</td>\n",
       "    </tr>\n",
       "    <tr>\n",
       "      <th>86</th>\n",
       "      <td>249603.0</td>\n",
       "      <td>226912.0</td>\n",
       "      <td>48650.0</td>\n",
       "      <td>3402.0</td>\n",
       "      <td>16.0</td>\n",
       "      <td>3.0</td>\n",
       "      <td>Good</td>\n",
       "    </tr>\n",
       "    <tr>\n",
       "      <th>...</th>\n",
       "      <td>...</td>\n",
       "      <td>...</td>\n",
       "      <td>...</td>\n",
       "      <td>...</td>\n",
       "      <td>...</td>\n",
       "      <td>...</td>\n",
       "      <td>...</td>\n",
       "    </tr>\n",
       "    <tr>\n",
       "      <th>957555</th>\n",
       "      <td>272603.0</td>\n",
       "      <td>247821.0</td>\n",
       "      <td>48662.0</td>\n",
       "      <td>3760.0</td>\n",
       "      <td>15.0</td>\n",
       "      <td>3.0</td>\n",
       "      <td>Good</td>\n",
       "    </tr>\n",
       "    <tr>\n",
       "      <th>957556</th>\n",
       "      <td>269830.0</td>\n",
       "      <td>245300.0</td>\n",
       "      <td>48754.0</td>\n",
       "      <td>3781.0</td>\n",
       "      <td>13.0</td>\n",
       "      <td>3.0</td>\n",
       "      <td>Good</td>\n",
       "    </tr>\n",
       "    <tr>\n",
       "      <th>957557</th>\n",
       "      <td>269047.0</td>\n",
       "      <td>244589.0</td>\n",
       "      <td>48637.0</td>\n",
       "      <td>3760.0</td>\n",
       "      <td>15.0</td>\n",
       "      <td>3.0</td>\n",
       "      <td>Good</td>\n",
       "    </tr>\n",
       "    <tr>\n",
       "      <th>957558</th>\n",
       "      <td>263793.0</td>\n",
       "      <td>239812.0</td>\n",
       "      <td>48640.0</td>\n",
       "      <td>4111.0</td>\n",
       "      <td>15.0</td>\n",
       "      <td>3.0</td>\n",
       "      <td>Good</td>\n",
       "    </tr>\n",
       "    <tr>\n",
       "      <th>957559</th>\n",
       "      <td>271824.0</td>\n",
       "      <td>247113.0</td>\n",
       "      <td>48636.0</td>\n",
       "      <td>3876.0</td>\n",
       "      <td>16.0</td>\n",
       "      <td>4.0</td>\n",
       "      <td>Good</td>\n",
       "    </tr>\n",
       "  </tbody>\n",
       "</table>\n",
       "<p>70367 rows × 7 columns</p>\n",
       "</div>"
      ],
      "text/plain": [
       "        tot_appr_val  prior_tot_appr_val  prior_land_val  im_sq_ft  \\\n",
       "82          269709.0            245190.0         47952.0    3876.0   \n",
       "83          316624.0            259486.0         48754.0    4111.0   \n",
       "84          291296.0            236650.0         48930.0    3760.0   \n",
       "85          283893.0            258085.0         49026.0    3928.0   \n",
       "86          249603.0            226912.0         48650.0    3402.0   \n",
       "...              ...                 ...             ...       ...   \n",
       "957555      272603.0            247821.0         48662.0    3760.0   \n",
       "957556      269830.0            245300.0         48754.0    3781.0   \n",
       "957557      269047.0            244589.0         48637.0    3760.0   \n",
       "957558      263793.0            239812.0         48640.0    4111.0   \n",
       "957559      271824.0            247113.0         48636.0    3876.0   \n",
       "\n",
       "        fixtures_total  room_full_bath  dscr  \n",
       "82                13.0             3.0  Good  \n",
       "83                15.0             3.0  Good  \n",
       "84                15.0             3.0  Good  \n",
       "85                16.0             1.0  Good  \n",
       "86                16.0             3.0  Good  \n",
       "...                ...             ...   ...  \n",
       "957555            15.0             3.0  Good  \n",
       "957556            13.0             3.0  Good  \n",
       "957557            15.0             3.0  Good  \n",
       "957558            15.0             3.0  Good  \n",
       "957559            16.0             4.0  Good  \n",
       "\n",
       "[70367 rows x 7 columns]"
      ]
     },
     "execution_count": 14,
     "metadata": {},
     "output_type": "execute_result"
    }
   ],
   "source": [
    "klein"
   ]
  },
  {
   "cell_type": "code",
   "execution_count": 16,
   "metadata": {
    "ExecuteTime": {
     "end_time": "2020-10-23T15:58:01.752958Z",
     "start_time": "2020-10-23T15:58:01.536494Z"
    }
   },
   "outputs": [],
   "source": [
    "dscr_order = {'Superior': 5, 'Excellent': 4, 'Good': 3, 'Average': 2, 'Low': 1, 'Very Low': 0}"
   ]
  },
  {
   "cell_type": "code",
   "execution_count": 24,
   "metadata": {
    "ExecuteTime": {
     "end_time": "2020-10-23T16:00:35.805483Z",
     "start_time": "2020-10-23T16:00:35.626957Z"
    }
   },
   "outputs": [],
   "source": [
    "klein['dscr'] = klein['dscr'].map(dscr_order)"
   ]
  },
  {
   "cell_type": "code",
   "execution_count": 25,
   "metadata": {
    "ExecuteTime": {
     "end_time": "2020-10-23T16:00:40.445280Z",
     "start_time": "2020-10-23T16:00:40.266753Z"
    }
   },
   "outputs": [
    {
     "data": {
      "text/html": [
       "<div>\n",
       "<style scoped>\n",
       "    .dataframe tbody tr th:only-of-type {\n",
       "        vertical-align: middle;\n",
       "    }\n",
       "\n",
       "    .dataframe tbody tr th {\n",
       "        vertical-align: top;\n",
       "    }\n",
       "\n",
       "    .dataframe thead th {\n",
       "        text-align: right;\n",
       "    }\n",
       "</style>\n",
       "<table border=\"1\" class=\"dataframe\">\n",
       "  <thead>\n",
       "    <tr style=\"text-align: right;\">\n",
       "      <th></th>\n",
       "      <th>tot_appr_val</th>\n",
       "      <th>prior_tot_appr_val</th>\n",
       "      <th>prior_land_val</th>\n",
       "      <th>im_sq_ft</th>\n",
       "      <th>fixtures_total</th>\n",
       "      <th>room_full_bath</th>\n",
       "      <th>dscr</th>\n",
       "    </tr>\n",
       "  </thead>\n",
       "  <tbody>\n",
       "    <tr>\n",
       "      <th>82</th>\n",
       "      <td>269709.0</td>\n",
       "      <td>245190.0</td>\n",
       "      <td>47952.0</td>\n",
       "      <td>3876.0</td>\n",
       "      <td>13.0</td>\n",
       "      <td>3.0</td>\n",
       "      <td>3</td>\n",
       "    </tr>\n",
       "    <tr>\n",
       "      <th>83</th>\n",
       "      <td>316624.0</td>\n",
       "      <td>259486.0</td>\n",
       "      <td>48754.0</td>\n",
       "      <td>4111.0</td>\n",
       "      <td>15.0</td>\n",
       "      <td>3.0</td>\n",
       "      <td>3</td>\n",
       "    </tr>\n",
       "    <tr>\n",
       "      <th>84</th>\n",
       "      <td>291296.0</td>\n",
       "      <td>236650.0</td>\n",
       "      <td>48930.0</td>\n",
       "      <td>3760.0</td>\n",
       "      <td>15.0</td>\n",
       "      <td>3.0</td>\n",
       "      <td>3</td>\n",
       "    </tr>\n",
       "    <tr>\n",
       "      <th>85</th>\n",
       "      <td>283893.0</td>\n",
       "      <td>258085.0</td>\n",
       "      <td>49026.0</td>\n",
       "      <td>3928.0</td>\n",
       "      <td>16.0</td>\n",
       "      <td>1.0</td>\n",
       "      <td>3</td>\n",
       "    </tr>\n",
       "    <tr>\n",
       "      <th>86</th>\n",
       "      <td>249603.0</td>\n",
       "      <td>226912.0</td>\n",
       "      <td>48650.0</td>\n",
       "      <td>3402.0</td>\n",
       "      <td>16.0</td>\n",
       "      <td>3.0</td>\n",
       "      <td>3</td>\n",
       "    </tr>\n",
       "    <tr>\n",
       "      <th>...</th>\n",
       "      <td>...</td>\n",
       "      <td>...</td>\n",
       "      <td>...</td>\n",
       "      <td>...</td>\n",
       "      <td>...</td>\n",
       "      <td>...</td>\n",
       "      <td>...</td>\n",
       "    </tr>\n",
       "    <tr>\n",
       "      <th>957555</th>\n",
       "      <td>272603.0</td>\n",
       "      <td>247821.0</td>\n",
       "      <td>48662.0</td>\n",
       "      <td>3760.0</td>\n",
       "      <td>15.0</td>\n",
       "      <td>3.0</td>\n",
       "      <td>3</td>\n",
       "    </tr>\n",
       "    <tr>\n",
       "      <th>957556</th>\n",
       "      <td>269830.0</td>\n",
       "      <td>245300.0</td>\n",
       "      <td>48754.0</td>\n",
       "      <td>3781.0</td>\n",
       "      <td>13.0</td>\n",
       "      <td>3.0</td>\n",
       "      <td>3</td>\n",
       "    </tr>\n",
       "    <tr>\n",
       "      <th>957557</th>\n",
       "      <td>269047.0</td>\n",
       "      <td>244589.0</td>\n",
       "      <td>48637.0</td>\n",
       "      <td>3760.0</td>\n",
       "      <td>15.0</td>\n",
       "      <td>3.0</td>\n",
       "      <td>3</td>\n",
       "    </tr>\n",
       "    <tr>\n",
       "      <th>957558</th>\n",
       "      <td>263793.0</td>\n",
       "      <td>239812.0</td>\n",
       "      <td>48640.0</td>\n",
       "      <td>4111.0</td>\n",
       "      <td>15.0</td>\n",
       "      <td>3.0</td>\n",
       "      <td>3</td>\n",
       "    </tr>\n",
       "    <tr>\n",
       "      <th>957559</th>\n",
       "      <td>271824.0</td>\n",
       "      <td>247113.0</td>\n",
       "      <td>48636.0</td>\n",
       "      <td>3876.0</td>\n",
       "      <td>16.0</td>\n",
       "      <td>4.0</td>\n",
       "      <td>3</td>\n",
       "    </tr>\n",
       "  </tbody>\n",
       "</table>\n",
       "<p>70367 rows × 7 columns</p>\n",
       "</div>"
      ],
      "text/plain": [
       "        tot_appr_val  prior_tot_appr_val  prior_land_val  im_sq_ft  \\\n",
       "82          269709.0            245190.0         47952.0    3876.0   \n",
       "83          316624.0            259486.0         48754.0    4111.0   \n",
       "84          291296.0            236650.0         48930.0    3760.0   \n",
       "85          283893.0            258085.0         49026.0    3928.0   \n",
       "86          249603.0            226912.0         48650.0    3402.0   \n",
       "...              ...                 ...             ...       ...   \n",
       "957555      272603.0            247821.0         48662.0    3760.0   \n",
       "957556      269830.0            245300.0         48754.0    3781.0   \n",
       "957557      269047.0            244589.0         48637.0    3760.0   \n",
       "957558      263793.0            239812.0         48640.0    4111.0   \n",
       "957559      271824.0            247113.0         48636.0    3876.0   \n",
       "\n",
       "        fixtures_total  room_full_bath  dscr  \n",
       "82                13.0             3.0     3  \n",
       "83                15.0             3.0     3  \n",
       "84                15.0             3.0     3  \n",
       "85                16.0             1.0     3  \n",
       "86                16.0             3.0     3  \n",
       "...                ...             ...   ...  \n",
       "957555            15.0             3.0     3  \n",
       "957556            13.0             3.0     3  \n",
       "957557            15.0             3.0     3  \n",
       "957558            15.0             3.0     3  \n",
       "957559            16.0             4.0     3  \n",
       "\n",
       "[70367 rows x 7 columns]"
      ]
     },
     "execution_count": 25,
     "metadata": {},
     "output_type": "execute_result"
    }
   ],
   "source": [
    "klein"
   ]
  },
  {
   "cell_type": "code",
   "execution_count": 34,
   "metadata": {
    "ExecuteTime": {
     "end_time": "2020-10-23T16:19:25.970096Z",
     "start_time": "2020-10-23T16:19:25.690591Z"
    }
   },
   "outputs": [],
   "source": [
    "from sklearn.cluster import KMeans"
   ]
  },
  {
   "cell_type": "markdown",
   "metadata": {},
   "source": [
    "# Check for NaNs"
   ]
  },
  {
   "cell_type": "code",
   "execution_count": 35,
   "metadata": {
    "ExecuteTime": {
     "end_time": "2020-10-23T16:19:51.721001Z",
     "start_time": "2020-10-23T16:19:51.430774Z"
    }
   },
   "outputs": [
    {
     "data": {
      "text/plain": [
       "tot_appr_val          0.000000\n",
       "prior_tot_appr_val    0.003396\n",
       "prior_land_val        0.003396\n",
       "im_sq_ft              0.000000\n",
       "fixtures_total        0.000000\n",
       "room_full_bath        0.000000\n",
       "dscr                  0.000000\n",
       "dtype: float64"
      ]
     },
     "execution_count": 35,
     "metadata": {},
     "output_type": "execute_result"
    }
   ],
   "source": [
    "klein.isna().sum() / klein.shape[0]"
   ]
  },
  {
   "cell_type": "markdown",
   "metadata": {},
   "source": [
    "## Remove NaNs"
   ]
  },
  {
   "cell_type": "code",
   "execution_count": 38,
   "metadata": {
    "ExecuteTime": {
     "end_time": "2020-10-23T16:21:20.211502Z",
     "start_time": "2020-10-23T16:21:19.981805Z"
    }
   },
   "outputs": [],
   "source": [
    "klein = klein.dropna()"
   ]
  },
  {
   "cell_type": "markdown",
   "metadata": {},
   "source": [
    "# Find neighbours"
   ]
  },
  {
   "cell_type": "code",
   "execution_count": 40,
   "metadata": {
    "ExecuteTime": {
     "end_time": "2020-10-23T16:22:21.259779Z",
     "start_time": "2020-10-23T16:21:55.058070Z"
    }
   },
   "outputs": [
    {
     "data": {
      "image/png": "[encoded data removed]",
      "text/plain": [
       "<Figure size 432x288 with 1 Axes>"
      ]
     },
     "metadata": {
      "needs_background": "light"
     },
     "output_type": "display_data"
    }
   ],
   "source": [
    "ks = range(1, 12)\n",
    "inertias = []\n",
    "\n",
    "for k in ks:\n",
    "    # Create a KMeans instance with k clusters: model\n",
    "    model = KMeans(n_clusters=k)\n",
    "    \n",
    "    # Fit model to samples\n",
    "    model.fit(klein)\n",
    "    \n",
    "    # Append the inertia to the list of inertias\n",
    "    inertias.append(model.inertia_)\n",
    "    \n",
    "# Plot ks vs inertias\n",
    "plt.plot(ks, inertias, '-o')\n",
    "plt.xlabel('number of clusters, k')\n",
    "plt.ylabel('inertia')\n",
    "plt.xticks(ks)\n",
    "plt.show()"
   ]
  },
  {
   "cell_type": "markdown",
   "metadata": {},
   "source": [
    "Seems like 6 is a good choice"
   ]
  },
  {
   "cell_type": "code",
   "execution_count": 54,
   "metadata": {
    "ExecuteTime": {
     "end_time": "2020-10-23T17:13:19.551594Z",
     "start_time": "2020-10-23T17:13:18.520581Z"
    }
   },
   "outputs": [],
   "source": [
    "model = KMeans(n_clusters=6)"
   ]
  },
  {
   "cell_type": "code",
   "execution_count": 55,
   "metadata": {
    "ExecuteTime": {
     "end_time": "2020-10-23T17:13:27.055398Z",
     "start_time": "2020-10-23T17:13:19.579600Z"
    }
   },
   "outputs": [],
   "source": [
    "labels = model.fit_predict(klein)"
   ]
  },
  {
   "cell_type": "code",
   "execution_count": 44,
   "metadata": {
    "ExecuteTime": {
     "end_time": "2020-10-23T16:27:16.108685Z",
     "start_time": "2020-10-23T16:27:15.832093Z"
    }
   },
   "outputs": [],
   "source": [
    "from sklearn.manifold import TSNE"
   ]
  },
  {
   "cell_type": "code",
   "execution_count": 45,
   "metadata": {
    "ExecuteTime": {
     "end_time": "2020-10-23T16:27:46.818496Z",
     "start_time": "2020-10-23T16:27:46.590096Z"
    }
   },
   "outputs": [],
   "source": [
    "model = TSNE(learning_rate=100)"
   ]
  },
  {
   "cell_type": "code",
   "execution_count": 46,
   "metadata": {
    "ExecuteTime": {
     "end_time": "2020-10-23T17:04:55.301485Z",
     "start_time": "2020-10-23T16:28:12.626304Z"
    }
   },
   "outputs": [],
   "source": [
    "transformed = model.fit_transform(klein)"
   ]
  },
  {
   "cell_type": "code",
   "execution_count": 73,
   "metadata": {
    "ExecuteTime": {
     "end_time": "2020-10-23T19:41:42.025419Z",
     "start_time": "2020-10-23T19:41:40.951255Z"
    }
   },
   "outputs": [
    {
     "data": {
      "image/png": "[encoded data removed]",
      "text/plain": [
       "<Figure size 576x576 with 2 Axes>"
      ]
     },
     "metadata": {
      "needs_background": "light"
     },
     "output_type": "display_data"
    }
   ],
   "source": [
    "plt.figure(figsize=(8, 8))\n",
    "plt.scatter(transformed[:, 0], transformed[:, 1], c=labels, cmap='Set1', alpha=0.5, s=0.5)\n",
    "plt.colorbar()\n",
    "plt.show()"
   ]
  },
  {
   "cell_type": "code",
   "execution_count": 58,
   "metadata": {
    "ExecuteTime": {
     "end_time": "2020-10-23T19:34:04.801902Z",
     "start_time": "2020-10-23T19:34:04.515668Z"
    }
   },
   "outputs": [],
   "source": [
    "klein_labeled = klein.copy()\n",
    "\n",
    "klein_labeled['kmeans_label'] = labels"
   ]
  },
  {
   "cell_type": "code",
   "execution_count": 62,
   "metadata": {
    "ExecuteTime": {
     "end_time": "2020-10-23T19:35:05.339562Z",
     "start_time": "2020-10-23T19:35:05.054323Z"
    }
   },
   "outputs": [
    {
     "data": {
      "text/plain": [
       "tot_appr_val          263704.0\n",
       "prior_tot_appr_val    267810.0\n",
       "prior_land_val         36313.0\n",
       "im_sq_ft                2697.0\n",
       "fixtures_total            15.0\n",
       "room_full_bath             3.0\n",
       "dscr                       3.0\n",
       "kmeans_label               4.0\n",
       "Name: 147030, dtype: float64"
      ]
     },
     "execution_count": 62,
     "metadata": {},
     "output_type": "execute_result"
    }
   ],
   "source": [
    "klein_labeled.loc[147030, :]"
   ]
  },
  {
   "cell_type": "markdown",
   "metadata": {},
   "source": [
    "So my house is in label 4"
   ]
  },
  {
   "cell_type": "code",
   "execution_count": 76,
   "metadata": {
    "ExecuteTime": {
     "end_time": "2020-10-23T19:43:25.672854Z",
     "start_time": "2020-10-23T19:43:25.348454Z"
    }
   },
   "outputs": [],
   "source": [
    "cond0 = klein_labeled['kmeans_label'] == 4\n",
    "\n",
    "comps = klein_labeled.loc[cond0, :]"
   ]
  },
  {
   "cell_type": "code",
   "execution_count": 77,
   "metadata": {
    "ExecuteTime": {
     "end_time": "2020-10-23T19:43:34.971373Z",
     "start_time": "2020-10-23T19:43:34.638946Z"
    }
   },
   "outputs": [
    {
     "data": {
      "text/html": [
       "<div>\n",
       "<style scoped>\n",
       "    .dataframe tbody tr th:only-of-type {\n",
       "        vertical-align: middle;\n",
       "    }\n",
       "\n",
       "    .dataframe tbody tr th {\n",
       "        vertical-align: top;\n",
       "    }\n",
       "\n",
       "    .dataframe thead th {\n",
       "        text-align: right;\n",
       "    }\n",
       "</style>\n",
       "<table border=\"1\" class=\"dataframe\">\n",
       "  <thead>\n",
       "    <tr style=\"text-align: right;\">\n",
       "      <th></th>\n",
       "      <th>tot_appr_val</th>\n",
       "      <th>prior_tot_appr_val</th>\n",
       "      <th>prior_land_val</th>\n",
       "      <th>im_sq_ft</th>\n",
       "      <th>fixtures_total</th>\n",
       "      <th>room_full_bath</th>\n",
       "      <th>dscr</th>\n",
       "      <th>kmeans_label</th>\n",
       "    </tr>\n",
       "  </thead>\n",
       "  <tbody>\n",
       "    <tr>\n",
       "      <th>794141</th>\n",
       "      <td>322492.0</td>\n",
       "      <td>304073.0</td>\n",
       "      <td>54720.0</td>\n",
       "      <td>4567.0</td>\n",
       "      <td>18.0</td>\n",
       "      <td>3.0</td>\n",
       "      <td>4</td>\n",
       "      <td>4</td>\n",
       "    </tr>\n",
       "    <tr>\n",
       "      <th>851145</th>\n",
       "      <td>319000.0</td>\n",
       "      <td>290000.0</td>\n",
       "      <td>56050.0</td>\n",
       "      <td>3514.0</td>\n",
       "      <td>13.0</td>\n",
       "      <td>2.0</td>\n",
       "      <td>4</td>\n",
       "      <td>4</td>\n",
       "    </tr>\n",
       "    <tr>\n",
       "      <th>752298</th>\n",
       "      <td>325000.0</td>\n",
       "      <td>327800.0</td>\n",
       "      <td>54395.0</td>\n",
       "      <td>3784.0</td>\n",
       "      <td>18.0</td>\n",
       "      <td>3.0</td>\n",
       "      <td>4</td>\n",
       "      <td>4</td>\n",
       "    </tr>\n",
       "    <tr>\n",
       "      <th>99515</th>\n",
       "      <td>242027.0</td>\n",
       "      <td>242027.0</td>\n",
       "      <td>34500.0</td>\n",
       "      <td>2998.0</td>\n",
       "      <td>14.0</td>\n",
       "      <td>2.0</td>\n",
       "      <td>3</td>\n",
       "      <td>4</td>\n",
       "    </tr>\n",
       "    <tr>\n",
       "      <th>870598</th>\n",
       "      <td>261344.0</td>\n",
       "      <td>237586.0</td>\n",
       "      <td>43306.0</td>\n",
       "      <td>2657.0</td>\n",
       "      <td>14.0</td>\n",
       "      <td>2.0</td>\n",
       "      <td>3</td>\n",
       "      <td>4</td>\n",
       "    </tr>\n",
       "    <tr>\n",
       "      <th>938725</th>\n",
       "      <td>301883.0</td>\n",
       "      <td>301883.0</td>\n",
       "      <td>45900.0</td>\n",
       "      <td>3025.0</td>\n",
       "      <td>12.0</td>\n",
       "      <td>2.0</td>\n",
       "      <td>3</td>\n",
       "      <td>4</td>\n",
       "    </tr>\n",
       "    <tr>\n",
       "      <th>948678</th>\n",
       "      <td>263511.0</td>\n",
       "      <td>239556.0</td>\n",
       "      <td>45064.0</td>\n",
       "      <td>3421.0</td>\n",
       "      <td>16.0</td>\n",
       "      <td>3.0</td>\n",
       "      <td>3</td>\n",
       "      <td>4</td>\n",
       "    </tr>\n",
       "    <tr>\n",
       "      <th>769908</th>\n",
       "      <td>325211.0</td>\n",
       "      <td>302459.0</td>\n",
       "      <td>45402.0</td>\n",
       "      <td>4641.0</td>\n",
       "      <td>19.0</td>\n",
       "      <td>3.0</td>\n",
       "      <td>3</td>\n",
       "      <td>4</td>\n",
       "    </tr>\n",
       "    <tr>\n",
       "      <th>4577</th>\n",
       "      <td>310781.0</td>\n",
       "      <td>290088.0</td>\n",
       "      <td>59216.0</td>\n",
       "      <td>3351.0</td>\n",
       "      <td>16.0</td>\n",
       "      <td>4.0</td>\n",
       "      <td>3</td>\n",
       "      <td>4</td>\n",
       "    </tr>\n",
       "    <tr>\n",
       "      <th>776066</th>\n",
       "      <td>271000.0</td>\n",
       "      <td>239648.0</td>\n",
       "      <td>44567.0</td>\n",
       "      <td>3251.0</td>\n",
       "      <td>18.0</td>\n",
       "      <td>3.0</td>\n",
       "      <td>3</td>\n",
       "      <td>4</td>\n",
       "    </tr>\n",
       "  </tbody>\n",
       "</table>\n",
       "</div>"
      ],
      "text/plain": [
       "        tot_appr_val  prior_tot_appr_val  prior_land_val  im_sq_ft  \\\n",
       "794141      322492.0            304073.0         54720.0    4567.0   \n",
       "851145      319000.0            290000.0         56050.0    3514.0   \n",
       "752298      325000.0            327800.0         54395.0    3784.0   \n",
       "99515       242027.0            242027.0         34500.0    2998.0   \n",
       "870598      261344.0            237586.0         43306.0    2657.0   \n",
       "938725      301883.0            301883.0         45900.0    3025.0   \n",
       "948678      263511.0            239556.0         45064.0    3421.0   \n",
       "769908      325211.0            302459.0         45402.0    4641.0   \n",
       "4577        310781.0            290088.0         59216.0    3351.0   \n",
       "776066      271000.0            239648.0         44567.0    3251.0   \n",
       "\n",
       "        fixtures_total  room_full_bath  dscr  kmeans_label  \n",
       "794141            18.0             3.0     4             4  \n",
       "851145            13.0             2.0     4             4  \n",
       "752298            18.0             3.0     4             4  \n",
       "99515             14.0             2.0     3             4  \n",
       "870598            14.0             2.0     3             4  \n",
       "938725            12.0             2.0     3             4  \n",
       "948678            16.0             3.0     3             4  \n",
       "769908            19.0             3.0     3             4  \n",
       "4577              16.0             4.0     3             4  \n",
       "776066            18.0             3.0     3             4  "
      ]
     },
     "execution_count": 77,
     "metadata": {},
     "output_type": "execute_result"
    }
   ],
   "source": [
    "comps.sample(10)"
   ]
  },
  {
   "cell_type": "code",
   "execution_count": 78,
   "metadata": {
    "ExecuteTime": {
     "end_time": "2020-10-23T19:43:42.336787Z",
     "start_time": "2020-10-23T19:43:42.057500Z"
    }
   },
   "outputs": [
    {
     "data": {
      "text/plain": [
       "(12208, 8)"
      ]
     },
     "execution_count": 78,
     "metadata": {},
     "output_type": "execute_result"
    }
   ],
   "source": [
    "comps.shape"
   ]
  },
  {
   "cell_type": "code",
   "execution_count": 81,
   "metadata": {
    "ExecuteTime": {
     "end_time": "2020-10-23T19:45:10.757317Z",
     "start_time": "2020-10-23T19:45:10.378119Z"
    }
   },
   "outputs": [
    {
     "data": {
      "text/plain": [
       "<AxesSubplot:>"
      ]
     },
     "execution_count": 81,
     "metadata": {},
     "output_type": "execute_result"
    },
    {
     "data": {
      "image/png": "[encoded data removed]",
      "text/plain": [
       "<Figure size 576x576 with 1 Axes>"
      ]
     },
     "metadata": {
      "needs_background": "light"
     },
     "output_type": "display_data"
    }
   ],
   "source": [
    "plt.figure(figsize=(8, 8))\n",
    "comps['tot_appr_val'].hist(bins=30)"
   ]
  },
  {
   "cell_type": "code",
   "execution_count": 82,
   "metadata": {
    "ExecuteTime": {
     "end_time": "2020-10-23T19:47:07.257051Z",
     "start_time": "2020-10-23T19:47:06.900940Z"
    }
   },
   "outputs": [],
   "source": [
    "mean = comps['tot_appr_val'].mean()\n",
    "std = comps['tot_appr_val'].std()"
   ]
  },
  {
   "cell_type": "code",
   "execution_count": 83,
   "metadata": {
    "ExecuteTime": {
     "end_time": "2020-10-23T19:47:34.812708Z",
     "start_time": "2020-10-23T19:47:34.506520Z"
    }
   },
   "outputs": [],
   "source": [
    "z = (comps['tot_appr_val'] - mean) / std"
   ]
  },
  {
   "cell_type": "code",
   "execution_count": 84,
   "metadata": {
    "ExecuteTime": {
     "end_time": "2020-10-23T19:48:17.148512Z",
     "start_time": "2020-10-23T19:48:16.851311Z"
    }
   },
   "outputs": [],
   "source": [
    "my_value = 263704.0"
   ]
  },
  {
   "cell_type": "code",
   "execution_count": 85,
   "metadata": {
    "ExecuteTime": {
     "end_time": "2020-10-23T19:48:40.536993Z",
     "start_time": "2020-10-23T19:48:40.230775Z"
    }
   },
   "outputs": [],
   "source": [
    "z_my_value = (my_value - mean) / std"
   ]
  },
  {
   "cell_type": "code",
   "execution_count": 87,
   "metadata": {
    "ExecuteTime": {
     "end_time": "2020-10-23T19:49:47.942300Z",
     "start_time": "2020-10-23T19:49:47.511414Z"
    }
   },
   "outputs": [
    {
     "data": {
      "text/plain": [
       "<AxesSubplot:>"
      ]
     },
     "execution_count": 87,
     "metadata": {},
     "output_type": "execute_result"
    },
    {
     "data": {
      "image/png": "[encoded data removed]",
      "text/plain": [
       "<Figure size 576x576 with 1 Axes>"
      ]
     },
     "metadata": {
      "needs_background": "light"
     },
     "output_type": "display_data"
    }
   ],
   "source": [
    "plt.figure(figsize=(8, 8))\n",
    "z.hist(bins=30)"
   ]
  },
  {
   "cell_type": "code",
   "execution_count": null,
   "metadata": {},
   "outputs": [],
   "source": []
  },
  {
   "cell_type": "code",
   "execution_count": null,
   "metadata": {},
   "outputs": [],
   "source": []
  },
  {
   "cell_type": "code",
   "execution_count": 126,
   "metadata": {
    "ExecuteTime": {
     "end_time": "2020-10-23T20:13:44.537411Z",
     "start_time": "2020-10-23T20:13:44.278105Z"
    }
   },
   "outputs": [],
   "source": [
    "# cond1 = klein['prior_tot_appr_val'] == 267810\n",
    "# cond2 = klein['prior_land_val'] == 36313\n",
    "cond3 = klein['im_sq_ft'].between(2697 - 100, 2697 + 100)\n",
    "cond4 = klein['fixtures_total'] == 15\n",
    "cond5 = klein['room_full_bath'] == 3\n",
    "cond6 = klein['dscr'] == 3\n",
    "\n",
    "neighbours = klein.loc[cond3 & cond4 & cond5 & cond6, :]"
   ]
  },
  {
   "cell_type": "code",
   "execution_count": 127,
   "metadata": {
    "ExecuteTime": {
     "end_time": "2020-10-23T20:13:45.222577Z",
     "start_time": "2020-10-23T20:13:44.641136Z"
    }
   },
   "outputs": [
    {
     "data": {
      "text/plain": [
       "<AxesSubplot:>"
      ]
     },
     "execution_count": 127,
     "metadata": {},
     "output_type": "execute_result"
    },
    {
     "data": {
      "image/png": "[encoded data removed]",
      "text/plain": [
       "<Figure size 576x576 with 1 Axes>"
      ]
     },
     "metadata": {
      "needs_background": "light"
     },
     "output_type": "display_data"
    }
   ],
   "source": [
    "plt.figure(figsize=(8, 8))\n",
    "neighbours['prior_tot_appr_val'].hist(bins=30)"
   ]
  },
  {
   "cell_type": "code",
   "execution_count": 128,
   "metadata": {
    "ExecuteTime": {
     "end_time": "2020-10-23T20:13:46.660347Z",
     "start_time": "2020-10-23T20:13:46.373117Z"
    }
   },
   "outputs": [
    {
     "data": {
      "text/plain": [
       "(154, 7)"
      ]
     },
     "execution_count": 128,
     "metadata": {},
     "output_type": "execute_result"
    }
   ],
   "source": [
    "neighbours.shape"
   ]
  },
  {
   "cell_type": "code",
   "execution_count": 129,
   "metadata": {
    "ExecuteTime": {
     "end_time": "2020-10-23T20:13:47.271209Z",
     "start_time": "2020-10-23T20:13:47.024657Z"
    }
   },
   "outputs": [
    {
     "data": {
      "text/plain": [
       "(154, 7)"
      ]
     },
     "execution_count": 129,
     "metadata": {},
     "output_type": "execute_result"
    }
   ],
   "source": [
    "neighbours.shape"
   ]
  },
  {
   "cell_type": "code",
   "execution_count": null,
   "metadata": {},
   "outputs": [],
   "source": []
  },
  {
   "cell_type": "code",
   "execution_count": null,
   "metadata": {},
   "outputs": [],
   "source": []
  },
  {
   "cell_type": "code",
   "execution_count": null,
   "metadata": {},
   "outputs": [],
   "source": []
  },
  {
   "cell_type": "code",
   "execution_count": null,
   "metadata": {},
   "outputs": [],
   "source": []
  },
  {
   "cell_type": "code",
   "execution_count": null,
   "metadata": {},
   "outputs": [],
   "source": []
  },
  {
   "cell_type": "code",
   "execution_count": null,
   "metadata": {},
   "outputs": [],
   "source": []
  },
  {
   "cell_type": "code",
   "execution_count": null,
   "metadata": {},
   "outputs": [],
   "source": []
  },
  {
   "cell_type": "code",
   "execution_count": null,
   "metadata": {},
   "outputs": [],
   "source": []
  },
  {
   "cell_type": "code",
   "execution_count": null,
   "metadata": {},
   "outputs": [],
   "source": []
  },
  {
   "cell_type": "code",
   "execution_count": null,
   "metadata": {},
   "outputs": [],
   "source": []
  }
 ],
 "metadata": {
  "kernelspec": {
   "display_name": "hcad_pred",
   "language": "python",
   "name": "hcad_pred"
  },
  "language_info": {
   "codemirror_mode": {
    "name": "ipython",
    "version": 3
   },
   "file_extension": ".py",
   "mimetype": "text/x-python",
   "name": "python",
   "nbconvert_exporter": "python",
   "pygments_lexer": "ipython3",
   "version": "3.7.8"
  },
  "toc": {
   "base_numbering": 1,
   "nav_menu": {},
   "number_sections": true,
   "sideBar": true,
   "skip_h1_title": false,
   "title_cell": "Table of Contents",
   "title_sidebar": "Contents",
   "toc_cell": false,
   "toc_position": {},
   "toc_section_display": true,
   "toc_window_display": false
  }
 },
 "nbformat": 4,
 "nbformat_minor": 4
}
