{
 "cells": [
  {
   "cell_type": "markdown",
   "metadata": {},
   "source": [
    "# Load previously selected features\n",
    "\n",
    "The file being imported below was constructed in the last exploratory notebooks (2.1-rp-hcad-eda-appraised-value-perc-diff). These data have been cleaned, merged, and selected so we can start preparing it for modeling."
   ]
  },
  {
   "cell_type": "code",
   "execution_count": 1,
   "metadata": {
    "ExecuteTime": {
     "end_time": "2020-10-27T21:38:58.086994Z",
     "start_time": "2020-10-27T21:38:57.951326Z"
    }
   },
   "outputs": [],
   "source": [
    "%load_ext autoreload\n",
    "%autoreload 2"
   ]
  },
  {
   "cell_type": "code",
   "execution_count": 2,
   "metadata": {
    "ExecuteTime": {
     "end_time": "2020-10-27T21:39:03.194314Z",
     "start_time": "2020-10-27T21:38:58.090950Z"
    }
   },
   "outputs": [],
   "source": [
    "from pathlib import Path\n",
    "import pickle\n",
    "\n",
    "import numpy as np\n",
    "import pandas as pd\n",
    "\n",
    "import matplotlib.pyplot as plt\n",
    "import seaborn as sns\n",
    "\n",
    "from src.definitions import ROOT_DIR\n",
    "from src.data.utils import save_pickle"
   ]
  },
  {
   "cell_type": "code",
   "execution_count": 3,
   "metadata": {
    "ExecuteTime": {
     "end_time": "2020-10-27T21:39:03.616182Z",
     "start_time": "2020-10-27T21:39:03.203288Z"
    }
   },
   "outputs": [],
   "source": [
    "plt.style.use('seaborn-poster')"
   ]
  },
  {
   "cell_type": "code",
   "execution_count": 4,
   "metadata": {
    "ExecuteTime": {
     "end_time": "2020-10-27T21:39:04.054011Z",
     "start_time": "2020-10-27T21:39:03.621169Z"
    }
   },
   "outputs": [],
   "source": [
    "features_fn = ROOT_DIR / 'data/interim/2016/features.pickle'\n",
    "assert features_fn.exists()"
   ]
  },
  {
   "cell_type": "code",
   "execution_count": 5,
   "metadata": {
    "ExecuteTime": {
     "end_time": "2020-10-27T21:39:04.568635Z",
     "start_time": "2020-10-27T21:39:04.060999Z"
    }
   },
   "outputs": [],
   "source": [
    "features = pd.read_pickle(features_fn)"
   ]
  },
  {
   "cell_type": "code",
   "execution_count": 6,
   "metadata": {
    "ExecuteTime": {
     "end_time": "2020-10-27T21:39:05.230906Z",
     "start_time": "2020-10-27T21:39:04.571628Z"
    }
   },
   "outputs": [
    {
     "data": {
      "text/html": [
       "<div>\n",
       "<style scoped>\n",
       "    .dataframe tbody tr th:only-of-type {\n",
       "        vertical-align: middle;\n",
       "    }\n",
       "\n",
       "    .dataframe tbody tr th {\n",
       "        vertical-align: top;\n",
       "    }\n",
       "\n",
       "    .dataframe thead th {\n",
       "        text-align: right;\n",
       "    }\n",
       "</style>\n",
       "<table border=\"1\" class=\"dataframe\">\n",
       "  <thead>\n",
       "    <tr style=\"text-align: right;\">\n",
       "      <th></th>\n",
       "      <th>tot_appr_val</th>\n",
       "      <th>prior_tot_appr_val</th>\n",
       "      <th>im_sq_ft</th>\n",
       "      <th>perimeter</th>\n",
       "      <th>fixtures_total</th>\n",
       "      <th>room_half_bath</th>\n",
       "      <th>room_total</th>\n",
       "      <th>room_bedroom</th>\n",
       "      <th>room_rec</th>\n",
       "      <th>room_full_bath</th>\n",
       "      <th>story_height_index</th>\n",
       "    </tr>\n",
       "    <tr>\n",
       "      <th>acct</th>\n",
       "      <th></th>\n",
       "      <th></th>\n",
       "      <th></th>\n",
       "      <th></th>\n",
       "      <th></th>\n",
       "      <th></th>\n",
       "      <th></th>\n",
       "      <th></th>\n",
       "      <th></th>\n",
       "      <th></th>\n",
       "      <th></th>\n",
       "    </tr>\n",
       "  </thead>\n",
       "  <tbody>\n",
       "    <tr>\n",
       "      <th>1347180010051</th>\n",
       "      <td>275689.0</td>\n",
       "      <td>252419.0</td>\n",
       "      <td>2881.0</td>\n",
       "      <td>366.0</td>\n",
       "      <td>15.0</td>\n",
       "      <td>1.0</td>\n",
       "      <td>9.0</td>\n",
       "      <td>4.0</td>\n",
       "      <td>2.0</td>\n",
       "      <td>3.0</td>\n",
       "      <td>2.0</td>\n",
       "    </tr>\n",
       "    <tr>\n",
       "      <th>1347180010030</th>\n",
       "      <td>253696.0</td>\n",
       "      <td>232580.0</td>\n",
       "      <td>2659.0</td>\n",
       "      <td>434.0</td>\n",
       "      <td>12.0</td>\n",
       "      <td>1.0</td>\n",
       "      <td>9.0</td>\n",
       "      <td>4.0</td>\n",
       "      <td>2.0</td>\n",
       "      <td>2.0</td>\n",
       "      <td>2.0</td>\n",
       "    </tr>\n",
       "    <tr>\n",
       "      <th>1347180030015</th>\n",
       "      <td>240964.0</td>\n",
       "      <td>244377.0</td>\n",
       "      <td>2272.0</td>\n",
       "      <td>362.0</td>\n",
       "      <td>15.0</td>\n",
       "      <td>1.0</td>\n",
       "      <td>9.0</td>\n",
       "      <td>4.0</td>\n",
       "      <td>2.0</td>\n",
       "      <td>3.0</td>\n",
       "      <td>2.0</td>\n",
       "    </tr>\n",
       "    <tr>\n",
       "      <th>1347180030002</th>\n",
       "      <td>220623.0</td>\n",
       "      <td>208352.0</td>\n",
       "      <td>2213.0</td>\n",
       "      <td>208.0</td>\n",
       "      <td>13.0</td>\n",
       "      <td>0.0</td>\n",
       "      <td>10.0</td>\n",
       "      <td>4.0</td>\n",
       "      <td>3.0</td>\n",
       "      <td>3.0</td>\n",
       "      <td>2.0</td>\n",
       "    </tr>\n",
       "    <tr>\n",
       "      <th>1347180010052</th>\n",
       "      <td>283000.0</td>\n",
       "      <td>238989.0</td>\n",
       "      <td>3078.0</td>\n",
       "      <td>352.0</td>\n",
       "      <td>15.0</td>\n",
       "      <td>1.0</td>\n",
       "      <td>9.0</td>\n",
       "      <td>4.0</td>\n",
       "      <td>2.0</td>\n",
       "      <td>3.0</td>\n",
       "      <td>2.0</td>\n",
       "    </tr>\n",
       "    <tr>\n",
       "      <th>1347180010043</th>\n",
       "      <td>220918.0</td>\n",
       "      <td>203258.0</td>\n",
       "      <td>1858.0</td>\n",
       "      <td>220.0</td>\n",
       "      <td>10.0</td>\n",
       "      <td>0.0</td>\n",
       "      <td>6.0</td>\n",
       "      <td>3.0</td>\n",
       "      <td>0.0</td>\n",
       "      <td>2.0</td>\n",
       "      <td>1.0</td>\n",
       "    </tr>\n",
       "    <tr>\n",
       "      <th>1347180010040</th>\n",
       "      <td>229971.0</td>\n",
       "      <td>210000.0</td>\n",
       "      <td>2094.0</td>\n",
       "      <td>218.0</td>\n",
       "      <td>10.0</td>\n",
       "      <td>0.0</td>\n",
       "      <td>7.0</td>\n",
       "      <td>3.0</td>\n",
       "      <td>1.0</td>\n",
       "      <td>2.0</td>\n",
       "      <td>1.0</td>\n",
       "    </tr>\n",
       "    <tr>\n",
       "      <th>1347180030025</th>\n",
       "      <td>248424.0</td>\n",
       "      <td>250759.0</td>\n",
       "      <td>2295.0</td>\n",
       "      <td>394.0</td>\n",
       "      <td>15.0</td>\n",
       "      <td>1.0</td>\n",
       "      <td>9.0</td>\n",
       "      <td>4.0</td>\n",
       "      <td>2.0</td>\n",
       "      <td>3.0</td>\n",
       "      <td>2.0</td>\n",
       "    </tr>\n",
       "    <tr>\n",
       "      <th>1347180010032</th>\n",
       "      <td>287127.0</td>\n",
       "      <td>262771.0</td>\n",
       "      <td>3105.0</td>\n",
       "      <td>350.0</td>\n",
       "      <td>15.0</td>\n",
       "      <td>1.0</td>\n",
       "      <td>6.0</td>\n",
       "      <td>4.0</td>\n",
       "      <td>2.0</td>\n",
       "      <td>3.0</td>\n",
       "      <td>2.0</td>\n",
       "    </tr>\n",
       "    <tr>\n",
       "      <th>1347180030007</th>\n",
       "      <td>237419.0</td>\n",
       "      <td>217861.0</td>\n",
       "      <td>2308.0</td>\n",
       "      <td>368.0</td>\n",
       "      <td>12.0</td>\n",
       "      <td>1.0</td>\n",
       "      <td>8.0</td>\n",
       "      <td>4.0</td>\n",
       "      <td>1.0</td>\n",
       "      <td>2.0</td>\n",
       "      <td>2.0</td>\n",
       "    </tr>\n",
       "  </tbody>\n",
       "</table>\n",
       "</div>"
      ],
      "text/plain": [
       "               tot_appr_val  prior_tot_appr_val  im_sq_ft  perimeter  \\\n",
       "acct                                                                   \n",
       "1347180010051      275689.0            252419.0    2881.0      366.0   \n",
       "1347180010030      253696.0            232580.0    2659.0      434.0   \n",
       "1347180030015      240964.0            244377.0    2272.0      362.0   \n",
       "1347180030002      220623.0            208352.0    2213.0      208.0   \n",
       "1347180010052      283000.0            238989.0    3078.0      352.0   \n",
       "1347180010043      220918.0            203258.0    1858.0      220.0   \n",
       "1347180010040      229971.0            210000.0    2094.0      218.0   \n",
       "1347180030025      248424.0            250759.0    2295.0      394.0   \n",
       "1347180010032      287127.0            262771.0    3105.0      350.0   \n",
       "1347180030007      237419.0            217861.0    2308.0      368.0   \n",
       "\n",
       "               fixtures_total  room_half_bath  room_total  room_bedroom  \\\n",
       "acct                                                                      \n",
       "1347180010051            15.0             1.0         9.0           4.0   \n",
       "1347180010030            12.0             1.0         9.0           4.0   \n",
       "1347180030015            15.0             1.0         9.0           4.0   \n",
       "1347180030002            13.0             0.0        10.0           4.0   \n",
       "1347180010052            15.0             1.0         9.0           4.0   \n",
       "1347180010043            10.0             0.0         6.0           3.0   \n",
       "1347180010040            10.0             0.0         7.0           3.0   \n",
       "1347180030025            15.0             1.0         9.0           4.0   \n",
       "1347180010032            15.0             1.0         6.0           4.0   \n",
       "1347180030007            12.0             1.0         8.0           4.0   \n",
       "\n",
       "               room_rec  room_full_bath  story_height_index  \n",
       "acct                                                         \n",
       "1347180010051       2.0             3.0                 2.0  \n",
       "1347180010030       2.0             2.0                 2.0  \n",
       "1347180030015       2.0             3.0                 2.0  \n",
       "1347180030002       3.0             3.0                 2.0  \n",
       "1347180010052       2.0             3.0                 2.0  \n",
       "1347180010043       0.0             2.0                 1.0  \n",
       "1347180010040       1.0             2.0                 1.0  \n",
       "1347180030025       2.0             3.0                 2.0  \n",
       "1347180010032       2.0             3.0                 2.0  \n",
       "1347180030007       1.0             2.0                 2.0  "
      ]
     },
     "execution_count": 6,
     "metadata": {},
     "output_type": "execute_result"
    }
   ],
   "source": [
    "features.sample(10)"
   ]
  },
  {
   "cell_type": "markdown",
   "metadata": {},
   "source": [
    "# Look at the target data distribution"
   ]
  },
  {
   "cell_type": "code",
   "execution_count": 7,
   "metadata": {
    "ExecuteTime": {
     "end_time": "2020-10-27T21:39:05.905637Z",
     "start_time": "2020-10-27T21:39:05.235892Z"
    }
   },
   "outputs": [],
   "source": [
    "from scipy import stats"
   ]
  },
  {
   "cell_type": "code",
   "execution_count": 8,
   "metadata": {
    "ExecuteTime": {
     "end_time": "2020-10-27T21:39:09.018458Z",
     "start_time": "2020-10-27T21:39:05.912618Z"
    }
   },
   "outputs": [
    {
     "data": {
      "text/plain": [
       "<Figure size 576x576 with 0 Axes>"
      ]
     },
     "metadata": {},
     "output_type": "display_data"
    },
    {
     "data": {
      "image/png": "[encoded data removed]",
      "text/plain": [
       "<Figure size 360x360 with 1 Axes>"
      ]
     },
     "metadata": {
      "needs_background": "light"
     },
     "output_type": "display_data"
    },
    {
     "data": {
      "image/png": "[encoded data removed]",
      "text/plain": [
       "<Figure size 576x576 with 1 Axes>"
      ]
     },
     "metadata": {
      "needs_background": "light"
     },
     "output_type": "display_data"
    }
   ],
   "source": [
    "# sns.distplot(klein['appr_val_diff'], fit=stats.norm)\n",
    "fig = plt.figure(figsize=(8, 8))\n",
    "sns.displot(features['tot_appr_val'], kde=True)\n",
    "plt.xticks(rotation=70)\n",
    "fig = plt.figure(figsize=(8, 8))\n",
    "res = stats.probplot(features['tot_appr_val'], plot=plt)"
   ]
  },
  {
   "cell_type": "markdown",
   "metadata": {},
   "source": [
    "The target (total appraised value) is right skewed, however in the QQ plot it appears to be normal."
   ]
  },
  {
   "cell_type": "code",
   "execution_count": 9,
   "metadata": {
    "ExecuteTime": {
     "end_time": "2020-10-27T21:39:09.714107Z",
     "start_time": "2020-10-27T21:39:09.041397Z"
    }
   },
   "outputs": [
    {
     "data": {
      "text/plain": [
       "(48, 11)"
      ]
     },
     "execution_count": 9,
     "metadata": {},
     "output_type": "execute_result"
    }
   ],
   "source": [
    "features.shape"
   ]
  },
  {
   "cell_type": "code",
   "execution_count": 10,
   "metadata": {
    "ExecuteTime": {
     "end_time": "2020-10-27T21:39:10.647133Z",
     "start_time": "2020-10-27T21:39:09.724081Z"
    }
   },
   "outputs": [
    {
     "name": "stdout",
     "output_type": "stream",
     "text": [
      "<class 'pandas.core.frame.DataFrame'>\n",
      "UInt64Index: 48 entries, 1347180010015 to 1347180030026\n",
      "Data columns (total 11 columns):\n",
      " #   Column              Non-Null Count  Dtype  \n",
      "---  ------              --------------  -----  \n",
      " 0   tot_appr_val        48 non-null     float64\n",
      " 1   prior_tot_appr_val  48 non-null     float64\n",
      " 2   im_sq_ft            48 non-null     float64\n",
      " 3   perimeter           48 non-null     float64\n",
      " 4   fixtures_total      48 non-null     float32\n",
      " 5   room_half_bath      48 non-null     float32\n",
      " 6   room_total          48 non-null     float32\n",
      " 7   room_bedroom        48 non-null     float32\n",
      " 8   room_rec            48 non-null     float32\n",
      " 9   room_full_bath      48 non-null     float32\n",
      " 10  story_height_index  48 non-null     float32\n",
      "dtypes: float32(7), float64(4)\n",
      "memory usage: 3.2 KB\n"
     ]
    }
   ],
   "source": [
    "features.info()"
   ]
  },
  {
   "cell_type": "markdown",
   "metadata": {},
   "source": [
    "# Find neighbors\n",
    "\n",
    "I'd like to see if my target house was reasonably appraised in 2016. If we plot it on the histogram of the `tot_appr_val` we can see it lands neat the high end."
   ]
  },
  {
   "cell_type": "code",
   "execution_count": 11,
   "metadata": {
    "ExecuteTime": {
     "end_time": "2020-10-27T21:39:12.131706Z",
     "start_time": "2020-10-27T21:39:10.653116Z"
    }
   },
   "outputs": [
    {
     "data": {
      "image/png": "[encoded data removed]",
      "text/plain": [
       "<Figure size 576x576 with 1 Axes>"
      ]
     },
     "metadata": {
      "needs_background": "light"
     },
     "output_type": "display_data"
    }
   ],
   "source": [
    "_ = plt.figure(figsize=(8,8))\n",
    "_ = (features['tot_appr_val']/1000).hist(bins=7)\n",
    "_ = plt.vlines(292707/1000, 0, 16, color='red', label='Target house')\n",
    "_ = plt.title('Finished houses (2015) in the subdivision')\n",
    "_ = plt.xlabel('tot_appr_val x1000 ($)')\n",
    "_ = plt.ylabel('Count')\n",
    "_ = plt.legend(loc='upper right')"
   ]
  },
  {
   "cell_type": "markdown",
   "metadata": {},
   "source": [
    "But it could just be part of a larger distribution, so I'd like to group the properties by nearest neighbors (no pun intended!) to add this label as a new feature hoping to improve the target estimation."
   ]
  },
  {
   "cell_type": "code",
   "execution_count": 12,
   "metadata": {
    "ExecuteTime": {
     "end_time": "2020-10-27T21:39:14.504414Z",
     "start_time": "2020-10-27T21:39:12.135696Z"
    }
   },
   "outputs": [],
   "source": [
    "from sklearn.cluster import KMeans"
   ]
  },
  {
   "cell_type": "code",
   "execution_count": 13,
   "metadata": {
    "ExecuteTime": {
     "end_time": "2020-10-27T21:39:14.909332Z",
     "start_time": "2020-10-27T21:39:14.507407Z"
    }
   },
   "outputs": [
    {
     "data": {
      "text/plain": [
       "Index(['tot_appr_val', 'prior_tot_appr_val', 'im_sq_ft', 'perimeter',\n",
       "       'fixtures_total', 'room_half_bath', 'room_total', 'room_bedroom',\n",
       "       'room_rec', 'room_full_bath', 'story_height_index'],\n",
       "      dtype='object')"
      ]
     },
     "execution_count": 13,
     "metadata": {},
     "output_type": "execute_result"
    }
   ],
   "source": [
    "features.columns"
   ]
  },
  {
   "cell_type": "markdown",
   "metadata": {},
   "source": [
    "Let's drop the value columns to only group the houses by their characteristics (number of fixtures, areas)."
   ]
  },
  {
   "cell_type": "code",
   "execution_count": 14,
   "metadata": {
    "ExecuteTime": {
     "end_time": "2020-10-27T21:39:15.305272Z",
     "start_time": "2020-10-27T21:39:14.912323Z"
    }
   },
   "outputs": [],
   "source": [
    "no_values = features.drop(['tot_appr_val', 'prior_tot_appr_val'], axis=1).copy()"
   ]
  },
  {
   "cell_type": "code",
   "execution_count": 15,
   "metadata": {
    "ExecuteTime": {
     "end_time": "2020-10-27T21:39:18.425926Z",
     "start_time": "2020-10-27T21:39:15.310259Z"
    }
   },
   "outputs": [
    {
     "data": {
      "image/png": "[encoded data removed]",
      "text/plain": [
       "<Figure size 576x576 with 1 Axes>"
      ]
     },
     "metadata": {
      "needs_background": "light"
     },
     "output_type": "display_data"
    }
   ],
   "source": [
    "ks = range(1, 12)\n",
    "inertias = []\n",
    "\n",
    "for k in ks:\n",
    "    # Create a KMeans instance with k clusters: model\n",
    "    model = KMeans(n_clusters=k)\n",
    "    \n",
    "    # Fit model to samples\n",
    "    model.fit(no_values)\n",
    "    \n",
    "    # Append the inertia to the list of inertias\n",
    "    inertias.append(model.inertia_)\n",
    "    \n",
    "# Plot ks vs inertias\n",
    "plt.figure(figsize=(8, 8))\n",
    "plt.plot(ks, inertias, '-o')\n",
    "plt.xlabel('number of clusters, k')\n",
    "plt.ylabel('inertia')\n",
    "plt.xticks(ks)\n",
    "plt.show()"
   ]
  },
  {
   "cell_type": "markdown",
   "metadata": {},
   "source": [
    "Seems like 4 clusters is a good choice."
   ]
  },
  {
   "cell_type": "code",
   "execution_count": 16,
   "metadata": {
    "ExecuteTime": {
     "end_time": "2020-10-27T21:39:18.787177Z",
     "start_time": "2020-10-27T21:39:18.428918Z"
    }
   },
   "outputs": [],
   "source": [
    "model = KMeans(n_clusters=4)"
   ]
  },
  {
   "cell_type": "code",
   "execution_count": 17,
   "metadata": {
    "ExecuteTime": {
     "end_time": "2020-10-27T21:39:19.123062Z",
     "start_time": "2020-10-27T21:39:18.790951Z"
    }
   },
   "outputs": [],
   "source": [
    "labels = model.fit_predict(no_values)"
   ]
  },
  {
   "cell_type": "markdown",
   "metadata": {},
   "source": [
    "## TSNE\n",
    "Now let's plot the selected labels using TSNE to find if these groups overlap or are separated."
   ]
  },
  {
   "cell_type": "code",
   "execution_count": 18,
   "metadata": {
    "ExecuteTime": {
     "end_time": "2020-10-27T21:39:19.426510Z",
     "start_time": "2020-10-27T21:39:19.126054Z"
    }
   },
   "outputs": [],
   "source": [
    "from sklearn.manifold import TSNE"
   ]
  },
  {
   "cell_type": "code",
   "execution_count": 19,
   "metadata": {
    "ExecuteTime": {
     "end_time": "2020-10-27T21:39:19.713524Z",
     "start_time": "2020-10-27T21:39:19.429246Z"
    }
   },
   "outputs": [],
   "source": [
    "model = TSNE(learning_rate=100)"
   ]
  },
  {
   "cell_type": "code",
   "execution_count": 20,
   "metadata": {
    "ExecuteTime": {
     "end_time": "2020-10-27T21:39:20.471455Z",
     "start_time": "2020-10-27T21:39:19.718469Z"
    }
   },
   "outputs": [],
   "source": [
    "transformed = model.fit_transform(no_values)"
   ]
  },
  {
   "cell_type": "code",
   "execution_count": 21,
   "metadata": {
    "ExecuteTime": {
     "end_time": "2020-10-27T21:39:20.996235Z",
     "start_time": "2020-10-27T21:39:20.476442Z"
    }
   },
   "outputs": [
    {
     "data": {
      "image/png": "[encoded data removed]",
      "text/plain": [
       "<Figure size 576x576 with 1 Axes>"
      ]
     },
     "metadata": {
      "needs_background": "light"
     },
     "output_type": "display_data"
    }
   ],
   "source": [
    "color_map = {0: 'black',\n",
    "             1: 'red',\n",
    "             2: 'blue',\n",
    "             3: 'green'} \n",
    "\n",
    "colors = [color_map[x] for x in labels]\n",
    "\n",
    "plt.figure(figsize=(8, 8))\n",
    "plt.scatter(transformed[:, 0], transformed[:, 1], c=colors, alpha=0.8)\n",
    "plt.show()"
   ]
  },
  {
   "cell_type": "markdown",
   "metadata": {},
   "source": [
    "Excellent! They are well separated indicating that these groups are meaningful.\n",
    "\n",
    "Now let's add the labels found with K-meands back to the features dataframe."
   ]
  },
  {
   "cell_type": "code",
   "execution_count": 22,
   "metadata": {
    "ExecuteTime": {
     "end_time": "2020-10-27T21:39:21.327202Z",
     "start_time": "2020-10-27T21:39:21.000042Z"
    }
   },
   "outputs": [],
   "source": [
    "features['kmeans_label'] = labels"
   ]
  },
  {
   "cell_type": "code",
   "execution_count": 23,
   "metadata": {
    "ExecuteTime": {
     "end_time": "2020-10-27T21:39:21.661274Z",
     "start_time": "2020-10-27T21:39:21.334153Z"
    }
   },
   "outputs": [
    {
     "data": {
      "text/html": [
       "<div>\n",
       "<style scoped>\n",
       "    .dataframe tbody tr th:only-of-type {\n",
       "        vertical-align: middle;\n",
       "    }\n",
       "\n",
       "    .dataframe tbody tr th {\n",
       "        vertical-align: top;\n",
       "    }\n",
       "\n",
       "    .dataframe thead th {\n",
       "        text-align: right;\n",
       "    }\n",
       "</style>\n",
       "<table border=\"1\" class=\"dataframe\">\n",
       "  <thead>\n",
       "    <tr style=\"text-align: right;\">\n",
       "      <th></th>\n",
       "      <th>tot_appr_val</th>\n",
       "      <th>prior_tot_appr_val</th>\n",
       "      <th>im_sq_ft</th>\n",
       "      <th>perimeter</th>\n",
       "      <th>fixtures_total</th>\n",
       "      <th>room_half_bath</th>\n",
       "      <th>room_total</th>\n",
       "      <th>room_bedroom</th>\n",
       "      <th>room_rec</th>\n",
       "      <th>room_full_bath</th>\n",
       "      <th>story_height_index</th>\n",
       "      <th>kmeans_label</th>\n",
       "    </tr>\n",
       "    <tr>\n",
       "      <th>acct</th>\n",
       "      <th></th>\n",
       "      <th></th>\n",
       "      <th></th>\n",
       "      <th></th>\n",
       "      <th></th>\n",
       "      <th></th>\n",
       "      <th></th>\n",
       "      <th></th>\n",
       "      <th></th>\n",
       "      <th></th>\n",
       "      <th></th>\n",
       "      <th></th>\n",
       "    </tr>\n",
       "  </thead>\n",
       "  <tbody>\n",
       "    <tr>\n",
       "      <th>1347180010015</th>\n",
       "      <td>278939.0</td>\n",
       "      <td>255334.0</td>\n",
       "      <td>2954.0</td>\n",
       "      <td>374.0</td>\n",
       "      <td>15.0</td>\n",
       "      <td>1.0</td>\n",
       "      <td>8.0</td>\n",
       "      <td>4.0</td>\n",
       "      <td>1.0</td>\n",
       "      <td>3.0</td>\n",
       "      <td>2.0</td>\n",
       "      <td>2</td>\n",
       "    </tr>\n",
       "    <tr>\n",
       "      <th>1347180010017</th>\n",
       "      <td>227262.0</td>\n",
       "      <td>208763.0</td>\n",
       "      <td>2017.0</td>\n",
       "      <td>226.0</td>\n",
       "      <td>10.0</td>\n",
       "      <td>0.0</td>\n",
       "      <td>7.0</td>\n",
       "      <td>3.0</td>\n",
       "      <td>1.0</td>\n",
       "      <td>2.0</td>\n",
       "      <td>1.0</td>\n",
       "      <td>0</td>\n",
       "    </tr>\n",
       "    <tr>\n",
       "      <th>1347180010039</th>\n",
       "      <td>255481.0</td>\n",
       "      <td>234175.0</td>\n",
       "      <td>2689.0</td>\n",
       "      <td>362.0</td>\n",
       "      <td>12.0</td>\n",
       "      <td>1.0</td>\n",
       "      <td>8.0</td>\n",
       "      <td>4.0</td>\n",
       "      <td>2.0</td>\n",
       "      <td>2.0</td>\n",
       "      <td>2.0</td>\n",
       "      <td>1</td>\n",
       "    </tr>\n",
       "    <tr>\n",
       "      <th>1347180010042</th>\n",
       "      <td>255050.0</td>\n",
       "      <td>233809.0</td>\n",
       "      <td>2531.0</td>\n",
       "      <td>222.0</td>\n",
       "      <td>16.0</td>\n",
       "      <td>1.0</td>\n",
       "      <td>9.0</td>\n",
       "      <td>4.0</td>\n",
       "      <td>2.0</td>\n",
       "      <td>3.0</td>\n",
       "      <td>1.0</td>\n",
       "      <td>1</td>\n",
       "    </tr>\n",
       "    <tr>\n",
       "      <th>1347180010049</th>\n",
       "      <td>263704.0</td>\n",
       "      <td>267810.0</td>\n",
       "      <td>2697.0</td>\n",
       "      <td>430.0</td>\n",
       "      <td>15.0</td>\n",
       "      <td>1.0</td>\n",
       "      <td>9.0</td>\n",
       "      <td>4.0</td>\n",
       "      <td>2.0</td>\n",
       "      <td>3.0</td>\n",
       "      <td>2.0</td>\n",
       "      <td>1</td>\n",
       "    </tr>\n",
       "  </tbody>\n",
       "</table>\n",
       "</div>"
      ],
      "text/plain": [
       "               tot_appr_val  prior_tot_appr_val  im_sq_ft  perimeter  \\\n",
       "acct                                                                   \n",
       "1347180010015      278939.0            255334.0    2954.0      374.0   \n",
       "1347180010017      227262.0            208763.0    2017.0      226.0   \n",
       "1347180010039      255481.0            234175.0    2689.0      362.0   \n",
       "1347180010042      255050.0            233809.0    2531.0      222.0   \n",
       "1347180010049      263704.0            267810.0    2697.0      430.0   \n",
       "\n",
       "               fixtures_total  room_half_bath  room_total  room_bedroom  \\\n",
       "acct                                                                      \n",
       "1347180010015            15.0             1.0         8.0           4.0   \n",
       "1347180010017            10.0             0.0         7.0           3.0   \n",
       "1347180010039            12.0             1.0         8.0           4.0   \n",
       "1347180010042            16.0             1.0         9.0           4.0   \n",
       "1347180010049            15.0             1.0         9.0           4.0   \n",
       "\n",
       "               room_rec  room_full_bath  story_height_index  kmeans_label  \n",
       "acct                                                                       \n",
       "1347180010015       1.0             3.0                 2.0             2  \n",
       "1347180010017       1.0             2.0                 1.0             0  \n",
       "1347180010039       2.0             2.0                 2.0             1  \n",
       "1347180010042       2.0             3.0                 1.0             1  \n",
       "1347180010049       2.0             3.0                 2.0             1  "
      ]
     },
     "execution_count": 23,
     "metadata": {},
     "output_type": "execute_result"
    }
   ],
   "source": [
    "features.head()"
   ]
  },
  {
   "cell_type": "code",
   "execution_count": 24,
   "metadata": {
    "ExecuteTime": {
     "end_time": "2020-10-27T21:39:22.225771Z",
     "start_time": "2020-10-27T21:39:21.665263Z"
    }
   },
   "outputs": [
    {
     "data": {
      "text/plain": [
       "<matplotlib.legend.Legend at 0x24bc3fd0408>"
      ]
     },
     "execution_count": 24,
     "metadata": {},
     "output_type": "execute_result"
    },
    {
     "data": {
      "image/png": "[encoded data removed]",
      "text/plain": [
       "<Figure size 921.6x633.6 with 1 Axes>"
      ]
     },
     "metadata": {
      "needs_background": "light"
     },
     "output_type": "display_data"
    }
   ],
   "source": [
    "sns.stripplot(x='kmeans_label', y='tot_appr_val', data=features)\n",
    "plt.hlines(292707, 0, 3, colors='red', label='Target House')\n",
    "plt.legend(loc='upper right')"
   ]
  },
  {
   "cell_type": "markdown",
   "metadata": {},
   "source": [
    "So it looks like the target house is part of a group, but even there lands on the high end of the appraised value."
   ]
  },
  {
   "cell_type": "markdown",
   "metadata": {},
   "source": [
    "# Prepare the data for modeling\n",
    "Now that we have selected the features (areas and fixtures), built a new feature (K-means labels), verified that there are no null values, and selected the appropriate subset of the samples for the value modeling, we are ready to create the dummy features for the categorical variable (K-means labels), split the data, and scale it."
   ]
  },
  {
   "cell_type": "markdown",
   "metadata": {},
   "source": [
    "## Create dummy features for kmeans label"
   ]
  },
  {
   "cell_type": "code",
   "execution_count": 25,
   "metadata": {
    "ExecuteTime": {
     "end_time": "2020-10-27T21:40:02.870568Z",
     "start_time": "2020-10-27T21:40:02.601279Z"
    }
   },
   "outputs": [],
   "source": [
    "feat_dummy = pd.get_dummies(features, columns=['kmeans_label'], drop_first=True)"
   ]
  },
  {
   "cell_type": "code",
   "execution_count": 26,
   "metadata": {
    "ExecuteTime": {
     "end_time": "2020-10-27T21:40:03.580346Z",
     "start_time": "2020-10-27T21:40:03.288129Z"
    }
   },
   "outputs": [
    {
     "data": {
      "text/html": [
       "<div>\n",
       "<style scoped>\n",
       "    .dataframe tbody tr th:only-of-type {\n",
       "        vertical-align: middle;\n",
       "    }\n",
       "\n",
       "    .dataframe tbody tr th {\n",
       "        vertical-align: top;\n",
       "    }\n",
       "\n",
       "    .dataframe thead th {\n",
       "        text-align: right;\n",
       "    }\n",
       "</style>\n",
       "<table border=\"1\" class=\"dataframe\">\n",
       "  <thead>\n",
       "    <tr style=\"text-align: right;\">\n",
       "      <th></th>\n",
       "      <th>tot_appr_val</th>\n",
       "      <th>prior_tot_appr_val</th>\n",
       "      <th>im_sq_ft</th>\n",
       "      <th>perimeter</th>\n",
       "      <th>fixtures_total</th>\n",
       "      <th>room_half_bath</th>\n",
       "      <th>room_total</th>\n",
       "      <th>room_bedroom</th>\n",
       "      <th>room_rec</th>\n",
       "      <th>room_full_bath</th>\n",
       "      <th>story_height_index</th>\n",
       "      <th>kmeans_label_1</th>\n",
       "      <th>kmeans_label_2</th>\n",
       "      <th>kmeans_label_3</th>\n",
       "    </tr>\n",
       "    <tr>\n",
       "      <th>acct</th>\n",
       "      <th></th>\n",
       "      <th></th>\n",
       "      <th></th>\n",
       "      <th></th>\n",
       "      <th></th>\n",
       "      <th></th>\n",
       "      <th></th>\n",
       "      <th></th>\n",
       "      <th></th>\n",
       "      <th></th>\n",
       "      <th></th>\n",
       "      <th></th>\n",
       "      <th></th>\n",
       "      <th></th>\n",
       "    </tr>\n",
       "  </thead>\n",
       "  <tbody>\n",
       "    <tr>\n",
       "      <th>1347180010015</th>\n",
       "      <td>278939.0</td>\n",
       "      <td>255334.0</td>\n",
       "      <td>2954.0</td>\n",
       "      <td>374.0</td>\n",
       "      <td>15.0</td>\n",
       "      <td>1.0</td>\n",
       "      <td>8.0</td>\n",
       "      <td>4.0</td>\n",
       "      <td>1.0</td>\n",
       "      <td>3.0</td>\n",
       "      <td>2.0</td>\n",
       "      <td>0</td>\n",
       "      <td>1</td>\n",
       "      <td>0</td>\n",
       "    </tr>\n",
       "    <tr>\n",
       "      <th>1347180010017</th>\n",
       "      <td>227262.0</td>\n",
       "      <td>208763.0</td>\n",
       "      <td>2017.0</td>\n",
       "      <td>226.0</td>\n",
       "      <td>10.0</td>\n",
       "      <td>0.0</td>\n",
       "      <td>7.0</td>\n",
       "      <td>3.0</td>\n",
       "      <td>1.0</td>\n",
       "      <td>2.0</td>\n",
       "      <td>1.0</td>\n",
       "      <td>0</td>\n",
       "      <td>0</td>\n",
       "      <td>0</td>\n",
       "    </tr>\n",
       "    <tr>\n",
       "      <th>1347180010039</th>\n",
       "      <td>255481.0</td>\n",
       "      <td>234175.0</td>\n",
       "      <td>2689.0</td>\n",
       "      <td>362.0</td>\n",
       "      <td>12.0</td>\n",
       "      <td>1.0</td>\n",
       "      <td>8.0</td>\n",
       "      <td>4.0</td>\n",
       "      <td>2.0</td>\n",
       "      <td>2.0</td>\n",
       "      <td>2.0</td>\n",
       "      <td>1</td>\n",
       "      <td>0</td>\n",
       "      <td>0</td>\n",
       "    </tr>\n",
       "    <tr>\n",
       "      <th>1347180010042</th>\n",
       "      <td>255050.0</td>\n",
       "      <td>233809.0</td>\n",
       "      <td>2531.0</td>\n",
       "      <td>222.0</td>\n",
       "      <td>16.0</td>\n",
       "      <td>1.0</td>\n",
       "      <td>9.0</td>\n",
       "      <td>4.0</td>\n",
       "      <td>2.0</td>\n",
       "      <td>3.0</td>\n",
       "      <td>1.0</td>\n",
       "      <td>1</td>\n",
       "      <td>0</td>\n",
       "      <td>0</td>\n",
       "    </tr>\n",
       "    <tr>\n",
       "      <th>1347180010049</th>\n",
       "      <td>263704.0</td>\n",
       "      <td>267810.0</td>\n",
       "      <td>2697.0</td>\n",
       "      <td>430.0</td>\n",
       "      <td>15.0</td>\n",
       "      <td>1.0</td>\n",
       "      <td>9.0</td>\n",
       "      <td>4.0</td>\n",
       "      <td>2.0</td>\n",
       "      <td>3.0</td>\n",
       "      <td>2.0</td>\n",
       "      <td>1</td>\n",
       "      <td>0</td>\n",
       "      <td>0</td>\n",
       "    </tr>\n",
       "  </tbody>\n",
       "</table>\n",
       "</div>"
      ],
      "text/plain": [
       "               tot_appr_val  prior_tot_appr_val  im_sq_ft  perimeter  \\\n",
       "acct                                                                   \n",
       "1347180010015      278939.0            255334.0    2954.0      374.0   \n",
       "1347180010017      227262.0            208763.0    2017.0      226.0   \n",
       "1347180010039      255481.0            234175.0    2689.0      362.0   \n",
       "1347180010042      255050.0            233809.0    2531.0      222.0   \n",
       "1347180010049      263704.0            267810.0    2697.0      430.0   \n",
       "\n",
       "               fixtures_total  room_half_bath  room_total  room_bedroom  \\\n",
       "acct                                                                      \n",
       "1347180010015            15.0             1.0         8.0           4.0   \n",
       "1347180010017            10.0             0.0         7.0           3.0   \n",
       "1347180010039            12.0             1.0         8.0           4.0   \n",
       "1347180010042            16.0             1.0         9.0           4.0   \n",
       "1347180010049            15.0             1.0         9.0           4.0   \n",
       "\n",
       "               room_rec  room_full_bath  story_height_index  kmeans_label_1  \\\n",
       "acct                                                                          \n",
       "1347180010015       1.0             3.0                 2.0               0   \n",
       "1347180010017       1.0             2.0                 1.0               0   \n",
       "1347180010039       2.0             2.0                 2.0               1   \n",
       "1347180010042       2.0             3.0                 1.0               1   \n",
       "1347180010049       2.0             3.0                 2.0               1   \n",
       "\n",
       "               kmeans_label_2  kmeans_label_3  \n",
       "acct                                           \n",
       "1347180010015               1               0  \n",
       "1347180010017               0               0  \n",
       "1347180010039               0               0  \n",
       "1347180010042               0               0  \n",
       "1347180010049               0               0  "
      ]
     },
     "execution_count": 26,
     "metadata": {},
     "output_type": "execute_result"
    }
   ],
   "source": [
    "feat_dummy.head()"
   ]
  },
  {
   "cell_type": "markdown",
   "metadata": {},
   "source": [
    "## Split the data"
   ]
  },
  {
   "cell_type": "code",
   "execution_count": 29,
   "metadata": {
    "ExecuteTime": {
     "end_time": "2020-10-27T21:43:25.884316Z",
     "start_time": "2020-10-27T21:43:25.665906Z"
    }
   },
   "outputs": [],
   "source": [
    "from sklearn.model_selection import train_test_split"
   ]
  },
  {
   "cell_type": "code",
   "execution_count": 27,
   "metadata": {
    "ExecuteTime": {
     "end_time": "2020-10-27T21:43:10.310209Z",
     "start_time": "2020-10-27T21:43:09.989075Z"
    }
   },
   "outputs": [],
   "source": [
    "X = feat_dummy.drop(['tot_appr_val', 'prior_tot_appr_val'], axis=1)\n",
    "y = feat_dummy['tot_appr_val']"
   ]
  },
  {
   "cell_type": "code",
   "execution_count": 30,
   "metadata": {
    "ExecuteTime": {
     "end_time": "2020-10-27T21:43:30.285994Z",
     "start_time": "2020-10-27T21:43:30.006435Z"
    }
   },
   "outputs": [],
   "source": [
    "X_train, X_test, y_train, y_test = train_test_split(X, y, test_size=0.3, random_state=42)"
   ]
  },
  {
   "cell_type": "markdown",
   "metadata": {},
   "source": [
    "## Standardize data"
   ]
  },
  {
   "cell_type": "code",
   "execution_count": 35,
   "metadata": {
    "ExecuteTime": {
     "end_time": "2020-10-27T21:46:38.572146Z",
     "start_time": "2020-10-27T21:46:38.370404Z"
    }
   },
   "outputs": [],
   "source": [
    "from sklearn.preprocessing import StandardScaler"
   ]
  },
  {
   "cell_type": "code",
   "execution_count": 36,
   "metadata": {
    "ExecuteTime": {
     "end_time": "2020-10-27T21:46:53.212149Z",
     "start_time": "2020-10-27T21:46:52.983760Z"
    }
   },
   "outputs": [],
   "source": [
    "scaler = StandardScaler()"
   ]
  },
  {
   "cell_type": "code",
   "execution_count": 37,
   "metadata": {
    "ExecuteTime": {
     "end_time": "2020-10-27T21:48:18.571098Z",
     "start_time": "2020-10-27T21:48:18.240981Z"
    }
   },
   "outputs": [
    {
     "data": {
      "text/plain": [
       "StandardScaler()"
      ]
     },
     "execution_count": 37,
     "metadata": {},
     "output_type": "execute_result"
    }
   ],
   "source": [
    "scaler.fit(X_train)"
   ]
  },
  {
   "cell_type": "code",
   "execution_count": 38,
   "metadata": {
    "ExecuteTime": {
     "end_time": "2020-10-27T21:49:06.346474Z",
     "start_time": "2020-10-27T21:49:06.037304Z"
    }
   },
   "outputs": [],
   "source": [
    "X_train_scaled = scaler.transform(X_train)\n",
    "X_test_scaled = scaler.transform(X_test)"
   ]
  },
  {
   "cell_type": "code",
   "execution_count": 39,
   "metadata": {
    "ExecuteTime": {
     "end_time": "2020-10-27T21:49:22.158011Z",
     "start_time": "2020-10-27T21:49:21.902696Z"
    }
   },
   "outputs": [],
   "source": [
    "y_scaler = StandardScaler()"
   ]
  },
  {
   "cell_type": "code",
   "execution_count": 42,
   "metadata": {
    "ExecuteTime": {
     "end_time": "2020-10-27T21:50:27.062443Z",
     "start_time": "2020-10-27T21:50:26.765234Z"
    }
   },
   "outputs": [
    {
     "data": {
      "text/plain": [
       "StandardScaler()"
      ]
     },
     "execution_count": 42,
     "metadata": {},
     "output_type": "execute_result"
    }
   ],
   "source": [
    "y_scaler.fit(y_train.to_numpy().reshape(-1, 1))"
   ]
  },
  {
   "cell_type": "code",
   "execution_count": 45,
   "metadata": {
    "ExecuteTime": {
     "end_time": "2020-10-27T21:51:24.089289Z",
     "start_time": "2020-10-27T21:51:23.769146Z"
    }
   },
   "outputs": [],
   "source": [
    "y_train_scaled = y_scaler.transform(y_train.to_numpy().reshape(-1, 1))\n",
    "y_test_scaled = y_scaler.transform(y_test.to_numpy().reshape(-1, 1))"
   ]
  },
  {
   "cell_type": "code",
   "execution_count": null,
   "metadata": {},
   "outputs": [],
   "source": []
  }
 ],
 "metadata": {
  "kernelspec": {
   "display_name": "hcad_pred",
   "language": "python",
   "name": "hcad_pred"
  },
  "language_info": {
   "codemirror_mode": {
    "name": "ipython",
    "version": 3
   },
   "file_extension": ".py",
   "mimetype": "text/x-python",
   "name": "python",
   "nbconvert_exporter": "python",
   "pygments_lexer": "ipython3",
   "version": "3.7.8"
  },
  "toc": {
   "base_numbering": 1,
   "nav_menu": {},
   "number_sections": true,
   "sideBar": true,
   "skip_h1_title": false,
   "title_cell": "Table of Contents",
   "title_sidebar": "Contents",
   "toc_cell": false,
   "toc_position": {},
   "toc_section_display": true,
   "toc_window_display": false
  }
 },
 "nbformat": 4,
 "nbformat_minor": 4
}
