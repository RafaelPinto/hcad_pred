{
 "cells": [
  {
   "cell_type": "code",
   "execution_count": 1,
   "metadata": {
    "ExecuteTime": {
     "end_time": "2020-10-24T10:27:13.941152Z",
     "start_time": "2020-10-24T10:27:13.920438Z"
    }
   },
   "outputs": [],
   "source": [
    "%load_ext autoreload\n",
    "%autoreload 2"
   ]
  },
  {
   "cell_type": "code",
   "execution_count": 2,
   "metadata": {
    "ExecuteTime": {
     "end_time": "2020-10-24T10:27:15.640393Z",
     "start_time": "2020-10-24T10:27:14.498833Z"
    }
   },
   "outputs": [],
   "source": [
    "from pathlib import Path\n",
    "import pickle\n",
    "\n",
    "import numpy as np\n",
    "import pandas as pd\n",
    "\n",
    "import matplotlib.pyplot as plt\n",
    "import seaborn as sns\n",
    "\n",
    "from src.definitions import ROOT_DIR\n",
    "from src.data.utils import save_pickle"
   ]
  },
  {
   "cell_type": "code",
   "execution_count": 3,
   "metadata": {
    "ExecuteTime": {
     "end_time": "2020-10-24T10:27:16.143385Z",
     "start_time": "2020-10-24T10:27:16.115698Z"
    }
   },
   "outputs": [],
   "source": [
    "features_fn = ROOT_DIR / 'data/interim/2016/features.pickle'\n",
    "assert features_fn.exists()"
   ]
  },
  {
   "cell_type": "code",
   "execution_count": 4,
   "metadata": {
    "ExecuteTime": {
     "end_time": "2020-10-24T10:27:16.761436Z",
     "start_time": "2020-10-24T10:27:16.550968Z"
    }
   },
   "outputs": [],
   "source": [
    "features = pd.read_pickle(features_fn)"
   ]
  },
  {
   "cell_type": "code",
   "execution_count": 5,
   "metadata": {
    "ExecuteTime": {
     "end_time": "2020-10-24T10:27:17.469926Z",
     "start_time": "2020-10-24T10:27:17.348298Z"
    }
   },
   "outputs": [
    {
     "data": {
      "text/html": [
       "<div>\n",
       "<style scoped>\n",
       "    .dataframe tbody tr th:only-of-type {\n",
       "        vertical-align: middle;\n",
       "    }\n",
       "\n",
       "    .dataframe tbody tr th {\n",
       "        vertical-align: top;\n",
       "    }\n",
       "\n",
       "    .dataframe thead th {\n",
       "        text-align: right;\n",
       "    }\n",
       "</style>\n",
       "<table border=\"1\" class=\"dataframe\">\n",
       "  <thead>\n",
       "    <tr style=\"text-align: right;\">\n",
       "      <th></th>\n",
       "      <th>tot_appr_val</th>\n",
       "      <th>prior_tot_appr_val</th>\n",
       "      <th>prior_land_val</th>\n",
       "      <th>im_sq_ft</th>\n",
       "      <th>fixtures_total</th>\n",
       "      <th>room_full_bath</th>\n",
       "      <th>grade_adjustment</th>\n",
       "      <th>market_area_1_dscr</th>\n",
       "      <th>dscr</th>\n",
       "      <th>date_erected</th>\n",
       "      <th>yr_remodel</th>\n",
       "    </tr>\n",
       "  </thead>\n",
       "  <tbody>\n",
       "    <tr>\n",
       "      <th>869129</th>\n",
       "      <td>143000.0</td>\n",
       "      <td>144200.0</td>\n",
       "      <td>29265.0</td>\n",
       "      <td>1764.0</td>\n",
       "      <td>10.0</td>\n",
       "      <td>2.0</td>\n",
       "      <td>C+</td>\n",
       "      <td>ISD 09 - Airport Tiers Area</td>\n",
       "      <td>Average</td>\n",
       "      <td>2012</td>\n",
       "      <td>NaN</td>\n",
       "    </tr>\n",
       "    <tr>\n",
       "      <th>925640</th>\n",
       "      <td>189863.0</td>\n",
       "      <td>180126.0</td>\n",
       "      <td>32145.0</td>\n",
       "      <td>1809.0</td>\n",
       "      <td>11.0</td>\n",
       "      <td>2.0</td>\n",
       "      <td>C+</td>\n",
       "      <td>ISD 21 - Pasadena ISD</td>\n",
       "      <td>Average</td>\n",
       "      <td>2010</td>\n",
       "      <td>NaN</td>\n",
       "    </tr>\n",
       "    <tr>\n",
       "      <th>246323</th>\n",
       "      <td>91030.0</td>\n",
       "      <td>82755.0</td>\n",
       "      <td>28200.0</td>\n",
       "      <td>2045.0</td>\n",
       "      <td>5.0</td>\n",
       "      <td>1.0</td>\n",
       "      <td>C</td>\n",
       "      <td>1E Liberty/Kashmere/Houston/Croyden Gardens Areas</td>\n",
       "      <td>Average</td>\n",
       "      <td>1956</td>\n",
       "      <td>NaN</td>\n",
       "    </tr>\n",
       "    <tr>\n",
       "      <th>916148</th>\n",
       "      <td>136959.0</td>\n",
       "      <td>124509.0</td>\n",
       "      <td>19707.0</td>\n",
       "      <td>1894.0</td>\n",
       "      <td>10.0</td>\n",
       "      <td>2.0</td>\n",
       "      <td>C</td>\n",
       "      <td>ISD 15 - Galena Park ISD</td>\n",
       "      <td>Average</td>\n",
       "      <td>2008</td>\n",
       "      <td>NaN</td>\n",
       "    </tr>\n",
       "    <tr>\n",
       "      <th>933271</th>\n",
       "      <td>171581.0</td>\n",
       "      <td>165526.0</td>\n",
       "      <td>17971.0</td>\n",
       "      <td>2392.0</td>\n",
       "      <td>12.0</td>\n",
       "      <td>2.0</td>\n",
       "      <td>C</td>\n",
       "      <td>ISD 18 - Outside Airport Tiers,  Atascocita Area</td>\n",
       "      <td>Average</td>\n",
       "      <td>2013</td>\n",
       "      <td>NaN</td>\n",
       "    </tr>\n",
       "    <tr>\n",
       "      <th>11403</th>\n",
       "      <td>58077.0</td>\n",
       "      <td>58077.0</td>\n",
       "      <td>15000.0</td>\n",
       "      <td>1030.0</td>\n",
       "      <td>5.0</td>\n",
       "      <td>1.0</td>\n",
       "      <td>D+</td>\n",
       "      <td>1D Lyons, Denver/Houston Harbor, Pleasantville</td>\n",
       "      <td>Low</td>\n",
       "      <td>1950</td>\n",
       "      <td>NaN</td>\n",
       "    </tr>\n",
       "    <tr>\n",
       "      <th>762850</th>\n",
       "      <td>111888.0</td>\n",
       "      <td>101717.0</td>\n",
       "      <td>25582.0</td>\n",
       "      <td>1379.0</td>\n",
       "      <td>9.0</td>\n",
       "      <td>2.0</td>\n",
       "      <td>C+</td>\n",
       "      <td>ISD 24 - North of Cypress Creek</td>\n",
       "      <td>Average</td>\n",
       "      <td>2004</td>\n",
       "      <td>NaN</td>\n",
       "    </tr>\n",
       "    <tr>\n",
       "      <th>606207</th>\n",
       "      <td>429659.0</td>\n",
       "      <td>412811.0</td>\n",
       "      <td>89251.0</td>\n",
       "      <td>2938.0</td>\n",
       "      <td>13.0</td>\n",
       "      <td>2.0</td>\n",
       "      <td>B+</td>\n",
       "      <td>ISD 18 - Outside Airport Tiers,  Atascocita Area</td>\n",
       "      <td>Good</td>\n",
       "      <td>1996</td>\n",
       "      <td>NaN</td>\n",
       "    </tr>\n",
       "    <tr>\n",
       "      <th>104507</th>\n",
       "      <td>60543.0</td>\n",
       "      <td>60543.0</td>\n",
       "      <td>17543.0</td>\n",
       "      <td>1292.0</td>\n",
       "      <td>10.0</td>\n",
       "      <td>2.0</td>\n",
       "      <td>C-</td>\n",
       "      <td>1C South of Old Spanish Trail btwn SH 288 and ...</td>\n",
       "      <td>Average</td>\n",
       "      <td>1955</td>\n",
       "      <td>1960.0</td>\n",
       "    </tr>\n",
       "    <tr>\n",
       "      <th>31977</th>\n",
       "      <td>81250.0</td>\n",
       "      <td>73864.0</td>\n",
       "      <td>46150.0</td>\n",
       "      <td>900.0</td>\n",
       "      <td>5.0</td>\n",
       "      <td>1.0</td>\n",
       "      <td>C-</td>\n",
       "      <td>ISD 21 - Pasadena ISD</td>\n",
       "      <td>Average</td>\n",
       "      <td>1955</td>\n",
       "      <td>NaN</td>\n",
       "    </tr>\n",
       "  </tbody>\n",
       "</table>\n",
       "</div>"
      ],
      "text/plain": [
       "        tot_appr_val  prior_tot_appr_val  prior_land_val  im_sq_ft  \\\n",
       "869129      143000.0            144200.0         29265.0    1764.0   \n",
       "925640      189863.0            180126.0         32145.0    1809.0   \n",
       "246323       91030.0             82755.0         28200.0    2045.0   \n",
       "916148      136959.0            124509.0         19707.0    1894.0   \n",
       "933271      171581.0            165526.0         17971.0    2392.0   \n",
       "11403        58077.0             58077.0         15000.0    1030.0   \n",
       "762850      111888.0            101717.0         25582.0    1379.0   \n",
       "606207      429659.0            412811.0         89251.0    2938.0   \n",
       "104507       60543.0             60543.0         17543.0    1292.0   \n",
       "31977        81250.0             73864.0         46150.0     900.0   \n",
       "\n",
       "        fixtures_total  room_full_bath grade_adjustment  \\\n",
       "869129            10.0             2.0               C+   \n",
       "925640            11.0             2.0               C+   \n",
       "246323             5.0             1.0                C   \n",
       "916148            10.0             2.0                C   \n",
       "933271            12.0             2.0                C   \n",
       "11403              5.0             1.0               D+   \n",
       "762850             9.0             2.0               C+   \n",
       "606207            13.0             2.0               B+   \n",
       "104507            10.0             2.0               C-   \n",
       "31977              5.0             1.0               C-   \n",
       "\n",
       "                                       market_area_1_dscr     dscr  \\\n",
       "869129                        ISD 09 - Airport Tiers Area  Average   \n",
       "925640                              ISD 21 - Pasadena ISD  Average   \n",
       "246323  1E Liberty/Kashmere/Houston/Croyden Gardens Areas  Average   \n",
       "916148                           ISD 15 - Galena Park ISD  Average   \n",
       "933271   ISD 18 - Outside Airport Tiers,  Atascocita Area  Average   \n",
       "11403      1D Lyons, Denver/Houston Harbor, Pleasantville      Low   \n",
       "762850                    ISD 24 - North of Cypress Creek  Average   \n",
       "606207   ISD 18 - Outside Airport Tiers,  Atascocita Area     Good   \n",
       "104507  1C South of Old Spanish Trail btwn SH 288 and ...  Average   \n",
       "31977                               ISD 21 - Pasadena ISD  Average   \n",
       "\n",
       "        date_erected  yr_remodel  \n",
       "869129          2012         NaN  \n",
       "925640          2010         NaN  \n",
       "246323          1956         NaN  \n",
       "916148          2008         NaN  \n",
       "933271          2013         NaN  \n",
       "11403           1950         NaN  \n",
       "762850          2004         NaN  \n",
       "606207          1996         NaN  \n",
       "104507          1955      1960.0  \n",
       "31977           1955         NaN  "
      ]
     },
     "execution_count": 5,
     "metadata": {},
     "output_type": "execute_result"
    }
   ],
   "source": [
    "features.sample(10)"
   ]
  },
  {
   "cell_type": "code",
   "execution_count": 6,
   "metadata": {
    "ExecuteTime": {
     "end_time": "2020-10-24T10:27:28.146694Z",
     "start_time": "2020-10-24T10:27:28.017271Z"
    }
   },
   "outputs": [
    {
     "data": {
      "text/plain": [
       "array(['1D Navigation, Harrisburg, Lawndale Areas',\n",
       "       'ISD 21 - Pasadena ISD',\n",
       "       '1C Midtown, Riverside Terrace, University Areas',\n",
       "       '1E Ryon, Irvington, Lindale Areas',\n",
       "       '1E Liberty/Kashmere/Houston/Croyden Gardens Areas',\n",
       "       '1D Lyons, Denver/Houston Harbor, Pleasantville',\n",
       "       '1F Montrose, Fourth Ward Areas',\n",
       "       'ISD 09 - Outside Airport Tiers, East of I-45',\n",
       "       '1B South of US 90, West of SH 288',\n",
       "       '1F Lazybrook, Timbergrove, Washington Corridor',\n",
       "       '1F Heights, Brooksmith, Norhill Areas',\n",
       "       'ISD 19 - South of I-10 Katy Freeway',\n",
       "       'ISD 20 - East of Bay Area Blvd',\n",
       "       '1B Bellaire, West University, Southampton Areas',\n",
       "       'ISD 18 - Airport Tiers South of San Jacinto River',\n",
       "       '1C South of Old Spanish Trail btwn SH 288 and I-45',\n",
       "       'ISD 05 - Crosby ISD',\n",
       "       'ISD 09 - Outside Airport Tiers, West of I-45',\n",
       "       '1F Afton Oaks, Highland Village, Weslayan Areas',\n",
       "       'ISD 16 - Baytown Sterling Area',\n",
       "       'ISD 04 - Far Northwest, Outside Hwy 6', 'ISD 08 - Alief General',\n",
       "       '1J Former North Forest ISD', 'ISD 02 - Deer Park ISD',\n",
       "       '1B NRG Park, Texas Medical Center Areas', '1F River Oaks Area',\n",
       "       '1F Oak Forest, Garden Oaks, Independence Heights',\n",
       "       'ISD 04 - Inside Beltway 8', 'ISD 15 - Galena Park ISD',\n",
       "       '1F  Highland Heights, Acres Homes, Pinemont Area',\n",
       "       'ISD 03 - Waller ISD',\n",
       "       'ISD 04 - Far West, South of US 290/North of FM 529',\n",
       "       'ISD 26 - Tomball ISD',\n",
       "       '1A Westheimer to Westpark, Loop 610 to Gessner',\n",
       "       'ISD 19 - North of I-10 Katy Freeway',\n",
       "       'ISD 20 - West of Bay Area Blvd',\n",
       "       'ISD 27 - East of NASA Parkway (Water Area)', '1A Sharpstown Area',\n",
       "       'ISD 09 - Airport Tiers Area', 'ISD 17 - Klein ISD',\n",
       "       '1D Park Place, Glenbrook, Oak Meadows Areas',\n",
       "       'ISD 24 - North of Cypress Creek',\n",
       "       'ISD 27 - West of NASA Parkway (I-45 Area)',\n",
       "       'ISD 30 - Huffman ISD', '1B Meyerland, Maplewood, Westbury Areas',\n",
       "       'ISD 16 - South of SH 146 (Baytown Lee Area)',\n",
       "       'ISD 04 - Northwest, btwn Beltway 8 and Hwy 6',\n",
       "       'ISD 23 - Sheldon ISD',\n",
       "       'ISD 25 - West of Memorial Villages, South of I-10',\n",
       "       'ISD 25 - North of I-10 Outside Memorial Villages',\n",
       "       'ISD 16 - North of I-10 (Baytown Memorial Area)',\n",
       "       'ISD 18 - Outside Airport Tiers,  Atascocita Area',\n",
       "       'ISD 06 - Channelview ISD',\n",
       "       'ISD 25 - Memorial Villages South of I-10',\n",
       "       'ISD 18 - Kingwood Area',\n",
       "       'ISD 25 - Memorial Villages North of I-10',\n",
       "       '1B Fondren Southwest Area', 'ISD 31 - Stafford MSD',\n",
       "       'ISD 24 - South of FM 1960',\n",
       "       '1F Hempstead Hwy/US 290 Corridor - Langwood Area',\n",
       "       'ISD 04 - Southwest, Outside Hwy 6, South of FM 529',\n",
       "       '1A Tanglewood, Galleria, Briargrove Areas',\n",
       "       'ISD 04 - South of US 290, btwn Beltway 8 and Hwy 6',\n",
       "       '1B Linkwood, Willow Meadows, Knollwood Vlg Areas',\n",
       "       'ISD 24 - West of I-45, North of FM 1960',\n",
       "       '1A Ashford/Briar Hills Areas', 'ISD 29 - Pearland ISD',\n",
       "       'ISD 07 - New Caney ISD', 'ISD 08 - Royal Oaks'], dtype=object)"
      ]
     },
     "execution_count": 6,
     "metadata": {},
     "output_type": "execute_result"
    }
   ],
   "source": [
    "features['market_area_1_dscr'].unique()"
   ]
  },
  {
   "cell_type": "code",
   "execution_count": 7,
   "metadata": {
    "ExecuteTime": {
     "end_time": "2020-10-24T10:27:28.900339Z",
     "start_time": "2020-10-24T10:27:28.811687Z"
    }
   },
   "outputs": [],
   "source": [
    "cond0 = features['market_area_1_dscr'] == 'ISD 17 - Klein ISD'\n",
    "\n",
    "klein = features.loc[cond0, :]"
   ]
  },
  {
   "cell_type": "code",
   "execution_count": 8,
   "metadata": {
    "ExecuteTime": {
     "end_time": "2020-10-24T10:27:29.461205Z",
     "start_time": "2020-10-24T10:27:29.424345Z"
    }
   },
   "outputs": [
    {
     "data": {
      "text/plain": [
       "(70367, 11)"
      ]
     },
     "execution_count": 8,
     "metadata": {},
     "output_type": "execute_result"
    }
   ],
   "source": [
    "klein.shape"
   ]
  },
  {
   "cell_type": "code",
   "execution_count": 9,
   "metadata": {
    "ExecuteTime": {
     "end_time": "2020-10-24T10:27:31.857943Z",
     "start_time": "2020-10-24T10:27:31.554879Z"
    }
   },
   "outputs": [
    {
     "data": {
      "text/plain": [
       "<AxesSubplot:>"
      ]
     },
     "execution_count": 9,
     "metadata": {},
     "output_type": "execute_result"
    },
    {
     "data": {
      "image/png": "[encoded data removed]",
      "text/plain": [
       "<Figure size 432x288 with 1 Axes>"
      ]
     },
     "metadata": {
      "needs_background": "light"
     },
     "output_type": "display_data"
    }
   ],
   "source": [
    "klein['tot_appr_val'].hist()"
   ]
  },
  {
   "cell_type": "code",
   "execution_count": 10,
   "metadata": {
    "ExecuteTime": {
     "end_time": "2020-10-24T10:27:33.860637Z",
     "start_time": "2020-10-24T10:27:33.825378Z"
    }
   },
   "outputs": [
    {
     "data": {
      "text/plain": [
       "Index(['tot_appr_val', 'prior_tot_appr_val', 'prior_land_val', 'im_sq_ft',\n",
       "       'fixtures_total', 'room_full_bath', 'grade_adjustment',\n",
       "       'market_area_1_dscr', 'dscr', 'date_erected', 'yr_remodel'],\n",
       "      dtype='object')"
      ]
     },
     "execution_count": 10,
     "metadata": {},
     "output_type": "execute_result"
    }
   ],
   "source": [
    "klein.columns"
   ]
  },
  {
   "cell_type": "code",
   "execution_count": 11,
   "metadata": {
    "ExecuteTime": {
     "end_time": "2020-10-24T10:27:36.895135Z",
     "start_time": "2020-10-24T10:27:36.849604Z"
    }
   },
   "outputs": [],
   "source": [
    "# cond0 = klein['tot_appr_val'] == \n",
    "cond1 = klein['prior_tot_appr_val'] == 267810\n",
    "cond2 = klein['prior_land_val'] == 36313\n",
    "cond3 = klein['im_sq_ft'] == 2697\n",
    "cond4 = klein['fixtures_total'] == 15\n",
    "cond5 = klein['room_full_bath'] == 3\n",
    "cond6 = klein['dscr'] == 'Good'"
   ]
  },
  {
   "cell_type": "code",
   "execution_count": 12,
   "metadata": {
    "ExecuteTime": {
     "end_time": "2020-10-24T10:27:39.422483Z",
     "start_time": "2020-10-24T10:27:39.375056Z"
    }
   },
   "outputs": [
    {
     "data": {
      "text/html": [
       "<div>\n",
       "<style scoped>\n",
       "    .dataframe tbody tr th:only-of-type {\n",
       "        vertical-align: middle;\n",
       "    }\n",
       "\n",
       "    .dataframe tbody tr th {\n",
       "        vertical-align: top;\n",
       "    }\n",
       "\n",
       "    .dataframe thead th {\n",
       "        text-align: right;\n",
       "    }\n",
       "</style>\n",
       "<table border=\"1\" class=\"dataframe\">\n",
       "  <thead>\n",
       "    <tr style=\"text-align: right;\">\n",
       "      <th></th>\n",
       "      <th>tot_appr_val</th>\n",
       "      <th>prior_tot_appr_val</th>\n",
       "      <th>prior_land_val</th>\n",
       "      <th>im_sq_ft</th>\n",
       "      <th>fixtures_total</th>\n",
       "      <th>room_full_bath</th>\n",
       "      <th>grade_adjustment</th>\n",
       "      <th>market_area_1_dscr</th>\n",
       "      <th>dscr</th>\n",
       "      <th>date_erected</th>\n",
       "      <th>yr_remodel</th>\n",
       "    </tr>\n",
       "  </thead>\n",
       "  <tbody>\n",
       "    <tr>\n",
       "      <th>947535</th>\n",
       "      <td>263704.0</td>\n",
       "      <td>267810.0</td>\n",
       "      <td>36313.0</td>\n",
       "      <td>2697.0</td>\n",
       "      <td>15.0</td>\n",
       "      <td>3.0</td>\n",
       "      <td>B-</td>\n",
       "      <td>ISD 17 - Klein ISD</td>\n",
       "      <td>Good</td>\n",
       "      <td>2014</td>\n",
       "      <td>NaN</td>\n",
       "    </tr>\n",
       "  </tbody>\n",
       "</table>\n",
       "</div>"
      ],
      "text/plain": [
       "        tot_appr_val  prior_tot_appr_val  prior_land_val  im_sq_ft  \\\n",
       "947535      263704.0            267810.0         36313.0    2697.0   \n",
       "\n",
       "        fixtures_total  room_full_bath grade_adjustment  market_area_1_dscr  \\\n",
       "947535            15.0             3.0               B-  ISD 17 - Klein ISD   \n",
       "\n",
       "        dscr  date_erected  yr_remodel  \n",
       "947535  Good          2014         NaN  "
      ]
     },
     "execution_count": 12,
     "metadata": {},
     "output_type": "execute_result"
    }
   ],
   "source": [
    "klein.loc[cond1, :]"
   ]
  },
  {
   "cell_type": "code",
   "execution_count": 13,
   "metadata": {
    "ExecuteTime": {
     "end_time": "2020-10-24T10:27:47.899792Z",
     "start_time": "2020-10-24T10:27:47.881023Z"
    }
   },
   "outputs": [],
   "source": [
    "klein = klein.drop(labels=['grade_adjustment', 'market_area_1_dscr'], axis=1)"
   ]
  },
  {
   "cell_type": "code",
   "execution_count": 14,
   "metadata": {
    "ExecuteTime": {
     "end_time": "2020-10-24T10:27:48.397732Z",
     "start_time": "2020-10-24T10:27:48.338555Z"
    }
   },
   "outputs": [
    {
     "data": {
      "text/html": [
       "<div>\n",
       "<style scoped>\n",
       "    .dataframe tbody tr th:only-of-type {\n",
       "        vertical-align: middle;\n",
       "    }\n",
       "\n",
       "    .dataframe tbody tr th {\n",
       "        vertical-align: top;\n",
       "    }\n",
       "\n",
       "    .dataframe thead th {\n",
       "        text-align: right;\n",
       "    }\n",
       "</style>\n",
       "<table border=\"1\" class=\"dataframe\">\n",
       "  <thead>\n",
       "    <tr style=\"text-align: right;\">\n",
       "      <th></th>\n",
       "      <th>tot_appr_val</th>\n",
       "      <th>prior_tot_appr_val</th>\n",
       "      <th>prior_land_val</th>\n",
       "      <th>im_sq_ft</th>\n",
       "      <th>fixtures_total</th>\n",
       "      <th>room_full_bath</th>\n",
       "      <th>dscr</th>\n",
       "      <th>date_erected</th>\n",
       "      <th>yr_remodel</th>\n",
       "    </tr>\n",
       "  </thead>\n",
       "  <tbody>\n",
       "    <tr>\n",
       "      <th>22664</th>\n",
       "      <td>221551.0</td>\n",
       "      <td>183653.0</td>\n",
       "      <td>114115.0</td>\n",
       "      <td>1496.0</td>\n",
       "      <td>8.0</td>\n",
       "      <td>2.0</td>\n",
       "      <td>Average</td>\n",
       "      <td>1953</td>\n",
       "      <td>NaN</td>\n",
       "    </tr>\n",
       "    <tr>\n",
       "      <th>23011</th>\n",
       "      <td>214482.0</td>\n",
       "      <td>194984.0</td>\n",
       "      <td>63600.0</td>\n",
       "      <td>1828.0</td>\n",
       "      <td>8.0</td>\n",
       "      <td>2.0</td>\n",
       "      <td>Average</td>\n",
       "      <td>1985</td>\n",
       "      <td>NaN</td>\n",
       "    </tr>\n",
       "    <tr>\n",
       "      <th>24009</th>\n",
       "      <td>92258.0</td>\n",
       "      <td>92258.0</td>\n",
       "      <td>63600.0</td>\n",
       "      <td>1294.0</td>\n",
       "      <td>10.0</td>\n",
       "      <td>2.0</td>\n",
       "      <td>Average</td>\n",
       "      <td>1958</td>\n",
       "      <td>NaN</td>\n",
       "    </tr>\n",
       "    <tr>\n",
       "      <th>24010</th>\n",
       "      <td>398634.0</td>\n",
       "      <td>362395.0</td>\n",
       "      <td>264446.0</td>\n",
       "      <td>1985.0</td>\n",
       "      <td>10.0</td>\n",
       "      <td>2.0</td>\n",
       "      <td>Average</td>\n",
       "      <td>1969</td>\n",
       "      <td>2007.0</td>\n",
       "    </tr>\n",
       "    <tr>\n",
       "      <th>25109</th>\n",
       "      <td>84540.0</td>\n",
       "      <td>76855.0</td>\n",
       "      <td>26658.0</td>\n",
       "      <td>1070.0</td>\n",
       "      <td>8.0</td>\n",
       "      <td>2.0</td>\n",
       "      <td>Low</td>\n",
       "      <td>1980</td>\n",
       "      <td>NaN</td>\n",
       "    </tr>\n",
       "    <tr>\n",
       "      <th>...</th>\n",
       "      <td>...</td>\n",
       "      <td>...</td>\n",
       "      <td>...</td>\n",
       "      <td>...</td>\n",
       "      <td>...</td>\n",
       "      <td>...</td>\n",
       "      <td>...</td>\n",
       "      <td>...</td>\n",
       "      <td>...</td>\n",
       "    </tr>\n",
       "    <tr>\n",
       "      <th>957621</th>\n",
       "      <td>180831.0</td>\n",
       "      <td>NaN</td>\n",
       "      <td>NaN</td>\n",
       "      <td>1754.0</td>\n",
       "      <td>10.0</td>\n",
       "      <td>2.0</td>\n",
       "      <td>Average</td>\n",
       "      <td>2015</td>\n",
       "      <td>NaN</td>\n",
       "    </tr>\n",
       "    <tr>\n",
       "      <th>957622</th>\n",
       "      <td>224884.0</td>\n",
       "      <td>NaN</td>\n",
       "      <td>NaN</td>\n",
       "      <td>2478.0</td>\n",
       "      <td>15.0</td>\n",
       "      <td>3.0</td>\n",
       "      <td>Average</td>\n",
       "      <td>2015</td>\n",
       "      <td>NaN</td>\n",
       "    </tr>\n",
       "    <tr>\n",
       "      <th>957623</th>\n",
       "      <td>186283.0</td>\n",
       "      <td>NaN</td>\n",
       "      <td>NaN</td>\n",
       "      <td>1785.0</td>\n",
       "      <td>10.0</td>\n",
       "      <td>2.0</td>\n",
       "      <td>Average</td>\n",
       "      <td>2015</td>\n",
       "      <td>NaN</td>\n",
       "    </tr>\n",
       "    <tr>\n",
       "      <th>957624</th>\n",
       "      <td>190802.0</td>\n",
       "      <td>NaN</td>\n",
       "      <td>NaN</td>\n",
       "      <td>1859.0</td>\n",
       "      <td>10.0</td>\n",
       "      <td>2.0</td>\n",
       "      <td>Average</td>\n",
       "      <td>2015</td>\n",
       "      <td>NaN</td>\n",
       "    </tr>\n",
       "    <tr>\n",
       "      <th>957664</th>\n",
       "      <td>155027.0</td>\n",
       "      <td>NaN</td>\n",
       "      <td>NaN</td>\n",
       "      <td>1600.0</td>\n",
       "      <td>10.0</td>\n",
       "      <td>2.0</td>\n",
       "      <td>Average</td>\n",
       "      <td>2015</td>\n",
       "      <td>NaN</td>\n",
       "    </tr>\n",
       "  </tbody>\n",
       "</table>\n",
       "<p>70367 rows × 9 columns</p>\n",
       "</div>"
      ],
      "text/plain": [
       "        tot_appr_val  prior_tot_appr_val  prior_land_val  im_sq_ft  \\\n",
       "22664       221551.0            183653.0        114115.0    1496.0   \n",
       "23011       214482.0            194984.0         63600.0    1828.0   \n",
       "24009        92258.0             92258.0         63600.0    1294.0   \n",
       "24010       398634.0            362395.0        264446.0    1985.0   \n",
       "25109        84540.0             76855.0         26658.0    1070.0   \n",
       "...              ...                 ...             ...       ...   \n",
       "957621      180831.0                 NaN             NaN    1754.0   \n",
       "957622      224884.0                 NaN             NaN    2478.0   \n",
       "957623      186283.0                 NaN             NaN    1785.0   \n",
       "957624      190802.0                 NaN             NaN    1859.0   \n",
       "957664      155027.0                 NaN             NaN    1600.0   \n",
       "\n",
       "        fixtures_total  room_full_bath     dscr  date_erected  yr_remodel  \n",
       "22664              8.0             2.0  Average          1953         NaN  \n",
       "23011              8.0             2.0  Average          1985         NaN  \n",
       "24009             10.0             2.0  Average          1958         NaN  \n",
       "24010             10.0             2.0  Average          1969      2007.0  \n",
       "25109              8.0             2.0      Low          1980         NaN  \n",
       "...                ...             ...      ...           ...         ...  \n",
       "957621            10.0             2.0  Average          2015         NaN  \n",
       "957622            15.0             3.0  Average          2015         NaN  \n",
       "957623            10.0             2.0  Average          2015         NaN  \n",
       "957624            10.0             2.0  Average          2015         NaN  \n",
       "957664            10.0             2.0  Average          2015         NaN  \n",
       "\n",
       "[70367 rows x 9 columns]"
      ]
     },
     "execution_count": 14,
     "metadata": {},
     "output_type": "execute_result"
    }
   ],
   "source": [
    "klein"
   ]
  },
  {
   "cell_type": "markdown",
   "metadata": {},
   "source": [
    "# Turn ordinal column into numerical"
   ]
  },
  {
   "cell_type": "code",
   "execution_count": 15,
   "metadata": {
    "ExecuteTime": {
     "end_time": "2020-10-24T10:27:52.523932Z",
     "start_time": "2020-10-24T10:27:52.505858Z"
    }
   },
   "outputs": [],
   "source": [
    "dscr_order = {'Superior': 5, 'Excellent': 4, 'Good': 3, 'Average': 2, 'Low': 1, 'Very Low': 0}"
   ]
  },
  {
   "cell_type": "code",
   "execution_count": 16,
   "metadata": {
    "ExecuteTime": {
     "end_time": "2020-10-24T10:27:52.894845Z",
     "start_time": "2020-10-24T10:27:52.862532Z"
    }
   },
   "outputs": [],
   "source": [
    "klein['dscr'] = klein['dscr'].map(dscr_order)"
   ]
  },
  {
   "cell_type": "code",
   "execution_count": 17,
   "metadata": {
    "ExecuteTime": {
     "end_time": "2020-10-24T10:27:53.478855Z",
     "start_time": "2020-10-24T10:27:53.438121Z"
    }
   },
   "outputs": [
    {
     "data": {
      "text/html": [
       "<div>\n",
       "<style scoped>\n",
       "    .dataframe tbody tr th:only-of-type {\n",
       "        vertical-align: middle;\n",
       "    }\n",
       "\n",
       "    .dataframe tbody tr th {\n",
       "        vertical-align: top;\n",
       "    }\n",
       "\n",
       "    .dataframe thead th {\n",
       "        text-align: right;\n",
       "    }\n",
       "</style>\n",
       "<table border=\"1\" class=\"dataframe\">\n",
       "  <thead>\n",
       "    <tr style=\"text-align: right;\">\n",
       "      <th></th>\n",
       "      <th>tot_appr_val</th>\n",
       "      <th>prior_tot_appr_val</th>\n",
       "      <th>prior_land_val</th>\n",
       "      <th>im_sq_ft</th>\n",
       "      <th>fixtures_total</th>\n",
       "      <th>room_full_bath</th>\n",
       "      <th>dscr</th>\n",
       "      <th>date_erected</th>\n",
       "      <th>yr_remodel</th>\n",
       "    </tr>\n",
       "  </thead>\n",
       "  <tbody>\n",
       "    <tr>\n",
       "      <th>22664</th>\n",
       "      <td>221551.0</td>\n",
       "      <td>183653.0</td>\n",
       "      <td>114115.0</td>\n",
       "      <td>1496.0</td>\n",
       "      <td>8.0</td>\n",
       "      <td>2.0</td>\n",
       "      <td>2</td>\n",
       "      <td>1953</td>\n",
       "      <td>NaN</td>\n",
       "    </tr>\n",
       "    <tr>\n",
       "      <th>23011</th>\n",
       "      <td>214482.0</td>\n",
       "      <td>194984.0</td>\n",
       "      <td>63600.0</td>\n",
       "      <td>1828.0</td>\n",
       "      <td>8.0</td>\n",
       "      <td>2.0</td>\n",
       "      <td>2</td>\n",
       "      <td>1985</td>\n",
       "      <td>NaN</td>\n",
       "    </tr>\n",
       "    <tr>\n",
       "      <th>24009</th>\n",
       "      <td>92258.0</td>\n",
       "      <td>92258.0</td>\n",
       "      <td>63600.0</td>\n",
       "      <td>1294.0</td>\n",
       "      <td>10.0</td>\n",
       "      <td>2.0</td>\n",
       "      <td>2</td>\n",
       "      <td>1958</td>\n",
       "      <td>NaN</td>\n",
       "    </tr>\n",
       "    <tr>\n",
       "      <th>24010</th>\n",
       "      <td>398634.0</td>\n",
       "      <td>362395.0</td>\n",
       "      <td>264446.0</td>\n",
       "      <td>1985.0</td>\n",
       "      <td>10.0</td>\n",
       "      <td>2.0</td>\n",
       "      <td>2</td>\n",
       "      <td>1969</td>\n",
       "      <td>2007.0</td>\n",
       "    </tr>\n",
       "    <tr>\n",
       "      <th>25109</th>\n",
       "      <td>84540.0</td>\n",
       "      <td>76855.0</td>\n",
       "      <td>26658.0</td>\n",
       "      <td>1070.0</td>\n",
       "      <td>8.0</td>\n",
       "      <td>2.0</td>\n",
       "      <td>1</td>\n",
       "      <td>1980</td>\n",
       "      <td>NaN</td>\n",
       "    </tr>\n",
       "    <tr>\n",
       "      <th>...</th>\n",
       "      <td>...</td>\n",
       "      <td>...</td>\n",
       "      <td>...</td>\n",
       "      <td>...</td>\n",
       "      <td>...</td>\n",
       "      <td>...</td>\n",
       "      <td>...</td>\n",
       "      <td>...</td>\n",
       "      <td>...</td>\n",
       "    </tr>\n",
       "    <tr>\n",
       "      <th>957621</th>\n",
       "      <td>180831.0</td>\n",
       "      <td>NaN</td>\n",
       "      <td>NaN</td>\n",
       "      <td>1754.0</td>\n",
       "      <td>10.0</td>\n",
       "      <td>2.0</td>\n",
       "      <td>2</td>\n",
       "      <td>2015</td>\n",
       "      <td>NaN</td>\n",
       "    </tr>\n",
       "    <tr>\n",
       "      <th>957622</th>\n",
       "      <td>224884.0</td>\n",
       "      <td>NaN</td>\n",
       "      <td>NaN</td>\n",
       "      <td>2478.0</td>\n",
       "      <td>15.0</td>\n",
       "      <td>3.0</td>\n",
       "      <td>2</td>\n",
       "      <td>2015</td>\n",
       "      <td>NaN</td>\n",
       "    </tr>\n",
       "    <tr>\n",
       "      <th>957623</th>\n",
       "      <td>186283.0</td>\n",
       "      <td>NaN</td>\n",
       "      <td>NaN</td>\n",
       "      <td>1785.0</td>\n",
       "      <td>10.0</td>\n",
       "      <td>2.0</td>\n",
       "      <td>2</td>\n",
       "      <td>2015</td>\n",
       "      <td>NaN</td>\n",
       "    </tr>\n",
       "    <tr>\n",
       "      <th>957624</th>\n",
       "      <td>190802.0</td>\n",
       "      <td>NaN</td>\n",
       "      <td>NaN</td>\n",
       "      <td>1859.0</td>\n",
       "      <td>10.0</td>\n",
       "      <td>2.0</td>\n",
       "      <td>2</td>\n",
       "      <td>2015</td>\n",
       "      <td>NaN</td>\n",
       "    </tr>\n",
       "    <tr>\n",
       "      <th>957664</th>\n",
       "      <td>155027.0</td>\n",
       "      <td>NaN</td>\n",
       "      <td>NaN</td>\n",
       "      <td>1600.0</td>\n",
       "      <td>10.0</td>\n",
       "      <td>2.0</td>\n",
       "      <td>2</td>\n",
       "      <td>2015</td>\n",
       "      <td>NaN</td>\n",
       "    </tr>\n",
       "  </tbody>\n",
       "</table>\n",
       "<p>70367 rows × 9 columns</p>\n",
       "</div>"
      ],
      "text/plain": [
       "        tot_appr_val  prior_tot_appr_val  prior_land_val  im_sq_ft  \\\n",
       "22664       221551.0            183653.0        114115.0    1496.0   \n",
       "23011       214482.0            194984.0         63600.0    1828.0   \n",
       "24009        92258.0             92258.0         63600.0    1294.0   \n",
       "24010       398634.0            362395.0        264446.0    1985.0   \n",
       "25109        84540.0             76855.0         26658.0    1070.0   \n",
       "...              ...                 ...             ...       ...   \n",
       "957621      180831.0                 NaN             NaN    1754.0   \n",
       "957622      224884.0                 NaN             NaN    2478.0   \n",
       "957623      186283.0                 NaN             NaN    1785.0   \n",
       "957624      190802.0                 NaN             NaN    1859.0   \n",
       "957664      155027.0                 NaN             NaN    1600.0   \n",
       "\n",
       "        fixtures_total  room_full_bath  dscr  date_erected  yr_remodel  \n",
       "22664              8.0             2.0     2          1953         NaN  \n",
       "23011              8.0             2.0     2          1985         NaN  \n",
       "24009             10.0             2.0     2          1958         NaN  \n",
       "24010             10.0             2.0     2          1969      2007.0  \n",
       "25109              8.0             2.0     1          1980         NaN  \n",
       "...                ...             ...   ...           ...         ...  \n",
       "957621            10.0             2.0     2          2015         NaN  \n",
       "957622            15.0             3.0     2          2015         NaN  \n",
       "957623            10.0             2.0     2          2015         NaN  \n",
       "957624            10.0             2.0     2          2015         NaN  \n",
       "957664            10.0             2.0     2          2015         NaN  \n",
       "\n",
       "[70367 rows x 9 columns]"
      ]
     },
     "execution_count": 17,
     "metadata": {},
     "output_type": "execute_result"
    }
   ],
   "source": [
    "klein"
   ]
  },
  {
   "cell_type": "markdown",
   "metadata": {},
   "source": [
    "# Build latest construction year feature"
   ]
  },
  {
   "cell_type": "code",
   "execution_count": 18,
   "metadata": {
    "ExecuteTime": {
     "end_time": "2020-10-24T10:33:08.533089Z",
     "start_time": "2020-10-24T10:33:08.516302Z"
    }
   },
   "outputs": [],
   "source": [
    "klein['lastest_const_year'] = klein['yr_remodel'].fillna(klein['date_erected'])"
   ]
  },
  {
   "cell_type": "code",
   "execution_count": 19,
   "metadata": {
    "ExecuteTime": {
     "end_time": "2020-10-24T10:33:13.954304Z",
     "start_time": "2020-10-24T10:33:13.917631Z"
    }
   },
   "outputs": [
    {
     "data": {
      "text/html": [
       "<div>\n",
       "<style scoped>\n",
       "    .dataframe tbody tr th:only-of-type {\n",
       "        vertical-align: middle;\n",
       "    }\n",
       "\n",
       "    .dataframe tbody tr th {\n",
       "        vertical-align: top;\n",
       "    }\n",
       "\n",
       "    .dataframe thead th {\n",
       "        text-align: right;\n",
       "    }\n",
       "</style>\n",
       "<table border=\"1\" class=\"dataframe\">\n",
       "  <thead>\n",
       "    <tr style=\"text-align: right;\">\n",
       "      <th></th>\n",
       "      <th>tot_appr_val</th>\n",
       "      <th>prior_tot_appr_val</th>\n",
       "      <th>prior_land_val</th>\n",
       "      <th>im_sq_ft</th>\n",
       "      <th>fixtures_total</th>\n",
       "      <th>room_full_bath</th>\n",
       "      <th>dscr</th>\n",
       "      <th>date_erected</th>\n",
       "      <th>yr_remodel</th>\n",
       "      <th>lastest_const_year</th>\n",
       "    </tr>\n",
       "  </thead>\n",
       "  <tbody>\n",
       "    <tr>\n",
       "      <th>22664</th>\n",
       "      <td>221551.0</td>\n",
       "      <td>183653.0</td>\n",
       "      <td>114115.0</td>\n",
       "      <td>1496.0</td>\n",
       "      <td>8.0</td>\n",
       "      <td>2.0</td>\n",
       "      <td>2</td>\n",
       "      <td>1953</td>\n",
       "      <td>NaN</td>\n",
       "      <td>1953.0</td>\n",
       "    </tr>\n",
       "    <tr>\n",
       "      <th>23011</th>\n",
       "      <td>214482.0</td>\n",
       "      <td>194984.0</td>\n",
       "      <td>63600.0</td>\n",
       "      <td>1828.0</td>\n",
       "      <td>8.0</td>\n",
       "      <td>2.0</td>\n",
       "      <td>2</td>\n",
       "      <td>1985</td>\n",
       "      <td>NaN</td>\n",
       "      <td>1985.0</td>\n",
       "    </tr>\n",
       "    <tr>\n",
       "      <th>24009</th>\n",
       "      <td>92258.0</td>\n",
       "      <td>92258.0</td>\n",
       "      <td>63600.0</td>\n",
       "      <td>1294.0</td>\n",
       "      <td>10.0</td>\n",
       "      <td>2.0</td>\n",
       "      <td>2</td>\n",
       "      <td>1958</td>\n",
       "      <td>NaN</td>\n",
       "      <td>1958.0</td>\n",
       "    </tr>\n",
       "    <tr>\n",
       "      <th>24010</th>\n",
       "      <td>398634.0</td>\n",
       "      <td>362395.0</td>\n",
       "      <td>264446.0</td>\n",
       "      <td>1985.0</td>\n",
       "      <td>10.0</td>\n",
       "      <td>2.0</td>\n",
       "      <td>2</td>\n",
       "      <td>1969</td>\n",
       "      <td>2007.0</td>\n",
       "      <td>2007.0</td>\n",
       "    </tr>\n",
       "    <tr>\n",
       "      <th>25109</th>\n",
       "      <td>84540.0</td>\n",
       "      <td>76855.0</td>\n",
       "      <td>26658.0</td>\n",
       "      <td>1070.0</td>\n",
       "      <td>8.0</td>\n",
       "      <td>2.0</td>\n",
       "      <td>1</td>\n",
       "      <td>1980</td>\n",
       "      <td>NaN</td>\n",
       "      <td>1980.0</td>\n",
       "    </tr>\n",
       "    <tr>\n",
       "      <th>...</th>\n",
       "      <td>...</td>\n",
       "      <td>...</td>\n",
       "      <td>...</td>\n",
       "      <td>...</td>\n",
       "      <td>...</td>\n",
       "      <td>...</td>\n",
       "      <td>...</td>\n",
       "      <td>...</td>\n",
       "      <td>...</td>\n",
       "      <td>...</td>\n",
       "    </tr>\n",
       "    <tr>\n",
       "      <th>957621</th>\n",
       "      <td>180831.0</td>\n",
       "      <td>NaN</td>\n",
       "      <td>NaN</td>\n",
       "      <td>1754.0</td>\n",
       "      <td>10.0</td>\n",
       "      <td>2.0</td>\n",
       "      <td>2</td>\n",
       "      <td>2015</td>\n",
       "      <td>NaN</td>\n",
       "      <td>2015.0</td>\n",
       "    </tr>\n",
       "    <tr>\n",
       "      <th>957622</th>\n",
       "      <td>224884.0</td>\n",
       "      <td>NaN</td>\n",
       "      <td>NaN</td>\n",
       "      <td>2478.0</td>\n",
       "      <td>15.0</td>\n",
       "      <td>3.0</td>\n",
       "      <td>2</td>\n",
       "      <td>2015</td>\n",
       "      <td>NaN</td>\n",
       "      <td>2015.0</td>\n",
       "    </tr>\n",
       "    <tr>\n",
       "      <th>957623</th>\n",
       "      <td>186283.0</td>\n",
       "      <td>NaN</td>\n",
       "      <td>NaN</td>\n",
       "      <td>1785.0</td>\n",
       "      <td>10.0</td>\n",
       "      <td>2.0</td>\n",
       "      <td>2</td>\n",
       "      <td>2015</td>\n",
       "      <td>NaN</td>\n",
       "      <td>2015.0</td>\n",
       "    </tr>\n",
       "    <tr>\n",
       "      <th>957624</th>\n",
       "      <td>190802.0</td>\n",
       "      <td>NaN</td>\n",
       "      <td>NaN</td>\n",
       "      <td>1859.0</td>\n",
       "      <td>10.0</td>\n",
       "      <td>2.0</td>\n",
       "      <td>2</td>\n",
       "      <td>2015</td>\n",
       "      <td>NaN</td>\n",
       "      <td>2015.0</td>\n",
       "    </tr>\n",
       "    <tr>\n",
       "      <th>957664</th>\n",
       "      <td>155027.0</td>\n",
       "      <td>NaN</td>\n",
       "      <td>NaN</td>\n",
       "      <td>1600.0</td>\n",
       "      <td>10.0</td>\n",
       "      <td>2.0</td>\n",
       "      <td>2</td>\n",
       "      <td>2015</td>\n",
       "      <td>NaN</td>\n",
       "      <td>2015.0</td>\n",
       "    </tr>\n",
       "  </tbody>\n",
       "</table>\n",
       "<p>70367 rows × 10 columns</p>\n",
       "</div>"
      ],
      "text/plain": [
       "        tot_appr_val  prior_tot_appr_val  prior_land_val  im_sq_ft  \\\n",
       "22664       221551.0            183653.0        114115.0    1496.0   \n",
       "23011       214482.0            194984.0         63600.0    1828.0   \n",
       "24009        92258.0             92258.0         63600.0    1294.0   \n",
       "24010       398634.0            362395.0        264446.0    1985.0   \n",
       "25109        84540.0             76855.0         26658.0    1070.0   \n",
       "...              ...                 ...             ...       ...   \n",
       "957621      180831.0                 NaN             NaN    1754.0   \n",
       "957622      224884.0                 NaN             NaN    2478.0   \n",
       "957623      186283.0                 NaN             NaN    1785.0   \n",
       "957624      190802.0                 NaN             NaN    1859.0   \n",
       "957664      155027.0                 NaN             NaN    1600.0   \n",
       "\n",
       "        fixtures_total  room_full_bath  dscr  date_erected  yr_remodel  \\\n",
       "22664              8.0             2.0     2          1953         NaN   \n",
       "23011              8.0             2.0     2          1985         NaN   \n",
       "24009             10.0             2.0     2          1958         NaN   \n",
       "24010             10.0             2.0     2          1969      2007.0   \n",
       "25109              8.0             2.0     1          1980         NaN   \n",
       "...                ...             ...   ...           ...         ...   \n",
       "957621            10.0             2.0     2          2015         NaN   \n",
       "957622            15.0             3.0     2          2015         NaN   \n",
       "957623            10.0             2.0     2          2015         NaN   \n",
       "957624            10.0             2.0     2          2015         NaN   \n",
       "957664            10.0             2.0     2          2015         NaN   \n",
       "\n",
       "        lastest_const_year  \n",
       "22664               1953.0  \n",
       "23011               1985.0  \n",
       "24009               1958.0  \n",
       "24010               2007.0  \n",
       "25109               1980.0  \n",
       "...                    ...  \n",
       "957621              2015.0  \n",
       "957622              2015.0  \n",
       "957623              2015.0  \n",
       "957624              2015.0  \n",
       "957664              2015.0  \n",
       "\n",
       "[70367 rows x 10 columns]"
      ]
     },
     "execution_count": 19,
     "metadata": {},
     "output_type": "execute_result"
    }
   ],
   "source": [
    "klein"
   ]
  },
  {
   "cell_type": "code",
   "execution_count": 21,
   "metadata": {
    "ExecuteTime": {
     "end_time": "2020-10-24T10:34:44.590014Z",
     "start_time": "2020-10-24T10:34:44.552520Z"
    }
   },
   "outputs": [],
   "source": [
    "klein.drop('yr_remodel', axis=1, inplace=True)"
   ]
  },
  {
   "cell_type": "markdown",
   "metadata": {},
   "source": [
    "# Check for NaNs"
   ]
  },
  {
   "cell_type": "code",
   "execution_count": 22,
   "metadata": {
    "ExecuteTime": {
     "end_time": "2020-10-24T10:34:46.165812Z",
     "start_time": "2020-10-24T10:34:46.138815Z"
    }
   },
   "outputs": [
    {
     "data": {
      "text/plain": [
       "tot_appr_val          0.000000\n",
       "prior_tot_appr_val    0.003396\n",
       "prior_land_val        0.003396\n",
       "im_sq_ft              0.000000\n",
       "fixtures_total        0.000000\n",
       "room_full_bath        0.000000\n",
       "dscr                  0.000000\n",
       "date_erected          0.000000\n",
       "lastest_const_year    0.000000\n",
       "dtype: float64"
      ]
     },
     "execution_count": 22,
     "metadata": {},
     "output_type": "execute_result"
    }
   ],
   "source": [
    "klein.isna().sum() / klein.shape[0]"
   ]
  },
  {
   "cell_type": "markdown",
   "metadata": {},
   "source": [
    "## Remove NaNs"
   ]
  },
  {
   "cell_type": "code",
   "execution_count": 23,
   "metadata": {
    "ExecuteTime": {
     "end_time": "2020-10-24T10:34:50.910541Z",
     "start_time": "2020-10-24T10:34:50.871680Z"
    }
   },
   "outputs": [],
   "source": [
    "klein = klein.dropna().copy()"
   ]
  },
  {
   "cell_type": "markdown",
   "metadata": {},
   "source": [
    "# Get the appraised value difference"
   ]
  },
  {
   "cell_type": "code",
   "execution_count": 24,
   "metadata": {
    "ExecuteTime": {
     "end_time": "2020-10-24T10:34:52.811429Z",
     "start_time": "2020-10-24T10:34:52.792076Z"
    }
   },
   "outputs": [],
   "source": [
    "from scipy import stats\n",
    "\n",
    "import seaborn as sns"
   ]
  },
  {
   "cell_type": "code",
   "execution_count": 25,
   "metadata": {
    "ExecuteTime": {
     "end_time": "2020-10-24T10:34:53.168069Z",
     "start_time": "2020-10-24T10:34:53.144631Z"
    }
   },
   "outputs": [],
   "source": [
    "klein['appr_val_diff'] = klein['tot_appr_val'] - klein['prior_tot_appr_val']"
   ]
  },
  {
   "cell_type": "code",
   "execution_count": 26,
   "metadata": {
    "ExecuteTime": {
     "end_time": "2020-10-24T10:34:54.742312Z",
     "start_time": "2020-10-24T10:34:54.482065Z"
    }
   },
   "outputs": [
    {
     "data": {
      "text/plain": [
       "<AxesSubplot:>"
      ]
     },
     "execution_count": 26,
     "metadata": {},
     "output_type": "execute_result"
    },
    {
     "data": {
      "image/png": "[encoded data removed]",
      "text/plain": [
       "<Figure size 576x576 with 1 Axes>"
      ]
     },
     "metadata": {
      "needs_background": "light"
     },
     "output_type": "display_data"
    }
   ],
   "source": [
    "plt.figure(figsize=(8, 8))\n",
    "klein['appr_val_diff'].hist(bins=30)"
   ]
  },
  {
   "cell_type": "code",
   "execution_count": 27,
   "metadata": {
    "ExecuteTime": {
     "end_time": "2020-10-24T10:34:59.875310Z",
     "start_time": "2020-10-24T10:34:59.833967Z"
    }
   },
   "outputs": [
    {
     "data": {
      "text/html": [
       "<div>\n",
       "<style scoped>\n",
       "    .dataframe tbody tr th:only-of-type {\n",
       "        vertical-align: middle;\n",
       "    }\n",
       "\n",
       "    .dataframe tbody tr th {\n",
       "        vertical-align: top;\n",
       "    }\n",
       "\n",
       "    .dataframe thead th {\n",
       "        text-align: right;\n",
       "    }\n",
       "</style>\n",
       "<table border=\"1\" class=\"dataframe\">\n",
       "  <thead>\n",
       "    <tr style=\"text-align: right;\">\n",
       "      <th></th>\n",
       "      <th>tot_appr_val</th>\n",
       "      <th>prior_tot_appr_val</th>\n",
       "      <th>prior_land_val</th>\n",
       "      <th>im_sq_ft</th>\n",
       "      <th>fixtures_total</th>\n",
       "      <th>room_full_bath</th>\n",
       "      <th>dscr</th>\n",
       "      <th>date_erected</th>\n",
       "      <th>lastest_const_year</th>\n",
       "      <th>appr_val_diff</th>\n",
       "    </tr>\n",
       "  </thead>\n",
       "  <tbody>\n",
       "    <tr>\n",
       "      <th>35447</th>\n",
       "      <td>258817.0</td>\n",
       "      <td>154000.0</td>\n",
       "      <td>43560.0</td>\n",
       "      <td>1804.0</td>\n",
       "      <td>9.0</td>\n",
       "      <td>2.0</td>\n",
       "      <td>2</td>\n",
       "      <td>1983</td>\n",
       "      <td>1983.0</td>\n",
       "      <td>104817.0</td>\n",
       "    </tr>\n",
       "    <tr>\n",
       "      <th>42539</th>\n",
       "      <td>274500.0</td>\n",
       "      <td>137250.0</td>\n",
       "      <td>25834.0</td>\n",
       "      <td>3477.0</td>\n",
       "      <td>16.0</td>\n",
       "      <td>3.0</td>\n",
       "      <td>2</td>\n",
       "      <td>2014</td>\n",
       "      <td>2014.0</td>\n",
       "      <td>137250.0</td>\n",
       "    </tr>\n",
       "    <tr>\n",
       "      <th>42737</th>\n",
       "      <td>758300.0</td>\n",
       "      <td>235743.0</td>\n",
       "      <td>81880.0</td>\n",
       "      <td>2268.0</td>\n",
       "      <td>11.0</td>\n",
       "      <td>2.0</td>\n",
       "      <td>2</td>\n",
       "      <td>1929</td>\n",
       "      <td>1929.0</td>\n",
       "      <td>522557.0</td>\n",
       "    </tr>\n",
       "    <tr>\n",
       "      <th>43449</th>\n",
       "      <td>277259.0</td>\n",
       "      <td>132833.0</td>\n",
       "      <td>130680.0</td>\n",
       "      <td>2120.0</td>\n",
       "      <td>8.0</td>\n",
       "      <td>2.0</td>\n",
       "      <td>2</td>\n",
       "      <td>1966</td>\n",
       "      <td>1966.0</td>\n",
       "      <td>144426.0</td>\n",
       "    </tr>\n",
       "    <tr>\n",
       "      <th>44624</th>\n",
       "      <td>274296.0</td>\n",
       "      <td>161406.0</td>\n",
       "      <td>74991.0</td>\n",
       "      <td>1920.0</td>\n",
       "      <td>5.0</td>\n",
       "      <td>1.0</td>\n",
       "      <td>2</td>\n",
       "      <td>1971</td>\n",
       "      <td>1971.0</td>\n",
       "      <td>112890.0</td>\n",
       "    </tr>\n",
       "    <tr>\n",
       "      <th>...</th>\n",
       "      <td>...</td>\n",
       "      <td>...</td>\n",
       "      <td>...</td>\n",
       "      <td>...</td>\n",
       "      <td>...</td>\n",
       "      <td>...</td>\n",
       "      <td>...</td>\n",
       "      <td>...</td>\n",
       "      <td>...</td>\n",
       "      <td>...</td>\n",
       "    </tr>\n",
       "    <tr>\n",
       "      <th>957394</th>\n",
       "      <td>306477.0</td>\n",
       "      <td>18224.0</td>\n",
       "      <td>18224.0</td>\n",
       "      <td>3013.0</td>\n",
       "      <td>13.0</td>\n",
       "      <td>3.0</td>\n",
       "      <td>3</td>\n",
       "      <td>2015</td>\n",
       "      <td>2015.0</td>\n",
       "      <td>288253.0</td>\n",
       "    </tr>\n",
       "    <tr>\n",
       "      <th>957482</th>\n",
       "      <td>330000.0</td>\n",
       "      <td>49042.0</td>\n",
       "      <td>49042.0</td>\n",
       "      <td>3887.0</td>\n",
       "      <td>16.0</td>\n",
       "      <td>3.0</td>\n",
       "      <td>3</td>\n",
       "      <td>2015</td>\n",
       "      <td>2015.0</td>\n",
       "      <td>280958.0</td>\n",
       "    </tr>\n",
       "    <tr>\n",
       "      <th>957483</th>\n",
       "      <td>349343.0</td>\n",
       "      <td>49831.0</td>\n",
       "      <td>49831.0</td>\n",
       "      <td>3952.0</td>\n",
       "      <td>16.0</td>\n",
       "      <td>3.0</td>\n",
       "      <td>3</td>\n",
       "      <td>2015</td>\n",
       "      <td>2015.0</td>\n",
       "      <td>299512.0</td>\n",
       "    </tr>\n",
       "    <tr>\n",
       "      <th>957484</th>\n",
       "      <td>246140.0</td>\n",
       "      <td>41425.0</td>\n",
       "      <td>41425.0</td>\n",
       "      <td>2072.0</td>\n",
       "      <td>13.0</td>\n",
       "      <td>3.0</td>\n",
       "      <td>3</td>\n",
       "      <td>2015</td>\n",
       "      <td>2015.0</td>\n",
       "      <td>204715.0</td>\n",
       "    </tr>\n",
       "    <tr>\n",
       "      <th>957496</th>\n",
       "      <td>235824.0</td>\n",
       "      <td>9078.0</td>\n",
       "      <td>9078.0</td>\n",
       "      <td>2144.0</td>\n",
       "      <td>10.0</td>\n",
       "      <td>2.0</td>\n",
       "      <td>3</td>\n",
       "      <td>2015</td>\n",
       "      <td>2015.0</td>\n",
       "      <td>226746.0</td>\n",
       "    </tr>\n",
       "  </tbody>\n",
       "</table>\n",
       "<p>1323 rows × 10 columns</p>\n",
       "</div>"
      ],
      "text/plain": [
       "        tot_appr_val  prior_tot_appr_val  prior_land_val  im_sq_ft  \\\n",
       "35447       258817.0            154000.0         43560.0    1804.0   \n",
       "42539       274500.0            137250.0         25834.0    3477.0   \n",
       "42737       758300.0            235743.0         81880.0    2268.0   \n",
       "43449       277259.0            132833.0        130680.0    2120.0   \n",
       "44624       274296.0            161406.0         74991.0    1920.0   \n",
       "...              ...                 ...             ...       ...   \n",
       "957394      306477.0             18224.0         18224.0    3013.0   \n",
       "957482      330000.0             49042.0         49042.0    3887.0   \n",
       "957483      349343.0             49831.0         49831.0    3952.0   \n",
       "957484      246140.0             41425.0         41425.0    2072.0   \n",
       "957496      235824.0              9078.0          9078.0    2144.0   \n",
       "\n",
       "        fixtures_total  room_full_bath  dscr  date_erected  \\\n",
       "35447              9.0             2.0     2          1983   \n",
       "42539             16.0             3.0     2          2014   \n",
       "42737             11.0             2.0     2          1929   \n",
       "43449              8.0             2.0     2          1966   \n",
       "44624              5.0             1.0     2          1971   \n",
       "...                ...             ...   ...           ...   \n",
       "957394            13.0             3.0     3          2015   \n",
       "957482            16.0             3.0     3          2015   \n",
       "957483            16.0             3.0     3          2015   \n",
       "957484            13.0             3.0     3          2015   \n",
       "957496            10.0             2.0     3          2015   \n",
       "\n",
       "        lastest_const_year  appr_val_diff  \n",
       "35447               1983.0       104817.0  \n",
       "42539               2014.0       137250.0  \n",
       "42737               1929.0       522557.0  \n",
       "43449               1966.0       144426.0  \n",
       "44624               1971.0       112890.0  \n",
       "...                    ...            ...  \n",
       "957394              2015.0       288253.0  \n",
       "957482              2015.0       280958.0  \n",
       "957483              2015.0       299512.0  \n",
       "957484              2015.0       204715.0  \n",
       "957496              2015.0       226746.0  \n",
       "\n",
       "[1323 rows x 10 columns]"
      ]
     },
     "execution_count": 27,
     "metadata": {},
     "output_type": "execute_result"
    }
   ],
   "source": [
    "klein.loc[klein['appr_val_diff'] > 100_000]"
   ]
  },
  {
   "cell_type": "code",
   "execution_count": null,
   "metadata": {},
   "outputs": [],
   "source": []
  },
  {
   "cell_type": "code",
   "execution_count": 28,
   "metadata": {
    "ExecuteTime": {
     "end_time": "2020-10-24T10:39:58.143205Z",
     "start_time": "2020-10-24T10:39:58.114428Z"
    }
   },
   "outputs": [
    {
     "data": {
      "text/plain": [
       "count    7.012800e+04\n",
       "mean     1.597404e+04\n",
       "std      3.751980e+04\n",
       "min     -6.631820e+05\n",
       "25%      5.838000e+03\n",
       "50%      1.140000e+04\n",
       "75%      1.716925e+04\n",
       "max      1.270945e+06\n",
       "Name: appr_val_diff, dtype: float64"
      ]
     },
     "execution_count": 28,
     "metadata": {},
     "output_type": "execute_result"
    }
   ],
   "source": [
    "klein['appr_val_diff'].describe()"
   ]
  },
  {
   "cell_type": "code",
   "execution_count": 29,
   "metadata": {
    "ExecuteTime": {
     "end_time": "2020-10-24T10:40:12.278927Z",
     "start_time": "2020-10-24T10:40:05.022213Z"
    }
   },
   "outputs": [
    {
     "data": {
      "image/png": "[encoded data removed]",
      "text/plain": [
       "<Figure size 360x360 with 1 Axes>"
      ]
     },
     "metadata": {
      "needs_background": "light"
     },
     "output_type": "display_data"
    },
    {
     "data": {
      "image/png": "[encoded data removed]",
      "text/plain": [
       "<Figure size 432x288 with 1 Axes>"
      ]
     },
     "metadata": {
      "needs_background": "light"
     },
     "output_type": "display_data"
    }
   ],
   "source": [
    "# sns.distplot(klein['appr_val_diff'], fit=stats.norm)\n",
    "sns.displot(klein['appr_val_diff'], kde=True)\n",
    "fig = plt.figure()\n",
    "res = stats.probplot(klein['appr_val_diff'], plot=plt)"
   ]
  },
  {
   "cell_type": "markdown",
   "metadata": {},
   "source": [
    "Those really high positive differences are new builds."
   ]
  },
  {
   "cell_type": "code",
   "execution_count": 30,
   "metadata": {
    "ExecuteTime": {
     "end_time": "2020-10-24T10:40:57.452640Z",
     "start_time": "2020-10-24T10:40:57.429582Z"
    }
   },
   "outputs": [],
   "source": [
    "cond0 = ~(klein['lastest_const_year'] >= 2015)\n",
    "\n",
    "klein = klein.loc[cond0, :]"
   ]
  },
  {
   "cell_type": "code",
   "execution_count": 31,
   "metadata": {
    "ExecuteTime": {
     "end_time": "2020-10-24T10:40:58.744839Z",
     "start_time": "2020-10-24T10:40:58.453057Z"
    }
   },
   "outputs": [
    {
     "data": {
      "text/plain": [
       "<AxesSubplot:>"
      ]
     },
     "execution_count": 31,
     "metadata": {},
     "output_type": "execute_result"
    },
    {
     "data": {
      "image/png": "[encoded data removed]",
      "text/plain": [
       "<Figure size 576x576 with 1 Axes>"
      ]
     },
     "metadata": {
      "needs_background": "light"
     },
     "output_type": "display_data"
    }
   ],
   "source": [
    "klein['appr_val_diff'].hist(bins=30, figsize=(8, 8))"
   ]
  },
  {
   "cell_type": "code",
   "execution_count": 32,
   "metadata": {
    "ExecuteTime": {
     "end_time": "2020-10-24T10:41:16.906052Z",
     "start_time": "2020-10-24T10:41:16.888803Z"
    }
   },
   "outputs": [
    {
     "data": {
      "text/plain": [
       "(69227, 10)"
      ]
     },
     "execution_count": 32,
     "metadata": {},
     "output_type": "execute_result"
    }
   ],
   "source": [
    "klein.shape"
   ]
  },
  {
   "cell_type": "code",
   "execution_count": 33,
   "metadata": {
    "ExecuteTime": {
     "end_time": "2020-10-24T10:41:45.712684Z",
     "start_time": "2020-10-24T10:41:39.042702Z"
    }
   },
   "outputs": [
    {
     "data": {
      "image/png": "[encoded data removed]",
      "text/plain": [
       "<Figure size 360x360 with 1 Axes>"
      ]
     },
     "metadata": {
      "needs_background": "light"
     },
     "output_type": "display_data"
    },
    {
     "data": {
      "image/png": "[encoded data removed]",
      "text/plain": [
       "<Figure size 432x288 with 1 Axes>"
      ]
     },
     "metadata": {
      "needs_background": "light"
     },
     "output_type": "display_data"
    }
   ],
   "source": [
    "# sns.distplot(klein['appr_val_diff'], fit=stats.norm)\n",
    "sns.displot(klein['appr_val_diff'], kde=True)\n",
    "fig = plt.figure()\n",
    "res = stats.probplot(klein['appr_val_diff'], plot=plt)"
   ]
  },
  {
   "cell_type": "code",
   "execution_count": null,
   "metadata": {},
   "outputs": [],
   "source": []
  },
  {
   "cell_type": "code",
   "execution_count": null,
   "metadata": {},
   "outputs": [],
   "source": []
  },
  {
   "cell_type": "code",
   "execution_count": null,
   "metadata": {},
   "outputs": [],
   "source": []
  },
  {
   "cell_type": "markdown",
   "metadata": {},
   "source": [
    "# Find neighbours"
   ]
  },
  {
   "cell_type": "code",
   "execution_count": null,
   "metadata": {
    "ExecuteTime": {
     "end_time": "2020-10-24T09:57:12.248980Z",
     "start_time": "2020-10-24T09:57:11.840118Z"
    }
   },
   "outputs": [],
   "source": [
    "from sklearn.cluster import KMeans"
   ]
  },
  {
   "cell_type": "code",
   "execution_count": null,
   "metadata": {
    "ExecuteTime": {
     "end_time": "2020-10-24T09:54:43.255040Z",
     "start_time": "2020-10-24T09:54:15.459057Z"
    }
   },
   "outputs": [],
   "source": [
    "ks = range(1, 12)\n",
    "inertias = []\n",
    "\n",
    "for k in ks:\n",
    "    # Create a KMeans instance with k clusters: model\n",
    "    model = KMeans(n_clusters=k)\n",
    "    \n",
    "    # Fit model to samples\n",
    "    model.fit(klein)\n",
    "    \n",
    "    # Append the inertia to the list of inertias\n",
    "    inertias.append(model.inertia_)\n",
    "    \n",
    "# Plot ks vs inertias\n",
    "plt.plot(ks, inertias, '-o')\n",
    "plt.xlabel('number of clusters, k')\n",
    "plt.ylabel('inertia')\n",
    "plt.xticks(ks)\n",
    "plt.show()"
   ]
  },
  {
   "cell_type": "markdown",
   "metadata": {},
   "source": [
    "Seems like 6 is a good choice"
   ]
  },
  {
   "cell_type": "code",
   "execution_count": null,
   "metadata": {
    "ExecuteTime": {
     "end_time": "2020-10-23T20:45:28.181349Z",
     "start_time": "2020-10-23T20:45:28.155186Z"
    }
   },
   "outputs": [],
   "source": [
    "model = KMeans(n_clusters=6)"
   ]
  },
  {
   "cell_type": "code",
   "execution_count": null,
   "metadata": {
    "ExecuteTime": {
     "end_time": "2020-10-23T20:45:30.774019Z",
     "start_time": "2020-10-23T20:45:28.185102Z"
    }
   },
   "outputs": [],
   "source": [
    "labels = model.fit_predict(klein)"
   ]
  },
  {
   "cell_type": "code",
   "execution_count": null,
   "metadata": {
    "ExecuteTime": {
     "end_time": "2020-10-23T16:27:16.108685Z",
     "start_time": "2020-10-23T16:27:15.832093Z"
    }
   },
   "outputs": [],
   "source": [
    "from sklearn.manifold import TSNE"
   ]
  },
  {
   "cell_type": "code",
   "execution_count": null,
   "metadata": {
    "ExecuteTime": {
     "end_time": "2020-10-23T16:27:46.818496Z",
     "start_time": "2020-10-23T16:27:46.590096Z"
    }
   },
   "outputs": [],
   "source": [
    "model = TSNE(learning_rate=100)"
   ]
  },
  {
   "cell_type": "code",
   "execution_count": null,
   "metadata": {
    "ExecuteTime": {
     "end_time": "2020-10-23T17:04:55.301485Z",
     "start_time": "2020-10-23T16:28:12.626304Z"
    }
   },
   "outputs": [],
   "source": [
    "transformed = model.fit_transform(klein)"
   ]
  },
  {
   "cell_type": "code",
   "execution_count": null,
   "metadata": {
    "ExecuteTime": {
     "end_time": "2020-10-23T19:41:42.025419Z",
     "start_time": "2020-10-23T19:41:40.951255Z"
    }
   },
   "outputs": [],
   "source": [
    "plt.figure(figsize=(8, 8))\n",
    "plt.scatter(transformed[:, 0], transformed[:, 1], c=labels, cmap='Set1', alpha=0.5, s=0.5)\n",
    "plt.colorbar()\n",
    "plt.show()"
   ]
  },
  {
   "cell_type": "code",
   "execution_count": null,
   "metadata": {},
   "outputs": [],
   "source": []
  },
  {
   "cell_type": "code",
   "execution_count": null,
   "metadata": {
    "ExecuteTime": {
     "end_time": "2020-10-23T20:45:37.467643Z",
     "start_time": "2020-10-23T20:45:37.445949Z"
    }
   },
   "outputs": [],
   "source": [
    "klein_labeled = klein.copy()\n",
    "\n",
    "klein_labeled['kmeans_label'] = labels"
   ]
  },
  {
   "cell_type": "code",
   "execution_count": null,
   "metadata": {
    "ExecuteTime": {
     "end_time": "2020-10-23T20:45:50.721598Z",
     "start_time": "2020-10-23T20:45:50.669438Z"
    }
   },
   "outputs": [],
   "source": [
    "klein_labeled"
   ]
  },
  {
   "cell_type": "code",
   "execution_count": null,
   "metadata": {
    "ExecuteTime": {
     "end_time": "2020-10-23T20:47:01.314360Z",
     "start_time": "2020-10-23T20:47:01.288845Z"
    }
   },
   "outputs": [],
   "source": [
    "klein_labeled.loc[947535, :]"
   ]
  },
  {
   "cell_type": "code",
   "execution_count": null,
   "metadata": {
    "ExecuteTime": {
     "end_time": "2020-10-23T20:52:42.596620Z",
     "start_time": "2020-10-23T20:52:42.577133Z"
    }
   },
   "outputs": [],
   "source": [
    "appraised_2016 = 292707\n",
    "appraised_2015 =  267810\n",
    "\n",
    "appraised_2016 - appraised_2015"
   ]
  },
  {
   "cell_type": "markdown",
   "metadata": {},
   "source": [
    "So my house is in label 4"
   ]
  },
  {
   "cell_type": "code",
   "execution_count": null,
   "metadata": {
    "ExecuteTime": {
     "end_time": "2020-10-23T20:52:57.012001Z",
     "start_time": "2020-10-23T20:52:56.987468Z"
    }
   },
   "outputs": [],
   "source": [
    "cond0 = klein_labeled['kmeans_label'] == 0\n",
    "\n",
    "comps = klein_labeled.loc[cond0, :]"
   ]
  },
  {
   "cell_type": "code",
   "execution_count": null,
   "metadata": {
    "ExecuteTime": {
     "end_time": "2020-10-23T20:52:58.271167Z",
     "start_time": "2020-10-23T20:52:58.186169Z"
    }
   },
   "outputs": [],
   "source": [
    "comps.sample(10)"
   ]
  },
  {
   "cell_type": "code",
   "execution_count": null,
   "metadata": {
    "ExecuteTime": {
     "end_time": "2020-10-23T20:53:06.441957Z",
     "start_time": "2020-10-23T20:53:06.419375Z"
    }
   },
   "outputs": [],
   "source": [
    "comps.shape"
   ]
  },
  {
   "cell_type": "code",
   "execution_count": null,
   "metadata": {
    "ExecuteTime": {
     "end_time": "2020-10-23T20:53:12.352160Z",
     "start_time": "2020-10-23T20:53:12.117775Z"
    }
   },
   "outputs": [],
   "source": [
    "plt.figure(figsize=(8, 8))\n",
    "comps['tot_appr_val'].hist(bins=30)"
   ]
  },
  {
   "cell_type": "code",
   "execution_count": null,
   "metadata": {
    "ExecuteTime": {
     "end_time": "2020-10-23T20:53:13.946885Z",
     "start_time": "2020-10-23T20:53:13.920945Z"
    }
   },
   "outputs": [],
   "source": [
    "mean = comps['tot_appr_val'].mean()\n",
    "std = comps['tot_appr_val'].std()"
   ]
  },
  {
   "cell_type": "code",
   "execution_count": null,
   "metadata": {
    "ExecuteTime": {
     "end_time": "2020-10-23T20:53:15.114195Z",
     "start_time": "2020-10-23T20:53:15.089568Z"
    }
   },
   "outputs": [],
   "source": [
    "z = (comps['tot_appr_val'] - mean) / std"
   ]
  },
  {
   "cell_type": "code",
   "execution_count": null,
   "metadata": {
    "ExecuteTime": {
     "end_time": "2020-10-23T20:53:15.606953Z",
     "start_time": "2020-10-23T20:53:15.569103Z"
    }
   },
   "outputs": [],
   "source": [
    "my_value = 263704.0"
   ]
  },
  {
   "cell_type": "code",
   "execution_count": null,
   "metadata": {
    "ExecuteTime": {
     "end_time": "2020-10-23T20:53:16.080200Z",
     "start_time": "2020-10-23T20:53:16.035963Z"
    }
   },
   "outputs": [],
   "source": [
    "z_my_value = (my_value - mean) / std"
   ]
  },
  {
   "cell_type": "code",
   "execution_count": null,
   "metadata": {
    "ExecuteTime": {
     "end_time": "2020-10-23T20:53:16.817863Z",
     "start_time": "2020-10-23T20:53:16.509605Z"
    }
   },
   "outputs": [],
   "source": [
    "plt.figure(figsize=(8, 8))\n",
    "z.hist(bins=30)"
   ]
  },
  {
   "cell_type": "code",
   "execution_count": null,
   "metadata": {},
   "outputs": [],
   "source": []
  },
  {
   "cell_type": "code",
   "execution_count": null,
   "metadata": {},
   "outputs": [],
   "source": []
  },
  {
   "cell_type": "code",
   "execution_count": null,
   "metadata": {
    "ExecuteTime": {
     "end_time": "2020-10-23T20:53:29.751469Z",
     "start_time": "2020-10-23T20:53:29.728724Z"
    }
   },
   "outputs": [],
   "source": [
    "# cond1 = klein['prior_tot_appr_val'] == 267810\n",
    "# cond2 = klein['prior_land_val'] == 36313\n",
    "cond3 = klein['im_sq_ft'].between(2697 - 100, 2697 + 100)\n",
    "cond4 = klein['fixtures_total'] == 15\n",
    "cond5 = klein['room_full_bath'] == 3\n",
    "cond6 = klein['dscr'] == 3\n",
    "\n",
    "neighbours = klein.loc[cond3 & cond4 & cond5 & cond6, :]"
   ]
  },
  {
   "cell_type": "code",
   "execution_count": null,
   "metadata": {
    "ExecuteTime": {
     "end_time": "2020-10-23T20:53:31.205494Z",
     "start_time": "2020-10-23T20:53:30.890069Z"
    }
   },
   "outputs": [],
   "source": [
    "plt.figure(figsize=(8, 8))\n",
    "neighbours['prior_tot_appr_val'].hist(bins=30)"
   ]
  },
  {
   "cell_type": "code",
   "execution_count": null,
   "metadata": {
    "ExecuteTime": {
     "end_time": "2020-10-23T20:53:34.506274Z",
     "start_time": "2020-10-23T20:53:34.479907Z"
    }
   },
   "outputs": [],
   "source": [
    "neighbours.shape"
   ]
  },
  {
   "cell_type": "code",
   "execution_count": null,
   "metadata": {
    "ExecuteTime": {
     "end_time": "2020-10-23T20:53:34.855971Z",
     "start_time": "2020-10-23T20:53:34.831718Z"
    }
   },
   "outputs": [],
   "source": [
    "neighbours.shape"
   ]
  },
  {
   "cell_type": "code",
   "execution_count": null,
   "metadata": {},
   "outputs": [],
   "source": []
  },
  {
   "cell_type": "code",
   "execution_count": null,
   "metadata": {},
   "outputs": [],
   "source": []
  },
  {
   "cell_type": "code",
   "execution_count": null,
   "metadata": {
    "ExecuteTime": {
     "end_time": "2020-10-23T20:54:04.733168Z",
     "start_time": "2020-10-23T20:54:04.711622Z"
    }
   },
   "outputs": [],
   "source": [
    "neighbours['last_year_appr_diff'] = neighbours['tot_appr_val'] - neighbours['prior_tot_appr_val']"
   ]
  },
  {
   "cell_type": "code",
   "execution_count": null,
   "metadata": {
    "ExecuteTime": {
     "end_time": "2020-10-23T20:54:09.975902Z",
     "start_time": "2020-10-23T20:54:09.937669Z"
    }
   },
   "outputs": [],
   "source": [
    "neighbours"
   ]
  },
  {
   "cell_type": "code",
   "execution_count": null,
   "metadata": {
    "ExecuteTime": {
     "end_time": "2020-10-23T21:29:00.628206Z",
     "start_time": "2020-10-23T21:29:00.243372Z"
    }
   },
   "outputs": [],
   "source": [
    "plt.figure(figsize=(8, 8))\n",
    "neighbours['last_year_appr_diff'][neighbours['last_year_appr_diff'] < 50000].hist(bins=50)"
   ]
  },
  {
   "cell_type": "code",
   "execution_count": null,
   "metadata": {
    "ExecuteTime": {
     "end_time": "2020-10-23T20:56:07.263539Z",
     "start_time": "2020-10-23T20:56:07.030929Z"
    }
   },
   "outputs": [],
   "source": [
    "neighbours['prior_land_val'].hist(bins=30)"
   ]
  },
  {
   "cell_type": "code",
   "execution_count": null,
   "metadata": {},
   "outputs": [],
   "source": []
  },
  {
   "cell_type": "code",
   "execution_count": null,
   "metadata": {},
   "outputs": [],
   "source": []
  },
  {
   "cell_type": "code",
   "execution_count": null,
   "metadata": {},
   "outputs": [],
   "source": []
  },
  {
   "cell_type": "code",
   "execution_count": null,
   "metadata": {},
   "outputs": [],
   "source": []
  },
  {
   "cell_type": "code",
   "execution_count": null,
   "metadata": {},
   "outputs": [],
   "source": []
  },
  {
   "cell_type": "code",
   "execution_count": null,
   "metadata": {},
   "outputs": [],
   "source": []
  },
  {
   "cell_type": "code",
   "execution_count": null,
   "metadata": {},
   "outputs": [],
   "source": []
  }
 ],
 "metadata": {
  "kernelspec": {
   "display_name": "hcad_pred",
   "language": "python",
   "name": "hcad_pred"
  },
  "language_info": {
   "codemirror_mode": {
    "name": "ipython",
    "version": 3
   },
   "file_extension": ".py",
   "mimetype": "text/x-python",
   "name": "python",
   "nbconvert_exporter": "python",
   "pygments_lexer": "ipython3",
   "version": "3.7.8"
  },
  "toc": {
   "base_numbering": 1,
   "nav_menu": {},
   "number_sections": true,
   "sideBar": true,
   "skip_h1_title": false,
   "title_cell": "Table of Contents",
   "title_sidebar": "Contents",
   "toc_cell": false,
   "toc_position": {},
   "toc_section_display": true,
   "toc_window_display": false
  }
 },
 "nbformat": 4,
 "nbformat_minor": 4
}
