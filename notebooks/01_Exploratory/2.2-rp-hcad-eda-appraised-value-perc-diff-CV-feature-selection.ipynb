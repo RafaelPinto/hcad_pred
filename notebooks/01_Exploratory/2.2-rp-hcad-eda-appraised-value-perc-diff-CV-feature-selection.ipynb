{
 "cells": [
  {
   "cell_type": "markdown",
   "metadata": {},
   "source": [
    "# Load previously cleaned and merged properties (comps)\n",
    "\n",
    "The file being imported below was constructed in the last seven exploratory notebooks (1.0 to 1.6). These data have been cleaned and merged so we can start the exploratory data analysis."
   ]
  },
  {
   "cell_type": "code",
   "execution_count": 1,
   "metadata": {
    "ExecuteTime": {
     "end_time": "2020-10-29T21:06:22.546658Z",
     "start_time": "2020-10-29T21:06:22.347194Z"
    }
   },
   "outputs": [],
   "source": [
    "%load_ext autoreload\n",
    "%autoreload 2"
   ]
  },
  {
   "cell_type": "code",
   "execution_count": 2,
   "metadata": {
    "ExecuteTime": {
     "end_time": "2020-10-29T21:06:26.094581Z",
     "start_time": "2020-10-29T21:06:23.071829Z"
    }
   },
   "outputs": [],
   "source": [
    "from pathlib import Path\n",
    "import pickle\n",
    "\n",
    "import numpy as np\n",
    "import pandas as pd\n",
    "\n",
    "import matplotlib.pyplot as plt\n",
    "import seaborn as sns\n",
    "\n",
    "from src.definitions import ROOT_DIR\n",
    "from src.data.utils import Table, save_pickle"
   ]
  },
  {
   "cell_type": "code",
   "execution_count": 3,
   "metadata": {
    "ExecuteTime": {
     "end_time": "2020-10-29T21:06:26.291111Z",
     "start_time": "2020-10-29T21:06:26.097574Z"
    }
   },
   "outputs": [],
   "source": [
    "plt.style.use('seaborn-poster')"
   ]
  },
  {
   "cell_type": "code",
   "execution_count": 4,
   "metadata": {
    "ExecuteTime": {
     "end_time": "2020-10-29T21:06:28.591382Z",
     "start_time": "2020-10-29T21:06:26.293050Z"
    }
   },
   "outputs": [],
   "source": [
    "comps_fn = ROOT_DIR / 'data/interim/2016/comps.pickle'\n",
    "assert comps_fn.exists()\n",
    "\n",
    "with open(comps_fn, 'rb') as f:\n",
    "    comps = pickle.load(f)"
   ]
  },
  {
   "cell_type": "code",
   "execution_count": 5,
   "metadata": {
    "ExecuteTime": {
     "end_time": "2020-10-29T21:06:28.803814Z",
     "start_time": "2020-10-29T21:06:28.597368Z"
    }
   },
   "outputs": [
    {
     "data": {
      "text/plain": [
       "(957687, 83)"
      ]
     },
     "execution_count": 5,
     "metadata": {},
     "output_type": "execute_result"
    }
   ],
   "source": [
    "comps.shape"
   ]
  },
  {
   "cell_type": "code",
   "execution_count": 6,
   "metadata": {
    "ExecuteTime": {
     "end_time": "2020-10-29T21:06:30.469361Z",
     "start_time": "2020-10-29T21:06:28.805809Z"
    }
   },
   "outputs": [
    {
     "name": "stdout",
     "output_type": "stream",
     "text": [
      "<class 'pandas.core.frame.DataFrame'>\n",
      "Int64Index: 957687 entries, 0 to 957686\n",
      "Data columns (total 83 columns):\n",
      " #   Column                                          Non-Null Count   Dtype         \n",
      "---  ------                                          --------------   -----         \n",
      " 0   acct                                            957687 non-null  uint64        \n",
      " 1   dscr                                            957687 non-null  category      \n",
      " 2   date_erected                                    957687 non-null  uint16        \n",
      " 3   yr_remodel                                      86406 non-null   float64       \n",
      " 4   im_sq_ft                                        957684 non-null  float64       \n",
      " 5   act_ar                                          957687 non-null  uint16        \n",
      " 6   heat_ar                                         957683 non-null  float64       \n",
      " 7   gross_ar                                        957687 non-null  uint16        \n",
      " 8   eff_ar                                          957686 non-null  float64       \n",
      " 9   perimeter                                       956518 non-null  float64       \n",
      " 10  fireplace_masonry_firebrick                     957687 non-null  float32       \n",
      " 11  fireplace_metal_prefab                          957687 non-null  float32       \n",
      " 12  fixtures_addl                                   957687 non-null  float32       \n",
      " 13  fixtures_total                                  957687 non-null  float32       \n",
      " 14  room_bedroom                                    957687 non-null  float32       \n",
      " 15  room_full_bath                                  957687 non-null  float32       \n",
      " 16  room_half_bath                                  957687 non-null  float32       \n",
      " 17  room_rec                                        957687 non-null  float32       \n",
      " 18  room_total                                      957687 non-null  float32       \n",
      " 19  story_height_index                              957687 non-null  float32       \n",
      " 20  zip_code                                        957641 non-null  float64       \n",
      " 21  school_dist                                     957632 non-null  object        \n",
      " 22  neighborhood_code                               957686 non-null  object        \n",
      " 23  market_area_1_dscr                              957687 non-null  object        \n",
      " 24  market_area_2_dscr                              957687 non-null  object        \n",
      " 25  center_code                                     957309 non-null  object        \n",
      " 26  bld_ar                                          957684 non-null  float64       \n",
      " 27  land_ar                                         956653 non-null  float64       \n",
      " 28  acreage                                         957687 non-null  float64       \n",
      " 29  land_val                                        957681 non-null  float64       \n",
      " 30  tot_appr_val                                    957681 non-null  float64       \n",
      " 31  prior_land_val                                  956019 non-null  float64       \n",
      " 32  prior_tot_appr_val                              956019 non-null  float64       \n",
      " 33  new_own_dt                                      957677 non-null  datetime64[ns]\n",
      " 34  lgl_1                                           957687 non-null  object        \n",
      " 35  lgl_2                                           957681 non-null  object        \n",
      " 36  basic_outdoor_kitchen_uts                       429696 non-null  float64       \n",
      " 37  brick_or_stone_detached_garage_uts              429696 non-null  float64       \n",
      " 38  canopy_residential_uts                          429696 non-null  float64       \n",
      " 39  carport_residential_uts                         429696 non-null  float64       \n",
      " 40  cracked_slab_uts                                429696 non-null  float64       \n",
      " 41  custom_outdoor_kitchen_uts                      429696 non-null  float64       \n",
      " 42  foundation_repaired_uts                         429696 non-null  float64       \n",
      " 43  frame_detached_garage_uts                       429696 non-null  float64       \n",
      " 44  frame_detached_garage_w_living_area_abov_uts    429696 non-null  float64       \n",
      " 45  frame_utility_shed_uts                          429696 non-null  float64       \n",
      " 46  gunite_pool_uts                                 429696 non-null  float64       \n",
      " 47  metal_utility_shed_uts                          429696 non-null  float64       \n",
      " 48  pool_spa_with_heater_uts                        429696 non-null  float64       \n",
      " 49  reinforced_concrete_pool_uts                    429696 non-null  float64       \n",
      " 50  residential_other_gross_value_uts               429696 non-null  float64       \n",
      " 51  basic_outdoor_kitchen_grade                     2303 non-null    float64       \n",
      " 52  brick_or_stone_detached_garage_grade            13743 non-null   float64       \n",
      " 53  canopy_residential_grade                        80708 non-null   float64       \n",
      " 54  carport_residential_grade                       73047 non-null   float64       \n",
      " 55  cracked_slab_grade                              16121 non-null   float64       \n",
      " 56  custom_outdoor_kitchen_grade                    4294 non-null    float64       \n",
      " 57  foundation_repaired_grade                       17653 non-null   float64       \n",
      " 58  frame_detached_garage_grade                     180706 non-null  float64       \n",
      " 59  frame_detached_garage_w_living_area_abov_grade  7047 non-null    float64       \n",
      " 60  frame_utility_shed_grade                        87817 non-null   float64       \n",
      " 61  gunite_pool_grade                               87950 non-null   float64       \n",
      " 62  metal_utility_shed_grade                        18365 non-null   float64       \n",
      " 63  pool_spa_with_heater_grade                      37212 non-null   float64       \n",
      " 64  reinforced_concrete_pool_grade                  3729 non-null    float64       \n",
      " 65  residential_other_gross_value_grade             14549 non-null   float64       \n",
      " 66  base_area_pri                                   957684 non-null  float64       \n",
      " 67  base_area_upr                                   957684 non-null  float64       \n",
      " 68  frame_garage_pri                                957684 non-null  float64       \n",
      " 69  mas_brk_garage_pri                              957684 non-null  float64       \n",
      " 70  mas_conc_patio_pri                              957684 non-null  float64       \n",
      " 71  one_story_frame_pri                             957684 non-null  float64       \n",
      " 72  one_story_frame_upr                             957684 non-null  float64       \n",
      " 73  one_story_mas_pri                               957684 non-null  float64       \n",
      " 74  open_frame_porch_pri                            957684 non-null  float64       \n",
      " 75  open_mas_porch_pri                              957684 non-null  float64       \n",
      " 76  cond_desir_util                                 957687 non-null  category      \n",
      " 77  cost_and_design                                 152262 non-null  category      \n",
      " 78  exterior_wall                                   957686 non-null  category      \n",
      " 79  foundation_type                                 957687 non-null  category      \n",
      " 80  grade_adjustment                                957687 non-null  category      \n",
      " 81  heating_ac                                      957686 non-null  category      \n",
      " 82  physical_condition                              957687 non-null  category      \n",
      "dtypes: category(8), datetime64[ns](1), float32(10), float64(53), object(7), uint16(3), uint64(1)\n",
      "memory usage: 509.6+ MB\n"
     ]
    }
   ],
   "source": [
    "comps.info()"
   ]
  },
  {
   "cell_type": "code",
   "execution_count": 7,
   "metadata": {
    "ExecuteTime": {
     "end_time": "2020-10-29T21:06:30.761583Z",
     "start_time": "2020-10-29T21:06:30.472352Z"
    }
   },
   "outputs": [
    {
     "data": {
      "text/html": [
       "<div>\n",
       "<style scoped>\n",
       "    .dataframe tbody tr th:only-of-type {\n",
       "        vertical-align: middle;\n",
       "    }\n",
       "\n",
       "    .dataframe tbody tr th {\n",
       "        vertical-align: top;\n",
       "    }\n",
       "\n",
       "    .dataframe thead th {\n",
       "        text-align: right;\n",
       "    }\n",
       "</style>\n",
       "<table border=\"1\" class=\"dataframe\">\n",
       "  <thead>\n",
       "    <tr style=\"text-align: right;\">\n",
       "      <th></th>\n",
       "      <th>acct</th>\n",
       "      <th>dscr</th>\n",
       "      <th>date_erected</th>\n",
       "      <th>yr_remodel</th>\n",
       "      <th>im_sq_ft</th>\n",
       "      <th>act_ar</th>\n",
       "      <th>heat_ar</th>\n",
       "      <th>gross_ar</th>\n",
       "      <th>eff_ar</th>\n",
       "      <th>perimeter</th>\n",
       "      <th>...</th>\n",
       "      <th>one_story_mas_pri</th>\n",
       "      <th>open_frame_porch_pri</th>\n",
       "      <th>open_mas_porch_pri</th>\n",
       "      <th>cond_desir_util</th>\n",
       "      <th>cost_and_design</th>\n",
       "      <th>exterior_wall</th>\n",
       "      <th>foundation_type</th>\n",
       "      <th>grade_adjustment</th>\n",
       "      <th>heating_ac</th>\n",
       "      <th>physical_condition</th>\n",
       "    </tr>\n",
       "  </thead>\n",
       "  <tbody>\n",
       "    <tr>\n",
       "      <th>672392</th>\n",
       "      <td>1135250000014</td>\n",
       "      <td>Excellent</td>\n",
       "      <td>1982</td>\n",
       "      <td>NaN</td>\n",
       "      <td>3737.0</td>\n",
       "      <td>4745</td>\n",
       "      <td>3737.0</td>\n",
       "      <td>4745</td>\n",
       "      <td>3864.0</td>\n",
       "      <td>650.0</td>\n",
       "      <td>...</td>\n",
       "      <td>624.0</td>\n",
       "      <td>84.0</td>\n",
       "      <td>0.0</td>\n",
       "      <td>Very Poor</td>\n",
       "      <td>NaN</td>\n",
       "      <td>Brick / Masonry</td>\n",
       "      <td>Slab</td>\n",
       "      <td>A+</td>\n",
       "      <td>Central Heat/AC</td>\n",
       "      <td>Very Poor</td>\n",
       "    </tr>\n",
       "    <tr>\n",
       "      <th>132947</th>\n",
       "      <td>1326040010010</td>\n",
       "      <td>Good</td>\n",
       "      <td>2012</td>\n",
       "      <td>NaN</td>\n",
       "      <td>2413.0</td>\n",
       "      <td>3483</td>\n",
       "      <td>2413.0</td>\n",
       "      <td>3483</td>\n",
       "      <td>2800.0</td>\n",
       "      <td>250.0</td>\n",
       "      <td>...</td>\n",
       "      <td>0.0</td>\n",
       "      <td>290.0</td>\n",
       "      <td>115.0</td>\n",
       "      <td>Average</td>\n",
       "      <td>NaN</td>\n",
       "      <td>Brick / Veneer</td>\n",
       "      <td>Slab</td>\n",
       "      <td>B-</td>\n",
       "      <td>Central Heat/AC</td>\n",
       "      <td>Average</td>\n",
       "    </tr>\n",
       "    <tr>\n",
       "      <th>526793</th>\n",
       "      <td>1025720000090</td>\n",
       "      <td>Average</td>\n",
       "      <td>1972</td>\n",
       "      <td>NaN</td>\n",
       "      <td>2067.0</td>\n",
       "      <td>2507</td>\n",
       "      <td>2067.0</td>\n",
       "      <td>2507</td>\n",
       "      <td>2025.0</td>\n",
       "      <td>184.0</td>\n",
       "      <td>...</td>\n",
       "      <td>0.0</td>\n",
       "      <td>0.0</td>\n",
       "      <td>0.0</td>\n",
       "      <td>Average</td>\n",
       "      <td>NaN</td>\n",
       "      <td>Brick / Masonry</td>\n",
       "      <td>Slab</td>\n",
       "      <td>C</td>\n",
       "      <td>Central Heat/AC</td>\n",
       "      <td>Average</td>\n",
       "    </tr>\n",
       "    <tr>\n",
       "      <th>881784</th>\n",
       "      <td>1203940010004</td>\n",
       "      <td>Good</td>\n",
       "      <td>2002</td>\n",
       "      <td>NaN</td>\n",
       "      <td>1839.0</td>\n",
       "      <td>2291</td>\n",
       "      <td>1839.0</td>\n",
       "      <td>2291</td>\n",
       "      <td>2010.0</td>\n",
       "      <td>250.0</td>\n",
       "      <td>...</td>\n",
       "      <td>0.0</td>\n",
       "      <td>0.0</td>\n",
       "      <td>32.0</td>\n",
       "      <td>Average</td>\n",
       "      <td>NaN</td>\n",
       "      <td>Brick / Veneer</td>\n",
       "      <td>Slab</td>\n",
       "      <td>B-</td>\n",
       "      <td>Central Heat/AC</td>\n",
       "      <td>Average</td>\n",
       "    </tr>\n",
       "    <tr>\n",
       "      <th>242641</th>\n",
       "      <td>600330000004</td>\n",
       "      <td>Good</td>\n",
       "      <td>1938</td>\n",
       "      <td>1986.0</td>\n",
       "      <td>3549.0</td>\n",
       "      <td>4638</td>\n",
       "      <td>3549.0</td>\n",
       "      <td>4638</td>\n",
       "      <td>3794.0</td>\n",
       "      <td>458.0</td>\n",
       "      <td>...</td>\n",
       "      <td>0.0</td>\n",
       "      <td>221.0</td>\n",
       "      <td>0.0</td>\n",
       "      <td>Good</td>\n",
       "      <td>Total</td>\n",
       "      <td>Brick / Veneer</td>\n",
       "      <td>Crawl Space</td>\n",
       "      <td>B-</td>\n",
       "      <td>Central Heat/AC</td>\n",
       "      <td>Good</td>\n",
       "    </tr>\n",
       "    <tr>\n",
       "      <th>482443</th>\n",
       "      <td>980870000011</td>\n",
       "      <td>Average</td>\n",
       "      <td>1966</td>\n",
       "      <td>NaN</td>\n",
       "      <td>1290.0</td>\n",
       "      <td>1720</td>\n",
       "      <td>1290.0</td>\n",
       "      <td>1720</td>\n",
       "      <td>1432.0</td>\n",
       "      <td>146.0</td>\n",
       "      <td>...</td>\n",
       "      <td>0.0</td>\n",
       "      <td>430.0</td>\n",
       "      <td>0.0</td>\n",
       "      <td>Average</td>\n",
       "      <td>NaN</td>\n",
       "      <td>Brick / Veneer</td>\n",
       "      <td>Slab</td>\n",
       "      <td>C</td>\n",
       "      <td>Central Heat/AC</td>\n",
       "      <td>Average</td>\n",
       "    </tr>\n",
       "    <tr>\n",
       "      <th>541565</th>\n",
       "      <td>1045080000026</td>\n",
       "      <td>Average</td>\n",
       "      <td>1968</td>\n",
       "      <td>NaN</td>\n",
       "      <td>1753.0</td>\n",
       "      <td>2234</td>\n",
       "      <td>1753.0</td>\n",
       "      <td>2234</td>\n",
       "      <td>1926.0</td>\n",
       "      <td>206.0</td>\n",
       "      <td>...</td>\n",
       "      <td>0.0</td>\n",
       "      <td>208.0</td>\n",
       "      <td>0.0</td>\n",
       "      <td>Average</td>\n",
       "      <td>NaN</td>\n",
       "      <td>Brick / Veneer</td>\n",
       "      <td>Slab</td>\n",
       "      <td>C</td>\n",
       "      <td>Central Heat/AC</td>\n",
       "      <td>Average</td>\n",
       "    </tr>\n",
       "    <tr>\n",
       "      <th>402866</th>\n",
       "      <td>850870000083</td>\n",
       "      <td>Average</td>\n",
       "      <td>1956</td>\n",
       "      <td>NaN</td>\n",
       "      <td>1394.0</td>\n",
       "      <td>2470</td>\n",
       "      <td>1394.0</td>\n",
       "      <td>2470</td>\n",
       "      <td>1638.0</td>\n",
       "      <td>230.0</td>\n",
       "      <td>...</td>\n",
       "      <td>0.0</td>\n",
       "      <td>36.0</td>\n",
       "      <td>0.0</td>\n",
       "      <td>Fair</td>\n",
       "      <td>NaN</td>\n",
       "      <td>Brick / Veneer</td>\n",
       "      <td>Slab</td>\n",
       "      <td>C</td>\n",
       "      <td>Central Heat/AC</td>\n",
       "      <td>Fair</td>\n",
       "    </tr>\n",
       "    <tr>\n",
       "      <th>350710</th>\n",
       "      <td>790990010026</td>\n",
       "      <td>Average</td>\n",
       "      <td>1956</td>\n",
       "      <td>1970.0</td>\n",
       "      <td>1698.0</td>\n",
       "      <td>1782</td>\n",
       "      <td>1698.0</td>\n",
       "      <td>1782</td>\n",
       "      <td>1711.0</td>\n",
       "      <td>178.0</td>\n",
       "      <td>...</td>\n",
       "      <td>0.0</td>\n",
       "      <td>0.0</td>\n",
       "      <td>0.0</td>\n",
       "      <td>Average</td>\n",
       "      <td>NaN</td>\n",
       "      <td>Frame / Concrete Blk</td>\n",
       "      <td>Slab</td>\n",
       "      <td>C-</td>\n",
       "      <td>None</td>\n",
       "      <td>Average</td>\n",
       "    </tr>\n",
       "    <tr>\n",
       "      <th>57347</th>\n",
       "      <td>1272870040020</td>\n",
       "      <td>Average</td>\n",
       "      <td>2005</td>\n",
       "      <td>NaN</td>\n",
       "      <td>1872.0</td>\n",
       "      <td>2346</td>\n",
       "      <td>1872.0</td>\n",
       "      <td>2346</td>\n",
       "      <td>1944.0</td>\n",
       "      <td>290.0</td>\n",
       "      <td>...</td>\n",
       "      <td>0.0</td>\n",
       "      <td>0.0</td>\n",
       "      <td>54.0</td>\n",
       "      <td>Average</td>\n",
       "      <td>NaN</td>\n",
       "      <td>Frame / Concrete Blk</td>\n",
       "      <td>Slab</td>\n",
       "      <td>C</td>\n",
       "      <td>Central Heat/AC</td>\n",
       "      <td>Average</td>\n",
       "    </tr>\n",
       "  </tbody>\n",
       "</table>\n",
       "<p>10 rows × 83 columns</p>\n",
       "</div>"
      ],
      "text/plain": [
       "                 acct       dscr  date_erected  yr_remodel  im_sq_ft  act_ar  \\\n",
       "672392  1135250000014  Excellent          1982         NaN    3737.0    4745   \n",
       "132947  1326040010010       Good          2012         NaN    2413.0    3483   \n",
       "526793  1025720000090    Average          1972         NaN    2067.0    2507   \n",
       "881784  1203940010004       Good          2002         NaN    1839.0    2291   \n",
       "242641   600330000004       Good          1938      1986.0    3549.0    4638   \n",
       "482443   980870000011    Average          1966         NaN    1290.0    1720   \n",
       "541565  1045080000026    Average          1968         NaN    1753.0    2234   \n",
       "402866   850870000083    Average          1956         NaN    1394.0    2470   \n",
       "350710   790990010026    Average          1956      1970.0    1698.0    1782   \n",
       "57347   1272870040020    Average          2005         NaN    1872.0    2346   \n",
       "\n",
       "        heat_ar  gross_ar  eff_ar  perimeter  ...  one_story_mas_pri  \\\n",
       "672392   3737.0      4745  3864.0      650.0  ...              624.0   \n",
       "132947   2413.0      3483  2800.0      250.0  ...                0.0   \n",
       "526793   2067.0      2507  2025.0      184.0  ...                0.0   \n",
       "881784   1839.0      2291  2010.0      250.0  ...                0.0   \n",
       "242641   3549.0      4638  3794.0      458.0  ...                0.0   \n",
       "482443   1290.0      1720  1432.0      146.0  ...                0.0   \n",
       "541565   1753.0      2234  1926.0      206.0  ...                0.0   \n",
       "402866   1394.0      2470  1638.0      230.0  ...                0.0   \n",
       "350710   1698.0      1782  1711.0      178.0  ...                0.0   \n",
       "57347    1872.0      2346  1944.0      290.0  ...                0.0   \n",
       "\n",
       "        open_frame_porch_pri  open_mas_porch_pri  cond_desir_util  \\\n",
       "672392                  84.0                 0.0        Very Poor   \n",
       "132947                 290.0               115.0          Average   \n",
       "526793                   0.0                 0.0          Average   \n",
       "881784                   0.0                32.0          Average   \n",
       "242641                 221.0                 0.0             Good   \n",
       "482443                 430.0                 0.0          Average   \n",
       "541565                 208.0                 0.0          Average   \n",
       "402866                  36.0                 0.0             Fair   \n",
       "350710                   0.0                 0.0          Average   \n",
       "57347                    0.0                54.0          Average   \n",
       "\n",
       "        cost_and_design         exterior_wall  foundation_type  \\\n",
       "672392              NaN       Brick / Masonry             Slab   \n",
       "132947              NaN        Brick / Veneer             Slab   \n",
       "526793              NaN       Brick / Masonry             Slab   \n",
       "881784              NaN        Brick / Veneer             Slab   \n",
       "242641            Total        Brick / Veneer      Crawl Space   \n",
       "482443              NaN        Brick / Veneer             Slab   \n",
       "541565              NaN        Brick / Veneer             Slab   \n",
       "402866              NaN        Brick / Veneer             Slab   \n",
       "350710              NaN  Frame / Concrete Blk             Slab   \n",
       "57347               NaN  Frame / Concrete Blk             Slab   \n",
       "\n",
       "        grade_adjustment       heating_ac  physical_condition  \n",
       "672392                A+  Central Heat/AC           Very Poor  \n",
       "132947                B-  Central Heat/AC             Average  \n",
       "526793                 C  Central Heat/AC             Average  \n",
       "881784                B-  Central Heat/AC             Average  \n",
       "242641                B-  Central Heat/AC                Good  \n",
       "482443                 C  Central Heat/AC             Average  \n",
       "541565                 C  Central Heat/AC             Average  \n",
       "402866                 C  Central Heat/AC                Fair  \n",
       "350710                C-             None             Average  \n",
       "57347                  C  Central Heat/AC             Average  \n",
       "\n",
       "[10 rows x 83 columns]"
      ]
     },
     "execution_count": 7,
     "metadata": {},
     "output_type": "execute_result"
    }
   ],
   "source": [
    "comps.sample(10)"
   ]
  },
  {
   "cell_type": "markdown",
   "metadata": {},
   "source": [
    "## Drop account numbers\n",
    "The account numbers are kept as a reference to the raw data, but should not be used in the EDA. Since they are unique, let's use them as index in the comps dataframe."
   ]
  },
  {
   "cell_type": "code",
   "execution_count": 8,
   "metadata": {
    "ExecuteTime": {
     "end_time": "2020-10-29T21:06:31.122612Z",
     "start_time": "2020-10-29T21:06:30.763572Z"
    }
   },
   "outputs": [
    {
     "data": {
      "text/plain": [
       "True"
      ]
     },
     "execution_count": 8,
     "metadata": {},
     "output_type": "execute_result"
    }
   ],
   "source": [
    "comps['acct'].is_unique"
   ]
  },
  {
   "cell_type": "code",
   "execution_count": 9,
   "metadata": {
    "ExecuteTime": {
     "end_time": "2020-10-29T21:06:31.318089Z",
     "start_time": "2020-10-29T21:06:31.126601Z"
    }
   },
   "outputs": [],
   "source": [
    "comps.set_index('acct', inplace=True)"
   ]
  },
  {
   "cell_type": "code",
   "execution_count": 10,
   "metadata": {
    "ExecuteTime": {
     "end_time": "2020-10-29T21:06:31.596345Z",
     "start_time": "2020-10-29T21:06:31.322080Z"
    }
   },
   "outputs": [
    {
     "data": {
      "text/html": [
       "<div>\n",
       "<style scoped>\n",
       "    .dataframe tbody tr th:only-of-type {\n",
       "        vertical-align: middle;\n",
       "    }\n",
       "\n",
       "    .dataframe tbody tr th {\n",
       "        vertical-align: top;\n",
       "    }\n",
       "\n",
       "    .dataframe thead th {\n",
       "        text-align: right;\n",
       "    }\n",
       "</style>\n",
       "<table border=\"1\" class=\"dataframe\">\n",
       "  <thead>\n",
       "    <tr style=\"text-align: right;\">\n",
       "      <th></th>\n",
       "      <th>dscr</th>\n",
       "      <th>date_erected</th>\n",
       "      <th>yr_remodel</th>\n",
       "      <th>im_sq_ft</th>\n",
       "      <th>act_ar</th>\n",
       "      <th>heat_ar</th>\n",
       "      <th>gross_ar</th>\n",
       "      <th>eff_ar</th>\n",
       "      <th>perimeter</th>\n",
       "      <th>fireplace_masonry_firebrick</th>\n",
       "      <th>...</th>\n",
       "      <th>one_story_mas_pri</th>\n",
       "      <th>open_frame_porch_pri</th>\n",
       "      <th>open_mas_porch_pri</th>\n",
       "      <th>cond_desir_util</th>\n",
       "      <th>cost_and_design</th>\n",
       "      <th>exterior_wall</th>\n",
       "      <th>foundation_type</th>\n",
       "      <th>grade_adjustment</th>\n",
       "      <th>heating_ac</th>\n",
       "      <th>physical_condition</th>\n",
       "    </tr>\n",
       "    <tr>\n",
       "      <th>acct</th>\n",
       "      <th></th>\n",
       "      <th></th>\n",
       "      <th></th>\n",
       "      <th></th>\n",
       "      <th></th>\n",
       "      <th></th>\n",
       "      <th></th>\n",
       "      <th></th>\n",
       "      <th></th>\n",
       "      <th></th>\n",
       "      <th></th>\n",
       "      <th></th>\n",
       "      <th></th>\n",
       "      <th></th>\n",
       "      <th></th>\n",
       "      <th></th>\n",
       "      <th></th>\n",
       "      <th></th>\n",
       "      <th></th>\n",
       "      <th></th>\n",
       "      <th></th>\n",
       "    </tr>\n",
       "  </thead>\n",
       "  <tbody>\n",
       "    <tr>\n",
       "      <th>730990030048</th>\n",
       "      <td>Average</td>\n",
       "      <td>1947</td>\n",
       "      <td>1997.0</td>\n",
       "      <td>1416.0</td>\n",
       "      <td>1634</td>\n",
       "      <td>1416.0</td>\n",
       "      <td>1634</td>\n",
       "      <td>1497.0</td>\n",
       "      <td>196.0</td>\n",
       "      <td>0.0</td>\n",
       "      <td>...</td>\n",
       "      <td>0.0</td>\n",
       "      <td>28.0</td>\n",
       "      <td>0.0</td>\n",
       "      <td>Average</td>\n",
       "      <td>Extensive</td>\n",
       "      <td>Aluminum / Vinyl</td>\n",
       "      <td>Slab</td>\n",
       "      <td>C</td>\n",
       "      <td>Central Heat/AC</td>\n",
       "      <td>Average</td>\n",
       "    </tr>\n",
       "    <tr>\n",
       "      <th>953010000003</th>\n",
       "      <td>Good</td>\n",
       "      <td>1962</td>\n",
       "      <td>NaN</td>\n",
       "      <td>3090.0</td>\n",
       "      <td>3777</td>\n",
       "      <td>3090.0</td>\n",
       "      <td>3777</td>\n",
       "      <td>3293.0</td>\n",
       "      <td>288.0</td>\n",
       "      <td>0.0</td>\n",
       "      <td>...</td>\n",
       "      <td>0.0</td>\n",
       "      <td>0.0</td>\n",
       "      <td>287.0</td>\n",
       "      <td>Fair</td>\n",
       "      <td>NaN</td>\n",
       "      <td>Brick / Veneer</td>\n",
       "      <td>Slab</td>\n",
       "      <td>B</td>\n",
       "      <td>Central Heat/AC</td>\n",
       "      <td>Fair</td>\n",
       "    </tr>\n",
       "    <tr>\n",
       "      <th>1051220000041</th>\n",
       "      <td>Average</td>\n",
       "      <td>1976</td>\n",
       "      <td>NaN</td>\n",
       "      <td>1116.0</td>\n",
       "      <td>1552</td>\n",
       "      <td>1116.0</td>\n",
       "      <td>1552</td>\n",
       "      <td>1282.0</td>\n",
       "      <td>174.0</td>\n",
       "      <td>0.0</td>\n",
       "      <td>...</td>\n",
       "      <td>0.0</td>\n",
       "      <td>0.0</td>\n",
       "      <td>0.0</td>\n",
       "      <td>Good</td>\n",
       "      <td>NaN</td>\n",
       "      <td>Stucco</td>\n",
       "      <td>Slab</td>\n",
       "      <td>C</td>\n",
       "      <td>Central Heat/AC</td>\n",
       "      <td>Good</td>\n",
       "    </tr>\n",
       "    <tr>\n",
       "      <th>1011280000022</th>\n",
       "      <td>Average</td>\n",
       "      <td>1969</td>\n",
       "      <td>NaN</td>\n",
       "      <td>2091.0</td>\n",
       "      <td>2378</td>\n",
       "      <td>2091.0</td>\n",
       "      <td>2378</td>\n",
       "      <td>2186.0</td>\n",
       "      <td>242.0</td>\n",
       "      <td>1.0</td>\n",
       "      <td>...</td>\n",
       "      <td>0.0</td>\n",
       "      <td>189.0</td>\n",
       "      <td>0.0</td>\n",
       "      <td>Fair</td>\n",
       "      <td>NaN</td>\n",
       "      <td>Brick / Veneer</td>\n",
       "      <td>Slab</td>\n",
       "      <td>C+</td>\n",
       "      <td>Central Heat/AC</td>\n",
       "      <td>Fair</td>\n",
       "    </tr>\n",
       "    <tr>\n",
       "      <th>1140060000001</th>\n",
       "      <td>Average</td>\n",
       "      <td>1981</td>\n",
       "      <td>NaN</td>\n",
       "      <td>1831.0</td>\n",
       "      <td>2363</td>\n",
       "      <td>1831.0</td>\n",
       "      <td>2363</td>\n",
       "      <td>1963.0</td>\n",
       "      <td>294.0</td>\n",
       "      <td>1.0</td>\n",
       "      <td>...</td>\n",
       "      <td>669.0</td>\n",
       "      <td>48.0</td>\n",
       "      <td>0.0</td>\n",
       "      <td>Average</td>\n",
       "      <td>NaN</td>\n",
       "      <td>Frame / Concrete Blk</td>\n",
       "      <td>Slab</td>\n",
       "      <td>C</td>\n",
       "      <td>Central Heat/AC</td>\n",
       "      <td>Average</td>\n",
       "    </tr>\n",
       "    <tr>\n",
       "      <th>542970000008</th>\n",
       "      <td>Average</td>\n",
       "      <td>1930</td>\n",
       "      <td>NaN</td>\n",
       "      <td>1103.0</td>\n",
       "      <td>1279</td>\n",
       "      <td>1103.0</td>\n",
       "      <td>1279</td>\n",
       "      <td>1155.0</td>\n",
       "      <td>162.0</td>\n",
       "      <td>1.0</td>\n",
       "      <td>...</td>\n",
       "      <td>0.0</td>\n",
       "      <td>0.0</td>\n",
       "      <td>80.0</td>\n",
       "      <td>Poor</td>\n",
       "      <td>NaN</td>\n",
       "      <td>Brick / Veneer</td>\n",
       "      <td>Crawl Space</td>\n",
       "      <td>C</td>\n",
       "      <td>Central Heat/AC</td>\n",
       "      <td>Poor</td>\n",
       "    </tr>\n",
       "    <tr>\n",
       "      <th>871950000012</th>\n",
       "      <td>Good</td>\n",
       "      <td>1973</td>\n",
       "      <td>NaN</td>\n",
       "      <td>4432.0</td>\n",
       "      <td>5566</td>\n",
       "      <td>4432.0</td>\n",
       "      <td>5566</td>\n",
       "      <td>4514.0</td>\n",
       "      <td>412.0</td>\n",
       "      <td>1.0</td>\n",
       "      <td>...</td>\n",
       "      <td>0.0</td>\n",
       "      <td>218.0</td>\n",
       "      <td>168.0</td>\n",
       "      <td>Good</td>\n",
       "      <td>NaN</td>\n",
       "      <td>Brick / Veneer</td>\n",
       "      <td>Slab</td>\n",
       "      <td>B</td>\n",
       "      <td>Central Heat/AC</td>\n",
       "      <td>Average</td>\n",
       "    </tr>\n",
       "    <tr>\n",
       "      <th>771530170354</th>\n",
       "      <td>Average</td>\n",
       "      <td>1999</td>\n",
       "      <td>NaN</td>\n",
       "      <td>1377.0</td>\n",
       "      <td>1890</td>\n",
       "      <td>1377.0</td>\n",
       "      <td>1890</td>\n",
       "      <td>1570.0</td>\n",
       "      <td>196.0</td>\n",
       "      <td>0.0</td>\n",
       "      <td>...</td>\n",
       "      <td>0.0</td>\n",
       "      <td>0.0</td>\n",
       "      <td>50.0</td>\n",
       "      <td>Average</td>\n",
       "      <td>New / Rebuilt</td>\n",
       "      <td>Frame / Concrete Blk</td>\n",
       "      <td>Slab</td>\n",
       "      <td>C-</td>\n",
       "      <td>Central Heat/AC</td>\n",
       "      <td>Average</td>\n",
       "    </tr>\n",
       "    <tr>\n",
       "      <th>861860000013</th>\n",
       "      <td>Average</td>\n",
       "      <td>1959</td>\n",
       "      <td>NaN</td>\n",
       "      <td>1481.0</td>\n",
       "      <td>1686</td>\n",
       "      <td>1481.0</td>\n",
       "      <td>1686</td>\n",
       "      <td>1511.0</td>\n",
       "      <td>192.0</td>\n",
       "      <td>0.0</td>\n",
       "      <td>...</td>\n",
       "      <td>0.0</td>\n",
       "      <td>49.0</td>\n",
       "      <td>0.0</td>\n",
       "      <td>Average</td>\n",
       "      <td>NaN</td>\n",
       "      <td>Brick / Veneer</td>\n",
       "      <td>Slab</td>\n",
       "      <td>C</td>\n",
       "      <td>Central Heat/AC</td>\n",
       "      <td>Average</td>\n",
       "    </tr>\n",
       "    <tr>\n",
       "      <th>862270000177</th>\n",
       "      <td>Low</td>\n",
       "      <td>1970</td>\n",
       "      <td>NaN</td>\n",
       "      <td>930.0</td>\n",
       "      <td>970</td>\n",
       "      <td>930.0</td>\n",
       "      <td>970</td>\n",
       "      <td>943.0</td>\n",
       "      <td>136.0</td>\n",
       "      <td>0.0</td>\n",
       "      <td>...</td>\n",
       "      <td>0.0</td>\n",
       "      <td>40.0</td>\n",
       "      <td>0.0</td>\n",
       "      <td>Poor</td>\n",
       "      <td>NaN</td>\n",
       "      <td>Frame / Concrete Blk</td>\n",
       "      <td>Crawl Space</td>\n",
       "      <td>D</td>\n",
       "      <td>None</td>\n",
       "      <td>Average</td>\n",
       "    </tr>\n",
       "  </tbody>\n",
       "</table>\n",
       "<p>10 rows × 82 columns</p>\n",
       "</div>"
      ],
      "text/plain": [
       "                  dscr  date_erected  yr_remodel  im_sq_ft  act_ar  heat_ar  \\\n",
       "acct                                                                          \n",
       "730990030048   Average          1947      1997.0    1416.0    1634   1416.0   \n",
       "953010000003      Good          1962         NaN    3090.0    3777   3090.0   \n",
       "1051220000041  Average          1976         NaN    1116.0    1552   1116.0   \n",
       "1011280000022  Average          1969         NaN    2091.0    2378   2091.0   \n",
       "1140060000001  Average          1981         NaN    1831.0    2363   1831.0   \n",
       "542970000008   Average          1930         NaN    1103.0    1279   1103.0   \n",
       "871950000012      Good          1973         NaN    4432.0    5566   4432.0   \n",
       "771530170354   Average          1999         NaN    1377.0    1890   1377.0   \n",
       "861860000013   Average          1959         NaN    1481.0    1686   1481.0   \n",
       "862270000177       Low          1970         NaN     930.0     970    930.0   \n",
       "\n",
       "               gross_ar  eff_ar  perimeter  fireplace_masonry_firebrick  ...  \\\n",
       "acct                                                                     ...   \n",
       "730990030048       1634  1497.0      196.0                          0.0  ...   \n",
       "953010000003       3777  3293.0      288.0                          0.0  ...   \n",
       "1051220000041      1552  1282.0      174.0                          0.0  ...   \n",
       "1011280000022      2378  2186.0      242.0                          1.0  ...   \n",
       "1140060000001      2363  1963.0      294.0                          1.0  ...   \n",
       "542970000008       1279  1155.0      162.0                          1.0  ...   \n",
       "871950000012       5566  4514.0      412.0                          1.0  ...   \n",
       "771530170354       1890  1570.0      196.0                          0.0  ...   \n",
       "861860000013       1686  1511.0      192.0                          0.0  ...   \n",
       "862270000177        970   943.0      136.0                          0.0  ...   \n",
       "\n",
       "               one_story_mas_pri  open_frame_porch_pri  open_mas_porch_pri  \\\n",
       "acct                                                                         \n",
       "730990030048                 0.0                  28.0                 0.0   \n",
       "953010000003                 0.0                   0.0               287.0   \n",
       "1051220000041                0.0                   0.0                 0.0   \n",
       "1011280000022                0.0                 189.0                 0.0   \n",
       "1140060000001              669.0                  48.0                 0.0   \n",
       "542970000008                 0.0                   0.0                80.0   \n",
       "871950000012                 0.0                 218.0               168.0   \n",
       "771530170354                 0.0                   0.0                50.0   \n",
       "861860000013                 0.0                  49.0                 0.0   \n",
       "862270000177                 0.0                  40.0                 0.0   \n",
       "\n",
       "               cond_desir_util  cost_and_design         exterior_wall  \\\n",
       "acct                                                                    \n",
       "730990030048           Average        Extensive      Aluminum / Vinyl   \n",
       "953010000003              Fair              NaN        Brick / Veneer   \n",
       "1051220000041             Good              NaN                Stucco   \n",
       "1011280000022             Fair              NaN        Brick / Veneer   \n",
       "1140060000001          Average              NaN  Frame / Concrete Blk   \n",
       "542970000008              Poor              NaN        Brick / Veneer   \n",
       "871950000012              Good              NaN        Brick / Veneer   \n",
       "771530170354           Average    New / Rebuilt  Frame / Concrete Blk   \n",
       "861860000013           Average              NaN        Brick / Veneer   \n",
       "862270000177              Poor              NaN  Frame / Concrete Blk   \n",
       "\n",
       "               foundation_type  grade_adjustment       heating_ac  \\\n",
       "acct                                                                \n",
       "730990030048              Slab                 C  Central Heat/AC   \n",
       "953010000003              Slab                 B  Central Heat/AC   \n",
       "1051220000041             Slab                 C  Central Heat/AC   \n",
       "1011280000022             Slab                C+  Central Heat/AC   \n",
       "1140060000001             Slab                 C  Central Heat/AC   \n",
       "542970000008       Crawl Space                 C  Central Heat/AC   \n",
       "871950000012              Slab                 B  Central Heat/AC   \n",
       "771530170354              Slab                C-  Central Heat/AC   \n",
       "861860000013              Slab                 C  Central Heat/AC   \n",
       "862270000177       Crawl Space                 D             None   \n",
       "\n",
       "               physical_condition  \n",
       "acct                               \n",
       "730990030048              Average  \n",
       "953010000003                 Fair  \n",
       "1051220000041                Good  \n",
       "1011280000022                Fair  \n",
       "1140060000001             Average  \n",
       "542970000008                 Poor  \n",
       "871950000012              Average  \n",
       "771530170354              Average  \n",
       "861860000013              Average  \n",
       "862270000177              Average  \n",
       "\n",
       "[10 rows x 82 columns]"
      ]
     },
     "execution_count": 10,
     "metadata": {},
     "output_type": "execute_result"
    }
   ],
   "source": [
    "comps.sample(10)"
   ]
  },
  {
   "cell_type": "markdown",
   "metadata": {},
   "source": [
    "# Build target column\n",
    "The purpose of this work is to find if a given property was fairly appraised when compared with with similar properties.\n",
    "\n",
    "For this we could find the distribution of similar properties total appraised value (`tot_appr_val`) and locate where our target distribution falls. However, since there is a wide range of property values given their location (neighborhood), physical condition, renovation, and other factors, it might be best to focus on the year-to-year percent change in property value:\n",
    "\n",
    "`yy_pct_change` = (`tot_appr_val` - `prior_tot_appr_val`) / `prior_tot_appr_val`"
   ]
  },
  {
   "cell_type": "markdown",
   "metadata": {},
   "source": [
    "## Drop NaNs in value colums"
   ]
  },
  {
   "cell_type": "code",
   "execution_count": 11,
   "metadata": {
    "ExecuteTime": {
     "end_time": "2020-10-29T21:06:31.789828Z",
     "start_time": "2020-10-29T21:06:31.598340Z"
    }
   },
   "outputs": [],
   "source": [
    "cond0 = comps['prior_tot_appr_val'].isna()\n",
    "cond1 = comps['tot_appr_val'].isna()"
   ]
  },
  {
   "cell_type": "code",
   "execution_count": 12,
   "metadata": {
    "ExecuteTime": {
     "end_time": "2020-10-29T21:06:31.981317Z",
     "start_time": "2020-10-29T21:06:31.791823Z"
    }
   },
   "outputs": [
    {
     "name": "stdout",
     "output_type": "stream",
     "text": [
      "Percent of prior_tot_appr_val missing values: 0.0017416963997631794\n",
      "Percent of tot_appr_val missing values: 6.2650949631769045e-06\n"
     ]
    }
   ],
   "source": [
    "print(f'Percent of prior_tot_appr_val missing values: {cond0.sum() / cond0.shape[0]}')\n",
    "print(f'Percent of tot_appr_val missing values: {cond1.sum() / cond1.shape[0]}')"
   ]
  },
  {
   "cell_type": "code",
   "execution_count": 13,
   "metadata": {
    "ExecuteTime": {
     "end_time": "2020-10-29T21:06:32.768880Z",
     "start_time": "2020-10-29T21:06:31.983312Z"
    }
   },
   "outputs": [],
   "source": [
    "comps = comps.loc[~cond0 & ~cond1, :]"
   ]
  },
  {
   "cell_type": "markdown",
   "metadata": {},
   "source": [
    "## Drop samples where prior_tot_appr_val is zero"
   ]
  },
  {
   "cell_type": "code",
   "execution_count": 14,
   "metadata": {
    "ExecuteTime": {
     "end_time": "2020-10-29T21:06:32.968347Z",
     "start_time": "2020-10-29T21:06:32.770874Z"
    }
   },
   "outputs": [
    {
     "data": {
      "text/plain": [
       "30"
      ]
     },
     "execution_count": 14,
     "metadata": {},
     "output_type": "execute_result"
    }
   ],
   "source": [
    "cond0 = comps['prior_tot_appr_val'] == 0\n",
    "\n",
    "cond0.sum()"
   ]
  },
  {
   "cell_type": "code",
   "execution_count": 15,
   "metadata": {
    "ExecuteTime": {
     "end_time": "2020-10-29T21:06:33.743559Z",
     "start_time": "2020-10-29T21:06:32.973334Z"
    }
   },
   "outputs": [],
   "source": [
    "comps = comps.loc[~cond0, :]"
   ]
  },
  {
   "cell_type": "markdown",
   "metadata": {},
   "source": [
    "## Check tot_appr_val"
   ]
  },
  {
   "cell_type": "code",
   "execution_count": 16,
   "metadata": {
    "ExecuteTime": {
     "end_time": "2020-10-29T21:06:33.952998Z",
     "start_time": "2020-10-29T21:06:33.747548Z"
    }
   },
   "outputs": [],
   "source": [
    "from src.visualization.visualize import plot_ecdf, plot_counts, plot_hist"
   ]
  },
  {
   "cell_type": "code",
   "execution_count": 17,
   "metadata": {
    "ExecuteTime": {
     "end_time": "2020-10-29T21:06:34.156453Z",
     "start_time": "2020-10-29T21:06:33.955990Z"
    }
   },
   "outputs": [],
   "source": [
    "col ='tot_appr_val'\n",
    "series = comps[col]"
   ]
  },
  {
   "cell_type": "code",
   "execution_count": 18,
   "metadata": {
    "ExecuteTime": {
     "end_time": "2020-10-29T21:06:34.444689Z",
     "start_time": "2020-10-29T21:06:34.159446Z"
    }
   },
   "outputs": [
    {
     "data": {
      "text/plain": [
       "count    9.559870e+05\n",
       "mean     2.191061e+05\n",
       "std      2.800812e+05\n",
       "min      1.000000e+02\n",
       "25%      1.000000e+05\n",
       "50%      1.501060e+05\n",
       "75%      2.342280e+05\n",
       "max      1.726682e+07\n",
       "Name: tot_appr_val, dtype: float64"
      ]
     },
     "execution_count": 18,
     "metadata": {},
     "output_type": "execute_result"
    }
   ],
   "source": [
    "series.describe()"
   ]
  },
  {
   "cell_type": "code",
   "execution_count": 19,
   "metadata": {
    "ExecuteTime": {
     "end_time": "2020-10-29T21:06:35.099933Z",
     "start_time": "2020-10-29T21:06:34.554390Z"
    }
   },
   "outputs": [
    {
     "data": {
      "image/png": "[encoded data removed]",
      "text/plain": [
       "<Figure size 576x576 with 1 Axes>"
      ]
     },
     "metadata": {
      "needs_background": "light"
     },
     "output_type": "display_data"
    }
   ],
   "source": [
    "plot_hist(series, col)"
   ]
  },
  {
   "cell_type": "markdown",
   "metadata": {},
   "source": [
    "The high valued properties are masking the distribution of the lower valued properties in this histogram. Let's remake this figure with only properties valued less than $500k."
   ]
  },
  {
   "cell_type": "code",
   "execution_count": 20,
   "metadata": {
    "ExecuteTime": {
     "end_time": "2020-10-29T21:06:36.030673Z",
     "start_time": "2020-10-29T21:06:35.575893Z"
    }
   },
   "outputs": [
    {
     "data": {
      "image/png": "[encoded data removed]",
      "text/plain": [
       "<Figure size 576x576 with 1 Axes>"
      ]
     },
     "metadata": {
      "needs_background": "light"
     },
     "output_type": "display_data"
    }
   ],
   "source": [
    "plot_hist(series[series < 500000], col + ': Less than $500k')\n",
    "_ = plt.vlines(292707, 0, 400_000, color='red', label='Target house')\n",
    "_ = plt.legend(loc='upper right')"
   ]
  },
  {
   "cell_type": "markdown",
   "metadata": {},
   "source": [
    "The target house is on the high tail of the distribution of all single-family houses in HCAD. Perhaps we can remove the effect of the property's appraisal value magnitude by calculating the year-to-year percent change in value."
   ]
  },
  {
   "cell_type": "markdown",
   "metadata": {},
   "source": [
    "## Build year-to-year percent change value"
   ]
  },
  {
   "cell_type": "code",
   "execution_count": 21,
   "metadata": {
    "ExecuteTime": {
     "end_time": "2020-10-29T21:06:38.936182Z",
     "start_time": "2020-10-29T21:06:38.589077Z"
    }
   },
   "outputs": [],
   "source": [
    "comps['yy_pct_change'] = (comps['tot_appr_val'] - comps['prior_tot_appr_val']) / comps['prior_tot_appr_val']"
   ]
  },
  {
   "cell_type": "code",
   "execution_count": 22,
   "metadata": {
    "ExecuteTime": {
     "end_time": "2020-10-29T21:06:39.413869Z",
     "start_time": "2020-10-29T21:06:39.141598Z"
    }
   },
   "outputs": [
    {
     "data": {
      "text/plain": [
       "count    955987.000000\n",
       "mean          0.165984\n",
       "std           8.581103\n",
       "min          -0.870447\n",
       "25%           0.030657\n",
       "50%           0.099989\n",
       "75%           0.099999\n",
       "max        7151.941176\n",
       "Name: yy_pct_change, dtype: float64"
      ]
     },
     "execution_count": 22,
     "metadata": {},
     "output_type": "execute_result"
    }
   ],
   "source": [
    "comps['yy_pct_change'].describe()"
   ]
  },
  {
   "cell_type": "code",
   "execution_count": 23,
   "metadata": {
    "ExecuteTime": {
     "end_time": "2020-10-29T21:06:40.239662Z",
     "start_time": "2020-10-29T21:06:39.668190Z"
    }
   },
   "outputs": [
    {
     "data": {
      "image/png": "[encoded data removed]",
      "text/plain": [
       "<Figure size 576x576 with 1 Axes>"
      ]
     },
     "metadata": {
      "needs_background": "light"
     },
     "output_type": "display_data"
    }
   ],
   "source": [
    "_ = plt.figure(figsize=(8,8))\n",
    "_ = comps['yy_pct_change'].hist(bins=100)\n",
    "_ = plt.title('Year-to-year perc. change for all comps')\n",
    "_ = plt.xlabel('yy_pct_change')\n",
    "_ = plt.ylabel('Count')"
   ]
  },
  {
   "cell_type": "code",
   "execution_count": 24,
   "metadata": {
    "ExecuteTime": {
     "end_time": "2020-10-29T21:06:40.550827Z",
     "start_time": "2020-10-29T21:06:40.242652Z"
    }
   },
   "outputs": [
    {
     "data": {
      "text/plain": [
       "count    955987.000000\n",
       "mean          0.165984\n",
       "std           8.581103\n",
       "min          -0.870447\n",
       "25%           0.030657\n",
       "50%           0.099989\n",
       "75%           0.099999\n",
       "max        7151.941176\n",
       "Name: yy_pct_change, dtype: float64"
      ]
     },
     "execution_count": 24,
     "metadata": {},
     "output_type": "execute_result"
    }
   ],
   "source": [
    "comps['yy_pct_change'].describe()"
   ]
  },
  {
   "cell_type": "markdown",
   "metadata": {},
   "source": [
    "There are valid reasons for a property value appreciation from year-to-year to be multiples of the initial value, for example, when a new house is constructed on an existing lot, the previous year value will be the value of the land alone, and the current year value will be the value of the land plus the value of the improvement (built house).\n",
    "\n",
    "Similarly, when the existing house in the prior year is a tear-down, we can expect the value of the property to increase significantly if the owner has removed the old house and built a new one on its place. This is fairly common on neighborhoods with new constructions restrictions, like The Heights.\n",
    "\n",
    "Also, we can expect a large value increase if there has been a major remodeling that either increased the number of rooms of baths (fixtures), common on fixer-uppers, but this work generally increases the value of a property by a fraction, and not whole multipliers.\n",
    "\n",
    "Finally, I think these large (7151%) appreciation values could be errors in the data, or properties that sold under the 10% cap benefits in very expensive neighborhoods. After the sale the cap no longer applies, and thus the property is assess to its true market value.\n",
    "\n",
    "Let's zoom-in properties appreciated less than 100%."
   ]
  },
  {
   "cell_type": "code",
   "execution_count": 25,
   "metadata": {
    "ExecuteTime": {
     "end_time": "2020-10-29T21:06:43.214835Z",
     "start_time": "2020-10-29T21:06:41.371768Z"
    }
   },
   "outputs": [],
   "source": [
    "comps_app_lt_1 = comps.loc[comps['yy_pct_change'] < 1, :].copy()"
   ]
  },
  {
   "cell_type": "code",
   "execution_count": 26,
   "metadata": {
    "ExecuteTime": {
     "end_time": "2020-10-29T21:06:44.477407Z",
     "start_time": "2020-10-29T21:06:43.228798Z"
    }
   },
   "outputs": [
    {
     "data": {
      "image/png": "[encoded data removed]",
      "text/plain": [
       "<Figure size 576x576 with 1 Axes>"
      ]
     },
     "metadata": {
      "needs_background": "light"
     },
     "output_type": "display_data"
    }
   ],
   "source": [
    "_ = plt.figure(figsize=(8,8))\n",
    "_ = comps_app_lt_1['yy_pct_change'].hist(bins=100)\n",
    "_ = plt.vlines(0.093, 5_000, 400_000, color='red', linestyle='--', linewidth=2, label='Target house')\n",
    "_ = plt.title('Comparables appreciated less than 100%')\n",
    "_ = plt.xlabel('yy_pct_change')\n",
    "_ = plt.ylabel('Count')\n",
    "_ = plt.legend(loc='upper right')"
   ]
  },
  {
   "cell_type": "code",
   "execution_count": 27,
   "metadata": {
    "ExecuteTime": {
     "end_time": "2020-10-29T21:06:44.871359Z",
     "start_time": "2020-10-29T21:06:44.480400Z"
    }
   },
   "outputs": [
    {
     "name": "stdout",
     "output_type": "stream",
     "text": [
      "(0.0833, 0.102]       446134\n",
      "(-0.0102, 0.00854]    157551\n",
      "(0.0646, 0.0833]       63198\n",
      "(0.0459, 0.0646]       59268\n",
      "(0.0272, 0.0459]       51917\n",
      "                       ...  \n",
      "(-0.758, -0.74]            2\n",
      "(-0.683, -0.665]           1\n",
      "(-0.814, -0.796]           1\n",
      "(-0.721, -0.702]           0\n",
      "(-0.852, -0.833]           0\n",
      "Name: yy_pct_change, Length: 100, dtype: int64\n",
      "(0.0833, 0.102]       0.471943\n",
      "(-0.0102, 0.00854]    0.166665\n",
      "(0.0646, 0.0833]      0.066854\n",
      "(0.0459, 0.0646]      0.062697\n",
      "(0.0272, 0.0459]      0.054920\n",
      "                        ...   \n",
      "(-0.758, -0.74]       0.000002\n",
      "(-0.683, -0.665]      0.000001\n",
      "(-0.814, -0.796]      0.000001\n",
      "(-0.721, -0.702]      0.000000\n",
      "(-0.852, -0.833]      0.000000\n",
      "Name: yy_pct_change, Length: 100, dtype: float64\n"
     ]
    }
   ],
   "source": [
    "print(comps_app_lt_1['yy_pct_change'].value_counts(bins=100))\n",
    "print(comps_app_lt_1['yy_pct_change'].value_counts(bins=100, normalize=True))"
   ]
  },
  {
   "cell_type": "markdown",
   "metadata": {},
   "source": [
    "This is interesting. There is a spike in the 10% value increase mark. This is possibly related to Capped Appraisal Values, where the appraisal district will cap the value of an existing property if the current year appraised value is more than 10% of last year's. Also, the property has to be homestead exempt for the current and prior year to be eligible for this benefit.\n",
    "\n",
    "We can see in the histogram that about 445000 properties qualified for this capping rule. Neat!\n",
    "\n",
    "There is a lesser spike near 0 % value increase, but its origin is less clear."
   ]
  },
  {
   "attachments": {},
   "cell_type": "markdown",
   "metadata": {},
   "source": [
    "# Select the comparable properties\n",
    "\n",
    "The histogram on year-to-tear percent change appraise value above shows that most properties appreciated up to 40%, and depreciated down to 25%. While this is insightful, the spread is too broad as it accounts for almost all properties in the district, with all sorts of conditions, year built, neighborhood, and many other variables, and as a result, the target house is well within this distribution.\n",
    "\n",
    "Next, let's select the comparable properties to my property of interest by counting only properties in the same subdivision."
   ]
  },
  {
   "cell_type": "code",
   "execution_count": 28,
   "metadata": {
    "ExecuteTime": {
     "end_time": "2020-10-29T21:06:48.457519Z",
     "start_time": "2020-10-29T21:06:47.683748Z"
    }
   },
   "outputs": [],
   "source": [
    "cond0 = comps['lgl_2'].str.contains('PARK AT KLEIN SEC 1', case=False, na=False, regex=False)\n",
    "\n",
    "subdiv = comps.loc[cond0, :].copy()"
   ]
  },
  {
   "cell_type": "code",
   "execution_count": 29,
   "metadata": {
    "ExecuteTime": {
     "end_time": "2020-10-29T21:06:48.660697Z",
     "start_time": "2020-10-29T21:06:48.459236Z"
    }
   },
   "outputs": [
    {
     "data": {
      "text/plain": [
       "(111, 83)"
      ]
     },
     "execution_count": 29,
     "metadata": {},
     "output_type": "execute_result"
    }
   ],
   "source": [
    "subdiv.shape"
   ]
  },
  {
   "cell_type": "markdown",
   "metadata": {},
   "source": [
    "Since we have selected only the houses at the specified subdivision, there are a lot of categorical columns in this subset of samples that are single valued (e.g. `neighborhood_code`, `market_area_1_dscr`, etc.). Let's remove these columns."
   ]
  },
  {
   "cell_type": "code",
   "execution_count": 30,
   "metadata": {
    "ExecuteTime": {
     "end_time": "2020-10-29T21:06:49.375783Z",
     "start_time": "2020-10-29T21:06:49.119501Z"
    }
   },
   "outputs": [],
   "source": [
    "for col in subdiv.columns:\n",
    "    if len(subdiv[col].unique()) == 1:\n",
    "        subdiv.drop(col,inplace=True,axis=1)"
   ]
  },
  {
   "cell_type": "code",
   "execution_count": 31,
   "metadata": {
    "ExecuteTime": {
     "end_time": "2020-10-29T21:06:50.075679Z",
     "start_time": "2020-10-29T21:06:49.842266Z"
    }
   },
   "outputs": [
    {
     "data": {
      "text/plain": [
       "(111, 32)"
      ]
     },
     "execution_count": 31,
     "metadata": {},
     "output_type": "execute_result"
    }
   ],
   "source": [
    "subdiv.shape"
   ]
  },
  {
   "cell_type": "code",
   "execution_count": 32,
   "metadata": {
    "ExecuteTime": {
     "end_time": "2020-10-29T21:06:50.845588Z",
     "start_time": "2020-10-29T21:06:50.385818Z"
    }
   },
   "outputs": [
    {
     "data": {
      "image/png": "[encoded data removed]",
      "text/plain": [
       "<Figure size 576x576 with 1 Axes>"
      ]
     },
     "metadata": {
      "needs_background": "light"
     },
     "output_type": "display_data"
    }
   ],
   "source": [
    "_ = plt.figure(figsize=(8,8))\n",
    "_ = (subdiv['tot_appr_val']/1000).hist(bins=7)\n",
    "_ = plt.title('Houses in the subdivision: 2016 Total Appraised Value')\n",
    "_ = plt.vlines(292707/1000, 0, 35, color='red', label='Target house')\n",
    "_ = plt.xlabel('tot_appr_val x1000 ($)')\n",
    "_ = plt.ylabel('Count')\n",
    "_ = plt.legend(loc='upper right')"
   ]
  },
  {
   "cell_type": "markdown",
   "metadata": {},
   "source": [
    "## Find subdivision comparables\n",
    "To make a fair comparison, we should find the properties with similar characteristics to the target property. Let's use an unsupervised learning method to find their grouping."
   ]
  },
  {
   "cell_type": "code",
   "execution_count": 33,
   "metadata": {
    "ExecuteTime": {
     "end_time": "2020-10-29T21:06:57.243727Z",
     "start_time": "2020-10-29T21:06:55.906522Z"
    }
   },
   "outputs": [],
   "source": [
    "from sklearn.cluster import KMeans"
   ]
  },
  {
   "cell_type": "code",
   "execution_count": 34,
   "metadata": {
    "ExecuteTime": {
     "end_time": "2020-10-29T21:06:57.499085Z",
     "start_time": "2020-10-29T21:06:57.246720Z"
    }
   },
   "outputs": [
    {
     "name": "stdout",
     "output_type": "stream",
     "text": [
      "<class 'pandas.core.frame.DataFrame'>\n",
      "UInt64Index: 111 entries, 1347180010007 to 1347180030038\n",
      "Data columns (total 32 columns):\n",
      " #   Column                  Non-Null Count  Dtype         \n",
      "---  ------                  --------------  -----         \n",
      " 0   date_erected            111 non-null    uint16        \n",
      " 1   im_sq_ft                111 non-null    float64       \n",
      " 2   act_ar                  111 non-null    uint16        \n",
      " 3   heat_ar                 111 non-null    float64       \n",
      " 4   gross_ar                111 non-null    uint16        \n",
      " 5   eff_ar                  111 non-null    float64       \n",
      " 6   perimeter               111 non-null    float64       \n",
      " 7   fireplace_metal_prefab  111 non-null    float32       \n",
      " 8   fixtures_addl           111 non-null    float32       \n",
      " 9   fixtures_total          111 non-null    float32       \n",
      " 10  room_bedroom            111 non-null    float32       \n",
      " 11  room_full_bath          111 non-null    float32       \n",
      " 12  room_half_bath          111 non-null    float32       \n",
      " 13  room_rec                111 non-null    float32       \n",
      " 14  room_total              111 non-null    float32       \n",
      " 15  story_height_index      111 non-null    float32       \n",
      " 16  bld_ar                  111 non-null    float64       \n",
      " 17  land_ar                 111 non-null    float64       \n",
      " 18  acreage                 111 non-null    float64       \n",
      " 19  land_val                111 non-null    float64       \n",
      " 20  tot_appr_val            111 non-null    float64       \n",
      " 21  prior_land_val          111 non-null    float64       \n",
      " 22  prior_tot_appr_val      111 non-null    float64       \n",
      " 23  new_own_dt              111 non-null    datetime64[ns]\n",
      " 24  lgl_1                   111 non-null    object        \n",
      " 25  base_area_pri           111 non-null    float64       \n",
      " 26  base_area_upr           111 non-null    float64       \n",
      " 27  mas_brk_garage_pri      111 non-null    float64       \n",
      " 28  open_frame_porch_pri    111 non-null    float64       \n",
      " 29  open_mas_porch_pri      111 non-null    float64       \n",
      " 30  exterior_wall           111 non-null    category      \n",
      " 31  yy_pct_change           111 non-null    float64       \n",
      "dtypes: category(1), datetime64[ns](1), float32(9), float64(17), object(1), uint16(3)\n",
      "memory usage: 22.4+ KB\n"
     ]
    }
   ],
   "source": [
    "subdiv.info()"
   ]
  },
  {
   "cell_type": "markdown",
   "metadata": {},
   "source": [
    "For K-Means to work in theory we should remove the non-numerical features. In addition, I'll remove the features directly associated with the value of the property. "
   ]
  },
  {
   "cell_type": "code",
   "execution_count": 35,
   "metadata": {
    "ExecuteTime": {
     "end_time": "2020-10-29T21:06:59.135327Z",
     "start_time": "2020-10-29T21:06:58.795198Z"
    }
   },
   "outputs": [],
   "source": [
    "drop = [\n",
    "    'yy_pct_change',\n",
    "    'land_val',\n",
    "    'tot_appr_val',\n",
    "    'prior_land_val',\n",
    "    'prior_tot_appr_val',\n",
    "    'new_own_dt', # Latest purchase date\n",
    "    'lgl_1', # House lot\n",
    "    'exterior_wall'\n",
    "]"
   ]
  },
  {
   "cell_type": "code",
   "execution_count": 36,
   "metadata": {
    "ExecuteTime": {
     "end_time": "2020-10-29T21:06:59.791212Z",
     "start_time": "2020-10-29T21:06:59.558830Z"
    }
   },
   "outputs": [],
   "source": [
    "subdiv_numeric = subdiv.drop(drop, axis=1)"
   ]
  },
  {
   "cell_type": "code",
   "execution_count": 37,
   "metadata": {
    "ExecuteTime": {
     "end_time": "2020-10-29T21:07:04.173597Z",
     "start_time": "2020-10-29T21:07:02.404080Z"
    }
   },
   "outputs": [],
   "source": [
    "ks = range(1, 21)\n",
    "inertias = []\n",
    "\n",
    "for k in ks:\n",
    "    # Create a KMeans instance with k clusters: model\n",
    "    model = KMeans(n_clusters=k)\n",
    "    \n",
    "    # Fit model to samples\n",
    "    model.fit(subdiv_numeric)\n",
    "    \n",
    "    # Append the inertia to the list of inertias\n",
    "    inertias.append(model.inertia_)"
   ]
  },
  {
   "cell_type": "code",
   "execution_count": 38,
   "metadata": {
    "ExecuteTime": {
     "end_time": "2020-10-29T21:07:05.494629Z",
     "start_time": "2020-10-29T21:07:05.041807Z"
    }
   },
   "outputs": [
    {
     "data": {
      "image/png": "[encoded data removed]",
      "text/plain": [
       "<Figure size 576x576 with 1 Axes>"
      ]
     },
     "metadata": {
      "needs_background": "light"
     },
     "output_type": "display_data"
    }
   ],
   "source": [
    "# Plot ks vs inertias\n",
    "plt.figure(figsize=(8, 8))\n",
    "plt.plot(ks, inertias, '-o')\n",
    "plt.xlabel('number of clusters, k')\n",
    "plt.ylabel('inertia')\n",
    "plt.xticks(ks)\n",
    "plt.show()"
   ]
  },
  {
   "cell_type": "markdown",
   "metadata": {},
   "source": [
    "It seems like 8 clusters is a good choice. However, after some trial and error I found that k > 3 makes for one cluster with almost all the samples, and a lot of clusters with very few (~3) samples. For this reason I chose k=3."
   ]
  },
  {
   "cell_type": "code",
   "execution_count": 39,
   "metadata": {
    "ExecuteTime": {
     "end_time": "2020-10-29T21:07:19.660095Z",
     "start_time": "2020-10-29T21:07:19.363854Z"
    }
   },
   "outputs": [],
   "source": [
    "model = KMeans(n_clusters=3)"
   ]
  },
  {
   "cell_type": "code",
   "execution_count": 40,
   "metadata": {
    "ExecuteTime": {
     "end_time": "2020-10-29T21:07:20.744139Z",
     "start_time": "2020-10-29T21:07:20.408043Z"
    }
   },
   "outputs": [],
   "source": [
    "labels = model.fit_predict(subdiv_numeric)"
   ]
  },
  {
   "cell_type": "code",
   "execution_count": 41,
   "metadata": {
    "ExecuteTime": {
     "end_time": "2020-10-29T21:07:21.519076Z",
     "start_time": "2020-10-29T21:07:21.250794Z"
    }
   },
   "outputs": [
    {
     "data": {
      "text/plain": [
       "labels\n",
       "0         54\n",
       "2         40\n",
       "1         17\n",
       "dtype: int64"
      ]
     },
     "execution_count": 41,
     "metadata": {},
     "output_type": "execute_result"
    }
   ],
   "source": [
    "pd.DataFrame({'labels': labels}).value_counts()"
   ]
  },
  {
   "cell_type": "markdown",
   "metadata": {},
   "source": [
    "## TSNE\n",
    "Now let's plot the selected labels using TSNE to find if these groups overlap or are separated."
   ]
  },
  {
   "cell_type": "code",
   "execution_count": 42,
   "metadata": {
    "ExecuteTime": {
     "end_time": "2020-10-29T21:07:24.589357Z",
     "start_time": "2020-10-29T21:07:24.337037Z"
    }
   },
   "outputs": [],
   "source": [
    "from sklearn.manifold import TSNE"
   ]
  },
  {
   "cell_type": "code",
   "execution_count": 43,
   "metadata": {
    "ExecuteTime": {
     "end_time": "2020-10-29T21:07:25.622900Z",
     "start_time": "2020-10-29T21:07:25.316728Z"
    }
   },
   "outputs": [],
   "source": [
    "model = TSNE(learning_rate=100)"
   ]
  },
  {
   "cell_type": "code",
   "execution_count": 44,
   "metadata": {
    "ExecuteTime": {
     "end_time": "2020-10-29T21:07:26.894646Z",
     "start_time": "2020-10-29T21:07:25.997048Z"
    }
   },
   "outputs": [],
   "source": [
    "transformed = model.fit_transform(subdiv_numeric)"
   ]
  },
  {
   "cell_type": "code",
   "execution_count": 45,
   "metadata": {
    "ExecuteTime": {
     "end_time": "2020-10-29T21:07:31.851640Z",
     "start_time": "2020-10-29T21:07:31.307028Z"
    }
   },
   "outputs": [
    {
     "data": {
      "image/png": "[encoded data removed]",
      "text/plain": [
       "<Figure size 576x576 with 1 Axes>"
      ]
     },
     "metadata": {
      "needs_background": "light"
     },
     "output_type": "display_data"
    }
   ],
   "source": [
    "plt.figure(figsize=(8, 8))\n",
    "sns.scatterplot(x=transformed[:, 0], y=transformed[:, 1], hue=labels, style=labels, alpha=0.7)\n",
    "plt.show()"
   ]
  },
  {
   "cell_type": "markdown",
   "metadata": {},
   "source": [
    "Excellent! They are well separated indicating that these groups are meaningful.\n",
    "\n",
    "Now let's add the labels found with K-meands back to the features dataframe."
   ]
  },
  {
   "cell_type": "code",
   "execution_count": 46,
   "metadata": {
    "ExecuteTime": {
     "end_time": "2020-10-29T21:08:04.872685Z",
     "start_time": "2020-10-29T21:08:04.485725Z"
    }
   },
   "outputs": [],
   "source": [
    "subdiv['kmeans_label'] = labels"
   ]
  },
  {
   "cell_type": "code",
   "execution_count": 47,
   "metadata": {
    "ExecuteTime": {
     "end_time": "2020-10-29T21:08:06.393165Z",
     "start_time": "2020-10-29T21:08:05.867538Z"
    }
   },
   "outputs": [
    {
     "data": {
      "text/plain": [
       "<matplotlib.legend.Legend at 0x20804393f88>"
      ]
     },
     "execution_count": 47,
     "metadata": {},
     "output_type": "execute_result"
    },
    {
     "data": {
      "image/png": "[encoded data removed]",
      "text/plain": [
       "<Figure size 921.6x633.6 with 1 Axes>"
      ]
     },
     "metadata": {
      "needs_background": "light"
     },
     "output_type": "display_data"
    }
   ],
   "source": [
    "sns.stripplot(x='kmeans_label', y='tot_appr_val', data=subdiv)\n",
    "plt.hlines(292707, 0, 3, colors='red', label='Target House')\n",
    "plt.legend(loc='upper right')"
   ]
  },
  {
   "cell_type": "code",
   "execution_count": 48,
   "metadata": {
    "ExecuteTime": {
     "end_time": "2020-10-29T21:08:10.867746Z",
     "start_time": "2020-10-29T21:08:10.141286Z"
    }
   },
   "outputs": [
    {
     "data": {
      "text/plain": [
       "<matplotlib.legend.Legend at 0x2080441adc8>"
      ]
     },
     "execution_count": 48,
     "metadata": {},
     "output_type": "execute_result"
    },
    {
     "data": {
      "image/png": "[encoded data removed]",
      "text/plain": [
       "<Figure size 921.6x633.6 with 1 Axes>"
      ]
     },
     "metadata": {
      "needs_background": "light"
     },
     "output_type": "display_data"
    }
   ],
   "source": [
    "sns.stripplot(x='fixtures_total', y='tot_appr_val', data=subdiv, hue='kmeans_label')\n",
    "plt.hlines(292707, 0, 6, colors='red', label='Target House')\n",
    "plt.legend(loc='lower right')"
   ]
  },
  {
   "cell_type": "code",
   "execution_count": 49,
   "metadata": {
    "ExecuteTime": {
     "end_time": "2020-10-29T21:08:12.814690Z",
     "start_time": "2020-10-29T21:08:12.244217Z"
    }
   },
   "outputs": [
    {
     "data": {
      "text/plain": [
       "<AxesSubplot:xlabel='im_sq_ft', ylabel='tot_appr_val'>"
      ]
     },
     "execution_count": 49,
     "metadata": {},
     "output_type": "execute_result"
    },
    {
     "data": {
      "image/png": "[encoded data removed]",
      "text/plain": [
       "<Figure size 921.6x633.6 with 1 Axes>"
      ]
     },
     "metadata": {
      "needs_background": "light"
     },
     "output_type": "display_data"
    }
   ],
   "source": [
    "sns.scatterplot(x='im_sq_ft', y='tot_appr_val', data=subdiv, hue='kmeans_label')"
   ]
  },
  {
   "cell_type": "markdown",
   "metadata": {},
   "source": [
    "## Subdivision comparables"
   ]
  },
  {
   "cell_type": "markdown",
   "metadata": {},
   "source": [
    "Target property k-means label:"
   ]
  },
  {
   "cell_type": "code",
   "execution_count": 50,
   "metadata": {
    "ExecuteTime": {
     "end_time": "2020-10-29T21:08:18.804303Z",
     "start_time": "2020-10-29T21:08:18.564943Z"
    }
   },
   "outputs": [
    {
     "name": "stdout",
     "output_type": "stream",
     "text": [
      "The target house label is: 2\n"
     ]
    }
   ],
   "source": [
    "target_house_label = subdiv.loc[1347180010049, 'kmeans_label']\n",
    "print(f\"The target house label is: {target_house_label}\")"
   ]
  },
  {
   "cell_type": "code",
   "execution_count": 51,
   "metadata": {
    "ExecuteTime": {
     "end_time": "2020-10-29T21:08:20.441249Z",
     "start_time": "2020-10-29T21:08:20.179958Z"
    }
   },
   "outputs": [],
   "source": [
    "subdiv_comps = subdiv.loc[subdiv['kmeans_label'] == target_house_label, :]"
   ]
  },
  {
   "cell_type": "code",
   "execution_count": 52,
   "metadata": {
    "ExecuteTime": {
     "end_time": "2020-10-29T21:08:22.733062Z",
     "start_time": "2020-10-29T21:08:22.462789Z"
    }
   },
   "outputs": [
    {
     "data": {
      "text/plain": [
       "(40, 33)"
      ]
     },
     "execution_count": 52,
     "metadata": {},
     "output_type": "execute_result"
    }
   ],
   "source": [
    "subdiv_comps.shape"
   ]
  },
  {
   "cell_type": "markdown",
   "metadata": {},
   "source": [
    "# Null-hypothesis test\n",
    "\n",
    "**Population**: Comparable houses appraised by HCAD in the PARK AT KLEIN SEC 1 subdivision.\n",
    "\n",
    "**Significance level**: 5%\n",
    "\n",
    "$H_0$: The 2016 appraised value for the target house was fair relative to its comparables.\n",
    "\n",
    "$H_a$: The 2016 appraised value was unfair, or it doesn't belong to the comparables distribution."
   ]
  },
  {
   "cell_type": "code",
   "execution_count": 53,
   "metadata": {
    "ExecuteTime": {
     "end_time": "2020-10-29T21:08:25.148332Z",
     "start_time": "2020-10-29T21:08:24.885000Z"
    }
   },
   "outputs": [
    {
     "name": "stdout",
     "output_type": "stream",
     "text": [
      "The population mean is: $258853.80\n",
      "The population standard deviation is: $15200.36\n"
     ]
    }
   ],
   "source": [
    "pop_mean = subdiv_comps['tot_appr_val'].mean()\n",
    "pop_std = subdiv_comps['tot_appr_val'].std(ddof=0)\n",
    "\n",
    "print(f\"The population mean is: ${pop_mean:.2f}\")\n",
    "print(f\"The population standard deviation is: ${pop_std:.2f}\")"
   ]
  },
  {
   "cell_type": "code",
   "execution_count": 54,
   "metadata": {
    "ExecuteTime": {
     "end_time": "2020-10-29T21:08:33.022615Z",
     "start_time": "2020-10-29T21:08:32.721424Z"
    }
   },
   "outputs": [],
   "source": [
    "from scipy.stats import norm"
   ]
  },
  {
   "cell_type": "code",
   "execution_count": 55,
   "metadata": {
    "ExecuteTime": {
     "end_time": "2020-10-29T21:08:33.584188Z",
     "start_time": "2020-10-29T21:08:33.346784Z"
    }
   },
   "outputs": [],
   "source": [
    "zscore = (292707 - pop_mean) / pop_std"
   ]
  },
  {
   "cell_type": "code",
   "execution_count": 56,
   "metadata": {
    "ExecuteTime": {
     "end_time": "2020-10-29T21:08:35.153498Z",
     "start_time": "2020-10-29T21:08:34.885196Z"
    }
   },
   "outputs": [
    {
     "data": {
      "text/plain": [
       "2.227131629768397"
      ]
     },
     "execution_count": 56,
     "metadata": {},
     "output_type": "execute_result"
    }
   ],
   "source": [
    "zscore"
   ]
  },
  {
   "cell_type": "code",
   "execution_count": 57,
   "metadata": {
    "ExecuteTime": {
     "end_time": "2020-10-29T21:08:36.804670Z",
     "start_time": "2020-10-29T21:08:36.489516Z"
    }
   },
   "outputs": [
    {
     "name": "stdout",
     "output_type": "stream",
     "text": [
      "The p-value is: 0.013\n"
     ]
    }
   ],
   "source": [
    "pvalue = 1 - norm.cdf(zscore)\n",
    "print(f\"The p-value is: {pvalue:.3f}\")"
   ]
  },
  {
   "cell_type": "markdown",
   "metadata": {},
   "source": [
    "Since the p-value (0.013) is below the significance level (0.05) we can say there is reasonable statistical evidence to reject the the null hypothesis, and thus we have statistical evidence to say that the property appraisal was unfair relative to its comparables.\n",
    "\n",
    "In other words, if the null hypothesis is true, there is a 1.3% probability of getting an appraised value as extreme as $292707 or lager. Since this 1.3\\% is below the 5\\% significance level (z=1.645), we reject the null hypothesis.  "
   ]
  },
  {
   "cell_type": "code",
   "execution_count": 58,
   "metadata": {
    "ExecuteTime": {
     "end_time": "2020-10-29T21:10:32.228350Z",
     "start_time": "2020-10-29T21:10:31.746646Z"
    }
   },
   "outputs": [
    {
     "data": {
      "image/png": "[encoded data removed]",
      "text/plain": [
       "<Figure size 576x576 with 1 Axes>"
      ]
     },
     "metadata": {
      "needs_background": "light"
     },
     "output_type": "display_data"
    }
   ],
   "source": [
    "_ = plt.figure(figsize=(8,8))\n",
    "_ = ((subdiv_comps['tot_appr_val'] - pop_mean)/pop_std).hist(bins=7)\n",
    "_ = plt.title('Houses in the subdivision: 2016 Standardized Total Appraised Value')\n",
    "_ = plt.vlines(zscore, 0, 35, color='red', label='Target house')\n",
    "_ = plt.vlines(1.96, 0, 35, color='green', label='5% Significance Level')\n",
    "_ = plt.xlabel('Standardized tot_appr_val')\n",
    "_ = plt.ylabel('Count')\n",
    "_ = plt.legend(loc='upper right')"
   ]
  },
  {
   "cell_type": "markdown",
   "metadata": {
    "ExecuteTime": {
     "end_time": "2020-10-29T16:15:59.233083Z",
     "start_time": "2020-10-29T16:15:58.742309Z"
    }
   },
   "source": [
    "Now that we have found that there is something wrong with the appraisal value of the target property, let's turn our attention to predictiong what would have been a better value, based on the subdivision houses subset."
   ]
  },
  {
   "cell_type": "markdown",
   "metadata": {},
   "source": [
    "# Feature selection\n",
    "\n",
    "Our first step is to find a the subset of features that best associate with the target variable: `tot_appr_val`"
   ]
  },
  {
   "cell_type": "code",
   "execution_count": 61,
   "metadata": {
    "ExecuteTime": {
     "end_time": "2020-10-29T21:15:32.793148Z",
     "start_time": "2020-10-29T21:15:32.545811Z"
    }
   },
   "outputs": [
    {
     "data": {
      "text/plain": [
       "(111, 33)"
      ]
     },
     "execution_count": 61,
     "metadata": {},
     "output_type": "execute_result"
    }
   ],
   "source": [
    "subdiv.shape"
   ]
  },
  {
   "cell_type": "code",
   "execution_count": null,
   "metadata": {},
   "outputs": [],
   "source": []
  },
  {
   "cell_type": "code",
   "execution_count": null,
   "metadata": {},
   "outputs": [],
   "source": []
  },
  {
   "cell_type": "code",
   "execution_count": null,
   "metadata": {},
   "outputs": [],
   "source": []
  },
  {
   "cell_type": "code",
   "execution_count": null,
   "metadata": {},
   "outputs": [],
   "source": []
  },
  {
   "cell_type": "code",
   "execution_count": null,
   "metadata": {},
   "outputs": [],
   "source": []
  },
  {
   "cell_type": "markdown",
   "metadata": {},
   "source": [
    "## Reset dtypes to work with Sweetviz\n",
    "Running `sweetviz` with the `comps` data \"as is\" was throwing a `TypeError` associated with the categorical columns, so here I change their type to `object`."
   ]
  },
  {
   "cell_type": "code",
   "execution_count": null,
   "metadata": {
    "ExecuteTime": {
     "end_time": "2020-10-27T20:49:28.978483Z",
     "start_time": "2020-10-27T20:49:28.690254Z"
    },
    "scrolled": true
   },
   "outputs": [],
   "source": [
    "for col in subdiv_finished.columns:\n",
    "    if str(subdiv_finished[col].dtype) == 'category':\n",
    "        subdiv_finished[col] = subdiv_finished[col].astype('object')"
   ]
  },
  {
   "cell_type": "code",
   "execution_count": null,
   "metadata": {
    "ExecuteTime": {
     "end_time": "2020-10-27T20:49:33.031249Z",
     "start_time": "2020-10-27T20:49:32.783920Z"
    },
    "scrolled": false
   },
   "outputs": [],
   "source": [
    "subdiv_finished.info()"
   ]
  },
  {
   "cell_type": "markdown",
   "metadata": {},
   "source": [
    "## Run Sweetviz"
   ]
  },
  {
   "cell_type": "code",
   "execution_count": null,
   "metadata": {
    "ExecuteTime": {
     "end_time": "2020-10-27T20:49:34.874943Z",
     "start_time": "2020-10-27T20:49:34.007783Z"
    }
   },
   "outputs": [],
   "source": [
    "import sweetviz as sv"
   ]
  },
  {
   "cell_type": "code",
   "execution_count": null,
   "metadata": {
    "ExecuteTime": {
     "end_time": "2020-10-27T20:49:35.084383Z",
     "start_time": "2020-10-27T20:49:34.876937Z"
    },
    "scrolled": false
   },
   "outputs": [],
   "source": [
    "# This can take a long time to run (~37 min), change flag to True if need to re-run\n",
    "if False:\n",
    "    my_report = sv.analyze(subdiv_finished, target_feat='tot_appr_val')\n",
    "    my_report.show_html(filepath='SWEETVIZ_REPORT_tot_appr_val_subdivision_finished.html')"
   ]
  },
  {
   "cell_type": "markdown",
   "metadata": {},
   "source": [
    "The cell above creates a file (notebooks/01_Exploratory/SWEETVIZ_REPORT_tot_appr_val_subdivision_finished.html) with the resulting plots."
   ]
  },
  {
   "cell_type": "markdown",
   "metadata": {},
   "source": [
    "# Features exploration\n",
    "Let's start by review the association plot in the sweetviz report.\n",
    "\n",
    "![Sweetviz all variables association](figures/sv_all_variables_association_subdivision_finished.png)\n",
    "\n",
    "Impressive!\n",
    "\n",
    "There is a strong association in most variables. I'm particularly interested in exploring the associations with the total appraise value (`tot_appr_val`) so let's look at its individual association table.\n",
    "\n",
    "![total apprasied value association tables](figures/tot_appr_val_associations_tables_subdivision_finished.png)\n",
    "\n",
    "Now let's select the numerical and categorical features with strong association (> 0.59) to our target variable and examine these in detail."
   ]
  },
  {
   "cell_type": "code",
   "execution_count": null,
   "metadata": {
    "ExecuteTime": {
     "end_time": "2020-10-27T20:49:37.713254Z",
     "start_time": "2020-10-27T20:49:37.331279Z"
    }
   },
   "outputs": [],
   "source": [
    "num_features = [\n",
    "    'act_ar',\n",
    "    'gross_ar',\n",
    "    'eff_ar',\n",
    "    'im_sq_ft',\n",
    "    'heat_ar',\n",
    "    'bld_ar',\n",
    "    'prior_tot_appr_val',\n",
    "    'base_area_upr',\n",
    "    'perimeter'\n",
    "]\n",
    "    \n",
    "cat_features = [\n",
    "    'fixtures_total',\n",
    "    'room_half_bath',\n",
    "    'room_total',\n",
    "    'room_bedroom',\n",
    "    'room_rec',\n",
    "    'room_full_bath',\n",
    "    'story_height_index'\n",
    "]"
   ]
  },
  {
   "cell_type": "markdown",
   "metadata": {},
   "source": [
    "# Selected features analysis"
   ]
  },
  {
   "cell_type": "markdown",
   "metadata": {},
   "source": [
    "## Total appraised value: tot_appr_val\n",
    "Let's begin with a description of our target variable: total appraised value."
   ]
  },
  {
   "cell_type": "code",
   "execution_count": null,
   "metadata": {
    "ExecuteTime": {
     "end_time": "2020-10-27T20:49:44.816367Z",
     "start_time": "2020-10-27T20:49:44.539109Z"
    }
   },
   "outputs": [],
   "source": [
    "from src.visualization.visualize import plot_ecdf, plot_counts, plot_hist"
   ]
  },
  {
   "cell_type": "markdown",
   "metadata": {},
   "source": [
    "Check for null values"
   ]
  },
  {
   "cell_type": "code",
   "execution_count": null,
   "metadata": {
    "ExecuteTime": {
     "end_time": "2020-10-27T20:49:45.910938Z",
     "start_time": "2020-10-27T20:49:45.674574Z"
    }
   },
   "outputs": [],
   "source": [
    "subdiv_finished['tot_appr_val'][subdiv_finished['tot_appr_val'].isna()]"
   ]
  },
  {
   "cell_type": "markdown",
   "metadata": {},
   "source": [
    "let's remove these from the comps dataframe"
   ]
  },
  {
   "cell_type": "code",
   "execution_count": null,
   "metadata": {
    "ExecuteTime": {
     "end_time": "2020-10-27T20:49:47.814934Z",
     "start_time": "2020-10-27T20:49:47.469860Z"
    }
   },
   "outputs": [],
   "source": [
    "subdiv_finished.dropna(axis=0, how='any', subset=['tot_appr_val'], inplace=True)"
   ]
  },
  {
   "cell_type": "markdown",
   "metadata": {},
   "source": [
    "Now let's build the plots"
   ]
  },
  {
   "cell_type": "code",
   "execution_count": null,
   "metadata": {
    "ExecuteTime": {
     "end_time": "2020-10-27T20:49:49.232817Z",
     "start_time": "2020-10-27T20:49:49.015367Z"
    }
   },
   "outputs": [],
   "source": [
    "col ='tot_appr_val'\n",
    "series = subdiv_finished[col]"
   ]
  },
  {
   "cell_type": "code",
   "execution_count": null,
   "metadata": {
    "ExecuteTime": {
     "end_time": "2020-10-27T20:49:50.086406Z",
     "start_time": "2020-10-27T20:49:49.807158Z"
    }
   },
   "outputs": [],
   "source": [
    "series.describe()"
   ]
  },
  {
   "cell_type": "code",
   "execution_count": null,
   "metadata": {
    "ExecuteTime": {
     "end_time": "2020-10-27T20:51:48.039328Z",
     "start_time": "2020-10-27T20:51:47.669266Z"
    }
   },
   "outputs": [],
   "source": [
    "plot_hist(series, col, bins=7)"
   ]
  },
  {
   "cell_type": "markdown",
   "metadata": {},
   "source": [
    "So the most common value is around $220k with a right-skewed distribution."
   ]
  },
  {
   "cell_type": "code",
   "execution_count": null,
   "metadata": {
    "ExecuteTime": {
     "end_time": "2020-10-27T20:52:35.201748Z",
     "start_time": "2020-10-27T20:52:34.851647Z"
    }
   },
   "outputs": [],
   "source": [
    "plot_ecdf(series, col)"
   ]
  },
  {
   "cell_type": "markdown",
   "metadata": {},
   "source": [
    "More than 90% of the properties are valued less than ~$280K"
   ]
  },
  {
   "cell_type": "markdown",
   "metadata": {},
   "source": [
    "## Check for features interdependence\n",
    "I'd like to drop highly interdependent features. Since there are so many to check, I'll group, compare, and select them first by major categories (area and fixtures), and then repeat the process for the final feature selection. "
   ]
  },
  {
   "cell_type": "markdown",
   "metadata": {},
   "source": [
    "## Area metric\n",
    "\n",
    "These features were encountered first on the notebook: [notebooks/01_Exploratory/1.0-rp-hcad-data-view-building-res](1.0-rp-hcad-data-view-building-res.ipynb) and [notebooks/01_Exploratory/1.0-rp-hcad-data-view-exterior](1.0-rp-hcad-data-view-exterior.ipynb).\n",
    "\n",
    "Here is a brief description:\n",
    "\n",
    "1. im_sq_ft: Improvement area.\n",
    "2. act_ar: Actual area. For residential properties this is the base area of the house.\n",
    "3. heat_ar: Living Area or Building sqft of a residential building. \n",
    "4. gross_ar: Usually equal to Actual area, except in 1+1/2 story houses. Commercial properties do not use Gross Area.\n",
    "5. eff_ar: Effective area. This is used in determining the market value of the improvements, but there is no clear definition in the HCAD website.\n",
    "6. base_area_upr: Possibly the upper floor base area."
   ]
  },
  {
   "cell_type": "code",
   "execution_count": null,
   "metadata": {
    "ExecuteTime": {
     "end_time": "2020-10-27T20:53:02.965563Z",
     "start_time": "2020-10-27T20:53:02.730195Z"
    }
   },
   "outputs": [],
   "source": [
    "areas = [\n",
    "    'act_ar',\n",
    "    'gross_ar',\n",
    "    'eff_ar',\n",
    "    'im_sq_ft',\n",
    "    'heat_ar',\n",
    "    'bld_ar',\n",
    "    'base_area_upr',\n",
    "    'perimeter'\n",
    "]"
   ]
  },
  {
   "cell_type": "code",
   "execution_count": null,
   "metadata": {
    "ExecuteTime": {
     "end_time": "2020-10-27T20:53:12.414312Z",
     "start_time": "2020-10-27T20:53:03.226271Z"
    }
   },
   "outputs": [],
   "source": [
    "_ = sns.pairplot(subdiv_finished.loc[:, areas])"
   ]
  },
  {
   "cell_type": "code",
   "execution_count": null,
   "metadata": {
    "ExecuteTime": {
     "end_time": "2020-10-27T20:53:13.168259Z",
     "start_time": "2020-10-27T20:53:12.416269Z"
    }
   },
   "outputs": [],
   "source": [
    "plt.figure(figsize=(14,12))\n",
    "_ = sns.heatmap(subdiv_finished.loc[:, areas].corr(), linewidths=0.1, cmap='YlGnBu', annot=True)\n",
    "_ = plt.title(f'Pearson correlation heatmap: Areas')"
   ]
  },
  {
   "cell_type": "markdown",
   "metadata": {},
   "source": [
    "Since most areas are highly correlated between them, we can select one to continue our analysis. In addition, `base_area_upr` and `perimeter` are highly correlated so we can also select one of these two. From this group, I think the most accessible features are the improvement area (`im_sq_ft`) since it represents the sum of all the areas of the buildings in the property and the perimeter. These values should be relatively easy to obtain for a homeowner. "
   ]
  },
  {
   "cell_type": "markdown",
   "metadata": {},
   "source": [
    "## Fixtures"
   ]
  },
  {
   "cell_type": "code",
   "execution_count": null,
   "metadata": {
    "ExecuteTime": {
     "end_time": "2020-10-27T20:53:32.737993Z",
     "start_time": "2020-10-27T20:53:32.430817Z"
    }
   },
   "outputs": [],
   "source": [
    "fixtures = [\n",
    "    'fixtures_total',\n",
    "    'room_half_bath',\n",
    "    'room_total',\n",
    "    'room_bedroom',\n",
    "    'room_rec',\n",
    "    'room_full_bath',\n",
    "    'story_height_index'\n",
    "]"
   ]
  },
  {
   "cell_type": "code",
   "execution_count": null,
   "metadata": {
    "ExecuteTime": {
     "end_time": "2020-10-27T20:53:33.803515Z",
     "start_time": "2020-10-27T20:53:32.955785Z"
    }
   },
   "outputs": [],
   "source": [
    "plt.figure(figsize=(14,12))\n",
    "_ = sns.heatmap(subdiv_finished.loc[:, fixtures].corr(), linewidths=0.1, cmap='YlGnBu', annot=True)\n",
    "_ = plt.title(f'Pearson correlation heatmap: Fixtures')"
   ]
  },
  {
   "cell_type": "code",
   "execution_count": null,
   "metadata": {
    "ExecuteTime": {
     "end_time": "2020-10-27T20:53:36.880167Z",
     "start_time": "2020-10-27T20:53:35.685469Z"
    },
    "scrolled": false
   },
   "outputs": [],
   "source": [
    "for fixture in fixtures:\n",
    "    fig, ax = plt.subplots(figsize=(8,8))\n",
    "    ax = sns.stripplot(x=fixture, y='tot_appr_val', data=subdiv_finished)\n",
    "    \n",
    "    # Calculate number of obs per group & median to position labels\n",
    "    medians = subdiv_finished.groupby([fixture])['tot_appr_val'].median().values\n",
    "    nobs = subdiv_finished[fixture].value_counts().sort_index().values\n",
    "    nobs = [str(x) for x in nobs.tolist()]\n",
    "    nobs = [\"n: \" + i for i in nobs]\n",
    "\n",
    "    # Add it to the plot\n",
    "    pos = range(len(nobs))\n",
    "    for tick,label in zip(pos,ax.get_xticklabels()):\n",
    "        ax.text(pos[tick], medians[tick] + 0.03, nobs[tick],\n",
    "        horizontalalignment='center', size='medium', color='k', weight='bold')"
   ]
  },
  {
   "cell_type": "markdown",
   "metadata": {},
   "source": [
    "It looks like independently of the selected fixture, the more the merrier (more valuable house). Also, they are not as well correlated between them as the house areas evaluated before."
   ]
  },
  {
   "cell_type": "markdown",
   "metadata": {},
   "source": [
    "# Check independence of selected features"
   ]
  },
  {
   "cell_type": "markdown",
   "metadata": {},
   "source": [
    "## Is the total number of bathrooms a function of the house size?"
   ]
  },
  {
   "cell_type": "code",
   "execution_count": null,
   "metadata": {
    "ExecuteTime": {
     "end_time": "2020-10-27T20:54:14.459613Z",
     "start_time": "2020-10-27T20:54:14.094589Z"
    }
   },
   "outputs": [],
   "source": [
    "fig, ax = plt.subplots(figsize=(8,8))\n",
    "_ = sns.stripplot(x='room_full_bath', y='im_sq_ft', data=subdiv_finished)\n",
    "\n",
    "# Calculate number of obs per group & median to position labels\n",
    "medians = subdiv_finished.groupby(['room_full_bath'])['im_sq_ft'].median().values\n",
    "nobs = subdiv_finished['room_full_bath'].value_counts().sort_index().values\n",
    "nobs = [str(x) for x in nobs.tolist()]\n",
    "nobs = [\"n: \" + i for i in nobs]\n",
    "\n",
    "# Add it to the plot\n",
    "pos = range(len(nobs))\n",
    "for tick,label in zip(pos,ax.get_xticklabels()):\n",
    "    ax.text(pos[tick], medians[tick] + 0.03, nobs[tick],\n",
    "    horizontalalignment='center', size='medium', color='k', weight='bold')"
   ]
  },
  {
   "cell_type": "markdown",
   "metadata": {},
   "source": [
    "It looks like the bigger the house the more full bathrooms it has.\n",
    "\n",
    "I think there is enough variability in this plot to keep both features."
   ]
  },
  {
   "cell_type": "markdown",
   "metadata": {},
   "source": [
    "## Re-run sweetviz on selected features"
   ]
  },
  {
   "cell_type": "code",
   "execution_count": null,
   "metadata": {
    "ExecuteTime": {
     "end_time": "2020-10-27T20:54:22.036074Z",
     "start_time": "2020-10-27T20:54:21.830623Z"
    }
   },
   "outputs": [],
   "source": [
    "keep = [\n",
    "    'tot_appr_val',\n",
    "    'prior_tot_appr_val',\n",
    "    'im_sq_ft',\n",
    "    'perimeter',\n",
    "    'fixtures_total',\n",
    "    'room_half_bath',\n",
    "    'room_total',\n",
    "    'room_bedroom',\n",
    "    'room_rec',\n",
    "    'room_full_bath',\n",
    "    'story_height_index'\n",
    "]"
   ]
  },
  {
   "cell_type": "code",
   "execution_count": null,
   "metadata": {
    "ExecuteTime": {
     "end_time": "2020-10-27T20:54:22.503106Z",
     "start_time": "2020-10-27T20:54:22.289644Z"
    }
   },
   "outputs": [],
   "source": [
    "features = subdiv_finished.loc[:, keep]"
   ]
  },
  {
   "cell_type": "code",
   "execution_count": null,
   "metadata": {
    "ExecuteTime": {
     "end_time": "2020-10-27T20:54:22.997070Z",
     "start_time": "2020-10-27T20:54:22.779597Z"
    }
   },
   "outputs": [],
   "source": [
    "if False:\n",
    "    my_report = sv.analyze(features, target_feat='tot_appr_val')\n",
    "    my_report.show_html(filepath='SWEETVIZ_REPORT_subdivision_finished_features.html')"
   ]
  },
  {
   "cell_type": "markdown",
   "metadata": {},
   "source": [
    "Now the dependency between the selected features is clear in the sweetviz association plot:\n",
    "\n",
    "![Sweetviz selected features only association](figures/sv_features_association_subdivision_finished.png)\n",
    "\n",
    "There is a lot of dependence between these features, so we need to approach the modeling step one feature at a time, to understand the contribution of each to the prediction.\n",
    "\n",
    "Next, we should build a model to predict the value of the target house given the data."
   ]
  },
  {
   "cell_type": "markdown",
   "metadata": {},
   "source": [
    "# Export features"
   ]
  },
  {
   "cell_type": "code",
   "execution_count": null,
   "metadata": {
    "ExecuteTime": {
     "end_time": "2020-10-27T20:54:27.515627Z",
     "start_time": "2020-10-27T20:54:27.251334Z"
    }
   },
   "outputs": [],
   "source": [
    "save_fn = ROOT_DIR / 'data/interim/2016/features.pickle'\n",
    "save_pickle(features, save_fn)"
   ]
  },
  {
   "cell_type": "code",
   "execution_count": null,
   "metadata": {},
   "outputs": [],
   "source": []
  },
  {
   "cell_type": "code",
   "execution_count": null,
   "metadata": {},
   "outputs": [],
   "source": []
  },
  {
   "cell_type": "code",
   "execution_count": null,
   "metadata": {},
   "outputs": [],
   "source": []
  },
  {
   "cell_type": "code",
   "execution_count": null,
   "metadata": {},
   "outputs": [],
   "source": []
  },
  {
   "cell_type": "markdown",
   "metadata": {},
   "source": [
    "## Build linear model"
   ]
  },
  {
   "cell_type": "code",
   "execution_count": null,
   "metadata": {
    "ExecuteTime": {
     "end_time": "2020-10-26T09:21:29.848047Z",
     "start_time": "2020-10-26T09:21:29.505014Z"
    }
   },
   "outputs": [],
   "source": [
    "from sklearn import linear_model\n",
    "from sklearn.model_selection import train_test_split\n",
    "from sklearn.metrics import mean_squared_error"
   ]
  },
  {
   "cell_type": "code",
   "execution_count": null,
   "metadata": {
    "ExecuteTime": {
     "end_time": "2020-10-26T09:21:30.449939Z",
     "start_time": "2020-10-26T09:21:30.432935Z"
    }
   },
   "outputs": [],
   "source": [
    "X = comps['prior_tot_appr_val']\n",
    "y = comps['yy_pct_change']"
   ]
  },
  {
   "cell_type": "code",
   "execution_count": null,
   "metadata": {
    "ExecuteTime": {
     "end_time": "2020-10-26T09:21:32.055172Z",
     "start_time": "2020-10-26T09:21:31.962436Z"
    }
   },
   "outputs": [],
   "source": [
    "X_train, X_test, y_train, y_test = train_test_split(X, y, test_size=0.3, random_state=42)"
   ]
  },
  {
   "cell_type": "code",
   "execution_count": null,
   "metadata": {
    "ExecuteTime": {
     "end_time": "2020-10-26T09:21:33.474063Z",
     "start_time": "2020-10-26T09:21:33.444213Z"
    }
   },
   "outputs": [],
   "source": [
    "model = linear_model.LinearRegression()"
   ]
  },
  {
   "cell_type": "code",
   "execution_count": null,
   "metadata": {
    "ExecuteTime": {
     "end_time": "2020-10-26T09:21:34.540408Z",
     "start_time": "2020-10-26T09:21:34.497593Z"
    }
   },
   "outputs": [],
   "source": [
    "X_train = X_train.to_numpy().reshape(-1, 1)\n",
    "model.fit(X_train, y_train)"
   ]
  },
  {
   "cell_type": "code",
   "execution_count": null,
   "metadata": {
    "ExecuteTime": {
     "end_time": "2020-10-26T09:21:35.354892Z",
     "start_time": "2020-10-26T09:21:35.322403Z"
    }
   },
   "outputs": [],
   "source": [
    "model.score(X_train, y_train)"
   ]
  },
  {
   "cell_type": "code",
   "execution_count": null,
   "metadata": {
    "ExecuteTime": {
     "end_time": "2020-10-26T09:21:36.128612Z",
     "start_time": "2020-10-26T09:21:36.108719Z"
    }
   },
   "outputs": [],
   "source": [
    "X_test = X_test.to_numpy().reshape(-1, 1)\n",
    "y_pred = model.predict(X_test)"
   ]
  },
  {
   "cell_type": "code",
   "execution_count": null,
   "metadata": {
    "ExecuteTime": {
     "end_time": "2020-10-26T09:24:42.395377Z",
     "start_time": "2020-10-26T09:24:40.400768Z"
    }
   },
   "outputs": [],
   "source": [
    "x = X.to_numpy().reshape(-1, 1)\n",
    "\n",
    "plt.figure(figsize=(10, 10))\n",
    "_ = plt.scatter(x, y, marker='.', label='All data')\n",
    "_ = plt.plot(x, model.predict(x), color='red', label='Prediction')\n",
    "_ = plt.xlabel('prior_tot_appr_val')\n",
    "_ = plt.ylabel('yy_pct_change')\n",
    "\n",
    "_ = plt.legend(loc='lower right')"
   ]
  },
  {
   "cell_type": "code",
   "execution_count": null,
   "metadata": {
    "ExecuteTime": {
     "end_time": "2020-10-26T09:28:04.373268Z",
     "start_time": "2020-10-26T09:28:03.454254Z"
    }
   },
   "outputs": [],
   "source": [
    "plt.figure(figsize=(10, 10))\n",
    "_ = plt.scatter(y_test, y_pred, marker='.', label='Predicted and actual')\n",
    "_ = plt.plot([-1, 1], [-1, 1], color='black', label='Perfect corr. line')\n",
    "_ = plt.xlabel('Actual yy_pct_change')\n",
    "_ = plt.ylabel('Predicted yy_pct_change')\n",
    "\n",
    "_ = plt.legend(loc='lower right')"
   ]
  },
  {
   "cell_type": "code",
   "execution_count": null,
   "metadata": {
    "ExecuteTime": {
     "end_time": "2020-10-26T09:22:36.198994Z",
     "start_time": "2020-10-26T09:22:36.178252Z"
    }
   },
   "outputs": [],
   "source": [
    "mean_squared_error(y_test, y_pred)"
   ]
  },
  {
   "cell_type": "code",
   "execution_count": null,
   "metadata": {
    "ExecuteTime": {
     "end_time": "2020-10-26T09:52:51.567761Z",
     "start_time": "2020-10-26T09:52:51.545065Z"
    }
   },
   "outputs": [],
   "source": [
    "x = model.predict(X_train)\n",
    "y = y_train - x"
   ]
  },
  {
   "cell_type": "code",
   "execution_count": null,
   "metadata": {
    "ExecuteTime": {
     "end_time": "2020-10-26T09:53:03.632600Z",
     "start_time": "2020-10-26T09:53:02.296550Z"
    }
   },
   "outputs": [],
   "source": [
    "plt.figure(figsize=(10, 10))\n",
    "_ = plt.scatter(x, y, marker='.', label='Residuals')\n",
    "_ = plt.xlabel('Fitted yy_pct_change (predicted)')\n",
    "_ = plt.ylabel('Residual')"
   ]
  },
  {
   "cell_type": "markdown",
   "metadata": {},
   "source": [
    "But since there is a wide range of appraised values, it might be best to focus on the percent change difference from last to this year, so we can observe if there is a pattern using all the samples."
   ]
  }
 ],
 "metadata": {
  "kernelspec": {
   "display_name": "hcad_pred",
   "language": "python",
   "name": "hcad_pred"
  },
  "language_info": {
   "codemirror_mode": {
    "name": "ipython",
    "version": 3
   },
   "file_extension": ".py",
   "mimetype": "text/x-python",
   "name": "python",
   "nbconvert_exporter": "python",
   "pygments_lexer": "ipython3",
   "version": "3.7.8"
  },
  "toc": {
   "base_numbering": 1,
   "nav_menu": {},
   "number_sections": true,
   "sideBar": true,
   "skip_h1_title": false,
   "title_cell": "Table of Contents",
   "title_sidebar": "Contents",
   "toc_cell": false,
   "toc_position": {},
   "toc_section_display": true,
   "toc_window_display": false
  }
 },
 "nbformat": 4,
 "nbformat_minor": 4
}
