{
 "cells": [
  {
   "cell_type": "markdown",
   "metadata": {},
   "source": [
    "# Load previously cleaned and merged properties (comps)\n",
    "\n",
    "The file being imported below was constructed in the last seven exploratory notebooks (1.0 to 1.6). These data have been cleaned and merged so we can start the exploratory data analysis."
   ]
  },
  {
   "cell_type": "code",
   "execution_count": 1,
   "metadata": {
    "ExecuteTime": {
     "end_time": "2020-11-04T22:10:07.222675Z",
     "start_time": "2020-11-04T22:10:07.207549Z"
    }
   },
   "outputs": [],
   "source": [
    "%load_ext autoreload\n",
    "%autoreload 2"
   ]
  },
  {
   "cell_type": "code",
   "execution_count": 2,
   "metadata": {
    "ExecuteTime": {
     "end_time": "2020-11-04T22:10:08.802916Z",
     "start_time": "2020-11-04T22:10:07.224842Z"
    }
   },
   "outputs": [],
   "source": [
    "from pathlib import Path\n",
    "import pickle\n",
    "\n",
    "import numpy as np\n",
    "import pandas as pd\n",
    "\n",
    "import matplotlib.pyplot as plt\n",
    "import seaborn as sns\n",
    "\n",
    "from src.definitions import ROOT_DIR\n",
    "from src.data.utils import Table, save_pickle"
   ]
  },
  {
   "cell_type": "code",
   "execution_count": 3,
   "metadata": {
    "ExecuteTime": {
     "end_time": "2020-11-04T22:10:08.824585Z",
     "start_time": "2020-11-04T22:10:08.805130Z"
    }
   },
   "outputs": [],
   "source": [
    "plt.style.use('seaborn-poster')"
   ]
  },
  {
   "cell_type": "code",
   "execution_count": 4,
   "metadata": {
    "ExecuteTime": {
     "end_time": "2020-11-04T22:10:13.935625Z",
     "start_time": "2020-11-04T22:10:08.826642Z"
    }
   },
   "outputs": [],
   "source": [
    "comps_fn = ROOT_DIR / 'data/interim/2016/comps.pickle'\n",
    "assert comps_fn.exists()\n",
    "\n",
    "with open(comps_fn, 'rb') as f:\n",
    "    comps = pickle.load(f)"
   ]
  },
  {
   "cell_type": "code",
   "execution_count": 5,
   "metadata": {
    "ExecuteTime": {
     "end_time": "2020-11-04T22:10:13.956787Z",
     "start_time": "2020-11-04T22:10:13.937288Z"
    }
   },
   "outputs": [
    {
     "data": {
      "text/plain": [
       "(957686, 83)"
      ]
     },
     "execution_count": 5,
     "metadata": {},
     "output_type": "execute_result"
    }
   ],
   "source": [
    "comps.shape"
   ]
  },
  {
   "cell_type": "code",
   "execution_count": 6,
   "metadata": {
    "ExecuteTime": {
     "end_time": "2020-11-04T22:10:15.087866Z",
     "start_time": "2020-11-04T22:10:13.959248Z"
    }
   },
   "outputs": [
    {
     "name": "stdout",
     "output_type": "stream",
     "text": [
      "<class 'pandas.core.frame.DataFrame'>\n",
      "Int64Index: 957686 entries, 0 to 957685\n",
      "Data columns (total 83 columns):\n",
      " #   Column                                          Non-Null Count   Dtype         \n",
      "---  ------                                          --------------   -----         \n",
      " 0   acct                                            957686 non-null  uint64        \n",
      " 1   dscr                                            957686 non-null  category      \n",
      " 2   date_erected                                    957686 non-null  uint16        \n",
      " 3   yr_remodel                                      86406 non-null   float64       \n",
      " 4   im_sq_ft                                        957683 non-null  float64       \n",
      " 5   act_ar                                          957686 non-null  uint16        \n",
      " 6   heat_ar                                         957682 non-null  float64       \n",
      " 7   gross_ar                                        957686 non-null  uint16        \n",
      " 8   eff_ar                                          957685 non-null  float64       \n",
      " 9   perimeter                                       956517 non-null  float64       \n",
      " 10  fireplace_masonry_firebrick                     957686 non-null  float32       \n",
      " 11  fireplace_metal_prefab                          957686 non-null  float32       \n",
      " 12  fixtures_addl                                   957686 non-null  float32       \n",
      " 13  fixtures_total                                  957686 non-null  float32       \n",
      " 14  room_bedroom                                    957686 non-null  float32       \n",
      " 15  room_full_bath                                  957686 non-null  float32       \n",
      " 16  room_half_bath                                  957686 non-null  float32       \n",
      " 17  room_rec                                        957686 non-null  float32       \n",
      " 18  room_total                                      957686 non-null  float32       \n",
      " 19  story_height_index                              957686 non-null  float32       \n",
      " 20  zip_code                                        957640 non-null  float64       \n",
      " 21  school_dist                                     957631 non-null  object        \n",
      " 22  neighborhood_code                               957685 non-null  object        \n",
      " 23  market_area_1_dscr                              957686 non-null  object        \n",
      " 24  market_area_2_dscr                              957686 non-null  object        \n",
      " 25  center_code                                     957308 non-null  object        \n",
      " 26  bld_ar                                          957683 non-null  float64       \n",
      " 27  land_ar                                         956654 non-null  float64       \n",
      " 28  acreage                                         957686 non-null  float64       \n",
      " 29  land_val                                        957682 non-null  float64       \n",
      " 30  tot_appr_val                                    957682 non-null  float64       \n",
      " 31  prior_land_val                                  956020 non-null  float64       \n",
      " 32  prior_tot_appr_val                              956020 non-null  float64       \n",
      " 33  new_own_dt                                      957677 non-null  datetime64[ns]\n",
      " 34  lgl_1                                           957686 non-null  object        \n",
      " 35  lgl_2                                           957680 non-null  object        \n",
      " 36  basic_outdoor_kitchen_uts                       429697 non-null  float64       \n",
      " 37  brick_or_stone_detached_garage_uts              429697 non-null  float64       \n",
      " 38  canopy_residential_uts                          429697 non-null  float64       \n",
      " 39  carport_residential_uts                         429697 non-null  float64       \n",
      " 40  cracked_slab_uts                                429697 non-null  float64       \n",
      " 41  custom_outdoor_kitchen_uts                      429697 non-null  float64       \n",
      " 42  foundation_repaired_uts                         429697 non-null  float64       \n",
      " 43  frame_detached_garage_uts                       429697 non-null  float64       \n",
      " 44  frame_detached_garage_w_living_area_abov_uts    429697 non-null  float64       \n",
      " 45  frame_utility_shed_uts                          429697 non-null  float64       \n",
      " 46  gunite_pool_uts                                 429697 non-null  float64       \n",
      " 47  metal_utility_shed_uts                          429697 non-null  float64       \n",
      " 48  pool_spa_with_heater_uts                        429697 non-null  float64       \n",
      " 49  reinforced_concrete_pool_uts                    429697 non-null  float64       \n",
      " 50  residential_other_gross_value_uts               429697 non-null  float64       \n",
      " 51  basic_outdoor_kitchen_grade                     2303 non-null    float64       \n",
      " 52  brick_or_stone_detached_garage_grade            13743 non-null   float64       \n",
      " 53  canopy_residential_grade                        80708 non-null   float64       \n",
      " 54  carport_residential_grade                       73048 non-null   float64       \n",
      " 55  cracked_slab_grade                              16121 non-null   float64       \n",
      " 56  custom_outdoor_kitchen_grade                    4294 non-null    float64       \n",
      " 57  foundation_repaired_grade                       17653 non-null   float64       \n",
      " 58  frame_detached_garage_grade                     180706 non-null  float64       \n",
      " 59  frame_detached_garage_w_living_area_abov_grade  7047 non-null    float64       \n",
      " 60  frame_utility_shed_grade                        87818 non-null   float64       \n",
      " 61  gunite_pool_grade                               87950 non-null   float64       \n",
      " 62  metal_utility_shed_grade                        18365 non-null   float64       \n",
      " 63  pool_spa_with_heater_grade                      37212 non-null   float64       \n",
      " 64  reinforced_concrete_pool_grade                  3729 non-null    float64       \n",
      " 65  residential_other_gross_value_grade             14549 non-null   float64       \n",
      " 66  base_area_pri                                   957683 non-null  float64       \n",
      " 67  base_area_upr                                   957683 non-null  float64       \n",
      " 68  frame_garage_pri                                957683 non-null  float64       \n",
      " 69  mas_brk_garage_pri                              957683 non-null  float64       \n",
      " 70  mas_conc_patio_pri                              957683 non-null  float64       \n",
      " 71  one_story_frame_pri                             957683 non-null  float64       \n",
      " 72  one_story_frame_upr                             957683 non-null  float64       \n",
      " 73  one_story_mas_pri                               957683 non-null  float64       \n",
      " 74  open_frame_porch_pri                            957683 non-null  float64       \n",
      " 75  open_mas_porch_pri                              957683 non-null  float64       \n",
      " 76  cond_desir_util                                 957686 non-null  category      \n",
      " 77  cost_and_design                                 152261 non-null  category      \n",
      " 78  exterior_wall                                   957685 non-null  category      \n",
      " 79  foundation_type                                 957686 non-null  category      \n",
      " 80  grade_adjustment                                957686 non-null  category      \n",
      " 81  heating_ac                                      957685 non-null  category      \n",
      " 82  physical_condition                              957686 non-null  category      \n",
      "dtypes: category(8), datetime64[ns](1), float32(10), float64(53), object(7), uint16(3), uint64(1)\n",
      "memory usage: 509.6+ MB\n"
     ]
    }
   ],
   "source": [
    "comps.info()"
   ]
  },
  {
   "cell_type": "code",
   "execution_count": 7,
   "metadata": {
    "ExecuteTime": {
     "end_time": "2020-11-04T22:10:15.222712Z",
     "start_time": "2020-11-04T22:10:15.090175Z"
    }
   },
   "outputs": [
    {
     "data": {
      "text/html": [
       "<div>\n",
       "<style scoped>\n",
       "    .dataframe tbody tr th:only-of-type {\n",
       "        vertical-align: middle;\n",
       "    }\n",
       "\n",
       "    .dataframe tbody tr th {\n",
       "        vertical-align: top;\n",
       "    }\n",
       "\n",
       "    .dataframe thead th {\n",
       "        text-align: right;\n",
       "    }\n",
       "</style>\n",
       "<table border=\"1\" class=\"dataframe\">\n",
       "  <thead>\n",
       "    <tr style=\"text-align: right;\">\n",
       "      <th></th>\n",
       "      <th>acct</th>\n",
       "      <th>dscr</th>\n",
       "      <th>date_erected</th>\n",
       "      <th>yr_remodel</th>\n",
       "      <th>im_sq_ft</th>\n",
       "      <th>act_ar</th>\n",
       "      <th>heat_ar</th>\n",
       "      <th>gross_ar</th>\n",
       "      <th>eff_ar</th>\n",
       "      <th>perimeter</th>\n",
       "      <th>...</th>\n",
       "      <th>one_story_mas_pri</th>\n",
       "      <th>open_frame_porch_pri</th>\n",
       "      <th>open_mas_porch_pri</th>\n",
       "      <th>cond_desir_util</th>\n",
       "      <th>cost_and_design</th>\n",
       "      <th>exterior_wall</th>\n",
       "      <th>foundation_type</th>\n",
       "      <th>grade_adjustment</th>\n",
       "      <th>heating_ac</th>\n",
       "      <th>physical_condition</th>\n",
       "    </tr>\n",
       "  </thead>\n",
       "  <tbody>\n",
       "    <tr>\n",
       "      <th>141548</th>\n",
       "      <td>731800030628</td>\n",
       "      <td>Low</td>\n",
       "      <td>1948</td>\n",
       "      <td>NaN</td>\n",
       "      <td>1062.0</td>\n",
       "      <td>1570</td>\n",
       "      <td>1062.0</td>\n",
       "      <td>1570</td>\n",
       "      <td>1206.0</td>\n",
       "      <td>142.0</td>\n",
       "      <td>...</td>\n",
       "      <td>0.0</td>\n",
       "      <td>108.0</td>\n",
       "      <td>0.0</td>\n",
       "      <td>Average</td>\n",
       "      <td>NaN</td>\n",
       "      <td>Frame / Concrete Blk</td>\n",
       "      <td>Crawl Space</td>\n",
       "      <td>D+</td>\n",
       "      <td>None</td>\n",
       "      <td>Average</td>\n",
       "    </tr>\n",
       "    <tr>\n",
       "      <th>148882</th>\n",
       "      <td>741360090057</td>\n",
       "      <td>Low</td>\n",
       "      <td>1940</td>\n",
       "      <td>NaN</td>\n",
       "      <td>836.0</td>\n",
       "      <td>1116</td>\n",
       "      <td>836.0</td>\n",
       "      <td>1116</td>\n",
       "      <td>878.0</td>\n",
       "      <td>120.0</td>\n",
       "      <td>...</td>\n",
       "      <td>0.0</td>\n",
       "      <td>0.0</td>\n",
       "      <td>0.0</td>\n",
       "      <td>Poor</td>\n",
       "      <td>NaN</td>\n",
       "      <td>Frame / Concrete Blk</td>\n",
       "      <td>Crawl Space</td>\n",
       "      <td>D-</td>\n",
       "      <td>None</td>\n",
       "      <td>Average</td>\n",
       "    </tr>\n",
       "    <tr>\n",
       "      <th>224073</th>\n",
       "      <td>833140000081</td>\n",
       "      <td>Average</td>\n",
       "      <td>1955</td>\n",
       "      <td>NaN</td>\n",
       "      <td>863.0</td>\n",
       "      <td>1251</td>\n",
       "      <td>863.0</td>\n",
       "      <td>1251</td>\n",
       "      <td>1007.0</td>\n",
       "      <td>160.0</td>\n",
       "      <td>...</td>\n",
       "      <td>0.0</td>\n",
       "      <td>64.0</td>\n",
       "      <td>0.0</td>\n",
       "      <td>Average</td>\n",
       "      <td>NaN</td>\n",
       "      <td>Brick / Veneer</td>\n",
       "      <td>Slab</td>\n",
       "      <td>C</td>\n",
       "      <td>Central Heat/AC</td>\n",
       "      <td>Average</td>\n",
       "    </tr>\n",
       "    <tr>\n",
       "      <th>46833</th>\n",
       "      <td>422260040034</td>\n",
       "      <td>Low</td>\n",
       "      <td>1954</td>\n",
       "      <td>NaN</td>\n",
       "      <td>760.0</td>\n",
       "      <td>778</td>\n",
       "      <td>760.0</td>\n",
       "      <td>778</td>\n",
       "      <td>766.0</td>\n",
       "      <td>116.0</td>\n",
       "      <td>...</td>\n",
       "      <td>0.0</td>\n",
       "      <td>18.0</td>\n",
       "      <td>0.0</td>\n",
       "      <td>Fair</td>\n",
       "      <td>NaN</td>\n",
       "      <td>Frame / Concrete Blk</td>\n",
       "      <td>Crawl Space</td>\n",
       "      <td>D</td>\n",
       "      <td>None</td>\n",
       "      <td>Average</td>\n",
       "    </tr>\n",
       "    <tr>\n",
       "      <th>880351</th>\n",
       "      <td>1281110010016</td>\n",
       "      <td>Average</td>\n",
       "      <td>2010</td>\n",
       "      <td>NaN</td>\n",
       "      <td>2052.0</td>\n",
       "      <td>2597</td>\n",
       "      <td>2052.0</td>\n",
       "      <td>2597</td>\n",
       "      <td>2129.0</td>\n",
       "      <td>306.0</td>\n",
       "      <td>...</td>\n",
       "      <td>0.0</td>\n",
       "      <td>100.0</td>\n",
       "      <td>45.0</td>\n",
       "      <td>Average</td>\n",
       "      <td>NaN</td>\n",
       "      <td>Frame / Concrete Blk</td>\n",
       "      <td>Slab</td>\n",
       "      <td>C</td>\n",
       "      <td>Central Heat/AC</td>\n",
       "      <td>Average</td>\n",
       "    </tr>\n",
       "    <tr>\n",
       "      <th>708391</th>\n",
       "      <td>1199710030017</td>\n",
       "      <td>Good</td>\n",
       "      <td>2001</td>\n",
       "      <td>NaN</td>\n",
       "      <td>3384.0</td>\n",
       "      <td>3823</td>\n",
       "      <td>3384.0</td>\n",
       "      <td>3823</td>\n",
       "      <td>3440.0</td>\n",
       "      <td>440.0</td>\n",
       "      <td>...</td>\n",
       "      <td>1286.0</td>\n",
       "      <td>0.0</td>\n",
       "      <td>59.0</td>\n",
       "      <td>Good</td>\n",
       "      <td>NaN</td>\n",
       "      <td>Frame / Concrete Blk</td>\n",
       "      <td>Slab</td>\n",
       "      <td>B-</td>\n",
       "      <td>Central Heat/AC</td>\n",
       "      <td>Average</td>\n",
       "    </tr>\n",
       "    <tr>\n",
       "      <th>279873</th>\n",
       "      <td>923970000183</td>\n",
       "      <td>Good</td>\n",
       "      <td>1962</td>\n",
       "      <td>2014.0</td>\n",
       "      <td>3020.0</td>\n",
       "      <td>3068</td>\n",
       "      <td>3020.0</td>\n",
       "      <td>3068</td>\n",
       "      <td>2950.0</td>\n",
       "      <td>332.0</td>\n",
       "      <td>...</td>\n",
       "      <td>0.0</td>\n",
       "      <td>48.0</td>\n",
       "      <td>0.0</td>\n",
       "      <td>Excellent</td>\n",
       "      <td>Total</td>\n",
       "      <td>Brick / Veneer</td>\n",
       "      <td>Slab</td>\n",
       "      <td>B-</td>\n",
       "      <td>Central Heat/AC</td>\n",
       "      <td>Excellent</td>\n",
       "    </tr>\n",
       "    <tr>\n",
       "      <th>674532</th>\n",
       "      <td>1181680020034</td>\n",
       "      <td>Good</td>\n",
       "      <td>1995</td>\n",
       "      <td>NaN</td>\n",
       "      <td>3010.0</td>\n",
       "      <td>3538</td>\n",
       "      <td>3010.0</td>\n",
       "      <td>3538</td>\n",
       "      <td>2970.0</td>\n",
       "      <td>384.0</td>\n",
       "      <td>...</td>\n",
       "      <td>84.0</td>\n",
       "      <td>80.0</td>\n",
       "      <td>0.0</td>\n",
       "      <td>Very Good</td>\n",
       "      <td>NaN</td>\n",
       "      <td>Brick / Veneer</td>\n",
       "      <td>Slab</td>\n",
       "      <td>B</td>\n",
       "      <td>Central Heat/AC</td>\n",
       "      <td>Average</td>\n",
       "    </tr>\n",
       "    <tr>\n",
       "      <th>761362</th>\n",
       "      <td>1229300010036</td>\n",
       "      <td>Average</td>\n",
       "      <td>2007</td>\n",
       "      <td>NaN</td>\n",
       "      <td>2024.0</td>\n",
       "      <td>2428</td>\n",
       "      <td>2024.0</td>\n",
       "      <td>2428</td>\n",
       "      <td>2098.0</td>\n",
       "      <td>304.0</td>\n",
       "      <td>...</td>\n",
       "      <td>0.0</td>\n",
       "      <td>0.0</td>\n",
       "      <td>24.0</td>\n",
       "      <td>Average</td>\n",
       "      <td>NaN</td>\n",
       "      <td>Frame / Concrete Blk</td>\n",
       "      <td>Slab</td>\n",
       "      <td>C+</td>\n",
       "      <td>Central Heat/AC</td>\n",
       "      <td>Average</td>\n",
       "    </tr>\n",
       "    <tr>\n",
       "      <th>631887</th>\n",
       "      <td>1163150030020</td>\n",
       "      <td>Average</td>\n",
       "      <td>1995</td>\n",
       "      <td>NaN</td>\n",
       "      <td>1710.0</td>\n",
       "      <td>2187</td>\n",
       "      <td>1710.0</td>\n",
       "      <td>2187</td>\n",
       "      <td>1890.0</td>\n",
       "      <td>240.0</td>\n",
       "      <td>...</td>\n",
       "      <td>0.0</td>\n",
       "      <td>36.0</td>\n",
       "      <td>0.0</td>\n",
       "      <td>Average</td>\n",
       "      <td>NaN</td>\n",
       "      <td>Brick / Veneer</td>\n",
       "      <td>Slab</td>\n",
       "      <td>C</td>\n",
       "      <td>Central Heat/AC</td>\n",
       "      <td>Average</td>\n",
       "    </tr>\n",
       "  </tbody>\n",
       "</table>\n",
       "<p>10 rows × 83 columns</p>\n",
       "</div>"
      ],
      "text/plain": [
       "                 acct     dscr  date_erected  yr_remodel  im_sq_ft  act_ar  \\\n",
       "141548   731800030628      Low          1948         NaN    1062.0    1570   \n",
       "148882   741360090057      Low          1940         NaN     836.0    1116   \n",
       "224073   833140000081  Average          1955         NaN     863.0    1251   \n",
       "46833    422260040034      Low          1954         NaN     760.0     778   \n",
       "880351  1281110010016  Average          2010         NaN    2052.0    2597   \n",
       "708391  1199710030017     Good          2001         NaN    3384.0    3823   \n",
       "279873   923970000183     Good          1962      2014.0    3020.0    3068   \n",
       "674532  1181680020034     Good          1995         NaN    3010.0    3538   \n",
       "761362  1229300010036  Average          2007         NaN    2024.0    2428   \n",
       "631887  1163150030020  Average          1995         NaN    1710.0    2187   \n",
       "\n",
       "        heat_ar  gross_ar  eff_ar  perimeter  ...  one_story_mas_pri  \\\n",
       "141548   1062.0      1570  1206.0      142.0  ...                0.0   \n",
       "148882    836.0      1116   878.0      120.0  ...                0.0   \n",
       "224073    863.0      1251  1007.0      160.0  ...                0.0   \n",
       "46833     760.0       778   766.0      116.0  ...                0.0   \n",
       "880351   2052.0      2597  2129.0      306.0  ...                0.0   \n",
       "708391   3384.0      3823  3440.0      440.0  ...             1286.0   \n",
       "279873   3020.0      3068  2950.0      332.0  ...                0.0   \n",
       "674532   3010.0      3538  2970.0      384.0  ...               84.0   \n",
       "761362   2024.0      2428  2098.0      304.0  ...                0.0   \n",
       "631887   1710.0      2187  1890.0      240.0  ...                0.0   \n",
       "\n",
       "        open_frame_porch_pri  open_mas_porch_pri  cond_desir_util  \\\n",
       "141548                 108.0                 0.0          Average   \n",
       "148882                   0.0                 0.0             Poor   \n",
       "224073                  64.0                 0.0          Average   \n",
       "46833                   18.0                 0.0             Fair   \n",
       "880351                 100.0                45.0          Average   \n",
       "708391                   0.0                59.0             Good   \n",
       "279873                  48.0                 0.0        Excellent   \n",
       "674532                  80.0                 0.0        Very Good   \n",
       "761362                   0.0                24.0          Average   \n",
       "631887                  36.0                 0.0          Average   \n",
       "\n",
       "        cost_and_design         exterior_wall  foundation_type  \\\n",
       "141548              NaN  Frame / Concrete Blk      Crawl Space   \n",
       "148882              NaN  Frame / Concrete Blk      Crawl Space   \n",
       "224073              NaN        Brick / Veneer             Slab   \n",
       "46833               NaN  Frame / Concrete Blk      Crawl Space   \n",
       "880351              NaN  Frame / Concrete Blk             Slab   \n",
       "708391              NaN  Frame / Concrete Blk             Slab   \n",
       "279873            Total        Brick / Veneer             Slab   \n",
       "674532              NaN        Brick / Veneer             Slab   \n",
       "761362              NaN  Frame / Concrete Blk             Slab   \n",
       "631887              NaN        Brick / Veneer             Slab   \n",
       "\n",
       "        grade_adjustment       heating_ac  physical_condition  \n",
       "141548                D+             None             Average  \n",
       "148882                D-             None             Average  \n",
       "224073                 C  Central Heat/AC             Average  \n",
       "46833                  D             None             Average  \n",
       "880351                 C  Central Heat/AC             Average  \n",
       "708391                B-  Central Heat/AC             Average  \n",
       "279873                B-  Central Heat/AC           Excellent  \n",
       "674532                 B  Central Heat/AC             Average  \n",
       "761362                C+  Central Heat/AC             Average  \n",
       "631887                 C  Central Heat/AC             Average  \n",
       "\n",
       "[10 rows x 83 columns]"
      ]
     },
     "execution_count": 7,
     "metadata": {},
     "output_type": "execute_result"
    }
   ],
   "source": [
    "comps.sample(10)"
   ]
  },
  {
   "cell_type": "markdown",
   "metadata": {},
   "source": [
    "## Drop account numbers\n",
    "The account numbers are kept as a reference to the raw data, but should not be used in the EDA. Since they are unique, let's use them as index in the comps dataframe."
   ]
  },
  {
   "cell_type": "code",
   "execution_count": 8,
   "metadata": {
    "ExecuteTime": {
     "end_time": "2020-11-04T22:10:15.383696Z",
     "start_time": "2020-11-04T22:10:15.226505Z"
    }
   },
   "outputs": [
    {
     "data": {
      "text/plain": [
       "True"
      ]
     },
     "execution_count": 8,
     "metadata": {},
     "output_type": "execute_result"
    }
   ],
   "source": [
    "comps['acct'].is_unique"
   ]
  },
  {
   "cell_type": "code",
   "execution_count": 9,
   "metadata": {
    "ExecuteTime": {
     "end_time": "2020-11-04T22:10:15.415446Z",
     "start_time": "2020-11-04T22:10:15.386955Z"
    }
   },
   "outputs": [],
   "source": [
    "comps.set_index('acct', inplace=True)"
   ]
  },
  {
   "cell_type": "code",
   "execution_count": 10,
   "metadata": {
    "ExecuteTime": {
     "end_time": "2020-11-04T22:10:15.538177Z",
     "start_time": "2020-11-04T22:10:15.417566Z"
    }
   },
   "outputs": [
    {
     "data": {
      "text/html": [
       "<div>\n",
       "<style scoped>\n",
       "    .dataframe tbody tr th:only-of-type {\n",
       "        vertical-align: middle;\n",
       "    }\n",
       "\n",
       "    .dataframe tbody tr th {\n",
       "        vertical-align: top;\n",
       "    }\n",
       "\n",
       "    .dataframe thead th {\n",
       "        text-align: right;\n",
       "    }\n",
       "</style>\n",
       "<table border=\"1\" class=\"dataframe\">\n",
       "  <thead>\n",
       "    <tr style=\"text-align: right;\">\n",
       "      <th></th>\n",
       "      <th>dscr</th>\n",
       "      <th>date_erected</th>\n",
       "      <th>yr_remodel</th>\n",
       "      <th>im_sq_ft</th>\n",
       "      <th>act_ar</th>\n",
       "      <th>heat_ar</th>\n",
       "      <th>gross_ar</th>\n",
       "      <th>eff_ar</th>\n",
       "      <th>perimeter</th>\n",
       "      <th>fireplace_masonry_firebrick</th>\n",
       "      <th>...</th>\n",
       "      <th>one_story_mas_pri</th>\n",
       "      <th>open_frame_porch_pri</th>\n",
       "      <th>open_mas_porch_pri</th>\n",
       "      <th>cond_desir_util</th>\n",
       "      <th>cost_and_design</th>\n",
       "      <th>exterior_wall</th>\n",
       "      <th>foundation_type</th>\n",
       "      <th>grade_adjustment</th>\n",
       "      <th>heating_ac</th>\n",
       "      <th>physical_condition</th>\n",
       "    </tr>\n",
       "    <tr>\n",
       "      <th>acct</th>\n",
       "      <th></th>\n",
       "      <th></th>\n",
       "      <th></th>\n",
       "      <th></th>\n",
       "      <th></th>\n",
       "      <th></th>\n",
       "      <th></th>\n",
       "      <th></th>\n",
       "      <th></th>\n",
       "      <th></th>\n",
       "      <th></th>\n",
       "      <th></th>\n",
       "      <th></th>\n",
       "      <th></th>\n",
       "      <th></th>\n",
       "      <th></th>\n",
       "      <th></th>\n",
       "      <th></th>\n",
       "      <th></th>\n",
       "      <th></th>\n",
       "      <th></th>\n",
       "    </tr>\n",
       "  </thead>\n",
       "  <tbody>\n",
       "    <tr>\n",
       "      <th>772950240107</th>\n",
       "      <td>Average</td>\n",
       "      <td>1964</td>\n",
       "      <td>NaN</td>\n",
       "      <td>1726.0</td>\n",
       "      <td>2308</td>\n",
       "      <td>1726.0</td>\n",
       "      <td>2308</td>\n",
       "      <td>1752.0</td>\n",
       "      <td>166.0</td>\n",
       "      <td>0.0</td>\n",
       "      <td>...</td>\n",
       "      <td>0.0</td>\n",
       "      <td>76.0</td>\n",
       "      <td>0.0</td>\n",
       "      <td>Average</td>\n",
       "      <td>NaN</td>\n",
       "      <td>Brick / Veneer</td>\n",
       "      <td>Slab</td>\n",
       "      <td>C</td>\n",
       "      <td>Central Heat/AC</td>\n",
       "      <td>Average</td>\n",
       "    </tr>\n",
       "    <tr>\n",
       "      <th>1149450190012</th>\n",
       "      <td>Average</td>\n",
       "      <td>1982</td>\n",
       "      <td>NaN</td>\n",
       "      <td>1096.0</td>\n",
       "      <td>1514</td>\n",
       "      <td>1096.0</td>\n",
       "      <td>1514</td>\n",
       "      <td>1255.0</td>\n",
       "      <td>184.0</td>\n",
       "      <td>0.0</td>\n",
       "      <td>...</td>\n",
       "      <td>0.0</td>\n",
       "      <td>0.0</td>\n",
       "      <td>0.0</td>\n",
       "      <td>Average</td>\n",
       "      <td>NaN</td>\n",
       "      <td>Frame / Concrete Blk</td>\n",
       "      <td>Slab</td>\n",
       "      <td>C</td>\n",
       "      <td>Central Heat/AC</td>\n",
       "      <td>Average</td>\n",
       "    </tr>\n",
       "    <tr>\n",
       "      <th>1231460030010</th>\n",
       "      <td>Average</td>\n",
       "      <td>2003</td>\n",
       "      <td>NaN</td>\n",
       "      <td>2008.0</td>\n",
       "      <td>2611</td>\n",
       "      <td>2008.0</td>\n",
       "      <td>2611</td>\n",
       "      <td>2206.0</td>\n",
       "      <td>250.0</td>\n",
       "      <td>0.0</td>\n",
       "      <td>...</td>\n",
       "      <td>0.0</td>\n",
       "      <td>0.0</td>\n",
       "      <td>64.0</td>\n",
       "      <td>Average</td>\n",
       "      <td>NaN</td>\n",
       "      <td>Frame / Concrete Blk</td>\n",
       "      <td>Slab</td>\n",
       "      <td>C+</td>\n",
       "      <td>Central Heat/AC</td>\n",
       "      <td>Average</td>\n",
       "    </tr>\n",
       "    <tr>\n",
       "      <th>1274170030012</th>\n",
       "      <td>Average</td>\n",
       "      <td>2006</td>\n",
       "      <td>NaN</td>\n",
       "      <td>1580.0</td>\n",
       "      <td>1990</td>\n",
       "      <td>1580.0</td>\n",
       "      <td>1990</td>\n",
       "      <td>1641.0</td>\n",
       "      <td>268.0</td>\n",
       "      <td>0.0</td>\n",
       "      <td>...</td>\n",
       "      <td>0.0</td>\n",
       "      <td>0.0</td>\n",
       "      <td>30.0</td>\n",
       "      <td>Average</td>\n",
       "      <td>NaN</td>\n",
       "      <td>Frame / Concrete Blk</td>\n",
       "      <td>Slab</td>\n",
       "      <td>C</td>\n",
       "      <td>Central Heat/AC</td>\n",
       "      <td>Average</td>\n",
       "    </tr>\n",
       "    <tr>\n",
       "      <th>1105920000003</th>\n",
       "      <td>Average</td>\n",
       "      <td>1997</td>\n",
       "      <td>NaN</td>\n",
       "      <td>1665.0</td>\n",
       "      <td>2186</td>\n",
       "      <td>1665.0</td>\n",
       "      <td>2186</td>\n",
       "      <td>1857.0</td>\n",
       "      <td>202.0</td>\n",
       "      <td>0.0</td>\n",
       "      <td>...</td>\n",
       "      <td>0.0</td>\n",
       "      <td>91.0</td>\n",
       "      <td>30.0</td>\n",
       "      <td>Average</td>\n",
       "      <td>NaN</td>\n",
       "      <td>Brick / Veneer</td>\n",
       "      <td>Slab</td>\n",
       "      <td>C+</td>\n",
       "      <td>Central Heat/AC</td>\n",
       "      <td>Average</td>\n",
       "    </tr>\n",
       "    <tr>\n",
       "      <th>761800080250</th>\n",
       "      <td>Good</td>\n",
       "      <td>1979</td>\n",
       "      <td>NaN</td>\n",
       "      <td>1904.0</td>\n",
       "      <td>2889</td>\n",
       "      <td>1904.0</td>\n",
       "      <td>2889</td>\n",
       "      <td>2122.0</td>\n",
       "      <td>288.0</td>\n",
       "      <td>1.0</td>\n",
       "      <td>...</td>\n",
       "      <td>448.0</td>\n",
       "      <td>0.0</td>\n",
       "      <td>0.0</td>\n",
       "      <td>Average</td>\n",
       "      <td>NaN</td>\n",
       "      <td>Brick / Veneer</td>\n",
       "      <td>Slab</td>\n",
       "      <td>B+</td>\n",
       "      <td>Central Heat/AC</td>\n",
       "      <td>Average</td>\n",
       "    </tr>\n",
       "    <tr>\n",
       "      <th>1281880010001</th>\n",
       "      <td>Good</td>\n",
       "      <td>2007</td>\n",
       "      <td>NaN</td>\n",
       "      <td>1749.0</td>\n",
       "      <td>2729</td>\n",
       "      <td>1749.0</td>\n",
       "      <td>2729</td>\n",
       "      <td>1918.0</td>\n",
       "      <td>344.0</td>\n",
       "      <td>0.0</td>\n",
       "      <td>...</td>\n",
       "      <td>0.0</td>\n",
       "      <td>0.0</td>\n",
       "      <td>54.0</td>\n",
       "      <td>Average</td>\n",
       "      <td>NaN</td>\n",
       "      <td>Frame / Concrete Blk</td>\n",
       "      <td>Slab</td>\n",
       "      <td>B</td>\n",
       "      <td>Central Heat/AC</td>\n",
       "      <td>Average</td>\n",
       "    </tr>\n",
       "    <tr>\n",
       "      <th>825220000020</th>\n",
       "      <td>Average</td>\n",
       "      <td>1955</td>\n",
       "      <td>NaN</td>\n",
       "      <td>1530.0</td>\n",
       "      <td>2046</td>\n",
       "      <td>1530.0</td>\n",
       "      <td>2046</td>\n",
       "      <td>1724.0</td>\n",
       "      <td>214.0</td>\n",
       "      <td>0.0</td>\n",
       "      <td>...</td>\n",
       "      <td>0.0</td>\n",
       "      <td>36.0</td>\n",
       "      <td>0.0</td>\n",
       "      <td>Average</td>\n",
       "      <td>NaN</td>\n",
       "      <td>Brick / Veneer</td>\n",
       "      <td>Slab</td>\n",
       "      <td>C</td>\n",
       "      <td>Central Heat/AC</td>\n",
       "      <td>Average</td>\n",
       "    </tr>\n",
       "    <tr>\n",
       "      <th>921920000324</th>\n",
       "      <td>Average</td>\n",
       "      <td>1964</td>\n",
       "      <td>NaN</td>\n",
       "      <td>1335.0</td>\n",
       "      <td>1847</td>\n",
       "      <td>1335.0</td>\n",
       "      <td>1847</td>\n",
       "      <td>1526.0</td>\n",
       "      <td>200.0</td>\n",
       "      <td>0.0</td>\n",
       "      <td>...</td>\n",
       "      <td>0.0</td>\n",
       "      <td>72.0</td>\n",
       "      <td>0.0</td>\n",
       "      <td>Average</td>\n",
       "      <td>NaN</td>\n",
       "      <td>Brick / Veneer</td>\n",
       "      <td>Slab</td>\n",
       "      <td>C</td>\n",
       "      <td>Central Heat/AC</td>\n",
       "      <td>Average</td>\n",
       "    </tr>\n",
       "    <tr>\n",
       "      <th>141960000176</th>\n",
       "      <td>Average</td>\n",
       "      <td>1949</td>\n",
       "      <td>NaN</td>\n",
       "      <td>1456.0</td>\n",
       "      <td>1528</td>\n",
       "      <td>1456.0</td>\n",
       "      <td>1528</td>\n",
       "      <td>1480.0</td>\n",
       "      <td>196.0</td>\n",
       "      <td>0.0</td>\n",
       "      <td>...</td>\n",
       "      <td>0.0</td>\n",
       "      <td>72.0</td>\n",
       "      <td>0.0</td>\n",
       "      <td>Average</td>\n",
       "      <td>NaN</td>\n",
       "      <td>Brick / Veneer</td>\n",
       "      <td>Crawl Space</td>\n",
       "      <td>C</td>\n",
       "      <td>Central Heat/AC</td>\n",
       "      <td>Average</td>\n",
       "    </tr>\n",
       "  </tbody>\n",
       "</table>\n",
       "<p>10 rows × 82 columns</p>\n",
       "</div>"
      ],
      "text/plain": [
       "                  dscr  date_erected  yr_remodel  im_sq_ft  act_ar  heat_ar  \\\n",
       "acct                                                                          \n",
       "772950240107   Average          1964         NaN    1726.0    2308   1726.0   \n",
       "1149450190012  Average          1982         NaN    1096.0    1514   1096.0   \n",
       "1231460030010  Average          2003         NaN    2008.0    2611   2008.0   \n",
       "1274170030012  Average          2006         NaN    1580.0    1990   1580.0   \n",
       "1105920000003  Average          1997         NaN    1665.0    2186   1665.0   \n",
       "761800080250      Good          1979         NaN    1904.0    2889   1904.0   \n",
       "1281880010001     Good          2007         NaN    1749.0    2729   1749.0   \n",
       "825220000020   Average          1955         NaN    1530.0    2046   1530.0   \n",
       "921920000324   Average          1964         NaN    1335.0    1847   1335.0   \n",
       "141960000176   Average          1949         NaN    1456.0    1528   1456.0   \n",
       "\n",
       "               gross_ar  eff_ar  perimeter  fireplace_masonry_firebrick  ...  \\\n",
       "acct                                                                     ...   \n",
       "772950240107       2308  1752.0      166.0                          0.0  ...   \n",
       "1149450190012      1514  1255.0      184.0                          0.0  ...   \n",
       "1231460030010      2611  2206.0      250.0                          0.0  ...   \n",
       "1274170030012      1990  1641.0      268.0                          0.0  ...   \n",
       "1105920000003      2186  1857.0      202.0                          0.0  ...   \n",
       "761800080250       2889  2122.0      288.0                          1.0  ...   \n",
       "1281880010001      2729  1918.0      344.0                          0.0  ...   \n",
       "825220000020       2046  1724.0      214.0                          0.0  ...   \n",
       "921920000324       1847  1526.0      200.0                          0.0  ...   \n",
       "141960000176       1528  1480.0      196.0                          0.0  ...   \n",
       "\n",
       "               one_story_mas_pri  open_frame_porch_pri  open_mas_porch_pri  \\\n",
       "acct                                                                         \n",
       "772950240107                 0.0                  76.0                 0.0   \n",
       "1149450190012                0.0                   0.0                 0.0   \n",
       "1231460030010                0.0                   0.0                64.0   \n",
       "1274170030012                0.0                   0.0                30.0   \n",
       "1105920000003                0.0                  91.0                30.0   \n",
       "761800080250               448.0                   0.0                 0.0   \n",
       "1281880010001                0.0                   0.0                54.0   \n",
       "825220000020                 0.0                  36.0                 0.0   \n",
       "921920000324                 0.0                  72.0                 0.0   \n",
       "141960000176                 0.0                  72.0                 0.0   \n",
       "\n",
       "               cond_desir_util  cost_and_design         exterior_wall  \\\n",
       "acct                                                                    \n",
       "772950240107           Average              NaN        Brick / Veneer   \n",
       "1149450190012          Average              NaN  Frame / Concrete Blk   \n",
       "1231460030010          Average              NaN  Frame / Concrete Blk   \n",
       "1274170030012          Average              NaN  Frame / Concrete Blk   \n",
       "1105920000003          Average              NaN        Brick / Veneer   \n",
       "761800080250           Average              NaN        Brick / Veneer   \n",
       "1281880010001          Average              NaN  Frame / Concrete Blk   \n",
       "825220000020           Average              NaN        Brick / Veneer   \n",
       "921920000324           Average              NaN        Brick / Veneer   \n",
       "141960000176           Average              NaN        Brick / Veneer   \n",
       "\n",
       "               foundation_type  grade_adjustment       heating_ac  \\\n",
       "acct                                                                \n",
       "772950240107              Slab                 C  Central Heat/AC   \n",
       "1149450190012             Slab                 C  Central Heat/AC   \n",
       "1231460030010             Slab                C+  Central Heat/AC   \n",
       "1274170030012             Slab                 C  Central Heat/AC   \n",
       "1105920000003             Slab                C+  Central Heat/AC   \n",
       "761800080250              Slab                B+  Central Heat/AC   \n",
       "1281880010001             Slab                 B  Central Heat/AC   \n",
       "825220000020              Slab                 C  Central Heat/AC   \n",
       "921920000324              Slab                 C  Central Heat/AC   \n",
       "141960000176       Crawl Space                 C  Central Heat/AC   \n",
       "\n",
       "               physical_condition  \n",
       "acct                               \n",
       "772950240107              Average  \n",
       "1149450190012             Average  \n",
       "1231460030010             Average  \n",
       "1274170030012             Average  \n",
       "1105920000003             Average  \n",
       "761800080250              Average  \n",
       "1281880010001             Average  \n",
       "825220000020              Average  \n",
       "921920000324              Average  \n",
       "141960000176              Average  \n",
       "\n",
       "[10 rows x 82 columns]"
      ]
     },
     "execution_count": 10,
     "metadata": {},
     "output_type": "execute_result"
    }
   ],
   "source": [
    "comps.sample(10)"
   ]
  },
  {
   "cell_type": "markdown",
   "metadata": {},
   "source": [
    "# Build target column\n",
    "The purpose of this work is to find if a given property was fairly appraised when compared with with similar properties.\n",
    "\n",
    "For this we could find the distribution of similar properties total appraised value (`tot_appr_val`) and locate where our target house falls. However, since there is a wide range of property values given their location (neighborhood), physical condition, renovation, and other factors, it might be best to focus on the year-to-year percent change in property value:\n",
    "\n",
    "`yy_pct_change` = (`tot_appr_val` - `prior_tot_appr_val`) / `prior_tot_appr_val`"
   ]
  },
  {
   "cell_type": "markdown",
   "metadata": {},
   "source": [
    "## Drop NaNs in value colums"
   ]
  },
  {
   "cell_type": "code",
   "execution_count": 11,
   "metadata": {
    "ExecuteTime": {
     "end_time": "2020-11-04T22:10:15.559126Z",
     "start_time": "2020-11-04T22:10:15.540006Z"
    }
   },
   "outputs": [],
   "source": [
    "cond0 = comps['prior_tot_appr_val'].isna()\n",
    "cond1 = comps['tot_appr_val'].isna()"
   ]
  },
  {
   "cell_type": "code",
   "execution_count": 12,
   "metadata": {
    "ExecuteTime": {
     "end_time": "2020-11-04T22:10:15.583936Z",
     "start_time": "2020-11-04T22:10:15.561407Z"
    }
   },
   "outputs": [
    {
     "name": "stdout",
     "output_type": "stream",
     "text": [
      "Percent of prior_tot_appr_val missing values: 0.0017396098512456066\n",
      "Percent of tot_appr_val missing values: 4.176734336724146e-06\n"
     ]
    }
   ],
   "source": [
    "print(f'Percent of prior_tot_appr_val missing values: {cond0.sum() / cond0.shape[0]}')\n",
    "print(f'Percent of tot_appr_val missing values: {cond1.sum() / cond1.shape[0]}')"
   ]
  },
  {
   "cell_type": "code",
   "execution_count": 13,
   "metadata": {
    "ExecuteTime": {
     "end_time": "2020-11-04T22:10:15.940542Z",
     "start_time": "2020-11-04T22:10:15.587277Z"
    }
   },
   "outputs": [],
   "source": [
    "comps = comps.loc[~cond0 & ~cond1, :]"
   ]
  },
  {
   "cell_type": "markdown",
   "metadata": {},
   "source": [
    "## Drop samples where prior_tot_appr_val is zero"
   ]
  },
  {
   "cell_type": "code",
   "execution_count": 14,
   "metadata": {
    "ExecuteTime": {
     "end_time": "2020-11-04T22:10:15.967653Z",
     "start_time": "2020-11-04T22:10:15.942160Z"
    }
   },
   "outputs": [
    {
     "data": {
      "text/plain": [
       "30"
      ]
     },
     "execution_count": 14,
     "metadata": {},
     "output_type": "execute_result"
    }
   ],
   "source": [
    "cond0 = comps['prior_tot_appr_val'] == 0\n",
    "\n",
    "cond0.sum()"
   ]
  },
  {
   "cell_type": "code",
   "execution_count": 15,
   "metadata": {
    "ExecuteTime": {
     "end_time": "2020-11-04T22:10:16.567054Z",
     "start_time": "2020-11-04T22:10:15.969637Z"
    }
   },
   "outputs": [],
   "source": [
    "comps = comps.loc[~cond0, :]"
   ]
  },
  {
   "cell_type": "markdown",
   "metadata": {},
   "source": [
    "## Check tot_appr_val"
   ]
  },
  {
   "cell_type": "code",
   "execution_count": 16,
   "metadata": {
    "ExecuteTime": {
     "end_time": "2020-11-04T22:10:16.631348Z",
     "start_time": "2020-11-04T22:10:16.568799Z"
    }
   },
   "outputs": [],
   "source": [
    "from src.visualization.visualize import plot_ecdf, plot_counts, plot_hist"
   ]
  },
  {
   "cell_type": "code",
   "execution_count": 17,
   "metadata": {
    "ExecuteTime": {
     "end_time": "2020-11-04T22:10:16.694027Z",
     "start_time": "2020-11-04T22:10:16.637380Z"
    }
   },
   "outputs": [],
   "source": [
    "col ='tot_appr_val'\n",
    "series = comps[col]"
   ]
  },
  {
   "cell_type": "code",
   "execution_count": 18,
   "metadata": {
    "ExecuteTime": {
     "end_time": "2020-11-04T22:10:16.789239Z",
     "start_time": "2020-11-04T22:10:16.700032Z"
    }
   },
   "outputs": [
    {
     "data": {
      "text/plain": [
       "count    9.559880e+05\n",
       "mean     2.191061e+05\n",
       "std      2.800815e+05\n",
       "min      1.000000e+02\n",
       "25%      1.000000e+05\n",
       "50%      1.501055e+05\n",
       "75%      2.342272e+05\n",
       "max      1.726682e+07\n",
       "Name: tot_appr_val, dtype: float64"
      ]
     },
     "execution_count": 18,
     "metadata": {},
     "output_type": "execute_result"
    }
   ],
   "source": [
    "series.describe()"
   ]
  },
  {
   "cell_type": "code",
   "execution_count": 19,
   "metadata": {
    "ExecuteTime": {
     "end_time": "2020-11-04T22:10:17.082242Z",
     "start_time": "2020-11-04T22:10:16.791398Z"
    }
   },
   "outputs": [
    {
     "data": {
      "image/png": "[encoded data removed]",
      "text/plain": [
       "<Figure size 576x576 with 1 Axes>"
      ]
     },
     "metadata": {
      "needs_background": "light"
     },
     "output_type": "display_data"
    }
   ],
   "source": [
    "plot_hist(series, col)"
   ]
  },
  {
   "cell_type": "markdown",
   "metadata": {},
   "source": [
    "The high valued properties are masking the distribution of the lower valued properties in this histogram. Let's remake this figure with only properties valued less than $500k."
   ]
  },
  {
   "cell_type": "code",
   "execution_count": 20,
   "metadata": {
    "ExecuteTime": {
     "end_time": "2020-11-04T22:10:17.321151Z",
     "start_time": "2020-11-04T22:10:17.084661Z"
    }
   },
   "outputs": [
    {
     "data": {
      "image/png": "[encoded data removed]",
      "text/plain": [
       "<Figure size 576x576 with 1 Axes>"
      ]
     },
     "metadata": {
      "needs_background": "light"
     },
     "output_type": "display_data"
    }
   ],
   "source": [
    "plot_hist(series[series < 500000], col + ': Less than $500k')\n",
    "_ = plt.vlines(292707, 0, 400_000, color='red', label='Target house')\n",
    "_ = plt.legend(loc='upper right')"
   ]
  },
  {
   "cell_type": "markdown",
   "metadata": {},
   "source": [
    "The target house is on the high tail of the distribution of all single-family houses in HCAD. Perhaps we can remove the effect of the property's appraisal value magnitude by calculating the year-to-year percent change in value."
   ]
  },
  {
   "cell_type": "markdown",
   "metadata": {},
   "source": [
    "## Build year-to-year percent change value"
   ]
  },
  {
   "cell_type": "code",
   "execution_count": 21,
   "metadata": {
    "ExecuteTime": {
     "end_time": "2020-11-04T22:10:17.344547Z",
     "start_time": "2020-11-04T22:10:17.323188Z"
    }
   },
   "outputs": [],
   "source": [
    "comps['yy_pct_change'] = (comps['tot_appr_val'] - comps['prior_tot_appr_val']) / comps['prior_tot_appr_val']"
   ]
  },
  {
   "cell_type": "code",
   "execution_count": 22,
   "metadata": {
    "ExecuteTime": {
     "end_time": "2020-11-04T22:10:17.421502Z",
     "start_time": "2020-11-04T22:10:17.347666Z"
    }
   },
   "outputs": [
    {
     "data": {
      "text/plain": [
       "count    955988.000000\n",
       "mean          0.165985\n",
       "std           8.581099\n",
       "min          -0.870447\n",
       "25%           0.030658\n",
       "50%           0.099989\n",
       "75%           0.099999\n",
       "max        7151.941176\n",
       "Name: yy_pct_change, dtype: float64"
      ]
     },
     "execution_count": 22,
     "metadata": {},
     "output_type": "execute_result"
    }
   ],
   "source": [
    "comps['yy_pct_change'].describe()"
   ]
  },
  {
   "cell_type": "code",
   "execution_count": 23,
   "metadata": {
    "ExecuteTime": {
     "end_time": "2020-11-04T22:10:17.817504Z",
     "start_time": "2020-11-04T22:10:17.427955Z"
    }
   },
   "outputs": [
    {
     "data": {
      "image/png": "[encoded data removed]",
      "text/plain": [
       "<Figure size 576x576 with 1 Axes>"
      ]
     },
     "metadata": {
      "needs_background": "light"
     },
     "output_type": "display_data"
    }
   ],
   "source": [
    "_ = plt.figure(figsize=(8,8))\n",
    "_ = comps['yy_pct_change'].hist(bins=100)\n",
    "_ = plt.title('Year-to-year perc. change for all comps')\n",
    "_ = plt.xlabel('yy_pct_change')\n",
    "_ = plt.ylabel('Count')"
   ]
  },
  {
   "cell_type": "code",
   "execution_count": 24,
   "metadata": {
    "ExecuteTime": {
     "end_time": "2020-11-04T22:10:17.893435Z",
     "start_time": "2020-11-04T22:10:17.822533Z"
    }
   },
   "outputs": [
    {
     "data": {
      "text/plain": [
       "count    955988.000000\n",
       "mean          0.165985\n",
       "std           8.581099\n",
       "min          -0.870447\n",
       "25%           0.030658\n",
       "50%           0.099989\n",
       "75%           0.099999\n",
       "max        7151.941176\n",
       "Name: yy_pct_change, dtype: float64"
      ]
     },
     "execution_count": 24,
     "metadata": {},
     "output_type": "execute_result"
    }
   ],
   "source": [
    "comps['yy_pct_change'].describe()"
   ]
  },
  {
   "cell_type": "markdown",
   "metadata": {},
   "source": [
    "There are valid reasons for a property value appreciation from year-to-year to be multiples of the initial value, for example, when a new house is constructed on an existing lot, the previous year value will be the value of the land alone, and the current year value will be the value of the land plus the value of the improvement (built house).\n",
    "\n",
    "Similarly, when the existing house in the prior year is a tear-down, we can expect the value of the property to increase significantly if the owner has removed the old house and built a new one on its place. This is fairly common on neighborhoods with new constructions restrictions, like The Heights.\n",
    "\n",
    "Also, we can expect a large value increase if there has been a major remodeling that either increased the number of rooms or baths (fixtures), common on fixer-uppers, but this work generally increases the value of a property by a fraction, and not whole multipliers.\n",
    "\n",
    "Finally, I think these large (7151%) appreciation values could be errors in the data, or properties that sold under the 10% cap benefits in very expensive neighborhoods. After the sale the cap no longer applies, and thus the property is assess to its true market value.\n",
    "\n",
    "Let's zoom-in properties appreciated less than 100%."
   ]
  },
  {
   "cell_type": "code",
   "execution_count": 25,
   "metadata": {
    "ExecuteTime": {
     "end_time": "2020-11-04T22:10:19.049853Z",
     "start_time": "2020-11-04T22:10:17.895348Z"
    }
   },
   "outputs": [],
   "source": [
    "comps_app_lt_1 = comps.loc[comps['yy_pct_change'] < 1, :].copy()"
   ]
  },
  {
   "cell_type": "code",
   "execution_count": 26,
   "metadata": {
    "ExecuteTime": {
     "end_time": "2020-11-04T22:10:19.686551Z",
     "start_time": "2020-11-04T22:10:19.051648Z"
    }
   },
   "outputs": [
    {
     "data": {
      "image/png": "[encoded data removed]",
      "text/plain": [
       "<Figure size 576x576 with 1 Axes>"
      ]
     },
     "metadata": {
      "needs_background": "light"
     },
     "output_type": "display_data"
    }
   ],
   "source": [
    "_ = plt.figure(figsize=(8,8))\n",
    "_ = comps_app_lt_1['yy_pct_change'].hist(bins=100)\n",
    "_ = plt.vlines(0.093, 5_000, 400_000, color='red', linestyle='--', linewidth=2, label='Target house')\n",
    "_ = plt.title('Comparables appreciated less than 100%')\n",
    "_ = plt.xlabel('yy_pct_change')\n",
    "_ = plt.ylabel('Count')\n",
    "_ = plt.legend(loc='upper right')"
   ]
  },
  {
   "cell_type": "code",
   "execution_count": 27,
   "metadata": {
    "ExecuteTime": {
     "end_time": "2020-11-04T22:10:19.919858Z",
     "start_time": "2020-11-04T22:10:19.690150Z"
    }
   },
   "outputs": [
    {
     "name": "stdout",
     "output_type": "stream",
     "text": [
      "(0.0833, 0.102]       446146\n",
      "(-0.0102, 0.00854]    157550\n",
      "(0.0646, 0.0833]       63198\n",
      "(0.0459, 0.0646]       59267\n",
      "(0.0272, 0.0459]       51915\n",
      "                       ...  \n",
      "(-0.758, -0.74]            2\n",
      "(-0.683, -0.665]           1\n",
      "(-0.814, -0.796]           1\n",
      "(-0.721, -0.702]           0\n",
      "(-0.852, -0.833]           0\n",
      "Name: yy_pct_change, Length: 100, dtype: int64\n",
      "(0.0833, 0.102]       0.471955\n",
      "(-0.0102, 0.00854]    0.166664\n",
      "(0.0646, 0.0833]      0.066854\n",
      "(0.0459, 0.0646]      0.062696\n",
      "(0.0272, 0.0459]      0.054918\n",
      "                        ...   \n",
      "(-0.758, -0.74]       0.000002\n",
      "(-0.683, -0.665]      0.000001\n",
      "(-0.814, -0.796]      0.000001\n",
      "(-0.721, -0.702]      0.000000\n",
      "(-0.852, -0.833]      0.000000\n",
      "Name: yy_pct_change, Length: 100, dtype: float64\n"
     ]
    }
   ],
   "source": [
    "print(comps_app_lt_1['yy_pct_change'].value_counts(bins=100))\n",
    "print(comps_app_lt_1['yy_pct_change'].value_counts(bins=100, normalize=True))"
   ]
  },
  {
   "cell_type": "markdown",
   "metadata": {},
   "source": [
    "This is interesting. There is a spike in the 10% value increase mark. This is possibly related to [Capped Appraisal Values](https://hcad.org/videos/the-10-homestead-cap/), where the appraisal district will cap the value of an existing property if the current year appraised value is more than 10% of last year's. Also, the property has to be homestead exempt for the current and prior year to be eligible for this benefit.\n",
    "\n",
    "We can see in the histogram that about 445000 properties qualified for this capping rule. Neat!\n",
    "\n",
    "There is a lesser spike near 0 % value increase, but its origin is less clear."
   ]
  },
  {
   "cell_type": "markdown",
   "metadata": {},
   "source": [
    "# Select the comparable properties\n",
    "\n",
    "The histogram on year-to-tear percent change appraise value above shows that most properties appreciated up to 40%, and depreciated down to 25%. While this is insightful, the spread is too broad as it accounts for almost all properties in the district, with all sorts of conditions, year built, neighborhood, and many other variables, and as a result, the target house is well within this distribution.\n",
    "\n",
    "Next, let's select the comparable properties to my property of interest by counting only properties in the same subdivision."
   ]
  },
  {
   "cell_type": "code",
   "execution_count": 28,
   "metadata": {
    "ExecuteTime": {
     "end_time": "2020-11-04T22:10:20.645167Z",
     "start_time": "2020-11-04T22:10:19.923492Z"
    }
   },
   "outputs": [],
   "source": [
    "cond0 = comps['lgl_2'].str.contains('PARK AT KLEIN SEC 1', case=False, na=False, regex=False)\n",
    "\n",
    "subdiv = comps.loc[cond0, :].copy()"
   ]
  },
  {
   "cell_type": "code",
   "execution_count": 29,
   "metadata": {
    "ExecuteTime": {
     "end_time": "2020-11-04T22:10:20.666660Z",
     "start_time": "2020-11-04T22:10:20.647577Z"
    }
   },
   "outputs": [
    {
     "data": {
      "text/plain": [
       "(111, 83)"
      ]
     },
     "execution_count": 29,
     "metadata": {},
     "output_type": "execute_result"
    }
   ],
   "source": [
    "subdiv.shape"
   ]
  },
  {
   "cell_type": "markdown",
   "metadata": {},
   "source": [
    "Since we have selected only the houses at the specified subdivision, there are a lot of categorical columns in this subset of samples that are single valued (e.g. `neighborhood_code`, `market_area_1_dscr`, etc.). Let's remove these columns."
   ]
  },
  {
   "cell_type": "code",
   "execution_count": 30,
   "metadata": {
    "ExecuteTime": {
     "end_time": "2020-11-04T22:10:20.764898Z",
     "start_time": "2020-11-04T22:10:20.669737Z"
    }
   },
   "outputs": [],
   "source": [
    "for col in subdiv.columns:\n",
    "    if len(subdiv[col].unique()) == 1:\n",
    "        subdiv.drop(col,inplace=True,axis=1)"
   ]
  },
  {
   "cell_type": "code",
   "execution_count": 31,
   "metadata": {
    "ExecuteTime": {
     "end_time": "2020-11-04T22:10:20.784390Z",
     "start_time": "2020-11-04T22:10:20.766786Z"
    }
   },
   "outputs": [
    {
     "data": {
      "text/plain": [
       "(111, 32)"
      ]
     },
     "execution_count": 31,
     "metadata": {},
     "output_type": "execute_result"
    }
   ],
   "source": [
    "subdiv.shape"
   ]
  },
  {
   "cell_type": "code",
   "execution_count": 32,
   "metadata": {
    "ExecuteTime": {
     "end_time": "2020-11-04T22:10:21.019092Z",
     "start_time": "2020-11-04T22:10:20.786749Z"
    }
   },
   "outputs": [
    {
     "data": {
      "image/png": "[encoded data removed]",
      "text/plain": [
       "<Figure size 576x576 with 1 Axes>"
      ]
     },
     "metadata": {
      "needs_background": "light"
     },
     "output_type": "display_data"
    }
   ],
   "source": [
    "_ = plt.figure(figsize=(8,8))\n",
    "_ = (subdiv['tot_appr_val']/1000).hist(bins=7)\n",
    "_ = plt.title('Houses in the subdivision: 2016 Total Appraised Value')\n",
    "_ = plt.vlines(292707/1000, 0, 35, color='red', label='Target house')\n",
    "_ = plt.xlabel('tot_appr_val x1000 ($)')\n",
    "_ = plt.ylabel('Count')\n",
    "_ = plt.legend(loc='upper right')"
   ]
  },
  {
   "cell_type": "markdown",
   "metadata": {},
   "source": [
    "## Find subdivision comparables\n",
    "In the last figure, we can see that the target house sits on the high end of the distribution of appraised values for the houses in the subdivision. To make a fair comparison, we should find the properties with similar characteristics to the target property. Let's use an unsupervised learning method to find their grouping."
   ]
  },
  {
   "cell_type": "code",
   "execution_count": 33,
   "metadata": {
    "ExecuteTime": {
     "end_time": "2020-11-04T22:10:21.449126Z",
     "start_time": "2020-11-04T22:10:21.020976Z"
    }
   },
   "outputs": [],
   "source": [
    "from sklearn.cluster import KMeans"
   ]
  },
  {
   "cell_type": "code",
   "execution_count": 34,
   "metadata": {
    "ExecuteTime": {
     "end_time": "2020-11-04T22:10:21.484625Z",
     "start_time": "2020-11-04T22:10:21.452511Z"
    }
   },
   "outputs": [
    {
     "name": "stdout",
     "output_type": "stream",
     "text": [
      "<class 'pandas.core.frame.DataFrame'>\n",
      "UInt64Index: 111 entries, 1347180010011 to 1347180030030\n",
      "Data columns (total 32 columns):\n",
      " #   Column                  Non-Null Count  Dtype         \n",
      "---  ------                  --------------  -----         \n",
      " 0   date_erected            111 non-null    uint16        \n",
      " 1   im_sq_ft                111 non-null    float64       \n",
      " 2   act_ar                  111 non-null    uint16        \n",
      " 3   heat_ar                 111 non-null    float64       \n",
      " 4   gross_ar                111 non-null    uint16        \n",
      " 5   eff_ar                  111 non-null    float64       \n",
      " 6   perimeter               111 non-null    float64       \n",
      " 7   fireplace_metal_prefab  111 non-null    float32       \n",
      " 8   fixtures_addl           111 non-null    float32       \n",
      " 9   fixtures_total          111 non-null    float32       \n",
      " 10  room_bedroom            111 non-null    float32       \n",
      " 11  room_full_bath          111 non-null    float32       \n",
      " 12  room_half_bath          111 non-null    float32       \n",
      " 13  room_rec                111 non-null    float32       \n",
      " 14  room_total              111 non-null    float32       \n",
      " 15  story_height_index      111 non-null    float32       \n",
      " 16  bld_ar                  111 non-null    float64       \n",
      " 17  land_ar                 111 non-null    float64       \n",
      " 18  acreage                 111 non-null    float64       \n",
      " 19  land_val                111 non-null    float64       \n",
      " 20  tot_appr_val            111 non-null    float64       \n",
      " 21  prior_land_val          111 non-null    float64       \n",
      " 22  prior_tot_appr_val      111 non-null    float64       \n",
      " 23  new_own_dt              111 non-null    datetime64[ns]\n",
      " 24  lgl_1                   111 non-null    object        \n",
      " 25  base_area_pri           111 non-null    float64       \n",
      " 26  base_area_upr           111 non-null    float64       \n",
      " 27  mas_brk_garage_pri      111 non-null    float64       \n",
      " 28  open_frame_porch_pri    111 non-null    float64       \n",
      " 29  open_mas_porch_pri      111 non-null    float64       \n",
      " 30  exterior_wall           111 non-null    category      \n",
      " 31  yy_pct_change           111 non-null    float64       \n",
      "dtypes: category(1), datetime64[ns](1), float32(9), float64(17), object(1), uint16(3)\n",
      "memory usage: 22.4+ KB\n"
     ]
    }
   ],
   "source": [
    "subdiv.info()"
   ]
  },
  {
   "cell_type": "markdown",
   "metadata": {},
   "source": [
    "For K-Means to work in theory we should remove the non-numerical features. In addition, I'll remove the features that represent monetary value ($) in such way to build the grouping based only on the physical characteristics (areas, number of rooms, baths, half-baths...) of the properties. "
   ]
  },
  {
   "cell_type": "code",
   "execution_count": 35,
   "metadata": {
    "ExecuteTime": {
     "end_time": "2020-11-04T22:10:21.505922Z",
     "start_time": "2020-11-04T22:10:21.486281Z"
    }
   },
   "outputs": [],
   "source": [
    "drop = [\n",
    "    'yy_pct_change',\n",
    "    'land_val',\n",
    "    'tot_appr_val',\n",
    "    'prior_land_val',\n",
    "    'prior_tot_appr_val',\n",
    "    'new_own_dt', # Latest purchase date\n",
    "    'lgl_1', # House lot\n",
    "    'exterior_wall'\n",
    "]"
   ]
  },
  {
   "cell_type": "code",
   "execution_count": 36,
   "metadata": {
    "ExecuteTime": {
     "end_time": "2020-11-04T22:10:21.525256Z",
     "start_time": "2020-11-04T22:10:21.508106Z"
    }
   },
   "outputs": [],
   "source": [
    "subdiv_numeric = subdiv.drop(drop, axis=1)"
   ]
  },
  {
   "cell_type": "code",
   "execution_count": 37,
   "metadata": {
    "ExecuteTime": {
     "end_time": "2020-11-04T22:10:22.737519Z",
     "start_time": "2020-11-04T22:10:21.527277Z"
    }
   },
   "outputs": [],
   "source": [
    "ks = range(1, 21)\n",
    "inertias = []\n",
    "\n",
    "for k in ks:\n",
    "    # Create a KMeans instance with k clusters: model\n",
    "    model = KMeans(n_clusters=k)\n",
    "    \n",
    "    # Fit model to samples\n",
    "    model.fit(subdiv_numeric)\n",
    "    \n",
    "    # Append the inertia to the list of inertias\n",
    "    inertias.append(model.inertia_)"
   ]
  },
  {
   "cell_type": "code",
   "execution_count": 38,
   "metadata": {
    "ExecuteTime": {
     "end_time": "2020-11-04T22:10:23.006905Z",
     "start_time": "2020-11-04T22:10:22.739532Z"
    }
   },
   "outputs": [
    {
     "data": {
      "image/png": "[encoded data removed]",
      "text/plain": [
       "<Figure size 576x576 with 1 Axes>"
      ]
     },
     "metadata": {
      "needs_background": "light"
     },
     "output_type": "display_data"
    }
   ],
   "source": [
    "# Plot ks vs inertias\n",
    "plt.figure(figsize=(8, 8))\n",
    "plt.plot(ks, inertias, '-o')\n",
    "plt.xlabel('number of clusters, k')\n",
    "plt.ylabel('inertia')\n",
    "plt.xticks(ks)\n",
    "plt.show()"
   ]
  },
  {
   "cell_type": "markdown",
   "metadata": {},
   "source": [
    "It seems like 8 clusters is a good choice. However, after some trial and error I found that k > 3 makes for one cluster with almost all the samples, and a lot of clusters with very few (~3) samples. For this reason I chose k=3."
   ]
  },
  {
   "cell_type": "code",
   "execution_count": 39,
   "metadata": {
    "ExecuteTime": {
     "end_time": "2020-11-04T22:10:23.030462Z",
     "start_time": "2020-11-04T22:10:23.012129Z"
    }
   },
   "outputs": [],
   "source": [
    "model = KMeans(n_clusters=3, random_state=1)"
   ]
  },
  {
   "cell_type": "code",
   "execution_count": 40,
   "metadata": {
    "ExecuteTime": {
     "end_time": "2020-11-04T22:10:23.099207Z",
     "start_time": "2020-11-04T22:10:23.032436Z"
    }
   },
   "outputs": [],
   "source": [
    "labels = model.fit_predict(subdiv_numeric)"
   ]
  },
  {
   "cell_type": "code",
   "execution_count": 41,
   "metadata": {
    "ExecuteTime": {
     "end_time": "2020-11-04T22:10:23.150914Z",
     "start_time": "2020-11-04T22:10:23.100980Z"
    }
   },
   "outputs": [
    {
     "data": {
      "text/plain": [
       "labels\n",
       "2         54\n",
       "0         40\n",
       "1         17\n",
       "dtype: int64"
      ]
     },
     "execution_count": 41,
     "metadata": {},
     "output_type": "execute_result"
    }
   ],
   "source": [
    "pd.DataFrame({'labels': labels}).value_counts()"
   ]
  },
  {
   "cell_type": "markdown",
   "metadata": {},
   "source": [
    "## TSNE\n",
    "Now let's plot the selected labels using TSNE to find if these groups overlap or are separated."
   ]
  },
  {
   "cell_type": "code",
   "execution_count": 42,
   "metadata": {
    "ExecuteTime": {
     "end_time": "2020-11-04T22:10:23.182417Z",
     "start_time": "2020-11-04T22:10:23.153416Z"
    }
   },
   "outputs": [],
   "source": [
    "from sklearn.manifold import TSNE"
   ]
  },
  {
   "cell_type": "code",
   "execution_count": 43,
   "metadata": {
    "ExecuteTime": {
     "end_time": "2020-11-04T22:10:23.214051Z",
     "start_time": "2020-11-04T22:10:23.184735Z"
    }
   },
   "outputs": [],
   "source": [
    "model = TSNE(learning_rate=100)"
   ]
  },
  {
   "cell_type": "code",
   "execution_count": 44,
   "metadata": {
    "ExecuteTime": {
     "end_time": "2020-11-04T22:10:23.905438Z",
     "start_time": "2020-11-04T22:10:23.216445Z"
    }
   },
   "outputs": [],
   "source": [
    "transformed = model.fit_transform(subdiv_numeric)"
   ]
  },
  {
   "cell_type": "code",
   "execution_count": 45,
   "metadata": {
    "ExecuteTime": {
     "end_time": "2020-11-04T22:10:24.179264Z",
     "start_time": "2020-11-04T22:10:23.906959Z"
    }
   },
   "outputs": [
    {
     "data": {
      "image/png": "[encoded data removed]",
      "text/plain": [
       "<Figure size 576x576 with 1 Axes>"
      ]
     },
     "metadata": {
      "needs_background": "light"
     },
     "output_type": "display_data"
    }
   ],
   "source": [
    "plt.figure(figsize=(8, 8))\n",
    "sns.scatterplot(x=transformed[:, 0], y=transformed[:, 1], hue=labels, style=labels, alpha=0.7)\n",
    "plt.show()"
   ]
  },
  {
   "cell_type": "markdown",
   "metadata": {},
   "source": [
    "Excellent! They are well separated indicating that these groups are meaningful.\n",
    "\n",
    "Now let's add the labels found with K-meands back to the features dataframe."
   ]
  },
  {
   "cell_type": "code",
   "execution_count": 46,
   "metadata": {
    "ExecuteTime": {
     "end_time": "2020-11-04T22:10:24.210763Z",
     "start_time": "2020-11-04T22:10:24.181403Z"
    }
   },
   "outputs": [],
   "source": [
    "subdiv['kmeans_label'] = labels"
   ]
  },
  {
   "cell_type": "code",
   "execution_count": 47,
   "metadata": {
    "ExecuteTime": {
     "end_time": "2020-11-04T22:10:24.457539Z",
     "start_time": "2020-11-04T22:10:24.212966Z"
    }
   },
   "outputs": [
    {
     "data": {
      "text/plain": [
       "<matplotlib.legend.Legend at 0x7fa9d1a907d0>"
      ]
     },
     "execution_count": 47,
     "metadata": {},
     "output_type": "execute_result"
    },
    {
     "data": {
      "image/png": "[encoded data removed]",
      "text/plain": [
       "<Figure size 921.6x633.6 with 1 Axes>"
      ]
     },
     "metadata": {
      "needs_background": "light"
     },
     "output_type": "display_data"
    }
   ],
   "source": [
    "sns.stripplot(x='kmeans_label', y='tot_appr_val', data=subdiv)\n",
    "plt.hlines(292707, 0, 3, colors='red', label='Target House')\n",
    "plt.legend(loc='upper right')"
   ]
  },
  {
   "cell_type": "markdown",
   "metadata": {},
   "source": [
    "If we plot the improvement area (`im_sq_ft`) vs. the total appraised value we can see that the k-means groups 0 and 2 represent houses with large area and value, and houses with low area and value, respectively."
   ]
  },
  {
   "cell_type": "code",
   "execution_count": 48,
   "metadata": {
    "ExecuteTime": {
     "end_time": "2020-11-04T22:10:24.784797Z",
     "start_time": "2020-11-04T22:10:24.459399Z"
    }
   },
   "outputs": [
    {
     "data": {
      "text/plain": [
       "<AxesSubplot:xlabel='im_sq_ft', ylabel='tot_appr_val'>"
      ]
     },
     "execution_count": 48,
     "metadata": {},
     "output_type": "execute_result"
    },
    {
     "data": {
      "image/png": "[encoded data removed]",
      "text/plain": [
       "<Figure size 921.6x633.6 with 1 Axes>"
      ]
     },
     "metadata": {
      "needs_background": "light"
     },
     "output_type": "display_data"
    }
   ],
   "source": [
    "sns.scatterplot(x='im_sq_ft', y='tot_appr_val', data=subdiv, hue='kmeans_label')"
   ]
  },
  {
   "cell_type": "markdown",
   "metadata": {},
   "source": [
    "## Subdivision comparables"
   ]
  },
  {
   "cell_type": "markdown",
   "metadata": {},
   "source": [
    "Target property k-means label:"
   ]
  },
  {
   "cell_type": "code",
   "execution_count": 49,
   "metadata": {
    "ExecuteTime": {
     "end_time": "2020-11-04T22:10:24.806892Z",
     "start_time": "2020-11-04T22:10:24.786669Z"
    }
   },
   "outputs": [
    {
     "name": "stdout",
     "output_type": "stream",
     "text": [
      "The target house label is: 0\n"
     ]
    }
   ],
   "source": [
    "target_house_label = subdiv.loc[1347180010049, 'kmeans_label']\n",
    "print(f\"The target house label is: {target_house_label}\")"
   ]
  },
  {
   "cell_type": "code",
   "execution_count": 50,
   "metadata": {
    "ExecuteTime": {
     "end_time": "2020-11-04T22:10:24.844665Z",
     "start_time": "2020-11-04T22:10:24.809241Z"
    }
   },
   "outputs": [],
   "source": [
    "subdiv_comps = subdiv.loc[subdiv['kmeans_label'] == target_house_label, :]"
   ]
  },
  {
   "cell_type": "code",
   "execution_count": 51,
   "metadata": {
    "ExecuteTime": {
     "end_time": "2020-11-04T22:10:24.869046Z",
     "start_time": "2020-11-04T22:10:24.847566Z"
    }
   },
   "outputs": [
    {
     "data": {
      "text/plain": [
       "(40, 33)"
      ]
     },
     "execution_count": 51,
     "metadata": {},
     "output_type": "execute_result"
    }
   ],
   "source": [
    "subdiv_comps.shape"
   ]
  },
  {
   "cell_type": "markdown",
   "metadata": {},
   "source": [
    "So there are 40 properties comparable to the house of interest. Let's use these houses to build the distribution of comparables."
   ]
  },
  {
   "cell_type": "markdown",
   "metadata": {},
   "source": [
    "# Null-hypothesis test\n",
    "\n",
    "**Population**: Comparable houses appraised by HCAD in the PARK AT KLEIN SEC 1 subdivision.\n",
    "\n",
    "**Significance level**: 5%\n",
    "\n",
    "$H_0$: The 2016 appraised value for the target house was fair relative to its comparables.\n",
    "\n",
    "$H_a$: The 2016 appraised value was unfair, or it doesn't belong to the comparables distribution."
   ]
  },
  {
   "cell_type": "code",
   "execution_count": 52,
   "metadata": {
    "ExecuteTime": {
     "end_time": "2020-11-04T22:10:24.899533Z",
     "start_time": "2020-11-04T22:10:24.871171Z"
    }
   },
   "outputs": [
    {
     "name": "stdout",
     "output_type": "stream",
     "text": [
      "The population mean is: $258853.80\n",
      "The population standard deviation is: $15200.36\n"
     ]
    }
   ],
   "source": [
    "pop_mean = subdiv_comps['tot_appr_val'].mean()\n",
    "pop_std = subdiv_comps['tot_appr_val'].std(ddof=0)\n",
    "\n",
    "print(f\"The population mean is: ${pop_mean:.2f}\")\n",
    "print(f\"The population standard deviation is: ${pop_std:.2f}\")"
   ]
  },
  {
   "cell_type": "code",
   "execution_count": 53,
   "metadata": {
    "ExecuteTime": {
     "end_time": "2020-11-04T22:10:24.927184Z",
     "start_time": "2020-11-04T22:10:24.901781Z"
    }
   },
   "outputs": [],
   "source": [
    "from scipy.stats import norm"
   ]
  },
  {
   "cell_type": "code",
   "execution_count": 54,
   "metadata": {
    "ExecuteTime": {
     "end_time": "2020-11-04T22:10:24.957912Z",
     "start_time": "2020-11-04T22:10:24.929306Z"
    }
   },
   "outputs": [],
   "source": [
    "zscore = (292707 - pop_mean) / pop_std"
   ]
  },
  {
   "cell_type": "code",
   "execution_count": 55,
   "metadata": {
    "ExecuteTime": {
     "end_time": "2020-11-04T22:10:24.984243Z",
     "start_time": "2020-11-04T22:10:24.960079Z"
    }
   },
   "outputs": [
    {
     "data": {
      "text/plain": [
       "2.227131629768397"
      ]
     },
     "execution_count": 55,
     "metadata": {},
     "output_type": "execute_result"
    }
   ],
   "source": [
    "zscore"
   ]
  },
  {
   "cell_type": "code",
   "execution_count": 56,
   "metadata": {
    "ExecuteTime": {
     "end_time": "2020-11-04T22:10:25.013732Z",
     "start_time": "2020-11-04T22:10:24.986554Z"
    }
   },
   "outputs": [
    {
     "name": "stdout",
     "output_type": "stream",
     "text": [
      "The p-value is: 0.013\n"
     ]
    }
   ],
   "source": [
    "pvalue = 1 - norm.cdf(zscore)\n",
    "print(f\"The p-value is: {pvalue:.3f}\")"
   ]
  },
  {
   "cell_type": "markdown",
   "metadata": {},
   "source": [
    "Since the p-value (0.013) is below the significance level (0.05) we can say there is reasonable statistical evidence to reject the the null hypothesis, and thus we have statistical evidence to say that the property appraisal was unfair relative to its comparables.\n",
    "\n",
    "In other words, if the null hypothesis is true, there is a 1.3% probability of getting an appraised value as extreme as $292707 or lager. Since this 1.3\\% is below the 5\\% significance level (z=1.96), we reject the null hypothesis.  "
   ]
  },
  {
   "cell_type": "code",
   "execution_count": 57,
   "metadata": {
    "ExecuteTime": {
     "end_time": "2020-11-04T22:10:25.491908Z",
     "start_time": "2020-11-04T22:10:25.016369Z"
    }
   },
   "outputs": [
    {
     "data": {
      "image/png": "[encoded data removed]",
      "text/plain": [
       "<Figure size 576x576 with 1 Axes>"
      ]
     },
     "metadata": {
      "needs_background": "light"
     },
     "output_type": "display_data"
    }
   ],
   "source": [
    "_ = plt.figure(figsize=(8,8))\n",
    "_ = ((subdiv_comps['tot_appr_val'] - pop_mean)/pop_std).hist(bins=7)\n",
    "_ = plt.title('Houses in the subdivision: 2016 Standardized Total Appraised Value')\n",
    "_ = plt.vlines(zscore, 0, 16, color='red', label='Target house')\n",
    "_ = plt.vlines(1.96, 0, 16, color='green', label='5% Significance Level')\n",
    "_ = plt.xlabel('Standardized tot_appr_val')\n",
    "_ = plt.ylabel('Count')\n",
    "_ = plt.legend(loc='upper right')"
   ]
  },
  {
   "cell_type": "markdown",
   "metadata": {
    "ExecuteTime": {
     "end_time": "2020-10-29T16:15:59.233083Z",
     "start_time": "2020-10-29T16:15:58.742309Z"
    }
   },
   "source": [
    "Now that we have found that there is something wrong with the appraisal value of the target property, let's turn our attention to predictiong what would have been a better value, based on the subdivision houses subset."
   ]
  },
  {
   "cell_type": "markdown",
   "metadata": {},
   "source": [
    "# Export subdivision data"
   ]
  },
  {
   "cell_type": "code",
   "execution_count": 58,
   "metadata": {
    "ExecuteTime": {
     "end_time": "2020-11-04T22:10:25.537065Z",
     "start_time": "2020-11-04T22:10:25.495011Z"
    }
   },
   "outputs": [],
   "source": [
    "save_fn = ROOT_DIR / 'data/interim/2016/subdiv.pickle'\n",
    "save_pickle(subdiv, save_fn)"
   ]
  }
 ],
 "metadata": {
  "kernelspec": {
   "display_name": "hcad_pred",
   "language": "python",
   "name": "hcad_pred"
  },
  "language_info": {
   "codemirror_mode": {
    "name": "ipython",
    "version": 3
   },
   "file_extension": ".py",
   "mimetype": "text/x-python",
   "name": "python",
   "nbconvert_exporter": "python",
   "pygments_lexer": "ipython3",
   "version": "3.7.8"
  },
  "toc": {
   "base_numbering": 1,
   "nav_menu": {},
   "number_sections": true,
   "sideBar": true,
   "skip_h1_title": false,
   "title_cell": "Table of Contents",
   "title_sidebar": "Contents",
   "toc_cell": false,
   "toc_position": {},
   "toc_section_display": true,
   "toc_window_display": false
  }
 },
 "nbformat": 4,
 "nbformat_minor": 4
}
