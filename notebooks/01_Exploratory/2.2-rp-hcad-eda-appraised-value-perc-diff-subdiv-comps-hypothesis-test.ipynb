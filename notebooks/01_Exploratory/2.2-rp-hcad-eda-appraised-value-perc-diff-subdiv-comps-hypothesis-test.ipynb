{
 "cells": [
  {
   "cell_type": "markdown",
   "metadata": {},
   "source": [
    "# Load previously cleaned and merged properties (comps)\n",
    "\n",
    "The file being imported below was constructed in the last seven exploratory notebooks (1.0 to 1.6). These data have been cleaned and merged so we can start the exploratory data analysis."
   ]
  },
  {
   "cell_type": "code",
   "execution_count": 1,
   "metadata": {
    "ExecuteTime": {
     "end_time": "2020-11-24T12:47:31.093560Z",
     "start_time": "2020-11-24T12:47:31.073563Z"
    }
   },
   "outputs": [],
   "source": [
    "%load_ext autoreload\n",
    "%autoreload 2"
   ]
  },
  {
   "cell_type": "code",
   "execution_count": 2,
   "metadata": {
    "ExecuteTime": {
     "end_time": "2020-11-24T12:47:34.042811Z",
     "start_time": "2020-11-24T12:47:31.096065Z"
    }
   },
   "outputs": [],
   "source": [
    "from pathlib import Path\n",
    "import pickle\n",
    "\n",
    "import numpy as np\n",
    "import pandas as pd\n",
    "\n",
    "import matplotlib.pyplot as plt\n",
    "import seaborn as sns\n",
    "\n",
    "from src.definitions import ROOT_DIR\n",
    "from src.data.utils import Table, save_pickle"
   ]
  },
  {
   "cell_type": "code",
   "execution_count": 3,
   "metadata": {
    "ExecuteTime": {
     "end_time": "2020-11-24T12:47:34.072372Z",
     "start_time": "2020-11-24T12:47:34.045013Z"
    }
   },
   "outputs": [],
   "source": [
    "plt.style.use('seaborn-poster')"
   ]
  },
  {
   "cell_type": "code",
   "execution_count": 4,
   "metadata": {
    "ExecuteTime": {
     "end_time": "2020-11-24T12:47:39.128181Z",
     "start_time": "2020-11-24T12:47:34.074979Z"
    }
   },
   "outputs": [],
   "source": [
    "comps_fn = ROOT_DIR / 'data/interim/2016/comps.pickle'\n",
    "assert comps_fn.exists()\n",
    "\n",
    "with open(comps_fn, 'rb') as f:\n",
    "    comps = pickle.load(f)"
   ]
  },
  {
   "cell_type": "code",
   "execution_count": 5,
   "metadata": {
    "ExecuteTime": {
     "end_time": "2020-11-24T12:47:39.150819Z",
     "start_time": "2020-11-24T12:47:39.129692Z"
    }
   },
   "outputs": [
    {
     "data": {
      "text/plain": [
       "(957686, 83)"
      ]
     },
     "execution_count": 5,
     "metadata": {},
     "output_type": "execute_result"
    }
   ],
   "source": [
    "comps.shape"
   ]
  },
  {
   "cell_type": "code",
   "execution_count": 6,
   "metadata": {
    "ExecuteTime": {
     "end_time": "2020-11-24T12:47:40.591581Z",
     "start_time": "2020-11-24T12:47:39.154416Z"
    }
   },
   "outputs": [
    {
     "name": "stdout",
     "output_type": "stream",
     "text": [
      "<class 'pandas.core.frame.DataFrame'>\n",
      "Int64Index: 957686 entries, 0 to 957685\n",
      "Data columns (total 83 columns):\n",
      " #   Column                                          Non-Null Count   Dtype         \n",
      "---  ------                                          --------------   -----         \n",
      " 0   acct                                            957686 non-null  uint64        \n",
      " 1   dscr                                            957686 non-null  category      \n",
      " 2   date_erected                                    957686 non-null  uint16        \n",
      " 3   yr_remodel                                      86406 non-null   float64       \n",
      " 4   im_sq_ft                                        957683 non-null  float64       \n",
      " 5   act_ar                                          957686 non-null  uint16        \n",
      " 6   heat_ar                                         957682 non-null  float64       \n",
      " 7   gross_ar                                        957686 non-null  uint16        \n",
      " 8   eff_ar                                          957685 non-null  float64       \n",
      " 9   perimeter                                       956517 non-null  float64       \n",
      " 10  fireplace_masonry_firebrick                     957686 non-null  float32       \n",
      " 11  fireplace_metal_prefab                          957686 non-null  float32       \n",
      " 12  fixtures_addl                                   957686 non-null  float32       \n",
      " 13  fixtures_total                                  957686 non-null  float32       \n",
      " 14  room_bedroom                                    957686 non-null  float32       \n",
      " 15  room_full_bath                                  957686 non-null  float32       \n",
      " 16  room_half_bath                                  957686 non-null  float32       \n",
      " 17  room_rec                                        957686 non-null  float32       \n",
      " 18  room_total                                      957686 non-null  float32       \n",
      " 19  story_height_index                              957686 non-null  float32       \n",
      " 20  zip_code                                        957640 non-null  float64       \n",
      " 21  school_dist                                     957631 non-null  object        \n",
      " 22  neighborhood_code                               957685 non-null  object        \n",
      " 23  market_area_1_dscr                              957686 non-null  object        \n",
      " 24  market_area_2_dscr                              957686 non-null  object        \n",
      " 25  center_code                                     957308 non-null  object        \n",
      " 26  bld_ar                                          957683 non-null  float64       \n",
      " 27  land_ar                                         956654 non-null  float64       \n",
      " 28  acreage                                         957686 non-null  float64       \n",
      " 29  land_val                                        957682 non-null  float64       \n",
      " 30  tot_appr_val                                    957682 non-null  float64       \n",
      " 31  prior_land_val                                  956020 non-null  float64       \n",
      " 32  prior_tot_appr_val                              956020 non-null  float64       \n",
      " 33  new_own_dt                                      957677 non-null  datetime64[ns]\n",
      " 34  lgl_1                                           957686 non-null  object        \n",
      " 35  lgl_2                                           957680 non-null  object        \n",
      " 36  basic_outdoor_kitchen_uts                       429697 non-null  float64       \n",
      " 37  brick_or_stone_detached_garage_uts              429697 non-null  float64       \n",
      " 38  canopy_residential_uts                          429697 non-null  float64       \n",
      " 39  carport_residential_uts                         429697 non-null  float64       \n",
      " 40  cracked_slab_uts                                429697 non-null  float64       \n",
      " 41  custom_outdoor_kitchen_uts                      429697 non-null  float64       \n",
      " 42  foundation_repaired_uts                         429697 non-null  float64       \n",
      " 43  frame_detached_garage_uts                       429697 non-null  float64       \n",
      " 44  frame_detached_garage_w_living_area_abov_uts    429697 non-null  float64       \n",
      " 45  frame_utility_shed_uts                          429697 non-null  float64       \n",
      " 46  gunite_pool_uts                                 429697 non-null  float64       \n",
      " 47  metal_utility_shed_uts                          429697 non-null  float64       \n",
      " 48  pool_spa_with_heater_uts                        429697 non-null  float64       \n",
      " 49  reinforced_concrete_pool_uts                    429697 non-null  float64       \n",
      " 50  residential_other_gross_value_uts               429697 non-null  float64       \n",
      " 51  basic_outdoor_kitchen_grade                     2303 non-null    float64       \n",
      " 52  brick_or_stone_detached_garage_grade            13743 non-null   float64       \n",
      " 53  canopy_residential_grade                        80708 non-null   float64       \n",
      " 54  carport_residential_grade                       73048 non-null   float64       \n",
      " 55  cracked_slab_grade                              16121 non-null   float64       \n",
      " 56  custom_outdoor_kitchen_grade                    4294 non-null    float64       \n",
      " 57  foundation_repaired_grade                       17653 non-null   float64       \n",
      " 58  frame_detached_garage_grade                     180706 non-null  float64       \n",
      " 59  frame_detached_garage_w_living_area_abov_grade  7047 non-null    float64       \n",
      " 60  frame_utility_shed_grade                        87818 non-null   float64       \n",
      " 61  gunite_pool_grade                               87950 non-null   float64       \n",
      " 62  metal_utility_shed_grade                        18365 non-null   float64       \n",
      " 63  pool_spa_with_heater_grade                      37212 non-null   float64       \n",
      " 64  reinforced_concrete_pool_grade                  3729 non-null    float64       \n",
      " 65  residential_other_gross_value_grade             14549 non-null   float64       \n",
      " 66  base_area_pri                                   957683 non-null  float64       \n",
      " 67  base_area_upr                                   957683 non-null  float64       \n",
      " 68  frame_garage_pri                                957683 non-null  float64       \n",
      " 69  mas_brk_garage_pri                              957683 non-null  float64       \n",
      " 70  mas_conc_patio_pri                              957683 non-null  float64       \n",
      " 71  one_story_frame_pri                             957683 non-null  float64       \n",
      " 72  one_story_frame_upr                             957683 non-null  float64       \n",
      " 73  one_story_mas_pri                               957683 non-null  float64       \n",
      " 74  open_frame_porch_pri                            957683 non-null  float64       \n",
      " 75  open_mas_porch_pri                              957683 non-null  float64       \n",
      " 76  cond_desir_util                                 957686 non-null  category      \n",
      " 77  cost_and_design                                 152261 non-null  category      \n",
      " 78  exterior_wall                                   957685 non-null  category      \n",
      " 79  foundation_type                                 957686 non-null  category      \n",
      " 80  grade_adjustment                                957686 non-null  category      \n",
      " 81  heating_ac                                      957685 non-null  category      \n",
      " 82  physical_condition                              957686 non-null  category      \n",
      "dtypes: category(8), datetime64[ns](1), float32(10), float64(53), object(7), uint16(3), uint64(1)\n",
      "memory usage: 509.6+ MB\n"
     ]
    }
   ],
   "source": [
    "comps.info()"
   ]
  },
  {
   "cell_type": "code",
   "execution_count": 7,
   "metadata": {
    "ExecuteTime": {
     "end_time": "2020-11-24T12:47:40.745883Z",
     "start_time": "2020-11-24T12:47:40.593768Z"
    }
   },
   "outputs": [
    {
     "data": {
      "text/html": [
       "<div>\n",
       "<style scoped>\n",
       "    .dataframe tbody tr th:only-of-type {\n",
       "        vertical-align: middle;\n",
       "    }\n",
       "\n",
       "    .dataframe tbody tr th {\n",
       "        vertical-align: top;\n",
       "    }\n",
       "\n",
       "    .dataframe thead th {\n",
       "        text-align: right;\n",
       "    }\n",
       "</style>\n",
       "<table border=\"1\" class=\"dataframe\">\n",
       "  <thead>\n",
       "    <tr style=\"text-align: right;\">\n",
       "      <th></th>\n",
       "      <th>acct</th>\n",
       "      <th>dscr</th>\n",
       "      <th>date_erected</th>\n",
       "      <th>yr_remodel</th>\n",
       "      <th>im_sq_ft</th>\n",
       "      <th>act_ar</th>\n",
       "      <th>heat_ar</th>\n",
       "      <th>gross_ar</th>\n",
       "      <th>eff_ar</th>\n",
       "      <th>perimeter</th>\n",
       "      <th>...</th>\n",
       "      <th>one_story_mas_pri</th>\n",
       "      <th>open_frame_porch_pri</th>\n",
       "      <th>open_mas_porch_pri</th>\n",
       "      <th>cond_desir_util</th>\n",
       "      <th>cost_and_design</th>\n",
       "      <th>exterior_wall</th>\n",
       "      <th>foundation_type</th>\n",
       "      <th>grade_adjustment</th>\n",
       "      <th>heating_ac</th>\n",
       "      <th>physical_condition</th>\n",
       "    </tr>\n",
       "  </thead>\n",
       "  <tbody>\n",
       "    <tr>\n",
       "      <th>70632</th>\n",
       "      <td>552280090004</td>\n",
       "      <td>Average</td>\n",
       "      <td>1962</td>\n",
       "      <td>NaN</td>\n",
       "      <td>952.0</td>\n",
       "      <td>1565</td>\n",
       "      <td>952.0</td>\n",
       "      <td>1565</td>\n",
       "      <td>1167.0</td>\n",
       "      <td>156.0</td>\n",
       "      <td>...</td>\n",
       "      <td>0.0</td>\n",
       "      <td>330.0</td>\n",
       "      <td>0.0</td>\n",
       "      <td>Fair</td>\n",
       "      <td>NaN</td>\n",
       "      <td>Brick / Veneer</td>\n",
       "      <td>Slab</td>\n",
       "      <td>C</td>\n",
       "      <td>Central Heat/AC</td>\n",
       "      <td>Average</td>\n",
       "    </tr>\n",
       "    <tr>\n",
       "      <th>649791</th>\n",
       "      <td>1171870030054</td>\n",
       "      <td>Average</td>\n",
       "      <td>1992</td>\n",
       "      <td>NaN</td>\n",
       "      <td>3039.0</td>\n",
       "      <td>3115</td>\n",
       "      <td>3039.0</td>\n",
       "      <td>3115</td>\n",
       "      <td>2916.0</td>\n",
       "      <td>362.0</td>\n",
       "      <td>...</td>\n",
       "      <td>75.0</td>\n",
       "      <td>76.0</td>\n",
       "      <td>0.0</td>\n",
       "      <td>Good</td>\n",
       "      <td>NaN</td>\n",
       "      <td>Brick / Masonry</td>\n",
       "      <td>Slab</td>\n",
       "      <td>C+</td>\n",
       "      <td>Central Heat/AC</td>\n",
       "      <td>Average</td>\n",
       "    </tr>\n",
       "    <tr>\n",
       "      <th>110354</th>\n",
       "      <td>680330040003</td>\n",
       "      <td>Average</td>\n",
       "      <td>1963</td>\n",
       "      <td>NaN</td>\n",
       "      <td>1544.0</td>\n",
       "      <td>1568</td>\n",
       "      <td>1544.0</td>\n",
       "      <td>1568</td>\n",
       "      <td>1552.0</td>\n",
       "      <td>182.0</td>\n",
       "      <td>...</td>\n",
       "      <td>0.0</td>\n",
       "      <td>24.0</td>\n",
       "      <td>0.0</td>\n",
       "      <td>Poor</td>\n",
       "      <td>NaN</td>\n",
       "      <td>Brick / Veneer</td>\n",
       "      <td>Slab</td>\n",
       "      <td>C</td>\n",
       "      <td>Central Heat/AC</td>\n",
       "      <td>Average</td>\n",
       "    </tr>\n",
       "    <tr>\n",
       "      <th>129114</th>\n",
       "      <td>720200160009</td>\n",
       "      <td>Average</td>\n",
       "      <td>1940</td>\n",
       "      <td>NaN</td>\n",
       "      <td>1008.0</td>\n",
       "      <td>1080</td>\n",
       "      <td>1008.0</td>\n",
       "      <td>1080</td>\n",
       "      <td>1032.0</td>\n",
       "      <td>132.0</td>\n",
       "      <td>...</td>\n",
       "      <td>0.0</td>\n",
       "      <td>72.0</td>\n",
       "      <td>0.0</td>\n",
       "      <td>Fair</td>\n",
       "      <td>NaN</td>\n",
       "      <td>Aluminum / Vinyl</td>\n",
       "      <td>Crawl Space</td>\n",
       "      <td>C-</td>\n",
       "      <td>Central Heat</td>\n",
       "      <td>Average</td>\n",
       "    </tr>\n",
       "    <tr>\n",
       "      <th>597307</th>\n",
       "      <td>1153980030001</td>\n",
       "      <td>Average</td>\n",
       "      <td>1983</td>\n",
       "      <td>NaN</td>\n",
       "      <td>2045.0</td>\n",
       "      <td>2815</td>\n",
       "      <td>2045.0</td>\n",
       "      <td>2815</td>\n",
       "      <td>2319.0</td>\n",
       "      <td>240.0</td>\n",
       "      <td>...</td>\n",
       "      <td>0.0</td>\n",
       "      <td>312.0</td>\n",
       "      <td>0.0</td>\n",
       "      <td>Average</td>\n",
       "      <td>NaN</td>\n",
       "      <td>Brick / Veneer</td>\n",
       "      <td>Slab</td>\n",
       "      <td>C</td>\n",
       "      <td>Central Heat/AC</td>\n",
       "      <td>Average</td>\n",
       "    </tr>\n",
       "    <tr>\n",
       "      <th>712958</th>\n",
       "      <td>1202020010019</td>\n",
       "      <td>Good</td>\n",
       "      <td>2003</td>\n",
       "      <td>NaN</td>\n",
       "      <td>3014.0</td>\n",
       "      <td>3803</td>\n",
       "      <td>3014.0</td>\n",
       "      <td>3803</td>\n",
       "      <td>3087.0</td>\n",
       "      <td>382.0</td>\n",
       "      <td>...</td>\n",
       "      <td>264.0</td>\n",
       "      <td>0.0</td>\n",
       "      <td>24.0</td>\n",
       "      <td>Average</td>\n",
       "      <td>NaN</td>\n",
       "      <td>Brick / Masonry</td>\n",
       "      <td>Slab</td>\n",
       "      <td>B-</td>\n",
       "      <td>Central Heat/AC</td>\n",
       "      <td>Average</td>\n",
       "    </tr>\n",
       "    <tr>\n",
       "      <th>52085</th>\n",
       "      <td>461710400004</td>\n",
       "      <td>Average</td>\n",
       "      <td>1980</td>\n",
       "      <td>NaN</td>\n",
       "      <td>928.0</td>\n",
       "      <td>928</td>\n",
       "      <td>928.0</td>\n",
       "      <td>928</td>\n",
       "      <td>882.0</td>\n",
       "      <td>NaN</td>\n",
       "      <td>...</td>\n",
       "      <td>0.0</td>\n",
       "      <td>0.0</td>\n",
       "      <td>0.0</td>\n",
       "      <td>Average</td>\n",
       "      <td>NaN</td>\n",
       "      <td>Frame / Concrete Blk</td>\n",
       "      <td>Slab</td>\n",
       "      <td>C</td>\n",
       "      <td>Central Heat/AC</td>\n",
       "      <td>Average</td>\n",
       "    </tr>\n",
       "    <tr>\n",
       "      <th>376997</th>\n",
       "      <td>1042740000002</td>\n",
       "      <td>Average</td>\n",
       "      <td>1973</td>\n",
       "      <td>NaN</td>\n",
       "      <td>1505.0</td>\n",
       "      <td>2014</td>\n",
       "      <td>1505.0</td>\n",
       "      <td>2014</td>\n",
       "      <td>1698.0</td>\n",
       "      <td>242.0</td>\n",
       "      <td>...</td>\n",
       "      <td>0.0</td>\n",
       "      <td>9.0</td>\n",
       "      <td>0.0</td>\n",
       "      <td>Average</td>\n",
       "      <td>NaN</td>\n",
       "      <td>Brick / Veneer</td>\n",
       "      <td>Slab</td>\n",
       "      <td>C</td>\n",
       "      <td>Central Heat/AC</td>\n",
       "      <td>Average</td>\n",
       "    </tr>\n",
       "    <tr>\n",
       "      <th>516898</th>\n",
       "      <td>1137900000046</td>\n",
       "      <td>Good</td>\n",
       "      <td>1990</td>\n",
       "      <td>NaN</td>\n",
       "      <td>3731.0</td>\n",
       "      <td>4207</td>\n",
       "      <td>3731.0</td>\n",
       "      <td>4207</td>\n",
       "      <td>3718.0</td>\n",
       "      <td>452.0</td>\n",
       "      <td>...</td>\n",
       "      <td>547.0</td>\n",
       "      <td>74.0</td>\n",
       "      <td>32.0</td>\n",
       "      <td>Good</td>\n",
       "      <td>NaN</td>\n",
       "      <td>Frame / Concrete Blk</td>\n",
       "      <td>Slab</td>\n",
       "      <td>B+</td>\n",
       "      <td>Central Heat/AC</td>\n",
       "      <td>Good</td>\n",
       "    </tr>\n",
       "    <tr>\n",
       "      <th>198188</th>\n",
       "      <td>804360000024</td>\n",
       "      <td>Average</td>\n",
       "      <td>1954</td>\n",
       "      <td>1998.0</td>\n",
       "      <td>1509.0</td>\n",
       "      <td>2100</td>\n",
       "      <td>1509.0</td>\n",
       "      <td>2100</td>\n",
       "      <td>1588.0</td>\n",
       "      <td>184.0</td>\n",
       "      <td>...</td>\n",
       "      <td>0.0</td>\n",
       "      <td>108.0</td>\n",
       "      <td>0.0</td>\n",
       "      <td>Average</td>\n",
       "      <td>Partial</td>\n",
       "      <td>Frame / Concrete Blk</td>\n",
       "      <td>Slab</td>\n",
       "      <td>C</td>\n",
       "      <td>Central Heat/AC</td>\n",
       "      <td>Average</td>\n",
       "    </tr>\n",
       "  </tbody>\n",
       "</table>\n",
       "<p>10 rows × 83 columns</p>\n",
       "</div>"
      ],
      "text/plain": [
       "                 acct     dscr  date_erected  yr_remodel  im_sq_ft  act_ar  \\\n",
       "70632    552280090004  Average          1962         NaN     952.0    1565   \n",
       "649791  1171870030054  Average          1992         NaN    3039.0    3115   \n",
       "110354   680330040003  Average          1963         NaN    1544.0    1568   \n",
       "129114   720200160009  Average          1940         NaN    1008.0    1080   \n",
       "597307  1153980030001  Average          1983         NaN    2045.0    2815   \n",
       "712958  1202020010019     Good          2003         NaN    3014.0    3803   \n",
       "52085    461710400004  Average          1980         NaN     928.0     928   \n",
       "376997  1042740000002  Average          1973         NaN    1505.0    2014   \n",
       "516898  1137900000046     Good          1990         NaN    3731.0    4207   \n",
       "198188   804360000024  Average          1954      1998.0    1509.0    2100   \n",
       "\n",
       "        heat_ar  gross_ar  eff_ar  perimeter  ...  one_story_mas_pri  \\\n",
       "70632     952.0      1565  1167.0      156.0  ...                0.0   \n",
       "649791   3039.0      3115  2916.0      362.0  ...               75.0   \n",
       "110354   1544.0      1568  1552.0      182.0  ...                0.0   \n",
       "129114   1008.0      1080  1032.0      132.0  ...                0.0   \n",
       "597307   2045.0      2815  2319.0      240.0  ...                0.0   \n",
       "712958   3014.0      3803  3087.0      382.0  ...              264.0   \n",
       "52085     928.0       928   882.0        NaN  ...                0.0   \n",
       "376997   1505.0      2014  1698.0      242.0  ...                0.0   \n",
       "516898   3731.0      4207  3718.0      452.0  ...              547.0   \n",
       "198188   1509.0      2100  1588.0      184.0  ...                0.0   \n",
       "\n",
       "        open_frame_porch_pri  open_mas_porch_pri  cond_desir_util  \\\n",
       "70632                  330.0                 0.0             Fair   \n",
       "649791                  76.0                 0.0             Good   \n",
       "110354                  24.0                 0.0             Poor   \n",
       "129114                  72.0                 0.0             Fair   \n",
       "597307                 312.0                 0.0          Average   \n",
       "712958                   0.0                24.0          Average   \n",
       "52085                    0.0                 0.0          Average   \n",
       "376997                   9.0                 0.0          Average   \n",
       "516898                  74.0                32.0             Good   \n",
       "198188                 108.0                 0.0          Average   \n",
       "\n",
       "        cost_and_design         exterior_wall  foundation_type  \\\n",
       "70632               NaN        Brick / Veneer             Slab   \n",
       "649791              NaN       Brick / Masonry             Slab   \n",
       "110354              NaN        Brick / Veneer             Slab   \n",
       "129114              NaN      Aluminum / Vinyl      Crawl Space   \n",
       "597307              NaN        Brick / Veneer             Slab   \n",
       "712958              NaN       Brick / Masonry             Slab   \n",
       "52085               NaN  Frame / Concrete Blk             Slab   \n",
       "376997              NaN        Brick / Veneer             Slab   \n",
       "516898              NaN  Frame / Concrete Blk             Slab   \n",
       "198188          Partial  Frame / Concrete Blk             Slab   \n",
       "\n",
       "        grade_adjustment       heating_ac  physical_condition  \n",
       "70632                  C  Central Heat/AC             Average  \n",
       "649791                C+  Central Heat/AC             Average  \n",
       "110354                 C  Central Heat/AC             Average  \n",
       "129114                C-     Central Heat             Average  \n",
       "597307                 C  Central Heat/AC             Average  \n",
       "712958                B-  Central Heat/AC             Average  \n",
       "52085                  C  Central Heat/AC             Average  \n",
       "376997                 C  Central Heat/AC             Average  \n",
       "516898                B+  Central Heat/AC                Good  \n",
       "198188                 C  Central Heat/AC             Average  \n",
       "\n",
       "[10 rows x 83 columns]"
      ]
     },
     "execution_count": 7,
     "metadata": {},
     "output_type": "execute_result"
    }
   ],
   "source": [
    "comps.sample(10)"
   ]
  },
  {
   "cell_type": "markdown",
   "metadata": {},
   "source": [
    "## Drop account numbers\n",
    "The account numbers are kept as a reference to the raw data, but should not be used in the EDA. Since they are unique, let's use them as index in the comps dataframe."
   ]
  },
  {
   "cell_type": "code",
   "execution_count": 8,
   "metadata": {
    "ExecuteTime": {
     "end_time": "2020-11-24T12:47:40.886120Z",
     "start_time": "2020-11-24T12:47:40.750906Z"
    }
   },
   "outputs": [
    {
     "data": {
      "text/plain": [
       "True"
      ]
     },
     "execution_count": 8,
     "metadata": {},
     "output_type": "execute_result"
    }
   ],
   "source": [
    "comps['acct'].is_unique"
   ]
  },
  {
   "cell_type": "code",
   "execution_count": 9,
   "metadata": {
    "ExecuteTime": {
     "end_time": "2020-11-24T12:47:40.909860Z",
     "start_time": "2020-11-24T12:47:40.890235Z"
    }
   },
   "outputs": [],
   "source": [
    "comps.set_index('acct', inplace=True)"
   ]
  },
  {
   "cell_type": "code",
   "execution_count": 10,
   "metadata": {
    "ExecuteTime": {
     "end_time": "2020-11-24T12:47:41.019873Z",
     "start_time": "2020-11-24T12:47:40.911865Z"
    }
   },
   "outputs": [
    {
     "data": {
      "text/html": [
       "<div>\n",
       "<style scoped>\n",
       "    .dataframe tbody tr th:only-of-type {\n",
       "        vertical-align: middle;\n",
       "    }\n",
       "\n",
       "    .dataframe tbody tr th {\n",
       "        vertical-align: top;\n",
       "    }\n",
       "\n",
       "    .dataframe thead th {\n",
       "        text-align: right;\n",
       "    }\n",
       "</style>\n",
       "<table border=\"1\" class=\"dataframe\">\n",
       "  <thead>\n",
       "    <tr style=\"text-align: right;\">\n",
       "      <th></th>\n",
       "      <th>dscr</th>\n",
       "      <th>date_erected</th>\n",
       "      <th>yr_remodel</th>\n",
       "      <th>im_sq_ft</th>\n",
       "      <th>act_ar</th>\n",
       "      <th>heat_ar</th>\n",
       "      <th>gross_ar</th>\n",
       "      <th>eff_ar</th>\n",
       "      <th>perimeter</th>\n",
       "      <th>fireplace_masonry_firebrick</th>\n",
       "      <th>...</th>\n",
       "      <th>one_story_mas_pri</th>\n",
       "      <th>open_frame_porch_pri</th>\n",
       "      <th>open_mas_porch_pri</th>\n",
       "      <th>cond_desir_util</th>\n",
       "      <th>cost_and_design</th>\n",
       "      <th>exterior_wall</th>\n",
       "      <th>foundation_type</th>\n",
       "      <th>grade_adjustment</th>\n",
       "      <th>heating_ac</th>\n",
       "      <th>physical_condition</th>\n",
       "    </tr>\n",
       "    <tr>\n",
       "      <th>acct</th>\n",
       "      <th></th>\n",
       "      <th></th>\n",
       "      <th></th>\n",
       "      <th></th>\n",
       "      <th></th>\n",
       "      <th></th>\n",
       "      <th></th>\n",
       "      <th></th>\n",
       "      <th></th>\n",
       "      <th></th>\n",
       "      <th></th>\n",
       "      <th></th>\n",
       "      <th></th>\n",
       "      <th></th>\n",
       "      <th></th>\n",
       "      <th></th>\n",
       "      <th></th>\n",
       "      <th></th>\n",
       "      <th></th>\n",
       "      <th></th>\n",
       "      <th></th>\n",
       "    </tr>\n",
       "  </thead>\n",
       "  <tbody>\n",
       "    <tr>\n",
       "      <th>1153270140046</th>\n",
       "      <td>Average</td>\n",
       "      <td>1983</td>\n",
       "      <td>NaN</td>\n",
       "      <td>1592.0</td>\n",
       "      <td>2372</td>\n",
       "      <td>1592.0</td>\n",
       "      <td>2372</td>\n",
       "      <td>1845.0</td>\n",
       "      <td>204.0</td>\n",
       "      <td>0.0</td>\n",
       "      <td>...</td>\n",
       "      <td>0.0</td>\n",
       "      <td>120.0</td>\n",
       "      <td>0.0</td>\n",
       "      <td>Average</td>\n",
       "      <td>NaN</td>\n",
       "      <td>Brick / Veneer</td>\n",
       "      <td>Slab</td>\n",
       "      <td>C</td>\n",
       "      <td>Central Heat/AC</td>\n",
       "      <td>Average</td>\n",
       "    </tr>\n",
       "    <tr>\n",
       "      <th>1141230060001</th>\n",
       "      <td>Average</td>\n",
       "      <td>1983</td>\n",
       "      <td>NaN</td>\n",
       "      <td>1634.0</td>\n",
       "      <td>2247</td>\n",
       "      <td>1634.0</td>\n",
       "      <td>2247</td>\n",
       "      <td>1860.0</td>\n",
       "      <td>224.0</td>\n",
       "      <td>0.0</td>\n",
       "      <td>...</td>\n",
       "      <td>0.0</td>\n",
       "      <td>126.0</td>\n",
       "      <td>0.0</td>\n",
       "      <td>Average</td>\n",
       "      <td>NaN</td>\n",
       "      <td>Frame / Concrete Blk</td>\n",
       "      <td>Slab</td>\n",
       "      <td>C</td>\n",
       "      <td>Central Heat/AC</td>\n",
       "      <td>Average</td>\n",
       "    </tr>\n",
       "    <tr>\n",
       "      <th>941240000014</th>\n",
       "      <td>Average</td>\n",
       "      <td>1970</td>\n",
       "      <td>2003.0</td>\n",
       "      <td>1642.0</td>\n",
       "      <td>2042</td>\n",
       "      <td>1642.0</td>\n",
       "      <td>2042</td>\n",
       "      <td>1794.0</td>\n",
       "      <td>186.0</td>\n",
       "      <td>0.0</td>\n",
       "      <td>...</td>\n",
       "      <td>420.0</td>\n",
       "      <td>0.0</td>\n",
       "      <td>0.0</td>\n",
       "      <td>Good</td>\n",
       "      <td>Partial</td>\n",
       "      <td>Brick / Veneer</td>\n",
       "      <td>Slab</td>\n",
       "      <td>C</td>\n",
       "      <td>Central Heat/AC</td>\n",
       "      <td>Good</td>\n",
       "    </tr>\n",
       "    <tr>\n",
       "      <th>640110000399</th>\n",
       "      <td>Low</td>\n",
       "      <td>1958</td>\n",
       "      <td>NaN</td>\n",
       "      <td>1200.0</td>\n",
       "      <td>1867</td>\n",
       "      <td>1200.0</td>\n",
       "      <td>1867</td>\n",
       "      <td>1380.0</td>\n",
       "      <td>196.0</td>\n",
       "      <td>0.0</td>\n",
       "      <td>...</td>\n",
       "      <td>0.0</td>\n",
       "      <td>42.0</td>\n",
       "      <td>0.0</td>\n",
       "      <td>Fair</td>\n",
       "      <td>NaN</td>\n",
       "      <td>Aluminum / Vinyl</td>\n",
       "      <td>Slab</td>\n",
       "      <td>D</td>\n",
       "      <td>Central Heat/AC</td>\n",
       "      <td>Average</td>\n",
       "    </tr>\n",
       "    <tr>\n",
       "      <th>1064790000005</th>\n",
       "      <td>Good</td>\n",
       "      <td>1978</td>\n",
       "      <td>NaN</td>\n",
       "      <td>2468.0</td>\n",
       "      <td>3253</td>\n",
       "      <td>2468.0</td>\n",
       "      <td>3253</td>\n",
       "      <td>2612.0</td>\n",
       "      <td>336.0</td>\n",
       "      <td>1.0</td>\n",
       "      <td>...</td>\n",
       "      <td>0.0</td>\n",
       "      <td>132.0</td>\n",
       "      <td>0.0</td>\n",
       "      <td>Fair</td>\n",
       "      <td>NaN</td>\n",
       "      <td>Brick / Veneer</td>\n",
       "      <td>Slab</td>\n",
       "      <td>B-</td>\n",
       "      <td>Central Heat/AC</td>\n",
       "      <td>Fair</td>\n",
       "    </tr>\n",
       "    <tr>\n",
       "      <th>1135390000001</th>\n",
       "      <td>Average</td>\n",
       "      <td>1980</td>\n",
       "      <td>2011.0</td>\n",
       "      <td>2197.0</td>\n",
       "      <td>2673</td>\n",
       "      <td>2197.0</td>\n",
       "      <td>2673</td>\n",
       "      <td>2232.0</td>\n",
       "      <td>314.0</td>\n",
       "      <td>1.0</td>\n",
       "      <td>...</td>\n",
       "      <td>171.0</td>\n",
       "      <td>0.0</td>\n",
       "      <td>0.0</td>\n",
       "      <td>Very Good</td>\n",
       "      <td>Partial</td>\n",
       "      <td>Brick / Masonry</td>\n",
       "      <td>Slab</td>\n",
       "      <td>C</td>\n",
       "      <td>Central Heat/AC</td>\n",
       "      <td>Very Good</td>\n",
       "    </tr>\n",
       "    <tr>\n",
       "      <th>1130900000102</th>\n",
       "      <td>Good</td>\n",
       "      <td>1981</td>\n",
       "      <td>NaN</td>\n",
       "      <td>2819.0</td>\n",
       "      <td>3185</td>\n",
       "      <td>2819.0</td>\n",
       "      <td>3185</td>\n",
       "      <td>2833.0</td>\n",
       "      <td>362.0</td>\n",
       "      <td>1.0</td>\n",
       "      <td>...</td>\n",
       "      <td>748.0</td>\n",
       "      <td>78.0</td>\n",
       "      <td>0.0</td>\n",
       "      <td>Average</td>\n",
       "      <td>NaN</td>\n",
       "      <td>Frame / Concrete Blk</td>\n",
       "      <td>Slab</td>\n",
       "      <td>B-</td>\n",
       "      <td>Central Heat/AC</td>\n",
       "      <td>Average</td>\n",
       "    </tr>\n",
       "    <tr>\n",
       "      <th>640610020012</th>\n",
       "      <td>Average</td>\n",
       "      <td>1972</td>\n",
       "      <td>NaN</td>\n",
       "      <td>2676.0</td>\n",
       "      <td>3278</td>\n",
       "      <td>2676.0</td>\n",
       "      <td>3278</td>\n",
       "      <td>2875.0</td>\n",
       "      <td>218.0</td>\n",
       "      <td>0.0</td>\n",
       "      <td>...</td>\n",
       "      <td>0.0</td>\n",
       "      <td>450.0</td>\n",
       "      <td>152.0</td>\n",
       "      <td>Fair</td>\n",
       "      <td>NaN</td>\n",
       "      <td>Brick / Veneer</td>\n",
       "      <td>Slab</td>\n",
       "      <td>C+</td>\n",
       "      <td>Central Heat/AC</td>\n",
       "      <td>Average</td>\n",
       "    </tr>\n",
       "    <tr>\n",
       "      <th>1151360070021</th>\n",
       "      <td>Average</td>\n",
       "      <td>1990</td>\n",
       "      <td>NaN</td>\n",
       "      <td>1896.0</td>\n",
       "      <td>2350</td>\n",
       "      <td>1896.0</td>\n",
       "      <td>2350</td>\n",
       "      <td>2066.0</td>\n",
       "      <td>202.0</td>\n",
       "      <td>0.0</td>\n",
       "      <td>...</td>\n",
       "      <td>0.0</td>\n",
       "      <td>0.0</td>\n",
       "      <td>54.0</td>\n",
       "      <td>Average</td>\n",
       "      <td>NaN</td>\n",
       "      <td>Brick / Veneer</td>\n",
       "      <td>Slab</td>\n",
       "      <td>C</td>\n",
       "      <td>Central Heat/AC</td>\n",
       "      <td>Average</td>\n",
       "    </tr>\n",
       "    <tr>\n",
       "      <th>731470030009</th>\n",
       "      <td>Average</td>\n",
       "      <td>1951</td>\n",
       "      <td>2000.0</td>\n",
       "      <td>2132.0</td>\n",
       "      <td>2572</td>\n",
       "      <td>2132.0</td>\n",
       "      <td>2572</td>\n",
       "      <td>2198.0</td>\n",
       "      <td>196.0</td>\n",
       "      <td>0.0</td>\n",
       "      <td>...</td>\n",
       "      <td>0.0</td>\n",
       "      <td>0.0</td>\n",
       "      <td>0.0</td>\n",
       "      <td>Average</td>\n",
       "      <td>Extensive</td>\n",
       "      <td>Frame / Concrete Blk</td>\n",
       "      <td>Slab</td>\n",
       "      <td>C</td>\n",
       "      <td>None</td>\n",
       "      <td>Average</td>\n",
       "    </tr>\n",
       "  </tbody>\n",
       "</table>\n",
       "<p>10 rows × 82 columns</p>\n",
       "</div>"
      ],
      "text/plain": [
       "                  dscr  date_erected  yr_remodel  im_sq_ft  act_ar  heat_ar  \\\n",
       "acct                                                                          \n",
       "1153270140046  Average          1983         NaN    1592.0    2372   1592.0   \n",
       "1141230060001  Average          1983         NaN    1634.0    2247   1634.0   \n",
       "941240000014   Average          1970      2003.0    1642.0    2042   1642.0   \n",
       "640110000399       Low          1958         NaN    1200.0    1867   1200.0   \n",
       "1064790000005     Good          1978         NaN    2468.0    3253   2468.0   \n",
       "1135390000001  Average          1980      2011.0    2197.0    2673   2197.0   \n",
       "1130900000102     Good          1981         NaN    2819.0    3185   2819.0   \n",
       "640610020012   Average          1972         NaN    2676.0    3278   2676.0   \n",
       "1151360070021  Average          1990         NaN    1896.0    2350   1896.0   \n",
       "731470030009   Average          1951      2000.0    2132.0    2572   2132.0   \n",
       "\n",
       "               gross_ar  eff_ar  perimeter  fireplace_masonry_firebrick  ...  \\\n",
       "acct                                                                     ...   \n",
       "1153270140046      2372  1845.0      204.0                          0.0  ...   \n",
       "1141230060001      2247  1860.0      224.0                          0.0  ...   \n",
       "941240000014       2042  1794.0      186.0                          0.0  ...   \n",
       "640110000399       1867  1380.0      196.0                          0.0  ...   \n",
       "1064790000005      3253  2612.0      336.0                          1.0  ...   \n",
       "1135390000001      2673  2232.0      314.0                          1.0  ...   \n",
       "1130900000102      3185  2833.0      362.0                          1.0  ...   \n",
       "640610020012       3278  2875.0      218.0                          0.0  ...   \n",
       "1151360070021      2350  2066.0      202.0                          0.0  ...   \n",
       "731470030009       2572  2198.0      196.0                          0.0  ...   \n",
       "\n",
       "               one_story_mas_pri  open_frame_porch_pri  open_mas_porch_pri  \\\n",
       "acct                                                                         \n",
       "1153270140046                0.0                 120.0                 0.0   \n",
       "1141230060001                0.0                 126.0                 0.0   \n",
       "941240000014               420.0                   0.0                 0.0   \n",
       "640110000399                 0.0                  42.0                 0.0   \n",
       "1064790000005                0.0                 132.0                 0.0   \n",
       "1135390000001              171.0                   0.0                 0.0   \n",
       "1130900000102              748.0                  78.0                 0.0   \n",
       "640610020012                 0.0                 450.0               152.0   \n",
       "1151360070021                0.0                   0.0                54.0   \n",
       "731470030009                 0.0                   0.0                 0.0   \n",
       "\n",
       "               cond_desir_util  cost_and_design         exterior_wall  \\\n",
       "acct                                                                    \n",
       "1153270140046          Average              NaN        Brick / Veneer   \n",
       "1141230060001          Average              NaN  Frame / Concrete Blk   \n",
       "941240000014              Good          Partial        Brick / Veneer   \n",
       "640110000399              Fair              NaN      Aluminum / Vinyl   \n",
       "1064790000005             Fair              NaN        Brick / Veneer   \n",
       "1135390000001        Very Good          Partial       Brick / Masonry   \n",
       "1130900000102          Average              NaN  Frame / Concrete Blk   \n",
       "640610020012              Fair              NaN        Brick / Veneer   \n",
       "1151360070021          Average              NaN        Brick / Veneer   \n",
       "731470030009           Average        Extensive  Frame / Concrete Blk   \n",
       "\n",
       "               foundation_type  grade_adjustment       heating_ac  \\\n",
       "acct                                                                \n",
       "1153270140046             Slab                 C  Central Heat/AC   \n",
       "1141230060001             Slab                 C  Central Heat/AC   \n",
       "941240000014              Slab                 C  Central Heat/AC   \n",
       "640110000399              Slab                 D  Central Heat/AC   \n",
       "1064790000005             Slab                B-  Central Heat/AC   \n",
       "1135390000001             Slab                 C  Central Heat/AC   \n",
       "1130900000102             Slab                B-  Central Heat/AC   \n",
       "640610020012              Slab                C+  Central Heat/AC   \n",
       "1151360070021             Slab                 C  Central Heat/AC   \n",
       "731470030009              Slab                 C             None   \n",
       "\n",
       "               physical_condition  \n",
       "acct                               \n",
       "1153270140046             Average  \n",
       "1141230060001             Average  \n",
       "941240000014                 Good  \n",
       "640110000399              Average  \n",
       "1064790000005                Fair  \n",
       "1135390000001           Very Good  \n",
       "1130900000102             Average  \n",
       "640610020012              Average  \n",
       "1151360070021             Average  \n",
       "731470030009              Average  \n",
       "\n",
       "[10 rows x 82 columns]"
      ]
     },
     "execution_count": 10,
     "metadata": {},
     "output_type": "execute_result"
    }
   ],
   "source": [
    "comps.sample(10)"
   ]
  },
  {
   "cell_type": "markdown",
   "metadata": {},
   "source": [
    "# Build target column\n",
    "The purpose of this work is to find if a given property was fairly appraised when compared with with similar properties.\n",
    "\n",
    "For this we could find the distribution of similar properties total appraised value (`tot_appr_val`) and locate where our target house falls. However, since there is a wide range of property values given their location (neighborhood), physical condition, renovation, and other factors, it might be best to focus on the year-to-year percent change in property value:\n",
    "\n",
    "`yy_pct_change` = (`tot_appr_val` - `prior_tot_appr_val`) / `prior_tot_appr_val`"
   ]
  },
  {
   "cell_type": "markdown",
   "metadata": {},
   "source": [
    "## Drop NaNs in value colums"
   ]
  },
  {
   "cell_type": "code",
   "execution_count": 11,
   "metadata": {
    "ExecuteTime": {
     "end_time": "2020-11-24T12:47:41.040211Z",
     "start_time": "2020-11-24T12:47:41.021581Z"
    }
   },
   "outputs": [],
   "source": [
    "cond0 = comps['prior_tot_appr_val'].isna()\n",
    "cond1 = comps['tot_appr_val'].isna()"
   ]
  },
  {
   "cell_type": "code",
   "execution_count": 12,
   "metadata": {
    "ExecuteTime": {
     "end_time": "2020-11-24T12:47:41.059751Z",
     "start_time": "2020-11-24T12:47:41.041995Z"
    }
   },
   "outputs": [
    {
     "name": "stdout",
     "output_type": "stream",
     "text": [
      "Percent of prior_tot_appr_val missing values: 0.0017396098512456066\n",
      "Percent of tot_appr_val missing values: 4.176734336724146e-06\n"
     ]
    }
   ],
   "source": [
    "print(f'Percent of prior_tot_appr_val missing values: {cond0.sum() / cond0.shape[0]}')\n",
    "print(f'Percent of tot_appr_val missing values: {cond1.sum() / cond1.shape[0]}')"
   ]
  },
  {
   "cell_type": "code",
   "execution_count": 13,
   "metadata": {
    "ExecuteTime": {
     "end_time": "2020-11-24T12:47:41.406137Z",
     "start_time": "2020-11-24T12:47:41.061751Z"
    }
   },
   "outputs": [],
   "source": [
    "comps = comps.loc[~cond0 & ~cond1, :]"
   ]
  },
  {
   "cell_type": "markdown",
   "metadata": {},
   "source": [
    "## Drop samples where prior_tot_appr_val is zero"
   ]
  },
  {
   "cell_type": "code",
   "execution_count": 14,
   "metadata": {
    "ExecuteTime": {
     "end_time": "2020-11-24T12:47:41.431031Z",
     "start_time": "2020-11-24T12:47:41.407779Z"
    }
   },
   "outputs": [
    {
     "data": {
      "text/plain": [
       "30"
      ]
     },
     "execution_count": 14,
     "metadata": {},
     "output_type": "execute_result"
    }
   ],
   "source": [
    "cond0 = comps['prior_tot_appr_val'] == 0\n",
    "\n",
    "cond0.sum()"
   ]
  },
  {
   "cell_type": "code",
   "execution_count": 15,
   "metadata": {
    "ExecuteTime": {
     "end_time": "2020-11-24T12:47:42.066071Z",
     "start_time": "2020-11-24T12:47:41.432820Z"
    }
   },
   "outputs": [],
   "source": [
    "comps = comps.loc[~cond0, :]"
   ]
  },
  {
   "cell_type": "markdown",
   "metadata": {},
   "source": [
    "## Check tot_appr_val"
   ]
  },
  {
   "cell_type": "code",
   "execution_count": 16,
   "metadata": {
    "ExecuteTime": {
     "end_time": "2020-11-24T12:47:42.112855Z",
     "start_time": "2020-11-24T12:47:42.068030Z"
    }
   },
   "outputs": [],
   "source": [
    "from src.visualization.visualize import plot_ecdf, plot_counts, plot_hist"
   ]
  },
  {
   "cell_type": "code",
   "execution_count": 17,
   "metadata": {
    "ExecuteTime": {
     "end_time": "2020-11-24T12:47:42.145322Z",
     "start_time": "2020-11-24T12:47:42.121379Z"
    }
   },
   "outputs": [],
   "source": [
    "col ='tot_appr_val'\n",
    "series = comps[col]"
   ]
  },
  {
   "cell_type": "code",
   "execution_count": 18,
   "metadata": {
    "ExecuteTime": {
     "end_time": "2020-11-24T12:47:42.218994Z",
     "start_time": "2020-11-24T12:47:42.149724Z"
    }
   },
   "outputs": [
    {
     "data": {
      "text/plain": [
       "count    9.559880e+05\n",
       "mean     2.191061e+05\n",
       "std      2.800815e+05\n",
       "min      1.000000e+02\n",
       "25%      1.000000e+05\n",
       "50%      1.501055e+05\n",
       "75%      2.342272e+05\n",
       "max      1.726682e+07\n",
       "Name: tot_appr_val, dtype: float64"
      ]
     },
     "execution_count": 18,
     "metadata": {},
     "output_type": "execute_result"
    }
   ],
   "source": [
    "series.describe()"
   ]
  },
  {
   "cell_type": "code",
   "execution_count": 19,
   "metadata": {
    "ExecuteTime": {
     "end_time": "2020-11-24T12:47:42.525377Z",
     "start_time": "2020-11-24T12:47:42.220906Z"
    }
   },
   "outputs": [
    {
     "data": {
      "image/png": "[encoded data removed]",
      "text/plain": [
       "<Figure size 576x576 with 1 Axes>"
      ]
     },
     "metadata": {
      "needs_background": "light"
     },
     "output_type": "display_data"
    }
   ],
   "source": [
    "plot_hist(series, col)"
   ]
  },
  {
   "cell_type": "markdown",
   "metadata": {},
   "source": [
    "The high valued properties are masking the distribution of the lower valued properties in this histogram. Let's remake this figure with only properties valued less than $500k."
   ]
  },
  {
   "cell_type": "code",
   "execution_count": 20,
   "metadata": {
    "ExecuteTime": {
     "end_time": "2020-11-24T12:47:42.779953Z",
     "start_time": "2020-11-24T12:47:42.527631Z"
    }
   },
   "outputs": [
    {
     "data": {
      "image/png": "[encoded data removed]",
      "text/plain": [
       "<Figure size 576x576 with 1 Axes>"
      ]
     },
     "metadata": {
      "needs_background": "light"
     },
     "output_type": "display_data"
    }
   ],
   "source": [
    "plot_hist(series[series < 500000], col + ': Less than $500k')\n",
    "_ = plt.vlines(292707, 0, 400_000, color='red', label='Target house')\n",
    "_ = plt.legend(loc='upper right')"
   ]
  },
  {
   "cell_type": "markdown",
   "metadata": {},
   "source": [
    "The target house is on the high tail of the distribution of all single-family houses in HCAD. Perhaps we can remove the effect of the property's appraisal value magnitude by calculating the year-to-year percent change in value."
   ]
  },
  {
   "cell_type": "markdown",
   "metadata": {},
   "source": [
    "## Build year-to-year percent change value"
   ]
  },
  {
   "cell_type": "code",
   "execution_count": 21,
   "metadata": {
    "ExecuteTime": {
     "end_time": "2020-11-24T12:47:42.813634Z",
     "start_time": "2020-11-24T12:47:42.781936Z"
    }
   },
   "outputs": [],
   "source": [
    "comps['yy_pct_change'] = (comps['tot_appr_val'] - comps['prior_tot_appr_val']) / comps['prior_tot_appr_val']"
   ]
  },
  {
   "cell_type": "code",
   "execution_count": 22,
   "metadata": {
    "ExecuteTime": {
     "end_time": "2020-11-24T12:47:42.900643Z",
     "start_time": "2020-11-24T12:47:42.815912Z"
    }
   },
   "outputs": [
    {
     "data": {
      "text/plain": [
       "count    955988.000000\n",
       "mean          0.165985\n",
       "std           8.581099\n",
       "min          -0.870447\n",
       "25%           0.030658\n",
       "50%           0.099989\n",
       "75%           0.099999\n",
       "max        7151.941176\n",
       "Name: yy_pct_change, dtype: float64"
      ]
     },
     "execution_count": 22,
     "metadata": {},
     "output_type": "execute_result"
    }
   ],
   "source": [
    "comps['yy_pct_change'].describe()"
   ]
  },
  {
   "cell_type": "code",
   "execution_count": 23,
   "metadata": {
    "ExecuteTime": {
     "end_time": "2020-11-24T12:47:43.277787Z",
     "start_time": "2020-11-24T12:47:42.905052Z"
    }
   },
   "outputs": [
    {
     "data": {
      "image/png": "[encoded data removed]",
      "text/plain": [
       "<Figure size 576x576 with 1 Axes>"
      ]
     },
     "metadata": {
      "needs_background": "light"
     },
     "output_type": "display_data"
    }
   ],
   "source": [
    "_ = plt.figure(figsize=(8,8))\n",
    "_ = comps['yy_pct_change'].hist(bins=100)\n",
    "_ = plt.title('Year-to-year perc. change for all comps')\n",
    "_ = plt.xlabel('yy_pct_change')\n",
    "_ = plt.ylabel('Count')"
   ]
  },
  {
   "cell_type": "code",
   "execution_count": 24,
   "metadata": {
    "ExecuteTime": {
     "end_time": "2020-11-24T12:47:43.345893Z",
     "start_time": "2020-11-24T12:47:43.280329Z"
    }
   },
   "outputs": [
    {
     "data": {
      "text/plain": [
       "count    955988.000000\n",
       "mean          0.165985\n",
       "std           8.581099\n",
       "min          -0.870447\n",
       "25%           0.030658\n",
       "50%           0.099989\n",
       "75%           0.099999\n",
       "max        7151.941176\n",
       "Name: yy_pct_change, dtype: float64"
      ]
     },
     "execution_count": 24,
     "metadata": {},
     "output_type": "execute_result"
    }
   ],
   "source": [
    "comps['yy_pct_change'].describe()"
   ]
  },
  {
   "cell_type": "markdown",
   "metadata": {},
   "source": [
    "There are valid reasons for a property value appreciation from year-to-year to be multiples of the initial value, for example, when a new house is constructed on an existing lot, the previous year value will be the value of the land alone, and the current year value will be the value of the land plus the value of the improvement (built house).\n",
    "\n",
    "Similarly, when the existing house in the prior year is a tear-down, we can expect the value of the property to increase significantly if the owner has removed the old house and built a new one on its place. This is fairly common on neighborhoods with new constructions restrictions, like The Heights.\n",
    "\n",
    "Also, we can expect a large value increase if there has been a major remodeling that either increased the number of rooms or baths (fixtures), common on fixer-uppers, but this work generally increases the value of a property by a fraction, and not whole multipliers.\n",
    "\n",
    "Finally, I think these large (7151%) appreciation values could be errors in the data, or properties that sold under the 10% cap benefits in very expensive neighborhoods. After the sale the cap no longer applies, and thus the property is assess to its true market value.\n",
    "\n",
    "Let's zoom-in properties appreciated less than 100%."
   ]
  },
  {
   "cell_type": "code",
   "execution_count": 25,
   "metadata": {
    "ExecuteTime": {
     "end_time": "2020-11-24T12:47:44.689899Z",
     "start_time": "2020-11-24T12:47:43.347790Z"
    }
   },
   "outputs": [],
   "source": [
    "comps_app_lt_1 = comps.loc[comps['yy_pct_change'] < 1, :].copy()"
   ]
  },
  {
   "cell_type": "code",
   "execution_count": 26,
   "metadata": {
    "ExecuteTime": {
     "end_time": "2020-11-24T12:47:45.204364Z",
     "start_time": "2020-11-24T12:47:44.698584Z"
    }
   },
   "outputs": [
    {
     "data": {
      "image/png": "[encoded data removed]",
      "text/plain": [
       "<Figure size 576x576 with 1 Axes>"
      ]
     },
     "metadata": {
      "needs_background": "light"
     },
     "output_type": "display_data"
    }
   ],
   "source": [
    "_ = plt.figure(figsize=(8,8))\n",
    "_ = comps_app_lt_1['yy_pct_change'].hist(bins=100)\n",
    "_ = plt.vlines(0.093, 5_000, 400_000, color='red', linestyle='--', linewidth=2, label='Target house')\n",
    "_ = plt.title('Comparables appreciated less than 100%')\n",
    "_ = plt.xlabel('yy_pct_change')\n",
    "_ = plt.ylabel('Count')\n",
    "_ = plt.legend(loc='upper right')"
   ]
  },
  {
   "cell_type": "code",
   "execution_count": 27,
   "metadata": {
    "ExecuteTime": {
     "end_time": "2020-11-24T12:47:45.367950Z",
     "start_time": "2020-11-24T12:47:45.206262Z"
    }
   },
   "outputs": [
    {
     "name": "stdout",
     "output_type": "stream",
     "text": [
      "(0.0833, 0.102]       446146\n",
      "(-0.0102, 0.00854]    157550\n",
      "(0.0646, 0.0833]       63198\n",
      "(0.0459, 0.0646]       59267\n",
      "(0.0272, 0.0459]       51915\n",
      "                       ...  \n",
      "(-0.758, -0.74]            2\n",
      "(-0.683, -0.665]           1\n",
      "(-0.814, -0.796]           1\n",
      "(-0.721, -0.702]           0\n",
      "(-0.852, -0.833]           0\n",
      "Name: yy_pct_change, Length: 100, dtype: int64\n",
      "(0.0833, 0.102]       0.471955\n",
      "(-0.0102, 0.00854]    0.166664\n",
      "(0.0646, 0.0833]      0.066854\n",
      "(0.0459, 0.0646]      0.062696\n",
      "(0.0272, 0.0459]      0.054918\n",
      "                        ...   \n",
      "(-0.758, -0.74]       0.000002\n",
      "(-0.683, -0.665]      0.000001\n",
      "(-0.814, -0.796]      0.000001\n",
      "(-0.721, -0.702]      0.000000\n",
      "(-0.852, -0.833]      0.000000\n",
      "Name: yy_pct_change, Length: 100, dtype: float64\n"
     ]
    }
   ],
   "source": [
    "print(comps_app_lt_1['yy_pct_change'].value_counts(bins=100))\n",
    "print(comps_app_lt_1['yy_pct_change'].value_counts(bins=100, normalize=True))"
   ]
  },
  {
   "cell_type": "markdown",
   "metadata": {},
   "source": [
    "This is interesting. There is a spike in the 10% value increase mark. This is possibly related to [Capped Appraisal Values](https://hcad.org/videos/the-10-homestead-cap/), where the appraisal district will cap the value of an existing property if the current year appraised value is more than 10% of last year's. Also, the property has to be homestead exempt for the current and prior year to be eligible for this benefit.\n",
    "\n",
    "We can see in the histogram that about 445000 properties qualified for this capping rule. Neat!\n",
    "\n",
    "There is a lesser spike near 0 % value increase, but its origin is less clear."
   ]
  },
  {
   "cell_type": "markdown",
   "metadata": {},
   "source": [
    "# Select the comparable properties\n",
    "\n",
    "The histogram on year-to-tear percent change appraise value above shows that most properties appreciated up to 40%, and depreciated down to 25%. While this is insightful, the spread is too broad as it accounts for almost all properties in the district, with all sorts of conditions, year built, neighborhood, and many other variables, and as a result, the target house is well within this distribution.\n",
    "\n",
    "Next, let's select the comparable properties to my property of interest by counting only properties in the same subdivision."
   ]
  },
  {
   "cell_type": "code",
   "execution_count": 28,
   "metadata": {
    "ExecuteTime": {
     "end_time": "2020-11-24T12:47:45.940137Z",
     "start_time": "2020-11-24T12:47:45.370320Z"
    }
   },
   "outputs": [],
   "source": [
    "cond0 = comps['lgl_2'].str.contains('PARK AT KLEIN SEC 1', case=False, na=False, regex=False)\n",
    "\n",
    "subdiv = comps.loc[cond0, :].copy()"
   ]
  },
  {
   "cell_type": "code",
   "execution_count": 29,
   "metadata": {
    "ExecuteTime": {
     "end_time": "2020-11-24T12:47:45.972742Z",
     "start_time": "2020-11-24T12:47:45.943245Z"
    }
   },
   "outputs": [
    {
     "data": {
      "text/plain": [
       "(111, 83)"
      ]
     },
     "execution_count": 29,
     "metadata": {},
     "output_type": "execute_result"
    }
   ],
   "source": [
    "subdiv.shape"
   ]
  },
  {
   "cell_type": "markdown",
   "metadata": {},
   "source": [
    "Since we have selected only the houses at the specified subdivision, there are a lot of categorical columns in this subset of samples that are single valued (e.g. `neighborhood_code`, `market_area_1_dscr`, etc.). Let's remove these columns."
   ]
  },
  {
   "cell_type": "code",
   "execution_count": 30,
   "metadata": {
    "ExecuteTime": {
     "end_time": "2020-11-24T12:47:46.112078Z",
     "start_time": "2020-11-24T12:47:45.975425Z"
    }
   },
   "outputs": [],
   "source": [
    "for col in subdiv.columns:\n",
    "    if len(subdiv[col].unique()) == 1:\n",
    "        subdiv.drop(col,inplace=True,axis=1)"
   ]
  },
  {
   "cell_type": "code",
   "execution_count": 31,
   "metadata": {
    "ExecuteTime": {
     "end_time": "2020-11-24T12:47:46.146758Z",
     "start_time": "2020-11-24T12:47:46.114479Z"
    }
   },
   "outputs": [
    {
     "data": {
      "text/plain": [
       "(111, 32)"
      ]
     },
     "execution_count": 31,
     "metadata": {},
     "output_type": "execute_result"
    }
   ],
   "source": [
    "subdiv.shape"
   ]
  },
  {
   "cell_type": "markdown",
   "metadata": {},
   "source": [
    "## Drop target house from subdivision houses\n",
    "The property of interest is included in the distribution of subdivision houses with the appraised value assigned by HCAD after I protested it. I think that including this sample in the training part of the model could give an unfair advantage and result in optimistic test errors. For this reason, I'll drop it here."
   ]
  },
  {
   "cell_type": "code",
   "execution_count": 32,
   "metadata": {
    "ExecuteTime": {
     "end_time": "2020-11-24T12:47:46.179253Z",
     "start_time": "2020-11-24T12:47:46.149140Z"
    }
   },
   "outputs": [],
   "source": [
    "target_house = subdiv.loc[1347180010049, :].copy()"
   ]
  },
  {
   "cell_type": "code",
   "execution_count": 33,
   "metadata": {
    "ExecuteTime": {
     "end_time": "2020-11-24T12:47:50.674571Z",
     "start_time": "2020-11-24T12:47:50.650771Z"
    }
   },
   "outputs": [
    {
     "data": {
      "text/plain": [
       "date_erected                             2014\n",
       "im_sq_ft                                 2697\n",
       "act_ar                                   3351\n",
       "heat_ar                                  2697\n",
       "gross_ar                                 3351\n",
       "eff_ar                                   2824\n",
       "perimeter                                 430\n",
       "fireplace_metal_prefab                      1\n",
       "fixtures_addl                               2\n",
       "fixtures_total                             15\n",
       "room_bedroom                                4\n",
       "room_full_bath                              3\n",
       "room_half_bath                              1\n",
       "room_rec                                    2\n",
       "room_total                                  9\n",
       "story_height_index                          2\n",
       "bld_ar                                   2697\n",
       "land_ar                                  6350\n",
       "acreage                                0.1458\n",
       "land_val                                36313\n",
       "tot_appr_val                           263704\n",
       "prior_land_val                          36313\n",
       "prior_tot_appr_val                     267810\n",
       "new_own_dt                2014-07-25 00:00:00\n",
       "lgl_1                             LT 49 BLK 1\n",
       "base_area_pri                            1590\n",
       "base_area_upr                            1107\n",
       "mas_brk_garage_pri                        420\n",
       "open_frame_porch_pri                      120\n",
       "open_mas_porch_pri                        114\n",
       "exterior_wall                  Brick / Veneer\n",
       "yy_pct_change                      -0.0153318\n",
       "Name: 1347180010049, dtype: object"
      ]
     },
     "execution_count": 33,
     "metadata": {},
     "output_type": "execute_result"
    }
   ],
   "source": [
    "target_house"
   ]
  },
  {
   "cell_type": "code",
   "execution_count": 34,
   "metadata": {
    "ExecuteTime": {
     "end_time": "2020-11-24T12:47:55.655484Z",
     "start_time": "2020-11-24T12:47:55.627673Z"
    }
   },
   "outputs": [],
   "source": [
    "subdiv.drop(1347180010049, inplace=True)"
   ]
  },
  {
   "cell_type": "markdown",
   "metadata": {},
   "source": [
    "## Plot comparables distribution\n",
    "\n",
    "The target house appraised value plotted here is what I received from HCAD (before protesting)."
   ]
  },
  {
   "cell_type": "code",
   "execution_count": 35,
   "metadata": {
    "ExecuteTime": {
     "end_time": "2020-11-24T12:47:59.238491Z",
     "start_time": "2020-11-24T12:47:59.015673Z"
    }
   },
   "outputs": [
    {
     "data": {
      "image/png": "[encoded data removed]",
      "text/plain": [
       "<Figure size 576x576 with 1 Axes>"
      ]
     },
     "metadata": {
      "needs_background": "light"
     },
     "output_type": "display_data"
    }
   ],
   "source": [
    "_ = plt.figure(figsize=(8,8))\n",
    "_ = (subdiv['tot_appr_val']/1000).hist(bins=7)\n",
    "_ = plt.title('Houses in the subdivision: 2016 Total Appraised Value')\n",
    "_ = plt.vlines(292707/1000, 0, 35, color='red', label='Target house')\n",
    "_ = plt.xlabel('tot_appr_val x1000 ($)')\n",
    "_ = plt.ylabel('Count')\n",
    "_ = plt.legend(loc='upper right')"
   ]
  },
  {
   "cell_type": "markdown",
   "metadata": {},
   "source": [
    "## Find subdivision comparables\n",
    "In the last figure, we can see that the target house sits on the high end of the distribution of appraised values for the houses in the subdivision. To make a fair comparison, we should find the properties with similar characteristics to the target property. Let's use an unsupervised learning method to find their grouping."
   ]
  },
  {
   "cell_type": "code",
   "execution_count": 36,
   "metadata": {
    "ExecuteTime": {
     "end_time": "2020-11-24T12:48:00.491431Z",
     "start_time": "2020-11-24T12:48:00.035012Z"
    }
   },
   "outputs": [],
   "source": [
    "from sklearn.cluster import KMeans"
   ]
  },
  {
   "cell_type": "code",
   "execution_count": 37,
   "metadata": {
    "ExecuteTime": {
     "end_time": "2020-11-24T12:48:00.524677Z",
     "start_time": "2020-11-24T12:48:00.493418Z"
    }
   },
   "outputs": [
    {
     "name": "stdout",
     "output_type": "stream",
     "text": [
      "<class 'pandas.core.frame.DataFrame'>\n",
      "UInt64Index: 110 entries, 1347180010011 to 1347180030030\n",
      "Data columns (total 32 columns):\n",
      " #   Column                  Non-Null Count  Dtype         \n",
      "---  ------                  --------------  -----         \n",
      " 0   date_erected            110 non-null    uint16        \n",
      " 1   im_sq_ft                110 non-null    float64       \n",
      " 2   act_ar                  110 non-null    uint16        \n",
      " 3   heat_ar                 110 non-null    float64       \n",
      " 4   gross_ar                110 non-null    uint16        \n",
      " 5   eff_ar                  110 non-null    float64       \n",
      " 6   perimeter               110 non-null    float64       \n",
      " 7   fireplace_metal_prefab  110 non-null    float32       \n",
      " 8   fixtures_addl           110 non-null    float32       \n",
      " 9   fixtures_total          110 non-null    float32       \n",
      " 10  room_bedroom            110 non-null    float32       \n",
      " 11  room_full_bath          110 non-null    float32       \n",
      " 12  room_half_bath          110 non-null    float32       \n",
      " 13  room_rec                110 non-null    float32       \n",
      " 14  room_total              110 non-null    float32       \n",
      " 15  story_height_index      110 non-null    float32       \n",
      " 16  bld_ar                  110 non-null    float64       \n",
      " 17  land_ar                 110 non-null    float64       \n",
      " 18  acreage                 110 non-null    float64       \n",
      " 19  land_val                110 non-null    float64       \n",
      " 20  tot_appr_val            110 non-null    float64       \n",
      " 21  prior_land_val          110 non-null    float64       \n",
      " 22  prior_tot_appr_val      110 non-null    float64       \n",
      " 23  new_own_dt              110 non-null    datetime64[ns]\n",
      " 24  lgl_1                   110 non-null    object        \n",
      " 25  base_area_pri           110 non-null    float64       \n",
      " 26  base_area_upr           110 non-null    float64       \n",
      " 27  mas_brk_garage_pri      110 non-null    float64       \n",
      " 28  open_frame_porch_pri    110 non-null    float64       \n",
      " 29  open_mas_porch_pri      110 non-null    float64       \n",
      " 30  exterior_wall           110 non-null    category      \n",
      " 31  yy_pct_change           110 non-null    float64       \n",
      "dtypes: category(1), datetime64[ns](1), float32(9), float64(17), object(1), uint16(3)\n",
      "memory usage: 22.2+ KB\n"
     ]
    }
   ],
   "source": [
    "subdiv.info()"
   ]
  },
  {
   "cell_type": "markdown",
   "metadata": {},
   "source": [
    "For K-Means to work in theory we should remove the non-numerical features. In addition, I'll remove the features that represent monetary value ($) in such way to build the grouping based only on the physical characteristics (areas, number of rooms, baths, half-baths...) of the properties. "
   ]
  },
  {
   "cell_type": "code",
   "execution_count": 38,
   "metadata": {
    "ExecuteTime": {
     "end_time": "2020-11-24T12:48:01.345541Z",
     "start_time": "2020-11-24T12:48:01.323676Z"
    }
   },
   "outputs": [],
   "source": [
    "drop = [\n",
    "    'yy_pct_change',\n",
    "    'land_val',\n",
    "    'tot_appr_val',\n",
    "    'prior_land_val',\n",
    "    'prior_tot_appr_val',\n",
    "    'new_own_dt', # Latest purchase date\n",
    "    'lgl_1', # House lot\n",
    "    'exterior_wall'\n",
    "]"
   ]
  },
  {
   "cell_type": "code",
   "execution_count": 39,
   "metadata": {
    "ExecuteTime": {
     "end_time": "2020-11-24T12:48:01.862198Z",
     "start_time": "2020-11-24T12:48:01.810789Z"
    }
   },
   "outputs": [],
   "source": [
    "subdiv_numeric = subdiv.drop(drop, axis=1)"
   ]
  },
  {
   "cell_type": "code",
   "execution_count": 40,
   "metadata": {
    "ExecuteTime": {
     "end_time": "2020-11-24T12:48:03.408141Z",
     "start_time": "2020-11-24T12:48:02.194694Z"
    }
   },
   "outputs": [],
   "source": [
    "ks = range(1, 21)\n",
    "inertias = []\n",
    "\n",
    "for k in ks:\n",
    "    # Create a KMeans instance with k clusters: model\n",
    "    model = KMeans(n_clusters=k)\n",
    "    \n",
    "    # Fit model to samples\n",
    "    model.fit(subdiv_numeric)\n",
    "    \n",
    "    # Append the inertia to the list of inertias\n",
    "    inertias.append(model.inertia_)"
   ]
  },
  {
   "cell_type": "code",
   "execution_count": 41,
   "metadata": {
    "ExecuteTime": {
     "end_time": "2020-11-24T12:48:03.735004Z",
     "start_time": "2020-11-24T12:48:03.410324Z"
    }
   },
   "outputs": [
    {
     "data": {
      "image/png": "[encoded data removed]",
      "text/plain": [
       "<Figure size 576x576 with 1 Axes>"
      ]
     },
     "metadata": {
      "needs_background": "light"
     },
     "output_type": "display_data"
    }
   ],
   "source": [
    "# Plot ks vs inertias\n",
    "plt.figure(figsize=(8, 8))\n",
    "plt.plot(ks, inertias, '-o')\n",
    "plt.xlabel('number of clusters, k')\n",
    "plt.ylabel('inertia')\n",
    "plt.xticks(ks)\n",
    "plt.show()"
   ]
  },
  {
   "cell_type": "markdown",
   "metadata": {},
   "source": [
    "It seems like 8 clusters is a good choice. However, after some trial and error I found that k > 3 makes for one cluster with almost all the samples, and a lot of clusters with very few (~3) samples. For this reason I chose k=3."
   ]
  },
  {
   "cell_type": "code",
   "execution_count": 42,
   "metadata": {
    "ExecuteTime": {
     "end_time": "2020-11-24T12:48:04.555507Z",
     "start_time": "2020-11-24T12:48:04.518292Z"
    }
   },
   "outputs": [],
   "source": [
    "kmeans = KMeans(n_clusters=3, random_state=0)"
   ]
  },
  {
   "cell_type": "code",
   "execution_count": 43,
   "metadata": {
    "ExecuteTime": {
     "end_time": "2020-11-24T12:48:05.139858Z",
     "start_time": "2020-11-24T12:48:05.046083Z"
    }
   },
   "outputs": [],
   "source": [
    "kmeans.fit(subdiv_numeric)\n",
    "labels = kmeans.predict(subdiv_numeric)"
   ]
  },
  {
   "cell_type": "code",
   "execution_count": 44,
   "metadata": {
    "ExecuteTime": {
     "end_time": "2020-11-24T12:48:05.611295Z",
     "start_time": "2020-11-24T12:48:05.570882Z"
    }
   },
   "outputs": [
    {
     "data": {
      "text/plain": [
       "labels\n",
       "0         54\n",
       "2         39\n",
       "1         17\n",
       "dtype: int64"
      ]
     },
     "execution_count": 44,
     "metadata": {},
     "output_type": "execute_result"
    }
   ],
   "source": [
    "pd.DataFrame({'labels': labels}).value_counts()"
   ]
  },
  {
   "cell_type": "markdown",
   "metadata": {},
   "source": [
    "## TSNE\n",
    "Now let's plot the selected labels using TSNE to find if these groups overlap or are separated."
   ]
  },
  {
   "cell_type": "code",
   "execution_count": 45,
   "metadata": {
    "ExecuteTime": {
     "end_time": "2020-11-24T12:48:08.555651Z",
     "start_time": "2020-11-24T12:48:08.521933Z"
    }
   },
   "outputs": [],
   "source": [
    "from sklearn.manifold import TSNE"
   ]
  },
  {
   "cell_type": "code",
   "execution_count": 46,
   "metadata": {
    "ExecuteTime": {
     "end_time": "2020-11-24T12:48:09.043876Z",
     "start_time": "2020-11-24T12:48:09.007433Z"
    }
   },
   "outputs": [],
   "source": [
    "model = TSNE(learning_rate=100)"
   ]
  },
  {
   "cell_type": "code",
   "execution_count": 47,
   "metadata": {
    "ExecuteTime": {
     "end_time": "2020-11-24T12:48:10.177343Z",
     "start_time": "2020-11-24T12:48:09.564217Z"
    }
   },
   "outputs": [],
   "source": [
    "transformed = model.fit_transform(subdiv_numeric)"
   ]
  },
  {
   "cell_type": "code",
   "execution_count": 48,
   "metadata": {
    "ExecuteTime": {
     "end_time": "2020-11-24T12:48:10.523261Z",
     "start_time": "2020-11-24T12:48:10.204804Z"
    }
   },
   "outputs": [
    {
     "data": {
      "image/png": "[encoded data removed]",
      "text/plain": [
       "<Figure size 576x576 with 1 Axes>"
      ]
     },
     "metadata": {
      "needs_background": "light"
     },
     "output_type": "display_data"
    }
   ],
   "source": [
    "plt.figure(figsize=(8, 8))\n",
    "sns.scatterplot(x=transformed[:, 0], y=transformed[:, 1], hue=labels, style=labels, alpha=0.7)\n",
    "plt.show()"
   ]
  },
  {
   "cell_type": "markdown",
   "metadata": {},
   "source": [
    "Excellent! They are well separated indicating that these groups are meaningful.\n",
    "\n",
    "Now let's add the labels found with K-meands back to the features dataframe."
   ]
  },
  {
   "cell_type": "code",
   "execution_count": 49,
   "metadata": {
    "ExecuteTime": {
     "end_time": "2020-11-24T12:48:15.565035Z",
     "start_time": "2020-11-24T12:48:15.532073Z"
    }
   },
   "outputs": [],
   "source": [
    "subdiv['kmeans_label'] = labels"
   ]
  },
  {
   "cell_type": "code",
   "execution_count": 50,
   "metadata": {
    "ExecuteTime": {
     "end_time": "2020-11-24T12:48:18.168358Z",
     "start_time": "2020-11-24T12:48:17.940067Z"
    }
   },
   "outputs": [
    {
     "data": {
      "text/plain": [
       "<matplotlib.legend.Legend at 0x7fdd48902d90>"
      ]
     },
     "execution_count": 50,
     "metadata": {},
     "output_type": "execute_result"
    },
    {
     "data": {
      "image/png": "[encoded data removed]",
      "text/plain": [
       "<Figure size 921.6x633.6 with 1 Axes>"
      ]
     },
     "metadata": {
      "needs_background": "light"
     },
     "output_type": "display_data"
    }
   ],
   "source": [
    "sns.stripplot(x='kmeans_label', y='tot_appr_val', data=subdiv)\n",
    "plt.hlines(292707, 0, 3, colors='red', label='Target House')\n",
    "plt.legend(loc='upper right')"
   ]
  },
  {
   "cell_type": "markdown",
   "metadata": {},
   "source": [
    "If we plot the improvement area (`im_sq_ft`) vs. the total appraised value we can see that the k-means groups 0 and 2 represent houses with large area and value, and houses with low area and value, respectively."
   ]
  },
  {
   "cell_type": "code",
   "execution_count": 51,
   "metadata": {
    "ExecuteTime": {
     "end_time": "2020-11-24T12:48:20.162419Z",
     "start_time": "2020-11-24T12:48:19.799090Z"
    }
   },
   "outputs": [
    {
     "data": {
      "text/plain": [
       "<AxesSubplot:xlabel='im_sq_ft', ylabel='tot_appr_val'>"
      ]
     },
     "execution_count": 51,
     "metadata": {},
     "output_type": "execute_result"
    },
    {
     "data": {
      "image/png": "[encoded data removed]",
      "text/plain": [
       "<Figure size 921.6x633.6 with 1 Axes>"
      ]
     },
     "metadata": {
      "needs_background": "light"
     },
     "output_type": "display_data"
    }
   ],
   "source": [
    "sns.scatterplot(x='im_sq_ft', y='tot_appr_val', data=subdiv, hue='kmeans_label')"
   ]
  },
  {
   "cell_type": "markdown",
   "metadata": {},
   "source": [
    "## Subdivision comparables\n",
    "Let's predict the target house kmeans cluster, so we can select the appropriate comparables."
   ]
  },
  {
   "cell_type": "code",
   "execution_count": 52,
   "metadata": {
    "ExecuteTime": {
     "end_time": "2020-11-24T12:48:21.979213Z",
     "start_time": "2020-11-24T12:48:21.952590Z"
    }
   },
   "outputs": [],
   "source": [
    "target_house_numeric = target_house.drop(drop)"
   ]
  },
  {
   "cell_type": "code",
   "execution_count": 53,
   "metadata": {
    "ExecuteTime": {
     "end_time": "2020-11-24T12:48:22.966042Z",
     "start_time": "2020-11-24T12:48:22.882058Z"
    }
   },
   "outputs": [
    {
     "name": "stdout",
     "output_type": "stream",
     "text": [
      "The target house label is: 2\n"
     ]
    }
   ],
   "source": [
    "target_house_label = kmeans.predict(target_house_numeric.to_numpy().reshape(1, -1))[0]\n",
    "print(f\"The target house label is: {target_house_label}\")"
   ]
  },
  {
   "cell_type": "code",
   "execution_count": 54,
   "metadata": {
    "ExecuteTime": {
     "end_time": "2020-11-24T12:48:23.674788Z",
     "start_time": "2020-11-24T12:48:23.593686Z"
    }
   },
   "outputs": [],
   "source": [
    "# Assign label back to target house series\n",
    "target_house['kmeans_label'] = target_house_label"
   ]
  },
  {
   "cell_type": "code",
   "execution_count": 56,
   "metadata": {
    "ExecuteTime": {
     "end_time": "2020-11-24T12:48:50.414242Z",
     "start_time": "2020-11-24T12:48:50.374328Z"
    }
   },
   "outputs": [],
   "source": [
    "subdiv_comps = subdiv.loc[subdiv['kmeans_label'] == target_house_label, :]"
   ]
  },
  {
   "cell_type": "code",
   "execution_count": 57,
   "metadata": {
    "ExecuteTime": {
     "end_time": "2020-11-24T12:48:51.484000Z",
     "start_time": "2020-11-24T12:48:51.453389Z"
    }
   },
   "outputs": [
    {
     "data": {
      "text/plain": [
       "(39, 33)"
      ]
     },
     "execution_count": 57,
     "metadata": {},
     "output_type": "execute_result"
    }
   ],
   "source": [
    "subdiv_comps.shape"
   ]
  },
  {
   "cell_type": "markdown",
   "metadata": {},
   "source": [
    "So there are 39 properties comparable to the house of interest. Let's use these houses to build the distribution of comparables."
   ]
  },
  {
   "cell_type": "markdown",
   "metadata": {},
   "source": [
    "# Null-hypothesis test\n",
    "\n",
    "**Population**: Comparable houses appraised by HCAD in the PARK AT KLEIN SEC 1 subdivision.\n",
    "\n",
    "**Significance level**: 5%\n",
    "\n",
    "$H_0$: The 2016 appraised value for the target house was fair relative to its comparables.\n",
    "\n",
    "$H_a$: The 2016 appraised value was unfair, or it doesn't belong to the comparables distribution."
   ]
  },
  {
   "cell_type": "code",
   "execution_count": 58,
   "metadata": {
    "ExecuteTime": {
     "end_time": "2020-11-24T12:48:53.907498Z",
     "start_time": "2020-11-24T12:48:53.811470Z"
    }
   },
   "outputs": [
    {
     "name": "stdout",
     "output_type": "stream",
     "text": [
      "The population mean is: $258729.44\n",
      "The population standard deviation is: $15373.89\n"
     ]
    }
   ],
   "source": [
    "pop_mean = subdiv_comps['tot_appr_val'].mean()\n",
    "pop_std = subdiv_comps['tot_appr_val'].std(ddof=0)\n",
    "\n",
    "print(f\"The population mean is: ${pop_mean:.2f}\")\n",
    "print(f\"The population standard deviation is: ${pop_std:.2f}\")"
   ]
  },
  {
   "cell_type": "code",
   "execution_count": 59,
   "metadata": {
    "ExecuteTime": {
     "end_time": "2020-11-24T12:48:57.601602Z",
     "start_time": "2020-11-24T12:48:57.575760Z"
    }
   },
   "outputs": [],
   "source": [
    "from scipy.stats import norm"
   ]
  },
  {
   "cell_type": "code",
   "execution_count": 60,
   "metadata": {
    "ExecuteTime": {
     "end_time": "2020-11-24T12:48:58.099825Z",
     "start_time": "2020-11-24T12:48:58.054460Z"
    }
   },
   "outputs": [],
   "source": [
    "zscore = (292707 - pop_mean) / pop_std"
   ]
  },
  {
   "cell_type": "code",
   "execution_count": 61,
   "metadata": {
    "ExecuteTime": {
     "end_time": "2020-11-24T12:48:58.703779Z",
     "start_time": "2020-11-24T12:48:58.651463Z"
    }
   },
   "outputs": [
    {
     "data": {
      "text/plain": [
       "2.210081767245105"
      ]
     },
     "execution_count": 61,
     "metadata": {},
     "output_type": "execute_result"
    }
   ],
   "source": [
    "zscore"
   ]
  },
  {
   "cell_type": "code",
   "execution_count": 62,
   "metadata": {
    "ExecuteTime": {
     "end_time": "2020-11-24T12:48:58.983367Z",
     "start_time": "2020-11-24T12:48:58.957284Z"
    }
   },
   "outputs": [
    {
     "name": "stdout",
     "output_type": "stream",
     "text": [
      "The p-value is: 0.014\n"
     ]
    }
   ],
   "source": [
    "pvalue = 1 - norm.cdf(zscore)\n",
    "print(f\"The p-value is: {pvalue:.3f}\")"
   ]
  },
  {
   "cell_type": "markdown",
   "metadata": {},
   "source": [
    "Since the p-value (0.014) is below the significance level (0.05) we can say there is reasonable statistical evidence to reject the the null hypothesis, and thus we have statistical evidence to say that the property appraisal was unfair relative to its comparables.\n",
    "\n",
    "In other words, if the null hypothesis is true, there is a 1.4% probability of getting an appraised value as extreme as $292707 or lager. Since this 1.4\\% is below the 5\\% significance level (z=1.96), we reject the null hypothesis.  "
   ]
  },
  {
   "cell_type": "code",
   "execution_count": 63,
   "metadata": {
    "ExecuteTime": {
     "end_time": "2020-11-24T12:49:00.485180Z",
     "start_time": "2020-11-24T12:49:00.194986Z"
    }
   },
   "outputs": [
    {
     "data": {
      "image/png": "[encoded data removed]",
      "text/plain": [
       "<Figure size 576x576 with 1 Axes>"
      ]
     },
     "metadata": {
      "needs_background": "light"
     },
     "output_type": "display_data"
    }
   ],
   "source": [
    "_ = plt.figure(figsize=(8,8))\n",
    "_ = ((subdiv_comps['tot_appr_val'] - pop_mean)/pop_std).hist(bins=7)\n",
    "_ = plt.title('Houses in the subdivision: 2016 Standardized Total Appraised Value')\n",
    "_ = plt.vlines(zscore, 0, 16, color='red', label='Target house')\n",
    "_ = plt.vlines(1.96, 0, 16, color='green', label='5% Significance Level')\n",
    "_ = plt.xlabel('Standardized tot_appr_val')\n",
    "_ = plt.ylabel('Count')\n",
    "_ = plt.legend(loc='upper right')"
   ]
  },
  {
   "cell_type": "markdown",
   "metadata": {
    "ExecuteTime": {
     "end_time": "2020-10-29T16:15:59.233083Z",
     "start_time": "2020-10-29T16:15:58.742309Z"
    }
   },
   "source": [
    "Now that we have found that there is something wrong with the appraisal value of the target property, let's turn our attention to predicting what would have been a better value, based on the subdivision houses subset."
   ]
  },
  {
   "cell_type": "markdown",
   "metadata": {},
   "source": [
    "# Export subdivision data"
   ]
  },
  {
   "cell_type": "code",
   "execution_count": 64,
   "metadata": {
    "ExecuteTime": {
     "end_time": "2020-11-24T12:49:17.938358Z",
     "start_time": "2020-11-24T12:49:17.891556Z"
    }
   },
   "outputs": [],
   "source": [
    "save_fn = ROOT_DIR / 'data/interim/2016/subdiv.pickle'\n",
    "save_pickle(subdiv, save_fn)"
   ]
  },
  {
   "cell_type": "code",
   "execution_count": 65,
   "metadata": {
    "ExecuteTime": {
     "end_time": "2020-11-24T12:50:51.283484Z",
     "start_time": "2020-11-24T12:50:51.240866Z"
    }
   },
   "outputs": [],
   "source": [
    "save_fn = ROOT_DIR / 'models/kmeans.pickle'\n",
    "save_pickle(kmeans, save_fn)"
   ]
  },
  {
   "cell_type": "code",
   "execution_count": 66,
   "metadata": {
    "ExecuteTime": {
     "end_time": "2020-11-24T12:51:27.933534Z",
     "start_time": "2020-11-24T12:51:27.895908Z"
    }
   },
   "outputs": [],
   "source": [
    "save_fn = ROOT_DIR / 'data/processed/target_house.pickle'\n",
    "save_pickle(target_house, save_fn)"
   ]
  }
 ],
 "metadata": {
  "kernelspec": {
   "display_name": "hcad_pred",
   "language": "python",
   "name": "hcad_pred"
  },
  "language_info": {
   "codemirror_mode": {
    "name": "ipython",
    "version": 3
   },
   "file_extension": ".py",
   "mimetype": "text/x-python",
   "name": "python",
   "nbconvert_exporter": "python",
   "pygments_lexer": "ipython3",
   "version": "3.7.8"
  },
  "toc": {
   "base_numbering": 1,
   "nav_menu": {},
   "number_sections": true,
   "sideBar": true,
   "skip_h1_title": false,
   "title_cell": "Table of Contents",
   "title_sidebar": "Contents",
   "toc_cell": false,
   "toc_position": {},
   "toc_section_display": true,
   "toc_window_display": false
  }
 },
 "nbformat": 4,
 "nbformat_minor": 4
}
